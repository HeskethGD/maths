{
 "cells": [
  {
   "cell_type": "markdown",
   "metadata": {},
   "source": [
    "# Zeta and Gamma as a Lagrangian System"
   ]
  },
  {
   "cell_type": "code",
   "execution_count": 1,
   "metadata": {},
   "outputs": [],
   "source": [
    "from sympy import *\n",
    "x, y, n, m, K, k, epsilon, z, s, b, R, N, r, c = symbols('x, y, n, m, K, k, epsilon, z, s, b, R, N, r, c')\n",
    "alpha, delta, t, nu, epsilon, theta = symbols('alpha, delta, t, nu, epsilon, theta')\n",
    "phi = Function('phi')\n",
    "f = Function('f')\n",
    "F = Function('F')\n",
    "g = Function('g')\n",
    "G = Function('G')\n",
    "S = Function('S')\n",
    "Z = Function('Z')\n",
    "p = IndexedBase('p')\n",
    "mu = Function('mu')\n",
    "kappa = IndexedBase('kappa')\n",
    "beta = IndexedBase('beta')\n",
    "a = IndexedBase('a')"
   ]
  },
  {
   "cell_type": "markdown",
   "metadata": {},
   "source": [
    "## Functional Equation of the Riemann Zeta Function"
   ]
  },
  {
   "cell_type": "code",
   "execution_count": 3,
   "metadata": {},
   "outputs": [
    {
     "data": {
      "text/latex": [
       "$\\displaystyle \\pi^{- \\frac{s}{2}} \\Gamma\\left(\\frac{s}{2}\\right) \\zeta\\left(s\\right) = \\pi^{\\frac{s}{2} - \\frac{1}{2}} \\Gamma\\left(\\frac{1}{2} - \\frac{s}{2}\\right) \\zeta\\left(1 - s\\right)$"
      ],
      "text/plain": [
       "Eq(pi**(-s/2)*gamma(s/2)*zeta(s), pi**(s/2 - 1/2)*gamma(1/2 - s/2)*zeta(1 - s))"
      ]
     },
     "execution_count": 3,
     "metadata": {},
     "output_type": "execute_result"
    }
   ],
   "source": [
    "Eq(gamma(s/2)*pi**(-s/2)*zeta(s),gamma((1-s)/2)*pi**(-(1-s)/2)*zeta((1-s)))"
   ]
  },
  {
   "cell_type": "code",
   "execution_count": 24,
   "metadata": {},
   "outputs": [
    {
     "data": {
      "text/latex": [
       "$\\displaystyle \\pi^{- \\frac{s}{4}} \\Gamma\\left(\\frac{s}{4} + \\frac{1}{4}\\right) \\zeta\\left(\\frac{s}{2} + \\frac{1}{2}\\right) = \\pi^{\\frac{s}{4}} \\Gamma\\left(\\frac{1}{4} - \\frac{s}{4}\\right) \\zeta\\left(\\frac{1}{2} - \\frac{s}{2}\\right)$"
      ],
      "text/plain": [
       "Eq(pi**(-s/4)*gamma(s/4 + 1/4)*zeta(s/2 + 1/2), pi**(s/4)*gamma(1/4 - s/4)*zeta(1/2 - s/2))"
      ]
     },
     "execution_count": 24,
     "metadata": {},
     "output_type": "execute_result"
    }
   ],
   "source": [
    "Eq(gamma((s+1)/4)*pi**(-s/4)*zeta((s+1)/2),gamma((-s+1)/4)*pi**(s/4)*zeta((-s+1)/2))"
   ]
  },
  {
   "cell_type": "code",
   "execution_count": 25,
   "metadata": {},
   "outputs": [
    {
     "data": {
      "text/latex": [
       "$\\displaystyle \\frac{\\pi^{- \\frac{s}{4}} \\zeta\\left(\\frac{s}{2} + \\frac{1}{2}\\right)}{\\zeta\\left(\\frac{1}{2} - \\frac{s}{2}\\right)} = \\frac{\\pi^{\\frac{s}{4}} \\Gamma\\left(\\frac{1}{4} - \\frac{s}{4}\\right)}{\\Gamma\\left(\\frac{s}{4} + \\frac{1}{4}\\right)}$"
      ],
      "text/plain": [
       "Eq(pi**(-s/4)*zeta(s/2 + 1/2)/zeta(1/2 - s/2), pi**(s/4)*gamma(1/4 - s/4)/gamma(s/4 + 1/4))"
      ]
     },
     "execution_count": 25,
     "metadata": {},
     "output_type": "execute_result"
    }
   ],
   "source": [
    "Eq(pi**(-s/4)*zeta((s+1)/2)/zeta((-s+1)/2),gamma((-s+1)/4)/gamma((s+1)/4)*pi**(s/4))"
   ]
  },
  {
   "cell_type": "code",
   "execution_count": 197,
   "metadata": {},
   "outputs": [
    {
     "data": {
      "text/latex": [
       "$\\displaystyle \\pi^{- \\frac{s}{2}} \\Gamma\\left(\\frac{s}{2}\\right) \\zeta\\left(s\\right) = \\int\\limits_{0}^{\\infty} x^{\\frac{s}{2} - 1} \\sum_{n=1}^{\\infty} e^{- \\pi n^{2} x}\\, dx$"
      ],
      "text/plain": [
       "Eq(pi**(-s/2)*gamma(s/2)*zeta(s), Integral(x**(s/2 - 1)*Sum(exp(-pi*n**2*x), (n, 1, oo)), (x, 0, oo)))"
      ]
     },
     "execution_count": 197,
     "metadata": {},
     "output_type": "execute_result"
    }
   ],
   "source": [
    "Eq(zeta(s)*gamma(s/2)*pi**(-s/2), Integral(x**(s/2-1)*Sum(exp(-n**2*pi*x),(n,1,oo)),(x,0,oo)))"
   ]
  },
  {
   "cell_type": "code",
   "execution_count": 202,
   "metadata": {},
   "outputs": [
    {
     "data": {
      "text/latex": [
       "$\\displaystyle \\pi^{- \\frac{s}{4}} \\Gamma\\left(\\frac{s}{4} + \\frac{1}{4}\\right) \\zeta\\left(\\frac{s}{2} + \\frac{1}{2}\\right) = \\sqrt[4]{\\pi} \\int\\limits_{0}^{\\infty} x^{\\frac{s}{4} - \\frac{3}{4}} \\sum_{n=1}^{\\infty} e^{- \\pi n^{2} x}\\, dx$"
      ],
      "text/plain": [
       "Eq(pi**(-s/4)*gamma(s/4 + 1/4)*zeta(s/2 + 1/2), pi**(1/4)*Integral(x**(s/4 - 3/4)*Sum(exp(-pi*n**2*x), (n, 1, oo)), (x, 0, oo)))"
      ]
     },
     "execution_count": 202,
     "metadata": {},
     "output_type": "execute_result"
    }
   ],
   "source": [
    "Eq(zeta((s+1)/2)*gamma((s+1)/4)*pi**(-s/4), \n",
    "   pi**Rational(1,4)*Integral(x**((s+1)/4-1)*Sum(exp(-n**2*pi*x),(n,1,oo)),(x,0,oo))\n",
    "  )"
   ]
  },
  {
   "cell_type": "code",
   "execution_count": 205,
   "metadata": {},
   "outputs": [
    {
     "data": {
      "text/latex": [
       "$\\displaystyle \\pi^{- \\frac{i s}{4}} \\Gamma\\left(\\frac{i s}{4} + \\frac{1}{4}\\right) \\zeta\\left(\\frac{i s}{2} + \\frac{1}{2}\\right) = \\sqrt[4]{\\pi} \\int\\limits_{0}^{\\infty} x^{\\frac{i s}{4} - \\frac{3}{4}} \\sum_{n=1}^{\\infty} e^{- \\pi n^{2} x}\\, dx$"
      ],
      "text/plain": [
       "Eq(pi**(-I*s/4)*gamma(I*s/4 + 1/4)*zeta(I*s/2 + 1/2), pi**(1/4)*Integral(x**(I*s/4 - 3/4)*Sum(exp(-pi*n**2*x), (n, 1, oo)), (x, 0, oo)))"
      ]
     },
     "execution_count": 205,
     "metadata": {},
     "output_type": "execute_result"
    }
   ],
   "source": [
    "Eq(zeta((I*s+1)/2)*gamma((I*s+1)/4)*pi**(-I*s/4), \n",
    "   pi**Rational(1,4)*Integral(x**((I*s+1)/4-1)*Sum(exp(-n**2*pi*x),(n,1,oo)),(x,0,oo))\n",
    "  )"
   ]
  },
  {
   "cell_type": "code",
   "execution_count": 209,
   "metadata": {},
   "outputs": [
    {
     "data": {
      "text/latex": [
       "$\\displaystyle \\pi^{- \\frac{i s}{4}} \\Gamma\\left(\\frac{i s}{4} + \\frac{1}{4}\\right) \\zeta\\left(\\frac{i s}{2} + \\frac{1}{2}\\right) = \\sqrt[4]{\\pi} \\int\\limits_{-\\infty}^{\\infty} e^{\\frac{z}{4}} e^{\\frac{i s z}{4}} \\sum_{n=1}^{\\infty} e^{- \\pi n^{2} e^{z}}\\, dz$"
      ],
      "text/plain": [
       "Eq(pi**(-I*s/4)*gamma(I*s/4 + 1/4)*zeta(I*s/2 + 1/2), pi**(1/4)*Integral(exp(z/4)*exp(I*s*z/4)*Sum(exp(-pi*n**2*exp(z)), (n, 1, oo)), (z, -oo, oo)))"
      ]
     },
     "execution_count": 209,
     "metadata": {},
     "output_type": "execute_result"
    }
   ],
   "source": [
    "Eq(zeta((I*s+1)/2)*gamma((I*s+1)/4)*pi**(-I*s/4), \n",
    "   pi**Rational(1,4)*Integral(exp(I*s/4*z)*exp(z/4)*Sum(exp(-n**2*pi*exp(z)),(n,1,oo)),(z,-oo,oo))\n",
    "  )"
   ]
  },
  {
   "cell_type": "markdown",
   "metadata": {},
   "source": [
    "## Functional Equation of the Gamma Function"
   ]
  },
  {
   "cell_type": "code",
   "execution_count": 130,
   "metadata": {},
   "outputs": [
    {
     "data": {
      "text/latex": [
       "$\\displaystyle \\Gamma\\left(s\\right) \\Gamma\\left(1 - s\\right) = \\frac{\\pi}{\\sin{\\left(\\pi s \\right)}}$"
      ],
      "text/plain": [
       "Eq(gamma(s)*gamma(1 - s), pi/sin(pi*s))"
      ]
     },
     "execution_count": 130,
     "metadata": {},
     "output_type": "execute_result"
    }
   ],
   "source": [
    "Eq(gamma(s)*gamma(1-s), pi/sin(pi*s))"
   ]
  },
  {
   "cell_type": "code",
   "execution_count": 134,
   "metadata": {},
   "outputs": [
    {
     "data": {
      "text/latex": [
       "$\\displaystyle \\Gamma\\left(\\frac{1}{2} - s\\right) \\Gamma\\left(s + \\frac{1}{2}\\right) = \\frac{\\pi}{\\cos{\\left(\\pi s \\right)}}$"
      ],
      "text/plain": [
       "Eq(gamma(1/2 - s)*gamma(s + 1/2), pi/cos(pi*s))"
      ]
     },
     "execution_count": 134,
     "metadata": {},
     "output_type": "execute_result"
    }
   ],
   "source": [
    "Eq(gamma(Rational(1,2) - s)*gamma(Rational(1,2) + s), pi/cos(pi*s))"
   ]
  },
  {
   "cell_type": "markdown",
   "metadata": {},
   "source": [
    "## Legendre Duplication Formula for the Gamma Function"
   ]
  },
  {
   "cell_type": "code",
   "execution_count": 127,
   "metadata": {},
   "outputs": [
    {
     "data": {
      "text/latex": [
       "$\\displaystyle \\Gamma\\left(s\\right) \\Gamma\\left(s + \\frac{1}{2}\\right) = 2^{1 - 2 s} \\sqrt{\\pi} \\Gamma\\left(2 s\\right)$"
      ],
      "text/plain": [
       "Eq(gamma(s)*gamma(s + 1/2), 2**(1 - 2*s)*sqrt(pi)*gamma(2*s))"
      ]
     },
     "execution_count": 127,
     "metadata": {},
     "output_type": "execute_result"
    }
   ],
   "source": [
    "Eq(gamma(s)*gamma(s+Rational(1,2)), sqrt(pi)*2**(1-2*s)*gamma(2*s))"
   ]
  },
  {
   "cell_type": "code",
   "execution_count": 136,
   "metadata": {},
   "outputs": [
    {
     "data": {
      "text/latex": [
       "$\\displaystyle \\Gamma\\left(\\frac{s}{4} - \\frac{1}{4}\\right) \\Gamma\\left(\\frac{s}{4} + \\frac{1}{4}\\right) = 2^{\\frac{3}{2} - \\frac{s}{2}} \\sqrt{\\pi} \\Gamma\\left(\\frac{s}{2} - \\frac{1}{2}\\right)$"
      ],
      "text/plain": [
       "Eq(gamma(s/4 - 1/4)*gamma(s/4 + 1/4), 2**(3/2 - s/2)*sqrt(pi)*gamma(s/2 - 1/2))"
      ]
     },
     "execution_count": 136,
     "metadata": {},
     "output_type": "execute_result"
    }
   ],
   "source": [
    "Eq(gamma(s)*gamma(s+Rational(1,2)), sqrt(pi)*2**(1-2*s)*gamma(2*s)).subs(s,s/4-Rational(1,4))"
   ]
  },
  {
   "cell_type": "code",
   "execution_count": 137,
   "metadata": {},
   "outputs": [
    {
     "data": {
      "text/latex": [
       "$\\displaystyle \\Gamma\\left(\\frac{s}{4} - \\frac{1}{4}\\right) \\Gamma\\left(\\frac{s}{4} + \\frac{1}{4}\\right) = 2 \\sqrt{2} \\sqrt{\\pi} \\sqrt{2^{- s}} \\Gamma\\left(\\frac{s}{2} - \\frac{1}{2}\\right)$"
      ],
      "text/plain": [
       "Eq(gamma(s/4 - 1/4)*gamma(s/4 + 1/4), 2*sqrt(2)*sqrt(pi)*sqrt(2**(-s))*gamma(s/2 - 1/2))"
      ]
     },
     "execution_count": 137,
     "metadata": {},
     "output_type": "execute_result"
    }
   ],
   "source": [
    "Eq(gamma((s-1)/4)*gamma((s+1)/4), 2*sqrt(2*pi/2**s)*gamma((s-1)/2))"
   ]
  },
  {
   "cell_type": "markdown",
   "metadata": {},
   "source": [
    "## Using the Riemann Functional Equation in Stokes Vectors"
   ]
  },
  {
   "cell_type": "markdown",
   "metadata": {},
   "source": [
    "The functional equation for the Rieman Zeta function tells us that the following expressions are true:"
   ]
  },
  {
   "cell_type": "code",
   "execution_count": 28,
   "metadata": {},
   "outputs": [
    {
     "data": {
      "text/latex": [
       "$\\displaystyle \\Gamma\\left(\\frac{1}{4} - \\frac{s}{4}\\right) \\Gamma\\left(\\frac{s}{4} + \\frac{1}{4}\\right) \\zeta\\left(\\frac{1}{2} - \\frac{s}{2}\\right) \\zeta\\left(\\frac{s}{2} + \\frac{1}{2}\\right) = \\pi^{\\frac{s}{2}} \\Gamma^{2}\\left(\\frac{1}{4} - \\frac{s}{4}\\right) \\zeta^{2}\\left(\\frac{1}{2} - \\frac{s}{2}\\right)$"
      ],
      "text/plain": [
       "Eq(gamma(1/4 - s/4)*gamma(s/4 + 1/4)*zeta(1/2 - s/2)*zeta(s/2 + 1/2), pi**(s/2)*gamma(1/4 - s/4)**2*zeta(1/2 - s/2)**2)"
      ]
     },
     "execution_count": 28,
     "metadata": {},
     "output_type": "execute_result"
    }
   ],
   "source": [
    "Eq(gamma((s+1)/4)*pi**(-s/4)*zeta((s+1)/2)*gamma((-s+1)/4)*pi**(s/4)*zeta((-s+1)/2),\n",
    "   (gamma((-s+1)/4)*pi**(s/4)*zeta((-s+1)/2))**2\n",
    "  )"
   ]
  },
  {
   "cell_type": "code",
   "execution_count": 31,
   "metadata": {},
   "outputs": [
    {
     "data": {
      "text/latex": [
       "$\\displaystyle 2 \\Gamma\\left(\\frac{1}{4} - \\frac{s}{4}\\right) \\Gamma\\left(\\frac{s}{4} + \\frac{1}{4}\\right) \\zeta\\left(\\frac{1}{2} - \\frac{s}{2}\\right) \\zeta\\left(\\frac{s}{2} + \\frac{1}{2}\\right) = \\pi^{\\frac{s}{2}} \\Gamma^{2}\\left(\\frac{1}{4} - \\frac{s}{4}\\right) \\zeta^{2}\\left(\\frac{1}{2} - \\frac{s}{2}\\right) + \\pi^{- \\frac{s}{2}} \\Gamma^{2}\\left(\\frac{s}{4} + \\frac{1}{4}\\right) \\zeta^{2}\\left(\\frac{s}{2} + \\frac{1}{2}\\right)$"
      ],
      "text/plain": [
       "Eq(2*gamma(1/4 - s/4)*gamma(s/4 + 1/4)*zeta(1/2 - s/2)*zeta(s/2 + 1/2), pi**(s/2)*gamma(1/4 - s/4)**2*zeta(1/2 - s/2)**2 + pi**(-s/2)*gamma(s/4 + 1/4)**2*zeta(s/2 + 1/2)**2)"
      ]
     },
     "execution_count": 31,
     "metadata": {},
     "output_type": "execute_result"
    }
   ],
   "source": [
    "Eq(2*gamma((s+1)/4)*pi**(-s/4)*zeta((s+1)/2)*gamma((-s+1)/4)*pi**(s/4)*zeta((-s+1)/2),\n",
    "   (gamma((-s+1)/4)*pi**(s/4)*zeta((-s+1)/2))**2 + (gamma((s+1)/4)*pi**(-s/4)*zeta((s+1)/2))**2\n",
    "  )"
   ]
  },
  {
   "cell_type": "code",
   "execution_count": 33,
   "metadata": {
    "scrolled": true
   },
   "outputs": [
    {
     "data": {
      "text/latex": [
       "$\\displaystyle 0 = \\pi^{\\frac{s}{2}} \\Gamma^{2}\\left(\\frac{1}{4} - \\frac{s}{4}\\right) \\zeta^{2}\\left(\\frac{1}{2} - \\frac{s}{2}\\right) - \\pi^{- \\frac{s}{2}} \\Gamma^{2}\\left(\\frac{s}{4} + \\frac{1}{4}\\right) \\zeta^{2}\\left(\\frac{s}{2} + \\frac{1}{2}\\right)$"
      ],
      "text/plain": [
       "Eq(0, pi**(s/2)*gamma(1/4 - s/4)**2*zeta(1/2 - s/2)**2 - pi**(-s/2)*gamma(s/4 + 1/4)**2*zeta(s/2 + 1/2)**2)"
      ]
     },
     "execution_count": 33,
     "metadata": {},
     "output_type": "execute_result"
    }
   ],
   "source": [
    "Eq(0,\n",
    "   (gamma((-s+1)/4)*pi**(s/4)*zeta((-s+1)/2))**2 - (gamma((s+1)/4)*pi**(-s/4)*zeta((s+1)/2))**2\n",
    "  )"
   ]
  },
  {
   "cell_type": "markdown",
   "metadata": {},
   "source": [
    "This inspires us to explore vectors that would give similar looking expressions in Stokes vectors in the hope that we may then be able to build a Lagrangian system that would be solved by such vectors."
   ]
  },
  {
   "cell_type": "code",
   "execution_count": 37,
   "metadata": {},
   "outputs": [],
   "source": [
    "s0 = Matrix([[1,0],[0,1]])\n",
    "s1 = Matrix([[0,1],[1,0]])\n",
    "s2 = Matrix([[0,-I],[I,0]])\n",
    "s3 = Matrix([[1,0],[0,-1]])"
   ]
  },
  {
   "cell_type": "code",
   "execution_count": 180,
   "metadata": {},
   "outputs": [],
   "source": [
    "FR = Matrix([[pi**(-I*s/8)*2**Rational(-1,4)*gamma((I*s+1)/4)],[pi**(I*s/8)*2**Rational(-1,4)*zeta((-I*s+1)/2)]])\n",
    "FL = (FR.T).subs(s,-s)"
   ]
  },
  {
   "cell_type": "code",
   "execution_count": 181,
   "metadata": {},
   "outputs": [
    {
     "data": {
      "text/latex": [
       "$\\displaystyle \\left[\\begin{matrix}\\frac{2^{\\frac{3}{4}} \\pi^{- \\frac{i s}{8}} \\Gamma\\left(\\frac{i s}{4} + \\frac{1}{4}\\right)}{2}\\\\\\frac{2^{\\frac{3}{4}} \\pi^{\\frac{i s}{8}} \\zeta\\left(- \\frac{i s}{2} + \\frac{1}{2}\\right)}{2}\\end{matrix}\\right]$"
      ],
      "text/plain": [
       "Matrix([\n",
       "[2**(3/4)*pi**(-I*s/8)*gamma(I*s/4 + 1/4)/2],\n",
       "[ 2**(3/4)*pi**(I*s/8)*zeta(-I*s/2 + 1/2)/2]])"
      ]
     },
     "execution_count": 181,
     "metadata": {},
     "output_type": "execute_result"
    }
   ],
   "source": [
    "FR"
   ]
  },
  {
   "cell_type": "code",
   "execution_count": 182,
   "metadata": {},
   "outputs": [
    {
     "data": {
      "text/latex": [
       "$\\displaystyle \\left[\\begin{matrix}\\frac{2^{\\frac{3}{4}} \\pi^{\\frac{i s}{8}} \\Gamma\\left(- \\frac{i s}{4} + \\frac{1}{4}\\right)}{2} & \\frac{2^{\\frac{3}{4}} \\pi^{- \\frac{i s}{8}} \\zeta\\left(\\frac{i s}{2} + \\frac{1}{2}\\right)}{2}\\end{matrix}\\right]$"
      ],
      "text/plain": [
       "Matrix([[2**(3/4)*pi**(I*s/8)*gamma(-I*s/4 + 1/4)/2, 2**(3/4)*pi**(-I*s/8)*zeta(I*s/2 + 1/2)/2]])"
      ]
     },
     "execution_count": 182,
     "metadata": {},
     "output_type": "execute_result"
    }
   ],
   "source": [
    "FL"
   ]
  },
  {
   "cell_type": "code",
   "execution_count": 183,
   "metadata": {},
   "outputs": [],
   "source": [
    "S0 = FL.dot(s0*FR)\n",
    "S1 = FL.dot(s1*FR)\n",
    "S2 = FL.dot(s2*FR)\n",
    "S3 = FL.dot(s3*FR)"
   ]
  },
  {
   "cell_type": "code",
   "execution_count": 184,
   "metadata": {},
   "outputs": [
    {
     "data": {
      "text/latex": [
       "$\\displaystyle \\text{True}$"
      ],
      "text/plain": [
       "True"
      ]
     },
     "execution_count": 184,
     "metadata": {},
     "output_type": "execute_result"
    }
   ],
   "source": [
    "Eq(S0**2 - S1**2 - S2**2 - S3**2, 0).simplify()"
   ]
  },
  {
   "cell_type": "code",
   "execution_count": 185,
   "metadata": {},
   "outputs": [
    {
     "data": {
      "text/latex": [
       "$\\displaystyle \\pi^{- \\frac{i s}{2}} \\left(\\pi^{\\frac{i s}{2}} \\Gamma\\left(- \\frac{i s}{4} + \\frac{1}{4}\\right) \\Gamma\\left(\\frac{i s}{4} + \\frac{1}{4}\\right) \\zeta\\left(- \\frac{i s}{2} + \\frac{1}{2}\\right) \\zeta\\left(\\frac{i s}{2} + \\frac{1}{2}\\right) - \\frac{\\pi^{i s} \\Gamma^{2}\\left(- \\frac{i s}{4} + \\frac{1}{4}\\right) \\zeta^{2}\\left(- \\frac{i s}{2} + \\frac{1}{2}\\right)}{2} - \\frac{\\Gamma^{2}\\left(\\frac{i s}{4} + \\frac{1}{4}\\right) \\zeta^{2}\\left(\\frac{i s}{2} + \\frac{1}{2}\\right)}{2}\\right) = 0$"
      ],
      "text/plain": [
       "Eq(pi**(-I*s/2)*(pi**(I*s/2)*gamma(-I*s/4 + 1/4)*gamma(I*s/4 + 1/4)*zeta(-I*s/2 + 1/2)*zeta(I*s/2 + 1/2) - pi**(I*s)*gamma(-I*s/4 + 1/4)**2*zeta(-I*s/2 + 1/2)**2/2 - gamma(I*s/4 + 1/4)**2*zeta(I*s/2 + 1/2)**2/2), 0)"
      ]
     },
     "execution_count": 185,
     "metadata": {},
     "output_type": "execute_result"
    }
   ],
   "source": [
    "Eq(S0**2 - S1**2 - S3**2, 0).simplify()"
   ]
  },
  {
   "cell_type": "code",
   "execution_count": 221,
   "metadata": {},
   "outputs": [
    {
     "data": {
      "text/latex": [
       "$\\displaystyle \\frac{\\sqrt{2} \\pi^{\\frac{i s}{4}} \\Gamma\\left(- \\frac{i s}{4} + \\frac{1}{4}\\right) \\zeta\\left(- \\frac{i s}{2} + \\frac{1}{2}\\right)}{2} + \\frac{\\sqrt{2} \\pi^{- \\frac{i s}{4}} \\Gamma\\left(\\frac{i s}{4} + \\frac{1}{4}\\right) \\zeta\\left(\\frac{i s}{2} + \\frac{1}{2}\\right)}{2}$"
      ],
      "text/plain": [
       "sqrt(2)*pi**(I*s/4)*gamma(-I*s/4 + 1/4)*zeta(-I*s/2 + 1/2)/2 + sqrt(2)*pi**(-I*s/4)*gamma(I*s/4 + 1/4)*zeta(I*s/2 + 1/2)/2"
      ]
     },
     "execution_count": 221,
     "metadata": {},
     "output_type": "execute_result"
    }
   ],
   "source": [
    "S1"
   ]
  },
  {
   "cell_type": "code",
   "execution_count": 186,
   "metadata": {},
   "outputs": [
    {
     "data": {
      "text/latex": [
       "$\\displaystyle - \\frac{\\sqrt{2} i \\pi^{\\frac{i s}{4}} \\Gamma\\left(- \\frac{i s}{4} + \\frac{1}{4}\\right) \\zeta\\left(- \\frac{i s}{2} + \\frac{1}{2}\\right)}{2} + \\frac{\\sqrt{2} i \\pi^{- \\frac{i s}{4}} \\Gamma\\left(\\frac{i s}{4} + \\frac{1}{4}\\right) \\zeta\\left(\\frac{i s}{2} + \\frac{1}{2}\\right)}{2} = 0$"
      ],
      "text/plain": [
       "Eq(-sqrt(2)*I*pi**(I*s/4)*gamma(-I*s/4 + 1/4)*zeta(-I*s/2 + 1/2)/2 + sqrt(2)*I*pi**(-I*s/4)*gamma(I*s/4 + 1/4)*zeta(I*s/2 + 1/2)/2, 0)"
      ]
     },
     "execution_count": 186,
     "metadata": {},
     "output_type": "execute_result"
    }
   ],
   "source": [
    "Eq(S2,0)"
   ]
  },
  {
   "cell_type": "code",
   "execution_count": 188,
   "metadata": {},
   "outputs": [
    {
     "data": {
      "image/png": "[encoded data removed]",
      "text/plain": [
       "<Figure size 432x288 with 1 Axes>"
      ]
     },
     "metadata": {
      "needs_background": "light"
     },
     "output_type": "display_data"
    }
   ],
   "source": [
    "plot_range = (s,-50, 50)\n",
    "p0 = plot(S0, plot_range, show=False, line_color='r')\n",
    "p1 = plot(S1, plot_range, show=False, line_color='b')\n",
    "p3 = plot(S3, plot_range, show=False, line_color='g')\n",
    "p0.extend(p1)\n",
    "p0.extend(p3)\n",
    "p0.show()"
   ]
  },
  {
   "cell_type": "code",
   "execution_count": 192,
   "metadata": {
    "scrolled": true
   },
   "outputs": [
    {
     "data": {
      "image/png": "[encoded data removed]",
      "text/plain": [
       "<Figure size 432x288 with 1 Axes>"
      ]
     },
     "metadata": {
      "needs_background": "light"
     },
     "output_type": "display_data"
    }
   ],
   "source": [
    "plot_range = (s,150, 250)\n",
    "p_ = plot(S1, plot_range, show=False, line_color='b')\n",
    "p_.show()"
   ]
  },
  {
   "cell_type": "code",
   "execution_count": 212,
   "metadata": {},
   "outputs": [
    {
     "data": {
      "image/png": "[encoded data removed]",
      "text/plain": [
       "<Figure size 432x288 with 1 Axes>"
      ]
     },
     "metadata": {
      "needs_background": "light"
     },
     "output_type": "display_data"
    }
   ],
   "source": [
    "plot_range = (s,0, 50)\n",
    "p_1 = plot((S0+S3)/2, plot_range, show=False, line_color='r')\n",
    "p_2 = plot((S0-S3)/2, plot_range, show=False, line_color='b')\n",
    "p_1.extend(p_2)\n",
    "p_1.show()"
   ]
  },
  {
   "cell_type": "code",
   "execution_count": 193,
   "metadata": {},
   "outputs": [
    {
     "data": {
      "text/latex": [
       "$\\displaystyle \\frac{\\sqrt{2} \\pi^{\\frac{i s}{4}} \\Gamma\\left(- \\frac{i s}{4} + \\frac{1}{4}\\right) \\zeta\\left(- \\frac{i s}{2} + \\frac{1}{2}\\right)}{2} + \\frac{\\sqrt{2} \\pi^{- \\frac{i s}{4}} \\Gamma\\left(\\frac{i s}{4} + \\frac{1}{4}\\right) \\zeta\\left(\\frac{i s}{2} + \\frac{1}{2}\\right)}{2}$"
      ],
      "text/plain": [
       "sqrt(2)*pi**(I*s/4)*gamma(-I*s/4 + 1/4)*zeta(-I*s/2 + 1/2)/2 + sqrt(2)*pi**(-I*s/4)*gamma(I*s/4 + 1/4)*zeta(I*s/2 + 1/2)/2"
      ]
     },
     "execution_count": 193,
     "metadata": {},
     "output_type": "execute_result"
    }
   ],
   "source": [
    "S1"
   ]
  },
  {
   "cell_type": "code",
   "execution_count": 195,
   "metadata": {},
   "outputs": [
    {
     "data": {
      "text/latex": [
       "$\\displaystyle \\Gamma\\left(\\frac{i s}{4} - \\frac{1}{4}\\right) \\Gamma\\left(\\frac{i s}{4} + \\frac{1}{4}\\right) = 2 \\sqrt{2} \\sqrt{\\pi} \\sqrt{2^{- i s}} \\Gamma\\left(\\frac{i s}{2} - \\frac{1}{2}\\right)$"
      ],
      "text/plain": [
       "Eq(gamma(I*s/4 - 1/4)*gamma(I*s/4 + 1/4), 2*sqrt(2)*sqrt(pi)*sqrt(2**(-I*s))*gamma(I*s/2 - 1/2))"
      ]
     },
     "execution_count": 195,
     "metadata": {},
     "output_type": "execute_result"
    }
   ],
   "source": [
    "Eq(gamma((s-1)/4)*gamma((s+1)/4), 2*sqrt(2*pi/2**s)*gamma((s-1)/2)).subs(s,I*s)"
   ]
  },
  {
   "cell_type": "code",
   "execution_count": 219,
   "metadata": {},
   "outputs": [
    {
     "data": {
      "text/latex": [
       "$\\displaystyle \\frac{\\pi^{\\frac{i s}{4}} \\zeta\\left(- \\frac{i s}{2} + \\frac{1}{2}\\right)}{\\zeta\\left(\\frac{i s}{2} + \\frac{1}{2}\\right)} = \\frac{\\pi^{- \\frac{i s}{4}} \\Gamma\\left(\\frac{i s}{4} + \\frac{1}{4}\\right)}{\\Gamma\\left(- \\frac{i s}{4} + \\frac{1}{4}\\right)}$"
      ],
      "text/plain": [
       "Eq(pi**(I*s/4)*zeta(-I*s/2 + 1/2)/zeta(I*s/2 + 1/2), pi**(-I*s/4)*gamma(I*s/4 + 1/4)/gamma(-I*s/4 + 1/4))"
      ]
     },
     "execution_count": 219,
     "metadata": {},
     "output_type": "execute_result"
    }
   ],
   "source": [
    "Eq(FR[1]/FR[1].subs(s,-s),FR[0]/FR[0].subs(s,-s))"
   ]
  },
  {
   "cell_type": "code",
   "execution_count": 216,
   "metadata": {},
   "outputs": [
    {
     "data": {
      "text/latex": [
       "$\\displaystyle \\frac{\\pi^{\\frac{i s}{4}} \\zeta\\left(- \\frac{i s}{2} + \\frac{1}{2}\\right)}{\\zeta\\left(\\frac{i s}{2} + \\frac{1}{2}\\right)} = \\frac{\\pi^{- \\frac{i s}{4}} \\Gamma\\left(\\frac{i s}{4} + \\frac{1}{4}\\right)}{\\Gamma\\left(- \\frac{i s}{4} + \\frac{1}{4}\\right)}$"
      ],
      "text/plain": [
       "Eq(pi**(I*s/4)*zeta(-I*s/2 + 1/2)/zeta(I*s/2 + 1/2), pi**(-I*s/4)*gamma(I*s/4 + 1/4)/gamma(-I*s/4 + 1/4))"
      ]
     },
     "execution_count": 216,
     "metadata": {},
     "output_type": "execute_result"
    }
   ],
   "source": [
    "Eq(pi**(-s/4)*zeta((s+1)/2)/zeta((-s+1)/2),gamma((-s+1)/4)/gamma((s+1)/4)*pi**(s/4)).subs(s,-s*I)"
   ]
  },
  {
   "cell_type": "markdown",
   "metadata": {},
   "source": [
    "## Quasi Periodicity"
   ]
  },
  {
   "cell_type": "code",
   "execution_count": 2,
   "metadata": {},
   "outputs": [
    {
     "data": {
      "text/latex": [
       "$\\displaystyle \\frac{\\pi^{- \\frac{s}{4}} \\zeta\\left(\\frac{s}{2} + \\frac{1}{2}\\right)}{\\zeta\\left(\\frac{1}{2} - \\frac{s}{2}\\right)} = \\frac{\\pi^{\\frac{s}{4}} \\Gamma\\left(\\frac{1}{4} - \\frac{s}{4}\\right)}{\\Gamma\\left(\\frac{s}{4} + \\frac{1}{4}\\right)}$"
      ],
      "text/plain": [
       "Eq(pi**(-s/4)*zeta(s/2 + 1/2)/zeta(1/2 - s/2), pi**(s/4)*gamma(1/4 - s/4)/gamma(s/4 + 1/4))"
      ]
     },
     "execution_count": 2,
     "metadata": {},
     "output_type": "execute_result"
    }
   ],
   "source": [
    "Eq(pi**(-s/4)*zeta((s+1)/2)/zeta((-s+1)/2),gamma((-s+1)/4)/gamma((s+1)/4)*pi**(s/4))"
   ]
  },
  {
   "cell_type": "code",
   "execution_count": 5,
   "metadata": {},
   "outputs": [
    {
     "data": {
      "text/latex": [
       "$\\displaystyle \\frac{\\pi^{- \\frac{s}{4}} \\zeta\\left(\\frac{s}{2} + \\frac{1}{2}\\right)}{\\zeta\\left(\\frac{1}{2} - \\frac{s}{2}\\right)} = \\frac{\\pi^{\\frac{s}{4}} \\Gamma\\left(\\frac{1}{4} - \\frac{s}{4}\\right)}{\\Gamma\\left(\\frac{s}{4} + \\frac{1}{4}\\right)}$"
      ],
      "text/plain": [
       "Eq(pi**(-s/4)*zeta(s/2 + 1/2)/zeta(1/2 - s/2), pi**(s/4)*gamma(1/4 - s/4)/gamma(s/4 + 1/4))"
      ]
     },
     "execution_count": 5,
     "metadata": {},
     "output_type": "execute_result"
    }
   ],
   "source": [
    "Eq(pi**(-s/4)*zeta((s+1)/2)/zeta((-s+1)/2),gamma((-s+1)/4)/gamma((s+1)/4)*pi**(s/4))"
   ]
  },
  {
   "cell_type": "code",
   "execution_count": 16,
   "metadata": {},
   "outputs": [
    {
     "data": {
      "text/latex": [
       "$\\displaystyle \\frac{\\pi^{- s} \\zeta\\left(2 s + \\frac{1}{2}\\right)}{\\zeta\\left(\\frac{1}{2} - 2 s\\right)} = \\frac{\\pi^{s} \\Gamma\\left(\\frac{1}{4} - s\\right)}{\\Gamma\\left(s + \\frac{1}{4}\\right)}$"
      ],
      "text/plain": [
       "Eq(pi**(-s)*zeta(2*s + 1/2)/zeta(1/2 - 2*s), pi**s*gamma(1/4 - s)/gamma(s + 1/4))"
      ]
     },
     "execution_count": 16,
     "metadata": {},
     "output_type": "execute_result"
    }
   ],
   "source": [
    "Eq(pi**(-s)*zeta(2*s + Rational(1,2))/zeta(-2*s + Rational(1,2)),\n",
    "   pi**(s)*gamma(-s + Rational(1,4))/gamma(s + Rational(1,4)))"
   ]
  },
  {
   "cell_type": "code",
   "execution_count": 19,
   "metadata": {},
   "outputs": [
    {
     "data": {
      "text/latex": [
       "$\\displaystyle f{\\left(s \\right)} = \\frac{\\pi^{- s} \\zeta\\left(2 s + \\frac{1}{2}\\right)}{\\zeta\\left(\\frac{1}{2} - 2 s\\right)}$"
      ],
      "text/plain": [
       "Eq(f(s), pi**(-s)*zeta(2*s + 1/2)/zeta(1/2 - 2*s))"
      ]
     },
     "execution_count": 19,
     "metadata": {},
     "output_type": "execute_result"
    }
   ],
   "source": [
    "Eq(f(s), pi**(-s)*zeta(2*s + Rational(1,2))/zeta(-2*s + Rational(1,2)))"
   ]
  },
  {
   "cell_type": "code",
   "execution_count": 20,
   "metadata": {},
   "outputs": [
    {
     "data": {
      "text/latex": [
       "$\\displaystyle f{\\left(s \\right)} = \\frac{\\pi^{s} \\Gamma\\left(\\frac{1}{4} - s\\right)}{\\Gamma\\left(s + \\frac{1}{4}\\right)}$"
      ],
      "text/plain": [
       "Eq(f(s), pi**s*gamma(1/4 - s)/gamma(s + 1/4))"
      ]
     },
     "execution_count": 20,
     "metadata": {},
     "output_type": "execute_result"
    }
   ],
   "source": [
    "Eq(f(s), pi**(s)*gamma(-s + Rational(1,4))/gamma(s + Rational(1,4)))"
   ]
  },
  {
   "cell_type": "code",
   "execution_count": 11,
   "metadata": {},
   "outputs": [
    {
     "data": {
      "text/latex": [
       "$\\displaystyle \\Gamma\\left(s + 1\\right) = s \\Gamma\\left(s\\right)$"
      ],
      "text/plain": [
       "Eq(gamma(s + 1), s*gamma(s))"
      ]
     },
     "execution_count": 11,
     "metadata": {},
     "output_type": "execute_result"
    }
   ],
   "source": [
    "Eq(gamma(s+1),gamma(s)*s)"
   ]
  },
  {
   "cell_type": "code",
   "execution_count": 18,
   "metadata": {},
   "outputs": [
    {
     "data": {
      "text/latex": [
       "$\\displaystyle \\Gamma\\left(s - 1\\right) = \\frac{\\Gamma\\left(s\\right)}{s - 1}$"
      ],
      "text/plain": [
       "Eq(gamma(s - 1), gamma(s)/(s - 1))"
      ]
     },
     "execution_count": 18,
     "metadata": {},
     "output_type": "execute_result"
    }
   ],
   "source": [
    "Eq(gamma(s-1),gamma(s)/(s-1))"
   ]
  },
  {
   "cell_type": "code",
   "execution_count": 21,
   "metadata": {},
   "outputs": [
    {
     "data": {
      "text/latex": [
       "$\\displaystyle f{\\left(s + 1 \\right)} = \\frac{\\pi^{s + 1} \\Gamma\\left(- s - \\frac{3}{4}\\right)}{\\Gamma\\left(s + \\frac{5}{4}\\right)}$"
      ],
      "text/plain": [
       "Eq(f(s + 1), pi**(s + 1)*gamma(-s - 3/4)/gamma(s + 5/4))"
      ]
     },
     "execution_count": 21,
     "metadata": {},
     "output_type": "execute_result"
    }
   ],
   "source": [
    "Eq(f(s), pi**(s)*gamma(-s + Rational(1,4))/gamma(s + Rational(1,4))).subs(s,s+1)"
   ]
  },
  {
   "cell_type": "code",
   "execution_count": 22,
   "metadata": {},
   "outputs": [
    {
     "data": {
      "text/latex": [
       "$\\displaystyle \\Gamma\\left(- s - \\frac{3}{4}\\right) = \\frac{\\Gamma\\left(\\frac{1}{4} - s\\right)}{- s - \\frac{3}{4}}$"
      ],
      "text/plain": [
       "Eq(gamma(-s - 3/4), gamma(1/4 - s)/(-s - 3/4))"
      ]
     },
     "execution_count": 22,
     "metadata": {},
     "output_type": "execute_result"
    }
   ],
   "source": [
    "Eq(gamma(s-1),gamma(s)/(s-1)).subs(s,-s + Rational(1,4))"
   ]
  },
  {
   "cell_type": "code",
   "execution_count": 23,
   "metadata": {},
   "outputs": [
    {
     "data": {
      "text/latex": [
       "$\\displaystyle \\Gamma\\left(s + \\frac{5}{4}\\right) = \\left(s + \\frac{1}{4}\\right) \\Gamma\\left(s + \\frac{1}{4}\\right)$"
      ],
      "text/plain": [
       "Eq(gamma(s + 5/4), (s + 1/4)*gamma(s + 1/4))"
      ]
     },
     "execution_count": 23,
     "metadata": {},
     "output_type": "execute_result"
    }
   ],
   "source": [
    "Eq(gamma(s+1),gamma(s)*s).subs(s,s + Rational(1,4))"
   ]
  },
  {
   "cell_type": "code",
   "execution_count": 24,
   "metadata": {},
   "outputs": [
    {
     "data": {
      "text/latex": [
       "$\\displaystyle f{\\left(s + 1 \\right)} = \\frac{\\pi^{s + 1} \\Gamma\\left(- s - \\frac{3}{4}\\right)}{\\Gamma\\left(s + \\frac{5}{4}\\right)}$"
      ],
      "text/plain": [
       "Eq(f(s + 1), pi**(s + 1)*gamma(-s - 3/4)/gamma(s + 5/4))"
      ]
     },
     "execution_count": 24,
     "metadata": {},
     "output_type": "execute_result"
    }
   ],
   "source": [
    "Eq(f(s), pi**(s)*gamma(-s + Rational(1,4))/gamma(s + Rational(1,4))).subs(s,s+1)"
   ]
  },
  {
   "cell_type": "code",
   "execution_count": 25,
   "metadata": {},
   "outputs": [
    {
     "data": {
      "text/latex": [
       "$\\displaystyle f{\\left(s + 1 \\right)} = \\frac{\\pi^{s + 1} \\Gamma\\left(\\frac{1}{4} - s\\right)}{\\left(- s - \\frac{3}{4}\\right) \\left(s + \\frac{1}{4}\\right) \\Gamma\\left(s + \\frac{1}{4}\\right)}$"
      ],
      "text/plain": [
       "Eq(f(s + 1), pi**(s + 1)*gamma(1/4 - s)/((-s - 3/4)*(s + 1/4)*gamma(s + 1/4)))"
      ]
     },
     "execution_count": 25,
     "metadata": {},
     "output_type": "execute_result"
    }
   ],
   "source": [
    "Eq(f(s+1), pi**(s+1)*gamma(-s + Rational(1,4))/gamma(s + Rational(1,4))/(-s + Rational(1,4)-1)/(s + Rational(1,4)))"
   ]
  },
  {
   "cell_type": "code",
   "execution_count": 27,
   "metadata": {},
   "outputs": [
    {
     "data": {
      "text/latex": [
       "$\\displaystyle f{\\left(s + 1 \\right)} = - \\frac{\\pi f{\\left(s \\right)}}{\\left(s + \\frac{1}{4}\\right) \\left(s + \\frac{3}{4}\\right)}$"
      ],
      "text/plain": [
       "Eq(f(s + 1), -pi*f(s)/((s + 1/4)*(s + 3/4)))"
      ]
     },
     "execution_count": 27,
     "metadata": {},
     "output_type": "execute_result"
    }
   ],
   "source": [
    "Eq(f(s+1), -pi*f(s)/(s + 1 - Rational(1,4))/(s + Rational(1,4)))"
   ]
  },
  {
   "cell_type": "code",
   "execution_count": 29,
   "metadata": {},
   "outputs": [
    {
     "data": {
      "text/latex": [
       "$\\displaystyle f{\\left(s + 2 \\right)} = \\frac{\\pi^{2} f{\\left(s \\right)}}{\\left(s + \\frac{1}{4}\\right) \\left(s + \\frac{3}{4}\\right) \\left(s + \\frac{5}{4}\\right) \\left(s + \\frac{7}{4}\\right)}$"
      ],
      "text/plain": [
       "Eq(f(s + 2), pi**2*f(s)/((s + 1/4)*(s + 3/4)*(s + 5/4)*(s + 7/4)))"
      ]
     },
     "execution_count": 29,
     "metadata": {},
     "output_type": "execute_result"
    }
   ],
   "source": [
    "Eq(f(s+1), -pi*f(s)/(s + 1 - Rational(1,4))/(s + Rational(1,4))).subs(s,s+1).subs(\n",
    "    f(s+1), -pi*f(s)/(s + 1 - Rational(1,4))/(s + Rational(1,4)))"
   ]
  },
  {
   "cell_type": "code",
   "execution_count": 31,
   "metadata": {},
   "outputs": [
    {
     "data": {
      "text/latex": [
       "$\\displaystyle f{\\left(s + 3 \\right)} = - \\frac{\\pi^{3} f{\\left(s \\right)}}{\\left(s + \\frac{1}{4}\\right) \\left(s + \\frac{3}{4}\\right) \\left(s + \\frac{5}{4}\\right) \\left(s + \\frac{7}{4}\\right) \\left(s + \\frac{9}{4}\\right) \\left(s + \\frac{11}{4}\\right)}$"
      ],
      "text/plain": [
       "Eq(f(s + 3), -pi**3*f(s)/((s + 1/4)*(s + 3/4)*(s + 5/4)*(s + 7/4)*(s + 9/4)*(s + 11/4)))"
      ]
     },
     "execution_count": 31,
     "metadata": {},
     "output_type": "execute_result"
    }
   ],
   "source": [
    "Eq(f(s+1), -pi*f(s)/(s + 1 - Rational(1,4))/(s + Rational(1,4))).subs(s,s+1).subs(\n",
    "    f(s+1), -pi*f(s)/(s + 1 - Rational(1,4))/(s + Rational(1,4))).subs(s,s+1).subs(\n",
    "    f(s+1), -pi*f(s)/(s + 1 - Rational(1,4))/(s + Rational(1,4)))"
   ]
  },
  {
   "cell_type": "code",
   "execution_count": 32,
   "metadata": {},
   "outputs": [
    {
     "data": {
      "text/latex": [
       "$\\displaystyle f{\\left(s + 4 \\right)} = \\frac{\\pi^{4} f{\\left(s \\right)}}{\\left(s + \\frac{1}{4}\\right) \\left(s + \\frac{3}{4}\\right) \\left(s + \\frac{5}{4}\\right) \\left(s + \\frac{7}{4}\\right) \\left(s + \\frac{9}{4}\\right) \\left(s + \\frac{11}{4}\\right) \\left(s + \\frac{13}{4}\\right) \\left(s + \\frac{15}{4}\\right)}$"
      ],
      "text/plain": [
       "Eq(f(s + 4), pi**4*f(s)/((s + 1/4)*(s + 3/4)*(s + 5/4)*(s + 7/4)*(s + 9/4)*(s + 11/4)*(s + 13/4)*(s + 15/4)))"
      ]
     },
     "execution_count": 32,
     "metadata": {},
     "output_type": "execute_result"
    }
   ],
   "source": [
    "Eq(f(s+1), -pi*f(s)/(s + 1 - Rational(1,4))/(s + Rational(1,4))).subs(s,s+1).subs(\n",
    "    f(s+1), -pi*f(s)/(s + 1 - Rational(1,4))/(s + Rational(1,4))).subs(s,s+1).subs(\n",
    "    f(s+1), -pi*f(s)/(s + 1 - Rational(1,4))/(s + Rational(1,4))).subs(s,s+1).subs(\n",
    "    f(s+1), -pi*f(s)/(s + 1 - Rational(1,4))/(s + Rational(1,4)))"
   ]
  },
  {
   "cell_type": "code",
   "execution_count": 33,
   "metadata": {},
   "outputs": [
    {
     "data": {
      "text/latex": [
       "$\\displaystyle f{\\left(n + s \\right)} = \\frac{\\left(-1\\right)^{n} \\pi^{n} f{\\left(s \\right)}}{\\prod_{k=1}^{2 n} \\left(s + \\frac{2 k - 1}{n}\\right)}$"
      ],
      "text/plain": [
       "Eq(f(n + s), (-1)**n*pi**n*f(s)/Product(s + (2*k - 1)/n, (k, 1, 2*n)))"
      ]
     },
     "execution_count": 33,
     "metadata": {},
     "output_type": "execute_result"
    }
   ],
   "source": [
    "Eq(f(s+n),(-1)**n*pi**n*f(s)/Product(s+(2*k-1)/n,(k,1,2*n)))"
   ]
  },
  {
   "cell_type": "code",
   "execution_count": 47,
   "metadata": {},
   "outputs": [
    {
     "data": {
      "text/latex": [
       "$\\displaystyle f{\\left(n + s \\right)} = \\frac{\\left(-1\\right)^{n} \\pi^{n} f{\\left(s \\right)}}{\\prod_{k=1}^{n} \\left(s + \\frac{2 k - 1}{n}\\right) \\left(s + 2 + \\frac{2 k - 1}{n}\\right)}$"
      ],
      "text/plain": [
       "Eq(f(n + s), (-1)**n*pi**n*f(s)/Product((s + (2*k - 1)/n)*(s + 2 + (2*k - 1)/n), (k, 1, n)))"
      ]
     },
     "execution_count": 47,
     "metadata": {},
     "output_type": "execute_result"
    }
   ],
   "source": [
    "Eq(f(s+n),(-1)**n*pi**n*f(s)/Product((s+(2*k-1)/n)*(s+2+(2*k-1)/n),(k,1,n)))"
   ]
  },
  {
   "cell_type": "code",
   "execution_count": 54,
   "metadata": {
    "scrolled": true
   },
   "outputs": [
    {
     "data": {
      "text/latex": [
       "$\\displaystyle f{\\left(n + s \\right)} = \\frac{\\left(-1\\right)^{n} \\pi^{n} f{\\left(s \\right)}}{\\prod_{k=1}^{n} \\left(\\left(s + 1 + \\frac{2 k - 1}{n}\\right)^{2} - 1\\right)}$"
      ],
      "text/plain": [
       "Eq(f(n + s), (-1)**n*pi**n*f(s)/Product((s + 1 + (2*k - 1)/n)**2 - 1, (k, 1, n)))"
      ]
     },
     "execution_count": 54,
     "metadata": {},
     "output_type": "execute_result"
    }
   ],
   "source": [
    "Eq(f(s+n),(-1)**n*pi**n*f(s)/Product(((s+1+(2*k-1)/n)**2-1),(k,1,n)))"
   ]
  },
  {
   "cell_type": "code",
   "execution_count": 67,
   "metadata": {},
   "outputs": [
    {
     "data": {
      "text/latex": [
       "$\\displaystyle f{\\left(s \\right)} = \\frac{\\pi^{- s} \\zeta\\left(2 s + \\frac{1}{2}\\right)}{\\zeta\\left(\\frac{1}{2} - 2 s\\right)}$"
      ],
      "text/plain": [
       "Eq(f(s), pi**(-s)*zeta(2*s + 1/2)/zeta(1/2 - 2*s))"
      ]
     },
     "execution_count": 67,
     "metadata": {},
     "output_type": "execute_result"
    }
   ],
   "source": [
    "Eq(f(s), pi**(-s)*zeta(2*s + Rational(1,2))/zeta(-2*s + Rational(1,2)))"
   ]
  },
  {
   "cell_type": "code",
   "execution_count": 69,
   "metadata": {},
   "outputs": [
    {
     "data": {
      "text/latex": [
       "$\\displaystyle f{\\left(- s \\right)} f{\\left(s \\right)} = 1$"
      ],
      "text/plain": [
       "Eq(f(-s)*f(s), 1)"
      ]
     },
     "execution_count": 69,
     "metadata": {},
     "output_type": "execute_result"
    }
   ],
   "source": [
    "Eq(f(s)*f(-s),1)"
   ]
  },
  {
   "cell_type": "code",
   "execution_count": 96,
   "metadata": {},
   "outputs": [
    {
     "data": {
      "text/latex": [
       "$\\displaystyle f{\\left(s + 5 \\right)} = - \\frac{\\pi^{5} f{\\left(s \\right)}}{\\left(s + \\frac{1}{5}\\right) \\left(s + \\frac{3}{5}\\right) \\left(s + 1\\right) \\left(s + \\frac{7}{5}\\right) \\left(s + \\frac{9}{5}\\right) \\left(s + \\frac{11}{5}\\right) \\left(s + \\frac{13}{5}\\right) \\left(s + 3\\right) \\left(s + \\frac{17}{5}\\right) \\left(s + \\frac{19}{5}\\right)}$"
      ],
      "text/plain": [
       "Eq(f(s + 5), -pi**5*f(s)/((s + 1/5)*(s + 3/5)*(s + 1)*(s + 7/5)*(s + 9/5)*(s + 11/5)*(s + 13/5)*(s + 3)*(s + 17/5)*(s + 19/5)))"
      ]
     },
     "execution_count": 96,
     "metadata": {},
     "output_type": "execute_result"
    }
   ],
   "source": [
    "Eq(f(s+n),(-1)**n*pi**n*f(s)/Product(s+(2*k-1)/n,(k,1,2*n))).subs(n,5).doit()"
   ]
  },
  {
   "cell_type": "code",
   "execution_count": 87,
   "metadata": {},
   "outputs": [
    {
     "data": {
      "text/latex": [
       "$\\displaystyle \\frac{1}{s + \\frac{15}{n}} + \\frac{1}{s + \\frac{13}{n}} + \\frac{1}{s + \\frac{11}{n}} + \\frac{1}{s + \\frac{9}{n}} + \\frac{1}{s + \\frac{7}{n}} + \\frac{1}{s + \\frac{5}{n}} + \\frac{1}{s + \\frac{3}{n}} + \\frac{1}{s + \\frac{1}{n}}$"
      ],
      "text/plain": [
       "1/(s + 15/n) + 1/(s + 13/n) + 1/(s + 11/n) + 1/(s + 9/n) + 1/(s + 7/n) + 1/(s + 5/n) + 1/(s + 3/n) + 1/(s + 1/n)"
      ]
     },
     "execution_count": 87,
     "metadata": {},
     "output_type": "execute_result"
    }
   ],
   "source": [
    "Sum(1/(s+(2*k-1)/n),(k,1,2*4)).doit().simplify()"
   ]
  },
  {
   "cell_type": "code",
   "execution_count": null,
   "metadata": {},
   "outputs": [],
   "source": []
  }
 ],
 "metadata": {
  "kernelspec": {
   "display_name": "Python 3 (ipykernel)",
   "language": "python",
   "name": "python3"
  },
  "language_info": {
   "codemirror_mode": {
    "name": "ipython",
    "version": 3
   },
   "file_extension": ".py",
   "mimetype": "text/x-python",
   "name": "python",
   "nbconvert_exporter": "python",
   "pygments_lexer": "ipython3",
   "version": "3.10.13"
  }
 },
 "nbformat": 4,
 "nbformat_minor": 4
}
