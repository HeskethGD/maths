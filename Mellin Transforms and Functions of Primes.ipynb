{
 "cells": [
  {
   "cell_type": "markdown",
   "metadata": {},
   "source": [
    "# Mellin Transforms and Functions of Primes"
   ]
  },
  {
   "cell_type": "code",
   "execution_count": 1,
   "metadata": {},
   "outputs": [],
   "source": [
    "from sympy import *\n",
    "x, y, n, m, K, k, epsilon, z, s, b, R, N, r, c = symbols('x, y, n, m, K, k, epsilon, z, s, b, R, N, r, c')\n",
    "alpha, delta, t, nu, epsilon, theta = symbols('alpha, delta, t, nu, epsilon, theta')\n",
    "phi = Function('phi')\n",
    "f = Function('f')\n",
    "F = Function('F')\n",
    "g = Function('g')\n",
    "G = Function('G')\n",
    "S = Function('S')\n",
    "p = IndexedBase('p')\n",
    "mu = Function('mu')\n",
    "kappa = IndexedBase('kappa')\n",
    "beta = IndexedBase('beta')\n",
    "a = IndexedBase('a')"
   ]
  },
  {
   "cell_type": "markdown",
   "metadata": {},
   "source": [
    "Let the nth prime be denoted p subscript n. It is known that the reciprocal of the Riemann Zeta function can be written as an [Euler Product](https://en.wikipedia.org/wiki/Euler_product):"
   ]
  },
  {
   "cell_type": "code",
   "execution_count": 2,
   "metadata": {},
   "outputs": [
    {
     "data": {
      "text/latex": [
       "$\\displaystyle \\prod_{n=1}^{\\infty} \\left(1 - {p}_{n}^{- s}\\right) = \\frac{1}{\\zeta\\left(s\\right)}$"
      ],
      "text/plain": [
       "Eq(Product(1 - p[n]**(-s), (n, 1, oo)), 1/zeta(s))"
      ]
     },
     "execution_count": 2,
     "metadata": {},
     "output_type": "execute_result"
    }
   ],
   "source": [
    "Eq(Product(1-p[n]**(-s),(n,1,oo)),1/zeta(s))"
   ]
  },
  {
   "cell_type": "markdown",
   "metadata": {},
   "source": [
    "or in terms of the [Mobius function](https://en.wikipedia.org/wiki/M%C3%B6bius_function):"
   ]
  },
  {
   "cell_type": "code",
   "execution_count": 262,
   "metadata": {},
   "outputs": [
    {
     "data": {
      "text/latex": [
       "$\\displaystyle \\frac{1}{\\zeta\\left(s\\right)} = \\sum_{n=1}^{\\infty} n^{- s} \\mu{\\left(n \\right)}$"
      ],
      "text/plain": [
       "Eq(1/zeta(s), Sum(n**(-s)*mu(n), (n, 1, oo)))"
      ]
     },
     "execution_count": 262,
     "metadata": {},
     "output_type": "execute_result"
    }
   ],
   "source": [
    "Eq(1/zeta(s),Sum(mu(n)/n**s,(n,1,oo)))"
   ]
  },
  {
   "cell_type": "markdown",
   "metadata": {},
   "source": [
    "Consider a [Mellin transform](https://en.wikipedia.org/wiki/Mellin_transform) phi of f defined as:"
   ]
  },
  {
   "cell_type": "code",
   "execution_count": 16,
   "metadata": {},
   "outputs": [
    {
     "data": {
      "text/latex": [
       "$\\displaystyle \\phi{\\left(s \\right)} = \\int\\limits_{0}^{\\infty} x^{s - 1} f{\\left(x \\right)}\\, dx$"
      ],
      "text/plain": [
       "Eq(phi(s), Integral(x**(s - 1)*f(x), (x, 0, oo)))"
      ]
     },
     "execution_count": 16,
     "metadata": {},
     "output_type": "execute_result"
    }
   ],
   "source": [
    "Eq(phi(s),Integral(x**(s-1)*f(x),(x,0,oo)))"
   ]
  },
  {
   "cell_type": "markdown",
   "metadata": {},
   "source": [
    "and [inverse Mellin transform](https://en.wikipedia.org/wiki/Mellin_inversion_theorem) defined as:"
   ]
  },
  {
   "cell_type": "code",
   "execution_count": 48,
   "metadata": {},
   "outputs": [
    {
     "data": {
      "text/latex": [
       "$\\displaystyle 2 i \\pi f{\\left(x \\right)} = \\int\\limits_{c - \\infty i}^{c + \\infty i} x^{- s} \\phi{\\left(s \\right)}\\, ds$"
      ],
      "text/plain": [
       "Eq(2*I*pi*f(x), Integral(x**(-s)*phi(s), (s, c - oo*I, c + oo*I)))"
      ]
     },
     "execution_count": 48,
     "metadata": {},
     "output_type": "execute_result"
    }
   ],
   "source": [
    "Eq(I*2*pi*f(x),Integral(x**(-s)*phi(s),(s,-oo*I+c,oo*I+c)))"
   ]
  },
  {
   "cell_type": "markdown",
   "metadata": {},
   "source": [
    "Consider what happens when we multiply by the following factor and change variables inside the integral:"
   ]
  },
  {
   "cell_type": "code",
   "execution_count": 24,
   "metadata": {},
   "outputs": [
    {
     "data": {
      "text/latex": [
       "$\\displaystyle \\left(1 - r^{- s}\\right) \\phi{\\left(s \\right)} = \\left(1 - r^{- s}\\right) \\int\\limits_{0}^{\\infty} x^{s - 1} f{\\left(x \\right)}\\, dx$"
      ],
      "text/plain": [
       "Eq((1 - r**(-s))*phi(s), (1 - r**(-s))*Integral(x**(s - 1)*f(x), (x, 0, oo)))"
      ]
     },
     "execution_count": 24,
     "metadata": {},
     "output_type": "execute_result"
    }
   ],
   "source": [
    "Eq((1-r**(-s))*phi(s),(1-r**(-s))*Integral(x**(s-1)*f(x),(x,0,oo)))"
   ]
  },
  {
   "cell_type": "code",
   "execution_count": 25,
   "metadata": {},
   "outputs": [
    {
     "data": {
      "text/latex": [
       "$\\displaystyle \\left(1 - r^{- s}\\right) \\phi{\\left(s \\right)} = \\int\\limits_{0}^{\\infty} x^{s - 1} f{\\left(x \\right)}\\, dx - \\int\\limits_{0}^{\\infty} r^{- s} x^{s - 1} f{\\left(x \\right)}\\, dx$"
      ],
      "text/plain": [
       "Eq((1 - r**(-s))*phi(s), Integral(x**(s - 1)*f(x), (x, 0, oo)) - Integral(r**(-s)*x**(s - 1)*f(x), (x, 0, oo)))"
      ]
     },
     "execution_count": 25,
     "metadata": {},
     "output_type": "execute_result"
    }
   ],
   "source": [
    "Eq((1-r**(-s))*phi(s),Integral(x**(s-1)*f(x),(x,0,oo))-Integral(r**(-s)*x**(s-1)*f(x),(x,0,oo)))"
   ]
  },
  {
   "cell_type": "code",
   "execution_count": 26,
   "metadata": {},
   "outputs": [
    {
     "data": {
      "text/latex": [
       "$\\displaystyle \\left(1 - r^{- s}\\right) \\phi{\\left(s \\right)} = \\int\\limits_{0}^{\\infty} x^{s - 1} f{\\left(x \\right)}\\, dx - \\int\\limits_{0}^{\\infty} r r^{- s} r^{s - 1} x^{s - 1} f{\\left(r x \\right)}\\, dx$"
      ],
      "text/plain": [
       "Eq((1 - r**(-s))*phi(s), Integral(x**(s - 1)*f(x), (x, 0, oo)) - Integral(r*r**(-s)*r**(s - 1)*x**(s - 1)*f(r*x), (x, 0, oo)))"
      ]
     },
     "execution_count": 26,
     "metadata": {},
     "output_type": "execute_result"
    }
   ],
   "source": [
    "Eq((1-r**(-s))*phi(s),Integral(x**(s-1)*f(x),(x,0,oo))-Integral(r**(s-1)*r*r**(-s)*x**(s-1)*f(r*x),(x,0,oo)))"
   ]
  },
  {
   "cell_type": "code",
   "execution_count": 27,
   "metadata": {},
   "outputs": [
    {
     "data": {
      "text/latex": [
       "$\\displaystyle \\left(1 - r^{- s}\\right) \\phi{\\left(s \\right)} = \\int\\limits_{0}^{\\infty} x^{s - 1} \\left(f{\\left(x \\right)} - f{\\left(r x \\right)}\\right)\\, dx$"
      ],
      "text/plain": [
       "Eq((1 - r**(-s))*phi(s), Integral(x**(s - 1)*(f(x) - f(r*x)), (x, 0, oo)))"
      ]
     },
     "execution_count": 27,
     "metadata": {},
     "output_type": "execute_result"
    }
   ],
   "source": [
    "Eq((1-r**(-s))*phi(s),Integral(x**(s-1)*(f(x) - f(r*x)),(x,0,oo)))"
   ]
  },
  {
   "cell_type": "markdown",
   "metadata": {},
   "source": [
    "It follows by repeatedly applying the above that:"
   ]
  },
  {
   "cell_type": "code",
   "execution_count": 30,
   "metadata": {},
   "outputs": [
    {
     "data": {
      "text/latex": [
       "$\\displaystyle \\left(1 - {p}_{1}^{- s}\\right) \\phi{\\left(s \\right)} = \\int\\limits_{0}^{\\infty} x^{s - 1} \\left(f{\\left(x \\right)} - f{\\left(x {p}_{1} \\right)}\\right)\\, dx$"
      ],
      "text/plain": [
       "Eq((1 - p[1]**(-s))*phi(s), Integral(x**(s - 1)*(f(x) - f(x*p[1])), (x, 0, oo)))"
      ]
     },
     "execution_count": 30,
     "metadata": {},
     "output_type": "execute_result"
    }
   ],
   "source": [
    "Eq((1-p[1]**(-s))*phi(s),Integral(x**(s-1)*(f(x) - f(p[1]*x)),(x,0,oo)))"
   ]
  },
  {
   "cell_type": "code",
   "execution_count": 34,
   "metadata": {},
   "outputs": [
    {
     "data": {
      "text/latex": [
       "$\\displaystyle \\left(1 - {p}_{1}^{- s}\\right) \\left(1 - {p}_{2}^{- s}\\right) \\phi{\\left(s \\right)} = \\int\\limits_{0}^{\\infty} x^{s - 1} \\left(f{\\left(x \\right)} - f{\\left(x {p}_{1} \\right)} - f{\\left(x {p}_{2} \\right)} + f{\\left(x {p}_{1} {p}_{2} \\right)}\\right)\\, dx$"
      ],
      "text/plain": [
       "Eq((1 - p[1]**(-s))*(1 - p[2]**(-s))*phi(s), Integral(x**(s - 1)*(f(x) - f(x*p[1]) - f(x*p[2]) + f(x*p[1]*p[2])), (x, 0, oo)))"
      ]
     },
     "execution_count": 34,
     "metadata": {},
     "output_type": "execute_result"
    }
   ],
   "source": [
    "Eq((1-p[1]**(-s))*(1-p[2]**(-s))*phi(s),\n",
    "   Integral(x**(s-1)*(f(x) - f(p[1]*x) - f(p[2]*x) + f(p[1]*p[2]*x)),(x,0,oo)))"
   ]
  },
  {
   "cell_type": "code",
   "execution_count": 35,
   "metadata": {},
   "outputs": [
    {
     "data": {
      "text/latex": [
       "$\\displaystyle \\left(1 - {p}_{1}^{- s}\\right) \\left(1 - {p}_{2}^{- s}\\right) \\left(1 - {p}_{3}^{- s}\\right) \\phi{\\left(s \\right)} = \\int\\limits_{0}^{\\infty} x^{s - 1} \\left(f{\\left(x \\right)} - f{\\left(x {p}_{1} \\right)} - f{\\left(x {p}_{2} \\right)} - f{\\left(x {p}_{3} \\right)} + f{\\left(x {p}_{1} {p}_{2} \\right)} + f{\\left(x {p}_{1} {p}_{3} \\right)} + f{\\left(x {p}_{2} {p}_{3} \\right)} - f{\\left(x {p}_{1} {p}_{2} {p}_{3} \\right)}\\right)\\, dx$"
      ],
      "text/plain": [
       "Eq((1 - p[1]**(-s))*(1 - p[2]**(-s))*(1 - p[3]**(-s))*phi(s), Integral(x**(s - 1)*(f(x) - f(x*p[1]) - f(x*p[2]) - f(x*p[3]) + f(x*p[1]*p[2]) + f(x*p[1]*p[3]) + f(x*p[2]*p[3]) - f(x*p[1]*p[2]*p[3])), (x, 0, oo)))"
      ]
     },
     "execution_count": 35,
     "metadata": {},
     "output_type": "execute_result"
    }
   ],
   "source": [
    "Eq((1-p[1]**(-s))*(1-p[2]**(-s))*(1-p[3]**(-s))*phi(s),\n",
    "   Integral(x**(s-1)*(\n",
    "       f(x) - f(p[1]*x) - f(p[2]*x) + f(p[1]*p[2]*x) - (f(p[3]*x) - f(p[1]*p[3]*x) - f(p[2]*p[3]*x) + f(p[1]*p[2]*p[3]*x))\n",
    "   ),(x,0,oo)))"
   ]
  },
  {
   "cell_type": "code",
   "execution_count": 36,
   "metadata": {
    "scrolled": true
   },
   "outputs": [
    {
     "data": {
      "text/latex": [
       "$\\displaystyle \\left(1 - {p}_{1}^{- s}\\right) \\left(1 - {p}_{2}^{- s}\\right) \\left(1 - {p}_{3}^{- s}\\right) \\left(1 - {p}_{4}^{- s}\\right) \\phi{\\left(s \\right)} = \\int\\limits_{0}^{\\infty} x^{s - 1} \\left(f{\\left(x \\right)} - f{\\left(x {p}_{1} \\right)} - f{\\left(x {p}_{2} \\right)} - f{\\left(x {p}_{3} \\right)} - f{\\left(x {p}_{4} \\right)} + f{\\left(x {p}_{1} {p}_{2} \\right)} + f{\\left(x {p}_{1} {p}_{3} \\right)} + f{\\left(x {p}_{1} {p}_{4} \\right)} + f{\\left(x {p}_{2} {p}_{3} \\right)} + f{\\left(x {p}_{2} {p}_{4} \\right)} + f{\\left(x {p}_{3} {p}_{4} \\right)} - f{\\left(x {p}_{1} {p}_{2} {p}_{3} \\right)} - f{\\left(x {p}_{1} {p}_{2} {p}_{4} \\right)} - f{\\left(x {p}_{1} {p}_{3} {p}_{4} \\right)} - f{\\left(x {p}_{2} {p}_{3} {p}_{4} \\right)} + f{\\left(x {p}_{1} {p}_{2} {p}_{3} {p}_{4} \\right)}\\right)\\, dx$"
      ],
      "text/plain": [
       "Eq((1 - p[1]**(-s))*(1 - p[2]**(-s))*(1 - p[3]**(-s))*(1 - p[4]**(-s))*phi(s), Integral(x**(s - 1)*(f(x) - f(x*p[1]) - f(x*p[2]) - f(x*p[3]) - f(x*p[4]) + f(x*p[1]*p[2]) + f(x*p[1]*p[3]) + f(x*p[1]*p[4]) + f(x*p[2]*p[3]) + f(x*p[2]*p[4]) + f(x*p[3]*p[4]) - f(x*p[1]*p[2]*p[3]) - f(x*p[1]*p[2]*p[4]) - f(x*p[1]*p[3]*p[4]) - f(x*p[2]*p[3]*p[4]) + f(x*p[1]*p[2]*p[3]*p[4])), (x, 0, oo)))"
      ]
     },
     "execution_count": 36,
     "metadata": {},
     "output_type": "execute_result"
    }
   ],
   "source": [
    "Eq((1-p[1]**(-s))*(1-p[2]**(-s))*(1-p[3]**(-s))*(1-p[4]**(-s))*phi(s),\n",
    "   Integral(x**(s-1)*(\n",
    "       (f(x) - f(p[1]*x) - f(p[2]*x) + f(p[1]*p[2]*x) - (f(p[3]*x) - f(p[1]*p[3]*x) - f(p[2]*p[3]*x) + f(p[1]*p[2]*p[3]*x)))\n",
    "    - (f(p[4]*x) - f(p[1]*p[4]*x) - f(p[2]*p[4]*x) + f(p[1]*p[2]*p[4]*x) - \n",
    "       (f(p[3]*p[4]*x) - f(p[1]*p[3]*p[4]*x) - f(p[2]*p[3]*p[4]*x) + f(p[1]*p[2]*p[3]*p[4]*x)))\n",
    "   ),(x,0,oo)))"
   ]
  },
  {
   "cell_type": "markdown",
   "metadata": {},
   "source": [
    "Let kappa subscript n,m  represent the mth largest number that can be written as the product of n unique primes. Then:"
   ]
  },
  {
   "cell_type": "code",
   "execution_count": 44,
   "metadata": {},
   "outputs": [
    {
     "data": {
      "text/latex": [
       "$\\displaystyle \\frac{\\phi{\\left(s \\right)}}{\\zeta\\left(s\\right)} = \\int\\limits_{0}^{\\infty} x^{s - 1} \\left(f{\\left(x \\right)} + \\sum_{\\substack{1 \\leq n \\leq \\infty\\\\1 \\leq m \\leq \\infty}} \\left(-1\\right)^{n} f{\\left(x {\\kappa}_{n,m} \\right)}\\right)\\, dx$"
      ],
      "text/plain": [
       "Eq(phi(s)/zeta(s), Integral(x**(s - 1)*(f(x) + Sum((-1)**n*f(x*kappa[n, m]), (n, 1, oo), (m, 1, oo))), (x, 0, oo)))"
      ]
     },
     "execution_count": 44,
     "metadata": {},
     "output_type": "execute_result"
    }
   ],
   "source": [
    "Eq(phi(s)/zeta(s),Integral(x**(s-1)*(f(x)+Sum(Sum((-1)**n*f(kappa[n,m]*x),(n,1,oo)),(m,1,oo))),(x,0,oo)))"
   ]
  },
  {
   "cell_type": "code",
   "execution_count": 52,
   "metadata": {},
   "outputs": [
    {
     "data": {
      "text/latex": [
       "$\\displaystyle f{\\left(x \\right)} + \\sum_{\\substack{1 \\leq n \\leq \\infty\\\\1 \\leq m \\leq \\infty}} \\left(-1\\right)^{n} f{\\left(x {\\kappa}_{n,m} \\right)} = \\int\\limits_{c - \\infty i}^{c + \\infty i} \\left(- \\frac{i x^{- s} \\phi{\\left(s \\right)}}{2 \\pi \\zeta\\left(s\\right)}\\right)\\, ds$"
      ],
      "text/plain": [
       "Eq(f(x) + Sum((-1)**n*f(x*kappa[n, m]), (n, 1, oo), (m, 1, oo)), Integral(-I*x**(-s)*phi(s)/(2*pi*zeta(s)), (s, c - oo*I, c + oo*I)))"
      ]
     },
     "execution_count": 52,
     "metadata": {},
     "output_type": "execute_result"
    }
   ],
   "source": [
    "Eq(f(x)+Sum(Sum((-1)**n*f(kappa[n,m]*x),(n,1,oo)),(m,1,oo)),\n",
    "   Integral(x**(-s)*phi(s)/zeta(s)/(I*2*pi),(s,-oo*I+c,oo*I+c)))"
   ]
  },
  {
   "cell_type": "markdown",
   "metadata": {},
   "source": [
    "## Using the Mobius Function\n",
    "\n",
    "The Mobius function is a nuber theoretic function which for agument n is 1 if n is a square free number that is the product of an even number of primes, -1 if it is a square free number that is the product of an odd number of primes, and zero if contains a square in it's product of primes. The Mobius function is generated by the Dirichlet series for the reciprocal of the Riemann zeta function:"
   ]
  },
  {
   "cell_type": "code",
   "execution_count": 12,
   "metadata": {},
   "outputs": [
    {
     "data": {
      "text/latex": [
       "$\\displaystyle \\mu{\\left(1 \\right)} = 1$"
      ],
      "text/plain": [
       "Eq(mu(1), 1)"
      ]
     },
     "execution_count": 12,
     "metadata": {},
     "output_type": "execute_result"
    }
   ],
   "source": [
    "Eq(mu(1),1)"
   ]
  },
  {
   "cell_type": "code",
   "execution_count": 14,
   "metadata": {},
   "outputs": [
    {
     "data": {
      "text/latex": [
       "$\\displaystyle \\frac{1}{\\zeta\\left(s\\right)} = \\sum_{n=1}^{\\infty} n^{- s} \\mu{\\left(n \\right)}$"
      ],
      "text/plain": [
       "Eq(1/zeta(s), Sum(n**(-s)*mu(n), (n, 1, oo)))"
      ]
     },
     "execution_count": 14,
     "metadata": {},
     "output_type": "execute_result"
    }
   ],
   "source": [
    "Eq(1/zeta(s),Sum(mu(n)/n**s,(n,1,oo)))"
   ]
  },
  {
   "cell_type": "code",
   "execution_count": 15,
   "metadata": {},
   "outputs": [
    {
     "data": {
      "text/latex": [
       "$\\displaystyle \\phi{\\left(s \\right)} = \\int\\limits_{0}^{\\infty} x^{s - 1} f{\\left(x \\right)}\\, dx$"
      ],
      "text/plain": [
       "Eq(phi(s), Integral(x**(s - 1)*f(x), (x, 0, oo)))"
      ]
     },
     "execution_count": 15,
     "metadata": {},
     "output_type": "execute_result"
    }
   ],
   "source": [
    "Eq(phi(s),Integral(x**(s-1)*f(x),(x,0,oo)))"
   ]
  },
  {
   "cell_type": "code",
   "execution_count": 17,
   "metadata": {},
   "outputs": [
    {
     "data": {
      "text/latex": [
       "$\\displaystyle \\frac{\\phi{\\left(s \\right)}}{\\zeta\\left(s\\right)} = \\left(\\int\\limits_{0}^{\\infty} x^{s - 1} f{\\left(x \\right)}\\, dx\\right) \\sum_{n=1}^{\\infty} n^{- s} \\mu{\\left(n \\right)}$"
      ],
      "text/plain": [
       "Eq(phi(s)/zeta(s), Integral(x**(s - 1)*f(x), (x, 0, oo))*Sum(n**(-s)*mu(n), (n, 1, oo)))"
      ]
     },
     "execution_count": 17,
     "metadata": {},
     "output_type": "execute_result"
    }
   ],
   "source": [
    "Eq(phi(s)/zeta(s),Sum(mu(n)/n**s,(n,1,oo))*Integral(x**(s-1)*f(x),(x,0,oo)))"
   ]
  },
  {
   "cell_type": "code",
   "execution_count": 18,
   "metadata": {},
   "outputs": [
    {
     "data": {
      "text/latex": [
       "$\\displaystyle \\frac{\\phi{\\left(s \\right)}}{\\zeta\\left(s\\right)} = \\sum_{n=1}^{\\infty} n^{- s} \\mu{\\left(n \\right)} \\int\\limits_{0}^{\\infty} x^{s - 1} f{\\left(x \\right)}\\, dx$"
      ],
      "text/plain": [
       "Eq(phi(s)/zeta(s), Sum(n**(-s)*mu(n)*Integral(x**(s - 1)*f(x), (x, 0, oo)), (n, 1, oo)))"
      ]
     },
     "execution_count": 18,
     "metadata": {},
     "output_type": "execute_result"
    }
   ],
   "source": [
    "Eq(phi(s)/zeta(s),Sum(mu(n)/n**s*Integral(x**(s-1)*f(x),(x,0,oo)),(n,1,oo)))"
   ]
  },
  {
   "cell_type": "code",
   "execution_count": 19,
   "metadata": {},
   "outputs": [
    {
     "data": {
      "text/latex": [
       "$\\displaystyle \\frac{\\phi{\\left(s \\right)}}{\\zeta\\left(s\\right)} = \\sum_{n=1}^{\\infty} \\mu{\\left(n \\right)} \\int\\limits_{0}^{\\infty} x^{s - 1} f{\\left(n x \\right)}\\, dx$"
      ],
      "text/plain": [
       "Eq(phi(s)/zeta(s), Sum(mu(n)*Integral(x**(s - 1)*f(n*x), (x, 0, oo)), (n, 1, oo)))"
      ]
     },
     "execution_count": 19,
     "metadata": {},
     "output_type": "execute_result"
    }
   ],
   "source": [
    "Eq(phi(s)/zeta(s),Sum(mu(n)*Integral(x**(s-1)*f(n*x),(x,0,oo)),(n,1,oo)))"
   ]
  },
  {
   "cell_type": "code",
   "execution_count": 20,
   "metadata": {},
   "outputs": [
    {
     "data": {
      "text/latex": [
       "$\\displaystyle \\frac{\\phi{\\left(s \\right)}}{\\zeta\\left(s\\right)} = \\int\\limits_{0}^{\\infty} x^{s - 1} \\sum_{n=1}^{\\infty} f{\\left(n x \\right)} \\mu{\\left(n \\right)}\\, dx$"
      ],
      "text/plain": [
       "Eq(phi(s)/zeta(s), Integral(x**(s - 1)*Sum(f(n*x)*mu(n), (n, 1, oo)), (x, 0, oo)))"
      ]
     },
     "execution_count": 20,
     "metadata": {},
     "output_type": "execute_result"
    }
   ],
   "source": [
    "Eq(phi(s)/zeta(s),Integral(x**(s-1)*Sum(mu(n)*f(n*x),(n,1,oo)),(x,0,oo)))"
   ]
  },
  {
   "cell_type": "code",
   "execution_count": 24,
   "metadata": {},
   "outputs": [
    {
     "data": {
      "text/latex": [
       "$\\displaystyle \\int\\limits_{c - \\infty i}^{c + \\infty i} \\frac{x^{- s} \\phi{\\left(s \\right)}}{\\zeta\\left(s\\right)}\\, ds = 2 i \\pi \\sum_{n=1}^{\\infty} f{\\left(n x \\right)} \\mu{\\left(n \\right)}$"
      ],
      "text/plain": [
       "Eq(Integral(x**(-s)*phi(s)/zeta(s), (s, c - oo*I, c + oo*I)), 2*I*pi*Sum(f(n*x)*mu(n), (n, 1, oo)))"
      ]
     },
     "execution_count": 24,
     "metadata": {},
     "output_type": "execute_result"
    }
   ],
   "source": [
    "Eq(Integral(x**(-s)*phi(s)/zeta(s),(s,-oo*I+c,oo*I+c)), 2*I*pi*Sum(mu(n)*f(n*x),(n,1,oo)))"
   ]
  },
  {
   "cell_type": "markdown",
   "metadata": {},
   "source": [
    "## The Mobius Inversion formula for series"
   ]
  },
  {
   "cell_type": "code",
   "execution_count": 14,
   "metadata": {},
   "outputs": [
    {
     "data": {
      "text/latex": [
       "$\\displaystyle g{\\left(x \\right)} = \\sum_{n=1}^{\\infty} f{\\left(n x \\right)} \\mu{\\left(n \\right)}$"
      ],
      "text/plain": [
       "Eq(g(x), Sum(f(n*x)*mu(n), (n, 1, oo)))"
      ]
     },
     "execution_count": 14,
     "metadata": {},
     "output_type": "execute_result"
    }
   ],
   "source": [
    "Eq(g(x), Sum(mu(n)*f(n*x),(n,1,oo)))"
   ]
  },
  {
   "cell_type": "code",
   "execution_count": 15,
   "metadata": {},
   "outputs": [
    {
     "data": {
      "text/latex": [
       "$\\displaystyle \\int\\limits_{c - \\infty i}^{c + \\infty i} \\frac{x^{- s} \\phi{\\left(s \\right)}}{\\zeta\\left(s\\right)}\\, ds = 2 i \\pi g{\\left(x \\right)}$"
      ],
      "text/plain": [
       "Eq(Integral(x**(-s)*phi(s)/zeta(s), (s, c - oo*I, c + oo*I)), 2*I*pi*g(x))"
      ]
     },
     "execution_count": 15,
     "metadata": {},
     "output_type": "execute_result"
    }
   ],
   "source": [
    "Eq(Integral(x**(-s)*phi(s)/zeta(s),(s,-oo*I+c,oo*I+c)),2*I*pi*g(x))"
   ]
  },
  {
   "cell_type": "code",
   "execution_count": 16,
   "metadata": {},
   "outputs": [
    {
     "data": {
      "text/latex": [
       "$\\displaystyle \\sum_{n=1}^{\\infty} \\int\\limits_{c - \\infty i}^{c + \\infty i} \\frac{\\left(n x\\right)^{- s} \\phi{\\left(s \\right)}}{\\zeta\\left(s\\right)}\\, ds = 2 i \\pi \\sum_{n=1}^{\\infty} g{\\left(n x \\right)}$"
      ],
      "text/plain": [
       "Eq(Sum(Integral((n*x)**(-s)*phi(s)/zeta(s), (s, c - oo*I, c + oo*I)), (n, 1, oo)), 2*I*pi*Sum(g(n*x), (n, 1, oo)))"
      ]
     },
     "execution_count": 16,
     "metadata": {},
     "output_type": "execute_result"
    }
   ],
   "source": [
    "Eq(Sum(Integral((x*n)**(-s)*phi(s)/zeta(s),(s,-oo*I+c,oo*I+c)),(n,1,oo)),2*I*pi*Sum(g(n*x),(n,1,oo)))"
   ]
  },
  {
   "cell_type": "code",
   "execution_count": 17,
   "metadata": {},
   "outputs": [
    {
     "data": {
      "text/latex": [
       "$\\displaystyle \\int\\limits_{c - \\infty i}^{c + \\infty i} x^{- s} \\phi{\\left(s \\right)}\\, ds = 2 i \\pi \\sum_{n=1}^{\\infty} g{\\left(n x \\right)}$"
      ],
      "text/plain": [
       "Eq(Integral(x**(-s)*phi(s), (s, c - oo*I, c + oo*I)), 2*I*pi*Sum(g(n*x), (n, 1, oo)))"
      ]
     },
     "execution_count": 17,
     "metadata": {},
     "output_type": "execute_result"
    }
   ],
   "source": [
    "Eq(Integral(x**(-s)*phi(s),(s,-oo*I+c,oo*I+c)),2*I*pi*Sum(g(n*x),(n,1,oo)))"
   ]
  },
  {
   "cell_type": "code",
   "execution_count": 18,
   "metadata": {
    "scrolled": true
   },
   "outputs": [
    {
     "data": {
      "text/latex": [
       "$\\displaystyle \\int\\limits_{c - \\infty i}^{c + \\infty i} x^{- s} \\phi{\\left(s \\right)}\\, ds = 2 i \\pi f{\\left(x \\right)}$"
      ],
      "text/plain": [
       "Eq(Integral(x**(-s)*phi(s), (s, c - oo*I, c + oo*I)), 2*I*pi*f(x))"
      ]
     },
     "execution_count": 18,
     "metadata": {},
     "output_type": "execute_result"
    }
   ],
   "source": [
    "Eq(Integral(x**(-s)*phi(s),(s,-oo*I+c,oo*I+c)),2*I*pi*f(x))"
   ]
  },
  {
   "cell_type": "code",
   "execution_count": 19,
   "metadata": {},
   "outputs": [
    {
     "data": {
      "text/latex": [
       "$\\displaystyle f{\\left(x \\right)} = \\sum_{n=1}^{\\infty} g{\\left(n x \\right)}$"
      ],
      "text/plain": [
       "Eq(f(x), Sum(g(n*x), (n, 1, oo)))"
      ]
     },
     "execution_count": 19,
     "metadata": {},
     "output_type": "execute_result"
    }
   ],
   "source": [
    "Eq(f(x),Sum(g(n*x),(n,1,oo)))"
   ]
  },
  {
   "cell_type": "markdown",
   "metadata": {},
   "source": [
    "## Use case 1: deriving the generating function of the Mobius function"
   ]
  },
  {
   "cell_type": "code",
   "execution_count": 25,
   "metadata": {},
   "outputs": [
    {
     "data": {
      "text/latex": [
       "$\\displaystyle \\frac{\\phi{\\left(s \\right)}}{\\zeta\\left(s\\right)} = \\int\\limits_{0}^{\\infty} x^{s - 1} \\sum_{n=1}^{\\infty} f{\\left(n x \\right)} \\mu{\\left(n \\right)}\\, dx$"
      ],
      "text/plain": [
       "Eq(phi(s)/zeta(s), Integral(x**(s - 1)*Sum(f(n*x)*mu(n), (n, 1, oo)), (x, 0, oo)))"
      ]
     },
     "execution_count": 25,
     "metadata": {},
     "output_type": "execute_result"
    }
   ],
   "source": [
    "Eq(phi(s)/zeta(s),Integral(x**(s-1)*Sum(mu(n)*f(n*x),(n,1,oo)),(x,0,oo)))"
   ]
  },
  {
   "cell_type": "code",
   "execution_count": 27,
   "metadata": {},
   "outputs": [
    {
     "data": {
      "text/latex": [
       "$\\displaystyle \\Gamma\\left(s\\right) \\zeta\\left(s\\right) = \\int\\limits_{0}^{\\infty} \\frac{x^{s - 1}}{e^{x} - 1}\\, dx$"
      ],
      "text/plain": [
       "Eq(gamma(s)*zeta(s), Integral(x**(s - 1)/(exp(x) - 1), (x, 0, oo)))"
      ]
     },
     "execution_count": 27,
     "metadata": {},
     "output_type": "execute_result"
    }
   ],
   "source": [
    "Eq(zeta(s)*gamma(s),Integral(x**(s-1)*1/(exp(x)-1),(x,0,oo)))"
   ]
  },
  {
   "cell_type": "code",
   "execution_count": 28,
   "metadata": {},
   "outputs": [
    {
     "data": {
      "text/latex": [
       "$\\displaystyle f{\\left(x \\right)} = \\frac{1}{e^{x} - 1}$"
      ],
      "text/plain": [
       "Eq(f(x), 1/(exp(x) - 1))"
      ]
     },
     "execution_count": 28,
     "metadata": {},
     "output_type": "execute_result"
    }
   ],
   "source": [
    "Eq(f(x),1/(exp(x)-1))"
   ]
  },
  {
   "cell_type": "code",
   "execution_count": 29,
   "metadata": {},
   "outputs": [
    {
     "data": {
      "text/latex": [
       "$\\displaystyle \\phi{\\left(s \\right)} = \\Gamma\\left(s\\right) \\zeta\\left(s\\right)$"
      ],
      "text/plain": [
       "Eq(phi(s), gamma(s)*zeta(s))"
      ]
     },
     "execution_count": 29,
     "metadata": {},
     "output_type": "execute_result"
    }
   ],
   "source": [
    "Eq(phi(s),zeta(s)*gamma(s))"
   ]
  },
  {
   "cell_type": "code",
   "execution_count": 30,
   "metadata": {},
   "outputs": [
    {
     "data": {
      "text/latex": [
       "$\\displaystyle \\Gamma\\left(s\\right) = \\int\\limits_{0}^{\\infty} x^{s - 1} \\sum_{n=1}^{\\infty} \\frac{\\mu{\\left(n \\right)}}{e^{n x} - 1}\\, dx$"
      ],
      "text/plain": [
       "Eq(gamma(s), Integral(x**(s - 1)*Sum(mu(n)/(exp(n*x) - 1), (n, 1, oo)), (x, 0, oo)))"
      ]
     },
     "execution_count": 30,
     "metadata": {},
     "output_type": "execute_result"
    }
   ],
   "source": [
    "Eq(gamma(s),Integral(x**(s-1)*Sum(mu(n)/(exp(n*x)-1),(n,1,oo)),(x,0,oo)))"
   ]
  },
  {
   "cell_type": "code",
   "execution_count": 31,
   "metadata": {},
   "outputs": [
    {
     "data": {
      "text/latex": [
       "$\\displaystyle \\Gamma\\left(s\\right) = \\int\\limits_{0}^{\\infty} x^{s - 1} e^{- x}\\, dx$"
      ],
      "text/plain": [
       "Eq(gamma(s), Integral(x**(s - 1)*exp(-x), (x, 0, oo)))"
      ]
     },
     "execution_count": 31,
     "metadata": {},
     "output_type": "execute_result"
    }
   ],
   "source": [
    "Eq(gamma(s),Integral(x**(s-1)*exp(-x),(x,0,oo)))"
   ]
  },
  {
   "cell_type": "code",
   "execution_count": 32,
   "metadata": {},
   "outputs": [
    {
     "data": {
      "text/latex": [
       "$\\displaystyle e^{- x} = \\sum_{n=1}^{\\infty} \\frac{\\mu{\\left(n \\right)}}{e^{n x} - 1}$"
      ],
      "text/plain": [
       "Eq(exp(-x), Sum(mu(n)/(exp(n*x) - 1), (n, 1, oo)))"
      ]
     },
     "execution_count": 32,
     "metadata": {},
     "output_type": "execute_result"
    }
   ],
   "source": [
    "Eq(exp(-x),Sum(mu(n)/(exp(n*x)-1),(n,1,oo)))"
   ]
  },
  {
   "cell_type": "code",
   "execution_count": 37,
   "metadata": {},
   "outputs": [
    {
     "data": {
      "text/latex": [
       "$\\displaystyle x = - \\log{\\left(y \\right)}$"
      ],
      "text/plain": [
       "Eq(x, -log(y))"
      ]
     },
     "execution_count": 37,
     "metadata": {},
     "output_type": "execute_result"
    }
   ],
   "source": [
    "Eq(x,-ln(y))"
   ]
  },
  {
   "cell_type": "code",
   "execution_count": 39,
   "metadata": {},
   "outputs": [
    {
     "data": {
      "text/latex": [
       "$\\displaystyle y = \\sum_{n=1}^{\\infty} \\frac{y^{n} \\mu{\\left(n \\right)}}{1 - y^{n}}$"
      ],
      "text/plain": [
       "Eq(y, Sum(y**n*mu(n)/(1 - y**n), (n, 1, oo)))"
      ]
     },
     "execution_count": 39,
     "metadata": {},
     "output_type": "execute_result"
    }
   ],
   "source": [
    "Eq(y,Sum(mu(n)*y**n/(1-y**n),(n,1,oo)))"
   ]
  },
  {
   "cell_type": "markdown",
   "metadata": {},
   "source": [
    "## Use case 2: Divergent series representations of the Divided Bernoulli numbers in terms of the Mobius function"
   ]
  },
  {
   "cell_type": "code",
   "execution_count": 45,
   "metadata": {},
   "outputs": [
    {
     "data": {
      "text/latex": [
       "$\\displaystyle \\frac{t e^{t x}}{e^{t} - 1} = \\sum_{n=0}^{\\infty} \\frac{t^{n} B_{n}\\left(x\\right)}{n!}$"
      ],
      "text/plain": [
       "Eq(t*exp(t*x)/(exp(t) - 1), Sum(t**n*bernoulli(n, x)/factorial(n), (n, 0, oo)))"
      ]
     },
     "execution_count": 45,
     "metadata": {},
     "output_type": "execute_result"
    }
   ],
   "source": [
    "Eq(t*exp(x*t)/(exp(t)-1),Sum(bernoulli(n,x)*t**n/factorial(n),(n,0,oo)))"
   ]
  },
  {
   "cell_type": "code",
   "execution_count": 47,
   "metadata": {},
   "outputs": [
    {
     "data": {
      "text/latex": [
       "$\\displaystyle \\frac{1}{e^{t} - 1} = \\sum_{n=0}^{\\infty} \\frac{t^{n - 1} B_{n}}{n!}$"
      ],
      "text/plain": [
       "Eq(1/(exp(t) - 1), Sum(t**(n - 1)*bernoulli(n)/factorial(n), (n, 0, oo)))"
      ]
     },
     "execution_count": 47,
     "metadata": {},
     "output_type": "execute_result"
    }
   ],
   "source": [
    "Eq(1/(exp(t)-1),Sum(bernoulli(n)*t**(n-1)/factorial(n),(n,0,oo)))"
   ]
  },
  {
   "cell_type": "code",
   "execution_count": 48,
   "metadata": {},
   "outputs": [
    {
     "data": {
      "text/latex": [
       "$\\displaystyle e^{- x} = \\sum_{m=1}^{\\infty} \\frac{\\mu{\\left(m \\right)}}{e^{m x} - 1}$"
      ],
      "text/plain": [
       "Eq(exp(-x), Sum(mu(m)/(exp(m*x) - 1), (m, 1, oo)))"
      ]
     },
     "execution_count": 48,
     "metadata": {},
     "output_type": "execute_result"
    }
   ],
   "source": [
    "Eq(exp(-x),Sum(mu(m)/(exp(m*x)-1),(m,1,oo)))"
   ]
  },
  {
   "cell_type": "code",
   "execution_count": 50,
   "metadata": {},
   "outputs": [
    {
     "data": {
      "text/latex": [
       "$\\displaystyle \\frac{1}{e^{m x} - 1} = \\sum_{n=0}^{\\infty} \\frac{\\left(m x\\right)^{n - 1} B_{n}}{n!}$"
      ],
      "text/plain": [
       "Eq(1/(exp(m*x) - 1), Sum((m*x)**(n - 1)*bernoulli(n)/factorial(n), (n, 0, oo)))"
      ]
     },
     "execution_count": 50,
     "metadata": {},
     "output_type": "execute_result"
    }
   ],
   "source": [
    "Eq(1/(exp(m*x)-1),Sum(bernoulli(n)*(m*x)**(n-1)/factorial(n),(n,0,oo)))"
   ]
  },
  {
   "cell_type": "code",
   "execution_count": 53,
   "metadata": {},
   "outputs": [
    {
     "data": {
      "text/latex": [
       "$\\displaystyle e^{- x} = \\sum_{n=0}^{\\infty} x^{n - 1} \\sum_{m=1}^{\\infty} \\frac{m^{n - 1} \\mu{\\left(m \\right)} B_{n}}{n!}$"
      ],
      "text/plain": [
       "Eq(exp(-x), Sum(x**(n - 1)*Sum(m**(n - 1)*mu(m)*bernoulli(n)/factorial(n), (m, 1, oo)), (n, 0, oo)))"
      ]
     },
     "execution_count": 53,
     "metadata": {},
     "output_type": "execute_result"
    }
   ],
   "source": [
    "Eq(exp(-x),Sum(Sum(mu(m)*bernoulli(n)*m**(n-1)/factorial(n),(m,1,oo))*x**(n-1),(n,0,oo)))"
   ]
  },
  {
   "cell_type": "code",
   "execution_count": 54,
   "metadata": {},
   "outputs": [
    {
     "data": {
      "text/latex": [
       "$\\displaystyle e^{- x} = \\sum_{n=1}^{\\infty} x^{n - 1} \\sum_{m=1}^{\\infty} \\frac{m^{n - 1} \\mu{\\left(m \\right)} B_{n}}{n!} + \\frac{\\sum_{m=1}^{\\infty} \\frac{\\mu{\\left(m \\right)}}{m}}{x}$"
      ],
      "text/plain": [
       "Eq(exp(-x), Sum(x**(n - 1)*Sum(m**(n - 1)*mu(m)*bernoulli(n)/factorial(n), (m, 1, oo)), (n, 1, oo)) + Sum(mu(m)/m, (m, 1, oo))/x)"
      ]
     },
     "execution_count": 54,
     "metadata": {},
     "output_type": "execute_result"
    }
   ],
   "source": [
    "Eq(exp(-x),Sum(mu(m)*bernoulli(0)*m**(-1)/factorial(0),(m,1,oo))*x**(-1) + \n",
    "   Sum(Sum(mu(m)*bernoulli(n)*m**(n-1)/factorial(n),(m,1,oo))*x**(n-1),(n,1,oo)))"
   ]
  },
  {
   "cell_type": "code",
   "execution_count": 57,
   "metadata": {},
   "outputs": [
    {
     "data": {
      "text/latex": [
       "$\\displaystyle \\sum_{m=1}^{\\infty} \\frac{\\mu{\\left(m \\right)}}{m} = 0$"
      ],
      "text/plain": [
       "Eq(Sum(mu(m)/m, (m, 1, oo)), 0)"
      ]
     },
     "execution_count": 57,
     "metadata": {},
     "output_type": "execute_result"
    }
   ],
   "source": [
    "Eq(Sum(mu(m)*m**(-1),(m,1,oo)),0)"
   ]
  },
  {
   "cell_type": "code",
   "execution_count": 59,
   "metadata": {},
   "outputs": [
    {
     "data": {
      "text/latex": [
       "$\\displaystyle e^{- x} = \\sum_{n=0}^{\\infty} x^{n} \\sum_{m=1}^{\\infty} \\frac{m^{n} \\mu{\\left(m \\right)} B_{n + 1}}{\\left(n + 1\\right)!}$"
      ],
      "text/plain": [
       "Eq(exp(-x), Sum(x**n*Sum(m**n*mu(m)*bernoulli(n + 1)/factorial(n + 1), (m, 1, oo)), (n, 0, oo)))"
      ]
     },
     "execution_count": 59,
     "metadata": {},
     "output_type": "execute_result"
    }
   ],
   "source": [
    "Eq(exp(-x), Sum(Sum(mu(m)*bernoulli(n+1)*m**n/factorial(n+1),(m,1,oo))*x**n,(n,0,oo)))"
   ]
  },
  {
   "cell_type": "code",
   "execution_count": 60,
   "metadata": {},
   "outputs": [
    {
     "data": {
      "text/latex": [
       "$\\displaystyle e^{- x} = \\sum_{n=0}^{\\infty} \\frac{x^{n} \\sum_{m=1}^{\\infty} \\frac{m^{n} \\mu{\\left(m \\right)} B_{n + 1}}{n + 1}}{n!}$"
      ],
      "text/plain": [
       "Eq(exp(-x), Sum(x**n*Sum(m**n*mu(m)*bernoulli(n + 1)/(n + 1), (m, 1, oo))/factorial(n), (n, 0, oo)))"
      ]
     },
     "execution_count": 60,
     "metadata": {},
     "output_type": "execute_result"
    }
   ],
   "source": [
    "Eq(exp(-x), Sum(Sum(mu(m)*bernoulli(n+1)*m**n/(n+1),(m,1,oo))*x**n/factorial(n),(n,0,oo)))"
   ]
  },
  {
   "cell_type": "code",
   "execution_count": 63,
   "metadata": {},
   "outputs": [
    {
     "data": {
      "text/latex": [
       "$\\displaystyle e^{- x} = \\sum_{n=1}^{\\infty} \\frac{x^{n}}{n!}$"
      ],
      "text/plain": [
       "Eq(exp(-x), Sum(x**n/factorial(n), (n, 1, oo)))"
      ]
     },
     "execution_count": 63,
     "metadata": {},
     "output_type": "execute_result"
    }
   ],
   "source": [
    "Eq(exp(-x),Sum(x**n/factorial(n),(n,1,oo)))"
   ]
  },
  {
   "cell_type": "code",
   "execution_count": 66,
   "metadata": {},
   "outputs": [
    {
     "data": {
      "text/latex": [
       "$\\displaystyle \\sum_{m=1}^{\\infty} m^{n - 1} \\mu{\\left(m \\right)} = \\frac{n}{B_{n}}$"
      ],
      "text/plain": [
       "Eq(Sum(m**(n - 1)*mu(m), (m, 1, oo)), n/bernoulli(n))"
      ]
     },
     "execution_count": 66,
     "metadata": {},
     "output_type": "execute_result"
    }
   ],
   "source": [
    "Eq(Sum(mu(m)*m**(n-1),(m,1,oo)),n/bernoulli(n))"
   ]
  },
  {
   "cell_type": "code",
   "execution_count": 74,
   "metadata": {},
   "outputs": [
    {
     "data": {
      "text/latex": [
       "$\\displaystyle \\sum_{m=1}^{\\infty} \\frac{\\mu{\\left(m \\right)}}{m} = 0$"
      ],
      "text/plain": [
       "Eq(Sum(mu(m)/m, (m, 1, oo)), 0)"
      ]
     },
     "execution_count": 74,
     "metadata": {},
     "output_type": "execute_result"
    }
   ],
   "source": [
    "Eq(Sum(mu(m)*m**(n-1),(m,1,oo)),n/bernoulli(n)).subs(n,0)"
   ]
  },
  {
   "cell_type": "code",
   "execution_count": 75,
   "metadata": {},
   "outputs": [
    {
     "data": {
      "text/latex": [
       "$\\displaystyle \\sum_{m=1}^{\\infty} \\mu{\\left(m \\right)} = -2$"
      ],
      "text/plain": [
       "Eq(Sum(mu(m), (m, 1, oo)), -2)"
      ]
     },
     "execution_count": 75,
     "metadata": {},
     "output_type": "execute_result"
    }
   ],
   "source": [
    "Eq(Sum(mu(m)*m**(n-1),(m,1,oo)),n/bernoulli(n)).subs(n,1)"
   ]
  },
  {
   "cell_type": "code",
   "execution_count": 77,
   "metadata": {},
   "outputs": [
    {
     "data": {
      "text/latex": [
       "$\\displaystyle \\sum_{m=1}^{\\infty} m \\mu{\\left(m \\right)} = 12$"
      ],
      "text/plain": [
       "Eq(Sum(m*mu(m), (m, 1, oo)), 12)"
      ]
     },
     "execution_count": 77,
     "metadata": {},
     "output_type": "execute_result"
    }
   ],
   "source": [
    "Eq(Sum(mu(m)*m**(n-1),(m,1,oo)),n/bernoulli(n)).subs(n,2)"
   ]
  },
  {
   "cell_type": "code",
   "execution_count": 81,
   "metadata": {},
   "outputs": [
    {
     "data": {
      "text/latex": [
       "$\\displaystyle \\sum_{m=1}^{\\infty} m^{n - 1} \\mu{\\left(m \\right)} = \\frac{n}{B_{n}}$"
      ],
      "text/plain": [
       "Eq(Sum(m**(n - 1)*mu(m), (m, 1, oo)), n/bernoulli(n))"
      ]
     },
     "execution_count": 81,
     "metadata": {},
     "output_type": "execute_result"
    }
   ],
   "source": [
    "Eq(Sum(mu(m)*m**(n-1),(m,1,oo)),n/bernoulli(n))"
   ]
  },
  {
   "cell_type": "code",
   "execution_count": 85,
   "metadata": {},
   "outputs": [
    {
     "data": {
      "text/latex": [
       "$\\displaystyle \\sum_{m=1}^{\\infty} m^{2 n - 1} \\mu{\\left(m \\right)} = \\frac{1}{{\\beta}_{2 n}}$"
      ],
      "text/plain": [
       "Eq(Sum(m**(2*n - 1)*mu(m), (m, 1, oo)), 1/beta[2*n])"
      ]
     },
     "execution_count": 85,
     "metadata": {},
     "output_type": "execute_result"
    }
   ],
   "source": [
    "Eq(Sum(mu(m)*m**(2*n-1),(m,1,oo)),1/beta[2*n])"
   ]
  },
  {
   "cell_type": "code",
   "execution_count": 86,
   "metadata": {},
   "outputs": [
    {
     "data": {
      "text/latex": [
       "$\\displaystyle \\sum_{m=1}^{\\infty} m^{2 n - 1} \\mu{\\left(m \\right)} = - \\frac{1}{\\zeta\\left(1 - 2 n\\right)}$"
      ],
      "text/plain": [
       "Eq(Sum(m**(2*n - 1)*mu(m), (m, 1, oo)), -1/zeta(1 - 2*n))"
      ]
     },
     "execution_count": 86,
     "metadata": {},
     "output_type": "execute_result"
    }
   ],
   "source": [
    "Eq(Sum(mu(m)*m**(2*n-1),(m,1,oo)),-1/(zeta(1-2*n)))"
   ]
  },
  {
   "cell_type": "markdown",
   "metadata": {},
   "source": [
    "## Usecase 3: Taylor series expansions relations"
   ]
  },
  {
   "cell_type": "code",
   "execution_count": 2,
   "metadata": {},
   "outputs": [
    {
     "data": {
      "text/latex": [
       "$\\displaystyle g{\\left(x \\right)} = \\sum_{n=1}^{\\infty} f{\\left(n x \\right)} \\mu{\\left(n \\right)}$"
      ],
      "text/plain": [
       "Eq(g(x), Sum(f(n*x)*mu(n), (n, 1, oo)))"
      ]
     },
     "execution_count": 2,
     "metadata": {},
     "output_type": "execute_result"
    }
   ],
   "source": [
    "Eq(g(x), Sum(mu(n)*f(n*x),(n,1,oo)))"
   ]
  },
  {
   "cell_type": "code",
   "execution_count": 3,
   "metadata": {},
   "outputs": [
    {
     "data": {
      "text/latex": [
       "$\\displaystyle f{\\left(x \\right)} = \\sum_{n=1}^{\\infty} g{\\left(n x \\right)}$"
      ],
      "text/plain": [
       "Eq(f(x), Sum(g(n*x), (n, 1, oo)))"
      ]
     },
     "execution_count": 3,
     "metadata": {},
     "output_type": "execute_result"
    }
   ],
   "source": [
    "Eq(f(x),Sum(g(n*x),(n,1,oo)))"
   ]
  },
  {
   "cell_type": "code",
   "execution_count": 9,
   "metadata": {},
   "outputs": [
    {
     "data": {
      "text/latex": [
       "$\\displaystyle \\sum_{n=1}^{\\infty} n^{m - 1} \\mu{\\left(n \\right)} = \\frac{m}{B_{m}}$"
      ],
      "text/plain": [
       "Eq(Sum(n**(m - 1)*mu(n), (n, 1, oo)), m/bernoulli(m))"
      ]
     },
     "execution_count": 9,
     "metadata": {},
     "output_type": "execute_result"
    }
   ],
   "source": [
    "Eq(Sum(mu(n)*n**(m-1),(n,1,oo)),m/bernoulli(m))"
   ]
  },
  {
   "cell_type": "code",
   "execution_count": 20,
   "metadata": {},
   "outputs": [
    {
     "data": {
      "text/latex": [
       "$\\displaystyle \\sum_{n=1}^{\\infty} n^{2 m - 1} \\mu{\\left(n \\right)} = \\frac{2 m}{B_{2 m}}$"
      ],
      "text/plain": [
       "Eq(Sum(n**(2*m - 1)*mu(n), (n, 1, oo)), 2*m/bernoulli(2*m))"
      ]
     },
     "execution_count": 20,
     "metadata": {},
     "output_type": "execute_result"
    }
   ],
   "source": [
    "Eq(Sum(mu(n)*n**(2*m-1),(n,1,oo)),2*m/bernoulli(2*m))"
   ]
  },
  {
   "cell_type": "code",
   "execution_count": 12,
   "metadata": {},
   "outputs": [
    {
     "data": {
      "text/latex": [
       "$\\displaystyle f{\\left(x \\right)} = \\sum_{m=0}^{\\infty} x^{2 m - 1} {\\kappa}_{2 m - 1}$"
      ],
      "text/plain": [
       "Eq(f(x), Sum(x**(2*m - 1)*kappa[2*m - 1], (m, 0, oo)))"
      ]
     },
     "execution_count": 12,
     "metadata": {},
     "output_type": "execute_result"
    }
   ],
   "source": [
    "Eq(f(x),Sum(kappa[2*m-1]*x**(2*m-1),(m,0,oo)))"
   ]
  },
  {
   "cell_type": "code",
   "execution_count": 15,
   "metadata": {},
   "outputs": [
    {
     "data": {
      "text/latex": [
       "$\\displaystyle \\sum_{n=1}^{\\infty} f{\\left(n x \\right)} \\mu{\\left(n \\right)} = \\sum_{\\substack{0 \\leq m \\leq \\infty\\\\1 \\leq n \\leq \\infty}} n^{2 m - 1} x^{2 m - 1} \\mu{\\left(n \\right)} {\\kappa}_{2 m - 1}$"
      ],
      "text/plain": [
       "Eq(Sum(f(n*x)*mu(n), (n, 1, oo)), Sum(n**(2*m - 1)*x**(2*m - 1)*mu(n)*kappa[2*m - 1], (m, 0, oo), (n, 1, oo)))"
      ]
     },
     "execution_count": 15,
     "metadata": {},
     "output_type": "execute_result"
    }
   ],
   "source": [
    "Eq(Sum(f(n*x)*mu(n),(n,1,oo)),Sum(Sum(kappa[2*m-1]*x**(2*m-1)*n**(2*m-1)*mu(n),(m,0,oo)),(n,1,oo)))"
   ]
  },
  {
   "cell_type": "code",
   "execution_count": 18,
   "metadata": {},
   "outputs": [
    {
     "data": {
      "text/latex": [
       "$\\displaystyle \\sum_{n=1}^{\\infty} f{\\left(n x \\right)} \\mu{\\left(n \\right)} = \\sum_{m=0}^{\\infty} x^{2 m - 1} {\\kappa}_{2 m - 1} \\sum_{n=1}^{\\infty} n^{2 m - 1} \\mu{\\left(n \\right)}$"
      ],
      "text/plain": [
       "Eq(Sum(f(n*x)*mu(n), (n, 1, oo)), Sum(x**(2*m - 1)*kappa[2*m - 1]*Sum(n**(2*m - 1)*mu(n), (n, 1, oo)), (m, 0, oo)))"
      ]
     },
     "execution_count": 18,
     "metadata": {},
     "output_type": "execute_result"
    }
   ],
   "source": [
    "Eq(Sum(f(n*x)*mu(n),(n,1,oo)),Sum(Sum(n**(2*m-1)*mu(n),(n,1,oo))*kappa[2*m-1]*x**(2*m-1),(m,0,oo)))"
   ]
  },
  {
   "cell_type": "code",
   "execution_count": 30,
   "metadata": {},
   "outputs": [
    {
     "data": {
      "text/latex": [
       "$\\displaystyle \\sum_{n=1}^{\\infty} f{\\left(n x \\right)} \\mu{\\left(n \\right)} = \\sum_{m=0}^{\\infty} \\frac{2 m x^{2 m - 1} {\\kappa}_{2 m - 1}}{B_{2 m}}$"
      ],
      "text/plain": [
       "Eq(Sum(f(n*x)*mu(n), (n, 1, oo)), Sum(2*m*x**(2*m - 1)*kappa[2*m - 1]/bernoulli(2*m), (m, 0, oo)))"
      ]
     },
     "execution_count": 30,
     "metadata": {},
     "output_type": "execute_result"
    }
   ],
   "source": [
    "Eq(Sum(f(n*x)*mu(n),(n,1,oo)),Sum(2*m/bernoulli(2*m)*kappa[2*m-1]*x**(2*m-1),(m,0,oo)))"
   ]
  },
  {
   "cell_type": "code",
   "execution_count": 31,
   "metadata": {},
   "outputs": [
    {
     "data": {
      "text/latex": [
       "$\\displaystyle g{\\left(x \\right)} = \\sum_{m=0}^{\\infty} \\frac{2 m x^{2 m - 1} {\\kappa}_{2 m - 1}}{B_{2 m}}$"
      ],
      "text/plain": [
       "Eq(g(x), Sum(2*m*x**(2*m - 1)*kappa[2*m - 1]/bernoulli(2*m), (m, 0, oo)))"
      ]
     },
     "execution_count": 31,
     "metadata": {},
     "output_type": "execute_result"
    }
   ],
   "source": [
    "Eq(g(x),Sum(2*m/bernoulli(2*m)*kappa[2*m-1]*x**(2*m-1),(m,0,oo)))"
   ]
  },
  {
   "cell_type": "code",
   "execution_count": 33,
   "metadata": {},
   "outputs": [
    {
     "data": {
      "text/latex": [
       "$\\displaystyle \\sum_{n=1}^{\\infty} g{\\left(n x \\right)} = \\sum_{m=0}^{\\infty} \\frac{2 m x^{2 m - 1} {\\kappa}_{2 m - 1} \\sum_{n=1}^{\\infty} n^{2 m - 1}}{B_{2 m}}$"
      ],
      "text/plain": [
       "Eq(Sum(g(n*x), (n, 1, oo)), Sum(2*m*x**(2*m - 1)*kappa[2*m - 1]*Sum(n**(2*m - 1), (n, 1, oo))/bernoulli(2*m), (m, 0, oo)))"
      ]
     },
     "execution_count": 33,
     "metadata": {},
     "output_type": "execute_result"
    }
   ],
   "source": [
    "Eq(Sum(g(n*x),(n,1,oo)),Sum(2*m/bernoulli(2*m)*kappa[2*m-1]*x**(2*m-1)*Sum(n**(2*m-1),(n,1,oo)),(m,0,oo)))"
   ]
  },
  {
   "cell_type": "code",
   "execution_count": 34,
   "metadata": {},
   "outputs": [
    {
     "data": {
      "text/latex": [
       "$\\displaystyle \\sum_{n=1}^{\\infty} g{\\left(n x \\right)} = \\sum_{m=0}^{\\infty} x^{2 m - 1} {\\kappa}_{2 m - 1}$"
      ],
      "text/plain": [
       "Eq(Sum(g(n*x), (n, 1, oo)), Sum(x**(2*m - 1)*kappa[2*m - 1], (m, 0, oo)))"
      ]
     },
     "execution_count": 34,
     "metadata": {},
     "output_type": "execute_result"
    }
   ],
   "source": [
    "Eq(Sum(g(n*x),(n,1,oo)),Sum(kappa[2*m-1]*x**(2*m-1),(m,0,oo)))"
   ]
  },
  {
   "cell_type": "code",
   "execution_count": 36,
   "metadata": {},
   "outputs": [
    {
     "data": {
      "text/latex": [
       "$\\displaystyle \\frac{2 m \\sum_{n=1}^{\\infty} n^{2 m - 1}}{B_{2 m}} = 1$"
      ],
      "text/plain": [
       "Eq(2*m*Sum(n**(2*m - 1), (n, 1, oo))/bernoulli(2*m), 1)"
      ]
     },
     "execution_count": 36,
     "metadata": {},
     "output_type": "execute_result"
    }
   ],
   "source": [
    "Eq(2*m/bernoulli(2*m)*Sum(n**(2*m-1),(n,1,oo)),1)"
   ]
  },
  {
   "cell_type": "code",
   "execution_count": 37,
   "metadata": {},
   "outputs": [
    {
     "data": {
      "text/latex": [
       "$\\displaystyle \\sum_{n=1}^{\\infty} n^{2 m - 1} = \\frac{B_{2 m}}{2 m}$"
      ],
      "text/plain": [
       "Eq(Sum(n**(2*m - 1), (n, 1, oo)), bernoulli(2*m)/(2*m))"
      ]
     },
     "execution_count": 37,
     "metadata": {},
     "output_type": "execute_result"
    }
   ],
   "source": [
    "Eq(Sum(n**(2*m-1),(n,1,oo)),bernoulli(2*m)/(2*m))"
   ]
  },
  {
   "cell_type": "code",
   "execution_count": 38,
   "metadata": {},
   "outputs": [
    {
     "data": {
      "text/latex": [
       "$\\displaystyle \\sum_{n=1}^{\\infty} n^{2 m - 1} \\mu{\\left(n \\right)} = \\frac{2 m}{B_{2 m}}$"
      ],
      "text/plain": [
       "Eq(Sum(n**(2*m - 1)*mu(n), (n, 1, oo)), 2*m/bernoulli(2*m))"
      ]
     },
     "execution_count": 38,
     "metadata": {},
     "output_type": "execute_result"
    }
   ],
   "source": [
    "Eq(Sum(mu(n)*n**(2*m-1),(n,1,oo)),2*m/bernoulli(2*m))"
   ]
  },
  {
   "cell_type": "code",
   "execution_count": 39,
   "metadata": {},
   "outputs": [
    {
     "data": {
      "text/latex": [
       "$\\displaystyle \\sum_{\\substack{1 \\leq n \\leq \\infty\\\\1 \\leq k \\leq \\infty}} \\left(k n\\right)^{2 m - 1} \\mu{\\left(n \\right)} = 1$"
      ],
      "text/plain": [
       "Eq(Sum((k*n)**(2*m - 1)*mu(n), (n, 1, oo), (k, 1, oo)), 1)"
      ]
     },
     "execution_count": 39,
     "metadata": {},
     "output_type": "execute_result"
    }
   ],
   "source": [
    "Eq(Sum(Sum(mu(n)*(n*k)**(2*m-1),(n,1,oo)),(k,1,oo)),1)"
   ]
  },
  {
   "cell_type": "markdown",
   "metadata": {},
   "source": [
    "## Use case 4: Second derivation"
   ]
  },
  {
   "cell_type": "code",
   "execution_count": 41,
   "metadata": {},
   "outputs": [
    {
     "data": {
      "text/latex": [
       "$\\displaystyle g{\\left(x \\right)} = \\sum_{n=1}^{\\infty} f{\\left(n x \\right)} \\mu{\\left(n \\right)}$"
      ],
      "text/plain": [
       "Eq(g(x), Sum(f(n*x)*mu(n), (n, 1, oo)))"
      ]
     },
     "execution_count": 41,
     "metadata": {},
     "output_type": "execute_result"
    }
   ],
   "source": [
    "Eq(g(x), Sum(mu(n)*f(n*x),(n,1,oo)))"
   ]
  },
  {
   "cell_type": "code",
   "execution_count": 42,
   "metadata": {},
   "outputs": [
    {
     "data": {
      "text/latex": [
       "$\\displaystyle f{\\left(x \\right)} = \\sum_{n=1}^{\\infty} g{\\left(n x \\right)}$"
      ],
      "text/plain": [
       "Eq(f(x), Sum(g(n*x), (n, 1, oo)))"
      ]
     },
     "execution_count": 42,
     "metadata": {},
     "output_type": "execute_result"
    }
   ],
   "source": [
    "Eq(f(x),Sum(g(n*x),(n,1,oo)))"
   ]
  },
  {
   "cell_type": "code",
   "execution_count": 43,
   "metadata": {},
   "outputs": [
    {
     "data": {
      "text/latex": [
       "$\\displaystyle \\sum_{k=1}^{\\infty} g{\\left(k x \\right)} = \\sum_{\\substack{1 \\leq n \\leq \\infty\\\\1 \\leq k \\leq \\infty}} f{\\left(k n x \\right)} \\mu{\\left(n \\right)}$"
      ],
      "text/plain": [
       "Eq(Sum(g(k*x), (k, 1, oo)), Sum(f(k*n*x)*mu(n), (n, 1, oo), (k, 1, oo)))"
      ]
     },
     "execution_count": 43,
     "metadata": {},
     "output_type": "execute_result"
    }
   ],
   "source": [
    "Eq(Sum(g(k*x),(k,1,oo)), Sum(Sum(mu(n)*f(n*k*x),(n,1,oo)),(k,1,oo)))"
   ]
  },
  {
   "cell_type": "code",
   "execution_count": 44,
   "metadata": {},
   "outputs": [
    {
     "data": {
      "text/latex": [
       "$\\displaystyle f{\\left(x \\right)} = \\sum_{\\substack{1 \\leq n \\leq \\infty\\\\1 \\leq k \\leq \\infty}} f{\\left(k n x \\right)} \\mu{\\left(n \\right)}$"
      ],
      "text/plain": [
       "Eq(f(x), Sum(f(k*n*x)*mu(n), (n, 1, oo), (k, 1, oo)))"
      ]
     },
     "execution_count": 44,
     "metadata": {},
     "output_type": "execute_result"
    }
   ],
   "source": [
    "Eq(f(x), Sum(Sum(mu(n)*f(n*k*x),(n,1,oo)),(k,1,oo)))"
   ]
  },
  {
   "cell_type": "markdown",
   "metadata": {},
   "source": [
    "Suppose that f is a completely multiplicative function such that:"
   ]
  },
  {
   "cell_type": "code",
   "execution_count": 46,
   "metadata": {},
   "outputs": [
    {
     "data": {
      "text/latex": [
       "$\\displaystyle f{\\left(x y \\right)} = f{\\left(x \\right)} f{\\left(y \\right)}$"
      ],
      "text/plain": [
       "Eq(f(x*y), f(x)*f(y))"
      ]
     },
     "execution_count": 46,
     "metadata": {},
     "output_type": "execute_result"
    }
   ],
   "source": [
    "Eq(f(x*y),f(x)*f(y))"
   ]
  },
  {
   "cell_type": "code",
   "execution_count": 47,
   "metadata": {},
   "outputs": [
    {
     "data": {
      "text/latex": [
       "$\\displaystyle f{\\left(1 \\right)} = 1$"
      ],
      "text/plain": [
       "Eq(f(1), 1)"
      ]
     },
     "execution_count": 47,
     "metadata": {},
     "output_type": "execute_result"
    }
   ],
   "source": [
    "Eq(f(1),1)"
   ]
  },
  {
   "cell_type": "code",
   "execution_count": 48,
   "metadata": {},
   "outputs": [
    {
     "data": {
      "text/latex": [
       "$\\displaystyle f{\\left(x \\right)} = f{\\left(x \\right)} \\left(\\sum_{n=1}^{\\infty} f{\\left(n \\right)} \\mu{\\left(n \\right)}\\right) \\sum_{k=1}^{\\infty} f{\\left(k \\right)}$"
      ],
      "text/plain": [
       "Eq(f(x), f(x)*Sum(f(n)*mu(n), (n, 1, oo))*Sum(f(k), (k, 1, oo)))"
      ]
     },
     "execution_count": 48,
     "metadata": {},
     "output_type": "execute_result"
    }
   ],
   "source": [
    "Eq(f(x), f(x)*Sum(mu(n)*f(n),(n,1,oo))*Sum(f(k),(k,1,oo)))"
   ]
  },
  {
   "cell_type": "code",
   "execution_count": 49,
   "metadata": {},
   "outputs": [
    {
     "data": {
      "text/latex": [
       "$\\displaystyle 1 = \\left(\\sum_{n=1}^{\\infty} f{\\left(n \\right)} \\mu{\\left(n \\right)}\\right) \\sum_{k=1}^{\\infty} f{\\left(k \\right)}$"
      ],
      "text/plain": [
       "Eq(1, Sum(f(n)*mu(n), (n, 1, oo))*Sum(f(k), (k, 1, oo)))"
      ]
     },
     "execution_count": 49,
     "metadata": {},
     "output_type": "execute_result"
    }
   ],
   "source": [
    "Eq(1, Sum(mu(n)*f(n),(n,1,oo))*Sum(f(k),(k,1,oo)))"
   ]
  },
  {
   "cell_type": "markdown",
   "metadata": {},
   "source": [
    "## Use case 5: Relating Fourier Series to Multi-pole expansions"
   ]
  },
  {
   "cell_type": "code",
   "execution_count": 41,
   "metadata": {},
   "outputs": [
    {
     "data": {
      "text/latex": [
       "$\\displaystyle e^{- x} = \\sum_{n=1}^{\\infty} \\frac{\\mu{\\left(n \\right)}}{e^{n x} - 1}$"
      ],
      "text/plain": [
       "Eq(exp(-x), Sum(mu(n)/(exp(n*x) - 1), (n, 1, oo)))"
      ]
     },
     "execution_count": 41,
     "metadata": {},
     "output_type": "execute_result"
    }
   ],
   "source": [
    "Eq(exp(-x),Sum(mu(n)/(exp(n*x)-1),(n,1,oo)))"
   ]
  },
  {
   "cell_type": "code",
   "execution_count": 155,
   "metadata": {},
   "outputs": [
    {
     "data": {
      "text/latex": [
       "$\\displaystyle \\frac{1}{2} + \\frac{1}{e^{x} - 1} = \\sum_{m=-\\infty}^{\\infty} \\frac{1}{- 2 i \\pi m + x}$"
      ],
      "text/plain": [
       "Eq(1/2 + 1/(exp(x) - 1), Sum(1/(-2*I*pi*m + x), (m, -oo, oo)))"
      ]
     },
     "execution_count": 155,
     "metadata": {},
     "output_type": "execute_result"
    }
   ],
   "source": [
    "Eq((1 + 2/(exp(x)-1))/2,Sum(1/(x-2*I*pi*m),(m,-oo,oo)))"
   ]
  },
  {
   "cell_type": "code",
   "execution_count": 156,
   "metadata": {},
   "outputs": [
    {
     "data": {
      "text/latex": [
       "$\\displaystyle \\frac{1}{e^{x} - 1} = \\sum_{m=-\\infty}^{\\infty} \\frac{1}{- 2 i \\pi m + x} - \\frac{1}{2}$"
      ],
      "text/plain": [
       "Eq(1/(exp(x) - 1), Sum(1/(-2*I*pi*m + x), (m, -oo, oo)) - 1/2)"
      ]
     },
     "execution_count": 156,
     "metadata": {},
     "output_type": "execute_result"
    }
   ],
   "source": [
    "Eq(1/(exp(x)-1),(-1+2*Sum(1/(x-2*I*pi*m),(m,-oo,oo)))/2)"
   ]
  },
  {
   "cell_type": "code",
   "execution_count": 158,
   "metadata": {},
   "outputs": [
    {
     "data": {
      "text/latex": [
       "$\\displaystyle \\frac{1}{e^{x} - 1} = \\sum_{m=1}^{\\infty} \\frac{2 x}{4 \\pi^{2} m^{2} + x^{2}} - \\frac{1}{2} + \\frac{1}{x}$"
      ],
      "text/plain": [
       "Eq(1/(exp(x) - 1), Sum(2*x/(4*pi**2*m**2 + x**2), (m, 1, oo)) - 1/2 + 1/x)"
      ]
     },
     "execution_count": 158,
     "metadata": {},
     "output_type": "execute_result"
    }
   ],
   "source": [
    "Eq(1/(exp(x)-1),(-1+2/x)/2 +Sum((1/(x+2*I*pi*m)+1/(x-2*I*pi*m)).simplify(),(m,1,oo)))"
   ]
  },
  {
   "cell_type": "code",
   "execution_count": 159,
   "metadata": {},
   "outputs": [
    {
     "data": {
      "text/latex": [
       "$\\displaystyle \\frac{1}{e^{n x} - 1} = \\sum_{m=-\\infty}^{\\infty} \\frac{1}{- 2 i \\pi m + n x} - \\frac{1}{2}$"
      ],
      "text/plain": [
       "Eq(1/(exp(n*x) - 1), Sum(1/(-2*I*pi*m + n*x), (m, -oo, oo)) - 1/2)"
      ]
     },
     "execution_count": 159,
     "metadata": {},
     "output_type": "execute_result"
    }
   ],
   "source": [
    "Eq(1/(exp(n*x)-1),(-1+2*Sum(1/(n*x-2*I*pi*m),(m,-oo,oo)))/2)"
   ]
  },
  {
   "cell_type": "code",
   "execution_count": 160,
   "metadata": {},
   "outputs": [
    {
     "data": {
      "text/latex": [
       "$\\displaystyle e^{- x} = \\sum_{n=1}^{\\infty} \\frac{\\left(2 \\sum_{m=-\\infty}^{\\infty} \\frac{1}{- 2 i \\pi m + n x} - 1\\right) \\mu{\\left(n \\right)}}{2}$"
      ],
      "text/plain": [
       "Eq(exp(-x), Sum((2*Sum(1/(-2*I*pi*m + n*x), (m, -oo, oo)) - 1)*mu(n)/2, (n, 1, oo)))"
      ]
     },
     "execution_count": 160,
     "metadata": {},
     "output_type": "execute_result"
    }
   ],
   "source": [
    "Eq(exp(-x),Sum(mu(n)*(-1+2*Sum(1/(n*x-2*I*pi*m),(m,-oo,oo)))/2,(n,1,oo)))"
   ]
  },
  {
   "cell_type": "code",
   "execution_count": 161,
   "metadata": {},
   "outputs": [
    {
     "data": {
      "text/latex": [
       "$\\displaystyle e^{- x} = - \\frac{\\sum_{n=1}^{\\infty} \\mu{\\left(n \\right)}}{2} + \\sum_{\\substack{-\\infty \\leq m \\leq \\infty\\\\1 \\leq n \\leq \\infty}} \\frac{\\mu{\\left(n \\right)}}{- 2 i \\pi m + n x}$"
      ],
      "text/plain": [
       "Eq(exp(-x), -Sum(mu(n), (n, 1, oo))/2 + Sum(mu(n)/(-2*I*pi*m + n*x), (m, -oo, oo), (n, 1, oo)))"
      ]
     },
     "execution_count": 161,
     "metadata": {},
     "output_type": "execute_result"
    }
   ],
   "source": [
    "Eq(exp(-x),-Sum(mu(n),(n,1,oo))/2+\n",
    "   Sum(Sum(mu(n)/(n*x-2*I*pi*m),(m,-oo,oo)),(n,1,oo))\n",
    "  )"
   ]
  },
  {
   "cell_type": "code",
   "execution_count": 163,
   "metadata": {},
   "outputs": [
    {
     "data": {
      "text/latex": [
       "$\\displaystyle e^{- x} = \\sum_{\\substack{-\\infty \\leq m \\leq \\infty\\\\1 \\leq n \\leq \\infty}} \\frac{\\mu{\\left(n \\right)}}{- 2 i \\pi m + n x} + 1$"
      ],
      "text/plain": [
       "Eq(exp(-x), Sum(mu(n)/(-2*I*pi*m + n*x), (m, -oo, oo), (n, 1, oo)) + 1)"
      ]
     },
     "execution_count": 163,
     "metadata": {},
     "output_type": "execute_result"
    }
   ],
   "source": [
    "Eq(exp(-x),1+Sum(Sum(mu(n)/(n*x-2*I*pi*m),(m,-oo,oo)),(n,1,oo)))"
   ]
  },
  {
   "cell_type": "code",
   "execution_count": 165,
   "metadata": {},
   "outputs": [
    {
     "data": {
      "text/latex": [
       "$\\displaystyle e^{- x} = \\sum_{n=1}^{\\infty} \\left(\\sum_{m=1}^{\\infty} \\frac{2 n x \\mu{\\left(n \\right)}}{4 \\pi^{2} m^{2} + n^{2} x^{2}} + \\frac{\\mu{\\left(n \\right)}}{n x}\\right) + 1$"
      ],
      "text/plain": [
       "Eq(exp(-x), Sum(Sum(2*n*x*mu(n)/(4*pi**2*m**2 + n**2*x**2), (m, 1, oo)) + mu(n)/(n*x), (n, 1, oo)) + 1)"
      ]
     },
     "execution_count": 165,
     "metadata": {},
     "output_type": "execute_result"
    }
   ],
   "source": [
    "Eq(exp(-x),1+Sum(mu(n)/(n*x) + Sum((mu(n)/(n*x+2*I*pi*m)+mu(n)/(n*x-2*I*pi*m)).simplify(),(m,1,oo)),(n,1,oo)))"
   ]
  },
  {
   "cell_type": "code",
   "execution_count": 168,
   "metadata": {},
   "outputs": [
    {
     "data": {
      "text/latex": [
       "$\\displaystyle e^{- x} = \\sum_{\\substack{1 \\leq m \\leq \\infty\\\\1 \\leq n \\leq \\infty}} \\frac{2 n x \\mu{\\left(n \\right)}}{4 \\pi^{2} m^{2} + n^{2} x^{2}} + 1$"
      ],
      "text/plain": [
       "Eq(exp(-x), Sum(2*n*x*mu(n)/(4*pi**2*m**2 + n**2*x**2), (m, 1, oo), (n, 1, oo)) + 1)"
      ]
     },
     "execution_count": 168,
     "metadata": {},
     "output_type": "execute_result"
    }
   ],
   "source": [
    "Eq(exp(-x),1+Sum(Sum(mu(n)*2*n*x/((n*x)**2+(2*pi*m)**2),(m,1,oo)),(n,1,oo)))"
   ]
  },
  {
   "cell_type": "code",
   "execution_count": 238,
   "metadata": {},
   "outputs": [],
   "source": [
    "def exp_x_one_over_exp(N, x):\n",
    "    # This converges rapidly\n",
    "    mobius_ns = [i for i in sieve.mobiusrange(1, N + 1)]\n",
    "    result = 0\n",
    "    for _n in range(1, N + 1):\n",
    "        result += (mobius_ns[_n - 1] / (exp(_n*x) - 1)).evalf()\n",
    "    return result\n",
    "\n",
    "def exp_x_pole_num(N, M, x):\n",
    "    # This does not apper to converge very fast if at all\n",
    "    mobius_ns = [i for i in sieve.mobiusrange(1, N + 1)]\n",
    "    result = 1\n",
    "    for _m in range(-M ,M + 1):\n",
    "        for _n in range(1, N + 1):\n",
    "            result += (2*_n*x*mobius_ns[_n - 1] / (4*pi**2*_m**2 + _n**2*x**2)).evalf()\n",
    "    return result"
   ]
  },
  {
   "cell_type": "code",
   "execution_count": 243,
   "metadata": {},
   "outputs": [
    {
     "data": {
      "text/latex": [
       "$\\displaystyle e^{- 2 i \\pi x} = - \\frac{i \\sum_{\\substack{-\\infty \\leq m \\leq \\infty\\\\1 \\leq n \\leq \\infty}} \\frac{\\mu{\\left(n \\right)}}{- m + n x}}{2 \\pi} + 1$"
      ],
      "text/plain": [
       "Eq(exp(-2*I*pi*x), -I*Sum(mu(n)/(-m + n*x), (m, -oo, oo), (n, 1, oo))/(2*pi) + 1)"
      ]
     },
     "execution_count": 243,
     "metadata": {},
     "output_type": "execute_result"
    }
   ],
   "source": [
    "Eq(exp(-2*I*pi*x),1+Sum(Sum(mu(n)/(n*x-m),(m,-oo,oo)),(n,1,oo))/(2*pi*I))"
   ]
  },
  {
   "cell_type": "code",
   "execution_count": 251,
   "metadata": {},
   "outputs": [
    {
     "data": {
      "text/latex": [
       "$\\displaystyle \\sum_{k=-\\infty}^{\\infty} e^{- 2 i \\pi k x} {a}_{k} = \\sum_{k=-\\infty}^{\\infty} {a}_{k} - \\frac{i \\sum_{\\substack{-\\infty \\leq m \\leq \\infty\\\\1 \\leq n \\leq \\infty\\\\-\\infty \\leq k \\leq \\infty}} \\frac{\\mu{\\left(n \\right)} {a}_{k}}{k n x - m}}{2 \\pi}$"
      ],
      "text/plain": [
       "Eq(Sum(exp(-2*I*pi*k*x)*a[k], (k, -oo, oo)), Sum(a[k], (k, -oo, oo)) - I*Sum(mu(n)*a[k]/(k*n*x - m), (m, -oo, oo), (n, 1, oo), (k, -oo, oo))/(2*pi))"
      ]
     },
     "execution_count": 251,
     "metadata": {},
     "output_type": "execute_result"
    }
   ],
   "source": [
    "Eq(Sum(a[k]*exp(-2*I*pi*x*k),(k,-oo,oo)),\n",
    "   Sum(a[k],(k,-oo,oo)) +\n",
    "   Sum(Sum(Sum(a[k]*mu(n)/(n*x*k-m),(m,-oo,oo)),(n,1,oo)),(k,-oo,oo))/(2*pi*I)\n",
    "  )"
   ]
  },
  {
   "cell_type": "markdown",
   "metadata": {},
   "source": [
    "## Use case 3: Fourier Transforms"
   ]
  },
  {
   "cell_type": "code",
   "execution_count": 254,
   "metadata": {},
   "outputs": [
    {
     "data": {
      "text/latex": [
       "$\\displaystyle e^{- 2 i \\pi x} = - \\frac{i \\sum_{\\substack{-\\infty \\leq m \\leq \\infty\\\\1 \\leq n \\leq \\infty}} \\frac{\\mu{\\left(n \\right)}}{- m + n x}}{2 \\pi} + 1$"
      ],
      "text/plain": [
       "Eq(exp(-2*I*pi*x), -I*Sum(mu(n)/(-m + n*x), (m, -oo, oo), (n, 1, oo))/(2*pi) + 1)"
      ]
     },
     "execution_count": 254,
     "metadata": {},
     "output_type": "execute_result"
    }
   ],
   "source": [
    "Eq(exp(-2*I*pi*x),1+Sum(Sum(mu(n)/(n*x-m),(m,-oo,oo)),(n,1,oo))/(2*pi*I))"
   ]
  },
  {
   "cell_type": "code",
   "execution_count": 250,
   "metadata": {},
   "outputs": [
    {
     "data": {
      "text/latex": [
       "$\\displaystyle \\int\\limits_{-\\infty}^{\\infty} f{\\left(x \\right)} e^{- 2 i \\pi \\nu x}\\, dx = \\int\\limits_{-\\infty}^{\\infty} f{\\left(x \\right)}\\, dx - \\frac{i \\sum_{\\substack{-\\infty \\leq m \\leq \\infty\\\\1 \\leq n \\leq \\infty}} \\mu{\\left(n \\right)} \\int\\limits_{-\\infty}^{\\infty} \\frac{f{\\left(x \\right)}}{- m + n \\nu x}\\, dx}{2 \\pi}$"
      ],
      "text/plain": [
       "Eq(Integral(f(x)*exp(-2*I*pi*nu*x), (x, -oo, oo)), Integral(f(x), (x, -oo, oo)) - I*Sum(mu(n)*Integral(f(x)/(-m + n*nu*x), (x, -oo, oo)), (m, -oo, oo), (n, 1, oo))/(2*pi))"
      ]
     },
     "execution_count": 250,
     "metadata": {},
     "output_type": "execute_result"
    }
   ],
   "source": [
    "Eq(Integral(f(x)*exp(-2*I*pi*x*nu),(x,-oo,oo)),\n",
    "   Integral(f(x),(x,-oo,oo))+Sum(Sum(mu(n)*Integral(f(x)/(n*x*nu-m),(x,-oo,oo)),(m,-oo,oo)),(n,1,oo))/(2*pi*I))"
   ]
  },
  {
   "cell_type": "code",
   "execution_count": 253,
   "metadata": {},
   "outputs": [
    {
     "data": {
      "text/latex": [
       "$\\displaystyle F{\\left(\\nu \\right)} = F{\\left(0 \\right)} - \\frac{i \\sum_{\\substack{-\\infty \\leq m \\leq \\infty\\\\1 \\leq n \\leq \\infty}} \\mu{\\left(n \\right)} \\int\\limits_{-\\infty}^{\\infty} \\frac{f{\\left(x \\right)}}{- m + n \\nu x}\\, dx}{2 \\pi}$"
      ],
      "text/plain": [
       "Eq(F(nu), F(0) - I*Sum(mu(n)*Integral(f(x)/(-m + n*nu*x), (x, -oo, oo)), (m, -oo, oo), (n, 1, oo))/(2*pi))"
      ]
     },
     "execution_count": 253,
     "metadata": {},
     "output_type": "execute_result"
    }
   ],
   "source": [
    "Eq(F(nu),F(0)+Sum(Sum(mu(n)*Integral(f(x)/(n*x*nu-m),(x,-oo,oo)),(m,-oo,oo)),(n,1,oo))/(2*pi*I))"
   ]
  },
  {
   "cell_type": "code",
   "execution_count": 255,
   "metadata": {},
   "outputs": [
    {
     "data": {
      "text/latex": [
       "$\\displaystyle \\int\\limits_{-\\infty}^{\\infty} \\frac{f{\\left(x \\right)}}{- m + n \\nu x}\\, dx$"
      ],
      "text/plain": [
       "Integral(f(x)/(-m + n*nu*x), (x, -oo, oo))"
      ]
     },
     "execution_count": 255,
     "metadata": {},
     "output_type": "execute_result"
    }
   ],
   "source": [
    "Integral(f(x)/(n*x*nu-m),(x,-oo,oo))"
   ]
  },
  {
   "cell_type": "code",
   "execution_count": 256,
   "metadata": {},
   "outputs": [
    {
     "data": {
      "text/plain": [
       "[m/(n*nu)]"
      ]
     },
     "execution_count": 256,
     "metadata": {},
     "output_type": "execute_result"
    }
   ],
   "source": [
    "solve(n*x*nu-m,x)"
   ]
  },
  {
   "cell_type": "code",
   "execution_count": 257,
   "metadata": {},
   "outputs": [
    {
     "data": {
      "text/latex": [
       "$\\displaystyle \\frac{f{\\left(\\frac{m}{n \\nu} \\right)}}{n \\nu}$"
      ],
      "text/plain": [
       "f(m/(n*nu))/(n*nu)"
      ]
     },
     "execution_count": 257,
     "metadata": {},
     "output_type": "execute_result"
    }
   ],
   "source": [
    "limit((x-m/(n*nu))*f(x)/(n*x*nu-m),x,m/(n*nu))"
   ]
  },
  {
   "cell_type": "code",
   "execution_count": 261,
   "metadata": {},
   "outputs": [
    {
     "data": {
      "text/latex": [
       "$\\displaystyle - F{\\left(0 \\right)} + F{\\left(\\nu \\right)} = \\sum_{\\substack{-\\infty \\leq m \\leq \\infty\\\\1 \\leq n \\leq \\infty}} \\frac{f{\\left(\\frac{m}{n \\nu} \\right)} \\mu{\\left(n \\right)}}{n \\nu}$"
      ],
      "text/plain": [
       "Eq(-F(0) + F(nu), Sum(f(m/(n*nu))*mu(n)/(n*nu), (m, -oo, oo), (n, 1, oo)))"
      ]
     },
     "execution_count": 261,
     "metadata": {},
     "output_type": "execute_result"
    }
   ],
   "source": [
    "Eq(F(nu)-F(0),Sum(Sum(mu(n)*f(m/nu/n)/n/nu,(m,-oo,oo)),(n,1,oo)))"
   ]
  },
  {
   "cell_type": "code",
   "execution_count": 2,
   "metadata": {},
   "outputs": [
    {
     "data": {
      "text/latex": [
       "$\\displaystyle \\int\\limits_{0}^{\\infty} y^{s - 1} \\log{\\left(\\frac{1 + e^{- y}}{1 + e^{- r y}} \\right)}\\, dy = \\left(-1 + 2^{- s}\\right) \\left(-1 + r^{- s}\\right) \\Gamma\\left(s\\right) \\zeta\\left(s + 1\\right)$"
      ],
      "text/plain": [
       "Eq(Integral(y**(s - 1)*log((1 + exp(-y))/(1 + exp(-r*y))), (y, 0, oo)), (-1 + 2**(-s))*(-1 + r**(-s))*gamma(s)*zeta(s + 1))"
      ]
     },
     "execution_count": 2,
     "metadata": {},
     "output_type": "execute_result"
    }
   ],
   "source": [
    "Eq(Integral(y**(s-1)*ln((exp(-y)+1)/(1+exp(-r*y))),(y,0,oo)),(r**(-s)-1)*(2**(-s)-1)*zeta(s+1)*gamma(s))"
   ]
  },
  {
   "cell_type": "markdown",
   "metadata": {},
   "source": [
    "## Analytic Continuation of a Series\n",
    "https://math.stackexchange.com/questions/1683898/mobius-function-and-exp2-pi-i-n-x\n",
    "\n",
    "The ask in this question is to find a way to analytically continue the following series to values of s less than 1:"
   ]
  },
  {
   "cell_type": "code",
   "execution_count": 25,
   "metadata": {},
   "outputs": [
    {
     "data": {
      "text/latex": [
       "$\\displaystyle S{\\left(x,s \\right)} = \\sum_{n=1}^{\\infty} n^{- s} \\mu{\\left(n \\right)} e^{2 i \\pi n x}$"
      ],
      "text/plain": [
       "Eq(S(x, s), Sum(n**(-s)*mu(n)*exp(2*I*pi*n*x), (n, 1, oo)))"
      ]
     },
     "execution_count": 25,
     "metadata": {},
     "output_type": "execute_result"
    }
   ],
   "source": [
    "Eq(S(x,s), Sum(mu(n)*exp(2*I*pi*n*x)/n**s,(n,1,oo)))"
   ]
  },
  {
   "cell_type": "markdown",
   "metadata": {},
   "source": [
    "The approach is to find an integral representation of the function using an inverse Mellin transform which has a domain that covers values of s less than 1."
   ]
  },
  {
   "cell_type": "code",
   "execution_count": 21,
   "metadata": {},
   "outputs": [
    {
     "data": {
      "text/latex": [
       "$\\displaystyle \\frac{\\phi{\\left(s \\right)}}{\\zeta\\left(s\\right)} = \\sum_{n=1}^{\\infty} \\mu{\\left(n \\right)} \\int\\limits_{0}^{\\infty} x^{s - 1} f{\\left(n x \\right)}\\, dx$"
      ],
      "text/plain": [
       "Eq(phi(s)/zeta(s), Sum(mu(n)*Integral(x**(s - 1)*f(n*x), (x, 0, oo)), (n, 1, oo)))"
      ]
     },
     "execution_count": 21,
     "metadata": {},
     "output_type": "execute_result"
    }
   ],
   "source": [
    "Eq(phi(s)/zeta(s),Sum(mu(n)*Integral(x**(s-1)*f(n*x),(x,0,oo)),(n,1,oo)))"
   ]
  },
  {
   "cell_type": "code",
   "execution_count": 6,
   "metadata": {},
   "outputs": [
    {
     "data": {
      "text/latex": [
       "$\\displaystyle \\operatorname{re}{\\left(r\\right)} > 0$"
      ],
      "text/plain": [
       "re(r) > 0"
      ]
     },
     "execution_count": 6,
     "metadata": {},
     "output_type": "execute_result"
    }
   ],
   "source": [
    "re(r)>0"
   ]
  },
  {
   "cell_type": "code",
   "execution_count": 7,
   "metadata": {},
   "outputs": [
    {
     "data": {
      "text/latex": [
       "$\\displaystyle \\operatorname{re}{\\left(r\\right)} < 1$"
      ],
      "text/plain": [
       "re(r) < 1"
      ]
     },
     "execution_count": 7,
     "metadata": {},
     "output_type": "execute_result"
    }
   ],
   "source": [
    "re(r)<1"
   ]
  },
  {
   "cell_type": "code",
   "execution_count": 43,
   "metadata": {},
   "outputs": [
    {
     "data": {
      "text/latex": [
       "$\\displaystyle \\int\\limits_{0}^{\\infty} x^{r - 1} S{\\left(x,s \\right)}\\, dx = \\sum_{n=1}^{\\infty} n^{- s} \\mu{\\left(n \\right)} \\int\\limits_{0}^{\\infty} x^{r - 1} e^{2 i \\pi n x}\\, dx$"
      ],
      "text/plain": [
       "Eq(Integral(x**(r - 1)*S(x, s), (x, 0, oo)), Sum(n**(-s)*mu(n)*Integral(x**(r - 1)*exp(2*I*pi*n*x), (x, 0, oo)), (n, 1, oo)))"
      ]
     },
     "execution_count": 43,
     "metadata": {},
     "output_type": "execute_result"
    }
   ],
   "source": [
    "Eq(Integral(x**(r-1)*S(x,s),(x,0,oo)), Sum(mu(n)/n**s*Integral(x**(r-1)*exp(2*I*pi*n*x),(x,0,oo)),(n,1,oo)))"
   ]
  },
  {
   "cell_type": "code",
   "execution_count": 44,
   "metadata": {},
   "outputs": [
    {
     "data": {
      "text/latex": [
       "$\\displaystyle \\int\\limits_{0}^{\\infty} x^{r - 1} e^{2 i \\pi n x}\\, dx = \\left(2 \\pi n\\right)^{- r} \\int\\limits_{0}^{\\infty} x^{r - 1} e^{i x}\\, dx$"
      ],
      "text/plain": [
       "Eq(Integral(x**(r - 1)*exp(2*I*pi*n*x), (x, 0, oo)), (2*pi*n)**(-r)*Integral(x**(r - 1)*exp(I*x), (x, 0, oo)))"
      ]
     },
     "execution_count": 44,
     "metadata": {},
     "output_type": "execute_result"
    }
   ],
   "source": [
    "Eq(Integral(x**(r-1)*exp(2*I*pi*n*x),(x,0,oo)), 1/(2*pi*n)**r*Integral(x**(r-1)*exp(I*x),(x,0,oo)))"
   ]
  },
  {
   "cell_type": "code",
   "execution_count": 53,
   "metadata": {},
   "outputs": [
    {
     "data": {
      "text/latex": [
       "$\\displaystyle \\begin{cases} e^{\\frac{i \\pi r}{2}} \\Gamma\\left(r\\right) & \\text{for}\\: \\operatorname{re}{\\left(r\\right)} - 1 > -1 \\wedge \\operatorname{re}{\\left(r\\right)} - 2 < -1 \\\\\\int\\limits_{0}^{\\infty} x^{r - 1} e^{i x}\\, dx & \\text{otherwise} \\end{cases}$"
      ],
      "text/plain": [
       "Piecewise((exp(I*pi*r/2)*gamma(r), (re(r) - 1 > -1) & (re(r) - 2 < -1)), (Integral(x**(r - 1)*exp(I*x), (x, 0, oo)), True))"
      ]
     },
     "execution_count": 53,
     "metadata": {},
     "output_type": "execute_result"
    }
   ],
   "source": [
    "Integral(x**(r-1)*exp(I*x),(x,0,oo)).doit().simplify()"
   ]
  },
  {
   "cell_type": "code",
   "execution_count": 55,
   "metadata": {},
   "outputs": [
    {
     "data": {
      "text/latex": [
       "$\\displaystyle \\int\\limits_{0}^{\\infty} x^{r - 1} e^{2 i \\pi n x}\\, dx = \\left(2 \\pi n\\right)^{- r} e^{\\frac{i \\pi r}{2}} \\Gamma\\left(r\\right)$"
      ],
      "text/plain": [
       "Eq(Integral(x**(r - 1)*exp(2*I*pi*n*x), (x, 0, oo)), (2*pi*n)**(-r)*exp(I*pi*r/2)*gamma(r))"
      ]
     },
     "execution_count": 55,
     "metadata": {},
     "output_type": "execute_result"
    }
   ],
   "source": [
    "Eq(Integral(x**(r-1)*exp(2*I*pi*n*x),(x,0,oo)), exp(I*pi*r/2)*gamma(r)/(2*pi*n)**r)"
   ]
  },
  {
   "cell_type": "code",
   "execution_count": 56,
   "metadata": {},
   "outputs": [
    {
     "data": {
      "text/latex": [
       "$\\displaystyle \\int\\limits_{0}^{\\infty} x^{s - 1} S{\\left(x,s \\right)}\\, dx = \\sum_{n=1}^{\\infty} n^{- s} \\left(2 \\pi n\\right)^{- r} \\mu{\\left(n \\right)} e^{\\frac{i \\pi r}{2}} \\Gamma\\left(r\\right)$"
      ],
      "text/plain": [
       "Eq(Integral(x**(s - 1)*S(x, s), (x, 0, oo)), Sum(n**(-s)*(2*pi*n)**(-r)*mu(n)*exp(I*pi*r/2)*gamma(r), (n, 1, oo)))"
      ]
     },
     "execution_count": 56,
     "metadata": {},
     "output_type": "execute_result"
    }
   ],
   "source": [
    "Eq(Integral(x**(s-1)*S(x,s),(x,0,oo)), Sum(mu(n)/n**s*exp(I*pi*r/2)*gamma(r)/(2*pi*n)**r,(n,1,oo)))"
   ]
  },
  {
   "cell_type": "code",
   "execution_count": 57,
   "metadata": {},
   "outputs": [
    {
     "data": {
      "text/latex": [
       "$\\displaystyle \\int\\limits_{0}^{\\infty} x^{r - 1} S{\\left(x,s \\right)}\\, dx = \\left(2 \\pi\\right)^{- r} e^{\\frac{i \\pi r}{2}} \\Gamma\\left(r\\right) \\sum_{n=1}^{\\infty} n^{- r - s} \\mu{\\left(n \\right)}$"
      ],
      "text/plain": [
       "Eq(Integral(x**(r - 1)*S(x, s), (x, 0, oo)), (2*pi)**(-r)*exp(I*pi*r/2)*gamma(r)*Sum(n**(-r - s)*mu(n), (n, 1, oo)))"
      ]
     },
     "execution_count": 57,
     "metadata": {},
     "output_type": "execute_result"
    }
   ],
   "source": [
    "Eq(Integral(x**(r-1)*S(x,s),(x,0,oo)), exp(I*pi*r/2)*gamma(r)/(2*pi)**r*Sum(mu(n)/n**(s+r),(n,1,oo)))"
   ]
  },
  {
   "cell_type": "code",
   "execution_count": 58,
   "metadata": {},
   "outputs": [
    {
     "data": {
      "text/latex": [
       "$\\displaystyle \\frac{1}{\\zeta\\left(r + s\\right)} = \\sum_{n=1}^{\\infty} n^{- r - s} \\mu{\\left(n \\right)}$"
      ],
      "text/plain": [
       "Eq(1/zeta(r + s), Sum(n**(-r - s)*mu(n), (n, 1, oo)))"
      ]
     },
     "execution_count": 58,
     "metadata": {},
     "output_type": "execute_result"
    }
   ],
   "source": [
    "Eq(1/zeta(s+r),Sum(mu(n)/n**(s+r),(n,1,oo)))"
   ]
  },
  {
   "cell_type": "code",
   "execution_count": 59,
   "metadata": {},
   "outputs": [
    {
     "data": {
      "text/latex": [
       "$\\displaystyle \\int\\limits_{0}^{\\infty} x^{r - 1} S{\\left(x,s \\right)}\\, dx = \\frac{\\left(2 \\pi\\right)^{- r} e^{\\frac{i \\pi r}{2}} \\Gamma\\left(r\\right)}{\\zeta\\left(r + s\\right)}$"
      ],
      "text/plain": [
       "Eq(Integral(x**(r - 1)*S(x, s), (x, 0, oo)), (2*pi)**(-r)*exp(I*pi*r/2)*gamma(r)/zeta(r + s))"
      ]
     },
     "execution_count": 59,
     "metadata": {},
     "output_type": "execute_result"
    }
   ],
   "source": [
    "Eq(Integral(x**(r-1)*S(x,s),(x,0,oo)), exp(I*pi*r/2)*gamma(r)/(2*pi)**r*1/zeta(s+r))"
   ]
  },
  {
   "cell_type": "code",
   "execution_count": 60,
   "metadata": {},
   "outputs": [
    {
     "data": {
      "text/latex": [
       "$\\displaystyle 2 i \\pi f{\\left(x \\right)} = \\int\\limits_{c - \\infty i}^{c + \\infty i} x^{- s} \\phi{\\left(s \\right)}\\, ds$"
      ],
      "text/plain": [
       "Eq(2*I*pi*f(x), Integral(x**(-s)*phi(s), (s, c - oo*I, c + oo*I)))"
      ]
     },
     "execution_count": 60,
     "metadata": {},
     "output_type": "execute_result"
    }
   ],
   "source": [
    "Eq(I*2*pi*f(x),Integral(x**(-s)*phi(s),(s,-oo*I+c,oo*I+c)))"
   ]
  },
  {
   "cell_type": "code",
   "execution_count": 70,
   "metadata": {},
   "outputs": [
    {
     "data": {
      "text/latex": [
       "$\\displaystyle 2 i \\pi S{\\left(x,s \\right)} = \\int\\limits_{c - \\infty i}^{c + \\infty i} \\frac{x^{- r} \\left(2 \\pi\\right)^{- r} e^{\\frac{i \\pi r}{2}} \\Gamma\\left(r\\right)}{\\zeta\\left(r + s\\right)}\\, dr$"
      ],
      "text/plain": [
       "Eq(2*I*pi*S(x, s), Integral(x**(-r)*(2*pi)**(-r)*exp(I*pi*r/2)*gamma(r)/zeta(r + s), (r, c - oo*I, c + oo*I)))"
      ]
     },
     "execution_count": 70,
     "metadata": {},
     "output_type": "execute_result"
    }
   ],
   "source": [
    "Eq(2*I*pi*S(x,s), Integral(x**(-r)*exp(I*pi*r/2)*gamma(r)/(2*pi)**r*1/zeta(s+r),(r,c-I*oo,c+I*oo)))"
   ]
  },
  {
   "cell_type": "code",
   "execution_count": 13,
   "metadata": {},
   "outputs": [
    {
     "data": {
      "text/latex": [
       "$\\displaystyle S{\\left(x,s \\right)} = - \\frac{i e^{\\frac{i \\pi c}{2}} \\int\\limits_{- \\infty i}^{\\infty i} \\frac{\\left(\\frac{x}{2 \\pi}\\right)^{- c - r} e^{\\frac{i \\pi r}{2}} \\Gamma\\left(c + r\\right)}{\\zeta\\left(c + r + s\\right)}\\, dr}{2 \\pi}$"
      ],
      "text/plain": [
       "Eq(S(x, s), -I*exp(I*pi*c/2)*Integral((x/(2*pi))**(-c - r)*exp(I*pi*r/2)*gamma(c + r)/zeta(c + r + s), (r, -oo*I, oo*I))/(2*pi))"
      ]
     },
     "execution_count": 13,
     "metadata": {},
     "output_type": "execute_result"
    }
   ],
   "source": [
    "Eq(S(x,s), exp(I*pi*c/2)/(2*I*pi)*Integral((x/(2*pi))**(-r-c)*exp(I*pi*r/2)*gamma(r+c)/zeta(s+r+c),(r,-I*oo,I*oo)))"
   ]
  },
  {
   "cell_type": "code",
   "execution_count": null,
   "metadata": {},
   "outputs": [],
   "source": [
    "Eq(S(x,s), exp(I*pi*c/2)/(2*I*pi)*Integral((x/(2*pi))**(-r-c)*exp(I*pi*r/2)*gamma(r+c)/zeta(s+r+c),(r,-I*oo,I*oo)))"
   ]
  },
  {
   "cell_type": "code",
   "execution_count": 25,
   "metadata": {},
   "outputs": [
    {
     "data": {
      "text/latex": [
       "$\\displaystyle - \\frac{i e^{\\frac{i \\pi}{4}} \\int\\limits_{-\\infty}^{\\infty} \\frac{\\left(\\frac{x}{2 \\pi}\\right)^{- i r - 0.5} e^{- \\frac{\\pi r}{2}} \\Gamma\\left(i r + 0.5\\right)}{\\zeta\\left(i r + s + 0.5\\right)}\\, dr}{2 \\pi}$"
      ],
      "text/plain": [
       "-I*exp(I*pi/4)*Integral((x/(2*pi))**(-I*r - 0.5)*exp(-pi*r/2)*gamma(I*r + 0.5)/zeta(I*r + s + 0.5), (r, -oo, oo))/(2*pi)"
      ]
     },
     "execution_count": 25,
     "metadata": {},
     "output_type": "execute_result"
    }
   ],
   "source": [
    "exp(I*pi/4)/(2*I*pi)*Integral((x/(2*pi))**(-I*r-1/2)*exp(-pi*r/2)*gamma(I*r+1/2)/zeta(s+I*r+1/2),(r,-oo,oo))"
   ]
  },
  {
   "cell_type": "code",
   "execution_count": 30,
   "metadata": {},
   "outputs": [
    {
     "data": {
      "text/latex": [
       "$\\displaystyle \\left(0.112539539519638 - 0.112539539519638 i\\right) \\left(2.63225587596163 - 1.94605947855431 i\\right)$"
      ],
      "text/plain": [
       "(0.112539539519638 - 0.112539539519638*I)*(2.63225587596163 - 1.94605947855431*I)"
      ]
     },
     "execution_count": 30,
     "metadata": {},
     "output_type": "execute_result"
    }
   ],
   "source": [
    "simplify((exp(I*pi/4)/(2*I*pi)).evalf()*Integral(\n",
    "    (x/(2*pi))**(-I*r-1/2)*exp(-pi*r/2)*gamma(I*r+1/2)/zeta(s+I*r+1/2),\n",
    "    (r,-N,N)).subs([(s,2),(N,10),(x,2)]).evalf().doit())\n"
   ]
  },
  {
   "cell_type": "code",
   "execution_count": 32,
   "metadata": {},
   "outputs": [
    {
     "data": {
      "text/latex": [
       "$\\displaystyle 0.0772242265842543 - 0.515241501772912 i$"
      ],
      "text/plain": [
       "0.0772242265842543 - 0.515241501772912*I"
      ]
     },
     "execution_count": 32,
     "metadata": {},
     "output_type": "execute_result"
    }
   ],
   "source": [
    "((0.112539539519638-0.112539539519638*I)*(2.63225587596163-1.94605947855431*I)).simplify()"
   ]
  },
  {
   "cell_type": "code",
   "execution_count": 39,
   "metadata": {},
   "outputs": [
    {
     "data": {
      "image/png": "[encoded data removed]",
      "text/plain": [
       "<Figure size 432x288 with 1 Axes>"
      ]
     },
     "metadata": {
      "needs_background": "light"
     },
     "output_type": "display_data"
    },
    {
     "data": {
      "text/plain": [
       "<sympy.plotting.plot.Plot at 0x7fa545a6aa60>"
      ]
     },
     "execution_count": 39,
     "metadata": {},
     "output_type": "execute_result"
    }
   ],
   "source": [
    "plot(abs(((x/(2*pi))**(-I*r-1/2)*exp(-pi*r/2)*gamma(I*r+1/2)/zeta(s+I*r+1/2)).subs([(s,4),(N,10),(x,2)])),(r,-200,0))"
   ]
  },
  {
   "cell_type": "code",
   "execution_count": 15,
   "metadata": {},
   "outputs": [
    {
     "data": {
      "text/latex": [
       "$\\displaystyle \\pi^{- \\frac{s}{2}} \\Gamma\\left(\\frac{s}{2}\\right) \\zeta\\left(s\\right) = \\pi^{\\frac{s}{2} - \\frac{1}{2}} \\Gamma\\left(\\frac{1}{2} - \\frac{s}{2}\\right) \\zeta\\left(1 - s\\right)$"
      ],
      "text/plain": [
       "Eq(pi**(-s/2)*gamma(s/2)*zeta(s), pi**(s/2 - 1/2)*gamma(1/2 - s/2)*zeta(1 - s))"
      ]
     },
     "execution_count": 15,
     "metadata": {},
     "output_type": "execute_result"
    }
   ],
   "source": [
    "Eq(gamma(s/2)*pi**(-s/2)*zeta(s),gamma((1-s)/2)*pi**(-(1-s)/2)*zeta((1-s)))"
   ]
  },
  {
   "cell_type": "code",
   "execution_count": 21,
   "metadata": {},
   "outputs": [
    {
     "data": {
      "text/latex": [
       "$\\displaystyle \\zeta\\left(c + r + s\\right) = \\frac{\\pi^{\\frac{c}{2} + \\frac{r}{2} + \\frac{s}{2}} \\pi^{\\frac{c}{2} + \\frac{r}{2} + \\frac{s}{2} - \\frac{1}{2}} \\Gamma\\left(- \\frac{c}{2} - \\frac{r}{2} - \\frac{s}{2} + \\frac{1}{2}\\right) \\zeta\\left(- c - r - s + 1\\right)}{\\Gamma\\left(\\frac{c}{2} + \\frac{r}{2} + \\frac{s}{2}\\right)}$"
      ],
      "text/plain": [
       "Eq(zeta(c + r + s), pi**(c/2 + r/2 + s/2)*pi**(c/2 + r/2 + s/2 - 1/2)*gamma(-c/2 - r/2 - s/2 + 1/2)*zeta(-c - r - s + 1)/gamma(c/2 + r/2 + s/2))"
      ]
     },
     "execution_count": 21,
     "metadata": {},
     "output_type": "execute_result"
    }
   ],
   "source": [
    "Eq(zeta(s),(gamma((1-s)/2)*pi**(-(1-s)/2)*zeta((1-s)))/(gamma(s/2)*pi**(-s/2))).subs(s,s+r+c)"
   ]
  },
  {
   "cell_type": "code",
   "execution_count": 69,
   "metadata": {},
   "outputs": [
    {
     "data": {
      "text/latex": [
       "$\\displaystyle 2 i \\pi S{\\left(2 i \\pi x,s \\right)} = \\int\\limits_{c - \\infty i}^{c + \\infty i} \\frac{x^{- r} \\Gamma\\left(r\\right)}{\\zeta\\left(r + s\\right)}\\, dr$"
      ],
      "text/plain": [
       "Eq(2*I*pi*S(2*I*pi*x, s), Integral(x**(-r)*gamma(r)/zeta(r + s), (r, c - oo*I, c + oo*I)))"
      ]
     },
     "execution_count": 69,
     "metadata": {},
     "output_type": "execute_result"
    }
   ],
   "source": [
    "Eq(2*I*pi*S(2*I*pi*x,s), Integral(x**(-r)*gamma(r)/zeta(s+r),(r,c-I*oo,c+I*oo)))"
   ]
  },
  {
   "cell_type": "code",
   "execution_count": 81,
   "metadata": {},
   "outputs": [
    {
     "data": {
      "text/latex": [
       "$\\displaystyle 2 i \\pi S{\\left(2 i \\pi x,s \\right)} = \\int\\limits_{-\\infty}^{\\infty} \\frac{x^{- c - i r} \\Gamma\\left(c + i r\\right)}{\\zeta\\left(c + i r + s\\right)}\\, dr$"
      ],
      "text/plain": [
       "Eq(2*I*pi*S(2*I*pi*x, s), Integral(x**(-c - I*r)*gamma(c + I*r)/zeta(c + I*r + s), (r, -oo, oo)))"
      ]
     },
     "execution_count": 81,
     "metadata": {},
     "output_type": "execute_result"
    }
   ],
   "source": [
    "Eq(2*I*pi*S(2*I*pi*x,s), Integral(x**(-I*r-c)*gamma(I*r+c)/zeta(s+I*r+c),(r,-oo,oo)))"
   ]
  },
  {
   "cell_type": "code",
   "execution_count": 86,
   "metadata": {},
   "outputs": [
    {
     "data": {
      "text/latex": [
       "$\\displaystyle 2 i \\pi S{\\left(2 i \\pi x,s \\right)} = \\int\\limits_{-\\infty}^{\\infty} \\frac{x^{- c - i r} \\Gamma\\left(c + i r\\right)}{\\zeta\\left(c + i r + s\\right)}\\, dr$"
      ],
      "text/plain": [
       "Eq(2*I*pi*S(2*I*pi*x, s), Integral(x**(-c - I*r)*gamma(c + I*r)/zeta(c + I*r + s), (r, -oo, oo)))"
      ]
     },
     "execution_count": 86,
     "metadata": {},
     "output_type": "execute_result"
    }
   ],
   "source": [
    "Eq(2*I*pi*S(2*I*pi*x,s), Integral(x**(-I*r-c)*gamma(I*r+c)/zeta(s+I*r+c),(r,-oo,oo)))"
   ]
  },
  {
   "cell_type": "code",
   "execution_count": 90,
   "metadata": {},
   "outputs": [
    {
     "data": {
      "text/latex": [
       "$\\displaystyle 2 i \\pi S{\\left(2 i \\pi,2 \\right)} = \\int\\limits_{-\\infty}^{\\infty} \\frac{\\Gamma\\left(i r + 0.5\\right)}{\\zeta\\left(i r + 2.5\\right)}\\, dr$"
      ],
      "text/plain": [
       "Eq(2*I*pi*S(2*I*pi, 2), Integral(gamma(I*r + 0.5)/zeta(I*r + 2.5), (r, -oo, oo)))"
      ]
     },
     "execution_count": 90,
     "metadata": {},
     "output_type": "execute_result"
    }
   ],
   "source": [
    "Eq(2*I*pi*S(2*I*pi*x,s), Integral(x**(-I*r-c)*gamma(I*r+c)/zeta(s+I*r+c),(r,-oo,oo))).subs([(s,2),(c,1/2),(x,1)])"
   ]
  },
  {
   "cell_type": "code",
   "execution_count": 99,
   "metadata": {},
   "outputs": [
    {
     "data": {
      "text/latex": [
       "$\\displaystyle 2 i \\pi S{\\left(2 i \\pi x,s \\right)} = -4.66894669043788 + 2.0 \\cdot 10^{-86} i$"
      ],
      "text/plain": [
       "Eq(2*I*pi*S(2*I*pi*x, s), -4.66894669043788 + 0.e-86*I)"
      ]
     },
     "execution_count": 99,
     "metadata": {},
     "output_type": "execute_result"
    }
   ],
   "source": [
    "Eq(2*I*pi*S(2*I*pi*x,s), \n",
    "   Integral(x**(-I*r-c)*gamma(I*r+c)/zeta(s+I*r+c),(r,-N,N)).subs([(s,-2),(c,1/2),(x,1),(N,10)]).evalf().doit()\n",
    "  )"
   ]
  },
  {
   "cell_type": "code",
   "execution_count": null,
   "metadata": {},
   "outputs": [],
   "source": [
    "Eq(2*I*pi*S(2*I*pi*x,s), \n",
    "   Integral(x**(-I*r-c)*gamma(I*r+c)/zeta(s+I*r+c),(r,-N,N)).subs([(s,2),(c,1/2),(x,1),(N,10)]).evalf().doit()\n",
    "  )"
   ]
  },
  {
   "cell_type": "code",
   "execution_count": 97,
   "metadata": {},
   "outputs": [
    {
     "data": {
      "text/latex": [
       "$\\displaystyle 0.143936427077189 - 0.722099743531673 i$"
      ],
      "text/plain": [
       "0.143936427077189 - 0.722099743531673*I"
      ]
     },
     "execution_count": 97,
     "metadata": {},
     "output_type": "execute_result"
    }
   ],
   "source": [
    "zeta(I*1+0.5).evalf()"
   ]
  },
  {
   "cell_type": "code",
   "execution_count": 94,
   "metadata": {},
   "outputs": [
    {
     "data": {
      "image/png": "[encoded data removed]",
      "text/plain": [
       "<Figure size 432x288 with 1 Axes>"
      ]
     },
     "metadata": {
      "needs_background": "light"
     },
     "output_type": "display_data"
    },
    {
     "data": {
      "text/plain": [
       "<sympy.plotting.plot.Plot at 0x7f2021be0550>"
      ]
     },
     "execution_count": 94,
     "metadata": {},
     "output_type": "execute_result"
    }
   ],
   "source": [
    "plot(im(x**(-I*r-c)*gamma(I*r+c)/zeta(s+I*r+c)).subs([(s,2),(c,1/2),(x,1)]),(r,-10,10))"
   ]
  },
  {
   "cell_type": "code",
   "execution_count": 84,
   "metadata": {},
   "outputs": [
    {
     "data": {
      "text/latex": [
       "$\\displaystyle \\frac{\\left|{\\frac{\\Gamma\\left(i r + 0.5\\right)}{\\zeta\\left(i r + 2.5\\right)}}\\right|}{\\left|{x^{i r + 0.5}}\\right|}$"
      ],
      "text/plain": [
       "Abs(gamma(I*r + 0.5)/zeta(I*r + 2.5))/Abs(x**(I*r + 0.5))"
      ]
     },
     "execution_count": 84,
     "metadata": {},
     "output_type": "execute_result"
    }
   ],
   "source": [
    "abs(x**(-I*r-c)*gamma(I*r+c)/zeta(s+I*r+c)).subs([(s,2),(c,1/2)])"
   ]
  },
  {
   "cell_type": "code",
   "execution_count": 48,
   "metadata": {},
   "outputs": [
    {
     "data": {
      "text/latex": [
       "$\\displaystyle - \\frac{i \\int\\limits_{c - \\infty i}^{c + \\infty i} \\frac{x^{- s} \\mu{\\left(s \\right)}}{e^{2 i \\pi s} - 1}\\, ds}{2 \\pi}$"
      ],
      "text/plain": [
       "-I*Integral(x**(-s)*mu(s)/(exp(2*I*pi*s) - 1), (s, c - oo*I, c + oo*I))/(2*pi)"
      ]
     },
     "execution_count": 48,
     "metadata": {},
     "output_type": "execute_result"
    }
   ],
   "source": [
    "1/(2*pi*I)*Integral(x**(-s)*mu(s)/(exp(s*2*I*pi)-1),(s,c-I*oo,c+I*oo))"
   ]
  },
  {
   "cell_type": "code",
   "execution_count": 45,
   "metadata": {},
   "outputs": [
    {
     "data": {
      "text/latex": [
       "$\\displaystyle 2 i \\pi f{\\left(x \\right)} = \\int\\limits_{c - \\infty i}^{c + \\infty i} x^{- s} \\phi{\\left(s \\right)}\\, ds$"
      ],
      "text/plain": [
       "Eq(2*I*pi*f(x), Integral(x**(-s)*phi(s), (s, c - oo*I, c + oo*I)))"
      ]
     },
     "execution_count": 45,
     "metadata": {},
     "output_type": "execute_result"
    }
   ],
   "source": [
    "Eq(I*2*pi*f(x),Integral(x**(-s)*phi(s),(s,-oo*I+c,oo*I+c)))"
   ]
  },
  {
   "cell_type": "code",
   "execution_count": 5,
   "metadata": {},
   "outputs": [
    {
     "data": {
      "text/latex": [
       "$\\displaystyle S{\\left(x + \\frac{1}{2},s \\right)} = \\sum_{n=1}^{\\infty} \\left(-1\\right)^{n} n^{- s} \\mu{\\left(n \\right)} e^{2 i \\pi n x}$"
      ],
      "text/plain": [
       "Eq(S(x + 1/2, s), Sum((-1)**n*n**(-s)*mu(n)*exp(2*I*pi*n*x), (n, 1, oo)))"
      ]
     },
     "execution_count": 5,
     "metadata": {},
     "output_type": "execute_result"
    }
   ],
   "source": [
    "Eq(S(x+Rational(1,2),s), Sum(mu(n)*(-1)**n*exp(2*I*pi*n*x)/n**s,(n,1,oo)))"
   ]
  },
  {
   "cell_type": "code",
   "execution_count": 6,
   "metadata": {},
   "outputs": [
    {
     "data": {
      "text/latex": [
       "$\\displaystyle S{\\left(x + \\frac{1}{2},s \\right)} = - \\sum_{n=1}^{\\infty} n^{- s} \\mu{\\left(n \\right)} e^{2 i \\pi n x} + 2 \\cdot 2^{- s} \\sum_{n=1}^{\\infty} n^{- s} \\mu{\\left(2 n \\right)} e^{4 i \\pi n x}$"
      ],
      "text/plain": [
       "Eq(S(x + 1/2, s), -Sum(n**(-s)*mu(n)*exp(2*I*pi*n*x), (n, 1, oo)) + 2*2**(-s)*Sum(n**(-s)*mu(2*n)*exp(4*I*pi*n*x), (n, 1, oo)))"
      ]
     },
     "execution_count": 6,
     "metadata": {},
     "output_type": "execute_result"
    }
   ],
   "source": [
    "Eq(S(x+Rational(1,2),s), \n",
    "  -Sum(mu(n)*exp(2*I*pi*n*x)/n**s,(n,1,oo)) + \n",
    "   2/2**s*Sum(mu(2*n)*exp(2*I*pi*n*2*x)/n**s,(n,1,oo))\n",
    "  )"
   ]
  },
  {
   "cell_type": "code",
   "execution_count": 17,
   "metadata": {},
   "outputs": [
    {
     "data": {
      "text/latex": [
       "$\\displaystyle S{\\left(x + \\frac{1}{2},s \\right)} = - \\sum_{n=1}^{\\infty} n^{- s} \\mu{\\left(n \\right)} e^{2 i \\pi n x} + 2 \\cdot 2^{- s} \\sum_{n=1}^{\\infty} n^{- s} \\left(1 - \\left(-1\\right)^{n}\\right) \\mu{\\left(2 \\right)} \\mu{\\left(n \\right)} e^{4 i \\pi n x}$"
      ],
      "text/plain": [
       "Eq(S(x + 1/2, s), -Sum(n**(-s)*mu(n)*exp(2*I*pi*n*x), (n, 1, oo)) + 2*2**(-s)*Sum(n**(-s)*(1 - (-1)**n)*mu(2)*mu(n)*exp(4*I*pi*n*x), (n, 1, oo)))"
      ]
     },
     "execution_count": 17,
     "metadata": {},
     "output_type": "execute_result"
    }
   ],
   "source": [
    "Eq(S(x+Rational(1,2),s), \n",
    "  -Sum(mu(n)*exp(2*I*pi*n*x)/n**s,(n,1,oo)) + \n",
    "   2/2**s*Sum(mu(2)*mu(n)*(1-(-1)**n)*exp(2*I*pi*n*2*x)/n**s,(n,1,oo))\n",
    "  )"
   ]
  },
  {
   "cell_type": "code",
   "execution_count": 20,
   "metadata": {},
   "outputs": [
    {
     "data": {
      "text/latex": [
       "$\\displaystyle S{\\left(x + \\frac{1}{2},s \\right)} = - \\sum_{n=1}^{\\infty} n^{- s} \\mu{\\left(n \\right)} e^{2 i \\pi n x} - 2 \\cdot 2^{- s} \\sum_{n=1}^{\\infty} n^{- s} \\mu{\\left(n \\right)} e^{4 i \\pi n x} + 2 \\cdot 2^{- s} \\sum_{n=1}^{\\infty} n^{- s} \\mu{\\left(n \\right)} e^{2 i \\pi n \\left(2 x + \\frac{1}{2}\\right)}$"
      ],
      "text/plain": [
       "Eq(S(x + 1/2, s), -Sum(n**(-s)*mu(n)*exp(2*I*pi*n*x), (n, 1, oo)) - 2*2**(-s)*Sum(n**(-s)*mu(n)*exp(4*I*pi*n*x), (n, 1, oo)) + 2*2**(-s)*Sum(n**(-s)*mu(n)*exp(2*I*pi*n*(2*x + 1/2)), (n, 1, oo)))"
      ]
     },
     "execution_count": 20,
     "metadata": {},
     "output_type": "execute_result"
    }
   ],
   "source": [
    "Eq(S(x+Rational(1,2),s), \n",
    "  -Sum(mu(n)*exp(2*I*pi*n*x)/n**s,(n,1,oo)) - \n",
    "   2/2**s*Sum(mu(n)*exp(2*I*pi*n*2*x)/n**s,(n,1,oo)) + \n",
    "   2/2**s*Sum(mu(n)*exp(2*I*pi*n*(2*x+Rational(1,2)))/n**s,(n,1,oo))\n",
    "  )"
   ]
  },
  {
   "cell_type": "code",
   "execution_count": 21,
   "metadata": {},
   "outputs": [
    {
     "data": {
      "text/latex": [
       "$\\displaystyle S{\\left(x + \\frac{1}{2},s \\right)} = - 2^{1 - s} S{\\left(2 x,s \\right)} + 2^{1 - s} S{\\left(2 x + \\frac{1}{2},s \\right)} - S{\\left(x,s \\right)}$"
      ],
      "text/plain": [
       "Eq(S(x + 1/2, s), -2**(1 - s)*S(2*x, s) + 2**(1 - s)*S(2*x + 1/2, s) - S(x, s))"
      ]
     },
     "execution_count": 21,
     "metadata": {},
     "output_type": "execute_result"
    }
   ],
   "source": [
    "Eq(S(x+Rational(1,2),s), -S(x,s) - 2**(1-s)*S(2*x,s) + 2**(1-s)*S(2*x +Rational(1,2),s))"
   ]
  },
  {
   "cell_type": "code",
   "execution_count": 16,
   "metadata": {},
   "outputs": [
    {
     "data": {
      "text/latex": [
       "$\\displaystyle -1$"
      ],
      "text/plain": [
       "-1"
      ]
     },
     "execution_count": 16,
     "metadata": {},
     "output_type": "execute_result"
    }
   ],
   "source": [
    "mobius(2)*mobius(6) + mobius(2)*mobius(2*6)"
   ]
  },
  {
   "cell_type": "code",
   "execution_count": 18,
   "metadata": {},
   "outputs": [
    {
     "data": {
      "text/latex": [
       "$\\displaystyle -1$"
      ],
      "text/plain": [
       "-1"
      ]
     },
     "execution_count": 18,
     "metadata": {},
     "output_type": "execute_result"
    }
   ],
   "source": [
    "mobius(2)"
   ]
  },
  {
   "cell_type": "code",
   "execution_count": null,
   "metadata": {},
   "outputs": [],
   "source": []
  }
 ],
 "metadata": {
  "kernelspec": {
   "display_name": "Python 3",
   "language": "python",
   "name": "python3"
  },
  "language_info": {
   "codemirror_mode": {
    "name": "ipython",
    "version": 3
   },
   "file_extension": ".py",
   "mimetype": "text/x-python",
   "name": "python",
   "nbconvert_exporter": "python",
   "pygments_lexer": "ipython3",
   "version": "3.8.10"
  }
 },
 "nbformat": 4,
 "nbformat_minor": 4
}
