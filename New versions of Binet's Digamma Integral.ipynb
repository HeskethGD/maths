{
 "cells": [
  {
   "cell_type": "markdown",
   "metadata": {},
   "source": [
    "# New versions of Binet's Digamma Integral"
   ]
  },
  {
   "cell_type": "code",
   "execution_count": 1,
   "metadata": {},
   "outputs": [],
   "source": [
    "from sympy import *"
   ]
  },
  {
   "cell_type": "code",
   "execution_count": 2,
   "metadata": {},
   "outputs": [],
   "source": [
    "x, y, n, K, k, epsilon, z, s, a, R, N, r, T = symbols('x, y, n, K, k, epsilon, z, s, a, R, N, r, T')\n",
    "alpha, beta, delta, t, mu, nu, epsilon, theta, phi = symbols('alpha, beta, delta, t, mu, nu, epsilon, theta, phi')"
   ]
  },
  {
   "cell_type": "markdown",
   "metadata": {},
   "source": [
    "## Binet"
   ]
  },
  {
   "cell_type": "code",
   "execution_count": 4,
   "metadata": {},
   "outputs": [
    {
     "data": {
      "text/latex": [
       "$\\displaystyle \\operatorname{polygamma}{\\left(0,z \\right)} = \\log{\\left(z \\right)} - 2 \\int\\limits_{0}^{\\infty} \\frac{t}{\\left(t^{2} + z^{2}\\right) \\left(e^{2 \\pi t} - 1\\right)}\\, dt - \\frac{1}{2 z}$"
      ],
      "text/plain": [
       "Eq(polygamma(0, z), log(z) - 2*Integral(t/((t**2 + z**2)*(exp(2*pi*t) - 1)), (t, 0, oo)) - 1/(2*z))"
      ]
     },
     "execution_count": 4,
     "metadata": {},
     "output_type": "execute_result"
    }
   ],
   "source": [
    "Eq(digamma(z),ln(z) - 1/(2*z) - 2*Integral(t/(t**2 + z**2)*1/(exp(2*pi*t)-1),(t,0,oo)))"
   ]
  },
  {
   "cell_type": "code",
   "execution_count": 5,
   "metadata": {},
   "outputs": [
    {
     "data": {
      "text/latex": [
       "$\\displaystyle \\frac{2 t}{t^{2} + z^{2}} = \\frac{1}{t + i z} + \\frac{1}{t - i z}$"
      ],
      "text/plain": [
       "Eq(2*t/(t**2 + z**2), 1/(t + I*z) + 1/(t - I*z))"
      ]
     },
     "execution_count": 5,
     "metadata": {},
     "output_type": "execute_result"
    }
   ],
   "source": [
    "Eq((1/(t+I*z) + 1/(t-I*z)).simplify(),(1/(t+I*z) + 1/(t-I*z)))"
   ]
  },
  {
   "cell_type": "markdown",
   "metadata": {},
   "source": [
    "## New version 1"
   ]
  },
  {
   "cell_type": "code",
   "execution_count": 9,
   "metadata": {},
   "outputs": [
    {
     "data": {
      "text/latex": [
       "$\\displaystyle \\frac{\\partial}{\\partial s} \\frac{1}{\\left(t + i z\\right) \\left(e^{s \\left(t + i z\\right) + 2 \\pi t} - 1\\right)} = \\frac{\\partial}{\\partial t} \\frac{1}{\\left(s + 2 \\pi\\right) \\left(e^{s \\left(t + i z\\right) + 2 \\pi t} - 1\\right)}$"
      ],
      "text/plain": [
       "Eq(Derivative(1/((t + I*z)*(exp(s*(t + I*z) + 2*pi*t) - 1)), s), Derivative(1/((s + 2*pi)*(exp(s*(t + I*z) + 2*pi*t) - 1)), t))"
      ]
     },
     "execution_count": 9,
     "metadata": {},
     "output_type": "execute_result"
    }
   ],
   "source": [
    "Eq(Derivative(1/(exp(2*pi*t+(t+I*z)*s)-1)/(t+I*z),s),Derivative(1/(exp(2*pi*t+(t+I*z)*s)-1)/(s+2*pi),t))"
   ]
  },
  {
   "cell_type": "code",
   "execution_count": 10,
   "metadata": {},
   "outputs": [
    {
     "data": {
      "text/latex": [
       "$\\displaystyle \\frac{\\partial}{\\partial s} \\frac{1}{\\left(t - i z\\right) \\left(e^{s \\left(t - i z\\right) + 2 \\pi t} - 1\\right)} = \\frac{\\partial}{\\partial t} \\frac{1}{\\left(s + 2 \\pi\\right) \\left(e^{s \\left(t - i z\\right) + 2 \\pi t} - 1\\right)}$"
      ],
      "text/plain": [
       "Eq(Derivative(1/((t - I*z)*(exp(s*(t - I*z) + 2*pi*t) - 1)), s), Derivative(1/((s + 2*pi)*(exp(s*(t - I*z) + 2*pi*t) - 1)), t))"
      ]
     },
     "execution_count": 10,
     "metadata": {},
     "output_type": "execute_result"
    }
   ],
   "source": [
    "Eq(Derivative(1/(exp(2*pi*t+(t+I*z)*s)-1)/(t+I*z),s),Derivative(1/(exp(2*pi*t+(t+I*z)*s)-1)/(s+2*pi),t)).subs(z,-z)"
   ]
  },
  {
   "cell_type": "code",
   "execution_count": 13,
   "metadata": {},
   "outputs": [
    {
     "data": {
      "text/latex": [
       "$\\displaystyle \\int\\limits_{0}^{\\infty} \\frac{\\partial}{\\partial s} \\frac{1}{\\left(t + i z\\right) \\left(e^{s \\left(t + i z\\right) + 2 \\pi t} - 1\\right)}\\, ds = \\int\\limits_{0}^{\\infty} \\frac{\\partial}{\\partial t} \\frac{1}{\\left(s + 2 \\pi\\right) \\left(e^{s \\left(t + i z\\right) + 2 \\pi t} - 1\\right)}\\, ds$"
      ],
      "text/plain": [
       "Eq(Integral(Derivative(1/((t + I*z)*(exp(s*(t + I*z) + 2*pi*t) - 1)), s), (s, 0, oo)), Integral(Derivative(1/((s + 2*pi)*(exp(s*(t + I*z) + 2*pi*t) - 1)), t), (s, 0, oo)))"
      ]
     },
     "execution_count": 13,
     "metadata": {},
     "output_type": "execute_result"
    }
   ],
   "source": [
    "Eq(Integral(Derivative(1/(exp(2*pi*t+(t+I*z)*s)-1)/(t+I*z),s),(s,0,oo)),\n",
    "            Integral(Derivative(1/(exp(2*pi*t+(t+I*z)*s)-1)/(s+2*pi),t),(s,0,oo)))"
   ]
  },
  {
   "cell_type": "code",
   "execution_count": 15,
   "metadata": {},
   "outputs": [
    {
     "data": {
      "text/latex": [
       "$\\displaystyle - \\frac{1}{\\left(t + i z\\right) \\left(e^{2 \\pi t} - 1\\right)} = \\int\\limits_{0}^{\\infty} \\frac{\\partial}{\\partial t} \\frac{1}{\\left(s + 2 \\pi\\right) \\left(e^{s \\left(t + i z\\right) + 2 \\pi t} - 1\\right)}\\, ds$"
      ],
      "text/plain": [
       "Eq(-1/((t + I*z)*(exp(2*pi*t) - 1)), Integral(Derivative(1/((s + 2*pi)*(exp(s*(t + I*z) + 2*pi*t) - 1)), t), (s, 0, oo)))"
      ]
     },
     "execution_count": 15,
     "metadata": {},
     "output_type": "execute_result"
    }
   ],
   "source": [
    "Eq(-1/(exp(2*pi*t)-1)/(t+I*z), Integral(Derivative(1/(exp(2*pi*t+(t+I*z)*s)-1)/(s+2*pi),t),(s,0,oo)))"
   ]
  },
  {
   "cell_type": "code",
   "execution_count": 16,
   "metadata": {},
   "outputs": [
    {
     "data": {
      "text/latex": [
       "$\\displaystyle - \\frac{1}{\\left(t - i z\\right) \\left(e^{2 \\pi t} - 1\\right)} = \\int\\limits_{0}^{\\infty} \\frac{\\partial}{\\partial t} \\frac{1}{\\left(s + 2 \\pi\\right) \\left(e^{s \\left(t - i z\\right) + 2 \\pi t} - 1\\right)}\\, ds$"
      ],
      "text/plain": [
       "Eq(-1/((t - I*z)*(exp(2*pi*t) - 1)), Integral(Derivative(1/((s + 2*pi)*(exp(s*(t - I*z) + 2*pi*t) - 1)), t), (s, 0, oo)))"
      ]
     },
     "execution_count": 16,
     "metadata": {},
     "output_type": "execute_result"
    }
   ],
   "source": [
    "Eq(-1/(exp(2*pi*t)-1)/(t+I*z), Integral(Derivative(1/(exp(2*pi*t+(t+I*z)*s)-1)/(s+2*pi),t),(s,0,oo))).subs(z,-z)"
   ]
  },
  {
   "cell_type": "code",
   "execution_count": 17,
   "metadata": {},
   "outputs": [
    {
     "data": {
      "text/latex": [
       "$\\displaystyle - \\frac{2 t}{\\left(t^{2} + z^{2}\\right) \\left(e^{2 \\pi t} - 1\\right)} = \\int\\limits_{0}^{\\infty} \\frac{\\partial}{\\partial t} \\left(\\frac{1}{\\left(s + 2 \\pi\\right) \\left(e^{s \\left(t + i z\\right) + 2 \\pi t} - 1\\right)} + \\frac{1}{\\left(s + 2 \\pi\\right) \\left(e^{s \\left(t - i z\\right) + 2 \\pi t} - 1\\right)}\\right)\\, ds$"
      ],
      "text/plain": [
       "Eq(-2*t/((t**2 + z**2)*(exp(2*pi*t) - 1)), Integral(Derivative(1/((s + 2*pi)*(exp(s*(t + I*z) + 2*pi*t) - 1)) + 1/((s + 2*pi)*(exp(s*(t - I*z) + 2*pi*t) - 1)), t), (s, 0, oo)))"
      ]
     },
     "execution_count": 17,
     "metadata": {},
     "output_type": "execute_result"
    }
   ],
   "source": [
    "Eq(-2*t/(exp(2*pi*t)-1)/(t**2+z**2),\n",
    "            Integral(Derivative(1/(exp(2*pi*t+(t+I*z)*s)-1)/(s+2*pi)+1/(exp(2*pi*t+(t-I*z)*s)-1)/(s+2*pi),t),(s,0,oo)))"
   ]
  },
  {
   "cell_type": "code",
   "execution_count": 18,
   "metadata": {},
   "outputs": [
    {
     "data": {
      "text/latex": [
       "$\\displaystyle - \\int\\limits_{\\epsilon}^{T} \\frac{2 t}{\\left(t^{2} + z^{2}\\right) \\left(e^{2 \\pi t} - 1\\right)}\\, dt = \\int\\limits_{0}^{\\infty} \\left(- \\frac{1}{\\left(s + 2 \\pi\\right) \\left(e^{2 \\pi \\epsilon + s \\left(\\epsilon + i z\\right)} - 1\\right)} - \\frac{1}{\\left(s + 2 \\pi\\right) \\left(e^{2 \\pi \\epsilon + s \\left(\\epsilon - i z\\right)} - 1\\right)} + \\frac{1}{\\left(s + 2 \\pi\\right) \\left(e^{2 \\pi T + s \\left(T + i z\\right)} - 1\\right)} + \\frac{1}{\\left(s + 2 \\pi\\right) \\left(e^{2 \\pi T + s \\left(T - i z\\right)} - 1\\right)}\\right)\\, ds$"
      ],
      "text/plain": [
       "Eq(-Integral(2*t/((t**2 + z**2)*(exp(2*pi*t) - 1)), (t, epsilon, T)), Integral(-1/((s + 2*pi)*(exp(2*pi*epsilon + s*(epsilon + I*z)) - 1)) - 1/((s + 2*pi)*(exp(2*pi*epsilon + s*(epsilon - I*z)) - 1)) + 1/((s + 2*pi)*(exp(2*pi*T + s*(T + I*z)) - 1)) + 1/((s + 2*pi)*(exp(2*pi*T + s*(T - I*z)) - 1)), (s, 0, oo)))"
      ]
     },
     "execution_count": 18,
     "metadata": {},
     "output_type": "execute_result"
    }
   ],
   "source": [
    "Eq(-Integral(2*t/(exp(2*pi*t)-1)/(t**2+z**2),(t,epsilon,T)),\n",
    "Integral((1/(exp(2*pi*t+(t+I*z)*s)-1)/(s+2*pi)+1/(exp(2*pi*t+(t-I*z)*s)-1)/(s+2*pi)).subs(t,T) - \n",
    "         (1/(exp(2*pi*t+(t+I*z)*s)-1)/(s+2*pi)+1/(exp(2*pi*t+(t-I*z)*s)-1)/(s+2*pi)).subs(t,epsilon),(s,0,oo))\n",
    "  )"
   ]
  },
  {
   "cell_type": "code",
   "execution_count": 7,
   "metadata": {},
   "outputs": [
    {
     "data": {
      "text/latex": [
       "$\\displaystyle - \\int\\limits_{\\epsilon}^{\\infty} \\frac{2 t}{\\left(t^{2} + z^{2}\\right) \\left(e^{2 \\pi t} - 1\\right)}\\, dt = \\int\\limits_{0}^{\\infty} \\left(- \\frac{1}{\\left(s + 2 \\pi\\right) \\left(e^{\\epsilon \\left(s + 2 \\pi\\right) + i s z} - 1\\right)} - \\frac{1}{\\left(s + 2 \\pi\\right) \\left(e^{\\epsilon \\left(s + 2 \\pi\\right) - i s z} - 1\\right)}\\right)\\, ds$"
      ],
      "text/plain": [
       "Eq(-Integral(2*t/((t**2 + z**2)*(exp(2*pi*t) - 1)), (t, epsilon, oo)), Integral(-1/((s + 2*pi)*(exp(epsilon*(s + 2*pi) + I*s*z) - 1)) - 1/((s + 2*pi)*(exp(epsilon*(s + 2*pi) - I*s*z) - 1)), (s, 0, oo)))"
      ]
     },
     "execution_count": 7,
     "metadata": {},
     "output_type": "execute_result"
    }
   ],
   "source": [
    "Eq(-Integral(2*t/(exp(2*pi*t)-1)/(t**2+z**2),(t,epsilon,oo)),\n",
    "Integral( \n",
    "         -(1/(exp(((2*pi+s)*t+I*z*s))-1)/(s+2*pi)+1/(exp((2*pi+s)*t-I*z*s)-1)/(s+2*pi)).subs(t,epsilon),(s,0,oo))\n",
    "  )"
   ]
  },
  {
   "cell_type": "code",
   "execution_count": 6,
   "metadata": {},
   "outputs": [
    {
     "data": {
      "text/latex": [
       "$\\displaystyle - \\int\\limits_{\\epsilon}^{\\infty} \\frac{2 t}{\\left(t^{2} + z^{2}\\right) \\left(e^{2 \\pi t} - 1\\right)}\\, dt = \\int\\limits_{0}^{\\infty} \\left(- \\frac{1}{\\left(s + 1\\right) \\left(e^{2 \\pi \\epsilon \\left(s + 1\\right) + 2 i \\pi s z} - 1\\right)} - \\frac{1}{\\left(s + 1\\right) \\left(e^{2 \\pi \\epsilon \\left(s + 1\\right) - 2 i \\pi s z} - 1\\right)}\\right)\\, ds$"
      ],
      "text/plain": [
       "Eq(-Integral(2*t/((t**2 + z**2)*(exp(2*pi*t) - 1)), (t, epsilon, oo)), Integral(-1/((s + 1)*(exp(2*pi*epsilon*(s + 1) + 2*I*pi*s*z) - 1)) - 1/((s + 1)*(exp(2*pi*epsilon*(s + 1) - 2*I*pi*s*z) - 1)), (s, 0, oo)))"
      ]
     },
     "execution_count": 6,
     "metadata": {},
     "output_type": "execute_result"
    }
   ],
   "source": [
    "Eq(-Integral(2*t/(exp(2*pi*t)-1)/(t**2+z**2),(t,epsilon,oo)),\n",
    "Integral( \n",
    "         (-(1/(exp((2*pi*(1+s)*epsilon+I*z*s*2*pi))-1)/(s+1)+1/(exp(2*pi*(1+s)*epsilon-I*z*s*2*pi)-1)/(s+1))),(s,0,oo))\n",
    "  )"
   ]
  },
  {
   "cell_type": "markdown",
   "metadata": {},
   "source": [
    "## New version 2"
   ]
  },
  {
   "cell_type": "code",
   "execution_count": 11,
   "metadata": {},
   "outputs": [
    {
     "data": {
      "text/latex": [
       "$\\displaystyle \\frac{\\partial}{\\partial s} \\frac{1}{\\left(t + i z\\right) \\left(e^{- s \\left(t + i z\\right) + 2 \\pi t} - 1\\right)} = \\frac{\\partial}{\\partial t} \\frac{1}{\\left(s - 2 \\pi\\right) \\left(e^{- s \\left(t + i z\\right) + 2 \\pi t} - 1\\right)}$"
      ],
      "text/plain": [
       "Eq(Derivative(1/((t + I*z)*(exp(-s*(t + I*z) + 2*pi*t) - 1)), s), Derivative(1/((s - 2*pi)*(exp(-s*(t + I*z) + 2*pi*t) - 1)), t))"
      ]
     },
     "execution_count": 11,
     "metadata": {},
     "output_type": "execute_result"
    }
   ],
   "source": [
    "Eq(Derivative(1/(exp(2*pi*t-(t+I*z)*s)-1)/(t+I*z),s),Derivative(1/(exp(2*pi*t-(t+I*z)*s)-1)/(s-2*pi),t))"
   ]
  },
  {
   "cell_type": "code",
   "execution_count": 12,
   "metadata": {},
   "outputs": [
    {
     "data": {
      "text/latex": [
       "$\\displaystyle \\frac{\\partial}{\\partial s} \\frac{1}{\\left(t - i z\\right) \\left(e^{- s \\left(t - i z\\right) + 2 \\pi t} - 1\\right)} = \\frac{\\partial}{\\partial t} \\frac{1}{\\left(s - 2 \\pi\\right) \\left(e^{- s \\left(t - i z\\right) + 2 \\pi t} - 1\\right)}$"
      ],
      "text/plain": [
       "Eq(Derivative(1/((t - I*z)*(exp(-s*(t - I*z) + 2*pi*t) - 1)), s), Derivative(1/((s - 2*pi)*(exp(-s*(t - I*z) + 2*pi*t) - 1)), t))"
      ]
     },
     "execution_count": 12,
     "metadata": {},
     "output_type": "execute_result"
    }
   ],
   "source": [
    "Eq(Derivative(1/(exp(2*pi*t-(t+I*z)*s)-1)/(t+I*z),s),Derivative(1/(exp(2*pi*t-(t+I*z)*s)-1)/(s-2*pi),t)).subs(z,-z)"
   ]
  },
  {
   "cell_type": "code",
   "execution_count": 20,
   "metadata": {},
   "outputs": [
    {
     "data": {
      "text/latex": [
       "$\\displaystyle \\int\\limits_{0}^{\\infty} \\frac{\\partial}{\\partial s} \\frac{1}{\\left(t + i z\\right) \\left(e^{- s \\left(t + i z\\right) + 2 \\pi t} - 1\\right)}\\, ds = \\int\\limits_{0}^{\\infty} \\frac{\\partial}{\\partial t} \\frac{1}{\\left(s - 2 \\pi\\right) \\left(e^{- s \\left(t + i z\\right) + 2 \\pi t} - 1\\right)}\\, ds$"
      ],
      "text/plain": [
       "Eq(Integral(Derivative(1/((t + I*z)*(exp(-s*(t + I*z) + 2*pi*t) - 1)), s), (s, 0, oo)), Integral(Derivative(1/((s - 2*pi)*(exp(-s*(t + I*z) + 2*pi*t) - 1)), t), (s, 0, oo)))"
      ]
     },
     "execution_count": 20,
     "metadata": {},
     "output_type": "execute_result"
    }
   ],
   "source": [
    "Eq(Integral(Derivative(1/(exp(2*pi*t-(t+I*z)*s)-1)/(t+I*z),s),(s,0,oo)),\n",
    "            Integral(Derivative(1/(exp(2*pi*t-(t+I*z)*s)-1)/(s-2*pi),t),(s,0,oo)))"
   ]
  },
  {
   "cell_type": "code",
   "execution_count": 25,
   "metadata": {},
   "outputs": [
    {
     "data": {
      "text/latex": [
       "$\\displaystyle - \\frac{1}{t + i z} - \\frac{1}{\\left(t + i z\\right) \\left(e^{2 \\pi t} - 1\\right)} = \\int\\limits_{0}^{\\infty} \\frac{\\partial}{\\partial t} \\frac{1}{\\left(s - 2 \\pi\\right) \\left(e^{- s \\left(t + i z\\right) + 2 \\pi t} - 1\\right)}\\, ds$"
      ],
      "text/plain": [
       "Eq(-1/(t + I*z) - 1/((t + I*z)*(exp(2*pi*t) - 1)), Integral(Derivative(1/((s - 2*pi)*(exp(-s*(t + I*z) + 2*pi*t) - 1)), t), (s, 0, oo)))"
      ]
     },
     "execution_count": 25,
     "metadata": {},
     "output_type": "execute_result"
    }
   ],
   "source": [
    "Eq(-1/(t+I*z) - (1/(exp(2*pi*t-(t+I*z)*s)-1)/(t+I*z)).subs(s,0),\n",
    "            Integral(Derivative(1/(exp(2*pi*t-(t+I*z)*s)-1)/(s-2*pi),t),(s,0,oo)))"
   ]
  },
  {
   "cell_type": "code",
   "execution_count": 30,
   "metadata": {},
   "outputs": [
    {
     "data": {
      "text/latex": [
       "$\\displaystyle - \\frac{1}{t - i z} - \\frac{1}{\\left(t - i z\\right) \\left(e^{2 \\pi t} - 1\\right)} = \\int\\limits_{0}^{\\infty} \\frac{\\partial}{\\partial t} \\frac{1}{\\left(s - 2 \\pi\\right) \\left(e^{- s \\left(t - i z\\right) + 2 \\pi t} - 1\\right)}\\, ds$"
      ],
      "text/plain": [
       "Eq(-1/(t - I*z) - 1/((t - I*z)*(exp(2*pi*t) - 1)), Integral(Derivative(1/((s - 2*pi)*(exp(-s*(t - I*z) + 2*pi*t) - 1)), t), (s, 0, oo)))"
      ]
     },
     "execution_count": 30,
     "metadata": {},
     "output_type": "execute_result"
    }
   ],
   "source": [
    "Eq(-1/(t+I*z) - (1/(exp(2*pi*t-(t+I*z)*s)-1)/(t+I*z)).subs(s,0),\n",
    "            Integral(Derivative(1/(exp(2*pi*t-(t+I*z)*s)-1)/(s-2*pi),t),(s,0,oo))).subs(z,-z)"
   ]
  },
  {
   "cell_type": "code",
   "execution_count": 64,
   "metadata": {},
   "outputs": [
    {
     "data": {
      "text/latex": [
       "$\\displaystyle \\frac{1}{- t e^{2 \\pi t} + t + i z e^{2 \\pi t} - i z} = \\int\\limits_{0}^{\\infty} \\left(- \\frac{\\partial}{\\partial t} \\frac{1}{\\left(s - 2 \\pi\\right) \\left(e^{- s \\left(- t + i z\\right) - 2 \\pi t} - 1\\right)}\\right)\\, ds$"
      ],
      "text/plain": [
       "Eq(1/(-t*exp(2*pi*t) + t + I*z*exp(2*pi*t) - I*z), Integral(-Derivative(1/((s - 2*pi)*(exp(-s*(-t + I*z) - 2*pi*t) - 1)), t), (s, 0, oo)))"
      ]
     },
     "execution_count": 64,
     "metadata": {},
     "output_type": "execute_result"
    }
   ],
   "source": [
    "Eq((-1/(-t+I*z) - (1/(exp(-2*pi*t-(-t+I*z)*s)-1)/(-t+I*z)).subs(s,0)).simplify(),\n",
    "            Integral(-Derivative((1/(exp(2*pi*t-(t+I*z)*s)-1)/(s-2*pi)).subs(t,-t),t),(s,0,oo)))"
   ]
  },
  {
   "cell_type": "code",
   "execution_count": 62,
   "metadata": {},
   "outputs": [
    {
     "data": {
      "text/latex": [
       "$\\displaystyle 0.0279091076138253 - 0.0797403074680722 i$"
      ],
      "text/plain": [
       "0.0279091076138253 - 0.0797403074680722*I"
      ]
     },
     "execution_count": 62,
     "metadata": {},
     "output_type": "execute_result"
    }
   ],
   "source": [
    "((1/(exp(2*pi*t)-1)/(-t+I*z)).subs(s,0)).subs([(t,0.3),(z,-I+2)]).evalf()"
   ]
  },
  {
   "cell_type": "code",
   "execution_count": 65,
   "metadata": {},
   "outputs": [
    {
     "data": {
      "text/latex": [
       "$\\displaystyle 0.0279091076138253 - 0.0797403074680722 i$"
      ],
      "text/plain": [
       "0.0279091076138253 - 0.0797403074680722*I"
      ]
     },
     "execution_count": 65,
     "metadata": {},
     "output_type": "execute_result"
    }
   ],
   "source": [
    "Integral(-Derivative(1/(exp(-2*pi*t-(-t+I*z)*s)-1)/(s-2*pi),t).doit(),(s,0,1000000)).subs([(t,0.3),(z,-I+2)]).evalf()"
   ]
  },
  {
   "cell_type": "code",
   "execution_count": 66,
   "metadata": {},
   "outputs": [
    {
     "data": {
      "text/latex": [
       "$\\displaystyle -0.0409001910976395 + 0.0629233709194453 i$"
      ],
      "text/plain": [
       "-0.0409001910976395 + 0.0629233709194453*I"
      ]
     },
     "execution_count": 66,
     "metadata": {},
     "output_type": "execute_result"
    }
   ],
   "source": [
    "((1/(exp(2*pi*t)-1)/(-t+I*z)).subs(s,0)).subs([(t,0.3),(z,I-2)]).evalf()"
   ]
  },
  {
   "cell_type": "code",
   "execution_count": 67,
   "metadata": {},
   "outputs": [
    {
     "data": {
      "text/latex": [
       "$\\displaystyle -0.269371192855109 + 0.41441721977709 i$"
      ],
      "text/plain": [
       "-0.269371192855109 + 0.41441721977709*I"
      ]
     },
     "execution_count": 67,
     "metadata": {},
     "output_type": "execute_result"
    }
   ],
   "source": [
    "Integral(-Derivative(1/(exp(-2*pi*t-(-t+I*z)*s)-1)/(s-2*pi),t).doit(),(s,0,1000000)).subs([(t,0.3),(z,I-2)]).evalf()"
   ]
  },
  {
   "cell_type": "code",
   "execution_count": 53,
   "metadata": {},
   "outputs": [
    {
     "data": {
      "text/latex": [
       "$\\displaystyle -0.269371192855109 + 0.41441721977709 i$"
      ],
      "text/plain": [
       "-0.269371192855109 + 0.41441721977709*I"
      ]
     },
     "execution_count": 53,
     "metadata": {},
     "output_type": "execute_result"
    }
   ],
   "source": [
    "(-1/(t+I*z) - (1/(exp(2*pi*t-(t+I*z)*s)-1)/(t+I*z)).subs(s,0)).subs([(t,0.3),(z,-I+2)]).evalf()"
   ]
  },
  {
   "cell_type": "code",
   "execution_count": 54,
   "metadata": {},
   "outputs": [
    {
     "data": {
      "text/latex": [
       "$\\displaystyle -0.269371192855109 + 0.41441721977709 i$"
      ],
      "text/plain": [
       "-0.269371192855109 + 0.41441721977709*I"
      ]
     },
     "execution_count": 54,
     "metadata": {},
     "output_type": "execute_result"
    }
   ],
   "source": [
    "Integral(Derivative(1/(exp(2*pi*t-(t+I*z)*s)-1)/(s-2*pi),t).doit(),(s,0,1000000)).subs([(t,0.3),(z,-I+2)]).evalf()"
   ]
  },
  {
   "cell_type": "code",
   "execution_count": 35,
   "metadata": {},
   "outputs": [
    {
     "data": {
      "text/latex": [
       "$\\displaystyle - \\frac{2 t}{t^{2} + z^{2}} - \\frac{2 t}{\\left(t^{2} + z^{2}\\right) \\left(e^{2 \\pi t} - 1\\right)} = \\int\\limits_{0}^{\\infty} \\frac{\\partial}{\\partial t} \\left(\\frac{1}{\\left(s - 2 \\pi\\right) \\left(e^{- s \\left(t + i z\\right) + 2 \\pi t} - 1\\right)} + \\frac{1}{\\left(s - 2 \\pi\\right) \\left(e^{- s \\left(t - i z\\right) + 2 \\pi t} - 1\\right)}\\right)\\, ds$"
      ],
      "text/plain": [
       "Eq(-2*t/(t**2 + z**2) - 2*t/((t**2 + z**2)*(exp(2*pi*t) - 1)), Integral(Derivative(1/((s - 2*pi)*(exp(-s*(t + I*z) + 2*pi*t) - 1)) + 1/((s - 2*pi)*(exp(-s*(t - I*z) + 2*pi*t) - 1)), t), (s, 0, oo)))"
      ]
     },
     "execution_count": 35,
     "metadata": {},
     "output_type": "execute_result"
    }
   ],
   "source": [
    "Eq(-2*t/(t**2+z**2) - 2*t/(exp(2*pi*t)-1)/(t**2+z**2),\n",
    "            Integral(Derivative(1/(exp(2*pi*t-(t+I*z)*s)-1)/(s-2*pi) + 1/(exp(2*pi*t-(t-I*z)*s)-1)/(s-2*pi),t),(s,0,oo)))"
   ]
  },
  {
   "cell_type": "code",
   "execution_count": 39,
   "metadata": {},
   "outputs": [
    {
     "data": {
      "text/latex": [
       "$\\displaystyle - \\log{\\left(t^{2} + z^{2} \\right)}$"
      ],
      "text/plain": [
       "-log(t**2 + z**2)"
      ]
     },
     "execution_count": 39,
     "metadata": {},
     "output_type": "execute_result"
    }
   ],
   "source": [
    "Integral(-2*t/(t**2+z**2),(t)).doit()"
   ]
  },
  {
   "cell_type": "code",
   "execution_count": null,
   "metadata": {},
   "outputs": [],
   "source": []
  }
 ],
 "metadata": {
  "kernelspec": {
   "display_name": "Python 3",
   "language": "python",
   "name": "python3"
  },
  "language_info": {
   "codemirror_mode": {
    "name": "ipython",
    "version": 3
   },
   "file_extension": ".py",
   "mimetype": "text/x-python",
   "name": "python",
   "nbconvert_exporter": "python",
   "pygments_lexer": "ipython3",
   "version": "3.8.5"
  }
 },
 "nbformat": 4,
 "nbformat_minor": 4
}
