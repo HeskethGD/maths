{
 "cells": [
  {
   "cell_type": "markdown",
   "metadata": {},
   "source": [
    "# Mittag-Leffler Pole Expansion"
   ]
  },
  {
   "cell_type": "code",
   "execution_count": 1,
   "metadata": {},
   "outputs": [],
   "source": [
    "from sympy import *"
   ]
  },
  {
   "cell_type": "code",
   "execution_count": 2,
   "metadata": {},
   "outputs": [],
   "source": [
    "x, y, n, m, K, k, epsilon, z, s, a, R, N, r, T, b, c, d = symbols('x, y, n, m, K, k, epsilon, z, s, a, R, N, r, T, b, c, d')\n",
    "alpha, beta, delta, t, mu, nu, epsilon, theta, phi, tau, omega, kappa, BCC = symbols(\n",
    "    'alpha, beta, delta, t, mu, nu, epsilon, theta, phi, tau, omega, kappa, BCC')\n",
    "\n",
    "pole = IndexedBase('pole')\n",
    "Npoles = symbols('Npoles')\n",
    "f = Function('f')\n",
    "h = Function('h')\n",
    "Residue = Function('Residue')"
   ]
  },
  {
   "cell_type": "markdown",
   "metadata": {},
   "source": [
    "## Residue Theorem\n",
    "The integrals below are considered over a circle of radius that tends to infinity and encompases Npoles."
   ]
  },
  {
   "cell_type": "code",
   "execution_count": 3,
   "metadata": {},
   "outputs": [
    {
     "data": {
      "text/latex": [
       "$\\displaystyle \\int f{\\left(z \\right)}\\, dz = 2 i \\pi \\sum_{k=1}^{Npoles} \\operatorname{Residue}{\\left(f{\\left({pole}_{k} \\right)} \\right)}$"
      ],
      "text/plain": [
       "Eq(Integral(f(z), z), 2*I*pi*Sum(Residue(f(pole[k])), (k, 1, Npoles)))"
      ]
     },
     "execution_count": 3,
     "metadata": {},
     "output_type": "execute_result"
    }
   ],
   "source": [
    "Eq(Integral(f(z),z),2*pi*I*Sum(Residue(f(pole[k])),(k,1,Npoles)))"
   ]
  },
  {
   "cell_type": "markdown",
   "metadata": {},
   "source": [
    "## Mittag-Leffler Theorem"
   ]
  },
  {
   "cell_type": "code",
   "execution_count": 4,
   "metadata": {},
   "outputs": [
    {
     "data": {
      "text/latex": [
       "$\\displaystyle \\int \\frac{f{\\left(z \\right)}}{- \\tau + z}\\, dz = 2 i \\pi f{\\left(\\tau \\right)} + 2 i \\pi \\sum_{k=1}^{Npoles} \\frac{\\operatorname{Residue}{\\left(f{\\left({pole}_{k} \\right)} \\right)}}{- \\tau + {pole}_{k}}$"
      ],
      "text/plain": [
       "Eq(Integral(f(z)/(-tau + z), z), 2*I*pi*f(tau) + 2*I*pi*Sum(Residue(f(pole[k]))/(-tau + pole[k]), (k, 1, Npoles)))"
      ]
     },
     "execution_count": 4,
     "metadata": {},
     "output_type": "execute_result"
    }
   ],
   "source": [
    "Eq(Integral(f(z)/(z-tau),z),2*pi*I*f(tau) + 2*pi*I*Sum(Residue(f(pole[k]))/(pole[k]-tau),(k,1,Npoles)))"
   ]
  },
  {
   "cell_type": "code",
   "execution_count": 5,
   "metadata": {},
   "outputs": [
    {
     "data": {
      "text/latex": [
       "$\\displaystyle \\frac{1}{- \\tau + z} = \\frac{\\tau}{z \\left(- \\tau + z\\right)} + \\frac{1}{z}$"
      ],
      "text/plain": [
       "Eq(1/(-tau + z), tau/(z*(-tau + z)) + 1/z)"
      ]
     },
     "execution_count": 5,
     "metadata": {},
     "output_type": "execute_result"
    }
   ],
   "source": [
    "Eq(1/(z-tau),1/z + (1/(z-tau)-1/z).simplify())"
   ]
  },
  {
   "cell_type": "code",
   "execution_count": 6,
   "metadata": {},
   "outputs": [
    {
     "data": {
      "text/latex": [
       "$\\displaystyle \\int \\frac{f{\\left(z \\right)}}{- \\tau + z}\\, dz = \\tau \\int \\frac{f{\\left(z \\right)}}{z \\left(- \\tau + z\\right)}\\, dz + \\int \\frac{f{\\left(z \\right)}}{z}\\, dz$"
      ],
      "text/plain": [
       "Eq(Integral(f(z)/(-tau + z), z), tau*Integral(f(z)/(z*(-tau + z)), z) + Integral(f(z)/z, z))"
      ]
     },
     "execution_count": 6,
     "metadata": {},
     "output_type": "execute_result"
    }
   ],
   "source": [
    "Eq(Integral(f(z)/(z-tau),z),Integral(f(z)/z,z) + tau*Integral(f(z)/(z-tau)/z,z))"
   ]
  },
  {
   "cell_type": "code",
   "execution_count": 7,
   "metadata": {},
   "outputs": [
    {
     "data": {
      "text/latex": [
       "$\\displaystyle \\int \\frac{f{\\left(z \\right)}}{- \\tau + z}\\, dz = \\tau \\int \\frac{f{\\left(z \\right)}}{z \\left(- \\tau + z\\right)}\\, dz + \\int \\frac{f{\\left(z \\right)}}{z}\\, dz$"
      ],
      "text/plain": [
       "Eq(Integral(f(z)/(-tau + z), z), tau*Integral(f(z)/(z*(-tau + z)), z) + Integral(f(z)/z, z))"
      ]
     },
     "execution_count": 7,
     "metadata": {},
     "output_type": "execute_result"
    }
   ],
   "source": [
    "Eq(Integral(f(z)/(z-tau),z),Integral(f(z)/z,z) + tau*Integral(f(z)/(z-tau)/z,z))"
   ]
  },
  {
   "cell_type": "code",
   "execution_count": 8,
   "metadata": {},
   "outputs": [
    {
     "data": {
      "text/latex": [
       "$\\displaystyle \\int \\frac{f{\\left(z \\right)}}{z}\\, dz = 2 i \\pi f{\\left(0 \\right)} + 2 i \\pi \\sum_{k=1}^{Npoles} \\frac{\\operatorname{Residue}{\\left(f{\\left({pole}_{k} \\right)} \\right)}}{{pole}_{k}}$"
      ],
      "text/plain": [
       "Eq(Integral(f(z)/z, z), 2*I*pi*f(0) + 2*I*pi*Sum(Residue(f(pole[k]))/pole[k], (k, 1, Npoles)))"
      ]
     },
     "execution_count": 8,
     "metadata": {},
     "output_type": "execute_result"
    }
   ],
   "source": [
    "Eq(Integral(f(z)/z,z), 2*pi*I*f(0) + 2*pi*I*Sum(Residue(f(pole[k]))/pole[k],(k,1,Npoles)))"
   ]
  },
  {
   "cell_type": "code",
   "execution_count": 9,
   "metadata": {},
   "outputs": [
    {
     "data": {
      "text/latex": [
       "$\\displaystyle \\int \\frac{f{\\left(z \\right)}}{- \\tau + z}\\, dz = \\tau \\int \\frac{f{\\left(z \\right)}}{z \\left(- \\tau + z\\right)}\\, dz + \\int \\frac{f{\\left(z \\right)}}{z}\\, dz$"
      ],
      "text/plain": [
       "Eq(Integral(f(z)/(-tau + z), z), tau*Integral(f(z)/(z*(-tau + z)), z) + Integral(f(z)/z, z))"
      ]
     },
     "execution_count": 9,
     "metadata": {},
     "output_type": "execute_result"
    }
   ],
   "source": [
    "Eq(Integral(f(z)/(z-tau),z),Integral(f(z)/z,z) + tau*Integral(f(z)/(z-tau)/z,z))"
   ]
  },
  {
   "cell_type": "code",
   "execution_count": 10,
   "metadata": {},
   "outputs": [
    {
     "data": {
      "text/latex": [
       "$\\displaystyle \\int \\frac{f{\\left(z \\right)}}{- \\tau + z}\\, dz = \\tau \\int \\frac{f{\\left(z \\right)}}{z \\left(- \\tau + z\\right)}\\, dz + 2 i \\pi f{\\left(0 \\right)} + 2 i \\pi \\sum_{k=1}^{Npoles} \\frac{\\operatorname{Residue}{\\left(f{\\left({pole}_{k} \\right)} \\right)}}{{pole}_{k}}$"
      ],
      "text/plain": [
       "Eq(Integral(f(z)/(-tau + z), z), tau*Integral(f(z)/(z*(-tau + z)), z) + 2*I*pi*f(0) + 2*I*pi*Sum(Residue(f(pole[k]))/pole[k], (k, 1, Npoles)))"
      ]
     },
     "execution_count": 10,
     "metadata": {},
     "output_type": "execute_result"
    }
   ],
   "source": [
    "Eq(Integral(f(z)/(z-tau),z),2*pi*I*f(0) + 2*pi*I*Sum(Residue(f(pole[k]))/pole[k],(k,1,Npoles))\n",
    "   + tau*Integral(f(z)/(z-tau)/z,z))"
   ]
  },
  {
   "cell_type": "code",
   "execution_count": 11,
   "metadata": {},
   "outputs": [
    {
     "data": {
      "text/latex": [
       "$\\displaystyle \\lim_{R \\to \\infty}\\left(\\tau \\int \\frac{f{\\left(z \\right)}}{z \\left(- \\tau + z\\right)}\\, dz\\right) = 0$"
      ],
      "text/plain": [
       "Eq(Limit(tau*Integral(f(z)/(z*(-tau + z)), z), R, oo, dir='-'), 0)"
      ]
     },
     "execution_count": 11,
     "metadata": {},
     "output_type": "execute_result"
    }
   ],
   "source": [
    "Eq(Limit(tau*Integral(f(z)/(z-tau)/z,z),R,oo),0)"
   ]
  },
  {
   "cell_type": "code",
   "execution_count": 12,
   "metadata": {},
   "outputs": [
    {
     "data": {
      "text/latex": [
       "$\\displaystyle 0 = - 2 i \\pi f{\\left(0 \\right)} + 2 i \\pi f{\\left(\\tau \\right)} + 2 i \\pi \\sum_{k=1}^{Npoles} \\frac{\\operatorname{Residue}{\\left(f{\\left({pole}_{k} \\right)} \\right)}}{- \\tau + {pole}_{k}} - 2 i \\pi \\sum_{k=1}^{Npoles} \\frac{\\operatorname{Residue}{\\left(f{\\left({pole}_{k} \\right)} \\right)}}{{pole}_{k}}$"
      ],
      "text/plain": [
       "Eq(0, -2*I*pi*f(0) + 2*I*pi*f(tau) + 2*I*pi*Sum(Residue(f(pole[k]))/(-tau + pole[k]), (k, 1, Npoles)) - 2*I*pi*Sum(Residue(f(pole[k]))/pole[k], (k, 1, Npoles)))"
      ]
     },
     "execution_count": 12,
     "metadata": {},
     "output_type": "execute_result"
    }
   ],
   "source": [
    "Eq(0, 2*pi*I*f(tau) + 2*pi*I*Sum(Residue(f(pole[k]))/(pole[k]-tau),(k,1,Npoles))\n",
    "  - (2*pi*I*f(0) + 2*pi*I*Sum(Residue(f(pole[k]))/pole[k],(k,1,Npoles)))\n",
    ")"
   ]
  },
  {
   "cell_type": "code",
   "execution_count": 13,
   "metadata": {},
   "outputs": [
    {
     "data": {
      "text/latex": [
       "$\\displaystyle f{\\left(\\tau \\right)} = f{\\left(0 \\right)} + \\sum_{k=1}^{Npoles} \\left(\\frac{1}{{pole}_{k}} - \\frac{1}{- \\tau + {pole}_{k}}\\right) \\operatorname{Residue}{\\left(f{\\left({pole}_{k} \\right)} \\right)}$"
      ],
      "text/plain": [
       "Eq(f(tau), f(0) + Sum((1/pole[k] - 1/(-tau + pole[k]))*Residue(f(pole[k])), (k, 1, Npoles)))"
      ]
     },
     "execution_count": 13,
     "metadata": {},
     "output_type": "execute_result"
    }
   ],
   "source": [
    "Eq(f(tau),   f(0) + Sum(Residue(f(pole[k]))*(-1/(pole[k] - tau) + 1/pole[k]),(k,1,Npoles)))"
   ]
  },
  {
   "cell_type": "markdown",
   "metadata": {},
   "source": [
    "### Examples"
   ]
  },
  {
   "cell_type": "markdown",
   "metadata": {},
   "source": [
    "#### Example 1"
   ]
  },
  {
   "cell_type": "code",
   "execution_count": 14,
   "metadata": {},
   "outputs": [],
   "source": [
    "f_tau = 1/(tau**2+1)/(tau**2+2)\n",
    "f_tau_poles = [I,-I,sqrt(2)*I,-sqrt(2)*I]"
   ]
  },
  {
   "cell_type": "code",
   "execution_count": 15,
   "metadata": {},
   "outputs": [
    {
     "data": {
      "text/latex": [
       "$\\displaystyle f{\\left(\\tau \\right)} = \\frac{1}{\\left(\\tau^{2} + 1\\right) \\left(\\tau^{2} + 2\\right)}$"
      ],
      "text/plain": [
       "Eq(f(tau), 1/((tau**2 + 1)*(tau**2 + 2)))"
      ]
     },
     "execution_count": 15,
     "metadata": {},
     "output_type": "execute_result"
    }
   ],
   "source": [
    "Eq(f(tau),f_tau)"
   ]
  },
  {
   "cell_type": "code",
   "execution_count": 16,
   "metadata": {},
   "outputs": [
    {
     "data": {
      "text/latex": [
       "$\\displaystyle \\frac{1}{\\left(\\tau^{2} + 1\\right) \\left(\\tau^{2} + 2\\right)} = - \\frac{i \\left(- i - \\frac{1}{- \\tau + i}\\right)}{2} + \\frac{i \\left(i - \\frac{1}{- \\tau - i}\\right)}{2} + \\frac{\\sqrt{2} i \\left(- \\frac{\\sqrt{2} i}{2} - \\frac{1}{- \\tau + \\sqrt{2} i}\\right)}{4} - \\frac{\\sqrt{2} i \\left(\\frac{\\sqrt{2} i}{2} - \\frac{1}{- \\tau - \\sqrt{2} i}\\right)}{4} + \\frac{1}{2}$"
      ],
      "text/plain": [
       "Eq(1/((tau**2 + 1)*(tau**2 + 2)), -I*(-I - 1/(-tau + I))/2 + I*(I - 1/(-tau - I))/2 + sqrt(2)*I*(-sqrt(2)*I/2 - 1/(-tau + sqrt(2)*I))/4 - sqrt(2)*I*(sqrt(2)*I/2 - 1/(-tau - sqrt(2)*I))/4 + 1/2)"
      ]
     },
     "execution_count": 16,
     "metadata": {},
     "output_type": "execute_result"
    }
   ],
   "source": [
    "# residues\n",
    "Eq(f_tau,   f_tau.subs(tau,0) + sum(residue(f_tau,tau,p)*(-1/(p - tau) + 1/p) for p in f_tau_poles))"
   ]
  },
  {
   "cell_type": "code",
   "execution_count": 17,
   "metadata": {},
   "outputs": [
    {
     "data": {
      "text/latex": [
       "$\\displaystyle \\text{True}$"
      ],
      "text/plain": [
       "True"
      ]
     },
     "execution_count": 17,
     "metadata": {},
     "output_type": "execute_result"
    }
   ],
   "source": [
    "Eq(f_tau,   f_tau.subs(tau,0) + sum(residue(f_tau,tau,p)*(-1/(p - tau) + 1/p) for p in f_tau_poles)).simplify()"
   ]
  },
  {
   "cell_type": "markdown",
   "metadata": {},
   "source": [
    "#### Example 2\n",
    "\n",
    "This does not work. Clearly the right hand side is in no way connected to a logarithm"
   ]
  },
  {
   "cell_type": "code",
   "execution_count": 23,
   "metadata": {},
   "outputs": [],
   "source": [
    "f_tau = ln(tau)*(1/(tau**2+1)/(tau**2+2)-1/2)\n",
    "f_tau_poles = [I,-I,sqrt(2)*I,-sqrt(2)*I]"
   ]
  },
  {
   "cell_type": "code",
   "execution_count": 24,
   "metadata": {},
   "outputs": [
    {
     "data": {
      "text/latex": [
       "$\\displaystyle f{\\left(\\tau \\right)} = \\left(-0.5 + \\frac{1}{\\left(\\tau^{2} + 1\\right) \\left(\\tau^{2} + 2\\right)}\\right) \\log{\\left(\\tau \\right)}$"
      ],
      "text/plain": [
       "Eq(f(tau), (-0.5 + 1/((tau**2 + 1)*(tau**2 + 2)))*log(tau))"
      ]
     },
     "execution_count": 24,
     "metadata": {},
     "output_type": "execute_result"
    }
   ],
   "source": [
    "Eq(f(tau),f_tau)"
   ]
  },
  {
   "cell_type": "code",
   "execution_count": 26,
   "metadata": {},
   "outputs": [
    {
     "data": {
      "text/latex": [
       "$\\displaystyle \\left(-0.5 + \\frac{1}{\\left(\\tau^{2} + 1\\right) \\left(\\tau^{2} + 2\\right)}\\right) \\log{\\left(\\tau \\right)} = \\frac{\\pi \\left(- i - \\frac{1}{- \\tau + i}\\right)}{4} + \\frac{\\pi \\left(i - \\frac{1}{- \\tau - i}\\right)}{4} + \\left(- \\frac{\\sqrt{2} i}{2} - \\frac{1}{- \\tau + \\sqrt{2} i}\\right) \\left(- \\frac{\\sqrt{2} \\pi}{8} + \\frac{\\sqrt{2} i \\log{\\left(\\sqrt{2} \\right)}}{4}\\right) + \\left(\\frac{\\sqrt{2} i}{2} - \\frac{1}{- \\tau - \\sqrt{2} i}\\right) \\left(- \\frac{\\sqrt{2} \\pi}{8} - \\frac{\\sqrt{2} i \\log{\\left(\\sqrt{2} \\right)}}{4}\\right)$"
      ],
      "text/plain": [
       "Eq((-0.5 + 1/((tau**2 + 1)*(tau**2 + 2)))*log(tau), pi*(-I - 1/(-tau + I))/4 + pi*(I - 1/(-tau - I))/4 + (-sqrt(2)*I/2 - 1/(-tau + sqrt(2)*I))*(-sqrt(2)*pi/8 + sqrt(2)*I*log(sqrt(2))/4) + (sqrt(2)*I/2 - 1/(-tau - sqrt(2)*I))*(-sqrt(2)*pi/8 - sqrt(2)*I*log(sqrt(2))/4))"
      ]
     },
     "execution_count": 26,
     "metadata": {},
     "output_type": "execute_result"
    }
   ],
   "source": [
    "# residues\n",
    "Eq(f_tau,   limit(f_tau,tau,0) + sum(residue(f_tau,tau,p)*(-1/(p - tau) + 1/p) for p in f_tau_poles))"
   ]
  },
  {
   "cell_type": "code",
   "execution_count": 33,
   "metadata": {},
   "outputs": [
    {
     "data": {
      "text/latex": [
       "$\\displaystyle \\text{False}$"
      ],
      "text/plain": [
       "False"
      ]
     },
     "execution_count": 33,
     "metadata": {},
     "output_type": "execute_result"
    }
   ],
   "source": [
    "# residues\n",
    "Eq(f_tau,   limit(f_tau,tau,0) + sum(residue(f_tau,tau,p)*(-1/(p - tau) + 1/p) for p in f_tau_poles)).subs(tau,1).evalf()"
   ]
  },
  {
   "cell_type": "markdown",
   "metadata": {},
   "source": [
    "## The case with a logarithmic branch cut\n",
    "\n",
    "This contour is a keyhole contour with a branch cut on the negative real axis and a branchpoint at the origin. Angles are measured counter-clockwise from the positive real axis. Let f(tau) be a meromorphic function such that f(0) is well defined and such that:"
   ]
  },
  {
   "cell_type": "code",
   "execution_count": 84,
   "metadata": {},
   "outputs": [
    {
     "data": {
      "text/latex": [
       "$\\displaystyle \\lim_{R \\to \\infty}\\left(f{\\left(R e^{i \\theta} \\right)} \\log{\\left(R e^{i \\theta} \\right)}\\right) = 0$"
      ],
      "text/plain": [
       "Eq(Limit(f(R*exp(I*theta))*log(R*exp(I*theta)), R, oo, dir='-'), 0)"
      ]
     },
     "execution_count": 84,
     "metadata": {},
     "output_type": "execute_result"
    }
   ],
   "source": [
    "Eq(Limit(f(R*exp(I*theta))*ln(R*exp(I*theta)),R,oo),0)"
   ]
  },
  {
   "cell_type": "code",
   "execution_count": 6,
   "metadata": {},
   "outputs": [],
   "source": [
    "LargeCircle = Function('LargeCircle')\n",
    "SmallCircle = Function('SmallCircle')\n",
    "UpperBranchCut = Function('UpperBranchCut')\n",
    "LowerBranchCut = Function('LowerBranchCut')"
   ]
  },
  {
   "cell_type": "code",
   "execution_count": 55,
   "metadata": {},
   "outputs": [
    {
     "data": {
      "text/latex": [
       "$\\displaystyle \\int \\frac{f{\\left(z \\right)} \\log{\\left(z \\right)}}{- \\tau + z}\\, dz = \\operatorname{LargeCircle}{\\left(R,r,\\tau \\right)} + \\operatorname{LowerBranchCut}{\\left(R,r,\\tau \\right)} + \\operatorname{SmallCircle}{\\left(R,r,\\tau \\right)} + \\operatorname{UpperBranchCut}{\\left(R,r,\\tau \\right)}$"
      ],
      "text/plain": [
       "Eq(Integral(f(z)*log(z)/(-tau + z), z), LargeCircle(R, r, tau) + LowerBranchCut(R, r, tau) + SmallCircle(R, r, tau) + UpperBranchCut(R, r, tau))"
      ]
     },
     "execution_count": 55,
     "metadata": {},
     "output_type": "execute_result"
    }
   ],
   "source": [
    "Eq(Integral(f(z)*ln(z)/(z-tau),z),\n",
    "   LargeCircle(R, r, tau) + UpperBranchCut(R, r, tau) + SmallCircle(R, r, tau) + LowerBranchCut(R, r, tau)\n",
    "  )"
   ]
  },
  {
   "cell_type": "code",
   "execution_count": 56,
   "metadata": {},
   "outputs": [
    {
     "data": {
      "text/latex": [
       "$\\displaystyle \\operatorname{LargeCircle}{\\left(R,r,\\tau \\right)} = \\int\\limits_{- \\pi}^{\\pi} \\frac{i R f{\\left(R e^{i \\theta} \\right)} e^{i \\theta} \\log{\\left(R e^{i \\theta} \\right)}}{R e^{i \\theta} - \\tau}\\, d\\theta$"
      ],
      "text/plain": [
       "Eq(LargeCircle(R, r, tau), Integral(I*R*f(R*exp(I*theta))*exp(I*theta)*log(R*exp(I*theta))/(R*exp(I*theta) - tau), (theta, -pi, pi)))"
      ]
     },
     "execution_count": 56,
     "metadata": {},
     "output_type": "execute_result"
    }
   ],
   "source": [
    "Eq(LargeCircle(R, r, tau),Integral((f(z)*ln(z)/(z-tau)).subs(z,R*exp(I*theta))*I*R*exp(I*theta),(theta,-pi,pi)))"
   ]
  },
  {
   "cell_type": "code",
   "execution_count": 57,
   "metadata": {},
   "outputs": [
    {
     "data": {
      "text/latex": [
       "$\\displaystyle \\operatorname{UpperBranchCut}{\\left(R,r,\\tau \\right)} = \\lim_{\\epsilon \\to 0^+} \\int\\limits_{- R}^{- r} \\frac{f{\\left(i \\epsilon + z \\right)} \\log{\\left(i \\epsilon + z \\right)}}{i \\epsilon - \\tau + z}\\, dz$"
      ],
      "text/plain": [
       "Eq(UpperBranchCut(R, r, tau), Limit(Integral(f(I*epsilon + z)*log(I*epsilon + z)/(I*epsilon - tau + z), (z, -R, -r)), epsilon, 0))"
      ]
     },
     "execution_count": 57,
     "metadata": {},
     "output_type": "execute_result"
    }
   ],
   "source": [
    "Eq(UpperBranchCut(R, r, tau), Limit(Integral((f(z)*ln(z)/(z-tau)).subs(z,z+epsilon*I),(z,-R,-r)),epsilon,0))"
   ]
  },
  {
   "cell_type": "code",
   "execution_count": 58,
   "metadata": {},
   "outputs": [
    {
     "data": {
      "text/latex": [
       "$\\displaystyle \\operatorname{UpperBranchCut}{\\left(R,r,\\tau \\right)} = \\int\\limits_{- R}^{- r} \\frac{\\left(\\log{\\left(\\left|{z}\\right| \\right)} + i \\pi\\right) f{\\left(z \\right)}}{- \\tau + z}\\, dz$"
      ],
      "text/plain": [
       "Eq(UpperBranchCut(R, r, tau), Integral((log(Abs(z)) + I*pi)*f(z)/(-tau + z), (z, -R, -r)))"
      ]
     },
     "execution_count": 58,
     "metadata": {},
     "output_type": "execute_result"
    }
   ],
   "source": [
    "Eq(UpperBranchCut(R, r, tau), Integral((f(z)*(ln(abs(z))+I*pi)/(z-tau)),(z,-R,-r)))"
   ]
  },
  {
   "cell_type": "code",
   "execution_count": 59,
   "metadata": {},
   "outputs": [
    {
     "data": {
      "text/latex": [
       "$\\displaystyle \\operatorname{SmallCircle}{\\left(R,r,\\tau \\right)} = \\int\\limits_{\\pi}^{- \\pi} \\frac{i r f{\\left(r e^{i \\theta} \\right)} e^{i \\theta} \\log{\\left(r e^{i \\theta} \\right)}}{r e^{i \\theta} - \\tau}\\, d\\theta$"
      ],
      "text/plain": [
       "Eq(SmallCircle(R, r, tau), Integral(I*r*f(r*exp(I*theta))*exp(I*theta)*log(r*exp(I*theta))/(r*exp(I*theta) - tau), (theta, pi, -pi)))"
      ]
     },
     "execution_count": 59,
     "metadata": {},
     "output_type": "execute_result"
    }
   ],
   "source": [
    "Eq(SmallCircle(R, r, tau),Integral((f(z)*ln(z)/(z-tau)).subs(z,r*exp(I*theta))*I*r*exp(I*theta),(theta,pi,-pi)))"
   ]
  },
  {
   "cell_type": "code",
   "execution_count": 60,
   "metadata": {},
   "outputs": [
    {
     "data": {
      "text/latex": [
       "$\\displaystyle \\operatorname{LowerBranchCut}{\\left(R,r,\\tau \\right)} = \\lim_{\\epsilon \\to 0^+} \\int\\limits_{- r}^{- R} \\frac{f{\\left(- i \\epsilon + z \\right)} \\log{\\left(- i \\epsilon + z \\right)}}{- i \\epsilon - \\tau + z}\\, dz$"
      ],
      "text/plain": [
       "Eq(LowerBranchCut(R, r, tau), Limit(Integral(f(-I*epsilon + z)*log(-I*epsilon + z)/(-I*epsilon - tau + z), (z, -r, -R)), epsilon, 0))"
      ]
     },
     "execution_count": 60,
     "metadata": {},
     "output_type": "execute_result"
    }
   ],
   "source": [
    "Eq(LowerBranchCut(R, r, tau), Limit(Integral((f(z)*ln(z)/(z-tau)).subs(z,z-epsilon*I),(z,-r,-R)),epsilon,0))"
   ]
  },
  {
   "cell_type": "code",
   "execution_count": 61,
   "metadata": {},
   "outputs": [
    {
     "data": {
      "text/latex": [
       "$\\displaystyle \\operatorname{LowerBranchCut}{\\left(R,r,\\tau \\right)} = \\int\\limits_{- r}^{- R} \\frac{\\left(\\log{\\left(\\left|{z}\\right| \\right)} - i \\pi\\right) f{\\left(z \\right)}}{- \\tau + z}\\, dz$"
      ],
      "text/plain": [
       "Eq(LowerBranchCut(R, r, tau), Integral((log(Abs(z)) - I*pi)*f(z)/(-tau + z), (z, -r, -R)))"
      ]
     },
     "execution_count": 61,
     "metadata": {},
     "output_type": "execute_result"
    }
   ],
   "source": [
    "Eq(LowerBranchCut(R, r, tau), Integral((f(z)*(ln(abs(z))-I*pi)/(z-tau)),(z,-r,-R)))"
   ]
  },
  {
   "cell_type": "code",
   "execution_count": 62,
   "metadata": {},
   "outputs": [
    {
     "data": {
      "text/latex": [
       "$\\displaystyle \\operatorname{LowerBranchCut}{\\left(R,r,\\tau \\right)} = - \\int\\limits_{- R}^{- r} \\frac{\\left(\\log{\\left(\\left|{z}\\right| \\right)} - i \\pi\\right) f{\\left(z \\right)}}{- \\tau + z}\\, dz$"
      ],
      "text/plain": [
       "Eq(LowerBranchCut(R, r, tau), -Integral((log(Abs(z)) - I*pi)*f(z)/(-tau + z), (z, -R, -r)))"
      ]
     },
     "execution_count": 62,
     "metadata": {},
     "output_type": "execute_result"
    }
   ],
   "source": [
    "Eq(LowerBranchCut(R, r, tau), -Integral((f(z)*(ln(abs(z))-I*pi)/(z-tau)),(z,-R,-r)))"
   ]
  },
  {
   "cell_type": "code",
   "execution_count": 63,
   "metadata": {},
   "outputs": [
    {
     "data": {
      "text/latex": [
       "$\\displaystyle \\operatorname{LargeCircle}{\\left(R,r,\\tau \\right)} + \\operatorname{LowerBranchCut}{\\left(R,r,\\tau \\right)} + \\operatorname{SmallCircle}{\\left(R,r,\\tau \\right)} + \\operatorname{UpperBranchCut}{\\left(R,r,\\tau \\right)} = 2 i \\pi \\int\\limits_{- R}^{- r} \\frac{f{\\left(z \\right)}}{- \\tau + z}\\, dz + \\int\\limits_{- \\pi}^{\\pi} \\frac{i R f{\\left(R e^{i \\theta} \\right)} e^{i \\theta} \\log{\\left(R e^{i \\theta} \\right)}}{R e^{i \\theta} - \\tau}\\, d\\theta - \\int\\limits_{- \\pi}^{\\pi} \\frac{i r f{\\left(r e^{i \\theta} \\right)} e^{i \\theta} \\log{\\left(r e^{i \\theta} \\right)}}{r e^{i \\theta} - \\tau}\\, d\\theta$"
      ],
      "text/plain": [
       "Eq(LargeCircle(R, r, tau) + LowerBranchCut(R, r, tau) + SmallCircle(R, r, tau) + UpperBranchCut(R, r, tau), 2*I*pi*Integral(f(z)/(-tau + z), (z, -R, -r)) + Integral(I*R*f(R*exp(I*theta))*exp(I*theta)*log(R*exp(I*theta))/(R*exp(I*theta) - tau), (theta, -pi, pi)) - Integral(I*r*f(r*exp(I*theta))*exp(I*theta)*log(r*exp(I*theta))/(r*exp(I*theta) - tau), (theta, -pi, pi)))"
      ]
     },
     "execution_count": 63,
     "metadata": {},
     "output_type": "execute_result"
    }
   ],
   "source": [
    "Eq(LargeCircle(R, r, tau) + UpperBranchCut(R, r, tau) + SmallCircle(R, r, tau) + LowerBranchCut(R, r, tau),\n",
    "    Integral((f(z)*ln(z)/(z-tau)).subs(z,R*exp(I*theta))*I*R*exp(I*theta),(theta,-pi,pi)) -\n",
    "    Integral((f(z)*ln(z)/(z-tau)).subs(z,r*exp(I*theta))*I*r*exp(I*theta),(theta,-pi,pi)) +\n",
    "    2*I*pi*Integral((f(z)/(z-tau)),(z,-R,-r))\n",
    "  )"
   ]
  },
  {
   "cell_type": "code",
   "execution_count": 79,
   "metadata": {},
   "outputs": [
    {
     "data": {
      "text/latex": [
       "$\\displaystyle \\operatorname{LargeCircle}{\\left(R,r,\\tau \\right)} + \\operatorname{LowerBranchCut}{\\left(R,r,\\tau \\right)} + \\operatorname{SmallCircle}{\\left(R,r,\\tau \\right)} + \\operatorname{UpperBranchCut}{\\left(R,r,\\tau \\right)} = 2 i \\pi f{\\left(\\tau \\right)} \\log{\\left(\\tau \\right)} + 2 i \\pi \\sum_{k=1}^{Npoles} \\frac{\\operatorname{Residue}{\\left(f{\\left({pole}_{k} \\right)} \\right)} \\log{\\left({pole}_{k} \\right)}}{- \\tau + {pole}_{k}}$"
      ],
      "text/plain": [
       "Eq(LargeCircle(R, r, tau) + LowerBranchCut(R, r, tau) + SmallCircle(R, r, tau) + UpperBranchCut(R, r, tau), 2*I*pi*f(tau)*log(tau) + 2*I*pi*Sum(Residue(f(pole[k]))*log(pole[k])/(-tau + pole[k]), (k, 1, Npoles)))"
      ]
     },
     "execution_count": 79,
     "metadata": {},
     "output_type": "execute_result"
    }
   ],
   "source": [
    "Eq(LargeCircle(R, r, tau) + UpperBranchCut(R, r, tau) + SmallCircle(R, r, tau) + LowerBranchCut(R, r, tau),\n",
    "   2*pi*I*f(tau)*ln(tau) + 2*pi*I*Sum(Residue(f(pole[k]))*ln(pole[k])/(pole[k]-tau),(k,1,Npoles))\n",
    "  )"
   ]
  },
  {
   "cell_type": "code",
   "execution_count": 83,
   "metadata": {
    "scrolled": true
   },
   "outputs": [
    {
     "data": {
      "text/latex": [
       "$\\displaystyle f{\\left(\\tau \\right)} \\log{\\left(\\tau \\right)} = \\int\\limits_{-\\infty}^{0} \\frac{f{\\left(z \\right)}}{- \\tau + z}\\, dz - \\sum_{k=1}^{Npoles} \\frac{\\operatorname{Residue}{\\left(f{\\left({pole}_{k} \\right)} \\right)} \\log{\\left({pole}_{k} \\right)}}{- \\tau + {pole}_{k}}$"
      ],
      "text/plain": [
       "Eq(f(tau)*log(tau), Integral(f(z)/(-tau + z), (z, -oo, 0)) - Sum(Residue(f(pole[k]))*log(pole[k])/(-tau + pole[k]), (k, 1, Npoles)))"
      ]
     },
     "execution_count": 83,
     "metadata": {},
     "output_type": "execute_result"
    }
   ],
   "source": [
    "Eq(f(tau)*ln(tau), Integral((f(z)/(z-tau)),(z,-oo,0)) - Sum(Residue(f(pole[k]))*ln(pole[k])/(pole[k]-tau),(k,1,Npoles)))"
   ]
  },
  {
   "cell_type": "markdown",
   "metadata": {},
   "source": [
    "#### Example A"
   ]
  },
  {
   "cell_type": "code",
   "execution_count": 321,
   "metadata": {},
   "outputs": [],
   "source": [
    "num_subs = [(R,20000),(r,1e-10),(tau,4.5), (alpha,-1.2), (mu,3.4),(N,150)]\n",
    "f_tau = 1/(exp(tau+alpha)-1)"
   ]
  },
  {
   "cell_type": "code",
   "execution_count": 152,
   "metadata": {},
   "outputs": [
    {
     "data": {
      "text/latex": [
       "$\\displaystyle 2 i \\pi \\int\\limits_{- R}^{- r} \\frac{1}{\\left(- \\tau + z\\right) \\left(e^{\\alpha + z} - 1\\right)}\\, dz + \\int\\limits_{- \\pi}^{\\pi} \\frac{i R e^{i \\theta} \\log{\\left(R e^{i \\theta} \\right)}}{\\left(R e^{i \\theta} - \\tau\\right) \\left(e^{R e^{i \\theta} + \\alpha} - 1\\right)}\\, d\\theta - \\int\\limits_{- \\pi}^{\\pi} \\frac{i r e^{i \\theta} \\log{\\left(r e^{i \\theta} \\right)}}{\\left(r e^{i \\theta} - \\tau\\right) \\left(e^{\\alpha + r e^{i \\theta}} - 1\\right)}\\, d\\theta$"
      ],
      "text/plain": [
       "2*I*pi*Integral(1/((-tau + z)*(exp(alpha + z) - 1)), (z, -R, -r)) + Integral(I*R*exp(I*theta)*log(R*exp(I*theta))/((R*exp(I*theta) - tau)*(exp(R*exp(I*theta) + alpha) - 1)), (theta, -pi, pi)) - Integral(I*r*exp(I*theta)*log(r*exp(I*theta))/((r*exp(I*theta) - tau)*(exp(alpha + r*exp(I*theta)) - 1)), (theta, -pi, pi))"
      ]
     },
     "execution_count": 152,
     "metadata": {},
     "output_type": "execute_result"
    }
   ],
   "source": [
    "ff_integral =(\n",
    "    Integral(\n",
    "        ((f(z)*ln(z)/(z-tau)).subs(z,R*exp(I*theta))*I*R*exp(I*theta)\n",
    "    ).subs([(f(R*exp(I*theta)),f_tau.subs(tau,R*exp(I*theta)))]),(theta,-pi,pi)) -\n",
    "    Integral(\n",
    "        ((f(z)*ln(z)/(z-tau)).subs(z,r*exp(I*theta))*I*r*exp(I*theta)\n",
    "    ).subs([(f(r*exp(I*theta)),f_tau.subs(tau,r*exp(I*theta)))]),(theta,-pi,pi)) +\n",
    "    2*I*pi*Integral((f(z)/(z-tau)).subs([(f(z),f_tau.subs(tau,z))]),(z,-R,-r))\n",
    ")\n",
    "ff_integral"
   ]
  },
  {
   "cell_type": "code",
   "execution_count": 281,
   "metadata": {},
   "outputs": [
    {
     "data": {
      "text/latex": [
       "$\\displaystyle - 2 i \\pi \\int\\limits_{r}^{R} \\frac{1}{\\left(\\tau + z\\right) \\left(e^{\\alpha - z} - 1\\right)}\\, dz + \\int\\limits_{- \\pi}^{\\pi} \\frac{i R e^{i \\theta} \\log{\\left(R e^{i \\theta} \\right)}}{\\left(R e^{i \\theta} - \\tau\\right) \\left(e^{R e^{i \\theta} + \\alpha} - 1\\right)}\\, d\\theta - \\int\\limits_{- \\pi}^{\\pi} \\frac{i r e^{i \\theta} \\log{\\left(r e^{i \\theta} \\right)}}{\\left(r e^{i \\theta} - \\tau\\right) \\left(e^{\\alpha + r e^{i \\theta}} - 1\\right)}\\, d\\theta$"
      ],
      "text/plain": [
       "-2*I*pi*Integral(1/((tau + z)*(exp(alpha - z) - 1)), (z, r, R)) + Integral(I*R*exp(I*theta)*log(R*exp(I*theta))/((R*exp(I*theta) - tau)*(exp(R*exp(I*theta) + alpha) - 1)), (theta, -pi, pi)) - Integral(I*r*exp(I*theta)*log(r*exp(I*theta))/((r*exp(I*theta) - tau)*(exp(alpha + r*exp(I*theta)) - 1)), (theta, -pi, pi))"
      ]
     },
     "execution_count": 281,
     "metadata": {},
     "output_type": "execute_result"
    }
   ],
   "source": [
    "(-2*I*pi*Integral(1/(tau+z)/(exp(alpha-z)-1),(z,r,R)) +\n",
    "Integral(I*R*exp(I*theta)*log(R*exp(I*theta))/(R*exp(I*theta)-tau)/(exp(R*exp(I*theta)+alpha)-1),(theta,-pi,pi)) -\n",
    "Integral(I*r*exp(I*theta)*log(r*exp(I*theta))/(r*exp(I*theta)-tau)/(exp(r*exp(I*theta)+alpha)-1),(theta,-pi,pi)))"
   ]
  },
  {
   "cell_type": "code",
   "execution_count": 286,
   "metadata": {},
   "outputs": [
    {
     "data": {
      "text/latex": [
       "$\\displaystyle 2 i \\pi \\left(\\log{\\left(R + \\tau \\right)} - \\log{\\left(r + \\tau \\right)}\\right) - 2 i \\pi \\int\\limits_{r}^{R} \\frac{1}{\\tau + z}\\, dz = 0$"
      ],
      "text/plain": [
       "Eq(2*I*pi*(log(R + tau) - log(r + tau)) - 2*I*pi*Integral(1/(tau + z), (z, r, R)), 0)"
      ]
     },
     "execution_count": 286,
     "metadata": {},
     "output_type": "execute_result"
    }
   ],
   "source": [
    "Eq(-2*I*pi*Integral(1/(tau+z),(z,r,R))+2*I*pi*(log(R+tau)-log(r+tau)),0)"
   ]
  },
  {
   "cell_type": "code",
   "execution_count": 289,
   "metadata": {},
   "outputs": [
    {
     "data": {
      "text/latex": [
       "$\\displaystyle 2 i \\pi \\left(\\log{\\left(R + \\tau \\right)} - \\log{\\left(r + \\tau \\right)}\\right) + 2 i \\pi \\int\\limits_{r}^{R} \\frac{1}{\\left(\\tau + z\\right) \\left(e^{- \\alpha + z} - 1\\right)}\\, dz + \\int\\limits_{- \\pi}^{\\pi} \\frac{i R e^{i \\theta} \\log{\\left(R e^{i \\theta} \\right)}}{\\left(R e^{i \\theta} - \\tau\\right) \\left(e^{R e^{i \\theta} + \\alpha} - 1\\right)}\\, d\\theta - \\int\\limits_{- \\pi}^{\\pi} \\frac{i r e^{i \\theta} \\log{\\left(r e^{i \\theta} \\right)}}{\\left(r e^{i \\theta} - \\tau\\right) \\left(e^{\\alpha + r e^{i \\theta}} - 1\\right)}\\, d\\theta$"
      ],
      "text/plain": [
       "2*I*pi*(log(R + tau) - log(r + tau)) + 2*I*pi*Integral(1/((tau + z)*(exp(-alpha + z) - 1)), (z, r, R)) + Integral(I*R*exp(I*theta)*log(R*exp(I*theta))/((R*exp(I*theta) - tau)*(exp(R*exp(I*theta) + alpha) - 1)), (theta, -pi, pi)) - Integral(I*r*exp(I*theta)*log(r*exp(I*theta))/((r*exp(I*theta) - tau)*(exp(alpha + r*exp(I*theta)) - 1)), (theta, -pi, pi))"
      ]
     },
     "execution_count": 289,
     "metadata": {},
     "output_type": "execute_result"
    }
   ],
   "source": [
    "(\n",
    "    2*I*pi*Integral(1/(tau+z)/(exp(-alpha+z) - 1),(z,r,R)) +\n",
    "    Integral(I*R*exp(I*theta)*log(R*exp(I*theta))/(R*exp(I*theta)-tau)/(exp(R*exp(I*theta)+alpha)-1),(theta,-pi,pi)) -\n",
    "    Integral(I*r*exp(I*theta)*log(r*exp(I*theta))/(r*exp(I*theta)-tau)/(exp(r*exp(I*theta)+alpha)-1),(theta,-pi,pi))\n",
    "    +2*I*pi*(log(R+tau)-log(r+tau))\n",
    ")"
   ]
  },
  {
   "cell_type": "code",
   "execution_count": 292,
   "metadata": {},
   "outputs": [
    {
     "data": {
      "text/latex": [
       "$\\displaystyle \\sum_{n=- N}^{N} \\frac{\\log{\\left(- \\alpha + 2 i \\pi n \\right)}}{- \\alpha + 2 i \\pi n - \\tau} + \\frac{\\log{\\left(\\tau \\right)}}{e^{\\alpha + \\tau} - 1}$"
      ],
      "text/plain": [
       "Sum(log(-alpha + 2*I*pi*n)/(-alpha + 2*I*pi*n - tau), (n, -N, N)) + log(tau)/(exp(alpha + tau) - 1)"
      ]
     },
     "execution_count": 292,
     "metadata": {},
     "output_type": "execute_result"
    }
   ],
   "source": [
    "ln(tau)/(exp(tau+alpha)-1) + Sum(ln(-alpha+2*I*n*pi)/(-alpha+2*I*n*pi-tau),(n,-N,N))"
   ]
  },
  {
   "cell_type": "code",
   "execution_count": 294,
   "metadata": {
    "scrolled": true
   },
   "outputs": [
    {
     "data": {
      "text/latex": [
       "$\\displaystyle - 2 i \\pi \\log{\\left(r + \\tau \\right)} + 2 i \\pi \\int\\limits_{r}^{R} \\frac{1}{\\left(\\tau + z\\right) \\left(e^{- \\alpha + z} - 1\\right)}\\, dz - \\int\\limits_{- \\pi}^{\\pi} \\frac{i r e^{i \\theta} \\log{\\left(r e^{i \\theta} \\right)}}{\\left(r e^{i \\theta} - \\tau\\right) \\left(e^{\\alpha + r e^{i \\theta}} - 1\\right)}\\, d\\theta - \\frac{2 i \\pi \\log{\\left(\\tau \\right)}}{e^{\\alpha + \\tau} - 1} = - 2 i \\pi \\log{\\left(R + \\tau \\right)} - \\int\\limits_{- \\pi}^{\\pi} \\frac{i R e^{i \\theta} \\log{\\left(R e^{i \\theta} \\right)}}{\\left(R e^{i \\theta} - \\tau\\right) \\left(e^{R e^{i \\theta} + \\alpha} - 1\\right)}\\, d\\theta + 2 i \\pi \\sum_{n=- N}^{N} \\frac{\\log{\\left(- \\alpha + 2 i \\pi n \\right)}}{- \\alpha + 2 i \\pi n - \\tau}$"
      ],
      "text/plain": [
       "Eq(-2*I*pi*log(r + tau) + 2*I*pi*Integral(1/((tau + z)*(exp(-alpha + z) - 1)), (z, r, R)) - Integral(I*r*exp(I*theta)*log(r*exp(I*theta))/((r*exp(I*theta) - tau)*(exp(alpha + r*exp(I*theta)) - 1)), (theta, -pi, pi)) - 2*I*pi*log(tau)/(exp(alpha + tau) - 1), -2*I*pi*log(R + tau) - Integral(I*R*exp(I*theta)*log(R*exp(I*theta))/((R*exp(I*theta) - tau)*(exp(R*exp(I*theta) + alpha) - 1)), (theta, -pi, pi)) + 2*I*pi*Sum(log(-alpha + 2*I*pi*n)/(-alpha + 2*I*pi*n - tau), (n, -N, N)))"
      ]
     },
     "execution_count": 294,
     "metadata": {},
     "output_type": "execute_result"
    }
   ],
   "source": [
    "Eq(\n",
    "    2*I*pi*Integral(1/(tau+z)/(exp(-alpha+z) - 1),(z,r,R)) -\n",
    "    Integral(I*r*exp(I*theta)*log(r*exp(I*theta))/(r*exp(I*theta)-tau)/(exp(r*exp(I*theta)+alpha)-1),(theta,-pi,pi))\n",
    "    -2*I*pi*log(r+tau) - 2*I*pi*ln(tau)/(exp(tau+alpha)-1),\n",
    "    2*I*pi*Sum(ln(-alpha+2*I*n*pi)/(-alpha+2*I*n*pi-tau),(n,-N,N)) - 2*I*pi*log(R+tau) - \n",
    "    Integral(I*R*exp(I*theta)*log(R*exp(I*theta))/(R*exp(I*theta)-tau)/(exp(R*exp(I*theta)+alpha)-1),(theta,-pi,pi))\n",
    ")"
   ]
  },
  {
   "cell_type": "code",
   "execution_count": 336,
   "metadata": {},
   "outputs": [
    {
     "data": {
      "text/latex": [
       "$\\displaystyle \\lim_{R \\to \\infty} \\int\\limits_{- \\pi}^{\\pi} \\frac{i R e^{i \\theta} \\log{\\left(R e^{i \\theta} \\right)}}{\\left(R e^{i \\theta} - \\tau\\right) \\left(e^{R e^{i \\theta} + \\alpha} - 1\\right)}\\, d\\theta = \\lim_{R \\to \\infty}\\left(- i \\pi \\log{\\left(R \\right)}\\right)$"
      ],
      "text/plain": [
       "Eq(Limit(Integral(I*R*exp(I*theta)*log(R*exp(I*theta))/((R*exp(I*theta) - tau)*(exp(R*exp(I*theta) + alpha) - 1)), (theta, -pi, pi)), R, oo, dir='-'), Limit(-I*pi*log(R), R, oo, dir='-'))"
      ]
     },
     "execution_count": 336,
     "metadata": {},
     "output_type": "execute_result"
    }
   ],
   "source": [
    "Eq(\n",
    "    Limit(\n",
    "        Integral(I*R*exp(I*theta)*log(R*exp(I*theta))/(R*exp(I*theta)-tau)/(exp(R*exp(I*theta)+alpha)-1),(theta,-pi,pi))\n",
    "    ,R,oo),\n",
    "    Limit(Integral((-I*log(R) + theta),(theta,-pi/2,pi/2)).doit(),R,oo)\n",
    ")"
   ]
  },
  {
   "cell_type": "code",
   "execution_count": 337,
   "metadata": {},
   "outputs": [
    {
     "data": {
      "text/latex": [
       "$\\displaystyle R = 2 \\pi N$"
      ],
      "text/plain": [
       "Eq(R, 2*pi*N)"
      ]
     },
     "execution_count": 337,
     "metadata": {},
     "output_type": "execute_result"
    }
   ],
   "source": [
    "Eq(R,2*pi*N)"
   ]
  },
  {
   "cell_type": "code",
   "execution_count": 304,
   "metadata": {},
   "outputs": [
    {
     "data": {
      "text/latex": [
       "$\\displaystyle \\int\\limits_{0}^{\\infty} \\frac{1}{\\left(\\tau + z\\right) \\left(e^{- \\alpha + z} - 1\\right)}\\, dz + \\frac{\\log{\\left(2 \\pi \\right)}}{2} - \\frac{\\log{\\left(\\tau \\right)}}{1 - e^{- \\alpha - \\tau}} = - \\frac{\\log{\\left(N \\right)}}{2} + \\sum_{n=- N}^{N} \\frac{\\log{\\left(- \\alpha + 2 i \\pi n \\right)}}{- \\alpha + 2 i \\pi n - \\tau}$"
      ],
      "text/plain": [
       "Eq(Integral(1/((tau + z)*(exp(-alpha + z) - 1)), (z, 0, oo)) + log(2*pi)/2 - log(tau)/(1 - exp(-alpha - tau)), -log(N)/2 + Sum(log(-alpha + 2*I*pi*n)/(-alpha + 2*I*pi*n - tau), (n, -N, N)))"
      ]
     },
     "execution_count": 304,
     "metadata": {},
     "output_type": "execute_result"
    }
   ],
   "source": [
    "Eq(\n",
    "    Integral(1/(tau+z)/(exp(-alpha+z) - 1),(z,0,oo)) - log(tau)/(1-exp(-tau-alpha)) + log(2*pi)/2,\n",
    "    Sum(ln(-alpha+2*I*n*pi)/(-alpha+2*I*n*pi-tau),(n,-N,N)) - log(N)/2\n",
    ")"
   ]
  },
  {
   "cell_type": "code",
   "execution_count": null,
   "metadata": {},
   "outputs": [],
   "source": [
    "(Integral(1/(tau+z)/(exp(-alpha+z) - 1),(z,0,oo)) - log(tau)/(1-exp(-tau-alpha)) + log(2*pi)/2).subs(num_subs).evalf()"
   ]
  },
  {
   "cell_type": "code",
   "execution_count": 352,
   "metadata": {},
   "outputs": [],
   "source": [
    "lhs_num = (\n",
    "    Integral(1/(tau+z)/(exp(-alpha+z) - 1),(z,0,oo)) - log(tau)/(1-exp(-tau-alpha)) + log(2*pi)/2\n",
    ").subs(num_subs).evalf()"
   ]
  },
  {
   "cell_type": "code",
   "execution_count": null,
   "metadata": {},
   "outputs": [],
   "source": [
    "Eq(\n",
    "    Limit(\n",
    "        Integral(I*R*exp(I*theta)*log(R*exp(I*theta))/(R*exp(I*theta)-tau)/(exp(R*exp(I*theta)+alpha)-1),(theta,-pi,pi))\n",
    "    ,R,oo),\n",
    "    Limit(Integral((-I*log(R) + theta),(theta,-pi/2,pi/2)).doit(),R,oo)\n",
    ")"
   ]
  },
  {
   "cell_type": "code",
   "execution_count": 353,
   "metadata": {},
   "outputs": [],
   "source": [
    "rhs_num = (Sum(ln(-alpha+2*I*n*pi)/(-alpha+2*I*n*pi-tau),(n,-N,N)) - log(N)/2).subs(N,100).subs(num_subs).evalf()"
   ]
  },
  {
   "cell_type": "code",
   "execution_count": 354,
   "metadata": {},
   "outputs": [
    {
     "data": {
      "text/plain": [
       "(1.0277025938146 - 1.44333136697502e-20*I,\n",
       " -0.574904661995325,\n",
       " -0.559407619923785 - 7.85646e-21*I)"
      ]
     },
     "execution_count": 354,
     "metadata": {},
     "output_type": "execute_result"
    }
   ],
   "source": [
    "lhs_num/rhs_num,lhs_num,rhs_num"
   ]
  },
  {
   "cell_type": "code",
   "execution_count": 334,
   "metadata": {},
   "outputs": [
    {
     "data": {
      "text/latex": [
       "$\\displaystyle 2 i \\pi \\int\\limits_{0}^{\\infty} \\frac{1}{\\left(- i \\tau + z\\right) \\left(e^{2 i \\pi \\alpha + 2 \\pi z} - 1\\right)}\\, dz + i \\pi \\log{\\left(2 \\pi \\right)} - \\frac{2 i \\pi \\log{\\left(- 2 i \\pi \\tau \\right)}}{1 - e^{2 i \\pi \\alpha + 2 i \\pi \\tau}} = - i \\pi \\log{\\left(N \\right)} + \\sum_{n=- N}^{N} \\frac{\\log{\\left(2 i \\pi \\left(\\alpha + n\\right) \\right)}}{\\alpha + n + \\tau}$"
      ],
      "text/plain": [
       "Eq(2*I*pi*Integral(1/((-I*tau + z)*(exp(2*I*pi*alpha + 2*pi*z) - 1)), (z, 0, oo)) + I*pi*log(2*pi) - 2*I*pi*log(-2*I*pi*tau)/(1 - exp(2*I*pi*alpha + 2*I*pi*tau)), -I*pi*log(N) + Sum(log(2*I*pi*(alpha + n))/(alpha + n + tau), (n, -N, N)))"
      ]
     },
     "execution_count": 334,
     "metadata": {},
     "output_type": "execute_result"
    }
   ],
   "source": [
    "Eq(\n",
    "    2*I*pi*Integral(1/(-tau*I+z)/(exp(I*2*pi*alpha+z*2*pi) - 1),(z,0,oo)) -\n",
    "    2*I*pi*log(-tau*2*I*pi)/(1-exp(tau*2*I*pi+I*2*pi*alpha)) + I*pi*log(2*pi),\n",
    "    Sum(ln(I*2*pi*(alpha+n))/(alpha+n+tau),(n,-N,N)) - I*pi*log(N)\n",
    ")"
   ]
  },
  {
   "cell_type": "code",
   "execution_count": 358,
   "metadata": {},
   "outputs": [
    {
     "data": {
      "text/latex": [
       "$\\displaystyle \\int\\limits_{\\alpha}^{\\infty} \\frac{1}{\\left(e^{z} - 1\\right) \\left(- \\alpha + \\tau + z\\right)}\\, dz + \\frac{\\log{\\left(2 \\pi \\right)}}{2} - \\frac{\\log{\\left(\\tau \\right)}}{1 - e^{\\alpha - \\tau}} = - \\frac{\\log{\\left(N \\right)}}{2} + \\sum_{n=- N}^{N} \\frac{\\log{\\left(\\alpha + 2 i \\pi n \\right)}}{\\alpha + 2 i \\pi n - \\tau}$"
      ],
      "text/plain": [
       "Eq(Integral(1/((exp(z) - 1)*(-alpha + tau + z)), (z, alpha, oo)) + log(2*pi)/2 - log(tau)/(1 - exp(alpha - tau)), -log(N)/2 + Sum(log(alpha + 2*I*pi*n)/(alpha + 2*I*pi*n - tau), (n, -N, N)))"
      ]
     },
     "execution_count": 358,
     "metadata": {},
     "output_type": "execute_result"
    }
   ],
   "source": [
    "Eq(\n",
    "    Integral((1/(tau+z-alpha)/(exp(z) - 1)),(z,alpha,oo)) - log(tau)/(1-exp(-tau+alpha)) + log(2*pi)/2,\n",
    "    Sum(ln(alpha+2*I*n*pi)/(alpha+2*I*n*pi-tau),(n,-N,N)) - log(N)/2\n",
    ")"
   ]
  },
  {
   "cell_type": "code",
   "execution_count": 359,
   "metadata": {},
   "outputs": [
    {
     "data": {
      "text/latex": [
       "$\\displaystyle \\int\\limits_{\\alpha}^{\\infty} \\frac{1}{\\left(\\tau + z\\right) \\left(e^{z} - 1\\right)}\\, dz + \\frac{\\log{\\left(2 \\pi \\right)}}{2} - \\frac{\\log{\\left(\\alpha + \\tau \\right)}}{1 - e^{- \\tau}} = - \\frac{\\log{\\left(N \\right)}}{2} + \\sum_{n=- N}^{N} \\frac{\\log{\\left(\\alpha + 2 i \\pi n \\right)}}{2 i \\pi n - \\tau}$"
      ],
      "text/plain": [
       "Eq(Integral(1/((tau + z)*(exp(z) - 1)), (z, alpha, oo)) + log(2*pi)/2 - log(alpha + tau)/(1 - exp(-tau)), -log(N)/2 + Sum(log(alpha + 2*I*pi*n)/(2*I*pi*n - tau), (n, -N, N)))"
      ]
     },
     "execution_count": 359,
     "metadata": {},
     "output_type": "execute_result"
    }
   ],
   "source": [
    "Eq(\n",
    "    Integral((1/(tau+z-alpha)/(exp(z) - 1)),(z,alpha,oo)) - log(tau)/(1-exp(-tau+alpha)) + log(2*pi)/2,\n",
    "    Sum(ln(alpha+2*I*n*pi)/(alpha+2*I*n*pi-tau),(n,-N,N)) - log(N)/2\n",
    ").subs(tau,tau+alpha)"
   ]
  },
  {
   "cell_type": "code",
   "execution_count": 6,
   "metadata": {},
   "outputs": [
    {
     "data": {
      "text/latex": [
       "$\\displaystyle - \\frac{1}{\\left(\\alpha + \\tau\\right) \\left(e^{\\alpha} - 1\\right)} - \\frac{1}{\\left(1 - e^{- \\tau}\\right) \\left(\\alpha + \\tau\\right)} = \\sum_{n=-\\infty}^{\\infty} \\frac{1}{\\left(\\alpha + 2 i \\pi n\\right) \\left(2 i \\pi n - \\tau\\right)}$"
      ],
      "text/plain": [
       "Eq(-1/((alpha + tau)*(exp(alpha) - 1)) - 1/((1 - exp(-tau))*(alpha + tau)), Sum(1/((alpha + 2*I*pi*n)*(2*I*pi*n - tau)), (n, -oo, oo)))"
      ]
     },
     "execution_count": 6,
     "metadata": {},
     "output_type": "execute_result"
    }
   ],
   "source": [
    "Eq(\n",
    "    diff(Integral((1/(tau+z)/(exp(z) - 1)),(z,alpha,oo)) - log(tau+alpha)/(1-exp(-tau)) + log(2*pi)/2,alpha),\n",
    "    Sum(diff(ln(alpha+2*I*n*pi)/(2*I*n*pi-tau),alpha),(n,-oo,oo))\n",
    ")"
   ]
  },
  {
   "cell_type": "code",
   "execution_count": 41,
   "metadata": {},
   "outputs": [
    {
     "data": {
      "text/latex": [
       "$\\displaystyle \\frac{- a + b}{\\left(a + n\\right) \\left(b + n\\right)}$"
      ],
      "text/plain": [
       "(-a + b)/((a + n)*(b + n))"
      ]
     },
     "execution_count": 41,
     "metadata": {},
     "output_type": "execute_result"
    }
   ],
   "source": [
    "(1/(a+n)-1/(b+n)).simplify()"
   ]
  },
  {
   "cell_type": "code",
   "execution_count": 18,
   "metadata": {},
   "outputs": [
    {
     "data": {
      "text/latex": [
       "$\\displaystyle -0.0299605105989373$"
      ],
      "text/plain": [
       "-0.0299605105989373"
      ]
     },
     "execution_count": 18,
     "metadata": {},
     "output_type": "execute_result"
    }
   ],
   "source": [
    "(-1/(tau+alpha)/(exp(alpha) - 1) - 1/(tau+alpha)/(1 - exp(-tau))).subs([(alpha,4),(tau,30)]).evalf()"
   ]
  },
  {
   "cell_type": "code",
   "execution_count": 19,
   "metadata": {},
   "outputs": [
    {
     "data": {
      "text/latex": [
       "$\\displaystyle -0.0289599925676263 + 3.0 \\cdot 10^{-26} i$"
      ],
      "text/plain": [
       "-0.0289599925676263 + 0.e-26*I"
      ]
     },
     "execution_count": 19,
     "metadata": {},
     "output_type": "execute_result"
    }
   ],
   "source": [
    "Sum(1/(2*I*n*pi-tau)/(alpha+2*I*n*pi),(n,-N,N)).subs([(alpha,4),(tau,30),(N,50)]).evalf()"
   ]
  },
  {
   "cell_type": "code",
   "execution_count": 24,
   "metadata": {},
   "outputs": [
    {
     "data": {
      "text/latex": [
       "$\\displaystyle - \\log{\\left(- 2 i \\pi n \\right)} + \\log{\\left(- \\alpha - 2 i \\pi n \\right)}$"
      ],
      "text/plain": [
       "-log(-2*I*pi*n) + log(-alpha - 2*I*pi*n)"
      ]
     },
     "execution_count": 24,
     "metadata": {},
     "output_type": "execute_result"
    }
   ],
   "source": [
    "integrate(1/(z+2*I*pi*n),(z,0,alpha))"
   ]
  },
  {
   "cell_type": "code",
   "execution_count": 26,
   "metadata": {},
   "outputs": [
    {
     "data": {
      "text/latex": [
       "$\\displaystyle \\log{\\left(R + y \\right)} - \\log{\\left(\\alpha + y \\right)}$"
      ],
      "text/plain": [
       "log(R + y) - log(alpha + y)"
      ]
     },
     "execution_count": 26,
     "metadata": {},
     "output_type": "execute_result"
    }
   ],
   "source": [
    "integrate(1/(x+y),(x,alpha,R))"
   ]
  },
  {
   "cell_type": "code",
   "execution_count": 37,
   "metadata": {},
   "outputs": [
    {
     "data": {
      "text/latex": [
       "$\\displaystyle - \\int\\limits_{\\alpha}^{R} \\frac{1}{\\left(\\tau + z\\right) \\left(e^{z} - 1\\right)}\\, dz - \\frac{\\log{\\left(R + \\tau \\right)} - \\log{\\left(\\alpha + \\tau \\right)}}{1 - e^{- \\tau}}$"
      ],
      "text/plain": [
       "-Integral(1/((tau + z)*(exp(z) - 1)), (z, alpha, R)) - (log(R + tau) - log(alpha + tau))/(1 - exp(-tau))"
      ]
     },
     "execution_count": 37,
     "metadata": {},
     "output_type": "execute_result"
    }
   ],
   "source": [
    "-Integral(1/(tau+z)/(exp(z) - 1),(z,alpha,R)) - integrate(1/(tau+z),(z,alpha,R))/(1 - exp(-tau))"
   ]
  },
  {
   "cell_type": "code",
   "execution_count": 38,
   "metadata": {},
   "outputs": [
    {
     "data": {
      "text/latex": [
       "$\\displaystyle \\sum_{n=- N}^{N} \\frac{\\log{\\left(- R - 2 i \\pi n \\right)} - \\log{\\left(- \\alpha - 2 i \\pi n \\right)}}{2 i \\pi n - \\tau}$"
      ],
      "text/plain": [
       "Sum((log(-R - 2*I*pi*n) - log(-alpha - 2*I*pi*n))/(2*I*pi*n - tau), (n, -N, N))"
      ]
     },
     "execution_count": 38,
     "metadata": {},
     "output_type": "execute_result"
    }
   ],
   "source": [
    "Sum(1/(2*I*n*pi-tau)*integrate(1/(z+2*I*n*pi),(z,alpha,R)),(n,-N,N))"
   ]
  },
  {
   "cell_type": "code",
   "execution_count": 43,
   "metadata": {},
   "outputs": [
    {
     "data": {
      "text/latex": [
       "$\\displaystyle \\frac{d}{d h{\\left(x \\right)}} f{\\left(h{\\left(x \\right)} \\right)} \\frac{d}{d x} h{\\left(x \\right)}$"
      ],
      "text/plain": [
       "Derivative(f(h(x)), h(x))*Derivative(h(x), x)"
      ]
     },
     "execution_count": 43,
     "metadata": {},
     "output_type": "execute_result"
    }
   ],
   "source": [
    "diff(f(h(x)),x)"
   ]
  },
  {
   "cell_type": "code",
   "execution_count": 48,
   "metadata": {},
   "outputs": [
    {
     "data": {
      "text/latex": [
       "$\\displaystyle 2 \\log{\\left(\\Gamma\\left(x + y\\right) \\right)} \\operatorname{polygamma}{\\left(0,x + y \\right)}$"
      ],
      "text/plain": [
       "2*log(gamma(x + y))*polygamma(0, x + y)"
      ]
     },
     "execution_count": 48,
     "metadata": {},
     "output_type": "execute_result"
    }
   ],
   "source": [
    "diff(log(gamma(x+y))**2,x)"
   ]
  },
  {
   "cell_type": "code",
   "execution_count": 4,
   "metadata": {},
   "outputs": [
    {
     "data": {
      "text/latex": [
       "$\\displaystyle f^{s}{\\left(x \\right)} \\log{\\left(f{\\left(x \\right)} \\right)}$"
      ],
      "text/plain": [
       "f(x)**s*log(f(x))"
      ]
     },
     "execution_count": 4,
     "metadata": {},
     "output_type": "execute_result"
    }
   ],
   "source": [
    "diff(f(x)**s,s)"
   ]
  },
  {
   "cell_type": "code",
   "execution_count": null,
   "metadata": {},
   "outputs": [],
   "source": []
  }
 ],
 "metadata": {
  "kernelspec": {
   "display_name": "Python 3",
   "language": "python",
   "name": "python3"
  },
  "language_info": {
   "codemirror_mode": {
    "name": "ipython",
    "version": 3
   },
   "file_extension": ".py",
   "mimetype": "text/x-python",
   "name": "python",
   "nbconvert_exporter": "python",
   "pygments_lexer": "ipython3",
   "version": "3.8.10"
  }
 },
 "nbformat": 4,
 "nbformat_minor": 4
}
