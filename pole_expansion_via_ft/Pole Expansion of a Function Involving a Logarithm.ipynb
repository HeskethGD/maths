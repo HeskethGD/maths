{
 "cells": [
  {
   "cell_type": "markdown",
   "metadata": {},
   "source": [
    "# Pole Expansion of a Function Involving a Logarithm"
   ]
  },
  {
   "cell_type": "code",
   "execution_count": 1,
   "metadata": {},
   "outputs": [],
   "source": [
    "from sympy import *"
   ]
  },
  {
   "cell_type": "code",
   "execution_count": 2,
   "metadata": {},
   "outputs": [],
   "source": [
    "x, y, n, m, K, k, epsilon, z, s, a, R, N, r, T, b, c, d = symbols('x, y, n, m, K, k, epsilon, z, s, a, R, N, r, T, b, c, d')\n",
    "alpha, beta, delta, t, mu, nu, epsilon, theta, phi, tau, omega, kappa = symbols(\n",
    "    'alpha, beta, delta, t, mu, nu, epsilon, theta, phi, tau, omega, kappa')"
   ]
  },
  {
   "cell_type": "code",
   "execution_count": 3,
   "metadata": {},
   "outputs": [],
   "source": [
    "f = Function(\"f\")\n",
    "g = Function(\"g\")\n",
    "h = Function(\"h\")\n",
    "F = Function(\"F\")\n",
    "G = Function(\"G\")\n",
    "H = Function(\"H\")"
   ]
  },
  {
   "cell_type": "code",
   "execution_count": 4,
   "metadata": {},
   "outputs": [],
   "source": [
    "Resf = Function('Resf')\n",
    "Resh = Function(\"Resh\")\n",
    "fpole = IndexedBase('fpole')\n",
    "hpole = IndexedBase('hpole')\n",
    "Nfupperpoles, Nflowerpoles, Nfpoles = symbols('Nfupperpoles Nflowerpoles Nfpoles')\n",
    "Nhupperpoles, Nhlowerpoles, Nhpoles = symbols('Nhupperpoles Nhlowerpoles Nhpoles')"
   ]
  },
  {
   "cell_type": "markdown",
   "metadata": {},
   "source": [
    "### General Fourier Transform Formulas"
   ]
  },
  {
   "cell_type": "code",
   "execution_count": 4,
   "metadata": {},
   "outputs": [
    {
     "data": {
      "text/latex": [
       "$\\displaystyle F{\\left(\\omega \\right)} = \\int\\limits_{-\\infty}^{\\infty} f{\\left(\\tau \\right)} e^{- 2 i \\pi \\omega \\tau}\\, d\\tau$"
      ],
      "text/plain": [
       "Eq(F(omega), Integral(f(tau)*exp(-2*I*pi*omega*tau), (tau, -oo, oo)))"
      ]
     },
     "execution_count": 4,
     "metadata": {},
     "output_type": "execute_result"
    }
   ],
   "source": [
    "Eq(F(omega),Integral(f(tau)*exp(-2*I*pi*omega*tau),(tau,-oo,oo)))"
   ]
  },
  {
   "cell_type": "code",
   "execution_count": 5,
   "metadata": {
    "scrolled": true
   },
   "outputs": [
    {
     "data": {
      "text/latex": [
       "$\\displaystyle f{\\left(\\tau \\right)} = \\int\\limits_{-\\infty}^{\\infty} F{\\left(\\omega \\right)} e^{2 i \\pi \\omega \\tau}\\, d\\omega$"
      ],
      "text/plain": [
       "Eq(f(tau), Integral(F(omega)*exp(2*I*pi*omega*tau), (omega, -oo, oo)))"
      ]
     },
     "execution_count": 5,
     "metadata": {},
     "output_type": "execute_result"
    }
   ],
   "source": [
    "Eq(f(tau),Integral(F(omega)*exp(2*I*pi*omega*tau),(omega,-oo,oo)))"
   ]
  },
  {
   "cell_type": "markdown",
   "metadata": {},
   "source": [
    "## Defining the integral of interest\n",
    "\n",
    "This work is motivated by an interest in this [question on stackoverflow ](https://math.stackexchange.com/questions/364452/evaluate-int-0-frac-pi2-frac11x21-tan-x-mathrm-dx). "
   ]
  },
  {
   "cell_type": "code",
   "execution_count": 5,
   "metadata": {},
   "outputs": [],
   "source": [
    "g_z = f(z)/(1-exp(I*(alpha+z))) #*ln(z)"
   ]
  },
  {
   "cell_type": "code",
   "execution_count": 7,
   "metadata": {
    "scrolled": true
   },
   "outputs": [
    {
     "data": {
      "text/latex": [
       "$\\displaystyle g{\\left(z \\right)} = \\frac{f{\\left(z \\right)}}{1 - e^{i \\left(\\alpha + z\\right)}}$"
      ],
      "text/plain": [
       "Eq(g(z), f(z)/(1 - exp(I*(alpha + z))))"
      ]
     },
     "execution_count": 7,
     "metadata": {},
     "output_type": "execute_result"
    }
   ],
   "source": [
    "Eq(g(z), g_z)"
   ]
  },
  {
   "cell_type": "code",
   "execution_count": 8,
   "metadata": {},
   "outputs": [
    {
     "data": {
      "text/latex": [
       "$\\displaystyle f{\\left(z \\right)} = h{\\left(z \\right)} \\log{\\left(z \\right)}$"
      ],
      "text/plain": [
       "Eq(f(z), h(z)*log(z))"
      ]
     },
     "execution_count": 8,
     "metadata": {},
     "output_type": "execute_result"
    }
   ],
   "source": [
    "Eq(f(z),h(z)*ln(z))"
   ]
  },
  {
   "cell_type": "code",
   "execution_count": 6,
   "metadata": {},
   "outputs": [],
   "source": [
    "G_integrand_tau = g_z.subs(z,tau)*exp(-2*I*pi*omega*tau)\n",
    "G_integrand_h_tau = g_z.subs(f(z),h(z)*ln(z)).subs(z,tau)*exp(-2*I*pi*omega*tau)"
   ]
  },
  {
   "cell_type": "code",
   "execution_count": 10,
   "metadata": {},
   "outputs": [
    {
     "data": {
      "text/latex": [
       "$\\displaystyle G{\\left(\\omega,a \\right)} = \\int\\limits_{-\\infty}^{\\infty} \\frac{f{\\left(\\tau \\right)} e^{- 2 i \\pi \\omega \\tau}}{1 - e^{i \\left(\\alpha + \\tau\\right)}}\\, d\\tau$"
      ],
      "text/plain": [
       "Eq(G(omega, a), Integral(f(tau)*exp(-2*I*pi*omega*tau)/(1 - exp(I*(alpha + tau))), (tau, -oo, oo)))"
      ]
     },
     "execution_count": 10,
     "metadata": {},
     "output_type": "execute_result"
    }
   ],
   "source": [
    "Eq(G(omega, a),Integral(G_integrand_tau,(tau,-oo,oo)))"
   ]
  },
  {
   "cell_type": "code",
   "execution_count": 11,
   "metadata": {},
   "outputs": [
    {
     "data": {
      "text/latex": [
       "$\\displaystyle \\int\\limits_{- \\pi}^{\\pi} \\left(- \\frac{i r h{\\left(r e^{- i \\theta} \\right)} e^{- i \\theta} e^{- 2 i \\pi \\omega r e^{- i \\theta}} \\log{\\left(r e^{- i \\theta} \\right)}}{1 - e^{i \\left(\\alpha + r e^{- i \\theta}\\right)}}\\right)\\, d\\theta$"
      ],
      "text/plain": [
       "Integral(-I*r*h(r*exp(-I*theta))*exp(-I*theta)*exp(-2*I*pi*omega*r*exp(-I*theta))*log(r*exp(-I*theta))/(1 - exp(I*(alpha + r*exp(-I*theta)))), (theta, -pi, pi))"
      ]
     },
     "execution_count": 11,
     "metadata": {},
     "output_type": "execute_result"
    }
   ],
   "source": [
    "Integral(G_integrand_h_tau.subs(tau,r*exp(-I*theta))*(-I*r*exp(-I*theta)),(theta,-pi,pi))"
   ]
  },
  {
   "cell_type": "code",
   "execution_count": 12,
   "metadata": {},
   "outputs": [
    {
     "data": {
      "text/latex": [
       "$\\displaystyle 0$"
      ],
      "text/plain": [
       "0"
      ]
     },
     "execution_count": 12,
     "metadata": {},
     "output_type": "execute_result"
    }
   ],
   "source": [
    "limit(r*ln(r),r,0)"
   ]
  },
  {
   "cell_type": "markdown",
   "metadata": {},
   "source": [
    "## Calculating the Fourier Transform"
   ]
  },
  {
   "cell_type": "markdown",
   "metadata": {},
   "source": [
    "### Evaluating G using contour integration\n",
    "\n",
    "We want to evaluate G using contour integration but is clear that we need to close the contour appropriately to ensure convergence. If omega is negative we close the contour in the upper half plane counterclockwise and if it is positive we would close it in the lower half plane clockwise. We must also perturb the straight part of the negative real axis then take the limit to handle the branch cut of the logarithm and we must appropriate define a small arc around the orgin and take the limit to avoid the branch point of the logarithm."
   ]
  },
  {
   "cell_type": "markdown",
   "metadata": {},
   "source": [
    "#### Defining the contour integral and evaluation with the residue theorem\n",
    "\n",
    "We will be assuming that both the small arc and large arc tend to zero in the limit."
   ]
  },
  {
   "cell_type": "code",
   "execution_count": 7,
   "metadata": {},
   "outputs": [],
   "source": [
    "PosStraightPartUpper = Function(\"PosStraightPartUpper\")\n",
    "PosStraightPartLower = Function(\"PosStraightPartLower\")\n",
    "NegStraightPartUpper = Function(\"NegStraightPartUpper\")\n",
    "NegStraightPartLower = Function(\"NegStraightPartLower\")\n",
    "BigArcPartUpper = Function(\"BigArcPartUpper\")\n",
    "BigArcPartLower = Function(\"BigArcPartLower\")\n",
    "SmallArcPartUpper = Function(\"SmallArcPartUpper\")\n",
    "SmallArcPartLower = Function(\"SmallArcPartLower\")\n",
    "ResUpper =  Function(\"ResUpper\")\n",
    "ResLower =  Function(\"ResLower\")\n",
    "Res =  Function(\"Res\")"
   ]
  },
  {
   "cell_type": "code",
   "execution_count": 14,
   "metadata": {
    "scrolled": true
   },
   "outputs": [
    {
     "data": {
      "text/latex": [
       "$\\displaystyle \\operatorname{BigArcPartUpper}{\\left(R,\\omega,\\alpha \\right)} + \\operatorname{NegStraightPartUpper}{\\left(R,r,\\omega,\\alpha \\right)} + \\operatorname{PosStraightPartUpper}{\\left(R,r,\\omega,\\alpha \\right)} + \\operatorname{SmallArcPartUpper}{\\left(R,r,\\omega,\\alpha \\right)} = 2 i \\pi \\sum_{n=1}^{N} \\operatorname{ResUpper}{\\left(n,R,r,\\omega,\\alpha \\right)}$"
      ],
      "text/plain": [
       "Eq(BigArcPartUpper(R, omega, alpha) + NegStraightPartUpper(R, r, omega, alpha) + PosStraightPartUpper(R, r, omega, alpha) + SmallArcPartUpper(R, r, omega, alpha), 2*I*pi*Sum(ResUpper(n, R, r, omega, alpha), (n, 1, N)))"
      ]
     },
     "execution_count": 14,
     "metadata": {},
     "output_type": "execute_result"
    }
   ],
   "source": [
    "Eq(\n",
    "    NegStraightPartUpper(R, r, omega, alpha) +\n",
    "    SmallArcPartUpper(R, r, omega, alpha) +\n",
    "    PosStraightPartUpper(R, r, omega, alpha) +\n",
    "    BigArcPartUpper(R, omega, alpha), \n",
    "    2*pi*I*Sum(ResUpper(n, R, r, omega, alpha),(n,1,N))\n",
    ")"
   ]
  },
  {
   "cell_type": "code",
   "execution_count": 15,
   "metadata": {},
   "outputs": [
    {
     "data": {
      "text/latex": [
       "$\\displaystyle \\operatorname{NegStraightPartUpper}{\\left(R,r,\\omega,\\alpha \\right)} + \\operatorname{PosStraightPartUpper}{\\left(R,r,\\omega,\\alpha \\right)} = - \\operatorname{BigArcPartUpper}{\\left(R,r,\\omega,\\alpha \\right)} - \\operatorname{SmallArcPartUpper}{\\left(R,r,\\omega,\\alpha \\right)} + 2 i \\pi \\sum_{n=1}^{N} \\operatorname{ResUpper}{\\left(n,R,r,\\omega,\\alpha \\right)}$"
      ],
      "text/plain": [
       "Eq(NegStraightPartUpper(R, r, omega, alpha) + PosStraightPartUpper(R, r, omega, alpha), -BigArcPartUpper(R, r, omega, alpha) - SmallArcPartUpper(R, r, omega, alpha) + 2*I*pi*Sum(ResUpper(n, R, r, omega, alpha), (n, 1, N)))"
      ]
     },
     "execution_count": 15,
     "metadata": {},
     "output_type": "execute_result"
    }
   ],
   "source": [
    "Eq(\n",
    "    NegStraightPartUpper(R, r, omega, alpha) +\n",
    "    PosStraightPartUpper(R, r, omega, alpha), \n",
    "    2*pi*I*Sum(ResUpper(n, R, r, omega, alpha),(n,1,N)) \n",
    "    - SmallArcPartUpper(R, r, omega, alpha) - BigArcPartUpper(R, r, omega, alpha)\n",
    ")"
   ]
  },
  {
   "cell_type": "code",
   "execution_count": 16,
   "metadata": {},
   "outputs": [
    {
     "data": {
      "text/latex": [
       "$\\displaystyle G{\\left(\\omega,a \\right)} = \\int\\limits_{-\\infty}^{\\infty} \\frac{h{\\left(\\tau \\right)} e^{- 2 i \\pi \\omega \\tau} \\log{\\left(\\tau \\right)}}{1 - e^{i \\left(\\alpha + \\tau\\right)}}\\, d\\tau$"
      ],
      "text/plain": [
       "Eq(G(omega, a), Integral(h(tau)*exp(-2*I*pi*omega*tau)*log(tau)/(1 - exp(I*(alpha + tau))), (tau, -oo, oo)))"
      ]
     },
     "execution_count": 16,
     "metadata": {},
     "output_type": "execute_result"
    }
   ],
   "source": [
    "Eq(G(omega, a),Integral(G_integrand_h_tau,(tau,-oo,oo)))"
   ]
  },
  {
   "cell_type": "code",
   "execution_count": 8,
   "metadata": {},
   "outputs": [],
   "source": [
    "G_integrand_h_z = G_integrand_h_tau.subs(tau,z)"
   ]
  },
  {
   "cell_type": "markdown",
   "metadata": {},
   "source": [
    "When omega is negative:"
   ]
  },
  {
   "cell_type": "code",
   "execution_count": 18,
   "metadata": {
    "scrolled": true
   },
   "outputs": [
    {
     "data": {
      "text/latex": [
       "$\\displaystyle \\operatorname{NegStraightPartUpper}{\\left(R,r,\\omega,\\alpha \\right)} + \\operatorname{PosStraightPartUpper}{\\left(R,r,\\omega,\\alpha \\right)} = \\int\\limits_{- R}^{- r} \\frac{h{\\left(z \\right)} e^{- 2 i \\pi \\omega z} \\log{\\left(z \\right)}}{1 - e^{i \\left(\\alpha + z\\right)}}\\, dz + \\int\\limits_{r}^{R} \\frac{h{\\left(z \\right)} e^{- 2 i \\pi \\omega z} \\log{\\left(z \\right)}}{1 - e^{i \\left(\\alpha + z\\right)}}\\, dz$"
      ],
      "text/plain": [
       "Eq(NegStraightPartUpper(R, r, omega, alpha) + PosStraightPartUpper(R, r, omega, alpha), Integral(h(z)*exp(-2*I*pi*omega*z)*log(z)/(1 - exp(I*(alpha + z))), (z, -R, -r)) + Integral(h(z)*exp(-2*I*pi*omega*z)*log(z)/(1 - exp(I*(alpha + z))), (z, r, R)))"
      ]
     },
     "execution_count": 18,
     "metadata": {},
     "output_type": "execute_result"
    }
   ],
   "source": [
    "Eq(NegStraightPartUpper(R, r, omega, alpha) +\n",
    "    PosStraightPartUpper(R, r, omega, alpha), Integral(G_integrand_h_z,(z,-R,-r)) + Integral(G_integrand_h_z,(z,r,R)))"
   ]
  },
  {
   "cell_type": "code",
   "execution_count": 19,
   "metadata": {},
   "outputs": [
    {
     "data": {
      "text/latex": [
       "$\\displaystyle G{\\left(\\omega,a \\right)} = \\operatorname{NegStraightPartUpper}{\\left(R,r,\\omega,\\alpha \\right)} + \\operatorname{PosStraightPartUpper}{\\left(R,r,\\omega,\\alpha \\right)}$"
      ],
      "text/plain": [
       "Eq(G(omega, a), NegStraightPartUpper(R, r, omega, alpha) + PosStraightPartUpper(R, r, omega, alpha))"
      ]
     },
     "execution_count": 19,
     "metadata": {},
     "output_type": "execute_result"
    }
   ],
   "source": [
    "Eq(G(omega, a),NegStraightPartUpper(R, r, omega, alpha) + PosStraightPartUpper(R, r, omega, alpha))"
   ]
  },
  {
   "cell_type": "code",
   "execution_count": 20,
   "metadata": {},
   "outputs": [
    {
     "data": {
      "text/latex": [
       "$\\displaystyle G{\\left(\\omega,a \\right)} = 2 i \\pi \\sum_{n=1}^{N} \\operatorname{ResUpper}{\\left(n,\\omega,\\alpha \\right)}$"
      ],
      "text/plain": [
       "Eq(G(omega, a), 2*I*pi*Sum(ResUpper(n, omega, alpha), (n, 1, N)))"
      ]
     },
     "execution_count": 20,
     "metadata": {},
     "output_type": "execute_result"
    }
   ],
   "source": [
    "Eq(G(omega, a),2*pi*I*Sum(ResUpper(n, omega, alpha),(n,1,N)))"
   ]
  },
  {
   "cell_type": "markdown",
   "metadata": {},
   "source": [
    "But when omega is positive we must close the contour in the lower half plane and approach the negative real axis as a limit due to the branch cut of the logarithm along the negative real axis. This limit gives a different result than the integral we are interested in and instead we have:"
   ]
  },
  {
   "cell_type": "code",
   "execution_count": 21,
   "metadata": {},
   "outputs": [
    {
     "data": {
      "text/latex": [
       "$\\displaystyle \\operatorname{NegStraightPartLower}{\\left(R,r,\\omega,\\alpha \\right)} = \\int\\limits_{- R}^{r} \\frac{\\left(\\log{\\left(z \\right)} - 2 i \\pi\\right) h{\\left(z \\right)} e^{- 2 i \\pi \\omega z}}{1 - e^{i \\left(\\alpha + z\\right)}}\\, dz$"
      ],
      "text/plain": [
       "Eq(NegStraightPartLower(R, r, omega, alpha), Integral((log(z) - 2*I*pi)*h(z)*exp(-2*I*pi*omega*z)/(1 - exp(I*(alpha + z))), (z, -R, r)))"
      ]
     },
     "execution_count": 21,
     "metadata": {},
     "output_type": "execute_result"
    }
   ],
   "source": [
    "Eq(NegStraightPartLower(R, r, omega, alpha), Integral(G_integrand_tau.subs(tau,z).subs(f,h)*(ln(z)-2*I*pi),(z,-R,r)))"
   ]
  },
  {
   "cell_type": "code",
   "execution_count": 22,
   "metadata": {},
   "outputs": [
    {
     "data": {
      "text/latex": [
       "$\\displaystyle \\operatorname{PosStraightPartLower}{\\left(R,r,\\omega,\\alpha \\right)} = \\int\\limits_{r}^{R} \\frac{h{\\left(z \\right)} e^{- 2 i \\pi \\omega z} \\log{\\left(z \\right)}}{1 - e^{i \\left(\\alpha + z\\right)}}\\, dz$"
      ],
      "text/plain": [
       "Eq(PosStraightPartLower(R, r, omega, alpha), Integral(h(z)*exp(-2*I*pi*omega*z)*log(z)/(1 - exp(I*(alpha + z))), (z, r, R)))"
      ]
     },
     "execution_count": 22,
     "metadata": {},
     "output_type": "execute_result"
    }
   ],
   "source": [
    "Eq(PosStraightPartLower(R, r, omega, alpha), Integral(G_integrand_h_z,(z,r,R)))"
   ]
  },
  {
   "cell_type": "code",
   "execution_count": 23,
   "metadata": {},
   "outputs": [
    {
     "data": {
      "text/latex": [
       "$\\displaystyle G{\\left(\\omega,a \\right)} = \\operatorname{NegStraightPartLower}{\\left(R,r,\\omega,\\alpha \\right)} + \\operatorname{PosStraightPartLower}{\\left(R,r,\\omega,\\alpha \\right)} + 2 i \\pi \\int\\limits_{- R}^{r} \\frac{h{\\left(z \\right)} e^{- 2 i \\pi \\omega z}}{1 - e^{i \\left(\\alpha + z\\right)}}\\, dz$"
      ],
      "text/plain": [
       "Eq(G(omega, a), NegStraightPartLower(R, r, omega, alpha) + PosStraightPartLower(R, r, omega, alpha) + 2*I*pi*Integral(h(z)*exp(-2*I*pi*omega*z)/(1 - exp(I*(alpha + z))), (z, -R, r)))"
      ]
     },
     "execution_count": 23,
     "metadata": {},
     "output_type": "execute_result"
    }
   ],
   "source": [
    "Eq(G(omega, a),\n",
    "   NegStraightPartLower(R, r, omega, alpha) \n",
    "   + PosStraightPartLower(R, r, omega, alpha) \n",
    "   + 2*I*pi*Integral(G_integrand_tau.subs(tau,z).subs(f,h),(z,-R,r))\n",
    "  )"
   ]
  },
  {
   "cell_type": "code",
   "execution_count": 24,
   "metadata": {},
   "outputs": [
    {
     "data": {
      "text/latex": [
       "$\\displaystyle G{\\left(\\omega,a \\right)} = 2 i \\pi \\lim_{R \\to \\infty} \\lim_{r \\to 0^+} \\int\\limits_{- R}^{r} \\frac{h{\\left(z \\right)} e^{- 2 i \\pi \\omega z}}{1 - e^{i \\left(\\alpha + z\\right)}}\\, dz - 2 i \\pi \\lim_{R \\to \\infty} \\lim_{r \\to 0^+} \\sum_{n=1}^{N} \\operatorname{ResLower}{\\left(n,R,r,\\omega,\\alpha \\right)}$"
      ],
      "text/plain": [
       "Eq(G(omega, a), 2*I*pi*Limit(Limit(Integral(h(z)*exp(-2*I*pi*omega*z)/(1 - exp(I*(alpha + z))), (z, -R, r)), r, 0), R, oo, dir='-') - 2*I*pi*Limit(Limit(Sum(ResLower(n, R, r, omega, alpha), (n, 1, N)), r, 0), R, oo, dir='-'))"
      ]
     },
     "execution_count": 24,
     "metadata": {},
     "output_type": "execute_result"
    }
   ],
   "source": [
    "Eq(G(omega, a),-2*pi*I*Limit(Limit(Sum(ResLower(n, R, r, omega, alpha),(n,1,N)),r,0),R,oo) \n",
    "   + 2*I*pi*Limit(Limit(Integral(G_integrand_tau.subs(tau,z).subs(f,h),(z,-R,r)),r,0),R,oo)\n",
    "  )"
   ]
  },
  {
   "cell_type": "markdown",
   "metadata": {},
   "source": [
    "Putting it together gives the following expression for G over any real omega:"
   ]
  },
  {
   "cell_type": "code",
   "execution_count": 25,
   "metadata": {},
   "outputs": [
    {
     "data": {
      "text/latex": [
       "$\\displaystyle G{\\left(\\omega,\\alpha \\right)} = 2 i \\pi \\theta\\left(\\omega\\right) \\lim_{R \\to \\infty} \\lim_{r \\to 0^+} \\int\\limits_{- R}^{r} \\frac{h{\\left(z \\right)} e^{- 2 i \\pi \\omega z}}{1 - e^{i \\left(\\alpha + z\\right)}}\\, dz - 2 i \\pi \\operatorname{sign}{\\left(\\omega \\right)} \\lim_{R \\to \\infty} \\lim_{r \\to 0^+} \\sum_{n=1}^{N} \\operatorname{ResLower}{\\left(n,R,r,\\omega,\\alpha \\right)} + 2 i \\pi \\operatorname{sign}{\\left(\\omega \\right)} \\lim_{R \\to \\infty} \\lim_{r \\to 0^+} \\sum_{n=1}^{N} \\operatorname{ResUpper}{\\left(n,\\omega,\\alpha \\right)}$"
      ],
      "text/plain": [
       "Eq(G(omega, alpha), 2*I*pi*Heaviside(omega)*Limit(Limit(Integral(h(z)*exp(-2*I*pi*omega*z)/(1 - exp(I*(alpha + z))), (z, -R, r)), r, 0), R, oo, dir='-') - 2*I*pi*sign(omega)*Limit(Limit(Sum(ResLower(n, R, r, omega, alpha), (n, 1, N)), r, 0), R, oo, dir='-') + 2*I*pi*sign(omega)*Limit(Limit(Sum(ResUpper(n, omega, alpha), (n, 1, N)), r, 0), R, oo, dir='-'))"
      ]
     },
     "execution_count": 25,
     "metadata": {},
     "output_type": "execute_result"
    }
   ],
   "source": [
    "Eq(G(omega, alpha), -sign(omega)*2*pi*I*Limit(Limit(Sum(ResLower(n, R, r, omega, alpha),(n,1,N)),r,0),R,oo)\n",
    "   + sign(omega)*2*pi*I*Limit(Limit(Sum(ResUpper(n, omega, alpha),(n,1,N)),r,0),R,oo)\n",
    "  + 2*I*pi*Heaviside(omega)*Limit(Limit(Integral(G_integrand_tau.subs(tau,z).subs(f,h),(z,-R,r)),r,0),R,oo)\n",
    "  )"
   ]
  },
  {
   "cell_type": "markdown",
   "metadata": {},
   "source": [
    "#### Evaluating the residue sum\n",
    "The case when omega is negative so we close the contour in the upper plane so the imaginary part of z is positive:"
   ]
  },
  {
   "cell_type": "code",
   "execution_count": 9,
   "metadata": {},
   "outputs": [
    {
     "data": {
      "text/latex": [
       "$\\displaystyle \\frac{f{\\left(z \\right)} e^{- 2 i \\pi \\omega z}}{1 - e^{i \\left(\\alpha + z\\right)}}$"
      ],
      "text/plain": [
       "f(z)*exp(-2*I*pi*omega*z)/(1 - exp(I*(alpha + z)))"
      ]
     },
     "execution_count": 9,
     "metadata": {},
     "output_type": "execute_result"
    }
   ],
   "source": [
    "G_integrand_z = g_z*exp(-2*I*pi*omega*z)\n",
    "G_integrand_z"
   ]
  },
  {
   "cell_type": "markdown",
   "metadata": {},
   "source": [
    "The above integrand has poles when f has poles and also when the exponential in the denominator causes poles i.e. when:"
   ]
  },
  {
   "cell_type": "code",
   "execution_count": 27,
   "metadata": {},
   "outputs": [
    {
     "data": {
      "text/latex": [
       "$\\displaystyle 1 - e^{i \\left(a + z\\right)} = 0$"
      ],
      "text/plain": [
       "Eq(1 - exp(I*(a + z)), 0)"
      ]
     },
     "execution_count": 27,
     "metadata": {},
     "output_type": "execute_result"
    }
   ],
   "source": [
    "Eq(1-exp(I*(a+z)),0)"
   ]
  },
  {
   "cell_type": "code",
   "execution_count": 28,
   "metadata": {},
   "outputs": [
    {
     "data": {
      "text/latex": [
       "$\\displaystyle 2 i \\pi n = i \\left(\\alpha + z\\right)$"
      ],
      "text/plain": [
       "Eq(2*I*pi*n, I*(alpha + z))"
      ]
     },
     "execution_count": 28,
     "metadata": {},
     "output_type": "execute_result"
    }
   ],
   "source": [
    "Eq(2*I*pi*n,I*(alpha+z))"
   ]
  },
  {
   "cell_type": "code",
   "execution_count": 29,
   "metadata": {
    "scrolled": true
   },
   "outputs": [
    {
     "data": {
      "text/latex": [
       "$\\displaystyle z = - \\alpha + 2 \\pi n$"
      ],
      "text/plain": [
       "Eq(z, -alpha + 2*pi*n)"
      ]
     },
     "execution_count": 29,
     "metadata": {},
     "output_type": "execute_result"
    }
   ],
   "source": [
    "Eq(z,2*pi*n - alpha)"
   ]
  },
  {
   "cell_type": "markdown",
   "metadata": {},
   "source": [
    "#### Poles of f\n",
    "For simplicity let us assume the poles of f are not also poles of the exponential denominator term. Let us represent the residue sum over poles of f in the upper half plane using the following notation whereby we mean if there are no poles this sum is zero as opposed to inluding the zeroth term; this is just because of sympy notation limitations:"
   ]
  },
  {
   "cell_type": "code",
   "execution_count": 31,
   "metadata": {},
   "outputs": [
    {
     "data": {
      "text/latex": [
       "$\\displaystyle \\sum_{k=0}^{Nfupperpoles} \\frac{2 i \\pi \\operatorname{Resf}{\\left({fpole}_{k} \\right)} e^{- 2 i \\pi \\omega {fpole}_{k}}}{1 - e^{i \\left(\\alpha + {fpole}_{k}\\right)}}$"
      ],
      "text/plain": [
       "Sum(2*I*pi*Resf(fpole[k])*exp(-2*I*pi*omega*fpole[k])/(1 - exp(I*(alpha + fpole[k]))), (k, 0, Nfupperpoles))"
      ]
     },
     "execution_count": 31,
     "metadata": {},
     "output_type": "execute_result"
    }
   ],
   "source": [
    "Sum(2*pi*I*Resf(fpole[k])*exp(-2*I*pi*omega*fpole[k])/(1 - exp(I*(alpha + fpole[k]))),(k,0,Nfupperpoles))"
   ]
  },
  {
   "cell_type": "markdown",
   "metadata": {},
   "source": [
    "#### Poles from the exponential in the denominator"
   ]
  },
  {
   "cell_type": "markdown",
   "metadata": {},
   "source": [
    "Let alpha be real so all the poles are on the real axis, i.e. half in the upper plane and half in the lower plane."
   ]
  },
  {
   "cell_type": "code",
   "execution_count": 32,
   "metadata": {},
   "outputs": [
    {
     "data": {
      "text/latex": [
       "$\\displaystyle \\operatorname{im}{\\left(\\alpha\\right)} = 0$"
      ],
      "text/plain": [
       "Eq(im(alpha), 0)"
      ]
     },
     "execution_count": 32,
     "metadata": {},
     "output_type": "execute_result"
    }
   ],
   "source": [
    "Eq(im(alpha),0)"
   ]
  },
  {
   "cell_type": "code",
   "execution_count": 33,
   "metadata": {
    "scrolled": true
   },
   "outputs": [
    {
     "data": {
      "text/latex": [
       "$\\displaystyle \\lim_{z \\to - \\alpha + 2 \\pi n^+}\\left(\\frac{\\left(\\alpha - 2 \\pi n + z\\right) f{\\left(z \\right)} e^{- 2 i \\pi \\omega z}}{1 - e^{i \\left(\\alpha + z\\right)}}\\right) = i f{\\left(- \\alpha + 2 \\pi n \\right)} e^{- 2 i \\pi \\omega \\left(- \\alpha + 2 \\pi n\\right)}$"
      ],
      "text/plain": [
       "Eq(Limit((alpha - 2*pi*n + z)*f(z)*exp(-2*I*pi*omega*z)/(1 - exp(I*(alpha + z))), z, -alpha + 2*pi*n), I*f(-alpha + 2*pi*n)*exp(-2*I*pi*omega*(-alpha + 2*pi*n)))"
      ]
     },
     "execution_count": 33,
     "metadata": {},
     "output_type": "execute_result"
    }
   ],
   "source": [
    "Eq(Limit((z-(2*pi*n - alpha))*G_integrand_z,z,2*pi*n - alpha), I*f(2*pi*n-alpha)*exp(-2*I*pi*omega*(2*pi*n-alpha)))"
   ]
  },
  {
   "cell_type": "markdown",
   "metadata": {},
   "source": [
    "The below divides the terms in the sum by 2 to account for them being on the contour."
   ]
  },
  {
   "cell_type": "code",
   "execution_count": 34,
   "metadata": {},
   "outputs": [
    {
     "data": {
      "text/latex": [
       "$\\displaystyle \\lim_{R \\to \\infty}\\left(2 i \\pi \\sum_{n=- N}^{N} \\operatorname{Res}{\\left(n,R,\\omega \\right)}\\right) = - \\pi \\sum_{n=-\\infty}^{\\infty} f{\\left(- \\alpha + 2 \\pi n \\right)} e^{- 2 i \\pi \\omega \\left(- \\alpha + 2 \\pi n\\right)}$"
      ],
      "text/plain": [
       "Eq(Limit(2*I*pi*Sum(Res(n, R, omega), (n, -N, N)), R, oo, dir='-'), -pi*Sum(f(-alpha + 2*pi*n)*exp(-2*I*pi*omega*(-alpha + 2*pi*n)), (n, -oo, oo)))"
      ]
     },
     "execution_count": 34,
     "metadata": {},
     "output_type": "execute_result"
    }
   ],
   "source": [
    "Eq(Limit(2*pi*I*Sum(Res(n, R, omega),(n,-N,N)),R,oo),\n",
    "  pi*I*I*Sum(f(2*pi*n-alpha)*exp(-2*I*pi*omega*(2*pi*n-alpha)),(n,-oo,oo))\n",
    ")"
   ]
  },
  {
   "cell_type": "markdown",
   "metadata": {},
   "source": [
    "Therefore, when omega is negative G is given by:"
   ]
  },
  {
   "cell_type": "code",
   "execution_count": 35,
   "metadata": {},
   "outputs": [
    {
     "data": {
      "text/latex": [
       "$\\displaystyle G{\\left(\\omega,\\alpha \\right)} = - \\pi \\sum_{n=-\\infty}^{\\infty} f{\\left(- \\alpha + 2 \\pi n \\right)} e^{- 2 i \\pi \\omega \\left(- \\alpha + 2 \\pi n\\right)} + 2 i \\pi \\sum_{k=0}^{Nfupperpoles} \\frac{\\operatorname{Resf}{\\left({fpole}_{k} \\right)} e^{- 2 i \\pi \\omega {fpole}_{k}}}{1 - e^{i \\left(\\alpha + {fpole}_{k}\\right)}}$"
      ],
      "text/plain": [
       "Eq(G(omega, alpha), -pi*Sum(f(-alpha + 2*pi*n)*exp(-2*I*pi*omega*(-alpha + 2*pi*n)), (n, -oo, oo)) + 2*I*pi*Sum(Resf(fpole[k])*exp(-2*I*pi*omega*fpole[k])/(1 - exp(I*(alpha + fpole[k]))), (k, 0, Nfupperpoles)))"
      ]
     },
     "execution_count": 35,
     "metadata": {},
     "output_type": "execute_result"
    }
   ],
   "source": [
    "Eq(G(omega, alpha), \n",
    "   2*pi*I*Sum(Resf(fpole[k])*exp(-2*I*pi*omega*fpole[k])/(1 - exp(I*(alpha + fpole[k]))),(k,0,Nfupperpoles)) +\n",
    "   pi*I*I*Sum(f(2*pi*n-alpha)*exp(-2*I*pi*omega*(2*pi*n-alpha)),(n,-oo,oo))\n",
    "  )"
   ]
  },
  {
   "cell_type": "code",
   "execution_count": 36,
   "metadata": {},
   "outputs": [
    {
     "data": {
      "text/latex": [
       "$\\displaystyle G{\\left(\\omega,\\alpha \\right)} = - \\pi \\sum_{n=-\\infty}^{\\infty} h{\\left(- \\alpha + 2 \\pi n \\right)} e^{- 2 i \\pi \\omega \\left(- \\alpha + 2 \\pi n\\right)} \\log{\\left(- \\alpha + 2 \\pi n \\right)} + 2 i \\pi \\sum_{k=0}^{Nhupperpoles} \\frac{\\operatorname{Resh}{\\left({hpole}_{k} \\right)} e^{- 2 i \\pi \\omega {hpole}_{k}} \\log{\\left({hpole}_{k} \\right)}}{1 - e^{i \\left(\\alpha + {hpole}_{k}\\right)}}$"
      ],
      "text/plain": [
       "Eq(G(omega, alpha), -pi*Sum(h(-alpha + 2*pi*n)*exp(-2*I*pi*omega*(-alpha + 2*pi*n))*log(-alpha + 2*pi*n), (n, -oo, oo)) + 2*I*pi*Sum(Resh(hpole[k])*exp(-2*I*pi*omega*hpole[k])*log(hpole[k])/(1 - exp(I*(alpha + hpole[k]))), (k, 0, Nhupperpoles)))"
      ]
     },
     "execution_count": 36,
     "metadata": {},
     "output_type": "execute_result"
    }
   ],
   "source": [
    "Eq(G(omega, alpha), \n",
    "   2*pi*I*Sum(Resh(hpole[k])*ln(hpole[k])*exp(-2*I*pi*omega*hpole[k])/(1 - exp(I*(alpha + hpole[k]))),(k,0,Nhupperpoles)) +\n",
    "   -pi*Sum(h(2*pi*n-alpha)*ln(2*pi*n-alpha)*exp(-2*I*pi*omega*(2*pi*n-alpha)),(n,-oo,oo))\n",
    "  )"
   ]
  },
  {
   "cell_type": "code",
   "execution_count": 37,
   "metadata": {
    "scrolled": true
   },
   "outputs": [
    {
     "data": {
      "text/latex": [
       "$\\displaystyle G{\\left(\\omega,a \\right)} = \\int\\limits_{-\\infty}^{\\infty} \\frac{h{\\left(\\tau \\right)} e^{- 2 i \\pi \\omega \\tau} \\log{\\left(\\tau \\right)}}{1 - e^{i \\left(\\alpha + \\tau\\right)}}\\, d\\tau$"
      ],
      "text/plain": [
       "Eq(G(omega, a), Integral(h(tau)*exp(-2*I*pi*omega*tau)*log(tau)/(1 - exp(I*(alpha + tau))), (tau, -oo, oo)))"
      ]
     },
     "execution_count": 37,
     "metadata": {},
     "output_type": "execute_result"
    }
   ],
   "source": [
    "Eq(G(omega, a),Integral(G_integrand_tau.subs(f(tau),h(tau)*ln(tau)), (tau,-oo,oo)))"
   ]
  },
  {
   "cell_type": "markdown",
   "metadata": {},
   "source": [
    "When omega is positive we close the contour in the lower half plane and the winding number is minus one because the contour winds clockwise. Furthermore we have the integral contribution from the branch cut. Therefore, when omega is posiitve we have:"
   ]
  },
  {
   "cell_type": "code",
   "execution_count": 38,
   "metadata": {},
   "outputs": [
    {
     "data": {
      "text/latex": [
       "$\\displaystyle G{\\left(\\omega,\\alpha \\right)} = \\pi \\sum_{n=-\\infty}^{\\infty} f{\\left(- \\alpha + 2 \\pi n \\right)} e^{- 2 i \\pi \\omega \\left(- \\alpha + 2 \\pi n\\right)} - 2 i \\pi \\sum_{k=0}^{Nflowerpoles} \\frac{\\operatorname{Resf}{\\left({fpole}_{k} \\right)} e^{- 2 i \\pi \\omega {fpole}_{k}}}{1 - e^{i \\left(\\alpha + {fpole}_{k}\\right)}} + 2 i \\pi \\lim_{R \\to \\infty} \\lim_{r \\to 0^+} \\int\\limits_{- R}^{r} \\frac{h{\\left(z \\right)} e^{- 2 i \\pi \\omega z}}{1 - e^{i \\left(\\alpha + z\\right)}}\\, dz$"
      ],
      "text/plain": [
       "Eq(G(omega, alpha), pi*Sum(f(-alpha + 2*pi*n)*exp(-2*I*pi*omega*(-alpha + 2*pi*n)), (n, -oo, oo)) - 2*I*pi*Sum(Resf(fpole[k])*exp(-2*I*pi*omega*fpole[k])/(1 - exp(I*(alpha + fpole[k]))), (k, 0, Nflowerpoles)) + 2*I*pi*Limit(Limit(Integral(h(z)*exp(-2*I*pi*omega*z)/(1 - exp(I*(alpha + z))), (z, -R, r)), r, 0), R, oo, dir='-'))"
      ]
     },
     "execution_count": 38,
     "metadata": {},
     "output_type": "execute_result"
    }
   ],
   "source": [
    "Eq(G(omega, alpha), \n",
    "   -2*pi*I*Sum(Resf(fpole[k])*exp(-2*I*pi*omega*fpole[k])/(1 - exp(I*(alpha + fpole[k]))),(k,0,Nflowerpoles)) +\n",
    "   -pi*I*I*Sum(f(2*pi*n-alpha)*exp(-2*I*pi*omega*(2*pi*n-alpha)),(n,-oo,oo))\n",
    "   + 2*I*pi*Limit(Limit(Integral(G_integrand_tau.subs(tau,z).subs(f,h),(z,-R,r)),r,0),R,oo)\n",
    "  )"
   ]
  },
  {
   "cell_type": "code",
   "execution_count": 39,
   "metadata": {},
   "outputs": [
    {
     "data": {
      "text/latex": [
       "$\\displaystyle G{\\left(\\omega,\\alpha \\right)} = \\pi \\sum_{n=-\\infty}^{\\infty} \\left(\\log{\\left(- \\alpha + 2 \\pi n \\right)} - 2 i \\pi \\theta\\left(\\alpha - 2 \\pi n\\right)\\right) h{\\left(- \\alpha + 2 \\pi n \\right)} e^{- 2 i \\pi \\omega \\left(- \\alpha + 2 \\pi n\\right)} - 2 i \\pi \\sum_{k=0}^{Nhlowerpoles} \\frac{\\operatorname{Resh}{\\left({hpole}_{k} \\right)} e^{- 2 i \\pi \\omega {hpole}_{k}} \\log{\\left({hpole}_{k} \\right)}}{1 - e^{i \\left(\\alpha + {hpole}_{k}\\right)}} + 2 i \\pi \\lim_{R \\to \\infty} \\lim_{r \\to 0^+} \\int\\limits_{- R}^{r} \\frac{h{\\left(z \\right)} e^{- 2 i \\pi \\omega z}}{1 - e^{i \\left(\\alpha + z\\right)}}\\, dz$"
      ],
      "text/plain": [
       "Eq(G(omega, alpha), pi*Sum((log(-alpha + 2*pi*n) - 2*I*pi*Heaviside(alpha - 2*pi*n))*h(-alpha + 2*pi*n)*exp(-2*I*pi*omega*(-alpha + 2*pi*n)), (n, -oo, oo)) - 2*I*pi*Sum(Resh(hpole[k])*exp(-2*I*pi*omega*hpole[k])*log(hpole[k])/(1 - exp(I*(alpha + hpole[k]))), (k, 0, Nhlowerpoles)) + 2*I*pi*Limit(Limit(Integral(h(z)*exp(-2*I*pi*omega*z)/(1 - exp(I*(alpha + z))), (z, -R, r)), r, 0), R, oo, dir='-'))"
      ]
     },
     "execution_count": 39,
     "metadata": {},
     "output_type": "execute_result"
    }
   ],
   "source": [
    "Eq(G(omega, alpha), \n",
    "   -2*pi*I*Sum(Resh(hpole[k])*ln(hpole[k])*exp(-2*I*pi*omega*hpole[k])/(1 - exp(I*(alpha + hpole[k]))),(k,0,Nhlowerpoles)) +\n",
    "   pi*Sum(h(2*pi*n-alpha)*(ln(2*pi*n-alpha) - 2*I*pi*Heaviside(-2*pi*n+alpha))*exp(-2*I*pi*omega*(2*pi*n-alpha)),(n,-oo,oo))\n",
    "   + 2*I*pi*Limit(Limit(Integral(G_integrand_tau.subs(tau,z).subs(f,h),(z,-R,r)),r,0),R,oo)\n",
    "  )"
   ]
  },
  {
   "cell_type": "markdown",
   "metadata": {},
   "source": [
    "Combining these, for any omega gives:"
   ]
  },
  {
   "cell_type": "code",
   "execution_count": 40,
   "metadata": {},
   "outputs": [
    {
     "data": {
      "text/latex": [
       "$\\displaystyle G{\\left(\\omega,\\alpha \\right)} = 2 i \\pi \\theta\\left(- \\omega\\right) \\sum_{k=0}^{Nhupperpoles} \\frac{\\operatorname{Resh}{\\left({hpole}_{k} \\right)} e^{- 2 i \\pi \\omega {hpole}_{k}} \\log{\\left({hpole}_{k} \\right)}}{1 - e^{i \\left(\\alpha + {hpole}_{k}\\right)}} - 2 i \\pi^{2} \\theta\\left(\\omega\\right) \\sum_{n=-\\infty}^{\\infty} h{\\left(- \\alpha + 2 \\pi n \\right)} e^{- 2 i \\pi \\omega \\left(- \\alpha + 2 \\pi n\\right)} \\theta\\left(\\alpha - 2 \\pi n\\right) - 2 i \\pi \\theta\\left(\\omega\\right) \\sum_{k=0}^{Nflowerpoles} \\frac{\\operatorname{Resh}{\\left({hpole}_{k} \\right)} e^{- 2 i \\pi \\omega {hpole}_{k}} \\log{\\left({hpole}_{k} \\right)}}{1 - e^{i \\left(\\alpha + {hpole}_{k}\\right)}} + 2 i \\pi \\theta\\left(\\omega\\right) \\lim_{R \\to \\infty} \\lim_{r \\to 0^+} \\int\\limits_{- R}^{r} \\frac{h{\\left(z \\right)} e^{- 2 i \\pi \\omega z}}{1 - e^{i \\left(\\alpha + z\\right)}}\\, dz + \\pi \\operatorname{sign}{\\left(\\omega \\right)} \\sum_{n=-\\infty}^{\\infty} h{\\left(- \\alpha + 2 \\pi n \\right)} e^{- 2 i \\pi \\omega \\left(- \\alpha + 2 \\pi n\\right)} \\log{\\left(- \\alpha + 2 \\pi n \\right)}$"
      ],
      "text/plain": [
       "Eq(G(omega, alpha), 2*I*pi*Heaviside(-omega)*Sum(Resh(hpole[k])*exp(-2*I*pi*omega*hpole[k])*log(hpole[k])/(1 - exp(I*(alpha + hpole[k]))), (k, 0, Nhupperpoles)) - 2*I*pi**2*Heaviside(omega)*Sum(h(-alpha + 2*pi*n)*exp(-2*I*pi*omega*(-alpha + 2*pi*n))*Heaviside(alpha - 2*pi*n), (n, -oo, oo)) - 2*I*pi*Heaviside(omega)*Sum(Resh(hpole[k])*exp(-2*I*pi*omega*hpole[k])*log(hpole[k])/(1 - exp(I*(alpha + hpole[k]))), (k, 0, Nflowerpoles)) + 2*I*pi*Heaviside(omega)*Limit(Limit(Integral(h(z)*exp(-2*I*pi*omega*z)/(1 - exp(I*(alpha + z))), (z, -R, r)), r, 0), R, oo, dir='-') + pi*sign(omega)*Sum(h(-alpha + 2*pi*n)*exp(-2*I*pi*omega*(-alpha + 2*pi*n))*log(-alpha + 2*pi*n), (n, -oo, oo)))"
      ]
     },
     "execution_count": 40,
     "metadata": {},
     "output_type": "execute_result"
    }
   ],
   "source": [
    "Eq(G(omega, alpha), \n",
    "    - Heaviside(omega)*2*pi*I*Sum(\n",
    "        Resh(hpole[k])*ln(hpole[k])*exp(-2*I*pi*omega*hpole[k])/(1 - exp(I*(alpha + hpole[k])))\n",
    "        ,(k,0,Nflowerpoles)) \n",
    "    + Heaviside(-omega)*2*pi*I*Sum(\n",
    "        Resh(hpole[k])*ln(hpole[k])*exp(-2*I*pi*omega*hpole[k])/(1 - exp(I*(alpha + hpole[k])))\n",
    "        ,(k,0,Nhupperpoles))\n",
    "    + sign(omega)*pi*Sum(h(2*pi*n-alpha)*ln(2*pi*n-alpha)*exp(-2*I*pi*omega*(2*pi*n-alpha)),(n,-oo,oo))\n",
    "    + 2*I*pi*Heaviside(omega)*Limit(Limit(Integral(G_integrand_tau.subs(tau,z).subs(f,h),(z,-R,r)),r,0),R,oo)\n",
    "   - 2*I*pi**2*Heaviside(omega)*Sum(Heaviside(-2*pi*n+alpha)*h(2*pi*n-alpha)*exp(-2*I*pi*omega*(2*pi*n-alpha)),(n,-oo,oo))\n",
    ")"
   ]
  },
  {
   "cell_type": "code",
   "execution_count": 41,
   "metadata": {
    "scrolled": true
   },
   "outputs": [
    {
     "data": {
      "text/latex": [
       "$\\displaystyle G{\\left(\\omega,\\alpha \\right)} = 2 i \\pi \\theta\\left(- \\omega\\right) \\sum_{k=0}^{Nhupperpoles} \\frac{\\operatorname{Resh}{\\left({hpole}_{k} \\right)} e^{- 2 i \\pi \\omega {hpole}_{k}} \\log{\\left({hpole}_{k} \\right)}}{1 - e^{i \\left(\\alpha + {hpole}_{k}\\right)}} - 2 i \\pi \\theta\\left(\\omega\\right) \\sum_{k=0}^{Nflowerpoles} \\frac{\\operatorname{Resh}{\\left({hpole}_{k} \\right)} e^{- 2 i \\pi \\omega {hpole}_{k}} \\log{\\left({hpole}_{k} \\right)}}{1 - e^{i \\left(\\alpha + {hpole}_{k}\\right)}} + 2 i \\pi \\theta\\left(\\omega\\right) \\lim_{R \\to \\infty} \\lim_{r \\to 0^+} \\int\\limits_{- R}^{r} \\frac{h{\\left(z \\right)} e^{- 2 i \\pi \\omega z}}{1 - e^{i \\left(\\alpha + z\\right)}}\\, dz + \\pi \\sum_{n=-\\infty}^{\\infty} \\left(\\log{\\left(- \\alpha + 2 \\pi n \\right)} \\operatorname{sign}{\\left(\\omega \\right)} - 2 i \\pi \\theta\\left(\\omega\\right) \\theta\\left(\\alpha - 2 \\pi n\\right)\\right) h{\\left(- \\alpha + 2 \\pi n \\right)} e^{- 2 i \\pi \\omega \\left(- \\alpha + 2 \\pi n\\right)}$"
      ],
      "text/plain": [
       "Eq(G(omega, alpha), 2*I*pi*Heaviside(-omega)*Sum(Resh(hpole[k])*exp(-2*I*pi*omega*hpole[k])*log(hpole[k])/(1 - exp(I*(alpha + hpole[k]))), (k, 0, Nhupperpoles)) - 2*I*pi*Heaviside(omega)*Sum(Resh(hpole[k])*exp(-2*I*pi*omega*hpole[k])*log(hpole[k])/(1 - exp(I*(alpha + hpole[k]))), (k, 0, Nflowerpoles)) + 2*I*pi*Heaviside(omega)*Limit(Limit(Integral(h(z)*exp(-2*I*pi*omega*z)/(1 - exp(I*(alpha + z))), (z, -R, r)), r, 0), R, oo, dir='-') + pi*Sum((log(-alpha + 2*pi*n)*sign(omega) - 2*I*pi*Heaviside(omega)*Heaviside(alpha - 2*pi*n))*h(-alpha + 2*pi*n)*exp(-2*I*pi*omega*(-alpha + 2*pi*n)), (n, -oo, oo)))"
      ]
     },
     "execution_count": 41,
     "metadata": {},
     "output_type": "execute_result"
    }
   ],
   "source": [
    "Eq(G(omega, alpha), \n",
    "    - Heaviside(omega)*2*pi*I*Sum(\n",
    "        Resh(hpole[k])*ln(hpole[k])*exp(-2*I*pi*omega*hpole[k])/(1 - exp(I*(alpha + hpole[k])))\n",
    "        ,(k,0,Nflowerpoles)) \n",
    "    + Heaviside(-omega)*2*pi*I*Sum(\n",
    "        Resh(hpole[k])*ln(hpole[k])*exp(-2*I*pi*omega*hpole[k])/(1 - exp(I*(alpha + hpole[k])))\n",
    "        ,(k,0,Nhupperpoles))\n",
    "    + pi*Sum(h(2*pi*n-alpha)*exp(-2*I*pi*omega*(2*pi*n-alpha))*(\n",
    "        sign(omega)*ln(2*pi*n-alpha) - 2*I*pi*Heaviside(omega)*Heaviside(-2*pi*n+alpha)),(n,-oo,oo))\n",
    "    + 2*I*pi*Heaviside(omega)*Limit(Limit(Integral(G_integrand_tau.subs(tau,z).subs(f,h),(z,-R,r)),r,0),R,oo)\n",
    ")"
   ]
  },
  {
   "cell_type": "code",
   "execution_count": 42,
   "metadata": {},
   "outputs": [],
   "source": [
    "sss = [(omega,-2),(alpha,3),(n,-3)]"
   ]
  },
  {
   "cell_type": "code",
   "execution_count": 43,
   "metadata": {},
   "outputs": [
    {
     "data": {
      "text/latex": [
       "$\\displaystyle - \\log{\\left(3 + 6 \\pi \\right)} - i \\pi$"
      ],
      "text/plain": [
       "-log(3 + 6*pi) - I*pi"
      ]
     },
     "execution_count": 43,
     "metadata": {},
     "output_type": "execute_result"
    }
   ],
   "source": [
    "(sign(omega)*ln(2*pi*n-alpha) - 2*I*pi*Heaviside(omega)*Heaviside(-2*pi*n+alpha)).subs(sss)"
   ]
  },
  {
   "cell_type": "code",
   "execution_count": 44,
   "metadata": {},
   "outputs": [
    {
     "data": {
      "text/latex": [
       "$\\displaystyle \\log{\\left(3 + 6 \\pi \\right)} - i \\pi$"
      ],
      "text/plain": [
       "log(3 + 6*pi) - I*pi"
      ]
     },
     "execution_count": 44,
     "metadata": {},
     "output_type": "execute_result"
    }
   ],
   "source": [
    "(sign(-omega)*ln(2*pi*n-alpha) - 2*I*pi*Heaviside(-omega)*Heaviside(-2*pi*n+alpha)).subs(sss)"
   ]
  },
  {
   "cell_type": "markdown",
   "metadata": {},
   "source": [
    "### Numerical Test Examples"
   ]
  },
  {
   "cell_type": "code",
   "execution_count": 11,
   "metadata": {},
   "outputs": [],
   "source": [
    "def pv_integration_limits_straight_part(R, epsilon, alpha, mu=0):\n",
    "    n_low = int((-R+re(alpha))/2/pi)\n",
    "    n_high = int((R+re(alpha))/2/pi)\n",
    "    poles = [(-alpha+2*pi*n).evalf() for n in range(n_low, n_high+1)]\n",
    "    pv_limits = [-R + I*mu]\n",
    "    real_sign = -1\n",
    "    for p in poles:\n",
    "        new_real_sign = sign(re(p))\n",
    "        if new_real_sign != real_sign:\n",
    "            pv_limits.append(-epsilon + I*mu)\n",
    "            pv_limits.append(epsilon)\n",
    "            real_sign = new_real_sign\n",
    "        pv_limits.append(p-epsilon + (1-sign(re(p)))/2*mu*I)\n",
    "        pv_limits.append(p+epsilon + (1-sign(re(p)))/2*mu*I)\n",
    "    pv_limits.append(R)\n",
    "    return pv_limits\n",
    "\n",
    "def pv_integration_limits(R, epsilon, alpha):\n",
    "    n_low = int((-R+re(alpha))/2/pi)\n",
    "    n_high = int((R+re(alpha))/2/pi)\n",
    "    poles = [(-alpha+2*pi*n).evalf() for n in range(n_low, n_high+1)]\n",
    "    pv_limits = [-R]\n",
    "    for p in poles:\n",
    "        pv_limits.append(p-epsilon)\n",
    "        pv_limits.append(p+epsilon)\n",
    "    pv_limits.append(R)\n",
    "    return pv_limits\n",
    "\n",
    "def principal_value(R, _omega, _alpha, _epsilon, integrand_function, one_sided=False):\n",
    "    integral_limits = pv_integration_limits_straight_part(R, _epsilon, _alpha)\n",
    "#     integral_limits = pv_integration_limits(R, _epsilon, _alpha)\n",
    "    if one_sided == \"negative\":\n",
    "        integral_limits = [lim for lim in integral_limits if re(lim) < 0 ]\n",
    "    if one_sided == \"positive\":\n",
    "        integral_limits = [lim for lim in integral_limits if re(lim) > 0 ]\n",
    "    integral_limit_tuples = [(integral_limits[2*i], integral_limits[2*i+1]) for i in range(int(len(integral_limits)/2))]\n",
    "    sorted_from_origin_integral_limit_tuples = sorted(integral_limit_tuples, key=lambda tup: abs(tup[0]))\n",
    "#     integral_pvs = [\n",
    "#         Integral(\n",
    "#             integrand_function, \n",
    "#             (tau, integral_limits[2*i], integral_limits[2*i+1])\n",
    "#         ).subs([(omega,_omega),(alpha, _alpha)]) #.evalf()\n",
    "#     for i in range(int(len(integral_limits)/2))]\n",
    "#     result = sum(integral_pvs)\n",
    "    integral_pvs = 0\n",
    "    stop_ratio = 1e-6\n",
    "    for lim_ in sorted_from_origin_integral_limit_tuples:\n",
    "        new_integral = Integral(integrand_function,(tau, lim_[0], lim_[1])).subs([(omega,_omega),(alpha, _alpha)]).evalf()\n",
    "        integral_pvs += new_integral\n",
    "        contribution_ratio = abs(new_integral/integral_pvs)\n",
    "        print(integral_pvs, contribution_ratio)\n",
    "        if contribution_ratio < stop_ratio:\n",
    "            print(f\"Stopping ratio in integral {stop_ratio} exceeded. Stopping.\")\n",
    "            break\n",
    "    result = integral_pvs\n",
    "    \n",
    "    return result\n",
    "\n",
    "def G_integral_principal_value(R, _omega, _alpha, _epsilon, _f):\n",
    "    return principal_value(R, _omega, _alpha, _epsilon, G_integrand_tau.subs([(f(tau),_f.subs(z,tau))])).evalf()"
   ]
  },
  {
   "cell_type": "code",
   "execution_count": 12,
   "metadata": {},
   "outputs": [],
   "source": [
    "def f_residue_sum_frequency(_f, f_poles):\n",
    "    residues = sum([2*pi*I*residue(_f,z,p)*exp(-2*I*pi*omega*p)/(1 - exp(I*(alpha + p))) for p in f_poles])\n",
    "    return residues\n",
    "\n",
    "def exp_denom_residue_sum_frequency(_f, N):\n",
    "    residues = pi*sign(omega)*Sum(_f.subs(z,2*pi*n-alpha)*exp(-2*I*pi*omega*(2*pi*n-alpha)),(n,-N,N))\n",
    "    return residues\n",
    "\n",
    "def branch_cut_integral_contribution(_f):\n",
    "    return 2*I*pi*Heaviside(omega)*Integral(_f/ln(z)*exp(-2*I*pi*omega*z)/(1-exp(I*(alpha+z))),(z,-oo,0))\n",
    "\n",
    "def branch_cut_integral_contribution_pv(R, _omega, _alpha, _epsilon, _f):\n",
    "    integrand_function = (_f/ln(z)*exp(-2*I*pi*omega*z)/(1-exp(I*(alpha+z)))).subs(z,tau)\n",
    "    return 2*I*pi*Heaviside(omega)*principal_value(R, _omega, _alpha, _epsilon, integrand_function, one_sided=\"negative\")\n",
    "\n",
    "def branch_cut_series_contribution(_f, N):\n",
    "    return 2*I*pi**2*Heaviside(omega)*Sum(Heaviside(-2*pi*n+alpha)*(_f/ln(z)).subs(z,2*pi*n-alpha)*exp(-2*I*pi*omega*(2*pi*n-alpha)),(n,-N,N))\n",
    "\n",
    "def combined_series(_f, _N, _omega, _alpha, num_=False):\n",
    "    summand = pi*(sign(omega)*_f - 2*I*pi*Heaviside(omega)*Heaviside(-z)*(_f/ln(z))).factor()\n",
    "    if not num_:\n",
    "        residue_sum = Sum(summand.subs(z,2*pi*n-alpha)*exp(-2*I*pi*omega*(2*pi*n-alpha)),(n,-N,N))\n",
    "        return residue_sum\n",
    "    residue_sum = (summand*exp(-2*I*pi*omega*z)).subs(z,-alpha).subs([(alpha,_alpha),(omega,_omega)]).evalf()\n",
    "    stop_ratio = 1e-6\n",
    "    for _n in range(1,_N):\n",
    "        new_contribution = ((summand*exp(-2*I*pi*omega*z)).subs(z,2*pi*_n-alpha) + \n",
    "                            (summand*exp(-2*I*pi*omega*z)).subs(z,-2*pi*_n-alpha)\n",
    "                           ).subs([(alpha,_alpha),(omega,_omega)]).evalf()\n",
    "        residue_sum += new_contribution\n",
    "        contribution_ratio = abs(new_contribution/residue_sum)\n",
    "        print(\"series\", residue_sum, contribution_ratio)\n",
    "        if contribution_ratio < stop_ratio:\n",
    "            print(f\"Stopping ratio in series {stop_ratio} exceeded. Stopping.\")\n",
    "            break\n",
    "            \n",
    "    return residue_sum\n",
    "\n",
    "def G_series_expansion(_f, f_poles_upper, f_poles_lower, N, omega, alpha):\n",
    "#     exp_res = exp_denom_residue_sum_frequency(_f, N)\n",
    "#     series_expansion = exp_res + branch_cut_integral_contribution(_f) - branch_cut_series_contribution(_f, N)\n",
    "    series_expansion = combined_series(_f, N, omega, alpha) + branch_cut_integral_contribution(_f)\n",
    "    if len(f_poles_upper):\n",
    "        f_res_upper = f_residue_sum_frequency(_f, f_poles_upper)\n",
    "        series_expansion += Heaviside(-omega)*f_res_upper\n",
    "    if len(f_poles_lower):\n",
    "        f_res_lower = f_residue_sum_frequency(_f, f_poles_lower)\n",
    "        series_expansion -= Heaviside(omega)*f_res_lower\n",
    "    return series_expansion\n",
    "\n",
    "def G_series_expansion_pv(_f, f_poles_upper, f_poles_lower, N, R, _omega, _alpha, _epsilon):\n",
    "#     exp_res = exp_denom_residue_sum_frequency(_f, N)\n",
    "#     series_expansion = exp_res + branch_cut_integral_contribution_pv(R, _omega, _alpha, _epsilon, _f)\n",
    "#     series_expansion -= branch_cut_series_contribution(_f, N)\n",
    "    series_expansion = combined_series(_f, N, _omega, _alpha, num_=True)\n",
    "    series_expansion += branch_cut_integral_contribution_pv(R, _omega, _alpha, _epsilon, _f)\n",
    "    if len(f_poles_upper):\n",
    "        f_res_upper = f_residue_sum_frequency(_f, f_poles_upper)\n",
    "        series_expansion += Heaviside(-omega)*f_res_upper\n",
    "    if len(f_poles_lower):\n",
    "        f_res_lower = f_residue_sum_frequency(_f, f_poles_lower)\n",
    "        series_expansion -= Heaviside(omega)*f_res_lower\n",
    "    return series_expansion"
   ]
  },
  {
   "cell_type": "code",
   "execution_count": 47,
   "metadata": {},
   "outputs": [
    {
     "data": {
      "text/latex": [
       "$\\displaystyle \\frac{\\log{\\left(z \\right)}}{\\left(\\kappa^{2} + z^{2}\\right) \\left(z^{2} + 1\\right) \\left(z^{2} + 4\\right)}$"
      ],
      "text/plain": [
       "log(z)/((kappa**2 + z**2)*(z**2 + 1)*(z**2 + 4))"
      ]
     },
     "execution_count": 47,
     "metadata": {},
     "output_type": "execute_result"
    }
   ],
   "source": [
    "f_z_example_1 = ln(z)/(kappa**2+z**2)/(z**2+1)/(z**2+4)\n",
    "# if re(kappa) > 0\n",
    "f_z_example_1_upper_poles = [I*kappa,I,2*I]\n",
    "f_z_example_1_lower_poles = [-I*kappa,-I,-2*I]\n",
    "f_z_example_1_all_poles = f_z_example_1_upper_poles + f_z_example_1_lower_poles\n",
    "# if re(kappa) < 0\n",
    "# f_z_example_1_upper_poles = [-I*kappa]\n",
    "# f_z_example_1_lower_poles = [I*kappa]\n",
    "f_z_example_1"
   ]
  },
  {
   "cell_type": "code",
   "execution_count": 42,
   "metadata": {
    "scrolled": true
   },
   "outputs": [
    {
     "data": {
      "text/latex": [
       "$\\displaystyle \\left(\\frac{2 i \\pi \\left(- \\frac{\\pi}{24 \\left(\\kappa^{2} - 4\\right)} + \\frac{i \\log{\\left(2 \\right)}}{12 \\left(\\kappa^{2} - 4\\right)}\\right) e^{4 \\pi \\omega}}{1 - e^{i \\left(\\alpha + 2 i\\right)}} + \\frac{i \\pi^{2} e^{2 \\pi \\omega}}{6 \\left(1 - e^{i \\left(\\alpha + i\\right)}\\right) \\left(\\kappa^{2} - 1\\right)} + \\frac{\\pi e^{2 \\pi \\kappa \\omega} \\log{\\left(i \\kappa \\right)}}{\\kappa \\left(1 - \\kappa^{2}\\right) \\left(1 - e^{i \\left(\\alpha + i \\kappa\\right)}\\right) \\left(4 - \\kappa^{2}\\right)}\\right) \\theta\\left(- \\omega\\right) - \\left(\\frac{i \\pi^{2} e^{- 2 \\pi \\omega}}{6 \\left(1 - e^{i \\left(\\alpha - i\\right)}\\right) \\left(\\kappa^{2} - 1\\right)} + \\frac{2 i \\pi \\left(- \\frac{\\pi}{24 \\left(\\kappa^{2} - 4\\right)} - \\frac{i \\log{\\left(2 \\right)}}{12 \\left(\\kappa^{2} - 4\\right)}\\right) e^{- 4 \\pi \\omega}}{1 - e^{i \\left(\\alpha - 2 i\\right)}} - \\frac{\\pi e^{- 2 \\pi \\kappa \\omega} \\log{\\left(- i \\kappa \\right)}}{\\kappa \\left(1 - \\kappa^{2}\\right) \\left(1 - e^{i \\left(\\alpha - i \\kappa\\right)}\\right) \\left(4 - \\kappa^{2}\\right)}\\right) \\theta\\left(\\omega\\right) + 2 i \\pi \\theta\\left(\\omega\\right) \\int\\limits_{-\\infty}^{0} \\frac{e^{- 2 i \\pi \\omega z}}{\\left(1 - e^{i \\left(\\alpha + z\\right)}\\right) \\left(\\kappa^{2} + z^{2}\\right) \\left(z^{2} + 1\\right) \\left(z^{2} + 4\\right)}\\, dz + \\sum_{n=- N}^{N} - \\frac{i \\pi \\left(i \\log{\\left(- \\alpha + 2 \\pi n \\right)} \\operatorname{sign}{\\left(\\omega \\right)} + 2 \\pi \\theta\\left(\\omega\\right) \\theta\\left(\\alpha - 2 \\pi n\\right)\\right) e^{- 2 i \\pi \\omega \\left(- \\alpha + 2 \\pi n\\right)}}{\\left(\\kappa^{2} + \\left(- \\alpha + 2 \\pi n\\right)^{2}\\right) \\left(\\left(- \\alpha + 2 \\pi n\\right)^{2} + 1\\right) \\left(\\left(- \\alpha + 2 \\pi n\\right)^{2} + 4\\right)}$"
      ],
      "text/plain": [
       "(2*I*pi*(-pi/(24*(kappa**2 - 4)) + I*log(2)/(12*(kappa**2 - 4)))*exp(4*pi*omega)/(1 - exp(I*(alpha + 2*I))) + I*pi**2*exp(2*pi*omega)/(6*(1 - exp(I*(alpha + I)))*(kappa**2 - 1)) + pi*exp(2*pi*kappa*omega)*log(I*kappa)/(kappa*(1 - kappa**2)*(1 - exp(I*(alpha + I*kappa)))*(4 - kappa**2)))*Heaviside(-omega) - (I*pi**2*exp(-2*pi*omega)/(6*(1 - exp(I*(alpha - I)))*(kappa**2 - 1)) + 2*I*pi*(-pi/(24*(kappa**2 - 4)) - I*log(2)/(12*(kappa**2 - 4)))*exp(-4*pi*omega)/(1 - exp(I*(alpha - 2*I))) - pi*exp(-2*pi*kappa*omega)*log(-I*kappa)/(kappa*(1 - kappa**2)*(1 - exp(I*(alpha - I*kappa)))*(4 - kappa**2)))*Heaviside(omega) + 2*I*pi*Heaviside(omega)*Integral(exp(-2*I*pi*omega*z)/((1 - exp(I*(alpha + z)))*(kappa**2 + z**2)*(z**2 + 1)*(z**2 + 4)), (z, -oo, 0)) + Sum(-I*pi*(I*log(-alpha + 2*pi*n)*sign(omega) + 2*pi*Heaviside(omega)*Heaviside(alpha - 2*pi*n))*exp(-2*I*pi*omega*(-alpha + 2*pi*n))/((kappa**2 + (-alpha + 2*pi*n)**2)*((-alpha + 2*pi*n)**2 + 1)*((-alpha + 2*pi*n)**2 + 4)), (n, -N, N))"
      ]
     },
     "execution_count": 42,
     "metadata": {},
     "output_type": "execute_result"
    }
   ],
   "source": [
    "G_series_expansion(f_z_example_1, f_z_example_1_upper_poles, f_z_example_1_lower_poles, N, omega, alpha)"
   ]
  },
  {
   "cell_type": "code",
   "execution_count": 13,
   "metadata": {},
   "outputs": [],
   "source": [
    "test_vals = {\n",
    "    \"omega\": 0.2,\n",
    "    \"alpha\": -pi/6,\n",
    "    \"kappa\": 40.1,\n",
    "    \"N\": 80,\n",
    "    \"R\": 120,\n",
    "    \"epsilon\": 1e-14\n",
    "}"
   ]
  },
  {
   "cell_type": "code",
   "execution_count": 184,
   "metadata": {},
   "outputs": [
    {
     "name": "stdout",
     "output_type": "stream",
     "text": [
      "series -0.000179225966314882 + 0.000140167705604006*I 0.0208313742018011\n",
      "series -0.000179368201513466 + 0.000140597704251336*I 0.00198728659256365\n",
      "series -0.000179404063227284 + 0.000140608178733626*I 0.000163903494839296\n",
      "series -0.000179391917400187 + 0.000140584182698875*I 0.000118003542914008\n",
      "series -0.000179389149285081 + 0.000140583928841294*I 1.21964601656160e-5\n",
      "series -0.000179391357015986 + 0.000140587668423832*I 1.90536199343826e-5\n",
      "series -0.000179391746023944 + 0.000140587557612002*I 1.77469233354386e-6\n",
      "series -0.000179391165137832 + 0.000140586657942511*I 4.69867105007683e-6\n",
      "series -0.000179391098596518 + 0.000140586732638291*I 4.38915803230115e-7\n",
      "Stopping ratio in series 1e-06 exceeded. Stopping.\n",
      "8.72934200984183e-5 - 5.37390207937059e-5*I 1.00000000000000\n",
      "9.92877538186593e-5 - 6.25092175434951e-5*I 0.126644076310182\n",
      "9.98148105120732e-5 - 6.18850198560111e-5*I 0.00695618913031238\n",
      "9.97110917699691e-5 - 6.17873711555148e-5*I 0.00121440225121621\n",
      "9.96832052821468e-5 - 6.18152931687199e-5*I 0.000336441699079193\n",
      "9.9692940620459e-5 - 6.18254731760602e-5*I 0.000120075651971279\n",
      "9.96971834082415e-5 - 6.18214219681265e-5*I 5.00072606480753e-5\n",
      "9.96952825799418e-5 - 6.18194608305501e-5*I 2.32822323171676e-5\n",
      "9.96943021949096e-5 - 6.18204369074127e-5*I 1.17933412384166e-5\n",
      "9.96948401954435e-5 - 6.18209582932346e-5*I 6.38659663740177e-6\n",
      "9.96951260442134e-5 - 6.18206431199515e-5*I 3.62717200748060e-6\n",
      "9.96949372564207e-5 - 6.18204793592323e-5*I 2.13045701387887e-6\n",
      "9.96948368246245e-5 - 6.18206019739417e-5*I 1.35112372079716e-6\n",
      "9.96949158182732e-5 - 6.1820663367412e-5*I 8.52856070342392e-7\n",
      "Stopping ratio in integral 1e-06 exceeded. Stopping.\n"
     ]
    },
    {
     "data": {
      "text/latex": [
       "$\\displaystyle 0.000107365910399759 + 0.000870503097778284 i$"
      ],
      "text/plain": [
       "0.000107365910399759 + 0.000870503097778284*I"
      ]
     },
     "execution_count": 184,
     "metadata": {},
     "output_type": "execute_result"
    }
   ],
   "source": [
    "subs_list = [(omega, test_vals[\"omega\"]),(alpha, test_vals[\"alpha\"]),(kappa, test_vals[\"kappa\"]),(N, test_vals[\"N\"])]\n",
    "G_series_result = (G_series_expansion_pv(\n",
    "    f_z_example_1.subs(subs_list), \n",
    "    [p.subs(subs_list) for p in f_z_example_1_upper_poles], \n",
    "    [p.subs(subs_list) for p in f_z_example_1_lower_poles], \n",
    "    test_vals[\"N\"], test_vals[\"R\"], test_vals[\"omega\"], test_vals[\"alpha\"], test_vals[\"epsilon\"])\n",
    ").subs(subs_list).evalf().doit().evalf().subs(Heaviside(0),0)\n",
    "G_series_result"
   ]
  },
  {
   "cell_type": "code",
   "execution_count": 185,
   "metadata": {},
   "outputs": [
    {
     "name": "stdout",
     "output_type": "stream",
     "text": [
      "0.00139188087086715 + 0.00213920708641802*I 1.00000000000000\n",
      "7.38402494006437e-6 + 0.000396768908049476*I 5.60812817504110\n",
      "4.97056832808956e-5 + 0.000856514342039467*I 0.538127359227737\n",
      "6.18021595378665e-5 + 0.000847444861398515*I 0.0177932813099059\n",
      "0.000110036654974292 + 0.000869308542836504*I 0.0604378329453737\n",
      "0.000109229036924943 + 0.000868047055655461*I 0.00171205524690215\n",
      "0.000108627617008229 + 0.000871224600236108*I 0.00368344902951263\n",
      "0.000108336611104273 + 0.000871392713203569*I 0.000382729144514899\n",
      "0.000107733878287709 + 0.000871360328714409*I 0.000687477849926777\n",
      "0.000107785219921227 + 0.000871454770746064*I 0.000122418851625410\n",
      "0.000107781001333862 + 0.000871279151614566*I 0.000200097646893279\n",
      "0.000107818029840173 + 0.000871259798491511*I 4.75916965767449e-5\n",
      "0.00010788295728992 + 0.000871254540831426*I 7.41990574882599e-5\n",
      "0.000107874097269419 + 0.000871237888874372*I 2.14859678827230e-5\n",
      "0.000107877072592293 + 0.000871265706468641*I 3.18665689659676e-5\n",
      "0.000107868920298639 + 0.000871270157479425*I 1.05797976881749e-5\n",
      "0.00010785565176237 + 0.000871271741844061*I 1.52209329687931e-5\n",
      "0.000107858081201305 + 0.000871276027135912*I 5.61099582203727e-6\n",
      "0.00010785724149483 + 0.000871269159859663*I 7.88047398418767e-6\n",
      "0.000107859626029653 + 0.000871267744425053*I 3.15859308242275e-6\n",
      "0.000107863418345859 + 0.000871267296782167*I 4.34965633074720e-6\n",
      "0.000107862549052238 + 0.000871265906401424*I 1.86779030024994e-6\n",
      "0.000107862760513893 + 0.0008712681015545*I 2.51197857124423e-6\n",
      "0.000107861941871884 + 0.000871268637046874*I 1.11425477181274e-6\n",
      "0.000107860631585871 + 0.000871268747802437*I 1.49781183570131e-6\n",
      "0.000107860995735729 + 0.000871269259699761*I 7.15562606223990e-7\n",
      "Stopping ratio in integral 1e-06 exceeded. Stopping.\n"
     ]
    },
    {
     "data": {
      "text/latex": [
       "$\\displaystyle 0.000107860995735729 + 0.000871269259699761 i$"
      ],
      "text/plain": [
       "0.000107860995735729 + 0.000871269259699761*I"
      ]
     },
     "execution_count": 185,
     "metadata": {},
     "output_type": "execute_result"
    }
   ],
   "source": [
    "G_integral_result = G_integral_principal_value(\n",
    "    test_vals[\"R\"], test_vals[\"omega\"], test_vals[\"alpha\"], test_vals[\"epsilon\"], \n",
    "    f_z_example_1.subs(kappa, test_vals[\"kappa\"])\n",
    ")\n",
    "G_integral_result"
   ]
  },
  {
   "cell_type": "code",
   "execution_count": 186,
   "metadata": {},
   "outputs": [
    {
     "data": {
      "text/plain": [
       "(0.000935373636030912 - 0.000452437636027546*I, 0.999064728809696)"
      ]
     },
     "execution_count": 186,
     "metadata": {},
     "output_type": "execute_result"
    }
   ],
   "source": [
    "(1-G_series_result/G_integral_result).simplify(), abs((G_series_result/G_integral_result).simplify())"
   ]
  },
  {
   "cell_type": "markdown",
   "metadata": {},
   "source": [
    "## Inverse Fourier Transform of G"
   ]
  },
  {
   "cell_type": "markdown",
   "metadata": {},
   "source": [
    "### Useful rules"
   ]
  },
  {
   "cell_type": "code",
   "execution_count": 49,
   "metadata": {
    "scrolled": true
   },
   "outputs": [
    {
     "data": {
      "text/latex": [
       "$\\displaystyle \\int\\limits_{-\\infty}^{\\infty} \\frac{e^{- 2 i \\pi \\omega \\tau}}{\\tau}\\, d\\tau = - i \\pi \\operatorname{sign}{\\left(\\omega \\right)}$"
      ],
      "text/plain": [
       "Eq(Integral(exp(-2*I*pi*omega*tau)/tau, (tau, -oo, oo)), -I*pi*sign(omega))"
      ]
     },
     "execution_count": 49,
     "metadata": {},
     "output_type": "execute_result"
    }
   ],
   "source": [
    "Eq(Integral(1/tau*exp(-2*I*pi*omega*tau),(tau,-oo,oo)),-I*pi*sign(omega))"
   ]
  },
  {
   "cell_type": "code",
   "execution_count": 50,
   "metadata": {
    "scrolled": true
   },
   "outputs": [
    {
     "data": {
      "text/latex": [
       "$\\displaystyle \\int\\limits_{-\\infty}^{\\infty} e^{2 i \\pi \\omega \\tau} \\operatorname{sign}{\\left(\\omega \\right)}\\, d\\omega = \\frac{i}{\\pi \\tau}$"
      ],
      "text/plain": [
       "Eq(Integral(exp(2*I*pi*omega*tau)*sign(omega), (omega, -oo, oo)), I/(pi*tau))"
      ]
     },
     "execution_count": 50,
     "metadata": {},
     "output_type": "execute_result"
    }
   ],
   "source": [
    "Eq(Integral(sign(omega)*exp(2*I*pi*omega*tau),(omega,-oo,oo)),I/tau/pi)"
   ]
  },
  {
   "cell_type": "code",
   "execution_count": 51,
   "metadata": {},
   "outputs": [
    {
     "data": {
      "text/latex": [
       "$\\displaystyle \\int\\limits_{-\\infty}^{\\infty} e^{2 i \\pi \\omega \\tau} e^{- 2 i \\pi \\omega \\left(- \\alpha + 2 \\pi n\\right)} \\operatorname{sign}{\\left(\\omega \\right)}\\, d\\omega$"
      ],
      "text/plain": [
       "Integral(exp(2*I*pi*omega*tau)*exp(-2*I*pi*omega*(-alpha + 2*pi*n))*sign(omega), (omega, -oo, oo))"
      ]
     },
     "execution_count": 51,
     "metadata": {},
     "output_type": "execute_result"
    }
   ],
   "source": [
    "Integral(sign(omega)*exp(-2*I*pi*omega*(2*pi*n-alpha))*exp(2*I*pi*omega*tau),(omega,-oo,oo))"
   ]
  },
  {
   "cell_type": "code",
   "execution_count": 52,
   "metadata": {
    "scrolled": true
   },
   "outputs": [
    {
     "data": {
      "text/latex": [
       "$\\displaystyle \\int\\limits_{0}^{\\infty} e^{\\pi \\omega \\left(- 2 a + 2 i b\\right)}\\, d\\omega = \\begin{cases} \\frac{1}{2 \\pi \\left(a - i b\\right)} & \\text{for}\\: \\left|{\\arg{\\left(a - i b \\right)}}\\right| < \\frac{\\pi}{2} \\\\\\int\\limits_{0}^{\\infty} e^{\\pi \\omega \\left(- 2 a + 2 i b\\right)}\\, d\\omega & \\text{otherwise} \\end{cases}$"
      ],
      "text/plain": [
       "Eq(Integral(exp(pi*omega*(-2*a + 2*I*b)), (omega, 0, oo)), Piecewise((1/(2*pi*(a - I*b)), Abs(arg(a - I*b)) < pi/2), (Integral(exp(pi*omega*(-2*a + 2*I*b)), (omega, 0, oo)), True)))"
      ]
     },
     "execution_count": 52,
     "metadata": {},
     "output_type": "execute_result"
    }
   ],
   "source": [
    "Eq(Integral(exp((-a+I*b)*2*pi*omega),(omega,0,oo)),Integral(exp((-a+I*b)*2*pi*omega),(omega,0,oo)).doit())"
   ]
  },
  {
   "cell_type": "code",
   "execution_count": 53,
   "metadata": {},
   "outputs": [
    {
     "data": {
      "text/latex": [
       "$\\displaystyle \\int\\limits_{-\\infty}^{\\infty} e^{2 i \\pi \\omega \\tau}\\, d\\omega = \\delta\\left(\\tau\\right)$"
      ],
      "text/plain": [
       "Eq(Integral(exp(2*I*pi*omega*tau), (omega, -oo, oo)), DiracDelta(tau))"
      ]
     },
     "execution_count": 53,
     "metadata": {},
     "output_type": "execute_result"
    }
   ],
   "source": [
    "Eq(Integral(exp(2*I*pi*omega*tau),(omega,-oo,oo)), DiracDelta(tau))"
   ]
  },
  {
   "cell_type": "code",
   "execution_count": 54,
   "metadata": {},
   "outputs": [
    {
     "data": {
      "text/latex": [
       "$\\displaystyle \\int\\limits_{-\\infty}^{\\infty} e^{2 i \\pi \\omega \\tau} \\theta\\left(\\omega\\right)\\, d\\omega = \\frac{\\delta\\left(\\tau\\right)}{2} + \\frac{i}{2 \\pi \\tau}$"
      ],
      "text/plain": [
       "Eq(Integral(exp(2*I*pi*omega*tau)*Heaviside(omega), (omega, -oo, oo)), DiracDelta(tau)/2 + I/(2*pi*tau))"
      ]
     },
     "execution_count": 54,
     "metadata": {},
     "output_type": "execute_result"
    }
   ],
   "source": [
    "Eq(Integral(Heaviside(omega)*exp(2*I*pi*omega*tau),(omega,-oo,oo)), (I/tau/pi+DiracDelta(tau))/2)"
   ]
  },
  {
   "cell_type": "markdown",
   "metadata": {},
   "source": [
    "### Obtaining f from inverse FT"
   ]
  },
  {
   "cell_type": "code",
   "execution_count": 55,
   "metadata": {},
   "outputs": [
    {
     "data": {
      "text/latex": [
       "$\\displaystyle G{\\left(\\omega,\\alpha \\right)} = 2 i \\pi \\theta\\left(- \\omega\\right) \\sum_{k=0}^{Nfupperpoles} \\frac{\\operatorname{Resf}{\\left({fpole}_{k} \\right)} e^{- 2 i \\pi \\omega {fpole}_{k}}}{1 - e^{i \\left(\\alpha + {fpole}_{k}\\right)}} - 2 i \\pi \\theta\\left(\\omega\\right) \\sum_{k=0}^{Nflowerpoles} \\frac{\\operatorname{Resf}{\\left({fpole}_{k} \\right)} e^{- 2 i \\pi \\omega {fpole}_{k}}}{1 - e^{i \\left(\\alpha + {fpole}_{k}\\right)}} + 2 i \\pi \\theta\\left(\\omega\\right) \\lim_{R \\to \\infty} \\lim_{r \\to 0^+} \\int\\limits_{- R}^{r} \\frac{h{\\left(z \\right)} e^{- 2 i \\pi \\omega z}}{1 - e^{i \\left(\\alpha + z\\right)}}\\, dz + \\pi \\operatorname{sign}{\\left(\\omega \\right)} \\sum_{n=-\\infty}^{\\infty} f{\\left(- \\alpha + 2 \\pi n \\right)} e^{- 2 i \\pi \\omega \\left(- \\alpha + 2 \\pi n\\right)}$"
      ],
      "text/plain": [
       "Eq(G(omega, alpha), 2*I*pi*Heaviside(-omega)*Sum(Resf(fpole[k])*exp(-2*I*pi*omega*fpole[k])/(1 - exp(I*(alpha + fpole[k]))), (k, 0, Nfupperpoles)) - 2*I*pi*Heaviside(omega)*Sum(Resf(fpole[k])*exp(-2*I*pi*omega*fpole[k])/(1 - exp(I*(alpha + fpole[k]))), (k, 0, Nflowerpoles)) + 2*I*pi*Heaviside(omega)*Limit(Limit(Integral(h(z)*exp(-2*I*pi*omega*z)/(1 - exp(I*(alpha + z))), (z, -R, r)), r, 0), R, oo, dir='-') + pi*sign(omega)*Sum(f(-alpha + 2*pi*n)*exp(-2*I*pi*omega*(-alpha + 2*pi*n)), (n, -oo, oo)))"
      ]
     },
     "execution_count": 55,
     "metadata": {},
     "output_type": "execute_result"
    }
   ],
   "source": [
    "Eq(G(omega, alpha), \n",
    "    - Heaviside(omega)*2*pi*I*Sum(\n",
    "        Resf(fpole[k])*exp(-2*I*pi*omega*fpole[k])/(1 - exp(I*(alpha + fpole[k])))\n",
    "        ,(k,0,Nflowerpoles)) \n",
    "    + Heaviside(-omega)*2*pi*I*Sum(\n",
    "        Resf(fpole[k])*exp(-2*I*pi*omega*fpole[k])/(1 - exp(I*(alpha + fpole[k])))\n",
    "        ,(k,0,Nfupperpoles))\n",
    "    + sign(omega)*pi*Sum(f(2*pi*n-alpha)*exp(-2*I*pi*omega*(2*pi*n-alpha)),(n,-oo,oo))\n",
    "    + 2*I*pi*Heaviside(omega)*Limit(Limit(Integral(G_integrand_tau.subs(tau,z).subs(f,h),(z,-R,r)),r,0),R,oo)\n",
    ")"
   ]
  },
  {
   "cell_type": "code",
   "execution_count": 56,
   "metadata": {},
   "outputs": [
    {
     "data": {
      "text/latex": [
       "$\\displaystyle G{\\left(\\omega,\\alpha \\right)} = 2 i \\pi \\theta\\left(- \\omega\\right) \\sum_{k=0}^{Nhupperpoles} \\frac{\\operatorname{Resh}{\\left({hpole}_{k} \\right)} e^{- 2 i \\pi \\omega {hpole}_{k}} \\log{\\left({hpole}_{k} \\right)}}{1 - e^{i \\left(\\alpha + {hpole}_{k}\\right)}} - 2 i \\pi \\theta\\left(\\omega\\right) \\sum_{k=0}^{Nflowerpoles} \\frac{\\operatorname{Resh}{\\left({hpole}_{k} \\right)} e^{- 2 i \\pi \\omega {hpole}_{k}} \\log{\\left({hpole}_{k} \\right)}}{1 - e^{i \\left(\\alpha + {hpole}_{k}\\right)}} + 2 i \\pi \\theta\\left(\\omega\\right) \\lim_{R \\to \\infty} \\lim_{r \\to 0^+} \\int\\limits_{- R}^{r} \\frac{h{\\left(z \\right)} e^{- 2 i \\pi \\omega z}}{1 - e^{i \\left(\\alpha + z\\right)}}\\, dz + \\pi \\sum_{n=-\\infty}^{\\infty} \\left(e^{- 2 i \\pi \\omega \\left(- \\alpha + 2 \\pi n\\right)} \\log{\\left(- \\alpha + 2 \\pi n \\right)} \\operatorname{sign}{\\left(\\omega \\right)} - 2 i \\pi e^{- 2 i \\pi \\omega \\left(- \\alpha + 2 \\pi n\\right)} \\theta\\left(\\omega\\right) \\theta\\left(\\alpha - 2 \\pi n\\right)\\right) h{\\left(- \\alpha + 2 \\pi n \\right)}$"
      ],
      "text/plain": [
       "Eq(G(omega, alpha), 2*I*pi*Heaviside(-omega)*Sum(Resh(hpole[k])*exp(-2*I*pi*omega*hpole[k])*log(hpole[k])/(1 - exp(I*(alpha + hpole[k]))), (k, 0, Nhupperpoles)) - 2*I*pi*Heaviside(omega)*Sum(Resh(hpole[k])*exp(-2*I*pi*omega*hpole[k])*log(hpole[k])/(1 - exp(I*(alpha + hpole[k]))), (k, 0, Nflowerpoles)) + 2*I*pi*Heaviside(omega)*Limit(Limit(Integral(h(z)*exp(-2*I*pi*omega*z)/(1 - exp(I*(alpha + z))), (z, -R, r)), r, 0), R, oo, dir='-') + pi*Sum((exp(-2*I*pi*omega*(-alpha + 2*pi*n))*log(-alpha + 2*pi*n)*sign(omega) - 2*I*pi*exp(-2*I*pi*omega*(-alpha + 2*pi*n))*Heaviside(omega)*Heaviside(alpha - 2*pi*n))*h(-alpha + 2*pi*n), (n, -oo, oo)))"
      ]
     },
     "execution_count": 56,
     "metadata": {},
     "output_type": "execute_result"
    }
   ],
   "source": [
    "Eq(G(omega, alpha), \n",
    "    - Heaviside(omega)*2*pi*I*Sum(\n",
    "        Resh(hpole[k])*ln(hpole[k])*exp(-2*I*pi*omega*hpole[k])/(1 - exp(I*(alpha + hpole[k])))\n",
    "        ,(k,0,Nflowerpoles)) \n",
    "    + Heaviside(-omega)*2*pi*I*Sum(\n",
    "        Resh(hpole[k])*ln(hpole[k])*exp(-2*I*pi*omega*hpole[k])/(1 - exp(I*(alpha + hpole[k])))\n",
    "        ,(k,0,Nhupperpoles))\n",
    "    + pi*Sum(h(2*pi*n-alpha)*(\n",
    "        sign(omega)*exp(-2*I*pi*omega*(2*pi*n-alpha))*ln(2*pi*n-alpha) \n",
    "        - 2*I*pi*Heaviside(omega)*exp(-2*I*pi*omega*(2*pi*n-alpha))*Heaviside(-2*pi*n+alpha)\n",
    "    ),(n,-oo,oo))\n",
    "    + 2*I*pi*Heaviside(omega)*Limit(Limit(Integral(G_integrand_tau.subs(tau,z).subs(f,h),(z,-R,r)),r,0),R,oo)\n",
    ")"
   ]
  },
  {
   "cell_type": "code",
   "execution_count": 57,
   "metadata": {},
   "outputs": [
    {
     "data": {
      "text/latex": [
       "$\\displaystyle 2 i \\pi \\lim_{R \\to \\infty} \\lim_{r \\to 0^+} \\int\\limits_{-\\infty}^{\\infty} e^{2 i \\pi \\omega \\tau} \\theta\\left(\\omega\\right) \\int\\limits_{- R}^{r} \\frac{h{\\left(z \\right)} e^{- 2 i \\pi \\omega z}}{1 - e^{i \\left(\\alpha + z\\right)}}\\, dz\\, d\\omega = 2 i \\pi \\lim_{R \\to \\infty} \\lim_{r \\to 0^+} \\int\\limits_{- R}^{r} \\frac{h{\\left(z \\right)} \\int\\limits_{-\\infty}^{\\infty} e^{2 i \\pi \\omega \\left(\\tau - z\\right)} \\theta\\left(\\omega\\right)\\, d\\omega}{1 - e^{i \\left(\\alpha + z\\right)}}\\, dz$"
      ],
      "text/plain": [
       "Eq(2*I*pi*Limit(Limit(Integral(exp(2*I*pi*omega*tau)*Heaviside(omega)*Integral(h(z)*exp(-2*I*pi*omega*z)/(1 - exp(I*(alpha + z))), (z, -R, r)), (omega, -oo, oo)), r, 0), R, oo, dir='-'), 2*I*pi*Limit(Limit(Integral(h(z)*Integral(exp(2*I*pi*omega*(tau - z))*Heaviside(omega), (omega, -oo, oo))/(1 - exp(I*(alpha + z))), (z, -R, r)), r, 0), R, oo, dir='-'))"
      ]
     },
     "execution_count": 57,
     "metadata": {},
     "output_type": "execute_result"
    }
   ],
   "source": [
    "Eq(2*I*pi*Limit(Limit(Integral(Heaviside(omega)*Integral(\n",
    "    G_integrand_tau.subs(tau,z).subs(f,h),(z,-R,r))*exp(2*I*pi*omega*tau)\n",
    ",(omega,-oo,oo)),r,0),R,oo),\n",
    "   2*I*pi*Limit(Limit(Integral(\n",
    "h(z)/(1-exp(I*(alpha+z)))*Integral(Heaviside(omega)*exp(2*I*pi*omega*(tau-z)),(omega,-oo,oo)),(z,-R,r))\n",
    ",r,0),R,oo))"
   ]
  },
  {
   "cell_type": "code",
   "execution_count": 57,
   "metadata": {
    "scrolled": true
   },
   "outputs": [
    {
     "data": {
      "text/latex": [
       "$\\displaystyle \\int\\limits_{-\\infty}^{\\infty} e^{2 i \\pi \\omega \\left(\\tau - z\\right)} \\theta\\left(\\omega\\right)\\, d\\omega = \\frac{\\delta\\left(\\tau - z\\right)}{2} + \\frac{i}{2 \\pi \\left(\\tau - z\\right)}$"
      ],
      "text/plain": [
       "Eq(Integral(exp(2*I*pi*omega*(tau - z))*Heaviside(omega), (omega, -oo, oo)), DiracDelta(tau - z)/2 + I/(2*pi*(tau - z)))"
      ]
     },
     "execution_count": 57,
     "metadata": {},
     "output_type": "execute_result"
    }
   ],
   "source": [
    "Eq(Integral(Heaviside(omega)*exp(2*I*pi*omega*tau),(omega,-oo,oo)), (I/tau/pi+DiracDelta(tau))/2).subs(tau,tau-z)"
   ]
  },
  {
   "cell_type": "code",
   "execution_count": 58,
   "metadata": {},
   "outputs": [
    {
     "data": {
      "text/latex": [
       "$\\displaystyle 2 i \\pi \\lim_{R \\to \\infty} \\lim_{r \\to 0^+} \\int\\limits_{- R}^{r} \\frac{h{\\left(z \\right)} \\int\\limits_{-\\infty}^{\\infty} e^{2 i \\pi \\omega \\left(\\tau - z\\right)} \\theta\\left(\\omega\\right)\\, d\\omega}{1 - e^{i \\left(\\alpha + z\\right)}}\\, dz = \\int\\limits_{-\\infty}^{0} \\frac{\\left(i \\pi \\delta\\left(\\tau - z\\right) - \\frac{1}{\\tau - z}\\right) h{\\left(z \\right)}}{1 - e^{i \\left(\\alpha + z\\right)}}\\, dz$"
      ],
      "text/plain": [
       "Eq(2*I*pi*Limit(Limit(Integral(h(z)*Integral(exp(2*I*pi*omega*(tau - z))*Heaviside(omega), (omega, -oo, oo))/(1 - exp(I*(alpha + z))), (z, -R, r)), r, 0), R, oo, dir='-'), Integral((I*pi*DiracDelta(tau - z) - 1/(tau - z))*h(z)/(1 - exp(I*(alpha + z))), (z, -oo, 0)))"
      ]
     },
     "execution_count": 58,
     "metadata": {},
     "output_type": "execute_result"
    }
   ],
   "source": [
    "Eq(2*I*pi*Limit(Limit(Integral(\n",
    "h(z)/(1-exp(I*(alpha+z)))*Integral(Heaviside(omega)*exp(2*I*pi*omega*(tau-z)),(omega,-oo,oo)),(z,-R,r))\n",
    ",r,0),R,oo),\n",
    "   Integral(h(z)/(1-exp(I*(alpha+z)))*((-pi/(tau-z)/pi+I*pi*DiracDelta(tau-z))),(z,-oo,0))\n",
    "  )"
   ]
  },
  {
   "cell_type": "code",
   "execution_count": 59,
   "metadata": {},
   "outputs": [
    {
     "data": {
      "text/latex": [
       "$\\displaystyle \\int\\limits_{-\\infty}^{0} \\frac{\\left(i \\pi \\delta\\left(\\tau - z\\right) - \\frac{1}{\\tau - z}\\right) h{\\left(z \\right)}}{1 - e^{i \\left(\\alpha + z\\right)}}\\, dz = - \\int\\limits_{-\\infty}^{0} \\frac{h{\\left(z \\right)}}{\\left(1 - e^{i \\left(\\alpha + z\\right)}\\right) \\left(\\tau - z\\right)}\\, dz + \\frac{i \\pi h{\\left(\\tau \\right)} \\theta\\left(- \\tau\\right)}{1 - e^{i \\left(\\alpha + \\tau\\right)}}$"
      ],
      "text/plain": [
       "Eq(Integral((I*pi*DiracDelta(tau - z) - 1/(tau - z))*h(z)/(1 - exp(I*(alpha + z))), (z, -oo, 0)), -Integral(h(z)/((1 - exp(I*(alpha + z)))*(tau - z)), (z, -oo, 0)) + I*pi*h(tau)*Heaviside(-tau)/(1 - exp(I*(alpha + tau))))"
      ]
     },
     "execution_count": 59,
     "metadata": {},
     "output_type": "execute_result"
    }
   ],
   "source": [
    "Eq(Integral(h(z)/(1-exp(I*(alpha+z)))*((-pi/(tau-z)/pi+I*pi*DiracDelta(tau-z))),(z,-oo,0)),\n",
    "   (Heaviside(-tau)*(h(z)/(1-exp(I*(alpha+z)))*I*pi).subs(z,tau) + \n",
    "-Integral(h(z)/(1-exp(I*(alpha+z)))/(tau-z),(z,-oo,0)))\n",
    "  )"
   ]
  },
  {
   "cell_type": "code",
   "execution_count": 60,
   "metadata": {},
   "outputs": [
    {
     "data": {
      "text/latex": [
       "$\\displaystyle g{\\left(\\tau,\\alpha \\right)} = \\int\\limits_{-\\infty}^{\\infty} G{\\left(\\omega,\\alpha \\right)} e^{2 i \\pi \\omega \\tau}\\, d\\omega$"
      ],
      "text/plain": [
       "Eq(g(tau, alpha), Integral(G(omega, alpha)*exp(2*I*pi*omega*tau), (omega, -oo, oo)))"
      ]
     },
     "execution_count": 60,
     "metadata": {},
     "output_type": "execute_result"
    }
   ],
   "source": [
    "Eq(g(tau, alpha),Integral(G(omega, alpha)*exp(2*I*pi*omega*tau),(omega,-oo,oo)))"
   ]
  },
  {
   "cell_type": "code",
   "execution_count": 61,
   "metadata": {},
   "outputs": [
    {
     "data": {
      "text/latex": [
       "$\\displaystyle \\frac{f{\\left(\\tau \\right)}}{1 - e^{i \\left(a + \\tau\\right)}} = \\int\\limits_{-\\infty}^{\\infty} G{\\left(\\omega,\\alpha \\right)} e^{2 i \\pi \\omega \\tau}\\, d\\omega$"
      ],
      "text/plain": [
       "Eq(f(tau)/(1 - exp(I*(a + tau))), Integral(G(omega, alpha)*exp(2*I*pi*omega*tau), (omega, -oo, oo)))"
      ]
     },
     "execution_count": 61,
     "metadata": {},
     "output_type": "execute_result"
    }
   ],
   "source": [
    "\n",
    "Eq(f(tau)/(1-exp(I*(a+tau))), Integral(G(omega, alpha)*exp(2*I*pi*omega*tau),(omega,-oo,oo)))"
   ]
  },
  {
   "cell_type": "markdown",
   "metadata": {},
   "source": [
    "We will assume that we can perform integration term wise and thus we are interested in the following integrals:"
   ]
  },
  {
   "cell_type": "code",
   "execution_count": 62,
   "metadata": {},
   "outputs": [
    {
     "data": {
      "text/latex": [
       "$\\displaystyle \\int\\limits_{-\\infty}^{\\infty} e^{2 i \\pi \\omega \\left(\\alpha - 2 \\pi n + \\tau\\right)} \\theta\\left(\\omega\\right)\\, d\\omega = \\frac{\\delta\\left(\\alpha - 2 \\pi n + \\tau\\right)}{2} + \\frac{i}{2 \\pi \\left(\\alpha - 2 \\pi n + \\tau\\right)}$"
      ],
      "text/plain": [
       "Eq(Integral(exp(2*I*pi*omega*(alpha - 2*pi*n + tau))*Heaviside(omega), (omega, -oo, oo)), DiracDelta(alpha - 2*pi*n + tau)/2 + I/(2*pi*(alpha - 2*pi*n + tau)))"
      ]
     },
     "execution_count": 62,
     "metadata": {},
     "output_type": "execute_result"
    }
   ],
   "source": [
    "Eq(Integral(Heaviside(omega)*exp(2*I*pi*omega*tau),(omega,-oo,oo)), (I/tau/pi+DiracDelta(tau))/2).subs(tau,tau+alpha-2*pi*n)"
   ]
  },
  {
   "cell_type": "code",
   "execution_count": 63,
   "metadata": {},
   "outputs": [
    {
     "data": {
      "text/latex": [
       "$\\displaystyle \\int\\limits_{-\\infty}^{\\infty} e^{2 i \\pi \\omega \\left(\\alpha - 2 \\pi n + \\tau\\right)} \\operatorname{sign}{\\left(\\omega \\right)}\\, d\\omega = \\frac{i}{\\pi \\left(\\alpha - 2 \\pi n + \\tau\\right)}$"
      ],
      "text/plain": [
       "Eq(Integral(exp(2*I*pi*omega*(alpha - 2*pi*n + tau))*sign(omega), (omega, -oo, oo)), I/(pi*(alpha - 2*pi*n + tau)))"
      ]
     },
     "execution_count": 63,
     "metadata": {},
     "output_type": "execute_result"
    }
   ],
   "source": [
    "Eq(Integral(sign(omega)*exp(2*I*pi*omega*tau),(omega,-oo,oo)),I/tau/pi).subs(tau,tau+alpha-2*pi*n)"
   ]
  },
  {
   "cell_type": "markdown",
   "metadata": {},
   "source": [
    "the below fpole is in the lower half plane with negative imaginary part:"
   ]
  },
  {
   "cell_type": "code",
   "execution_count": 64,
   "metadata": {},
   "outputs": [
    {
     "data": {
      "text/latex": [
       "$\\displaystyle \\int\\limits_{-\\infty}^{\\infty} e^{2 i \\pi \\omega \\tau} e^{- 2 i \\pi \\omega {fpole}_{k}} \\theta\\left(\\omega\\right)\\, d\\omega = \\frac{i}{2 \\pi \\left(\\tau - {fpole}_{k}\\right)}$"
      ],
      "text/plain": [
       "Eq(Integral(exp(2*I*pi*omega*tau)*exp(-2*I*pi*omega*fpole[k])*Heaviside(omega), (omega, -oo, oo)), I/(2*pi*(tau - fpole[k])))"
      ]
     },
     "execution_count": 64,
     "metadata": {},
     "output_type": "execute_result"
    }
   ],
   "source": [
    "Eq(Integral(Heaviside(omega)*exp(-2*I*pi*omega*fpole[k])*exp(2*I*pi*omega*tau),(omega,-oo,oo)),\n",
    "   I/(2*pi*(tau - fpole[k]))\n",
    ")"
   ]
  },
  {
   "cell_type": "markdown",
   "metadata": {},
   "source": [
    "the below fpole is in the upper half plane with positive imaginary part:"
   ]
  },
  {
   "cell_type": "code",
   "execution_count": 65,
   "metadata": {},
   "outputs": [
    {
     "data": {
      "text/latex": [
       "$\\displaystyle \\int\\limits_{-\\infty}^{\\infty} e^{2 i \\pi \\omega \\tau} e^{- 2 i \\pi \\omega {fpole}_{k}} \\theta\\left(- \\omega\\right)\\, d\\omega = - \\frac{i}{2 \\pi \\left(\\tau - {fpole}_{k}\\right)}$"
      ],
      "text/plain": [
       "Eq(Integral(exp(2*I*pi*omega*tau)*exp(-2*I*pi*omega*fpole[k])*Heaviside(-omega), (omega, -oo, oo)), -I/(2*pi*(tau - fpole[k])))"
      ]
     },
     "execution_count": 65,
     "metadata": {},
     "output_type": "execute_result"
    }
   ],
   "source": [
    "Eq(Integral(Heaviside(-omega)*exp(-2*I*pi*omega*fpole[k])*exp(2*I*pi*omega*tau),(omega,-oo,oo)),\n",
    "   -I/(2*pi*(tau -fpole[k]))\n",
    "  )"
   ]
  },
  {
   "cell_type": "markdown",
   "metadata": {},
   "source": [
    "Therefore, putting it all together:"
   ]
  },
  {
   "cell_type": "code",
   "execution_count": 46,
   "metadata": {
    "scrolled": true
   },
   "outputs": [
    {
     "data": {
      "text/latex": [
       "$\\displaystyle \\int\\limits_{-\\infty}^{\\infty} G{\\left(\\omega,\\alpha \\right)} e^{2 i \\pi \\omega \\tau}\\, d\\omega = \\pi \\sum_{n=-\\infty}^{\\infty} \\left(- i \\pi \\left(\\delta\\left(\\alpha - 2 \\pi n + \\tau\\right) + \\frac{i}{\\pi \\left(\\alpha - 2 \\pi n + \\tau\\right)}\\right) \\theta\\left(\\alpha - 2 \\pi n\\right) + \\frac{i \\log{\\left(- \\alpha + 2 \\pi n \\right)}}{\\pi \\left(\\alpha - 2 \\pi n + \\tau\\right)}\\right) h{\\left(- \\alpha + 2 \\pi n \\right)} + 2 i \\pi \\sum_{k=0}^{Nhupperpoles} \\frac{\\operatorname{Resh}{\\left({hpole}_{k} \\right)} \\log{\\left({hpole}_{k} \\right)} \\int\\limits_{-\\infty}^{\\infty} e^{2 i \\pi \\omega \\tau} e^{- 2 i \\pi \\omega {hpole}_{k}} \\theta\\left(- \\omega\\right)\\, d\\omega}{1 - e^{i \\left(\\alpha + {hpole}_{k}\\right)}} - 2 i \\pi \\sum_{k=0}^{Nflowerpoles} \\frac{\\operatorname{Resh}{\\left({hpole}_{k} \\right)} \\log{\\left({hpole}_{k} \\right)} \\int\\limits_{-\\infty}^{\\infty} e^{2 i \\pi \\omega \\tau} e^{- 2 i \\pi \\omega {hpole}_{k}} \\theta\\left(\\omega\\right)\\, d\\omega}{1 - e^{i \\left(\\alpha + {hpole}_{k}\\right)}} + 2 i \\pi \\int\\limits_{-\\infty}^{\\infty} e^{2 i \\pi \\omega \\tau} \\theta\\left(\\omega\\right) \\lim_{R \\to \\infty} \\lim_{r \\to 0^+} \\int\\limits_{- R}^{r} \\frac{h{\\left(z \\right)} e^{- 2 i \\pi \\omega z}}{1 - e^{i \\left(\\alpha + z\\right)}}\\, dz\\, d\\omega$"
      ],
      "text/plain": [
       "Eq(Integral(G(omega, alpha)*exp(2*I*pi*omega*tau), (omega, -oo, oo)), pi*Sum((-I*pi*(DiracDelta(alpha - 2*pi*n + tau) + I/(pi*(alpha - 2*pi*n + tau)))*Heaviside(alpha - 2*pi*n) + I*log(-alpha + 2*pi*n)/(pi*(alpha - 2*pi*n + tau)))*h(-alpha + 2*pi*n), (n, -oo, oo)) + 2*I*pi*Sum(Resh(hpole[k])*log(hpole[k])*Integral(exp(2*I*pi*omega*tau)*exp(-2*I*pi*omega*hpole[k])*Heaviside(-omega), (omega, -oo, oo))/(1 - exp(I*(alpha + hpole[k]))), (k, 0, Nhupperpoles)) - 2*I*pi*Sum(Resh(hpole[k])*log(hpole[k])*Integral(exp(2*I*pi*omega*tau)*exp(-2*I*pi*omega*hpole[k])*Heaviside(omega), (omega, -oo, oo))/(1 - exp(I*(alpha + hpole[k]))), (k, 0, Nflowerpoles)) + 2*I*pi*Integral(exp(2*I*pi*omega*tau)*Heaviside(omega)*Limit(Limit(Integral(h(z)*exp(-2*I*pi*omega*z)/(1 - exp(I*(alpha + z))), (z, -R, r)), r, 0), R, oo, dir='-'), (omega, -oo, oo)))"
      ]
     },
     "execution_count": 46,
     "metadata": {},
     "output_type": "execute_result"
    }
   ],
   "source": [
    "Eq(Integral(G(omega, alpha)*exp(2*I*pi*omega*tau),(omega,-oo,oo)), \n",
    "    - 2*pi*I*Sum(\n",
    "        Resh(hpole[k])*ln(hpole[k])*Integral(\n",
    "            Heaviside(omega)*exp(-2*I*pi*omega*hpole[k])*exp(2*I*pi*omega*tau)\n",
    "            ,(omega,-oo,oo))/(1 - exp(I*(alpha + hpole[k])))\n",
    "        ,(k,0,Nflowerpoles)) \n",
    "    + 2*pi*I*Sum(\n",
    "        Resh(hpole[k])*ln(hpole[k])*Integral(\n",
    "            Heaviside(-omega)*exp(-2*I*pi*omega*hpole[k])*exp(2*I*pi*omega*tau)\n",
    "            ,(omega,-oo,oo))/(1 - exp(I*(alpha + hpole[k])))\n",
    "        ,(k,0,Nhupperpoles))\n",
    "    + pi*Sum(h(2*pi*n-alpha)*(\n",
    "        I*ln(2*pi*n-alpha)/(tau+alpha-2*pi*n)/pi\n",
    "        - 2*I*pi*(I/(tau+alpha-2*pi*n)/pi+DiracDelta(tau+alpha-2*pi*n))/2*Heaviside(-2*pi*n+alpha)),(n,-oo,oo))\n",
    "    + 2*I*pi*Integral(Heaviside(omega)*Limit(Limit(\n",
    "        Integral(G_integrand_tau.subs(tau,z).subs(f,h),(z,-R,r)),r,0),R,oo)*exp(2*I*pi*omega*tau)\n",
    "                      ,(omega,-oo,oo))\n",
    ")"
   ]
  },
  {
   "cell_type": "code",
   "execution_count": 67,
   "metadata": {},
   "outputs": [
    {
     "data": {
      "text/latex": [
       "$\\displaystyle f{\\left(\\tau \\right)} = h{\\left(\\tau \\right)} \\log{\\left(\\tau \\right)}$"
      ],
      "text/plain": [
       "Eq(f(tau), h(tau)*log(tau))"
      ]
     },
     "execution_count": 67,
     "metadata": {},
     "output_type": "execute_result"
    }
   ],
   "source": [
    "Eq(f(tau),h(tau)*ln(tau))"
   ]
  },
  {
   "cell_type": "code",
   "execution_count": 47,
   "metadata": {},
   "outputs": [
    {
     "data": {
      "text/latex": [
       "$\\displaystyle \\frac{h{\\left(\\tau \\right)} \\log{\\left(\\tau \\right)}}{1 - e^{i \\left(\\alpha + \\tau\\right)}} = - \\int\\limits_{-\\infty}^{0} \\frac{h{\\left(z \\right)}}{\\left(1 - e^{i \\left(\\alpha + z\\right)}\\right) \\left(\\tau - z\\right)}\\, dz + \\pi \\sum_{n=-\\infty}^{\\infty} \\left(\\log{\\left(- \\alpha + 2 \\pi n \\right)} \\int\\limits_{-\\infty}^{\\infty} e^{2 i \\pi \\omega \\tau} e^{- 2 i \\pi \\omega \\left(- \\alpha + 2 \\pi n\\right)} \\operatorname{sign}{\\left(\\omega \\right)}\\, d\\omega - 2 i \\pi \\theta\\left(\\alpha - 2 \\pi n\\right) \\int\\limits_{-\\infty}^{\\infty} e^{2 i \\pi \\omega \\tau} e^{- 2 i \\pi \\omega \\left(- \\alpha + 2 \\pi n\\right)} \\theta\\left(\\omega\\right)\\, d\\omega\\right) h{\\left(- \\alpha + 2 \\pi n \\right)} - 2 i \\pi \\sum_{k=0}^{Nflowerpoles} \\frac{i \\operatorname{Resh}{\\left({hpole}_{k} \\right)} \\log{\\left({hpole}_{k} \\right)}}{2 \\pi \\left(1 - e^{i \\left(\\alpha + {hpole}_{k}\\right)}\\right) \\left(\\tau - {hpole}_{k}\\right)} - 2 i \\pi \\sum_{k=0}^{Nhupperpoles} \\frac{i \\operatorname{Resh}{\\left({hpole}_{k} \\right)} \\log{\\left({hpole}_{k} \\right)}}{2 \\pi \\left(1 - e^{i \\left(\\alpha + {hpole}_{k}\\right)}\\right) \\left(\\tau - {hpole}_{k}\\right)} + \\frac{i \\pi h{\\left(\\tau \\right)} \\theta\\left(- \\tau\\right)}{1 - e^{i \\left(\\alpha + \\tau\\right)}}$"
      ],
      "text/plain": [
       "Eq(h(tau)*log(tau)/(1 - exp(I*(alpha + tau))), -Integral(h(z)/((1 - exp(I*(alpha + z)))*(tau - z)), (z, -oo, 0)) + pi*Sum((log(-alpha + 2*pi*n)*Integral(exp(2*I*pi*omega*tau)*exp(-2*I*pi*omega*(-alpha + 2*pi*n))*sign(omega), (omega, -oo, oo)) - 2*I*pi*Heaviside(alpha - 2*pi*n)*Integral(exp(2*I*pi*omega*tau)*exp(-2*I*pi*omega*(-alpha + 2*pi*n))*Heaviside(omega), (omega, -oo, oo)))*h(-alpha + 2*pi*n), (n, -oo, oo)) - 2*I*pi*Sum(I*Resh(hpole[k])*log(hpole[k])/(2*pi*(1 - exp(I*(alpha + hpole[k])))*(tau - hpole[k])), (k, 0, Nflowerpoles)) - 2*I*pi*Sum(I*Resh(hpole[k])*log(hpole[k])/(2*pi*(1 - exp(I*(alpha + hpole[k])))*(tau - hpole[k])), (k, 0, Nhupperpoles)) + I*pi*h(tau)*Heaviside(-tau)/(1 - exp(I*(alpha + tau))))"
      ]
     },
     "execution_count": 47,
     "metadata": {},
     "output_type": "execute_result"
    }
   ],
   "source": [
    "Eq(h(tau)*ln(tau)/(1-exp(I*(alpha+tau))), \n",
    "    - 2*pi*I*Sum(\n",
    "        Resh(hpole[k])*ln(hpole[k])*I/(2*pi*(tau - hpole[k]))/(1 - exp(I*(alpha + hpole[k]))),(k,0,Nflowerpoles)) \n",
    "    - 2*pi*I*Sum(\n",
    "        Resh(hpole[k])*ln(hpole[k])*I/(2*pi*(tau - hpole[k]))/(1 - exp(I*(alpha + hpole[k]))),(k,0,Nhupperpoles))\n",
    "    + pi*Sum(h(2*pi*n-alpha)*(\n",
    "        Integral(sign(omega)*exp(-2*I*pi*omega*(2*pi*n-alpha))*exp(2*I*pi*omega*tau),(omega,-oo,oo))*ln(2*pi*n-alpha) \n",
    "        - 2*I*pi*Integral(\n",
    "        Heaviside(omega)*exp(-2*I*pi*omega*(2*pi*n-alpha))*exp(2*I*pi*omega*tau),(omega,-oo,oo))*Heaviside(-2*pi*n+alpha)\n",
    "    ),(n,-oo,oo))\n",
    "    + (Heaviside(-tau)*(h(z)/(1-exp(I*(alpha+z)))*I*pi).subs(z,tau) + \n",
    "        -Integral(h(z)/(1-exp(I*(alpha+z)))/(tau-z),(z,-oo,0)))\n",
    ")"
   ]
  },
  {
   "cell_type": "code",
   "execution_count": 69,
   "metadata": {},
   "outputs": [
    {
     "data": {
      "text/latex": [
       "$\\displaystyle \\frac{h{\\left(\\tau \\right)} \\log{\\left(\\tau \\right)}}{1 - e^{i \\left(\\alpha + \\tau\\right)}} = - \\int\\limits_{-\\infty}^{0} \\frac{h{\\left(z \\right)}}{\\left(1 - e^{i \\left(\\alpha + z\\right)}\\right) \\left(\\tau - z\\right)}\\, dz - i \\sum_{n=-\\infty}^{\\infty} \\left(\\pi^{2} \\delta\\left(\\alpha - 2 \\pi n + \\tau\\right) + \\frac{i \\pi}{\\alpha - 2 \\pi n + \\tau}\\right) h{\\left(- \\alpha + 2 \\pi n \\right)} \\theta\\left(\\alpha - 2 \\pi n\\right) + \\sum_{n=-\\infty}^{\\infty} \\frac{i h{\\left(- \\alpha + 2 \\pi n \\right)} \\log{\\left(- \\alpha + 2 \\pi n \\right)}}{\\alpha - 2 \\pi n + \\tau} + \\sum_{k=0}^{Nhlowerpoles} \\frac{\\operatorname{Resh}{\\left({hpole}_{k} \\right)} \\log{\\left({hpole}_{k} \\right)}}{\\left(1 - e^{i \\left(\\alpha + {hpole}_{k}\\right)}\\right) \\left(\\tau - {hpole}_{k}\\right)} + \\sum_{k=0}^{Nhupperpoles} \\frac{\\operatorname{Resh}{\\left({hpole}_{k} \\right)} \\log{\\left({hpole}_{k} \\right)}}{\\left(1 - e^{i \\left(\\alpha + {hpole}_{k}\\right)}\\right) \\left(\\tau - {hpole}_{k}\\right)} + \\frac{i \\pi h{\\left(\\tau \\right)} \\theta\\left(- \\tau\\right)}{1 - e^{i \\left(\\alpha + \\tau\\right)}}$"
      ],
      "text/plain": [
       "Eq(h(tau)*log(tau)/(1 - exp(I*(alpha + tau))), -Integral(h(z)/((1 - exp(I*(alpha + z)))*(tau - z)), (z, -oo, 0)) - I*Sum((pi**2*DiracDelta(alpha - 2*pi*n + tau) + I*pi/(alpha - 2*pi*n + tau))*h(-alpha + 2*pi*n)*Heaviside(alpha - 2*pi*n), (n, -oo, oo)) + Sum(I*h(-alpha + 2*pi*n)*log(-alpha + 2*pi*n)/(alpha - 2*pi*n + tau), (n, -oo, oo)) + Sum(Resh(hpole[k])*log(hpole[k])/((1 - exp(I*(alpha + hpole[k])))*(tau - hpole[k])), (k, 0, Nhlowerpoles)) + Sum(Resh(hpole[k])*log(hpole[k])/((1 - exp(I*(alpha + hpole[k])))*(tau - hpole[k])), (k, 0, Nhupperpoles)) + I*pi*h(tau)*Heaviside(-tau)/(1 - exp(I*(alpha + tau))))"
      ]
     },
     "execution_count": 69,
     "metadata": {},
     "output_type": "execute_result"
    }
   ],
   "source": [
    "Eq(h(tau)*ln(tau)/(1-exp(I*(alpha+tau))), \n",
    "    Sum(Resh(hpole[k])*ln(hpole[k])/(1 - exp(I*(alpha + hpole[k])))/(tau - hpole[k]),(k,0,Nhlowerpoles)) \n",
    "    + Sum(Resh(hpole[k])*ln(hpole[k])/(1 - exp(I*(alpha + hpole[k])))/(tau - hpole[k]),(k,0,Nhupperpoles))\n",
    "    + Sum(h(2*pi*n-alpha)*ln(2*pi*n-alpha)*(I/(tau+alpha-2*pi*n)),(n,-oo,oo)) +\n",
    "   Heaviside(-tau)*(h(z)/(1-exp(I*(alpha+z)))*I*pi).subs(z,tau) + \n",
    "   -Integral(h(z)/(1-exp(I*(alpha+z)))/(tau-z),(z,-oo,0))\n",
    "   - I*Sum(Heaviside(-2*pi*n+alpha)*h(2*pi*n-alpha)*(pi*I/(alpha-2*pi*n+tau)+pi**2*DiracDelta(alpha-2*pi*n+tau))\n",
    "       ,(n,-oo,oo))\n",
    ")"
   ]
  },
  {
   "cell_type": "code",
   "execution_count": 70,
   "metadata": {},
   "outputs": [
    {
     "data": {
      "text/latex": [
       "$\\displaystyle \\frac{h{\\left(\\tau \\right)} \\log{\\left(\\tau \\right)}}{1 - e^{i \\left(\\alpha + \\tau\\right)}} = - \\int\\limits_{-\\infty}^{0} \\frac{h{\\left(z \\right)}}{\\left(1 - e^{i \\left(\\alpha + z\\right)}\\right) \\left(\\tau - z\\right)}\\, dz + i \\sum_{n=-\\infty}^{\\infty} \\frac{\\left(\\log{\\left(- \\alpha + 2 \\pi n \\right)} - i \\pi \\theta\\left(\\alpha - 2 \\pi n\\right)\\right) h{\\left(- \\alpha + 2 \\pi n \\right)}}{\\alpha - 2 \\pi n + \\tau} - i \\pi^{2} \\sum_{n=-\\infty}^{\\infty} h{\\left(- \\alpha + 2 \\pi n \\right)} \\delta\\left(\\alpha - 2 \\pi n + \\tau\\right) \\theta\\left(\\alpha - 2 \\pi n\\right) + \\sum_{k=0}^{Nhpoles} \\frac{\\operatorname{Resh}{\\left({hpole}_{k} \\right)} \\log{\\left({hpole}_{k} \\right)}}{\\left(1 - e^{i \\left(\\alpha + {hpole}_{k}\\right)}\\right) \\left(\\tau - {hpole}_{k}\\right)} + \\frac{i \\pi h{\\left(\\tau \\right)} \\theta\\left(- \\tau\\right)}{1 - e^{i \\left(\\alpha + \\tau\\right)}}$"
      ],
      "text/plain": [
       "Eq(h(tau)*log(tau)/(1 - exp(I*(alpha + tau))), -Integral(h(z)/((1 - exp(I*(alpha + z)))*(tau - z)), (z, -oo, 0)) + I*Sum((log(-alpha + 2*pi*n) - I*pi*Heaviside(alpha - 2*pi*n))*h(-alpha + 2*pi*n)/(alpha - 2*pi*n + tau), (n, -oo, oo)) - I*pi**2*Sum(h(-alpha + 2*pi*n)*DiracDelta(alpha - 2*pi*n + tau)*Heaviside(alpha - 2*pi*n), (n, -oo, oo)) + Sum(Resh(hpole[k])*log(hpole[k])/((1 - exp(I*(alpha + hpole[k])))*(tau - hpole[k])), (k, 0, Nhpoles)) + I*pi*h(tau)*Heaviside(-tau)/(1 - exp(I*(alpha + tau))))"
      ]
     },
     "execution_count": 70,
     "metadata": {},
     "output_type": "execute_result"
    }
   ],
   "source": [
    "Eq(h(tau)*ln(tau)/(1-exp(I*(alpha+tau))), \n",
    "    Sum(Resh(hpole[k])*ln(hpole[k])/(1 - exp(I*(alpha + hpole[k])))/(tau - hpole[k]),(k,0,Nhpoles))\n",
    "   + Heaviside(-tau)*(h(z)/(1-exp(I*(alpha+z)))*I*pi).subs(z,tau) + \n",
    "   -Integral(h(z)/(1-exp(I*(alpha+z)))/(tau-z),(z,-oo,0))\n",
    "   + I*Sum(h(2*pi*n-alpha)*(ln(2*pi*n-alpha)-Heaviside(-2*pi*n+alpha)*pi*I)/(tau+alpha-2*pi*n),(n,-oo,oo)) +\n",
    "   - I*pi**2*Sum(h(2*pi*n-alpha)*Heaviside(-2*pi*n+alpha)*DiracDelta(alpha-2*pi*n+tau),(n,-oo,oo))\n",
    ")"
   ]
  },
  {
   "cell_type": "code",
   "execution_count": 71,
   "metadata": {},
   "outputs": [
    {
     "data": {
      "text/latex": [
       "$\\displaystyle \\frac{\\left(\\log{\\left(\\tau \\right)} - i \\pi \\theta\\left(- \\tau\\right)\\right) h{\\left(\\tau \\right)}}{1 - e^{i \\left(\\alpha + \\tau\\right)}} = - \\int\\limits_{-\\infty}^{0} \\frac{h{\\left(z \\right)}}{\\left(1 - e^{i \\left(\\alpha + z\\right)}\\right) \\left(\\tau - z\\right)}\\, dz + i \\sum_{n=-\\infty}^{\\infty} \\frac{\\left(\\log{\\left(- \\alpha + 2 \\pi n \\right)} - i \\pi \\theta\\left(\\alpha - 2 \\pi n\\right)\\right) h{\\left(- \\alpha + 2 \\pi n \\right)}}{\\alpha - 2 \\pi n + \\tau} - i \\pi^{2} \\sum_{n=-\\infty}^{\\infty} h{\\left(- \\alpha + 2 \\pi n \\right)} \\delta\\left(\\alpha - 2 \\pi n + \\tau\\right) \\theta\\left(\\alpha - 2 \\pi n\\right) + \\sum_{k=0}^{Nhpoles} \\frac{\\operatorname{Resh}{\\left({hpole}_{k} \\right)} \\log{\\left({hpole}_{k} \\right)}}{\\left(1 - e^{i \\left(\\alpha + {hpole}_{k}\\right)}\\right) \\left(\\tau - {hpole}_{k}\\right)}$"
      ],
      "text/plain": [
       "Eq((log(tau) - I*pi*Heaviside(-tau))*h(tau)/(1 - exp(I*(alpha + tau))), -Integral(h(z)/((1 - exp(I*(alpha + z)))*(tau - z)), (z, -oo, 0)) + I*Sum((log(-alpha + 2*pi*n) - I*pi*Heaviside(alpha - 2*pi*n))*h(-alpha + 2*pi*n)/(alpha - 2*pi*n + tau), (n, -oo, oo)) - I*pi**2*Sum(h(-alpha + 2*pi*n)*DiracDelta(alpha - 2*pi*n + tau)*Heaviside(alpha - 2*pi*n), (n, -oo, oo)) + Sum(Resh(hpole[k])*log(hpole[k])/((1 - exp(I*(alpha + hpole[k])))*(tau - hpole[k])), (k, 0, Nhpoles)))"
      ]
     },
     "execution_count": 71,
     "metadata": {},
     "output_type": "execute_result"
    }
   ],
   "source": [
    "Eq(h(tau)/(1-exp(I*(alpha+tau)))*(ln(tau) - Heaviside(-tau)*I*pi), \n",
    "    Sum(Resh(hpole[k])*ln(hpole[k])/(1 - exp(I*(alpha + hpole[k])))/(tau - hpole[k]),(k,0,Nhpoles)) \n",
    "   -Integral(h(z)/(1-exp(I*(alpha+z)))/(tau-z),(z,-oo,0))\n",
    "   + I*Sum(h(2*pi*n-alpha)*(ln(2*pi*n-alpha)-Heaviside(-2*pi*n+alpha)*pi*I)/(tau+alpha-2*pi*n),(n,-oo,oo)) +\n",
    "   - I*pi**2*Sum(h(2*pi*n-alpha)*Heaviside(-2*pi*n+alpha)*DiracDelta(alpha-2*pi*n+tau),(n,-oo,oo))\n",
    ")"
   ]
  },
  {
   "cell_type": "markdown",
   "metadata": {},
   "source": [
    "When tau and alpha are real and tau + alpha is not an integer multiple of 2 pi then:"
   ]
  },
  {
   "cell_type": "code",
   "execution_count": 72,
   "metadata": {},
   "outputs": [
    {
     "data": {
      "text/latex": [
       "$\\displaystyle \\log{\\left(\\tau \\right)} - i \\pi \\theta\\left(- \\tau\\right) = \\log{\\left(\\left|{\\tau}\\right| \\right)}$"
      ],
      "text/plain": [
       "Eq(log(tau) - I*pi*Heaviside(-tau), log(Abs(tau)))"
      ]
     },
     "execution_count": 72,
     "metadata": {},
     "output_type": "execute_result"
    }
   ],
   "source": [
    "Eq((ln(tau) - Heaviside(-tau)*I*pi),ln(abs(tau)))"
   ]
  },
  {
   "cell_type": "code",
   "execution_count": 73,
   "metadata": {},
   "outputs": [
    {
     "data": {
      "text/latex": [
       "$\\displaystyle \\log{\\left(- \\alpha + 2 \\pi n \\right)} - i \\pi \\theta\\left(\\alpha - 2 \\pi n\\right) = \\log{\\left(\\left|{\\alpha - 2 \\pi n}\\right| \\right)}$"
      ],
      "text/plain": [
       "Eq(log(-alpha + 2*pi*n) - I*pi*Heaviside(alpha - 2*pi*n), log(Abs(alpha - 2*pi*n)))"
      ]
     },
     "execution_count": 73,
     "metadata": {},
     "output_type": "execute_result"
    }
   ],
   "source": [
    "Eq(ln(2*pi*n-alpha)-Heaviside(-2*pi*n+alpha)*pi*I,ln(abs(2*pi*n-alpha)))"
   ]
  },
  {
   "cell_type": "code",
   "execution_count": 74,
   "metadata": {},
   "outputs": [
    {
     "data": {
      "text/latex": [
       "$\\displaystyle \\frac{h{\\left(\\tau \\right)} \\log{\\left(\\left|{\\tau}\\right| \\right)}}{1 - e^{i \\left(\\alpha + \\tau\\right)}} = - \\int\\limits_{-\\infty}^{0} \\frac{h{\\left(z \\right)}}{\\left(1 - e^{i \\left(\\alpha + z\\right)}\\right) \\left(\\tau - z\\right)}\\, dz + i \\sum_{n=-\\infty}^{\\infty} \\frac{h{\\left(- \\alpha + 2 \\pi n \\right)} \\log{\\left(\\left|{\\alpha - 2 \\pi n}\\right| \\right)}}{\\alpha - 2 \\pi n + \\tau} + \\sum_{k=0}^{Nhpoles} \\frac{\\operatorname{Resh}{\\left({hpole}_{k} \\right)} \\log{\\left({hpole}_{k} \\right)}}{\\left(1 - e^{i \\left(\\alpha + {hpole}_{k}\\right)}\\right) \\left(\\tau - {hpole}_{k}\\right)}$"
      ],
      "text/plain": [
       "Eq(h(tau)*log(Abs(tau))/(1 - exp(I*(alpha + tau))), -Integral(h(z)/((1 - exp(I*(alpha + z)))*(tau - z)), (z, -oo, 0)) + I*Sum(h(-alpha + 2*pi*n)*log(Abs(alpha - 2*pi*n))/(alpha - 2*pi*n + tau), (n, -oo, oo)) + Sum(Resh(hpole[k])*log(hpole[k])/((1 - exp(I*(alpha + hpole[k])))*(tau - hpole[k])), (k, 0, Nhpoles)))"
      ]
     },
     "execution_count": 74,
     "metadata": {},
     "output_type": "execute_result"
    }
   ],
   "source": [
    "Eq(h(tau)/(1-exp(I*(alpha+tau)))*ln(abs(tau)), \n",
    "    Sum(Resh(hpole[k])*ln(hpole[k])/(1 - exp(I*(alpha + hpole[k])))/(tau - hpole[k]),(k,0,Nhpoles))\n",
    "    + I*Sum(h(2*pi*n-alpha)*ln(abs(2*pi*n-alpha))/(tau+alpha-2*pi*n),(n,-oo,oo))\n",
    "   -Integral(h(z)/(1-exp(I*(alpha+z)))/(tau-z),(z,-oo,0))\n",
    ")"
   ]
  },
  {
   "cell_type": "code",
   "execution_count": 75,
   "metadata": {
    "scrolled": true
   },
   "outputs": [
    {
     "data": {
      "text/latex": [
       "$\\displaystyle \\int\\limits_{-\\infty}^{0} \\frac{h{\\left(z \\right)}}{\\left(1 - e^{i \\left(\\alpha + z\\right)}\\right) \\left(\\tau - z\\right)}\\, dz = i \\sum_{n=-\\infty}^{\\infty} \\frac{h{\\left(- \\alpha + 2 \\pi n \\right)} \\log{\\left(\\left|{\\alpha - 2 \\pi n}\\right| \\right)}}{\\alpha - 2 \\pi n + \\tau} + \\sum_{k=0}^{Nhpoles} \\frac{\\operatorname{Resh}{\\left({hpole}_{k} \\right)} \\log{\\left({hpole}_{k} \\right)}}{\\left(1 - e^{i \\left(\\alpha + {hpole}_{k}\\right)}\\right) \\left(\\tau - {hpole}_{k}\\right)} - \\frac{h{\\left(\\tau \\right)} \\log{\\left(\\left|{\\tau}\\right| \\right)}}{1 - e^{i \\left(\\alpha + \\tau\\right)}}$"
      ],
      "text/plain": [
       "Eq(Integral(h(z)/((1 - exp(I*(alpha + z)))*(tau - z)), (z, -oo, 0)), I*Sum(h(-alpha + 2*pi*n)*log(Abs(alpha - 2*pi*n))/(alpha - 2*pi*n + tau), (n, -oo, oo)) + Sum(Resh(hpole[k])*log(hpole[k])/((1 - exp(I*(alpha + hpole[k])))*(tau - hpole[k])), (k, 0, Nhpoles)) - h(tau)*log(Abs(tau))/(1 - exp(I*(alpha + tau))))"
      ]
     },
     "execution_count": 75,
     "metadata": {},
     "output_type": "execute_result"
    }
   ],
   "source": [
    "Eq(Integral(h(z)/(1-exp(I*(alpha+z)))/(tau-z),(z,-oo,0)), \n",
    "    Sum(Resh(hpole[k])*ln(hpole[k])/(1 - exp(I*(alpha + hpole[k])))/(tau - hpole[k]),(k,0,Nhpoles))\n",
    "    + I*Sum(h(2*pi*n-alpha)*ln(abs(2*pi*n-alpha))/(tau+alpha-2*pi*n),(n,-oo,oo))\n",
    "   - h(tau)/(1-exp(I*(alpha+tau)))*ln(abs(tau))\n",
    ")"
   ]
  },
  {
   "cell_type": "markdown",
   "metadata": {},
   "source": [
    "The above integral has many poles along the path of integration and taking the principal value is computationally slow. We can swap it for a different integral using the residue theorem."
   ]
  },
  {
   "cell_type": "code",
   "execution_count": 14,
   "metadata": {},
   "outputs": [],
   "source": [
    "Nhpoles_negre_posim = symbols('Nhpoles_negre_posim')\n",
    "Nhpoles_negre_negim = symbols('Nhpoles_negre_negim')"
   ]
  },
  {
   "cell_type": "code",
   "execution_count": 96,
   "metadata": {},
   "outputs": [
    {
     "data": {
      "text/latex": [
       "$\\displaystyle \\int\\limits_{-\\infty}^{0} \\frac{h{\\left(z \\right)}}{\\left(1 - e^{i \\left(\\alpha + z\\right)}\\right) \\left(\\tau - z\\right)}\\, dz + i \\int\\limits_{0}^{\\infty} \\frac{h{\\left(i z \\right)}}{\\left(1 - e^{i \\alpha - z}\\right) \\left(\\tau - i z\\right)}\\, dz = 2 i \\pi \\sum_{k=0}^{Nhpoles_{negre posim}} \\frac{\\operatorname{Resh}{\\left({hpole}_{k} \\right)}}{\\left(1 - e^{i \\left(\\alpha + {hpole}_{k}\\right)}\\right) \\left(\\tau - {hpole}_{k}\\right)} - \\pi \\sum_{n=-\\infty}^{\\infty} \\frac{h{\\left(- \\alpha + 2 \\pi n \\right)} \\theta\\left(\\alpha - 2 \\pi n\\right)}{\\alpha - 2 \\pi n + \\tau} - \\frac{i \\pi h{\\left(\\tau \\right)} \\theta\\left(- \\tau\\right)}{1 - e^{i \\left(\\alpha + \\tau\\right)}}$"
      ],
      "text/plain": [
       "Eq(Integral(h(z)/((1 - exp(I*(alpha + z)))*(tau - z)), (z, -oo, 0)) + I*Integral(h(I*z)/((1 - exp(I*alpha - z))*(tau - I*z)), (z, 0, oo)), 2*I*pi*Sum(Resh(hpole[k])/((1 - exp(I*(alpha + hpole[k])))*(tau - hpole[k])), (k, 0, Nhpoles_negre_posim)) - pi*Sum(h(-alpha + 2*pi*n)*Heaviside(alpha - 2*pi*n)/(alpha - 2*pi*n + tau), (n, -oo, oo)) - I*pi*h(tau)*Heaviside(-tau)/(1 - exp(I*(alpha + tau))))"
      ]
     },
     "execution_count": 96,
     "metadata": {},
     "output_type": "execute_result"
    }
   ],
   "source": [
    "Eq(Integral(h(z)/(1-exp(I*(alpha+z)))/(tau-z),(z,-oo,0)) +\n",
    "   I*Integral(h(I*z)/(1-exp((I*alpha+I*I*z)))/(tau-I*z),(z,0,oo)),\n",
    "   -pi*Sum(h(2*pi*n-alpha)/(tau+alpha-2*pi*n)*Heaviside(alpha-2*n*pi),(n,-oo,oo))\n",
    "   +2*I*pi*Sum(Resh(hpole[k])/(1 - exp(I*(alpha + hpole[k])))/(tau - hpole[k]),(k,0,Nhpoles_negre_posim))\n",
    "   - pi*I*Heaviside(-tau)*h(tau)/(1-exp(I*(alpha+tau)))\n",
    "  )"
   ]
  },
  {
   "cell_type": "code",
   "execution_count": 95,
   "metadata": {},
   "outputs": [
    {
     "data": {
      "text/latex": [
       "$\\displaystyle \\int\\limits_{-\\infty}^{0} \\frac{h{\\left(z \\right)}}{\\left(1 - e^{i \\left(\\alpha + z\\right)}\\right) \\left(\\tau - z\\right)}\\, dz = - i \\int\\limits_{0}^{\\infty} \\frac{h{\\left(i z \\right)}}{\\left(1 - e^{i \\alpha - z}\\right) \\left(\\tau - i z\\right)}\\, dz + 2 i \\pi \\sum_{k=0}^{Nhpoles_{negre posim}} \\frac{\\operatorname{Resh}{\\left({hpole}_{k} \\right)}}{\\left(1 - e^{i \\left(\\alpha + {hpole}_{k}\\right)}\\right) \\left(\\tau - {hpole}_{k}\\right)} - \\pi \\sum_{n=-\\infty}^{\\infty} \\frac{h{\\left(- \\alpha + 2 \\pi n \\right)} \\theta\\left(\\alpha - 2 \\pi n\\right)}{\\alpha - 2 \\pi n + \\tau} - \\frac{i \\pi h{\\left(\\tau \\right)} \\theta\\left(- \\tau\\right)}{1 - e^{i \\left(\\alpha + \\tau\\right)}}$"
      ],
      "text/plain": [
       "Eq(Integral(h(z)/((1 - exp(I*(alpha + z)))*(tau - z)), (z, -oo, 0)), -I*Integral(h(I*z)/((1 - exp(I*alpha - z))*(tau - I*z)), (z, 0, oo)) + 2*I*pi*Sum(Resh(hpole[k])/((1 - exp(I*(alpha + hpole[k])))*(tau - hpole[k])), (k, 0, Nhpoles_negre_posim)) - pi*Sum(h(-alpha + 2*pi*n)*Heaviside(alpha - 2*pi*n)/(alpha - 2*pi*n + tau), (n, -oo, oo)) - I*pi*h(tau)*Heaviside(-tau)/(1 - exp(I*(alpha + tau))))"
      ]
     },
     "execution_count": 95,
     "metadata": {},
     "output_type": "execute_result"
    }
   ],
   "source": [
    "Eq(Integral(h(z)/(1-exp(I*(alpha+z)))/(tau-z),(z,-oo,0)),\n",
    "   -I*Integral(h(I*z)/(1-exp((I*alpha+I*I*z)))/(tau-I*z),(z,0,oo))\n",
    "   -pi*Sum(h(2*pi*n-alpha)/(tau+alpha-2*pi*n)*Heaviside(alpha-2*n*pi),(n,-oo,oo))\n",
    "   +2*I*pi*Sum(Resh(hpole[k])/(1 - exp(I*(alpha + hpole[k])))/(tau - hpole[k]),(k,0,Nhpoles_negre_posim))\n",
    "   - pi*I*Heaviside(-tau)*h(tau)/(1-exp(I*(alpha+tau)))\n",
    "  )"
   ]
  },
  {
   "cell_type": "markdown",
   "metadata": {},
   "source": [
    "Alternatively closing in the lower quadrant:"
   ]
  },
  {
   "cell_type": "code",
   "execution_count": 80,
   "metadata": {},
   "outputs": [
    {
     "data": {
      "text/latex": [
       "$\\displaystyle \\int\\limits_{-\\infty}^{0} \\frac{h{\\left(z \\right)}}{\\left(1 - e^{i \\left(\\alpha + z\\right)}\\right) \\left(\\tau - z\\right)}\\, dz - i \\int\\limits_{0}^{\\infty} \\frac{h{\\left(- i z \\right)}}{\\left(1 - e^{i \\alpha + z}\\right) \\left(\\tau + i z\\right)}\\, dz = - 2 i \\pi \\sum_{k=0}^{Nhpoles_{negre negim}} \\frac{\\operatorname{Resh}{\\left({hpole}_{k} \\right)}}{\\left(1 - e^{i \\left(\\alpha + {hpole}_{k}\\right)}\\right) \\left(\\tau - {hpole}_{k}\\right)} + \\pi \\sum_{n=-\\infty}^{\\infty} \\frac{h{\\left(- \\alpha + 2 \\pi n \\right)} \\theta\\left(\\alpha - 2 \\pi n\\right)}{\\alpha - 2 \\pi n + \\tau} + \\frac{i \\pi h{\\left(\\tau \\right)} \\theta\\left(- \\tau\\right)}{1 - e^{i \\left(\\alpha + \\tau\\right)}}$"
      ],
      "text/plain": [
       "Eq(Integral(h(z)/((1 - exp(I*(alpha + z)))*(tau - z)), (z, -oo, 0)) - I*Integral(h(-I*z)/((1 - exp(I*alpha + z))*(tau + I*z)), (z, 0, oo)), -2*I*pi*Sum(Resh(hpole[k])/((1 - exp(I*(alpha + hpole[k])))*(tau - hpole[k])), (k, 0, Nhpoles_negre_negim)) + pi*Sum(h(-alpha + 2*pi*n)*Heaviside(alpha - 2*pi*n)/(alpha - 2*pi*n + tau), (n, -oo, oo)) + I*pi*h(tau)*Heaviside(-tau)/(1 - exp(I*(alpha + tau))))"
      ]
     },
     "execution_count": 80,
     "metadata": {},
     "output_type": "execute_result"
    }
   ],
   "source": [
    "Eq(Integral(h(z)/(1-exp(I*(alpha+z)))/(tau-z),(z,-oo,0)) -\n",
    "   I*Integral(h(-I*z)/(1-exp((I*alpha-I*I*z)))/(tau+I*z),(z,0,oo)),\n",
    "   pi*Sum(h(2*pi*n-alpha)/(tau+alpha-2*pi*n)*Heaviside(alpha-2*n*pi),(n,-oo,oo))\n",
    "   -2*I*pi*Sum(Resh(hpole[k])/(1 - exp(I*(alpha + hpole[k])))/(tau - hpole[k]),(k,0,Nhpoles_negre_negim))\n",
    "   + pi*I*Heaviside(-tau)*h(tau)/(1-exp(I*(alpha+tau)))\n",
    "  )"
   ]
  },
  {
   "cell_type": "code",
   "execution_count": 81,
   "metadata": {},
   "outputs": [
    {
     "data": {
      "text/latex": [
       "$\\displaystyle \\int\\limits_{-\\infty}^{0} \\frac{h{\\left(z \\right)}}{\\left(1 - e^{i \\left(\\alpha + z\\right)}\\right) \\left(\\tau - z\\right)}\\, dz = i \\int\\limits_{0}^{\\infty} \\frac{h{\\left(- i z \\right)}}{\\left(1 - e^{i \\alpha + z}\\right) \\left(\\tau + i z\\right)}\\, dz - 2 i \\pi \\sum_{k=0}^{Nhpoles_{negre negim}} \\frac{\\operatorname{Resh}{\\left({hpole}_{k} \\right)}}{\\left(1 - e^{i \\left(\\alpha + {hpole}_{k}\\right)}\\right) \\left(\\tau - {hpole}_{k}\\right)} + \\pi \\sum_{n=-\\infty}^{\\infty} \\frac{h{\\left(- \\alpha + 2 \\pi n \\right)} \\theta\\left(\\alpha - 2 \\pi n\\right)}{\\alpha - 2 \\pi n + \\tau} + \\frac{i \\pi h{\\left(\\tau \\right)} \\theta\\left(- \\tau\\right)}{1 - e^{i \\left(\\alpha + \\tau\\right)}}$"
      ],
      "text/plain": [
       "Eq(Integral(h(z)/((1 - exp(I*(alpha + z)))*(tau - z)), (z, -oo, 0)), I*Integral(h(-I*z)/((1 - exp(I*alpha + z))*(tau + I*z)), (z, 0, oo)) - 2*I*pi*Sum(Resh(hpole[k])/((1 - exp(I*(alpha + hpole[k])))*(tau - hpole[k])), (k, 0, Nhpoles_negre_negim)) + pi*Sum(h(-alpha + 2*pi*n)*Heaviside(alpha - 2*pi*n)/(alpha - 2*pi*n + tau), (n, -oo, oo)) + I*pi*h(tau)*Heaviside(-tau)/(1 - exp(I*(alpha + tau))))"
      ]
     },
     "execution_count": 81,
     "metadata": {},
     "output_type": "execute_result"
    }
   ],
   "source": [
    "Eq(Integral(h(z)/(1-exp(I*(alpha+z)))/(tau-z),(z,-oo,0)),\n",
    "   I*Integral(h(-I*z)/(1-exp((I*alpha-I*I*z)))/(tau+I*z),(z,0,oo)) +\n",
    "   pi*Sum(h(2*pi*n-alpha)/(tau+alpha-2*pi*n)*Heaviside(alpha-2*n*pi),(n,-oo,oo))\n",
    "   -2*I*pi*Sum(Resh(hpole[k])/(1 - exp(I*(alpha + hpole[k])))/(tau - hpole[k]),(k,0,Nhpoles_negre_negim))\n",
    "  + pi*I*Heaviside(-tau)*h(tau)/(1-exp(I*(alpha+tau)))\n",
    "  )"
   ]
  },
  {
   "cell_type": "markdown",
   "metadata": {},
   "source": [
    "Adding both of these gives:"
   ]
  },
  {
   "cell_type": "code",
   "execution_count": 19,
   "metadata": {},
   "outputs": [
    {
     "data": {
      "text/latex": [
       "$\\displaystyle \\int\\limits_{-\\infty}^{0} \\frac{h{\\left(z \\right)}}{\\left(1 - e^{i \\left(\\alpha + z\\right)}\\right) \\left(\\tau - z\\right)}\\, dz = - \\frac{i \\int\\limits_{0}^{\\infty} \\frac{h{\\left(i z \\right)}}{\\left(1 - e^{i \\alpha - z}\\right) \\left(\\tau - i z\\right)}\\, dz}{2} + \\frac{i \\int\\limits_{0}^{\\infty} \\frac{h{\\left(- i z \\right)}}{\\left(1 - e^{i \\alpha + z}\\right) \\left(\\tau + i z\\right)}\\, dz}{2} - i \\pi \\sum_{k=0}^{Nhpoles_{negre negim}} \\frac{\\operatorname{Resh}{\\left({hpole}_{k} \\right)}}{\\left(1 - e^{i \\left(\\alpha + {hpole}_{k}\\right)}\\right) \\left(\\tau - {hpole}_{k}\\right)} + i \\pi \\sum_{k=0}^{Nhpoles_{negre posim}} \\frac{\\operatorname{Resh}{\\left({hpole}_{k} \\right)}}{\\left(1 - e^{i \\left(\\alpha + {hpole}_{k}\\right)}\\right) \\left(\\tau - {hpole}_{k}\\right)}$"
      ],
      "text/plain": [
       "Eq(Integral(h(z)/((1 - exp(I*(alpha + z)))*(tau - z)), (z, -oo, 0)), -I*Integral(h(I*z)/((1 - exp(I*alpha - z))*(tau - I*z)), (z, 0, oo))/2 + I*Integral(h(-I*z)/((1 - exp(I*alpha + z))*(tau + I*z)), (z, 0, oo))/2 - I*pi*Sum(Resh(hpole[k])/((1 - exp(I*(alpha + hpole[k])))*(tau - hpole[k])), (k, 0, Nhpoles_negre_negim)) + I*pi*Sum(Resh(hpole[k])/((1 - exp(I*(alpha + hpole[k])))*(tau - hpole[k])), (k, 0, Nhpoles_negre_posim)))"
      ]
     },
     "execution_count": 19,
     "metadata": {},
     "output_type": "execute_result"
    }
   ],
   "source": [
    "Eq(Integral(h(z)/(1-exp(I*(alpha+z)))/(tau-z),(z,-oo,0)),\n",
    "   I/2*Integral(h(-I*z)/(1-exp((I*alpha-I*I*z)))/(tau+I*z),(z,0,oo)) +\n",
    "   -I/2*Integral(h(I*z)/(1-exp((I*alpha+I*I*z)))/(tau-I*z),(z,0,oo))\n",
    "   -I*pi*Sum(Resh(hpole[k])/(1 - exp(I*(alpha + hpole[k])))/(tau - hpole[k]),(k,0,Nhpoles_negre_negim))\n",
    "   +I*pi*Sum(Resh(hpole[k])/(1 - exp(I*(alpha + hpole[k])))/(tau - hpole[k]),(k,0,Nhpoles_negre_posim))\n",
    "  )"
   ]
  },
  {
   "cell_type": "code",
   "execution_count": 40,
   "metadata": {},
   "outputs": [
    {
     "data": {
      "text/latex": [
       "$\\displaystyle - \\frac{i \\int\\limits_{0}^{\\infty} \\frac{h{\\left(i z \\right)}}{\\left(1 - e^{i \\alpha - z}\\right) \\left(\\tau - i z\\right)}\\, dz}{2} + \\frac{i \\int\\limits_{0}^{\\infty} \\frac{h{\\left(- i z \\right)}}{\\left(1 - e^{i \\alpha + z}\\right) \\left(\\tau + i z\\right)}\\, dz}{2} = - \\frac{\\int\\limits_{-\\infty}^{\\infty} \\frac{h{\\left(i z \\right)} \\operatorname{sign}{\\left(z \\right)}}{\\left(1 - e^{i \\alpha - z}\\right) \\left(\\tau - i z\\right)}\\, dz}{2}$"
      ],
      "text/plain": [
       "Eq(-I*Integral(h(I*z)/((1 - exp(I*alpha - z))*(tau - I*z)), (z, 0, oo))/2 + I*Integral(h(-I*z)/((1 - exp(I*alpha + z))*(tau + I*z)), (z, 0, oo))/2, -Integral(h(I*z)*sign(z)/((1 - exp(I*alpha - z))*(tau - I*z)), (z, -oo, oo))/2)"
      ]
     },
     "execution_count": 40,
     "metadata": {},
     "output_type": "execute_result"
    }
   ],
   "source": [
    "Eq(I/2*Integral(h(-I*z)/(1-exp((I*alpha-I*I*z)))/(tau+I*z),(z,0,oo)) +\n",
    "   -I/2*Integral(h(I*z)/(1-exp((I*alpha+I*I*z)))/(tau-I*z),(z,0,oo)),\n",
    "   -Integral(sign(z)*h(I*z)/(1-exp((I*alpha+I*I*z)))/(tau-I*z),(z,-oo,oo))/2\n",
    "  )"
   ]
  },
  {
   "cell_type": "code",
   "execution_count": 46,
   "metadata": {},
   "outputs": [
    {
     "data": {
      "text/latex": [
       "$\\displaystyle 0.0719205181129452 + 0.0696802498901876 i$"
      ],
      "text/plain": [
       "0.0719205181129452 + 0.0696802498901876*I"
      ]
     },
     "execution_count": 46,
     "metadata": {},
     "output_type": "execute_result"
    }
   ],
   "source": [
    "((I/2*Integral(1/(2-I*z)/(3-I*z)/(1-exp((I*alpha-I*I*z)))/(tau+I*z),(z,0,oo)) +\n",
    "   -I/2*Integral(1/(2+I*z)/(3+I*z)/(1-exp((I*alpha+I*I*z)))/(tau-I*z),(z,0,oo))).subs([(alpha,pi/4),(tau,-1)])).evalf()"
   ]
  },
  {
   "cell_type": "code",
   "execution_count": 47,
   "metadata": {},
   "outputs": [
    {
     "data": {
      "text/latex": [
       "$\\displaystyle 0.0719205181129452 + 0.0696802498901876 i$"
      ],
      "text/plain": [
       "0.0719205181129452 + 0.0696802498901876*I"
      ]
     },
     "execution_count": 47,
     "metadata": {},
     "output_type": "execute_result"
    }
   ],
   "source": [
    "((-I/2*Integral(sign(z)*1/(2+I*z)/(3+I*z)/(1-exp((I*alpha+I*I*z)))/(tau-I*z),(z,-oo,oo))).subs([(alpha,pi/4),(tau,-1)])).evalf()"
   ]
  },
  {
   "cell_type": "markdown",
   "metadata": {},
   "source": [
    "Therefore:"
   ]
  },
  {
   "cell_type": "code",
   "execution_count": 51,
   "metadata": {},
   "outputs": [
    {
     "data": {
      "text/latex": [
       "$\\displaystyle - \\frac{\\int\\limits_{-\\infty}^{\\infty} \\frac{h{\\left(i z \\right)} \\operatorname{sign}{\\left(z \\right)}}{\\left(1 - e^{i \\alpha - z}\\right) \\left(\\tau - i z\\right)}\\, dz}{2} = i \\pi \\sum_{k=0}^{Nhpoles_{negre negim}} \\frac{\\operatorname{Resh}{\\left({hpole}_{k} \\right)}}{\\left(1 - e^{i \\left(\\alpha + {hpole}_{k}\\right)}\\right) \\left(\\tau - {hpole}_{k}\\right)} - i \\pi \\sum_{k=0}^{Nhpoles_{negre posim}} \\frac{\\operatorname{Resh}{\\left({hpole}_{k} \\right)}}{\\left(1 - e^{i \\left(\\alpha + {hpole}_{k}\\right)}\\right) \\left(\\tau - {hpole}_{k}\\right)} + i \\sum_{n=-\\infty}^{\\infty} \\frac{h{\\left(- \\alpha + 2 \\pi n \\right)} \\log{\\left(\\left|{\\alpha - 2 \\pi n}\\right| \\right)}}{\\alpha - 2 \\pi n + \\tau} + \\sum_{k=0}^{Nhpoles} \\frac{\\operatorname{Resh}{\\left({hpole}_{k} \\right)} \\log{\\left({hpole}_{k} \\right)}}{\\left(1 - e^{i \\left(\\alpha + {hpole}_{k}\\right)}\\right) \\left(\\tau - {hpole}_{k}\\right)} - \\frac{h{\\left(\\tau \\right)} \\log{\\left(\\left|{\\tau}\\right| \\right)}}{1 - e^{i \\left(\\alpha + \\tau\\right)}}$"
      ],
      "text/plain": [
       "Eq(-Integral(h(I*z)*sign(z)/((1 - exp(I*alpha - z))*(tau - I*z)), (z, -oo, oo))/2, I*pi*Sum(Resh(hpole[k])/((1 - exp(I*(alpha + hpole[k])))*(tau - hpole[k])), (k, 0, Nhpoles_negre_negim)) - I*pi*Sum(Resh(hpole[k])/((1 - exp(I*(alpha + hpole[k])))*(tau - hpole[k])), (k, 0, Nhpoles_negre_posim)) + I*Sum(h(-alpha + 2*pi*n)*log(Abs(alpha - 2*pi*n))/(alpha - 2*pi*n + tau), (n, -oo, oo)) + Sum(Resh(hpole[k])*log(hpole[k])/((1 - exp(I*(alpha + hpole[k])))*(tau - hpole[k])), (k, 0, Nhpoles)) - h(tau)*log(Abs(tau))/(1 - exp(I*(alpha + tau))))"
      ]
     },
     "execution_count": 51,
     "metadata": {},
     "output_type": "execute_result"
    }
   ],
   "source": [
    "Eq(-Integral(sign(z)*h(I*z)/(1-exp((I*alpha+I*I*z)))/(tau-I*z),(z,-oo,oo))/2,\n",
    "   I*pi*Sum(Resh(hpole[k])/(1 - exp(I*(alpha + hpole[k])))/(tau - hpole[k]),(k,0,Nhpoles_negre_negim))\n",
    "   -I*pi*Sum(Resh(hpole[k])/(1 - exp(I*(alpha + hpole[k])))/(tau - hpole[k]),(k,0,Nhpoles_negre_posim))\n",
    "    +Sum(Resh(hpole[k])*ln(hpole[k])/(1 - exp(I*(alpha + hpole[k])))/(tau - hpole[k]),(k,0,Nhpoles))\n",
    "    + I*Sum(h(2*pi*n-alpha)*ln(abs(2*pi*n-alpha))/(tau+alpha-2*pi*n),(n,-oo,oo))\n",
    "   - h(tau)/(1-exp(I*(alpha+tau)))*ln(abs(tau))\n",
    ")"
   ]
  },
  {
   "cell_type": "code",
   "execution_count": 68,
   "metadata": {},
   "outputs": [
    {
     "data": {
      "text/latex": [
       "$\\displaystyle 1.09861228866811 - 3.1101767270539 i$"
      ],
      "text/plain": [
       "1.09861228866811 - 3.1101767270539*I"
      ]
     },
     "execution_count": 68,
     "metadata": {},
     "output_type": "execute_result"
    }
   ],
   "source": [
    "ln(3*exp(-I*pi*0.99)).evalf()"
   ]
  },
  {
   "cell_type": "code",
   "execution_count": 67,
   "metadata": {},
   "outputs": [
    {
     "data": {
      "text/latex": [
       "$\\displaystyle 1.09861228866811 - 3.14159265358979 i$"
      ],
      "text/plain": [
       "1.09861228866811 - 3.14159265358979*I"
      ]
     },
     "execution_count": 67,
     "metadata": {},
     "output_type": "execute_result"
    }
   ],
   "source": [
    "(ln(3)-I*pi*1).evalf()"
   ]
  },
  {
   "cell_type": "code",
   "execution_count": 70,
   "metadata": {},
   "outputs": [
    {
     "data": {
      "text/latex": [
       "$\\displaystyle 0.80471895621705 - 2.67794504458899 i$"
      ],
      "text/plain": [
       "0.80471895621705 - 2.67794504458899*I"
      ]
     },
     "execution_count": 70,
     "metadata": {},
     "output_type": "execute_result"
    }
   ],
   "source": [
    "log(-2-I).evalf()"
   ]
  },
  {
   "cell_type": "code",
   "execution_count": 74,
   "metadata": {},
   "outputs": [
    {
     "data": {
      "text/latex": [
       "$\\displaystyle 0.80471895621705 + 0.463647609000806 i$"
      ],
      "text/plain": [
       "0.80471895621705 + 0.463647609000806*I"
      ]
     },
     "execution_count": 74,
     "metadata": {},
     "output_type": "execute_result"
    }
   ],
   "source": [
    "((log(hpole)+I*pi).subs(hpole,-2-I)).evalf()"
   ]
  },
  {
   "cell_type": "code",
   "execution_count": 75,
   "metadata": {},
   "outputs": [
    {
     "data": {
      "text/latex": [
       "$\\displaystyle 0.80471895621705 - 0.463647609000806 i$"
      ],
      "text/plain": [
       "0.80471895621705 - 0.463647609000806*I"
      ]
     },
     "execution_count": 75,
     "metadata": {},
     "output_type": "execute_result"
    }
   ],
   "source": [
    "((log(hpole)-I*pi).subs(hpole,-2+I)).evalf()"
   ]
  },
  {
   "cell_type": "code",
   "execution_count": 76,
   "metadata": {},
   "outputs": [
    {
     "data": {
      "text/latex": [
       "$\\displaystyle 0.80471895621705$"
      ],
      "text/plain": [
       "0.804718956217050"
      ]
     },
     "execution_count": 76,
     "metadata": {},
     "output_type": "execute_result"
    }
   ],
   "source": [
    "log(abs(hpole)).subs(hpole,-2+I).evalf()"
   ]
  },
  {
   "cell_type": "code",
   "execution_count": 78,
   "metadata": {},
   "outputs": [
    {
     "data": {
      "text/plain": [
       "(0.80471895621705 + 2.67794504458899*I, 0.80471895621705 - 2.67794504458899*I)"
      ]
     },
     "execution_count": 78,
     "metadata": {},
     "output_type": "execute_result"
    }
   ],
   "source": [
    "log(-2+I).evalf(),log(-2-I).evalf()"
   ]
  },
  {
   "cell_type": "markdown",
   "metadata": {},
   "source": [
    "## Numerical Tests of Examples"
   ]
  },
  {
   "cell_type": "markdown",
   "metadata": {},
   "source": [
    "### Testing the series expansion of f in the time domain"
   ]
  },
  {
   "cell_type": "code",
   "execution_count": 7,
   "metadata": {},
   "outputs": [],
   "source": [
    "def h_residue_sum_time(_h, h_poles):\n",
    "    residues = sum([residue(_h,tau,p)*ln(p)/(1 - exp(I*(alpha + p)))/(tau - p) for p in h_poles])\n",
    "    return residues\n",
    "\n",
    "def exp_denom_residue_sum_time(_h, N):\n",
    "    residues = I*Sum((_h*ln(abs(tau))).subs(tau,2*pi*n-alpha)/(tau + alpha - 2*pi*n),(n,-N,N))\n",
    "    return residues\n",
    "\n",
    "def h_series_expansion(_h, h_poles, N):\n",
    "    return h_residue_sum_time(_h, h_poles) + exp_denom_residue_sum_time(_h, N)\n",
    "\n",
    "def h_series(_h, h_poles, N):\n",
    "    return (exp_denom_residue_sum_time(_h, N)\n",
    "              - _h*ln(abs(tau))/(1-exp(I*(alpha+tau)))\n",
    "              + sum([residue(_h,tau,p)*ln(p)/(1 - exp(I*(alpha + p)))/(tau - p) for p in h_poles])\n",
    "             )\n",
    "\n",
    "def h_integral(_h):\n",
    "    return Integral(_h.subs(tau,z)/(1-exp(I*(alpha+z)))/(tau-z),(z,-oo,0))\n",
    "\n",
    "def h_integral_pv(R, _alpha, _epsilon, _tau, _h):\n",
    "    integral_limits = pv_integration_limits_straight_part(R, _epsilon, _alpha)\n",
    "    integral_limits = [l for l in integral_limits if l < 0]\n",
    "    integral_limit_tuples = [(integral_limits[2*i], integral_limits[2*i+1]) for i in range(int(len(integral_limits)/2))]\n",
    "    integral_limit_tuples = integral_limit_tuples[::-1]\n",
    "    integral_pvs = 0\n",
    "    stop_ratio = 1e-6\n",
    "    for lim_ in integral_limit_tuples:\n",
    "        print(lim_)\n",
    "        new_integral = Integral((_h.subs(tau,z)/(1-exp(I*(_alpha+z)))/(_tau-z)),(z, lim_[0], lim_[1])).evalf()\n",
    "        integral_pvs += new_integral\n",
    "        contribution_ratio = abs(new_integral/integral_pvs)\n",
    "        print(integral_pvs, contribution_ratio)\n",
    "        if contribution_ratio < stop_ratio:\n",
    "            print(f\"Stopping ratio in integral {stop_ratio} exceeded. Stopping.\")\n",
    "            break\n",
    "    \n",
    "    return integral_pvs\n",
    "\n",
    "def pole_weight(x, upper_or_lower=\"upper\"):\n",
    "    if re(x) < 0:\n",
    "        w_re = 1\n",
    "    elif re(x) == 0:\n",
    "        w_re = (1)/2\n",
    "    else:\n",
    "        w_re = 0\n",
    "    if upper_or_lower == \"upper\":\n",
    "        if im(x) > 0:\n",
    "            w_im = 1\n",
    "        elif im(x) == 0:\n",
    "            w_im = (1)/2\n",
    "        else:\n",
    "            w_im = 0\n",
    "    if upper_or_lower == \"lower\":\n",
    "        if im(x) < 0:\n",
    "            w_im = 1\n",
    "        elif im(x) == 0:\n",
    "            w_im = (1)/2\n",
    "        else:\n",
    "            w_im = 0\n",
    "    return w_re*w_im\n",
    "\n",
    "def lhs_from_contour_upper(_h, h_poles):\n",
    "    negre_posim_h_poles = [p for p in h_poles if (re(p) <= 0)&(im(p)>=0)]\n",
    "    print(negre_posim_h_poles)\n",
    "    negre_posim_res_sum =  2*I*pi*sum([\n",
    "        pole_weight(p, upper_or_lower=\"upper\")*residue(_h,tau,p)/(1 - exp(I*(alpha + p)))/(tau - p) \n",
    "                                for p in negre_posim_h_poles])\n",
    "    result = negre_posim_res_sum\n",
    "    result += -I*Integral(_h.subs(tau,I*z)*1/(1-exp(I*alpha-z))/(tau-I*z),(z,0,oo))\n",
    "    result += -pi*Sum(_h.subs(tau,2*pi*n-alpha)*Heaviside(alpha-2*pi*n)/(tau + alpha - 2*pi*n),(n,-N,N))\n",
    "    result += -pi*I*Heaviside(-tau)*_h.subs(z,tau)/(1-exp(I*(alpha+tau)))\n",
    "    return result\n",
    "\n",
    "def lhs_from_contour_lower(_h, h_poles):\n",
    "    negre_negim_h_poles = [p for p in h_poles if (re(p) <= 0)&(im(p)<=0)]\n",
    "    print(negre_negim_h_poles)\n",
    "    negre_negim_res_sum =  2*I*pi*sum([\n",
    "        pole_weight(p, upper_or_lower=\"lower\")*residue(_h,tau,p)/(1 - exp(I*(alpha + p)))/(tau - p) \n",
    "                                for p in negre_negim_h_poles])\n",
    "    result = -negre_negim_res_sum\n",
    "    result += I*Integral(_h.subs(tau,-I*z)*1/(1-exp(I*alpha+z))/(tau+I*z),(z,0,oo))\n",
    "    result += pi*Sum(_h.subs(tau,2*pi*n-alpha)*Heaviside(alpha-2*pi*n)/(tau + alpha - 2*pi*n),(n,-N,N))\n",
    "    result += pi*I*Heaviside(-tau)*_h.subs(z,tau)/(1-exp(I*(alpha+tau)))\n",
    "    return result"
   ]
  },
  {
   "cell_type": "code",
   "execution_count": 8,
   "metadata": {
    "scrolled": true
   },
   "outputs": [
    {
     "data": {
      "text/latex": [
       "$\\displaystyle \\int\\limits_{-\\infty}^{0} \\frac{h{\\left(z \\right)}}{\\left(1 - e^{i \\left(\\alpha + z\\right)}\\right) \\left(\\tau - z\\right)}\\, dz = i \\sum_{n=-\\infty}^{\\infty} \\frac{h{\\left(- \\alpha + 2 \\pi n \\right)} \\log{\\left(\\left|{\\alpha - 2 \\pi n}\\right| \\right)}}{\\alpha - 2 \\pi n + \\tau} + \\sum_{k=0}^{Nhpoles} \\frac{\\operatorname{Resh}{\\left({hpole}_{k} \\right)} \\log{\\left({hpole}_{k} \\right)}}{\\left(1 - e^{i \\left(\\alpha + {hpole}_{k}\\right)}\\right) \\left(\\tau - {hpole}_{k}\\right)} - \\frac{h{\\left(\\tau \\right)} \\log{\\left(\\left|{\\tau}\\right| \\right)}}{1 - e^{i \\left(\\alpha + \\tau\\right)}}$"
      ],
      "text/plain": [
       "Eq(Integral(h(z)/((1 - exp(I*(alpha + z)))*(tau - z)), (z, -oo, 0)), I*Sum(h(-alpha + 2*pi*n)*log(Abs(alpha - 2*pi*n))/(alpha - 2*pi*n + tau), (n, -oo, oo)) + Sum(Resh(hpole[k])*log(hpole[k])/((1 - exp(I*(alpha + hpole[k])))*(tau - hpole[k])), (k, 0, Nhpoles)) - h(tau)*log(Abs(tau))/(1 - exp(I*(alpha + tau))))"
      ]
     },
     "execution_count": 8,
     "metadata": {},
     "output_type": "execute_result"
    }
   ],
   "source": [
    "Eq(Integral(h(z)/(1-exp(I*(alpha+z)))/(tau-z),(z,-oo,0)), \n",
    "    Sum(Resh(hpole[k])*ln(hpole[k])/(1 - exp(I*(alpha + hpole[k])))/(tau - hpole[k]),(k,0,Nhpoles))\n",
    "    + I*Sum(h(2*pi*n-alpha)*ln(abs(2*pi*n-alpha))/(tau+alpha-2*pi*n),(n,-oo,oo))\n",
    "   - h(tau)/(1-exp(I*(alpha+tau)))*ln(abs(tau))\n",
    ")"
   ]
  },
  {
   "cell_type": "code",
   "execution_count": 262,
   "metadata": {},
   "outputs": [],
   "source": [
    "# h_tau_example = (1/(tau**2+kappa**2)/(tau**2 + 1)/(tau**2 + 4))\n",
    "# h_tau_examples_all_poles = [I*kappa,-I*kappa, I, -I, 2*I, -2*I]\n",
    "\n",
    "# h_tau_example = 1/(tau+kappa-I)/(tau-kappa+I)/(tau-1+I)/(tau+1-I)/(tau-1-I)/(tau+1+I)\n",
    "# h_tau_examples_all_poles = [kappa-I,-kappa+I, 1-I, -1+I, -1-I, 1+I]\n",
    "\n",
    "# h_tau_example = 1/(tau-1+I)/(tau+1-I)/(tau-1-I)/(tau+1+I)\n",
    "# h_tau_examples_all_poles = [1-I, -1+I, -1-I, 1+I]\n",
    "\n",
    "h_tau_example = tau**2/(tau+I*kappa+2)/(tau-I*kappa-2)\n",
    "h_tau_examples_all_poles = [-I*kappa-2, I*kappa+2]"
   ]
  },
  {
   "cell_type": "code",
   "execution_count": 263,
   "metadata": {},
   "outputs": [
    {
     "data": {
      "text/latex": [
       "$\\displaystyle \\int\\limits_{-\\infty}^{0} \\frac{z^{2}}{\\left(1 - e^{i \\left(\\alpha + z\\right)}\\right) \\left(\\tau - z\\right) \\left(- i \\kappa + z - 2\\right) \\left(i \\kappa + z + 2\\right)}\\, dz = - \\frac{\\tau^{2} \\log{\\left(\\left|{\\tau}\\right| \\right)}}{\\left(1 - e^{i \\left(\\alpha + \\tau\\right)}\\right) \\left(- i \\kappa + \\tau - 2\\right) \\left(i \\kappa + \\tau + 2\\right)} + i \\sum_{n=- N}^{N} \\frac{\\left(- \\alpha + 2 \\pi n\\right)^{2} \\log{\\left(\\left|{\\alpha - 2 \\pi n}\\right| \\right)}}{\\left(\\alpha - 2 \\pi n + \\tau\\right) \\left(- \\alpha - i \\kappa + 2 \\pi n - 2\\right) \\left(- \\alpha + i \\kappa + 2 \\pi n + 2\\right)} + \\frac{\\left(i \\kappa + 2\\right)^{2} \\log{\\left(i \\kappa + 2 \\right)}}{\\left(1 - e^{i \\left(\\alpha + i \\kappa + 2\\right)}\\right) \\left(2 i \\kappa + 4\\right) \\left(- i \\kappa + \\tau - 2\\right)} + \\frac{\\left(- i \\kappa - 2\\right)^{2} \\log{\\left(- i \\kappa - 2 \\right)}}{\\left(1 - e^{i \\left(\\alpha - i \\kappa - 2\\right)}\\right) \\left(- 2 i \\kappa - 4\\right) \\left(i \\kappa + \\tau + 2\\right)}$"
      ],
      "text/plain": [
       "Eq(Integral(z**2/((1 - exp(I*(alpha + z)))*(tau - z)*(-I*kappa + z - 2)*(I*kappa + z + 2)), (z, -oo, 0)), -tau**2*log(Abs(tau))/((1 - exp(I*(alpha + tau)))*(-I*kappa + tau - 2)*(I*kappa + tau + 2)) + I*Sum((-alpha + 2*pi*n)**2*log(Abs(alpha - 2*pi*n))/((alpha - 2*pi*n + tau)*(-alpha - I*kappa + 2*pi*n - 2)*(-alpha + I*kappa + 2*pi*n + 2)), (n, -N, N)) + (I*kappa + 2)**2*log(I*kappa + 2)/((1 - exp(I*(alpha + I*kappa + 2)))*(2*I*kappa + 4)*(-I*kappa + tau - 2)) + (-I*kappa - 2)**2*log(-I*kappa - 2)/((1 - exp(I*(alpha - I*kappa - 2)))*(-2*I*kappa - 4)*(I*kappa + tau + 2)))"
      ]
     },
     "execution_count": 263,
     "metadata": {},
     "output_type": "execute_result"
    }
   ],
   "source": [
    "Eq(h_integral(h_tau_example), h_series(h_tau_example, h_tau_examples_all_poles, N))"
   ]
  },
  {
   "cell_type": "code",
   "execution_count": 264,
   "metadata": {},
   "outputs": [
    {
     "data": {
      "text/latex": [
       "$\\displaystyle i \\int\\limits_{0}^{\\infty} \\left(- \\frac{z^{2}}{\\left(1 - e^{i \\alpha + z}\\right) \\left(\\tau + i z\\right) \\left(- i \\kappa - i z - 2\\right) \\left(i \\kappa - i z + 2\\right)}\\right)\\, dz$"
      ],
      "text/plain": [
       "I*Integral(-z**2/((1 - exp(I*alpha + z))*(tau + I*z)*(-I*kappa - I*z - 2)*(I*kappa - I*z + 2)), (z, 0, oo))"
      ]
     },
     "execution_count": 264,
     "metadata": {},
     "output_type": "execute_result"
    }
   ],
   "source": [
    "(I*Integral(h_tau_example.subs(tau,-I*z)/(1-exp((I*alpha-I*I*z)))/(tau+I*z),(z,0,oo)))"
   ]
  },
  {
   "cell_type": "code",
   "execution_count": 265,
   "metadata": {},
   "outputs": [],
   "source": [
    "h_test_vals = {\n",
    "    \"tau\": 10.6,\n",
    "    \"alpha\": pi/4,\n",
    "    \"kappa\": 12.6,\n",
    "    \"N\": 66,\n",
    "    \"epsilon\": 1e-14\n",
    "}"
   ]
  },
  {
   "cell_type": "code",
   "execution_count": 266,
   "metadata": {},
   "outputs": [
    {
     "name": "stdout",
     "output_type": "stream",
     "text": [
      "[]\n"
     ]
    },
    {
     "data": {
      "text/latex": [
       "$\\displaystyle 3.0 \\cdot 10^{2} - 2.0 i$"
      ],
      "text/plain": [
       "0.e+2 - 0.e+0*I"
      ]
     },
     "execution_count": 266,
     "metadata": {},
     "output_type": "execute_result"
    }
   ],
   "source": [
    "xx__1_upper = lhs_from_contour_upper(h_tau_example.subs(kappa,h_test_vals[\"kappa\"]), \n",
    "                 [p.subs(kappa,h_test_vals[\"kappa\"]) for p in h_tau_examples_all_poles]).subs([\n",
    "    (alpha, h_test_vals[\"alpha\"]), (tau, h_test_vals[\"tau\"]), (kappa, h_test_vals[\"kappa\"]), (N, h_test_vals[\"N\"])\n",
    "]).evalf()\n",
    "xx__1_upper"
   ]
  },
  {
   "cell_type": "code",
   "execution_count": 267,
   "metadata": {},
   "outputs": [
    {
     "name": "stdout",
     "output_type": "stream",
     "text": [
      "[-2 - 12.6*I]\n"
     ]
    },
    {
     "data": {
      "text/latex": [
       "$\\displaystyle 1.41107591192733 + 0.0428887255048754 i$"
      ],
      "text/plain": [
       "1.41107591192733 + 0.0428887255048754*I"
      ]
     },
     "execution_count": 267,
     "metadata": {},
     "output_type": "execute_result"
    }
   ],
   "source": [
    "xx__1_lower = lhs_from_contour_lower(h_tau_example.subs(kappa,h_test_vals[\"kappa\"]), \n",
    "                 [p.subs(kappa,h_test_vals[\"kappa\"]) for p in h_tau_examples_all_poles]).subs([\n",
    "    (alpha, h_test_vals[\"alpha\"]), (tau, h_test_vals[\"tau\"]), (kappa, h_test_vals[\"kappa\"]), (N, h_test_vals[\"N\"])\n",
    "]).evalf()\n",
    "xx__1_lower"
   ]
  },
  {
   "cell_type": "code",
   "execution_count": 268,
   "metadata": {},
   "outputs": [
    {
     "data": {
      "text/latex": [
       "$\\displaystyle -1.62013313272819 - 0.682023782666658 i$"
      ],
      "text/plain": [
       "-1.62013313272819 - 0.682023782666658*I"
      ]
     },
     "execution_count": 268,
     "metadata": {},
     "output_type": "execute_result"
    }
   ],
   "source": [
    "xx__2 = h_series(h_tau_example, h_tau_examples_all_poles, N).subs([\n",
    "    (alpha, h_test_vals[\"alpha\"]), (tau, h_test_vals[\"tau\"]), (kappa, h_test_vals[\"kappa\"]), (N, h_test_vals[\"N\"])\n",
    "]).evalf()\n",
    "xx__2"
   ]
  },
  {
   "cell_type": "code",
   "execution_count": 261,
   "metadata": {},
   "outputs": [
    {
     "data": {
      "text/plain": [
       "(1.00049813013839, 0.999486109821955)"
      ]
     },
     "execution_count": 261,
     "metadata": {},
     "output_type": "execute_result"
    }
   ],
   "source": [
    "abs(xx__1_upper/xx__2), abs(xx__1_lower/xx__2)"
   ]
  },
  {
   "cell_type": "code",
   "execution_count": null,
   "metadata": {},
   "outputs": [],
   "source": []
  }
 ],
 "metadata": {
  "kernelspec": {
   "display_name": "Python 3 (ipykernel)",
   "language": "python",
   "name": "python3"
  },
  "language_info": {
   "codemirror_mode": {
    "name": "ipython",
    "version": 3
   },
   "file_extension": ".py",
   "mimetype": "text/x-python",
   "name": "python",
   "nbconvert_exporter": "python",
   "pygments_lexer": "ipython3",
   "version": "3.10.13"
  }
 },
 "nbformat": 4,
 "nbformat_minor": 4
}
