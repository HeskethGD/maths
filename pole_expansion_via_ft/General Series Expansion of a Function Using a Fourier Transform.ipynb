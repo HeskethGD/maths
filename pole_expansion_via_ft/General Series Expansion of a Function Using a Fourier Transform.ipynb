{
 "cells": [
  {
   "cell_type": "markdown",
   "metadata": {},
   "source": [
    "# General Series Expansion of a Function Using a Fourier Transform"
   ]
  },
  {
   "cell_type": "code",
   "execution_count": 1,
   "metadata": {},
   "outputs": [],
   "source": [
    "from sympy import *"
   ]
  },
  {
   "cell_type": "code",
   "execution_count": 2,
   "metadata": {},
   "outputs": [],
   "source": [
    "x, y, n, m, K, k, epsilon, z, s, a, R, N, r, T, b, c, d = symbols('x, y, n, m, K, k, epsilon, z, s, a, R, N, r, T, b, c, d')\n",
    "alpha, beta, delta, t, mu, nu, epsilon, theta, phi, tau, omega, kappa = symbols(\n",
    "    'alpha, beta, delta, t, mu, nu, epsilon, theta, phi, tau, omega, kappa')"
   ]
  },
  {
   "cell_type": "code",
   "execution_count": 3,
   "metadata": {},
   "outputs": [],
   "source": [
    "f = Function(\"f\")\n",
    "g = Function(\"g\")\n",
    "F = Function(\"F\")\n",
    "G = Function(\"G\")"
   ]
  },
  {
   "cell_type": "markdown",
   "metadata": {},
   "source": [
    "### General Fourier Transform Formulas"
   ]
  },
  {
   "cell_type": "code",
   "execution_count": 44,
   "metadata": {},
   "outputs": [
    {
     "data": {
      "text/latex": [
       "$\\displaystyle F{\\left(\\omega \\right)} = \\int\\limits_{-\\infty}^{\\infty} f{\\left(\\tau \\right)} e^{- 2 i \\pi \\omega \\tau}\\, d\\tau$"
      ],
      "text/plain": [
       "Eq(F(omega), Integral(f(tau)*exp(-2*I*pi*omega*tau), (tau, -oo, oo)))"
      ]
     },
     "execution_count": 44,
     "metadata": {},
     "output_type": "execute_result"
    }
   ],
   "source": [
    "Eq(F(omega),Integral(f(tau)*exp(-2*I*pi*omega*tau),(tau,-oo,oo)))"
   ]
  },
  {
   "cell_type": "code",
   "execution_count": 35,
   "metadata": {
    "scrolled": true
   },
   "outputs": [
    {
     "data": {
      "text/latex": [
       "$\\displaystyle f{\\left(\\tau \\right)} = \\int\\limits_{-\\infty}^{\\infty} F{\\left(\\omega \\right)} e^{2 i \\pi \\omega \\tau}\\, d\\omega$"
      ],
      "text/plain": [
       "Eq(f(tau), Integral(F(omega)*exp(2*I*pi*omega*tau), (omega, -oo, oo)))"
      ]
     },
     "execution_count": 35,
     "metadata": {},
     "output_type": "execute_result"
    }
   ],
   "source": [
    "Eq(f(tau),Integral(F(omega)*exp(2*I*pi*omega*tau),(omega,-oo,oo)))"
   ]
  },
  {
   "cell_type": "markdown",
   "metadata": {},
   "source": [
    "## Defining the integral of interest\n",
    "\n",
    "This work is motivated by an interest in this [question on stackoverflow ](https://math.stackexchange.com/questions/364452/evaluate-int-0-frac-pi2-frac11x21-tan-x-mathrm-dx). We wish to see what insights we can gain by exploring the Fourier Transform of this function."
   ]
  },
  {
   "cell_type": "code",
   "execution_count": 7,
   "metadata": {
    "scrolled": true
   },
   "outputs": [
    {
     "data": {
      "text/latex": [
       "$\\displaystyle g{\\left(z \\right)} = \\frac{f{\\left(z \\right)}}{1 - e^{i \\left(a + z\\right)}}$"
      ],
      "text/plain": [
       "Eq(g(z), f(z)/(1 - exp(I*(a + z))))"
      ]
     },
     "execution_count": 7,
     "metadata": {},
     "output_type": "execute_result"
    }
   ],
   "source": [
    "Eq(g(z), f(z)/(1-exp(I*(a+z))))"
   ]
  },
  {
   "cell_type": "code",
   "execution_count": 4,
   "metadata": {},
   "outputs": [],
   "source": [
    "G_integrand_tau = f(tau)/(1-exp(I*(alpha+tau)))*exp(-2*I*pi*omega*tau)"
   ]
  },
  {
   "cell_type": "code",
   "execution_count": 9,
   "metadata": {},
   "outputs": [
    {
     "data": {
      "text/latex": [
       "$\\displaystyle G{\\left(\\omega,a \\right)} = \\int\\limits_{-\\infty}^{\\infty} \\frac{f{\\left(\\tau \\right)} e^{- 2 i \\pi \\omega \\tau}}{1 - e^{i \\left(\\alpha + \\tau\\right)}}\\, d\\tau$"
      ],
      "text/plain": [
       "Eq(G(omega, a), Integral(f(tau)*exp(-2*I*pi*omega*tau)/(1 - exp(I*(alpha + tau))), (tau, -oo, oo)))"
      ]
     },
     "execution_count": 9,
     "metadata": {},
     "output_type": "execute_result"
    }
   ],
   "source": [
    "Eq(G(omega, a),Integral(G_integrand_tau,(tau,-oo,oo)))"
   ]
  },
  {
   "cell_type": "markdown",
   "metadata": {},
   "source": [
    "## Calculating the Fourier Transform"
   ]
  },
  {
   "cell_type": "markdown",
   "metadata": {},
   "source": [
    "### Evaluating G using contour integration\n",
    "\n",
    "We want to evaluate G using contour integration but is clear that we need to close the contour appropriately to ensure convergence. If omega is negative we close the contour in the upper half plane counterclockwise and if it is positive we would close it in the lower half plane clockwise. However, we need only ocnsider one of these case as we can derive a reflection formula for G."
   ]
  },
  {
   "cell_type": "markdown",
   "metadata": {},
   "source": [
    "#### Defining the contour integral and evaluation with the residue theorem"
   ]
  },
  {
   "cell_type": "code",
   "execution_count": 10,
   "metadata": {},
   "outputs": [],
   "source": [
    "StraightPart = Function(\"StraightPart\")\n",
    "ArcPart = Function(\"ArcPart\")\n",
    "Res =  Function(\"Res\")"
   ]
  },
  {
   "cell_type": "code",
   "execution_count": 11,
   "metadata": {
    "scrolled": true
   },
   "outputs": [
    {
     "data": {
      "text/latex": [
       "$\\displaystyle \\operatorname{ArcPart}{\\left(R,\\omega,\\alpha \\right)} + \\operatorname{StraightPart}{\\left(R,\\omega,\\alpha \\right)} = 2 i \\pi \\sum_{n=- N}^{N} \\operatorname{Res}{\\left(n,R,\\omega,\\alpha \\right)}$"
      ],
      "text/plain": [
       "Eq(ArcPart(R, omega, alpha) + StraightPart(R, omega, alpha), 2*I*pi*Sum(Res(n, R, omega, alpha), (n, -N, N)))"
      ]
     },
     "execution_count": 11,
     "metadata": {},
     "output_type": "execute_result"
    }
   ],
   "source": [
    "Eq(StraightPart(R, omega, alpha)+ArcPart(R, omega, alpha), 2*pi*I*Sum(Res(n, R, omega, alpha),(n,-N,N)))"
   ]
  },
  {
   "cell_type": "code",
   "execution_count": 12,
   "metadata": {},
   "outputs": [
    {
     "data": {
      "text/latex": [
       "$\\displaystyle \\operatorname{StraightPart}{\\left(R,\\omega,\\alpha \\right)} = - \\operatorname{ArcPart}{\\left(R,\\omega,\\alpha \\right)} + 2 i \\pi \\sum_{n=- N}^{N} \\operatorname{Res}{\\left(n,R,\\omega,\\alpha \\right)}$"
      ],
      "text/plain": [
       "Eq(StraightPart(R, omega, alpha), -ArcPart(R, omega, alpha) + 2*I*pi*Sum(Res(n, R, omega, alpha), (n, -N, N)))"
      ]
     },
     "execution_count": 12,
     "metadata": {},
     "output_type": "execute_result"
    }
   ],
   "source": [
    "Eq(StraightPart(R, omega, alpha), 2*pi*I*Sum(Res(n, R, omega, alpha),(n,-N,N))-ArcPart(R, omega, alpha))"
   ]
  },
  {
   "cell_type": "code",
   "execution_count": 13,
   "metadata": {},
   "outputs": [
    {
     "data": {
      "text/latex": [
       "$\\displaystyle G{\\left(\\omega,a \\right)} = \\int\\limits_{-\\infty}^{\\infty} \\frac{f{\\left(\\tau \\right)} e^{- 2 i \\pi \\omega \\tau}}{1 - e^{i \\left(a + \\tau\\right)}}\\, d\\tau$"
      ],
      "text/plain": [
       "Eq(G(omega, a), Integral(f(tau)*exp(-2*I*pi*omega*tau)/(1 - exp(I*(a + tau))), (tau, -oo, oo)))"
      ]
     },
     "execution_count": 13,
     "metadata": {},
     "output_type": "execute_result"
    }
   ],
   "source": [
    "Eq(G(omega, a),Integral(f(tau)/(1-exp(I*(a+tau)))*exp(-2*I*pi*omega*tau),(tau,-oo,oo)))"
   ]
  },
  {
   "cell_type": "code",
   "execution_count": 5,
   "metadata": {},
   "outputs": [],
   "source": [
    "G_integrand_z = G_integrand_tau.subs(tau,z)"
   ]
  },
  {
   "cell_type": "code",
   "execution_count": 15,
   "metadata": {},
   "outputs": [
    {
     "data": {
      "text/latex": [
       "$\\displaystyle \\operatorname{StraightPart}{\\left(R,\\omega,\\alpha \\right)} = \\int\\limits_{- R}^{R} \\frac{f{\\left(z \\right)} e^{- 2 i \\pi \\omega z}}{1 - e^{i \\left(\\alpha + z\\right)}}\\, dz$"
      ],
      "text/plain": [
       "Eq(StraightPart(R, omega, alpha), Integral(f(z)*exp(-2*I*pi*omega*z)/(1 - exp(I*(alpha + z))), (z, -R, R)))"
      ]
     },
     "execution_count": 15,
     "metadata": {},
     "output_type": "execute_result"
    }
   ],
   "source": [
    "Eq(StraightPart(R, omega, alpha), Integral(G_integrand_z,(z,-R,R)))"
   ]
  },
  {
   "cell_type": "code",
   "execution_count": 16,
   "metadata": {},
   "outputs": [
    {
     "data": {
      "text/latex": [
       "$\\displaystyle G{\\left(\\omega,\\alpha \\right)} = \\lim_{R \\to \\infty} \\operatorname{StraightPart}{\\left(R,\\omega,\\alpha \\right)}$"
      ],
      "text/plain": [
       "Eq(G(omega, alpha), Limit(StraightPart(R, omega, alpha), R, oo, dir='-'))"
      ]
     },
     "execution_count": 16,
     "metadata": {},
     "output_type": "execute_result"
    }
   ],
   "source": [
    "Eq(G(omega, alpha), Limit(StraightPart(R, omega, alpha),R,oo))"
   ]
  },
  {
   "cell_type": "code",
   "execution_count": 17,
   "metadata": {},
   "outputs": [
    {
     "data": {
      "text/latex": [
       "$\\displaystyle G{\\left(\\omega,\\alpha \\right)} = \\lim_{R \\to \\infty}\\left(2 i \\pi \\sum_{n=- N}^{N} \\operatorname{Res}{\\left(n,R,\\omega,\\alpha \\right)}\\right) - \\lim_{R \\to \\infty} \\operatorname{ArcPart}{\\left(R,\\omega,\\alpha \\right)}$"
      ],
      "text/plain": [
       "Eq(G(omega, alpha), Limit(2*I*pi*Sum(Res(n, R, omega, alpha), (n, -N, N)), R, oo, dir='-') - Limit(ArcPart(R, omega, alpha), R, oo, dir='-'))"
      ]
     },
     "execution_count": 17,
     "metadata": {},
     "output_type": "execute_result"
    }
   ],
   "source": [
    "Eq(G(omega, alpha), -Limit(ArcPart(R, omega, alpha),R,oo) + Limit(2*pi*I*Sum(Res(n, R, omega, alpha),(n,-N,N)),R,oo))"
   ]
  },
  {
   "cell_type": "markdown",
   "metadata": {},
   "source": [
    "#### Evaluating the Arc integral"
   ]
  },
  {
   "cell_type": "markdown",
   "metadata": {},
   "source": [
    "The case where omega is negative:"
   ]
  },
  {
   "cell_type": "code",
   "execution_count": 18,
   "metadata": {},
   "outputs": [
    {
     "data": {
      "text/latex": [
       "$\\displaystyle z = R e^{i \\theta}$"
      ],
      "text/plain": [
       "Eq(z, R*exp(I*theta))"
      ]
     },
     "execution_count": 18,
     "metadata": {},
     "output_type": "execute_result"
    }
   ],
   "source": [
    "Eq(z, R*exp(I*theta))"
   ]
  },
  {
   "cell_type": "code",
   "execution_count": 19,
   "metadata": {},
   "outputs": [
    {
     "data": {
      "text/latex": [
       "$\\displaystyle \\frac{d}{d \\theta} z = i R e^{i \\theta}$"
      ],
      "text/plain": [
       "Eq(Derivative(z, theta), I*R*exp(I*theta))"
      ]
     },
     "execution_count": 19,
     "metadata": {},
     "output_type": "execute_result"
    }
   ],
   "source": [
    "Eq(Derivative(z,theta), diff(R*exp(I*theta),theta))"
   ]
  },
  {
   "cell_type": "code",
   "execution_count": 20,
   "metadata": {},
   "outputs": [
    {
     "data": {
      "text/latex": [
       "$\\displaystyle \\operatorname{ArcPart}{\\left(R,\\omega,\\kappa,\\alpha \\right)} = \\int\\limits_{0}^{\\pi} \\frac{i R f{\\left(R e^{i \\theta} \\right)} e^{i \\theta} e^{- 2 i \\pi R \\omega e^{i \\theta}}}{1 - e^{i \\left(R e^{i \\theta} + \\alpha\\right)}}\\, d\\theta$"
      ],
      "text/plain": [
       "Eq(ArcPart(R, omega, kappa, alpha), Integral(I*R*f(R*exp(I*theta))*exp(I*theta)*exp(-2*I*pi*R*omega*exp(I*theta))/(1 - exp(I*(R*exp(I*theta) + alpha))), (theta, 0, pi)))"
      ]
     },
     "execution_count": 20,
     "metadata": {},
     "output_type": "execute_result"
    }
   ],
   "source": [
    "Eq(ArcPart(R, omega, kappa, alpha), Integral(G_integrand_z.subs(z,R*exp(I*theta))*I*R*exp(I*theta),(theta,0,pi)))"
   ]
  },
  {
   "cell_type": "markdown",
   "metadata": {},
   "source": [
    "Let us assume f decays fast enough such that for theta between 0 and pi:"
   ]
  },
  {
   "cell_type": "code",
   "execution_count": 21,
   "metadata": {},
   "outputs": [
    {
     "data": {
      "text/latex": [
       "$\\displaystyle \\lim_{R \\to \\infty}\\left(R f{\\left(R e^{i \\theta} \\right)} e^{- 2 i \\pi R \\omega e^{i \\theta}}\\right) = 0$"
      ],
      "text/plain": [
       "Eq(Limit(R*f(R*exp(I*theta))*exp(-2*I*pi*R*omega*exp(I*theta)), R, oo, dir='-'), 0)"
      ]
     },
     "execution_count": 21,
     "metadata": {},
     "output_type": "execute_result"
    }
   ],
   "source": [
    "Eq(Limit(R*f(R*exp(I*theta))*exp(-2*I*pi*R*omega*exp(I*theta)),R,oo),0)"
   ]
  },
  {
   "cell_type": "code",
   "execution_count": 22,
   "metadata": {},
   "outputs": [
    {
     "data": {
      "text/latex": [
       "$\\displaystyle \\lim_{R \\to \\infty} \\operatorname{ArcPart}{\\left(R,\\omega,\\kappa,\\alpha \\right)} = 0$"
      ],
      "text/plain": [
       "Eq(Limit(ArcPart(R, omega, kappa, alpha), R, oo, dir='-'), 0)"
      ]
     },
     "execution_count": 22,
     "metadata": {},
     "output_type": "execute_result"
    }
   ],
   "source": [
    "Eq(Limit(ArcPart(R, omega, kappa, alpha), R, oo),0)"
   ]
  },
  {
   "cell_type": "markdown",
   "metadata": {},
   "source": [
    "##### Some test cases for the convergence of the Arc part"
   ]
  },
  {
   "cell_type": "code",
   "execution_count": 45,
   "metadata": {},
   "outputs": [
    {
     "data": {
      "text/latex": [
       "$\\displaystyle \\frac{i R f{\\left(R e^{i \\theta} \\right)} e^{i \\theta} e^{- 2 i \\pi R \\omega e^{i \\theta}}}{1 - e^{i \\left(R e^{i \\theta} + \\alpha\\right)}}$"
      ],
      "text/plain": [
       "I*R*f(R*exp(I*theta))*exp(I*theta)*exp(-2*I*pi*R*omega*exp(I*theta))/(1 - exp(I*(R*exp(I*theta) + alpha)))"
      ]
     },
     "execution_count": 45,
     "metadata": {},
     "output_type": "execute_result"
    }
   ],
   "source": [
    "G_integrand_z.subs(z,R*exp(I*theta))*I*R*exp(I*theta)"
   ]
  },
  {
   "cell_type": "code",
   "execution_count": 47,
   "metadata": {},
   "outputs": [
    {
     "data": {
      "text/latex": [
       "$\\displaystyle \\frac{i R f{\\left(R e^{i \\theta} \\right)} e^{i \\left(- 2 \\pi R \\omega e^{i \\theta} + R s e^{i \\theta} + \\theta\\right)}}{1 - e^{i \\left(R e^{i \\theta} + \\alpha\\right)}}$"
      ],
      "text/plain": [
       "I*R*f(R*exp(I*theta))*exp(I*(-2*pi*R*omega*exp(I*theta) + R*s*exp(I*theta) + theta))/(1 - exp(I*(R*exp(I*theta) + alpha)))"
      ]
     },
     "execution_count": 47,
     "metadata": {},
     "output_type": "execute_result"
    }
   ],
   "source": [
    "(G_integrand_z.subs(z,R*exp(I*theta))*I*R*exp(I*theta)\n",
    ").subs(f(R*exp(I*theta)),f(tau).subs(f(tau),f(tau)*exp(I*s*tau)).subs(tau,R*exp(I*theta))).simplify()"
   ]
  },
  {
   "cell_type": "code",
   "execution_count": 50,
   "metadata": {},
   "outputs": [
    {
     "data": {
      "text/latex": [
       "$\\displaystyle e^{- 2 \\operatorname{im}{\\left(R s e^{i \\theta}\\right)}} = e^{i R s e^{i \\theta}} e^{- i R e^{- i \\theta} \\overline{s}}$"
      ],
      "text/plain": [
       "Eq(exp(-2*im(R*s*exp(I*theta))), exp(I*R*s*exp(I*theta))*exp(-I*R*exp(-I*theta)*conjugate(s)))"
      ]
     },
     "execution_count": 50,
     "metadata": {},
     "output_type": "execute_result"
    }
   ],
   "source": [
    "Eq(abs(exp(I*R*s*exp(I*theta)))**2, exp(I*R*s*exp(I*theta))*exp(-I*R*conjugate(s)*exp(-I*theta)))"
   ]
  },
  {
   "cell_type": "code",
   "execution_count": 54,
   "metadata": {},
   "outputs": [
    {
     "data": {
      "text/latex": [
       "$\\displaystyle \\operatorname{im}{\\left(s e^{i \\theta}\\right)} = i \\sin{\\left(\\theta \\right)} \\operatorname{re}{\\left(s\\right)} - \\sin{\\left(\\theta \\right)} \\operatorname{im}{\\left(s\\right)} + \\cos{\\left(\\theta \\right)} \\operatorname{re}{\\left(s\\right)} + i \\cos{\\left(\\theta \\right)} \\operatorname{im}{\\left(s\\right)}$"
      ],
      "text/plain": [
       "Eq(im(s*exp(I*theta)), I*sin(theta)*re(s) - sin(theta)*im(s) + cos(theta)*re(s) + I*cos(theta)*im(s))"
      ]
     },
     "execution_count": 54,
     "metadata": {},
     "output_type": "execute_result"
    }
   ],
   "source": [
    "Eq(im(s*exp(I*theta)),((re(s)+I*im(s))*(cos(theta)+I*sin(theta))).expand())"
   ]
  },
  {
   "cell_type": "markdown",
   "metadata": {},
   "source": [
    "#### Evaluating the residue sum\n",
    "The case when omega is negative so we close the contour in the upper plane so the imaginary part of z is positive:"
   ]
  },
  {
   "cell_type": "code",
   "execution_count": 23,
   "metadata": {},
   "outputs": [
    {
     "data": {
      "text/latex": [
       "$\\displaystyle \\frac{f{\\left(z \\right)} e^{- 2 i \\pi \\omega z}}{1 - e^{i \\left(\\alpha + z\\right)}}$"
      ],
      "text/plain": [
       "f(z)*exp(-2*I*pi*omega*z)/(1 - exp(I*(alpha + z)))"
      ]
     },
     "execution_count": 23,
     "metadata": {},
     "output_type": "execute_result"
    }
   ],
   "source": [
    "G_integrand_z"
   ]
  },
  {
   "cell_type": "markdown",
   "metadata": {},
   "source": [
    "The above integrand has poles when f has poles and also when the exponential in the denominator causes poles i.e. when:"
   ]
  },
  {
   "cell_type": "code",
   "execution_count": 24,
   "metadata": {},
   "outputs": [
    {
     "data": {
      "text/latex": [
       "$\\displaystyle 1 - e^{i \\left(a + z\\right)} = 0$"
      ],
      "text/plain": [
       "Eq(1 - exp(I*(a + z)), 0)"
      ]
     },
     "execution_count": 24,
     "metadata": {},
     "output_type": "execute_result"
    }
   ],
   "source": [
    "Eq(1-exp(I*(a+z)),0)"
   ]
  },
  {
   "cell_type": "code",
   "execution_count": 25,
   "metadata": {},
   "outputs": [
    {
     "data": {
      "text/latex": [
       "$\\displaystyle 2 i \\pi n = i \\left(\\alpha + z\\right)$"
      ],
      "text/plain": [
       "Eq(2*I*pi*n, I*(alpha + z))"
      ]
     },
     "execution_count": 25,
     "metadata": {},
     "output_type": "execute_result"
    }
   ],
   "source": [
    "Eq(2*I*pi*n,I*(alpha+z))"
   ]
  },
  {
   "cell_type": "code",
   "execution_count": 26,
   "metadata": {
    "scrolled": true
   },
   "outputs": [
    {
     "data": {
      "text/latex": [
       "$\\displaystyle z = - \\alpha + 2 \\pi n$"
      ],
      "text/plain": [
       "Eq(z, -alpha + 2*pi*n)"
      ]
     },
     "execution_count": 26,
     "metadata": {},
     "output_type": "execute_result"
    }
   ],
   "source": [
    "Eq(z,2*pi*n - alpha)"
   ]
  },
  {
   "cell_type": "markdown",
   "metadata": {},
   "source": [
    "#### Poles of f\n",
    "For simplicity let us assume the poles of f are not also poles of the exponential denominator term. Let us represent the residue sum over poles of f in the upper half plane using the following notation whereby we mean if there are no poles this sum is zero as opposed to inluding the zeroth term; this is just because of sympy notation limitations:"
   ]
  },
  {
   "cell_type": "code",
   "execution_count": 16,
   "metadata": {},
   "outputs": [],
   "source": [
    "Resf = Function('Resf')\n",
    "fpole = IndexedBase('fpole')\n",
    "Nfupperpoles, Nflowerpoles, Nfpoles = symbols('Nfupperpoles Nflowerpoles Nfpoles')"
   ]
  },
  {
   "cell_type": "code",
   "execution_count": 28,
   "metadata": {},
   "outputs": [
    {
     "data": {
      "text/latex": [
       "$\\displaystyle \\sum_{k=0}^{Nfupperpoles} \\frac{2 i \\pi \\operatorname{Resf}{\\left({fpole}_{k} \\right)} e^{- 2 i \\pi \\omega {fpole}_{k}}}{1 - e^{i \\left(\\alpha + {fpole}_{k}\\right)}}$"
      ],
      "text/plain": [
       "Sum(2*I*pi*Resf(fpole[k])*exp(-2*I*pi*omega*fpole[k])/(1 - exp(I*(alpha + fpole[k]))), (k, 0, Nfupperpoles))"
      ]
     },
     "execution_count": 28,
     "metadata": {},
     "output_type": "execute_result"
    }
   ],
   "source": [
    "Sum(2*pi*I*Resf(fpole[k])*exp(-2*I*pi*omega*fpole[k])/(1 - exp(I*(alpha + fpole[k]))),(k,0,Nfupperpoles))"
   ]
  },
  {
   "cell_type": "markdown",
   "metadata": {},
   "source": [
    "#### Poles from the exponential in the denominator"
   ]
  },
  {
   "cell_type": "markdown",
   "metadata": {},
   "source": [
    "Let alpha be real so all the poles are on the real axis, i.e. half in the upper plane and half in the lower plane."
   ]
  },
  {
   "cell_type": "code",
   "execution_count": 29,
   "metadata": {
    "scrolled": true
   },
   "outputs": [
    {
     "data": {
      "text/latex": [
       "$\\displaystyle \\operatorname{im}{\\left(\\alpha\\right)} = 0$"
      ],
      "text/plain": [
       "Eq(im(alpha), 0)"
      ]
     },
     "execution_count": 29,
     "metadata": {},
     "output_type": "execute_result"
    }
   ],
   "source": [
    "Eq(im(alpha),0)"
   ]
  },
  {
   "cell_type": "code",
   "execution_count": 30,
   "metadata": {
    "scrolled": true
   },
   "outputs": [
    {
     "data": {
      "text/latex": [
       "$\\displaystyle \\lim_{z \\to - \\alpha + 2 \\pi n^+}\\left(\\frac{\\left(\\alpha - 2 \\pi n + z\\right) f{\\left(z \\right)} e^{- 2 i \\pi \\omega z}}{1 - e^{i \\left(\\alpha + z\\right)}}\\right) = i f{\\left(- \\alpha + 2 \\pi n \\right)} e^{- 2 i \\pi \\omega \\left(- \\alpha + 2 \\pi n\\right)}$"
      ],
      "text/plain": [
       "Eq(Limit((alpha - 2*pi*n + z)*f(z)*exp(-2*I*pi*omega*z)/(1 - exp(I*(alpha + z))), z, -alpha + 2*pi*n), I*f(-alpha + 2*pi*n)*exp(-2*I*pi*omega*(-alpha + 2*pi*n)))"
      ]
     },
     "execution_count": 30,
     "metadata": {},
     "output_type": "execute_result"
    }
   ],
   "source": [
    "Eq(Limit((z-(2*pi*n - alpha))*G_integrand_z,z,2*pi*n - alpha), I*f(2*pi*n-alpha)*exp(-2*I*pi*omega*(2*pi*n-alpha)))"
   ]
  },
  {
   "cell_type": "markdown",
   "metadata": {},
   "source": [
    "The below divides the terms in the sum by 2 to account for them being on the contour."
   ]
  },
  {
   "cell_type": "code",
   "execution_count": 31,
   "metadata": {},
   "outputs": [
    {
     "data": {
      "text/latex": [
       "$\\displaystyle \\lim_{R \\to \\infty}\\left(2 i \\pi \\sum_{n=- N}^{N} \\operatorname{Res}{\\left(n,R,\\omega \\right)}\\right) = - \\pi \\sum_{n=-\\infty}^{\\infty} f{\\left(- \\alpha + 2 \\pi n \\right)} e^{- 2 i \\pi \\omega \\left(- \\alpha + 2 \\pi n\\right)}$"
      ],
      "text/plain": [
       "Eq(Limit(2*I*pi*Sum(Res(n, R, omega), (n, -N, N)), R, oo, dir='-'), -pi*Sum(f(-alpha + 2*pi*n)*exp(-2*I*pi*omega*(-alpha + 2*pi*n)), (n, -oo, oo)))"
      ]
     },
     "execution_count": 31,
     "metadata": {},
     "output_type": "execute_result"
    }
   ],
   "source": [
    "Eq(Limit(2*pi*I*Sum(Res(n, R, omega),(n,-N,N)),R,oo),\n",
    "  pi*I*I*Sum(f(2*pi*n-alpha)*exp(-2*I*pi*omega*(2*pi*n-alpha)),(n,-oo,oo))\n",
    ")"
   ]
  },
  {
   "cell_type": "markdown",
   "metadata": {},
   "source": [
    "Therefore, when omega is negative G is given by:"
   ]
  },
  {
   "cell_type": "code",
   "execution_count": 32,
   "metadata": {},
   "outputs": [
    {
     "data": {
      "text/latex": [
       "$\\displaystyle G{\\left(\\omega,\\alpha \\right)} = - \\pi \\sum_{n=-\\infty}^{\\infty} f{\\left(- \\alpha + 2 \\pi n \\right)} e^{- 2 i \\pi \\omega \\left(- \\alpha + 2 \\pi n\\right)} + 2 i \\pi \\sum_{k=0}^{Nfupperpoles} \\frac{\\operatorname{Resf}{\\left({fpole}_{k} \\right)} e^{- 2 i \\pi \\omega {fpole}_{k}}}{1 - e^{i \\left(\\alpha + {fpole}_{k}\\right)}}$"
      ],
      "text/plain": [
       "Eq(G(omega, alpha), -pi*Sum(f(-alpha + 2*pi*n)*exp(-2*I*pi*omega*(-alpha + 2*pi*n)), (n, -oo, oo)) + 2*I*pi*Sum(Resf(fpole[k])*exp(-2*I*pi*omega*fpole[k])/(1 - exp(I*(alpha + fpole[k]))), (k, 0, Nfupperpoles)))"
      ]
     },
     "execution_count": 32,
     "metadata": {},
     "output_type": "execute_result"
    }
   ],
   "source": [
    "Eq(G(omega, alpha), \n",
    "   2*pi*I*Sum(Resf(fpole[k])*exp(-2*I*pi*omega*fpole[k])/(1 - exp(I*(alpha + fpole[k]))),(k,0,Nfupperpoles)) +\n",
    "   pi*I*I*Sum(f(2*pi*n-alpha)*exp(-2*I*pi*omega*(2*pi*n-alpha)),(n,-oo,oo))\n",
    "  )"
   ]
  },
  {
   "cell_type": "code",
   "execution_count": 33,
   "metadata": {
    "scrolled": true
   },
   "outputs": [
    {
     "data": {
      "text/latex": [
       "$\\displaystyle G{\\left(\\omega,a \\right)} = \\int\\limits_{-\\infty}^{\\infty} \\frac{f{\\left(\\tau \\right)} e^{- 2 i \\pi \\omega \\tau}}{1 - e^{i \\left(\\alpha + \\tau\\right)}}\\, d\\tau$"
      ],
      "text/plain": [
       "Eq(G(omega, a), Integral(f(tau)*exp(-2*I*pi*omega*tau)/(1 - exp(I*(alpha + tau))), (tau, -oo, oo)))"
      ]
     },
     "execution_count": 33,
     "metadata": {},
     "output_type": "execute_result"
    }
   ],
   "source": [
    "Eq(G(omega, a),Integral(G_integrand_tau, (tau,-oo,oo)))"
   ]
  },
  {
   "cell_type": "markdown",
   "metadata": {},
   "source": [
    "When omega is positive we close teh contour in the lower half plane and the winding number is minus one because the contour winds clockwise. Therefore, when omega is negative we have:"
   ]
  },
  {
   "cell_type": "code",
   "execution_count": 172,
   "metadata": {},
   "outputs": [
    {
     "data": {
      "text/latex": [
       "$\\displaystyle G{\\left(\\omega,\\alpha \\right)} = \\pi \\sum_{n=-\\infty}^{\\infty} f{\\left(- \\alpha + 2 \\pi n \\right)} e^{- 2 i \\pi \\omega \\left(- \\alpha + 2 \\pi n\\right)} - 2 i \\pi \\sum_{k=0}^{Nflowerpoles} \\frac{\\operatorname{Resf}{\\left({fpole}_{k} \\right)} e^{- 2 i \\pi \\omega {fpole}_{k}}}{1 - e^{i \\left(\\alpha + {fpole}_{k}\\right)}}$"
      ],
      "text/plain": [
       "Eq(G(omega, alpha), pi*Sum(f(-alpha + 2*pi*n)*exp(-2*I*pi*omega*(-alpha + 2*pi*n)), (n, -oo, oo)) - 2*I*pi*Sum(Resf(fpole[k])*exp(-2*I*pi*omega*fpole[k])/(1 - exp(I*(alpha + fpole[k]))), (k, 0, Nflowerpoles)))"
      ]
     },
     "execution_count": 172,
     "metadata": {},
     "output_type": "execute_result"
    }
   ],
   "source": [
    "Eq(G(omega, alpha), \n",
    "   -2*pi*I*Sum(Resf(fpole[k])*exp(-2*I*pi*omega*fpole[k])/(1 - exp(I*(alpha + fpole[k]))),(k,0,Nflowerpoles)) +\n",
    "   -pi*I*I*Sum(f(2*pi*n-alpha)*exp(-2*I*pi*omega*(2*pi*n-alpha)),(n,-oo,oo))\n",
    "  )"
   ]
  },
  {
   "cell_type": "markdown",
   "metadata": {},
   "source": [
    "Combining these, for any omega gives:"
   ]
  },
  {
   "cell_type": "code",
   "execution_count": 175,
   "metadata": {},
   "outputs": [
    {
     "data": {
      "text/latex": [
       "$\\displaystyle G{\\left(\\omega,\\alpha \\right)} = 2 i \\pi \\theta\\left(- \\omega\\right) \\sum_{k=0}^{Nfupperpoles} \\frac{\\operatorname{Resf}{\\left({fpole}_{k} \\right)} e^{- 2 i \\pi \\omega {fpole}_{k}}}{1 - e^{i \\left(\\alpha + {fpole}_{k}\\right)}} - 2 i \\pi \\theta\\left(\\omega\\right) \\sum_{k=0}^{Nflowerpoles} \\frac{\\operatorname{Resf}{\\left({fpole}_{k} \\right)} e^{- 2 i \\pi \\omega {fpole}_{k}}}{1 - e^{i \\left(\\alpha + {fpole}_{k}\\right)}} + \\pi \\operatorname{sign}{\\left(\\omega \\right)} \\sum_{n=-\\infty}^{\\infty} f{\\left(- \\alpha + 2 \\pi n \\right)} e^{- 2 i \\pi \\omega \\left(- \\alpha + 2 \\pi n\\right)}$"
      ],
      "text/plain": [
       "Eq(G(omega, alpha), 2*I*pi*Heaviside(-omega)*Sum(Resf(fpole[k])*exp(-2*I*pi*omega*fpole[k])/(1 - exp(I*(alpha + fpole[k]))), (k, 0, Nfupperpoles)) - 2*I*pi*Heaviside(omega)*Sum(Resf(fpole[k])*exp(-2*I*pi*omega*fpole[k])/(1 - exp(I*(alpha + fpole[k]))), (k, 0, Nflowerpoles)) + pi*sign(omega)*Sum(f(-alpha + 2*pi*n)*exp(-2*I*pi*omega*(-alpha + 2*pi*n)), (n, -oo, oo)))"
      ]
     },
     "execution_count": 175,
     "metadata": {},
     "output_type": "execute_result"
    }
   ],
   "source": [
    "Eq(G(omega, alpha), \n",
    "    - Heaviside(omega)*2*pi*I*Sum(\n",
    "        Resf(fpole[k])*exp(-2*I*pi*omega*fpole[k])/(1 - exp(I*(alpha + fpole[k])))\n",
    "        ,(k,0,Nflowerpoles)) \n",
    "    + Heaviside(-omega)*2*pi*I*Sum(\n",
    "        Resf(fpole[k])*exp(-2*I*pi*omega*fpole[k])/(1 - exp(I*(alpha + fpole[k])))\n",
    "        ,(k,0,Nfupperpoles))\n",
    "    + sign(omega)*pi*Sum(f(2*pi*n-alpha)*exp(-2*I*pi*omega*(2*pi*n-alpha)),(n,-oo,oo))\n",
    ")"
   ]
  },
  {
   "cell_type": "markdown",
   "metadata": {},
   "source": [
    "## Inverse Fourier Transform of G"
   ]
  },
  {
   "cell_type": "markdown",
   "metadata": {},
   "source": [
    "### Useful rules"
   ]
  },
  {
   "cell_type": "code",
   "execution_count": 225,
   "metadata": {
    "scrolled": true
   },
   "outputs": [
    {
     "data": {
      "text/latex": [
       "$\\displaystyle \\int\\limits_{-\\infty}^{\\infty} \\frac{e^{- 2 i \\pi \\omega \\tau}}{\\tau}\\, d\\tau = - i \\pi \\operatorname{sign}{\\left(\\omega \\right)}$"
      ],
      "text/plain": [
       "Eq(Integral(exp(-2*I*pi*omega*tau)/tau, (tau, -oo, oo)), -I*pi*sign(omega))"
      ]
     },
     "execution_count": 225,
     "metadata": {},
     "output_type": "execute_result"
    }
   ],
   "source": [
    "Eq(Integral(1/tau*exp(-2*I*pi*omega*tau),(tau,-oo,oo)),-I*pi*sign(omega))"
   ]
  },
  {
   "cell_type": "code",
   "execution_count": 231,
   "metadata": {
    "scrolled": true
   },
   "outputs": [
    {
     "data": {
      "text/latex": [
       "$\\displaystyle \\int\\limits_{-\\infty}^{\\infty} e^{2 i \\pi \\omega \\tau} \\operatorname{sign}{\\left(\\omega \\right)}\\, d\\omega = \\frac{i}{\\pi \\tau}$"
      ],
      "text/plain": [
       "Eq(Integral(exp(2*I*pi*omega*tau)*sign(omega), (omega, -oo, oo)), I/(pi*tau))"
      ]
     },
     "execution_count": 231,
     "metadata": {},
     "output_type": "execute_result"
    }
   ],
   "source": [
    "Eq(Integral(sign(omega)*exp(2*I*pi*omega*tau),(omega,-oo,oo)),I/tau/pi)"
   ]
  },
  {
   "cell_type": "code",
   "execution_count": 221,
   "metadata": {},
   "outputs": [
    {
     "data": {
      "text/latex": [
       "$\\displaystyle \\int\\limits_{-\\infty}^{\\infty} e^{2 i \\pi \\omega \\tau} e^{- 2 i \\pi \\omega \\left(- \\alpha + 2 \\pi n\\right)} \\operatorname{sign}{\\left(\\omega \\right)}\\, d\\omega$"
      ],
      "text/plain": [
       "Integral(exp(2*I*pi*omega*tau)*exp(-2*I*pi*omega*(-alpha + 2*pi*n))*sign(omega), (omega, -oo, oo))"
      ]
     },
     "execution_count": 221,
     "metadata": {},
     "output_type": "execute_result"
    }
   ],
   "source": [
    "Integral(sign(omega)*exp(-2*I*pi*omega*(2*pi*n-alpha))*exp(2*I*pi*omega*tau),(omega,-oo,oo))"
   ]
  },
  {
   "cell_type": "code",
   "execution_count": 240,
   "metadata": {
    "scrolled": true
   },
   "outputs": [
    {
     "data": {
      "text/latex": [
       "$\\displaystyle \\int\\limits_{0}^{\\infty} e^{\\pi \\omega \\left(- 2 a + 2 i b\\right)}\\, d\\omega = \\begin{cases} \\frac{1}{2 \\pi \\left(a - i b\\right)} & \\text{for}\\: \\left|{\\arg{\\left(a - i b \\right)}}\\right| < \\frac{\\pi}{2} \\\\\\int\\limits_{0}^{\\infty} e^{\\pi \\omega \\left(- 2 a + 2 i b\\right)}\\, d\\omega & \\text{otherwise} \\end{cases}$"
      ],
      "text/plain": [
       "Eq(Integral(exp(pi*omega*(-2*a + 2*I*b)), (omega, 0, oo)), Piecewise((1/(2*pi*(a - I*b)), Abs(arg(a - I*b)) < pi/2), (Integral(exp(pi*omega*(-2*a + 2*I*b)), (omega, 0, oo)), True)))"
      ]
     },
     "execution_count": 240,
     "metadata": {},
     "output_type": "execute_result"
    }
   ],
   "source": [
    "Eq(Integral(exp((-a+I*b)*2*pi*omega),(omega,0,oo)),Integral(exp((-a+I*b)*2*pi*omega),(omega,0,oo)).doit())"
   ]
  },
  {
   "cell_type": "markdown",
   "metadata": {},
   "source": [
    "### Obtaining f from inverse FT"
   ]
  },
  {
   "cell_type": "code",
   "execution_count": 219,
   "metadata": {},
   "outputs": [
    {
     "data": {
      "text/latex": [
       "$\\displaystyle g{\\left(\\tau,\\alpha \\right)} = \\int\\limits_{-\\infty}^{\\infty} G{\\left(\\omega,\\alpha \\right)} e^{2 i \\pi \\omega \\tau}\\, d\\omega$"
      ],
      "text/plain": [
       "Eq(g(tau, alpha), Integral(G(omega, alpha)*exp(2*I*pi*omega*tau), (omega, -oo, oo)))"
      ]
     },
     "execution_count": 219,
     "metadata": {},
     "output_type": "execute_result"
    }
   ],
   "source": [
    "Eq(g(tau, alpha),Integral(G(omega, alpha)*exp(2*I*pi*omega*tau),(omega,-oo,oo)))"
   ]
  },
  {
   "cell_type": "code",
   "execution_count": 220,
   "metadata": {},
   "outputs": [
    {
     "data": {
      "text/latex": [
       "$\\displaystyle \\frac{f{\\left(\\tau \\right)}}{1 - e^{i \\left(a + \\tau\\right)}} = \\int\\limits_{-\\infty}^{\\infty} G{\\left(\\omega,\\alpha \\right)} e^{2 i \\pi \\omega \\tau}\\, d\\omega$"
      ],
      "text/plain": [
       "Eq(f(tau)/(1 - exp(I*(a + tau))), Integral(G(omega, alpha)*exp(2*I*pi*omega*tau), (omega, -oo, oo)))"
      ]
     },
     "execution_count": 220,
     "metadata": {},
     "output_type": "execute_result"
    }
   ],
   "source": [
    "Eq(f(tau)/(1-exp(I*(a+tau))), Integral(G(omega, alpha)*exp(2*I*pi*omega*tau),(omega,-oo,oo)))"
   ]
  },
  {
   "cell_type": "markdown",
   "metadata": {},
   "source": [
    "We will assume that we can perform integration term wise and thus we are interested in the following integrals:"
   ]
  },
  {
   "cell_type": "code",
   "execution_count": 232,
   "metadata": {},
   "outputs": [
    {
     "data": {
      "text/latex": [
       "$\\displaystyle \\int\\limits_{-\\infty}^{\\infty} e^{2 i \\pi \\omega \\left(\\alpha - 2 \\pi n + \\tau\\right)} \\operatorname{sign}{\\left(\\omega \\right)}\\, d\\omega = \\frac{i}{\\pi \\left(\\alpha - 2 \\pi n + \\tau\\right)}$"
      ],
      "text/plain": [
       "Eq(Integral(exp(2*I*pi*omega*(alpha - 2*pi*n + tau))*sign(omega), (omega, -oo, oo)), I/(pi*(alpha - 2*pi*n + tau)))"
      ]
     },
     "execution_count": 232,
     "metadata": {},
     "output_type": "execute_result"
    }
   ],
   "source": [
    "Eq(Integral(sign(omega)*exp(2*I*pi*omega*tau),(omega,-oo,oo)),I/tau/pi).subs(tau,tau+alpha-2*pi*n)"
   ]
  },
  {
   "cell_type": "markdown",
   "metadata": {},
   "source": [
    "the below fpole is in the lower half plane with negative imaginary part:"
   ]
  },
  {
   "cell_type": "code",
   "execution_count": 252,
   "metadata": {},
   "outputs": [
    {
     "data": {
      "text/latex": [
       "$\\displaystyle \\int\\limits_{-\\infty}^{\\infty} e^{2 i \\pi \\omega \\tau} e^{- 2 i \\pi \\omega {fpole}_{k}} \\theta\\left(\\omega\\right)\\, d\\omega = \\frac{i}{2 \\pi \\left(\\tau - {fpole}_{k}\\right)}$"
      ],
      "text/plain": [
       "Eq(Integral(exp(2*I*pi*omega*tau)*exp(-2*I*pi*omega*fpole[k])*Heaviside(omega), (omega, -oo, oo)), I/(2*pi*(tau - fpole[k])))"
      ]
     },
     "execution_count": 252,
     "metadata": {},
     "output_type": "execute_result"
    }
   ],
   "source": [
    "Eq(Integral(Heaviside(omega)*exp(-2*I*pi*omega*fpole[k])*exp(2*I*pi*omega*tau),(omega,-oo,oo)),\n",
    "   I/(2*pi*(tau - fpole[k]))\n",
    ")"
   ]
  },
  {
   "cell_type": "markdown",
   "metadata": {},
   "source": [
    "the below fpole is in the upper half plane with positive imaginary part:"
   ]
  },
  {
   "cell_type": "code",
   "execution_count": 276,
   "metadata": {},
   "outputs": [
    {
     "data": {
      "text/latex": [
       "$\\displaystyle \\int\\limits_{-\\infty}^{\\infty} e^{2 i \\pi \\omega \\tau} e^{- 2 i \\pi \\omega {fpole}_{k}} \\theta\\left(- \\omega\\right)\\, d\\omega = - \\frac{i}{2 \\pi \\left(\\tau - {fpole}_{k}\\right)}$"
      ],
      "text/plain": [
       "Eq(Integral(exp(2*I*pi*omega*tau)*exp(-2*I*pi*omega*fpole[k])*Heaviside(-omega), (omega, -oo, oo)), -I/(2*pi*(tau - fpole[k])))"
      ]
     },
     "execution_count": 276,
     "metadata": {},
     "output_type": "execute_result"
    }
   ],
   "source": [
    "Eq(Integral(Heaviside(-omega)*exp(-2*I*pi*omega*fpole[k])*exp(2*I*pi*omega*tau),(omega,-oo,oo)),\n",
    "   -I/(2*pi*(tau -fpole[k]))\n",
    "  )"
   ]
  },
  {
   "cell_type": "markdown",
   "metadata": {},
   "source": [
    "Therefore, putting it all together:"
   ]
  },
  {
   "cell_type": "code",
   "execution_count": 34,
   "metadata": {},
   "outputs": [
    {
     "data": {
      "text/latex": [
       "$\\displaystyle \\frac{f{\\left(\\tau \\right)}}{1 - e^{i \\left(\\alpha + \\tau\\right)}} = \\pi \\sum_{n=-\\infty}^{\\infty} f{\\left(- \\alpha + 2 \\pi n \\right)} \\int\\limits_{-\\infty}^{\\infty} e^{2 i \\pi \\omega \\tau} e^{- 2 i \\pi \\omega \\left(- \\alpha + 2 \\pi n\\right)} \\operatorname{sign}{\\left(\\omega \\right)}\\, d\\omega + 2 i \\pi \\sum_{k=0}^{Nfupperpoles} \\frac{\\operatorname{Resf}{\\left({fpole}_{k} \\right)} \\int\\limits_{-\\infty}^{\\infty} e^{2 i \\pi \\omega \\tau} e^{- 2 i \\pi \\omega {fpole}_{k}} \\theta\\left(- \\omega\\right)\\, d\\omega}{1 - e^{i \\left(\\alpha + {fpole}_{k}\\right)}} - 2 i \\pi \\sum_{k=0}^{Nflowerpoles} \\frac{\\operatorname{Resf}{\\left({fpole}_{k} \\right)} \\int\\limits_{-\\infty}^{\\infty} e^{2 i \\pi \\omega \\tau} e^{- 2 i \\pi \\omega {fpole}_{k}} \\theta\\left(\\omega\\right)\\, d\\omega}{1 - e^{i \\left(\\alpha + {fpole}_{k}\\right)}}$"
      ],
      "text/plain": [
       "Eq(f(tau)/(1 - exp(I*(alpha + tau))), pi*Sum(f(-alpha + 2*pi*n)*Integral(exp(2*I*pi*omega*tau)*exp(-2*I*pi*omega*(-alpha + 2*pi*n))*sign(omega), (omega, -oo, oo)), (n, -oo, oo)) + 2*I*pi*Sum(Resf(fpole[k])*Integral(exp(2*I*pi*omega*tau)*exp(-2*I*pi*omega*fpole[k])*Heaviside(-omega), (omega, -oo, oo))/(1 - exp(I*(alpha + fpole[k]))), (k, 0, Nfupperpoles)) - 2*I*pi*Sum(Resf(fpole[k])*Integral(exp(2*I*pi*omega*tau)*exp(-2*I*pi*omega*fpole[k])*Heaviside(omega), (omega, -oo, oo))/(1 - exp(I*(alpha + fpole[k]))), (k, 0, Nflowerpoles)))"
      ]
     },
     "execution_count": 34,
     "metadata": {},
     "output_type": "execute_result"
    }
   ],
   "source": [
    "Eq(f(tau)/(1-exp(I*(alpha+tau))), \n",
    "    - 2*pi*I*Sum(\n",
    "        Resf(fpole[k])/(1 - exp(I*(alpha + fpole[k])))*Integral(\n",
    "            Heaviside(omega)*exp(-2*I*pi*omega*fpole[k])*exp(2*I*pi*omega*tau),(omega,-oo,oo)\n",
    "        ),(k,0,Nflowerpoles)) \n",
    "    + 2*pi*I*Sum(\n",
    "        Resf(fpole[k])/(1 - exp(I*(alpha + fpole[k])))*Integral(\n",
    "            Heaviside(-omega)*exp(-2*I*pi*omega*fpole[k])*exp(2*I*pi*omega*tau),(omega,-oo,oo)\n",
    "        ),(k,0,Nfupperpoles))\n",
    "    + pi*Sum(f(2*pi*n-alpha)*Integral(\n",
    "        sign(omega)*exp(-2*I*pi*omega*(2*pi*n-alpha))*exp(2*I*pi*omega*tau),(omega,-oo,oo)\n",
    "    ),(n,-oo,oo))\n",
    ")"
   ]
  },
  {
   "cell_type": "code",
   "execution_count": 294,
   "metadata": {},
   "outputs": [
    {
     "data": {
      "text/latex": [
       "$\\displaystyle \\frac{f{\\left(\\tau \\right)}}{1 - e^{i \\left(\\alpha + \\tau\\right)}} = \\sum_{n=-\\infty}^{\\infty} \\frac{i f{\\left(- \\alpha + 2 \\pi n \\right)}}{\\alpha - 2 \\pi n + \\tau} + \\sum_{k=0}^{Nflowerpoles} \\frac{\\operatorname{Resf}{\\left({fpole}_{k} \\right)}}{\\left(1 - e^{i \\left(\\alpha + {fpole}_{k}\\right)}\\right) \\left(\\tau - {fpole}_{k}\\right)} + \\sum_{k=0}^{Nfupperpoles} \\frac{\\operatorname{Resf}{\\left({fpole}_{k} \\right)}}{\\left(1 - e^{i \\left(\\alpha + {fpole}_{k}\\right)}\\right) \\left(\\tau - {fpole}_{k}\\right)}$"
      ],
      "text/plain": [
       "Eq(f(tau)/(1 - exp(I*(alpha + tau))), Sum(I*f(-alpha + 2*pi*n)/(alpha - 2*pi*n + tau), (n, -oo, oo)) + Sum(Resf(fpole[k])/((1 - exp(I*(alpha + fpole[k])))*(tau - fpole[k])), (k, 0, Nflowerpoles)) + Sum(Resf(fpole[k])/((1 - exp(I*(alpha + fpole[k])))*(tau - fpole[k])), (k, 0, Nfupperpoles)))"
      ]
     },
     "execution_count": 294,
     "metadata": {},
     "output_type": "execute_result"
    }
   ],
   "source": [
    "Eq(f(tau)/(1-exp(I*(alpha+tau))), \n",
    "    Sum(Resf(fpole[k])/(1 - exp(I*(alpha + fpole[k])))/(tau - fpole[k]),(k,0,Nflowerpoles)) \n",
    "    + Sum(Resf(fpole[k])/(1 - exp(I*(alpha + fpole[k])))/(tau -fpole[k]),(k,0,Nfupperpoles))\n",
    "    + Sum(f(2*pi*n-alpha)*(I/(tau+alpha-2*pi*n)),(n,-oo,oo))\n",
    ")"
   ]
  },
  {
   "cell_type": "code",
   "execution_count": 295,
   "metadata": {},
   "outputs": [
    {
     "data": {
      "text/latex": [
       "$\\displaystyle \\frac{f{\\left(\\tau \\right)}}{1 - e^{i \\left(\\alpha + \\tau\\right)}} = \\sum_{n=-\\infty}^{\\infty} \\frac{i f{\\left(- \\alpha + 2 \\pi n \\right)}}{\\alpha - 2 \\pi n + \\tau} + \\sum_{k=0}^{Nfpoles} \\frac{\\operatorname{Resf}{\\left({fpole}_{k} \\right)}}{\\left(1 - e^{i \\left(\\alpha + {fpole}_{k}\\right)}\\right) \\left(\\tau - {fpole}_{k}\\right)}$"
      ],
      "text/plain": [
       "Eq(f(tau)/(1 - exp(I*(alpha + tau))), Sum(I*f(-alpha + 2*pi*n)/(alpha - 2*pi*n + tau), (n, -oo, oo)) + Sum(Resf(fpole[k])/((1 - exp(I*(alpha + fpole[k])))*(tau - fpole[k])), (k, 0, Nfpoles)))"
      ]
     },
     "execution_count": 295,
     "metadata": {},
     "output_type": "execute_result"
    }
   ],
   "source": [
    "Eq(f(tau)/(1-exp(I*(alpha+tau))), \n",
    "    Sum(Resf(fpole[k])/(1 - exp(I*(alpha + fpole[k])))/(tau -fpole[k]),(k,0,Nfpoles))\n",
    "    + Sum(f(2*pi*n-alpha)*(I/(tau+alpha-2*pi*n)),(n,-oo,oo))\n",
    ")"
   ]
  },
  {
   "cell_type": "code",
   "execution_count": 297,
   "metadata": {},
   "outputs": [
    {
     "data": {
      "text/latex": [
       "$\\displaystyle f{\\left(\\tau \\right)} = \\left(1 - e^{i \\left(\\alpha + \\tau\\right)}\\right) \\sum_{n=-\\infty}^{\\infty} \\frac{i f{\\left(- \\alpha + 2 \\pi n \\right)}}{\\alpha - 2 \\pi n + \\tau} + \\left(1 - e^{i \\left(\\alpha + \\tau\\right)}\\right) \\sum_{k=0}^{Nfpoles} \\frac{\\operatorname{Resf}{\\left({fpole}_{k} \\right)}}{\\left(1 - e^{i \\left(\\alpha + {fpole}_{k}\\right)}\\right) \\left(\\tau - {fpole}_{k}\\right)}$"
      ],
      "text/plain": [
       "Eq(f(tau), (1 - exp(I*(alpha + tau)))*Sum(I*f(-alpha + 2*pi*n)/(alpha - 2*pi*n + tau), (n, -oo, oo)) + (1 - exp(I*(alpha + tau)))*Sum(Resf(fpole[k])/((1 - exp(I*(alpha + fpole[k])))*(tau - fpole[k])), (k, 0, Nfpoles)))"
      ]
     },
     "execution_count": 297,
     "metadata": {},
     "output_type": "execute_result"
    }
   ],
   "source": [
    "Eq(f(tau), \n",
    "    (1-exp(I*(alpha+tau)))*Sum(Resf(fpole[k])/(1 - exp(I*(alpha + fpole[k])))/(tau -fpole[k]),(k,0,Nfpoles))\n",
    "    + (1-exp(I*(alpha+tau)))*Sum(f(2*pi*n-alpha)*(I/(tau+alpha-2*pi*n)),(n,-oo,oo))\n",
    ")"
   ]
  },
  {
   "cell_type": "markdown",
   "metadata": {},
   "source": [
    "## Numerical Tests of Examples"
   ]
  },
  {
   "cell_type": "markdown",
   "metadata": {},
   "source": [
    "### Testing the series expansion of G in the frequency domain"
   ]
  },
  {
   "cell_type": "code",
   "execution_count": 101,
   "metadata": {},
   "outputs": [],
   "source": [
    "def f_residue_sum_frequency(_f, f_poles):\n",
    "    residues = sum([2*pi*I*residue(_f,z,p)*exp(-2*I*pi*omega*p)/(1 - exp(I*(alpha + p))) for p in f_poles])\n",
    "    return residues\n",
    "\n",
    "def exp_denom_residue_sum_frequency(_f, N):\n",
    "    residues = pi*sign(omega)*Sum(_f.subs(z,2*pi*n-alpha)*exp(-2*I*pi*omega*(2*pi*n-alpha)),(n,-N,N))\n",
    "    return residues\n",
    "\n",
    "def G_series_expansion(_f, f_poles_upper, f_poles_lower, N):\n",
    "    exp_res = exp_denom_residue_sum_frequency(_f, N)\n",
    "    series_expansion = exp_res\n",
    "    if len(f_poles_upper):\n",
    "        f_res_upper = f_residue_sum_frequency(_f, f_poles_upper)\n",
    "        series_expansion += Heaviside(-omega)*f_res_upper\n",
    "    if len(f_poles_lower):\n",
    "        f_res_lower = f_residue_sum_frequency(_f, f_poles_lower)\n",
    "        series_expansion -= Heaviside(omega)*f_res_lower\n",
    "    return series_expansion"
   ]
  },
  {
   "cell_type": "code",
   "execution_count": 102,
   "metadata": {},
   "outputs": [],
   "source": [
    "def pv_integration_limits(R, epsilon, alpha):\n",
    "    N = floor(R)\n",
    "    n_low = int((-R+alpha)/2/pi)\n",
    "    n_high = int((R+alpha)/2/pi)\n",
    "    poles = [(-alpha+2*pi*n).evalf() for n in range(n_low, n_high+1)]\n",
    "    pv_limits = [-R]\n",
    "    for p in poles:\n",
    "        pv_limits.append(p-epsilon)\n",
    "        pv_limits.append(p+epsilon)\n",
    "    pv_limits.append(R)\n",
    "    return pv_limits\n",
    "\n",
    "def principal_value(R, _omega, _alpha, _epsilon, integrand_function):\n",
    "    integral_limits = pv_integration_limits(R, _epsilon, _alpha)\n",
    "    integral_pvs = [\n",
    "        Integral(\n",
    "            integrand_function, \n",
    "            (tau, integral_limits[2*i], integral_limits[2*i+1])\n",
    "        ).subs([(omega,_omega),(alpha, _alpha)]) #.evalf()\n",
    "    for i in range(int(len(integral_limits)/2))]\n",
    "    return sum(integral_pvs)\n",
    "\n",
    "def G_integral_principal_value(R, _omega, _alpha, _epsilon, f_z_example_1):\n",
    "    return principal_value(R, _omega, _alpha, _epsilon, G_integrand_tau.subs([(f(tau),f_z_example_1.subs(z,tau))])).evalf()"
   ]
  },
  {
   "cell_type": "code",
   "execution_count": 124,
   "metadata": {},
   "outputs": [
    {
     "data": {
      "text/latex": [
       "$\\displaystyle \\frac{\\log{\\left(- \\mu + z \\right)} - \\log{\\left(- \\nu + z \\right)}}{\\left(\\kappa^{2} + z^{2}\\right) \\left(z^{2} + 1\\right)}$"
      ],
      "text/plain": [
       "(log(-mu + z) - log(-nu + z))/((kappa**2 + z**2)*(z**2 + 1))"
      ]
     },
     "execution_count": 124,
     "metadata": {},
     "output_type": "execute_result"
    }
   ],
   "source": [
    "f_z_example_1 = (ln(z - mu) - ln(z - nu))/(kappa**2+z**2)/(z**2+1)\n",
    "# if re(kappa) > 0\n",
    "f_z_example_1_upper_poles = [I*kappa,I]\n",
    "f_z_example_1_lower_poles = [-I*kappa,-I]\n",
    "f_z_example_1_all_poles = f_z_example_1_upper_poles + f_z_example_1_lower_poles\n",
    "# if re(kappa) < 0\n",
    "# f_z_example_1_upper_poles = [-I*kappa]\n",
    "# f_z_example_1_lower_poles = [I*kappa]\n",
    "f_z_example_1"
   ]
  },
  {
   "cell_type": "code",
   "execution_count": 125,
   "metadata": {},
   "outputs": [
    {
     "data": {
      "text/latex": [
       "$\\displaystyle - \\left(\\frac{2 i \\pi \\left(\\frac{i \\log{\\left(- i \\kappa - \\mu \\right)}}{2 \\kappa \\left(1 - \\kappa^{2}\\right)} - \\frac{i \\log{\\left(- i \\kappa - \\nu \\right)}}{2 \\kappa \\left(1 - \\kappa^{2}\\right)}\\right) e^{- 2 \\pi \\kappa \\omega}}{1 - e^{i \\left(\\alpha - i \\kappa\\right)}} + \\frac{2 i \\pi \\left(\\frac{i \\log{\\left(- \\mu - i \\right)}}{2 \\left(\\kappa^{2} - 1\\right)} - \\frac{i \\log{\\left(- \\nu - i \\right)}}{2 \\left(\\kappa^{2} - 1\\right)}\\right) e^{- 2 \\pi \\omega}}{1 - e^{i \\left(\\alpha - i\\right)}}\\right) \\theta\\left(\\omega\\right) + \\left(\\frac{2 i \\pi \\left(- \\frac{i \\log{\\left(i \\kappa - \\mu \\right)}}{2 \\kappa \\left(1 - \\kappa^{2}\\right)} + \\frac{i \\log{\\left(i \\kappa - \\nu \\right)}}{2 \\kappa \\left(1 - \\kappa^{2}\\right)}\\right) e^{2 \\pi \\kappa \\omega}}{1 - e^{i \\left(\\alpha + i \\kappa\\right)}} + \\frac{2 i \\pi \\left(- \\frac{i \\log{\\left(- \\mu + i \\right)}}{2 \\left(\\kappa^{2} - 1\\right)} + \\frac{i \\log{\\left(- \\nu + i \\right)}}{2 \\left(\\kappa^{2} - 1\\right)}\\right) e^{2 \\pi \\omega}}{1 - e^{i \\left(\\alpha + i\\right)}}\\right) \\theta\\left(- \\omega\\right) + \\pi \\operatorname{sign}{\\left(\\omega \\right)} \\sum_{n=- N}^{N} \\frac{\\left(\\log{\\left(- \\alpha - \\mu + 2 \\pi n \\right)} - \\log{\\left(- \\alpha + 2 \\pi n - \\nu \\right)}\\right) e^{- 2 i \\pi \\omega \\left(- \\alpha + 2 \\pi n\\right)}}{\\left(\\kappa^{2} + \\left(- \\alpha + 2 \\pi n\\right)^{2}\\right) \\left(\\left(- \\alpha + 2 \\pi n\\right)^{2} + 1\\right)}$"
      ],
      "text/plain": [
       "-(2*I*pi*(I*log(-I*kappa - mu)/(2*kappa*(1 - kappa**2)) - I*log(-I*kappa - nu)/(2*kappa*(1 - kappa**2)))*exp(-2*pi*kappa*omega)/(1 - exp(I*(alpha - I*kappa))) + 2*I*pi*(I*log(-mu - I)/(2*(kappa**2 - 1)) - I*log(-nu - I)/(2*(kappa**2 - 1)))*exp(-2*pi*omega)/(1 - exp(I*(alpha - I))))*Heaviside(omega) + (2*I*pi*(-I*log(I*kappa - mu)/(2*kappa*(1 - kappa**2)) + I*log(I*kappa - nu)/(2*kappa*(1 - kappa**2)))*exp(2*pi*kappa*omega)/(1 - exp(I*(alpha + I*kappa))) + 2*I*pi*(-I*log(-mu + I)/(2*(kappa**2 - 1)) + I*log(-nu + I)/(2*(kappa**2 - 1)))*exp(2*pi*omega)/(1 - exp(I*(alpha + I))))*Heaviside(-omega) + pi*sign(omega)*Sum((log(-alpha - mu + 2*pi*n) - log(-alpha + 2*pi*n - nu))*exp(-2*I*pi*omega*(-alpha + 2*pi*n))/((kappa**2 + (-alpha + 2*pi*n)**2)*((-alpha + 2*pi*n)**2 + 1)), (n, -N, N))"
      ]
     },
     "execution_count": 125,
     "metadata": {},
     "output_type": "execute_result"
    }
   ],
   "source": [
    "G_series_expansion(f_z_example_1, f_z_example_1_upper_poles, f_z_example_1_lower_poles, N)"
   ]
  },
  {
   "cell_type": "code",
   "execution_count": 128,
   "metadata": {},
   "outputs": [],
   "source": [
    "test_vals = {\n",
    "    \"omega\": -1.03,\n",
    "    \"alpha\": pi/4,\n",
    "    \"kappa\": 2.1,\n",
    "    \"N\": 20,\n",
    "    \"R\": 100,\n",
    "    \"epsilon\": 1e-12,\n",
    "    \"mu\": -1.5*exp(1),\n",
    "    \"nu\": -3*pi*exp(2)\n",
    "}"
   ]
  },
  {
   "cell_type": "code",
   "execution_count": 129,
   "metadata": {},
   "outputs": [
    {
     "data": {
      "text/latex": [
       "$\\displaystyle 0.413666794541186 + 1.08671933781916 i$"
      ],
      "text/plain": [
       "0.413666794541186 + 1.08671933781916*I"
      ]
     },
     "execution_count": 129,
     "metadata": {},
     "output_type": "execute_result"
    }
   ],
   "source": [
    "(G_series_expansion(f_z_example_1, f_z_example_1_upper_poles, f_z_example_1_lower_poles, N)\n",
    " .subs([(omega, test_vals[\"omega\"]),(alpha, test_vals[\"alpha\"]),(kappa, test_vals[\"kappa\"]),(N, test_vals[\"N\"]),\n",
    "       (mu, test_vals[\"mu\"]), (nu, test_vals[\"nu\"])])\n",
    ").evalf()"
   ]
  },
  {
   "cell_type": "code",
   "execution_count": 122,
   "metadata": {},
   "outputs": [],
   "source": [
    "#principal_value(10, omega, 0, 0.003, G_integrand_tau.subs([(f(tau),f_z_example_1.subs(z,tau))]))"
   ]
  },
  {
   "cell_type": "code",
   "execution_count": 132,
   "metadata": {},
   "outputs": [
    {
     "ename": "KeyboardInterrupt",
     "evalue": "",
     "output_type": "error",
     "traceback": [
      "\u001b[0;31m---------------------------------------------------------------------------\u001b[0m",
      "\u001b[0;31mKeyboardInterrupt\u001b[0m                         Traceback (most recent call last)",
      "\u001b[0;32m<ipython-input-132-dfb8ee997fbc>\u001b[0m in \u001b[0;36m<module>\u001b[0;34m\u001b[0m\n\u001b[0;32m----> 1\u001b[0;31m G_integral_principal_value(\n\u001b[0m\u001b[1;32m      2\u001b[0m     \u001b[0mtest_vals\u001b[0m\u001b[0;34m[\u001b[0m\u001b[0;34m\"R\"\u001b[0m\u001b[0;34m]\u001b[0m\u001b[0;34m,\u001b[0m \u001b[0mtest_vals\u001b[0m\u001b[0;34m[\u001b[0m\u001b[0;34m\"omega\"\u001b[0m\u001b[0;34m]\u001b[0m\u001b[0;34m,\u001b[0m \u001b[0mtest_vals\u001b[0m\u001b[0;34m[\u001b[0m\u001b[0;34m\"alpha\"\u001b[0m\u001b[0;34m]\u001b[0m\u001b[0;34m,\u001b[0m \u001b[0mtest_vals\u001b[0m\u001b[0;34m[\u001b[0m\u001b[0;34m\"epsilon\"\u001b[0m\u001b[0;34m]\u001b[0m\u001b[0;34m,\u001b[0m\u001b[0;34m\u001b[0m\u001b[0;34m\u001b[0m\u001b[0m\n\u001b[1;32m      3\u001b[0m     \u001b[0mf_z_example_1\u001b[0m\u001b[0;34m.\u001b[0m\u001b[0msubs\u001b[0m\u001b[0;34m(\u001b[0m\u001b[0;34m[\u001b[0m\u001b[0;34m(\u001b[0m\u001b[0mkappa\u001b[0m\u001b[0;34m,\u001b[0m \u001b[0mtest_vals\u001b[0m\u001b[0;34m[\u001b[0m\u001b[0;34m\"kappa\"\u001b[0m\u001b[0;34m]\u001b[0m\u001b[0;34m)\u001b[0m\u001b[0;34m,\u001b[0m\u001b[0;34m(\u001b[0m\u001b[0mmu\u001b[0m\u001b[0;34m,\u001b[0m \u001b[0mtest_vals\u001b[0m\u001b[0;34m[\u001b[0m\u001b[0;34m\"mu\"\u001b[0m\u001b[0;34m]\u001b[0m\u001b[0;34m)\u001b[0m\u001b[0;34m,\u001b[0m \u001b[0;34m(\u001b[0m\u001b[0mnu\u001b[0m\u001b[0;34m,\u001b[0m \u001b[0mtest_vals\u001b[0m\u001b[0;34m[\u001b[0m\u001b[0;34m\"nu\"\u001b[0m\u001b[0;34m]\u001b[0m\u001b[0;34m)\u001b[0m\u001b[0;34m]\u001b[0m\u001b[0;34m)\u001b[0m\u001b[0;34m\u001b[0m\u001b[0;34m\u001b[0m\u001b[0m\n\u001b[1;32m      4\u001b[0m )\n",
      "\u001b[0;32m<ipython-input-102-7d70e86687e4>\u001b[0m in \u001b[0;36mG_integral_principal_value\u001b[0;34m(R, _omega, _alpha, _epsilon, f_z_example_1)\u001b[0m\n\u001b[1;32m     22\u001b[0m \u001b[0;34m\u001b[0m\u001b[0m\n\u001b[1;32m     23\u001b[0m \u001b[0;32mdef\u001b[0m \u001b[0mG_integral_principal_value\u001b[0m\u001b[0;34m(\u001b[0m\u001b[0mR\u001b[0m\u001b[0;34m,\u001b[0m \u001b[0m_omega\u001b[0m\u001b[0;34m,\u001b[0m \u001b[0m_alpha\u001b[0m\u001b[0;34m,\u001b[0m \u001b[0m_epsilon\u001b[0m\u001b[0;34m,\u001b[0m \u001b[0mf_z_example_1\u001b[0m\u001b[0;34m)\u001b[0m\u001b[0;34m:\u001b[0m\u001b[0;34m\u001b[0m\u001b[0;34m\u001b[0m\u001b[0m\n\u001b[0;32m---> 24\u001b[0;31m     \u001b[0;32mreturn\u001b[0m \u001b[0mprincipal_value\u001b[0m\u001b[0;34m(\u001b[0m\u001b[0mR\u001b[0m\u001b[0;34m,\u001b[0m \u001b[0m_omega\u001b[0m\u001b[0;34m,\u001b[0m \u001b[0m_alpha\u001b[0m\u001b[0;34m,\u001b[0m \u001b[0m_epsilon\u001b[0m\u001b[0;34m,\u001b[0m \u001b[0mG_integrand_tau\u001b[0m\u001b[0;34m.\u001b[0m\u001b[0msubs\u001b[0m\u001b[0;34m(\u001b[0m\u001b[0;34m[\u001b[0m\u001b[0;34m(\u001b[0m\u001b[0mf\u001b[0m\u001b[0;34m(\u001b[0m\u001b[0mtau\u001b[0m\u001b[0;34m)\u001b[0m\u001b[0;34m,\u001b[0m\u001b[0mf_z_example_1\u001b[0m\u001b[0;34m.\u001b[0m\u001b[0msubs\u001b[0m\u001b[0;34m(\u001b[0m\u001b[0mz\u001b[0m\u001b[0;34m,\u001b[0m\u001b[0mtau\u001b[0m\u001b[0;34m)\u001b[0m\u001b[0;34m)\u001b[0m\u001b[0;34m]\u001b[0m\u001b[0;34m)\u001b[0m\u001b[0;34m)\u001b[0m\u001b[0;34m.\u001b[0m\u001b[0mevalf\u001b[0m\u001b[0;34m(\u001b[0m\u001b[0;34m)\u001b[0m\u001b[0;34m\u001b[0m\u001b[0;34m\u001b[0m\u001b[0m\n\u001b[0m",
      "\u001b[0;32m~/.local/lib/python3.8/site-packages/sympy/core/evalf.py\u001b[0m in \u001b[0;36mevalf\u001b[0;34m(self, n, subs, maxn, chop, strict, quad, verbose)\u001b[0m\n\u001b[1;32m   1512\u001b[0m             \u001b[0moptions\u001b[0m\u001b[0;34m[\u001b[0m\u001b[0;34m'quad'\u001b[0m\u001b[0;34m]\u001b[0m \u001b[0;34m=\u001b[0m \u001b[0mquad\u001b[0m\u001b[0;34m\u001b[0m\u001b[0;34m\u001b[0m\u001b[0m\n\u001b[1;32m   1513\u001b[0m         \u001b[0;32mtry\u001b[0m\u001b[0;34m:\u001b[0m\u001b[0;34m\u001b[0m\u001b[0;34m\u001b[0m\u001b[0m\n\u001b[0;32m-> 1514\u001b[0;31m             \u001b[0mresult\u001b[0m \u001b[0;34m=\u001b[0m \u001b[0mevalf\u001b[0m\u001b[0;34m(\u001b[0m\u001b[0mself\u001b[0m\u001b[0;34m,\u001b[0m \u001b[0mprec\u001b[0m \u001b[0;34m+\u001b[0m \u001b[0;36m4\u001b[0m\u001b[0;34m,\u001b[0m \u001b[0moptions\u001b[0m\u001b[0;34m)\u001b[0m\u001b[0;34m\u001b[0m\u001b[0;34m\u001b[0m\u001b[0m\n\u001b[0m\u001b[1;32m   1515\u001b[0m         \u001b[0;32mexcept\u001b[0m \u001b[0mNotImplementedError\u001b[0m\u001b[0;34m:\u001b[0m\u001b[0;34m\u001b[0m\u001b[0;34m\u001b[0m\u001b[0m\n\u001b[1;32m   1516\u001b[0m             \u001b[0;31m# Fall back to the ordinary evalf\u001b[0m\u001b[0;34m\u001b[0m\u001b[0;34m\u001b[0m\u001b[0;34m\u001b[0m\u001b[0m\n",
      "\u001b[0;32m~/.local/lib/python3.8/site-packages/sympy/core/evalf.py\u001b[0m in \u001b[0;36mevalf\u001b[0;34m(x, prec, options)\u001b[0m\n\u001b[1;32m   1364\u001b[0m     \u001b[0;32mtry\u001b[0m\u001b[0;34m:\u001b[0m\u001b[0;34m\u001b[0m\u001b[0;34m\u001b[0m\u001b[0m\n\u001b[1;32m   1365\u001b[0m         \u001b[0mrf\u001b[0m \u001b[0;34m=\u001b[0m \u001b[0mevalf_table\u001b[0m\u001b[0;34m[\u001b[0m\u001b[0mx\u001b[0m\u001b[0;34m.\u001b[0m\u001b[0mfunc\u001b[0m\u001b[0;34m]\u001b[0m\u001b[0;34m\u001b[0m\u001b[0;34m\u001b[0m\u001b[0m\n\u001b[0;32m-> 1366\u001b[0;31m         \u001b[0mr\u001b[0m \u001b[0;34m=\u001b[0m \u001b[0mrf\u001b[0m\u001b[0;34m(\u001b[0m\u001b[0mx\u001b[0m\u001b[0;34m,\u001b[0m \u001b[0mprec\u001b[0m\u001b[0;34m,\u001b[0m \u001b[0moptions\u001b[0m\u001b[0;34m)\u001b[0m\u001b[0;34m\u001b[0m\u001b[0;34m\u001b[0m\u001b[0m\n\u001b[0m\u001b[1;32m   1367\u001b[0m     \u001b[0;32mexcept\u001b[0m \u001b[0mKeyError\u001b[0m\u001b[0;34m:\u001b[0m\u001b[0;34m\u001b[0m\u001b[0;34m\u001b[0m\u001b[0m\n\u001b[1;32m   1368\u001b[0m         \u001b[0;31m# Fall back to ordinary evalf if possible\u001b[0m\u001b[0;34m\u001b[0m\u001b[0;34m\u001b[0m\u001b[0;34m\u001b[0m\u001b[0m\n",
      "\u001b[0;32m~/.local/lib/python3.8/site-packages/sympy/core/evalf.py\u001b[0m in \u001b[0;36mevalf_add\u001b[0;34m(v, prec, options)\u001b[0m\n\u001b[1;32m    532\u001b[0m         \u001b[0moptions\u001b[0m\u001b[0;34m[\u001b[0m\u001b[0;34m'maxprec'\u001b[0m\u001b[0;34m]\u001b[0m \u001b[0;34m=\u001b[0m \u001b[0mmin\u001b[0m\u001b[0;34m(\u001b[0m\u001b[0moldmaxprec\u001b[0m\u001b[0;34m,\u001b[0m \u001b[0;36m2\u001b[0m\u001b[0;34m*\u001b[0m\u001b[0mprec\u001b[0m\u001b[0;34m)\u001b[0m\u001b[0;34m\u001b[0m\u001b[0;34m\u001b[0m\u001b[0m\n\u001b[1;32m    533\u001b[0m \u001b[0;34m\u001b[0m\u001b[0m\n\u001b[0;32m--> 534\u001b[0;31m         \u001b[0mterms\u001b[0m \u001b[0;34m=\u001b[0m \u001b[0;34m[\u001b[0m\u001b[0mevalf\u001b[0m\u001b[0;34m(\u001b[0m\u001b[0marg\u001b[0m\u001b[0;34m,\u001b[0m \u001b[0mprec\u001b[0m \u001b[0;34m+\u001b[0m \u001b[0;36m10\u001b[0m\u001b[0;34m,\u001b[0m \u001b[0moptions\u001b[0m\u001b[0;34m)\u001b[0m \u001b[0;32mfor\u001b[0m \u001b[0marg\u001b[0m \u001b[0;32min\u001b[0m \u001b[0mv\u001b[0m\u001b[0;34m.\u001b[0m\u001b[0margs\u001b[0m\u001b[0;34m]\u001b[0m\u001b[0;34m\u001b[0m\u001b[0;34m\u001b[0m\u001b[0m\n\u001b[0m\u001b[1;32m    535\u001b[0m         re, re_acc = add_terms(\n\u001b[1;32m    536\u001b[0m             [a[0::2] for a in terms if a[0]], prec, target_prec)\n",
      "\u001b[0;32m~/.local/lib/python3.8/site-packages/sympy/core/evalf.py\u001b[0m in \u001b[0;36m<listcomp>\u001b[0;34m(.0)\u001b[0m\n\u001b[1;32m    532\u001b[0m         \u001b[0moptions\u001b[0m\u001b[0;34m[\u001b[0m\u001b[0;34m'maxprec'\u001b[0m\u001b[0;34m]\u001b[0m \u001b[0;34m=\u001b[0m \u001b[0mmin\u001b[0m\u001b[0;34m(\u001b[0m\u001b[0moldmaxprec\u001b[0m\u001b[0;34m,\u001b[0m \u001b[0;36m2\u001b[0m\u001b[0;34m*\u001b[0m\u001b[0mprec\u001b[0m\u001b[0;34m)\u001b[0m\u001b[0;34m\u001b[0m\u001b[0;34m\u001b[0m\u001b[0m\n\u001b[1;32m    533\u001b[0m \u001b[0;34m\u001b[0m\u001b[0m\n\u001b[0;32m--> 534\u001b[0;31m         \u001b[0mterms\u001b[0m \u001b[0;34m=\u001b[0m \u001b[0;34m[\u001b[0m\u001b[0mevalf\u001b[0m\u001b[0;34m(\u001b[0m\u001b[0marg\u001b[0m\u001b[0;34m,\u001b[0m \u001b[0mprec\u001b[0m \u001b[0;34m+\u001b[0m \u001b[0;36m10\u001b[0m\u001b[0;34m,\u001b[0m \u001b[0moptions\u001b[0m\u001b[0;34m)\u001b[0m \u001b[0;32mfor\u001b[0m \u001b[0marg\u001b[0m \u001b[0;32min\u001b[0m \u001b[0mv\u001b[0m\u001b[0;34m.\u001b[0m\u001b[0margs\u001b[0m\u001b[0;34m]\u001b[0m\u001b[0;34m\u001b[0m\u001b[0;34m\u001b[0m\u001b[0m\n\u001b[0m\u001b[1;32m    535\u001b[0m         re, re_acc = add_terms(\n\u001b[1;32m    536\u001b[0m             [a[0::2] for a in terms if a[0]], prec, target_prec)\n",
      "\u001b[0;32m~/.local/lib/python3.8/site-packages/sympy/core/evalf.py\u001b[0m in \u001b[0;36mevalf\u001b[0;34m(x, prec, options)\u001b[0m\n\u001b[1;32m   1364\u001b[0m     \u001b[0;32mtry\u001b[0m\u001b[0;34m:\u001b[0m\u001b[0;34m\u001b[0m\u001b[0;34m\u001b[0m\u001b[0m\n\u001b[1;32m   1365\u001b[0m         \u001b[0mrf\u001b[0m \u001b[0;34m=\u001b[0m \u001b[0mevalf_table\u001b[0m\u001b[0;34m[\u001b[0m\u001b[0mx\u001b[0m\u001b[0;34m.\u001b[0m\u001b[0mfunc\u001b[0m\u001b[0;34m]\u001b[0m\u001b[0;34m\u001b[0m\u001b[0;34m\u001b[0m\u001b[0m\n\u001b[0;32m-> 1366\u001b[0;31m         \u001b[0mr\u001b[0m \u001b[0;34m=\u001b[0m \u001b[0mrf\u001b[0m\u001b[0;34m(\u001b[0m\u001b[0mx\u001b[0m\u001b[0;34m,\u001b[0m \u001b[0mprec\u001b[0m\u001b[0;34m,\u001b[0m \u001b[0moptions\u001b[0m\u001b[0;34m)\u001b[0m\u001b[0;34m\u001b[0m\u001b[0;34m\u001b[0m\u001b[0m\n\u001b[0m\u001b[1;32m   1367\u001b[0m     \u001b[0;32mexcept\u001b[0m \u001b[0mKeyError\u001b[0m\u001b[0;34m:\u001b[0m\u001b[0;34m\u001b[0m\u001b[0;34m\u001b[0m\u001b[0m\n\u001b[1;32m   1368\u001b[0m         \u001b[0;31m# Fall back to ordinary evalf if possible\u001b[0m\u001b[0;34m\u001b[0m\u001b[0;34m\u001b[0m\u001b[0;34m\u001b[0m\u001b[0m\n",
      "\u001b[0;32m~/.local/lib/python3.8/site-packages/sympy/core/evalf.py\u001b[0m in \u001b[0;36mevalf_integral\u001b[0;34m(expr, prec, options)\u001b[0m\n\u001b[1;32m   1061\u001b[0m     \u001b[0mmaxprec\u001b[0m \u001b[0;34m=\u001b[0m \u001b[0moptions\u001b[0m\u001b[0;34m.\u001b[0m\u001b[0mget\u001b[0m\u001b[0;34m(\u001b[0m\u001b[0;34m'maxprec'\u001b[0m\u001b[0;34m,\u001b[0m \u001b[0mINF\u001b[0m\u001b[0;34m)\u001b[0m\u001b[0;34m\u001b[0m\u001b[0;34m\u001b[0m\u001b[0m\n\u001b[1;32m   1062\u001b[0m     \u001b[0;32mwhile\u001b[0m \u001b[0;36m1\u001b[0m\u001b[0;34m:\u001b[0m\u001b[0;34m\u001b[0m\u001b[0;34m\u001b[0m\u001b[0m\n\u001b[0;32m-> 1063\u001b[0;31m         \u001b[0mresult\u001b[0m \u001b[0;34m=\u001b[0m \u001b[0mdo_integral\u001b[0m\u001b[0;34m(\u001b[0m\u001b[0mexpr\u001b[0m\u001b[0;34m,\u001b[0m \u001b[0mworkprec\u001b[0m\u001b[0;34m,\u001b[0m \u001b[0moptions\u001b[0m\u001b[0;34m)\u001b[0m\u001b[0;34m\u001b[0m\u001b[0;34m\u001b[0m\u001b[0m\n\u001b[0m\u001b[1;32m   1064\u001b[0m         \u001b[0maccuracy\u001b[0m \u001b[0;34m=\u001b[0m \u001b[0mcomplex_accuracy\u001b[0m\u001b[0;34m(\u001b[0m\u001b[0mresult\u001b[0m\u001b[0;34m)\u001b[0m\u001b[0;34m\u001b[0m\u001b[0;34m\u001b[0m\u001b[0m\n\u001b[1;32m   1065\u001b[0m         \u001b[0;32mif\u001b[0m \u001b[0maccuracy\u001b[0m \u001b[0;34m>=\u001b[0m \u001b[0mprec\u001b[0m\u001b[0;34m:\u001b[0m  \u001b[0;31m# achieved desired precision\u001b[0m\u001b[0;34m\u001b[0m\u001b[0;34m\u001b[0m\u001b[0m\n",
      "\u001b[0;32m~/.local/lib/python3.8/site-packages/sympy/core/evalf.py\u001b[0m in \u001b[0;36mdo_integral\u001b[0;34m(expr, prec, options)\u001b[0m\n\u001b[1;32m   1020\u001b[0m             \u001b[0mquadrature_error\u001b[0m \u001b[0;34m=\u001b[0m \u001b[0mMINUS_INF\u001b[0m\u001b[0;34m\u001b[0m\u001b[0;34m\u001b[0m\u001b[0m\n\u001b[1;32m   1021\u001b[0m         \u001b[0;32melse\u001b[0m\u001b[0;34m:\u001b[0m\u001b[0;34m\u001b[0m\u001b[0;34m\u001b[0m\u001b[0m\n\u001b[0;32m-> 1022\u001b[0;31m             \u001b[0mresult\u001b[0m\u001b[0;34m,\u001b[0m \u001b[0mquadrature_error\u001b[0m \u001b[0;34m=\u001b[0m \u001b[0mquadts\u001b[0m\u001b[0;34m(\u001b[0m\u001b[0mf\u001b[0m\u001b[0;34m,\u001b[0m \u001b[0;34m[\u001b[0m\u001b[0mxlow\u001b[0m\u001b[0;34m,\u001b[0m \u001b[0mxhigh\u001b[0m\u001b[0;34m]\u001b[0m\u001b[0;34m,\u001b[0m \u001b[0merror\u001b[0m\u001b[0;34m=\u001b[0m\u001b[0;36m1\u001b[0m\u001b[0;34m)\u001b[0m\u001b[0;34m\u001b[0m\u001b[0;34m\u001b[0m\u001b[0m\n\u001b[0m\u001b[1;32m   1023\u001b[0m             \u001b[0mquadrature_error\u001b[0m \u001b[0;34m=\u001b[0m \u001b[0mfastlog\u001b[0m\u001b[0;34m(\u001b[0m\u001b[0mquadrature_error\u001b[0m\u001b[0;34m.\u001b[0m\u001b[0m_mpf_\u001b[0m\u001b[0;34m)\u001b[0m\u001b[0;34m\u001b[0m\u001b[0;34m\u001b[0m\u001b[0m\n\u001b[1;32m   1024\u001b[0m \u001b[0;34m\u001b[0m\u001b[0m\n",
      "\u001b[0;32m~/.local/lib/python3.8/site-packages/mpmath/calculus/quadrature.py\u001b[0m in \u001b[0;36mquadts\u001b[0;34m(ctx, *args, **kwargs)\u001b[0m\n\u001b[1;32m    786\u001b[0m         \"\"\"\n\u001b[1;32m    787\u001b[0m         \u001b[0mkwargs\u001b[0m\u001b[0;34m[\u001b[0m\u001b[0;34m'method'\u001b[0m\u001b[0;34m]\u001b[0m \u001b[0;34m=\u001b[0m \u001b[0;34m'tanh-sinh'\u001b[0m\u001b[0;34m\u001b[0m\u001b[0;34m\u001b[0m\u001b[0m\n\u001b[0;32m--> 788\u001b[0;31m         \u001b[0;32mreturn\u001b[0m \u001b[0mctx\u001b[0m\u001b[0;34m.\u001b[0m\u001b[0mquad\u001b[0m\u001b[0;34m(\u001b[0m\u001b[0;34m*\u001b[0m\u001b[0margs\u001b[0m\u001b[0;34m,\u001b[0m \u001b[0;34m**\u001b[0m\u001b[0mkwargs\u001b[0m\u001b[0;34m)\u001b[0m\u001b[0;34m\u001b[0m\u001b[0;34m\u001b[0m\u001b[0m\n\u001b[0m\u001b[1;32m    789\u001b[0m \u001b[0;34m\u001b[0m\u001b[0m\n\u001b[1;32m    790\u001b[0m     \u001b[0;32mdef\u001b[0m \u001b[0mquadgl\u001b[0m\u001b[0;34m(\u001b[0m\u001b[0mctx\u001b[0m\u001b[0;34m,\u001b[0m \u001b[0;34m*\u001b[0m\u001b[0margs\u001b[0m\u001b[0;34m,\u001b[0m \u001b[0;34m**\u001b[0m\u001b[0mkwargs\u001b[0m\u001b[0;34m)\u001b[0m\u001b[0;34m:\u001b[0m\u001b[0;34m\u001b[0m\u001b[0;34m\u001b[0m\u001b[0m\n",
      "\u001b[0;32m~/.local/lib/python3.8/site-packages/mpmath/calculus/quadrature.py\u001b[0m in \u001b[0;36mquad\u001b[0;34m(ctx, f, *points, **kwargs)\u001b[0m\n\u001b[1;32m    743\u001b[0m             \u001b[0mctx\u001b[0m\u001b[0;34m.\u001b[0m\u001b[0mprec\u001b[0m \u001b[0;34m+=\u001b[0m \u001b[0;36m20\u001b[0m\u001b[0;34m\u001b[0m\u001b[0;34m\u001b[0m\u001b[0m\n\u001b[1;32m    744\u001b[0m             \u001b[0;32mif\u001b[0m \u001b[0mdim\u001b[0m \u001b[0;34m==\u001b[0m \u001b[0;36m1\u001b[0m\u001b[0;34m:\u001b[0m\u001b[0;34m\u001b[0m\u001b[0;34m\u001b[0m\u001b[0m\n\u001b[0;32m--> 745\u001b[0;31m                 \u001b[0mv\u001b[0m\u001b[0;34m,\u001b[0m \u001b[0merr\u001b[0m \u001b[0;34m=\u001b[0m \u001b[0mrule\u001b[0m\u001b[0;34m.\u001b[0m\u001b[0msummation\u001b[0m\u001b[0;34m(\u001b[0m\u001b[0mf\u001b[0m\u001b[0;34m,\u001b[0m \u001b[0mpoints\u001b[0m\u001b[0;34m[\u001b[0m\u001b[0;36m0\u001b[0m\u001b[0;34m]\u001b[0m\u001b[0;34m,\u001b[0m \u001b[0mprec\u001b[0m\u001b[0;34m,\u001b[0m \u001b[0mepsilon\u001b[0m\u001b[0;34m,\u001b[0m \u001b[0mm\u001b[0m\u001b[0;34m,\u001b[0m \u001b[0mverbose\u001b[0m\u001b[0;34m)\u001b[0m\u001b[0;34m\u001b[0m\u001b[0;34m\u001b[0m\u001b[0m\n\u001b[0m\u001b[1;32m    746\u001b[0m             \u001b[0;32melif\u001b[0m \u001b[0mdim\u001b[0m \u001b[0;34m==\u001b[0m \u001b[0;36m2\u001b[0m\u001b[0;34m:\u001b[0m\u001b[0;34m\u001b[0m\u001b[0;34m\u001b[0m\u001b[0m\n\u001b[1;32m    747\u001b[0m                 v, err = rule.summation(lambda x: \\\n",
      "\u001b[0;32m~/.local/lib/python3.8/site-packages/mpmath/calculus/quadrature.py\u001b[0m in \u001b[0;36msummation\u001b[0;34m(self, f, points, prec, epsilon, max_degree, verbose)\u001b[0m\n\u001b[1;32m    231\u001b[0m                     print(\"Integrating from %s to %s (degree %s of %s)\" % \\\n\u001b[1;32m    232\u001b[0m                         (ctx.nstr(a), ctx.nstr(b), degree, max_degree))\n\u001b[0;32m--> 233\u001b[0;31m                 \u001b[0mresult\u001b[0m \u001b[0;34m=\u001b[0m \u001b[0mself\u001b[0m\u001b[0;34m.\u001b[0m\u001b[0msum_next\u001b[0m\u001b[0;34m(\u001b[0m\u001b[0mf\u001b[0m\u001b[0;34m,\u001b[0m \u001b[0mnodes\u001b[0m\u001b[0;34m,\u001b[0m \u001b[0mdegree\u001b[0m\u001b[0;34m,\u001b[0m \u001b[0mprec\u001b[0m\u001b[0;34m,\u001b[0m \u001b[0mresults\u001b[0m\u001b[0;34m,\u001b[0m \u001b[0mverbose\u001b[0m\u001b[0;34m)\u001b[0m\u001b[0;34m\u001b[0m\u001b[0;34m\u001b[0m\u001b[0m\n\u001b[0m\u001b[1;32m    234\u001b[0m                 \u001b[0mresults\u001b[0m\u001b[0;34m.\u001b[0m\u001b[0mappend\u001b[0m\u001b[0;34m(\u001b[0m\u001b[0mresult\u001b[0m\u001b[0;34m)\u001b[0m\u001b[0;34m\u001b[0m\u001b[0;34m\u001b[0m\u001b[0m\n\u001b[1;32m    235\u001b[0m                 \u001b[0;32mif\u001b[0m \u001b[0mdegree\u001b[0m \u001b[0;34m>\u001b[0m \u001b[0;36m1\u001b[0m\u001b[0;34m:\u001b[0m\u001b[0;34m\u001b[0m\u001b[0;34m\u001b[0m\u001b[0m\n",
      "\u001b[0;32m~/.local/lib/python3.8/site-packages/mpmath/calculus/quadrature.py\u001b[0m in \u001b[0;36msum_next\u001b[0;34m(self, f, nodes, degree, prec, previous, verbose)\u001b[0m\n\u001b[1;32m    305\u001b[0m         \u001b[0;32melse\u001b[0m\u001b[0;34m:\u001b[0m\u001b[0;34m\u001b[0m\u001b[0;34m\u001b[0m\u001b[0m\n\u001b[1;32m    306\u001b[0m             \u001b[0mS\u001b[0m \u001b[0;34m=\u001b[0m \u001b[0mself\u001b[0m\u001b[0;34m.\u001b[0m\u001b[0mctx\u001b[0m\u001b[0;34m.\u001b[0m\u001b[0mzero\u001b[0m\u001b[0;34m\u001b[0m\u001b[0;34m\u001b[0m\u001b[0m\n\u001b[0;32m--> 307\u001b[0;31m         \u001b[0mS\u001b[0m \u001b[0;34m+=\u001b[0m \u001b[0mself\u001b[0m\u001b[0;34m.\u001b[0m\u001b[0mctx\u001b[0m\u001b[0;34m.\u001b[0m\u001b[0mfdot\u001b[0m\u001b[0;34m(\u001b[0m\u001b[0;34m(\u001b[0m\u001b[0mw\u001b[0m\u001b[0;34m,\u001b[0m\u001b[0mf\u001b[0m\u001b[0;34m(\u001b[0m\u001b[0mx\u001b[0m\u001b[0;34m)\u001b[0m\u001b[0;34m)\u001b[0m \u001b[0;32mfor\u001b[0m \u001b[0;34m(\u001b[0m\u001b[0mx\u001b[0m\u001b[0;34m,\u001b[0m\u001b[0mw\u001b[0m\u001b[0;34m)\u001b[0m \u001b[0;32min\u001b[0m \u001b[0mnodes\u001b[0m\u001b[0;34m)\u001b[0m\u001b[0;34m\u001b[0m\u001b[0;34m\u001b[0m\u001b[0m\n\u001b[0m\u001b[1;32m    308\u001b[0m         \u001b[0;32mreturn\u001b[0m \u001b[0mh\u001b[0m\u001b[0;34m*\u001b[0m\u001b[0mS\u001b[0m\u001b[0;34m\u001b[0m\u001b[0;34m\u001b[0m\u001b[0m\n\u001b[1;32m    309\u001b[0m \u001b[0;34m\u001b[0m\u001b[0m\n",
      "\u001b[0;32m~/.local/lib/python3.8/site-packages/mpmath/ctx_mp_python.py\u001b[0m in \u001b[0;36mfdot\u001b[0;34m(ctx, A, B, conjugate)\u001b[0m\n\u001b[1;32m    934\u001b[0m         \u001b[0mhasattr_\u001b[0m \u001b[0;34m=\u001b[0m \u001b[0mhasattr\u001b[0m\u001b[0;34m\u001b[0m\u001b[0;34m\u001b[0m\u001b[0m\n\u001b[1;32m    935\u001b[0m         \u001b[0mtypes\u001b[0m \u001b[0;34m=\u001b[0m \u001b[0;34m(\u001b[0m\u001b[0mctx\u001b[0m\u001b[0;34m.\u001b[0m\u001b[0mmpf\u001b[0m\u001b[0;34m,\u001b[0m \u001b[0mctx\u001b[0m\u001b[0;34m.\u001b[0m\u001b[0mmpc\u001b[0m\u001b[0;34m)\u001b[0m\u001b[0;34m\u001b[0m\u001b[0;34m\u001b[0m\u001b[0m\n\u001b[0;32m--> 936\u001b[0;31m         \u001b[0;32mfor\u001b[0m \u001b[0ma\u001b[0m\u001b[0;34m,\u001b[0m \u001b[0mb\u001b[0m \u001b[0;32min\u001b[0m \u001b[0mA\u001b[0m\u001b[0;34m:\u001b[0m\u001b[0;34m\u001b[0m\u001b[0;34m\u001b[0m\u001b[0m\n\u001b[0m\u001b[1;32m    937\u001b[0m             \u001b[0;32mif\u001b[0m \u001b[0mtype\u001b[0m\u001b[0;34m(\u001b[0m\u001b[0ma\u001b[0m\u001b[0;34m)\u001b[0m \u001b[0;32mnot\u001b[0m \u001b[0;32min\u001b[0m \u001b[0mtypes\u001b[0m\u001b[0;34m:\u001b[0m \u001b[0ma\u001b[0m \u001b[0;34m=\u001b[0m \u001b[0mctx\u001b[0m\u001b[0;34m.\u001b[0m\u001b[0mconvert\u001b[0m\u001b[0;34m(\u001b[0m\u001b[0ma\u001b[0m\u001b[0;34m)\u001b[0m\u001b[0;34m\u001b[0m\u001b[0;34m\u001b[0m\u001b[0m\n\u001b[1;32m    938\u001b[0m             \u001b[0;32mif\u001b[0m \u001b[0mtype\u001b[0m\u001b[0;34m(\u001b[0m\u001b[0mb\u001b[0m\u001b[0;34m)\u001b[0m \u001b[0;32mnot\u001b[0m \u001b[0;32min\u001b[0m \u001b[0mtypes\u001b[0m\u001b[0;34m:\u001b[0m \u001b[0mb\u001b[0m \u001b[0;34m=\u001b[0m \u001b[0mctx\u001b[0m\u001b[0;34m.\u001b[0m\u001b[0mconvert\u001b[0m\u001b[0;34m(\u001b[0m\u001b[0mb\u001b[0m\u001b[0;34m)\u001b[0m\u001b[0;34m\u001b[0m\u001b[0;34m\u001b[0m\u001b[0m\n",
      "\u001b[0;32m~/.local/lib/python3.8/site-packages/mpmath/calculus/quadrature.py\u001b[0m in \u001b[0;36m<genexpr>\u001b[0;34m(.0)\u001b[0m\n\u001b[1;32m    305\u001b[0m         \u001b[0;32melse\u001b[0m\u001b[0;34m:\u001b[0m\u001b[0;34m\u001b[0m\u001b[0;34m\u001b[0m\u001b[0m\n\u001b[1;32m    306\u001b[0m             \u001b[0mS\u001b[0m \u001b[0;34m=\u001b[0m \u001b[0mself\u001b[0m\u001b[0;34m.\u001b[0m\u001b[0mctx\u001b[0m\u001b[0;34m.\u001b[0m\u001b[0mzero\u001b[0m\u001b[0;34m\u001b[0m\u001b[0;34m\u001b[0m\u001b[0m\n\u001b[0;32m--> 307\u001b[0;31m         \u001b[0mS\u001b[0m \u001b[0;34m+=\u001b[0m \u001b[0mself\u001b[0m\u001b[0;34m.\u001b[0m\u001b[0mctx\u001b[0m\u001b[0;34m.\u001b[0m\u001b[0mfdot\u001b[0m\u001b[0;34m(\u001b[0m\u001b[0;34m(\u001b[0m\u001b[0mw\u001b[0m\u001b[0;34m,\u001b[0m\u001b[0mf\u001b[0m\u001b[0;34m(\u001b[0m\u001b[0mx\u001b[0m\u001b[0;34m)\u001b[0m\u001b[0;34m)\u001b[0m \u001b[0;32mfor\u001b[0m \u001b[0;34m(\u001b[0m\u001b[0mx\u001b[0m\u001b[0;34m,\u001b[0m\u001b[0mw\u001b[0m\u001b[0;34m)\u001b[0m \u001b[0;32min\u001b[0m \u001b[0mnodes\u001b[0m\u001b[0;34m)\u001b[0m\u001b[0;34m\u001b[0m\u001b[0;34m\u001b[0m\u001b[0m\n\u001b[0m\u001b[1;32m    308\u001b[0m         \u001b[0;32mreturn\u001b[0m \u001b[0mh\u001b[0m\u001b[0;34m*\u001b[0m\u001b[0mS\u001b[0m\u001b[0;34m\u001b[0m\u001b[0;34m\u001b[0m\u001b[0m\n\u001b[1;32m    309\u001b[0m \u001b[0;34m\u001b[0m\u001b[0m\n",
      "\u001b[0;32m~/.local/lib/python3.8/site-packages/sympy/core/evalf.py\u001b[0m in \u001b[0;36mf\u001b[0;34m(t)\u001b[0m\n\u001b[1;32m    993\u001b[0m \u001b[0;34m\u001b[0m\u001b[0m\n\u001b[1;32m    994\u001b[0m         \u001b[0;32mdef\u001b[0m \u001b[0mf\u001b[0m\u001b[0;34m(\u001b[0m\u001b[0mt\u001b[0m\u001b[0;34m)\u001b[0m\u001b[0;34m:\u001b[0m\u001b[0;34m\u001b[0m\u001b[0;34m\u001b[0m\u001b[0m\n\u001b[0;32m--> 995\u001b[0;31m             \u001b[0mre\u001b[0m\u001b[0;34m,\u001b[0m \u001b[0mim\u001b[0m\u001b[0;34m,\u001b[0m \u001b[0mre_acc\u001b[0m\u001b[0;34m,\u001b[0m \u001b[0mim_acc\u001b[0m \u001b[0;34m=\u001b[0m \u001b[0mevalf\u001b[0m\u001b[0;34m(\u001b[0m\u001b[0mfunc\u001b[0m\u001b[0;34m,\u001b[0m \u001b[0mmp\u001b[0m\u001b[0;34m.\u001b[0m\u001b[0mprec\u001b[0m\u001b[0;34m,\u001b[0m \u001b[0;34m{\u001b[0m\u001b[0;34m'subs'\u001b[0m\u001b[0;34m:\u001b[0m \u001b[0;34m{\u001b[0m\u001b[0mx\u001b[0m\u001b[0;34m:\u001b[0m \u001b[0mt\u001b[0m\u001b[0;34m}\u001b[0m\u001b[0;34m}\u001b[0m\u001b[0;34m)\u001b[0m\u001b[0;34m\u001b[0m\u001b[0;34m\u001b[0m\u001b[0m\n\u001b[0m\u001b[1;32m    996\u001b[0m \u001b[0;34m\u001b[0m\u001b[0m\n\u001b[1;32m    997\u001b[0m             \u001b[0mhave_part\u001b[0m\u001b[0;34m[\u001b[0m\u001b[0;36m0\u001b[0m\u001b[0;34m]\u001b[0m \u001b[0;34m=\u001b[0m \u001b[0mre\u001b[0m \u001b[0;32mor\u001b[0m \u001b[0mhave_part\u001b[0m\u001b[0;34m[\u001b[0m\u001b[0;36m0\u001b[0m\u001b[0;34m]\u001b[0m\u001b[0;34m\u001b[0m\u001b[0;34m\u001b[0m\u001b[0m\n",
      "\u001b[0;32m~/.local/lib/python3.8/site-packages/sympy/core/evalf.py\u001b[0m in \u001b[0;36mevalf\u001b[0;34m(x, prec, options)\u001b[0m\n\u001b[1;32m   1364\u001b[0m     \u001b[0;32mtry\u001b[0m\u001b[0;34m:\u001b[0m\u001b[0;34m\u001b[0m\u001b[0;34m\u001b[0m\u001b[0m\n\u001b[1;32m   1365\u001b[0m         \u001b[0mrf\u001b[0m \u001b[0;34m=\u001b[0m \u001b[0mevalf_table\u001b[0m\u001b[0;34m[\u001b[0m\u001b[0mx\u001b[0m\u001b[0;34m.\u001b[0m\u001b[0mfunc\u001b[0m\u001b[0;34m]\u001b[0m\u001b[0;34m\u001b[0m\u001b[0;34m\u001b[0m\u001b[0m\n\u001b[0;32m-> 1366\u001b[0;31m         \u001b[0mr\u001b[0m \u001b[0;34m=\u001b[0m \u001b[0mrf\u001b[0m\u001b[0;34m(\u001b[0m\u001b[0mx\u001b[0m\u001b[0;34m,\u001b[0m \u001b[0mprec\u001b[0m\u001b[0;34m,\u001b[0m \u001b[0moptions\u001b[0m\u001b[0;34m)\u001b[0m\u001b[0;34m\u001b[0m\u001b[0;34m\u001b[0m\u001b[0m\n\u001b[0m\u001b[1;32m   1367\u001b[0m     \u001b[0;32mexcept\u001b[0m \u001b[0mKeyError\u001b[0m\u001b[0;34m:\u001b[0m\u001b[0;34m\u001b[0m\u001b[0;34m\u001b[0m\u001b[0m\n\u001b[1;32m   1368\u001b[0m         \u001b[0;31m# Fall back to ordinary evalf if possible\u001b[0m\u001b[0;34m\u001b[0m\u001b[0;34m\u001b[0m\u001b[0;34m\u001b[0m\u001b[0m\n",
      "\u001b[0;32m~/.local/lib/python3.8/site-packages/sympy/core/evalf.py\u001b[0m in \u001b[0;36mevalf_mul\u001b[0;34m(v, prec, options)\u001b[0m\n\u001b[1;32m    572\u001b[0m     \u001b[0;32mfrom\u001b[0m \u001b[0msympy\u001b[0m\u001b[0;34m.\u001b[0m\u001b[0mcore\u001b[0m\u001b[0;34m.\u001b[0m\u001b[0mnumbers\u001b[0m \u001b[0;32mimport\u001b[0m \u001b[0mFloat\u001b[0m\u001b[0;34m\u001b[0m\u001b[0;34m\u001b[0m\u001b[0m\n\u001b[1;32m    573\u001b[0m     \u001b[0;32mfor\u001b[0m \u001b[0marg\u001b[0m \u001b[0;32min\u001b[0m \u001b[0margs\u001b[0m\u001b[0;34m:\u001b[0m\u001b[0;34m\u001b[0m\u001b[0;34m\u001b[0m\u001b[0m\n\u001b[0;32m--> 574\u001b[0;31m         \u001b[0marg\u001b[0m \u001b[0;34m=\u001b[0m \u001b[0mevalf\u001b[0m\u001b[0;34m(\u001b[0m\u001b[0marg\u001b[0m\u001b[0;34m,\u001b[0m \u001b[0mprec\u001b[0m\u001b[0;34m,\u001b[0m \u001b[0moptions\u001b[0m\u001b[0;34m)\u001b[0m\u001b[0;34m\u001b[0m\u001b[0;34m\u001b[0m\u001b[0m\n\u001b[0m\u001b[1;32m    575\u001b[0m         \u001b[0;32mif\u001b[0m \u001b[0marg\u001b[0m\u001b[0;34m[\u001b[0m\u001b[0;36m0\u001b[0m\u001b[0;34m]\u001b[0m \u001b[0;32mis\u001b[0m \u001b[0;32mNone\u001b[0m\u001b[0;34m:\u001b[0m\u001b[0;34m\u001b[0m\u001b[0;34m\u001b[0m\u001b[0m\n\u001b[1;32m    576\u001b[0m             \u001b[0;32mcontinue\u001b[0m\u001b[0;34m\u001b[0m\u001b[0;34m\u001b[0m\u001b[0m\n",
      "\u001b[0;32m~/.local/lib/python3.8/site-packages/sympy/core/evalf.py\u001b[0m in \u001b[0;36mevalf\u001b[0;34m(x, prec, options)\u001b[0m\n\u001b[1;32m   1364\u001b[0m     \u001b[0;32mtry\u001b[0m\u001b[0;34m:\u001b[0m\u001b[0;34m\u001b[0m\u001b[0;34m\u001b[0m\u001b[0m\n\u001b[1;32m   1365\u001b[0m         \u001b[0mrf\u001b[0m \u001b[0;34m=\u001b[0m \u001b[0mevalf_table\u001b[0m\u001b[0;34m[\u001b[0m\u001b[0mx\u001b[0m\u001b[0;34m.\u001b[0m\u001b[0mfunc\u001b[0m\u001b[0;34m]\u001b[0m\u001b[0;34m\u001b[0m\u001b[0;34m\u001b[0m\u001b[0m\n\u001b[0;32m-> 1366\u001b[0;31m         \u001b[0mr\u001b[0m \u001b[0;34m=\u001b[0m \u001b[0mrf\u001b[0m\u001b[0;34m(\u001b[0m\u001b[0mx\u001b[0m\u001b[0;34m,\u001b[0m \u001b[0mprec\u001b[0m\u001b[0;34m,\u001b[0m \u001b[0moptions\u001b[0m\u001b[0;34m)\u001b[0m\u001b[0;34m\u001b[0m\u001b[0;34m\u001b[0m\u001b[0m\n\u001b[0m\u001b[1;32m   1367\u001b[0m     \u001b[0;32mexcept\u001b[0m \u001b[0mKeyError\u001b[0m\u001b[0;34m:\u001b[0m\u001b[0;34m\u001b[0m\u001b[0;34m\u001b[0m\u001b[0m\n\u001b[1;32m   1368\u001b[0m         \u001b[0;31m# Fall back to ordinary evalf if possible\u001b[0m\u001b[0;34m\u001b[0m\u001b[0;34m\u001b[0m\u001b[0;34m\u001b[0m\u001b[0m\n",
      "\u001b[0;32m~/.local/lib/python3.8/site-packages/sympy/core/evalf.py\u001b[0m in \u001b[0;36mevalf_pow\u001b[0;34m(v, prec, options)\u001b[0m\n\u001b[1;32m    689\u001b[0m         \u001b[0;31m# base must be evaluated with increased precision if p is large\u001b[0m\u001b[0;34m\u001b[0m\u001b[0;34m\u001b[0m\u001b[0;34m\u001b[0m\u001b[0m\n\u001b[1;32m    690\u001b[0m         \u001b[0mprec\u001b[0m \u001b[0;34m+=\u001b[0m \u001b[0mint\u001b[0m\u001b[0;34m(\u001b[0m\u001b[0mmath\u001b[0m\u001b[0;34m.\u001b[0m\u001b[0mlog\u001b[0m\u001b[0;34m(\u001b[0m\u001b[0mabs\u001b[0m\u001b[0;34m(\u001b[0m\u001b[0mp\u001b[0m\u001b[0;34m)\u001b[0m\u001b[0;34m,\u001b[0m \u001b[0;36m2\u001b[0m\u001b[0;34m)\u001b[0m\u001b[0;34m)\u001b[0m\u001b[0;34m\u001b[0m\u001b[0;34m\u001b[0m\u001b[0m\n\u001b[0;32m--> 691\u001b[0;31m         \u001b[0mre\u001b[0m\u001b[0;34m,\u001b[0m \u001b[0mim\u001b[0m\u001b[0;34m,\u001b[0m \u001b[0mre_acc\u001b[0m\u001b[0;34m,\u001b[0m \u001b[0mim_acc\u001b[0m \u001b[0;34m=\u001b[0m \u001b[0mevalf\u001b[0m\u001b[0;34m(\u001b[0m\u001b[0mbase\u001b[0m\u001b[0;34m,\u001b[0m \u001b[0mprec\u001b[0m \u001b[0;34m+\u001b[0m \u001b[0;36m5\u001b[0m\u001b[0;34m,\u001b[0m \u001b[0moptions\u001b[0m\u001b[0;34m)\u001b[0m\u001b[0;34m\u001b[0m\u001b[0;34m\u001b[0m\u001b[0m\n\u001b[0m\u001b[1;32m    692\u001b[0m         \u001b[0;31m# Real to integer power\u001b[0m\u001b[0;34m\u001b[0m\u001b[0;34m\u001b[0m\u001b[0;34m\u001b[0m\u001b[0m\n\u001b[1;32m    693\u001b[0m         \u001b[0;32mif\u001b[0m \u001b[0mre\u001b[0m \u001b[0;32mand\u001b[0m \u001b[0;32mnot\u001b[0m \u001b[0mim\u001b[0m\u001b[0;34m:\u001b[0m\u001b[0;34m\u001b[0m\u001b[0;34m\u001b[0m\u001b[0m\n",
      "\u001b[0;32m~/.local/lib/python3.8/site-packages/sympy/core/evalf.py\u001b[0m in \u001b[0;36mevalf\u001b[0;34m(x, prec, options)\u001b[0m\n\u001b[1;32m   1364\u001b[0m     \u001b[0;32mtry\u001b[0m\u001b[0;34m:\u001b[0m\u001b[0;34m\u001b[0m\u001b[0;34m\u001b[0m\u001b[0m\n\u001b[1;32m   1365\u001b[0m         \u001b[0mrf\u001b[0m \u001b[0;34m=\u001b[0m \u001b[0mevalf_table\u001b[0m\u001b[0;34m[\u001b[0m\u001b[0mx\u001b[0m\u001b[0;34m.\u001b[0m\u001b[0mfunc\u001b[0m\u001b[0;34m]\u001b[0m\u001b[0;34m\u001b[0m\u001b[0;34m\u001b[0m\u001b[0m\n\u001b[0;32m-> 1366\u001b[0;31m         \u001b[0mr\u001b[0m \u001b[0;34m=\u001b[0m \u001b[0mrf\u001b[0m\u001b[0;34m(\u001b[0m\u001b[0mx\u001b[0m\u001b[0;34m,\u001b[0m \u001b[0mprec\u001b[0m\u001b[0;34m,\u001b[0m \u001b[0moptions\u001b[0m\u001b[0;34m)\u001b[0m\u001b[0;34m\u001b[0m\u001b[0;34m\u001b[0m\u001b[0m\n\u001b[0m\u001b[1;32m   1367\u001b[0m     \u001b[0;32mexcept\u001b[0m \u001b[0mKeyError\u001b[0m\u001b[0;34m:\u001b[0m\u001b[0;34m\u001b[0m\u001b[0;34m\u001b[0m\u001b[0m\n\u001b[1;32m   1368\u001b[0m         \u001b[0;31m# Fall back to ordinary evalf if possible\u001b[0m\u001b[0;34m\u001b[0m\u001b[0;34m\u001b[0m\u001b[0;34m\u001b[0m\u001b[0m\n",
      "\u001b[0;32m~/.local/lib/python3.8/site-packages/sympy/core/evalf.py\u001b[0m in \u001b[0;36mevalf_add\u001b[0;34m(v, prec, options)\u001b[0m\n\u001b[1;32m    532\u001b[0m         \u001b[0moptions\u001b[0m\u001b[0;34m[\u001b[0m\u001b[0;34m'maxprec'\u001b[0m\u001b[0;34m]\u001b[0m \u001b[0;34m=\u001b[0m \u001b[0mmin\u001b[0m\u001b[0;34m(\u001b[0m\u001b[0moldmaxprec\u001b[0m\u001b[0;34m,\u001b[0m \u001b[0;36m2\u001b[0m\u001b[0;34m*\u001b[0m\u001b[0mprec\u001b[0m\u001b[0;34m)\u001b[0m\u001b[0;34m\u001b[0m\u001b[0;34m\u001b[0m\u001b[0m\n\u001b[1;32m    533\u001b[0m \u001b[0;34m\u001b[0m\u001b[0m\n\u001b[0;32m--> 534\u001b[0;31m         \u001b[0mterms\u001b[0m \u001b[0;34m=\u001b[0m \u001b[0;34m[\u001b[0m\u001b[0mevalf\u001b[0m\u001b[0;34m(\u001b[0m\u001b[0marg\u001b[0m\u001b[0;34m,\u001b[0m \u001b[0mprec\u001b[0m \u001b[0;34m+\u001b[0m \u001b[0;36m10\u001b[0m\u001b[0;34m,\u001b[0m \u001b[0moptions\u001b[0m\u001b[0;34m)\u001b[0m \u001b[0;32mfor\u001b[0m \u001b[0marg\u001b[0m \u001b[0;32min\u001b[0m \u001b[0mv\u001b[0m\u001b[0;34m.\u001b[0m\u001b[0margs\u001b[0m\u001b[0;34m]\u001b[0m\u001b[0;34m\u001b[0m\u001b[0;34m\u001b[0m\u001b[0m\n\u001b[0m\u001b[1;32m    535\u001b[0m         re, re_acc = add_terms(\n\u001b[1;32m    536\u001b[0m             [a[0::2] for a in terms if a[0]], prec, target_prec)\n",
      "\u001b[0;32m~/.local/lib/python3.8/site-packages/sympy/core/evalf.py\u001b[0m in \u001b[0;36m<listcomp>\u001b[0;34m(.0)\u001b[0m\n\u001b[1;32m    532\u001b[0m         \u001b[0moptions\u001b[0m\u001b[0;34m[\u001b[0m\u001b[0;34m'maxprec'\u001b[0m\u001b[0;34m]\u001b[0m \u001b[0;34m=\u001b[0m \u001b[0mmin\u001b[0m\u001b[0;34m(\u001b[0m\u001b[0moldmaxprec\u001b[0m\u001b[0;34m,\u001b[0m \u001b[0;36m2\u001b[0m\u001b[0;34m*\u001b[0m\u001b[0mprec\u001b[0m\u001b[0;34m)\u001b[0m\u001b[0;34m\u001b[0m\u001b[0;34m\u001b[0m\u001b[0m\n\u001b[1;32m    533\u001b[0m \u001b[0;34m\u001b[0m\u001b[0m\n\u001b[0;32m--> 534\u001b[0;31m         \u001b[0mterms\u001b[0m \u001b[0;34m=\u001b[0m \u001b[0;34m[\u001b[0m\u001b[0mevalf\u001b[0m\u001b[0;34m(\u001b[0m\u001b[0marg\u001b[0m\u001b[0;34m,\u001b[0m \u001b[0mprec\u001b[0m \u001b[0;34m+\u001b[0m \u001b[0;36m10\u001b[0m\u001b[0;34m,\u001b[0m \u001b[0moptions\u001b[0m\u001b[0;34m)\u001b[0m \u001b[0;32mfor\u001b[0m \u001b[0marg\u001b[0m \u001b[0;32min\u001b[0m \u001b[0mv\u001b[0m\u001b[0;34m.\u001b[0m\u001b[0margs\u001b[0m\u001b[0;34m]\u001b[0m\u001b[0;34m\u001b[0m\u001b[0;34m\u001b[0m\u001b[0m\n\u001b[0m\u001b[1;32m    535\u001b[0m         re, re_acc = add_terms(\n\u001b[1;32m    536\u001b[0m             [a[0::2] for a in terms if a[0]], prec, target_prec)\n",
      "\u001b[0;32m~/.local/lib/python3.8/site-packages/sympy/core/evalf.py\u001b[0m in \u001b[0;36mevalf\u001b[0;34m(x, prec, options)\u001b[0m\n\u001b[1;32m   1364\u001b[0m     \u001b[0;32mtry\u001b[0m\u001b[0;34m:\u001b[0m\u001b[0;34m\u001b[0m\u001b[0;34m\u001b[0m\u001b[0m\n\u001b[1;32m   1365\u001b[0m         \u001b[0mrf\u001b[0m \u001b[0;34m=\u001b[0m \u001b[0mevalf_table\u001b[0m\u001b[0;34m[\u001b[0m\u001b[0mx\u001b[0m\u001b[0;34m.\u001b[0m\u001b[0mfunc\u001b[0m\u001b[0;34m]\u001b[0m\u001b[0;34m\u001b[0m\u001b[0;34m\u001b[0m\u001b[0m\n\u001b[0;32m-> 1366\u001b[0;31m         \u001b[0mr\u001b[0m \u001b[0;34m=\u001b[0m \u001b[0mrf\u001b[0m\u001b[0;34m(\u001b[0m\u001b[0mx\u001b[0m\u001b[0;34m,\u001b[0m \u001b[0mprec\u001b[0m\u001b[0;34m,\u001b[0m \u001b[0moptions\u001b[0m\u001b[0;34m)\u001b[0m\u001b[0;34m\u001b[0m\u001b[0;34m\u001b[0m\u001b[0m\n\u001b[0m\u001b[1;32m   1367\u001b[0m     \u001b[0;32mexcept\u001b[0m \u001b[0mKeyError\u001b[0m\u001b[0;34m:\u001b[0m\u001b[0;34m\u001b[0m\u001b[0;34m\u001b[0m\u001b[0m\n\u001b[1;32m   1368\u001b[0m         \u001b[0;31m# Fall back to ordinary evalf if possible\u001b[0m\u001b[0;34m\u001b[0m\u001b[0;34m\u001b[0m\u001b[0;34m\u001b[0m\u001b[0m\n",
      "\u001b[0;32m~/.local/lib/python3.8/site-packages/sympy/core/evalf.py\u001b[0m in \u001b[0;36mevalf_mul\u001b[0;34m(v, prec, options)\u001b[0m\n\u001b[1;32m    572\u001b[0m     \u001b[0;32mfrom\u001b[0m \u001b[0msympy\u001b[0m\u001b[0;34m.\u001b[0m\u001b[0mcore\u001b[0m\u001b[0;34m.\u001b[0m\u001b[0mnumbers\u001b[0m \u001b[0;32mimport\u001b[0m \u001b[0mFloat\u001b[0m\u001b[0;34m\u001b[0m\u001b[0;34m\u001b[0m\u001b[0m\n\u001b[1;32m    573\u001b[0m     \u001b[0;32mfor\u001b[0m \u001b[0marg\u001b[0m \u001b[0;32min\u001b[0m \u001b[0margs\u001b[0m\u001b[0;34m:\u001b[0m\u001b[0;34m\u001b[0m\u001b[0;34m\u001b[0m\u001b[0m\n\u001b[0;32m--> 574\u001b[0;31m         \u001b[0marg\u001b[0m \u001b[0;34m=\u001b[0m \u001b[0mevalf\u001b[0m\u001b[0;34m(\u001b[0m\u001b[0marg\u001b[0m\u001b[0;34m,\u001b[0m \u001b[0mprec\u001b[0m\u001b[0;34m,\u001b[0m \u001b[0moptions\u001b[0m\u001b[0;34m)\u001b[0m\u001b[0;34m\u001b[0m\u001b[0;34m\u001b[0m\u001b[0m\n\u001b[0m\u001b[1;32m    575\u001b[0m         \u001b[0;32mif\u001b[0m \u001b[0marg\u001b[0m\u001b[0;34m[\u001b[0m\u001b[0;36m0\u001b[0m\u001b[0;34m]\u001b[0m \u001b[0;32mis\u001b[0m \u001b[0;32mNone\u001b[0m\u001b[0;34m:\u001b[0m\u001b[0;34m\u001b[0m\u001b[0;34m\u001b[0m\u001b[0m\n\u001b[1;32m    576\u001b[0m             \u001b[0;32mcontinue\u001b[0m\u001b[0;34m\u001b[0m\u001b[0;34m\u001b[0m\u001b[0m\n",
      "\u001b[0;32m~/.local/lib/python3.8/site-packages/sympy/core/evalf.py\u001b[0m in \u001b[0;36mevalf\u001b[0;34m(x, prec, options)\u001b[0m\n\u001b[1;32m   1364\u001b[0m     \u001b[0;32mtry\u001b[0m\u001b[0;34m:\u001b[0m\u001b[0;34m\u001b[0m\u001b[0;34m\u001b[0m\u001b[0m\n\u001b[1;32m   1365\u001b[0m         \u001b[0mrf\u001b[0m \u001b[0;34m=\u001b[0m \u001b[0mevalf_table\u001b[0m\u001b[0;34m[\u001b[0m\u001b[0mx\u001b[0m\u001b[0;34m.\u001b[0m\u001b[0mfunc\u001b[0m\u001b[0;34m]\u001b[0m\u001b[0;34m\u001b[0m\u001b[0;34m\u001b[0m\u001b[0m\n\u001b[0;32m-> 1366\u001b[0;31m         \u001b[0mr\u001b[0m \u001b[0;34m=\u001b[0m \u001b[0mrf\u001b[0m\u001b[0;34m(\u001b[0m\u001b[0mx\u001b[0m\u001b[0;34m,\u001b[0m \u001b[0mprec\u001b[0m\u001b[0;34m,\u001b[0m \u001b[0moptions\u001b[0m\u001b[0;34m)\u001b[0m\u001b[0;34m\u001b[0m\u001b[0;34m\u001b[0m\u001b[0m\n\u001b[0m\u001b[1;32m   1367\u001b[0m     \u001b[0;32mexcept\u001b[0m \u001b[0mKeyError\u001b[0m\u001b[0;34m:\u001b[0m\u001b[0;34m\u001b[0m\u001b[0;34m\u001b[0m\u001b[0m\n\u001b[1;32m   1368\u001b[0m         \u001b[0;31m# Fall back to ordinary evalf if possible\u001b[0m\u001b[0;34m\u001b[0m\u001b[0;34m\u001b[0m\u001b[0;34m\u001b[0m\u001b[0m\n",
      "\u001b[0;32m~/.local/lib/python3.8/site-packages/sympy/core/evalf.py\u001b[0m in \u001b[0;36m<lambda>\u001b[0;34m(x, prec, options)\u001b[0m\n\u001b[1;32m   1302\u001b[0m         \u001b[0mNaN\u001b[0m\u001b[0;34m:\u001b[0m \u001b[0;32mlambda\u001b[0m \u001b[0mx\u001b[0m\u001b[0;34m,\u001b[0m \u001b[0mprec\u001b[0m\u001b[0;34m,\u001b[0m \u001b[0moptions\u001b[0m\u001b[0;34m:\u001b[0m \u001b[0;34m(\u001b[0m\u001b[0mfnan\u001b[0m\u001b[0;34m,\u001b[0m \u001b[0;32mNone\u001b[0m\u001b[0;34m,\u001b[0m \u001b[0mprec\u001b[0m\u001b[0;34m,\u001b[0m \u001b[0;32mNone\u001b[0m\u001b[0;34m)\u001b[0m\u001b[0;34m,\u001b[0m\u001b[0;34m\u001b[0m\u001b[0;34m\u001b[0m\u001b[0m\n\u001b[1;32m   1303\u001b[0m \u001b[0;34m\u001b[0m\u001b[0m\n\u001b[0;32m-> 1304\u001b[0;31m         exp: lambda x, prec, options: evalf_pow(\n\u001b[0m\u001b[1;32m   1305\u001b[0m             Pow(S.Exp1, x.exp, evaluate=False), prec, options),\n\u001b[1;32m   1306\u001b[0m \u001b[0;34m\u001b[0m\u001b[0m\n",
      "\u001b[0;32m~/.local/lib/python3.8/site-packages/sympy/core/evalf.py\u001b[0m in \u001b[0;36mevalf_pow\u001b[0;34m(v, prec, options)\u001b[0m\n\u001b[1;32m    731\u001b[0m     \u001b[0;31m# This determines the working precision that must be used\u001b[0m\u001b[0;34m\u001b[0m\u001b[0;34m\u001b[0m\u001b[0;34m\u001b[0m\u001b[0m\n\u001b[1;32m    732\u001b[0m     \u001b[0mprec\u001b[0m \u001b[0;34m+=\u001b[0m \u001b[0;36m10\u001b[0m\u001b[0;34m\u001b[0m\u001b[0;34m\u001b[0m\u001b[0m\n\u001b[0;32m--> 733\u001b[0;31m     \u001b[0myre\u001b[0m\u001b[0;34m,\u001b[0m \u001b[0myim\u001b[0m\u001b[0;34m,\u001b[0m \u001b[0m_\u001b[0m\u001b[0;34m,\u001b[0m \u001b[0m_\u001b[0m \u001b[0;34m=\u001b[0m \u001b[0mevalf\u001b[0m\u001b[0;34m(\u001b[0m\u001b[0mexp\u001b[0m\u001b[0;34m,\u001b[0m \u001b[0mprec\u001b[0m\u001b[0;34m,\u001b[0m \u001b[0moptions\u001b[0m\u001b[0;34m)\u001b[0m\u001b[0;34m\u001b[0m\u001b[0;34m\u001b[0m\u001b[0m\n\u001b[0m\u001b[1;32m    734\u001b[0m     \u001b[0;31m# Special cases: x**0\u001b[0m\u001b[0;34m\u001b[0m\u001b[0;34m\u001b[0m\u001b[0;34m\u001b[0m\u001b[0m\n\u001b[1;32m    735\u001b[0m     \u001b[0;32mif\u001b[0m \u001b[0;32mnot\u001b[0m \u001b[0;34m(\u001b[0m\u001b[0myre\u001b[0m \u001b[0;32mor\u001b[0m \u001b[0myim\u001b[0m\u001b[0;34m)\u001b[0m\u001b[0;34m:\u001b[0m\u001b[0;34m\u001b[0m\u001b[0;34m\u001b[0m\u001b[0m\n",
      "\u001b[0;32m~/.local/lib/python3.8/site-packages/sympy/core/evalf.py\u001b[0m in \u001b[0;36mevalf\u001b[0;34m(x, prec, options)\u001b[0m\n\u001b[1;32m   1364\u001b[0m     \u001b[0;32mtry\u001b[0m\u001b[0;34m:\u001b[0m\u001b[0;34m\u001b[0m\u001b[0;34m\u001b[0m\u001b[0m\n\u001b[1;32m   1365\u001b[0m         \u001b[0mrf\u001b[0m \u001b[0;34m=\u001b[0m \u001b[0mevalf_table\u001b[0m\u001b[0;34m[\u001b[0m\u001b[0mx\u001b[0m\u001b[0;34m.\u001b[0m\u001b[0mfunc\u001b[0m\u001b[0;34m]\u001b[0m\u001b[0;34m\u001b[0m\u001b[0;34m\u001b[0m\u001b[0m\n\u001b[0;32m-> 1366\u001b[0;31m         \u001b[0mr\u001b[0m \u001b[0;34m=\u001b[0m \u001b[0mrf\u001b[0m\u001b[0;34m(\u001b[0m\u001b[0mx\u001b[0m\u001b[0;34m,\u001b[0m \u001b[0mprec\u001b[0m\u001b[0;34m,\u001b[0m \u001b[0moptions\u001b[0m\u001b[0;34m)\u001b[0m\u001b[0;34m\u001b[0m\u001b[0;34m\u001b[0m\u001b[0m\n\u001b[0m\u001b[1;32m   1367\u001b[0m     \u001b[0;32mexcept\u001b[0m \u001b[0mKeyError\u001b[0m\u001b[0;34m:\u001b[0m\u001b[0;34m\u001b[0m\u001b[0;34m\u001b[0m\u001b[0m\n\u001b[1;32m   1368\u001b[0m         \u001b[0;31m# Fall back to ordinary evalf if possible\u001b[0m\u001b[0;34m\u001b[0m\u001b[0;34m\u001b[0m\u001b[0;34m\u001b[0m\u001b[0m\n",
      "\u001b[0;32m~/.local/lib/python3.8/site-packages/sympy/core/evalf.py\u001b[0m in \u001b[0;36mevalf_mul\u001b[0;34m(v, prec, options)\u001b[0m\n\u001b[1;32m    606\u001b[0m     \u001b[0;32mfor\u001b[0m \u001b[0mi\u001b[0m\u001b[0;34m,\u001b[0m \u001b[0marg\u001b[0m \u001b[0;32min\u001b[0m \u001b[0menumerate\u001b[0m\u001b[0;34m(\u001b[0m\u001b[0margs\u001b[0m\u001b[0;34m)\u001b[0m\u001b[0;34m:\u001b[0m\u001b[0;34m\u001b[0m\u001b[0;34m\u001b[0m\u001b[0m\n\u001b[1;32m    607\u001b[0m         \u001b[0;32mif\u001b[0m \u001b[0mi\u001b[0m \u001b[0;34m!=\u001b[0m \u001b[0mlast\u001b[0m \u001b[0;32mand\u001b[0m \u001b[0mpure_complex\u001b[0m\u001b[0;34m(\u001b[0m\u001b[0marg\u001b[0m\u001b[0;34m)\u001b[0m\u001b[0;34m:\u001b[0m\u001b[0;34m\u001b[0m\u001b[0;34m\u001b[0m\u001b[0m\n\u001b[0;32m--> 608\u001b[0;31m             \u001b[0margs\u001b[0m\u001b[0;34m[\u001b[0m\u001b[0;34m-\u001b[0m\u001b[0;36m1\u001b[0m\u001b[0;34m]\u001b[0m \u001b[0;34m=\u001b[0m \u001b[0;34m(\u001b[0m\u001b[0margs\u001b[0m\u001b[0;34m[\u001b[0m\u001b[0;34m-\u001b[0m\u001b[0;36m1\u001b[0m\u001b[0;34m]\u001b[0m\u001b[0;34m*\u001b[0m\u001b[0marg\u001b[0m\u001b[0;34m)\u001b[0m\u001b[0;34m.\u001b[0m\u001b[0mexpand\u001b[0m\u001b[0;34m(\u001b[0m\u001b[0;34m)\u001b[0m\u001b[0;34m\u001b[0m\u001b[0;34m\u001b[0m\u001b[0m\n\u001b[0m\u001b[1;32m    609\u001b[0m             \u001b[0;32mcontinue\u001b[0m\u001b[0;34m\u001b[0m\u001b[0;34m\u001b[0m\u001b[0m\n\u001b[1;32m    610\u001b[0m         \u001b[0;32melif\u001b[0m \u001b[0mi\u001b[0m \u001b[0;34m==\u001b[0m \u001b[0mlast\u001b[0m \u001b[0;32mand\u001b[0m \u001b[0marg\u001b[0m \u001b[0;32mis\u001b[0m \u001b[0mS\u001b[0m\u001b[0;34m.\u001b[0m\u001b[0mOne\u001b[0m\u001b[0;34m:\u001b[0m\u001b[0;34m\u001b[0m\u001b[0;34m\u001b[0m\u001b[0m\n",
      "\u001b[0;32m~/.local/lib/python3.8/site-packages/sympy/core/numbers.py\u001b[0m in \u001b[0;36m__mul__\u001b[0;34m(self, other)\u001b[0m\n\u001b[1;32m   2204\u001b[0m             \u001b[0;32melif\u001b[0m \u001b[0misinstance\u001b[0m\u001b[0;34m(\u001b[0m\u001b[0mother\u001b[0m\u001b[0;34m,\u001b[0m \u001b[0mRational\u001b[0m\u001b[0;34m)\u001b[0m\u001b[0;34m:\u001b[0m\u001b[0;34m\u001b[0m\u001b[0;34m\u001b[0m\u001b[0m\n\u001b[1;32m   2205\u001b[0m                 \u001b[0;32mreturn\u001b[0m \u001b[0mRational\u001b[0m\u001b[0;34m(\u001b[0m\u001b[0mself\u001b[0m\u001b[0;34m.\u001b[0m\u001b[0mp\u001b[0m\u001b[0;34m*\u001b[0m\u001b[0mother\u001b[0m\u001b[0;34m.\u001b[0m\u001b[0mp\u001b[0m\u001b[0;34m,\u001b[0m \u001b[0mother\u001b[0m\u001b[0;34m.\u001b[0m\u001b[0mq\u001b[0m\u001b[0;34m,\u001b[0m \u001b[0migcd\u001b[0m\u001b[0;34m(\u001b[0m\u001b[0mself\u001b[0m\u001b[0;34m.\u001b[0m\u001b[0mp\u001b[0m\u001b[0;34m,\u001b[0m \u001b[0mother\u001b[0m\u001b[0;34m.\u001b[0m\u001b[0mq\u001b[0m\u001b[0;34m)\u001b[0m\u001b[0;34m)\u001b[0m\u001b[0;34m\u001b[0m\u001b[0;34m\u001b[0m\u001b[0m\n\u001b[0;32m-> 2206\u001b[0;31m             \u001b[0;32mreturn\u001b[0m \u001b[0mRational\u001b[0m\u001b[0;34m.\u001b[0m\u001b[0m__mul__\u001b[0m\u001b[0;34m(\u001b[0m\u001b[0mself\u001b[0m\u001b[0;34m,\u001b[0m \u001b[0mother\u001b[0m\u001b[0;34m)\u001b[0m\u001b[0;34m\u001b[0m\u001b[0;34m\u001b[0m\u001b[0m\n\u001b[0m\u001b[1;32m   2207\u001b[0m         \u001b[0;32mreturn\u001b[0m \u001b[0mRational\u001b[0m\u001b[0;34m.\u001b[0m\u001b[0m__mul__\u001b[0m\u001b[0;34m(\u001b[0m\u001b[0mself\u001b[0m\u001b[0;34m,\u001b[0m \u001b[0mother\u001b[0m\u001b[0;34m)\u001b[0m\u001b[0;34m\u001b[0m\u001b[0;34m\u001b[0m\u001b[0m\n\u001b[1;32m   2208\u001b[0m \u001b[0;34m\u001b[0m\u001b[0m\n",
      "\u001b[0;32m~/.local/lib/python3.8/site-packages/sympy/core/decorators.py\u001b[0m in \u001b[0;36m__sympifyit_wrapper\u001b[0;34m(a, b)\u001b[0m\n\u001b[1;32m     93\u001b[0m                 \u001b[0;32mif\u001b[0m \u001b[0;32mnot\u001b[0m \u001b[0mhasattr\u001b[0m\u001b[0;34m(\u001b[0m\u001b[0mb\u001b[0m\u001b[0;34m,\u001b[0m \u001b[0;34m'_op_priority'\u001b[0m\u001b[0;34m)\u001b[0m\u001b[0;34m:\u001b[0m\u001b[0;34m\u001b[0m\u001b[0;34m\u001b[0m\u001b[0m\n\u001b[1;32m     94\u001b[0m                     \u001b[0mb\u001b[0m \u001b[0;34m=\u001b[0m \u001b[0msympify\u001b[0m\u001b[0;34m(\u001b[0m\u001b[0mb\u001b[0m\u001b[0;34m,\u001b[0m \u001b[0mstrict\u001b[0m\u001b[0;34m=\u001b[0m\u001b[0;32mTrue\u001b[0m\u001b[0;34m)\u001b[0m\u001b[0;34m\u001b[0m\u001b[0;34m\u001b[0m\u001b[0m\n\u001b[0;32m---> 95\u001b[0;31m                 \u001b[0;32mreturn\u001b[0m \u001b[0mfunc\u001b[0m\u001b[0;34m(\u001b[0m\u001b[0ma\u001b[0m\u001b[0;34m,\u001b[0m \u001b[0mb\u001b[0m\u001b[0;34m)\u001b[0m\u001b[0;34m\u001b[0m\u001b[0;34m\u001b[0m\u001b[0m\n\u001b[0m\u001b[1;32m     96\u001b[0m             \u001b[0;32mexcept\u001b[0m \u001b[0mSympifyError\u001b[0m\u001b[0;34m:\u001b[0m\u001b[0;34m\u001b[0m\u001b[0;34m\u001b[0m\u001b[0m\n\u001b[1;32m     97\u001b[0m                 \u001b[0;32mreturn\u001b[0m \u001b[0mretval\u001b[0m\u001b[0;34m\u001b[0m\u001b[0;34m\u001b[0m\u001b[0m\n",
      "\u001b[0;32m~/.local/lib/python3.8/site-packages/sympy/core/numbers.py\u001b[0m in \u001b[0;36m__mul__\u001b[0;34m(self, other)\u001b[0m\n\u001b[1;32m   1744\u001b[0m                 \u001b[0;32mreturn\u001b[0m \u001b[0mother\u001b[0m\u001b[0;34m*\u001b[0m\u001b[0mself\u001b[0m\u001b[0;34m\u001b[0m\u001b[0;34m\u001b[0m\u001b[0m\n\u001b[1;32m   1745\u001b[0m             \u001b[0;32melse\u001b[0m\u001b[0;34m:\u001b[0m\u001b[0;34m\u001b[0m\u001b[0;34m\u001b[0m\u001b[0m\n\u001b[0;32m-> 1746\u001b[0;31m                 \u001b[0;32mreturn\u001b[0m \u001b[0mNumber\u001b[0m\u001b[0;34m.\u001b[0m\u001b[0m__mul__\u001b[0m\u001b[0;34m(\u001b[0m\u001b[0mself\u001b[0m\u001b[0;34m,\u001b[0m \u001b[0mother\u001b[0m\u001b[0;34m)\u001b[0m\u001b[0;34m\u001b[0m\u001b[0;34m\u001b[0m\u001b[0m\n\u001b[0m\u001b[1;32m   1747\u001b[0m         \u001b[0;32mreturn\u001b[0m \u001b[0mNumber\u001b[0m\u001b[0;34m.\u001b[0m\u001b[0m__mul__\u001b[0m\u001b[0;34m(\u001b[0m\u001b[0mself\u001b[0m\u001b[0;34m,\u001b[0m \u001b[0mother\u001b[0m\u001b[0;34m)\u001b[0m\u001b[0;34m\u001b[0m\u001b[0;34m\u001b[0m\u001b[0m\n\u001b[1;32m   1748\u001b[0m     \u001b[0m__rmul__\u001b[0m \u001b[0;34m=\u001b[0m \u001b[0m__mul__\u001b[0m\u001b[0;34m\u001b[0m\u001b[0;34m\u001b[0m\u001b[0m\n",
      "\u001b[0;32m~/.local/lib/python3.8/site-packages/sympy/core/decorators.py\u001b[0m in \u001b[0;36m__sympifyit_wrapper\u001b[0;34m(a, b)\u001b[0m\n\u001b[1;32m     93\u001b[0m                 \u001b[0;32mif\u001b[0m \u001b[0;32mnot\u001b[0m \u001b[0mhasattr\u001b[0m\u001b[0;34m(\u001b[0m\u001b[0mb\u001b[0m\u001b[0;34m,\u001b[0m \u001b[0;34m'_op_priority'\u001b[0m\u001b[0;34m)\u001b[0m\u001b[0;34m:\u001b[0m\u001b[0;34m\u001b[0m\u001b[0;34m\u001b[0m\u001b[0m\n\u001b[1;32m     94\u001b[0m                     \u001b[0mb\u001b[0m \u001b[0;34m=\u001b[0m \u001b[0msympify\u001b[0m\u001b[0;34m(\u001b[0m\u001b[0mb\u001b[0m\u001b[0;34m,\u001b[0m \u001b[0mstrict\u001b[0m\u001b[0;34m=\u001b[0m\u001b[0;32mTrue\u001b[0m\u001b[0;34m)\u001b[0m\u001b[0;34m\u001b[0m\u001b[0;34m\u001b[0m\u001b[0m\n\u001b[0;32m---> 95\u001b[0;31m                 \u001b[0;32mreturn\u001b[0m \u001b[0mfunc\u001b[0m\u001b[0;34m(\u001b[0m\u001b[0ma\u001b[0m\u001b[0;34m,\u001b[0m \u001b[0mb\u001b[0m\u001b[0;34m)\u001b[0m\u001b[0;34m\u001b[0m\u001b[0;34m\u001b[0m\u001b[0m\n\u001b[0m\u001b[1;32m     96\u001b[0m             \u001b[0;32mexcept\u001b[0m \u001b[0mSympifyError\u001b[0m\u001b[0;34m:\u001b[0m\u001b[0;34m\u001b[0m\u001b[0;34m\u001b[0m\u001b[0m\n\u001b[1;32m     97\u001b[0m                 \u001b[0;32mreturn\u001b[0m \u001b[0mretval\u001b[0m\u001b[0;34m\u001b[0m\u001b[0;34m\u001b[0m\u001b[0m\n",
      "\u001b[0;32m~/.local/lib/python3.8/site-packages/sympy/core/numbers.py\u001b[0m in \u001b[0;36m__mul__\u001b[0;34m(self, other)\u001b[0m\n\u001b[1;32m    737\u001b[0m     \u001b[0;34m@\u001b[0m\u001b[0m_sympifyit\u001b[0m\u001b[0;34m(\u001b[0m\u001b[0;34m'other'\u001b[0m\u001b[0;34m,\u001b[0m \u001b[0mNotImplemented\u001b[0m\u001b[0;34m)\u001b[0m\u001b[0;34m\u001b[0m\u001b[0;34m\u001b[0m\u001b[0m\n\u001b[1;32m    738\u001b[0m     \u001b[0;32mdef\u001b[0m \u001b[0m__mul__\u001b[0m\u001b[0;34m(\u001b[0m\u001b[0mself\u001b[0m\u001b[0;34m,\u001b[0m \u001b[0mother\u001b[0m\u001b[0;34m)\u001b[0m\u001b[0;34m:\u001b[0m\u001b[0;34m\u001b[0m\u001b[0;34m\u001b[0m\u001b[0m\n\u001b[0;32m--> 739\u001b[0;31m         \u001b[0;32mif\u001b[0m \u001b[0misinstance\u001b[0m\u001b[0;34m(\u001b[0m\u001b[0mother\u001b[0m\u001b[0;34m,\u001b[0m \u001b[0mNumber\u001b[0m\u001b[0;34m)\u001b[0m \u001b[0;32mand\u001b[0m \u001b[0mglobal_parameters\u001b[0m\u001b[0;34m.\u001b[0m\u001b[0mevaluate\u001b[0m\u001b[0;34m:\u001b[0m\u001b[0;34m\u001b[0m\u001b[0;34m\u001b[0m\u001b[0m\n\u001b[0m\u001b[1;32m    740\u001b[0m             \u001b[0;32mif\u001b[0m \u001b[0mother\u001b[0m \u001b[0;32mis\u001b[0m \u001b[0mS\u001b[0m\u001b[0;34m.\u001b[0m\u001b[0mNaN\u001b[0m\u001b[0;34m:\u001b[0m\u001b[0;34m\u001b[0m\u001b[0;34m\u001b[0m\u001b[0m\n\u001b[1;32m    741\u001b[0m                 \u001b[0;32mreturn\u001b[0m \u001b[0mS\u001b[0m\u001b[0;34m.\u001b[0m\u001b[0mNaN\u001b[0m\u001b[0;34m\u001b[0m\u001b[0;34m\u001b[0m\u001b[0m\n",
      "\u001b[0;31mKeyboardInterrupt\u001b[0m: "
     ]
    }
   ],
   "source": [
    "G_integral_principal_value(\n",
    "    test_vals[\"R\"], test_vals[\"omega\"], test_vals[\"alpha\"], test_vals[\"epsilon\"], \n",
    "    f_z_example_1.subs([(kappa, test_vals[\"kappa\"]),(mu, test_vals[\"mu\"]), (nu, test_vals[\"nu\"])])\n",
    ")"
   ]
  },
  {
   "cell_type": "markdown",
   "metadata": {},
   "source": [
    "### Testing the series expansion of f in the time domain"
   ]
  },
  {
   "cell_type": "code",
   "execution_count": 14,
   "metadata": {},
   "outputs": [],
   "source": [
    "def f_residue_sum_time(_f, f_poles):\n",
    "    residues = sum([(1-exp(I*(alpha+tau)))*residue(_f,tau,p)/(1 - exp(I*(alpha + p)))/(tau - p) for p in f_poles])\n",
    "    return residues\n",
    "\n",
    "def exp_denom_residue_sum_time(_f, N):\n",
    "    residues = (1-exp(I*(alpha+tau)))*I*Sum(_f.subs(tau,2*pi*n-alpha)/(tau + alpha - 2*pi*n),(n,-N,N))\n",
    "    return residues\n",
    "\n",
    "def f_series_expansion(_f, f_poles, N):\n",
    "    return f_residue_sum_time(_f, f_poles) + exp_denom_residue_sum_time(_f, N)\n",
    "\n",
    "def f_closed_form_series(_f, f_poles, N):\n",
    "    return Eq(exp_denom_residue_sum_time(_f, N)/(1-exp(I*(alpha+tau))), \n",
    "              _f/(1-exp(I*(alpha+tau)))\n",
    "              - sum([residue(_f,tau,p)/(1 - exp(I*(alpha + p)))/(tau - p) for p in f_poles])\n",
    "             )"
   ]
  },
  {
   "cell_type": "code",
   "execution_count": 23,
   "metadata": {},
   "outputs": [
    {
     "data": {
      "text/latex": [
       "$\\displaystyle f{\\left(\\tau \\right)} = i \\left(1 - e^{i \\left(a + \\tau\\right)}\\right) \\sum_{n=-\\infty}^{\\infty} \\frac{f{\\left(- \\alpha + 2 \\pi n \\right)}}{\\alpha - 2 \\pi n + \\tau} + \\left(1 - e^{i \\left(a + \\tau\\right)}\\right) \\sum_{k=0}^{Nfpoles} \\frac{\\operatorname{Resf}{\\left({fpole}_{k} \\right)}}{\\left(1 - e^{i \\left(\\alpha + {fpole}_{k}\\right)}\\right) \\left(\\tau - {fpole}_{k}\\right)}$"
      ],
      "text/plain": [
       "Eq(f(tau), I*(1 - exp(I*(a + tau)))*Sum(f(-alpha + 2*pi*n)/(alpha - 2*pi*n + tau), (n, -oo, oo)) + (1 - exp(I*(a + tau)))*Sum(Resf(fpole[k])/((1 - exp(I*(alpha + fpole[k])))*(tau - fpole[k])), (k, 0, Nfpoles)))"
      ]
     },
     "execution_count": 23,
     "metadata": {},
     "output_type": "execute_result"
    }
   ],
   "source": [
    "Eq(f(tau), \n",
    "    (1-exp(I*(a+tau)))*Sum(Resf(fpole[k])/(1 - exp(I*(alpha + fpole[k])))/(tau -fpole[k]),(k,0,Nfpoles))\n",
    "    + (1-exp(I*(a+tau)))*I*Sum(f(2*pi*n-alpha)/(tau+alpha-2*pi*n),(n,-oo,oo))\n",
    ")"
   ]
  },
  {
   "cell_type": "code",
   "execution_count": 140,
   "metadata": {},
   "outputs": [],
   "source": [
    "# f_tau_example = tau*exp(I*tau*s)/(tau**2+kappa**2)/(tau**2-kappa**2)\n",
    "f_tau_example = (ln(tau - mu) - ln(tau - nu))/(tau**2+kappa**2)/(tau**2-kappa**2)\n",
    "f_tau_examples_all_poles = [I*kappa,-I*kappa, kappa, -kappa]\n",
    "numerical_values = [(kappa,0.2),(N,100),(alpha,0.3),(tau,2),(s,0.1),(mu,-1.5*exp(1)),(nu,-3*pi*exp(2))]"
   ]
  },
  {
   "cell_type": "code",
   "execution_count": 141,
   "metadata": {},
   "outputs": [
    {
     "data": {
      "text/latex": [
       "$\\displaystyle \\frac{\\log{\\left(- \\mu + \\tau \\right)} - \\log{\\left(- \\nu + \\tau \\right)}}{\\left(- \\kappa^{2} + \\tau^{2}\\right) \\left(\\kappa^{2} + \\tau^{2}\\right)} = i \\left(1 - e^{i \\left(\\alpha + \\tau\\right)}\\right) \\sum_{n=- N}^{N} \\frac{\\log{\\left(- \\alpha - \\mu + 2 \\pi n \\right)} - \\log{\\left(- \\alpha + 2 \\pi n - \\nu \\right)}}{\\left(- \\kappa^{2} + \\left(- \\alpha + 2 \\pi n\\right)^{2}\\right) \\left(\\kappa^{2} + \\left(- \\alpha + 2 \\pi n\\right)^{2}\\right) \\left(\\alpha - 2 \\pi n + \\tau\\right)} + \\frac{\\left(1 - e^{i \\left(\\alpha + \\tau\\right)}\\right) \\left(\\frac{i \\log{\\left(i \\kappa - \\mu \\right)}}{4 \\kappa^{3}} - \\frac{i \\log{\\left(i \\kappa - \\nu \\right)}}{4 \\kappa^{3}}\\right)}{\\left(1 - e^{i \\left(\\alpha + i \\kappa\\right)}\\right) \\left(- i \\kappa + \\tau\\right)} + \\frac{\\left(1 - e^{i \\left(\\alpha + \\tau\\right)}\\right) \\left(- \\frac{i \\log{\\left(- i \\kappa - \\mu \\right)}}{4 \\kappa^{3}} + \\frac{i \\log{\\left(- i \\kappa - \\nu \\right)}}{4 \\kappa^{3}}\\right)}{\\left(1 - e^{i \\left(\\alpha - i \\kappa\\right)}\\right) \\left(i \\kappa + \\tau\\right)} + \\frac{\\left(1 - e^{i \\left(\\alpha + \\tau\\right)}\\right) \\left(\\frac{\\log{\\left(\\kappa - \\mu \\right)}}{4 \\kappa^{3}} - \\frac{\\log{\\left(\\kappa - \\nu \\right)}}{4 \\kappa^{3}}\\right)}{\\left(1 - e^{i \\left(\\alpha + \\kappa\\right)}\\right) \\left(- \\kappa + \\tau\\right)} + \\frac{\\left(1 - e^{i \\left(\\alpha + \\tau\\right)}\\right) \\left(- \\frac{\\log{\\left(- \\kappa - \\mu \\right)}}{4 \\kappa^{3}} + \\frac{\\log{\\left(- \\kappa - \\nu \\right)}}{4 \\kappa^{3}}\\right)}{\\left(1 - e^{i \\left(\\alpha - \\kappa\\right)}\\right) \\left(\\kappa + \\tau\\right)}$"
      ],
      "text/plain": [
       "Eq((log(-mu + tau) - log(-nu + tau))/((-kappa**2 + tau**2)*(kappa**2 + tau**2)), I*(1 - exp(I*(alpha + tau)))*Sum((log(-alpha - mu + 2*pi*n) - log(-alpha + 2*pi*n - nu))/((-kappa**2 + (-alpha + 2*pi*n)**2)*(kappa**2 + (-alpha + 2*pi*n)**2)*(alpha - 2*pi*n + tau)), (n, -N, N)) + (1 - exp(I*(alpha + tau)))*(I*log(I*kappa - mu)/(4*kappa**3) - I*log(I*kappa - nu)/(4*kappa**3))/((1 - exp(I*(alpha + I*kappa)))*(-I*kappa + tau)) + (1 - exp(I*(alpha + tau)))*(-I*log(-I*kappa - mu)/(4*kappa**3) + I*log(-I*kappa - nu)/(4*kappa**3))/((1 - exp(I*(alpha - I*kappa)))*(I*kappa + tau)) + (1 - exp(I*(alpha + tau)))*(log(kappa - mu)/(4*kappa**3) - log(kappa - nu)/(4*kappa**3))/((1 - exp(I*(alpha + kappa)))*(-kappa + tau)) + (1 - exp(I*(alpha + tau)))*(-log(-kappa - mu)/(4*kappa**3) + log(-kappa - nu)/(4*kappa**3))/((1 - exp(I*(alpha - kappa)))*(kappa + tau)))"
      ]
     },
     "execution_count": 141,
     "metadata": {},
     "output_type": "execute_result"
    }
   ],
   "source": [
    "Eq(f_tau_example, f_series_expansion(f_tau_example, f_tau_examples_all_poles, N))"
   ]
  },
  {
   "cell_type": "code",
   "execution_count": 142,
   "metadata": {},
   "outputs": [
    {
     "data": {
      "text/latex": [
       "$\\displaystyle -0.15381934442122 + 0.000323330838575652 i$"
      ],
      "text/plain": [
       "-0.15381934442122 + 0.000323330838575652*I"
      ]
     },
     "execution_count": 142,
     "metadata": {},
     "output_type": "execute_result"
    }
   ],
   "source": [
    "f_series_expansion(f_tau_example, f_tau_examples_all_poles, N).subs(numerical_values).evalf()"
   ]
  },
  {
   "cell_type": "code",
   "execution_count": 139,
   "metadata": {},
   "outputs": [
    {
     "data": {
      "text/latex": [
       "$\\displaystyle -0.154207660534052$"
      ],
      "text/plain": [
       "-0.154207660534052"
      ]
     },
     "execution_count": 139,
     "metadata": {},
     "output_type": "execute_result"
    }
   ],
   "source": [
    "f_tau_example.subs(numerical_values).evalf()"
   ]
  },
  {
   "cell_type": "code",
   "execution_count": 95,
   "metadata": {},
   "outputs": [
    {
     "data": {
      "text/latex": [
       "$\\displaystyle \\tilde{\\infty}$"
      ],
      "text/plain": [
       "zoo"
      ]
     },
     "execution_count": 95,
     "metadata": {},
     "output_type": "execute_result"
    }
   ],
   "source": [
    "ln(2+2*exp(-3*I*pi))"
   ]
  },
  {
   "cell_type": "code",
   "execution_count": 40,
   "metadata": {},
   "outputs": [
    {
     "data": {
      "text/latex": [
       "$\\displaystyle \\sum_{n=-\\infty}^{\\infty} \\frac{f{\\left(- \\alpha + 2 \\pi n \\right)}}{\\alpha - 2 \\pi n + \\tau} = i \\sum_{k=0}^{Nfpoles} \\frac{\\operatorname{Resf}{\\left({fpole}_{k} \\right)}}{\\left(1 - e^{i \\left(\\alpha + {fpole}_{k}\\right)}\\right) \\left(\\tau - {fpole}_{k}\\right)} - \\frac{i f{\\left(\\tau \\right)}}{1 - e^{i \\left(a + \\tau\\right)}}$"
      ],
      "text/plain": [
       "Eq(Sum(f(-alpha + 2*pi*n)/(alpha - 2*pi*n + tau), (n, -oo, oo)), I*Sum(Resf(fpole[k])/((1 - exp(I*(alpha + fpole[k])))*(tau - fpole[k])), (k, 0, Nfpoles)) - I*f(tau)/(1 - exp(I*(a + tau))))"
      ]
     },
     "execution_count": 40,
     "metadata": {},
     "output_type": "execute_result"
    }
   ],
   "source": [
    "Eq( \n",
    "    Sum(f(2*pi*n-alpha)/(tau+alpha-2*pi*n),(n,-oo,oo)),\n",
    "    -I*f(tau)/(1-exp(I*(a+tau))) + I*Sum(Resf(fpole[k])/(1 - exp(I*(alpha + fpole[k])))/(tau -fpole[k]),(k,0,Nfpoles))\n",
    ")"
   ]
  },
  {
   "cell_type": "code",
   "execution_count": 41,
   "metadata": {},
   "outputs": [
    {
     "data": {
      "text/latex": [
       "$\\displaystyle i \\sum_{n=- N}^{N} \\frac{\\left(- \\alpha + 2 \\pi n\\right) e^{i s \\left(- \\alpha + 2 \\pi n\\right)}}{\\left(- \\kappa^{2} + \\left(- \\alpha + 2 \\pi n\\right)^{2}\\right) \\left(\\kappa^{2} + \\left(- \\alpha + 2 \\pi n\\right)^{2}\\right) \\left(\\alpha - 2 \\pi n + \\tau\\right)} = \\frac{\\tau e^{i s \\tau}}{\\left(1 - e^{i \\left(\\alpha + \\tau\\right)}\\right) \\left(- \\kappa^{2} + \\tau^{2}\\right) \\left(\\kappa^{2} + \\tau^{2}\\right)} + \\frac{e^{- \\kappa s}}{4 \\kappa^{2} \\left(1 - e^{i \\left(\\alpha + i \\kappa\\right)}\\right) \\left(- i \\kappa + \\tau\\right)} + \\frac{e^{\\kappa s}}{4 \\kappa^{2} \\left(1 - e^{i \\left(\\alpha - i \\kappa\\right)}\\right) \\left(i \\kappa + \\tau\\right)} - \\frac{e^{i \\kappa s}}{4 \\kappa^{2} \\left(1 - e^{i \\left(\\alpha + \\kappa\\right)}\\right) \\left(- \\kappa + \\tau\\right)} - \\frac{e^{- i \\kappa s}}{4 \\kappa^{2} \\left(1 - e^{i \\left(\\alpha - \\kappa\\right)}\\right) \\left(\\kappa + \\tau\\right)}$"
      ],
      "text/plain": [
       "Eq(I*Sum((-alpha + 2*pi*n)*exp(I*s*(-alpha + 2*pi*n))/((-kappa**2 + (-alpha + 2*pi*n)**2)*(kappa**2 + (-alpha + 2*pi*n)**2)*(alpha - 2*pi*n + tau)), (n, -N, N)), tau*exp(I*s*tau)/((1 - exp(I*(alpha + tau)))*(-kappa**2 + tau**2)*(kappa**2 + tau**2)) + exp(-kappa*s)/(4*kappa**2*(1 - exp(I*(alpha + I*kappa)))*(-I*kappa + tau)) + exp(kappa*s)/(4*kappa**2*(1 - exp(I*(alpha - I*kappa)))*(I*kappa + tau)) - exp(I*kappa*s)/(4*kappa**2*(1 - exp(I*(alpha + kappa)))*(-kappa + tau)) - exp(-I*kappa*s)/(4*kappa**2*(1 - exp(I*(alpha - kappa)))*(kappa + tau)))"
      ]
     },
     "execution_count": 41,
     "metadata": {},
     "output_type": "execute_result"
    }
   ],
   "source": [
    "expr1 = f_closed_form_series(f_tau_example, f_tau_examples_all_poles, N)\n",
    "expr1"
   ]
  },
  {
   "cell_type": "code",
   "execution_count": 43,
   "metadata": {},
   "outputs": [
    {
     "data": {
      "text/latex": [
       "$\\displaystyle - \\sum_{n=- N}^{N} \\frac{e^{2 i \\pi n s}}{\\kappa^{4} - 16 \\pi^{4} n^{4}} = - \\frac{i \\left(\\left(e^{\\kappa} - 1\\right) \\left(e^{i \\kappa} - 1\\right) e^{\\kappa \\left(s + i\\right)} + \\left(e^{\\kappa} - 1\\right) \\left(e^{i \\kappa} - 1\\right) e^{\\kappa s \\left(1 + 2 i\\right)} - i \\left(e^{i \\kappa} - 1\\right)^{2} e^{\\kappa \\left(i s + 1\\right)} - i \\left(e^{i \\kappa} - 1\\right)^{2} e^{\\kappa s \\left(2 + i\\right)}\\right) e^{- \\kappa s \\left(1 + i\\right)}}{4 \\kappa^{3} \\left(e^{\\kappa} - 1\\right) \\left(e^{i \\kappa} - 1\\right)^{2}}$"
      ],
      "text/plain": [
       "Eq(-Sum(exp(2*I*pi*n*s)/(kappa**4 - 16*pi**4*n**4), (n, -N, N)), -I*((exp(kappa) - 1)*(exp(I*kappa) - 1)*exp(kappa*(s + I)) + (exp(kappa) - 1)*(exp(I*kappa) - 1)*exp(kappa*s*(1 + 2*I)) - I*(exp(I*kappa) - 1)**2*exp(kappa*(I*s + 1)) - I*(exp(I*kappa) - 1)**2*exp(kappa*s*(2 + I)))*exp(-kappa*s*(1 + I))/(4*kappa**3*(exp(kappa) - 1)*(exp(I*kappa) - 1)**2))"
      ]
     },
     "execution_count": 43,
     "metadata": {},
     "output_type": "execute_result"
    }
   ],
   "source": [
    "expr2 = Eq(I*expr1.lhs.subs([(tau,0),(alpha,0),(N,N)]).simplify(), \n",
    "   I*expr1.rhs.collect(kappa).subs([(tau,0),(alpha,0)]).simplify())\n",
    "expr2"
   ]
  },
  {
   "cell_type": "code",
   "execution_count": 254,
   "metadata": {},
   "outputs": [
    {
     "data": {
      "text/latex": [
       "$\\displaystyle 624.99861111021$"
      ],
      "text/plain": [
       "624.998611110210"
      ]
     },
     "execution_count": 254,
     "metadata": {},
     "output_type": "execute_result"
    }
   ],
   "source": [
    "expr2.lhs.subs([(kappa,0.2),(N,100)]).evalf()"
   ]
  },
  {
   "cell_type": "code",
   "execution_count": 383,
   "metadata": {},
   "outputs": [
    {
     "data": {
      "text/latex": [
       "$\\displaystyle \\frac{1}{2 \\tau^{2}} = i \\left(1 - e^{i \\left(\\alpha + \\tau\\right)}\\right) \\sum_{n=- N}^{N} \\frac{1}{\\left(\\tau^{2} + \\left(- \\alpha + 2 \\pi n\\right)^{2}\\right) \\left(\\alpha - 2 \\pi n + \\tau\\right)} - \\frac{i \\left(1 - e^{i \\left(\\alpha + \\tau\\right)}\\right)}{2 \\tau \\left(1 - e^{i \\left(\\alpha + i \\tau\\right)}\\right) \\left(\\tau - i \\tau\\right)} + \\frac{i \\left(1 - e^{i \\left(\\alpha + \\tau\\right)}\\right)}{2 \\tau \\left(1 - e^{i \\left(\\alpha - i \\tau\\right)}\\right) \\left(\\tau + i \\tau\\right)}$"
      ],
      "text/plain": [
       "Eq(1/(2*tau**2), I*(1 - exp(I*(alpha + tau)))*Sum(1/((tau**2 + (-alpha + 2*pi*n)**2)*(alpha - 2*pi*n + tau)), (n, -N, N)) - I*(1 - exp(I*(alpha + tau)))/(2*tau*(1 - exp(I*(alpha + I*tau)))*(tau - I*tau)) + I*(1 - exp(I*(alpha + tau)))/(2*tau*(1 - exp(I*(alpha - I*tau)))*(tau + I*tau)))"
      ]
     },
     "execution_count": 383,
     "metadata": {},
     "output_type": "execute_result"
    }
   ],
   "source": [
    "Eq(f_tau_example, f_series_exansion(f_tau_example, f_tau_examples_all_poles, N)).subs(kappa,tau)"
   ]
  },
  {
   "cell_type": "code",
   "execution_count": 384,
   "metadata": {},
   "outputs": [
    {
     "data": {
      "text/latex": [
       "$\\displaystyle \\frac{1}{2 \\tau^{2}}$"
      ],
      "text/plain": [
       "1/(2*tau**2)"
      ]
     },
     "execution_count": 384,
     "metadata": {},
     "output_type": "execute_result"
    }
   ],
   "source": [
    "f_tau_example.subs(kappa,tau)"
   ]
  },
  {
   "cell_type": "code",
   "execution_count": 385,
   "metadata": {},
   "outputs": [
    {
     "data": {
      "text/latex": [
       "$\\displaystyle i \\left(1 - e^{i \\left(\\alpha + \\tau\\right)}\\right) \\sum_{n=- N}^{N} \\frac{1}{\\left(\\tau^{2} + \\left(- \\alpha + 2 \\pi n\\right)^{2}\\right) \\left(\\alpha - 2 \\pi n + \\tau\\right)} - \\frac{i \\left(1 - e^{i \\left(\\alpha + \\tau\\right)}\\right)}{2 \\tau \\left(1 - e^{i \\left(\\alpha + i \\tau\\right)}\\right) \\left(\\tau - i \\tau\\right)} + \\frac{i \\left(1 - e^{i \\left(\\alpha + \\tau\\right)}\\right)}{2 \\tau \\left(1 - e^{i \\left(\\alpha - i \\tau\\right)}\\right) \\left(\\tau + i \\tau\\right)}$"
      ],
      "text/plain": [
       "I*(1 - exp(I*(alpha + tau)))*Sum(1/((tau**2 + (-alpha + 2*pi*n)**2)*(alpha - 2*pi*n + tau)), (n, -N, N)) - I*(1 - exp(I*(alpha + tau)))/(2*tau*(1 - exp(I*(alpha + I*tau)))*(tau - I*tau)) + I*(1 - exp(I*(alpha + tau)))/(2*tau*(1 - exp(I*(alpha - I*tau)))*(tau + I*tau))"
      ]
     },
     "execution_count": 385,
     "metadata": {},
     "output_type": "execute_result"
    }
   ],
   "source": [
    "f_series_exansion(f_tau_example, f_tau_examples_all_poles, N).subs(kappa,tau)"
   ]
  },
  {
   "cell_type": "code",
   "execution_count": 137,
   "metadata": {},
   "outputs": [
    {
     "data": {
      "text/latex": [
       "$\\displaystyle 0 = i \\left(1 - e^{i \\alpha}\\right) \\sum_{n=- N}^{N} \\frac{- \\alpha + 2 \\pi n}{\\left(\\alpha - 2 \\pi n\\right) \\left(\\kappa^{2} + \\left(- \\alpha + 2 \\pi n\\right)^{2}\\right)} + \\frac{i \\left(\\frac{1}{2} - \\frac{e^{i \\alpha}}{2}\\right)}{\\kappa \\left(1 - e^{i \\left(\\alpha + i \\kappa\\right)}\\right)} - \\frac{i \\left(\\frac{1}{2} - \\frac{e^{i \\alpha}}{2}\\right)}{\\kappa \\left(1 - e^{i \\left(\\alpha - i \\kappa\\right)}\\right)}$"
      ],
      "text/plain": [
       "Eq(0, I*(1 - exp(I*alpha))*Sum((-alpha + 2*pi*n)/((alpha - 2*pi*n)*(kappa**2 + (-alpha + 2*pi*n)**2)), (n, -N, N)) + I*(1/2 - exp(I*alpha)/2)/(kappa*(1 - exp(I*(alpha + I*kappa)))) - I*(1/2 - exp(I*alpha)/2)/(kappa*(1 - exp(I*(alpha - I*kappa)))))"
      ]
     },
     "execution_count": 137,
     "metadata": {},
     "output_type": "execute_result"
    }
   ],
   "source": [
    "Eq(f_tau_example, f_series_expansion(f_tau_example, f_tau_examples_all_poles, N)).subs(tau,0)"
   ]
  },
  {
   "cell_type": "code",
   "execution_count": null,
   "metadata": {},
   "outputs": [],
   "source": [
    "Eq( \n",
    "    Sum(f(2*pi*n-alpha)/(tau+alpha-2*pi*n),(n,-oo,oo)),\n",
    "    -I*f(tau)/(1-exp(I*(a+tau))) + I*Sum(Resf(fpole[k])/(1 - exp(I*(alpha + fpole[k])))/(tau -fpole[k]),(k,0,Nfpoles))\n",
    ")"
   ]
  }
 ],
 "metadata": {
  "kernelspec": {
   "display_name": "Python 3 (ipykernel)",
   "language": "python",
   "name": "python3"
  },
  "language_info": {
   "codemirror_mode": {
    "name": "ipython",
    "version": 3
   },
   "file_extension": ".py",
   "mimetype": "text/x-python",
   "name": "python",
   "nbconvert_exporter": "python",
   "pygments_lexer": "ipython3",
   "version": "3.10.13"
  }
 },
 "nbformat": 4,
 "nbformat_minor": 4
}
