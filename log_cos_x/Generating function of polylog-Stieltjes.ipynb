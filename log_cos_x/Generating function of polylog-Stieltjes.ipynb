{
 "cells": [
  {
   "cell_type": "markdown",
   "metadata": {},
   "source": [
    "# Generating function of polylog-Stieltjes"
   ]
  },
  {
   "cell_type": "code",
   "execution_count": 16,
   "metadata": {},
   "outputs": [],
   "source": [
    "from sympy import *\n",
    "x, y, n, K, k, epsilon, z, s, a, R, N, r, m = symbols('x, y, n, K, k, epsilon, z, s, a, R, N, r, m')\n",
    "alpha, beta, delta, t, mu, nu, epsilon, theta, phi = symbols('alpha, beta, delta, t, mu, nu, epsilon, theta, phi')\n",
    "f = Function('f')\n",
    "g = Function('g')\n",
    "u = Function('u')\n",
    "v = Function('v')"
   ]
  },
  {
   "cell_type": "code",
   "execution_count": 17,
   "metadata": {},
   "outputs": [
    {
     "data": {
      "text/latex": [
       "$\\displaystyle \\sum_{n=1}^{\\infty} \\frac{x^{2 n}}{n^{2}} = \\operatorname{Li}_{2}\\left(x^{2}\\right)$"
      ],
      "text/plain": [
       "Eq(Sum(x**(2*n)/n**2, (n, 1, oo)), polylog(2, x**2))"
      ]
     },
     "execution_count": 17,
     "metadata": {},
     "output_type": "execute_result"
    }
   ],
   "source": [
    "Eq(Sum((x)**(2*n)/n**2,(n,1,oo)),polylog(2,x**2))"
   ]
  },
  {
   "cell_type": "code",
   "execution_count": 18,
   "metadata": {},
   "outputs": [
    {
     "data": {
      "text/latex": [
       "$\\displaystyle \\sum_{n=1}^{\\infty} \\frac{\\left(\\frac{1}{k m}\\right)^{2 n}}{n^{2}} = \\operatorname{Li}_{2}\\left(\\frac{1}{k^{2} m^{2}}\\right)$"
      ],
      "text/plain": [
       "Eq(Sum((1/(k*m))**(2*n)/n**2, (n, 1, oo)), polylog(2, 1/(k**2*m**2)))"
      ]
     },
     "execution_count": 18,
     "metadata": {},
     "output_type": "execute_result"
    }
   ],
   "source": [
    "Eq(Sum((x)**(2*n)/n**2,(n,1,oo)),polylog(2,x**2)).subs(x,1/m/k)"
   ]
  },
  {
   "cell_type": "code",
   "execution_count": 50,
   "metadata": {},
   "outputs": [
    {
     "data": {
      "text/latex": [
       "$\\displaystyle u{\\left(k,x \\right)} = \\sum_{n=1}^{\\infty} \\operatorname{Li}_{2}^{k}\\left(\\frac{x}{n}\\right)$"
      ],
      "text/plain": [
       "Eq(u(k, x), Sum(polylog(2, x/n)**k, (n, 1, oo)))"
      ]
     },
     "execution_count": 50,
     "metadata": {},
     "output_type": "execute_result"
    }
   ],
   "source": [
    "Eq(u(k,x),Sum(polylog(2,x/n)**k,(n,1,oo)))"
   ]
  },
  {
   "cell_type": "code",
   "execution_count": 40,
   "metadata": {},
   "outputs": [
    {
     "data": {
      "text/latex": [
       "$\\displaystyle g{\\left(s,m \\right)} = \\sum_{k=1}^{\\infty} \\frac{\\left(-1\\right)^{k} s^{k} u{\\left(k,x \\right)}}{k!}$"
      ],
      "text/plain": [
       "Eq(g(s, m), Sum((-1)**k*s**k*u(k, x)/factorial(k), (k, 1, oo)))"
      ]
     },
     "execution_count": 40,
     "metadata": {},
     "output_type": "execute_result"
    }
   ],
   "source": [
    "Eq(g(s,m),Sum((-1)**k*u(k,x)*s**k/factorial(k),(k,1,oo)))"
   ]
  },
  {
   "cell_type": "code",
   "execution_count": 43,
   "metadata": {},
   "outputs": [
    {
     "data": {
      "text/latex": [
       "$\\displaystyle g{\\left(s,m \\right)} = \\sum_{\\substack{1 \\leq n \\leq \\infty\\\\1 \\leq k \\leq \\infty}} \\frac{\\left(-1\\right)^{k} s^{k} \\operatorname{Li}_{2}^{k}\\left(x\\right)}{k!}$"
      ],
      "text/plain": [
       "Eq(g(s, m), Sum((-1)**k*s**k*polylog(2, x)**k/factorial(k), (n, 1, oo), (k, 1, oo)))"
      ]
     },
     "execution_count": 43,
     "metadata": {},
     "output_type": "execute_result"
    }
   ],
   "source": [
    "Eq(g(s,m),Sum(Sum((-1)**k*polylog(2,x)**k*s**k/factorial(k),(n,1,oo)),(k,1,oo)))"
   ]
  },
  {
   "cell_type": "code",
   "execution_count": 46,
   "metadata": {},
   "outputs": [
    {
     "data": {
      "text/latex": [
       "$\\displaystyle g{\\left(s,m \\right)} = \\sum_{\\substack{1 \\leq k \\leq \\infty\\\\1 \\leq n \\leq \\infty}} \\frac{\\left(-1\\right)^{k} s^{k} \\operatorname{Li}_{2}^{k}\\left(x\\right)}{k!}$"
      ],
      "text/plain": [
       "Eq(g(s, m), Sum((-1)**k*s**k*polylog(2, x)**k/factorial(k), (k, 1, oo), (n, 1, oo)))"
      ]
     },
     "execution_count": 46,
     "metadata": {},
     "output_type": "execute_result"
    }
   ],
   "source": [
    "Eq(g(s,m),Sum(Sum((-1)**k*polylog(2,x)**k*s**k/factorial(k),(k,1,oo)),(n,1,oo)))"
   ]
  },
  {
   "cell_type": "code",
   "execution_count": 49,
   "metadata": {},
   "outputs": [
    {
     "data": {
      "text/latex": [
       "$\\displaystyle -1 + e^{- s \\operatorname{Li}_{2}\\left(x\\right)}$"
      ],
      "text/plain": [
       "-1 + exp(-s*polylog(2, x))"
      ]
     },
     "execution_count": 49,
     "metadata": {},
     "output_type": "execute_result"
    }
   ],
   "source": [
    "Sum((-1)**k*polylog(2,x)**k*s**k/factorial(k),(k,1,oo)).doit().simplify()"
   ]
  },
  {
   "cell_type": "code",
   "execution_count": 32,
   "metadata": {},
   "outputs": [
    {
     "data": {
      "text/latex": [
       "$\\displaystyle g{\\left(s,m \\right)} = \\sum_{k=1}^{\\infty} \\frac{\\left(-1\\right)^{k} s^{k} \\operatorname{Li}_{2}^{k}\\left(x\\right)}{k!}$"
      ],
      "text/plain": [
       "Eq(g(s, m), Sum((-1)**k*s**k*polylog(2, x)**k/factorial(k), (k, 1, oo)))"
      ]
     },
     "execution_count": 32,
     "metadata": {},
     "output_type": "execute_result"
    }
   ],
   "source": [
    "Eq(g(s,m),Sum((-1)**k*u(k,m)*s**k/factorial(k),(k,1,oo)))"
   ]
  },
  {
   "cell_type": "code",
   "execution_count": 51,
   "metadata": {},
   "outputs": [],
   "source": [
    "## v2"
   ]
  },
  {
   "cell_type": "code",
   "execution_count": 52,
   "metadata": {},
   "outputs": [
    {
     "data": {
      "text/latex": [
       "$\\displaystyle g{\\left(s,m \\right)} = \\sum_{k=1}^{\\infty} \\frac{\\left(-1\\right)^{k} s^{k} u{\\left(k,x \\right)}}{k!}$"
      ],
      "text/plain": [
       "Eq(g(s, m), Sum((-1)**k*s**k*u(k, x)/factorial(k), (k, 1, oo)))"
      ]
     },
     "execution_count": 52,
     "metadata": {},
     "output_type": "execute_result"
    }
   ],
   "source": [
    "Eq(g(s,m),Sum((-1)**k*u(k,x)*s**k/factorial(k),(k,1,oo)))"
   ]
  },
  {
   "cell_type": "code",
   "execution_count": 53,
   "metadata": {},
   "outputs": [
    {
     "data": {
      "text/latex": [
       "$\\displaystyle u{\\left(k,x \\right)} = \\sum_{n=1}^{\\infty} \\operatorname{Li}_{k}\\left(\\frac{x}{n}\\right)$"
      ],
      "text/plain": [
       "Eq(u(k, x), Sum(polylog(k, x/n), (n, 1, oo)))"
      ]
     },
     "execution_count": 53,
     "metadata": {},
     "output_type": "execute_result"
    }
   ],
   "source": [
    "Eq(u(k,x),Sum(polylog(k,x/n),(n,1,oo)))"
   ]
  },
  {
   "cell_type": "code",
   "execution_count": 57,
   "metadata": {},
   "outputs": [
    {
     "data": {
      "text/latex": [
       "$\\displaystyle g{\\left(s,m \\right)} = \\sum_{\\substack{1 \\leq n \\leq \\infty\\\\1 \\leq k \\leq \\infty}} \\frac{\\left(-1\\right)^{k} s^{k} \\operatorname{Li}_{k}\\left(\\frac{x}{n}\\right)}{k!}$"
      ],
      "text/plain": [
       "Eq(g(s, m), Sum((-1)**k*s**k*polylog(k, x/n)/factorial(k), (n, 1, oo), (k, 1, oo)))"
      ]
     },
     "execution_count": 57,
     "metadata": {},
     "output_type": "execute_result"
    }
   ],
   "source": [
    "Eq(g(s,m),Sum(Sum((-1)**k*polylog(k,x/n)*s**k/factorial(k),(n,1,oo)),(k,1,oo)))"
   ]
  },
  {
   "cell_type": "code",
   "execution_count": 59,
   "metadata": {},
   "outputs": [
    {
     "data": {
      "text/latex": [
       "$\\displaystyle g{\\left(s,m \\right)} = \\sum_{\\substack{1 \\leq k \\leq \\infty\\\\1 \\leq n \\leq \\infty}} \\frac{\\left(-1\\right)^{k} s^{k} \\operatorname{Li}_{k}\\left(\\frac{x}{n}\\right)}{k!}$"
      ],
      "text/plain": [
       "Eq(g(s, m), Sum((-1)**k*s**k*polylog(k, x/n)/factorial(k), (k, 1, oo), (n, 1, oo)))"
      ]
     },
     "execution_count": 59,
     "metadata": {},
     "output_type": "execute_result"
    }
   ],
   "source": [
    "Eq(g(s,m),Sum(Sum((-1)**k*polylog(k,x/n)*s**k/factorial(k),(k,1,oo)),(n,1,oo)))"
   ]
  },
  {
   "cell_type": "code",
   "execution_count": 60,
   "metadata": {},
   "outputs": [
    {
     "data": {
      "text/latex": [
       "$\\displaystyle \\sum_{k=1}^{\\infty} \\frac{\\left(-1\\right)^{k} s^{k} \\operatorname{Li}_{k}\\left(\\frac{x}{n}\\right)}{k!}$"
      ],
      "text/plain": [
       "Sum((-1)**k*s**k*polylog(k, x/n)/factorial(k), (k, 1, oo))"
      ]
     },
     "execution_count": 60,
     "metadata": {},
     "output_type": "execute_result"
    }
   ],
   "source": [
    "Sum((-1)**k*polylog(k,x/n)*s**k/factorial(k),(k,1,oo))"
   ]
  },
  {
   "cell_type": "code",
   "execution_count": 68,
   "metadata": {},
   "outputs": [
    {
     "data": {
      "text/latex": [
       "$\\displaystyle \\sum_{m=1}^{\\infty} m^{- k} n^{- m} x^{m} = \\operatorname{Li}_{k}\\left(\\frac{x}{n}\\right)$"
      ],
      "text/plain": [
       "Eq(Sum(m**(-k)*n**(-m)*x**m, (m, 1, oo)), polylog(k, x/n))"
      ]
     },
     "execution_count": 68,
     "metadata": {},
     "output_type": "execute_result"
    }
   ],
   "source": [
    "Eq(Sum(x**m/m**k/n**m,(m,1,oo)),polylog(k,x/n))"
   ]
  },
  {
   "cell_type": "code",
   "execution_count": 75,
   "metadata": {},
   "outputs": [
    {
     "data": {
      "text/latex": [
       "$\\displaystyle \\sum_{\\substack{1 \\leq k \\leq \\infty\\\\1 \\leq m \\leq \\infty}} \\frac{\\left(-1\\right)^{k} m^{- k} n^{- m} s^{k} x^{m}}{k!}$"
      ],
      "text/plain": [
       "Sum((-1)**k*m**(-k)*n**(-m)*s**k*x**m/factorial(k), (k, 1, oo), (m, 1, oo))"
      ]
     },
     "execution_count": 75,
     "metadata": {},
     "output_type": "execute_result"
    }
   ],
   "source": [
    "Sum(Sum((-1)**k*x**m/m**k/n**m*s**k/factorial(k),(k,1,oo)),(m,1,oo))"
   ]
  },
  {
   "cell_type": "code",
   "execution_count": 79,
   "metadata": {},
   "outputs": [
    {
     "data": {
      "text/latex": [
       "$\\displaystyle \\sum_{m=1}^{\\infty} n^{- m} x^{m} \\left(1 - e^{\\frac{s}{m}}\\right) e^{- \\frac{s}{m}}$"
      ],
      "text/plain": [
       "Sum(n**(-m)*x**m*(1 - exp(s/m))*exp(-s/m), (m, 1, oo))"
      ]
     },
     "execution_count": 79,
     "metadata": {},
     "output_type": "execute_result"
    }
   ],
   "source": [
    "Sum(Sum((-1)**k*x**m/m**k/n**m*s**k/factorial(k),(k,1,oo)).doit().simplify(),(m,1,oo))"
   ]
  },
  {
   "cell_type": "code",
   "execution_count": 82,
   "metadata": {},
   "outputs": [
    {
     "data": {
      "text/latex": [
       "$\\displaystyle k s^{k - 2} \\left(k - 1\\right)$"
      ],
      "text/plain": [
       "k*s**(k - 2)*(k - 1)"
      ]
     },
     "execution_count": 82,
     "metadata": {},
     "output_type": "execute_result"
    }
   ],
   "source": [
    "diff(s**k,s,2).simplify()"
   ]
  },
  {
   "cell_type": "code",
   "execution_count": 84,
   "metadata": {},
   "outputs": [
    {
     "data": {
      "text/latex": [
       "$\\displaystyle \\frac{1}{m^{2}}$"
      ],
      "text/plain": [
       "m**(-2)"
      ]
     },
     "execution_count": 84,
     "metadata": {},
     "output_type": "execute_result"
    }
   ],
   "source": [
    "limit(diff(exp(-s/m)-1,s,2),s,0)"
   ]
  },
  {
   "cell_type": "code",
   "execution_count": 103,
   "metadata": {},
   "outputs": [
    {
     "data": {
      "text/latex": [
       "$\\displaystyle \\begin{cases} - \\frac{2 \\log{\\left(\\cos{\\left(\\frac{\\pi x}{2} \\right)} \\right)}}{\\pi x} & \\text{for}\\: x > -\\infty \\wedge x < \\infty \\wedge x \\neq 0 \\\\0 & \\text{otherwise} \\end{cases}$"
      ],
      "text/plain": [
       "Piecewise((-2*log(cos(pi*x/2))/(pi*x), (x > -oo) & (x < oo) & Ne(x, 0)), (0, True))"
      ]
     },
     "execution_count": 103,
     "metadata": {},
     "output_type": "execute_result"
    }
   ],
   "source": [
    "integrate(tan(pi/2*x*y),(y,0,1))"
   ]
  },
  {
   "cell_type": "code",
   "execution_count": 109,
   "metadata": {},
   "outputs": [
    {
     "data": {
      "text/latex": [
       "$\\displaystyle \\begin{cases} - \\frac{2 x^{- s} \\log{\\left(\\cos{\\left(\\frac{\\pi x^{s} y}{2} \\right)} \\right)}}{\\pi} & \\text{for}\\: \\frac{\\pi x^{s}}{2} \\neq 0 \\\\0 & \\text{otherwise} \\end{cases}$"
      ],
      "text/plain": [
       "Piecewise((-2*x**(-s)*log(cos(pi*x**s*y/2))/pi, Ne(pi*x**s/2, 0)), (0, True))"
      ]
     },
     "execution_count": 109,
     "metadata": {},
     "output_type": "execute_result"
    }
   ],
   "source": [
    "integrate(tan(pi/2*x**s*y),y)"
   ]
  },
  {
   "cell_type": "code",
   "execution_count": 107,
   "metadata": {},
   "outputs": [
    {
     "data": {
      "text/latex": [
       "$\\displaystyle \\frac{\\pi x^{s} y \\left(\\tan^{2}{\\left(\\frac{\\pi x^{s} y}{2} \\right)} + 1\\right) \\left(\\pi^{2} x^{2 s} y^{2} \\left(\\tan^{2}{\\left(\\frac{\\pi x^{s} y}{2} \\right)} + 1\\right) + 2 \\pi^{2} x^{2 s} y^{2} \\tan^{2}{\\left(\\frac{\\pi x^{s} y}{2} \\right)} + 6 \\pi x^{s} y \\tan{\\left(\\frac{\\pi x^{s} y}{2} \\right)} + 2\\right) \\log{\\left(x \\right)}^{3}}{4}$"
      ],
      "text/plain": [
       "pi*x**s*y*(tan(pi*x**s*y/2)**2 + 1)*(pi**2*x**(2*s)*y**2*(tan(pi*x**s*y/2)**2 + 1) + 2*pi**2*x**(2*s)*y**2*tan(pi*x**s*y/2)**2 + 6*pi*x**s*y*tan(pi*x**s*y/2) + 2)*log(x)**3/4"
      ]
     },
     "execution_count": 107,
     "metadata": {},
     "output_type": "execute_result"
    }
   ],
   "source": [
    "diff(tan(pi/2*x**s*y),s,3)"
   ]
  },
  {
   "cell_type": "code",
   "execution_count": 113,
   "metadata": {},
   "outputs": [
    {
     "data": {
      "text/latex": [
       "$\\displaystyle \\begin{cases} - \\frac{0^{n}}{2 n} + \\frac{1}{2 n} & \\text{for}\\: n > -\\infty \\wedge n < \\infty \\wedge n \\neq 0 \\\\\\infty & \\text{otherwise} \\end{cases}$"
      ],
      "text/plain": [
       "Piecewise((-0**n/(2*n) + 1/(2*n), (n > -oo) & (n < oo) & Ne(n, 0)), (oo, True))"
      ]
     },
     "execution_count": 113,
     "metadata": {},
     "output_type": "execute_result"
    }
   ],
   "source": [
    "(Integral(y**(2*n-1),(y,0,1)).doit())"
   ]
  },
  {
   "cell_type": "code",
   "execution_count": 117,
   "metadata": {},
   "outputs": [
    {
     "data": {
      "text/latex": [
       "$\\displaystyle \\begin{cases} - \\frac{0^{11 s + 1}}{11 s + 1} + \\frac{1}{11 s + 1} & \\text{for}\\: s > -\\infty \\wedge s < \\infty \\wedge s \\neq - \\frac{1}{11} \\\\\\infty & \\text{otherwise} \\end{cases}$"
      ],
      "text/plain": [
       "Piecewise((-0**(11*s + 1)/(11*s + 1) + 1/(11*s + 1), (s > -oo) & (s < oo) & Ne(s, -1/11)), (oo, True))"
      ]
     },
     "execution_count": 117,
     "metadata": {},
     "output_type": "execute_result"
    }
   ],
   "source": [
    "Integral((x**s)**(2*6-1),(x,0,1)).doit()"
   ]
  },
  {
   "cell_type": "code",
   "execution_count": 119,
   "metadata": {},
   "outputs": [
    {
     "data": {
      "text/latex": [
       "$\\displaystyle \\begin{cases} - \\frac{0^{m + 1}}{m + 1} + \\frac{1}{m + 1} & \\text{for}\\: m > -\\infty \\wedge m < \\infty \\wedge m \\neq -1 \\\\\\infty & \\text{otherwise} \\end{cases}$"
      ],
      "text/plain": [
       "Piecewise((-0**(m + 1)/(m + 1) + 1/(m + 1), (m > -oo) & (m < oo) & Ne(m, -1)), (oo, True))"
      ]
     },
     "execution_count": 119,
     "metadata": {},
     "output_type": "execute_result"
    }
   ],
   "source": [
    "integrate(x**m,(x,0,1))"
   ]
  },
  {
   "cell_type": "code",
   "execution_count": 134,
   "metadata": {},
   "outputs": [
    {
     "data": {
      "text/latex": [
       "$\\displaystyle \\begin{cases} \\frac{\\sqrt[5]{-1} x^{\\frac{2}{5}} \\left(\\left(-1\\right)^{\\frac{2}{5}} \\log{\\left(- \\sqrt[5]{x} e^{\\frac{4 i \\pi}{5}} + 1 \\right)} + \\log{\\left(- \\sqrt[5]{x} e^{\\frac{8 i \\pi}{5}} + 1 \\right)}\\right)}{8} - \\frac{x^{\\frac{2}{5}} \\left(\\log{\\left(1 - \\sqrt[5]{x} \\right)} + \\left(-1\\right)^{\\frac{4}{5}} \\log{\\left(- \\sqrt[5]{x} e^{\\frac{2 i \\pi}{5}} + 1 \\right)} + \\left(-1\\right)^{\\frac{2}{5}} \\log{\\left(- \\sqrt[5]{x} e^{\\frac{6 i \\pi}{5}} + 1 \\right)}\\right)}{8} + \\frac{\\log{\\left(1 - x \\right)}}{8} & \\text{for}\\: \\left|{x}\\right| \\leq 1 \\\\\\frac{\\sum_{n=1}^{\\infty} \\frac{x^{n}}{n \\left(5 n - 2\\right)}}{4} & \\text{otherwise} \\end{cases}$"
      ],
      "text/plain": [
       "Piecewise(((-1)**(1/5)*x**(2/5)*((-1)**(2/5)*log(-x**(1/5)*exp_polar(4*I*pi/5) + 1) + log(-x**(1/5)*exp_polar(8*I*pi/5) + 1))/8 - x**(2/5)*(log(1 - x**(1/5)) + (-1)**(4/5)*log(-x**(1/5)*exp_polar(2*I*pi/5) + 1) + (-1)**(2/5)*log(-x**(1/5)*exp_polar(6*I*pi/5) + 1))/8 + log(1 - x)/8, Abs(x) <= 1), (Sum(x**n/(n*(5*n - 2)), (n, 1, oo))/4, True))"
      ]
     },
     "execution_count": 134,
     "metadata": {},
     "output_type": "execute_result"
    }
   ],
   "source": [
    "Sum(x**n/(5*(2*n-1)+1)/2/n,(n,1,oo)).doit().simplify()"
   ]
  },
  {
   "cell_type": "code",
   "execution_count": null,
   "metadata": {},
   "outputs": [],
   "source": []
  }
 ],
 "metadata": {
  "kernelspec": {
   "display_name": "Python 3",
   "language": "python",
   "name": "python3"
  },
  "language_info": {
   "codemirror_mode": {
    "name": "ipython",
    "version": 3
   },
   "file_extension": ".py",
   "mimetype": "text/x-python",
   "name": "python",
   "nbconvert_exporter": "python",
   "pygments_lexer": "ipython3",
   "version": "3.8.10"
  }
 },
 "nbformat": 4,
 "nbformat_minor": 4
}
