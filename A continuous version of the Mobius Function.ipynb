{
 "cells": [
  {
   "cell_type": "markdown",
   "metadata": {},
   "source": [
    "# A continuous version of the Mobius Function"
   ]
  },
  {
   "cell_type": "code",
   "execution_count": 10,
   "metadata": {},
   "outputs": [],
   "source": [
    "from sympy import *\n",
    "x, y, n, m, K, k, epsilon, z, s, b, R, N, r, c = symbols('x, y, n, m, K, k, epsilon, z, s, b, R, N, r, c')\n",
    "alpha, delta, t, nu, epsilon, theta = symbols('alpha, delta, t, nu, epsilon, theta')\n",
    "phi = Function('phi')\n",
    "f = Function('f')\n",
    "F = Function('F')\n",
    "g = Function('g')\n",
    "h = Function('h')\n",
    "G = Function('G')\n",
    "S = Function('S')\n",
    "p = IndexedBase('p')\n",
    "mu = Function('mu')\n",
    "kappa = IndexedBase('kappa')\n",
    "beta = IndexedBase('beta')\n",
    "a = IndexedBase('a')"
   ]
  },
  {
   "cell_type": "code",
   "execution_count": 3,
   "metadata": {},
   "outputs": [
    {
     "data": {
      "text/latex": [
       "$\\displaystyle \\phi{\\left(s \\right)} = \\int\\limits_{0}^{\\infty} x^{s - 1} f{\\left(x \\right)}\\, dx$"
      ],
      "text/plain": [
       "Eq(phi(s), Integral(x**(s - 1)*f(x), (x, 0, oo)))"
      ]
     },
     "execution_count": 3,
     "metadata": {},
     "output_type": "execute_result"
    }
   ],
   "source": [
    "Eq(phi(s),Integral(x**(s-1)*f(x),(x,0,oo)))"
   ]
  },
  {
   "cell_type": "code",
   "execution_count": 54,
   "metadata": {},
   "outputs": [
    {
     "data": {
      "text/latex": [
       "$\\displaystyle g{\\left(x \\right)} = - \\frac{i \\int\\limits_{c - \\infty i}^{c + \\infty i} x^{- s} \\phi{\\left(s \\right)}\\, ds}{2 \\pi}$"
      ],
      "text/plain": [
       "Eq(g(x), -I*Integral(x**(-s)*phi(s), (s, c - oo*I, c + oo*I))/(2*pi))"
      ]
     },
     "execution_count": 54,
     "metadata": {},
     "output_type": "execute_result"
    }
   ],
   "source": [
    "Eq(g(x),1/(I*2*pi)*Integral(x**(-s)*phi(s),(s,-oo*I+c,oo*I+c)))"
   ]
  },
  {
   "cell_type": "code",
   "execution_count": 55,
   "metadata": {},
   "outputs": [
    {
     "data": {
      "text/latex": [
       "$\\displaystyle \\phi{\\left(s \\right)} = h{\\left(s \\right)} \\mu{\\left(s \\right)}$"
      ],
      "text/plain": [
       "Eq(phi(s), h(s)*mu(s))"
      ]
     },
     "execution_count": 55,
     "metadata": {},
     "output_type": "execute_result"
    }
   ],
   "source": [
    "Eq(phi(s), mu(s)*h(s))"
   ]
  },
  {
   "cell_type": "code",
   "execution_count": 56,
   "metadata": {},
   "outputs": [
    {
     "data": {
      "text/latex": [
       "$\\displaystyle - \\frac{i \\int\\limits_{c - \\infty i}^{c + \\infty i} x^{- s} h{\\left(s \\right)} \\mu{\\left(s \\right)}\\, ds}{2 \\pi} = g{\\left(x \\right)}$"
      ],
      "text/plain": [
       "Eq(-I*Integral(x**(-s)*h(s)*mu(s), (s, c - oo*I, c + oo*I))/(2*pi), g(x))"
      ]
     },
     "execution_count": 56,
     "metadata": {},
     "output_type": "execute_result"
    }
   ],
   "source": [
    "Eq(1/(I*2*pi)*Integral(x**(-s)*mu(s)*h(s),(s,-oo*I+c,oo*I+c)),g(x))"
   ]
  },
  {
   "cell_type": "code",
   "execution_count": 57,
   "metadata": {},
   "outputs": [
    {
     "data": {
      "text/latex": [
       "$\\displaystyle \\sum_{n=1}^{\\infty} - \\frac{i \\int\\limits_{c - \\infty i}^{c + \\infty i} \\left(n x\\right)^{- s} h{\\left(s \\right)} \\mu{\\left(s \\right)}\\, ds}{2 \\pi} = \\sum_{n=1}^{\\infty} g{\\left(n x \\right)}$"
      ],
      "text/plain": [
       "Eq(Sum(-I*Integral((n*x)**(-s)*h(s)*mu(s), (s, c - oo*I, c + oo*I))/(2*pi), (n, 1, oo)), Sum(g(n*x), (n, 1, oo)))"
      ]
     },
     "execution_count": 57,
     "metadata": {},
     "output_type": "execute_result"
    }
   ],
   "source": [
    "Eq(Sum(1/(I*2*pi)*Integral((x*n)**(-s)*mu(s)*h(s),(s,-oo*I+c,oo*I+c)),(n,1,oo)),Sum(g(n*x),(n,1,oo)))"
   ]
  },
  {
   "cell_type": "code",
   "execution_count": 58,
   "metadata": {},
   "outputs": [
    {
     "data": {
      "text/latex": [
       "$\\displaystyle - \\frac{i \\int\\limits_{c - \\infty i}^{c + \\infty i} x^{- s} h{\\left(s \\right)} \\mu{\\left(s \\right)} \\zeta\\left(s\\right)\\, ds}{2 \\pi} = \\sum_{n=1}^{\\infty} g{\\left(n x \\right)}$"
      ],
      "text/plain": [
       "Eq(-I*Integral(x**(-s)*h(s)*mu(s)*zeta(s), (s, c - oo*I, c + oo*I))/(2*pi), Sum(g(n*x), (n, 1, oo)))"
      ]
     },
     "execution_count": 58,
     "metadata": {},
     "output_type": "execute_result"
    }
   ],
   "source": [
    "Eq(1/(I*2*pi)*Integral(zeta(s)*(x)**(-s)*mu(s)*h(s),(s,-oo*I+c,oo*I+c)),Sum(g(n*x),(n,1,oo)))"
   ]
  },
  {
   "cell_type": "code",
   "execution_count": 41,
   "metadata": {},
   "outputs": [
    {
     "data": {
      "text/latex": [
       "$\\displaystyle y = \\sum_{n=1}^{\\infty} \\frac{y^{n} \\mu{\\left(n \\right)}}{1 - y^{n}}$"
      ],
      "text/plain": [
       "Eq(y, Sum(y**n*mu(n)/(1 - y**n), (n, 1, oo)))"
      ]
     },
     "execution_count": 41,
     "metadata": {},
     "output_type": "execute_result"
    }
   ],
   "source": [
    "Eq(y,Sum(mu(n)*y**n/(1-y**n),(n,1,oo)))"
   ]
  },
  {
   "cell_type": "code",
   "execution_count": 27,
   "metadata": {},
   "outputs": [
    {
     "data": {
      "text/latex": [
       "$\\displaystyle g{\\left(x,y \\right)} = \\sum_{n=1}^{\\infty} 2 i \\pi y^{- n x} \\mu{\\left(n \\right)}$"
      ],
      "text/plain": [
       "Eq(g(x, y), Sum(2*I*pi*y**(-n*x)*mu(n), (n, 1, oo)))"
      ]
     },
     "execution_count": 27,
     "metadata": {},
     "output_type": "execute_result"
    }
   ],
   "source": [
    "Eq(g(x,y),Sum(2*I*pi*y**(-n*x)*mu(n),(n,1,oo)))"
   ]
  },
  {
   "cell_type": "code",
   "execution_count": 23,
   "metadata": {},
   "outputs": [
    {
     "data": {
      "text/latex": [
       "$\\displaystyle g{\\left(x,y \\right)} = \\sum_{n=1}^{\\infty} f{\\left(n x,y \\right)} \\mu{\\left(n \\right)}$"
      ],
      "text/plain": [
       "Eq(g(x, y), Sum(f(n*x, y)*mu(n), (n, 1, oo)))"
      ]
     },
     "execution_count": 23,
     "metadata": {},
     "output_type": "execute_result"
    }
   ],
   "source": [
    "Eq(g(x,y), Sum(mu(n)*f(n*x,y),(n,1,oo)))"
   ]
  },
  {
   "cell_type": "code",
   "execution_count": 26,
   "metadata": {},
   "outputs": [
    {
     "data": {
      "text/latex": [
       "$\\displaystyle f{\\left(x,y \\right)} = \\sum_{n=1}^{\\infty} g{\\left(n x,y \\right)}$"
      ],
      "text/plain": [
       "Eq(f(x, y), Sum(g(n*x, y), (n, 1, oo)))"
      ]
     },
     "execution_count": 26,
     "metadata": {},
     "output_type": "execute_result"
    }
   ],
   "source": [
    "Eq(f(x,y),Sum(g(n*x,y),(n,1,oo)))"
   ]
  },
  {
   "cell_type": "code",
   "execution_count": 29,
   "metadata": {},
   "outputs": [
    {
     "data": {
      "text/latex": [
       "$\\displaystyle f{\\left(x,y \\right)} = 2 i \\pi y^{- x}$"
      ],
      "text/plain": [
       "Eq(f(x, y), 2*I*pi*y**(-x))"
      ]
     },
     "execution_count": 29,
     "metadata": {},
     "output_type": "execute_result"
    }
   ],
   "source": [
    "Eq(f(x,y),2*I*pi*y**(-x))"
   ]
  },
  {
   "cell_type": "code",
   "execution_count": 32,
   "metadata": {},
   "outputs": [
    {
     "data": {
      "text/latex": [
       "$\\displaystyle e^{- x} = \\sum_{n=0}^{\\infty} \\frac{\\left(- x\\right)^{n}}{n!}$"
      ],
      "text/plain": [
       "Eq(exp(-x), Sum((-x)**n/factorial(n), (n, 0, oo)))"
      ]
     },
     "execution_count": 32,
     "metadata": {},
     "output_type": "execute_result"
    }
   ],
   "source": [
    "Eq(exp(-x),Sum((-x)**n/factorial(n),(n,0,oo)))"
   ]
  },
  {
   "cell_type": "code",
   "execution_count": 40,
   "metadata": {},
   "outputs": [
    {
     "data": {
      "text/latex": [
       "$\\displaystyle y^{- x} = \\sum_{n=0}^{\\infty} \\frac{\\left(- x \\log{\\left(y \\right)}\\right)^{n}}{n!}$"
      ],
      "text/plain": [
       "Eq(y**(-x), Sum((-x*log(y))**n/factorial(n), (n, 0, oo)))"
      ]
     },
     "execution_count": 40,
     "metadata": {},
     "output_type": "execute_result"
    }
   ],
   "source": [
    "Eq(y**(-x),Sum((-x*log(y))**n/factorial(n),(n,0,oo)))"
   ]
  },
  {
   "cell_type": "code",
   "execution_count": null,
   "metadata": {},
   "outputs": [],
   "source": []
  }
 ],
 "metadata": {
  "kernelspec": {
   "display_name": "Python 3",
   "language": "python",
   "name": "python3"
  },
  "language_info": {
   "codemirror_mode": {
    "name": "ipython",
    "version": 3
   },
   "file_extension": ".py",
   "mimetype": "text/x-python",
   "name": "python",
   "nbconvert_exporter": "python",
   "pygments_lexer": "ipython3",
   "version": "3.8.10"
  }
 },
 "nbformat": 4,
 "nbformat_minor": 4
}
