{
 "cells": [
  {
   "cell_type": "markdown",
   "metadata": {},
   "source": [
    "# Sin and Combinatorics Question\n",
    "\n",
    "https://math.stackexchange.com/questions/478121/can-we-simplify-int-0-pi-left-frac-sin-nx-sin-x-rightmdx/479045#479045"
   ]
  },
  {
   "cell_type": "code",
   "execution_count": 32,
   "metadata": {},
   "outputs": [],
   "source": [
    "import sympy as sy\n",
    "from sympy import symbols, binomial\n",
    "from sympy.utilities.lambdify import lambdify"
   ]
  },
  {
   "cell_type": "code",
   "execution_count": 28,
   "metadata": {},
   "outputs": [],
   "source": [
    "x, n, m, l = symbols('x n m l')\n",
    "pi = sy.pi\n",
    "I = sy.I"
   ]
  },
  {
   "cell_type": "code",
   "execution_count": 51,
   "metadata": {},
   "outputs": [
    {
     "data": {
      "text/latex": [
       "$\\displaystyle \\int\\limits_{0}^{\\pi} \\left(\\frac{\\sin{\\left(n x \\right)}}{\\sin{\\left(x \\right)}}\\right)^{m}\\, dx$"
      ],
      "text/plain": [
       "Integral((sin(n*x)/sin(x))**m, (x, 0, pi))"
      ]
     },
     "execution_count": 51,
     "metadata": {},
     "output_type": "execute_result"
    }
   ],
   "source": [
    "lhs = sy.integrate((sy.sin(n * x) / sy.sin(x)) ** m, (x, 0, pi))\n",
    "lhs"
   ]
  },
  {
   "cell_type": "code",
   "execution_count": 50,
   "metadata": {},
   "outputs": [
    {
     "data": {
      "text/latex": [
       "$\\displaystyle \\pi \\sum_{l=0}^{\\left\\lfloor{\\frac{m \\left(n - 1\\right)}{2 n}}\\right\\rfloor} \\left(-1\\right)^{l} {\\binom{m}{l}} {\\binom{- l n + \\frac{m \\left(n + 1\\right)}{2} - 1}{m - 1}}$"
      ],
      "text/plain": [
       "pi*Sum((-1)**l*binomial(m, l)*binomial(-l*n + m*(n + 1)/2 - 1, m - 1), (l, 0, floor(m*(n - 1)/(2*n))))"
      ]
     },
     "execution_count": 50,
     "metadata": {},
     "output_type": "execute_result"
    }
   ],
   "source": [
    "rhs = pi * sy.Sum((-1)** l * binomial(m,l) * binomial(m / 2 * (n + 1) - l * n - 1, m - 1), \n",
    "             (l, 0, sy.floor(m / (2 * n) * (n - 1))))\n",
    "rhs"
   ]
  },
  {
   "cell_type": "code",
   "execution_count": 30,
   "metadata": {},
   "outputs": [
    {
     "data": {
      "text/latex": [
       "$\\displaystyle \\int\\limits_{0}^{\\pi} \\left(\\frac{\\sin{\\left(n x \\right)}}{\\sin{\\left(x \\right)}}\\right)^{m}\\, dx = \\sum_{l=0}^{\\left\\lfloor{\\frac{m \\left(n - 1\\right)}{2 n}}\\right\\rfloor} \\left(-1\\right)^{l} {\\binom{m}{l}} {\\binom{- l n + \\frac{m \\left(n + 1\\right)}{2} - 1}{m - 1}}$"
      ],
      "text/plain": [
       "Eq(Integral((sin(n*x)/sin(x))**m, (x, 0, pi)), Sum((-1)**l*binomial(m, l)*binomial(-l*n + m*(n + 1)/2 - 1, m - 1), (l, 0, floor(m*(n - 1)/(2*n)))))"
      ]
     },
     "execution_count": 30,
     "metadata": {},
     "output_type": "execute_result"
    }
   ],
   "source": [
    "Eq1 = sy.Eq(lhs, rhs)\n",
    "Eq1"
   ]
  },
  {
   "cell_type": "code",
   "execution_count": 38,
   "metadata": {},
   "outputs": [],
   "source": [
    "lhs_num = lambdify([n, m], lhs)\n",
    "rhs_num = lambdify([n, m], rhs)"
   ]
  },
  {
   "cell_type": "code",
   "execution_count": 57,
   "metadata": {},
   "outputs": [
    {
     "data": {
      "text/plain": [
       "(3.14159265358979, 3.14159265358979)"
      ]
     },
     "execution_count": 57,
     "metadata": {},
     "output_type": "execute_result"
    }
   ],
   "source": [
    "_n = 1\n",
    "_m = 8\n",
    "\n",
    "lhs.subs([(m, _m),(n, _n)]).evalf(), rhs.subs([(m, _m),(n, _n)]).evalf()"
   ]
  },
  {
   "cell_type": "code",
   "execution_count": 62,
   "metadata": {},
   "outputs": [
    {
     "data": {
      "text/latex": [
       "$\\displaystyle \\pi \\sum_{l=0}^{\\left\\lfloor{\\frac{n - 1}{2 n}}\\right\\rfloor} \\left(-1\\right)^{l} {\\binom{1}{l}}$"
      ],
      "text/plain": [
       "pi*Sum((-1)**l*binomial(1, l), (l, 0, floor((n - 1)/(2*n))))"
      ]
     },
     "execution_count": 62,
     "metadata": {},
     "output_type": "execute_result"
    }
   ],
   "source": [
    "rhs.subs(m, 1)"
   ]
  },
  {
   "cell_type": "code",
   "execution_count": 63,
   "metadata": {},
   "outputs": [
    {
     "data": {
      "text/latex": [
       "$\\displaystyle \\pi \\sum_{l=0}^{\\left\\lfloor{\\frac{n - 1}{n}}\\right\\rfloor} \\left(-1\\right)^{l} \\left(- l n + n\\right) {\\binom{2}{l}}$"
      ],
      "text/plain": [
       "pi*Sum((-1)**l*(-l*n + n)*binomial(2, l), (l, 0, floor((n - 1)/n)))"
      ]
     },
     "execution_count": 63,
     "metadata": {},
     "output_type": "execute_result"
    }
   ],
   "source": [
    "rhs.subs(m, 2)"
   ]
  },
  {
   "cell_type": "code",
   "execution_count": 64,
   "metadata": {},
   "outputs": [
    {
     "data": {
      "text/latex": [
       "$\\displaystyle \\pi \\sum_{l=0}^{\\left\\lfloor{\\frac{3 \\left(n - 1\\right)}{2 n}}\\right\\rfloor} \\left(-1\\right)^{l} {\\binom{3}{l}} {\\binom{- l n + \\frac{3 n}{2} + \\frac{1}{2}}{2}}$"
      ],
      "text/plain": [
       "pi*Sum((-1)**l*binomial(3, l)*binomial(-l*n + 3*n/2 + 1/2, 2), (l, 0, floor(3*(n - 1)/(2*n))))"
      ]
     },
     "execution_count": 64,
     "metadata": {},
     "output_type": "execute_result"
    }
   ],
   "source": [
    "rhs.subs(m, 3)"
   ]
  },
  {
   "cell_type": "code",
   "execution_count": 65,
   "metadata": {},
   "outputs": [
    {
     "data": {
      "text/latex": [
       "$\\displaystyle \\pi \\sum_{l=0}^{\\left\\lfloor{\\frac{2 \\left(n - 1\\right)}{n}}\\right\\rfloor} \\left(-1\\right)^{l} {\\binom{4}{l}} {\\binom{- l n + 2 n + 1}{3}}$"
      ],
      "text/plain": [
       "pi*Sum((-1)**l*binomial(4, l)*binomial(-l*n + 2*n + 1, 3), (l, 0, floor(2*(n - 1)/n)))"
      ]
     },
     "execution_count": 65,
     "metadata": {},
     "output_type": "execute_result"
    }
   ],
   "source": [
    "rhs.subs(m, 4)"
   ]
  },
  {
   "cell_type": "code",
   "execution_count": 66,
   "metadata": {},
   "outputs": [
    {
     "data": {
      "text/latex": [
       "$\\displaystyle \\left\\lfloor{\\frac{m \\left(n - 1\\right)}{2 n}}\\right\\rfloor$"
      ],
      "text/plain": [
       "floor(m*(n - 1)/(2*n))"
      ]
     },
     "execution_count": 66,
     "metadata": {},
     "output_type": "execute_result"
    }
   ],
   "source": [
    "sy.floor(m / (2 * n) * (n - 1))"
   ]
  },
  {
   "cell_type": "code",
   "execution_count": 67,
   "metadata": {},
   "outputs": [
    {
     "data": {
      "text/latex": [
       "$\\displaystyle \\frac{m \\left(n - 1\\right)}{2 n}$"
      ],
      "text/plain": [
       "m*(n - 1)/(2*n)"
      ]
     },
     "execution_count": 67,
     "metadata": {},
     "output_type": "execute_result"
    }
   ],
   "source": [
    "m / (2 * n) * (n - 1)"
   ]
  },
  {
   "cell_type": "code",
   "execution_count": 68,
   "metadata": {},
   "outputs": [
    {
     "data": {
      "text/latex": [
       "$\\displaystyle \\frac{m}{2} - \\frac{m}{2 n}$"
      ],
      "text/plain": [
       "m/2 - m/(2*n)"
      ]
     },
     "execution_count": 68,
     "metadata": {},
     "output_type": "execute_result"
    }
   ],
   "source": [
    "m / 2 - m / (2 * n)"
   ]
  },
  {
   "cell_type": "code",
   "execution_count": 70,
   "metadata": {},
   "outputs": [
    {
     "data": {
      "text/latex": [
       "$\\displaystyle {\\binom{- l n + \\frac{m n}{2} + \\frac{m}{2} - 1}{m - 1}}$"
      ],
      "text/plain": [
       "binomial(-l*n + m*n/2 + m/2 - 1, m - 1)"
      ]
     },
     "execution_count": 70,
     "metadata": {},
     "output_type": "execute_result"
    }
   ],
   "source": [
    "sy.expand(binomial(m / 2 * (n + 1) - l * n - 1, m - 1))"
   ]
  },
  {
   "cell_type": "code",
   "execution_count": 72,
   "metadata": {},
   "outputs": [
    {
     "ename": "SyntaxError",
     "evalue": "cannot assign to operator (<ipython-input-72-4cecb155a65b>, line 1)",
     "output_type": "error",
     "traceback": [
      "\u001b[0;36m  File \u001b[0;32m\"<ipython-input-72-4cecb155a65b>\"\u001b[0;36m, line \u001b[0;32m1\u001b[0m\n\u001b[0;31m    m / 2 * (n + 1) = R\u001b[0m\n\u001b[0m    ^\u001b[0m\n\u001b[0;31mSyntaxError\u001b[0m\u001b[0;31m:\u001b[0m cannot assign to operator\n"
     ]
    }
   ],
   "source": [
    "m = R * 2 / (n + 1)"
   ]
  },
  {
   "cell_type": "code",
   "execution_count": 74,
   "metadata": {},
   "outputs": [],
   "source": [
    "bnm = (-1)** l * binomial(m,l) * binomial(m / 2 * (n + 1) - l * n - 1, m - 1)"
   ]
  },
  {
   "cell_type": "code",
   "execution_count": 76,
   "metadata": {},
   "outputs": [
    {
     "data": {
      "text/latex": [
       "$\\displaystyle {\\binom{\\frac{m \\left(n + 1\\right)}{2} - 1}{m - 1}}$"
      ],
      "text/plain": [
       "binomial(m*(n + 1)/2 - 1, m - 1)"
      ]
     },
     "execution_count": 76,
     "metadata": {},
     "output_type": "execute_result"
    }
   ],
   "source": [
    "bnm.subs(l,0)"
   ]
  },
  {
   "cell_type": "code",
   "execution_count": 77,
   "metadata": {},
   "outputs": [
    {
     "data": {
      "text/latex": [
       "$\\displaystyle - m {\\binom{\\frac{m \\left(n + 1\\right)}{2} - n - 1}{m - 1}}$"
      ],
      "text/plain": [
       "-m*binomial(m*(n + 1)/2 - n - 1, m - 1)"
      ]
     },
     "execution_count": 77,
     "metadata": {},
     "output_type": "execute_result"
    }
   ],
   "source": [
    "bnm.subs(l,1)"
   ]
  },
  {
   "cell_type": "code",
   "execution_count": 78,
   "metadata": {},
   "outputs": [
    {
     "data": {
      "text/latex": [
       "$\\displaystyle {\\binom{m}{2}} {\\binom{\\frac{m \\left(n + 1\\right)}{2} - 2 n - 1}{m - 1}}$"
      ],
      "text/plain": [
       "binomial(m, 2)*binomial(m*(n + 1)/2 - 2*n - 1, m - 1)"
      ]
     },
     "execution_count": 78,
     "metadata": {},
     "output_type": "execute_result"
    }
   ],
   "source": [
    "bnm.subs(l,2)"
   ]
  },
  {
   "cell_type": "code",
   "execution_count": 80,
   "metadata": {},
   "outputs": [
    {
     "data": {
      "text/latex": [
       "$\\displaystyle - {\\binom{\\frac{1}{2} - \\frac{3 n}{2}}{2}}$"
      ],
      "text/plain": [
       "-binomial(1/2 - 3*n/2, 2)"
      ]
     },
     "execution_count": 80,
     "metadata": {},
     "output_type": "execute_result"
    }
   ],
   "source": [
    "bnm.subs([(l,3),(m,3)])"
   ]
  },
  {
   "cell_type": "code",
   "execution_count": null,
   "metadata": {},
   "outputs": [],
   "source": []
  }
 ],
 "metadata": {
  "kernelspec": {
   "display_name": "Python 3",
   "language": "python",
   "name": "python3"
  },
  "language_info": {
   "codemirror_mode": {
    "name": "ipython",
    "version": 3
   },
   "file_extension": ".py",
   "mimetype": "text/x-python",
   "name": "python",
   "nbconvert_exporter": "python",
   "pygments_lexer": "ipython3",
   "version": "3.8.5"
  }
 },
 "nbformat": 4,
 "nbformat_minor": 4
}
