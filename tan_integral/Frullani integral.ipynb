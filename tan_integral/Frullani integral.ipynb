{
 "cells": [
  {
   "cell_type": "markdown",
   "metadata": {},
   "source": [
    "# Frullani integral"
   ]
  },
  {
   "cell_type": "code",
   "execution_count": 1,
   "metadata": {},
   "outputs": [],
   "source": [
    "from sympy import *\n",
    "x, y, n, K, k, epsilon, z, s, a, R, N, r, T, b = symbols('x, y, n, K, k, epsilon, z, s, a, R, N, r, T, b')\n",
    "alpha, beta, delta, t, mu, nu, epsilon, theta, phi, tau, omega = symbols(\n",
    "    'alpha, beta, delta, t, mu, nu, epsilon, theta, phi, tau, omega')"
   ]
  },
  {
   "cell_type": "code",
   "execution_count": 2,
   "metadata": {},
   "outputs": [],
   "source": [
    "# https://en.wikipedia.org/wiki/Frullani_integral\n",
    "# https://arxiv.org/pdf/2109.08686.pdf"
   ]
  },
  {
   "cell_type": "code",
   "execution_count": 14,
   "metadata": {},
   "outputs": [],
   "source": [
    "f = Function(\"f\")"
   ]
  },
  {
   "cell_type": "code",
   "execution_count": 15,
   "metadata": {},
   "outputs": [
    {
     "data": {
      "text/latex": [
       "$\\displaystyle \\left(- f{\\left(0 \\right)} + f{\\left(\\infty \\right)}\\right) \\log{\\left(\\frac{a}{b} \\right)} = \\int\\limits_{0}^{\\infty} \\left(\\frac{f{\\left(a x \\right)}}{x} - \\frac{f{\\left(b x \\right)}}{x}\\right)\\, dx$"
      ],
      "text/plain": [
       "Eq((-f(0) + f(oo))*log(a/b), Integral(f(a*x)/x - f(b*x)/x, (x, 0, oo)))"
      ]
     },
     "execution_count": 15,
     "metadata": {},
     "output_type": "execute_result"
    }
   ],
   "source": [
    "Eq(ln(a/b)*(f(oo) - f(0)), Integral(f(a*x)/x - f(b*x)/x, (x,0,oo)))"
   ]
  },
  {
   "cell_type": "code",
   "execution_count": 25,
   "metadata": {},
   "outputs": [
    {
     "data": {
      "text/latex": [
       "$\\displaystyle f{\\left(x \\right)} = \\frac{x e^{- s x}}{x + 1}$"
      ],
      "text/plain": [
       "Eq(f(x), x*exp(-s*x)/(x + 1))"
      ]
     },
     "execution_count": 25,
     "metadata": {},
     "output_type": "execute_result"
    }
   ],
   "source": [
    "Eq(f(x),exp(-s*x)*x/(x+1))"
   ]
  },
  {
   "cell_type": "code",
   "execution_count": 26,
   "metadata": {},
   "outputs": [
    {
     "data": {
      "text/latex": [
       "$\\displaystyle f{\\left(0 \\right)} = 0$"
      ],
      "text/plain": [
       "Eq(f(0), 0)"
      ]
     },
     "execution_count": 26,
     "metadata": {},
     "output_type": "execute_result"
    }
   ],
   "source": [
    "Eq(f(x),exp(-s*x)*x/(x+1)).subs(x,0)"
   ]
  },
  {
   "cell_type": "code",
   "execution_count": null,
   "metadata": {},
   "outputs": [],
   "source": [
    "Eq(f(x),exp(-s*x)*x/(x+1)).subs(x,0)"
   ]
  },
  {
   "cell_type": "code",
   "execution_count": null,
   "metadata": {},
   "outputs": [],
   "source": [
    "Eq(ln(a/b)*(f(oo) - f(0)), Integral(f(a*x)/x - f(b*x)/x, (x,0,oo)))"
   ]
  },
  {
   "cell_type": "code",
   "execution_count": 20,
   "metadata": {
    "scrolled": true
   },
   "outputs": [
    {
     "data": {
      "text/latex": [
       "$\\displaystyle \\log{\\left(\\frac{a}{b} \\right)} = \\int\\limits_{0}^{\\infty} \\left(- \\frac{e^{- b x}}{x} + \\frac{e^{- a x}}{x}\\right)\\, dx$"
      ],
      "text/plain": [
       "Eq(log(a/b), Integral(-exp(-b*x)/x + exp(-a*x)/x, (x, 0, oo)))"
      ]
     },
     "execution_count": 20,
     "metadata": {},
     "output_type": "execute_result"
    }
   ],
   "source": [
    "Eq(ln(a/b), Integral(exp(-a*x)/x - exp(-b*x)/x, (x,0,oo)))"
   ]
  },
  {
   "cell_type": "code",
   "execution_count": 23,
   "metadata": {},
   "outputs": [
    {
     "data": {
      "text/latex": [
       "$\\displaystyle - 8 \\sum_{n=- N}^{N} \\frac{\\log{\\left(\\frac{4 n - 1}{4 n - 3} \\right)}}{\\pi^{2} \\left(4 n - 1\\right)^{2} + 16} = - 8 \\sum_{n=1}^{\\infty} \\frac{\\log{\\left(\\frac{4 n - 1}{4 n - 3} \\right)}}{\\pi^{2} \\left(4 n - 1\\right)^{2} + 16} - 8 \\sum_{n=1}^{\\infty} \\frac{\\log{\\left(\\frac{4 n + 1}{4 n + 3} \\right)}}{\\pi^{2} \\left(4 n + 1\\right)^{2} + 16} + \\frac{8 \\log{\\left(3 \\right)}}{\\pi^{2} + 16}$"
      ],
      "text/plain": [
       "Eq(-8*Sum(log((4*n - 1)/(4*n - 3))/(pi**2*(4*n - 1)**2 + 16), (n, -N, N)), -8*Sum(log((4*n - 1)/(4*n - 3))/(pi**2*(4*n - 1)**2 + 16), (n, 1, oo)) - 8*Sum(log((4*n + 1)/(4*n + 3))/(pi**2*(4*n + 1)**2 + 16), (n, 1, oo)) + 8*log(3)/(pi**2 + 16))"
      ]
     },
     "execution_count": 23,
     "metadata": {},
     "output_type": "execute_result"
    }
   ],
   "source": [
    "Eq(- 8*Sum(ln((4*n-1)/(4*n-3))/(pi**2*(4*n-1)**2 + 16), (n,-N,N)),\n",
    "   - 8*Sum(ln((4*n-1)/(4*n-3))/(pi**2*(4*n-1)**2 + 16), (n,1,oo))\n",
    "   - 8*Sum(ln((4*n+1)/(4*n+3))/(pi**2*(4*n+1)**2 + 16), (n,1,oo))\n",
    "   + 8*ln(3)/(pi**2 + 16)\n",
    ")\n",
    "   "
   ]
  },
  {
   "cell_type": "code",
   "execution_count": 27,
   "metadata": {},
   "outputs": [
    {
     "data": {
      "text/latex": [
       "$\\displaystyle - 8 \\sum_{n=- N}^{N} \\frac{\\log{\\left(\\frac{4 n - 1}{4 n - 3} \\right)}}{\\pi^{2} \\left(4 n - 1\\right)^{2} + 16} = - 8 \\sum_{n=0}^{\\infty} \\frac{\\log{\\left(\\frac{4 n + 3}{4 n + 1} \\right)}}{\\pi^{2} \\left(4 n + 3\\right)^{2} + 16} - 8 \\sum_{n=1}^{\\infty} \\frac{\\log{\\left(\\frac{4 n + 1}{4 n + 3} \\right)}}{\\pi^{2} \\left(4 n + 1\\right)^{2} + 16} + \\frac{8 \\log{\\left(3 \\right)}}{\\pi^{2} + 16}$"
      ],
      "text/plain": [
       "Eq(-8*Sum(log((4*n - 1)/(4*n - 3))/(pi**2*(4*n - 1)**2 + 16), (n, -N, N)), -8*Sum(log((4*n + 3)/(4*n + 1))/(pi**2*(4*n + 3)**2 + 16), (n, 0, oo)) - 8*Sum(log((4*n + 1)/(4*n + 3))/(pi**2*(4*n + 1)**2 + 16), (n, 1, oo)) + 8*log(3)/(pi**2 + 16))"
      ]
     },
     "execution_count": 27,
     "metadata": {},
     "output_type": "execute_result"
    }
   ],
   "source": [
    "Eq(- 8*Sum(ln((4*n-1)/(4*n-3))/(pi**2*(4*n-1)**2 + 16), (n,-N,N)),\n",
    "   - 8*Sum((ln((4*n-1)/(4*n-3))/(pi**2*(4*n-1)**2 + 16)).subs(n,n+1), (n,0,oo))\n",
    "   - 8*Sum(ln((4*n+1)/(4*n+3))/(pi**2*(4*n+1)**2 + 16), (n,1,oo))\n",
    "   + 8*ln(3)/(pi**2 + 16)\n",
    ")"
   ]
  },
  {
   "cell_type": "code",
   "execution_count": 24,
   "metadata": {},
   "outputs": [
    {
     "data": {
      "text/latex": [
       "$\\displaystyle \\log{\\left(\\frac{4 n - 1}{4 n - 3} \\right)} = \\int\\limits_{0}^{\\infty} \\left(\\frac{e^{- x \\left(4 n - 1\\right)}}{x} - \\frac{e^{- x \\left(4 n - 3\\right)}}{x}\\right)\\, dx$"
      ],
      "text/plain": [
       "Eq(log((4*n - 1)/(4*n - 3)), Integral(exp(-x*(4*n - 1))/x - exp(-x*(4*n - 3))/x, (x, 0, oo)))"
      ]
     },
     "execution_count": 24,
     "metadata": {},
     "output_type": "execute_result"
    }
   ],
   "source": [
    "Eq(ln(a/b), Integral(exp(-a*x)/x - exp(-b*x)/x, (x,0,oo))).subs([(a,4*n-1),(b,4*n-3)])"
   ]
  },
  {
   "cell_type": "code",
   "execution_count": 7,
   "metadata": {},
   "outputs": [
    {
     "data": {
      "text/latex": [
       "$\\displaystyle \\begin{cases} - \\frac{\\log{\\left(s \\right)} + \\gamma}{s} & \\text{for}\\: \\left|{\\arg{\\left(s \\right)}}\\right| \\leq \\frac{\\pi}{2} \\wedge \\left|{\\arg{\\left(s \\right)}}\\right| < \\frac{\\pi}{2} \\\\\\int\\limits_{0}^{\\infty} e^{- a s} \\log{\\left(a \\right)}\\, da & \\text{otherwise} \\end{cases}$"
      ],
      "text/plain": [
       "Piecewise((-(log(s) + EulerGamma)/s, (Abs(arg(s)) <= pi/2) & (Abs(arg(s)) < pi/2)), (Integral(exp(-a*s)*log(a), (a, 0, oo)), True))"
      ]
     },
     "execution_count": 7,
     "metadata": {},
     "output_type": "execute_result"
    }
   ],
   "source": [
    "Integral(ln(a)*exp(-a*s),(a,0,oo)).doit().simplify()"
   ]
  },
  {
   "cell_type": "code",
   "execution_count": 8,
   "metadata": {},
   "outputs": [
    {
     "data": {
      "text/latex": [
       "$\\displaystyle - \\log{\\left(b \\right)} \\int\\limits_{0}^{\\infty} e^{- a s}\\, da + \\int\\limits_{0}^{\\infty} e^{- a s} \\log{\\left(a \\right)}\\, da = \\int\\limits_{0}^{\\infty} \\left(\\int\\limits_{0}^{\\infty} \\frac{e^{- a s} e^{- a x}}{x}\\, da - \\frac{e^{- b x} \\int\\limits_{0}^{\\infty} e^{- a s}\\, da}{x}\\right)\\, dx$"
      ],
      "text/plain": [
       "Eq(-log(b)*Integral(exp(-a*s), (a, 0, oo)) + Integral(exp(-a*s)*log(a), (a, 0, oo)), Integral(Integral(exp(-a*s)*exp(-a*x)/x, (a, 0, oo)) - exp(-b*x)*Integral(exp(-a*s), (a, 0, oo))/x, (x, 0, oo)))"
      ]
     },
     "execution_count": 8,
     "metadata": {},
     "output_type": "execute_result"
    }
   ],
   "source": [
    "Eq(Integral(ln(a)*exp(-a*s),(a,0,oo)) - ln(b)*Integral(exp(-a*s),(a,0,oo)), \n",
    "   Integral(Integral(exp(-a*x)/x*exp(-a*s),(a,0,oo)) - Integral(exp(-a*s),(a,0,oo))*exp(-b*x)/x, (x,0,oo)))"
   ]
  },
  {
   "cell_type": "code",
   "execution_count": 10,
   "metadata": {},
   "outputs": [
    {
     "data": {
      "text/latex": [
       "$\\displaystyle \\begin{cases} \\frac{1}{x \\left(s + x\\right)} & \\text{for}\\: \\left(\\left|{\\arg{\\left(s \\right)}}\\right| \\leq \\frac{\\pi}{2} \\wedge \\left|{\\arg{\\left(x \\right)}}\\right| < \\frac{\\pi}{2}\\right) \\vee \\left(\\left|{\\arg{\\left(x \\right)}}\\right| \\leq \\frac{\\pi}{2} \\wedge \\left|{\\arg{\\left(s \\right)}}\\right| < \\frac{\\pi}{2}\\right) \\vee \\left(\\left|{\\arg{\\left(s \\right)}}\\right| < \\frac{\\pi}{2} \\wedge \\left|{\\arg{\\left(x \\right)}}\\right| < \\frac{\\pi}{2}\\right) \\\\\\frac{\\int\\limits_{0}^{\\infty} e^{- a \\left(s + x\\right)}\\, da}{x} & \\text{otherwise} \\end{cases}$"
      ],
      "text/plain": [
       "Piecewise((1/(x*(s + x)), ((Abs(arg(s)) <= pi/2) & (Abs(arg(x)) < pi/2)) | ((Abs(arg(x)) <= pi/2) & (Abs(arg(s)) < pi/2)) | ((Abs(arg(s)) < pi/2) & (Abs(arg(x)) < pi/2))), (Integral(exp(-a*(s + x)), (a, 0, oo))/x, True))"
      ]
     },
     "execution_count": 10,
     "metadata": {},
     "output_type": "execute_result"
    }
   ],
   "source": [
    "Integral(exp(-a*x)/x*exp(-a*s),(a,0,oo)).doit().simplify()"
   ]
  },
  {
   "cell_type": "code",
   "execution_count": null,
   "metadata": {},
   "outputs": [],
   "source": []
  }
 ],
 "metadata": {
  "kernelspec": {
   "display_name": "Python 3",
   "language": "python",
   "name": "python3"
  },
  "language_info": {
   "codemirror_mode": {
    "name": "ipython",
    "version": 3
   },
   "file_extension": ".py",
   "mimetype": "text/x-python",
   "name": "python",
   "nbconvert_exporter": "python",
   "pygments_lexer": "ipython3",
   "version": "3.8.5"
  }
 },
 "nbformat": 4,
 "nbformat_minor": 4
}
