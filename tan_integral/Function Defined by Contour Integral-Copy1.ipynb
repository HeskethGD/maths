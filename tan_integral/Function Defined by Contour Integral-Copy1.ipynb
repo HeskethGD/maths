{
 "cells": [
  {
   "cell_type": "markdown",
   "metadata": {},
   "source": [
    "# Function Defined by Contour Integral"
   ]
  },
  {
   "cell_type": "code",
   "execution_count": 2,
   "metadata": {},
   "outputs": [],
   "source": [
    "from sympy import *"
   ]
  },
  {
   "cell_type": "code",
   "execution_count": 8,
   "metadata": {},
   "outputs": [],
   "source": [
    "x, y, n, m, K, k, t, z, s, a, R, N, L, M, r = symbols('x, y, n, m, K, k, t, z, s, a, R, N, L, M, r')\n",
    "alpha, beta, delta, mu, nu, epsilon, theta, phi, omega = symbols('alpha, beta, delta, mu, nu, epsilon, theta, phi, omega')"
   ]
  },
  {
   "cell_type": "markdown",
   "metadata": {},
   "source": [
    "We aim to calculate the below integral along the real line using contour integration in the complex plane about a closed contour with the residue theorem."
   ]
  },
  {
   "cell_type": "code",
   "execution_count": 17,
   "metadata": {},
   "outputs": [
    {
     "data": {
      "text/latex": [
       "$\\displaystyle \\int\\limits_{0}^{R} \\frac{1}{\\left(- \\delta + z\\right) \\left(e^{\\alpha \\left(- \\delta + z\\right) + \\mu} - 1\\right)}\\, dz$"
      ],
      "text/plain": [
       "Integral(1/((-delta + z)*(exp(alpha*(-delta + z) + mu) - 1)), (z, 0, R))"
      ]
     },
     "execution_count": 17,
     "metadata": {},
     "output_type": "execute_result"
    }
   ],
   "source": [
    "int_1 = Integral(1/(exp(alpha*(z-delta) + mu)-1)/(z-delta),(z,0,R))\n",
    "int_1"
   ]
  },
  {
   "cell_type": "code",
   "execution_count": 18,
   "metadata": {},
   "outputs": [
    {
     "data": {
      "text/latex": [
       "$\\displaystyle \\int\\limits_{0}^{R} \\frac{e^{i \\theta}}{\\left(r e^{i \\theta} - e^{i \\omega} \\left|{\\delta}\\right|\\right) \\left(e^{\\left(r e^{i \\theta} - e^{i \\omega} \\left|{\\delta}\\right|\\right) e^{i \\phi} \\left|{\\alpha}\\right| + e^{i \\epsilon} \\left|{\\mu}\\right|} - 1\\right)}\\, dr$"
      ],
      "text/plain": [
       "Integral(exp(I*theta)/((r*exp(I*theta) - exp(I*omega)*Abs(delta))*(exp((r*exp(I*theta) - exp(I*omega)*Abs(delta))*exp(I*phi)*Abs(alpha) + exp(I*epsilon)*Abs(mu)) - 1)), (r, 0, R))"
      ]
     },
     "execution_count": 18,
     "metadata": {},
     "output_type": "execute_result"
    }
   ],
   "source": [
    "int_2 = Integral(exp(I*theta)/(exp(alpha*(z-delta) + mu)-1)/(z-delta),(r,0,R)).subs(\n",
    "    [(alpha,abs(alpha)*exp(I*phi)),(delta,abs(delta)*exp(I*omega)),(z,r*exp(I*theta)), (mu,abs(mu)*exp(I*epsilon))])\n",
    "int_2"
   ]
  },
  {
   "cell_type": "code",
   "execution_count": 16,
   "metadata": {},
   "outputs": [
    {
     "data": {
      "text/latex": [
       "$\\displaystyle \\int\\limits_{0}^{R} \\frac{e^{- i \\theta}}{\\left(r e^{- i \\theta} - e^{- i \\omega} \\left|{\\delta}\\right|\\right) \\left(e^{r e^{- i \\phi} e^{- i \\theta} \\left|{\\alpha}\\right| + e^{- i \\epsilon} \\left|{\\mu}\\right|} - 1\\right)}\\, dr$"
      ],
      "text/plain": [
       "Integral(exp(-I*theta)/((r*exp(-I*theta) - exp(-I*omega)*Abs(delta))*(exp(r*exp(-I*phi)*exp(-I*theta)*Abs(alpha) + exp(-I*epsilon)*Abs(mu)) - 1)), (r, 0, R))"
      ]
     },
     "execution_count": 16,
     "metadata": {},
     "output_type": "execute_result"
    }
   ],
   "source": [
    "int_2.subs(I,-I)"
   ]
  },
  {
   "cell_type": "code",
   "execution_count": 133,
   "metadata": {},
   "outputs": [
    {
     "data": {
      "text/latex": [
       "$\\displaystyle -1.11999999994339 \\cdot 10^{-5} - 1.99999999995793 \\cdot 10^{-6} i$"
      ],
      "text/plain": [
       "-1.11999999994339e-5 - 1.99999999995793e-6*I"
      ]
     },
     "execution_count": 133,
     "metadata": {},
     "output_type": "execute_result"
    }
   ],
   "source": [
    "(Integral(1/(z-5.6-I),(z,-1000000,1000000)).doit() -I*pi).evalf()"
   ]
  },
  {
   "cell_type": "code",
   "execution_count": 14,
   "metadata": {},
   "outputs": [
    {
     "data": {
      "text/latex": [
       "$\\displaystyle - \\frac{1}{\\left(- \\delta + z\\right) \\left(e^{\\beta z + \\nu} - 1\\right)} + \\frac{1}{\\left(- \\delta + z\\right) \\left(e^{\\alpha z + \\mu} - 1\\right)}$"
      ],
      "text/plain": [
       "-1/((-delta + z)*(exp(beta*z + nu) - 1)) + 1/((-delta + z)*(exp(alpha*z + mu) - 1))"
      ]
     },
     "execution_count": 14,
     "metadata": {},
     "output_type": "execute_result"
    }
   ],
   "source": [
    "integrand_z = 1/(exp(alpha*z + mu)-1)/(z-delta)-1/(exp(beta*z + nu)-1)/(z-delta)\n",
    "integrand_z"
   ]
  },
  {
   "cell_type": "markdown",
   "metadata": {},
   "source": [
    "## Semi-circle contour upper half plane"
   ]
  },
  {
   "cell_type": "markdown",
   "metadata": {},
   "source": [
    "### PART 1"
   ]
  },
  {
   "cell_type": "code",
   "execution_count": 15,
   "metadata": {},
   "outputs": [
    {
     "data": {
      "text/latex": [
       "$\\displaystyle \\int\\limits_{- R}^{R} \\left(- \\frac{1}{\\left(- \\delta + z\\right) \\left(e^{\\beta z + \\nu} - 1\\right)} + \\frac{1}{\\left(- \\delta + z\\right) \\left(e^{\\alpha z + \\mu} - 1\\right)}\\right)\\, dx$"
      ],
      "text/plain": [
       "Integral(-1/((-delta + z)*(exp(beta*z + nu) - 1)) + 1/((-delta + z)*(exp(alpha*z + mu) - 1)), (x, -R, R))"
      ]
     },
     "execution_count": 15,
     "metadata": {},
     "output_type": "execute_result"
    }
   ],
   "source": [
    "straight_part = Integral(integrand_z,(x,-R,R))\n",
    "straight_part"
   ]
  },
  {
   "cell_type": "markdown",
   "metadata": {},
   "source": [
    "## PART 2"
   ]
  },
  {
   "cell_type": "code",
   "execution_count": 11,
   "metadata": {
    "scrolled": true
   },
   "outputs": [
    {
     "data": {
      "text/latex": [
       "$\\displaystyle z = R e^{i \\theta}$"
      ],
      "text/plain": [
       "Eq(z, R*exp(I*theta))"
      ]
     },
     "execution_count": 11,
     "metadata": {},
     "output_type": "execute_result"
    }
   ],
   "source": [
    "Eq(z,R*exp(I*theta))"
   ]
  },
  {
   "cell_type": "code",
   "execution_count": 12,
   "metadata": {
    "scrolled": true
   },
   "outputs": [
    {
     "data": {
      "text/latex": [
       "$\\displaystyle i R e^{i \\theta}$"
      ],
      "text/plain": [
       "I*R*exp(I*theta)"
      ]
     },
     "execution_count": 12,
     "metadata": {},
     "output_type": "execute_result"
    }
   ],
   "source": [
    "diff(R*exp(I*theta),theta)"
   ]
  },
  {
   "cell_type": "code",
   "execution_count": 16,
   "metadata": {},
   "outputs": [],
   "source": [
    "semic_integrand = integrand_z.subs(z,R*exp(I*theta))*(I*R*exp(I*theta))"
   ]
  },
  {
   "cell_type": "code",
   "execution_count": 17,
   "metadata": {
    "scrolled": true
   },
   "outputs": [
    {
     "data": {
      "text/latex": [
       "$\\displaystyle \\int\\limits_{0}^{\\pi} i R \\left(- \\frac{1}{\\left(R e^{i \\theta} - \\delta\\right) \\left(e^{R \\beta e^{i \\theta} + \\nu} - 1\\right)} + \\frac{1}{\\left(R e^{i \\theta} - \\delta\\right) \\left(e^{R \\alpha e^{i \\theta} + \\mu} - 1\\right)}\\right) e^{i \\theta}\\, d\\theta$"
      ],
      "text/plain": [
       "Integral(I*R*(-1/((R*exp(I*theta) - delta)*(exp(R*beta*exp(I*theta) + nu) - 1)) + 1/((R*exp(I*theta) - delta)*(exp(R*alpha*exp(I*theta) + mu) - 1)))*exp(I*theta), (theta, 0, pi))"
      ]
     },
     "execution_count": 17,
     "metadata": {},
     "output_type": "execute_result"
    }
   ],
   "source": [
    "semic_part = Integral(semic_integrand,(theta,0,pi))\n",
    "semic_part"
   ]
  },
  {
   "cell_type": "code",
   "execution_count": 29,
   "metadata": {},
   "outputs": [
    {
     "data": {
      "text/latex": [
       "$\\displaystyle \\beta = e^{i \\phi} \\left|{\\beta}\\right|$"
      ],
      "text/plain": [
       "Eq(beta, exp(I*phi)*Abs(beta))"
      ]
     },
     "execution_count": 29,
     "metadata": {},
     "output_type": "execute_result"
    }
   ],
   "source": [
    "Eq(beta, abs(beta)*exp(I*phi))"
   ]
  },
  {
   "cell_type": "code",
   "execution_count": 30,
   "metadata": {},
   "outputs": [
    {
     "data": {
      "text/latex": [
       "$\\displaystyle \\alpha = e^{i \\omega} \\left|{\\alpha}\\right|$"
      ],
      "text/plain": [
       "Eq(alpha, exp(I*omega)*Abs(alpha))"
      ]
     },
     "execution_count": 30,
     "metadata": {},
     "output_type": "execute_result"
    }
   ],
   "source": [
    "Eq(alpha, abs(alpha)*exp(I*omega))"
   ]
  },
  {
   "cell_type": "code",
   "execution_count": 26,
   "metadata": {},
   "outputs": [
    {
     "data": {
      "text/latex": [
       "$\\displaystyle - \\sin{\\left(\\theta \\right)} \\operatorname{im}{\\left(\\beta\\right)} + \\cos{\\left(\\theta \\right)} \\operatorname{re}{\\left(\\beta\\right)}$"
      ],
      "text/plain": [
       "-sin(theta)*im(beta) + cos(theta)*re(beta)"
      ]
     },
     "execution_count": 26,
     "metadata": {},
     "output_type": "execute_result"
    }
   ],
   "source": [
    "((re(beta) + I*im(beta))*(cos(theta) + I*sin(theta))).expand().subs(I,0)"
   ]
  },
  {
   "cell_type": "code",
   "execution_count": 31,
   "metadata": {},
   "outputs": [
    {
     "data": {
      "text/latex": [
       "$\\displaystyle \\operatorname{re}{\\left(\\beta e^{i \\theta}\\right)} = \\cos{\\left(\\phi + \\theta \\right)}$"
      ],
      "text/plain": [
       "Eq(re(beta*exp(I*theta)), cos(phi + theta))"
      ]
     },
     "execution_count": 31,
     "metadata": {},
     "output_type": "execute_result"
    }
   ],
   "source": [
    "Eq(re(beta*exp(I*theta)), cos(theta+phi))"
   ]
  },
  {
   "cell_type": "code",
   "execution_count": 44,
   "metadata": {},
   "outputs": [
    {
     "data": {
      "text/latex": [
       "$\\displaystyle \\operatorname{sign}{\\left(\\operatorname{re}{\\left(\\beta e^{i \\theta}\\right)} \\right)} = \\begin{cases} 1 & \\text{for}\\: \\left|{\\phi + \\theta}\\right| < \\frac{\\pi}{2} \\\\0 & \\text{for}\\: \\left|{\\phi + \\theta}\\right| = \\frac{\\pi}{2} \\\\-1 & \\text{otherwise} \\end{cases}$"
      ],
      "text/plain": [
       "Eq(sign(re(beta*exp(I*theta))), Piecewise((1, Abs(phi + theta) < pi/2), (0, Eq(Abs(phi + theta), pi/2)), (-1, True)))"
      ]
     },
     "execution_count": 44,
     "metadata": {},
     "output_type": "execute_result"
    }
   ],
   "source": [
    "Eq(sign(re(beta*exp(I*theta))), Piecewise((1, abs(phi+theta) < pi/2), (0, Eq(abs(phi+theta), pi/2)), (-1, True)))"
   ]
  },
  {
   "cell_type": "code",
   "execution_count": 45,
   "metadata": {},
   "outputs": [
    {
     "data": {
      "text/latex": [
       "$\\displaystyle \\operatorname{re}{\\left(\\alpha e^{i \\theta}\\right)} = \\cos{\\left(\\omega + \\theta \\right)}$"
      ],
      "text/plain": [
       "Eq(re(alpha*exp(I*theta)), cos(omega + theta))"
      ]
     },
     "execution_count": 45,
     "metadata": {},
     "output_type": "execute_result"
    }
   ],
   "source": [
    "Eq(re(alpha*exp(I*theta)), cos(theta+omega))"
   ]
  },
  {
   "cell_type": "code",
   "execution_count": 53,
   "metadata": {},
   "outputs": [
    {
     "data": {
      "text/latex": [
       "$\\displaystyle \\operatorname{sign}{\\left(\\operatorname{re}{\\left(\\alpha e^{i \\theta}\\right)} \\right)} = \\begin{cases} 1 & \\text{for}\\: \\left|{\\omega + \\theta}\\right| < \\frac{\\pi}{2} \\\\0 & \\text{for}\\: \\left|{\\omega + \\theta}\\right| = \\frac{\\pi}{2} \\\\-1 & \\text{otherwise} \\end{cases}$"
      ],
      "text/plain": [
       "Eq(sign(re(alpha*exp(I*theta))), Piecewise((1, Abs(omega + theta) < pi/2), (0, Eq(Abs(omega + theta), pi/2)), (-1, True)))"
      ]
     },
     "execution_count": 53,
     "metadata": {},
     "output_type": "execute_result"
    }
   ],
   "source": [
    "Eq(sign(re(alpha*exp(I*theta))), Piecewise((1, abs(omega+theta) < pi/2), (0, Eq(abs(omega+theta), pi/2)), (-1, True)))"
   ]
  },
  {
   "cell_type": "code",
   "execution_count": 57,
   "metadata": {
    "scrolled": true
   },
   "outputs": [
    {
     "data": {
      "text/latex": [
       "$\\displaystyle i R \\left(- \\frac{1}{\\left(R e^{i \\theta} - \\delta\\right) \\left(e^{R + \\nu} - 1\\right)} + \\frac{1}{\\left(R e^{i \\theta} - \\delta\\right) \\left(e^{R + \\mu} - 1\\right)}\\right) e^{i \\theta}$"
      ],
      "text/plain": [
       "I*R*(-1/((R*exp(I*theta) - delta)*(exp(R + nu) - 1)) + 1/((R*exp(I*theta) - delta)*(exp(R + mu) - 1)))*exp(I*theta)"
      ]
     },
     "execution_count": 57,
     "metadata": {},
     "output_type": "execute_result"
    }
   ],
   "source": [
    "semic_integrand.subs([(beta*exp(I*theta),1), (alpha*exp(I*theta),1)])"
   ]
  },
  {
   "cell_type": "code",
   "execution_count": 67,
   "metadata": {},
   "outputs": [],
   "source": [
    "from sympy.functions.elementary.piecewise import ExprCondPair"
   ]
  },
  {
   "cell_type": "code",
   "execution_count": 70,
   "metadata": {
    "scrolled": true
   },
   "outputs": [
    {
     "data": {
      "text/latex": [
       "$\\displaystyle \\left( \\lim_{R \\to \\infty}\\left(i R \\left(- \\frac{1}{\\left(R e^{i \\theta} - \\delta\\right) \\left(e^{R \\beta e^{i \\theta} + \\nu} - 1\\right)} + \\frac{1}{\\left(R e^{i \\theta} - \\delta\\right) \\left(e^{R \\alpha e^{i \\theta} + \\mu} - 1\\right)}\\right) e^{i \\theta}\\right) = 0, \\  \\left|{\\omega + \\theta}\\right| < \\frac{\\pi}{2} \\wedge \\left|{\\phi + \\theta}\\right| < \\frac{\\pi}{2}\\right)$"
      ],
      "text/plain": [
       "(Eq(Limit(I*R*(-1/((R*exp(I*theta) - delta)*(exp(R*beta*exp(I*theta) + nu) - 1)) + 1/((R*exp(I*theta) - delta)*(exp(R*alpha*exp(I*theta) + mu) - 1)))*exp(I*theta), R, oo, dir='-'), 0), (Abs(omega + theta) < pi/2) & (Abs(phi + theta) < pi/2))"
      ]
     },
     "execution_count": 70,
     "metadata": {},
     "output_type": "execute_result"
    }
   ],
   "source": [
    "ExprCondPair(\n",
    "    Eq(\n",
    "        Limit(semic_integrand, R, oo),\n",
    "        limit(semic_integrand.subs([(beta*exp(I*theta),1), (alpha*exp(I*theta),1)]), R, oo)\n",
    "    ), \n",
    "    (abs(phi+theta) < pi/2) & (abs(omega+theta)  < pi/2)\n",
    ")"
   ]
  },
  {
   "cell_type": "code",
   "execution_count": 73,
   "metadata": {},
   "outputs": [
    {
     "data": {
      "text/latex": [
       "$\\displaystyle \\left( \\lim_{R \\to \\infty}\\left(i R \\left(- \\frac{1}{\\left(R e^{i \\theta} - \\delta\\right) \\left(e^{R \\beta e^{i \\theta} + \\nu} - 1\\right)} + \\frac{1}{\\left(R e^{i \\theta} - \\delta\\right) \\left(e^{R \\alpha e^{i \\theta} + \\mu} - 1\\right)}\\right) e^{i \\theta}\\right) = 0, \\  \\left|{\\omega + \\theta}\\right| > \\frac{\\pi}{2} \\wedge \\left|{\\phi + \\theta}\\right| > \\frac{\\pi}{2}\\right)$"
      ],
      "text/plain": [
       "(Eq(Limit(I*R*(-1/((R*exp(I*theta) - delta)*(exp(R*beta*exp(I*theta) + nu) - 1)) + 1/((R*exp(I*theta) - delta)*(exp(R*alpha*exp(I*theta) + mu) - 1)))*exp(I*theta), R, oo, dir='-'), 0), (Abs(omega + theta) > pi/2) & (Abs(phi + theta) > pi/2))"
      ]
     },
     "execution_count": 73,
     "metadata": {},
     "output_type": "execute_result"
    }
   ],
   "source": [
    "ExprCondPair(\n",
    "    Eq(\n",
    "        Limit(semic_integrand, R, oo),\n",
    "        0\n",
    "    ), \n",
    "    (abs(phi+theta) > pi/2) & (abs(omega+theta)  > pi/2)\n",
    ")"
   ]
  },
  {
   "cell_type": "code",
   "execution_count": 74,
   "metadata": {},
   "outputs": [
    {
     "data": {
      "text/latex": [
       "$\\displaystyle \\left( \\lim_{R \\to \\infty}\\left(i R \\left(- \\frac{1}{\\left(R e^{i \\theta} - \\delta\\right) \\left(e^{R \\beta e^{i \\theta} + \\nu} - 1\\right)} + \\frac{1}{\\left(R e^{i \\theta} - \\delta\\right) \\left(e^{R \\alpha e^{i \\theta} + \\mu} - 1\\right)}\\right) e^{i \\theta}\\right) = i, \\  \\left|{\\phi + \\theta}\\right| > \\frac{\\pi}{2} \\wedge \\left|{\\omega + \\theta}\\right| < \\frac{\\pi}{2}\\right)$"
      ],
      "text/plain": [
       "(Eq(Limit(I*R*(-1/((R*exp(I*theta) - delta)*(exp(R*beta*exp(I*theta) + nu) - 1)) + 1/((R*exp(I*theta) - delta)*(exp(R*alpha*exp(I*theta) + mu) - 1)))*exp(I*theta), R, oo, dir='-'), I), (Abs(phi + theta) > pi/2) & (Abs(omega + theta) < pi/2))"
      ]
     },
     "execution_count": 74,
     "metadata": {},
     "output_type": "execute_result"
    }
   ],
   "source": [
    "ExprCondPair(\n",
    "    Eq(\n",
    "        Limit(semic_integrand, R, oo),\n",
    "        I\n",
    "    ), \n",
    "    (abs(phi+theta) > pi/2) & (abs(omega+theta)  < pi/2)\n",
    ")"
   ]
  },
  {
   "cell_type": "code",
   "execution_count": 75,
   "metadata": {},
   "outputs": [
    {
     "data": {
      "text/latex": [
       "$\\displaystyle \\left( \\lim_{R \\to \\infty}\\left(i R \\left(- \\frac{1}{\\left(R e^{i \\theta} - \\delta\\right) \\left(e^{R \\beta e^{i \\theta} + \\nu} - 1\\right)} + \\frac{1}{\\left(R e^{i \\theta} - \\delta\\right) \\left(e^{R \\alpha e^{i \\theta} + \\mu} - 1\\right)}\\right) e^{i \\theta}\\right) = - i, \\  \\left|{\\omega + \\theta}\\right| > \\frac{\\pi}{2} \\wedge \\left|{\\phi + \\theta}\\right| < \\frac{\\pi}{2}\\right)$"
      ],
      "text/plain": [
       "(Eq(Limit(I*R*(-1/((R*exp(I*theta) - delta)*(exp(R*beta*exp(I*theta) + nu) - 1)) + 1/((R*exp(I*theta) - delta)*(exp(R*alpha*exp(I*theta) + mu) - 1)))*exp(I*theta), R, oo, dir='-'), -I), (Abs(omega + theta) > pi/2) & (Abs(phi + theta) < pi/2))"
      ]
     },
     "execution_count": 75,
     "metadata": {},
     "output_type": "execute_result"
    }
   ],
   "source": [
    "ExprCondPair(\n",
    "    Eq(\n",
    "        Limit(semic_integrand, R, oo),\n",
    "        -I\n",
    "    ), \n",
    "    (abs(phi+theta) < pi/2) & (abs(omega+theta)  > pi/2)\n",
    ")"
   ]
  },
  {
   "cell_type": "markdown",
   "metadata": {},
   "source": [
    "### Poles"
   ]
  },
  {
   "cell_type": "code",
   "execution_count": 76,
   "metadata": {
    "scrolled": true
   },
   "outputs": [
    {
     "data": {
      "text/latex": [
       "$\\displaystyle - \\frac{1}{\\left(- \\delta + z\\right) \\left(e^{\\beta z + \\nu} - 1\\right)} + \\frac{1}{\\left(- \\delta + z\\right) \\left(e^{\\alpha z + \\mu} - 1\\right)}$"
      ],
      "text/plain": [
       "-1/((-delta + z)*(exp(beta*z + nu) - 1)) + 1/((-delta + z)*(exp(alpha*z + mu) - 1))"
      ]
     },
     "execution_count": 76,
     "metadata": {},
     "output_type": "execute_result"
    }
   ],
   "source": [
    "integrand_z"
   ]
  },
  {
   "cell_type": "markdown",
   "metadata": {},
   "source": [
    "#### First term"
   ]
  },
  {
   "cell_type": "code",
   "execution_count": 85,
   "metadata": {},
   "outputs": [
    {
     "data": {
      "text/latex": [
       "$\\displaystyle \\beta z + \\nu = 2 i \\pi n$"
      ],
      "text/plain": [
       "Eq(beta*z + nu, 2*I*pi*n)"
      ]
     },
     "execution_count": 85,
     "metadata": {},
     "output_type": "execute_result"
    }
   ],
   "source": [
    "Eq(beta*z+nu,2*n*I*pi)"
   ]
  },
  {
   "cell_type": "code",
   "execution_count": 86,
   "metadata": {
    "scrolled": true
   },
   "outputs": [
    {
     "data": {
      "text/latex": [
       "$\\displaystyle z = \\frac{2 i \\pi n - \\nu}{\\beta}$"
      ],
      "text/plain": [
       "Eq(z, (2*I*pi*n - nu)/beta)"
      ]
     },
     "execution_count": 86,
     "metadata": {},
     "output_type": "execute_result"
    }
   ],
   "source": [
    "Eq(z,solve(beta*z+nu-2*n*I*pi,z)[0])"
   ]
  },
  {
   "cell_type": "code",
   "execution_count": 91,
   "metadata": {},
   "outputs": [],
   "source": [
    "pole_set_1 = solve(beta*z+nu-2*n*I*pi,z)[0]"
   ]
  },
  {
   "cell_type": "code",
   "execution_count": 92,
   "metadata": {},
   "outputs": [],
   "source": [
    "nnn=1"
   ]
  },
  {
   "cell_type": "code",
   "execution_count": 93,
   "metadata": {},
   "outputs": [
    {
     "data": {
      "text/latex": [
       "$\\displaystyle z = \\frac{- \\nu + 2 i \\pi}{\\beta}$"
      ],
      "text/plain": [
       "Eq(z, (-nu + 2*I*pi)/beta)"
      ]
     },
     "execution_count": 93,
     "metadata": {},
     "output_type": "execute_result"
    }
   ],
   "source": [
    "Eq(z,pole_set_1).subs(n,nnn)"
   ]
  },
  {
   "cell_type": "code",
   "execution_count": 94,
   "metadata": {},
   "outputs": [
    {
     "data": {
      "text/latex": [
       "$\\displaystyle z = \\frac{- \\nu + 6.28318530717959 i}{\\beta}$"
      ],
      "text/plain": [
       "Eq(z, (-nu + 6.28318530717959*I)/beta)"
      ]
     },
     "execution_count": 94,
     "metadata": {},
     "output_type": "execute_result"
    }
   ],
   "source": [
    "Eq(z,pole_set_1).subs(n,nnn).evalf()"
   ]
  },
  {
   "cell_type": "code",
   "execution_count": 95,
   "metadata": {},
   "outputs": [
    {
     "data": {
      "text/latex": [
       "$\\displaystyle \\left|{z}\\right| = \\left|{\\frac{\\nu - 2 i \\pi}{\\beta}}\\right|$"
      ],
      "text/plain": [
       "Eq(Abs(z), Abs((nu - 2*I*pi)/beta))"
      ]
     },
     "execution_count": 95,
     "metadata": {},
     "output_type": "execute_result"
    }
   ],
   "source": [
    "Eq(abs(z),abs(pole_set_1)).subs(n,nnn).evalf()"
   ]
  },
  {
   "cell_type": "markdown",
   "metadata": {},
   "source": [
    "#### Second term"
   ]
  },
  {
   "cell_type": "code",
   "execution_count": 97,
   "metadata": {},
   "outputs": [
    {
     "data": {
      "text/latex": [
       "$\\displaystyle \\alpha z + \\mu = 2 i \\pi m$"
      ],
      "text/plain": [
       "Eq(alpha*z + mu, 2*I*pi*m)"
      ]
     },
     "execution_count": 97,
     "metadata": {},
     "output_type": "execute_result"
    }
   ],
   "source": [
    "Eq(alpha*z+mu,2*m*I*pi)"
   ]
  },
  {
   "cell_type": "code",
   "execution_count": 98,
   "metadata": {
    "scrolled": true
   },
   "outputs": [
    {
     "data": {
      "text/latex": [
       "$\\displaystyle z = \\frac{2 i \\pi m - \\mu}{\\alpha}$"
      ],
      "text/plain": [
       "Eq(z, (2*I*pi*m - mu)/alpha)"
      ]
     },
     "execution_count": 98,
     "metadata": {},
     "output_type": "execute_result"
    }
   ],
   "source": [
    "Eq(z,solve(alpha*z+mu-2*m*I*pi,z)[0])"
   ]
  },
  {
   "cell_type": "code",
   "execution_count": 99,
   "metadata": {},
   "outputs": [],
   "source": [
    "pole_set_2 = solve(alpha*z+mu-2*m*I*pi,z)[0]"
   ]
  },
  {
   "cell_type": "code",
   "execution_count": 101,
   "metadata": {},
   "outputs": [],
   "source": [
    "mmm=0"
   ]
  },
  {
   "cell_type": "code",
   "execution_count": 102,
   "metadata": {},
   "outputs": [
    {
     "data": {
      "text/latex": [
       "$\\displaystyle z = - \\frac{\\mu}{\\alpha}$"
      ],
      "text/plain": [
       "Eq(z, -mu/alpha)"
      ]
     },
     "execution_count": 102,
     "metadata": {},
     "output_type": "execute_result"
    }
   ],
   "source": [
    "Eq(z,pole_set_2).subs(m,mmm)"
   ]
  },
  {
   "cell_type": "code",
   "execution_count": 103,
   "metadata": {},
   "outputs": [
    {
     "data": {
      "text/latex": [
       "$\\displaystyle z = - \\frac{\\mu}{\\alpha}$"
      ],
      "text/plain": [
       "Eq(z, -mu/alpha)"
      ]
     },
     "execution_count": 103,
     "metadata": {},
     "output_type": "execute_result"
    }
   ],
   "source": [
    "Eq(z,pole_set_2).subs(m,mmm).evalf()"
   ]
  },
  {
   "cell_type": "code",
   "execution_count": 104,
   "metadata": {
    "scrolled": true
   },
   "outputs": [
    {
     "data": {
      "text/latex": [
       "$\\displaystyle \\left|{z}\\right| = \\left|{\\frac{\\mu}{\\alpha}}\\right|$"
      ],
      "text/plain": [
       "Eq(Abs(z), Abs(mu/alpha))"
      ]
     },
     "execution_count": 104,
     "metadata": {},
     "output_type": "execute_result"
    }
   ],
   "source": [
    "Eq(abs(z),abs(pole_set_2)).subs(m,mmm).evalf()"
   ]
  },
  {
   "cell_type": "markdown",
   "metadata": {},
   "source": [
    "### Residues"
   ]
  },
  {
   "cell_type": "code",
   "execution_count": 106,
   "metadata": {},
   "outputs": [
    {
     "data": {
      "text/latex": [
       "$\\displaystyle \\lim_{k \\to - \\frac{s}{a}^+}\\left(\\frac{k + \\frac{s}{a}}{\\left(k - t\\right) \\left(e^{a k + s} - 1\\right)}\\right) = \\frac{1}{- a t - s}$"
      ],
      "text/plain": [
       "Eq(Limit((k + s/a)/((k - t)*(exp(a*k + s) - 1)), k, -s/a), 1/(-a*t - s))"
      ]
     },
     "execution_count": 106,
     "metadata": {},
     "output_type": "execute_result"
    }
   ],
   "source": [
    "residue_expr_1 = Eq(Limit((k-(-s/a))/(k-t)*(1/(exp(s+a*k)-1)),k,-s/a),\n",
    "   limit((k-(-s/a))/(k-t)*(1/(exp(s+a*k)-1)),k,-s/a))\n",
    "residue_expr_1"
   ]
  },
  {
   "cell_type": "code",
   "execution_count": 105,
   "metadata": {},
   "outputs": [
    {
     "data": {
      "text/latex": [
       "$\\displaystyle \\frac{2 i \\pi n - \\nu}{\\beta}$"
      ],
      "text/plain": [
       "(2*I*pi*n - nu)/beta"
      ]
     },
     "execution_count": 105,
     "metadata": {},
     "output_type": "execute_result"
    }
   ],
   "source": [
    "pole_set_1"
   ]
  },
  {
   "cell_type": "code",
   "execution_count": 109,
   "metadata": {
    "scrolled": true
   },
   "outputs": [
    {
     "data": {
      "text/latex": [
       "$\\displaystyle \\lim_{k \\to - \\frac{- 2 i \\pi n + \\nu}{\\beta}^+}\\left(\\frac{k + \\frac{- 2 i \\pi n + \\nu}{\\beta}}{\\left(- \\delta + k\\right) \\left(e^{\\beta k + \\nu} - 1\\right)}\\right) = \\frac{1}{- \\beta \\delta + 2 i \\pi n - \\nu}$"
      ],
      "text/plain": [
       "Eq(Limit((k + (-2*I*pi*n + nu)/beta)/((-delta + k)*(exp(beta*k + nu) - 1)), k, -(-2*I*pi*n + nu)/beta), 1/(-beta*delta + 2*I*pi*n - nu))"
      ]
     },
     "execution_count": 109,
     "metadata": {},
     "output_type": "execute_result"
    }
   ],
   "source": [
    "residue_expr_1.subs([(s,-2*I*pi*n+nu),(a,beta),(t,delta)]).subs(\n",
    "    exp(beta*k - 2*I*pi*n + nu), exp(beta*k + nu)\n",
    ")"
   ]
  },
  {
   "cell_type": "code",
   "execution_count": 197,
   "metadata": {},
   "outputs": [
    {
     "data": {
      "text/latex": [
       "$\\displaystyle R^{2} = \\frac{4 \\pi^{2} n^{2} - 4 \\pi n \\operatorname{im}{\\left(\\nu\\right)} + \\left|{\\nu}\\right|^{2}}{\\left|{\\beta}\\right|^{2}}$"
      ],
      "text/plain": [
       "Eq(R**2, (4*pi**2*n**2 - 4*pi*n*im(nu) + Abs(nu)**2)/Abs(beta)**2)"
      ]
     },
     "execution_count": 197,
     "metadata": {},
     "output_type": "execute_result"
    }
   ],
   "source": [
    "xx = pole_set_1.subs([(nu,re(nu)+I*im(nu)),(beta,re(beta)+I*im(beta))])\n",
    "xc = pole_set_1.subs([(nu,re(nu)-I*im(nu)),(beta,re(beta)-I*im(beta)),(n,-n)])\n",
    "radius_boundary_1 = (Eq(xx * xc, R**2)).expand().simplify().subs([\n",
    "    (re(beta)**2 + im(beta)**2,abs(beta)**2), \n",
    "    (re(nu)**2 + im(nu)**2,abs(nu)**2)\n",
    "])\n",
    "radius_boundary_1"
   ]
  },
  {
   "cell_type": "code",
   "execution_count": 207,
   "metadata": {},
   "outputs": [
    {
     "data": {
      "text/latex": [
       "$\\displaystyle \\frac{\\sqrt{R^{2} \\left|{\\beta^{2}}\\right| - \\left(\\operatorname{re}{\\left(\\nu\\right)}\\right)^{2}} + \\operatorname{im}{\\left(\\nu\\right)}}{2 \\pi}$"
      ],
      "text/plain": [
       "(sqrt(R**2*Abs(beta**2) - re(nu)**2) + im(nu))/(2*pi)"
      ]
     },
     "execution_count": 207,
     "metadata": {},
     "output_type": "execute_result"
    }
   ],
   "source": [
    "solve(radius_boundary_1.expand().simplify(),n)[1].subs(im(nu)**2, abs(nu**2) - re(nu)**2)"
   ]
  },
  {
   "cell_type": "code",
   "execution_count": 209,
   "metadata": {},
   "outputs": [
    {
     "data": {
      "text/latex": [
       "$\\displaystyle \\frac{2 \\pi n}{\\beta} > 0$"
      ],
      "text/plain": [
       "2*pi*n/beta > 0"
      ]
     },
     "execution_count": 209,
     "metadata": {},
     "output_type": "execute_result"
    }
   ],
   "source": [
    "solve((im(pole_set_1) > 0).simplify().subs([(re(n),n),(im(n),0)]),n)"
   ]
  },
  {
   "cell_type": "code",
   "execution_count": 208,
   "metadata": {},
   "outputs": [
    {
     "data": {
      "text/latex": [
       "$\\displaystyle \\frac{\\left(2 \\pi n - \\operatorname{im}{\\left(\\nu\\right)}\\right) \\operatorname{re}{\\left(\\beta\\right)} + \\operatorname{re}{\\left(\\nu\\right)} \\operatorname{im}{\\left(\\beta\\right)}}{\\left(\\operatorname{re}{\\left(\\beta\\right)}\\right)^{2} + \\left(\\operatorname{im}{\\left(\\beta\\right)}\\right)^{2}} > 0$"
      ],
      "text/plain": [
       "((2*pi*n - im(nu))*re(beta) + re(nu)*im(beta))/(re(beta)**2 + im(beta)**2) > 0"
      ]
     },
     "execution_count": 208,
     "metadata": {},
     "output_type": "execute_result"
    }
   ],
   "source": [
    "(im(pole_set_1) > 0).simplify().subs([(re(n),n),(im(n),0)])"
   ]
  },
  {
   "cell_type": "code",
   "execution_count": 190,
   "metadata": {},
   "outputs": [
    {
     "data": {
      "text/latex": [
       "$\\displaystyle \\lim_{k \\to - \\frac{- 2 i \\pi m + \\mu}{\\alpha}^+}\\left(\\frac{k + \\frac{- 2 i \\pi m + \\mu}{\\alpha}}{\\left(- \\delta + k\\right) \\left(e^{\\alpha k + \\mu} - 1\\right)}\\right) = \\frac{1}{- \\alpha \\delta + 2 i \\pi m - \\mu}$"
      ],
      "text/plain": [
       "Eq(Limit((k + (-2*I*pi*m + mu)/alpha)/((-delta + k)*(exp(alpha*k + mu) - 1)), k, -(-2*I*pi*m + mu)/alpha), 1/(-alpha*delta + 2*I*pi*m - mu))"
      ]
     },
     "execution_count": 190,
     "metadata": {},
     "output_type": "execute_result"
    }
   ],
   "source": [
    "residue_expr_1.subs([(s,-2*I*pi*m + mu),(a,alpha),(t,delta)]).subs(\n",
    "    exp(alpha*k - 2*I*pi*m + mu), exp(alpha*k + mu)\n",
    ")"
   ]
  },
  {
   "cell_type": "code",
   "execution_count": 178,
   "metadata": {},
   "outputs": [
    {
     "data": {
      "text/latex": [
       "$\\displaystyle \\frac{2 i \\pi m - \\mu}{\\alpha}$"
      ],
      "text/plain": [
       "(2*I*pi*m - mu)/alpha"
      ]
     },
     "execution_count": 178,
     "metadata": {},
     "output_type": "execute_result"
    }
   ],
   "source": [
    "pole_set_2"
   ]
  },
  {
   "cell_type": "code",
   "execution_count": 182,
   "metadata": {},
   "outputs": [
    {
     "data": {
      "text/latex": [
       "$\\displaystyle R^{2} = \\frac{4 \\pi^{2} m^{2} - 4 \\pi m \\operatorname{im}{\\left(\\mu\\right)} + \\left|{\\mu}\\right|^{2}}{\\left|{\\alpha}\\right|^{2}}$"
      ],
      "text/plain": [
       "Eq(R**2, (4*pi**2*m**2 - 4*pi*m*im(mu) + Abs(mu)**2)/Abs(alpha)**2)"
      ]
     },
     "execution_count": 182,
     "metadata": {},
     "output_type": "execute_result"
    }
   ],
   "source": [
    "xx = pole_set_2.subs([(mu,re(mu)+I*im(mu)),(alpha,re(alpha)+I*im(alpha))])\n",
    "xc = pole_set_2.subs([(mu,re(mu)-I*im(mu)),(alpha,re(alpha)-I*im(alpha)),(m,-m)])\n",
    "radius_boundary_2 = (Eq(xx * xc, R**2)).expand().simplify().subs([\n",
    "    (re(alpha)**2 + im(alpha)**2,abs(alpha)**2), \n",
    "    (re(mu)**2 + im(mu)**2,abs(mu)**2)\n",
    "])\n",
    "radius_boundary_2"
   ]
  },
  {
   "cell_type": "code",
   "execution_count": 184,
   "metadata": {},
   "outputs": [
    {
     "data": {
      "text/latex": [
       "$\\displaystyle \\frac{\\sqrt{R^{2} \\left|{\\alpha^{2}}\\right| + \\left(\\operatorname{im}{\\left(\\mu\\right)}\\right)^{2} - \\left|{\\mu^{2}}\\right|} + \\operatorname{im}{\\left(\\mu\\right)}}{2 \\pi}$"
      ],
      "text/plain": [
       "(sqrt(R**2*Abs(alpha**2) + im(mu)**2 - Abs(mu**2)) + im(mu))/(2*pi)"
      ]
     },
     "execution_count": 184,
     "metadata": {},
     "output_type": "execute_result"
    }
   ],
   "source": [
    "solve(radius_boundary_2.expand().simplify(),m)[1]"
   ]
  },
  {
   "cell_type": "code",
   "execution_count": 117,
   "metadata": {},
   "outputs": [
    {
     "data": {
      "text/latex": [
       "$\\displaystyle \\frac{2 \\pi m}{\\alpha} > 0$"
      ],
      "text/plain": [
       "2*pi*m/alpha > 0"
      ]
     },
     "execution_count": 117,
     "metadata": {},
     "output_type": "execute_result"
    }
   ],
   "source": [
    "solve((im(pole_set_2) > 0).simplify().subs([(re(m),m),(im(m),0)]),m)"
   ]
  },
  {
   "cell_type": "code",
   "execution_count": 71,
   "metadata": {},
   "outputs": [
    {
     "data": {
      "text/latex": [
       "$\\displaystyle - 2 i \\pi \\sum_{m=0}^{M} - \\frac{1}{i \\pi \\left(4 m + 1\\right) - 4} + 2 i \\pi \\sum_{n=1}^{N} - \\frac{1}{i \\pi \\left(4 n - 1\\right) - 4 - 2 i \\pi}$"
      ],
      "text/plain": [
       "-2*I*pi*Sum(-1/(I*pi*(4*m + 1) - 4), (m, 0, M)) + 2*I*pi*Sum(-1/(I*pi*(4*n - 1) - 4 - 2*I*pi), (n, 1, N))"
      ]
     },
     "execution_count": 71,
     "metadata": {},
     "output_type": "execute_result"
    }
   ],
   "source": [
    "residue_sum_1 = 2*I*pi*Sum(-1/(I*pi*(4*n-1)-4-2*I*pi),(n,1,N)) - 2*I*pi*Sum(-1/(I*pi*(4*m+1)-4),(m,0,M))\n",
    "residue_sum_1"
   ]
  },
  {
   "cell_type": "code",
   "execution_count": 65,
   "metadata": {},
   "outputs": [
    {
     "data": {
      "text/plain": [
       "[(-2*R*sqrt(4 + pi**2) + pi)/(4*pi), (2*R*sqrt(4 + pi**2) + pi)/(4*pi)]"
      ]
     },
     "execution_count": 65,
     "metadata": {},
     "output_type": "execute_result"
    }
   ],
   "source": [
    "solve(Eq(pole_set_1*(pole_set_1.subs(I,-I)), R**2), n)"
   ]
  },
  {
   "cell_type": "code",
   "execution_count": 66,
   "metadata": {},
   "outputs": [
    {
     "data": {
      "text/latex": [
       "$\\displaystyle n < \\frac{2 R \\sqrt{4 + \\pi^{2}} + \\pi}{4 \\pi}$"
      ],
      "text/plain": [
       "n < (2*R*sqrt(4 + pi**2) + pi)/(4*pi)"
      ]
     },
     "execution_count": 66,
     "metadata": {},
     "output_type": "execute_result"
    }
   ],
   "source": [
    "n < (2*R*sqrt(4 + pi**2) + pi)/(4*pi)"
   ]
  },
  {
   "cell_type": "code",
   "execution_count": 67,
   "metadata": {},
   "outputs": [
    {
     "data": {
      "text/plain": [
       "[(R - pi/4)/pi, -(R + pi/4)/pi]"
      ]
     },
     "execution_count": 67,
     "metadata": {},
     "output_type": "execute_result"
    }
   ],
   "source": [
    "solve(Eq(pole_set_2*(pole_set_2.subs(I,-I)), R**2),m)"
   ]
  },
  {
   "cell_type": "code",
   "execution_count": 68,
   "metadata": {},
   "outputs": [
    {
     "data": {
      "text/latex": [
       "$\\displaystyle m < \\frac{R - \\frac{\\pi}{4}}{\\pi}$"
      ],
      "text/plain": [
       "m < (R - pi/4)/pi"
      ]
     },
     "execution_count": 68,
     "metadata": {},
     "output_type": "execute_result"
    }
   ],
   "source": [
    "m < (R - pi/4)/pi"
   ]
  },
  {
   "cell_type": "code",
   "execution_count": 72,
   "metadata": {},
   "outputs": [
    {
     "data": {
      "text/latex": [
       "$\\displaystyle - 2 i \\pi \\sum_{m=0}^{\\left\\lfloor{\\frac{R - \\frac{\\pi}{4}}{\\pi}}\\right\\rfloor} - \\frac{1}{i \\pi \\left(4 m + 1\\right) - 4} + 2 i \\pi \\sum_{n=1}^{\\left\\lfloor{\\frac{2 R \\sqrt{4 + \\pi^{2}} + \\pi}{4 \\pi}}\\right\\rfloor} - \\frac{1}{i \\pi \\left(4 n - 1\\right) - 4 - 2 i \\pi}$"
      ],
      "text/plain": [
       "-2*I*pi*Sum(-1/(I*pi*(4*m + 1) - 4), (m, 0, floor((R - pi/4)/pi))) + 2*I*pi*Sum(-1/(I*pi*(4*n - 1) - 4 - 2*I*pi), (n, 1, floor((2*R*sqrt(4 + pi**2) + pi)/(4*pi))))"
      ]
     },
     "execution_count": 72,
     "metadata": {},
     "output_type": "execute_result"
    }
   ],
   "source": [
    "residue_sum_2 = residue_sum_1.subs([(M,floor((R - pi/4)/pi)),(N,floor((2*R*sqrt(4 + pi**2) + pi)/(4*pi)))])\n",
    "residue_sum_2"
   ]
  },
  {
   "cell_type": "code",
   "execution_count": 74,
   "metadata": {},
   "outputs": [
    {
     "data": {
      "text/latex": [
       "$\\displaystyle 2 i \\pi \\sum_{n=1}^{0} - \\frac{1}{i \\pi \\left(4 n - 1\\right) - 4 - 2 i \\pi} - 2 i \\pi \\sum_{m=0}^{0} - \\frac{1}{i \\pi \\left(4 m + 1\\right) - 4}$"
      ],
      "text/plain": [
       "2*I*pi*Sum(-1/(I*pi*(4*n - 1) - 4 - 2*I*pi), (n, 1, 0)) - 2*I*pi*Sum(-1/(I*pi*(4*m + 1) - 4), (m, 0, 0))"
      ]
     },
     "execution_count": 74,
     "metadata": {},
     "output_type": "execute_result"
    }
   ],
   "source": [
    "residue_sum_2.subs(R,1)"
   ]
  },
  {
   "cell_type": "code",
   "execution_count": 78,
   "metadata": {},
   "outputs": [
    {
     "data": {
      "text/latex": [
       "$\\displaystyle \\frac{2 i \\pi}{-4 + i \\pi}$"
      ],
      "text/plain": [
       "2*I*pi/(-4 + I*pi)"
      ]
     },
     "execution_count": 78,
     "metadata": {},
     "output_type": "execute_result"
    }
   ],
   "source": [
    "2*I*pi/(I*pi-4)"
   ]
  },
  {
   "cell_type": "code",
   "execution_count": 80,
   "metadata": {},
   "outputs": [
    {
     "data": {
      "text/latex": [
       "$\\displaystyle 0$"
      ],
      "text/plain": [
       "0"
      ]
     },
     "execution_count": 80,
     "metadata": {},
     "output_type": "execute_result"
    }
   ],
   "source": [
    "residue_sum_2.subs(R,2).doit()"
   ]
  },
  {
   "cell_type": "code",
   "execution_count": 83,
   "metadata": {},
   "outputs": [
    {
     "data": {
      "text/latex": [
       "$\\displaystyle - \\frac{2 i \\pi}{-4 + 5 i \\pi}$"
      ],
      "text/plain": [
       "-2*I*pi/(-4 + 5*I*pi)"
      ]
     },
     "execution_count": 83,
     "metadata": {},
     "output_type": "execute_result"
    }
   ],
   "source": [
    "residue_sum_2.subs(R,3).doit().expand()"
   ]
  },
  {
   "cell_type": "code",
   "execution_count": 84,
   "metadata": {},
   "outputs": [
    {
     "data": {
      "text/latex": [
       "$\\displaystyle -0.375641328614285 + 0.0956562788457128 i$"
      ],
      "text/plain": [
       "-0.375641328614285 + 0.0956562788457128*I"
      ]
     },
     "execution_count": 84,
     "metadata": {},
     "output_type": "execute_result"
    }
   ],
   "source": [
    "residue_sum_2.subs(R,3).doit().expand().evalf()"
   ]
  },
  {
   "cell_type": "code",
   "execution_count": 85,
   "metadata": {},
   "outputs": [
    {
     "data": {
      "text/latex": [
       "$\\displaystyle 0$"
      ],
      "text/plain": [
       "0"
      ]
     },
     "execution_count": 85,
     "metadata": {},
     "output_type": "execute_result"
    }
   ],
   "source": [
    "residue_sum_2.subs(R,4).doit().expand()"
   ]
  },
  {
   "cell_type": "code",
   "execution_count": 88,
   "metadata": {},
   "outputs": [
    {
     "data": {
      "text/latex": [
       "$\\displaystyle - \\frac{2 i \\pi}{-4 + 9 i \\pi}$"
      ],
      "text/plain": [
       "-2*I*pi/(-4 + 9*I*pi)"
      ]
     },
     "execution_count": 88,
     "metadata": {},
     "output_type": "execute_result"
    }
   ],
   "source": [
    "residue_sum_2.subs(R,5).doit().expand()"
   ]
  },
  {
   "cell_type": "code",
   "execution_count": 90,
   "metadata": {},
   "outputs": [
    {
     "data": {
      "text/latex": [
       "$\\displaystyle -0.217861920463805 + 0.0308211569362737 i$"
      ],
      "text/plain": [
       "-0.217861920463805 + 0.0308211569362737*I"
      ]
     },
     "execution_count": 90,
     "metadata": {},
     "output_type": "execute_result"
    }
   ],
   "source": [
    "residue_sum_2.subs(R,5).doit().evalf()"
   ]
  },
  {
   "cell_type": "code",
   "execution_count": 91,
   "metadata": {},
   "outputs": [
    {
     "data": {
      "text/latex": [
       "$\\displaystyle - \\frac{2 i \\pi}{-4 + 9 i \\pi}$"
      ],
      "text/plain": [
       "-2*I*pi/(-4 + 9*I*pi)"
      ]
     },
     "execution_count": 91,
     "metadata": {},
     "output_type": "execute_result"
    }
   ],
   "source": [
    "residue_sum_2.subs(R,6).doit().expand()"
   ]
  },
  {
   "cell_type": "code",
   "execution_count": 92,
   "metadata": {},
   "outputs": [
    {
     "data": {
      "text/latex": [
       "$\\displaystyle -0.217861920463805 + 0.0308211569362737 i$"
      ],
      "text/plain": [
       "-0.217861920463805 + 0.0308211569362737*I"
      ]
     },
     "execution_count": 92,
     "metadata": {},
     "output_type": "execute_result"
    }
   ],
   "source": [
    "residue_sum_2.subs(R,6).doit().evalf()"
   ]
  },
  {
   "cell_type": "code",
   "execution_count": 93,
   "metadata": {},
   "outputs": [
    {
     "data": {
      "text/latex": [
       "$\\displaystyle - \\frac{2 i \\pi}{-4 + 45 i \\pi} - \\frac{2 i \\pi}{-4 + 41 i \\pi} - \\frac{2 i \\pi}{-4 + 37 i \\pi} - \\frac{2 i \\pi}{-4 + 33 i \\pi} - \\frac{2 i \\pi}{-4 + 29 i \\pi}$"
      ],
      "text/plain": [
       "-2*I*pi/(-4 + 45*I*pi) - 2*I*pi/(-4 + 41*I*pi) - 2*I*pi/(-4 + 37*I*pi) - 2*I*pi/(-4 + 33*I*pi) - 2*I*pi/(-4 + 29*I*pi)"
      ]
     },
     "execution_count": 93,
     "metadata": {},
     "output_type": "execute_result"
    }
   ],
   "source": [
    "residue_sum_2.subs(R,20).doit().expand()"
   ]
  },
  {
   "cell_type": "code",
   "execution_count": 97,
   "metadata": {},
   "outputs": [
    {
     "data": {
      "text/latex": [
       "$\\displaystyle -0.310856107316786 + 1.1575210291557 \\cdot 10^{-5} i$"
      ],
      "text/plain": [
       "-0.310856107316786 + 1.1575210291557e-5*I"
      ]
     },
     "execution_count": 97,
     "metadata": {},
     "output_type": "execute_result"
    }
   ],
   "source": [
    "residue_sum_2.subs(R,20000).doit().evalf()"
   ]
  },
  {
   "cell_type": "markdown",
   "metadata": {},
   "source": [
    "### Limit of Residue Sum"
   ]
  },
  {
   "cell_type": "code",
   "execution_count": 106,
   "metadata": {},
   "outputs": [
    {
     "data": {
      "text/latex": [
       "$\\displaystyle - 2 i \\pi \\sum_{m=0}^{\\left\\lfloor{\\frac{R - \\frac{\\pi}{4}}{\\pi}}\\right\\rfloor} - \\frac{1}{i \\pi \\left(4 m + 1\\right) - 4} + 2 i \\pi \\sum_{n=1}^{\\left\\lfloor{\\frac{2 R \\sqrt{4 + \\pi^{2}} + \\pi}{4 \\pi}}\\right\\rfloor} - \\frac{1}{i \\pi \\left(4 n - 1\\right) - 4 - 2 i \\pi}$"
      ],
      "text/plain": [
       "-2*I*pi*Sum(-1/(I*pi*(4*m + 1) - 4), (m, 0, floor((R - pi/4)/pi))) + 2*I*pi*Sum(-1/(I*pi*(4*n - 1) - 4 - 2*I*pi), (n, 1, floor((2*R*sqrt(4 + pi**2) + pi)/(4*pi))))"
      ]
     },
     "execution_count": 106,
     "metadata": {},
     "output_type": "execute_result"
    }
   ],
   "source": [
    "(2*I*pi*Sum(-1/(I*pi*(4*n-1)-4-2*I*pi),(n,1,floor((2*R*sqrt(4 + pi**2) + pi)/(4*pi)))) - \n",
    " 2*I*pi*Sum(-1/(I*pi*(4*m+1)-4),(m,0,floor((R - pi/4)/pi))))"
   ]
  },
  {
   "cell_type": "code",
   "execution_count": 110,
   "metadata": {},
   "outputs": [
    {
     "data": {
      "text/latex": [
       "$\\displaystyle \\sum_{m=0}^{\\left\\lfloor{\\frac{R - \\frac{\\pi}{4}}{\\pi}}\\right\\rfloor} \\frac{2 i \\pi}{i \\pi \\left(4 m + 1\\right) - 4} - \\sum_{n=0}^{\\left\\lfloor{\\frac{2 R \\sqrt{4 + \\pi^{2}} + \\pi}{4 \\pi}}\\right\\rfloor - 1} \\frac{2 i \\pi}{i \\pi \\left(4 n + 1\\right) - 4}$"
      ],
      "text/plain": [
       "Sum(2*I*pi/(I*pi*(4*m + 1) - 4), (m, 0, floor((R - pi/4)/pi))) - Sum(2*I*pi/(I*pi*(4*n + 1) - 4), (n, 0, floor((2*R*sqrt(4 + pi**2) + pi)/(4*pi)) - 1))"
      ]
     },
     "execution_count": 110,
     "metadata": {},
     "output_type": "execute_result"
    }
   ],
   "source": [
    "(-Sum(2*I*pi/(I*pi*(4*n+1)-4),(n,0,floor((2*R*sqrt(4 + pi**2) + pi)/(4*pi))-1)) +\n",
    " Sum(2*I*pi/(I*pi*(4*m+1)-4),(m,0,floor((R - pi/4)/pi))))"
   ]
  },
  {
   "cell_type": "code",
   "execution_count": 111,
   "metadata": {},
   "outputs": [
    {
     "data": {
      "text/latex": [
       "$\\displaystyle - \\sum_{n=\\left\\lfloor{\\frac{R - \\frac{\\pi}{4}}{\\pi}}\\right\\rfloor + 1}^{\\left\\lfloor{\\frac{2 R \\sqrt{4 + \\pi^{2}} + \\pi}{4 \\pi}}\\right\\rfloor - 1} \\frac{2 i \\pi}{i \\pi \\left(4 n + 1\\right) - 4}$"
      ],
      "text/plain": [
       "-Sum(2*I*pi/(I*pi*(4*n + 1) - 4), (n, floor((R - pi/4)/pi) + 1, floor((2*R*sqrt(4 + pi**2) + pi)/(4*pi)) - 1))"
      ]
     },
     "execution_count": 111,
     "metadata": {},
     "output_type": "execute_result"
    }
   ],
   "source": [
    "-Sum(2*I*pi/(I*pi*(4*n+1)-4),(n,floor((R - pi/4)/pi)+1,floor((2*R*sqrt(4 + pi**2) + pi)/(4*pi))-1))"
   ]
  },
  {
   "cell_type": "code",
   "execution_count": 112,
   "metadata": {},
   "outputs": [
    {
     "data": {
      "text/latex": [
       "$\\displaystyle - \\sum_{n=0}^{- \\left\\lfloor{\\frac{R - \\frac{\\pi}{4}}{\\pi}}\\right\\rfloor + \\left\\lfloor{\\frac{2 R \\sqrt{4 + \\pi^{2}} + \\pi}{4 \\pi}}\\right\\rfloor - 2} \\frac{2 i \\pi}{i \\pi \\left(4 n + 4 \\left\\lfloor{\\frac{R - \\frac{\\pi}{4}}{\\pi}}\\right\\rfloor + 5\\right) - 4}$"
      ],
      "text/plain": [
       "-Sum(2*I*pi/(I*pi*(4*n + 4*floor((R - pi/4)/pi) + 5) - 4), (n, 0, -floor((R - pi/4)/pi) + floor((2*R*sqrt(4 + pi**2) + pi)/(4*pi)) - 2))"
      ]
     },
     "execution_count": 112,
     "metadata": {},
     "output_type": "execute_result"
    }
   ],
   "source": [
    "-Sum(2*I*pi/(I*pi*(4*(n+floor((R - pi/4)/pi)+1)+1)-4),\n",
    "     (n,0,floor((2*R*sqrt(4 + pi**2) + pi)/(4*pi))-1-(floor((R - pi/4)/pi)+1)))"
   ]
  },
  {
   "cell_type": "code",
   "execution_count": 123,
   "metadata": {},
   "outputs": [
    {
     "data": {
      "text/latex": [
       "$\\displaystyle \\frac{2 \\pi^{2} N}{\\pi^{2} N^{2} + 16}$"
      ],
      "text/plain": [
       "2*pi**2*N/(pi**2*N**2 + 16)"
      ]
     },
     "execution_count": 123,
     "metadata": {},
     "output_type": "execute_result"
    }
   ],
   "source": [
    "((2*I*pi/(I*pi*N-4)+(2*I*pi/(I*pi*N-4)).subs(I,-I))/2).simplify()"
   ]
  },
  {
   "cell_type": "code",
   "execution_count": 162,
   "metadata": {},
   "outputs": [
    {
     "data": {
      "text/latex": [
       "$\\displaystyle \\sum_{n=1}^{\\infty} \\frac{n}{a + n^{2}}$"
      ],
      "text/plain": [
       "Sum(n/(a + n**2), (n, 1, oo))"
      ]
     },
     "execution_count": 162,
     "metadata": {},
     "output_type": "execute_result"
    }
   ],
   "source": [
    "Sum(n/(n**2+a),(n,1,oo)).doit()"
   ]
  },
  {
   "cell_type": "code",
   "execution_count": 124,
   "metadata": {},
   "outputs": [
    {
     "data": {
      "text/latex": [
       "$\\displaystyle \\frac{8 i \\pi}{- \\pi^{2} N^{2} - 16}$"
      ],
      "text/plain": [
       "8*I*pi/(-pi**2*N**2 - 16)"
      ]
     },
     "execution_count": 124,
     "metadata": {},
     "output_type": "execute_result"
    }
   ],
   "source": [
    "((2*I*pi/(I*pi*N-4)-(2*I*pi/(I*pi*N-4)).subs(I,-I))/2).simplify()"
   ]
  },
  {
   "cell_type": "code",
   "execution_count": 137,
   "metadata": {},
   "outputs": [
    {
     "data": {
      "text/latex": [
       "$\\displaystyle -0.306789245559156 + 0.00114485327508744 i$"
      ],
      "text/plain": [
       "-0.306789245559156 + 0.00114485327508744*I"
      ]
     },
     "execution_count": 137,
     "metadata": {},
     "output_type": "execute_result"
    }
   ],
   "source": [
    "(-Sum(2*I*pi/(I*pi*(4*(n+floor((R - pi/4)/pi)+1)+1)-4),\n",
    "     (n,0,floor((2*R*sqrt(4 + pi**2) + pi)/(4*pi))-1-(floor((R - pi/4)/pi)+1)))).subs(R,200).evalf()"
   ]
  },
  {
   "cell_type": "code",
   "execution_count": 134,
   "metadata": {},
   "outputs": [
    {
     "data": {
      "text/latex": [
       "$\\displaystyle -0.306789245559156 + 0.00114485327508744 i$"
      ],
      "text/plain": [
       "-0.306789245559156 + 0.00114485327508744*I"
      ]
     },
     "execution_count": 134,
     "metadata": {},
     "output_type": "execute_result"
    }
   ],
   "source": [
    "((-Sum(2*I*pi/(I*pi*(4*n+1)-4),(n,0,floor((2*R*sqrt(4 + pi**2) + pi)/(4*pi))-1)) +\n",
    " Sum(2*I*pi/(I*pi*(4*m+1)-4),(m,0,floor((R - pi/4)/pi))))).subs(R,200).evalf()"
   ]
  },
  {
   "cell_type": "code",
   "execution_count": 156,
   "metadata": {},
   "outputs": [
    {
     "data": {
      "text/latex": [
       "$\\displaystyle -0.310856107316786$"
      ],
      "text/plain": [
       "-0.310856107316786"
      ]
     },
     "execution_count": 156,
     "metadata": {},
     "output_type": "execute_result"
    }
   ],
   "source": [
    "-Sum(2*pi**2*(4*(n+floor((R - pi/4)/pi)+1)+1)/(pi**2*(4*(n+floor((R - pi/4)/pi)+1)+1)**2+16),\n",
    "      (n, 0, floor((2*R*sqrt(4 + pi**2) + pi)/(4*pi))-1-(floor((R - pi/4)/pi)+1))).subs(R,20000).evalf()"
   ]
  },
  {
   "cell_type": "code",
   "execution_count": 157,
   "metadata": {},
   "outputs": [
    {
     "data": {
      "text/latex": [
       "$\\displaystyle - \\sum_{n=0}^{- \\left\\lfloor{\\frac{R - \\frac{\\pi}{4}}{\\pi}}\\right\\rfloor + \\left\\lfloor{\\frac{2 R \\sqrt{4 + \\pi^{2}} + \\pi}{4 \\pi}}\\right\\rfloor - 2} \\frac{2 \\pi^{2} \\left(4 n + 4 \\left\\lfloor{\\frac{R - \\frac{\\pi}{4}}{\\pi}}\\right\\rfloor + 5\\right)}{\\pi^{2} \\left(4 n + 4 \\left\\lfloor{\\frac{R - \\frac{\\pi}{4}}{\\pi}}\\right\\rfloor + 5\\right)^{2} + 16}$"
      ],
      "text/plain": [
       "-Sum(2*pi**2*(4*n + 4*floor((R - pi/4)/pi) + 5)/(pi**2*(4*n + 4*floor((R - pi/4)/pi) + 5)**2 + 16), (n, 0, -floor((R - pi/4)/pi) + floor((2*R*sqrt(4 + pi**2) + pi)/(4*pi)) - 2))"
      ]
     },
     "execution_count": 157,
     "metadata": {},
     "output_type": "execute_result"
    }
   ],
   "source": [
    "-Sum(2*pi**2*(4*(n+floor((R - pi/4)/pi)+1)+1)/(pi**2*(4*(n+floor((R - pi/4)/pi)+1)+1)**2+16),\n",
    "      (n, 0, floor((2*R*sqrt(4 + pi**2) + pi)/(4*pi))-1-(floor((R - pi/4)/pi)+1)))"
   ]
  },
  {
   "cell_type": "code",
   "execution_count": 166,
   "metadata": {},
   "outputs": [
    {
     "data": {
      "text/latex": [
       "$\\displaystyle \\sum_{n=1}^{N} \\frac{1}{- n + z} = \\operatorname{polygamma}{\\left(0,z \\right)} - \\operatorname{polygamma}{\\left(0,- N + z \\right)}$"
      ],
      "text/plain": [
       "Eq(Sum(1/(-n + z), (n, 1, N)), polygamma(0, z) - polygamma(0, -N + z))"
      ]
     },
     "execution_count": 166,
     "metadata": {},
     "output_type": "execute_result"
    }
   ],
   "source": [
    "digamma_sum = Eq(Sum(1/(z-n),(n,1,N)), digamma(z)-digamma(z-N))\n",
    "digamma_sum"
   ]
  },
  {
   "cell_type": "code",
   "execution_count": 195,
   "metadata": {},
   "outputs": [
    {
     "data": {
      "text/latex": [
       "$\\displaystyle \\sum_{n=0}^{N - 1} \\frac{1}{n + z} = - \\operatorname{polygamma}{\\left(0,z \\right)} + \\operatorname{polygamma}{\\left(0,N + z \\right)}$"
      ],
      "text/plain": [
       "Eq(Sum(1/(n + z), (n, 0, N - 1)), -polygamma(0, z) + polygamma(0, N + z))"
      ]
     },
     "execution_count": 195,
     "metadata": {},
     "output_type": "execute_result"
    }
   ],
   "source": [
    "digamma_sum2 = Eq(Sum(1/(z+n),(n,0,N-1)), digamma(z+N)-digamma(z))\n",
    "digamma_sum2"
   ]
  },
  {
   "cell_type": "code",
   "execution_count": 213,
   "metadata": {},
   "outputs": [
    {
     "data": {
      "text/latex": [
       "$\\displaystyle 2.23840343317281 + 2.16191019507 i$"
      ],
      "text/plain": [
       "2.23840343317281 + 2.16191019507*I"
      ]
     },
     "execution_count": 213,
     "metadata": {},
     "output_type": "execute_result"
    }
   ],
   "source": [
    "Sum(1/(z+n),(n,0,N-1)).subs([(N,40),(z,-I*pi-2)]).doit().evalf()"
   ]
  },
  {
   "cell_type": "code",
   "execution_count": 214,
   "metadata": {},
   "outputs": [
    {
     "data": {
      "text/latex": [
       "$\\displaystyle 2.23840343317281 + 2.16191019507 i$"
      ],
      "text/plain": [
       "2.23840343317281 + 2.16191019507*I"
      ]
     },
     "execution_count": 214,
     "metadata": {},
     "output_type": "execute_result"
    }
   ],
   "source": [
    "(digamma(z+N)-digamma(z)).subs([(N,40),(z,-I*pi-2)]).doit().evalf()"
   ]
  },
  {
   "cell_type": "code",
   "execution_count": 222,
   "metadata": {},
   "outputs": [
    {
     "data": {
      "text/latex": [
       "$\\displaystyle - \\frac{\\sum_{n=0}^{\\left\\lfloor{\\frac{2 R \\sqrt{4 + \\pi^{2}} + \\pi}{4 \\pi}}\\right\\rfloor - 1} \\frac{1}{n + \\frac{1}{4} + \\frac{i}{\\pi}}}{2} + \\frac{\\sum_{n=0}^{\\left\\lfloor{\\frac{R - \\frac{\\pi}{4}}{\\pi}}\\right\\rfloor} \\frac{1}{n + \\frac{1}{4} + \\frac{i}{\\pi}}}{2} = \\frac{\\operatorname{polygamma}{\\left(0,\\left\\lfloor{\\frac{R - \\frac{\\pi}{4}}{\\pi}}\\right\\rfloor + 1.25 + \\frac{i}{\\pi} \\right)}}{2} - \\frac{\\operatorname{polygamma}{\\left(0,\\left\\lfloor{\\frac{2 R \\sqrt{4 + \\pi^{2}} + \\pi}{4 \\pi}}\\right\\rfloor + 0.25 + \\frac{i}{\\pi} \\right)}}{2}$"
      ],
      "text/plain": [
       "Eq(-Sum(1/(n + 1/4 + I/pi), (n, 0, floor((2*R*sqrt(4 + pi**2) + pi)/(4*pi)) - 1))/2 + Sum(1/(n + 1/4 + I/pi), (n, 0, floor((R - pi/4)/pi)))/2, polygamma(0, floor((R - pi/4)/pi) + 1.25 + I/pi)/2 - polygamma(0, floor((2*R*sqrt(4 + pi**2) + pi)/(4*pi)) + 0.25 + I/pi)/2)"
      ]
     },
     "execution_count": 222,
     "metadata": {},
     "output_type": "execute_result"
    }
   ],
   "source": [
    "Eq((-Sum(1/(n+((I*pi-4)/(I*pi*4)).expand()),(n,0,floor((2*R*sqrt(4 + pi**2) + pi)/(4*pi))-1)) +\n",
    " Sum(1/(n+((I*pi-4)/(I*pi*4)).expand()),(n,0,floor((R - pi/4)/pi))))/2,\n",
    "   (-digamma(1/4+I/pi+floor((2*R*sqrt(4 + pi**2) + pi)/(4*pi)))+ digamma(1/4+I/pi+floor((R - pi/4)/pi)+1))/2\n",
    "  )"
   ]
  },
  {
   "cell_type": "code",
   "execution_count": 218,
   "metadata": {},
   "outputs": [
    {
     "data": {
      "text/latex": [
       "$\\displaystyle -0.276481308645715 + 0.00998479767088591 i$"
      ],
      "text/plain": [
       "-0.276481308645715 + 0.00998479767088591*I"
      ]
     },
     "execution_count": 218,
     "metadata": {},
     "output_type": "execute_result"
    }
   ],
   "source": [
    "((-Sum(1/(n+((I*pi-4)/(I*pi*4)).expand()),(n,0,floor((2*R*sqrt(4 + pi**2) + pi)/(4*pi))-1)) +\n",
    " Sum(1/(n+((I*pi-4)/(I*pi*4)).expand()),(n,0,floor((R - pi/4)/pi))))/2).subs(R,20).doit().evalf()"
   ]
  },
  {
   "cell_type": "code",
   "execution_count": 223,
   "metadata": {},
   "outputs": [
    {
     "data": {
      "text/latex": [
       "$\\displaystyle -0.276481308645715 + 0.00998479767088591 i$"
      ],
      "text/plain": [
       "-0.276481308645715 + 0.00998479767088591*I"
      ]
     },
     "execution_count": 223,
     "metadata": {},
     "output_type": "execute_result"
    }
   ],
   "source": [
    "(( (-digamma(1/4+I/pi+floor((2*R*sqrt(4 + pi**2) + pi)/(4*pi)))+ digamma(1/4+I/pi+floor((R - pi/4)/pi)+1))/2)\n",
    " .subs(R,20).evalf())"
   ]
  },
  {
   "cell_type": "markdown",
   "metadata": {},
   "source": [
    "Using the asymptotic expansion of the digamma function"
   ]
  },
  {
   "cell_type": "code",
   "execution_count": 230,
   "metadata": {},
   "outputs": [
    {
     "data": {
      "text/latex": [
       "$\\displaystyle \\lim_{R \\to \\infty}\\left(- \\frac{\\log{\\left(\\frac{\\left\\lfloor{\\frac{2 R \\sqrt{4 + \\pi^{2}} + \\pi}{4 \\pi}}\\right\\rfloor + 0.25 + \\frac{i}{\\pi}}{\\left\\lfloor{\\frac{R - \\frac{\\pi}{4}}{\\pi}}\\right\\rfloor + 1.25 + \\frac{i}{\\pi}} \\right)}}{2}\\right) = \\frac{- \\log{\\left(4 + \\pi^{2} \\right)} + 2 \\log{\\left(2 \\right)}}{4}$"
      ],
      "text/plain": [
       "Eq(Limit(-log((floor((2*R*sqrt(4 + pi**2) + pi)/(4*pi)) + 0.25 + I/pi)/(floor((R - pi/4)/pi) + 1.25 + I/pi))/2, R, oo, dir='-'), (-log(4 + pi**2) + 2*log(2))/4)"
      ]
     },
     "execution_count": 230,
     "metadata": {},
     "output_type": "execute_result"
    }
   ],
   "source": [
    "Eq(Limit(-ln((1/4+I/pi+floor((2*R*sqrt(4 + pi**2) + pi)/(4*pi)))/(1/4+I/pi+floor((R - pi/4)/pi)+1))/2,R,oo),\n",
    "   limit(-ln((1/4+I/pi+floor((2*R*sqrt(4 + pi**2) + pi)/(4*pi)))/(1/4+I/pi+floor((R - pi/4)/pi)+1))/2,R,oo)\n",
    "  )"
   ]
  },
  {
   "cell_type": "code",
   "execution_count": 241,
   "metadata": {},
   "outputs": [
    {
     "data": {
      "text/latex": [
       "$\\displaystyle \\lim_{R \\to \\infty}\\left(- \\frac{\\sum_{n=0}^{\\left\\lfloor{\\frac{2 R \\sqrt{4 + \\pi^{2}} + \\pi}{4 \\pi}}\\right\\rfloor - 1} \\frac{1}{n + \\frac{1}{4} + \\frac{i}{\\pi}}}{2} + \\frac{\\sum_{n=0}^{\\left\\lfloor{\\frac{R - \\frac{\\pi}{4}}{\\pi}}\\right\\rfloor} \\frac{1}{n + \\frac{1}{4} + \\frac{i}{\\pi}}}{2}\\right) = \\frac{- \\log{\\left(4 + \\pi^{2} \\right)} + 2 \\log{\\left(2 \\right)}}{4}$"
      ],
      "text/plain": [
       "Eq(Limit(-Sum(1/(n + 1/4 + I/pi), (n, 0, floor((2*R*sqrt(4 + pi**2) + pi)/(4*pi)) - 1))/2 + Sum(1/(n + 1/4 + I/pi), (n, 0, floor((R - pi/4)/pi)))/2, R, oo, dir='-'), (-log(4 + pi**2) + 2*log(2))/4)"
      ]
     },
     "execution_count": 241,
     "metadata": {},
     "output_type": "execute_result"
    }
   ],
   "source": [
    "residue_sum_limit = Eq(Limit((-Sum(1/(n+((I*pi-4)/(I*pi*4)).expand()),(n,0,floor((2*R*sqrt(4 + pi**2) + pi)/(4*pi))-1)) +\n",
    " Sum(1/(n+((I*pi-4)/(I*pi*4)).expand()),(n,0,floor((R - pi/4)/pi))))/2,R,oo),\n",
    "   limit(-ln((1/4+I/pi+floor((2*R*sqrt(4 + pi**2) + pi)/(4*pi)))/(1/4+I/pi+floor((R - pi/4)/pi)+1))/2,R,oo)\n",
    "  )\n",
    "residue_sum_limit"
   ]
  },
  {
   "cell_type": "code",
   "execution_count": 227,
   "metadata": {},
   "outputs": [
    {
     "data": {
      "text/latex": [
       "$\\displaystyle -0.310851337722182$"
      ],
      "text/plain": [
       "-0.310851337722182"
      ]
     },
     "execution_count": 227,
     "metadata": {},
     "output_type": "execute_result"
    }
   ],
   "source": [
    "limit(-ln((1/4+I/pi+floor((2*R*sqrt(4 + pi**2) + pi)/(4*pi)))/(1/4+I/pi+floor((R - pi/4)/pi)+1)),R,oo).evalf()/2"
   ]
  },
  {
   "cell_type": "markdown",
   "metadata": {},
   "source": [
    "## Result"
   ]
  },
  {
   "cell_type": "code",
   "execution_count": 105,
   "metadata": {
    "scrolled": true
   },
   "outputs": [
    {
     "data": {
      "text/latex": [
       "$\\displaystyle \\int\\limits_{0}^{\\pi} i R \\left(\\frac{1}{2 \\left(- i e^{2 R e^{i \\theta} + i \\pi R e^{i \\theta}} + 1\\right) \\left(R e^{i \\theta} - 1\\right)} - \\frac{1}{2 \\left(i e^{2 R e^{i \\theta}} + 1\\right) \\left(R e^{i \\theta} - 1\\right)}\\right) e^{i \\theta}\\, d\\theta + \\int\\limits_{- R}^{R} \\left(\\frac{1}{2 \\left(x - 1\\right) \\left(- i e^{2 x + i \\pi x} + 1\\right)} - \\frac{1}{2 \\left(x - 1\\right) \\left(i e^{2 x} + 1\\right)}\\right)\\, dx = - 2 i \\pi \\sum_{m=0}^{\\left\\lfloor{\\frac{R - \\frac{\\pi}{4}}{\\pi}}\\right\\rfloor} - \\frac{1}{i \\pi \\left(4 m + 1\\right) - 4} + 2 i \\pi \\sum_{n=1}^{\\left\\lfloor{\\frac{2 R \\sqrt{4 + \\pi^{2}} + \\pi}{4 \\pi}}\\right\\rfloor} - \\frac{1}{i \\pi \\left(4 n - 1\\right) - 4 - 2 i \\pi}$"
      ],
      "text/plain": [
       "Eq(Integral(I*R*(1/(2*(-I*exp(2*R*exp(I*theta) + I*pi*R*exp(I*theta)) + 1)*(R*exp(I*theta) - 1)) - 1/(2*(I*exp(2*R*exp(I*theta)) + 1)*(R*exp(I*theta) - 1)))*exp(I*theta), (theta, 0, pi)) + Integral(1/(2*(x - 1)*(-I*exp(2*x + I*pi*x) + 1)) - 1/(2*(x - 1)*(I*exp(2*x) + 1)), (x, -R, R)), -2*I*pi*Sum(-1/(I*pi*(4*m + 1) - 4), (m, 0, floor((R - pi/4)/pi))) + 2*I*pi*Sum(-1/(I*pi*(4*n - 1) - 4 - 2*I*pi), (n, 1, floor((2*R*sqrt(4 + pi**2) + pi)/(4*pi)))))"
      ]
     },
     "execution_count": 105,
     "metadata": {},
     "output_type": "execute_result"
    }
   ],
   "source": [
    "Eq(semic_part1 + semic_part2, residue_sum_2)"
   ]
  },
  {
   "cell_type": "code",
   "execution_count": 235,
   "metadata": {},
   "outputs": [
    {
     "data": {
      "text/latex": [
       "$\\displaystyle \\lim_{R \\to \\infty} \\int\\limits_{- R}^{R} \\left(\\frac{1}{2 \\left(x - 1\\right) \\left(- i e^{2 x + i \\pi x} + 1\\right)} - \\frac{1}{2 \\left(x - 1\\right) \\left(i e^{2 x} + 1\\right)}\\right)\\, dx = \\lim_{R \\to \\infty}\\left(- 2 i \\pi \\sum_{m=0}^{\\left\\lfloor{\\frac{R - \\frac{\\pi}{4}}{\\pi}}\\right\\rfloor} - \\frac{1}{i \\pi \\left(4 m + 1\\right) - 4} + 2 i \\pi \\sum_{n=1}^{\\left\\lfloor{\\frac{2 R \\sqrt{4 + \\pi^{2}} + \\pi}{4 \\pi}}\\right\\rfloor} - \\frac{1}{i \\pi \\left(4 n - 1\\right) - 4 - 2 i \\pi}\\right) - \\lim_{R \\to \\infty} \\int\\limits_{0}^{\\pi} i R \\left(\\frac{1}{2 \\left(- i e^{2 R e^{i \\theta} + i \\pi R e^{i \\theta}} + 1\\right) \\left(R e^{i \\theta} - 1\\right)} - \\frac{1}{2 \\left(i e^{2 R e^{i \\theta}} + 1\\right) \\left(R e^{i \\theta} - 1\\right)}\\right) e^{i \\theta}\\, d\\theta$"
      ],
      "text/plain": [
       "Eq(Limit(Integral(1/(2*(x - 1)*(-I*exp(2*x + I*pi*x) + 1)) - 1/(2*(x - 1)*(I*exp(2*x) + 1)), (x, -R, R)), R, oo, dir='-'), Limit(-2*I*pi*Sum(-1/(I*pi*(4*m + 1) - 4), (m, 0, floor((R - pi/4)/pi))) + 2*I*pi*Sum(-1/(I*pi*(4*n - 1) - 4 - 2*I*pi), (n, 1, floor((2*R*sqrt(4 + pi**2) + pi)/(4*pi)))), R, oo, dir='-') - Limit(Integral(I*R*(1/(2*(-I*exp(2*R*exp(I*theta) + I*pi*R*exp(I*theta)) + 1)*(R*exp(I*theta) - 1)) - 1/(2*(I*exp(2*R*exp(I*theta)) + 1)*(R*exp(I*theta) - 1)))*exp(I*theta), (theta, 0, pi)), R, oo, dir='-'))"
      ]
     },
     "execution_count": 235,
     "metadata": {},
     "output_type": "execute_result"
    }
   ],
   "source": [
    "Eq(Limit(semic_part1,R,oo) , Limit(residue_sum_2,R,oo) - Limit(semic_part2,R,oo))"
   ]
  },
  {
   "cell_type": "code",
   "execution_count": 242,
   "metadata": {},
   "outputs": [
    {
     "data": {
      "text/latex": [
       "$\\displaystyle \\lim_{R \\to \\infty}\\left(- \\frac{\\sum_{n=0}^{\\left\\lfloor{\\frac{2 R \\sqrt{4 + \\pi^{2}} + \\pi}{4 \\pi}}\\right\\rfloor - 1} \\frac{1}{n + \\frac{1}{4} + \\frac{i}{\\pi}}}{2} + \\frac{\\sum_{n=0}^{\\left\\lfloor{\\frac{R - \\frac{\\pi}{4}}{\\pi}}\\right\\rfloor} \\frac{1}{n + \\frac{1}{4} + \\frac{i}{\\pi}}}{2}\\right) = \\frac{- \\log{\\left(4 + \\pi^{2} \\right)} + 2 \\log{\\left(2 \\right)}}{4}$"
      ],
      "text/plain": [
       "Eq(Limit(-Sum(1/(n + 1/4 + I/pi), (n, 0, floor((2*R*sqrt(4 + pi**2) + pi)/(4*pi)) - 1))/2 + Sum(1/(n + 1/4 + I/pi), (n, 0, floor((R - pi/4)/pi)))/2, R, oo, dir='-'), (-log(4 + pi**2) + 2*log(2))/4)"
      ]
     },
     "execution_count": 242,
     "metadata": {},
     "output_type": "execute_result"
    }
   ],
   "source": [
    "residue_sum_limit"
   ]
  },
  {
   "cell_type": "code",
   "execution_count": 240,
   "metadata": {},
   "outputs": [
    {
     "data": {
      "text/latex": [
       "$\\displaystyle \\lim_{R \\to \\infty} \\int\\limits_{0}^{\\pi} i R \\left(\\frac{1}{2 \\left(- i e^{2 R e^{i \\theta} + i \\pi R e^{i \\theta}} + 1\\right) \\left(R e^{i \\theta} - 1\\right)} - \\frac{1}{2 \\left(i e^{2 R e^{i \\theta}} + 1\\right) \\left(R e^{i \\theta} - 1\\right)}\\right) e^{i \\theta}\\, d\\theta = - \\frac{i \\operatorname{atan}{\\left(\\frac{2}{\\pi} \\right)}}{2} + \\frac{i \\pi}{4}$"
      ],
      "text/plain": [
       "Eq(Limit(Integral(I*R*(1/(2*(-I*exp(2*R*exp(I*theta) + I*pi*R*exp(I*theta)) + 1)*(R*exp(I*theta) - 1)) - 1/(2*(I*exp(2*R*exp(I*theta)) + 1)*(R*exp(I*theta) - 1)))*exp(I*theta), (theta, 0, pi)), R, oo, dir='-'), -I*atan(2/pi)/2 + I*pi/4)"
      ]
     },
     "execution_count": 240,
     "metadata": {},
     "output_type": "execute_result"
    }
   ],
   "source": [
    "rad_limit"
   ]
  },
  {
   "cell_type": "code",
   "execution_count": 271,
   "metadata": {},
   "outputs": [
    {
     "data": {
      "text/latex": [
       "$\\displaystyle \\lim_{R \\to \\infty} \\int\\limits_{- R}^{R} \\left(\\frac{1}{2 \\left(x - 1\\right) \\left(- i e^{2 x + i \\pi x} + 1\\right)} - \\frac{1}{2 \\left(x - 1\\right) \\left(i e^{2 x} + 1\\right)}\\right)\\, dx = - \\frac{\\log{\\left(4 + \\pi^{2} \\right)}}{4} + \\frac{\\log{\\left(2 \\right)}}{2} - \\frac{i \\pi}{4} + \\frac{i \\operatorname{atan}{\\left(\\frac{2}{\\pi} \\right)}}{2}$"
      ],
      "text/plain": [
       "Eq(Limit(Integral(1/(2*(x - 1)*(-I*exp(2*x + I*pi*x) + 1)) - 1/(2*(x - 1)*(I*exp(2*x) + 1)), (x, -R, R)), R, oo, dir='-'), -log(4 + pi**2)/4 + log(2)/2 - I*pi/4 + I*atan(2/pi)/2)"
      ]
     },
     "execution_count": 271,
     "metadata": {},
     "output_type": "execute_result"
    }
   ],
   "source": [
    "result_1 = Eq(Limit(semic_part1,R,oo) , -log(4+pi**2)/4+2*log(2)/4 + I*atan(2/pi)/2 - I*pi/4)\n",
    "result_1"
   ]
  },
  {
   "cell_type": "code",
   "execution_count": 270,
   "metadata": {},
   "outputs": [
    {
     "data": {
      "text/latex": [
       "$\\displaystyle \\lim_{R \\to \\infty}\\left(\\int\\limits_{- R}^{R} \\left(- \\frac{1}{2 i x e^{2 x} + 2 x - 2 i e^{2 x} - 2}\\right)\\, dx + \\int\\limits_{- R}^{R} \\frac{1}{- 2 i x e^{2 x} e^{i \\pi x} + 2 x + 2 i e^{2 x} e^{i \\pi x} - 2}\\, dx\\right) = - \\frac{\\log{\\left(4 + \\pi^{2} \\right)}}{4} + \\frac{\\log{\\left(2 \\right)}}{2} - \\frac{i \\operatorname{atan}{\\left(\\frac{\\pi}{2} \\right)}}{2}$"
      ],
      "text/plain": [
       "Eq(Limit(Integral(-1/(2*I*x*exp(2*x) + 2*x - 2*I*exp(2*x) - 2), (x, -R, R)) + Integral(1/(-2*I*x*exp(2*x)*exp(I*pi*x) + 2*x + 2*I*exp(2*x)*exp(I*pi*x) - 2), (x, -R, R)), R, oo, dir='-'), -log(4 + pi**2)/4 + log(2)/2 - I*atan(pi/2)/2)"
      ]
     },
     "execution_count": 270,
     "metadata": {},
     "output_type": "execute_result"
    }
   ],
   "source": [
    "result_2 = result_1.subs(atan(2/pi),pi/2 - atan(pi/2)).expand()\n",
    "result_2"
   ]
  },
  {
   "cell_type": "code",
   "execution_count": 280,
   "metadata": {},
   "outputs": [
    {
     "data": {
      "text/latex": [
       "$\\displaystyle \\lim_{R \\to \\infty}\\left(\\int\\limits_{- R}^{R} \\left(- \\frac{1}{2 i x e^{2 x} + 2 x - 2 i e^{2 x} - 2}\\right)\\, dx + \\int\\limits_{- R}^{R} \\frac{1}{- 2 i x e^{2 x} e^{i \\pi x} + 2 x + 2 i e^{2 x} e^{i \\pi x} - 2}\\, dx\\right) = - \\frac{\\log{\\left(1 + \\frac{\\pi^{2}}{4} \\right)}}{4} - \\frac{i \\operatorname{atan}{\\left(\\frac{\\pi}{2} \\right)}}{2}$"
      ],
      "text/plain": [
       "Eq(Limit(Integral(-1/(2*I*x*exp(2*x) + 2*x - 2*I*exp(2*x) - 2), (x, -R, R)) + Integral(1/(-2*I*x*exp(2*x)*exp(I*pi*x) + 2*x + 2*I*exp(2*x)*exp(I*pi*x) - 2), (x, -R, R)), R, oo, dir='-'), -log(1 + pi**2/4)/4 - I*atan(pi/2)/2)"
      ]
     },
     "execution_count": 280,
     "metadata": {},
     "output_type": "execute_result"
    }
   ],
   "source": [
    "result_3 = result_2.subs(log(4+pi**2),log(1+pi**2/4) + log(4)).expand()\n",
    "result_3"
   ]
  },
  {
   "cell_type": "code",
   "execution_count": 250,
   "metadata": {},
   "outputs": [
    {
     "data": {
      "text/latex": [
       "$\\displaystyle -0.3108513376818 - 0.50194241098441 i$"
      ],
      "text/plain": [
       "-0.3108513376818 - 0.50194241098441*I"
      ]
     },
     "execution_count": 250,
     "metadata": {},
     "output_type": "execute_result"
    }
   ],
   "source": [
    "semic_part1.subs(R,9).evalf()"
   ]
  },
  {
   "cell_type": "code",
   "execution_count": 281,
   "metadata": {},
   "outputs": [
    {
     "data": {
      "text/latex": [
       "$\\displaystyle -0.310851337722182 - 0.501942410926944 i$"
      ],
      "text/plain": [
       "-0.310851337722182 - 0.501942410926944*I"
      ]
     },
     "execution_count": 281,
     "metadata": {},
     "output_type": "execute_result"
    }
   ],
   "source": [
    "(-log(1+pi**2/4)/4 - I*atan(pi/2)/2).evalf()"
   ]
  },
  {
   "cell_type": "code",
   "execution_count": 252,
   "metadata": {},
   "outputs": [
    {
     "data": {
      "text/latex": [
       "$\\displaystyle \\operatorname{atan}{\\left(z \\right)} = - \\frac{i \\log{\\left(\\frac{i z + 1}{- i z + 1} \\right)}}{2}$"
      ],
      "text/plain": [
       "Eq(atan(z), -I*log((I*z + 1)/(-I*z + 1))/2)"
      ]
     },
     "execution_count": 252,
     "metadata": {},
     "output_type": "execute_result"
    }
   ],
   "source": [
    "Eq(atan(z),-I/2*log((1+I*z)/(1-I*z)))"
   ]
  },
  {
   "cell_type": "code",
   "execution_count": 259,
   "metadata": {},
   "outputs": [
    {
     "data": {
      "text/latex": [
       "$\\displaystyle \\text{False}$"
      ],
      "text/plain": [
       "False"
      ]
     },
     "execution_count": 259,
     "metadata": {},
     "output_type": "execute_result"
    }
   ],
   "source": [
    "Eq(atan(z),-I/2*log((1+I*z)/(1-I*z))).subs(z,-0.356).evalf()"
   ]
  },
  {
   "cell_type": "code",
   "execution_count": 260,
   "metadata": {},
   "outputs": [
    {
     "data": {
      "text/latex": [
       "$\\displaystyle -0.342009999069821$"
      ],
      "text/plain": [
       "-0.342009999069821"
      ]
     },
     "execution_count": 260,
     "metadata": {},
     "output_type": "execute_result"
    }
   ],
   "source": [
    "(atan(z)).subs(z,-0.356).evalf()"
   ]
  },
  {
   "cell_type": "code",
   "execution_count": 261,
   "metadata": {},
   "outputs": [
    {
     "data": {
      "text/latex": [
       "$\\displaystyle -0.342009999069821 - 3.90157409763399 \\cdot 10^{-17} i$"
      ],
      "text/plain": [
       "-0.342009999069821 - 3.90157409763399e-17*I"
      ]
     },
     "execution_count": 261,
     "metadata": {},
     "output_type": "execute_result"
    }
   ],
   "source": [
    "(-I/2*log((1+I*z)/(1-I*z))).subs(z,-0.356).evalf()"
   ]
  },
  {
   "cell_type": "code",
   "execution_count": 264,
   "metadata": {},
   "outputs": [
    {
     "data": {
      "text/latex": [
       "$\\displaystyle \\operatorname{atan}{\\left(\\frac{2}{\\pi} \\right)} = - \\operatorname{atan}{\\left(\\frac{\\pi}{2} \\right)} + \\frac{\\pi}{2}$"
      ],
      "text/plain": [
       "Eq(atan(2/pi), -atan(pi/2) + pi/2)"
      ]
     },
     "execution_count": 264,
     "metadata": {},
     "output_type": "execute_result"
    }
   ],
   "source": [
    "Eq(atan(2/pi),pi/2 - atan(pi/2))"
   ]
  },
  {
   "cell_type": "code",
   "execution_count": 289,
   "metadata": {},
   "outputs": [
    {
     "data": {
      "text/latex": [
       "$\\displaystyle \\frac{- i e^{k \\left(- i \\pi s + 2\\right)} + i e^{k \\left(i \\pi s + 2\\right)} - 2}{4 \\left(k - 1\\right) \\left(i e^{k \\left(- i \\pi s + 2\\right)} + 1\\right) \\left(i e^{k \\left(i \\pi s + 2\\right)} - 1\\right)}$"
      ],
      "text/plain": [
       "(-I*exp(k*(-I*pi*s + 2)) + I*exp(k*(I*pi*s + 2)) - 2)/(4*(k - 1)*(I*exp(k*(-I*pi*s + 2)) + 1)*(I*exp(k*(I*pi*s + 2)) - 1))"
      ]
     },
     "execution_count": 289,
     "metadata": {},
     "output_type": "execute_result"
    }
   ],
   "source": [
    "(1/(-exp(2*k+s*I*pi*k+I*pi/2)+1)/(k-1)/4 + (1/(-exp(2*k+s*I*pi*k+I*pi/2)+1)/(k-1)/4).subs(I,-I)).simplify()"
   ]
  },
  {
   "cell_type": "code",
   "execution_count": null,
   "metadata": {},
   "outputs": [],
   "source": []
  }
 ],
 "metadata": {
  "kernelspec": {
   "display_name": "Python 3",
   "language": "python",
   "name": "python3"
  },
  "language_info": {
   "codemirror_mode": {
    "name": "ipython",
    "version": 3
   },
   "file_extension": ".py",
   "mimetype": "text/x-python",
   "name": "python",
   "nbconvert_exporter": "python",
   "pygments_lexer": "ipython3",
   "version": "3.8.5"
  }
 },
 "nbformat": 4,
 "nbformat_minor": 4
}
