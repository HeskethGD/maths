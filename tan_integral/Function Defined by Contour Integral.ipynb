{
 "cells": [
  {
   "cell_type": "markdown",
   "metadata": {},
   "source": [
    "# Function Defined by Contour Integral"
   ]
  },
  {
   "cell_type": "code",
   "execution_count": 1,
   "metadata": {},
   "outputs": [],
   "source": [
    "from sympy import *"
   ]
  },
  {
   "cell_type": "code",
   "execution_count": 2,
   "metadata": {},
   "outputs": [],
   "source": [
    "x, y, n, m, K, k, t, z, s, a, R, N, L, M = symbols('x, y, n, m, K, k, t, z, s, a, R, N, L, M')\n",
    "alpha, beta, delta, mu, nu, epsilon, theta, phi, omega = symbols('alpha, beta, delta, mu, nu, epsilon, theta, phi, omega')"
   ]
  },
  {
   "cell_type": "code",
   "execution_count": 3,
   "metadata": {},
   "outputs": [
    {
     "data": {
      "text/latex": [
       "$\\displaystyle \\frac{1}{\\left(- \\delta + z\\right) \\left(e^{\\alpha z + \\mu} - 1\\right)}$"
      ],
      "text/plain": [
       "1/((-delta + z)*(exp(alpha*z + mu) - 1))"
      ]
     },
     "execution_count": 3,
     "metadata": {},
     "output_type": "execute_result"
    }
   ],
   "source": [
    "exp_arg = alpha*z + mu\n",
    "integrand_z = 1/(exp(exp_arg)-1)/(z-delta)\n",
    "integrand_z"
   ]
  },
  {
   "cell_type": "markdown",
   "metadata": {},
   "source": [
    "We aim to calculate the below integral along the real line using contour integration in the complex plane about a closed contour with the residue theorem."
   ]
  },
  {
   "cell_type": "code",
   "execution_count": 4,
   "metadata": {},
   "outputs": [
    {
     "data": {
      "text/latex": [
       "$\\displaystyle \\int\\limits_{- R}^{R} \\frac{1}{\\left(- \\delta + z\\right) \\left(e^{\\alpha z + \\mu} - 1\\right)}\\, dz$"
      ],
      "text/plain": [
       "Integral(1/((-delta + z)*(exp(alpha*z + mu) - 1)), (z, -R, R))"
      ]
     },
     "execution_count": 4,
     "metadata": {},
     "output_type": "execute_result"
    }
   ],
   "source": [
    "Integral(integrand_z,(z,-R,R))"
   ]
  },
  {
   "cell_type": "markdown",
   "metadata": {},
   "source": [
    "## Semi-circle contour upper half plane"
   ]
  },
  {
   "cell_type": "markdown",
   "metadata": {},
   "source": [
    "### PART 1"
   ]
  },
  {
   "cell_type": "code",
   "execution_count": 10,
   "metadata": {},
   "outputs": [
    {
     "data": {
      "text/latex": [
       "$\\displaystyle \\int\\limits_{- R}^{R} \\frac{1}{\\left(- \\delta + z\\right) \\left(e^{\\alpha z + \\mu} - 1\\right)}\\, dx$"
      ],
      "text/plain": [
       "Integral(1/((-delta + z)*(exp(alpha*z + mu) - 1)), (x, -R, R))"
      ]
     },
     "execution_count": 10,
     "metadata": {},
     "output_type": "execute_result"
    }
   ],
   "source": [
    "straight_part = Integral(integrand_z,(x,-R,R))\n",
    "straight_part"
   ]
  },
  {
   "cell_type": "markdown",
   "metadata": {},
   "source": [
    "## PART 2"
   ]
  },
  {
   "cell_type": "code",
   "execution_count": 11,
   "metadata": {
    "scrolled": true
   },
   "outputs": [
    {
     "data": {
      "text/latex": [
       "$\\displaystyle z = R e^{i \\theta}$"
      ],
      "text/plain": [
       "Eq(z, R*exp(I*theta))"
      ]
     },
     "execution_count": 11,
     "metadata": {},
     "output_type": "execute_result"
    }
   ],
   "source": [
    "Eq(z,R*exp(I*theta))"
   ]
  },
  {
   "cell_type": "code",
   "execution_count": 12,
   "metadata": {
    "scrolled": true
   },
   "outputs": [
    {
     "data": {
      "text/latex": [
       "$\\displaystyle i R e^{i \\theta}$"
      ],
      "text/plain": [
       "I*R*exp(I*theta)"
      ]
     },
     "execution_count": 12,
     "metadata": {},
     "output_type": "execute_result"
    }
   ],
   "source": [
    "diff(R*exp(I*theta),theta)"
   ]
  },
  {
   "cell_type": "code",
   "execution_count": 13,
   "metadata": {},
   "outputs": [],
   "source": [
    "semic_integrand = integrand_z.subs(z,R*exp(I*theta))*(I*R*exp(I*theta))"
   ]
  },
  {
   "cell_type": "code",
   "execution_count": 14,
   "metadata": {
    "scrolled": true
   },
   "outputs": [
    {
     "data": {
      "text/latex": [
       "$\\displaystyle \\int\\limits_{0}^{\\pi} \\frac{i R e^{i \\theta}}{\\left(R e^{i \\theta} - \\delta\\right) \\left(e^{R \\alpha e^{i \\theta} + \\mu} - 1\\right)}\\, d\\theta$"
      ],
      "text/plain": [
       "Integral(I*R*exp(I*theta)/((R*exp(I*theta) - delta)*(exp(R*alpha*exp(I*theta) + mu) - 1)), (theta, 0, pi))"
      ]
     },
     "execution_count": 14,
     "metadata": {},
     "output_type": "execute_result"
    }
   ],
   "source": [
    "semic_part = Integral(semic_integrand,(theta,0,pi))\n",
    "semic_part"
   ]
  },
  {
   "cell_type": "code",
   "execution_count": 15,
   "metadata": {},
   "outputs": [
    {
     "data": {
      "text/latex": [
       "$\\displaystyle \\alpha = e^{i \\omega} \\left|{\\alpha}\\right|$"
      ],
      "text/plain": [
       "Eq(alpha, exp(I*omega)*Abs(alpha))"
      ]
     },
     "execution_count": 15,
     "metadata": {},
     "output_type": "execute_result"
    }
   ],
   "source": [
    "Eq(alpha, abs(alpha)*exp(I*omega))"
   ]
  },
  {
   "cell_type": "code",
   "execution_count": 16,
   "metadata": {},
   "outputs": [
    {
     "data": {
      "text/latex": [
       "$\\displaystyle \\operatorname{re}{\\left(\\alpha e^{i \\theta}\\right)} = \\cos{\\left(\\omega + \\theta \\right)}$"
      ],
      "text/plain": [
       "Eq(re(alpha*exp(I*theta)), cos(omega + theta))"
      ]
     },
     "execution_count": 16,
     "metadata": {},
     "output_type": "execute_result"
    }
   ],
   "source": [
    "Eq(re(alpha*exp(I*theta)), cos(theta+omega))"
   ]
  },
  {
   "cell_type": "code",
   "execution_count": 17,
   "metadata": {},
   "outputs": [
    {
     "data": {
      "text/latex": [
       "$\\displaystyle \\operatorname{sign}{\\left(\\operatorname{re}{\\left(\\alpha e^{i \\theta}\\right)} \\right)} = \\begin{cases} 1 & \\text{for}\\: \\left|{\\omega + \\theta}\\right| < \\frac{\\pi}{2} \\\\0 & \\text{for}\\: \\left|{\\omega + \\theta}\\right| = \\frac{\\pi}{2} \\\\-1 & \\text{otherwise} \\end{cases}$"
      ],
      "text/plain": [
       "Eq(sign(re(alpha*exp(I*theta))), Piecewise((1, Abs(omega + theta) < pi/2), (0, Eq(Abs(omega + theta), pi/2)), (-1, True)))"
      ]
     },
     "execution_count": 17,
     "metadata": {},
     "output_type": "execute_result"
    }
   ],
   "source": [
    "Eq(sign(re(alpha*exp(I*theta))), Piecewise((1, abs(omega+theta) < pi/2), (0, Eq(abs(omega+theta), pi/2)), (-1, True)))"
   ]
  },
  {
   "cell_type": "code",
   "execution_count": 23,
   "metadata": {},
   "outputs": [
    {
     "data": {
      "text/latex": [
       "$\\displaystyle \\lim_{R \\to \\infty}\\left(\\frac{i R e^{i \\theta}}{\\left(R e^{i \\theta} - \\delta\\right) \\left(e^{R \\alpha e^{i \\theta} + \\mu} - 1\\right)}\\right) = \\frac{i \\left(1 - \\operatorname{sign}{\\left(\\cos{\\left(\\omega + \\theta \\right)} \\right)}\\right)}{2}$"
      ],
      "text/plain": [
       "Eq(Limit(I*R*exp(I*theta)/((R*exp(I*theta) - delta)*(exp(R*alpha*exp(I*theta) + mu) - 1)), R, oo, dir='-'), I*(1 - sign(cos(omega + theta)))/2)"
      ]
     },
     "execution_count": 23,
     "metadata": {},
     "output_type": "execute_result"
    }
   ],
   "source": [
    "Eq(Limit(semic_integrand,R,oo), I*(1 - sign(cos(omega+theta)))/2)"
   ]
  },
  {
   "cell_type": "code",
   "execution_count": 13,
   "metadata": {
    "scrolled": true
   },
   "outputs": [
    {
     "data": {
      "text/latex": [
       "$\\displaystyle \\frac{i R e^{i \\theta}}{\\left(R e^{i \\theta} - \\delta\\right) \\left(e^{R + \\mu} - 1\\right)}$"
      ],
      "text/plain": [
       "I*R*exp(I*theta)/((R*exp(I*theta) - delta)*(exp(R + mu) - 1))"
      ]
     },
     "execution_count": 13,
     "metadata": {},
     "output_type": "execute_result"
    }
   ],
   "source": [
    "semic_integrand.subs(alpha*exp(I*theta),1)"
   ]
  },
  {
   "cell_type": "code",
   "execution_count": 14,
   "metadata": {},
   "outputs": [],
   "source": [
    "from sympy.functions.elementary.piecewise import ExprCondPair"
   ]
  },
  {
   "cell_type": "code",
   "execution_count": 15,
   "metadata": {
    "scrolled": true
   },
   "outputs": [
    {
     "data": {
      "text/latex": [
       "$\\displaystyle \\left( \\lim_{R \\to \\infty}\\left(\\frac{i R e^{i \\theta}}{\\left(R e^{i \\theta} - \\delta\\right) \\left(e^{R \\alpha e^{i \\theta} + \\mu} - 1\\right)}\\right) = 0, \\  \\left|{\\omega + \\theta}\\right| < \\frac{\\pi}{2}\\right)$"
      ],
      "text/plain": [
       "(Eq(Limit(I*R*exp(I*theta)/((R*exp(I*theta) - delta)*(exp(R*alpha*exp(I*theta) + mu) - 1)), R, oo, dir='-'), 0), Abs(omega + theta) < pi/2)"
      ]
     },
     "execution_count": 15,
     "metadata": {},
     "output_type": "execute_result"
    }
   ],
   "source": [
    "ExprCondPair(\n",
    "    Eq(\n",
    "        Limit(semic_integrand, R, oo),\n",
    "        limit(semic_integrand.subs(alpha,exp(-I*theta)), R, oo)\n",
    "    ), \n",
    "    (abs(omega+theta)  < pi/2)\n",
    ")"
   ]
  },
  {
   "cell_type": "code",
   "execution_count": 16,
   "metadata": {
    "scrolled": true
   },
   "outputs": [
    {
     "data": {
      "text/latex": [
       "$\\displaystyle \\left( \\lim_{R \\to \\infty}\\left(\\frac{i R e^{i \\theta}}{\\left(R e^{i \\theta} - \\delta\\right) \\left(e^{R \\alpha e^{i \\theta} + \\mu} - 1\\right)}\\right) = - i, \\  \\left|{\\omega + \\theta}\\right| > \\frac{\\pi}{2}\\right)$"
      ],
      "text/plain": [
       "(Eq(Limit(I*R*exp(I*theta)/((R*exp(I*theta) - delta)*(exp(R*alpha*exp(I*theta) + mu) - 1)), R, oo, dir='-'), -I), Abs(omega + theta) > pi/2)"
      ]
     },
     "execution_count": 16,
     "metadata": {},
     "output_type": "execute_result"
    }
   ],
   "source": [
    "ExprCondPair(\n",
    "    Eq(\n",
    "        Limit(semic_integrand, R, oo),\n",
    "        limit(semic_integrand.subs(alpha,-exp(-I*theta)), R, oo)\n",
    "    ), \n",
    "    (abs(omega+theta)  > pi/2)\n",
    ")"
   ]
  },
  {
   "cell_type": "code",
   "execution_count": 17,
   "metadata": {
    "scrolled": true
   },
   "outputs": [
    {
     "data": {
      "text/latex": [
       "$\\displaystyle \\left( \\int\\limits_{0}^{\\pi} \\frac{i R e^{i \\theta}}{\\left(R e^{i \\theta} - \\delta\\right) \\left(e^{R \\alpha e^{i \\theta} + \\mu} - 1\\right)}\\, d\\theta = \\int\\limits_{- \\omega + \\frac{\\pi}{2}}^{\\pi} \\left(- i\\right)\\, d\\theta, \\  \\omega > 0 \\wedge \\omega < \\frac{\\pi}{2}\\right)$"
      ],
      "text/plain": [
       "(Eq(Integral(I*R*exp(I*theta)/((R*exp(I*theta) - delta)*(exp(R*alpha*exp(I*theta) + mu) - 1)), (theta, 0, pi)), Integral(-I, (theta, -omega + pi/2, pi))), (omega > 0) & (omega < pi/2))"
      ]
     },
     "execution_count": 17,
     "metadata": {},
     "output_type": "execute_result"
    }
   ],
   "source": [
    "ExprCondPair(Eq(semic_part,Integral(-I,(theta,pi/2-omega,pi))),((0<omega)&(omega<pi/2)))"
   ]
  },
  {
   "cell_type": "code",
   "execution_count": 18,
   "metadata": {},
   "outputs": [
    {
     "data": {
      "text/latex": [
       "$\\displaystyle \\left( \\int\\limits_{0}^{\\pi} \\frac{i R e^{i \\theta}}{\\left(R e^{i \\theta} - \\delta\\right) \\left(e^{R \\alpha e^{i \\theta} + \\mu} - 1\\right)}\\, d\\theta = - i \\omega - \\frac{i \\pi}{2}, \\  \\omega > 0 \\wedge \\omega < \\frac{\\pi}{2}\\right)$"
      ],
      "text/plain": [
       "(Eq(Integral(I*R*exp(I*theta)/((R*exp(I*theta) - delta)*(exp(R*alpha*exp(I*theta) + mu) - 1)), (theta, 0, pi)), -I*omega - I*pi/2), (omega > 0) & (omega < pi/2))"
      ]
     },
     "execution_count": 18,
     "metadata": {},
     "output_type": "execute_result"
    }
   ],
   "source": [
    "ExprCondPair(Eq(semic_part,Integral(-I,(theta,pi/2-omega,pi)).doit().expand()),((0<omega)&(omega<pi/2)))"
   ]
  },
  {
   "cell_type": "code",
   "execution_count": 19,
   "metadata": {},
   "outputs": [
    {
     "data": {
      "text/latex": [
       "$\\displaystyle \\left( \\int\\limits_{0}^{\\pi} \\frac{i R e^{i \\theta}}{\\left(R e^{i \\theta} - \\delta\\right) \\left(e^{R \\alpha e^{i \\theta} + \\mu} - 1\\right)}\\, d\\theta = \\int\\limits_{0}^{- \\omega + \\frac{3 \\pi}{2}} \\left(- i\\right)\\, d\\theta, \\  \\frac{\\pi}{2} < \\omega \\wedge \\omega < \\frac{3 \\pi}{2}\\right)$"
      ],
      "text/plain": [
       "(Eq(Integral(I*R*exp(I*theta)/((R*exp(I*theta) - delta)*(exp(R*alpha*exp(I*theta) + mu) - 1)), (theta, 0, pi)), Integral(-I, (theta, 0, -omega + 3*pi/2))), (pi/2 < omega) & (omega < 3*pi/2))"
      ]
     },
     "execution_count": 19,
     "metadata": {},
     "output_type": "execute_result"
    }
   ],
   "source": [
    "ExprCondPair(Eq(semic_part,Integral(-I,(theta,0,3*pi/2-omega))),((pi/2<omega)&(omega<3*pi/2)))"
   ]
  },
  {
   "cell_type": "code",
   "execution_count": 20,
   "metadata": {},
   "outputs": [
    {
     "data": {
      "text/latex": [
       "$\\displaystyle \\left( \\int\\limits_{0}^{\\pi} \\frac{i R e^{i \\theta}}{\\left(R e^{i \\theta} - \\delta\\right) \\left(e^{R \\alpha e^{i \\theta} + \\mu} - 1\\right)}\\, d\\theta = i \\omega - \\frac{3 i \\pi}{2}, \\  \\frac{\\pi}{2} < \\omega \\wedge \\omega < \\frac{3 \\pi}{2}\\right)$"
      ],
      "text/plain": [
       "(Eq(Integral(I*R*exp(I*theta)/((R*exp(I*theta) - delta)*(exp(R*alpha*exp(I*theta) + mu) - 1)), (theta, 0, pi)), I*omega - 3*I*pi/2), (pi/2 < omega) & (omega < 3*pi/2))"
      ]
     },
     "execution_count": 20,
     "metadata": {},
     "output_type": "execute_result"
    }
   ],
   "source": [
    "ExprCondPair(Eq(semic_part,Integral(-I,(theta,0,3*pi/2-omega)).doit().expand()),((pi/2<omega)&(omega<3*pi/2)))"
   ]
  },
  {
   "cell_type": "code",
   "execution_count": 21,
   "metadata": {},
   "outputs": [
    {
     "data": {
      "text/latex": [
       "$\\displaystyle \\left( \\int\\limits_{0}^{\\pi} \\frac{i R e^{i \\theta}}{\\left(R e^{i \\theta} - \\delta\\right) \\left(e^{R \\alpha e^{i \\theta} + \\mu} - 1\\right)}\\, d\\theta = \\int\\limits_{0}^{- \\omega + \\frac{5 \\pi}{2}} \\left(- i\\right)\\, d\\theta, \\  \\frac{3 \\pi}{2} < \\omega \\wedge \\omega < 2 \\pi\\right)$"
      ],
      "text/plain": [
       "(Eq(Integral(I*R*exp(I*theta)/((R*exp(I*theta) - delta)*(exp(R*alpha*exp(I*theta) + mu) - 1)), (theta, 0, pi)), Integral(-I, (theta, 0, -omega + 5*pi/2))), (3*pi/2 < omega) & (omega < 2*pi))"
      ]
     },
     "execution_count": 21,
     "metadata": {},
     "output_type": "execute_result"
    }
   ],
   "source": [
    "ExprCondPair(Eq(semic_part,Integral(-I,(theta,0,2*pi+pi/2-omega))),((3*pi/2<omega)&(omega<2*pi)))"
   ]
  },
  {
   "cell_type": "code",
   "execution_count": 22,
   "metadata": {
    "scrolled": true
   },
   "outputs": [
    {
     "data": {
      "text/latex": [
       "$\\displaystyle \\left( \\int\\limits_{0}^{\\pi} \\frac{i R e^{i \\theta}}{\\left(R e^{i \\theta} - \\delta\\right) \\left(e^{R \\alpha e^{i \\theta} + \\mu} - 1\\right)}\\, d\\theta = - i \\omega + \\frac{3 i \\pi}{2}, \\  \\frac{3 \\pi}{2} < \\omega \\wedge \\omega < 2 \\pi\\right)$"
      ],
      "text/plain": [
       "(Eq(Integral(I*R*exp(I*theta)/((R*exp(I*theta) - delta)*(exp(R*alpha*exp(I*theta) + mu) - 1)), (theta, 0, pi)), -I*omega + 3*I*pi/2), (3*pi/2 < omega) & (omega < 2*pi))"
      ]
     },
     "execution_count": 22,
     "metadata": {},
     "output_type": "execute_result"
    }
   ],
   "source": [
    "ExprCondPair(Eq(semic_part,Integral(-I,(theta,pi/2+(2*pi-omega),pi)).doit().expand()),((3*pi/2<omega)&(omega<2*pi)))"
   ]
  },
  {
   "cell_type": "code",
   "execution_count": 23,
   "metadata": {},
   "outputs": [
    {
     "data": {
      "text/latex": [
       "$\\displaystyle -1.7 \\cdot 10^{-7} - 2.4 i$"
      ],
      "text/plain": [
       "-1.7e-7 - 2.4*I"
      ]
     },
     "execution_count": 23,
     "metadata": {},
     "output_type": "execute_result"
    }
   ],
   "source": [
    "semic_part.subs([(alpha,exp(I*omega)),(R,10000000),(mu,1),(delta,1),(omega, pi/2*0.5)]).evalf(5)"
   ]
  },
  {
   "cell_type": "code",
   "execution_count": 25,
   "metadata": {},
   "outputs": [
    {
     "data": {
      "text/latex": [
       "$\\displaystyle - 2.35619449019234 i$"
      ],
      "text/plain": [
       "-2.35619449019234*I"
      ]
     },
     "execution_count": 25,
     "metadata": {},
     "output_type": "execute_result"
    }
   ],
   "source": [
    "(-I*omega-I*pi/2).subs(omega, pi/2*0.5).evalf()"
   ]
  },
  {
   "cell_type": "code",
   "execution_count": null,
   "metadata": {},
   "outputs": [],
   "source": [
    "semic_part.subs([(alpha,exp(I*omega)),(R,10000000),(mu,1),(delta,1),(omega, pi/2*0.5 + pi/2)]).evalf(5)"
   ]
  },
  {
   "cell_type": "code",
   "execution_count": null,
   "metadata": {},
   "outputs": [],
   "source": [
    "(I*omega-3*I*pi/2).subs(omega, pi/2*0.5 + pi/2).evalf()"
   ]
  },
  {
   "cell_type": "code",
   "execution_count": null,
   "metadata": {},
   "outputs": [],
   "source": [
    "semic_part.subs([(alpha,exp(I*omega)),(R,10000000),(mu,1),(delta,1),(omega, pi/2*0.5 + pi)]).evalf(5)"
   ]
  },
  {
   "cell_type": "code",
   "execution_count": null,
   "metadata": {},
   "outputs": [],
   "source": [
    "(I*omega-3*I*pi/2).subs(omega, pi/2*0.5 + pi).evalf()"
   ]
  },
  {
   "cell_type": "code",
   "execution_count": null,
   "metadata": {},
   "outputs": [],
   "source": [
    "semic_part.subs([(alpha,exp(I*omega)),(R,10000000),(mu,1),(delta,1),(omega, pi/2*0.7 + 3*pi/2)]).evalf(5)"
   ]
  },
  {
   "cell_type": "code",
   "execution_count": null,
   "metadata": {},
   "outputs": [],
   "source": [
    "(-I*omega+3*I*pi/2).subs(omega, pi/2*0.7 + 3*pi/2).evalf()"
   ]
  },
  {
   "cell_type": "code",
   "execution_count": 44,
   "metadata": {},
   "outputs": [
    {
     "data": {
      "text/latex": [
       "$\\displaystyle \\lim_{R \\to \\infty} \\int\\limits_{0}^{\\pi} \\frac{i R e^{i \\theta}}{\\left(R e^{i \\theta} - \\delta\\right) \\left(e^{R \\alpha e^{i \\theta} + \\mu} - 1\\right)}\\, d\\theta = \\begin{cases} - i \\omega - \\frac{i \\pi}{2} & \\text{for}\\: \\omega > 0 \\wedge \\omega < \\frac{\\pi}{2} \\\\i \\omega - \\frac{3 i \\pi}{2} & \\text{for}\\: \\omega > \\frac{\\pi}{2} \\wedge \\omega < \\frac{3 \\pi}{2} \\\\- i \\omega + \\frac{3 i \\pi}{2} & \\text{for}\\: \\omega > \\frac{3 \\pi}{2} \\wedge \\omega < 2 \\pi \\end{cases}$"
      ],
      "text/plain": [
       "Eq(Limit(Integral(I*R*exp(I*theta)/((R*exp(I*theta) - delta)*(exp(R*alpha*exp(I*theta) + mu) - 1)), (theta, 0, pi)), R, oo, dir='-'), Piecewise((-I*omega - I*pi/2, (omega > 0) & (omega < pi/2)), (I*omega - 3*I*pi/2, (omega > pi/2) & (omega < 3*pi/2)), (-I*omega + 3*I*pi/2, (omega > 3*pi/2) & (omega < 2*pi))))"
      ]
     },
     "execution_count": 44,
     "metadata": {},
     "output_type": "execute_result"
    }
   ],
   "source": [
    "Eq(Limit(semic_part, R, oo), \n",
    "   Piecewise(\n",
    "       (Integral(-I,(theta,pi/2-omega,pi)).doit().expand(),((0<omega)&(omega<pi/2))),\n",
    "       (Integral(-I,(theta,0,3*pi/2-omega)).doit().expand(),((pi/2<omega)&(omega<3*pi/2))),\n",
    "       (Integral(-I,(theta,pi/2+(2*pi-omega),pi)).doit().expand(),((3*pi/2<omega)&(omega<2*pi)))\n",
    "   )\n",
    ")"
   ]
  },
  {
   "cell_type": "markdown",
   "metadata": {},
   "source": [
    "### Poles"
   ]
  },
  {
   "cell_type": "code",
   "execution_count": 60,
   "metadata": {
    "scrolled": true
   },
   "outputs": [
    {
     "data": {
      "text/latex": [
       "$\\displaystyle \\frac{1}{\\left(- \\delta + z\\right) \\left(e^{\\alpha z + \\mu} - 1\\right)}$"
      ],
      "text/plain": [
       "1/((-delta + z)*(exp(alpha*z + mu) - 1))"
      ]
     },
     "execution_count": 60,
     "metadata": {},
     "output_type": "execute_result"
    }
   ],
   "source": [
    "integrand_z"
   ]
  },
  {
   "cell_type": "code",
   "execution_count": 61,
   "metadata": {},
   "outputs": [
    {
     "data": {
      "text/latex": [
       "$\\displaystyle \\alpha z + \\mu = 2 i \\pi m$"
      ],
      "text/plain": [
       "Eq(alpha*z + mu, 2*I*pi*m)"
      ]
     },
     "execution_count": 61,
     "metadata": {},
     "output_type": "execute_result"
    }
   ],
   "source": [
    "Eq(exp_arg,2*m*I*pi)"
   ]
  },
  {
   "cell_type": "code",
   "execution_count": 62,
   "metadata": {
    "scrolled": true
   },
   "outputs": [
    {
     "data": {
      "text/latex": [
       "$\\displaystyle z = \\frac{2 i \\pi m - \\mu}{\\alpha}$"
      ],
      "text/plain": [
       "Eq(z, (2*I*pi*m - mu)/alpha)"
      ]
     },
     "execution_count": 62,
     "metadata": {},
     "output_type": "execute_result"
    }
   ],
   "source": [
    "Eq(z,solve(exp_arg-2*m*I*pi,z)[0])"
   ]
  },
  {
   "cell_type": "code",
   "execution_count": 63,
   "metadata": {},
   "outputs": [],
   "source": [
    "pole_set = solve(exp_arg-2*m*I*pi,z)[0]"
   ]
  },
  {
   "cell_type": "code",
   "execution_count": 64,
   "metadata": {},
   "outputs": [],
   "source": [
    "mmm=0"
   ]
  },
  {
   "cell_type": "code",
   "execution_count": 65,
   "metadata": {},
   "outputs": [
    {
     "data": {
      "text/latex": [
       "$\\displaystyle z = - \\frac{\\mu}{\\alpha}$"
      ],
      "text/plain": [
       "Eq(z, -mu/alpha)"
      ]
     },
     "execution_count": 65,
     "metadata": {},
     "output_type": "execute_result"
    }
   ],
   "source": [
    "Eq(z,pole_set).subs(m,mmm)"
   ]
  },
  {
   "cell_type": "code",
   "execution_count": 66,
   "metadata": {},
   "outputs": [
    {
     "data": {
      "text/latex": [
       "$\\displaystyle z = - \\frac{\\mu}{\\alpha}$"
      ],
      "text/plain": [
       "Eq(z, -mu/alpha)"
      ]
     },
     "execution_count": 66,
     "metadata": {},
     "output_type": "execute_result"
    }
   ],
   "source": [
    "Eq(z,pole_set).subs(m,mmm).evalf()"
   ]
  },
  {
   "cell_type": "code",
   "execution_count": 67,
   "metadata": {
    "scrolled": true
   },
   "outputs": [
    {
     "data": {
      "text/latex": [
       "$\\displaystyle \\left|{z}\\right| = \\left|{\\frac{\\mu}{\\alpha}}\\right|$"
      ],
      "text/plain": [
       "Eq(Abs(z), Abs(mu/alpha))"
      ]
     },
     "execution_count": 67,
     "metadata": {},
     "output_type": "execute_result"
    }
   ],
   "source": [
    "Eq(abs(z),abs(pole_set)).subs(m,mmm).evalf()"
   ]
  },
  {
   "cell_type": "markdown",
   "metadata": {},
   "source": [
    "### Residues"
   ]
  },
  {
   "cell_type": "code",
   "execution_count": 68,
   "metadata": {},
   "outputs": [
    {
     "data": {
      "text/latex": [
       "$\\displaystyle \\lim_{z \\to - \\frac{s}{a}^+}\\left(\\frac{z + \\frac{s}{a}}{\\left(- t + z\\right) \\left(e^{a z + s} - 1\\right)}\\right) = \\frac{1}{- a t - s}$"
      ],
      "text/plain": [
       "Eq(Limit((z + s/a)/((-t + z)*(exp(a*z + s) - 1)), z, -s/a), 1/(-a*t - s))"
      ]
     },
     "execution_count": 68,
     "metadata": {},
     "output_type": "execute_result"
    }
   ],
   "source": [
    "residue_expr = Eq(Limit((k-(-s/a))/(k-t)*(1/(exp(s+a*k)-1)),k,-s/a),\n",
    "   limit((k-(-s/a))/(k-t)*(1/(exp(s+a*k)-1)),k,-s/a)).subs(k,z)\n",
    "residue_expr"
   ]
  },
  {
   "cell_type": "code",
   "execution_count": 69,
   "metadata": {},
   "outputs": [
    {
     "data": {
      "text/latex": [
       "$\\displaystyle \\lim_{z \\to - \\frac{- 2 i \\pi m + \\mu}{\\alpha}^+}\\left(\\frac{z + \\frac{- 2 i \\pi m + \\mu}{\\alpha}}{\\left(- \\delta + z\\right) \\left(e^{\\alpha z + \\mu} - 1\\right)}\\right) = \\frac{1}{- \\alpha \\delta + 2 i \\pi m - \\mu}$"
      ],
      "text/plain": [
       "Eq(Limit((z + (-2*I*pi*m + mu)/alpha)/((-delta + z)*(exp(alpha*z + mu) - 1)), z, -(-2*I*pi*m + mu)/alpha), 1/(-alpha*delta + 2*I*pi*m - mu))"
      ]
     },
     "execution_count": 69,
     "metadata": {},
     "output_type": "execute_result"
    }
   ],
   "source": [
    "residue_expr.subs([(s,exp_arg.subs(z,0)-2*I*pi*m),(a,alpha),(t,delta)]).subs(exp(exp_arg - 2*I*pi*m), exp(exp_arg))"
   ]
  },
  {
   "cell_type": "code",
   "execution_count": 70,
   "metadata": {},
   "outputs": [
    {
     "data": {
      "text/latex": [
       "$\\displaystyle R^{2} = \\frac{4 \\pi^{2} m^{2} - 4 \\pi m \\operatorname{im}{\\left(\\mu\\right)} + \\left|{\\mu}\\right|^{2}}{\\left|{\\alpha}\\right|^{2}}$"
      ],
      "text/plain": [
       "Eq(R**2, (4*pi**2*m**2 - 4*pi*m*im(mu) + Abs(mu)**2)/Abs(alpha)**2)"
      ]
     },
     "execution_count": 70,
     "metadata": {},
     "output_type": "execute_result"
    }
   ],
   "source": [
    "xx = pole_set.subs([(mu,re(mu)+I*im(mu)),(alpha,re(alpha)+I*im(alpha)), (delta,re(delta)+I*im(delta))])\n",
    "xc = pole_set.subs([(mu,re(mu)-I*im(mu)),(alpha,re(alpha)-I*im(alpha)), (delta,re(delta)-I*im(delta)),(m,-m)])\n",
    "radius_boundary = (Eq(xx * xc, R**2)).expand().simplify().subs([\n",
    "    (re(alpha)**2 + im(alpha)**2,abs(alpha)**2), \n",
    "    (re(mu)**2 + im(mu)**2,abs(mu)**2)\n",
    "])\n",
    "radius_boundary"
   ]
  },
  {
   "cell_type": "code",
   "execution_count": 71,
   "metadata": {},
   "outputs": [],
   "source": [
    "m_sols = solve(radius_boundary,m)"
   ]
  },
  {
   "cell_type": "code",
   "execution_count": 72,
   "metadata": {},
   "outputs": [
    {
     "data": {
      "text/latex": [
       "$\\displaystyle \\frac{- \\sqrt{R^{2} \\left|{\\alpha}\\right|^{2} + \\left(\\operatorname{im}{\\left(\\mu\\right)}\\right)^{2} - \\left|{\\mu}\\right|^{2}} + \\operatorname{im}{\\left(\\mu\\right)}}{2 \\pi}$"
      ],
      "text/plain": [
       "(-sqrt(R**2*Abs(alpha)**2 + im(mu)**2 - Abs(mu)**2) + im(mu))/(2*pi)"
      ]
     },
     "execution_count": 72,
     "metadata": {},
     "output_type": "execute_result"
    }
   ],
   "source": [
    "m_sols[0]"
   ]
  },
  {
   "cell_type": "code",
   "execution_count": 73,
   "metadata": {},
   "outputs": [
    {
     "data": {
      "text/latex": [
       "$\\displaystyle \\frac{\\sqrt{R^{2} \\left|{\\alpha}\\right|^{2} + \\left(\\operatorname{im}{\\left(\\mu\\right)}\\right)^{2} - \\left|{\\mu}\\right|^{2}} + \\operatorname{im}{\\left(\\mu\\right)}}{2 \\pi}$"
      ],
      "text/plain": [
       "(sqrt(R**2*Abs(alpha)**2 + im(mu)**2 - Abs(mu)**2) + im(mu))/(2*pi)"
      ]
     },
     "execution_count": 73,
     "metadata": {},
     "output_type": "execute_result"
    }
   ],
   "source": [
    "m_sols[1]"
   ]
  },
  {
   "cell_type": "code",
   "execution_count": 74,
   "metadata": {
    "scrolled": true
   },
   "outputs": [
    {
     "data": {
      "text/latex": [
       "$\\displaystyle m < \\frac{\\sqrt{R^{2} \\left|{\\alpha}\\right|^{2} + \\left(\\operatorname{im}{\\left(\\mu\\right)}\\right)^{2} - \\left|{\\mu}\\right|^{2}} + \\operatorname{im}{\\left(\\mu\\right)}}{2 \\pi}$"
      ],
      "text/plain": [
       "m < (sqrt(R**2*Abs(alpha)**2 + im(mu)**2 - Abs(mu)**2) + im(mu))/(2*pi)"
      ]
     },
     "execution_count": 74,
     "metadata": {},
     "output_type": "execute_result"
    }
   ],
   "source": [
    "m < m_sols[1]"
   ]
  },
  {
   "cell_type": "code",
   "execution_count": 75,
   "metadata": {},
   "outputs": [
    {
     "data": {
      "text/latex": [
       "$\\displaystyle m - \\frac{\\operatorname{im}{\\left(\\mu\\right)}}{2 \\pi} + \\frac{\\operatorname{re}{\\left(\\mu\\right)} \\operatorname{im}{\\left(\\alpha\\right)}}{2 \\pi \\operatorname{re}{\\left(\\alpha\\right)}} > 0$"
      ],
      "text/plain": [
       "m - im(mu)/(2*pi) + re(mu)*im(alpha)/(2*pi*re(alpha)) > 0"
      ]
     },
     "execution_count": 75,
     "metadata": {},
     "output_type": "execute_result"
    }
   ],
   "source": [
    "0<(-abs(alpha)**2/re(alpha)/2/pi*I*pole_set.subs(\n",
    "    [(mu,re(mu)+I*im(mu)),(alpha,abs(alpha)**2/(re(alpha)-I*im(alpha))), (delta,re(delta)+I*im(delta))])\n",
    ").expand().subs(I,0)"
   ]
  },
  {
   "cell_type": "code",
   "execution_count": 77,
   "metadata": {},
   "outputs": [
    {
     "data": {
      "text/latex": [
       "$\\displaystyle 2 i \\pi \\sum_{m=\\left\\lfloor{\\frac{\\operatorname{im}{\\left(\\mu\\right)}}{2 \\pi} - \\frac{\\operatorname{re}{\\left(\\mu\\right)} \\operatorname{im}{\\left(\\alpha\\right)}}{2 \\pi \\operatorname{re}{\\left(\\alpha\\right)}}}\\right\\rfloor}^{\\left\\lfloor{\\frac{\\sqrt{R^{2} \\left|{\\alpha}\\right|^{2} + \\left(\\operatorname{im}{\\left(\\mu\\right)}\\right)^{2} - \\left|{\\mu}\\right|^{2}} + \\operatorname{im}{\\left(\\mu\\right)}}{2 \\pi}}\\right\\rfloor} - \\frac{1}{- \\alpha \\delta + 2 i \\pi m - \\mu}$"
      ],
      "text/plain": [
       "2*I*pi*Sum(-1/(-alpha*delta + 2*I*pi*m - mu), (m, floor(im(mu)/(2*pi) - re(mu)*im(alpha)/(2*pi*re(alpha))), floor((sqrt(R**2*Abs(alpha)**2 + im(mu)**2 - Abs(mu)**2) + im(mu))/(2*pi))))"
      ]
     },
     "execution_count": 77,
     "metadata": {},
     "output_type": "execute_result"
    }
   ],
   "source": [
    "residue_sum = 2*I*pi*Sum(-1/(-delta*alpha+2*I*pi*m-mu),\n",
    "                         (m,floor(im(mu)/2/pi-re(mu)*im(alpha)/(2*pi*re(alpha))),floor(m_sols[1])))\n",
    "residue_sum"
   ]
  },
  {
   "cell_type": "code",
   "execution_count": 81,
   "metadata": {},
   "outputs": [
    {
     "data": {
      "text/latex": [
       "$\\displaystyle 2 i \\pi \\sum_{m=0}^{\\left\\lfloor{\\frac{\\sqrt{R^{2} \\left|{\\alpha}\\right|^{2} + \\left(\\operatorname{im}{\\left(\\mu\\right)}\\right)^{2} - \\left|{\\mu}\\right|^{2}} + \\operatorname{im}{\\left(\\mu\\right)}}{2 \\pi}}\\right\\rfloor - \\left\\lfloor{\\frac{\\operatorname{im}{\\left(\\mu\\right)}}{2 \\pi} - \\frac{\\operatorname{re}{\\left(\\mu\\right)} \\operatorname{im}{\\left(\\alpha\\right)}}{2 \\pi \\operatorname{re}{\\left(\\alpha\\right)}}}\\right\\rfloor} - \\frac{1}{- \\alpha \\delta + 2 i \\pi m - \\mu + 2 i \\pi \\left\\lfloor{\\frac{\\operatorname{im}{\\left(\\mu\\right)}}{2 \\pi} - \\frac{\\operatorname{re}{\\left(\\mu\\right)} \\operatorname{im}{\\left(\\alpha\\right)}}{2 \\pi \\operatorname{re}{\\left(\\alpha\\right)}}}\\right\\rfloor}$"
      ],
      "text/plain": [
       "2*I*pi*Sum(-1/(-alpha*delta + 2*I*pi*m - mu + 2*I*pi*floor(im(mu)/(2*pi) - re(mu)*im(alpha)/(2*pi*re(alpha)))), (m, 0, floor((sqrt(R**2*Abs(alpha)**2 + im(mu)**2 - Abs(mu)**2) + im(mu))/(2*pi)) - floor(im(mu)/(2*pi) - re(mu)*im(alpha)/(2*pi*re(alpha)))))"
      ]
     },
     "execution_count": 81,
     "metadata": {},
     "output_type": "execute_result"
    }
   ],
   "source": [
    "residue_sum = 2*I*pi*Sum(-1/(-delta*alpha+2*I*pi*m+2*I*pi*floor(im(mu)/2/pi-re(mu)*im(alpha)/(2*pi*re(alpha)))-mu),\n",
    "                         (m,0,floor(m_sols[1])-floor(im(mu)/2/pi-re(mu)*im(alpha)/(2*pi*re(alpha)))))\n",
    "residue_sum"
   ]
  },
  {
   "cell_type": "markdown",
   "metadata": {},
   "source": [
    "### Limit of Residue Sum"
   ]
  },
  {
   "cell_type": "code",
   "execution_count": null,
   "metadata": {},
   "outputs": [],
   "source": [
    "(2*I*pi*Sum(-1/(I*pi*(4*n-1)-4-2*I*pi),(n,1,floor((2*R*sqrt(4 + pi**2) + pi)/(4*pi)))) - \n",
    " 2*I*pi*Sum(-1/(I*pi*(4*m+1)-4),(m,0,floor((R - pi/4)/pi))))"
   ]
  },
  {
   "cell_type": "code",
   "execution_count": null,
   "metadata": {},
   "outputs": [],
   "source": [
    "(-Sum(2*I*pi/(I*pi*(4*n+1)-4),(n,0,floor((2*R*sqrt(4 + pi**2) + pi)/(4*pi))-1)) +\n",
    " Sum(2*I*pi/(I*pi*(4*m+1)-4),(m,0,floor((R - pi/4)/pi))))"
   ]
  },
  {
   "cell_type": "code",
   "execution_count": null,
   "metadata": {},
   "outputs": [],
   "source": [
    "-Sum(2*I*pi/(I*pi*(4*n+1)-4),(n,floor((R - pi/4)/pi)+1,floor((2*R*sqrt(4 + pi**2) + pi)/(4*pi))-1))"
   ]
  },
  {
   "cell_type": "code",
   "execution_count": null,
   "metadata": {},
   "outputs": [],
   "source": [
    "-Sum(2*I*pi/(I*pi*(4*(n+floor((R - pi/4)/pi)+1)+1)-4),\n",
    "     (n,0,floor((2*R*sqrt(4 + pi**2) + pi)/(4*pi))-1-(floor((R - pi/4)/pi)+1)))"
   ]
  },
  {
   "cell_type": "code",
   "execution_count": null,
   "metadata": {},
   "outputs": [],
   "source": [
    "((2*I*pi/(I*pi*N-4)+(2*I*pi/(I*pi*N-4)).subs(I,-I))/2).simplify()"
   ]
  },
  {
   "cell_type": "code",
   "execution_count": null,
   "metadata": {},
   "outputs": [],
   "source": [
    "Sum(n/(n**2+a),(n,1,oo)).doit()"
   ]
  },
  {
   "cell_type": "code",
   "execution_count": null,
   "metadata": {},
   "outputs": [],
   "source": [
    "((2*I*pi/(I*pi*N-4)-(2*I*pi/(I*pi*N-4)).subs(I,-I))/2).simplify()"
   ]
  },
  {
   "cell_type": "code",
   "execution_count": null,
   "metadata": {},
   "outputs": [],
   "source": [
    "(-Sum(2*I*pi/(I*pi*(4*(n+floor((R - pi/4)/pi)+1)+1)-4),\n",
    "     (n,0,floor((2*R*sqrt(4 + pi**2) + pi)/(4*pi))-1-(floor((R - pi/4)/pi)+1)))).subs(R,200).evalf()"
   ]
  },
  {
   "cell_type": "code",
   "execution_count": null,
   "metadata": {},
   "outputs": [],
   "source": [
    "((-Sum(2*I*pi/(I*pi*(4*n+1)-4),(n,0,floor((2*R*sqrt(4 + pi**2) + pi)/(4*pi))-1)) +\n",
    " Sum(2*I*pi/(I*pi*(4*m+1)-4),(m,0,floor((R - pi/4)/pi))))).subs(R,200).evalf()"
   ]
  },
  {
   "cell_type": "code",
   "execution_count": null,
   "metadata": {},
   "outputs": [],
   "source": [
    "-Sum(2*pi**2*(4*(n+floor((R - pi/4)/pi)+1)+1)/(pi**2*(4*(n+floor((R - pi/4)/pi)+1)+1)**2+16),\n",
    "      (n, 0, floor((2*R*sqrt(4 + pi**2) + pi)/(4*pi))-1-(floor((R - pi/4)/pi)+1))).subs(R,20000).evalf()"
   ]
  },
  {
   "cell_type": "code",
   "execution_count": null,
   "metadata": {},
   "outputs": [],
   "source": [
    "-Sum(2*pi**2*(4*(n+floor((R - pi/4)/pi)+1)+1)/(pi**2*(4*(n+floor((R - pi/4)/pi)+1)+1)**2+16),\n",
    "      (n, 0, floor((2*R*sqrt(4 + pi**2) + pi)/(4*pi))-1-(floor((R - pi/4)/pi)+1)))"
   ]
  },
  {
   "cell_type": "code",
   "execution_count": null,
   "metadata": {},
   "outputs": [],
   "source": [
    "digamma_sum = Eq(Sum(1/(z-n),(n,1,N)), digamma(z)-digamma(z-N))\n",
    "digamma_sum"
   ]
  },
  {
   "cell_type": "code",
   "execution_count": null,
   "metadata": {},
   "outputs": [],
   "source": [
    "digamma_sum2 = Eq(Sum(1/(z+n),(n,0,N-1)), digamma(z+N)-digamma(z))\n",
    "digamma_sum2"
   ]
  },
  {
   "cell_type": "code",
   "execution_count": null,
   "metadata": {},
   "outputs": [],
   "source": [
    "Sum(1/(z+n),(n,0,N-1)).subs([(N,40),(z,-I*pi-2)]).doit().evalf()"
   ]
  },
  {
   "cell_type": "code",
   "execution_count": null,
   "metadata": {},
   "outputs": [],
   "source": [
    "(digamma(z+N)-digamma(z)).subs([(N,40),(z,-I*pi-2)]).doit().evalf()"
   ]
  },
  {
   "cell_type": "code",
   "execution_count": null,
   "metadata": {},
   "outputs": [],
   "source": [
    "Eq((-Sum(1/(n+((I*pi-4)/(I*pi*4)).expand()),(n,0,floor((2*R*sqrt(4 + pi**2) + pi)/(4*pi))-1)) +\n",
    " Sum(1/(n+((I*pi-4)/(I*pi*4)).expand()),(n,0,floor((R - pi/4)/pi))))/2,\n",
    "   (-digamma(1/4+I/pi+floor((2*R*sqrt(4 + pi**2) + pi)/(4*pi)))+ digamma(1/4+I/pi+floor((R - pi/4)/pi)+1))/2\n",
    "  )"
   ]
  },
  {
   "cell_type": "code",
   "execution_count": null,
   "metadata": {},
   "outputs": [],
   "source": [
    "((-Sum(1/(n+((I*pi-4)/(I*pi*4)).expand()),(n,0,floor((2*R*sqrt(4 + pi**2) + pi)/(4*pi))-1)) +\n",
    " Sum(1/(n+((I*pi-4)/(I*pi*4)).expand()),(n,0,floor((R - pi/4)/pi))))/2).subs(R,20).doit().evalf()"
   ]
  },
  {
   "cell_type": "code",
   "execution_count": null,
   "metadata": {},
   "outputs": [],
   "source": [
    "(( (-digamma(1/4+I/pi+floor((2*R*sqrt(4 + pi**2) + pi)/(4*pi)))+ digamma(1/4+I/pi+floor((R - pi/4)/pi)+1))/2)\n",
    " .subs(R,20).evalf())"
   ]
  },
  {
   "cell_type": "markdown",
   "metadata": {},
   "source": [
    "Using the asymptotic expansion of the digamma function"
   ]
  },
  {
   "cell_type": "code",
   "execution_count": null,
   "metadata": {},
   "outputs": [],
   "source": [
    "Eq(Limit(-ln((1/4+I/pi+floor((2*R*sqrt(4 + pi**2) + pi)/(4*pi)))/(1/4+I/pi+floor((R - pi/4)/pi)+1))/2,R,oo),\n",
    "   limit(-ln((1/4+I/pi+floor((2*R*sqrt(4 + pi**2) + pi)/(4*pi)))/(1/4+I/pi+floor((R - pi/4)/pi)+1))/2,R,oo)\n",
    "  )"
   ]
  },
  {
   "cell_type": "code",
   "execution_count": null,
   "metadata": {},
   "outputs": [],
   "source": [
    "residue_sum_limit = Eq(Limit((-Sum(1/(n+((I*pi-4)/(I*pi*4)).expand()),(n,0,floor((2*R*sqrt(4 + pi**2) + pi)/(4*pi))-1)) +\n",
    " Sum(1/(n+((I*pi-4)/(I*pi*4)).expand()),(n,0,floor((R - pi/4)/pi))))/2,R,oo),\n",
    "   limit(-ln((1/4+I/pi+floor((2*R*sqrt(4 + pi**2) + pi)/(4*pi)))/(1/4+I/pi+floor((R - pi/4)/pi)+1))/2,R,oo)\n",
    "  )\n",
    "residue_sum_limit"
   ]
  },
  {
   "cell_type": "code",
   "execution_count": null,
   "metadata": {},
   "outputs": [],
   "source": [
    "limit(-ln((1/4+I/pi+floor((2*R*sqrt(4 + pi**2) + pi)/(4*pi)))/(1/4+I/pi+floor((R - pi/4)/pi)+1)),R,oo).evalf()/2"
   ]
  },
  {
   "cell_type": "markdown",
   "metadata": {},
   "source": [
    "## Result"
   ]
  },
  {
   "cell_type": "code",
   "execution_count": null,
   "metadata": {
    "scrolled": true
   },
   "outputs": [],
   "source": [
    "Eq(semic_part1 + semic_part2, residue_sum_2)"
   ]
  },
  {
   "cell_type": "code",
   "execution_count": null,
   "metadata": {},
   "outputs": [],
   "source": [
    "Eq(Limit(semic_part1,R,oo) , Limit(residue_sum_2,R,oo) - Limit(semic_part2,R,oo))"
   ]
  },
  {
   "cell_type": "code",
   "execution_count": null,
   "metadata": {},
   "outputs": [],
   "source": [
    "residue_sum_limit"
   ]
  },
  {
   "cell_type": "code",
   "execution_count": null,
   "metadata": {},
   "outputs": [],
   "source": [
    "rad_limit"
   ]
  },
  {
   "cell_type": "code",
   "execution_count": null,
   "metadata": {},
   "outputs": [],
   "source": [
    "result_1 = Eq(Limit(semic_part1,R,oo) , -log(4+pi**2)/4+2*log(2)/4 + I*atan(2/pi)/2 - I*pi/4)\n",
    "result_1"
   ]
  },
  {
   "cell_type": "code",
   "execution_count": null,
   "metadata": {},
   "outputs": [],
   "source": [
    "result_2 = result_1.subs(atan(2/pi),pi/2 - atan(pi/2)).expand()\n",
    "result_2"
   ]
  },
  {
   "cell_type": "code",
   "execution_count": null,
   "metadata": {},
   "outputs": [],
   "source": [
    "result_3 = result_2.subs(log(4+pi**2),log(1+pi**2/4) + log(4)).expand()\n",
    "result_3"
   ]
  },
  {
   "cell_type": "code",
   "execution_count": null,
   "metadata": {},
   "outputs": [],
   "source": [
    "semic_part1.subs(R,9).evalf()"
   ]
  },
  {
   "cell_type": "code",
   "execution_count": null,
   "metadata": {},
   "outputs": [],
   "source": [
    "(-log(1+pi**2/4)/4 - I*atan(pi/2)/2).evalf()"
   ]
  },
  {
   "cell_type": "code",
   "execution_count": null,
   "metadata": {},
   "outputs": [],
   "source": [
    "Eq(atan(z),-I/2*log((1+I*z)/(1-I*z)))"
   ]
  },
  {
   "cell_type": "code",
   "execution_count": null,
   "metadata": {},
   "outputs": [],
   "source": [
    "Eq(atan(z),-I/2*log((1+I*z)/(1-I*z))).subs(z,-0.356).evalf()"
   ]
  },
  {
   "cell_type": "code",
   "execution_count": null,
   "metadata": {},
   "outputs": [],
   "source": [
    "(atan(z)).subs(z,-0.356).evalf()"
   ]
  },
  {
   "cell_type": "code",
   "execution_count": null,
   "metadata": {},
   "outputs": [],
   "source": [
    "(-I/2*log((1+I*z)/(1-I*z))).subs(z,-0.356).evalf()"
   ]
  },
  {
   "cell_type": "code",
   "execution_count": null,
   "metadata": {},
   "outputs": [],
   "source": [
    "Eq(atan(2/pi),pi/2 - atan(pi/2))"
   ]
  },
  {
   "cell_type": "code",
   "execution_count": null,
   "metadata": {},
   "outputs": [],
   "source": [
    "(1/(-exp(2*k+s*I*pi*k+I*pi/2)+1)/(k-1)/4 + (1/(-exp(2*k+s*I*pi*k+I*pi/2)+1)/(k-1)/4).subs(I,-I)).simplify()"
   ]
  },
  {
   "cell_type": "code",
   "execution_count": null,
   "metadata": {},
   "outputs": [],
   "source": []
  }
 ],
 "metadata": {
  "kernelspec": {
   "display_name": "Python 3",
   "language": "python",
   "name": "python3"
  },
  "language_info": {
   "codemirror_mode": {
    "name": "ipython",
    "version": 3
   },
   "file_extension": ".py",
   "mimetype": "text/x-python",
   "name": "python",
   "nbconvert_exporter": "python",
   "pygments_lexer": "ipython3",
   "version": "3.8.5"
  }
 },
 "nbformat": 4,
 "nbformat_minor": 4
}
