{
 "cells": [
  {
   "cell_type": "markdown",
   "metadata": {},
   "source": [
    "# Integral with Tan and Laplacian\n",
    "\n",
    "\n",
    "https://dlmf.nist.gov/25.11\n",
    "\n",
    "https://math.stackexchange.com/questions/364452/evaluate-int-0-frac-pi2-frac11x21-tan-x-mathrm-dx\n",
    "\n",
    "\n",
    "Worth looking at at some point: https://en.wikipedia.org/wiki/Abel%E2%80%93Plana_formula\n"
   ]
  },
  {
   "cell_type": "code",
   "execution_count": 1,
   "metadata": {},
   "outputs": [],
   "source": [
    "from sympy import *"
   ]
  },
  {
   "cell_type": "code",
   "execution_count": 2,
   "metadata": {},
   "outputs": [],
   "source": [
    "x, y, n, K, k, epsilon, z, s, a, R, N, r, T = symbols('x, y, n, K, k, epsilon, z, s, a, R, N, r, T')\n",
    "alpha, beta, delta, t, mu, nu, epsilon, theta, phi = symbols('alpha, beta, delta, t, mu, nu, epsilon, theta, phi')"
   ]
  },
  {
   "cell_type": "code",
   "execution_count": 5,
   "metadata": {},
   "outputs": [
    {
     "data": {
      "text/latex": [
       "$\\displaystyle - \\frac{\\Phi\\left(1, 1, \\alpha\\right)}{\\alpha - \\beta} + \\frac{\\Phi\\left(1, 1, \\beta\\right)}{\\alpha - \\beta}$"
      ],
      "text/plain": [
       "-lerchphi(1, 1, alpha)/(alpha - beta) + lerchphi(1, 1, beta)/(alpha - beta)"
      ]
     },
     "execution_count": 5,
     "metadata": {},
     "output_type": "execute_result"
    }
   ],
   "source": [
    "Sum(1/(n+alpha)/(n+beta),(n,0,oo)).doit().expand()"
   ]
  },
  {
   "cell_type": "markdown",
   "metadata": {},
   "source": [
    "## Defining the integral and obtaining a numerical aproximation"
   ]
  },
  {
   "cell_type": "code",
   "execution_count": 7,
   "metadata": {},
   "outputs": [
    {
     "data": {
      "text/latex": [
       "$\\displaystyle 0.597381809451804$"
      ],
      "text/plain": [
       "0.597381809451804"
      ]
     },
     "execution_count": 7,
     "metadata": {},
     "output_type": "execute_result"
    }
   ],
   "source": [
    "integrate(1/(1+x**2)*1/(1+tan(x)), (x, 0, pi/2)).evalf()"
   ]
  },
  {
   "cell_type": "code",
   "execution_count": 8,
   "metadata": {
    "scrolled": true
   },
   "outputs": [
    {
     "data": {
      "text/latex": [
       "$\\displaystyle \\int\\limits_{0}^{\\frac{\\pi}{2}} \\frac{1}{\\left(x^{2} + 1\\right) \\left(\\tan{\\left(x \\right)} + 1\\right)}\\, dx = - 0.25 \\int\\limits_{- \\frac{\\pi}{4}}^{\\frac{\\pi}{4}} \\left(\\frac{1}{\\left(x + \\frac{\\pi}{4}\\right)^{2} + 1} - \\frac{1}{\\left(x - \\frac{\\pi}{4}\\right)^{2} + 1}\\right) \\tan{\\left(x \\right)}\\, dx + 0.5 \\operatorname{atan}{\\left(\\frac{\\pi}{2} \\right)}$"
      ],
      "text/plain": [
       "Eq(Integral(1/((x**2 + 1)*(tan(x) + 1)), (x, 0, pi/2)), -0.25*Integral((1/((x + pi/4)**2 + 1) - 1/((x - pi/4)**2 + 1))*tan(x), (x, -pi/4, pi/4)) + 0.5*atan(pi/2))"
      ]
     },
     "execution_count": 8,
     "metadata": {},
     "output_type": "execute_result"
    }
   ],
   "source": [
    "Eq(integrate(1/(1+x**2)*1/(1+tan(x)), (x, 0, pi/2)),\n",
    "  1/2 * integrate(1/(1+x**2), (x, 0, pi/2)) - 1/4 * Integral((1/(1+(x+pi/4)**2)-1/(1+(x-pi/4)**2))*tan(x), (x, -pi/4, pi/4))\n",
    "  )"
   ]
  },
  {
   "cell_type": "markdown",
   "metadata": {},
   "source": [
    "## Representing the Laplacian as a Fourier Transform"
   ]
  },
  {
   "cell_type": "code",
   "execution_count": 3,
   "metadata": {},
   "outputs": [
    {
     "data": {
      "text/latex": [
       "$\\displaystyle \\frac{1}{x^{2} + 1} = \\int\\limits_{-\\infty}^{\\infty} \\frac{e^{- i k x} e^{- \\left|{k}\\right|}}{2}\\, dk$"
      ],
      "text/plain": [
       "Eq(1/(x**2 + 1), Integral(exp(-I*k*x)*exp(-Abs(k))/2, (k, -oo, oo)))"
      ]
     },
     "execution_count": 3,
     "metadata": {},
     "output_type": "execute_result"
    }
   ],
   "source": [
    "Eq(1/(1+x**2), Integral(exp(-abs(k))/2*exp(-I*x*k),(k,-oo,oo)))"
   ]
  },
  {
   "cell_type": "markdown",
   "metadata": {},
   "source": [
    "## Representing rational function of the tangent as Fourier series (distributional sense)"
   ]
  },
  {
   "cell_type": "code",
   "execution_count": 7,
   "metadata": {},
   "outputs": [
    {
     "data": {
      "text/latex": [
       "$\\displaystyle \\frac{1}{\\tan{\\left(x \\right)} + 1} = - i \\sum_{n=1}^{\\infty} i^{n} e^{2 i n x} + \\frac{1}{2} - \\frac{i}{2}$"
      ],
      "text/plain": [
       "Eq(1/(tan(x) + 1), -I*Sum(I**n*exp(2*I*n*x), (n, 1, oo)) + 1/2 - I/2)"
      ]
     },
     "execution_count": 7,
     "metadata": {},
     "output_type": "execute_result"
    }
   ],
   "source": [
    "Eq(1/(1+tan(x)),-I*Sum(I**n*exp(2*I*x*n),(n,1,oo))+(1-I)/2)"
   ]
  },
  {
   "cell_type": "code",
   "execution_count": 8,
   "metadata": {},
   "outputs": [
    {
     "data": {
      "text/latex": [
       "$\\displaystyle \\frac{1}{\\tan{\\left(x \\right)} + 1} = - i \\sum_{n=1}^{\\infty} e^{2 i n \\left(x + \\frac{\\pi}{4}\\right)} + \\frac{1}{2} - \\frac{i}{2}$"
      ],
      "text/plain": [
       "Eq(1/(tan(x) + 1), -I*Sum(exp(2*I*n*(x + pi/4)), (n, 1, oo)) + 1/2 - I/2)"
      ]
     },
     "execution_count": 8,
     "metadata": {},
     "output_type": "execute_result"
    }
   ],
   "source": [
    "Eq(1/(1+tan(x)),-I*Sum(exp(2*I*(x+pi/4)*n),(n,1,oo))+(1-I)/2)"
   ]
  },
  {
   "cell_type": "code",
   "execution_count": 14,
   "metadata": {},
   "outputs": [
    {
     "data": {
      "text/latex": [
       "$\\displaystyle \\tan{\\left(x \\right)} = \\frac{i \\left(- e^{i x} + e^{- i x}\\right)}{e^{i x} + e^{- i x}}$"
      ],
      "text/plain": [
       "Eq(tan(x), I*(-exp(I*x) + exp(-I*x))/(exp(I*x) + exp(-I*x)))"
      ]
     },
     "execution_count": 14,
     "metadata": {},
     "output_type": "execute_result"
    }
   ],
   "source": [
    "Eq(tan(x), I*(exp(-I*x)-exp(I*x))/(exp(I*x)+exp(-I*x)))"
   ]
  },
  {
   "cell_type": "code",
   "execution_count": 22,
   "metadata": {},
   "outputs": [
    {
     "data": {
      "text/latex": [
       "$\\displaystyle \\tan{\\left(x \\right)} = i - \\frac{2 i}{1 + e^{- 2 i x}}$"
      ],
      "text/plain": [
       "Eq(tan(x), I - 2*I/(1 + exp(-2*I*x)))"
      ]
     },
     "execution_count": 22,
     "metadata": {},
     "output_type": "execute_result"
    }
   ],
   "source": [
    "Eq(tan(x), I-2*I/(1+exp(-2*I*x)))"
   ]
  },
  {
   "cell_type": "code",
   "execution_count": 25,
   "metadata": {},
   "outputs": [
    {
     "data": {
      "text/latex": [
       "$\\displaystyle \\cot{\\left(x \\right)} = \\frac{i \\left(e^{i x} + e^{- i x}\\right)}{e^{i x} - e^{- i x}}$"
      ],
      "text/plain": [
       "Eq(cot(x), I*(exp(I*x) + exp(-I*x))/(exp(I*x) - exp(-I*x)))"
      ]
     },
     "execution_count": 25,
     "metadata": {},
     "output_type": "execute_result"
    }
   ],
   "source": [
    "Eq(cot(x), I*(exp(-I*x)+exp(I*x))/(exp(I*x)-exp(-I*x)))"
   ]
  },
  {
   "cell_type": "code",
   "execution_count": 30,
   "metadata": {},
   "outputs": [
    {
     "data": {
      "text/latex": [
       "$\\displaystyle \\cot{\\left(x \\right)} = - i + \\frac{2 i}{1 - e^{- 2 i x}}$"
      ],
      "text/plain": [
       "Eq(cot(x), -I + 2*I/(1 - exp(-2*I*x)))"
      ]
     },
     "execution_count": 30,
     "metadata": {},
     "output_type": "execute_result"
    }
   ],
   "source": [
    "Eq(cot(x), -I+2*I/(1-exp(-2*I*x)))"
   ]
  },
  {
   "cell_type": "code",
   "execution_count": 9,
   "metadata": {
    "scrolled": true
   },
   "outputs": [
    {
     "data": {
      "text/latex": [
       "$\\displaystyle \\begin{cases} \\frac{x}{1 - x} & \\text{for}\\: \\left|{x}\\right| < 1 \\\\\\sum_{n=1}^{\\infty} x^{n} & \\text{otherwise} \\end{cases}$"
      ],
      "text/plain": [
       "Piecewise((x/(1 - x), Abs(x) < 1), (Sum(x**n, (n, 1, oo)), True))"
      ]
     },
     "execution_count": 9,
     "metadata": {},
     "output_type": "execute_result"
    }
   ],
   "source": [
    "Sum(x**n,(n,1,oo)).doit()"
   ]
  },
  {
   "cell_type": "markdown",
   "metadata": {},
   "source": [
    "## Substituting the Fourier Transform and Fourier Series"
   ]
  },
  {
   "cell_type": "code",
   "execution_count": 10,
   "metadata": {
    "scrolled": true
   },
   "outputs": [
    {
     "data": {
      "text/latex": [
       "$\\displaystyle \\int\\limits_{0}^{\\frac{\\pi}{2}} \\frac{1}{\\left(x^{2} + 1\\right) \\left(\\tan{\\left(x \\right)} + 1\\right)}\\, dx = \\int\\limits_{0}^{\\frac{\\pi}{2}} \\left(\\frac{1}{2} - \\frac{i}{2}\\right) \\int\\limits_{-\\infty}^{\\infty} \\frac{e^{- i k x} e^{- \\left|{k}\\right|}}{2}\\, dk\\, dx - i \\sum_{n=1}^{\\infty} i^{n} \\int\\limits_{-\\infty}^{\\infty} \\frac{e^{- \\left|{k}\\right|} \\int\\limits_{0}^{\\frac{\\pi}{2}} e^{- i k x} e^{2 i n x}\\, dx}{2}\\, dk$"
      ],
      "text/plain": [
       "Eq(Integral(1/((x**2 + 1)*(tan(x) + 1)), (x, 0, pi/2)), Integral((1/2 - I/2)*Integral(exp(-I*k*x)*exp(-Abs(k))/2, (k, -oo, oo)), (x, 0, pi/2)) - I*Sum(I**n*Integral(exp(-Abs(k))*Integral(exp(-I*k*x)*exp(2*I*n*x), (x, 0, pi/2))/2, (k, -oo, oo)), (n, 1, oo)))"
      ]
     },
     "execution_count": 10,
     "metadata": {},
     "output_type": "execute_result"
    }
   ],
   "source": [
    "Eq(integrate(1/(1+x**2)*1/(1+tan(x)), (x, 0, pi/2)),\n",
    "  Integral(Integral(exp(-abs(k))/2*exp(-I*x*k),(k,-oo,oo))*((1-I)/2), (x, 0, pi/2)) + \\\n",
    "  -I*Sum(I**n*Integral(exp(-abs(k))/2*Integral(exp(-I*x*k)*exp(2*I*x*n), (x, 0, pi/2)),(k,-oo,oo)),(n,1,oo))\n",
    "  )"
   ]
  },
  {
   "cell_type": "markdown",
   "metadata": {},
   "source": [
    "## Evaluate the simpler part"
   ]
  },
  {
   "cell_type": "code",
   "execution_count": 11,
   "metadata": {},
   "outputs": [
    {
     "data": {
      "text/latex": [
       "$\\displaystyle \\int\\limits_{0}^{\\frac{\\pi}{2}} \\left(\\frac{1}{2} - \\frac{i}{2}\\right) \\int\\limits_{-\\infty}^{\\infty} \\frac{e^{- i k x} e^{- \\left|{k}\\right|}}{2}\\, dk\\, dx = \\left(\\frac{1}{2} - \\frac{i}{2}\\right) \\operatorname{atan}{\\left(\\frac{\\pi}{2} \\right)}$"
      ],
      "text/plain": [
       "Eq(Integral((1/2 - I/2)*Integral(exp(-I*k*x)*exp(-Abs(k))/2, (k, -oo, oo)), (x, 0, pi/2)), (1/2 - I/2)*atan(pi/2))"
      ]
     },
     "execution_count": 11,
     "metadata": {},
     "output_type": "execute_result"
    }
   ],
   "source": [
    "Eq(Integral(Integral(exp(-abs(k))/2*exp(-I*x*k),(k,-oo,oo))*((1-I)/2), (x, 0, pi/2)),\n",
    "  (1-I)/2*Integral(1/(1+x**2), (x, 0, pi/2)).doit())"
   ]
  },
  {
   "cell_type": "markdown",
   "metadata": {},
   "source": [
    "## Evauate the inner sinc-like integral"
   ]
  },
  {
   "cell_type": "code",
   "execution_count": 12,
   "metadata": {},
   "outputs": [
    {
     "data": {
      "text/latex": [
       "$\\displaystyle \\int\\limits_{0}^{\\frac{\\pi}{2}} e^{- i k x} e^{2 i n x}\\, dx = \\frac{i \\left(\\left(-1\\right)^{n} e^{- \\frac{i \\pi k}{2}} - 1\\right)}{k - 2 n}$"
      ],
      "text/plain": [
       "Eq(Integral(exp(-I*k*x)*exp(2*I*n*x), (x, 0, pi/2)), I*((-1)**n*exp(-I*pi*k/2) - 1)/(k - 2*n))"
      ]
     },
     "execution_count": 12,
     "metadata": {},
     "output_type": "execute_result"
    }
   ],
   "source": [
    "Eq(Integral(exp(2*I*x*n)*exp(-I*x*k),(x,0,pi/2)), I*(-1+(-1)**n*exp(-I*pi*k/2))/(k-2*n))"
   ]
  },
  {
   "cell_type": "code",
   "execution_count": 33,
   "metadata": {
    "scrolled": true
   },
   "outputs": [
    {
     "data": {
      "text/latex": [
       "$\\displaystyle - i \\sum_{n=1}^{\\infty} i^{n} \\int\\limits_{-\\infty}^{\\infty} \\frac{e^{- \\left|{k}\\right|} \\int\\limits_{0}^{\\frac{\\pi}{2}} e^{- i k x} e^{2 i n x}\\, dx}{2}\\, dk = \\sum_{n=1}^{\\infty} i^{n} \\int\\limits_{-\\infty}^{\\infty} \\frac{\\left(\\left(-1\\right)^{n} e^{- \\frac{i \\pi k}{2}} - 1\\right) e^{- \\left|{k}\\right|}}{2 \\left(k - 2 n\\right)}\\, dk$"
      ],
      "text/plain": [
       "Eq(-I*Sum(I**n*Integral(exp(-Abs(k))*Integral(exp(-I*k*x)*exp(2*I*n*x), (x, 0, pi/2))/2, (k, -oo, oo)), (n, 1, oo)), Sum(I**n*Integral(((-1)**n*exp(-I*pi*k/2) - 1)*exp(-Abs(k))/(2*(k - 2*n)), (k, -oo, oo)), (n, 1, oo)))"
      ]
     },
     "execution_count": 33,
     "metadata": {},
     "output_type": "execute_result"
    }
   ],
   "source": [
    "Eq(-I*Sum(I**n*Integral(exp(-abs(k))/2*Integral(exp(-I*x*k)*exp(2*I*x*n), (x, 0, pi/2)),(k,-oo,oo)),(n,1,oo)),\n",
    "  Sum(I**n*Integral(exp(-abs(k))/2*(-1+(-1)**n*exp(-I*pi*k/2))/(k-2*n),(k,-oo,oo)),(n,1,oo))\n",
    "  )"
   ]
  },
  {
   "cell_type": "markdown",
   "metadata": {},
   "source": [
    "## Swap summation and integration order"
   ]
  },
  {
   "cell_type": "code",
   "execution_count": 39,
   "metadata": {},
   "outputs": [
    {
     "data": {
      "text/latex": [
       "$\\displaystyle \\left(-1\\right)^{n} = e^{i \\pi n}$"
      ],
      "text/plain": [
       "Eq((-1)**n, exp(I*pi*n))"
      ]
     },
     "execution_count": 39,
     "metadata": {},
     "output_type": "execute_result"
    }
   ],
   "source": [
    "Eq((-1)**n, exp(I*pi*n))"
   ]
  },
  {
   "cell_type": "code",
   "execution_count": 23,
   "metadata": {},
   "outputs": [
    {
     "data": {
      "text/latex": [
       "$\\displaystyle i^{n} = e^{\\frac{i \\pi n}{2}}$"
      ],
      "text/plain": [
       "Eq(I**n, exp(I*pi*n/2))"
      ]
     },
     "execution_count": 23,
     "metadata": {},
     "output_type": "execute_result"
    }
   ],
   "source": [
    "Eq((I)**n, exp(I*pi*n/2))"
   ]
  },
  {
   "cell_type": "code",
   "execution_count": 45,
   "metadata": {},
   "outputs": [
    {
     "data": {
      "text/latex": [
       "$\\displaystyle \\sum_{n=1}^{\\infty} i^{n} \\int\\limits_{-\\infty}^{\\infty} \\frac{\\left(\\left(-1\\right)^{n} e^{- i \\pi k n} - 1\\right) e^{- 2 n \\left|{k}\\right|}}{2 \\left(k - 1\\right)}\\, dk = \\int\\limits_{-\\infty}^{\\infty} \\frac{- \\sum_{n=1}^{\\infty} i^{n} e^{- 2 n \\left|{k}\\right|} + \\sum_{n=1}^{\\infty} \\left(-1\\right)^{n} i^{n} e^{- 2 n \\left|{k}\\right|} e^{- i \\pi k n}}{2 \\left(k - 1\\right)}\\, dk$"
      ],
      "text/plain": [
       "Eq(Sum(I**n*Integral(((-1)**n*exp(-I*pi*k*n) - 1)*exp(-2*n*Abs(k))/(2*(k - 1)), (k, -oo, oo)), (n, 1, oo)), Integral((-Sum(I**n*exp(-2*n*Abs(k)), (n, 1, oo)) + Sum((-1)**n*I**n*exp(-2*n*Abs(k))*exp(-I*pi*k*n), (n, 1, oo)))/(2*(k - 1)), (k, -oo, oo)))"
      ]
     },
     "execution_count": 45,
     "metadata": {},
     "output_type": "execute_result"
    }
   ],
   "source": [
    "Eq(Sum(I**n*UnevaluatedExpr(Integral(exp(-2*n*abs(k))/2*(-1+(-1)**n*exp(-I*pi*k*n))/(k-1),(k,-oo,oo))),(n,1,oo)),\n",
    "   UnevaluatedExpr(Integral((-Sum(I**n*exp(-2*n*abs(k)),(n,1,oo))+\n",
    "             Sum(I**n*(-1)**n*exp(-I*pi*k*n)*exp(-2*n*abs(k)),(n,1,oo)))/(k-1)/2,(k,-oo,oo))), evaluate=False)"
   ]
  },
  {
   "cell_type": "code",
   "execution_count": 8,
   "metadata": {},
   "outputs": [
    {
     "data": {
      "text/latex": [
       "$\\displaystyle \\begin{cases} \\frac{1}{2 n} & \\text{for}\\: \\left|{\\arg{\\left(n \\right)}}\\right| < \\frac{\\pi}{2} \\\\\\int\\limits_{0}^{\\infty} e^{- 2 k n}\\, dk & \\text{otherwise} \\end{cases}$"
      ],
      "text/plain": [
       "Piecewise((1/(2*n), Abs(arg(n)) < pi/2), (Integral(exp(-2*k*n), (k, 0, oo)), True))"
      ]
     },
     "execution_count": 8,
     "metadata": {},
     "output_type": "execute_result"
    }
   ],
   "source": [
    "Integral(exp(-2*n*k),(k,0,oo)).doit()"
   ]
  },
  {
   "cell_type": "markdown",
   "metadata": {},
   "source": [
    "## Evaluate integrands as geometric sums"
   ]
  },
  {
   "cell_type": "code",
   "execution_count": 41,
   "metadata": {
    "scrolled": true
   },
   "outputs": [
    {
     "data": {
      "text/latex": [
       "$\\displaystyle \\sum_{n=1}^{\\infty} x^{n} = \\begin{cases} \\frac{x}{1 - x} & \\text{for}\\: \\left|{x}\\right| < 1 \\\\\\sum_{n=1}^{\\infty} x^{n} & \\text{otherwise} \\end{cases}$"
      ],
      "text/plain": [
       "Eq(Sum(x**n, (n, 1, oo)), Piecewise((x/(1 - x), Abs(x) < 1), (Sum(x**n, (n, 1, oo)), True)))"
      ]
     },
     "execution_count": 41,
     "metadata": {},
     "output_type": "execute_result"
    }
   ],
   "source": [
    "Eq(UnevaluatedExpr(Sum(x**n, (n,1,oo))), Sum(x**n, (n,1,oo)).doit())"
   ]
  },
  {
   "cell_type": "code",
   "execution_count": 46,
   "metadata": {},
   "outputs": [
    {
     "data": {
      "text/latex": [
       "$\\displaystyle \\sum_{n=1}^{\\infty} i^{n} e^{- 2 n \\left|{k}\\right|} = \\frac{i e^{- 2 \\left|{k}\\right|}}{1 - i e^{- 2 \\left|{k}\\right|}}$"
      ],
      "text/plain": [
       "Eq(Sum(I**n*exp(-2*n*Abs(k)), (n, 1, oo)), I*exp(-2*Abs(k))/(1 - I*exp(-2*Abs(k))))"
      ]
     },
     "execution_count": 46,
     "metadata": {},
     "output_type": "execute_result"
    }
   ],
   "source": [
    "Eq(UnevaluatedExpr(Sum(I**n*exp(-2*n*abs(k)),(n,1,oo))),\n",
    "  I*exp(-2*abs(k))/(1-I*exp(-2*abs(k)))\n",
    "  )"
   ]
  },
  {
   "cell_type": "code",
   "execution_count": 48,
   "metadata": {},
   "outputs": [
    {
     "data": {
      "text/latex": [
       "$\\displaystyle \\frac{i e^{- 2 \\left|{k}\\right|}}{1 - i e^{- 2 \\left|{k}\\right|}} = \\frac{1}{- i e^{2 \\left|{k}\\right|} - 1}$"
      ],
      "text/plain": [
       "Eq(I*exp(-2*Abs(k))/(1 - I*exp(-2*Abs(k))), 1/(-I*exp(2*Abs(k)) - 1))"
      ]
     },
     "execution_count": 48,
     "metadata": {},
     "output_type": "execute_result"
    }
   ],
   "source": [
    "Eq(I*exp(-2*abs(k))/(1-I*exp(-2*abs(k))), 1/(-I*exp(2*abs(k))-1))"
   ]
  },
  {
   "cell_type": "code",
   "execution_count": 47,
   "metadata": {},
   "outputs": [
    {
     "data": {
      "text/latex": [
       "$\\displaystyle \\sum_{n=1}^{\\infty} \\left(-1\\right)^{n} i^{n} e^{- 2 n \\left|{k}\\right|} e^{- i \\pi k n} = - \\frac{i e^{- i \\pi k} e^{- 2 \\left|{k}\\right|}}{1 + i e^{- i \\pi k} e^{- 2 \\left|{k}\\right|}}$"
      ],
      "text/plain": [
       "Eq(Sum((-1)**n*I**n*exp(-2*n*Abs(k))*exp(-I*pi*k*n), (n, 1, oo)), -I*exp(-I*pi*k)*exp(-2*Abs(k))/(1 + I*exp(-I*pi*k)*exp(-2*Abs(k))))"
      ]
     },
     "execution_count": 47,
     "metadata": {},
     "output_type": "execute_result"
    }
   ],
   "source": [
    "Eq(UnevaluatedExpr(Sum(I**n*(-1)**n*exp(-I*pi*k*n)*exp(-2*n*abs(k)),(n,1,oo))),\n",
    "  -I*exp(-I*pi*k)*exp(-2*abs(k))/(1-(-I*exp(-I*pi*k)*exp(-2*abs(k))))\n",
    "  )"
   ]
  },
  {
   "cell_type": "code",
   "execution_count": 49,
   "metadata": {},
   "outputs": [
    {
     "data": {
      "text/latex": [
       "$\\displaystyle - \\frac{i e^{- i \\pi k} e^{- 2 \\left|{k}\\right|}}{1 + i e^{- i \\pi k} e^{- 2 \\left|{k}\\right|}} = - \\frac{1}{- i e^{i \\pi k} e^{2 \\left|{k}\\right|} + 1}$"
      ],
      "text/plain": [
       "Eq(-I*exp(-I*pi*k)*exp(-2*Abs(k))/(1 + I*exp(-I*pi*k)*exp(-2*Abs(k))), -1/(-I*exp(I*pi*k)*exp(2*Abs(k)) + 1))"
      ]
     },
     "execution_count": 49,
     "metadata": {},
     "output_type": "execute_result"
    }
   ],
   "source": [
    "Eq(-I*exp(-I*pi*k)*exp(-2*abs(k))/(1-(-I*exp(-I*pi*k)*exp(-2*abs(k)))),\n",
    "   -1/(-I*exp(I*pi*k)*exp(2*abs(k))+1)\n",
    "  )"
   ]
  },
  {
   "cell_type": "code",
   "execution_count": 12,
   "metadata": {},
   "outputs": [
    {
     "data": {
      "text/latex": [
       "$\\displaystyle \\begin{cases} \\frac{e^{- i s}}{- i s + 1} & \\text{for}\\: \\left|{\\arg{\\left(s \\right)} - \\frac{\\pi}{2}}\\right| \\leq \\frac{\\pi}{2} \\\\\\int\\limits_{0}^{\\infty} e^{- t} e^{i s \\left(t - 1\\right)}\\, dt & \\text{otherwise} \\end{cases}$"
      ],
      "text/plain": [
       "Piecewise((exp(-I*s)/(-I*s + 1), Abs(arg(s) - pi/2) <= pi/2), (Integral(exp(-t)*exp(I*s*(t - 1)), (t, 0, oo)), True))"
      ]
     },
     "execution_count": 12,
     "metadata": {},
     "output_type": "execute_result"
    }
   ],
   "source": [
    "Integral(exp(I*s*(t-1))*exp(-t),(t,0,oo)).doit()"
   ]
  },
  {
   "cell_type": "code",
   "execution_count": 11,
   "metadata": {},
   "outputs": [
    {
     "data": {
      "text/latex": [
       "$\\displaystyle - \\frac{i e^{- i s} e^{i s t}}{t - 1}$"
      ],
      "text/plain": [
       "-I*exp(-I*s)*exp(I*s*t)/(t - 1)"
      ]
     },
     "execution_count": 11,
     "metadata": {},
     "output_type": "execute_result"
    }
   ],
   "source": [
    "Integral(exp(I*s*(t-1)),s).doit()"
   ]
  },
  {
   "cell_type": "code",
   "execution_count": 52,
   "metadata": {},
   "outputs": [
    {
     "data": {
      "text/latex": [
       "$\\displaystyle \\int\\limits_{-\\infty}^{\\infty} \\frac{- \\sum_{n=1}^{\\infty} i^{n} e^{- 2 n \\left|{k}\\right|} + \\sum_{n=1}^{\\infty} \\left(-1\\right)^{n} i^{n} e^{- 2 n \\left|{k}\\right|} e^{- i \\pi k n}}{2 \\left(k - 1\\right)}\\, dk = - \\int\\limits_{-\\infty}^{\\infty} \\frac{\\frac{1}{- i e^{i \\pi k} e^{2 \\left|{k}\\right|} + 1} + \\frac{1}{- i e^{2 \\left|{k}\\right|} - 1}}{2 \\left(k - 1\\right)}\\, dk$"
      ],
      "text/plain": [
       "Eq(Integral((-Sum(I**n*exp(-2*n*Abs(k)), (n, 1, oo)) + Sum((-1)**n*I**n*exp(-2*n*Abs(k))*exp(-I*pi*k*n), (n, 1, oo)))/(2*(k - 1)), (k, -oo, oo)), -Integral((1/(-I*exp(I*pi*k)*exp(2*Abs(k)) + 1) + 1/(-I*exp(2*Abs(k)) - 1))/(2*(k - 1)), (k, -oo, oo)))"
      ]
     },
     "execution_count": 52,
     "metadata": {},
     "output_type": "execute_result"
    }
   ],
   "source": [
    "Eq(UnevaluatedExpr(Integral((-Sum(I**n*exp(-2*n*abs(k)),(n,1,oo))+\n",
    "             Sum(I**n*(-1)**n*exp(-I*pi*k*n)*exp(-2*n*abs(k)),(n,1,oo)))/(k-1)/2,(k,-oo,oo))),\n",
    "   -UnevaluatedExpr(Integral((1/(-I*exp(2*abs(k))-1)+\n",
    "             1/(-I*exp(I*pi*k)*exp(2*abs(k))+1))/(k-1)/2,(k,-oo,oo))), evaluate=False)"
   ]
  },
  {
   "cell_type": "markdown",
   "metadata": {
    "scrolled": true
   },
   "source": [
    "## Infinite integral form"
   ]
  },
  {
   "cell_type": "code",
   "execution_count": 9,
   "metadata": {
    "scrolled": true
   },
   "outputs": [
    {
     "data": {
      "text/latex": [
       "$\\displaystyle \\int\\limits_{0}^{\\frac{\\pi}{2}} \\frac{1}{\\left(x^{2} + 1\\right) \\left(\\tan{\\left(x \\right)} + 1\\right)}\\, dx = \\left(\\frac{1}{2} - \\frac{i}{2}\\right) \\operatorname{atan}{\\left(\\frac{\\pi}{2} \\right)} - \\int\\limits_{-\\infty}^{\\infty} \\frac{\\frac{1}{- i e^{i \\pi k} e^{2 \\left|{k}\\right|} + 1} + \\frac{1}{- i e^{2 \\left|{k}\\right|} - 1}}{2 \\left(k - 1\\right)}\\, dk$"
      ],
      "text/plain": [
       "Eq(Integral(1/((x**2 + 1)*(tan(x) + 1)), (x, 0, pi/2)), (1/2 - I/2)*atan(pi/2) - Integral((1/(-I*exp(I*pi*k)*exp(2*Abs(k)) + 1) + 1/(-I*exp(2*Abs(k)) - 1))/(2*(k - 1)), (k, -oo, oo)))"
      ]
     },
     "execution_count": 9,
     "metadata": {},
     "output_type": "execute_result"
    }
   ],
   "source": [
    "result_1 = Eq(UnevaluatedExpr(Integral(1/(1+x**2)*1/(1+tan(x)), (x, 0, pi/2))),\n",
    "   (1-I)/2*atan(pi/2) - UnevaluatedExpr(Integral((1/(-I*exp(2*abs(k))-1)+\n",
    "    1/(-I*exp(I*pi*k)*exp(2*abs(k))+1))/(k-1)/2,(k,-oo,oo))), evaluate=False\n",
    "  )\n",
    "result_1"
   ]
  },
  {
   "cell_type": "markdown",
   "metadata": {},
   "source": [
    "### Numerical evaluation check"
   ]
  },
  {
   "cell_type": "code",
   "execution_count": 66,
   "metadata": {},
   "outputs": [
    {
     "data": {
      "image/png": "[encoded data removed]",
      "text/plain": [
       "<Figure size 432x288 with 1 Axes>"
      ]
     },
     "metadata": {
      "needs_background": "light"
     },
     "output_type": "display_data"
    },
    {
     "data": {
      "text/plain": [
       "<sympy.plotting.plot.Plot at 0x7fb1a8add1f0>"
      ]
     },
     "execution_count": 66,
     "metadata": {},
     "output_type": "execute_result"
    }
   ],
   "source": [
    "plot(abs((1/(-I*exp(2*abs(k))-1)+\n",
    "    1/(-I*exp(I*pi*k)*exp(2*abs(k))+1))/(k-1)/2),(k,-7,7))"
   ]
  },
  {
   "cell_type": "code",
   "execution_count": 65,
   "metadata": {},
   "outputs": [
    {
     "data": {
      "text/latex": [
       "$\\displaystyle 0.5973817705 + 1.382431947 \\cdot 10^{-10} i$"
      ],
      "text/plain": [
       "0.5973817705 + 1.382431947e-10*I"
      ]
     },
     "execution_count": 65,
     "metadata": {},
     "output_type": "execute_result"
    }
   ],
   "source": [
    "((1-I)/2*atan(pi/2).evalf(10) - \n",
    "Integral((1/(-I*exp(2*abs(k))-1)+1/(-I*exp(I*pi*k)*exp(2*abs(k))+1))/(k-1)/2,(k,-7,7)).evalf(10))"
   ]
  },
  {
   "cell_type": "code",
   "execution_count": 59,
   "metadata": {
    "scrolled": true
   },
   "outputs": [
    {
     "data": {
      "text/plain": [
       "0.597381809451804"
      ]
     },
     "execution_count": 59,
     "metadata": {},
     "output_type": "execute_result"
    }
   ],
   "source": [
    "0.597381809451804"
   ]
  },
  {
   "cell_type": "markdown",
   "metadata": {},
   "source": [
    "## Real and imaginary parts of infinite integral form"
   ]
  },
  {
   "cell_type": "code",
   "execution_count": 96,
   "metadata": {},
   "outputs": [
    {
     "data": {
      "text/latex": [
       "$\\displaystyle \\frac{1}{- i e^{i \\pi k} e^{2 \\left|{k}\\right|} + 1} = \\frac{1 + i e^{- i \\pi k} e^{2 \\left|{k}\\right|}}{- i e^{i \\pi k} e^{2 \\left|{k}\\right|} + e^{4 \\left|{k}\\right|} + 1 + i e^{- i \\pi k} e^{2 \\left|{k}\\right|}}$"
      ],
      "text/plain": [
       "Eq(1/(-I*exp(I*pi*k)*exp(2*Abs(k)) + 1), (1 + I*exp(-I*pi*k)*exp(2*Abs(k)))/(-I*exp(I*pi*k)*exp(2*Abs(k)) + exp(4*Abs(k)) + 1 + I*exp(-I*pi*k)*exp(2*Abs(k))))"
      ]
     },
     "execution_count": 96,
     "metadata": {},
     "output_type": "execute_result"
    }
   ],
   "source": [
    "Eq(1/(-I*exp(I*pi*k)*exp(2*abs(k))+1),\n",
    "((I*exp(-I*pi*k)*exp(2*abs(k))+1))/((-I*exp(I*pi*k)*exp(2*abs(k))+1) * (I*exp(-I*pi*k)*exp(2*abs(k))+1)).expand()\n",
    ")"
   ]
  },
  {
   "cell_type": "code",
   "execution_count": 139,
   "metadata": {},
   "outputs": [
    {
     "data": {
      "text/latex": [
       "$\\displaystyle \\frac{1}{- i e^{i \\pi k} e^{2 \\left|{k}\\right|} + 1} = \\frac{e^{2 \\left|{k}\\right|} \\sin{\\left(\\pi k \\right)} + 1}{e^{4 \\left|{k}\\right|} + 2 e^{2 \\left|{k}\\right|} \\sin{\\left(\\pi k \\right)} + 1} + \\frac{i e^{2 \\left|{k}\\right|} \\cos{\\left(\\pi k \\right)}}{e^{4 \\left|{k}\\right|} + 2 e^{2 \\left|{k}\\right|} \\sin{\\left(\\pi k \\right)} + 1}$"
      ],
      "text/plain": [
       "Eq(1/(-I*exp(I*pi*k)*exp(2*Abs(k)) + 1), (exp(2*Abs(k))*sin(pi*k) + 1)/(exp(4*Abs(k)) + 2*exp(2*Abs(k))*sin(pi*k) + 1) + I*exp(2*Abs(k))*cos(pi*k)/(exp(4*Abs(k)) + 2*exp(2*Abs(k))*sin(pi*k) + 1))"
      ]
     },
     "execution_count": 139,
     "metadata": {},
     "output_type": "execute_result"
    }
   ],
   "source": [
    "Eq(1/(-I*exp(I*pi*k)*exp(2*abs(k))+1),\n",
    "((sin(pi*k)*exp(2*abs(k))+1))/(1+2*sin(pi*k)*exp(2*abs(k))+exp(4*abs(k))) + \n",
    "   ((I*(cos(pi*k))*exp(2*abs(k))))/(1+2*sin(pi*k)*exp(2*abs(k))+exp(4*abs(k)))\n",
    ")"
   ]
  },
  {
   "cell_type": "code",
   "execution_count": 145,
   "metadata": {},
   "outputs": [
    {
     "data": {
      "text/latex": [
       "$\\displaystyle -1.49078618 \\cdot 10^{-16} + 1.244749022 \\cdot 10^{-16} i$"
      ],
      "text/plain": [
       "-1.49078618e-16 + 1.244749022e-16*I"
      ]
     },
     "execution_count": 145,
     "metadata": {},
     "output_type": "execute_result"
    }
   ],
   "source": [
    "(-1/(-I*exp(I*pi*k)*exp(2*abs(k))+1) +\n",
    "(sin(pi*k)+exp(-2*abs(k)))/(2*cosh(2*k)+2*sin(pi*k)) + I*cos(pi*k)/(2*cosh(2*k)+2*sin(pi*k))).subs(k,-0.3875).evalf(10)"
   ]
  },
  {
   "cell_type": "code",
   "execution_count": 146,
   "metadata": {},
   "outputs": [
    {
     "data": {
      "text/latex": [
       "$\\displaystyle \\frac{1}{- i e^{i \\pi k} e^{2 \\left|{k}\\right|} + 1} = \\frac{\\sin{\\left(\\pi k \\right)} + e^{- 2 \\left|{k}\\right|}}{2 \\sin{\\left(\\pi k \\right)} + 2 \\cosh{\\left(2 k \\right)}} + \\frac{i \\cos{\\left(\\pi k \\right)}}{2 \\sin{\\left(\\pi k \\right)} + 2 \\cosh{\\left(2 k \\right)}}$"
      ],
      "text/plain": [
       "Eq(1/(-I*exp(I*pi*k)*exp(2*Abs(k)) + 1), (sin(pi*k) + exp(-2*Abs(k)))/(2*sin(pi*k) + 2*cosh(2*k)) + I*cos(pi*k)/(2*sin(pi*k) + 2*cosh(2*k)))"
      ]
     },
     "execution_count": 146,
     "metadata": {},
     "output_type": "execute_result"
    }
   ],
   "source": [
    "Eq(1/(-I*exp(I*pi*k)*exp(2*abs(k))+1),\n",
    "(sin(pi*k)+exp(-2*abs(k)))/(2*cosh(2*k)+2*sin(pi*k)) + I*cos(pi*k)/(2*cosh(2*k)+2*sin(pi*k))\n",
    ")"
   ]
  },
  {
   "cell_type": "code",
   "execution_count": 147,
   "metadata": {},
   "outputs": [
    {
     "data": {
      "text/latex": [
       "$\\displaystyle \\frac{1}{- i e^{2 \\left|{k}\\right|} - 1} = \\frac{i}{2 \\cosh{\\left(2 k \\right)}} - \\frac{e^{- 2 \\left|{k}\\right|}}{2 \\cosh{\\left(2 k \\right)}}$"
      ],
      "text/plain": [
       "Eq(1/(-I*exp(2*Abs(k)) - 1), I/(2*cosh(2*k)) - exp(-2*Abs(k))/(2*cosh(2*k)))"
      ]
     },
     "execution_count": 147,
     "metadata": {},
     "output_type": "execute_result"
    }
   ],
   "source": [
    "Eq(1/(-I*exp(2*abs(k))-1),I/(2*cosh(2*k)) - exp(-2*abs(k))/(2*cosh(2*k)))"
   ]
  },
  {
   "cell_type": "code",
   "execution_count": 148,
   "metadata": {},
   "outputs": [
    {
     "data": {
      "text/latex": [
       "$\\displaystyle \\int\\limits_{-\\infty}^{\\infty} \\frac{\\frac{1}{- i e^{i \\pi k} e^{2 \\left|{k}\\right|} + 1} + \\frac{1}{- i e^{2 \\left|{k}\\right|} - 1}}{2 \\left(k - 1\\right)}\\, dk = \\int\\limits_{-\\infty}^{\\infty} \\frac{\\frac{\\sin{\\left(\\pi k \\right)} + e^{- 2 \\left|{k}\\right|}}{2 \\sin{\\left(\\pi k \\right)} + 2 \\cosh{\\left(2 k \\right)}} + \\frac{i}{2 \\cosh{\\left(2 k \\right)}} - \\frac{e^{- 2 \\left|{k}\\right|}}{2 \\cosh{\\left(2 k \\right)}} + \\frac{i \\cos{\\left(\\pi k \\right)}}{2 \\sin{\\left(\\pi k \\right)} + 2 \\cosh{\\left(2 k \\right)}}}{2 \\left(k - 1\\right)}\\, dk$"
      ],
      "text/plain": [
       "Eq(Integral((1/(-I*exp(I*pi*k)*exp(2*Abs(k)) + 1) + 1/(-I*exp(2*Abs(k)) - 1))/(2*(k - 1)), (k, -oo, oo)), Integral(((sin(pi*k) + exp(-2*Abs(k)))/(2*sin(pi*k) + 2*cosh(2*k)) + I/(2*cosh(2*k)) - exp(-2*Abs(k))/(2*cosh(2*k)) + I*cos(pi*k)/(2*sin(pi*k) + 2*cosh(2*k)))/(2*(k - 1)), (k, -oo, oo)))"
      ]
     },
     "execution_count": 148,
     "metadata": {},
     "output_type": "execute_result"
    }
   ],
   "source": [
    "Eq(UnevaluatedExpr(Integral((1/(-I*exp(2*abs(k))-1) + 1/(-I*exp(I*pi*k)*exp(2*abs(k))+1))/(k-1)/2,(k,-oo,oo))),\n",
    "UnevaluatedExpr(Integral((I/(2*cosh(2*k)) - exp(-2*abs(k))/(2*cosh(2*k)) +\n",
    "(sin(pi*k)+exp(-2*abs(k)))/(2*cosh(2*k)+2*sin(pi*k)) + I*cos(pi*k)/(2*cosh(2*k)+2*sin(pi*k)))/(k-1)/2,(k,-oo,oo))),\n",
    "evaluate=False)"
   ]
  },
  {
   "cell_type": "code",
   "execution_count": 149,
   "metadata": {},
   "outputs": [
    {
     "data": {
      "text/latex": [
       "$\\displaystyle \\int\\limits_{-\\infty}^{\\infty} \\frac{\\frac{1}{- i e^{i \\pi k} e^{2 \\left|{k}\\right|} + 1} + \\frac{1}{- i e^{2 \\left|{k}\\right|} - 1}}{2 \\left(k - 1\\right)}\\, dk = \\int\\limits_{-\\infty}^{\\infty} \\frac{\\frac{\\sin{\\left(\\pi k \\right)} + e^{- 2 \\left|{k}\\right|}}{\\sin{\\left(\\pi k \\right)} + \\cosh{\\left(2 k \\right)}} - \\frac{e^{- 2 \\left|{k}\\right|}}{\\cosh{\\left(2 k \\right)}}}{4 \\left(k - 1\\right)}\\, dk + i \\int\\limits_{-\\infty}^{\\infty} \\frac{\\frac{1}{\\cosh{\\left(2 k \\right)}} + \\frac{\\cos{\\left(\\pi k \\right)}}{\\sin{\\left(\\pi k \\right)} + \\cosh{\\left(2 k \\right)}}}{4 \\left(k - 1\\right)}\\, dk$"
      ],
      "text/plain": [
       "Eq(Integral((1/(-I*exp(I*pi*k)*exp(2*Abs(k)) + 1) + 1/(-I*exp(2*Abs(k)) - 1))/(2*(k - 1)), (k, -oo, oo)), Integral(((sin(pi*k) + exp(-2*Abs(k)))/(sin(pi*k) + cosh(2*k)) - exp(-2*Abs(k))/cosh(2*k))/(4*(k - 1)), (k, -oo, oo)) + I*Integral((1/cosh(2*k) + cos(pi*k)/(sin(pi*k) + cosh(2*k)))/(4*(k - 1)), (k, -oo, oo)))"
      ]
     },
     "execution_count": 149,
     "metadata": {},
     "output_type": "execute_result"
    }
   ],
   "source": [
    "Eq(UnevaluatedExpr(Integral((1/(-I*exp(2*abs(k))-1) + 1/(-I*exp(I*pi*k)*exp(2*abs(k))+1))/(k-1)/2,(k,-oo,oo))),\n",
    "UnevaluatedExpr(Integral(( - exp(-2*abs(k))/(cosh(2*k)) +\n",
    "(sin(pi*k)+exp(-2*abs(k)))/(cosh(2*k)+sin(pi*k)))/(k-1)/4,(k,-oo,oo))) +\n",
    "I*UnevaluatedExpr(Integral((1/(cosh(2*k)) +\n",
    "cos(pi*k)/(cosh(2*k)+sin(pi*k)))/(k-1)/4,(k,-oo,oo))),\n",
    "evaluate=False)"
   ]
  },
  {
   "cell_type": "markdown",
   "metadata": {},
   "source": [
    "### Real form of infinite integral"
   ]
  },
  {
   "cell_type": "markdown",
   "metadata": {},
   "source": [
    "By equating imaginary parts from the tan integral the following must be true."
   ]
  },
  {
   "cell_type": "code",
   "execution_count": 150,
   "metadata": {},
   "outputs": [
    {
     "data": {
      "text/latex": [
       "$\\displaystyle \\int\\limits_{-\\infty}^{\\infty} \\frac{\\frac{1}{\\cosh{\\left(2 k \\right)}} + \\frac{\\cos{\\left(\\pi k \\right)}}{\\sin{\\left(\\pi k \\right)} + \\cosh{\\left(2 k \\right)}}}{4 \\left(k - 1\\right)}\\, dk = - \\frac{\\operatorname{atan}{\\left(\\frac{\\pi}{2} \\right)}}{2}$"
      ],
      "text/plain": [
       "Eq(Integral((1/cosh(2*k) + cos(pi*k)/(sin(pi*k) + cosh(2*k)))/(4*(k - 1)), (k, -oo, oo)), -atan(pi/2)/2)"
      ]
     },
     "execution_count": 150,
     "metadata": {},
     "output_type": "execute_result"
    }
   ],
   "source": [
    "Eq(UnevaluatedExpr(Integral((1/(cosh(2*k)) + cos(pi*k)/(cosh(2*k)+sin(pi*k)))/(k-1)/4,(k,-oo,oo))), -atan(pi/2)/2)"
   ]
  },
  {
   "cell_type": "code",
   "execution_count": 151,
   "metadata": {},
   "outputs": [
    {
     "data": {
      "image/png": "[encoded data removed]",
      "text/plain": [
       "<Figure size 432x288 with 1 Axes>"
      ]
     },
     "metadata": {
      "needs_background": "light"
     },
     "output_type": "display_data"
    },
    {
     "data": {
      "text/plain": [
       "<sympy.plotting.plot.Plot at 0x7fb1a8c4b2b0>"
      ]
     },
     "execution_count": 151,
     "metadata": {},
     "output_type": "execute_result"
    }
   ],
   "source": [
    "plot((1/(cosh(2*k)) + cos(pi*k)/(cosh(2*k)+sin(pi*k)))/(k-1)/4,(k,-7,7))"
   ]
  },
  {
   "cell_type": "code",
   "execution_count": 153,
   "metadata": {},
   "outputs": [
    {
     "data": {
      "text/latex": [
       "$\\displaystyle -4.998582881 \\cdot 10^{-9}$"
      ],
      "text/plain": [
       "-4.998582881e-9"
      ]
     },
     "execution_count": 153,
     "metadata": {},
     "output_type": "execute_result"
    }
   ],
   "source": [
    "Integral((1/(cosh(2*k)) + cos(pi*k)/(cosh(2*k)+sin(pi*k)))/(k-1)/4,(k,-7,7)).evalf(10)+(atan(pi/2)/2).evalf(10)"
   ]
  },
  {
   "cell_type": "code",
   "execution_count": 3,
   "metadata": {},
   "outputs": [
    {
     "data": {
      "text/latex": [
       "$\\displaystyle \\int\\limits_{0}^{\\frac{\\pi}{2}} \\frac{1}{\\left(x^{2} + 1\\right) \\left(\\tan{\\left(x \\right)} + 1\\right)}\\, dx = \\frac{\\operatorname{atan}{\\left(\\frac{\\pi}{2} \\right)}}{2} - \\int\\limits_{-\\infty}^{\\infty} \\frac{\\frac{\\sin{\\left(\\pi k \\right)} + e^{- 2 \\left|{k}\\right|}}{\\sin{\\left(\\pi k \\right)} + \\cosh{\\left(2 k \\right)}} - \\frac{e^{- 2 \\left|{k}\\right|}}{\\cosh{\\left(2 k \\right)}}}{4 \\left(k - 1\\right)}\\, dk$"
      ],
      "text/plain": [
       "Eq(Integral(1/((x**2 + 1)*(tan(x) + 1)), (x, 0, pi/2)), atan(pi/2)/2 - Integral(((sin(pi*k) + exp(-2*Abs(k)))/(sin(pi*k) + cosh(2*k)) - exp(-2*Abs(k))/cosh(2*k))/(4*(k - 1)), (k, -oo, oo)))"
      ]
     },
     "execution_count": 3,
     "metadata": {},
     "output_type": "execute_result"
    }
   ],
   "source": [
    "Eq(UnevaluatedExpr(Integral(1/(1+x**2)*1/(1+tan(x)), (x, 0, pi/2))),\n",
    "   atan(pi/2)/2 - UnevaluatedExpr(Integral(( - exp(-2*abs(k))/(cosh(2*k)) +\n",
    "(sin(pi*k)+exp(-2*abs(k)))/(cosh(2*k)+sin(pi*k)))/(k-1)/4,(k,-oo,oo))))"
   ]
  },
  {
   "cell_type": "code",
   "execution_count": 7,
   "metadata": {},
   "outputs": [
    {
     "data": {
      "text/latex": [
       "$\\displaystyle e^{- x} = - \\sinh{\\left(x \\right)} + \\cosh{\\left(x \\right)}$"
      ],
      "text/plain": [
       "Eq(exp(-x), -sinh(x) + cosh(x))"
      ]
     },
     "execution_count": 7,
     "metadata": {},
     "output_type": "execute_result"
    }
   ],
   "source": [
    "Eq(exp(-x),cosh(x)-sinh(x))"
   ]
  },
  {
   "cell_type": "code",
   "execution_count": 158,
   "metadata": {},
   "outputs": [
    {
     "data": {
      "text/latex": [
       "$\\displaystyle 0.5973817705$"
      ],
      "text/plain": [
       "0.5973817705"
      ]
     },
     "execution_count": 158,
     "metadata": {},
     "output_type": "execute_result"
    }
   ],
   "source": [
    "(atan(pi/2)/2).evalf(10) - Integral(( - exp(-2*abs(k))/(cosh(2*k)) +\n",
    "(sin(pi*k)+exp(-2*abs(k)))/(cosh(2*k)+sin(pi*k)))/(k-1)/4,(k,-7,7)).evalf(10)"
   ]
  },
  {
   "cell_type": "code",
   "execution_count": 458,
   "metadata": {},
   "outputs": [
    {
     "data": {
      "text/latex": [
       "$\\displaystyle \\frac{1}{-1 - i e^{- 2 k}} = -1 - \\frac{1}{i e^{2 k} - 1}$"
      ],
      "text/plain": [
       "Eq(1/(-1 - I*exp(-2*k)), -1 - 1/(I*exp(2*k) - 1))"
      ]
     },
     "execution_count": 458,
     "metadata": {},
     "output_type": "execute_result"
    }
   ],
   "source": [
    "Eq(1/(-I*exp(-2*k)-1),simplify((exp(2*k)+I)/(-I-exp(2*k)))-1/(-1+I*exp(2*k)))"
   ]
  },
  {
   "cell_type": "markdown",
   "metadata": {},
   "source": [
    "## Similar analytic integrand"
   ]
  },
  {
   "cell_type": "code",
   "execution_count": 186,
   "metadata": {
    "scrolled": true
   },
   "outputs": [
    {
     "data": {
      "text/latex": [
       "$\\displaystyle \\int\\limits_{-\\infty}^{\\infty} \\left(\\frac{1}{2 \\left(k - 1\\right) \\left(- i e^{i \\pi k} e^{2 \\left|{k}\\right|} + 1\\right)} + \\frac{1}{2 \\left(k - 1\\right) \\left(- i e^{2 \\left|{k}\\right|} - 1\\right)}\\right)\\, dk$"
      ],
      "text/plain": [
       "Integral(1/(2*(k - 1)*(-I*exp(I*pi*k)*exp(2*Abs(k)) + 1)) + 1/(2*(k - 1)*(-I*exp(2*Abs(k)) - 1)), (k, -oo, oo))"
      ]
     },
     "execution_count": 186,
     "metadata": {},
     "output_type": "execute_result"
    }
   ],
   "source": [
    "Integral((1/(-I*exp(2*abs(k))-1)/(k-1)/2+\n",
    "    1/(-I*exp(I*pi*k)*exp(2*abs(k))+1)/(k-1)/2),(k,-oo,oo))"
   ]
  },
  {
   "cell_type": "code",
   "execution_count": 189,
   "metadata": {},
   "outputs": [
    {
     "data": {
      "text/latex": [
       "$\\displaystyle \\int\\limits_{-\\infty}^{0} \\left(\\frac{1}{2 \\left(1 - i e^{- 2 k} e^{i \\pi k}\\right) \\left(k - 1\\right)} + \\frac{1}{2 \\left(-1 - i e^{- 2 k}\\right) \\left(k - 1\\right)}\\right)\\, dk + \\int\\limits_{0}^{\\infty} \\left(\\frac{1}{2 \\left(k - 1\\right) \\left(- i e^{2 k} e^{i \\pi k} + 1\\right)} + \\frac{1}{2 \\left(k - 1\\right) \\left(- i e^{2 k} - 1\\right)}\\right)\\, dk$"
      ],
      "text/plain": [
       "Integral(1/(2*(1 - I*exp(-2*k)*exp(I*pi*k))*(k - 1)) + 1/(2*(-1 - I*exp(-2*k))*(k - 1)), (k, -oo, 0)) + Integral(1/(2*(k - 1)*(-I*exp(2*k)*exp(I*pi*k) + 1)) + 1/(2*(k - 1)*(-I*exp(2*k) - 1)), (k, 0, oo))"
      ]
     },
     "execution_count": 189,
     "metadata": {},
     "output_type": "execute_result"
    }
   ],
   "source": [
    "(Integral((1/(-I*exp(-2*k)-1)/(k-1)/2 + 1/(-I*exp(I*pi*k)*exp(-2*k)+1)/(k-1)/2),(k,-oo,0)) +\n",
    "Integral((1/(-I*exp(2*k)-1)/(k-1)/2 + 1/(-I*exp(I*pi*k)*exp(2*k)+1)/(k-1)/2),(k,0,oo)))"
   ]
  },
  {
   "cell_type": "code",
   "execution_count": 192,
   "metadata": {},
   "outputs": [
    {
     "data": {
      "text/latex": [
       "$\\displaystyle \\int\\limits_{-\\infty}^{0} \\left(\\frac{i e^{2 k} e^{- i \\pi k}}{2 \\left(k - 1\\right) \\left(i e^{2 k} e^{- i \\pi k} + 1\\right)} + \\frac{i e^{2 k}}{2 \\left(k - 1\\right) \\left(- i e^{2 k} + 1\\right)}\\right)\\, dk$"
      ],
      "text/plain": [
       "Integral(I*exp(2*k)*exp(-I*pi*k)/(2*(k - 1)*(I*exp(2*k)*exp(-I*pi*k) + 1)) + I*exp(2*k)/(2*(k - 1)*(-I*exp(2*k) + 1)), (k, -oo, 0))"
      ]
     },
     "execution_count": 192,
     "metadata": {},
     "output_type": "execute_result"
    }
   ],
   "source": [
    "Integral((exp(2*k)/(-I)/(-I/(-I)-exp(2*k)/(-I))/(k-1)/2 + \n",
    "          exp(-I*pi*k)*exp(2*k)/(-I)/(-I/(-I)+exp(-I*pi*k)*exp(2*k)/(-I))/(k-1)/2),(k,-oo,0))"
   ]
  },
  {
   "cell_type": "code",
   "execution_count": 204,
   "metadata": {},
   "outputs": [
    {
     "data": {
      "text/latex": [
       "$\\displaystyle 1.48059663038321 \\cdot 10^{225} + 1.18447730430657 \\cdot 10^{226} i$"
      ],
      "text/plain": [
       "1.48059663038321e+225 + 1.18447730430657e+226*I"
      ]
     },
     "execution_count": 204,
     "metadata": {},
     "output_type": "execute_result"
    }
   ],
   "source": [
    "(Integral((exp(2*k)/(-I)/(-I/(-I)-exp(2*k)/(-I))/(k-1)/2 + \n",
    "          exp(-I*pi*k)*exp(2*k)/(-I)/(-I/(-I)+exp(-I*pi*k)*exp(2*k)/(-I))/(k-1)/2),(k,-oo,0)).evalf() +\n",
    "Integral((1/(-I*exp(2*k)-1)/(k-1)/2 + 1/(-I*exp(I*pi*k)*exp(2*k)+1)/(k-1)/2),(k,0,oo)).evalf())"
   ]
  },
  {
   "cell_type": "code",
   "execution_count": 202,
   "metadata": {},
   "outputs": [
    {
     "data": {
      "text/latex": [
       "$\\displaystyle \\int\\limits_{-\\infty}^{0} \\left(- \\frac{1}{2 \\left(k - 1\\right) \\left(i e^{2 k} e^{- i \\pi k} + 1\\right)} + \\frac{1}{2 \\left(k - 1\\right) \\left(- i e^{2 k} + 1\\right)}\\right)\\, dk$"
      ],
      "text/plain": [
       "Integral(-1/(2*(k - 1)*(I*exp(2*k)*exp(-I*pi*k) + 1)) + 1/(2*(k - 1)*(-I*exp(2*k) + 1)), (k, -oo, 0))"
      ]
     },
     "execution_count": 202,
     "metadata": {},
     "output_type": "execute_result"
    }
   ],
   "source": [
    "Integral(\n",
    "    ((I*exp(2*k)-1)/(1-I*exp(2*k))/(k-1)/2 + (I*exp(-I*pi*k)*exp(2*k)+1)/(1+I*exp(-I*pi*k)*exp(2*k))/(k-1)/2).simplify() + \n",
    "    1/(1-I*exp(2*k))/(k-1)/2 - 1/(1+I*exp(-I*pi*k)*exp(2*k))/(k-1)/2, (k,-oo,0))"
   ]
  },
  {
   "cell_type": "markdown",
   "metadata": {},
   "source": [
    "The above is equal to minus the conjugate of the below part over the negative real axis:\n",
    "\n",
    "If we say the integral we are interested in with abs is:\n",
    "\n",
    "Integral_abs = Int_minus + Int_plus\n",
    "\n",
    "Then the integral wihtout abs is:\n",
    "\n",
    "Integral_no_abs = -Int_minus_conjugate + Int_plus\n",
    "\n",
    "So:\n",
    "\n",
    "Integral_abs_real = Int_minus_real + Int_plus_real\n",
    "\n",
    "Integral_no_abs_real = -Int_minus_real + Int_plus_real"
   ]
  },
  {
   "cell_type": "code",
   "execution_count": 8,
   "metadata": {
    "scrolled": true
   },
   "outputs": [
    {
     "data": {
      "text/latex": [
       "$\\displaystyle \\int\\limits_{- R}^{R} \\left(\\frac{1}{2 \\left(k - 1\\right) \\left(- i e^{2 k + i \\pi k} + 1\\right)} - \\frac{1}{2 \\left(k - 1\\right) \\left(i e^{2 k} + 1\\right)}\\right)\\, dk = - \\frac{\\log{\\left(1 + \\frac{\\pi^{2}}{4} \\right)}}{4} - \\frac{i \\operatorname{atan}{\\left(\\frac{\\pi}{2} \\right)}}{2}$"
      ],
      "text/plain": [
       "Eq(Integral(1/(2*(k - 1)*(-I*exp(2*k + I*pi*k) + 1)) - 1/(2*(k - 1)*(I*exp(2*k) + 1)), (k, -R, R)), -log(1 + pi**2/4)/4 - I*atan(pi/2)/2)"
      ]
     },
     "execution_count": 8,
     "metadata": {},
     "output_type": "execute_result"
    }
   ],
   "source": [
    "Eq(Integral((1/(-exp(2*k+I*pi*k+I*pi/2)+1)/(k-1)/2-1/(-exp(2*k-I*pi/2)+1)/(k-1)/2),(k,-R,R)),\n",
    "   -log(1+pi**2/4)/4 -I*atan(pi/2)/2\n",
    "  )"
   ]
  },
  {
   "cell_type": "code",
   "execution_count": 18,
   "metadata": {},
   "outputs": [
    {
     "data": {
      "text/latex": [
       "$\\displaystyle \\int\\limits_{- R}^{R} \\left(\\frac{1}{2 \\left(k - 1\\right) \\left(- i e^{2 k + i \\pi k} + 1\\right)} - \\frac{1}{2 \\left(k - 1\\right) \\left(i e^{2 k} + 1\\right)}\\right)\\, dk + \\frac{\\log{\\left(1 + \\frac{\\pi^{2}}{4} \\right)}}{4} + \\frac{i \\operatorname{atan}{\\left(\\frac{\\pi}{2} \\right)}}{2} = 0$"
      ],
      "text/plain": [
       "Eq(Integral(1/(2*(k - 1)*(-I*exp(2*k + I*pi*k) + 1)) - 1/(2*(k - 1)*(I*exp(2*k) + 1)), (k, -R, R)) + log(1 + pi**2/4)/4 + I*atan(pi/2)/2, 0)"
      ]
     },
     "execution_count": 18,
     "metadata": {},
     "output_type": "execute_result"
    }
   ],
   "source": [
    "Eq(Integral((1/(-exp(2*k+I*pi*k+I*pi/2)+1)/(k-1)/2-1/(-exp(2*k-I*pi/2)+1)/(k-1)/2),(k,-R,R)) + \n",
    "   log(1+pi**2/4)/4 + I*atan(pi/2)/2,0)"
   ]
  },
  {
   "cell_type": "code",
   "execution_count": 23,
   "metadata": {},
   "outputs": [
    {
     "data": {
      "text/latex": [
       "$\\displaystyle \\int\\limits_{- R}^{R} \\left(\\frac{1}{2 \\left(k - 1\\right) \\left(i e^{2 k - i \\pi k} + 1\\right)} - \\frac{1}{2 \\left(k - 1\\right) \\left(- i e^{2 k} + 1\\right)}\\right)\\, dk + \\frac{\\log{\\left(1 + \\frac{\\pi^{2}}{4} \\right)}}{4} - \\frac{i \\operatorname{atan}{\\left(\\frac{\\pi}{2} \\right)}}{2} = 0$"
      ],
      "text/plain": [
       "Eq(Integral(1/(2*(k - 1)*(I*exp(2*k - I*pi*k) + 1)) - 1/(2*(k - 1)*(-I*exp(2*k) + 1)), (k, -R, R)) + log(1 + pi**2/4)/4 - I*atan(pi/2)/2, 0)"
      ]
     },
     "execution_count": 23,
     "metadata": {},
     "output_type": "execute_result"
    }
   ],
   "source": [
    "Eq(Integral((1/(-exp(2*k+I*pi*k+I*pi/2)+1)/(k-1)/2-1/(-exp(2*k-I*pi/2)+1)/(k-1)/2),(k,-R,R)) + \n",
    "   log(1+pi**2/4)/4 + I*atan(pi/2)/2,0).subs(I,-I)"
   ]
  },
  {
   "cell_type": "code",
   "execution_count": 5,
   "metadata": {},
   "outputs": [
    {
     "data": {
      "text/latex": [
       "$\\displaystyle -0.310851334118649 - 0.501942415928863 i$"
      ],
      "text/plain": [
       "-0.310851334118649 - 0.501942415928863*I"
      ]
     },
     "execution_count": 5,
     "metadata": {},
     "output_type": "execute_result"
    }
   ],
   "source": [
    "Integral((1/(-exp(2*k+I*pi*k+I*pi/2)+1)/(k-1)/2-1/(-exp(2*k-I*pi/2)+1)/(k-1)/2),(k,-R,R)).subs(R,7).evalf()"
   ]
  },
  {
   "cell_type": "code",
   "execution_count": 7,
   "metadata": {},
   "outputs": [
    {
     "data": {
      "text/latex": [
       "$\\displaystyle -0.310851337722182 - 0.501942410926944 i$"
      ],
      "text/plain": [
       "-0.310851337722182 - 0.501942410926944*I"
      ]
     },
     "execution_count": 7,
     "metadata": {},
     "output_type": "execute_result"
    }
   ],
   "source": [
    "(-log(1+pi**2/4)/4 -I*atan(pi/2)/2).evalf()"
   ]
  },
  {
   "cell_type": "code",
   "execution_count": 10,
   "metadata": {},
   "outputs": [
    {
     "data": {
      "text/latex": [
       "$\\displaystyle \\int\\limits_{0}^{\\frac{\\pi}{2}} \\frac{1}{\\left(x^{2} + 1\\right) \\left(\\tan{\\left(x \\right)} + 1\\right)}\\, dx = \\left(\\frac{1}{2} - \\frac{i}{2}\\right) \\operatorname{atan}{\\left(\\frac{\\pi}{2} \\right)} - \\int\\limits_{-\\infty}^{\\infty} \\frac{\\frac{1}{- i e^{i \\pi k} e^{2 \\left|{k}\\right|} + 1} + \\frac{1}{- i e^{2 \\left|{k}\\right|} - 1}}{2 \\left(k - 1\\right)}\\, dk$"
      ],
      "text/plain": [
       "Eq(Integral(1/((x**2 + 1)*(tan(x) + 1)), (x, 0, pi/2)), (1/2 - I/2)*atan(pi/2) - Integral((1/(-I*exp(I*pi*k)*exp(2*Abs(k)) + 1) + 1/(-I*exp(2*Abs(k)) - 1))/(2*(k - 1)), (k, -oo, oo)))"
      ]
     },
     "execution_count": 10,
     "metadata": {},
     "output_type": "execute_result"
    }
   ],
   "source": [
    "result_1"
   ]
  },
  {
   "cell_type": "code",
   "execution_count": 19,
   "metadata": {},
   "outputs": [
    {
     "data": {
      "text/latex": [
       "$\\displaystyle \\int\\limits_{0}^{\\frac{\\pi}{2}} \\frac{1}{\\left(x^{2} + 1\\right) \\left(\\tan{\\left(x \\right)} + 1\\right)}\\, dx = - \\frac{\\log{\\left(1 + \\frac{\\pi^{2}}{4} \\right)}}{4} + \\frac{\\operatorname{atan}{\\left(\\frac{\\pi}{2} \\right)}}{2} - \\int\\limits_{0}^{\\infty} \\frac{\\frac{\\sin{\\left(\\pi k \\right)} + e^{- 2 k}}{\\sin{\\left(\\pi k \\right)} + \\cosh{\\left(2 k \\right)}} - \\frac{e^{- 2 k}}{\\cosh{\\left(2 k \\right)}}}{2 \\left(k - 1\\right)}\\, dk$"
      ],
      "text/plain": [
       "Eq(Integral(1/((x**2 + 1)*(tan(x) + 1)), (x, 0, pi/2)), -log(1 + pi**2/4)/4 + atan(pi/2)/2 - Integral(((sin(pi*k) + exp(-2*k))/(sin(pi*k) + cosh(2*k)) - exp(-2*k)/cosh(2*k))/(2*(k - 1)), (k, 0, oo)))"
      ]
     },
     "execution_count": 19,
     "metadata": {},
     "output_type": "execute_result"
    }
   ],
   "source": [
    "Eq(UnevaluatedExpr(Integral(1/(1+x**2)*1/(1+tan(x)), (x, 0, pi/2))),\n",
    "   atan(pi/2)/2 - log(1+pi**2/4)/4 - UnevaluatedExpr(Integral(( - exp(-2*k)/(cosh(2*k)) +\n",
    "(sin(pi*k)+exp(-2*k))/(cosh(2*k)+sin(pi*k)))/(k-1)/2,(k,0,oo))))"
   ]
  },
  {
   "cell_type": "code",
   "execution_count": 20,
   "metadata": {},
   "outputs": [
    {
     "data": {
      "text/latex": [
       "$\\displaystyle 0.597381809502036$"
      ],
      "text/plain": [
       "0.597381809502036"
      ]
     },
     "execution_count": 20,
     "metadata": {},
     "output_type": "execute_result"
    }
   ],
   "source": [
    "(atan(pi/2)/2 - log(1+pi**2/4)/4 - Integral(( - exp(-2*abs(k))/(cosh(2*k)) +\n",
    "(sin(pi*k)+exp(-2*abs(k)))/(cosh(2*k)+sin(pi*k)))/(k-1)/2,(k,0,10))).evalf()"
   ]
  },
  {
   "cell_type": "code",
   "execution_count": 26,
   "metadata": {},
   "outputs": [
    {
     "data": {
      "text/latex": [
       "$\\displaystyle \\int\\limits_{0}^{\\frac{\\pi}{2}} \\frac{1}{\\left(x^{2} + 1\\right) \\left(\\tan{\\left(x \\right)} + 1\\right)}\\, dx = \\frac{\\operatorname{atan}{\\left(\\frac{\\pi}{2} \\right)}}{2} - \\int\\limits_{-\\infty}^{\\infty} \\frac{\\frac{\\sin{\\left(\\pi k \\right)} + e^{- 2 \\left|{k}\\right|}}{\\sin{\\left(\\pi k \\right)} + \\cosh{\\left(2 k \\right)}} - \\frac{e^{- 2 \\left|{k}\\right|}}{\\cosh{\\left(2 k \\right)}}}{4 \\left(k - 1\\right)}\\, dk$"
      ],
      "text/plain": [
       "Eq(Integral(1/((x**2 + 1)*(tan(x) + 1)), (x, 0, pi/2)), atan(pi/2)/2 - Integral(((sin(pi*k) + exp(-2*Abs(k)))/(sin(pi*k) + cosh(2*k)) - exp(-2*Abs(k))/cosh(2*k))/(4*(k - 1)), (k, -oo, oo)))"
      ]
     },
     "execution_count": 26,
     "metadata": {},
     "output_type": "execute_result"
    }
   ],
   "source": [
    "Eq(UnevaluatedExpr(Integral(1/(1+x**2)*1/(1+tan(x)), (x, 0, pi/2))),\n",
    "   atan(pi/2)/2 - UnevaluatedExpr(Integral(( - exp(-2*abs(k))/(cosh(2*k)) +\n",
    "(sin(pi*k)+exp(-2*abs(k)))/(cosh(2*k)+sin(pi*k)))/(k-1)/4,(k,-oo,oo))))"
   ]
  },
  {
   "cell_type": "markdown",
   "metadata": {},
   "source": [
    "## Final real part over positive real line"
   ]
  },
  {
   "cell_type": "code",
   "execution_count": 6,
   "metadata": {},
   "outputs": [
    {
     "data": {
      "text/latex": [
       "$\\displaystyle \\frac{1}{- i e^{2 k} e^{i \\pi k} + 1} = \\frac{\\sin{\\left(\\pi k \\right)} + e^{- 2 k}}{2 \\sin{\\left(\\pi k \\right)} + 2 \\cosh{\\left(2 k \\right)}} + \\frac{i \\cos{\\left(\\pi k \\right)}}{2 \\sin{\\left(\\pi k \\right)} + 2 \\cosh{\\left(2 k \\right)}}$"
      ],
      "text/plain": [
       "Eq(1/(-I*exp(2*k)*exp(I*pi*k) + 1), (sin(pi*k) + exp(-2*k))/(2*sin(pi*k) + 2*cosh(2*k)) + I*cos(pi*k)/(2*sin(pi*k) + 2*cosh(2*k)))"
      ]
     },
     "execution_count": 6,
     "metadata": {},
     "output_type": "execute_result"
    }
   ],
   "source": [
    "Eq(1/(-I*exp(I*pi*k)*exp(2*k)+1),\n",
    "(sin(pi*k)+exp(-2*k))/(2*cosh(2*k)+2*sin(pi*k)) + I*cos(pi*k)/(2*cosh(2*k)+2*sin(pi*k))\n",
    ")"
   ]
  },
  {
   "cell_type": "code",
   "execution_count": 7,
   "metadata": {},
   "outputs": [
    {
     "data": {
      "text/latex": [
       "$\\displaystyle \\frac{1}{- i e^{2 k} - 1} = \\frac{i}{2 \\cosh{\\left(2 k \\right)}} - \\frac{e^{- 2 k}}{2 \\cosh{\\left(2 k \\right)}}$"
      ],
      "text/plain": [
       "Eq(1/(-I*exp(2*k) - 1), I/(2*cosh(2*k)) - exp(-2*k)/(2*cosh(2*k)))"
      ]
     },
     "execution_count": 7,
     "metadata": {},
     "output_type": "execute_result"
    }
   ],
   "source": [
    "Eq(1/(-I*exp(2*k)-1),I/(2*cosh(2*k)) - exp(-2*k)/(2*cosh(2*k)))"
   ]
  },
  {
   "cell_type": "code",
   "execution_count": 9,
   "metadata": {},
   "outputs": [
    {
     "data": {
      "text/latex": [
       "$\\displaystyle \\int\\limits_{0}^{\\frac{\\pi}{2}} \\frac{1}{\\left(x^{2} + 1\\right) \\left(\\tan{\\left(x \\right)} + 1\\right)}\\, dx = \\frac{\\log{\\left(1 + \\frac{\\pi^{2}}{4} \\right)}}{4} + \\frac{\\operatorname{atan}{\\left(\\frac{\\pi}{2} \\right)}}{2} - \\int\\limits_{0}^{\\infty} \\frac{\\frac{\\sin{\\left(\\pi k \\right)} + e^{- 2 k}}{\\sin{\\left(\\pi k \\right)} + \\cosh{\\left(2 k \\right)}} - \\frac{e^{- 2 k}}{\\cosh{\\left(2 k \\right)}}}{2 \\left(k - 1\\right)}\\, dk$"
      ],
      "text/plain": [
       "Eq(Integral(1/((x**2 + 1)*(tan(x) + 1)), (x, 0, pi/2)), log(1 + pi**2/4)/4 + atan(pi/2)/2 - Integral(((sin(pi*k) + exp(-2*k))/(sin(pi*k) + cosh(2*k)) - exp(-2*k)/cosh(2*k))/(2*(k - 1)), (k, 0, oo)))"
      ]
     },
     "execution_count": 9,
     "metadata": {},
     "output_type": "execute_result"
    }
   ],
   "source": [
    "Eq(UnevaluatedExpr(Integral(1/(1+x**2)*1/(1+tan(x)), (x, 0, pi/2))),\n",
    "   atan(pi/2)/2 + log(1+pi**2/4)/4 - UnevaluatedExpr(Integral(( - exp(-2*k)/(cosh(2*k)) +\n",
    "(sin(pi*k)+exp(-2*k))/(cosh(2*k)+sin(pi*k)))/(k-1)/2,(k,0,oo))))"
   ]
  },
  {
   "cell_type": "code",
   "execution_count": 24,
   "metadata": {},
   "outputs": [
    {
     "data": {
      "text/latex": [
       "$\\displaystyle \\int\\limits_{0}^{\\frac{\\pi}{2}} \\frac{1}{\\left(x^{2} + 1\\right) \\left(\\tan{\\left(x \\right)} + 1\\right)}\\, dx = - \\operatorname{re}{\\left(\\int\\limits_{0}^{\\infty} \\frac{\\frac{1}{- i e^{2 k} e^{i \\pi k} + 1} + \\frac{1}{- i e^{2 k} - 1}}{k - 1}\\, dk\\right)} - \\frac{\\log{\\left(1 + \\frac{\\pi^{2}}{4} \\right)}}{4} + \\frac{\\operatorname{atan}{\\left(\\frac{\\pi}{2} \\right)}}{2}$"
      ],
      "text/plain": [
       "Eq(Integral(1/((x**2 + 1)*(tan(x) + 1)), (x, 0, pi/2)), -re(Integral((1/(-I*exp(2*k)*exp(I*pi*k) + 1) + 1/(-I*exp(2*k) - 1))/(k - 1), (k, 0, oo))) - log(1 + pi**2/4)/4 + atan(pi/2)/2)"
      ]
     },
     "execution_count": 24,
     "metadata": {},
     "output_type": "execute_result"
    }
   ],
   "source": [
    "Eq(UnevaluatedExpr(Integral(1/(1+x**2)*1/(1+tan(x)), (x, 0, pi/2))),\n",
    "   atan(pi/2)/2 - log(1+pi**2/4)/4 - \n",
    "   re(UnevaluatedExpr(Integral((1/(-I*exp(I*pi*k)*exp(2*k)+1) + 1/(-I*exp(2*k)-1))/(k-1),(k,0,oo)))))"
   ]
  },
  {
   "cell_type": "code",
   "execution_count": 32,
   "metadata": {},
   "outputs": [
    {
     "data": {
      "text/latex": [
       "$\\displaystyle - \\frac{\\log{\\left(4 + \\pi^{2} \\right)}}{2} + \\frac{\\operatorname{atan}{\\left(\\frac{\\pi}{2} \\right)}}{2} = \\left(- \\frac{1}{4} - \\frac{i}{4}\\right) \\log{\\left(2 + i \\pi \\right)} + \\left(- \\frac{1}{4} + \\frac{i}{4}\\right) \\log{\\left(2 - i \\pi \\right)}$"
      ],
      "text/plain": [
       "Eq(-log(4 + pi**2)/2 + atan(pi/2)/2, (-1/4 - I/4)*log(2 + I*pi) + (-1/4 + I/4)*log(2 - I*pi))"
      ]
     },
     "execution_count": 32,
     "metadata": {},
     "output_type": "execute_result"
    }
   ],
   "source": [
    "Eq(-ln(4+pi**2)/2 + atan(pi/2)/2,(-ln(2+I*pi)/4 - I*ln(2+I*pi)/4).factor() + (- ln(2-I*pi)/4 + I*ln(2-I*pi)/4).factor())"
   ]
  },
  {
   "cell_type": "code",
   "execution_count": 6,
   "metadata": {},
   "outputs": [
    {
     "data": {
      "text/latex": [
       "$\\displaystyle K k e^{i \\left(\\alpha + \\theta\\right)} = N k e^{i \\left(\\phi + \\theta\\right)}$"
      ],
      "text/plain": [
       "Eq(K*k*exp(I*(alpha + theta)), N*k*exp(I*(phi + theta)))"
      ]
     },
     "execution_count": 6,
     "metadata": {},
     "output_type": "execute_result"
    }
   ],
   "source": [
    "Eq(K*exp(I*alpha)*k*exp(I*theta),N*exp(I*phi)*k*exp(I*theta)).simplify()"
   ]
  },
  {
   "cell_type": "code",
   "execution_count": 8,
   "metadata": {},
   "outputs": [
    {
     "data": {
      "text/plain": [
       "[-alpha/2 - phi/2]"
      ]
     },
     "execution_count": 8,
     "metadata": {},
     "output_type": "execute_result"
    }
   ],
   "source": [
    "solve(Eq(alpha+theta,-phi-theta),theta)"
   ]
  },
  {
   "cell_type": "code",
   "execution_count": 34,
   "metadata": {},
   "outputs": [
    {
     "data": {
      "text/latex": [
       "$\\displaystyle \\frac{1}{- i e^{2 k} e^{i \\pi k} + 1} + \\frac{1}{- i e^{2 k} - 1}$"
      ],
      "text/plain": [
       "1/(-I*exp(2*k)*exp(I*pi*k) + 1) + 1/(-I*exp(2*k) - 1)"
      ]
     },
     "execution_count": 34,
     "metadata": {},
     "output_type": "execute_result"
    }
   ],
   "source": [
    "fff = (1/(-I*exp(I*pi*k)*exp(2*k)+1) + 1/(-I*exp(2*k)-1))\n",
    "fff"
   ]
  },
  {
   "cell_type": "code",
   "execution_count": 36,
   "metadata": {},
   "outputs": [
    {
     "data": {
      "text/latex": [
       "$\\displaystyle \\frac{1}{- i e^{k \\left(2 + i \\pi\\right)} + 1} + \\frac{1}{- i e^{2 k} - 1}$"
      ],
      "text/plain": [
       "1/(-I*exp(k*(2 + I*pi)) + 1) + 1/(-I*exp(2*k) - 1)"
      ]
     },
     "execution_count": 36,
     "metadata": {},
     "output_type": "execute_result"
    }
   ],
   "source": [
    "fff = (1/(-I*exp((2+I*pi)*k)+1) + 1/(-I*exp(2*k)-1))\n",
    "fff"
   ]
  },
  {
   "cell_type": "code",
   "execution_count": 16,
   "metadata": {},
   "outputs": [
    {
     "data": {
      "text/latex": [
       "$\\displaystyle 2 + i \\pi = \\sqrt{4 + \\pi^{2}} e^{i \\operatorname{atan}{\\left(\\frac{\\pi}{2} \\right)}}$"
      ],
      "text/plain": [
       "Eq(2 + I*pi, sqrt(4 + pi**2)*exp(I*atan(pi/2)))"
      ]
     },
     "execution_count": 16,
     "metadata": {},
     "output_type": "execute_result"
    }
   ],
   "source": [
    "Eq(2+I*pi,sqrt(4+pi**2)*exp(I*atan(pi/2)))"
   ]
  },
  {
   "cell_type": "code",
   "execution_count": 38,
   "metadata": {},
   "outputs": [
    {
     "data": {
      "text/latex": [
       "$\\displaystyle \\frac{1}{- i e^{y \\sqrt{4 + \\pi^{2}} e^{\\frac{i \\operatorname{atan}{\\left(\\frac{\\pi}{2} \\right)}}{2}}} + 1} + \\frac{1}{- i e^{2 y e^{- \\frac{i \\operatorname{atan}{\\left(\\frac{\\pi}{2} \\right)}}{2}}} - 1}$"
      ],
      "text/plain": [
       "1/(-I*exp(y*sqrt(4 + pi**2)*exp(I*atan(pi/2)/2)) + 1) + 1/(-I*exp(2*y*exp(-I*atan(pi/2)/2)) - 1)"
      ]
     },
     "execution_count": 38,
     "metadata": {},
     "output_type": "execute_result"
    }
   ],
   "source": [
    "fff.subs([(2+I*pi,sqrt(4+pi**2)*exp(I*atan(pi/2))),(k,y*exp(-I*atan(pi/2)/2))])"
   ]
  },
  {
   "cell_type": "code",
   "execution_count": 43,
   "metadata": {},
   "outputs": [
    {
     "data": {
      "text/latex": [
       "$\\displaystyle \\frac{1}{- i e^{y \\sqrt{4 + \\pi^{2}} e^{\\frac{i \\operatorname{atan}{\\left(\\frac{\\pi}{2} \\right)}}{2}}} + 1} + \\frac{1}{- i e^{2 y e^{- \\frac{i \\operatorname{atan}{\\left(\\frac{\\pi}{2} \\right)}}{2}}} - 1}$"
      ],
      "text/plain": [
       "1/(-I*exp(y*sqrt(4 + pi**2)*exp(I*atan(pi/2)/2)) + 1) + 1/(-I*exp(2*y*exp(-I*atan(pi/2)/2)) - 1)"
      ]
     },
     "execution_count": 43,
     "metadata": {},
     "output_type": "execute_result"
    }
   ],
   "source": [
    "(1/(-I*exp(sqrt(4+pi**2)*exp(I*atan(pi/2)/2)*y)+1) + 1/(-I*-exp(2*y*exp(-I*atan(pi/2)/2))))"
   ]
  },
  {
   "cell_type": "code",
   "execution_count": null,
   "metadata": {},
   "outputs": [],
   "source": [
    "(1/(-I*exp(sqrt(4+pi**2)*exp(I*atan(pi/2)/2)*y)+1) + 1/(-I*exp(2*y*exp(-I*atan(pi/2)/2))-1))"
   ]
  },
  {
   "cell_type": "code",
   "execution_count": 28,
   "metadata": {},
   "outputs": [
    {
     "data": {
      "text/latex": [
       "$\\displaystyle \\operatorname{re}{\\left(\\int\\limits_{0}^{\\infty} \\frac{\\frac{1}{- i e^{2 k} e^{i \\pi k} + 1} + \\frac{1}{- i e^{2 k} - 1}}{k - 1}\\, dk\\right)} = \\int\\limits_{0}^{\\infty} \\frac{\\frac{1}{i e^{2 k} e^{- i \\pi k} + 1} + \\frac{1}{i e^{2 k} - 1}}{2 \\left(k - 1\\right)}\\, dk + \\int\\limits_{0}^{\\infty} \\frac{\\frac{1}{- i e^{2 k} e^{i \\pi k} + 1} + \\frac{1}{- i e^{2 k} - 1}}{2 \\left(k - 1\\right)}\\, dk$"
      ],
      "text/plain": [
       "Eq(re(Integral((1/(-I*exp(2*k)*exp(I*pi*k) + 1) + 1/(-I*exp(2*k) - 1))/(k - 1), (k, 0, oo))), Integral((1/(I*exp(2*k)*exp(-I*pi*k) + 1) + 1/(I*exp(2*k) - 1))/(2*(k - 1)), (k, 0, oo)) + Integral((1/(-I*exp(2*k)*exp(I*pi*k) + 1) + 1/(-I*exp(2*k) - 1))/(2*(k - 1)), (k, 0, oo)))"
      ]
     },
     "execution_count": 28,
     "metadata": {},
     "output_type": "execute_result"
    }
   ],
   "source": [
    "Eq(re(UnevaluatedExpr(Integral((1/(-I*exp(I*pi*k)*exp(2*k)+1) + 1/(-I*exp(2*k)-1))/(k-1),(k,0,oo)))),\n",
    "    UnevaluatedExpr(Integral((1/(-I*exp(I*pi*k)*exp(2*k)+1) + 1/(-I*exp(2*k)-1))/(k-1)/2,(k,0,oo))) +\n",
    "    UnevaluatedExpr(Integral((1/(-I*exp(I*pi*k)*exp(2*k)+1) + 1/(-I*exp(2*k)-1))/(k-1)/2,(k,0,oo))).subs(I,-I)\n",
    ")"
   ]
  },
  {
   "cell_type": "code",
   "execution_count": 31,
   "metadata": {},
   "outputs": [
    {
     "data": {
      "text/latex": [
       "$\\displaystyle - i e^{2 k} e^{i \\pi k} = i e^{\\left(2 + i \\pi\\right) \\left(k - 1\\right) + 2}$"
      ],
      "text/plain": [
       "Eq(-I*exp(2*k)*exp(I*pi*k), I*exp((2 + I*pi)*(k - 1) + 2))"
      ]
     },
     "execution_count": 31,
     "metadata": {},
     "output_type": "execute_result"
    }
   ],
   "source": [
    "Eq(-I*exp(I*pi*k)*exp(2*k), exp((2+I*pi)*(k-1)+2+I*pi/2))"
   ]
  },
  {
   "cell_type": "code",
   "execution_count": 34,
   "metadata": {},
   "outputs": [
    {
     "data": {
      "text/latex": [
       "$\\displaystyle \\frac{2}{x^{2} - 1}$"
      ],
      "text/plain": [
       "2/(x**2 - 1)"
      ]
     },
     "execution_count": 34,
     "metadata": {},
     "output_type": "execute_result"
    }
   ],
   "source": [
    "(1/(x-1) - 1/(x+1)).simplify()"
   ]
  },
  {
   "cell_type": "code",
   "execution_count": 9,
   "metadata": {},
   "outputs": [
    {
     "data": {
      "text/latex": [
       "$\\displaystyle \\frac{1}{\\left(- \\delta + z\\right) \\left(e^{\\alpha z - \\mu} - 1\\right)}$"
      ],
      "text/plain": [
       "1/((-delta + z)*(exp(alpha*z - mu) - 1))"
      ]
     },
     "execution_count": 9,
     "metadata": {},
     "output_type": "execute_result"
    }
   ],
   "source": [
    "F1 = 1/(exp(alpha*z-mu)-1)/(z-delta)\n",
    "F1"
   ]
  },
  {
   "cell_type": "code",
   "execution_count": 14,
   "metadata": {},
   "outputs": [
    {
     "data": {
      "text/latex": [
       "$\\displaystyle \\frac{e^{i \\theta}}{\\left(- \\delta + r e^{i \\theta}\\right) \\left(e^{\\alpha r e^{i \\theta} - \\mu} - 1\\right)}$"
      ],
      "text/plain": [
       "exp(I*theta)/((-delta + r*exp(I*theta))*(exp(alpha*r*exp(I*theta) - mu) - 1))"
      ]
     },
     "execution_count": 14,
     "metadata": {},
     "output_type": "execute_result"
    }
   ],
   "source": [
    "F1.subs(z, r*exp(I*theta))*exp(I*theta)"
   ]
  },
  {
   "cell_type": "code",
   "execution_count": 20,
   "metadata": {},
   "outputs": [
    {
     "data": {
      "text/latex": [
       "$\\displaystyle \\int\\limits_{0}^{R} \\frac{1}{\\left(- \\delta e^{- i \\phi} + r\\right) \\left(e^{\\alpha r e^{i \\phi} - \\mu} - 1\\right)}\\, dr + \\int\\limits_{0}^{R} \\frac{1}{\\left(- \\delta e^{- i \\theta} + r\\right) \\left(e^{\\alpha r e^{i \\theta} - \\mu} - 1\\right)}\\, dr$"
      ],
      "text/plain": [
       "Integral(1/((-delta*exp(-I*phi) + r)*(exp(alpha*r*exp(I*phi) - mu) - 1)), (r, 0, R)) + Integral(1/((-delta*exp(-I*theta) + r)*(exp(alpha*r*exp(I*theta) - mu) - 1)), (r, 0, R))"
      ]
     },
     "execution_count": 20,
     "metadata": {},
     "output_type": "execute_result"
    }
   ],
   "source": [
    "(\n",
    "    Integral(1/(exp(alpha*r*exp(I*theta)-mu)-1)/(r-delta*exp(-I*theta)),(r,0,R)) + \n",
    "    Integral(1/(exp(alpha*r*exp(I*phi)-mu)-1)/(r-delta*exp(-I*phi)),(r,0,R))\n",
    ")"
   ]
  },
  {
   "cell_type": "code",
   "execution_count": 21,
   "metadata": {},
   "outputs": [
    {
     "data": {
      "text/latex": [
       "$\\displaystyle \\delta e^{- i \\theta} = 1$"
      ],
      "text/plain": [
       "Eq(delta*exp(-I*theta), 1)"
      ]
     },
     "execution_count": 21,
     "metadata": {},
     "output_type": "execute_result"
    }
   ],
   "source": [
    "Eq(delta*exp(-I*theta),1)"
   ]
  },
  {
   "cell_type": "code",
   "execution_count": 22,
   "metadata": {},
   "outputs": [
    {
     "data": {
      "text/latex": [
       "$\\displaystyle \\delta e^{- i \\phi} = -1$"
      ],
      "text/plain": [
       "Eq(delta*exp(-I*phi), -1)"
      ]
     },
     "execution_count": 22,
     "metadata": {},
     "output_type": "execute_result"
    }
   ],
   "source": [
    "Eq(delta*exp(-I*phi),-1)"
   ]
  },
  {
   "cell_type": "code",
   "execution_count": 25,
   "metadata": {},
   "outputs": [
    {
     "data": {
      "text/latex": [
       "$\\displaystyle e^{i \\theta} = - e^{i \\phi}$"
      ],
      "text/plain": [
       "Eq(exp(I*theta), -exp(I*phi))"
      ]
     },
     "execution_count": 25,
     "metadata": {},
     "output_type": "execute_result"
    }
   ],
   "source": [
    "Eq(exp(I*theta),-exp(I*phi))"
   ]
  },
  {
   "cell_type": "code",
   "execution_count": 26,
   "metadata": {},
   "outputs": [
    {
     "data": {
      "text/latex": [
       "$\\displaystyle \\theta = \\phi + \\pi$"
      ],
      "text/plain": [
       "Eq(theta, phi + pi)"
      ]
     },
     "execution_count": 26,
     "metadata": {},
     "output_type": "execute_result"
    }
   ],
   "source": [
    "Eq(theta, phi + pi)"
   ]
  },
  {
   "cell_type": "code",
   "execution_count": 34,
   "metadata": {},
   "outputs": [
    {
     "data": {
      "text/latex": [
       "$\\displaystyle \\int\\limits_{-1}^{\\infty} \\frac{\\frac{1}{- i e^{i \\pi \\left(k + 1\\right)} e^{2 k + 2} + 1} + \\frac{1}{- i e^{2 k + 2} - 1}}{k}\\, dk$"
      ],
      "text/plain": [
       "Integral((1/(-I*exp(I*pi*(k + 1))*exp(2*k + 2) + 1) + 1/(-I*exp(2*k + 2) - 1))/k, (k, -1, oo))"
      ]
     },
     "execution_count": 34,
     "metadata": {},
     "output_type": "execute_result"
    }
   ],
   "source": [
    "Integral(((1/(-I*exp(I*pi*k)*exp(2*k)+1) + 1/(-I*exp(2*k)-1))/(k-1)).subs(k,k+1),(k,-1,oo))"
   ]
  },
  {
   "cell_type": "code",
   "execution_count": 37,
   "metadata": {},
   "outputs": [
    {
     "data": {
      "text/latex": [
       "$\\displaystyle \\int\\limits_{-1}^{\\infty} \\frac{\\frac{1}{i e^{2 k + i \\pi k + 2} + 1} - \\frac{1}{i e^{2 k + 2} + 1}}{k}\\, dk$"
      ],
      "text/plain": [
       "Integral((1/(I*exp(2*k + I*pi*k + 2) + 1) - 1/(I*exp(2*k + 2) + 1))/k, (k, -1, oo))"
      ]
     },
     "execution_count": 37,
     "metadata": {},
     "output_type": "execute_result"
    }
   ],
   "source": [
    "Integral(((1/(I*exp(2*k+I*pi*k+2)+1) - 1/(I*exp(2*k+2)+1))/k),(k,-1,oo))"
   ]
  },
  {
   "cell_type": "code",
   "execution_count": 39,
   "metadata": {},
   "outputs": [
    {
     "data": {
      "text/latex": [
       "$\\displaystyle \\frac{k e^{i k s + 2 k + 2}}{\\left(i e^{i k s + 2 k + 2} + 1\\right)^{2}}$"
      ],
      "text/plain": [
       "k*exp(I*k*s + 2*k + 2)/(I*exp(I*k*s + 2*k + 2) + 1)**2"
      ]
     },
     "execution_count": 39,
     "metadata": {},
     "output_type": "execute_result"
    }
   ],
   "source": [
    "diff(1/(I*exp(2*k+I*s*k+2)+1),s)"
   ]
  },
  {
   "cell_type": "code",
   "execution_count": 40,
   "metadata": {},
   "outputs": [
    {
     "data": {
      "text/latex": [
       "$\\displaystyle - \\frac{i \\left(i s + 2\\right) e^{i k s + 2 k + 2}}{\\left(i e^{i k s + 2 k + 2} + 1\\right)^{2}}$"
      ],
      "text/plain": [
       "-I*(I*s + 2)*exp(I*k*s + 2*k + 2)/(I*exp(I*k*s + 2*k + 2) + 1)**2"
      ]
     },
     "execution_count": 40,
     "metadata": {},
     "output_type": "execute_result"
    }
   ],
   "source": [
    "diff(1/(I*exp(2*k+I*s*k+2)+1),k)"
   ]
  },
  {
   "cell_type": "code",
   "execution_count": 42,
   "metadata": {},
   "outputs": [
    {
     "data": {
      "text/latex": [
       "$\\displaystyle \\frac{d}{d x} \\frac{1}{x}$"
      ],
      "text/plain": [
       "Derivative(1/x, x)"
      ]
     },
     "execution_count": 42,
     "metadata": {},
     "output_type": "execute_result"
    }
   ],
   "source": [
    "Derivative(1/x,x)"
   ]
  },
  {
   "cell_type": "code",
   "execution_count": 48,
   "metadata": {},
   "outputs": [
    {
     "data": {
      "text/latex": [
       "$\\displaystyle \\int\\limits_{-1}^{\\infty} \\frac{\\int\\limits_{0}^{\\pi} \\frac{\\partial}{\\partial s} \\frac{1}{i e^{i k s + 2 k + 2} + 1}\\, ds}{k}\\, dk$"
      ],
      "text/plain": [
       "Integral(Integral(Derivative(1/(I*exp(I*k*s + 2*k + 2) + 1), s), (s, 0, pi))/k, (k, -1, oo))"
      ]
     },
     "execution_count": 48,
     "metadata": {},
     "output_type": "execute_result"
    }
   ],
   "source": [
    "Integral(Integral(Derivative(1/(I*exp(2*k+I*s*k+2)+1),s),(s,0,pi))/k,(k,-1,oo))"
   ]
  },
  {
   "cell_type": "code",
   "execution_count": 69,
   "metadata": {},
   "outputs": [
    {
     "data": {
      "text/latex": [
       "$\\displaystyle \\frac{\\frac{\\partial}{\\partial s} \\frac{1}{i e^{i k s + 2 k + 2} + 1}}{k} = \\frac{\\frac{\\partial}{\\partial k} \\frac{1}{i e^{i k s + 2 k + 2} + 1}}{s - 2 i}$"
      ],
      "text/plain": [
       "Eq(Derivative(1/(I*exp(I*k*s + 2*k + 2) + 1), s)/k, Derivative(1/(I*exp(I*k*s + 2*k + 2) + 1), k)/(s - 2*I))"
      ]
     },
     "execution_count": 69,
     "metadata": {},
     "output_type": "execute_result"
    }
   ],
   "source": [
    "Eq(Derivative(1/(I*exp(2*k+I*s*k+2)+1),s)/k, Derivative(1/(I*exp(2*k+I*s*k+2)+1),k)/(s-I*2))"
   ]
  },
  {
   "cell_type": "code",
   "execution_count": 70,
   "metadata": {},
   "outputs": [
    {
     "data": {
      "text/latex": [
       "$\\displaystyle \\int\\limits_{-1}^{\\infty} \\frac{\\int\\limits_{0}^{\\pi} \\frac{\\partial}{\\partial s} \\frac{1}{i e^{i k s + 2 k + 2} + 1}\\, ds}{k}\\, dk = \\int\\limits_{-1}^{\\infty}\\int\\limits_{0}^{\\pi} \\frac{\\frac{\\partial}{\\partial k} \\frac{1}{i e^{i k s + 2 k + 2} + 1}}{s - 2 i}\\, ds\\, dk$"
      ],
      "text/plain": [
       "Eq(Integral(Integral(Derivative(1/(I*exp(I*k*s + 2*k + 2) + 1), s), (s, 0, pi))/k, (k, -1, oo)), Integral(Derivative(1/(I*exp(I*k*s + 2*k + 2) + 1), k)/(s - 2*I), (s, 0, pi), (k, -1, oo)))"
      ]
     },
     "execution_count": 70,
     "metadata": {},
     "output_type": "execute_result"
    }
   ],
   "source": [
    "Eq(\n",
    "    Integral(Integral(Derivative(1/(I*exp(2*k+I*s*k+2)+1),s),(s,0,pi))/k,(k,-1,oo)),\n",
    "   Integral(Integral(Derivative(1/(I*exp(2*k+I*s*k+2)+1),k)/(s-I*2),(s,0,pi)),(k,-1,oo))\n",
    ")"
   ]
  },
  {
   "cell_type": "code",
   "execution_count": 71,
   "metadata": {},
   "outputs": [
    {
     "data": {
      "text/latex": [
       "$\\displaystyle \\int\\limits_{-1}^{\\infty}\\int\\limits_{0}^{\\pi} \\frac{\\frac{\\partial}{\\partial k} \\frac{1}{i e^{i k s + 2 k + 2} + 1}}{s - 2 i}\\, ds\\, dk = \\int\\limits_{0}^{\\pi} \\frac{1}{\\left(1 + i e^{- i s}\\right) \\left(s - 2 i\\right)}\\, ds$"
      ],
      "text/plain": [
       "Eq(Integral(Derivative(1/(I*exp(I*k*s + 2*k + 2) + 1), k)/(s - 2*I), (s, 0, pi), (k, -1, oo)), Integral(1/((1 + I*exp(-I*s))*(s - 2*I)), (s, 0, pi)))"
      ]
     },
     "execution_count": 71,
     "metadata": {},
     "output_type": "execute_result"
    }
   ],
   "source": [
    "Eq(\n",
    "   Integral(Integral(Derivative(1/(I*exp(2*k+I*s*k+2)+1),k)/(s-I*2),(s,0,pi)),(k,-1,oo)),\n",
    "   Integral((1/(I*exp(2*k+I*s*k+2)+1)/(s-I*2)).subs(k,-1),(s,0,pi))\n",
    ")"
   ]
  },
  {
   "cell_type": "code",
   "execution_count": 74,
   "metadata": {},
   "outputs": [
    {
     "data": {
      "text/latex": [
       "$\\displaystyle \\int\\limits_{0}^{\\pi} \\frac{e^{i s}}{\\left(s - 2 i\\right) \\left(e^{i s} + i\\right)}\\, ds$"
      ],
      "text/plain": [
       "Integral(exp(I*s)/((s - 2*I)*(exp(I*s) + I)), (s, 0, pi))"
      ]
     },
     "execution_count": 74,
     "metadata": {},
     "output_type": "execute_result"
    }
   ],
   "source": [
    "Integral((1/(I*exp(2*k+I*s*k+2)+1)/(s-I*2)).subs(k,-1),(s,0,pi)).doit()"
   ]
  },
  {
   "cell_type": "code",
   "execution_count": 61,
   "metadata": {},
   "outputs": [
    {
     "data": {
      "text/latex": [
       "$\\displaystyle -0.406290736247041 - 0.547580801720079 i$"
      ],
      "text/plain": [
       "-0.406290736247041 - 0.547580801720079*I"
      ]
     },
     "execution_count": 61,
     "metadata": {},
     "output_type": "execute_result"
    }
   ],
   "source": [
    "Integral((1/(-I*exp(I*pi*k)*exp(2*k)+1) + 1/(-I*exp(2*k)-1))/(k-1),(k,0,300)).evalf()"
   ]
  },
  {
   "cell_type": "code",
   "execution_count": 73,
   "metadata": {},
   "outputs": [
    {
     "data": {
      "text/latex": [
       "$\\displaystyle 0.406290736247041 + 0.547580801720079 i$"
      ],
      "text/plain": [
       "0.406290736247041 + 0.547580801720079*I"
      ]
     },
     "execution_count": 73,
     "metadata": {},
     "output_type": "execute_result"
    }
   ],
   "source": [
    "Integral((1/(I*exp(-I*s)+1)/(s-I*2)),(s,0,pi)).evalf()"
   ]
  },
  {
   "cell_type": "code",
   "execution_count": 63,
   "metadata": {},
   "outputs": [
    {
     "data": {
      "text/latex": [
       "$\\displaystyle -0.406290736247041 - 0.547580801720079 i$"
      ],
      "text/plain": [
       "-0.406290736247041 - 0.547580801720079*I"
      ]
     },
     "execution_count": 63,
     "metadata": {},
     "output_type": "execute_result"
    }
   ],
   "source": [
    "Integral(((1/(-I*exp(I*pi*k)*exp(2*k)+1) + 1/(-I*exp(2*k)-1))/(k-1)).subs(k,k+1),(k,-1,300)).evalf()"
   ]
  },
  {
   "cell_type": "markdown",
   "metadata": {},
   "source": [
    "## Binet"
   ]
  },
  {
   "cell_type": "code",
   "execution_count": 5,
   "metadata": {},
   "outputs": [
    {
     "data": {
      "text/latex": [
       "$\\displaystyle \\operatorname{polygamma}{\\left(0,z \\right)} = \\log{\\left(z \\right)} - 2 \\int\\limits_{0}^{\\infty} \\frac{t}{\\left(t^{2} + z^{2}\\right) \\left(e^{2 \\pi t} - 1\\right)}\\, dt - \\frac{0.5}{z}$"
      ],
      "text/plain": [
       "Eq(polygamma(0, z), log(z) - 2*Integral(t/((t**2 + z**2)*(exp(2*pi*t) - 1)), (t, 0, oo)) - 0.5/z)"
      ]
     },
     "execution_count": 5,
     "metadata": {},
     "output_type": "execute_result"
    }
   ],
   "source": [
    "Eq(digamma(z),ln(z) - 1/2/z - 2*Integral(t/(t**2 + z**2)*1/(exp(2*pi*t)-1),(t,0,oo)))"
   ]
  },
  {
   "cell_type": "code",
   "execution_count": 4,
   "metadata": {},
   "outputs": [],
   "source": [
    "binet1 = ln(z) - 1/2/z - 2*Integral(t/(t**2 + z**2)*1/(exp(2*pi*t)-1),(t,0,oo))"
   ]
  },
  {
   "cell_type": "code",
   "execution_count": 82,
   "metadata": {},
   "outputs": [
    {
     "data": {
      "text/latex": [
       "$\\displaystyle 1.1532635570076 + 1.41164139210767 i$"
      ],
      "text/plain": [
       "1.1532635570076 + 1.41164139210767*I"
      ]
     },
     "execution_count": 82,
     "metadata": {},
     "output_type": "execute_result"
    }
   ],
   "source": [
    "binet1.subs(z,1+I*pi).evalf().doit()"
   ]
  },
  {
   "cell_type": "code",
   "execution_count": 84,
   "metadata": {},
   "outputs": [
    {
     "data": {
      "text/latex": [
       "$\\displaystyle 1.1532635570076 + 1.41164139210767 i$"
      ],
      "text/plain": [
       "1.1532635570076 + 1.41164139210767*I"
      ]
     },
     "execution_count": 84,
     "metadata": {},
     "output_type": "execute_result"
    }
   ],
   "source": [
    "digamma(z).subs(z,1+I*pi).evalf().doit()"
   ]
  },
  {
   "cell_type": "code",
   "execution_count": 86,
   "metadata": {},
   "outputs": [
    {
     "data": {
      "text/latex": [
       "$\\displaystyle \\frac{2 t}{t^{2} + z^{2}} = \\frac{1}{t + i z} + \\frac{1}{t - i z}$"
      ],
      "text/plain": [
       "Eq(2*t/(t**2 + z**2), 1/(t + I*z) + 1/(t - I*z))"
      ]
     },
     "execution_count": 86,
     "metadata": {},
     "output_type": "execute_result"
    }
   ],
   "source": [
    "Eq((1/(t+I*z) + 1/(t-I*z)).simplify(),(1/(t+I*z) + 1/(t-I*z)))"
   ]
  },
  {
   "cell_type": "code",
   "execution_count": 88,
   "metadata": {},
   "outputs": [
    {
     "data": {
      "text/latex": [
       "$\\displaystyle \\frac{1}{\\left(t + i z\\right) \\left(e^{2 \\pi t} - 1\\right)}$"
      ],
      "text/plain": [
       "1/((t + I*z)*(exp(2*pi*t) - 1))"
      ]
     },
     "execution_count": 88,
     "metadata": {},
     "output_type": "execute_result"
    }
   ],
   "source": [
    "1/(exp(2*pi*t)-1)/(t+I*z)"
   ]
  },
  {
   "cell_type": "code",
   "execution_count": 10,
   "metadata": {},
   "outputs": [
    {
     "data": {
      "text/latex": [
       "$\\displaystyle - \\frac{1}{e^{2 \\pi t} - 1} + \\frac{1}{- e^{2 \\pi t} - 1}$"
      ],
      "text/plain": [
       "-1/(exp(2*pi*t) - 1) + 1/(-exp(2*pi*t) - 1)"
      ]
     },
     "execution_count": 10,
     "metadata": {},
     "output_type": "execute_result"
    }
   ],
   "source": [
    "((1/(exp(2*pi*t+I*z)-1)).subs(z,pi) - (1/(exp(2*pi*t+I*z)-1)).subs(z,0))"
   ]
  },
  {
   "cell_type": "code",
   "execution_count": 110,
   "metadata": {},
   "outputs": [
    {
     "data": {
      "text/latex": [
       "$\\displaystyle - \\frac{e^{2 \\pi t + z}}{\\left(e^{2 \\pi t + z} - 1\\right)^{2}}$"
      ],
      "text/plain": [
       "-exp(2*pi*t + z)/(exp(2*pi*t + z) - 1)**2"
      ]
     },
     "execution_count": 110,
     "metadata": {},
     "output_type": "execute_result"
    }
   ],
   "source": [
    "diff(1/(exp(2*pi*t+z)-1),z)"
   ]
  },
  {
   "cell_type": "code",
   "execution_count": 99,
   "metadata": {},
   "outputs": [
    {
     "data": {
      "text/latex": [
       "$\\displaystyle - \\frac{\\left(i \\pi z + 2 \\pi\\right) e^{i \\pi t z + 2 \\pi t}}{\\left(e^{i \\pi t z + 2 \\pi t} + 1\\right)^{2}}$"
      ],
      "text/plain": [
       "-(I*pi*z + 2*pi)*exp(I*pi*t*z + 2*pi*t)/(exp(I*pi*t*z + 2*pi*t) + 1)**2"
      ]
     },
     "execution_count": 99,
     "metadata": {},
     "output_type": "execute_result"
    }
   ],
   "source": [
    "diff(1/(exp(2*pi*t+I*z*t*pi)+1),t)"
   ]
  },
  {
   "cell_type": "code",
   "execution_count": 14,
   "metadata": {},
   "outputs": [
    {
     "data": {
      "text/latex": [
       "$\\displaystyle \\frac{1}{e^{2 \\pi t} + 1} - \\frac{1}{e^{2 \\pi t} - 1} = \\frac{2}{1 - e^{4 \\pi t}}$"
      ],
      "text/plain": [
       "Eq(1/(exp(2*pi*t) + 1) - 1/(exp(2*pi*t) - 1), 2/(1 - exp(4*pi*t)))"
      ]
     },
     "execution_count": 14,
     "metadata": {},
     "output_type": "execute_result"
    }
   ],
   "source": [
    "Eq(1/(exp(2*pi*t)+1)-1/(exp(2*pi*t)-1),(1/(exp(2*pi*t)+1)-1/(exp(2*pi*t)-1)).simplify())"
   ]
  },
  {
   "cell_type": "code",
   "execution_count": 16,
   "metadata": {},
   "outputs": [
    {
     "data": {
      "text/latex": [
       "$\\displaystyle \\frac{1}{e^{2 \\pi t} + 1} = - \\frac{2}{e^{4 \\pi t} - 1} + \\frac{1}{e^{2 \\pi t} - 1}$"
      ],
      "text/plain": [
       "Eq(1/(exp(2*pi*t) + 1), -2/(exp(4*pi*t) - 1) + 1/(exp(2*pi*t) - 1))"
      ]
     },
     "execution_count": 16,
     "metadata": {},
     "output_type": "execute_result"
    }
   ],
   "source": [
    "Eq(1/(exp(2*pi*t)+1),1/(exp(2*pi*t)-1)-2/(exp(4*pi*t)-1))"
   ]
  },
  {
   "cell_type": "code",
   "execution_count": 17,
   "metadata": {},
   "outputs": [
    {
     "data": {
      "text/latex": [
       "$\\displaystyle - \\frac{1}{e^{2 \\pi t} - 1} + \\frac{1}{- e^{2 \\pi t} - 1}$"
      ],
      "text/plain": [
       "-1/(exp(2*pi*t) - 1) + 1/(-exp(2*pi*t) - 1)"
      ]
     },
     "execution_count": 17,
     "metadata": {},
     "output_type": "execute_result"
    }
   ],
   "source": [
    "((1/(exp(2*pi*t+I*z)-1)).subs(z,pi) - (1/(exp(2*pi*t+I*z)-1)).subs(z,0))"
   ]
  },
  {
   "cell_type": "code",
   "execution_count": 27,
   "metadata": {},
   "outputs": [
    {
     "data": {
      "text/latex": [
       "$\\displaystyle \\int\\limits_{0}^{\\pi} \\frac{\\partial}{\\partial z} \\frac{1}{e^{2 \\pi t + i z} - 1}\\, dz = \\frac{2}{e^{4 \\pi t} - 1} - \\frac{2}{e^{2 \\pi t} - 1}$"
      ],
      "text/plain": [
       "Eq(Integral(Derivative(1/(exp(2*pi*t + I*z) - 1), z), (z, 0, pi)), 2/(exp(4*pi*t) - 1) - 2/(exp(2*pi*t) - 1))"
      ]
     },
     "execution_count": 27,
     "metadata": {},
     "output_type": "execute_result"
    }
   ],
   "source": [
    "Eq(Integral(Derivative(1/(exp(2*pi*t+I*z)-1),z),(z,0,pi)),\n",
    "   Integral(Derivative(1/(exp(2*pi*t+I*z)-1),z),(z,0,pi)).doit()\n",
    "  ).subs(1/(exp(2*pi*t)+1),1/(exp(2*pi*t)-1)-2/(exp(4*pi*t)-1)).subs(1/(1-exp(2*pi*t)),-1/(exp(2*pi*t)-1))"
   ]
  },
  {
   "cell_type": "code",
   "execution_count": 30,
   "metadata": {},
   "outputs": [
    {
     "data": {
      "text/latex": [
       "$\\displaystyle - \\log{\\left(z \\right)} + \\operatorname{polygamma}{\\left(0,z \\right)} + \\frac{0.5}{z} = - 2 \\int\\limits_{0}^{\\infty} \\frac{t}{\\left(t^{2} + z^{2}\\right) \\left(e^{2 \\pi t} - 1\\right)}\\, dt$"
      ],
      "text/plain": [
       "Eq(-log(z) + polygamma(0, z) + 0.5/z, -2*Integral(t/((t**2 + z**2)*(exp(2*pi*t) - 1)), (t, 0, oo)))"
      ]
     },
     "execution_count": 30,
     "metadata": {},
     "output_type": "execute_result"
    }
   ],
   "source": [
    "Eq(digamma(z)-ln(z) + 1/2/z, - 2*Integral(t/(t**2 + z**2)*1/(exp(2*pi*t)-1),(t,0,oo)))"
   ]
  },
  {
   "cell_type": "code",
   "execution_count": 32,
   "metadata": {},
   "outputs": [
    {
     "data": {
      "text/latex": [
       "$\\displaystyle - \\log{\\left(z \\right)} + \\operatorname{polygamma}{\\left(0,z \\right)} + \\frac{0.5}{z} = - 2 \\int\\limits_{0}^{\\infty} \\frac{t}{\\left(t^{2} + z^{2}\\right) \\left(e^{2 \\pi t} - 1\\right)}\\, dt$"
      ],
      "text/plain": [
       "Eq(-log(z) + polygamma(0, z) + 0.5/z, -2*Integral(t/((t**2 + z**2)*(exp(2*pi*t) - 1)), (t, 0, oo)))"
      ]
     },
     "execution_count": 32,
     "metadata": {},
     "output_type": "execute_result"
    }
   ],
   "source": [
    "Eq(digamma(z)-ln(z) + 1/2/z, - 2*Integral(t/(t**2 + z**2)*1/(exp(2*pi*t)-1),(t,0,oo)))"
   ]
  },
  {
   "cell_type": "code",
   "execution_count": 34,
   "metadata": {},
   "outputs": [
    {
     "data": {
      "text/latex": [
       "$\\displaystyle \\int\\limits_{0}^{\\infty} \\frac{t}{\\left(t^{2} + z^{2}\\right) \\left(e^{4 \\pi t} - 1\\right)}\\, dt = \\int\\limits_{0}^{\\infty} \\frac{t}{\\left(\\frac{t^{2}}{4} + z^{2}\\right) \\left(e^{2 \\pi t} - 1\\right)}\\, dt$"
      ],
      "text/plain": [
       "Eq(Integral(t/((t**2 + z**2)*(exp(4*pi*t) - 1)), (t, 0, oo)), Integral(t/((t**2/4 + z**2)*(exp(2*pi*t) - 1)), (t, 0, oo)))"
      ]
     },
     "execution_count": 34,
     "metadata": {},
     "output_type": "execute_result"
    }
   ],
   "source": [
    "Eq(Integral(t/(t**2 + z**2)*1/(exp(4*pi*t)-1),(t,0,oo)), \n",
    "   Integral((t/(t**2 + z**2)*1/(exp(4*pi*t)-1)).subs(t,t/2)*2,(t,0,oo)))"
   ]
  },
  {
   "cell_type": "code",
   "execution_count": 35,
   "metadata": {},
   "outputs": [
    {
     "data": {
      "text/latex": [
       "$\\displaystyle \\int\\limits_{0}^{\\infty} \\frac{t}{\\left(t^{2} + z^{2}\\right) \\left(e^{4 \\pi t} - 1\\right)}\\, dt = \\int\\limits_{0}^{\\infty} \\frac{t}{\\left(t^{2} + 4 z^{2}\\right) \\left(e^{2 \\pi t} - 1\\right)}\\, dt$"
      ],
      "text/plain": [
       "Eq(Integral(t/((t**2 + z**2)*(exp(4*pi*t) - 1)), (t, 0, oo)), Integral(t/((t**2 + 4*z**2)*(exp(2*pi*t) - 1)), (t, 0, oo)))"
      ]
     },
     "execution_count": 35,
     "metadata": {},
     "output_type": "execute_result"
    }
   ],
   "source": [
    "Eq(Integral(t/(t**2 + z**2)*1/(exp(4*pi*t)-1),(t,0,oo)), \n",
    "   Integral((t/(t**2 + z**2*4)*1/(exp(2*pi*t)-1)),(t,0,oo)))"
   ]
  },
  {
   "cell_type": "code",
   "execution_count": 36,
   "metadata": {},
   "outputs": [
    {
     "data": {
      "text/latex": [
       "$\\displaystyle - \\log{\\left(2 z \\right)} + \\operatorname{polygamma}{\\left(0,2 z \\right)} + \\frac{0.25}{z} = - 2 \\int\\limits_{0}^{\\infty} \\frac{t}{\\left(t^{2} + 4 z^{2}\\right) \\left(e^{2 \\pi t} - 1\\right)}\\, dt$"
      ],
      "text/plain": [
       "Eq(-log(2*z) + polygamma(0, 2*z) + 0.25/z, -2*Integral(t/((t**2 + 4*z**2)*(exp(2*pi*t) - 1)), (t, 0, oo)))"
      ]
     },
     "execution_count": 36,
     "metadata": {},
     "output_type": "execute_result"
    }
   ],
   "source": [
    "Eq(digamma(z)-ln(z) + 1/2/z, - 2*Integral(t/(t**2 + z**2)*1/(exp(2*pi*t)-1),(t,0,oo))).subs(z,2*z)"
   ]
  },
  {
   "cell_type": "code",
   "execution_count": 38,
   "metadata": {},
   "outputs": [
    {
     "data": {
      "text/latex": [
       "$\\displaystyle - \\frac{2 \\pi e^{2 \\pi t + i z}}{\\left(e^{2 \\pi t + i z} - 1\\right)^{2}}$"
      ],
      "text/plain": [
       "-2*pi*exp(2*pi*t + I*z)/(exp(2*pi*t + I*z) - 1)**2"
      ]
     },
     "execution_count": 38,
     "metadata": {},
     "output_type": "execute_result"
    }
   ],
   "source": [
    "diff(1/(exp(2*pi*t+I*z)-1),t)"
   ]
  },
  {
   "cell_type": "code",
   "execution_count": 43,
   "metadata": {},
   "outputs": [
    {
     "data": {
      "text/latex": [
       "$\\displaystyle - \\frac{2 \\pi e^{2 \\pi \\left(s - 1\\right) \\left(t + i z\\right)}}{\\left(e^{2 \\pi \\left(s - 1\\right) \\left(t + i z\\right)} - 1\\right)^{2}}$"
      ],
      "text/plain": [
       "-2*pi*exp(2*pi*(s - 1)*(t + I*z))/(exp(2*pi*(s - 1)*(t + I*z)) - 1)**2"
      ]
     },
     "execution_count": 43,
     "metadata": {},
     "output_type": "execute_result"
    }
   ],
   "source": [
    "diff(1/(exp(2*pi*(t+I*z)*(s-1))-1),s)/(t+I*z)"
   ]
  },
  {
   "cell_type": "code",
   "execution_count": 42,
   "metadata": {},
   "outputs": [
    {
     "data": {
      "text/latex": [
       "$\\displaystyle - \\frac{2 t e^{2 t \\left(s - 1\\right)}}{\\left(t + i z\\right) \\left(e^{2 t \\left(s - 1\\right)} - 1\\right)^{2}}$"
      ],
      "text/plain": [
       "-2*t*exp(2*t*(s - 1))/((t + I*z)*(exp(2*t*(s - 1)) - 1)**2)"
      ]
     },
     "execution_count": 42,
     "metadata": {},
     "output_type": "execute_result"
    }
   ],
   "source": [
    "diff(1/(exp(2*t*(s-1))-1),s)/(t+I*z)"
   ]
  },
  {
   "cell_type": "code",
   "execution_count": 44,
   "metadata": {},
   "outputs": [
    {
     "data": {
      "text/latex": [
       "$\\displaystyle \\int\\limits_{0}^{\\pi} \\frac{\\partial}{\\partial z} \\frac{1}{e^{2 \\pi t + i z} - 1}\\, dz = \\frac{2}{e^{4 \\pi t} - 1} - \\frac{2}{e^{2 \\pi t} - 1}$"
      ],
      "text/plain": [
       "Eq(Integral(Derivative(1/(exp(2*pi*t + I*z) - 1), z), (z, 0, pi)), 2/(exp(4*pi*t) - 1) - 2/(exp(2*pi*t) - 1))"
      ]
     },
     "execution_count": 44,
     "metadata": {},
     "output_type": "execute_result"
    }
   ],
   "source": [
    "Eq(Integral(Derivative(1/(exp(2*pi*t+I*z)-1),z),(z,0,pi)),\n",
    "   Integral(Derivative(1/(exp(2*pi*t+I*z)-1),z),(z,0,pi)).doit()\n",
    "  ).subs(1/(exp(2*pi*t)+1),1/(exp(2*pi*t)-1)-2/(exp(4*pi*t)-1)).subs(1/(1-exp(2*pi*t)),-1/(exp(2*pi*t)-1))"
   ]
  },
  {
   "cell_type": "code",
   "execution_count": 46,
   "metadata": {},
   "outputs": [
    {
     "data": {
      "text/latex": [
       "$\\displaystyle \\int\\limits_{0}^{\\pi} \\frac{\\partial}{\\partial s} \\frac{1}{e^{- s \\left(t + i z\\right) + 2 \\pi t} - 1}\\, ds$"
      ],
      "text/plain": [
       "Integral(Derivative(1/(exp(-s*(t + I*z) + 2*pi*t) - 1), s), (s, 0, pi))"
      ]
     },
     "execution_count": 46,
     "metadata": {},
     "output_type": "execute_result"
    }
   ],
   "source": [
    "Integral(Derivative(1/(exp(2*pi*t-(t+I*z)*s)-1),s),(s,0,pi))"
   ]
  },
  {
   "cell_type": "code",
   "execution_count": 48,
   "metadata": {},
   "outputs": [
    {
     "data": {
      "text/latex": [
       "$\\displaystyle \\int\\limits_{0}^{\\pi} \\frac{\\partial}{\\partial s} \\frac{1}{e^{- s \\left(t + i z\\right) + 2 \\pi t} - 1}\\, ds$"
      ],
      "text/plain": [
       "Integral(Derivative(1/(exp(-s*(t + I*z) + 2*pi*t) - 1), s), (s, 0, pi))"
      ]
     },
     "execution_count": 48,
     "metadata": {},
     "output_type": "execute_result"
    }
   ],
   "source": [
    "Integral(Derivative(1/(exp(2*pi*t-(t+I*z)*s)-1),s),(s,0,pi))"
   ]
  },
  {
   "cell_type": "code",
   "execution_count": 49,
   "metadata": {},
   "outputs": [
    {
     "data": {
      "text/latex": [
       "$\\displaystyle \\frac{1}{e^{2 \\pi t - \\pi \\left(t + i z\\right)} - 1} - \\frac{1}{e^{2 \\pi t} - 1}$"
      ],
      "text/plain": [
       "1/(exp(2*pi*t - pi*(t + I*z)) - 1) - 1/(exp(2*pi*t) - 1)"
      ]
     },
     "execution_count": 49,
     "metadata": {},
     "output_type": "execute_result"
    }
   ],
   "source": [
    "(1/(exp(2*pi*t-(t+I*z)*s)-1)).subs(s,pi) - (1/(exp(2*pi*t-(t+I*z)*s)-1)).subs(s,0)"
   ]
  },
  {
   "cell_type": "code",
   "execution_count": 52,
   "metadata": {},
   "outputs": [
    {
     "data": {
      "text/latex": [
       "$\\displaystyle \\operatorname{polygamma}{\\left(0,2 \\pi \\right)}$"
      ],
      "text/plain": [
       "polygamma(0, 2*pi)"
      ]
     },
     "execution_count": 52,
     "metadata": {},
     "output_type": "execute_result"
    }
   ],
   "source": []
  },
  {
   "cell_type": "code",
   "execution_count": 73,
   "metadata": {},
   "outputs": [
    {
     "data": {
      "text/latex": [
       "$\\displaystyle - \\frac{e^{s \\left(t + i z\\right) + 2 \\pi t}}{\\left(e^{s \\left(t + i z\\right) + 2 \\pi t} - 1\\right)^{2}}$"
      ],
      "text/plain": [
       "-exp(s*(t + I*z) + 2*pi*t)/(exp(s*(t + I*z) + 2*pi*t) - 1)**2"
      ]
     },
     "execution_count": 73,
     "metadata": {},
     "output_type": "execute_result"
    }
   ],
   "source": [
    "Derivative(1/(exp(2*pi*t+(t+I*z)*s)-1),s).doit()/(t+I*z)"
   ]
  },
  {
   "cell_type": "code",
   "execution_count": 72,
   "metadata": {},
   "outputs": [
    {
     "data": {
      "text/latex": [
       "$\\displaystyle - \\frac{e^{s \\left(t + i z\\right) + 2 \\pi t}}{\\left(e^{s \\left(t + i z\\right) + 2 \\pi t} - 1\\right)^{2}}$"
      ],
      "text/plain": [
       "-exp(s*(t + I*z) + 2*pi*t)/(exp(s*(t + I*z) + 2*pi*t) - 1)**2"
      ]
     },
     "execution_count": 72,
     "metadata": {},
     "output_type": "execute_result"
    }
   ],
   "source": [
    "Derivative(1/(exp(2*pi*t+(t+I*z)*s)-1),t).doit()/(s+2*pi)"
   ]
  },
  {
   "cell_type": "code",
   "execution_count": 76,
   "metadata": {
    "scrolled": true
   },
   "outputs": [
    {
     "data": {
      "text/latex": [
       "$\\displaystyle \\frac{\\partial}{\\partial s} \\frac{1}{\\left(t + i z\\right) \\left(e^{s \\left(t + i z\\right) + 2 \\pi t} - 1\\right)} = \\frac{\\partial}{\\partial t} \\frac{1}{\\left(s + 2 \\pi\\right) \\left(e^{s \\left(t + i z\\right) + 2 \\pi t} - 1\\right)}$"
      ],
      "text/plain": [
       "Eq(Derivative(1/((t + I*z)*(exp(s*(t + I*z) + 2*pi*t) - 1)), s), Derivative(1/((s + 2*pi)*(exp(s*(t + I*z) + 2*pi*t) - 1)), t))"
      ]
     },
     "execution_count": 76,
     "metadata": {},
     "output_type": "execute_result"
    }
   ],
   "source": [
    "Eq(Derivative(1/(exp(2*pi*t+(t+I*z)*s)-1)/(t+I*z),s),Derivative(1/(exp(2*pi*t+(t+I*z)*s)-1)/(s+2*pi),t))"
   ]
  },
  {
   "cell_type": "code",
   "execution_count": 89,
   "metadata": {},
   "outputs": [
    {
     "data": {
      "text/latex": [
       "$\\displaystyle \\text{True}$"
      ],
      "text/plain": [
       "True"
      ]
     },
     "execution_count": 89,
     "metadata": {},
     "output_type": "execute_result"
    }
   ],
   "source": [
    "Eq(Derivative(1/(exp(2*pi*t+(t+I*z)*s)-1)/(t+I*z),s),Derivative(1/(exp(2*pi*t+(t+I*z)*s)-1)/(s+2*pi),t)).doit()"
   ]
  },
  {
   "cell_type": "code",
   "execution_count": 91,
   "metadata": {},
   "outputs": [
    {
     "data": {
      "text/latex": [
       "$\\displaystyle \\text{True}$"
      ],
      "text/plain": [
       "True"
      ]
     },
     "execution_count": 91,
     "metadata": {},
     "output_type": "execute_result"
    }
   ],
   "source": [
    "Eq(Derivative(1/(exp(2*pi*t+(t+I*z)*s)-1)/(t+I*z),s),Derivative(1/(exp(2*pi*t+(t+I*z)*s)-1)/(s+2*pi),t)).subs(z,-z).doit()"
   ]
  },
  {
   "cell_type": "code",
   "execution_count": 92,
   "metadata": {},
   "outputs": [
    {
     "data": {
      "text/latex": [
       "$\\displaystyle \\frac{\\partial}{\\partial s} \\frac{1}{\\left(t - i z\\right) \\left(e^{s \\left(t - i z\\right) + 2 \\pi t} - 1\\right)} = \\frac{\\partial}{\\partial t} \\frac{1}{\\left(s + 2 \\pi\\right) \\left(e^{s \\left(t - i z\\right) + 2 \\pi t} - 1\\right)}$"
      ],
      "text/plain": [
       "Eq(Derivative(1/((t - I*z)*(exp(s*(t - I*z) + 2*pi*t) - 1)), s), Derivative(1/((s + 2*pi)*(exp(s*(t - I*z) + 2*pi*t) - 1)), t))"
      ]
     },
     "execution_count": 92,
     "metadata": {},
     "output_type": "execute_result"
    }
   ],
   "source": [
    "Eq(Derivative(1/(exp(2*pi*t+(t+I*z)*s)-1)/(t+I*z),s),Derivative(1/(exp(2*pi*t+(t+I*z)*s)-1)/(s+2*pi),t)).subs(z,-z)"
   ]
  },
  {
   "cell_type": "code",
   "execution_count": 228,
   "metadata": {},
   "outputs": [
    {
     "data": {
      "text/latex": [
       "$\\displaystyle \\frac{\\partial}{\\partial s} \\frac{1}{\\left(t + i z\\right) \\left(e^{- s \\left(t + i z\\right) + 2 \\pi t} - 1\\right)} = \\frac{\\partial}{\\partial t} \\frac{1}{\\left(s - 2 \\pi\\right) \\left(e^{- s \\left(t + i z\\right) + 2 \\pi t} - 1\\right)}$"
      ],
      "text/plain": [
       "Eq(Derivative(1/((t + I*z)*(exp(-s*(t + I*z) + 2*pi*t) - 1)), s), Derivative(1/((s - 2*pi)*(exp(-s*(t + I*z) + 2*pi*t) - 1)), t))"
      ]
     },
     "execution_count": 228,
     "metadata": {},
     "output_type": "execute_result"
    }
   ],
   "source": [
    "Eq(Derivative(1/(exp(2*pi*t-(t+I*z)*s)-1)/(t+I*z),s),Derivative(1/(exp(2*pi*t-(t+I*z)*s)-1)/(s-2*pi),t))"
   ]
  },
  {
   "cell_type": "code",
   "execution_count": 229,
   "metadata": {},
   "outputs": [
    {
     "data": {
      "text/latex": [
       "$\\displaystyle \\frac{\\partial}{\\partial s} \\frac{1}{\\left(t - i z\\right) \\left(e^{- s \\left(t - i z\\right) + 2 \\pi t} - 1\\right)} = \\frac{\\partial}{\\partial t} \\frac{1}{\\left(s - 2 \\pi\\right) \\left(e^{- s \\left(t - i z\\right) + 2 \\pi t} - 1\\right)}$"
      ],
      "text/plain": [
       "Eq(Derivative(1/((t - I*z)*(exp(-s*(t - I*z) + 2*pi*t) - 1)), s), Derivative(1/((s - 2*pi)*(exp(-s*(t - I*z) + 2*pi*t) - 1)), t))"
      ]
     },
     "execution_count": 229,
     "metadata": {},
     "output_type": "execute_result"
    }
   ],
   "source": [
    "Eq(Derivative(1/(exp(2*pi*t-(t+I*z)*s)-1)/(t+I*z),s),Derivative(1/(exp(2*pi*t-(t+I*z)*s)-1)/(s-2*pi),t)).subs(z,-z)"
   ]
  },
  {
   "cell_type": "code",
   "execution_count": 226,
   "metadata": {},
   "outputs": [
    {
     "data": {
      "text/latex": [
       "$\\displaystyle \\text{True}$"
      ],
      "text/plain": [
       "True"
      ]
     },
     "execution_count": 226,
     "metadata": {},
     "output_type": "execute_result"
    }
   ],
   "source": [
    "Eq(Derivative(1/(exp(2*pi*t-(t+I*z)*s)-1)/(t+I*z),s),Derivative(1/(exp(2*pi*t-(t+I*z)*s)-1)/(s-2*pi),t)).subs(z,-z).doit().simplify()"
   ]
  },
  {
   "cell_type": "code",
   "execution_count": 80,
   "metadata": {},
   "outputs": [
    {
     "data": {
      "text/latex": [
       "$\\displaystyle \\int\\limits_{0}^{\\infty} \\frac{\\partial}{\\partial s} \\frac{1}{\\left(t + i z\\right) \\left(e^{s \\left(t + i z\\right) + 2 \\pi t} - 1\\right)}\\, ds = \\int\\limits_{0}^{\\infty} \\frac{\\partial}{\\partial t} \\frac{1}{\\left(s + 2 \\pi\\right) \\left(e^{s \\left(t + i z\\right) + 2 \\pi t} - 1\\right)}\\, ds$"
      ],
      "text/plain": [
       "Eq(Integral(Derivative(1/((t + I*z)*(exp(s*(t + I*z) + 2*pi*t) - 1)), s), (s, 0, oo)), Integral(Derivative(1/((s + 2*pi)*(exp(s*(t + I*z) + 2*pi*t) - 1)), t), (s, 0, oo)))"
      ]
     },
     "execution_count": 80,
     "metadata": {},
     "output_type": "execute_result"
    }
   ],
   "source": [
    "Eq(Integral(Derivative(1/(exp(2*pi*t+(t+I*z)*s)-1)/(t+I*z),s),(s,0,oo)),\n",
    "            Integral(Derivative(1/(exp(2*pi*t+(t+I*z)*s)-1)/(s+2*pi),t),(s,0,oo)))"
   ]
  },
  {
   "cell_type": "code",
   "execution_count": 81,
   "metadata": {},
   "outputs": [
    {
     "data": {
      "text/latex": [
       "$\\displaystyle - \\frac{1}{\\left(t + i z\\right) \\left(e^{2 \\pi t} - 1\\right)} = \\int\\limits_{0}^{\\infty} \\frac{\\partial}{\\partial t} \\frac{1}{\\left(s + 2 \\pi\\right) \\left(e^{s \\left(t + i z\\right) + 2 \\pi t} - 1\\right)}\\, ds$"
      ],
      "text/plain": [
       "Eq(-1/((t + I*z)*(exp(2*pi*t) - 1)), Integral(Derivative(1/((s + 2*pi)*(exp(s*(t + I*z) + 2*pi*t) - 1)), t), (s, 0, oo)))"
      ]
     },
     "execution_count": 81,
     "metadata": {},
     "output_type": "execute_result"
    }
   ],
   "source": [
    "Eq(-1/(exp(2*pi*t)-1)/(t+I*z),\n",
    "            Integral(Derivative(1/(exp(2*pi*t+(t+I*z)*s)-1)/(s+2*pi),t),(s,0,oo)))"
   ]
  },
  {
   "cell_type": "code",
   "execution_count": 3,
   "metadata": {
    "scrolled": true
   },
   "outputs": [
    {
     "data": {
      "text/latex": [
       "$\\displaystyle - \\frac{1}{\\left(t - i z\\right) \\left(e^{2 \\pi t} - 1\\right)} = \\int\\limits_{0}^{\\infty} \\frac{\\partial}{\\partial t} \\frac{1}{\\left(s + 2 \\pi\\right) \\left(e^{s \\left(t - i z\\right) + 2 \\pi t} - 1\\right)}\\, ds$"
      ],
      "text/plain": [
       "Eq(-1/((t - I*z)*(exp(2*pi*t) - 1)), Integral(Derivative(1/((s + 2*pi)*(exp(s*(t - I*z) + 2*pi*t) - 1)), t), (s, 0, oo)))"
      ]
     },
     "execution_count": 3,
     "metadata": {},
     "output_type": "execute_result"
    }
   ],
   "source": [
    "Eq(-1/(exp(2*pi*t)-1)/(t+I*z),\n",
    "            Integral(Derivative(1/(exp(2*pi*t+(t+I*z)*s)-1)/(s+2*pi),t),(s,0,oo))).subs(z,-z)"
   ]
  },
  {
   "cell_type": "code",
   "execution_count": 35,
   "metadata": {},
   "outputs": [
    {
     "data": {
      "text/latex": [
       "$\\displaystyle -0.000935468299330322 + 0.000935468299330322 i$"
      ],
      "text/plain": [
       "-0.000935468299330322 + 0.000935468299330322*I"
      ]
     },
     "execution_count": 35,
     "metadata": {},
     "output_type": "execute_result"
    }
   ],
   "source": [
    "(-1/(exp(2*pi*t)-1)/(t+I*z)).subs([(z,1),(t,1)]).evalf()"
   ]
  },
  {
   "cell_type": "code",
   "execution_count": 36,
   "metadata": {},
   "outputs": [
    {
     "data": {
      "text/latex": [
       "$\\displaystyle -0.000935468299330322 + 0.000935468299330322 i$"
      ],
      "text/plain": [
       "-0.000935468299330322 + 0.000935468299330322*I"
      ]
     },
     "execution_count": 36,
     "metadata": {},
     "output_type": "execute_result"
    }
   ],
   "source": [
    "(Integral(Derivative(1/(exp(2*pi*t+(t+I*z)*s)-1)/(s+2*pi),t),(s,0,oo))).subs([(z,1),(t,1)]).doit().evalf()"
   ]
  },
  {
   "cell_type": "code",
   "execution_count": 83,
   "metadata": {},
   "outputs": [
    {
     "data": {
      "text/latex": [
       "$\\displaystyle \\frac{2 t}{t^{2} + z^{2}}$"
      ],
      "text/plain": [
       "2*t/(t**2 + z**2)"
      ]
     },
     "execution_count": 83,
     "metadata": {},
     "output_type": "execute_result"
    }
   ],
   "source": [
    "(1/(t+I*z)+1/(t-I*z)).simplify()"
   ]
  },
  {
   "cell_type": "code",
   "execution_count": 77,
   "metadata": {},
   "outputs": [
    {
     "data": {
      "text/latex": [
       "$\\displaystyle \\frac{1}{\\left(s + 2 \\pi\\right) \\left(e^{2 \\pi T + s \\left(T + i z\\right)} - 1\\right)} - \\frac{1}{\\left(s + 2 \\pi\\right) \\left(e^{i s z} - 1\\right)} = \\int\\limits_{0}^{T} \\frac{\\partial}{\\partial t} \\frac{1}{\\left(s + 2 \\pi\\right) \\left(e^{s \\left(t + i z\\right) + 2 \\pi t} - 1\\right)}\\, dt$"
      ],
      "text/plain": [
       "Eq(1/((s + 2*pi)*(exp(2*pi*T + s*(T + I*z)) - 1)) - 1/((s + 2*pi)*(exp(I*s*z) - 1)), Integral(Derivative(1/((s + 2*pi)*(exp(s*(t + I*z) + 2*pi*t) - 1)), t), (t, 0, T)))"
      ]
     },
     "execution_count": 77,
     "metadata": {},
     "output_type": "execute_result"
    }
   ],
   "source": [
    "Eq((1/(exp(2*pi*t+(t+I*z)*s)-1)/(s+2*pi)).subs(t,T) - (1/(exp(2*pi*t+(t+I*z)*s)-1)/(s+2*pi)).subs(t,0),\n",
    "    Integral(Derivative(1/(exp(2*pi*t+(t+I*z)*s)-1)/(s+2*pi),t),(t,0,T))\n",
    "  )"
   ]
  },
  {
   "cell_type": "code",
   "execution_count": 131,
   "metadata": {},
   "outputs": [
    {
     "data": {
      "text/latex": [
       "$\\displaystyle 0.0094173688320517 + 1.53721384439122 \\cdot 10^{-5} i$"
      ],
      "text/plain": [
       "0.0094173688320517 + 1.53721384439122e-5*I"
      ]
     },
     "execution_count": 131,
     "metadata": {},
     "output_type": "execute_result"
    }
   ],
   "source": [
    "((1/(exp(2*pi*t+(t+I*z)*s)-1)/(s+2*pi)).subs(t,T) - (1/(exp(2*pi*t+(t+I*z)*s)-1)/(s+2*pi)).subs(t,0)\n",
    ").subs([(z,I+2),(T,1),(s,100)]).evalf()"
   ]
  },
  {
   "cell_type": "code",
   "execution_count": 135,
   "metadata": {},
   "outputs": [
    {
     "data": {
      "text/latex": [
       "$\\displaystyle -1.70523226262826 \\cdot 10^{-46} + 3.05667569700722 \\cdot 10^{-46} i$"
      ],
      "text/plain": [
       "-1.70523226262826e-46 + 3.05667569700722e-46*I"
      ]
     },
     "execution_count": 135,
     "metadata": {},
     "output_type": "execute_result"
    }
   ],
   "source": [
    "((1/(exp(2*pi*t+(t-I*z)*s)-1)/(s+2*pi)).subs(t,T) - (1/(exp(2*pi*t+(t-I*z)*s)-1)/(s+2*pi)).subs(t,0)\n",
    ").subs([(z,I+2),(T,1),(s,100)]).evalf()"
   ]
  },
  {
   "cell_type": "code",
   "execution_count": 132,
   "metadata": {
    "scrolled": true
   },
   "outputs": [
    {
     "data": {
      "text/latex": [
       "$\\displaystyle 0.0094173688320517 + 1.53721384439122 \\cdot 10^{-5} i$"
      ],
      "text/plain": [
       "0.0094173688320517 + 1.53721384439122e-5*I"
      ]
     },
     "execution_count": 132,
     "metadata": {},
     "output_type": "execute_result"
    }
   ],
   "source": [
    "(Integral(Derivative(1/(exp(2*pi*t+(t+I*z)*s)-1)/(s+2*pi),t).doit(),(t,0,T))\n",
    ").subs([(z,I+2),(T,1),(s,100)]).evalf()"
   ]
  },
  {
   "cell_type": "code",
   "execution_count": 134,
   "metadata": {},
   "outputs": [
    {
     "data": {
      "text/latex": [
       "$\\displaystyle -1.7042851599345 \\cdot 10^{-46} + 3.05497798939868 \\cdot 10^{-46} i$"
      ],
      "text/plain": [
       "-1.7042851599345e-46 + 3.05497798939868e-46*I"
      ]
     },
     "execution_count": 134,
     "metadata": {},
     "output_type": "execute_result"
    }
   ],
   "source": [
    "(Integral(Derivative(1/(exp(2*pi*t+(t-I*z)*s)-1)/(s+2*pi),t).doit(),(t,0,T))\n",
    ").subs([(z,I+2),(T,1),(s,100)]).evalf()"
   ]
  },
  {
   "cell_type": "code",
   "execution_count": 37,
   "metadata": {},
   "outputs": [
    {
     "data": {
      "text/latex": [
       "$\\displaystyle - \\frac{2 t}{\\left(t^{2} + z^{2}\\right) \\left(e^{2 \\pi t} - 1\\right)} = \\int\\limits_{0}^{\\infty} \\frac{\\partial}{\\partial t} \\left(\\frac{1}{\\left(s + 2 \\pi\\right) \\left(e^{s \\left(t + i z\\right) + 2 \\pi t} - 1\\right)} + \\frac{1}{\\left(s + 2 \\pi\\right) \\left(e^{s \\left(t - i z\\right) + 2 \\pi t} - 1\\right)}\\right)\\, ds$"
      ],
      "text/plain": [
       "Eq(-2*t/((t**2 + z**2)*(exp(2*pi*t) - 1)), Integral(Derivative(1/((s + 2*pi)*(exp(s*(t + I*z) + 2*pi*t) - 1)) + 1/((s + 2*pi)*(exp(s*(t - I*z) + 2*pi*t) - 1)), t), (s, 0, oo)))"
      ]
     },
     "execution_count": 37,
     "metadata": {},
     "output_type": "execute_result"
    }
   ],
   "source": [
    "Eq(-2*t/(exp(2*pi*t)-1)/(t**2+z**2),\n",
    "            Integral(Derivative(1/(exp(2*pi*t+(t+I*z)*s)-1)/(s+2*pi)+1/(exp(2*pi*t+(t-I*z)*s)-1)/(s+2*pi),t),(s,0,oo)))"
   ]
  },
  {
   "cell_type": "code",
   "execution_count": 129,
   "metadata": {
    "scrolled": true
   },
   "outputs": [
    {
     "data": {
      "text/latex": [
       "$\\displaystyle -0.0347131306647327 + 0.0462702931317041 i$"
      ],
      "text/plain": [
       "-0.0347131306647327 + 0.0462702931317041*I"
      ]
     },
     "execution_count": 129,
     "metadata": {},
     "output_type": "execute_result"
    }
   ],
   "source": [
    "(-2*t/(exp(2*pi*t)-1)/(t**2+z**2)).subs([(z,I+2),(t,0.03)]).evalf()"
   ]
  },
  {
   "cell_type": "code",
   "execution_count": 130,
   "metadata": {},
   "outputs": [
    {
     "data": {
      "text/latex": [
       "$\\displaystyle 0.161607377744666 + 0.451054846553146 i$"
      ],
      "text/plain": [
       "0.161607377744666 + 0.451054846553146*I"
      ]
     },
     "execution_count": 130,
     "metadata": {},
     "output_type": "execute_result"
    }
   ],
   "source": [
    "(Integral(Derivative(1/(exp(2*pi*t+(t+I*z)*s)-1)/(s+2*pi)+1/(exp(2*pi*t+(t-I*z)*s)-1)/(s+2*pi),t).doit(),(s,0,10000))\n",
    ").subs([(z,I+2),(t,0.03)]).evalf()"
   ]
  },
  {
   "cell_type": "code",
   "execution_count": 147,
   "metadata": {},
   "outputs": [
    {
     "data": {
      "text/latex": [
       "$\\displaystyle - \\int\\limits_{\\epsilon}^{T} \\frac{2 t}{\\left(t^{2} + z^{2}\\right) \\left(e^{2 \\pi t} - 1\\right)}\\, dt = \\int\\limits_{0}^{\\infty} \\left(- \\frac{1}{\\left(s + 2 \\pi\\right) \\left(e^{2 \\pi \\epsilon + s \\left(\\epsilon + i z\\right)} - 1\\right)} - \\frac{1}{\\left(s + 2 \\pi\\right) \\left(e^{2 \\pi \\epsilon + s \\left(\\epsilon - i z\\right)} - 1\\right)} + \\frac{1}{\\left(s + 2 \\pi\\right) \\left(e^{2 \\pi T + s \\left(T + i z\\right)} - 1\\right)} + \\frac{1}{\\left(s + 2 \\pi\\right) \\left(e^{2 \\pi T + s \\left(T - i z\\right)} - 1\\right)}\\right)\\, ds$"
      ],
      "text/plain": [
       "Eq(-Integral(2*t/((t**2 + z**2)*(exp(2*pi*t) - 1)), (t, epsilon, T)), Integral(-1/((s + 2*pi)*(exp(2*pi*epsilon + s*(epsilon + I*z)) - 1)) - 1/((s + 2*pi)*(exp(2*pi*epsilon + s*(epsilon - I*z)) - 1)) + 1/((s + 2*pi)*(exp(2*pi*T + s*(T + I*z)) - 1)) + 1/((s + 2*pi)*(exp(2*pi*T + s*(T - I*z)) - 1)), (s, 0, oo)))"
      ]
     },
     "execution_count": 147,
     "metadata": {},
     "output_type": "execute_result"
    }
   ],
   "source": [
    "Eq(-Integral(2*t/(exp(2*pi*t)-1)/(t**2+z**2),(t,epsilon,T)),\n",
    "Integral((1/(exp(2*pi*t+(t+I*z)*s)-1)/(s+2*pi)+1/(exp(2*pi*t+(t-I*z)*s)-1)/(s+2*pi)).subs(t,T) - \n",
    "         (1/(exp(2*pi*t+(t+I*z)*s)-1)/(s+2*pi)+1/(exp(2*pi*t+(t-I*z)*s)-1)/(s+2*pi)).subs(t,epsilon),(s,0,oo))\n",
    "  )"
   ]
  },
  {
   "cell_type": "code",
   "execution_count": null,
   "metadata": {},
   "outputs": [],
   "source": [
    "Eq(-Integral(2*t/(exp(2*pi*t)-1)/(t**2+z**2),(t,epsilon,T)),\n",
    "Integral((1/(exp(2*pi*t+(t+I*z)*s)-1)/(s+2*pi)+1/(exp(2*pi*t+(t-I*z)*s)-1)/(s+2*pi)).subs(t,T) - \n",
    "         (1/(exp(2*pi*t+(t+I*z)*s)-1)/(s+2*pi)+1/(exp(2*pi*t+(t-I*z)*s)-1)/(s+2*pi)).subs(t,epsilon),(s,0,oo))\n",
    "  )"
   ]
  },
  {
   "cell_type": "code",
   "execution_count": 152,
   "metadata": {},
   "outputs": [
    {
     "data": {
      "text/latex": [
       "$\\displaystyle - \\int\\limits_{\\epsilon}^{\\infty} \\frac{2 t}{\\left(t^{2} + z^{2}\\right) \\left(e^{2 \\pi t} - 1\\right)}\\, dt = \\int\\limits_{0}^{\\infty} \\left(- \\frac{1}{\\left(s + 2 \\pi\\right) \\left(e^{\\epsilon \\left(s + 2 \\pi\\right) + i s z} - 1\\right)} - \\frac{1}{\\left(s + 2 \\pi\\right) \\left(e^{\\epsilon \\left(s + 2 \\pi\\right) - i s z} - 1\\right)}\\right)\\, ds$"
      ],
      "text/plain": [
       "Eq(-Integral(2*t/((t**2 + z**2)*(exp(2*pi*t) - 1)), (t, epsilon, oo)), Integral(-1/((s + 2*pi)*(exp(epsilon*(s + 2*pi) + I*s*z) - 1)) - 1/((s + 2*pi)*(exp(epsilon*(s + 2*pi) - I*s*z) - 1)), (s, 0, oo)))"
      ]
     },
     "execution_count": 152,
     "metadata": {},
     "output_type": "execute_result"
    }
   ],
   "source": [
    "Eq(-Integral(2*t/(exp(2*pi*t)-1)/(t**2+z**2),(t,epsilon,oo)),\n",
    "Integral( \n",
    "         -(1/(exp(((2*pi+s)*t+I*z*s))-1)/(s+2*pi)+1/(exp((2*pi+s)*t-I*z*s)-1)/(s+2*pi)).subs(t,epsilon),(s,0,oo))\n",
    "  )"
   ]
  },
  {
   "cell_type": "code",
   "execution_count": 173,
   "metadata": {},
   "outputs": [
    {
     "data": {
      "text/latex": [
       "$\\displaystyle - \\frac{\\epsilon}{2 \\sin^{2}{\\left(\\frac{s z}{2} \\right)}} + \\frac{1}{s + 2 \\pi}$"
      ],
      "text/plain": [
       "-epsilon/(2*sin(s*z/2)**2) + 1/(s + 2*pi)"
      ]
     },
     "execution_count": 173,
     "metadata": {},
     "output_type": "execute_result"
    }
   ],
   "source": [
    "((-(1/(exp(((2*pi+s)*t+I*z*s))-1)/(s+2*pi)+1/(exp((2*pi+s)*t-I*z*s)-1)/(s+2*pi)).subs(t,epsilon)).subs(epsilon,0).simplify() +\n",
    "diff(-(1/(exp(((2*pi+s)*t+I*z*s))-1)/(s+2*pi)+1/(exp((2*pi+s)*t-I*z*s)-1)/(s+2*pi)).subs(t,epsilon),epsilon).subs(epsilon,0).simplify()*epsilon)"
   ]
  },
  {
   "cell_type": "code",
   "execution_count": 213,
   "metadata": {},
   "outputs": [
    {
     "data": {
      "image/png": "[encoded data removed]",
      "text/plain": [
       "<Figure size 432x288 with 1 Axes>"
      ]
     },
     "metadata": {
      "needs_background": "light"
     },
     "output_type": "display_data"
    },
    {
     "data": {
      "text/plain": [
       "<sympy.plotting.plot.Plot at 0x7fbf4aa3b3d0>"
      ]
     },
     "execution_count": 213,
     "metadata": {},
     "output_type": "execute_result"
    }
   ],
   "source": [
    "plot(re((\n",
    "((-(1/(exp(((2*pi+s)*t+I*z*s))-1)/(s+2*pi)+1/(exp((2*pi+s)*t-I*z*s)-1)/(s+2*pi)).subs(t,epsilon)).subs(epsilon,0).simplify() +\n",
    "diff(-(1/(exp(((2*pi+s)*t+I*z*s))-1)/(s+2*pi)+1/(exp((2*pi+s)*t-I*z*s)-1)/(s+2*pi)).subs(t,epsilon),epsilon).subs(epsilon,0).simplify()*epsilon)\n",
    ").subs(t,epsilon)).subs([(z,I+2),(epsilon,0.000001)]),(s,0.2,1000))"
   ]
  },
  {
   "cell_type": "code",
   "execution_count": 202,
   "metadata": {},
   "outputs": [
    {
     "data": {
      "image/png": "[encoded data removed]",
      "text/plain": [
       "<Figure size 432x288 with 1 Axes>"
      ]
     },
     "metadata": {
      "needs_background": "light"
     },
     "output_type": "display_data"
    },
    {
     "data": {
      "text/plain": [
       "<sympy.plotting.plot.Plot at 0x7fbf4bb1a100>"
      ]
     },
     "execution_count": 202,
     "metadata": {},
     "output_type": "execute_result"
    }
   ],
   "source": [
    "plot(re(( -(1/(exp(((2*pi+s)*t+I*z*s))-1)/(s+2*pi)+1/(exp((2*pi+s)*t-I*z*s)-1)/(s+2*pi)).subs(t,epsilon)).subs([(z,I+2),(epsilon,0.00001)])),(s,0.2,10))"
   ]
  },
  {
   "cell_type": "code",
   "execution_count": 166,
   "metadata": {},
   "outputs": [
    {
     "data": {
      "text/latex": [
       "$\\displaystyle -0.00879194083185666$"
      ],
      "text/plain": [
       "-0.00879194083185666"
      ]
     },
     "execution_count": 166,
     "metadata": {},
     "output_type": "execute_result"
    }
   ],
   "source": [
    "(-Integral(2*t/(exp(2*pi*t)-1)/(t**2+z**2),(t,epsilon,oo))).subs([(z,2),(epsilon,0.2)]).evalf()"
   ]
  },
  {
   "cell_type": "code",
   "execution_count": 167,
   "metadata": {},
   "outputs": [
    {
     "data": {
      "text/latex": [
       "$\\displaystyle -0.00879194083185666 + 6.54684950911748 \\cdot 10^{-98} i$"
      ],
      "text/plain": [
       "-0.00879194083185666 + 6.54684950911748e-98*I"
      ]
     },
     "execution_count": 167,
     "metadata": {},
     "output_type": "execute_result"
    }
   ],
   "source": [
    "(Integral(\n",
    "         -(1/(exp(2*pi*t+(t+I*z)*s)-1)/(s+2*pi)+1/(exp(2*pi*t+(t-I*z)*s)-1)/(s+2*pi)).subs(t,epsilon),(s,0,20000))\n",
    ").subs([(z,2),(epsilon,0.2)]).evalf()"
   ]
  },
  {
   "cell_type": "code",
   "execution_count": 140,
   "metadata": {},
   "outputs": [
    {
     "data": {
      "text/latex": [
       "$\\displaystyle -0.018 + 6.4 \\cdot 10^{-111} i$"
      ],
      "text/plain": [
       "-0.018 + 6.4e-111*I"
      ]
     },
     "execution_count": 140,
     "metadata": {},
     "output_type": "execute_result"
    }
   ],
   "source": [
    "(Integral((1/(exp(2*pi*t+(t+I*z)*s)-1)/(s+2*pi)+1/(exp(2*pi*t+(t-I*z)*s)-1)/(s+2*pi)).subs(t,T) - \n",
    "         (1/(exp(2*pi*t+(t+I*z)*s)-1)/(s+2*pi)+1/(exp(2*pi*t+(t-I*z)*s)-1)/(s+2*pi)).subs(t,0.02),(s,0,20000))\n",
    ").subs([(z,2),(T,200)]).evalf()"
   ]
  },
  {
   "cell_type": "code",
   "execution_count": 145,
   "metadata": {},
   "outputs": [
    {
     "data": {
      "text/latex": [
       "$\\displaystyle -0.0203628454614782$"
      ],
      "text/plain": [
       "-0.0203628454614782"
      ]
     },
     "execution_count": 145,
     "metadata": {},
     "output_type": "execute_result"
    }
   ],
   "source": [
    "(-Integral(2*t/(exp(2*pi*t)-1)/(t**2+z**2),(t,0,oo))).subs([(z,2)]).evalf()"
   ]
  },
  {
   "cell_type": "code",
   "execution_count": 143,
   "metadata": {},
   "outputs": [
    {
     "data": {
      "text/latex": [
       "$\\displaystyle -0.018 + 6.4 \\cdot 10^{-111} i$"
      ],
      "text/plain": [
       "-0.018 + 6.4e-111*I"
      ]
     },
     "execution_count": 143,
     "metadata": {},
     "output_type": "execute_result"
    }
   ],
   "source": [
    "(Integral(\n",
    "    -(1/(exp(2*pi*t+(t+I*z)*s)-1)/(s+2*pi)+1/(exp(2*pi*t+(t-I*z)*s)-1)/(s+2*pi)).subs(t,0.02),(s,0,20000))\n",
    ").subs([(z,2)]).evalf()"
   ]
  },
  {
   "cell_type": "code",
   "execution_count": 144,
   "metadata": {},
   "outputs": [
    {
     "data": {
      "text/latex": [
       "$\\displaystyle - \\frac{1}{s + 2 \\pi}$"
      ],
      "text/plain": [
       "-1/(s + 2*pi)"
      ]
     },
     "execution_count": 144,
     "metadata": {},
     "output_type": "execute_result"
    }
   ],
   "source": [
    "limit(1/(exp(2*pi*t+(t+I*z)*s)-1)/(s+2*pi)+1/(exp(2*pi*t+(t-I*z)*s)-1)/(s+2*pi),t,0)"
   ]
  },
  {
   "cell_type": "code",
   "execution_count": 11,
   "metadata": {},
   "outputs": [
    {
     "data": {
      "text/latex": [
       "$\\displaystyle - \\frac{2 t}{\\left(t^{2} + z^{2}\\right) \\left(e^{2 \\pi t} - 1\\right)} = \\int\\limits_{0}^{\\infty} \\frac{\\partial}{\\partial t} \\frac{1}{\\left(s + 2 \\pi\\right) \\left(e^{s \\left(t - i z\\right) + 2 \\pi t} - 1\\right)}\\, ds + \\int\\limits_{0}^{\\infty} \\frac{\\partial}{\\partial t} \\frac{1}{\\left(s + 2 \\pi\\right) \\left(e^{s \\left(t + i z\\right) + 2 \\pi t} - 1\\right)}\\, ds$"
      ],
      "text/plain": [
       "Eq(-2*t/((t**2 + z**2)*(exp(2*pi*t) - 1)), Integral(Derivative(1/((s + 2*pi)*(exp(s*(t - I*z) + 2*pi*t) - 1)), t), (s, 0, oo)) + Integral(Derivative(1/((s + 2*pi)*(exp(s*(t + I*z) + 2*pi*t) - 1)), t), (s, 0, oo)))"
      ]
     },
     "execution_count": 11,
     "metadata": {},
     "output_type": "execute_result"
    }
   ],
   "source": [
    "Eq(-2*t/(t**2+z**2)/(exp(2*pi*t)-1),\n",
    "    Integral(Derivative(1/(exp(2*pi*t+(t+I*z)*s)-1)/(s+2*pi),t),(s,0,oo)) +\n",
    "    Integral(Derivative(1/(exp(2*pi*t+(t-I*z)*s)-1)/(s+2*pi),t),(s,0,oo))\n",
    ")"
   ]
  },
  {
   "cell_type": "code",
   "execution_count": 87,
   "metadata": {},
   "outputs": [
    {
     "data": {
      "text/latex": [
       "$\\displaystyle \\int\\limits_{0}^{\\infty} \\left(- \\frac{2 t}{\\left(t^{2} + z^{2}\\right) \\left(e^{2 \\pi t} - 1\\right)}\\right)\\, dt = \\int\\limits_{0}^{\\infty} \\left(- \\frac{1}{\\left(-1 + e^{- i s z}\\right) \\left(s + 2 \\pi\\right)}\\right)\\, ds + \\int\\limits_{0}^{\\infty} \\left(- \\frac{1}{\\left(s + 2 \\pi\\right) \\left(e^{i s z} - 1\\right)}\\right)\\, ds$"
      ],
      "text/plain": [
       "Eq(Integral(-2*t/((t**2 + z**2)*(exp(2*pi*t) - 1)), (t, 0, oo)), Integral(-1/((-1 + exp(-I*s*z))*(s + 2*pi)), (s, 0, oo)) + Integral(-1/((s + 2*pi)*(exp(I*s*z) - 1)), (s, 0, oo)))"
      ]
     },
     "execution_count": 87,
     "metadata": {},
     "output_type": "execute_result"
    }
   ],
   "source": [
    "Eq(Integral(-2*t/(t**2+z**2)/(exp(2*pi*t)-1),(t,0,oo)),\n",
    "    Integral(-1/(exp(I*z*s)-1)/(s+2*pi),(s,0,oo)) +\n",
    "    Integral(-1/(exp(-I*z*s)-1)/(s+2*pi),(s,0,oo))\n",
    ")"
   ]
  },
  {
   "cell_type": "code",
   "execution_count": 88,
   "metadata": {},
   "outputs": [
    {
     "data": {
      "text/latex": [
       "$\\displaystyle 1$"
      ],
      "text/plain": [
       "1"
      ]
     },
     "execution_count": 88,
     "metadata": {},
     "output_type": "execute_result"
    }
   ],
   "source": [
    "(-1/(exp(I*z*s)-1)-1/(exp(-I*z*s)-1)).simplify()"
   ]
  },
  {
   "cell_type": "code",
   "execution_count": 96,
   "metadata": {},
   "outputs": [
    {
     "ename": "KeyboardInterrupt",
     "evalue": "",
     "output_type": "error",
     "traceback": [
      "\u001b[0;31m---------------------------------------------------------------------------\u001b[0m",
      "\u001b[0;31mKeyError\u001b[0m                                  Traceback (most recent call last)",
      "\u001b[0;32m~/.local/lib/python3.8/site-packages/sympy/core/assumptions.py\u001b[0m in \u001b[0;36mgetit\u001b[0;34m(self)\u001b[0m\n\u001b[1;32m    453\u001b[0m         \u001b[0;32mtry\u001b[0m\u001b[0;34m:\u001b[0m\u001b[0;34m\u001b[0m\u001b[0;34m\u001b[0m\u001b[0m\n\u001b[0;32m--> 454\u001b[0;31m             \u001b[0;32mreturn\u001b[0m \u001b[0mself\u001b[0m\u001b[0;34m.\u001b[0m\u001b[0m_assumptions\u001b[0m\u001b[0;34m[\u001b[0m\u001b[0mfact\u001b[0m\u001b[0;34m]\u001b[0m\u001b[0;34m\u001b[0m\u001b[0;34m\u001b[0m\u001b[0m\n\u001b[0m\u001b[1;32m    455\u001b[0m         \u001b[0;32mexcept\u001b[0m \u001b[0mKeyError\u001b[0m\u001b[0;34m:\u001b[0m\u001b[0;34m\u001b[0m\u001b[0;34m\u001b[0m\u001b[0m\n",
      "\u001b[0;31mKeyError\u001b[0m: 'positive'",
      "\nDuring handling of the above exception, another exception occurred:\n",
      "\u001b[0;31mKeyboardInterrupt\u001b[0m                         Traceback (most recent call last)",
      "\u001b[0;32m<ipython-input-96-f31d8184715d>\u001b[0m in \u001b[0;36m<module>\u001b[0;34m\u001b[0m\n\u001b[0;32m----> 1\u001b[0;31m Eq(-2*t/(t**2+z**2)/(exp(2*pi*t)-1),\n\u001b[0m\u001b[1;32m      2\u001b[0m     \u001b[0mIntegral\u001b[0m\u001b[0;34m(\u001b[0m\u001b[0mDerivative\u001b[0m\u001b[0;34m(\u001b[0m\u001b[0;36m1\u001b[0m\u001b[0;34m/\u001b[0m\u001b[0;34m(\u001b[0m\u001b[0mexp\u001b[0m\u001b[0;34m(\u001b[0m\u001b[0;36m2\u001b[0m\u001b[0;34m*\u001b[0m\u001b[0mpi\u001b[0m\u001b[0;34m*\u001b[0m\u001b[0mt\u001b[0m\u001b[0;34m+\u001b[0m\u001b[0;34m(\u001b[0m\u001b[0mt\u001b[0m\u001b[0;34m+\u001b[0m\u001b[0mI\u001b[0m\u001b[0;34m*\u001b[0m\u001b[0mz\u001b[0m\u001b[0;34m)\u001b[0m\u001b[0;34m*\u001b[0m\u001b[0ms\u001b[0m\u001b[0;34m)\u001b[0m\u001b[0;34m-\u001b[0m\u001b[0;36m1\u001b[0m\u001b[0;34m)\u001b[0m\u001b[0;34m/\u001b[0m\u001b[0;34m(\u001b[0m\u001b[0ms\u001b[0m\u001b[0;34m+\u001b[0m\u001b[0;36m2\u001b[0m\u001b[0;34m*\u001b[0m\u001b[0mpi\u001b[0m\u001b[0;34m)\u001b[0m\u001b[0;34m,\u001b[0m\u001b[0mt\u001b[0m\u001b[0;34m)\u001b[0m\u001b[0;34m,\u001b[0m\u001b[0;34m(\u001b[0m\u001b[0ms\u001b[0m\u001b[0;34m,\u001b[0m\u001b[0;36m0\u001b[0m\u001b[0;34m,\u001b[0m\u001b[0;36m1000\u001b[0m\u001b[0;34m)\u001b[0m\u001b[0;34m)\u001b[0m \u001b[0;34m+\u001b[0m\u001b[0;34m\u001b[0m\u001b[0;34m\u001b[0m\u001b[0m\n\u001b[1;32m      3\u001b[0m     \u001b[0mIntegral\u001b[0m\u001b[0;34m(\u001b[0m\u001b[0mDerivative\u001b[0m\u001b[0;34m(\u001b[0m\u001b[0;36m1\u001b[0m\u001b[0;34m/\u001b[0m\u001b[0;34m(\u001b[0m\u001b[0mexp\u001b[0m\u001b[0;34m(\u001b[0m\u001b[0;36m2\u001b[0m\u001b[0;34m*\u001b[0m\u001b[0mpi\u001b[0m\u001b[0;34m*\u001b[0m\u001b[0mt\u001b[0m\u001b[0;34m+\u001b[0m\u001b[0;34m(\u001b[0m\u001b[0mt\u001b[0m\u001b[0;34m-\u001b[0m\u001b[0mI\u001b[0m\u001b[0;34m*\u001b[0m\u001b[0mz\u001b[0m\u001b[0;34m)\u001b[0m\u001b[0;34m*\u001b[0m\u001b[0ms\u001b[0m\u001b[0;34m)\u001b[0m\u001b[0;34m-\u001b[0m\u001b[0;36m1\u001b[0m\u001b[0;34m)\u001b[0m\u001b[0;34m/\u001b[0m\u001b[0;34m(\u001b[0m\u001b[0ms\u001b[0m\u001b[0;34m+\u001b[0m\u001b[0;36m2\u001b[0m\u001b[0;34m*\u001b[0m\u001b[0mpi\u001b[0m\u001b[0;34m)\u001b[0m\u001b[0;34m,\u001b[0m\u001b[0mt\u001b[0m\u001b[0;34m)\u001b[0m\u001b[0;34m,\u001b[0m\u001b[0;34m(\u001b[0m\u001b[0ms\u001b[0m\u001b[0;34m,\u001b[0m\u001b[0;36m0\u001b[0m\u001b[0;34m,\u001b[0m\u001b[0;36m1000\u001b[0m\u001b[0;34m)\u001b[0m\u001b[0;34m)\u001b[0m\u001b[0;34m\u001b[0m\u001b[0;34m\u001b[0m\u001b[0m\n\u001b[1;32m      4\u001b[0m ).subs([(z,1+I*pi), (t,0.3)]).doit().evalf()\n",
      "\u001b[0;32m~/.local/lib/python3.8/site-packages/sympy/core/basic.py\u001b[0m in \u001b[0;36mdoit\u001b[0;34m(self, **hints)\u001b[0m\n\u001b[1;32m   1664\u001b[0m         \"\"\"\n\u001b[1;32m   1665\u001b[0m         \u001b[0;32mif\u001b[0m \u001b[0mhints\u001b[0m\u001b[0;34m.\u001b[0m\u001b[0mget\u001b[0m\u001b[0;34m(\u001b[0m\u001b[0;34m'deep'\u001b[0m\u001b[0;34m,\u001b[0m \u001b[0;32mTrue\u001b[0m\u001b[0;34m)\u001b[0m\u001b[0;34m:\u001b[0m\u001b[0;34m\u001b[0m\u001b[0;34m\u001b[0m\u001b[0m\n\u001b[0;32m-> 1666\u001b[0;31m             terms = [term.doit(**hints) if isinstance(term, Basic) else term\n\u001b[0m\u001b[1;32m   1667\u001b[0m                                          for term in self.args]\n\u001b[1;32m   1668\u001b[0m             \u001b[0;32mreturn\u001b[0m \u001b[0mself\u001b[0m\u001b[0;34m.\u001b[0m\u001b[0mfunc\u001b[0m\u001b[0;34m(\u001b[0m\u001b[0;34m*\u001b[0m\u001b[0mterms\u001b[0m\u001b[0;34m)\u001b[0m\u001b[0;34m\u001b[0m\u001b[0;34m\u001b[0m\u001b[0m\n",
      "\u001b[0;32m~/.local/lib/python3.8/site-packages/sympy/core/basic.py\u001b[0m in \u001b[0;36m<listcomp>\u001b[0;34m(.0)\u001b[0m\n\u001b[1;32m   1664\u001b[0m         \"\"\"\n\u001b[1;32m   1665\u001b[0m         \u001b[0;32mif\u001b[0m \u001b[0mhints\u001b[0m\u001b[0;34m.\u001b[0m\u001b[0mget\u001b[0m\u001b[0;34m(\u001b[0m\u001b[0;34m'deep'\u001b[0m\u001b[0;34m,\u001b[0m \u001b[0;32mTrue\u001b[0m\u001b[0;34m)\u001b[0m\u001b[0;34m:\u001b[0m\u001b[0;34m\u001b[0m\u001b[0;34m\u001b[0m\u001b[0m\n\u001b[0;32m-> 1666\u001b[0;31m             terms = [term.doit(**hints) if isinstance(term, Basic) else term\n\u001b[0m\u001b[1;32m   1667\u001b[0m                                          for term in self.args]\n\u001b[1;32m   1668\u001b[0m             \u001b[0;32mreturn\u001b[0m \u001b[0mself\u001b[0m\u001b[0;34m.\u001b[0m\u001b[0mfunc\u001b[0m\u001b[0;34m(\u001b[0m\u001b[0;34m*\u001b[0m\u001b[0mterms\u001b[0m\u001b[0;34m)\u001b[0m\u001b[0;34m\u001b[0m\u001b[0;34m\u001b[0m\u001b[0m\n",
      "\u001b[0;32m~/.local/lib/python3.8/site-packages/sympy/core/operations.py\u001b[0m in \u001b[0;36mdoit\u001b[0;34m(self, **hints)\u001b[0m\n\u001b[1;32m    430\u001b[0m     \u001b[0;32mdef\u001b[0m \u001b[0mdoit\u001b[0m\u001b[0;34m(\u001b[0m\u001b[0mself\u001b[0m\u001b[0;34m,\u001b[0m \u001b[0;34m**\u001b[0m\u001b[0mhints\u001b[0m\u001b[0;34m)\u001b[0m\u001b[0;34m:\u001b[0m\u001b[0;34m\u001b[0m\u001b[0;34m\u001b[0m\u001b[0m\n\u001b[1;32m    431\u001b[0m         \u001b[0;32mif\u001b[0m \u001b[0mhints\u001b[0m\u001b[0;34m.\u001b[0m\u001b[0mget\u001b[0m\u001b[0;34m(\u001b[0m\u001b[0;34m'deep'\u001b[0m\u001b[0;34m,\u001b[0m \u001b[0;32mTrue\u001b[0m\u001b[0;34m)\u001b[0m\u001b[0;34m:\u001b[0m\u001b[0;34m\u001b[0m\u001b[0;34m\u001b[0m\u001b[0m\n\u001b[0;32m--> 432\u001b[0;31m             \u001b[0mterms\u001b[0m \u001b[0;34m=\u001b[0m \u001b[0;34m[\u001b[0m\u001b[0mterm\u001b[0m\u001b[0;34m.\u001b[0m\u001b[0mdoit\u001b[0m\u001b[0;34m(\u001b[0m\u001b[0;34m**\u001b[0m\u001b[0mhints\u001b[0m\u001b[0;34m)\u001b[0m \u001b[0;32mfor\u001b[0m \u001b[0mterm\u001b[0m \u001b[0;32min\u001b[0m \u001b[0mself\u001b[0m\u001b[0;34m.\u001b[0m\u001b[0margs\u001b[0m\u001b[0;34m]\u001b[0m\u001b[0;34m\u001b[0m\u001b[0;34m\u001b[0m\u001b[0m\n\u001b[0m\u001b[1;32m    433\u001b[0m         \u001b[0;32melse\u001b[0m\u001b[0;34m:\u001b[0m\u001b[0;34m\u001b[0m\u001b[0;34m\u001b[0m\u001b[0m\n\u001b[1;32m    434\u001b[0m             \u001b[0mterms\u001b[0m \u001b[0;34m=\u001b[0m \u001b[0mself\u001b[0m\u001b[0;34m.\u001b[0m\u001b[0margs\u001b[0m\u001b[0;34m\u001b[0m\u001b[0;34m\u001b[0m\u001b[0m\n",
      "\u001b[0;32m~/.local/lib/python3.8/site-packages/sympy/core/operations.py\u001b[0m in \u001b[0;36m<listcomp>\u001b[0;34m(.0)\u001b[0m\n\u001b[1;32m    430\u001b[0m     \u001b[0;32mdef\u001b[0m \u001b[0mdoit\u001b[0m\u001b[0;34m(\u001b[0m\u001b[0mself\u001b[0m\u001b[0;34m,\u001b[0m \u001b[0;34m**\u001b[0m\u001b[0mhints\u001b[0m\u001b[0;34m)\u001b[0m\u001b[0;34m:\u001b[0m\u001b[0;34m\u001b[0m\u001b[0;34m\u001b[0m\u001b[0m\n\u001b[1;32m    431\u001b[0m         \u001b[0;32mif\u001b[0m \u001b[0mhints\u001b[0m\u001b[0;34m.\u001b[0m\u001b[0mget\u001b[0m\u001b[0;34m(\u001b[0m\u001b[0;34m'deep'\u001b[0m\u001b[0;34m,\u001b[0m \u001b[0;32mTrue\u001b[0m\u001b[0;34m)\u001b[0m\u001b[0;34m:\u001b[0m\u001b[0;34m\u001b[0m\u001b[0;34m\u001b[0m\u001b[0m\n\u001b[0;32m--> 432\u001b[0;31m             \u001b[0mterms\u001b[0m \u001b[0;34m=\u001b[0m \u001b[0;34m[\u001b[0m\u001b[0mterm\u001b[0m\u001b[0;34m.\u001b[0m\u001b[0mdoit\u001b[0m\u001b[0;34m(\u001b[0m\u001b[0;34m**\u001b[0m\u001b[0mhints\u001b[0m\u001b[0;34m)\u001b[0m \u001b[0;32mfor\u001b[0m \u001b[0mterm\u001b[0m \u001b[0;32min\u001b[0m \u001b[0mself\u001b[0m\u001b[0;34m.\u001b[0m\u001b[0margs\u001b[0m\u001b[0;34m]\u001b[0m\u001b[0;34m\u001b[0m\u001b[0;34m\u001b[0m\u001b[0m\n\u001b[0m\u001b[1;32m    433\u001b[0m         \u001b[0;32melse\u001b[0m\u001b[0;34m:\u001b[0m\u001b[0;34m\u001b[0m\u001b[0;34m\u001b[0m\u001b[0m\n\u001b[1;32m    434\u001b[0m             \u001b[0mterms\u001b[0m \u001b[0;34m=\u001b[0m \u001b[0mself\u001b[0m\u001b[0;34m.\u001b[0m\u001b[0margs\u001b[0m\u001b[0;34m\u001b[0m\u001b[0;34m\u001b[0m\u001b[0m\n",
      "\u001b[0;32m~/.local/lib/python3.8/site-packages/sympy/integrals/integrals.py\u001b[0m in \u001b[0;36mdoit\u001b[0;34m(self, **hints)\u001b[0m\n\u001b[1;32m    484\u001b[0m         \u001b[0;32mif\u001b[0m \u001b[0mreps\u001b[0m\u001b[0;34m:\u001b[0m\u001b[0;34m\u001b[0m\u001b[0;34m\u001b[0m\u001b[0m\n\u001b[1;32m    485\u001b[0m             \u001b[0mundo\u001b[0m \u001b[0;34m=\u001b[0m \u001b[0;34m{\u001b[0m\u001b[0mv\u001b[0m\u001b[0;34m:\u001b[0m \u001b[0mk\u001b[0m \u001b[0;32mfor\u001b[0m \u001b[0mk\u001b[0m\u001b[0;34m,\u001b[0m \u001b[0mv\u001b[0m \u001b[0;32min\u001b[0m \u001b[0mreps\u001b[0m\u001b[0;34m.\u001b[0m\u001b[0mitems\u001b[0m\u001b[0;34m(\u001b[0m\u001b[0;34m)\u001b[0m\u001b[0;34m}\u001b[0m\u001b[0;34m\u001b[0m\u001b[0;34m\u001b[0m\u001b[0m\n\u001b[0;32m--> 486\u001b[0;31m             \u001b[0mdid\u001b[0m \u001b[0;34m=\u001b[0m \u001b[0mself\u001b[0m\u001b[0;34m.\u001b[0m\u001b[0mxreplace\u001b[0m\u001b[0;34m(\u001b[0m\u001b[0mreps\u001b[0m\u001b[0;34m)\u001b[0m\u001b[0;34m.\u001b[0m\u001b[0mdoit\u001b[0m\u001b[0;34m(\u001b[0m\u001b[0;34m**\u001b[0m\u001b[0mhints\u001b[0m\u001b[0;34m)\u001b[0m\u001b[0;34m\u001b[0m\u001b[0;34m\u001b[0m\u001b[0m\n\u001b[0m\u001b[1;32m    487\u001b[0m             \u001b[0;32mif\u001b[0m \u001b[0mtype\u001b[0m\u001b[0;34m(\u001b[0m\u001b[0mdid\u001b[0m\u001b[0;34m)\u001b[0m \u001b[0;32mis\u001b[0m \u001b[0mtuple\u001b[0m\u001b[0;34m:\u001b[0m  \u001b[0;31m# when separate=True\u001b[0m\u001b[0;34m\u001b[0m\u001b[0;34m\u001b[0m\u001b[0m\n\u001b[1;32m    488\u001b[0m                 \u001b[0mdid\u001b[0m \u001b[0;34m=\u001b[0m \u001b[0mtuple\u001b[0m\u001b[0;34m(\u001b[0m\u001b[0;34m[\u001b[0m\u001b[0mi\u001b[0m\u001b[0;34m.\u001b[0m\u001b[0mxreplace\u001b[0m\u001b[0;34m(\u001b[0m\u001b[0mundo\u001b[0m\u001b[0;34m)\u001b[0m \u001b[0;32mfor\u001b[0m \u001b[0mi\u001b[0m \u001b[0;32min\u001b[0m \u001b[0mdid\u001b[0m\u001b[0;34m]\u001b[0m\u001b[0;34m)\u001b[0m\u001b[0;34m\u001b[0m\u001b[0;34m\u001b[0m\u001b[0m\n",
      "\u001b[0;32m~/.local/lib/python3.8/site-packages/sympy/integrals/integrals.py\u001b[0m in \u001b[0;36mdoit\u001b[0;34m(self, **hints)\u001b[0m\n\u001b[1;32m    595\u001b[0m                     \u001b[0mantideriv\u001b[0m \u001b[0;34m=\u001b[0m \u001b[0;32mNone\u001b[0m\u001b[0;34m\u001b[0m\u001b[0;34m\u001b[0m\u001b[0m\n\u001b[1;32m    596\u001b[0m                 \u001b[0;32melse\u001b[0m\u001b[0;34m:\u001b[0m\u001b[0;34m\u001b[0m\u001b[0;34m\u001b[0m\u001b[0m\n\u001b[0;32m--> 597\u001b[0;31m                     antideriv = self._eval_integral(\n\u001b[0m\u001b[1;32m    598\u001b[0m                         function, xab[0], **eval_kwargs)\n\u001b[1;32m    599\u001b[0m                     \u001b[0;32mif\u001b[0m \u001b[0mantideriv\u001b[0m \u001b[0;32mis\u001b[0m \u001b[0;32mNone\u001b[0m \u001b[0;32mand\u001b[0m \u001b[0mmeijerg\u001b[0m \u001b[0;32mis\u001b[0m \u001b[0;32mTrue\u001b[0m\u001b[0;34m:\u001b[0m\u001b[0;34m\u001b[0m\u001b[0;34m\u001b[0m\u001b[0m\n",
      "\u001b[0;32m~/.local/lib/python3.8/site-packages/sympy/integrals/integrals.py\u001b[0m in \u001b[0;36m_eval_integral\u001b[0;34m(self, f, x, meijerg, risch, manual, heurisch, conds)\u001b[0m\n\u001b[1;32m   1089\u001b[0m             \u001b[0;32mif\u001b[0m \u001b[0mh\u001b[0m \u001b[0;32mis\u001b[0m \u001b[0;32mNone\u001b[0m \u001b[0;32mand\u001b[0m \u001b[0mmanual\u001b[0m \u001b[0;32mis\u001b[0m \u001b[0;32mnot\u001b[0m \u001b[0;32mFalse\u001b[0m\u001b[0;34m:\u001b[0m\u001b[0;34m\u001b[0m\u001b[0;34m\u001b[0m\u001b[0m\n\u001b[1;32m   1090\u001b[0m                 \u001b[0;32mtry\u001b[0m\u001b[0;34m:\u001b[0m\u001b[0;34m\u001b[0m\u001b[0;34m\u001b[0m\u001b[0m\n\u001b[0;32m-> 1091\u001b[0;31m                     \u001b[0mresult\u001b[0m \u001b[0;34m=\u001b[0m \u001b[0mmanualintegrate\u001b[0m\u001b[0;34m(\u001b[0m\u001b[0mg\u001b[0m\u001b[0;34m,\u001b[0m \u001b[0mx\u001b[0m\u001b[0;34m)\u001b[0m\u001b[0;34m\u001b[0m\u001b[0;34m\u001b[0m\u001b[0m\n\u001b[0m\u001b[1;32m   1092\u001b[0m                     \u001b[0;32mif\u001b[0m \u001b[0mresult\u001b[0m \u001b[0;32mis\u001b[0m \u001b[0;32mnot\u001b[0m \u001b[0;32mNone\u001b[0m \u001b[0;32mand\u001b[0m \u001b[0;32mnot\u001b[0m \u001b[0misinstance\u001b[0m\u001b[0;34m(\u001b[0m\u001b[0mresult\u001b[0m\u001b[0;34m,\u001b[0m \u001b[0mIntegral\u001b[0m\u001b[0;34m)\u001b[0m\u001b[0;34m:\u001b[0m\u001b[0;34m\u001b[0m\u001b[0;34m\u001b[0m\u001b[0m\n\u001b[1;32m   1093\u001b[0m                         \u001b[0;32mif\u001b[0m \u001b[0mresult\u001b[0m\u001b[0;34m.\u001b[0m\u001b[0mhas\u001b[0m\u001b[0;34m(\u001b[0m\u001b[0mIntegral\u001b[0m\u001b[0;34m)\u001b[0m \u001b[0;32mand\u001b[0m \u001b[0;32mnot\u001b[0m \u001b[0mmanual\u001b[0m\u001b[0;34m:\u001b[0m\u001b[0;34m\u001b[0m\u001b[0;34m\u001b[0m\u001b[0m\n",
      "\u001b[0;32m~/.local/lib/python3.8/site-packages/sympy/integrals/manualintegrate.py\u001b[0m in \u001b[0;36mmanualintegrate\u001b[0;34m(f, var)\u001b[0m\n\u001b[1;32m   1660\u001b[0m     \u001b[0msympy\u001b[0m\u001b[0;34m.\u001b[0m\u001b[0mintegrals\u001b[0m\u001b[0;34m.\u001b[0m\u001b[0mintegrals\u001b[0m\u001b[0;34m.\u001b[0m\u001b[0mIntegral\u001b[0m\u001b[0;34m\u001b[0m\u001b[0;34m\u001b[0m\u001b[0m\n\u001b[1;32m   1661\u001b[0m     \"\"\"\n\u001b[0;32m-> 1662\u001b[0;31m     \u001b[0mresult\u001b[0m \u001b[0;34m=\u001b[0m \u001b[0m_manualintegrate\u001b[0m\u001b[0;34m(\u001b[0m\u001b[0mintegral_steps\u001b[0m\u001b[0;34m(\u001b[0m\u001b[0mf\u001b[0m\u001b[0;34m,\u001b[0m \u001b[0mvar\u001b[0m\u001b[0;34m)\u001b[0m\u001b[0;34m)\u001b[0m\u001b[0;34m\u001b[0m\u001b[0;34m\u001b[0m\u001b[0m\n\u001b[0m\u001b[1;32m   1663\u001b[0m     \u001b[0;31m# Clear the cache of u-parts\u001b[0m\u001b[0;34m\u001b[0m\u001b[0;34m\u001b[0m\u001b[0;34m\u001b[0m\u001b[0m\n\u001b[1;32m   1664\u001b[0m     \u001b[0m_parts_u_cache\u001b[0m\u001b[0;34m.\u001b[0m\u001b[0mclear\u001b[0m\u001b[0;34m(\u001b[0m\u001b[0;34m)\u001b[0m\u001b[0;34m\u001b[0m\u001b[0;34m\u001b[0m\u001b[0m\n",
      "\u001b[0;32m~/.local/lib/python3.8/site-packages/sympy/integrals/manualintegrate.py\u001b[0m in \u001b[0;36mintegral_steps\u001b[0;34m(integrand, symbol, **options)\u001b[0m\n\u001b[1;32m   1292\u001b[0m         \u001b[0;32mreturn\u001b[0m \u001b[0m_integral_is_subclass\u001b[0m\u001b[0;34m\u001b[0m\u001b[0;34m\u001b[0m\u001b[0m\n\u001b[1;32m   1293\u001b[0m \u001b[0;34m\u001b[0m\u001b[0m\n\u001b[0;32m-> 1294\u001b[0;31m     result = do_one(\n\u001b[0m\u001b[1;32m   1295\u001b[0m         \u001b[0mnull_safe\u001b[0m\u001b[0;34m(\u001b[0m\u001b[0mspecial_function_rule\u001b[0m\u001b[0;34m)\u001b[0m\u001b[0;34m,\u001b[0m\u001b[0;34m\u001b[0m\u001b[0;34m\u001b[0m\u001b[0m\n\u001b[1;32m   1296\u001b[0m         null_safe(switch(key, {\n",
      "\u001b[0;32m~/.local/lib/python3.8/site-packages/sympy/strategies/core.py\u001b[0m in \u001b[0;36mdo_one_rl\u001b[0;34m(expr)\u001b[0m\n\u001b[1;32m     80\u001b[0m     \u001b[0;32mdef\u001b[0m \u001b[0mdo_one_rl\u001b[0m\u001b[0;34m(\u001b[0m\u001b[0mexpr\u001b[0m\u001b[0;34m)\u001b[0m\u001b[0;34m:\u001b[0m\u001b[0;34m\u001b[0m\u001b[0;34m\u001b[0m\u001b[0m\n\u001b[1;32m     81\u001b[0m         \u001b[0;32mfor\u001b[0m \u001b[0mrl\u001b[0m \u001b[0;32min\u001b[0m \u001b[0mrules\u001b[0m\u001b[0;34m:\u001b[0m\u001b[0;34m\u001b[0m\u001b[0;34m\u001b[0m\u001b[0m\n\u001b[0;32m---> 82\u001b[0;31m             \u001b[0mresult\u001b[0m \u001b[0;34m=\u001b[0m \u001b[0mrl\u001b[0m\u001b[0;34m(\u001b[0m\u001b[0mexpr\u001b[0m\u001b[0;34m)\u001b[0m\u001b[0;34m\u001b[0m\u001b[0;34m\u001b[0m\u001b[0m\n\u001b[0m\u001b[1;32m     83\u001b[0m             \u001b[0;32mif\u001b[0m \u001b[0mresult\u001b[0m \u001b[0;34m!=\u001b[0m \u001b[0mexpr\u001b[0m\u001b[0;34m:\u001b[0m\u001b[0;34m\u001b[0m\u001b[0;34m\u001b[0m\u001b[0m\n\u001b[1;32m     84\u001b[0m                 \u001b[0;32mreturn\u001b[0m \u001b[0mresult\u001b[0m\u001b[0;34m\u001b[0m\u001b[0;34m\u001b[0m\u001b[0m\n",
      "\u001b[0;32m~/.local/lib/python3.8/site-packages/sympy/strategies/core.py\u001b[0m in \u001b[0;36mdo_one_rl\u001b[0;34m(expr)\u001b[0m\n\u001b[1;32m     80\u001b[0m     \u001b[0;32mdef\u001b[0m \u001b[0mdo_one_rl\u001b[0m\u001b[0;34m(\u001b[0m\u001b[0mexpr\u001b[0m\u001b[0;34m)\u001b[0m\u001b[0;34m:\u001b[0m\u001b[0;34m\u001b[0m\u001b[0;34m\u001b[0m\u001b[0m\n\u001b[1;32m     81\u001b[0m         \u001b[0;32mfor\u001b[0m \u001b[0mrl\u001b[0m \u001b[0;32min\u001b[0m \u001b[0mrules\u001b[0m\u001b[0;34m:\u001b[0m\u001b[0;34m\u001b[0m\u001b[0;34m\u001b[0m\u001b[0m\n\u001b[0;32m---> 82\u001b[0;31m             \u001b[0mresult\u001b[0m \u001b[0;34m=\u001b[0m \u001b[0mrl\u001b[0m\u001b[0;34m(\u001b[0m\u001b[0mexpr\u001b[0m\u001b[0;34m)\u001b[0m\u001b[0;34m\u001b[0m\u001b[0;34m\u001b[0m\u001b[0m\n\u001b[0m\u001b[1;32m     83\u001b[0m             \u001b[0;32mif\u001b[0m \u001b[0mresult\u001b[0m \u001b[0;34m!=\u001b[0m \u001b[0mexpr\u001b[0m\u001b[0;34m:\u001b[0m\u001b[0;34m\u001b[0m\u001b[0;34m\u001b[0m\u001b[0m\n\u001b[1;32m     84\u001b[0m                 \u001b[0;32mreturn\u001b[0m \u001b[0mresult\u001b[0m\u001b[0;34m\u001b[0m\u001b[0;34m\u001b[0m\u001b[0m\n",
      "\u001b[0;32m~/.local/lib/python3.8/site-packages/sympy/strategies/core.py\u001b[0m in \u001b[0;36mnull_safe_rl\u001b[0;34m(expr)\u001b[0m\n\u001b[1;32m     60\u001b[0m     \u001b[0;34m\"\"\" Return original expr if rule returns None \"\"\"\u001b[0m\u001b[0;34m\u001b[0m\u001b[0;34m\u001b[0m\u001b[0m\n\u001b[1;32m     61\u001b[0m     \u001b[0;32mdef\u001b[0m \u001b[0mnull_safe_rl\u001b[0m\u001b[0;34m(\u001b[0m\u001b[0mexpr\u001b[0m\u001b[0;34m)\u001b[0m\u001b[0;34m:\u001b[0m\u001b[0;34m\u001b[0m\u001b[0;34m\u001b[0m\u001b[0m\n\u001b[0;32m---> 62\u001b[0;31m         \u001b[0mresult\u001b[0m \u001b[0;34m=\u001b[0m \u001b[0mrule\u001b[0m\u001b[0;34m(\u001b[0m\u001b[0mexpr\u001b[0m\u001b[0;34m)\u001b[0m\u001b[0;34m\u001b[0m\u001b[0;34m\u001b[0m\u001b[0m\n\u001b[0m\u001b[1;32m     63\u001b[0m         \u001b[0;32mif\u001b[0m \u001b[0mresult\u001b[0m \u001b[0;32mis\u001b[0m \u001b[0;32mNone\u001b[0m\u001b[0;34m:\u001b[0m\u001b[0;34m\u001b[0m\u001b[0;34m\u001b[0m\u001b[0m\n\u001b[1;32m     64\u001b[0m             \u001b[0;32mreturn\u001b[0m \u001b[0mexpr\u001b[0m\u001b[0;34m\u001b[0m\u001b[0;34m\u001b[0m\u001b[0m\n",
      "\u001b[0;32m~/.local/lib/python3.8/site-packages/sympy/integrals/manualintegrate.py\u001b[0m in \u001b[0;36m_alternatives\u001b[0;34m(integral)\u001b[0m\n\u001b[1;32m    320\u001b[0m             \u001b[0mdebug\u001b[0m\u001b[0;34m(\u001b[0m\u001b[0;34m\"Rule {}: {}\"\u001b[0m\u001b[0;34m.\u001b[0m\u001b[0mformat\u001b[0m\u001b[0;34m(\u001b[0m\u001b[0mcount\u001b[0m\u001b[0;34m,\u001b[0m \u001b[0mrule\u001b[0m\u001b[0;34m)\u001b[0m\u001b[0;34m)\u001b[0m\u001b[0;34m\u001b[0m\u001b[0;34m\u001b[0m\u001b[0m\n\u001b[1;32m    321\u001b[0m \u001b[0;34m\u001b[0m\u001b[0m\n\u001b[0;32m--> 322\u001b[0;31m             \u001b[0mresult\u001b[0m \u001b[0;34m=\u001b[0m \u001b[0mrule\u001b[0m\u001b[0;34m(\u001b[0m\u001b[0mintegral\u001b[0m\u001b[0;34m)\u001b[0m\u001b[0;34m\u001b[0m\u001b[0;34m\u001b[0m\u001b[0m\n\u001b[0m\u001b[1;32m    323\u001b[0m             if (result and not isinstance(result, DontKnowRule) and\n\u001b[1;32m    324\u001b[0m                 result != integral and result not in alts):\n",
      "\u001b[0;32m~/.local/lib/python3.8/site-packages/sympy/integrals/manualintegrate.py\u001b[0m in \u001b[0;36msubstitution_rule\u001b[0;34m(integral)\u001b[0m\n\u001b[1;32m   1097\u001b[0m         \u001b[0mways\u001b[0m \u001b[0;34m=\u001b[0m \u001b[0;34m[\u001b[0m\u001b[0;34m]\u001b[0m\u001b[0;34m\u001b[0m\u001b[0;34m\u001b[0m\u001b[0m\n\u001b[1;32m   1098\u001b[0m         \u001b[0;32mfor\u001b[0m \u001b[0mu_func\u001b[0m\u001b[0;34m,\u001b[0m \u001b[0mc\u001b[0m\u001b[0;34m,\u001b[0m \u001b[0msubstituted\u001b[0m \u001b[0;32min\u001b[0m \u001b[0msubstitutions\u001b[0m\u001b[0;34m:\u001b[0m\u001b[0;34m\u001b[0m\u001b[0;34m\u001b[0m\u001b[0m\n\u001b[0;32m-> 1099\u001b[0;31m             \u001b[0msubrule\u001b[0m \u001b[0;34m=\u001b[0m \u001b[0mintegral_steps\u001b[0m\u001b[0;34m(\u001b[0m\u001b[0msubstituted\u001b[0m\u001b[0;34m,\u001b[0m \u001b[0mu_var\u001b[0m\u001b[0;34m)\u001b[0m\u001b[0;34m\u001b[0m\u001b[0;34m\u001b[0m\u001b[0m\n\u001b[0m\u001b[1;32m   1100\u001b[0m             \u001b[0mcount\u001b[0m \u001b[0;34m=\u001b[0m \u001b[0mcount\u001b[0m \u001b[0;34m+\u001b[0m \u001b[0;36m1\u001b[0m\u001b[0;34m\u001b[0m\u001b[0;34m\u001b[0m\u001b[0m\n\u001b[1;32m   1101\u001b[0m             \u001b[0mdebug\u001b[0m\u001b[0;34m(\u001b[0m\u001b[0;34m\"Rule {}: {}\"\u001b[0m\u001b[0;34m.\u001b[0m\u001b[0mformat\u001b[0m\u001b[0;34m(\u001b[0m\u001b[0mcount\u001b[0m\u001b[0;34m,\u001b[0m \u001b[0msubrule\u001b[0m\u001b[0;34m)\u001b[0m\u001b[0;34m)\u001b[0m\u001b[0;34m\u001b[0m\u001b[0;34m\u001b[0m\u001b[0m\n",
      "\u001b[0;32m~/.local/lib/python3.8/site-packages/sympy/integrals/manualintegrate.py\u001b[0m in \u001b[0;36mintegral_steps\u001b[0;34m(integrand, symbol, **options)\u001b[0m\n\u001b[1;32m   1292\u001b[0m         \u001b[0;32mreturn\u001b[0m \u001b[0m_integral_is_subclass\u001b[0m\u001b[0;34m\u001b[0m\u001b[0;34m\u001b[0m\u001b[0m\n\u001b[1;32m   1293\u001b[0m \u001b[0;34m\u001b[0m\u001b[0m\n\u001b[0;32m-> 1294\u001b[0;31m     result = do_one(\n\u001b[0m\u001b[1;32m   1295\u001b[0m         \u001b[0mnull_safe\u001b[0m\u001b[0;34m(\u001b[0m\u001b[0mspecial_function_rule\u001b[0m\u001b[0;34m)\u001b[0m\u001b[0;34m,\u001b[0m\u001b[0;34m\u001b[0m\u001b[0;34m\u001b[0m\u001b[0m\n\u001b[1;32m   1296\u001b[0m         null_safe(switch(key, {\n",
      "\u001b[0;32m~/.local/lib/python3.8/site-packages/sympy/strategies/core.py\u001b[0m in \u001b[0;36mdo_one_rl\u001b[0;34m(expr)\u001b[0m\n\u001b[1;32m     80\u001b[0m     \u001b[0;32mdef\u001b[0m \u001b[0mdo_one_rl\u001b[0m\u001b[0;34m(\u001b[0m\u001b[0mexpr\u001b[0m\u001b[0;34m)\u001b[0m\u001b[0;34m:\u001b[0m\u001b[0;34m\u001b[0m\u001b[0;34m\u001b[0m\u001b[0m\n\u001b[1;32m     81\u001b[0m         \u001b[0;32mfor\u001b[0m \u001b[0mrl\u001b[0m \u001b[0;32min\u001b[0m \u001b[0mrules\u001b[0m\u001b[0;34m:\u001b[0m\u001b[0;34m\u001b[0m\u001b[0;34m\u001b[0m\u001b[0m\n\u001b[0;32m---> 82\u001b[0;31m             \u001b[0mresult\u001b[0m \u001b[0;34m=\u001b[0m \u001b[0mrl\u001b[0m\u001b[0;34m(\u001b[0m\u001b[0mexpr\u001b[0m\u001b[0;34m)\u001b[0m\u001b[0;34m\u001b[0m\u001b[0;34m\u001b[0m\u001b[0m\n\u001b[0m\u001b[1;32m     83\u001b[0m             \u001b[0;32mif\u001b[0m \u001b[0mresult\u001b[0m \u001b[0;34m!=\u001b[0m \u001b[0mexpr\u001b[0m\u001b[0;34m:\u001b[0m\u001b[0;34m\u001b[0m\u001b[0;34m\u001b[0m\u001b[0m\n\u001b[1;32m     84\u001b[0m                 \u001b[0;32mreturn\u001b[0m \u001b[0mresult\u001b[0m\u001b[0;34m\u001b[0m\u001b[0;34m\u001b[0m\u001b[0m\n",
      "\u001b[0;32m~/.local/lib/python3.8/site-packages/sympy/strategies/core.py\u001b[0m in \u001b[0;36mdo_one_rl\u001b[0;34m(expr)\u001b[0m\n\u001b[1;32m     80\u001b[0m     \u001b[0;32mdef\u001b[0m \u001b[0mdo_one_rl\u001b[0m\u001b[0;34m(\u001b[0m\u001b[0mexpr\u001b[0m\u001b[0;34m)\u001b[0m\u001b[0;34m:\u001b[0m\u001b[0;34m\u001b[0m\u001b[0;34m\u001b[0m\u001b[0m\n\u001b[1;32m     81\u001b[0m         \u001b[0;32mfor\u001b[0m \u001b[0mrl\u001b[0m \u001b[0;32min\u001b[0m \u001b[0mrules\u001b[0m\u001b[0;34m:\u001b[0m\u001b[0;34m\u001b[0m\u001b[0;34m\u001b[0m\u001b[0m\n\u001b[0;32m---> 82\u001b[0;31m             \u001b[0mresult\u001b[0m \u001b[0;34m=\u001b[0m \u001b[0mrl\u001b[0m\u001b[0;34m(\u001b[0m\u001b[0mexpr\u001b[0m\u001b[0;34m)\u001b[0m\u001b[0;34m\u001b[0m\u001b[0;34m\u001b[0m\u001b[0m\n\u001b[0m\u001b[1;32m     83\u001b[0m             \u001b[0;32mif\u001b[0m \u001b[0mresult\u001b[0m \u001b[0;34m!=\u001b[0m \u001b[0mexpr\u001b[0m\u001b[0;34m:\u001b[0m\u001b[0;34m\u001b[0m\u001b[0;34m\u001b[0m\u001b[0m\n\u001b[1;32m     84\u001b[0m                 \u001b[0;32mreturn\u001b[0m \u001b[0mresult\u001b[0m\u001b[0;34m\u001b[0m\u001b[0;34m\u001b[0m\u001b[0m\n",
      "\u001b[0;32m~/.local/lib/python3.8/site-packages/sympy/strategies/core.py\u001b[0m in \u001b[0;36mnull_safe_rl\u001b[0;34m(expr)\u001b[0m\n\u001b[1;32m     60\u001b[0m     \u001b[0;34m\"\"\" Return original expr if rule returns None \"\"\"\u001b[0m\u001b[0;34m\u001b[0m\u001b[0;34m\u001b[0m\u001b[0m\n\u001b[1;32m     61\u001b[0m     \u001b[0;32mdef\u001b[0m \u001b[0mnull_safe_rl\u001b[0m\u001b[0;34m(\u001b[0m\u001b[0mexpr\u001b[0m\u001b[0;34m)\u001b[0m\u001b[0;34m:\u001b[0m\u001b[0;34m\u001b[0m\u001b[0;34m\u001b[0m\u001b[0m\n\u001b[0;32m---> 62\u001b[0;31m         \u001b[0mresult\u001b[0m \u001b[0;34m=\u001b[0m \u001b[0mrule\u001b[0m\u001b[0;34m(\u001b[0m\u001b[0mexpr\u001b[0m\u001b[0;34m)\u001b[0m\u001b[0;34m\u001b[0m\u001b[0;34m\u001b[0m\u001b[0m\n\u001b[0m\u001b[1;32m     63\u001b[0m         \u001b[0;32mif\u001b[0m \u001b[0mresult\u001b[0m \u001b[0;32mis\u001b[0m \u001b[0;32mNone\u001b[0m\u001b[0;34m:\u001b[0m\u001b[0;34m\u001b[0m\u001b[0;34m\u001b[0m\u001b[0m\n\u001b[1;32m     64\u001b[0m             \u001b[0;32mreturn\u001b[0m \u001b[0mexpr\u001b[0m\u001b[0;34m\u001b[0m\u001b[0;34m\u001b[0m\u001b[0m\n",
      "\u001b[0;32m~/.local/lib/python3.8/site-packages/sympy/integrals/manualintegrate.py\u001b[0m in \u001b[0;36m_alternatives\u001b[0;34m(integral)\u001b[0m\n\u001b[1;32m    320\u001b[0m             \u001b[0mdebug\u001b[0m\u001b[0;34m(\u001b[0m\u001b[0;34m\"Rule {}: {}\"\u001b[0m\u001b[0;34m.\u001b[0m\u001b[0mformat\u001b[0m\u001b[0;34m(\u001b[0m\u001b[0mcount\u001b[0m\u001b[0;34m,\u001b[0m \u001b[0mrule\u001b[0m\u001b[0;34m)\u001b[0m\u001b[0;34m)\u001b[0m\u001b[0;34m\u001b[0m\u001b[0;34m\u001b[0m\u001b[0m\n\u001b[1;32m    321\u001b[0m \u001b[0;34m\u001b[0m\u001b[0m\n\u001b[0;32m--> 322\u001b[0;31m             \u001b[0mresult\u001b[0m \u001b[0;34m=\u001b[0m \u001b[0mrule\u001b[0m\u001b[0;34m(\u001b[0m\u001b[0mintegral\u001b[0m\u001b[0;34m)\u001b[0m\u001b[0;34m\u001b[0m\u001b[0;34m\u001b[0m\u001b[0m\n\u001b[0m\u001b[1;32m    323\u001b[0m             if (result and not isinstance(result, DontKnowRule) and\n\u001b[1;32m    324\u001b[0m                 result != integral and result not in alts):\n",
      "\u001b[0;32m~/.local/lib/python3.8/site-packages/sympy/integrals/manualintegrate.py\u001b[0m in \u001b[0;36msubstitution_rule\u001b[0;34m(integral)\u001b[0m\n\u001b[1;32m   1097\u001b[0m         \u001b[0mways\u001b[0m \u001b[0;34m=\u001b[0m \u001b[0;34m[\u001b[0m\u001b[0;34m]\u001b[0m\u001b[0;34m\u001b[0m\u001b[0;34m\u001b[0m\u001b[0m\n\u001b[1;32m   1098\u001b[0m         \u001b[0;32mfor\u001b[0m \u001b[0mu_func\u001b[0m\u001b[0;34m,\u001b[0m \u001b[0mc\u001b[0m\u001b[0;34m,\u001b[0m \u001b[0msubstituted\u001b[0m \u001b[0;32min\u001b[0m \u001b[0msubstitutions\u001b[0m\u001b[0;34m:\u001b[0m\u001b[0;34m\u001b[0m\u001b[0;34m\u001b[0m\u001b[0m\n\u001b[0;32m-> 1099\u001b[0;31m             \u001b[0msubrule\u001b[0m \u001b[0;34m=\u001b[0m \u001b[0mintegral_steps\u001b[0m\u001b[0;34m(\u001b[0m\u001b[0msubstituted\u001b[0m\u001b[0;34m,\u001b[0m \u001b[0mu_var\u001b[0m\u001b[0;34m)\u001b[0m\u001b[0;34m\u001b[0m\u001b[0;34m\u001b[0m\u001b[0m\n\u001b[0m\u001b[1;32m   1100\u001b[0m             \u001b[0mcount\u001b[0m \u001b[0;34m=\u001b[0m \u001b[0mcount\u001b[0m \u001b[0;34m+\u001b[0m \u001b[0;36m1\u001b[0m\u001b[0;34m\u001b[0m\u001b[0;34m\u001b[0m\u001b[0m\n\u001b[1;32m   1101\u001b[0m             \u001b[0mdebug\u001b[0m\u001b[0;34m(\u001b[0m\u001b[0;34m\"Rule {}: {}\"\u001b[0m\u001b[0;34m.\u001b[0m\u001b[0mformat\u001b[0m\u001b[0;34m(\u001b[0m\u001b[0mcount\u001b[0m\u001b[0;34m,\u001b[0m \u001b[0msubrule\u001b[0m\u001b[0;34m)\u001b[0m\u001b[0;34m)\u001b[0m\u001b[0;34m\u001b[0m\u001b[0;34m\u001b[0m\u001b[0m\n",
      "\u001b[0;32m~/.local/lib/python3.8/site-packages/sympy/integrals/manualintegrate.py\u001b[0m in \u001b[0;36mintegral_steps\u001b[0;34m(integrand, symbol, **options)\u001b[0m\n\u001b[1;32m   1292\u001b[0m         \u001b[0;32mreturn\u001b[0m \u001b[0m_integral_is_subclass\u001b[0m\u001b[0;34m\u001b[0m\u001b[0;34m\u001b[0m\u001b[0m\n\u001b[1;32m   1293\u001b[0m \u001b[0;34m\u001b[0m\u001b[0m\n\u001b[0;32m-> 1294\u001b[0;31m     result = do_one(\n\u001b[0m\u001b[1;32m   1295\u001b[0m         \u001b[0mnull_safe\u001b[0m\u001b[0;34m(\u001b[0m\u001b[0mspecial_function_rule\u001b[0m\u001b[0;34m)\u001b[0m\u001b[0;34m,\u001b[0m\u001b[0;34m\u001b[0m\u001b[0;34m\u001b[0m\u001b[0m\n\u001b[1;32m   1296\u001b[0m         null_safe(switch(key, {\n",
      "\u001b[0;32m~/.local/lib/python3.8/site-packages/sympy/strategies/core.py\u001b[0m in \u001b[0;36mdo_one_rl\u001b[0;34m(expr)\u001b[0m\n\u001b[1;32m     80\u001b[0m     \u001b[0;32mdef\u001b[0m \u001b[0mdo_one_rl\u001b[0m\u001b[0;34m(\u001b[0m\u001b[0mexpr\u001b[0m\u001b[0;34m)\u001b[0m\u001b[0;34m:\u001b[0m\u001b[0;34m\u001b[0m\u001b[0;34m\u001b[0m\u001b[0m\n\u001b[1;32m     81\u001b[0m         \u001b[0;32mfor\u001b[0m \u001b[0mrl\u001b[0m \u001b[0;32min\u001b[0m \u001b[0mrules\u001b[0m\u001b[0;34m:\u001b[0m\u001b[0;34m\u001b[0m\u001b[0;34m\u001b[0m\u001b[0m\n\u001b[0;32m---> 82\u001b[0;31m             \u001b[0mresult\u001b[0m \u001b[0;34m=\u001b[0m \u001b[0mrl\u001b[0m\u001b[0;34m(\u001b[0m\u001b[0mexpr\u001b[0m\u001b[0;34m)\u001b[0m\u001b[0;34m\u001b[0m\u001b[0;34m\u001b[0m\u001b[0m\n\u001b[0m\u001b[1;32m     83\u001b[0m             \u001b[0;32mif\u001b[0m \u001b[0mresult\u001b[0m \u001b[0;34m!=\u001b[0m \u001b[0mexpr\u001b[0m\u001b[0;34m:\u001b[0m\u001b[0;34m\u001b[0m\u001b[0;34m\u001b[0m\u001b[0m\n\u001b[1;32m     84\u001b[0m                 \u001b[0;32mreturn\u001b[0m \u001b[0mresult\u001b[0m\u001b[0;34m\u001b[0m\u001b[0;34m\u001b[0m\u001b[0m\n",
      "\u001b[0;32m~/.local/lib/python3.8/site-packages/sympy/strategies/core.py\u001b[0m in \u001b[0;36mnull_safe_rl\u001b[0;34m(expr)\u001b[0m\n\u001b[1;32m     60\u001b[0m     \u001b[0;34m\"\"\" Return original expr if rule returns None \"\"\"\u001b[0m\u001b[0;34m\u001b[0m\u001b[0;34m\u001b[0m\u001b[0m\n\u001b[1;32m     61\u001b[0m     \u001b[0;32mdef\u001b[0m \u001b[0mnull_safe_rl\u001b[0m\u001b[0;34m(\u001b[0m\u001b[0mexpr\u001b[0m\u001b[0;34m)\u001b[0m\u001b[0;34m:\u001b[0m\u001b[0;34m\u001b[0m\u001b[0;34m\u001b[0m\u001b[0m\n\u001b[0;32m---> 62\u001b[0;31m         \u001b[0mresult\u001b[0m \u001b[0;34m=\u001b[0m \u001b[0mrule\u001b[0m\u001b[0;34m(\u001b[0m\u001b[0mexpr\u001b[0m\u001b[0;34m)\u001b[0m\u001b[0;34m\u001b[0m\u001b[0;34m\u001b[0m\u001b[0m\n\u001b[0m\u001b[1;32m     63\u001b[0m         \u001b[0;32mif\u001b[0m \u001b[0mresult\u001b[0m \u001b[0;32mis\u001b[0m \u001b[0;32mNone\u001b[0m\u001b[0;34m:\u001b[0m\u001b[0;34m\u001b[0m\u001b[0;34m\u001b[0m\u001b[0m\n\u001b[1;32m     64\u001b[0m             \u001b[0;32mreturn\u001b[0m \u001b[0mexpr\u001b[0m\u001b[0;34m\u001b[0m\u001b[0;34m\u001b[0m\u001b[0m\n",
      "\u001b[0;32m~/.local/lib/python3.8/site-packages/sympy/strategies/core.py\u001b[0m in \u001b[0;36mswitch_rl\u001b[0;34m(expr)\u001b[0m\n\u001b[1;32m     90\u001b[0m     \u001b[0;32mdef\u001b[0m \u001b[0mswitch_rl\u001b[0m\u001b[0;34m(\u001b[0m\u001b[0mexpr\u001b[0m\u001b[0;34m)\u001b[0m\u001b[0;34m:\u001b[0m\u001b[0;34m\u001b[0m\u001b[0;34m\u001b[0m\u001b[0m\n\u001b[1;32m     91\u001b[0m         \u001b[0mrl\u001b[0m \u001b[0;34m=\u001b[0m \u001b[0mruledict\u001b[0m\u001b[0;34m.\u001b[0m\u001b[0mget\u001b[0m\u001b[0;34m(\u001b[0m\u001b[0mkey\u001b[0m\u001b[0;34m(\u001b[0m\u001b[0mexpr\u001b[0m\u001b[0;34m)\u001b[0m\u001b[0;34m,\u001b[0m \u001b[0midentity\u001b[0m\u001b[0;34m)\u001b[0m\u001b[0;34m\u001b[0m\u001b[0;34m\u001b[0m\u001b[0m\n\u001b[0;32m---> 92\u001b[0;31m         \u001b[0;32mreturn\u001b[0m \u001b[0mrl\u001b[0m\u001b[0;34m(\u001b[0m\u001b[0mexpr\u001b[0m\u001b[0;34m)\u001b[0m\u001b[0;34m\u001b[0m\u001b[0;34m\u001b[0m\u001b[0m\n\u001b[0m\u001b[1;32m     93\u001b[0m     \u001b[0;32mreturn\u001b[0m \u001b[0mswitch_rl\u001b[0m\u001b[0;34m\u001b[0m\u001b[0;34m\u001b[0m\u001b[0m\n\u001b[1;32m     94\u001b[0m \u001b[0;34m\u001b[0m\u001b[0m\n",
      "\u001b[0;32m~/.local/lib/python3.8/site-packages/sympy/strategies/core.py\u001b[0m in \u001b[0;36mdo_one_rl\u001b[0;34m(expr)\u001b[0m\n\u001b[1;32m     80\u001b[0m     \u001b[0;32mdef\u001b[0m \u001b[0mdo_one_rl\u001b[0m\u001b[0;34m(\u001b[0m\u001b[0mexpr\u001b[0m\u001b[0;34m)\u001b[0m\u001b[0;34m:\u001b[0m\u001b[0;34m\u001b[0m\u001b[0;34m\u001b[0m\u001b[0m\n\u001b[1;32m     81\u001b[0m         \u001b[0;32mfor\u001b[0m \u001b[0mrl\u001b[0m \u001b[0;32min\u001b[0m \u001b[0mrules\u001b[0m\u001b[0;34m:\u001b[0m\u001b[0;34m\u001b[0m\u001b[0;34m\u001b[0m\u001b[0m\n\u001b[0;32m---> 82\u001b[0;31m             \u001b[0mresult\u001b[0m \u001b[0;34m=\u001b[0m \u001b[0mrl\u001b[0m\u001b[0;34m(\u001b[0m\u001b[0mexpr\u001b[0m\u001b[0;34m)\u001b[0m\u001b[0;34m\u001b[0m\u001b[0;34m\u001b[0m\u001b[0m\n\u001b[0m\u001b[1;32m     83\u001b[0m             \u001b[0;32mif\u001b[0m \u001b[0mresult\u001b[0m \u001b[0;34m!=\u001b[0m \u001b[0mexpr\u001b[0m\u001b[0;34m:\u001b[0m\u001b[0;34m\u001b[0m\u001b[0;34m\u001b[0m\u001b[0m\n\u001b[1;32m     84\u001b[0m                 \u001b[0;32mreturn\u001b[0m \u001b[0mresult\u001b[0m\u001b[0;34m\u001b[0m\u001b[0;34m\u001b[0m\u001b[0m\n",
      "\u001b[0;32m~/.local/lib/python3.8/site-packages/sympy/strategies/core.py\u001b[0m in \u001b[0;36mnull_safe_rl\u001b[0;34m(expr)\u001b[0m\n\u001b[1;32m     60\u001b[0m     \u001b[0;34m\"\"\" Return original expr if rule returns None \"\"\"\u001b[0m\u001b[0;34m\u001b[0m\u001b[0;34m\u001b[0m\u001b[0m\n\u001b[1;32m     61\u001b[0m     \u001b[0;32mdef\u001b[0m \u001b[0mnull_safe_rl\u001b[0m\u001b[0;34m(\u001b[0m\u001b[0mexpr\u001b[0m\u001b[0;34m)\u001b[0m\u001b[0;34m:\u001b[0m\u001b[0;34m\u001b[0m\u001b[0;34m\u001b[0m\u001b[0m\n\u001b[0;32m---> 62\u001b[0;31m         \u001b[0mresult\u001b[0m \u001b[0;34m=\u001b[0m \u001b[0mrule\u001b[0m\u001b[0;34m(\u001b[0m\u001b[0mexpr\u001b[0m\u001b[0;34m)\u001b[0m\u001b[0;34m\u001b[0m\u001b[0;34m\u001b[0m\u001b[0m\n\u001b[0m\u001b[1;32m     63\u001b[0m         \u001b[0;32mif\u001b[0m \u001b[0mresult\u001b[0m \u001b[0;32mis\u001b[0m \u001b[0;32mNone\u001b[0m\u001b[0;34m:\u001b[0m\u001b[0;34m\u001b[0m\u001b[0;34m\u001b[0m\u001b[0m\n\u001b[1;32m     64\u001b[0m             \u001b[0;32mreturn\u001b[0m \u001b[0mexpr\u001b[0m\u001b[0;34m\u001b[0m\u001b[0;34m\u001b[0m\u001b[0m\n",
      "\u001b[0;32m~/.local/lib/python3.8/site-packages/sympy/integrals/manualintegrate.py\u001b[0m in \u001b[0;36mquadratic_denom_rule\u001b[0;34m(integral)\u001b[0m\n\u001b[1;32m    773\u001b[0m         \u001b[0mu_func\u001b[0m \u001b[0;34m=\u001b[0m \u001b[0msymbol\u001b[0m \u001b[0;34m+\u001b[0m \u001b[0mc\u001b[0m\u001b[0;34m/\u001b[0m\u001b[0;34m(\u001b[0m\u001b[0;36m2\u001b[0m\u001b[0;34m*\u001b[0m\u001b[0mb\u001b[0m\u001b[0;34m)\u001b[0m\u001b[0;34m\u001b[0m\u001b[0;34m\u001b[0m\u001b[0m\n\u001b[1;32m    774\u001b[0m         \u001b[0mintegrand2\u001b[0m \u001b[0;34m=\u001b[0m \u001b[0mintegrand\u001b[0m\u001b[0;34m.\u001b[0m\u001b[0msubs\u001b[0m\u001b[0;34m(\u001b[0m\u001b[0msymbol\u001b[0m\u001b[0;34m,\u001b[0m \u001b[0mu\u001b[0m \u001b[0;34m-\u001b[0m \u001b[0mc\u001b[0m \u001b[0;34m/\u001b[0m \u001b[0;34m(\u001b[0m\u001b[0;36m2\u001b[0m\u001b[0;34m*\u001b[0m\u001b[0mb\u001b[0m\u001b[0;34m)\u001b[0m\u001b[0;34m)\u001b[0m\u001b[0;34m\u001b[0m\u001b[0;34m\u001b[0m\u001b[0m\n\u001b[0;32m--> 775\u001b[0;31m         \u001b[0mnext_step\u001b[0m \u001b[0;34m=\u001b[0m \u001b[0mintegral_steps\u001b[0m\u001b[0;34m(\u001b[0m\u001b[0mintegrand2\u001b[0m\u001b[0;34m,\u001b[0m \u001b[0mu\u001b[0m\u001b[0;34m)\u001b[0m\u001b[0;34m\u001b[0m\u001b[0;34m\u001b[0m\u001b[0m\n\u001b[0m\u001b[1;32m    776\u001b[0m         \u001b[0;32mif\u001b[0m \u001b[0mnext_step\u001b[0m\u001b[0;34m:\u001b[0m\u001b[0;34m\u001b[0m\u001b[0;34m\u001b[0m\u001b[0m\n\u001b[1;32m    777\u001b[0m             \u001b[0;32mreturn\u001b[0m \u001b[0mURule\u001b[0m\u001b[0;34m(\u001b[0m\u001b[0mu\u001b[0m\u001b[0;34m,\u001b[0m \u001b[0mu_func\u001b[0m\u001b[0;34m,\u001b[0m \u001b[0;32mNone\u001b[0m\u001b[0;34m,\u001b[0m \u001b[0mnext_step\u001b[0m\u001b[0;34m,\u001b[0m \u001b[0mintegrand2\u001b[0m\u001b[0;34m,\u001b[0m \u001b[0msymbol\u001b[0m\u001b[0;34m)\u001b[0m\u001b[0;34m\u001b[0m\u001b[0;34m\u001b[0m\u001b[0m\n",
      "\u001b[0;32m~/.local/lib/python3.8/site-packages/sympy/integrals/manualintegrate.py\u001b[0m in \u001b[0;36mintegral_steps\u001b[0;34m(integrand, symbol, **options)\u001b[0m\n\u001b[1;32m   1292\u001b[0m         \u001b[0;32mreturn\u001b[0m \u001b[0m_integral_is_subclass\u001b[0m\u001b[0;34m\u001b[0m\u001b[0;34m\u001b[0m\u001b[0m\n\u001b[1;32m   1293\u001b[0m \u001b[0;34m\u001b[0m\u001b[0m\n\u001b[0;32m-> 1294\u001b[0;31m     result = do_one(\n\u001b[0m\u001b[1;32m   1295\u001b[0m         \u001b[0mnull_safe\u001b[0m\u001b[0;34m(\u001b[0m\u001b[0mspecial_function_rule\u001b[0m\u001b[0;34m)\u001b[0m\u001b[0;34m,\u001b[0m\u001b[0;34m\u001b[0m\u001b[0;34m\u001b[0m\u001b[0m\n\u001b[1;32m   1296\u001b[0m         null_safe(switch(key, {\n",
      "\u001b[0;32m~/.local/lib/python3.8/site-packages/sympy/strategies/core.py\u001b[0m in \u001b[0;36mdo_one_rl\u001b[0;34m(expr)\u001b[0m\n\u001b[1;32m     80\u001b[0m     \u001b[0;32mdef\u001b[0m \u001b[0mdo_one_rl\u001b[0m\u001b[0;34m(\u001b[0m\u001b[0mexpr\u001b[0m\u001b[0;34m)\u001b[0m\u001b[0;34m:\u001b[0m\u001b[0;34m\u001b[0m\u001b[0;34m\u001b[0m\u001b[0m\n\u001b[1;32m     81\u001b[0m         \u001b[0;32mfor\u001b[0m \u001b[0mrl\u001b[0m \u001b[0;32min\u001b[0m \u001b[0mrules\u001b[0m\u001b[0;34m:\u001b[0m\u001b[0;34m\u001b[0m\u001b[0;34m\u001b[0m\u001b[0m\n\u001b[0;32m---> 82\u001b[0;31m             \u001b[0mresult\u001b[0m \u001b[0;34m=\u001b[0m \u001b[0mrl\u001b[0m\u001b[0;34m(\u001b[0m\u001b[0mexpr\u001b[0m\u001b[0;34m)\u001b[0m\u001b[0;34m\u001b[0m\u001b[0;34m\u001b[0m\u001b[0m\n\u001b[0m\u001b[1;32m     83\u001b[0m             \u001b[0;32mif\u001b[0m \u001b[0mresult\u001b[0m \u001b[0;34m!=\u001b[0m \u001b[0mexpr\u001b[0m\u001b[0;34m:\u001b[0m\u001b[0;34m\u001b[0m\u001b[0;34m\u001b[0m\u001b[0m\n\u001b[1;32m     84\u001b[0m                 \u001b[0;32mreturn\u001b[0m \u001b[0mresult\u001b[0m\u001b[0;34m\u001b[0m\u001b[0;34m\u001b[0m\u001b[0m\n",
      "\u001b[0;32m~/.local/lib/python3.8/site-packages/sympy/strategies/core.py\u001b[0m in \u001b[0;36mnull_safe_rl\u001b[0;34m(expr)\u001b[0m\n\u001b[1;32m     60\u001b[0m     \u001b[0;34m\"\"\" Return original expr if rule returns None \"\"\"\u001b[0m\u001b[0;34m\u001b[0m\u001b[0;34m\u001b[0m\u001b[0m\n\u001b[1;32m     61\u001b[0m     \u001b[0;32mdef\u001b[0m \u001b[0mnull_safe_rl\u001b[0m\u001b[0;34m(\u001b[0m\u001b[0mexpr\u001b[0m\u001b[0;34m)\u001b[0m\u001b[0;34m:\u001b[0m\u001b[0;34m\u001b[0m\u001b[0;34m\u001b[0m\u001b[0m\n\u001b[0;32m---> 62\u001b[0;31m         \u001b[0mresult\u001b[0m \u001b[0;34m=\u001b[0m \u001b[0mrule\u001b[0m\u001b[0;34m(\u001b[0m\u001b[0mexpr\u001b[0m\u001b[0;34m)\u001b[0m\u001b[0;34m\u001b[0m\u001b[0;34m\u001b[0m\u001b[0m\n\u001b[0m\u001b[1;32m     63\u001b[0m         \u001b[0;32mif\u001b[0m \u001b[0mresult\u001b[0m \u001b[0;32mis\u001b[0m \u001b[0;32mNone\u001b[0m\u001b[0;34m:\u001b[0m\u001b[0;34m\u001b[0m\u001b[0;34m\u001b[0m\u001b[0m\n\u001b[1;32m     64\u001b[0m             \u001b[0;32mreturn\u001b[0m \u001b[0mexpr\u001b[0m\u001b[0;34m\u001b[0m\u001b[0;34m\u001b[0m\u001b[0m\n",
      "\u001b[0;32m~/.local/lib/python3.8/site-packages/sympy/strategies/core.py\u001b[0m in \u001b[0;36mswitch_rl\u001b[0;34m(expr)\u001b[0m\n\u001b[1;32m     90\u001b[0m     \u001b[0;32mdef\u001b[0m \u001b[0mswitch_rl\u001b[0m\u001b[0;34m(\u001b[0m\u001b[0mexpr\u001b[0m\u001b[0;34m)\u001b[0m\u001b[0;34m:\u001b[0m\u001b[0;34m\u001b[0m\u001b[0;34m\u001b[0m\u001b[0m\n\u001b[1;32m     91\u001b[0m         \u001b[0mrl\u001b[0m \u001b[0;34m=\u001b[0m \u001b[0mruledict\u001b[0m\u001b[0;34m.\u001b[0m\u001b[0mget\u001b[0m\u001b[0;34m(\u001b[0m\u001b[0mkey\u001b[0m\u001b[0;34m(\u001b[0m\u001b[0mexpr\u001b[0m\u001b[0;34m)\u001b[0m\u001b[0;34m,\u001b[0m \u001b[0midentity\u001b[0m\u001b[0;34m)\u001b[0m\u001b[0;34m\u001b[0m\u001b[0;34m\u001b[0m\u001b[0m\n\u001b[0;32m---> 92\u001b[0;31m         \u001b[0;32mreturn\u001b[0m \u001b[0mrl\u001b[0m\u001b[0;34m(\u001b[0m\u001b[0mexpr\u001b[0m\u001b[0;34m)\u001b[0m\u001b[0;34m\u001b[0m\u001b[0;34m\u001b[0m\u001b[0m\n\u001b[0m\u001b[1;32m     93\u001b[0m     \u001b[0;32mreturn\u001b[0m \u001b[0mswitch_rl\u001b[0m\u001b[0;34m\u001b[0m\u001b[0;34m\u001b[0m\u001b[0m\n\u001b[1;32m     94\u001b[0m \u001b[0;34m\u001b[0m\u001b[0m\n",
      "\u001b[0;32m~/.local/lib/python3.8/site-packages/sympy/strategies/core.py\u001b[0m in \u001b[0;36mdo_one_rl\u001b[0;34m(expr)\u001b[0m\n\u001b[1;32m     80\u001b[0m     \u001b[0;32mdef\u001b[0m \u001b[0mdo_one_rl\u001b[0m\u001b[0;34m(\u001b[0m\u001b[0mexpr\u001b[0m\u001b[0;34m)\u001b[0m\u001b[0;34m:\u001b[0m\u001b[0;34m\u001b[0m\u001b[0;34m\u001b[0m\u001b[0m\n\u001b[1;32m     81\u001b[0m         \u001b[0;32mfor\u001b[0m \u001b[0mrl\u001b[0m \u001b[0;32min\u001b[0m \u001b[0mrules\u001b[0m\u001b[0;34m:\u001b[0m\u001b[0;34m\u001b[0m\u001b[0;34m\u001b[0m\u001b[0m\n\u001b[0;32m---> 82\u001b[0;31m             \u001b[0mresult\u001b[0m \u001b[0;34m=\u001b[0m \u001b[0mrl\u001b[0m\u001b[0;34m(\u001b[0m\u001b[0mexpr\u001b[0m\u001b[0;34m)\u001b[0m\u001b[0;34m\u001b[0m\u001b[0;34m\u001b[0m\u001b[0m\n\u001b[0m\u001b[1;32m     83\u001b[0m             \u001b[0;32mif\u001b[0m \u001b[0mresult\u001b[0m \u001b[0;34m!=\u001b[0m \u001b[0mexpr\u001b[0m\u001b[0;34m:\u001b[0m\u001b[0;34m\u001b[0m\u001b[0;34m\u001b[0m\u001b[0m\n\u001b[1;32m     84\u001b[0m                 \u001b[0;32mreturn\u001b[0m \u001b[0mresult\u001b[0m\u001b[0;34m\u001b[0m\u001b[0;34m\u001b[0m\u001b[0m\n",
      "\u001b[0;32m~/.local/lib/python3.8/site-packages/sympy/strategies/core.py\u001b[0m in \u001b[0;36mnull_safe_rl\u001b[0;34m(expr)\u001b[0m\n\u001b[1;32m     60\u001b[0m     \u001b[0;34m\"\"\" Return original expr if rule returns None \"\"\"\u001b[0m\u001b[0;34m\u001b[0m\u001b[0;34m\u001b[0m\u001b[0m\n\u001b[1;32m     61\u001b[0m     \u001b[0;32mdef\u001b[0m \u001b[0mnull_safe_rl\u001b[0m\u001b[0;34m(\u001b[0m\u001b[0mexpr\u001b[0m\u001b[0;34m)\u001b[0m\u001b[0;34m:\u001b[0m\u001b[0;34m\u001b[0m\u001b[0;34m\u001b[0m\u001b[0m\n\u001b[0;32m---> 62\u001b[0;31m         \u001b[0mresult\u001b[0m \u001b[0;34m=\u001b[0m \u001b[0mrule\u001b[0m\u001b[0;34m(\u001b[0m\u001b[0mexpr\u001b[0m\u001b[0;34m)\u001b[0m\u001b[0;34m\u001b[0m\u001b[0;34m\u001b[0m\u001b[0m\n\u001b[0m\u001b[1;32m     63\u001b[0m         \u001b[0;32mif\u001b[0m \u001b[0mresult\u001b[0m \u001b[0;32mis\u001b[0m \u001b[0;32mNone\u001b[0m\u001b[0;34m:\u001b[0m\u001b[0;34m\u001b[0m\u001b[0;34m\u001b[0m\u001b[0m\n\u001b[1;32m     64\u001b[0m             \u001b[0;32mreturn\u001b[0m \u001b[0mexpr\u001b[0m\u001b[0;34m\u001b[0m\u001b[0;34m\u001b[0m\u001b[0m\n",
      "\u001b[0;32m~/.local/lib/python3.8/site-packages/sympy/integrals/manualintegrate.py\u001b[0m in \u001b[0;36mquadratic_denom_rule\u001b[0;34m(integral)\u001b[0m\n\u001b[1;32m    765\u001b[0m \u001b[0;34m\u001b[0m\u001b[0m\n\u001b[1;32m    766\u001b[0m     \u001b[0md\u001b[0m \u001b[0;34m=\u001b[0m \u001b[0msympy\u001b[0m\u001b[0;34m.\u001b[0m\u001b[0mWild\u001b[0m\u001b[0;34m(\u001b[0m\u001b[0;34m'd'\u001b[0m\u001b[0;34m,\u001b[0m \u001b[0mexclude\u001b[0m\u001b[0;34m=\u001b[0m\u001b[0;34m[\u001b[0m\u001b[0msymbol\u001b[0m\u001b[0;34m]\u001b[0m\u001b[0;34m)\u001b[0m\u001b[0;34m\u001b[0m\u001b[0;34m\u001b[0m\u001b[0m\n\u001b[0;32m--> 767\u001b[0;31m     \u001b[0mmatch2\u001b[0m \u001b[0;34m=\u001b[0m \u001b[0mintegrand\u001b[0m\u001b[0;34m.\u001b[0m\u001b[0mmatch\u001b[0m\u001b[0;34m(\u001b[0m\u001b[0ma\u001b[0m \u001b[0;34m/\u001b[0m \u001b[0;34m(\u001b[0m\u001b[0mb\u001b[0m \u001b[0;34m*\u001b[0m \u001b[0msymbol\u001b[0m \u001b[0;34m**\u001b[0m \u001b[0;36m2\u001b[0m \u001b[0;34m+\u001b[0m \u001b[0mc\u001b[0m \u001b[0;34m*\u001b[0m \u001b[0msymbol\u001b[0m \u001b[0;34m+\u001b[0m \u001b[0md\u001b[0m\u001b[0;34m)\u001b[0m\u001b[0;34m)\u001b[0m\u001b[0;34m\u001b[0m\u001b[0;34m\u001b[0m\u001b[0m\n\u001b[0m\u001b[1;32m    768\u001b[0m     \u001b[0;32mif\u001b[0m \u001b[0mmatch2\u001b[0m\u001b[0;34m:\u001b[0m\u001b[0;34m\u001b[0m\u001b[0;34m\u001b[0m\u001b[0m\n\u001b[1;32m    769\u001b[0m         \u001b[0mb\u001b[0m\u001b[0;34m,\u001b[0m \u001b[0mc\u001b[0m \u001b[0;34m=\u001b[0m  \u001b[0mmatch2\u001b[0m\u001b[0;34m[\u001b[0m\u001b[0mb\u001b[0m\u001b[0;34m]\u001b[0m\u001b[0;34m,\u001b[0m \u001b[0mmatch2\u001b[0m\u001b[0;34m[\u001b[0m\u001b[0mc\u001b[0m\u001b[0;34m]\u001b[0m\u001b[0;34m\u001b[0m\u001b[0;34m\u001b[0m\u001b[0m\n",
      "\u001b[0;32m~/.local/lib/python3.8/site-packages/sympy/core/basic.py\u001b[0m in \u001b[0;36mmatch\u001b[0;34m(self, pattern, old)\u001b[0m\n\u001b[1;32m   1614\u001b[0m         \u001b[0;31m# match non-bound symbols\u001b[0m\u001b[0;34m\u001b[0m\u001b[0;34m\u001b[0m\u001b[0;34m\u001b[0m\u001b[0m\n\u001b[1;32m   1615\u001b[0m         \u001b[0mcanonical\u001b[0m \u001b[0;34m=\u001b[0m \u001b[0;32mlambda\u001b[0m \u001b[0mx\u001b[0m\u001b[0;34m:\u001b[0m \u001b[0mx\u001b[0m \u001b[0;32mif\u001b[0m \u001b[0mx\u001b[0m\u001b[0;34m.\u001b[0m\u001b[0mis_Symbol\u001b[0m \u001b[0;32melse\u001b[0m \u001b[0mx\u001b[0m\u001b[0;34m.\u001b[0m\u001b[0mas_dummy\u001b[0m\u001b[0;34m(\u001b[0m\u001b[0;34m)\u001b[0m\u001b[0;34m\u001b[0m\u001b[0;34m\u001b[0m\u001b[0m\n\u001b[0;32m-> 1616\u001b[0;31m         \u001b[0mm\u001b[0m \u001b[0;34m=\u001b[0m \u001b[0mcanonical\u001b[0m\u001b[0;34m(\u001b[0m\u001b[0mpattern\u001b[0m\u001b[0;34m)\u001b[0m\u001b[0;34m.\u001b[0m\u001b[0mmatches\u001b[0m\u001b[0;34m(\u001b[0m\u001b[0mcanonical\u001b[0m\u001b[0;34m(\u001b[0m\u001b[0mself\u001b[0m\u001b[0;34m)\u001b[0m\u001b[0;34m,\u001b[0m \u001b[0mold\u001b[0m\u001b[0;34m=\u001b[0m\u001b[0mold\u001b[0m\u001b[0;34m)\u001b[0m\u001b[0;34m\u001b[0m\u001b[0;34m\u001b[0m\u001b[0m\n\u001b[0m\u001b[1;32m   1617\u001b[0m         \u001b[0;32mif\u001b[0m \u001b[0mm\u001b[0m \u001b[0;32mis\u001b[0m \u001b[0;32mNone\u001b[0m\u001b[0;34m:\u001b[0m\u001b[0;34m\u001b[0m\u001b[0;34m\u001b[0m\u001b[0m\n\u001b[1;32m   1618\u001b[0m             \u001b[0;32mreturn\u001b[0m \u001b[0mm\u001b[0m\u001b[0;34m\u001b[0m\u001b[0;34m\u001b[0m\u001b[0m\n",
      "\u001b[0;32m~/.local/lib/python3.8/site-packages/sympy/core/mul.py\u001b[0m in \u001b[0;36mmatches\u001b[0;34m(self, expr, repl_dict, old)\u001b[0m\n\u001b[1;32m   1031\u001b[0m         \u001b[0mrepl_dict\u001b[0m \u001b[0;34m=\u001b[0m \u001b[0mrepl_dict\u001b[0m\u001b[0;34m.\u001b[0m\u001b[0mcopy\u001b[0m\u001b[0;34m(\u001b[0m\u001b[0;34m)\u001b[0m\u001b[0;34m\u001b[0m\u001b[0;34m\u001b[0m\u001b[0m\n\u001b[1;32m   1032\u001b[0m         \u001b[0;32mif\u001b[0m \u001b[0mself\u001b[0m\u001b[0;34m.\u001b[0m\u001b[0mis_commutative\u001b[0m \u001b[0;32mand\u001b[0m \u001b[0mexpr\u001b[0m\u001b[0;34m.\u001b[0m\u001b[0mis_commutative\u001b[0m\u001b[0;34m:\u001b[0m\u001b[0;34m\u001b[0m\u001b[0;34m\u001b[0m\u001b[0m\n\u001b[0;32m-> 1033\u001b[0;31m             \u001b[0;32mreturn\u001b[0m \u001b[0mself\u001b[0m\u001b[0;34m.\u001b[0m\u001b[0m_matches_commutative\u001b[0m\u001b[0;34m(\u001b[0m\u001b[0mexpr\u001b[0m\u001b[0;34m,\u001b[0m \u001b[0mrepl_dict\u001b[0m\u001b[0;34m,\u001b[0m \u001b[0mold\u001b[0m\u001b[0;34m)\u001b[0m\u001b[0;34m\u001b[0m\u001b[0;34m\u001b[0m\u001b[0m\n\u001b[0m\u001b[1;32m   1034\u001b[0m         \u001b[0;32melif\u001b[0m \u001b[0mself\u001b[0m\u001b[0;34m.\u001b[0m\u001b[0mis_commutative\u001b[0m \u001b[0;32mis\u001b[0m \u001b[0;32mnot\u001b[0m \u001b[0mexpr\u001b[0m\u001b[0;34m.\u001b[0m\u001b[0mis_commutative\u001b[0m\u001b[0;34m:\u001b[0m\u001b[0;34m\u001b[0m\u001b[0;34m\u001b[0m\u001b[0m\n\u001b[1;32m   1035\u001b[0m             \u001b[0;32mreturn\u001b[0m \u001b[0;32mNone\u001b[0m\u001b[0;34m\u001b[0m\u001b[0;34m\u001b[0m\u001b[0m\n",
      "\u001b[0;32m~/.local/lib/python3.8/site-packages/sympy/core/operations.py\u001b[0m in \u001b[0;36m_matches_commutative\u001b[0;34m(self, expr, repl_dict, old)\u001b[0m\n\u001b[1;32m    276\u001b[0m             \u001b[0;32mfor\u001b[0m \u001b[0mlast_op\u001b[0m \u001b[0;32min\u001b[0m \u001b[0mreversed\u001b[0m\u001b[0;34m(\u001b[0m\u001b[0mexpr_list\u001b[0m\u001b[0;34m)\u001b[0m\u001b[0;34m:\u001b[0m\u001b[0;34m\u001b[0m\u001b[0;34m\u001b[0m\u001b[0m\n\u001b[1;32m    277\u001b[0m                 \u001b[0;32mfor\u001b[0m \u001b[0mw\u001b[0m \u001b[0;32min\u001b[0m \u001b[0mreversed\u001b[0m\u001b[0;34m(\u001b[0m\u001b[0mwild_part\u001b[0m\u001b[0;34m)\u001b[0m\u001b[0;34m:\u001b[0m\u001b[0;34m\u001b[0m\u001b[0;34m\u001b[0m\u001b[0m\n\u001b[0;32m--> 278\u001b[0;31m                     \u001b[0md1\u001b[0m \u001b[0;34m=\u001b[0m \u001b[0mw\u001b[0m\u001b[0;34m.\u001b[0m\u001b[0mmatches\u001b[0m\u001b[0;34m(\u001b[0m\u001b[0mlast_op\u001b[0m\u001b[0;34m,\u001b[0m \u001b[0mrepl_dict\u001b[0m\u001b[0;34m)\u001b[0m\u001b[0;34m\u001b[0m\u001b[0;34m\u001b[0m\u001b[0m\n\u001b[0m\u001b[1;32m    279\u001b[0m                     \u001b[0;32mif\u001b[0m \u001b[0md1\u001b[0m \u001b[0;32mis\u001b[0m \u001b[0;32mnot\u001b[0m \u001b[0;32mNone\u001b[0m\u001b[0;34m:\u001b[0m\u001b[0;34m\u001b[0m\u001b[0;34m\u001b[0m\u001b[0m\n\u001b[1;32m    280\u001b[0m                         \u001b[0md2\u001b[0m \u001b[0;34m=\u001b[0m \u001b[0mself\u001b[0m\u001b[0;34m.\u001b[0m\u001b[0mxreplace\u001b[0m\u001b[0;34m(\u001b[0m\u001b[0md1\u001b[0m\u001b[0;34m)\u001b[0m\u001b[0;34m.\u001b[0m\u001b[0mmatches\u001b[0m\u001b[0;34m(\u001b[0m\u001b[0mexpr\u001b[0m\u001b[0;34m,\u001b[0m \u001b[0md1\u001b[0m\u001b[0;34m)\u001b[0m\u001b[0;34m\u001b[0m\u001b[0;34m\u001b[0m\u001b[0m\n",
      "\u001b[0;32m~/.local/lib/python3.8/site-packages/sympy/core/power.py\u001b[0m in \u001b[0;36mmatches\u001b[0;34m(self, expr, repl_dict, old)\u001b[0m\n\u001b[1;32m   1546\u001b[0m \u001b[0;34m\u001b[0m\u001b[0m\n\u001b[1;32m   1547\u001b[0m         \u001b[0md\u001b[0m \u001b[0;34m=\u001b[0m \u001b[0mrepl_dict\u001b[0m\u001b[0;34m.\u001b[0m\u001b[0mcopy\u001b[0m\u001b[0;34m(\u001b[0m\u001b[0;34m)\u001b[0m\u001b[0;34m\u001b[0m\u001b[0;34m\u001b[0m\u001b[0m\n\u001b[0;32m-> 1548\u001b[0;31m         \u001b[0md\u001b[0m \u001b[0;34m=\u001b[0m \u001b[0mself\u001b[0m\u001b[0;34m.\u001b[0m\u001b[0mbase\u001b[0m\u001b[0;34m.\u001b[0m\u001b[0mmatches\u001b[0m\u001b[0;34m(\u001b[0m\u001b[0mb\u001b[0m\u001b[0;34m,\u001b[0m \u001b[0md\u001b[0m\u001b[0;34m)\u001b[0m\u001b[0;34m\u001b[0m\u001b[0;34m\u001b[0m\u001b[0m\n\u001b[0m\u001b[1;32m   1549\u001b[0m         \u001b[0;32mif\u001b[0m \u001b[0md\u001b[0m \u001b[0;32mis\u001b[0m \u001b[0;32mNone\u001b[0m\u001b[0;34m:\u001b[0m\u001b[0;34m\u001b[0m\u001b[0;34m\u001b[0m\u001b[0m\n\u001b[1;32m   1550\u001b[0m             \u001b[0;32mreturn\u001b[0m \u001b[0;32mNone\u001b[0m\u001b[0;34m\u001b[0m\u001b[0;34m\u001b[0m\u001b[0m\n",
      "\u001b[0;32m~/.local/lib/python3.8/site-packages/sympy/core/add.py\u001b[0m in \u001b[0;36mmatches\u001b[0;34m(self, expr, repl_dict, old)\u001b[0m\n\u001b[1;32m    510\u001b[0m \u001b[0;34m\u001b[0m\u001b[0m\n\u001b[1;32m    511\u001b[0m     \u001b[0;32mdef\u001b[0m \u001b[0mmatches\u001b[0m\u001b[0;34m(\u001b[0m\u001b[0mself\u001b[0m\u001b[0;34m,\u001b[0m \u001b[0mexpr\u001b[0m\u001b[0;34m,\u001b[0m \u001b[0mrepl_dict\u001b[0m\u001b[0;34m=\u001b[0m\u001b[0;34m{\u001b[0m\u001b[0;34m}\u001b[0m\u001b[0;34m,\u001b[0m \u001b[0mold\u001b[0m\u001b[0;34m=\u001b[0m\u001b[0;32mFalse\u001b[0m\u001b[0;34m)\u001b[0m\u001b[0;34m:\u001b[0m\u001b[0;34m\u001b[0m\u001b[0;34m\u001b[0m\u001b[0m\n\u001b[0;32m--> 512\u001b[0;31m         \u001b[0;32mreturn\u001b[0m \u001b[0mself\u001b[0m\u001b[0;34m.\u001b[0m\u001b[0m_matches_commutative\u001b[0m\u001b[0;34m(\u001b[0m\u001b[0mexpr\u001b[0m\u001b[0;34m,\u001b[0m \u001b[0mrepl_dict\u001b[0m\u001b[0;34m,\u001b[0m \u001b[0mold\u001b[0m\u001b[0;34m)\u001b[0m\u001b[0;34m\u001b[0m\u001b[0;34m\u001b[0m\u001b[0m\n\u001b[0m\u001b[1;32m    513\u001b[0m \u001b[0;34m\u001b[0m\u001b[0m\n\u001b[1;32m    514\u001b[0m     \u001b[0;34m@\u001b[0m\u001b[0mstaticmethod\u001b[0m\u001b[0;34m\u001b[0m\u001b[0;34m\u001b[0m\u001b[0m\n",
      "\u001b[0;32m~/.local/lib/python3.8/site-packages/sympy/core/operations.py\u001b[0m in \u001b[0;36m_matches_commutative\u001b[0;34m(self, expr, repl_dict, old)\u001b[0m\n\u001b[1;32m    278\u001b[0m                     \u001b[0md1\u001b[0m \u001b[0;34m=\u001b[0m \u001b[0mw\u001b[0m\u001b[0;34m.\u001b[0m\u001b[0mmatches\u001b[0m\u001b[0;34m(\u001b[0m\u001b[0mlast_op\u001b[0m\u001b[0;34m,\u001b[0m \u001b[0mrepl_dict\u001b[0m\u001b[0;34m)\u001b[0m\u001b[0;34m\u001b[0m\u001b[0;34m\u001b[0m\u001b[0m\n\u001b[1;32m    279\u001b[0m                     \u001b[0;32mif\u001b[0m \u001b[0md1\u001b[0m \u001b[0;32mis\u001b[0m \u001b[0;32mnot\u001b[0m \u001b[0;32mNone\u001b[0m\u001b[0;34m:\u001b[0m\u001b[0;34m\u001b[0m\u001b[0;34m\u001b[0m\u001b[0m\n\u001b[0;32m--> 280\u001b[0;31m                         \u001b[0md2\u001b[0m \u001b[0;34m=\u001b[0m \u001b[0mself\u001b[0m\u001b[0;34m.\u001b[0m\u001b[0mxreplace\u001b[0m\u001b[0;34m(\u001b[0m\u001b[0md1\u001b[0m\u001b[0;34m)\u001b[0m\u001b[0;34m.\u001b[0m\u001b[0mmatches\u001b[0m\u001b[0;34m(\u001b[0m\u001b[0mexpr\u001b[0m\u001b[0;34m,\u001b[0m \u001b[0md1\u001b[0m\u001b[0;34m)\u001b[0m\u001b[0;34m\u001b[0m\u001b[0;34m\u001b[0m\u001b[0m\n\u001b[0m\u001b[1;32m    281\u001b[0m                         \u001b[0;32mif\u001b[0m \u001b[0md2\u001b[0m \u001b[0;32mis\u001b[0m \u001b[0;32mnot\u001b[0m \u001b[0;32mNone\u001b[0m\u001b[0;34m:\u001b[0m\u001b[0;34m\u001b[0m\u001b[0;34m\u001b[0m\u001b[0m\n\u001b[1;32m    282\u001b[0m                             \u001b[0;32mreturn\u001b[0m \u001b[0md2\u001b[0m\u001b[0;34m\u001b[0m\u001b[0;34m\u001b[0m\u001b[0m\n",
      "\u001b[0;32m~/.local/lib/python3.8/site-packages/sympy/core/add.py\u001b[0m in \u001b[0;36mmatches\u001b[0;34m(self, expr, repl_dict, old)\u001b[0m\n\u001b[1;32m    510\u001b[0m \u001b[0;34m\u001b[0m\u001b[0m\n\u001b[1;32m    511\u001b[0m     \u001b[0;32mdef\u001b[0m \u001b[0mmatches\u001b[0m\u001b[0;34m(\u001b[0m\u001b[0mself\u001b[0m\u001b[0;34m,\u001b[0m \u001b[0mexpr\u001b[0m\u001b[0;34m,\u001b[0m \u001b[0mrepl_dict\u001b[0m\u001b[0;34m=\u001b[0m\u001b[0;34m{\u001b[0m\u001b[0;34m}\u001b[0m\u001b[0;34m,\u001b[0m \u001b[0mold\u001b[0m\u001b[0;34m=\u001b[0m\u001b[0;32mFalse\u001b[0m\u001b[0;34m)\u001b[0m\u001b[0;34m:\u001b[0m\u001b[0;34m\u001b[0m\u001b[0;34m\u001b[0m\u001b[0m\n\u001b[0;32m--> 512\u001b[0;31m         \u001b[0;32mreturn\u001b[0m \u001b[0mself\u001b[0m\u001b[0;34m.\u001b[0m\u001b[0m_matches_commutative\u001b[0m\u001b[0;34m(\u001b[0m\u001b[0mexpr\u001b[0m\u001b[0;34m,\u001b[0m \u001b[0mrepl_dict\u001b[0m\u001b[0;34m,\u001b[0m \u001b[0mold\u001b[0m\u001b[0;34m)\u001b[0m\u001b[0;34m\u001b[0m\u001b[0;34m\u001b[0m\u001b[0m\n\u001b[0m\u001b[1;32m    513\u001b[0m \u001b[0;34m\u001b[0m\u001b[0m\n\u001b[1;32m    514\u001b[0m     \u001b[0;34m@\u001b[0m\u001b[0mstaticmethod\u001b[0m\u001b[0;34m\u001b[0m\u001b[0;34m\u001b[0m\u001b[0m\n",
      "\u001b[0;32m~/.local/lib/python3.8/site-packages/sympy/core/operations.py\u001b[0m in \u001b[0;36m_matches_commutative\u001b[0;34m(self, expr, repl_dict, old)\u001b[0m\n\u001b[1;32m    278\u001b[0m                     \u001b[0md1\u001b[0m \u001b[0;34m=\u001b[0m \u001b[0mw\u001b[0m\u001b[0;34m.\u001b[0m\u001b[0mmatches\u001b[0m\u001b[0;34m(\u001b[0m\u001b[0mlast_op\u001b[0m\u001b[0;34m,\u001b[0m \u001b[0mrepl_dict\u001b[0m\u001b[0;34m)\u001b[0m\u001b[0;34m\u001b[0m\u001b[0;34m\u001b[0m\u001b[0m\n\u001b[1;32m    279\u001b[0m                     \u001b[0;32mif\u001b[0m \u001b[0md1\u001b[0m \u001b[0;32mis\u001b[0m \u001b[0;32mnot\u001b[0m \u001b[0;32mNone\u001b[0m\u001b[0;34m:\u001b[0m\u001b[0;34m\u001b[0m\u001b[0;34m\u001b[0m\u001b[0m\n\u001b[0;32m--> 280\u001b[0;31m                         \u001b[0md2\u001b[0m \u001b[0;34m=\u001b[0m \u001b[0mself\u001b[0m\u001b[0;34m.\u001b[0m\u001b[0mxreplace\u001b[0m\u001b[0;34m(\u001b[0m\u001b[0md1\u001b[0m\u001b[0;34m)\u001b[0m\u001b[0;34m.\u001b[0m\u001b[0mmatches\u001b[0m\u001b[0;34m(\u001b[0m\u001b[0mexpr\u001b[0m\u001b[0;34m,\u001b[0m \u001b[0md1\u001b[0m\u001b[0;34m)\u001b[0m\u001b[0;34m\u001b[0m\u001b[0;34m\u001b[0m\u001b[0m\n\u001b[0m\u001b[1;32m    281\u001b[0m                         \u001b[0;32mif\u001b[0m \u001b[0md2\u001b[0m \u001b[0;32mis\u001b[0m \u001b[0;32mnot\u001b[0m \u001b[0;32mNone\u001b[0m\u001b[0;34m:\u001b[0m\u001b[0;34m\u001b[0m\u001b[0;34m\u001b[0m\u001b[0m\n\u001b[1;32m    282\u001b[0m                             \u001b[0;32mreturn\u001b[0m \u001b[0md2\u001b[0m\u001b[0;34m\u001b[0m\u001b[0;34m\u001b[0m\u001b[0m\n",
      "\u001b[0;32m~/.local/lib/python3.8/site-packages/sympy/core/mul.py\u001b[0m in \u001b[0;36mmatches\u001b[0;34m(self, expr, repl_dict, old)\u001b[0m\n\u001b[1;32m   1031\u001b[0m         \u001b[0mrepl_dict\u001b[0m \u001b[0;34m=\u001b[0m \u001b[0mrepl_dict\u001b[0m\u001b[0;34m.\u001b[0m\u001b[0mcopy\u001b[0m\u001b[0;34m(\u001b[0m\u001b[0;34m)\u001b[0m\u001b[0;34m\u001b[0m\u001b[0;34m\u001b[0m\u001b[0m\n\u001b[1;32m   1032\u001b[0m         \u001b[0;32mif\u001b[0m \u001b[0mself\u001b[0m\u001b[0;34m.\u001b[0m\u001b[0mis_commutative\u001b[0m \u001b[0;32mand\u001b[0m \u001b[0mexpr\u001b[0m\u001b[0;34m.\u001b[0m\u001b[0mis_commutative\u001b[0m\u001b[0;34m:\u001b[0m\u001b[0;34m\u001b[0m\u001b[0;34m\u001b[0m\u001b[0m\n\u001b[0;32m-> 1033\u001b[0;31m             \u001b[0;32mreturn\u001b[0m \u001b[0mself\u001b[0m\u001b[0;34m.\u001b[0m\u001b[0m_matches_commutative\u001b[0m\u001b[0;34m(\u001b[0m\u001b[0mexpr\u001b[0m\u001b[0;34m,\u001b[0m \u001b[0mrepl_dict\u001b[0m\u001b[0;34m,\u001b[0m \u001b[0mold\u001b[0m\u001b[0;34m)\u001b[0m\u001b[0;34m\u001b[0m\u001b[0;34m\u001b[0m\u001b[0m\n\u001b[0m\u001b[1;32m   1034\u001b[0m         \u001b[0;32melif\u001b[0m \u001b[0mself\u001b[0m\u001b[0;34m.\u001b[0m\u001b[0mis_commutative\u001b[0m \u001b[0;32mis\u001b[0m \u001b[0;32mnot\u001b[0m \u001b[0mexpr\u001b[0m\u001b[0;34m.\u001b[0m\u001b[0mis_commutative\u001b[0m\u001b[0;34m:\u001b[0m\u001b[0;34m\u001b[0m\u001b[0;34m\u001b[0m\u001b[0m\n\u001b[1;32m   1035\u001b[0m             \u001b[0;32mreturn\u001b[0m \u001b[0;32mNone\u001b[0m\u001b[0;34m\u001b[0m\u001b[0;34m\u001b[0m\u001b[0m\n",
      "\u001b[0;32m~/.local/lib/python3.8/site-packages/sympy/core/operations.py\u001b[0m in \u001b[0;36m_matches_commutative\u001b[0;34m(self, expr, repl_dict, old)\u001b[0m\n\u001b[1;32m    253\u001b[0m                 \u001b[0;31m# the matching continue\u001b[0m\u001b[0;34m\u001b[0m\u001b[0;34m\u001b[0m\u001b[0;34m\u001b[0m\u001b[0m\n\u001b[1;32m    254\u001b[0m                 \u001b[0;32mreturn\u001b[0m \u001b[0;32mNone\u001b[0m\u001b[0;34m\u001b[0m\u001b[0;34m\u001b[0m\u001b[0m\n\u001b[0;32m--> 255\u001b[0;31m             \u001b[0mnewexpr\u001b[0m \u001b[0;34m=\u001b[0m \u001b[0mself\u001b[0m\u001b[0;34m.\u001b[0m\u001b[0m_combine_inverse\u001b[0m\u001b[0;34m(\u001b[0m\u001b[0mexpr\u001b[0m\u001b[0;34m,\u001b[0m \u001b[0mexact\u001b[0m\u001b[0;34m)\u001b[0m\u001b[0;34m\u001b[0m\u001b[0;34m\u001b[0m\u001b[0m\n\u001b[0m\u001b[1;32m    256\u001b[0m             \u001b[0;32mif\u001b[0m \u001b[0;32mnot\u001b[0m \u001b[0mold\u001b[0m \u001b[0;32mand\u001b[0m \u001b[0;34m(\u001b[0m\u001b[0mexpr\u001b[0m\u001b[0;34m.\u001b[0m\u001b[0mis_Add\u001b[0m \u001b[0;32mor\u001b[0m \u001b[0mexpr\u001b[0m\u001b[0;34m.\u001b[0m\u001b[0mis_Mul\u001b[0m\u001b[0;34m)\u001b[0m\u001b[0;34m:\u001b[0m\u001b[0;34m\u001b[0m\u001b[0;34m\u001b[0m\u001b[0m\n\u001b[1;32m    257\u001b[0m                 \u001b[0;32mif\u001b[0m \u001b[0mnewexpr\u001b[0m\u001b[0;34m.\u001b[0m\u001b[0mcount_ops\u001b[0m\u001b[0;34m(\u001b[0m\u001b[0;34m)\u001b[0m \u001b[0;34m>\u001b[0m \u001b[0mexpr\u001b[0m\u001b[0;34m.\u001b[0m\u001b[0mcount_ops\u001b[0m\u001b[0;34m(\u001b[0m\u001b[0;34m)\u001b[0m\u001b[0;34m:\u001b[0m\u001b[0;34m\u001b[0m\u001b[0;34m\u001b[0m\u001b[0m\n",
      "\u001b[0;32m~/.local/lib/python3.8/site-packages/sympy/core/mul.py\u001b[0m in \u001b[0;36m_combine_inverse\u001b[0;34m(lhs, rhs)\u001b[0m\n\u001b[1;32m   1229\u001b[0m                 \u001b[0mlhs\u001b[0m \u001b[0;34m=\u001b[0m \u001b[0mMul\u001b[0m\u001b[0;34m(\u001b[0m\u001b[0;34m*\u001b[0m\u001b[0;34m[\u001b[0m\u001b[0mk\u001b[0m\u001b[0;34m**\u001b[0m\u001b[0mv\u001b[0m \u001b[0;32mfor\u001b[0m \u001b[0mk\u001b[0m\u001b[0;34m,\u001b[0m \u001b[0mv\u001b[0m \u001b[0;32min\u001b[0m \u001b[0ma\u001b[0m\u001b[0;34m.\u001b[0m\u001b[0mitems\u001b[0m\u001b[0;34m(\u001b[0m\u001b[0;34m)\u001b[0m\u001b[0;34m]\u001b[0m\u001b[0;34m)\u001b[0m\u001b[0;34m.\u001b[0m\u001b[0mxreplace\u001b[0m\u001b[0;34m(\u001b[0m\u001b[0mi_\u001b[0m\u001b[0;34m)\u001b[0m\u001b[0;34m\u001b[0m\u001b[0;34m\u001b[0m\u001b[0m\n\u001b[1;32m   1230\u001b[0m                 \u001b[0mrhs\u001b[0m \u001b[0;34m=\u001b[0m \u001b[0mMul\u001b[0m\u001b[0;34m(\u001b[0m\u001b[0;34m*\u001b[0m\u001b[0;34m[\u001b[0m\u001b[0mk\u001b[0m\u001b[0;34m**\u001b[0m\u001b[0mv\u001b[0m \u001b[0;32mfor\u001b[0m \u001b[0mk\u001b[0m\u001b[0;34m,\u001b[0m \u001b[0mv\u001b[0m \u001b[0;32min\u001b[0m \u001b[0mb\u001b[0m\u001b[0;34m.\u001b[0m\u001b[0mitems\u001b[0m\u001b[0;34m(\u001b[0m\u001b[0;34m)\u001b[0m\u001b[0;34m]\u001b[0m\u001b[0;34m)\u001b[0m\u001b[0;34m.\u001b[0m\u001b[0mxreplace\u001b[0m\u001b[0;34m(\u001b[0m\u001b[0mi_\u001b[0m\u001b[0;34m)\u001b[0m\u001b[0;34m\u001b[0m\u001b[0;34m\u001b[0m\u001b[0m\n\u001b[0;32m-> 1231\u001b[0;31m         \u001b[0;32mreturn\u001b[0m \u001b[0msignsimp\u001b[0m\u001b[0;34m(\u001b[0m\u001b[0mlhs\u001b[0m\u001b[0;34m/\u001b[0m\u001b[0mrhs\u001b[0m\u001b[0;34m)\u001b[0m\u001b[0;34m\u001b[0m\u001b[0;34m\u001b[0m\u001b[0m\n\u001b[0m\u001b[1;32m   1232\u001b[0m \u001b[0;34m\u001b[0m\u001b[0m\n\u001b[1;32m   1233\u001b[0m     \u001b[0;32mdef\u001b[0m \u001b[0mas_powers_dict\u001b[0m\u001b[0;34m(\u001b[0m\u001b[0mself\u001b[0m\u001b[0;34m)\u001b[0m\u001b[0;34m:\u001b[0m\u001b[0;34m\u001b[0m\u001b[0;34m\u001b[0m\u001b[0m\n",
      "\u001b[0;32m~/.local/lib/python3.8/site-packages/sympy/simplify/simplify.py\u001b[0m in \u001b[0;36msignsimp\u001b[0;34m(expr, evaluate)\u001b[0m\n\u001b[1;32m    399\u001b[0m     \u001b[0;32mif\u001b[0m \u001b[0;32mnot\u001b[0m \u001b[0misinstance\u001b[0m\u001b[0;34m(\u001b[0m\u001b[0mexpr\u001b[0m\u001b[0;34m,\u001b[0m \u001b[0;34m(\u001b[0m\u001b[0mExpr\u001b[0m\u001b[0;34m,\u001b[0m \u001b[0mRelational\u001b[0m\u001b[0;34m)\u001b[0m\u001b[0;34m)\u001b[0m \u001b[0;32mor\u001b[0m \u001b[0mexpr\u001b[0m\u001b[0;34m.\u001b[0m\u001b[0mis_Atom\u001b[0m\u001b[0;34m:\u001b[0m\u001b[0;34m\u001b[0m\u001b[0;34m\u001b[0m\u001b[0m\n\u001b[1;32m    400\u001b[0m         \u001b[0;32mreturn\u001b[0m \u001b[0mexpr\u001b[0m\u001b[0;34m\u001b[0m\u001b[0;34m\u001b[0m\u001b[0m\n\u001b[0;32m--> 401\u001b[0;31m     \u001b[0me\u001b[0m \u001b[0;34m=\u001b[0m \u001b[0msub_post\u001b[0m\u001b[0;34m(\u001b[0m\u001b[0msub_pre\u001b[0m\u001b[0;34m(\u001b[0m\u001b[0mexpr\u001b[0m\u001b[0;34m)\u001b[0m\u001b[0;34m)\u001b[0m\u001b[0;34m\u001b[0m\u001b[0;34m\u001b[0m\u001b[0m\n\u001b[0m\u001b[1;32m    402\u001b[0m     \u001b[0;32mif\u001b[0m \u001b[0;32mnot\u001b[0m \u001b[0misinstance\u001b[0m\u001b[0;34m(\u001b[0m\u001b[0me\u001b[0m\u001b[0;34m,\u001b[0m \u001b[0;34m(\u001b[0m\u001b[0mExpr\u001b[0m\u001b[0;34m,\u001b[0m \u001b[0mRelational\u001b[0m\u001b[0;34m)\u001b[0m\u001b[0;34m)\u001b[0m \u001b[0;32mor\u001b[0m \u001b[0me\u001b[0m\u001b[0;34m.\u001b[0m\u001b[0mis_Atom\u001b[0m\u001b[0;34m:\u001b[0m\u001b[0;34m\u001b[0m\u001b[0;34m\u001b[0m\u001b[0m\n\u001b[1;32m    403\u001b[0m         \u001b[0;32mreturn\u001b[0m \u001b[0me\u001b[0m\u001b[0;34m\u001b[0m\u001b[0;34m\u001b[0m\u001b[0m\n",
      "\u001b[0;32m~/.local/lib/python3.8/site-packages/sympy/simplify/cse_opts.py\u001b[0m in \u001b[0;36msub_pre\u001b[0;34m(e)\u001b[0m\n\u001b[1;32m     33\u001b[0m             \u001b[0;32mif\u001b[0m \u001b[0ma\u001b[0m \u001b[0;32min\u001b[0m \u001b[0mreps\u001b[0m\u001b[0;34m:\u001b[0m\u001b[0;34m\u001b[0m\u001b[0;34m\u001b[0m\u001b[0m\n\u001b[1;32m     34\u001b[0m                 \u001b[0mnegs\u001b[0m\u001b[0;34m[\u001b[0m\u001b[0ma\u001b[0m\u001b[0;34m]\u001b[0m \u001b[0;34m=\u001b[0m \u001b[0mreps\u001b[0m\u001b[0;34m[\u001b[0m\u001b[0ma\u001b[0m\u001b[0;34m]\u001b[0m\u001b[0;34m\u001b[0m\u001b[0;34m\u001b[0m\u001b[0m\n\u001b[0;32m---> 35\u001b[0;31m             \u001b[0;32melif\u001b[0m \u001b[0ma\u001b[0m\u001b[0;34m.\u001b[0m\u001b[0mcould_extract_minus_sign\u001b[0m\u001b[0;34m(\u001b[0m\u001b[0;34m)\u001b[0m\u001b[0;34m:\u001b[0m\u001b[0;34m\u001b[0m\u001b[0;34m\u001b[0m\u001b[0m\n\u001b[0m\u001b[1;32m     36\u001b[0m                 \u001b[0mnegs\u001b[0m\u001b[0;34m[\u001b[0m\u001b[0ma\u001b[0m\u001b[0;34m]\u001b[0m \u001b[0;34m=\u001b[0m \u001b[0mMul\u001b[0m\u001b[0;34m.\u001b[0m\u001b[0m_from_args\u001b[0m\u001b[0;34m(\u001b[0m\u001b[0;34m[\u001b[0m\u001b[0mS\u001b[0m\u001b[0;34m.\u001b[0m\u001b[0mOne\u001b[0m\u001b[0;34m,\u001b[0m \u001b[0mS\u001b[0m\u001b[0;34m.\u001b[0m\u001b[0mNegativeOne\u001b[0m\u001b[0;34m,\u001b[0m \u001b[0;34m-\u001b[0m\u001b[0ma\u001b[0m\u001b[0;34m]\u001b[0m\u001b[0;34m)\u001b[0m\u001b[0;34m\u001b[0m\u001b[0;34m\u001b[0m\u001b[0m\n\u001b[1;32m     37\u001b[0m         \u001b[0me\u001b[0m \u001b[0;34m=\u001b[0m \u001b[0me\u001b[0m\u001b[0;34m.\u001b[0m\u001b[0mxreplace\u001b[0m\u001b[0;34m(\u001b[0m\u001b[0mnegs\u001b[0m\u001b[0;34m)\u001b[0m\u001b[0;34m\u001b[0m\u001b[0;34m\u001b[0m\u001b[0m\n",
      "\u001b[0;32m~/.local/lib/python3.8/site-packages/sympy/core/expr.py\u001b[0m in \u001b[0;36mcould_extract_minus_sign\u001b[0;34m(self)\u001b[0m\n\u001b[1;32m   2469\u001b[0m                 \u001b[0;31m# We choose the one with less arguments with minus signs\u001b[0m\u001b[0;34m\u001b[0m\u001b[0;34m\u001b[0m\u001b[0;34m\u001b[0m\u001b[0m\n\u001b[1;32m   2470\u001b[0m                 \u001b[0mall_args\u001b[0m \u001b[0;34m=\u001b[0m \u001b[0mlen\u001b[0m\u001b[0;34m(\u001b[0m\u001b[0mself\u001b[0m\u001b[0;34m.\u001b[0m\u001b[0margs\u001b[0m\u001b[0;34m)\u001b[0m\u001b[0;34m\u001b[0m\u001b[0;34m\u001b[0m\u001b[0m\n\u001b[0;32m-> 2471\u001b[0;31m                 \u001b[0mnegative_args\u001b[0m \u001b[0;34m=\u001b[0m \u001b[0mlen\u001b[0m\u001b[0;34m(\u001b[0m\u001b[0;34m[\u001b[0m\u001b[0;32mFalse\u001b[0m \u001b[0;32mfor\u001b[0m \u001b[0marg\u001b[0m \u001b[0;32min\u001b[0m \u001b[0mself\u001b[0m\u001b[0;34m.\u001b[0m\u001b[0margs\u001b[0m \u001b[0;32mif\u001b[0m \u001b[0marg\u001b[0m\u001b[0;34m.\u001b[0m\u001b[0mcould_extract_minus_sign\u001b[0m\u001b[0;34m(\u001b[0m\u001b[0;34m)\u001b[0m\u001b[0;34m]\u001b[0m\u001b[0;34m)\u001b[0m\u001b[0;34m\u001b[0m\u001b[0;34m\u001b[0m\u001b[0m\n\u001b[0m\u001b[1;32m   2472\u001b[0m                 \u001b[0mpositive_args\u001b[0m \u001b[0;34m=\u001b[0m \u001b[0mall_args\u001b[0m \u001b[0;34m-\u001b[0m \u001b[0mnegative_args\u001b[0m\u001b[0;34m\u001b[0m\u001b[0;34m\u001b[0m\u001b[0m\n\u001b[1;32m   2473\u001b[0m                 \u001b[0;32mif\u001b[0m \u001b[0mpositive_args\u001b[0m \u001b[0;34m>\u001b[0m \u001b[0mnegative_args\u001b[0m\u001b[0;34m:\u001b[0m\u001b[0;34m\u001b[0m\u001b[0;34m\u001b[0m\u001b[0m\n",
      "\u001b[0;32m~/.local/lib/python3.8/site-packages/sympy/core/expr.py\u001b[0m in \u001b[0;36m<listcomp>\u001b[0;34m(.0)\u001b[0m\n\u001b[1;32m   2469\u001b[0m                 \u001b[0;31m# We choose the one with less arguments with minus signs\u001b[0m\u001b[0;34m\u001b[0m\u001b[0;34m\u001b[0m\u001b[0;34m\u001b[0m\u001b[0m\n\u001b[1;32m   2470\u001b[0m                 \u001b[0mall_args\u001b[0m \u001b[0;34m=\u001b[0m \u001b[0mlen\u001b[0m\u001b[0;34m(\u001b[0m\u001b[0mself\u001b[0m\u001b[0;34m.\u001b[0m\u001b[0margs\u001b[0m\u001b[0;34m)\u001b[0m\u001b[0;34m\u001b[0m\u001b[0;34m\u001b[0m\u001b[0m\n\u001b[0;32m-> 2471\u001b[0;31m                 \u001b[0mnegative_args\u001b[0m \u001b[0;34m=\u001b[0m \u001b[0mlen\u001b[0m\u001b[0;34m(\u001b[0m\u001b[0;34m[\u001b[0m\u001b[0;32mFalse\u001b[0m \u001b[0;32mfor\u001b[0m \u001b[0marg\u001b[0m \u001b[0;32min\u001b[0m \u001b[0mself\u001b[0m\u001b[0;34m.\u001b[0m\u001b[0margs\u001b[0m \u001b[0;32mif\u001b[0m \u001b[0marg\u001b[0m\u001b[0;34m.\u001b[0m\u001b[0mcould_extract_minus_sign\u001b[0m\u001b[0;34m(\u001b[0m\u001b[0;34m)\u001b[0m\u001b[0;34m]\u001b[0m\u001b[0;34m)\u001b[0m\u001b[0;34m\u001b[0m\u001b[0;34m\u001b[0m\u001b[0m\n\u001b[0m\u001b[1;32m   2472\u001b[0m                 \u001b[0mpositive_args\u001b[0m \u001b[0;34m=\u001b[0m \u001b[0mall_args\u001b[0m \u001b[0;34m-\u001b[0m \u001b[0mnegative_args\u001b[0m\u001b[0;34m\u001b[0m\u001b[0;34m\u001b[0m\u001b[0m\n\u001b[1;32m   2473\u001b[0m                 \u001b[0;32mif\u001b[0m \u001b[0mpositive_args\u001b[0m \u001b[0;34m>\u001b[0m \u001b[0mnegative_args\u001b[0m\u001b[0;34m:\u001b[0m\u001b[0;34m\u001b[0m\u001b[0;34m\u001b[0m\u001b[0m\n",
      "\u001b[0;32m~/.local/lib/python3.8/site-packages/sympy/core/expr.py\u001b[0m in \u001b[0;36mcould_extract_minus_sign\u001b[0;34m(self)\u001b[0m\n\u001b[1;32m   2462\u001b[0m         \u001b[0mself_has_minus\u001b[0m \u001b[0;34m=\u001b[0m \u001b[0;34m(\u001b[0m\u001b[0mself\u001b[0m\u001b[0;34m.\u001b[0m\u001b[0mextract_multiplicatively\u001b[0m\u001b[0;34m(\u001b[0m\u001b[0;34m-\u001b[0m\u001b[0;36m1\u001b[0m\u001b[0;34m)\u001b[0m \u001b[0;32mis\u001b[0m \u001b[0;32mnot\u001b[0m \u001b[0;32mNone\u001b[0m\u001b[0;34m)\u001b[0m\u001b[0;34m\u001b[0m\u001b[0;34m\u001b[0m\u001b[0m\n\u001b[1;32m   2463\u001b[0m         negative_self_has_minus = (\n\u001b[0;32m-> 2464\u001b[0;31m             (negative_self).extract_multiplicatively(-1) is not None)\n\u001b[0m\u001b[1;32m   2465\u001b[0m         \u001b[0;32mif\u001b[0m \u001b[0mself_has_minus\u001b[0m \u001b[0;34m!=\u001b[0m \u001b[0mnegative_self_has_minus\u001b[0m\u001b[0;34m:\u001b[0m\u001b[0;34m\u001b[0m\u001b[0;34m\u001b[0m\u001b[0m\n\u001b[1;32m   2466\u001b[0m             \u001b[0;32mreturn\u001b[0m \u001b[0mself_has_minus\u001b[0m\u001b[0;34m\u001b[0m\u001b[0;34m\u001b[0m\u001b[0m\n",
      "\u001b[0;32m~/.local/lib/python3.8/site-packages/sympy/core/expr.py\u001b[0m in \u001b[0;36mextract_multiplicatively\u001b[0;34m(self, c)\u001b[0m\n\u001b[1;32m   2256\u001b[0m                 \u001b[0;32mif\u001b[0m \u001b[0;32mnot\u001b[0m \u001b[0mquotient\u001b[0m\u001b[0;34m.\u001b[0m\u001b[0mis_Float\u001b[0m\u001b[0;34m:\u001b[0m\u001b[0;34m\u001b[0m\u001b[0;34m\u001b[0m\u001b[0m\n\u001b[1;32m   2257\u001b[0m                     \u001b[0;32mreturn\u001b[0m \u001b[0;32mNone\u001b[0m\u001b[0;34m\u001b[0m\u001b[0;34m\u001b[0m\u001b[0m\n\u001b[0;32m-> 2258\u001b[0;31m                 \u001b[0;32melif\u001b[0m \u001b[0mself\u001b[0m\u001b[0;34m.\u001b[0m\u001b[0mis_positive\u001b[0m \u001b[0;32mand\u001b[0m \u001b[0mquotient\u001b[0m\u001b[0;34m.\u001b[0m\u001b[0mis_negative\u001b[0m\u001b[0;34m:\u001b[0m\u001b[0;34m\u001b[0m\u001b[0;34m\u001b[0m\u001b[0m\n\u001b[0m\u001b[1;32m   2259\u001b[0m                     \u001b[0;32mreturn\u001b[0m \u001b[0;32mNone\u001b[0m\u001b[0;34m\u001b[0m\u001b[0;34m\u001b[0m\u001b[0m\n\u001b[1;32m   2260\u001b[0m                 \u001b[0;32melse\u001b[0m\u001b[0;34m:\u001b[0m\u001b[0;34m\u001b[0m\u001b[0;34m\u001b[0m\u001b[0m\n",
      "\u001b[0;32m~/.local/lib/python3.8/site-packages/sympy/core/assumptions.py\u001b[0m in \u001b[0;36mgetit\u001b[0;34m(self)\u001b[0m\n\u001b[1;32m    456\u001b[0m             \u001b[0;32mif\u001b[0m \u001b[0mself\u001b[0m\u001b[0;34m.\u001b[0m\u001b[0m_assumptions\u001b[0m \u001b[0;32mis\u001b[0m \u001b[0mself\u001b[0m\u001b[0;34m.\u001b[0m\u001b[0mdefault_assumptions\u001b[0m\u001b[0;34m:\u001b[0m\u001b[0;34m\u001b[0m\u001b[0;34m\u001b[0m\u001b[0m\n\u001b[1;32m    457\u001b[0m                 \u001b[0mself\u001b[0m\u001b[0;34m.\u001b[0m\u001b[0m_assumptions\u001b[0m \u001b[0;34m=\u001b[0m \u001b[0mself\u001b[0m\u001b[0;34m.\u001b[0m\u001b[0mdefault_assumptions\u001b[0m\u001b[0;34m.\u001b[0m\u001b[0mcopy\u001b[0m\u001b[0;34m(\u001b[0m\u001b[0;34m)\u001b[0m\u001b[0;34m\u001b[0m\u001b[0;34m\u001b[0m\u001b[0m\n\u001b[0;32m--> 458\u001b[0;31m             \u001b[0;32mreturn\u001b[0m \u001b[0m_ask\u001b[0m\u001b[0;34m(\u001b[0m\u001b[0mfact\u001b[0m\u001b[0;34m,\u001b[0m \u001b[0mself\u001b[0m\u001b[0;34m)\u001b[0m\u001b[0;34m\u001b[0m\u001b[0;34m\u001b[0m\u001b[0m\n\u001b[0m\u001b[1;32m    459\u001b[0m \u001b[0;34m\u001b[0m\u001b[0m\n\u001b[1;32m    460\u001b[0m     \u001b[0mgetit\u001b[0m\u001b[0;34m.\u001b[0m\u001b[0mfunc_name\u001b[0m \u001b[0;34m=\u001b[0m \u001b[0mas_property\u001b[0m\u001b[0;34m(\u001b[0m\u001b[0mfact\u001b[0m\u001b[0;34m)\u001b[0m\u001b[0;34m\u001b[0m\u001b[0;34m\u001b[0m\u001b[0m\n",
      "\u001b[0;32m~/.local/lib/python3.8/site-packages/sympy/core/assumptions.py\u001b[0m in \u001b[0;36m_ask\u001b[0;34m(fact, obj)\u001b[0m\n\u001b[1;32m    501\u001b[0m         \u001b[0ma\u001b[0m \u001b[0;34m=\u001b[0m \u001b[0mevaluate\u001b[0m\u001b[0;34m(\u001b[0m\u001b[0mobj\u001b[0m\u001b[0;34m)\u001b[0m\u001b[0;34m\u001b[0m\u001b[0;34m\u001b[0m\u001b[0m\n\u001b[1;32m    502\u001b[0m         \u001b[0;32mif\u001b[0m \u001b[0ma\u001b[0m \u001b[0;32mis\u001b[0m \u001b[0;32mnot\u001b[0m \u001b[0;32mNone\u001b[0m\u001b[0;34m:\u001b[0m\u001b[0;34m\u001b[0m\u001b[0;34m\u001b[0m\u001b[0m\n\u001b[0;32m--> 503\u001b[0;31m             \u001b[0massumptions\u001b[0m\u001b[0;34m.\u001b[0m\u001b[0mdeduce_all_facts\u001b[0m\u001b[0;34m(\u001b[0m\u001b[0;34m(\u001b[0m\u001b[0;34m(\u001b[0m\u001b[0mfact\u001b[0m\u001b[0;34m,\u001b[0m \u001b[0ma\u001b[0m\u001b[0;34m)\u001b[0m\u001b[0;34m,\u001b[0m\u001b[0;34m)\u001b[0m\u001b[0;34m)\u001b[0m\u001b[0;34m\u001b[0m\u001b[0;34m\u001b[0m\u001b[0m\n\u001b[0m\u001b[1;32m    504\u001b[0m             \u001b[0;32mreturn\u001b[0m \u001b[0ma\u001b[0m\u001b[0;34m\u001b[0m\u001b[0;34m\u001b[0m\u001b[0m\n\u001b[1;32m    505\u001b[0m \u001b[0;34m\u001b[0m\u001b[0m\n",
      "\u001b[0;32m~/.local/lib/python3.8/site-packages/sympy/core/facts.py\u001b[0m in \u001b[0;36mdeduce_all_facts\u001b[0;34m(self, facts)\u001b[0m\n\u001b[1;32m    525\u001b[0m                     \u001b[0mself\u001b[0m\u001b[0;34m.\u001b[0m\u001b[0m_tell\u001b[0m\u001b[0;34m(\u001b[0m\u001b[0mkey\u001b[0m\u001b[0;34m,\u001b[0m \u001b[0mvalue\u001b[0m\u001b[0;34m)\u001b[0m\u001b[0;34m\u001b[0m\u001b[0;34m\u001b[0m\u001b[0m\n\u001b[1;32m    526\u001b[0m \u001b[0;34m\u001b[0m\u001b[0m\n\u001b[0;32m--> 527\u001b[0;31m                 \u001b[0mbeta_maytrigger\u001b[0m\u001b[0;34m.\u001b[0m\u001b[0mupdate\u001b[0m\u001b[0;34m(\u001b[0m\u001b[0mbeta_triggers\u001b[0m\u001b[0;34m[\u001b[0m\u001b[0mk\u001b[0m\u001b[0;34m,\u001b[0m \u001b[0mv\u001b[0m\u001b[0;34m]\u001b[0m\u001b[0;34m)\u001b[0m\u001b[0;34m\u001b[0m\u001b[0;34m\u001b[0m\u001b[0m\n\u001b[0m\u001b[1;32m    528\u001b[0m \u001b[0;34m\u001b[0m\u001b[0m\n\u001b[1;32m    529\u001b[0m             \u001b[0;31m# --- beta chains ---\u001b[0m\u001b[0;34m\u001b[0m\u001b[0;34m\u001b[0m\u001b[0;34m\u001b[0m\u001b[0m\n",
      "\u001b[0;31mKeyboardInterrupt\u001b[0m: "
     ]
    }
   ],
   "source": [
    "Eq(-2*t/(t**2+z**2)/(exp(2*pi*t)-1),\n",
    "    Integral(Derivative(1/(exp(2*pi*t+(t+I*z)*s)-1)/(s+2*pi),t),(s,0,1000)) +\n",
    "    Integral(Derivative(1/(exp(2*pi*t+(t-I*z)*s)-1)/(s+2*pi),t),(s,0,1000))\n",
    ").subs([(z,1+I*pi), (t,0.3)]).doit().evalf()"
   ]
  },
  {
   "cell_type": "code",
   "execution_count": 97,
   "metadata": {},
   "outputs": [
    {
     "data": {
      "text/latex": [
       "$\\displaystyle 0.00809042601813356 + 0.00578996997628422 i$"
      ],
      "text/plain": [
       "0.00809042601813356 + 0.00578996997628422*I"
      ]
     },
     "execution_count": 97,
     "metadata": {},
     "output_type": "execute_result"
    }
   ],
   "source": [
    "(-2*t/(t**2+z**2)/(exp(2*pi*t)-1))"
   ]
  },
  {
   "cell_type": "code",
   "execution_count": 99,
   "metadata": {},
   "outputs": [
    {
     "data": {
      "text/latex": [
       "$\\displaystyle 0.321225701379069 + 0.115987071930834 i$"
      ],
      "text/plain": [
       "0.321225701379069 + 0.115987071930834*I"
      ]
     },
     "execution_count": 99,
     "metadata": {},
     "output_type": "execute_result"
    }
   ],
   "source": [
    "(Integral(Derivative(1/(exp(2*pi*t+(t+I*z)*s)-1)/(s+2*pi),t),(s,0,100)) +\n",
    "    Integral(Derivative(1/(exp(2*pi*t+(t-I*z)*s)-1)/(s+2*pi),t),(s,0,100))\n",
    ").subs([(z,1+I*pi), (t,0.3)]).doit().evalf()\n"
   ]
  },
  {
   "cell_type": "markdown",
   "metadata": {},
   "source": [
    "## Equivalent infinite integral"
   ]
  },
  {
   "cell_type": "code",
   "execution_count": 315,
   "metadata": {},
   "outputs": [
    {
     "data": {
      "text/latex": [
       "$\\displaystyle \\frac{\\frac{1}{- i e^{2 k} e^{i \\pi k} + 1} + \\frac{1}{- i e^{2 k} - 1}}{k - 1}$"
      ],
      "text/plain": [
       "(1/(-I*exp(2*k)*exp(I*pi*k) + 1) + 1/(-I*exp(2*k) - 1))/(k - 1)"
      ]
     },
     "execution_count": 315,
     "metadata": {},
     "output_type": "execute_result"
    }
   ],
   "source": [
    "(1/(-I*exp(I*pi*k)*exp(2*k)+1) + 1/(-I*exp(2*k)-1))/(k-1)"
   ]
  },
  {
   "cell_type": "code",
   "execution_count": 242,
   "metadata": {},
   "outputs": [
    {
     "data": {
      "text/latex": [
       "$\\displaystyle \\frac{1}{\\left(k - 1\\right) \\left(- i e^{\\alpha s + \\beta k s + \\delta k} + 1\\right)}$"
      ],
      "text/plain": [
       "1/((k - 1)*(-I*exp(alpha*s + beta*k*s + delta*k) + 1))"
      ]
     },
     "execution_count": 242,
     "metadata": {},
     "output_type": "execute_result"
    }
   ],
   "source": [
    "(1/(-I*exp(alpha*s+beta*s*k+delta*k)+1))/(k-1)"
   ]
  },
  {
   "cell_type": "code",
   "execution_count": 243,
   "metadata": {},
   "outputs": [
    {
     "data": {
      "text/latex": [
       "$\\displaystyle \\frac{1}{\\left(k - 1\\right) \\left(- i e^{\\delta k} + 1\\right)}$"
      ],
      "text/plain": [
       "1/((k - 1)*(-I*exp(delta*k) + 1))"
      ]
     },
     "execution_count": 243,
     "metadata": {},
     "output_type": "execute_result"
    }
   ],
   "source": [
    "((1/(-I*exp(alpha*s+beta*s*k+delta*k)+1))/(k-1)).subs(s,0)"
   ]
  },
  {
   "cell_type": "code",
   "execution_count": 255,
   "metadata": {},
   "outputs": [
    {
     "data": {
      "text/latex": [
       "$\\displaystyle \\frac{\\partial}{\\partial s} \\frac{1}{\\left(k - 1\\right) \\left(- i e^{\\alpha s + \\beta k s + \\delta k} + 1\\right)} = \\frac{i \\left(\\alpha + \\beta k\\right) e^{\\alpha s + \\beta k s + \\delta k}}{\\left(k - 1\\right) \\left(- i e^{\\alpha s + \\beta k s + \\delta k} + 1\\right)^{2}}$"
      ],
      "text/plain": [
       "Eq(Derivative(1/((k - 1)*(-I*exp(alpha*s + beta*k*s + delta*k) + 1)), s), I*(alpha + beta*k)*exp(alpha*s + beta*k*s + delta*k)/((k - 1)*(-I*exp(alpha*s + beta*k*s + delta*k) + 1)**2))"
      ]
     },
     "execution_count": 255,
     "metadata": {},
     "output_type": "execute_result"
    }
   ],
   "source": [
    "Eq(Derivative((1/(-I*exp(alpha*s+beta*s*k+delta*k)+1))/(k-1),s), \n",
    "   Derivative((1/(-I*exp(alpha*s+beta*s*k+delta*k)+1))/(k-1),s).doit())"
   ]
  },
  {
   "cell_type": "code",
   "execution_count": 265,
   "metadata": {},
   "outputs": [
    {
     "data": {
      "text/latex": [
       "$\\displaystyle \\frac{\\partial}{\\partial k} \\frac{1}{\\left(- i e^{- \\alpha k s + \\alpha s + \\delta k} + 1\\right) \\left(- \\alpha s + \\delta\\right)} = \\frac{i e^{- \\alpha k s + \\alpha s + \\delta k}}{\\left(- i e^{- \\alpha k s + \\alpha s + \\delta k} + 1\\right)^{2}}$"
      ],
      "text/plain": [
       "Eq(Derivative(1/((-I*exp(-alpha*k*s + alpha*s + delta*k) + 1)*(-alpha*s + delta)), k), I*exp(-alpha*k*s + alpha*s + delta*k)/(-I*exp(-alpha*k*s + alpha*s + delta*k) + 1)**2)"
      ]
     },
     "execution_count": 265,
     "metadata": {},
     "output_type": "execute_result"
    }
   ],
   "source": [
    "Eq(Derivative((1/(-I*exp(alpha*s+beta*s*k+delta*k)+1))/(beta*s+delta),k), \n",
    "   Derivative((1/(-I*exp(alpha*s+beta*s*k+delta*k)+1))/(beta*s+delta),k).doit()).subs(beta,-alpha)"
   ]
  },
  {
   "cell_type": "code",
   "execution_count": 264,
   "metadata": {},
   "outputs": [
    {
     "data": {
      "text/latex": [
       "$\\displaystyle - \\frac{\\partial}{\\partial s} \\frac{1}{\\alpha \\left(k - 1\\right) \\left(- i e^{- \\alpha k s + \\alpha s + \\delta k} + 1\\right)} = - \\frac{i \\left(- \\alpha k + \\alpha\\right) e^{- \\alpha k s + \\alpha s + \\delta k}}{\\alpha \\left(k - 1\\right) \\left(- i e^{- \\alpha k s + \\alpha s + \\delta k} + 1\\right)^{2}}$"
      ],
      "text/plain": [
       "Eq(-Derivative(1/(alpha*(k - 1)*(-I*exp(-alpha*k*s + alpha*s + delta*k) + 1)), s), -I*(-alpha*k + alpha)*exp(-alpha*k*s + alpha*s + delta*k)/(alpha*(k - 1)*(-I*exp(-alpha*k*s + alpha*s + delta*k) + 1)**2))"
      ]
     },
     "execution_count": 264,
     "metadata": {},
     "output_type": "execute_result"
    }
   ],
   "source": [
    "Eq(-Derivative((1/(-I*exp(alpha*s+beta*s*k+delta*k)+1))/(k-1)/alpha,s), \n",
    "   -Derivative((1/(-I*exp(alpha*s+beta*s*k+delta*k)+1))/(k-1)/alpha,s).doit()).subs(beta,-alpha)"
   ]
  },
  {
   "cell_type": "code",
   "execution_count": 266,
   "metadata": {},
   "outputs": [
    {
     "data": {
      "text/latex": [
       "$\\displaystyle \\frac{\\partial}{\\partial k} \\frac{1}{\\left(- i e^{- \\alpha k s + \\alpha s + \\delta k} + 1\\right) \\left(- \\alpha s + \\delta\\right)} = - \\frac{\\partial}{\\partial s} \\frac{1}{\\alpha \\left(k - 1\\right) \\left(- i e^{\\alpha s + \\beta k s + \\delta k} + 1\\right)}$"
      ],
      "text/plain": [
       "Eq(Derivative(1/((-I*exp(-alpha*k*s + alpha*s + delta*k) + 1)*(-alpha*s + delta)), k), -Derivative(1/(alpha*(k - 1)*(-I*exp(alpha*s + beta*k*s + delta*k) + 1)), s))"
      ]
     },
     "execution_count": 266,
     "metadata": {},
     "output_type": "execute_result"
    }
   ],
   "source": [
    "Eq(Derivative((1/(-I*exp(alpha*s-alpha*s*k+delta*k)+1))/(-alpha*s+delta),k), \n",
    "   -Derivative((1/(-I*exp(alpha*s+beta*s*k+delta*k)+1))/(k-1)/alpha,s))"
   ]
  },
  {
   "cell_type": "code",
   "execution_count": 273,
   "metadata": {},
   "outputs": [
    {
     "data": {
      "text/latex": [
       "$\\displaystyle \\frac{\\partial}{\\partial k} \\frac{1}{\\left(- i e^{- \\alpha k s + \\alpha s + \\delta k} + 1\\right) \\left(\\alpha s - \\delta\\right)} = \\frac{\\partial}{\\partial s} \\frac{1}{\\alpha \\left(k - 1\\right) \\left(- i e^{- \\alpha k s + \\alpha s + \\delta k} + 1\\right)}$"
      ],
      "text/plain": [
       "Eq(Derivative(1/((-I*exp(-alpha*k*s + alpha*s + delta*k) + 1)*(alpha*s - delta)), k), Derivative(1/(alpha*(k - 1)*(-I*exp(-alpha*k*s + alpha*s + delta*k) + 1)), s))"
      ]
     },
     "execution_count": 273,
     "metadata": {},
     "output_type": "execute_result"
    }
   ],
   "source": [
    "Eq(Derivative((1/(-I*exp(alpha*s-alpha*s*k+delta*k)+1))/(alpha*s-delta),k), \n",
    "   Derivative((1/(-I*exp(alpha*s-alpha*s*k+delta*k)+1))/(k-1)/alpha,s))"
   ]
  },
  {
   "cell_type": "code",
   "execution_count": 274,
   "metadata": {},
   "outputs": [
    {
     "data": {
      "text/latex": [
       "$\\displaystyle \\text{True}$"
      ],
      "text/plain": [
       "True"
      ]
     },
     "execution_count": 274,
     "metadata": {},
     "output_type": "execute_result"
    }
   ],
   "source": [
    "Eq(Derivative((1/(-I*exp(alpha*s-alpha*s*k+delta*k)+1))/(alpha*s-delta),k), \n",
    "   Derivative((1/(-I*exp(alpha*s-alpha*s*k+delta*k)+1))/(k-1)/alpha,s)).doit().simplify()"
   ]
  },
  {
   "cell_type": "code",
   "execution_count": 276,
   "metadata": {},
   "outputs": [
    {
     "data": {
      "text/latex": [
       "$\\displaystyle \\frac{\\partial}{\\partial k} \\frac{1}{\\left(- \\delta + s\\right) \\left(- i e^{\\delta k - k s + s} + 1\\right)} = \\frac{\\partial}{\\partial s} \\frac{1}{\\left(k - 1\\right) \\left(- i e^{\\delta k - k s + s} + 1\\right)}$"
      ],
      "text/plain": [
       "Eq(Derivative(1/((-delta + s)*(-I*exp(delta*k - k*s + s) + 1)), k), Derivative(1/((k - 1)*(-I*exp(delta*k - k*s + s) + 1)), s))"
      ]
     },
     "execution_count": 276,
     "metadata": {},
     "output_type": "execute_result"
    }
   ],
   "source": [
    "Eq(Derivative((1/(-I*exp(alpha*s-alpha*s*k+delta*k)+1))/(alpha*s-delta),k), \n",
    "   Derivative((1/(-I*exp(alpha*s-alpha*s*k+delta*k)+1))/(k-1)/alpha,s)).subs(alpha,1)"
   ]
  },
  {
   "cell_type": "code",
   "execution_count": 316,
   "metadata": {},
   "outputs": [
    {
     "data": {
      "text/latex": [
       "$\\displaystyle \\frac{\\partial}{\\partial k} \\frac{1}{\\left(- \\delta + s\\right) \\left(i e^{\\delta k - k s + s} + 1\\right)} = \\frac{\\partial}{\\partial s} \\frac{1}{\\left(k - 1\\right) \\left(i e^{\\delta k - k s + s} + 1\\right)}$"
      ],
      "text/plain": [
       "Eq(Derivative(1/((-delta + s)*(I*exp(delta*k - k*s + s) + 1)), k), Derivative(1/((k - 1)*(I*exp(delta*k - k*s + s) + 1)), s))"
      ]
     },
     "execution_count": 316,
     "metadata": {},
     "output_type": "execute_result"
    }
   ],
   "source": [
    "Eq(Derivative((1/(I*exp(alpha*s-alpha*s*k+delta*k)+1))/(alpha*s-delta),k), \n",
    "   Derivative((1/(I*exp(alpha*s-alpha*s*k+delta*k)+1))/(k-1)/alpha,s)).subs(alpha,1)"
   ]
  },
  {
   "cell_type": "code",
   "execution_count": 319,
   "metadata": {},
   "outputs": [
    {
     "data": {
      "text/latex": [
       "$\\displaystyle \\frac{\\partial}{\\partial k} \\frac{1}{\\left(- i e^{- k s + k \\left(2 + i \\pi\\right) + s} + 1\\right) \\left(s - 2 - i \\pi\\right)} = \\frac{\\partial}{\\partial s} \\frac{1}{\\left(k - 1\\right) \\left(- i e^{- k s + k \\left(2 + i \\pi\\right) + s} + 1\\right)}$"
      ],
      "text/plain": [
       "Eq(Derivative(1/((-I*exp(-k*s + k*(2 + I*pi) + s) + 1)*(s - 2 - I*pi)), k), Derivative(1/((k - 1)*(-I*exp(-k*s + k*(2 + I*pi) + s) + 1)), s))"
      ]
     },
     "execution_count": 319,
     "metadata": {},
     "output_type": "execute_result"
    }
   ],
   "source": [
    "Eq(Derivative((1/(-I*exp(alpha*s-alpha*s*k+delta*k)+1))/(alpha*s-delta),k), \n",
    "   Derivative((1/(-I*exp(alpha*s-alpha*s*k+delta*k)+1))/(k-1)/alpha,s)).subs(alpha,1).subs(delta,2+I*pi)"
   ]
  },
  {
   "cell_type": "code",
   "execution_count": 320,
   "metadata": {},
   "outputs": [
    {
     "data": {
      "text/latex": [
       "$\\displaystyle \\frac{\\partial}{\\partial k} \\frac{1}{\\left(s - 2\\right) \\left(i e^{- k s + 2 k + s} + 1\\right)} = \\frac{\\partial}{\\partial s} \\frac{1}{\\left(k - 1\\right) \\left(i e^{- k s + 2 k + s} + 1\\right)}$"
      ],
      "text/plain": [
       "Eq(Derivative(1/((s - 2)*(I*exp(-k*s + 2*k + s) + 1)), k), Derivative(1/((k - 1)*(I*exp(-k*s + 2*k + s) + 1)), s))"
      ]
     },
     "execution_count": 320,
     "metadata": {},
     "output_type": "execute_result"
    }
   ],
   "source": [
    "Eq(Derivative((1/(I*exp(alpha*s-alpha*s*k+delta*k)+1))/(alpha*s-delta),k), \n",
    "   Derivative((1/(I*exp(alpha*s-alpha*s*k+delta*k)+1))/(k-1)/alpha,s)).subs(alpha,1).subs(delta,2)"
   ]
  },
  {
   "cell_type": "code",
   "execution_count": 326,
   "metadata": {},
   "outputs": [
    {
     "data": {
      "text/latex": [
       "$\\displaystyle \\frac{\\partial}{\\partial k} \\left(\\frac{1}{\\left(- i e^{- k s + k \\left(2 + i \\pi\\right) + s} + 1\\right) \\left(s - 2 - i \\pi\\right)} - \\frac{1}{\\left(s - 2\\right) \\left(i e^{- k s + 2 k + s} + 1\\right)}\\right) = \\frac{\\partial}{\\partial s} \\left(\\frac{1}{\\left(k - 1\\right) \\left(- i e^{- k s + k \\left(2 + i \\pi\\right) + s} + 1\\right)} - \\frac{1}{\\left(k - 1\\right) \\left(i e^{- k s + 2 k + s} + 1\\right)}\\right)$"
      ],
      "text/plain": [
       "Eq(Derivative(1/((-I*exp(-k*s + k*(2 + I*pi) + s) + 1)*(s - 2 - I*pi)) - 1/((s - 2)*(I*exp(-k*s + 2*k + s) + 1)), k), Derivative(1/((k - 1)*(-I*exp(-k*s + k*(2 + I*pi) + s) + 1)) - 1/((k - 1)*(I*exp(-k*s + 2*k + s) + 1)), s))"
      ]
     },
     "execution_count": 326,
     "metadata": {},
     "output_type": "execute_result"
    }
   ],
   "source": [
    "Eq(\n",
    "Derivative((1/(-I*exp(s-s*k+(2+I*pi)*k)+1))/(s-(2+I*pi))-(1/(I*exp(s-s*k+2*k)+1))/(s-2),k),\n",
    "Derivative((1/(-I*exp(s-s*k+(2+I*pi)*k)+1))/(k-1)-(1/(I*exp(s-s*k+2*k)+1))/(k-1),s)\n",
    ")"
   ]
  },
  {
   "cell_type": "code",
   "execution_count": 328,
   "metadata": {},
   "outputs": [
    {
     "data": {
      "text/latex": [
       "$\\displaystyle \\text{True}$"
      ],
      "text/plain": [
       "True"
      ]
     },
     "execution_count": 328,
     "metadata": {},
     "output_type": "execute_result"
    }
   ],
   "source": [
    "Eq(\n",
    "Derivative((1/(-I*exp(s-s*k+(2+I*pi)*k)+1))/(s-(2+I*pi))-(1/(I*exp(s-s*k+2*k)+1))/(s-2),k),\n",
    "Derivative((1/(-I*exp(s-s*k+(2+I*pi)*k)+1))/(k-1)-(1/(I*exp(s-s*k+2*k)+1))/(k-1),s)\n",
    ").doit().simplify()"
   ]
  },
  {
   "cell_type": "code",
   "execution_count": 321,
   "metadata": {},
   "outputs": [
    {
     "data": {
      "text/latex": [
       "$\\displaystyle \\int\\limits_{0}^{\\infty}\\int\\limits_{0}^{\\infty} \\frac{\\partial}{\\partial k} \\left(\\frac{1}{\\left(- i e^{- k s + k \\left(2 + i \\pi\\right) + s} + 1\\right) \\left(s - 2 - i \\pi\\right)} - \\frac{1}{\\left(s - 2\\right) \\left(i e^{- k s + 2 k + s} + 1\\right)}\\right)\\, dk\\, ds = \\int\\limits_{0}^{\\infty}\\int\\limits_{0}^{\\infty} \\frac{\\partial}{\\partial s} \\left(\\frac{1}{\\left(k - 1\\right) \\left(- i e^{- k s + k \\left(2 + i \\pi\\right) + s} + 1\\right)} - \\frac{1}{\\left(k - 1\\right) \\left(i e^{- k s + 2 k + s} + 1\\right)}\\right)\\, ds\\, dk$"
      ],
      "text/plain": [
       "Eq(Integral(Derivative(1/((-I*exp(-k*s + k*(2 + I*pi) + s) + 1)*(s - 2 - I*pi)) - 1/((s - 2)*(I*exp(-k*s + 2*k + s) + 1)), k), (k, 0, oo), (s, 0, oo)), Integral(Derivative(1/((k - 1)*(-I*exp(-k*s + k*(2 + I*pi) + s) + 1)) - 1/((k - 1)*(I*exp(-k*s + 2*k + s) + 1)), s), (s, 0, oo), (k, 0, oo)))"
      ]
     },
     "execution_count": 321,
     "metadata": {},
     "output_type": "execute_result"
    }
   ],
   "source": [
    "Eq(\n",
    "    Integral(Integral(\n",
    "        Derivative((1/(-I*exp(s-s*k+(2+I*pi)*k)+1))/(s-(2+I*pi))-(1/(I*exp(s-s*k+2*k)+1))/(s-2),k)\n",
    "    ,(k,0,oo)),(s,0,oo)), \n",
    "   Integral(Integral(\n",
    "        Derivative((1/(-I*exp(s-s*k+(2+I*pi)*k)+1))/(k-1)-(1/(I*exp(s-s*k+2*k)+1))/(k-1),s)\n",
    "    ,(s,0,oo)),(k,0,oo))\n",
    ")"
   ]
  },
  {
   "cell_type": "code",
   "execution_count": 333,
   "metadata": {},
   "outputs": [
    {
     "data": {
      "text/latex": [
       "$\\displaystyle \\int\\limits_{0}^{\\infty} \\left(- \\frac{1}{\\left(- i e^{s} + 1\\right) \\left(s - 2 - i \\pi\\right)} + \\frac{1}{s - i \\pi} + \\frac{1}{\\left(s - 2\\right) \\left(i e^{s} + 1\\right)} - \\frac{1}{s}\\right)\\, ds = \\int\\limits_{0}^{\\infty} \\left(- \\frac{1}{\\left(k - 1\\right) \\left(- i e^{k \\left(2 + i \\pi\\right)} + 1\\right)} + \\frac{1}{\\left(k - 1\\right) \\left(i e^{2 k} + 1\\right)}\\right)\\, dk$"
      ],
      "text/plain": [
       "Eq(Integral(-1/((-I*exp(s) + 1)*(s - 2 - I*pi)) + 1/(s - I*pi) + 1/((s - 2)*(I*exp(s) + 1)) - 1/s, (s, 0, oo)), Integral(-1/((k - 1)*(-I*exp(k*(2 + I*pi)) + 1)) + 1/((k - 1)*(I*exp(2*k) + 1)), (k, 0, oo)))"
      ]
     },
     "execution_count": 333,
     "metadata": {},
     "output_type": "execute_result"
    }
   ],
   "source": [
    "Eq(\n",
    "    Integral((1/(s-I*pi) - 1/s) - (1/(-I*exp(s)+1))/(s-(2+I*pi))+(1/(I*exp(s)+1))/(s-2),(s,0,oo)), \n",
    "   Integral(-(1/(-I*exp((2+I*pi)*k)+1))/(k-1)+(1/(I*exp(2*k)+1))/(k-1),(k,0,oo))\n",
    ")"
   ]
  },
  {
   "cell_type": "code",
   "execution_count": 343,
   "metadata": {},
   "outputs": [
    {
     "data": {
      "text/latex": [
       "$\\displaystyle -1.0 + 2.0 i$"
      ],
      "text/plain": [
       "-0.e+0 + 0.e+0*I"
      ]
     },
     "execution_count": 343,
     "metadata": {},
     "output_type": "execute_result"
    }
   ],
   "source": [
    "Integral((1/(s-I*pi) - 1/s) - (1/(-I*exp(s)+1))/(s-(2+I*pi))+(1/(I*exp(s)+1))/(s-2),(s,0.0001,3)).evalf()"
   ]
  },
  {
   "cell_type": "code",
   "execution_count": 338,
   "metadata": {},
   "outputs": [
    {
     "data": {
      "text/latex": [
       "$\\displaystyle 0.406290736245994 + 0.547480804574095 i$"
      ],
      "text/plain": [
       "0.406290736245994 + 0.547480804574095*I"
      ]
     },
     "execution_count": 338,
     "metadata": {},
     "output_type": "execute_result"
    }
   ],
   "source": [
    "Integral(-(1/(-I*exp((2+I*pi)*k)+1))/(k-1)+(1/(I*exp(2*k)+1))/(k-1),(k,0.0001,100)).evalf()"
   ]
  },
  {
   "cell_type": "code",
   "execution_count": 344,
   "metadata": {},
   "outputs": [
    {
     "data": {
      "image/png": "[encoded data removed]",
      "text/plain": [
       "<Figure size 432x288 with 1 Axes>"
      ]
     },
     "metadata": {
      "needs_background": "light"
     },
     "output_type": "display_data"
    },
    {
     "data": {
      "text/plain": [
       "<sympy.plotting.plot.Plot at 0x7fbf19e695e0>"
      ]
     },
     "execution_count": 344,
     "metadata": {},
     "output_type": "execute_result"
    }
   ],
   "source": [
    "plot(re((1/(-I*exp(s)+1))/(s-(2+I*pi))+(1/(I*exp(s)+1))/(s-2)),(s,0,10))"
   ]
  },
  {
   "cell_type": "code",
   "execution_count": 287,
   "metadata": {},
   "outputs": [
    {
     "data": {
      "text/latex": [
       "$\\displaystyle \\int\\limits_{0}^{\\infty}\\int\\limits_{0}^{\\infty} \\left(- \\frac{\\partial}{\\partial k} \\frac{1}{\\left(s - 2\\right) \\left(- i e^{- k s + 2 k + s} + 1\\right)} + \\frac{\\partial}{\\partial k} \\frac{1}{\\left(- i e^{- k s + k \\left(2 + i \\pi\\right) + s} + 1\\right) \\left(s - 2 - i \\pi\\right)}\\right)\\, dk\\, ds = \\int\\limits_{0}^{\\infty} \\left(\\frac{1}{\\left(k - 1\\right) \\left(- i e^{k \\left(2 + i \\pi\\right)} + 1\\right)} - \\frac{1}{\\left(k - 1\\right) \\left(- i e^{2 k} + 1\\right)}\\right)\\, dk$"
      ],
      "text/plain": [
       "Eq(Integral(-Derivative(1/((s - 2)*(-I*exp(-k*s + 2*k + s) + 1)), k) + Derivative(1/((-I*exp(-k*s + k*(2 + I*pi) + s) + 1)*(s - 2 - I*pi)), k), (k, 0, oo), (s, 0, oo)), Integral(1/((k - 1)*(-I*exp(k*(2 + I*pi)) + 1)) - 1/((k - 1)*(-I*exp(2*k) + 1)), (k, 0, oo)))"
      ]
     },
     "execution_count": 287,
     "metadata": {},
     "output_type": "execute_result"
    }
   ],
   "source": [
    "Eq(\n",
    "    Integral(Integral(\n",
    "        Derivative((1/(-I*exp(s-s*k+delta*k)+1))/(s-delta),k).subs(delta,mu) - \n",
    "        Derivative((1/(-I*exp(s-s*k+delta*k)+1))/(s-delta),k).subs(delta,nu)\n",
    "    ,(k,0,oo)),(s,0,oo)), \n",
    "   Integral(\n",
    "        (1/(-I*exp(s-s*k+delta*k)+1)/(k-1)).subs([(delta,mu),(s,0)]) - \n",
    "        (1/(-I*exp(s-s*k+delta*k)+1)/(k-1)).subs([(delta,nu),(s,0)])\n",
    "    ,(k,0,oo))\n",
    ").subs([(mu,2+I*pi),(nu,2)])"
   ]
  },
  {
   "cell_type": "code",
   "execution_count": 299,
   "metadata": {},
   "outputs": [
    {
     "ename": "KeyboardInterrupt",
     "evalue": "",
     "output_type": "error",
     "traceback": [
      "\u001b[0;31m---------------------------------------------------------------------------\u001b[0m",
      "\u001b[0;31mKeyboardInterrupt\u001b[0m                         Traceback (most recent call last)",
      "\u001b[0;32m<ipython-input-299-2c66b0f566a0>\u001b[0m in \u001b[0;36m<module>\u001b[0;34m\u001b[0m\n\u001b[0;32m----> 1\u001b[0;31m Eq(\n\u001b[0m\u001b[1;32m      2\u001b[0m     (Integral((\n\u001b[1;32m      3\u001b[0m         \u001b[0;34m(\u001b[0m\u001b[0;36m1\u001b[0m\u001b[0;34m/\u001b[0m\u001b[0;34m(\u001b[0m\u001b[0;34m-\u001b[0m\u001b[0mI\u001b[0m\u001b[0;34m*\u001b[0m\u001b[0mexp\u001b[0m\u001b[0;34m(\u001b[0m\u001b[0ms\u001b[0m\u001b[0;34m-\u001b[0m\u001b[0ms\u001b[0m\u001b[0;34m*\u001b[0m\u001b[0mk\u001b[0m\u001b[0;34m+\u001b[0m\u001b[0mdelta\u001b[0m\u001b[0;34m*\u001b[0m\u001b[0mk\u001b[0m\u001b[0;34m)\u001b[0m\u001b[0;34m+\u001b[0m\u001b[0;36m1\u001b[0m\u001b[0;34m)\u001b[0m\u001b[0;34m/\u001b[0m\u001b[0;34m(\u001b[0m\u001b[0ms\u001b[0m\u001b[0;34m-\u001b[0m\u001b[0mdelta\u001b[0m\u001b[0;34m)\u001b[0m\u001b[0;34m)\u001b[0m\u001b[0;34m.\u001b[0m\u001b[0msubs\u001b[0m\u001b[0;34m(\u001b[0m\u001b[0mdelta\u001b[0m\u001b[0;34m,\u001b[0m\u001b[0mmu\u001b[0m\u001b[0;34m)\u001b[0m \u001b[0;34m-\u001b[0m\u001b[0;34m\u001b[0m\u001b[0;34m\u001b[0m\u001b[0m\n\u001b[1;32m      4\u001b[0m         \u001b[0;34m(\u001b[0m\u001b[0;36m1\u001b[0m\u001b[0;34m/\u001b[0m\u001b[0;34m(\u001b[0m\u001b[0;34m-\u001b[0m\u001b[0mI\u001b[0m\u001b[0;34m*\u001b[0m\u001b[0mexp\u001b[0m\u001b[0;34m(\u001b[0m\u001b[0ms\u001b[0m\u001b[0;34m-\u001b[0m\u001b[0ms\u001b[0m\u001b[0;34m*\u001b[0m\u001b[0mk\u001b[0m\u001b[0;34m+\u001b[0m\u001b[0mdelta\u001b[0m\u001b[0;34m*\u001b[0m\u001b[0mk\u001b[0m\u001b[0;34m)\u001b[0m\u001b[0;34m+\u001b[0m\u001b[0;36m1\u001b[0m\u001b[0;34m)\u001b[0m\u001b[0;34m/\u001b[0m\u001b[0;34m(\u001b[0m\u001b[0ms\u001b[0m\u001b[0;34m-\u001b[0m\u001b[0mdelta\u001b[0m\u001b[0;34m)\u001b[0m\u001b[0;34m)\u001b[0m\u001b[0;34m.\u001b[0m\u001b[0msubs\u001b[0m\u001b[0;34m(\u001b[0m\u001b[0mdelta\u001b[0m\u001b[0;34m,\u001b[0m\u001b[0mnu\u001b[0m\u001b[0;34m)\u001b[0m\u001b[0;34m\u001b[0m\u001b[0;34m\u001b[0m\u001b[0m\n\u001b[1;32m      5\u001b[0m     ).subs([(mu,2+I*pi),(nu,2),(k,0)]),(s,0,oo)) + Integral(\n",
      "\u001b[0;32m~/.local/lib/python3.8/site-packages/sympy/core/relational.py\u001b[0m in \u001b[0;36m__new__\u001b[0;34m(cls, lhs, rhs, **options)\u001b[0m\n\u001b[1;32m    504\u001b[0m         \u001b[0mrhs\u001b[0m \u001b[0;34m=\u001b[0m \u001b[0m_sympify\u001b[0m\u001b[0;34m(\u001b[0m\u001b[0mrhs\u001b[0m\u001b[0;34m)\u001b[0m\u001b[0;34m\u001b[0m\u001b[0;34m\u001b[0m\u001b[0m\n\u001b[1;32m    505\u001b[0m         \u001b[0;32mif\u001b[0m \u001b[0mevaluate\u001b[0m\u001b[0;34m:\u001b[0m\u001b[0;34m\u001b[0m\u001b[0;34m\u001b[0m\u001b[0m\n\u001b[0;32m--> 506\u001b[0;31m             \u001b[0mval\u001b[0m \u001b[0;34m=\u001b[0m \u001b[0mis_eq\u001b[0m\u001b[0;34m(\u001b[0m\u001b[0mlhs\u001b[0m\u001b[0;34m,\u001b[0m \u001b[0mrhs\u001b[0m\u001b[0;34m)\u001b[0m\u001b[0;34m\u001b[0m\u001b[0;34m\u001b[0m\u001b[0m\n\u001b[0m\u001b[1;32m    507\u001b[0m             \u001b[0;32mif\u001b[0m \u001b[0mval\u001b[0m \u001b[0;32mis\u001b[0m \u001b[0;32mNone\u001b[0m\u001b[0;34m:\u001b[0m\u001b[0;34m\u001b[0m\u001b[0;34m\u001b[0m\u001b[0m\n\u001b[1;32m    508\u001b[0m                 \u001b[0;32mreturn\u001b[0m \u001b[0mcls\u001b[0m\u001b[0;34m(\u001b[0m\u001b[0mlhs\u001b[0m\u001b[0;34m,\u001b[0m \u001b[0mrhs\u001b[0m\u001b[0;34m,\u001b[0m \u001b[0mevaluate\u001b[0m\u001b[0;34m=\u001b[0m\u001b[0;32mFalse\u001b[0m\u001b[0;34m)\u001b[0m\u001b[0;34m\u001b[0m\u001b[0;34m\u001b[0m\u001b[0m\n",
      "\u001b[0;32m~/.local/lib/python3.8/site-packages/sympy/core/relational.py\u001b[0m in \u001b[0;36mis_eq\u001b[0;34m(lhs, rhs)\u001b[0m\n\u001b[1;32m   1405\u001b[0m                 \u001b[0;32mreturn\u001b[0m \u001b[0;32mTrue\u001b[0m\u001b[0;34m\u001b[0m\u001b[0;34m\u001b[0m\u001b[0m\n\u001b[1;32m   1406\u001b[0m \u001b[0;34m\u001b[0m\u001b[0m\n\u001b[0;32m-> 1407\u001b[0;31m         \u001b[0mn2\u001b[0m \u001b[0;34m=\u001b[0m \u001b[0m_n2\u001b[0m\u001b[0;34m(\u001b[0m\u001b[0mlhs\u001b[0m\u001b[0;34m,\u001b[0m \u001b[0mrhs\u001b[0m\u001b[0;34m)\u001b[0m\u001b[0;34m\u001b[0m\u001b[0;34m\u001b[0m\u001b[0m\n\u001b[0m\u001b[1;32m   1408\u001b[0m         \u001b[0;32mif\u001b[0m \u001b[0mn2\u001b[0m \u001b[0;32mis\u001b[0m \u001b[0;32mnot\u001b[0m \u001b[0;32mNone\u001b[0m\u001b[0;34m:\u001b[0m\u001b[0;34m\u001b[0m\u001b[0;34m\u001b[0m\u001b[0m\n\u001b[1;32m   1409\u001b[0m             \u001b[0;32mreturn\u001b[0m \u001b[0m_sympify\u001b[0m\u001b[0;34m(\u001b[0m\u001b[0mn2\u001b[0m \u001b[0;34m==\u001b[0m \u001b[0;36m0\u001b[0m\u001b[0;34m)\u001b[0m\u001b[0;34m\u001b[0m\u001b[0;34m\u001b[0m\u001b[0m\n",
      "\u001b[0;32m~/.local/lib/python3.8/site-packages/sympy/core/relational.py\u001b[0m in \u001b[0;36m_n2\u001b[0;34m(a, b)\u001b[0m\n\u001b[1;32m   1070\u001b[0m     \u001b[0;31m# /!\\ it is very important (see issue 8245) not to\u001b[0m\u001b[0;34m\u001b[0m\u001b[0;34m\u001b[0m\u001b[0;34m\u001b[0m\u001b[0m\n\u001b[1;32m   1071\u001b[0m     \u001b[0;31m# use a re-evaluated number in the calculation of dif\u001b[0m\u001b[0;34m\u001b[0m\u001b[0;34m\u001b[0m\u001b[0;34m\u001b[0m\u001b[0m\n\u001b[0;32m-> 1072\u001b[0;31m     \u001b[0;32mif\u001b[0m \u001b[0ma\u001b[0m\u001b[0;34m.\u001b[0m\u001b[0mis_comparable\u001b[0m \u001b[0;32mand\u001b[0m \u001b[0mb\u001b[0m\u001b[0;34m.\u001b[0m\u001b[0mis_comparable\u001b[0m\u001b[0;34m:\u001b[0m\u001b[0;34m\u001b[0m\u001b[0;34m\u001b[0m\u001b[0m\n\u001b[0m\u001b[1;32m   1073\u001b[0m         \u001b[0mdif\u001b[0m \u001b[0;34m=\u001b[0m \u001b[0;34m(\u001b[0m\u001b[0ma\u001b[0m \u001b[0;34m-\u001b[0m \u001b[0mb\u001b[0m\u001b[0;34m)\u001b[0m\u001b[0;34m.\u001b[0m\u001b[0mevalf\u001b[0m\u001b[0;34m(\u001b[0m\u001b[0;36m2\u001b[0m\u001b[0;34m)\u001b[0m\u001b[0;34m\u001b[0m\u001b[0;34m\u001b[0m\u001b[0m\n\u001b[1;32m   1074\u001b[0m         \u001b[0;32mif\u001b[0m \u001b[0mdif\u001b[0m\u001b[0;34m.\u001b[0m\u001b[0mis_comparable\u001b[0m\u001b[0;34m:\u001b[0m\u001b[0;34m\u001b[0m\u001b[0;34m\u001b[0m\u001b[0m\n",
      "\u001b[0;32m~/.local/lib/python3.8/site-packages/sympy/core/basic.py\u001b[0m in \u001b[0;36mis_comparable\u001b[0;34m(self)\u001b[0m\n\u001b[1;32m    671\u001b[0m         \u001b[0;31m# don't re-eval numbers that are already evaluated since\u001b[0m\u001b[0;34m\u001b[0m\u001b[0;34m\u001b[0m\u001b[0;34m\u001b[0m\u001b[0m\n\u001b[1;32m    672\u001b[0m         \u001b[0;31m# this will create spurious precision\u001b[0m\u001b[0;34m\u001b[0m\u001b[0;34m\u001b[0m\u001b[0;34m\u001b[0m\u001b[0m\n\u001b[0;32m--> 673\u001b[0;31m         n, i = [p.evalf(2) if not p.is_Number else p\n\u001b[0m\u001b[1;32m    674\u001b[0m             for p in self.as_real_imag()]\n\u001b[1;32m    675\u001b[0m         \u001b[0;32mif\u001b[0m \u001b[0;32mnot\u001b[0m \u001b[0;34m(\u001b[0m\u001b[0mi\u001b[0m\u001b[0;34m.\u001b[0m\u001b[0mis_Number\u001b[0m \u001b[0;32mand\u001b[0m \u001b[0mn\u001b[0m\u001b[0;34m.\u001b[0m\u001b[0mis_Number\u001b[0m\u001b[0;34m)\u001b[0m\u001b[0;34m:\u001b[0m\u001b[0;34m\u001b[0m\u001b[0;34m\u001b[0m\u001b[0m\n",
      "\u001b[0;32m~/.local/lib/python3.8/site-packages/sympy/core/basic.py\u001b[0m in \u001b[0;36m<listcomp>\u001b[0;34m(.0)\u001b[0m\n\u001b[1;32m    671\u001b[0m         \u001b[0;31m# don't re-eval numbers that are already evaluated since\u001b[0m\u001b[0;34m\u001b[0m\u001b[0;34m\u001b[0m\u001b[0;34m\u001b[0m\u001b[0m\n\u001b[1;32m    672\u001b[0m         \u001b[0;31m# this will create spurious precision\u001b[0m\u001b[0;34m\u001b[0m\u001b[0;34m\u001b[0m\u001b[0;34m\u001b[0m\u001b[0m\n\u001b[0;32m--> 673\u001b[0;31m         n, i = [p.evalf(2) if not p.is_Number else p\n\u001b[0m\u001b[1;32m    674\u001b[0m             for p in self.as_real_imag()]\n\u001b[1;32m    675\u001b[0m         \u001b[0;32mif\u001b[0m \u001b[0;32mnot\u001b[0m \u001b[0;34m(\u001b[0m\u001b[0mi\u001b[0m\u001b[0;34m.\u001b[0m\u001b[0mis_Number\u001b[0m \u001b[0;32mand\u001b[0m \u001b[0mn\u001b[0m\u001b[0;34m.\u001b[0m\u001b[0mis_Number\u001b[0m\u001b[0;34m)\u001b[0m\u001b[0;34m:\u001b[0m\u001b[0;34m\u001b[0m\u001b[0;34m\u001b[0m\u001b[0m\n",
      "\u001b[0;32m~/.local/lib/python3.8/site-packages/sympy/core/evalf.py\u001b[0m in \u001b[0;36mevalf\u001b[0;34m(self, n, subs, maxn, chop, strict, quad, verbose)\u001b[0m\n\u001b[1;32m   1512\u001b[0m             \u001b[0moptions\u001b[0m\u001b[0;34m[\u001b[0m\u001b[0;34m'quad'\u001b[0m\u001b[0;34m]\u001b[0m \u001b[0;34m=\u001b[0m \u001b[0mquad\u001b[0m\u001b[0;34m\u001b[0m\u001b[0;34m\u001b[0m\u001b[0m\n\u001b[1;32m   1513\u001b[0m         \u001b[0;32mtry\u001b[0m\u001b[0;34m:\u001b[0m\u001b[0;34m\u001b[0m\u001b[0;34m\u001b[0m\u001b[0m\n\u001b[0;32m-> 1514\u001b[0;31m             \u001b[0mresult\u001b[0m \u001b[0;34m=\u001b[0m \u001b[0mevalf\u001b[0m\u001b[0;34m(\u001b[0m\u001b[0mself\u001b[0m\u001b[0;34m,\u001b[0m \u001b[0mprec\u001b[0m \u001b[0;34m+\u001b[0m \u001b[0;36m4\u001b[0m\u001b[0;34m,\u001b[0m \u001b[0moptions\u001b[0m\u001b[0;34m)\u001b[0m\u001b[0;34m\u001b[0m\u001b[0;34m\u001b[0m\u001b[0m\n\u001b[0m\u001b[1;32m   1515\u001b[0m         \u001b[0;32mexcept\u001b[0m \u001b[0mNotImplementedError\u001b[0m\u001b[0;34m:\u001b[0m\u001b[0;34m\u001b[0m\u001b[0;34m\u001b[0m\u001b[0m\n\u001b[1;32m   1516\u001b[0m             \u001b[0;31m# Fall back to the ordinary evalf\u001b[0m\u001b[0;34m\u001b[0m\u001b[0;34m\u001b[0m\u001b[0;34m\u001b[0m\u001b[0m\n",
      "\u001b[0;32m~/.local/lib/python3.8/site-packages/sympy/core/evalf.py\u001b[0m in \u001b[0;36mevalf\u001b[0;34m(x, prec, options)\u001b[0m\n\u001b[1;32m   1364\u001b[0m     \u001b[0;32mtry\u001b[0m\u001b[0;34m:\u001b[0m\u001b[0;34m\u001b[0m\u001b[0;34m\u001b[0m\u001b[0m\n\u001b[1;32m   1365\u001b[0m         \u001b[0mrf\u001b[0m \u001b[0;34m=\u001b[0m \u001b[0mevalf_table\u001b[0m\u001b[0;34m[\u001b[0m\u001b[0mx\u001b[0m\u001b[0;34m.\u001b[0m\u001b[0mfunc\u001b[0m\u001b[0;34m]\u001b[0m\u001b[0;34m\u001b[0m\u001b[0;34m\u001b[0m\u001b[0m\n\u001b[0;32m-> 1366\u001b[0;31m         \u001b[0mr\u001b[0m \u001b[0;34m=\u001b[0m \u001b[0mrf\u001b[0m\u001b[0;34m(\u001b[0m\u001b[0mx\u001b[0m\u001b[0;34m,\u001b[0m \u001b[0mprec\u001b[0m\u001b[0;34m,\u001b[0m \u001b[0moptions\u001b[0m\u001b[0;34m)\u001b[0m\u001b[0;34m\u001b[0m\u001b[0;34m\u001b[0m\u001b[0m\n\u001b[0m\u001b[1;32m   1367\u001b[0m     \u001b[0;32mexcept\u001b[0m \u001b[0mKeyError\u001b[0m\u001b[0;34m:\u001b[0m\u001b[0;34m\u001b[0m\u001b[0;34m\u001b[0m\u001b[0m\n\u001b[1;32m   1368\u001b[0m         \u001b[0;31m# Fall back to ordinary evalf if possible\u001b[0m\u001b[0;34m\u001b[0m\u001b[0;34m\u001b[0m\u001b[0;34m\u001b[0m\u001b[0m\n",
      "\u001b[0;32m~/.local/lib/python3.8/site-packages/sympy/core/evalf.py\u001b[0m in \u001b[0;36mevalf_add\u001b[0;34m(v, prec, options)\u001b[0m\n\u001b[1;32m    532\u001b[0m         \u001b[0moptions\u001b[0m\u001b[0;34m[\u001b[0m\u001b[0;34m'maxprec'\u001b[0m\u001b[0;34m]\u001b[0m \u001b[0;34m=\u001b[0m \u001b[0mmin\u001b[0m\u001b[0;34m(\u001b[0m\u001b[0moldmaxprec\u001b[0m\u001b[0;34m,\u001b[0m \u001b[0;36m2\u001b[0m\u001b[0;34m*\u001b[0m\u001b[0mprec\u001b[0m\u001b[0;34m)\u001b[0m\u001b[0;34m\u001b[0m\u001b[0;34m\u001b[0m\u001b[0m\n\u001b[1;32m    533\u001b[0m \u001b[0;34m\u001b[0m\u001b[0m\n\u001b[0;32m--> 534\u001b[0;31m         \u001b[0mterms\u001b[0m \u001b[0;34m=\u001b[0m \u001b[0;34m[\u001b[0m\u001b[0mevalf\u001b[0m\u001b[0;34m(\u001b[0m\u001b[0marg\u001b[0m\u001b[0;34m,\u001b[0m \u001b[0mprec\u001b[0m \u001b[0;34m+\u001b[0m \u001b[0;36m10\u001b[0m\u001b[0;34m,\u001b[0m \u001b[0moptions\u001b[0m\u001b[0;34m)\u001b[0m \u001b[0;32mfor\u001b[0m \u001b[0marg\u001b[0m \u001b[0;32min\u001b[0m \u001b[0mv\u001b[0m\u001b[0;34m.\u001b[0m\u001b[0margs\u001b[0m\u001b[0;34m]\u001b[0m\u001b[0;34m\u001b[0m\u001b[0;34m\u001b[0m\u001b[0m\n\u001b[0m\u001b[1;32m    535\u001b[0m         re, re_acc = add_terms(\n\u001b[1;32m    536\u001b[0m             [a[0::2] for a in terms if a[0]], prec, target_prec)\n",
      "\u001b[0;32m~/.local/lib/python3.8/site-packages/sympy/core/evalf.py\u001b[0m in \u001b[0;36m<listcomp>\u001b[0;34m(.0)\u001b[0m\n\u001b[1;32m    532\u001b[0m         \u001b[0moptions\u001b[0m\u001b[0;34m[\u001b[0m\u001b[0;34m'maxprec'\u001b[0m\u001b[0;34m]\u001b[0m \u001b[0;34m=\u001b[0m \u001b[0mmin\u001b[0m\u001b[0;34m(\u001b[0m\u001b[0moldmaxprec\u001b[0m\u001b[0;34m,\u001b[0m \u001b[0;36m2\u001b[0m\u001b[0;34m*\u001b[0m\u001b[0mprec\u001b[0m\u001b[0;34m)\u001b[0m\u001b[0;34m\u001b[0m\u001b[0;34m\u001b[0m\u001b[0m\n\u001b[1;32m    533\u001b[0m \u001b[0;34m\u001b[0m\u001b[0m\n\u001b[0;32m--> 534\u001b[0;31m         \u001b[0mterms\u001b[0m \u001b[0;34m=\u001b[0m \u001b[0;34m[\u001b[0m\u001b[0mevalf\u001b[0m\u001b[0;34m(\u001b[0m\u001b[0marg\u001b[0m\u001b[0;34m,\u001b[0m \u001b[0mprec\u001b[0m \u001b[0;34m+\u001b[0m \u001b[0;36m10\u001b[0m\u001b[0;34m,\u001b[0m \u001b[0moptions\u001b[0m\u001b[0;34m)\u001b[0m \u001b[0;32mfor\u001b[0m \u001b[0marg\u001b[0m \u001b[0;32min\u001b[0m \u001b[0mv\u001b[0m\u001b[0;34m.\u001b[0m\u001b[0margs\u001b[0m\u001b[0;34m]\u001b[0m\u001b[0;34m\u001b[0m\u001b[0;34m\u001b[0m\u001b[0m\n\u001b[0m\u001b[1;32m    535\u001b[0m         re, re_acc = add_terms(\n\u001b[1;32m    536\u001b[0m             [a[0::2] for a in terms if a[0]], prec, target_prec)\n",
      "\u001b[0;32m~/.local/lib/python3.8/site-packages/sympy/core/evalf.py\u001b[0m in \u001b[0;36mevalf\u001b[0;34m(x, prec, options)\u001b[0m\n\u001b[1;32m   1364\u001b[0m     \u001b[0;32mtry\u001b[0m\u001b[0;34m:\u001b[0m\u001b[0;34m\u001b[0m\u001b[0;34m\u001b[0m\u001b[0m\n\u001b[1;32m   1365\u001b[0m         \u001b[0mrf\u001b[0m \u001b[0;34m=\u001b[0m \u001b[0mevalf_table\u001b[0m\u001b[0;34m[\u001b[0m\u001b[0mx\u001b[0m\u001b[0;34m.\u001b[0m\u001b[0mfunc\u001b[0m\u001b[0;34m]\u001b[0m\u001b[0;34m\u001b[0m\u001b[0;34m\u001b[0m\u001b[0m\n\u001b[0;32m-> 1366\u001b[0;31m         \u001b[0mr\u001b[0m \u001b[0;34m=\u001b[0m \u001b[0mrf\u001b[0m\u001b[0;34m(\u001b[0m\u001b[0mx\u001b[0m\u001b[0;34m,\u001b[0m \u001b[0mprec\u001b[0m\u001b[0;34m,\u001b[0m \u001b[0moptions\u001b[0m\u001b[0;34m)\u001b[0m\u001b[0;34m\u001b[0m\u001b[0;34m\u001b[0m\u001b[0m\n\u001b[0m\u001b[1;32m   1367\u001b[0m     \u001b[0;32mexcept\u001b[0m \u001b[0mKeyError\u001b[0m\u001b[0;34m:\u001b[0m\u001b[0;34m\u001b[0m\u001b[0;34m\u001b[0m\u001b[0m\n\u001b[1;32m   1368\u001b[0m         \u001b[0;31m# Fall back to ordinary evalf if possible\u001b[0m\u001b[0;34m\u001b[0m\u001b[0;34m\u001b[0m\u001b[0;34m\u001b[0m\u001b[0m\n",
      "\u001b[0;32m~/.local/lib/python3.8/site-packages/sympy/core/evalf.py\u001b[0m in \u001b[0;36mevalf_re\u001b[0;34m(expr, prec, options)\u001b[0m\n\u001b[1;32m    259\u001b[0m \u001b[0;34m\u001b[0m\u001b[0m\n\u001b[1;32m    260\u001b[0m \u001b[0;32mdef\u001b[0m \u001b[0mevalf_re\u001b[0m\u001b[0;34m(\u001b[0m\u001b[0mexpr\u001b[0m\u001b[0;34m,\u001b[0m \u001b[0mprec\u001b[0m\u001b[0;34m,\u001b[0m \u001b[0moptions\u001b[0m\u001b[0;34m)\u001b[0m\u001b[0;34m:\u001b[0m\u001b[0;34m\u001b[0m\u001b[0;34m\u001b[0m\u001b[0m\n\u001b[0;32m--> 261\u001b[0;31m     \u001b[0;32mreturn\u001b[0m \u001b[0mget_complex_part\u001b[0m\u001b[0;34m(\u001b[0m\u001b[0mexpr\u001b[0m\u001b[0;34m.\u001b[0m\u001b[0margs\u001b[0m\u001b[0;34m[\u001b[0m\u001b[0;36m0\u001b[0m\u001b[0;34m]\u001b[0m\u001b[0;34m,\u001b[0m \u001b[0;36m0\u001b[0m\u001b[0;34m,\u001b[0m \u001b[0mprec\u001b[0m\u001b[0;34m,\u001b[0m \u001b[0moptions\u001b[0m\u001b[0;34m)\u001b[0m\u001b[0;34m\u001b[0m\u001b[0;34m\u001b[0m\u001b[0m\n\u001b[0m\u001b[1;32m    262\u001b[0m \u001b[0;34m\u001b[0m\u001b[0m\n\u001b[1;32m    263\u001b[0m \u001b[0;34m\u001b[0m\u001b[0m\n",
      "\u001b[0;32m~/.local/lib/python3.8/site-packages/sympy/core/evalf.py\u001b[0m in \u001b[0;36mget_complex_part\u001b[0;34m(expr, no, prec, options)\u001b[0m\n\u001b[1;32m    245\u001b[0m     \u001b[0mi\u001b[0m \u001b[0;34m=\u001b[0m \u001b[0;36m0\u001b[0m\u001b[0;34m\u001b[0m\u001b[0;34m\u001b[0m\u001b[0m\n\u001b[1;32m    246\u001b[0m     \u001b[0;32mwhile\u001b[0m \u001b[0;36m1\u001b[0m\u001b[0;34m:\u001b[0m\u001b[0;34m\u001b[0m\u001b[0;34m\u001b[0m\u001b[0m\n\u001b[0;32m--> 247\u001b[0;31m         \u001b[0mres\u001b[0m \u001b[0;34m=\u001b[0m \u001b[0mevalf\u001b[0m\u001b[0;34m(\u001b[0m\u001b[0mexpr\u001b[0m\u001b[0;34m,\u001b[0m \u001b[0mworkprec\u001b[0m\u001b[0;34m,\u001b[0m \u001b[0moptions\u001b[0m\u001b[0;34m)\u001b[0m\u001b[0;34m\u001b[0m\u001b[0;34m\u001b[0m\u001b[0m\n\u001b[0m\u001b[1;32m    248\u001b[0m         \u001b[0mvalue\u001b[0m\u001b[0;34m,\u001b[0m \u001b[0maccuracy\u001b[0m \u001b[0;34m=\u001b[0m \u001b[0mres\u001b[0m\u001b[0;34m[\u001b[0m\u001b[0mno\u001b[0m\u001b[0;34m:\u001b[0m\u001b[0;34m:\u001b[0m\u001b[0;36m2\u001b[0m\u001b[0;34m]\u001b[0m\u001b[0;34m\u001b[0m\u001b[0;34m\u001b[0m\u001b[0m\n\u001b[1;32m    249\u001b[0m         \u001b[0;31m# XXX is the last one correct? Consider re((1+I)**2).n()\u001b[0m\u001b[0;34m\u001b[0m\u001b[0;34m\u001b[0m\u001b[0;34m\u001b[0m\u001b[0m\n",
      "\u001b[0;32m~/.local/lib/python3.8/site-packages/sympy/core/evalf.py\u001b[0m in \u001b[0;36mevalf\u001b[0;34m(x, prec, options)\u001b[0m\n\u001b[1;32m   1364\u001b[0m     \u001b[0;32mtry\u001b[0m\u001b[0;34m:\u001b[0m\u001b[0;34m\u001b[0m\u001b[0;34m\u001b[0m\u001b[0m\n\u001b[1;32m   1365\u001b[0m         \u001b[0mrf\u001b[0m \u001b[0;34m=\u001b[0m \u001b[0mevalf_table\u001b[0m\u001b[0;34m[\u001b[0m\u001b[0mx\u001b[0m\u001b[0;34m.\u001b[0m\u001b[0mfunc\u001b[0m\u001b[0;34m]\u001b[0m\u001b[0;34m\u001b[0m\u001b[0;34m\u001b[0m\u001b[0m\n\u001b[0;32m-> 1366\u001b[0;31m         \u001b[0mr\u001b[0m \u001b[0;34m=\u001b[0m \u001b[0mrf\u001b[0m\u001b[0;34m(\u001b[0m\u001b[0mx\u001b[0m\u001b[0;34m,\u001b[0m \u001b[0mprec\u001b[0m\u001b[0;34m,\u001b[0m \u001b[0moptions\u001b[0m\u001b[0;34m)\u001b[0m\u001b[0;34m\u001b[0m\u001b[0;34m\u001b[0m\u001b[0m\n\u001b[0m\u001b[1;32m   1367\u001b[0m     \u001b[0;32mexcept\u001b[0m \u001b[0mKeyError\u001b[0m\u001b[0;34m:\u001b[0m\u001b[0;34m\u001b[0m\u001b[0;34m\u001b[0m\u001b[0m\n\u001b[1;32m   1368\u001b[0m         \u001b[0;31m# Fall back to ordinary evalf if possible\u001b[0m\u001b[0;34m\u001b[0m\u001b[0;34m\u001b[0m\u001b[0;34m\u001b[0m\u001b[0m\n",
      "\u001b[0;32m~/.local/lib/python3.8/site-packages/sympy/core/evalf.py\u001b[0m in \u001b[0;36mevalf_integral\u001b[0;34m(expr, prec, options)\u001b[0m\n\u001b[1;32m   1061\u001b[0m     \u001b[0mmaxprec\u001b[0m \u001b[0;34m=\u001b[0m \u001b[0moptions\u001b[0m\u001b[0;34m.\u001b[0m\u001b[0mget\u001b[0m\u001b[0;34m(\u001b[0m\u001b[0;34m'maxprec'\u001b[0m\u001b[0;34m,\u001b[0m \u001b[0mINF\u001b[0m\u001b[0;34m)\u001b[0m\u001b[0;34m\u001b[0m\u001b[0;34m\u001b[0m\u001b[0m\n\u001b[1;32m   1062\u001b[0m     \u001b[0;32mwhile\u001b[0m \u001b[0;36m1\u001b[0m\u001b[0;34m:\u001b[0m\u001b[0;34m\u001b[0m\u001b[0;34m\u001b[0m\u001b[0m\n\u001b[0;32m-> 1063\u001b[0;31m         \u001b[0mresult\u001b[0m \u001b[0;34m=\u001b[0m \u001b[0mdo_integral\u001b[0m\u001b[0;34m(\u001b[0m\u001b[0mexpr\u001b[0m\u001b[0;34m,\u001b[0m \u001b[0mworkprec\u001b[0m\u001b[0;34m,\u001b[0m \u001b[0moptions\u001b[0m\u001b[0;34m)\u001b[0m\u001b[0;34m\u001b[0m\u001b[0;34m\u001b[0m\u001b[0m\n\u001b[0m\u001b[1;32m   1064\u001b[0m         \u001b[0maccuracy\u001b[0m \u001b[0;34m=\u001b[0m \u001b[0mcomplex_accuracy\u001b[0m\u001b[0;34m(\u001b[0m\u001b[0mresult\u001b[0m\u001b[0;34m)\u001b[0m\u001b[0;34m\u001b[0m\u001b[0;34m\u001b[0m\u001b[0m\n\u001b[1;32m   1065\u001b[0m         \u001b[0;32mif\u001b[0m \u001b[0maccuracy\u001b[0m \u001b[0;34m>=\u001b[0m \u001b[0mprec\u001b[0m\u001b[0;34m:\u001b[0m  \u001b[0;31m# achieved desired precision\u001b[0m\u001b[0;34m\u001b[0m\u001b[0;34m\u001b[0m\u001b[0m\n",
      "\u001b[0;32m~/.local/lib/python3.8/site-packages/sympy/core/evalf.py\u001b[0m in \u001b[0;36mdo_integral\u001b[0;34m(expr, prec, options)\u001b[0m\n\u001b[1;32m   1020\u001b[0m             \u001b[0mquadrature_error\u001b[0m \u001b[0;34m=\u001b[0m \u001b[0mMINUS_INF\u001b[0m\u001b[0;34m\u001b[0m\u001b[0;34m\u001b[0m\u001b[0m\n\u001b[1;32m   1021\u001b[0m         \u001b[0;32melse\u001b[0m\u001b[0;34m:\u001b[0m\u001b[0;34m\u001b[0m\u001b[0;34m\u001b[0m\u001b[0m\n\u001b[0;32m-> 1022\u001b[0;31m             \u001b[0mresult\u001b[0m\u001b[0;34m,\u001b[0m \u001b[0mquadrature_error\u001b[0m \u001b[0;34m=\u001b[0m \u001b[0mquadts\u001b[0m\u001b[0;34m(\u001b[0m\u001b[0mf\u001b[0m\u001b[0;34m,\u001b[0m \u001b[0;34m[\u001b[0m\u001b[0mxlow\u001b[0m\u001b[0;34m,\u001b[0m \u001b[0mxhigh\u001b[0m\u001b[0;34m]\u001b[0m\u001b[0;34m,\u001b[0m \u001b[0merror\u001b[0m\u001b[0;34m=\u001b[0m\u001b[0;36m1\u001b[0m\u001b[0;34m)\u001b[0m\u001b[0;34m\u001b[0m\u001b[0;34m\u001b[0m\u001b[0m\n\u001b[0m\u001b[1;32m   1023\u001b[0m             \u001b[0mquadrature_error\u001b[0m \u001b[0;34m=\u001b[0m \u001b[0mfastlog\u001b[0m\u001b[0;34m(\u001b[0m\u001b[0mquadrature_error\u001b[0m\u001b[0;34m.\u001b[0m\u001b[0m_mpf_\u001b[0m\u001b[0;34m)\u001b[0m\u001b[0;34m\u001b[0m\u001b[0;34m\u001b[0m\u001b[0m\n\u001b[1;32m   1024\u001b[0m \u001b[0;34m\u001b[0m\u001b[0m\n",
      "\u001b[0;32m~/.local/lib/python3.8/site-packages/mpmath/calculus/quadrature.py\u001b[0m in \u001b[0;36mquadts\u001b[0;34m(ctx, *args, **kwargs)\u001b[0m\n\u001b[1;32m    786\u001b[0m         \"\"\"\n\u001b[1;32m    787\u001b[0m         \u001b[0mkwargs\u001b[0m\u001b[0;34m[\u001b[0m\u001b[0;34m'method'\u001b[0m\u001b[0;34m]\u001b[0m \u001b[0;34m=\u001b[0m \u001b[0;34m'tanh-sinh'\u001b[0m\u001b[0;34m\u001b[0m\u001b[0;34m\u001b[0m\u001b[0m\n\u001b[0;32m--> 788\u001b[0;31m         \u001b[0;32mreturn\u001b[0m \u001b[0mctx\u001b[0m\u001b[0;34m.\u001b[0m\u001b[0mquad\u001b[0m\u001b[0;34m(\u001b[0m\u001b[0;34m*\u001b[0m\u001b[0margs\u001b[0m\u001b[0;34m,\u001b[0m \u001b[0;34m**\u001b[0m\u001b[0mkwargs\u001b[0m\u001b[0;34m)\u001b[0m\u001b[0;34m\u001b[0m\u001b[0;34m\u001b[0m\u001b[0m\n\u001b[0m\u001b[1;32m    789\u001b[0m \u001b[0;34m\u001b[0m\u001b[0m\n\u001b[1;32m    790\u001b[0m     \u001b[0;32mdef\u001b[0m \u001b[0mquadgl\u001b[0m\u001b[0;34m(\u001b[0m\u001b[0mctx\u001b[0m\u001b[0;34m,\u001b[0m \u001b[0;34m*\u001b[0m\u001b[0margs\u001b[0m\u001b[0;34m,\u001b[0m \u001b[0;34m**\u001b[0m\u001b[0mkwargs\u001b[0m\u001b[0;34m)\u001b[0m\u001b[0;34m:\u001b[0m\u001b[0;34m\u001b[0m\u001b[0;34m\u001b[0m\u001b[0m\n",
      "\u001b[0;32m~/.local/lib/python3.8/site-packages/mpmath/calculus/quadrature.py\u001b[0m in \u001b[0;36mquad\u001b[0;34m(ctx, f, *points, **kwargs)\u001b[0m\n\u001b[1;32m    743\u001b[0m             \u001b[0mctx\u001b[0m\u001b[0;34m.\u001b[0m\u001b[0mprec\u001b[0m \u001b[0;34m+=\u001b[0m \u001b[0;36m20\u001b[0m\u001b[0;34m\u001b[0m\u001b[0;34m\u001b[0m\u001b[0m\n\u001b[1;32m    744\u001b[0m             \u001b[0;32mif\u001b[0m \u001b[0mdim\u001b[0m \u001b[0;34m==\u001b[0m \u001b[0;36m1\u001b[0m\u001b[0;34m:\u001b[0m\u001b[0;34m\u001b[0m\u001b[0;34m\u001b[0m\u001b[0m\n\u001b[0;32m--> 745\u001b[0;31m                 \u001b[0mv\u001b[0m\u001b[0;34m,\u001b[0m \u001b[0merr\u001b[0m \u001b[0;34m=\u001b[0m \u001b[0mrule\u001b[0m\u001b[0;34m.\u001b[0m\u001b[0msummation\u001b[0m\u001b[0;34m(\u001b[0m\u001b[0mf\u001b[0m\u001b[0;34m,\u001b[0m \u001b[0mpoints\u001b[0m\u001b[0;34m[\u001b[0m\u001b[0;36m0\u001b[0m\u001b[0;34m]\u001b[0m\u001b[0;34m,\u001b[0m \u001b[0mprec\u001b[0m\u001b[0;34m,\u001b[0m \u001b[0mepsilon\u001b[0m\u001b[0;34m,\u001b[0m \u001b[0mm\u001b[0m\u001b[0;34m,\u001b[0m \u001b[0mverbose\u001b[0m\u001b[0;34m)\u001b[0m\u001b[0;34m\u001b[0m\u001b[0;34m\u001b[0m\u001b[0m\n\u001b[0m\u001b[1;32m    746\u001b[0m             \u001b[0;32melif\u001b[0m \u001b[0mdim\u001b[0m \u001b[0;34m==\u001b[0m \u001b[0;36m2\u001b[0m\u001b[0;34m:\u001b[0m\u001b[0;34m\u001b[0m\u001b[0;34m\u001b[0m\u001b[0m\n\u001b[1;32m    747\u001b[0m                 v, err = rule.summation(lambda x: \\\n",
      "\u001b[0;32m~/.local/lib/python3.8/site-packages/mpmath/calculus/quadrature.py\u001b[0m in \u001b[0;36msummation\u001b[0;34m(self, f, points, prec, epsilon, max_degree, verbose)\u001b[0m\n\u001b[1;32m    231\u001b[0m                     print(\"Integrating from %s to %s (degree %s of %s)\" % \\\n\u001b[1;32m    232\u001b[0m                         (ctx.nstr(a), ctx.nstr(b), degree, max_degree))\n\u001b[0;32m--> 233\u001b[0;31m                 \u001b[0mresult\u001b[0m \u001b[0;34m=\u001b[0m \u001b[0mself\u001b[0m\u001b[0;34m.\u001b[0m\u001b[0msum_next\u001b[0m\u001b[0;34m(\u001b[0m\u001b[0mf\u001b[0m\u001b[0;34m,\u001b[0m \u001b[0mnodes\u001b[0m\u001b[0;34m,\u001b[0m \u001b[0mdegree\u001b[0m\u001b[0;34m,\u001b[0m \u001b[0mprec\u001b[0m\u001b[0;34m,\u001b[0m \u001b[0mresults\u001b[0m\u001b[0;34m,\u001b[0m \u001b[0mverbose\u001b[0m\u001b[0;34m)\u001b[0m\u001b[0;34m\u001b[0m\u001b[0;34m\u001b[0m\u001b[0m\n\u001b[0m\u001b[1;32m    234\u001b[0m                 \u001b[0mresults\u001b[0m\u001b[0;34m.\u001b[0m\u001b[0mappend\u001b[0m\u001b[0;34m(\u001b[0m\u001b[0mresult\u001b[0m\u001b[0;34m)\u001b[0m\u001b[0;34m\u001b[0m\u001b[0;34m\u001b[0m\u001b[0m\n\u001b[1;32m    235\u001b[0m                 \u001b[0;32mif\u001b[0m \u001b[0mdegree\u001b[0m \u001b[0;34m>\u001b[0m \u001b[0;36m1\u001b[0m\u001b[0;34m:\u001b[0m\u001b[0;34m\u001b[0m\u001b[0;34m\u001b[0m\u001b[0m\n",
      "\u001b[0;32m~/.local/lib/python3.8/site-packages/mpmath/calculus/quadrature.py\u001b[0m in \u001b[0;36msum_next\u001b[0;34m(self, f, nodes, degree, prec, previous, verbose)\u001b[0m\n\u001b[1;32m    305\u001b[0m         \u001b[0;32melse\u001b[0m\u001b[0;34m:\u001b[0m\u001b[0;34m\u001b[0m\u001b[0;34m\u001b[0m\u001b[0m\n\u001b[1;32m    306\u001b[0m             \u001b[0mS\u001b[0m \u001b[0;34m=\u001b[0m \u001b[0mself\u001b[0m\u001b[0;34m.\u001b[0m\u001b[0mctx\u001b[0m\u001b[0;34m.\u001b[0m\u001b[0mzero\u001b[0m\u001b[0;34m\u001b[0m\u001b[0;34m\u001b[0m\u001b[0m\n\u001b[0;32m--> 307\u001b[0;31m         \u001b[0mS\u001b[0m \u001b[0;34m+=\u001b[0m \u001b[0mself\u001b[0m\u001b[0;34m.\u001b[0m\u001b[0mctx\u001b[0m\u001b[0;34m.\u001b[0m\u001b[0mfdot\u001b[0m\u001b[0;34m(\u001b[0m\u001b[0;34m(\u001b[0m\u001b[0mw\u001b[0m\u001b[0;34m,\u001b[0m\u001b[0mf\u001b[0m\u001b[0;34m(\u001b[0m\u001b[0mx\u001b[0m\u001b[0;34m)\u001b[0m\u001b[0;34m)\u001b[0m \u001b[0;32mfor\u001b[0m \u001b[0;34m(\u001b[0m\u001b[0mx\u001b[0m\u001b[0;34m,\u001b[0m\u001b[0mw\u001b[0m\u001b[0;34m)\u001b[0m \u001b[0;32min\u001b[0m \u001b[0mnodes\u001b[0m\u001b[0;34m)\u001b[0m\u001b[0;34m\u001b[0m\u001b[0;34m\u001b[0m\u001b[0m\n\u001b[0m\u001b[1;32m    308\u001b[0m         \u001b[0;32mreturn\u001b[0m \u001b[0mh\u001b[0m\u001b[0;34m*\u001b[0m\u001b[0mS\u001b[0m\u001b[0;34m\u001b[0m\u001b[0;34m\u001b[0m\u001b[0m\n\u001b[1;32m    309\u001b[0m \u001b[0;34m\u001b[0m\u001b[0m\n",
      "\u001b[0;32m~/.local/lib/python3.8/site-packages/mpmath/ctx_mp_python.py\u001b[0m in \u001b[0;36mfdot\u001b[0;34m(ctx, A, B, conjugate)\u001b[0m\n\u001b[1;32m    934\u001b[0m         \u001b[0mhasattr_\u001b[0m \u001b[0;34m=\u001b[0m \u001b[0mhasattr\u001b[0m\u001b[0;34m\u001b[0m\u001b[0;34m\u001b[0m\u001b[0m\n\u001b[1;32m    935\u001b[0m         \u001b[0mtypes\u001b[0m \u001b[0;34m=\u001b[0m \u001b[0;34m(\u001b[0m\u001b[0mctx\u001b[0m\u001b[0;34m.\u001b[0m\u001b[0mmpf\u001b[0m\u001b[0;34m,\u001b[0m \u001b[0mctx\u001b[0m\u001b[0;34m.\u001b[0m\u001b[0mmpc\u001b[0m\u001b[0;34m)\u001b[0m\u001b[0;34m\u001b[0m\u001b[0;34m\u001b[0m\u001b[0m\n\u001b[0;32m--> 936\u001b[0;31m         \u001b[0;32mfor\u001b[0m \u001b[0ma\u001b[0m\u001b[0;34m,\u001b[0m \u001b[0mb\u001b[0m \u001b[0;32min\u001b[0m \u001b[0mA\u001b[0m\u001b[0;34m:\u001b[0m\u001b[0;34m\u001b[0m\u001b[0;34m\u001b[0m\u001b[0m\n\u001b[0m\u001b[1;32m    937\u001b[0m             \u001b[0;32mif\u001b[0m \u001b[0mtype\u001b[0m\u001b[0;34m(\u001b[0m\u001b[0ma\u001b[0m\u001b[0;34m)\u001b[0m \u001b[0;32mnot\u001b[0m \u001b[0;32min\u001b[0m \u001b[0mtypes\u001b[0m\u001b[0;34m:\u001b[0m \u001b[0ma\u001b[0m \u001b[0;34m=\u001b[0m \u001b[0mctx\u001b[0m\u001b[0;34m.\u001b[0m\u001b[0mconvert\u001b[0m\u001b[0;34m(\u001b[0m\u001b[0ma\u001b[0m\u001b[0;34m)\u001b[0m\u001b[0;34m\u001b[0m\u001b[0;34m\u001b[0m\u001b[0m\n\u001b[1;32m    938\u001b[0m             \u001b[0;32mif\u001b[0m \u001b[0mtype\u001b[0m\u001b[0;34m(\u001b[0m\u001b[0mb\u001b[0m\u001b[0;34m)\u001b[0m \u001b[0;32mnot\u001b[0m \u001b[0;32min\u001b[0m \u001b[0mtypes\u001b[0m\u001b[0;34m:\u001b[0m \u001b[0mb\u001b[0m \u001b[0;34m=\u001b[0m \u001b[0mctx\u001b[0m\u001b[0;34m.\u001b[0m\u001b[0mconvert\u001b[0m\u001b[0;34m(\u001b[0m\u001b[0mb\u001b[0m\u001b[0;34m)\u001b[0m\u001b[0;34m\u001b[0m\u001b[0;34m\u001b[0m\u001b[0m\n",
      "\u001b[0;32m~/.local/lib/python3.8/site-packages/mpmath/calculus/quadrature.py\u001b[0m in \u001b[0;36m<genexpr>\u001b[0;34m(.0)\u001b[0m\n\u001b[1;32m    305\u001b[0m         \u001b[0;32melse\u001b[0m\u001b[0;34m:\u001b[0m\u001b[0;34m\u001b[0m\u001b[0;34m\u001b[0m\u001b[0m\n\u001b[1;32m    306\u001b[0m             \u001b[0mS\u001b[0m \u001b[0;34m=\u001b[0m \u001b[0mself\u001b[0m\u001b[0;34m.\u001b[0m\u001b[0mctx\u001b[0m\u001b[0;34m.\u001b[0m\u001b[0mzero\u001b[0m\u001b[0;34m\u001b[0m\u001b[0;34m\u001b[0m\u001b[0m\n\u001b[0;32m--> 307\u001b[0;31m         \u001b[0mS\u001b[0m \u001b[0;34m+=\u001b[0m \u001b[0mself\u001b[0m\u001b[0;34m.\u001b[0m\u001b[0mctx\u001b[0m\u001b[0;34m.\u001b[0m\u001b[0mfdot\u001b[0m\u001b[0;34m(\u001b[0m\u001b[0;34m(\u001b[0m\u001b[0mw\u001b[0m\u001b[0;34m,\u001b[0m\u001b[0mf\u001b[0m\u001b[0;34m(\u001b[0m\u001b[0mx\u001b[0m\u001b[0;34m)\u001b[0m\u001b[0;34m)\u001b[0m \u001b[0;32mfor\u001b[0m \u001b[0;34m(\u001b[0m\u001b[0mx\u001b[0m\u001b[0;34m,\u001b[0m\u001b[0mw\u001b[0m\u001b[0;34m)\u001b[0m \u001b[0;32min\u001b[0m \u001b[0mnodes\u001b[0m\u001b[0;34m)\u001b[0m\u001b[0;34m\u001b[0m\u001b[0;34m\u001b[0m\u001b[0m\n\u001b[0m\u001b[1;32m    308\u001b[0m         \u001b[0;32mreturn\u001b[0m \u001b[0mh\u001b[0m\u001b[0;34m*\u001b[0m\u001b[0mS\u001b[0m\u001b[0;34m\u001b[0m\u001b[0;34m\u001b[0m\u001b[0m\n\u001b[1;32m    309\u001b[0m \u001b[0;34m\u001b[0m\u001b[0m\n",
      "\u001b[0;32m~/.local/lib/python3.8/site-packages/sympy/core/evalf.py\u001b[0m in \u001b[0;36mf\u001b[0;34m(t)\u001b[0m\n\u001b[1;32m    993\u001b[0m \u001b[0;34m\u001b[0m\u001b[0m\n\u001b[1;32m    994\u001b[0m         \u001b[0;32mdef\u001b[0m \u001b[0mf\u001b[0m\u001b[0;34m(\u001b[0m\u001b[0mt\u001b[0m\u001b[0;34m)\u001b[0m\u001b[0;34m:\u001b[0m\u001b[0;34m\u001b[0m\u001b[0;34m\u001b[0m\u001b[0m\n\u001b[0;32m--> 995\u001b[0;31m             \u001b[0mre\u001b[0m\u001b[0;34m,\u001b[0m \u001b[0mim\u001b[0m\u001b[0;34m,\u001b[0m \u001b[0mre_acc\u001b[0m\u001b[0;34m,\u001b[0m \u001b[0mim_acc\u001b[0m \u001b[0;34m=\u001b[0m \u001b[0mevalf\u001b[0m\u001b[0;34m(\u001b[0m\u001b[0mfunc\u001b[0m\u001b[0;34m,\u001b[0m \u001b[0mmp\u001b[0m\u001b[0;34m.\u001b[0m\u001b[0mprec\u001b[0m\u001b[0;34m,\u001b[0m \u001b[0;34m{\u001b[0m\u001b[0;34m'subs'\u001b[0m\u001b[0;34m:\u001b[0m \u001b[0;34m{\u001b[0m\u001b[0mx\u001b[0m\u001b[0;34m:\u001b[0m \u001b[0mt\u001b[0m\u001b[0;34m}\u001b[0m\u001b[0;34m}\u001b[0m\u001b[0;34m)\u001b[0m\u001b[0;34m\u001b[0m\u001b[0;34m\u001b[0m\u001b[0m\n\u001b[0m\u001b[1;32m    996\u001b[0m \u001b[0;34m\u001b[0m\u001b[0m\n\u001b[1;32m    997\u001b[0m             \u001b[0mhave_part\u001b[0m\u001b[0;34m[\u001b[0m\u001b[0;36m0\u001b[0m\u001b[0;34m]\u001b[0m \u001b[0;34m=\u001b[0m \u001b[0mre\u001b[0m \u001b[0;32mor\u001b[0m \u001b[0mhave_part\u001b[0m\u001b[0;34m[\u001b[0m\u001b[0;36m0\u001b[0m\u001b[0;34m]\u001b[0m\u001b[0;34m\u001b[0m\u001b[0;34m\u001b[0m\u001b[0m\n",
      "\u001b[0;32m~/.local/lib/python3.8/site-packages/sympy/core/evalf.py\u001b[0m in \u001b[0;36mevalf\u001b[0;34m(x, prec, options)\u001b[0m\n\u001b[1;32m   1364\u001b[0m     \u001b[0;32mtry\u001b[0m\u001b[0;34m:\u001b[0m\u001b[0;34m\u001b[0m\u001b[0;34m\u001b[0m\u001b[0m\n\u001b[1;32m   1365\u001b[0m         \u001b[0mrf\u001b[0m \u001b[0;34m=\u001b[0m \u001b[0mevalf_table\u001b[0m\u001b[0;34m[\u001b[0m\u001b[0mx\u001b[0m\u001b[0;34m.\u001b[0m\u001b[0mfunc\u001b[0m\u001b[0;34m]\u001b[0m\u001b[0;34m\u001b[0m\u001b[0;34m\u001b[0m\u001b[0m\n\u001b[0;32m-> 1366\u001b[0;31m         \u001b[0mr\u001b[0m \u001b[0;34m=\u001b[0m \u001b[0mrf\u001b[0m\u001b[0;34m(\u001b[0m\u001b[0mx\u001b[0m\u001b[0;34m,\u001b[0m \u001b[0mprec\u001b[0m\u001b[0;34m,\u001b[0m \u001b[0moptions\u001b[0m\u001b[0;34m)\u001b[0m\u001b[0;34m\u001b[0m\u001b[0;34m\u001b[0m\u001b[0m\n\u001b[0m\u001b[1;32m   1367\u001b[0m     \u001b[0;32mexcept\u001b[0m \u001b[0mKeyError\u001b[0m\u001b[0;34m:\u001b[0m\u001b[0;34m\u001b[0m\u001b[0;34m\u001b[0m\u001b[0m\n\u001b[1;32m   1368\u001b[0m         \u001b[0;31m# Fall back to ordinary evalf if possible\u001b[0m\u001b[0;34m\u001b[0m\u001b[0;34m\u001b[0m\u001b[0;34m\u001b[0m\u001b[0m\n",
      "\u001b[0;32m~/.local/lib/python3.8/site-packages/sympy/core/evalf.py\u001b[0m in \u001b[0;36mevalf_add\u001b[0;34m(v, prec, options)\u001b[0m\n\u001b[1;32m    532\u001b[0m         \u001b[0moptions\u001b[0m\u001b[0;34m[\u001b[0m\u001b[0;34m'maxprec'\u001b[0m\u001b[0;34m]\u001b[0m \u001b[0;34m=\u001b[0m \u001b[0mmin\u001b[0m\u001b[0;34m(\u001b[0m\u001b[0moldmaxprec\u001b[0m\u001b[0;34m,\u001b[0m \u001b[0;36m2\u001b[0m\u001b[0;34m*\u001b[0m\u001b[0mprec\u001b[0m\u001b[0;34m)\u001b[0m\u001b[0;34m\u001b[0m\u001b[0;34m\u001b[0m\u001b[0m\n\u001b[1;32m    533\u001b[0m \u001b[0;34m\u001b[0m\u001b[0m\n\u001b[0;32m--> 534\u001b[0;31m         \u001b[0mterms\u001b[0m \u001b[0;34m=\u001b[0m \u001b[0;34m[\u001b[0m\u001b[0mevalf\u001b[0m\u001b[0;34m(\u001b[0m\u001b[0marg\u001b[0m\u001b[0;34m,\u001b[0m \u001b[0mprec\u001b[0m \u001b[0;34m+\u001b[0m \u001b[0;36m10\u001b[0m\u001b[0;34m,\u001b[0m \u001b[0moptions\u001b[0m\u001b[0;34m)\u001b[0m \u001b[0;32mfor\u001b[0m \u001b[0marg\u001b[0m \u001b[0;32min\u001b[0m \u001b[0mv\u001b[0m\u001b[0;34m.\u001b[0m\u001b[0margs\u001b[0m\u001b[0;34m]\u001b[0m\u001b[0;34m\u001b[0m\u001b[0;34m\u001b[0m\u001b[0m\n\u001b[0m\u001b[1;32m    535\u001b[0m         re, re_acc = add_terms(\n\u001b[1;32m    536\u001b[0m             [a[0::2] for a in terms if a[0]], prec, target_prec)\n",
      "\u001b[0;32m~/.local/lib/python3.8/site-packages/sympy/core/evalf.py\u001b[0m in \u001b[0;36m<listcomp>\u001b[0;34m(.0)\u001b[0m\n\u001b[1;32m    532\u001b[0m         \u001b[0moptions\u001b[0m\u001b[0;34m[\u001b[0m\u001b[0;34m'maxprec'\u001b[0m\u001b[0;34m]\u001b[0m \u001b[0;34m=\u001b[0m \u001b[0mmin\u001b[0m\u001b[0;34m(\u001b[0m\u001b[0moldmaxprec\u001b[0m\u001b[0;34m,\u001b[0m \u001b[0;36m2\u001b[0m\u001b[0;34m*\u001b[0m\u001b[0mprec\u001b[0m\u001b[0;34m)\u001b[0m\u001b[0;34m\u001b[0m\u001b[0;34m\u001b[0m\u001b[0m\n\u001b[1;32m    533\u001b[0m \u001b[0;34m\u001b[0m\u001b[0m\n\u001b[0;32m--> 534\u001b[0;31m         \u001b[0mterms\u001b[0m \u001b[0;34m=\u001b[0m \u001b[0;34m[\u001b[0m\u001b[0mevalf\u001b[0m\u001b[0;34m(\u001b[0m\u001b[0marg\u001b[0m\u001b[0;34m,\u001b[0m \u001b[0mprec\u001b[0m \u001b[0;34m+\u001b[0m \u001b[0;36m10\u001b[0m\u001b[0;34m,\u001b[0m \u001b[0moptions\u001b[0m\u001b[0;34m)\u001b[0m \u001b[0;32mfor\u001b[0m \u001b[0marg\u001b[0m \u001b[0;32min\u001b[0m \u001b[0mv\u001b[0m\u001b[0;34m.\u001b[0m\u001b[0margs\u001b[0m\u001b[0;34m]\u001b[0m\u001b[0;34m\u001b[0m\u001b[0;34m\u001b[0m\u001b[0m\n\u001b[0m\u001b[1;32m    535\u001b[0m         re, re_acc = add_terms(\n\u001b[1;32m    536\u001b[0m             [a[0::2] for a in terms if a[0]], prec, target_prec)\n",
      "\u001b[0;32m~/.local/lib/python3.8/site-packages/sympy/core/evalf.py\u001b[0m in \u001b[0;36mevalf\u001b[0;34m(x, prec, options)\u001b[0m\n\u001b[1;32m   1364\u001b[0m     \u001b[0;32mtry\u001b[0m\u001b[0;34m:\u001b[0m\u001b[0;34m\u001b[0m\u001b[0;34m\u001b[0m\u001b[0m\n\u001b[1;32m   1365\u001b[0m         \u001b[0mrf\u001b[0m \u001b[0;34m=\u001b[0m \u001b[0mevalf_table\u001b[0m\u001b[0;34m[\u001b[0m\u001b[0mx\u001b[0m\u001b[0;34m.\u001b[0m\u001b[0mfunc\u001b[0m\u001b[0;34m]\u001b[0m\u001b[0;34m\u001b[0m\u001b[0;34m\u001b[0m\u001b[0m\n\u001b[0;32m-> 1366\u001b[0;31m         \u001b[0mr\u001b[0m \u001b[0;34m=\u001b[0m \u001b[0mrf\u001b[0m\u001b[0;34m(\u001b[0m\u001b[0mx\u001b[0m\u001b[0;34m,\u001b[0m \u001b[0mprec\u001b[0m\u001b[0;34m,\u001b[0m \u001b[0moptions\u001b[0m\u001b[0;34m)\u001b[0m\u001b[0;34m\u001b[0m\u001b[0;34m\u001b[0m\u001b[0m\n\u001b[0m\u001b[1;32m   1367\u001b[0m     \u001b[0;32mexcept\u001b[0m \u001b[0mKeyError\u001b[0m\u001b[0;34m:\u001b[0m\u001b[0;34m\u001b[0m\u001b[0;34m\u001b[0m\u001b[0m\n\u001b[1;32m   1368\u001b[0m         \u001b[0;31m# Fall back to ordinary evalf if possible\u001b[0m\u001b[0;34m\u001b[0m\u001b[0;34m\u001b[0m\u001b[0;34m\u001b[0m\u001b[0m\n",
      "\u001b[0;32m~/.local/lib/python3.8/site-packages/sympy/core/evalf.py\u001b[0m in \u001b[0;36mevalf_mul\u001b[0;34m(v, prec, options)\u001b[0m\n\u001b[1;32m    572\u001b[0m     \u001b[0;32mfrom\u001b[0m \u001b[0msympy\u001b[0m\u001b[0;34m.\u001b[0m\u001b[0mcore\u001b[0m\u001b[0;34m.\u001b[0m\u001b[0mnumbers\u001b[0m \u001b[0;32mimport\u001b[0m \u001b[0mFloat\u001b[0m\u001b[0;34m\u001b[0m\u001b[0;34m\u001b[0m\u001b[0m\n\u001b[1;32m    573\u001b[0m     \u001b[0;32mfor\u001b[0m \u001b[0marg\u001b[0m \u001b[0;32min\u001b[0m \u001b[0margs\u001b[0m\u001b[0;34m:\u001b[0m\u001b[0;34m\u001b[0m\u001b[0;34m\u001b[0m\u001b[0m\n\u001b[0;32m--> 574\u001b[0;31m         \u001b[0marg\u001b[0m \u001b[0;34m=\u001b[0m \u001b[0mevalf\u001b[0m\u001b[0;34m(\u001b[0m\u001b[0marg\u001b[0m\u001b[0;34m,\u001b[0m \u001b[0mprec\u001b[0m\u001b[0;34m,\u001b[0m \u001b[0moptions\u001b[0m\u001b[0;34m)\u001b[0m\u001b[0;34m\u001b[0m\u001b[0;34m\u001b[0m\u001b[0m\n\u001b[0m\u001b[1;32m    575\u001b[0m         \u001b[0;32mif\u001b[0m \u001b[0marg\u001b[0m\u001b[0;34m[\u001b[0m\u001b[0;36m0\u001b[0m\u001b[0;34m]\u001b[0m \u001b[0;32mis\u001b[0m \u001b[0;32mNone\u001b[0m\u001b[0;34m:\u001b[0m\u001b[0;34m\u001b[0m\u001b[0;34m\u001b[0m\u001b[0m\n\u001b[1;32m    576\u001b[0m             \u001b[0;32mcontinue\u001b[0m\u001b[0;34m\u001b[0m\u001b[0;34m\u001b[0m\u001b[0m\n",
      "\u001b[0;32m~/.local/lib/python3.8/site-packages/sympy/core/evalf.py\u001b[0m in \u001b[0;36mevalf\u001b[0;34m(x, prec, options)\u001b[0m\n\u001b[1;32m   1364\u001b[0m     \u001b[0;32mtry\u001b[0m\u001b[0;34m:\u001b[0m\u001b[0;34m\u001b[0m\u001b[0;34m\u001b[0m\u001b[0m\n\u001b[1;32m   1365\u001b[0m         \u001b[0mrf\u001b[0m \u001b[0;34m=\u001b[0m \u001b[0mevalf_table\u001b[0m\u001b[0;34m[\u001b[0m\u001b[0mx\u001b[0m\u001b[0;34m.\u001b[0m\u001b[0mfunc\u001b[0m\u001b[0;34m]\u001b[0m\u001b[0;34m\u001b[0m\u001b[0;34m\u001b[0m\u001b[0m\n\u001b[0;32m-> 1366\u001b[0;31m         \u001b[0mr\u001b[0m \u001b[0;34m=\u001b[0m \u001b[0mrf\u001b[0m\u001b[0;34m(\u001b[0m\u001b[0mx\u001b[0m\u001b[0;34m,\u001b[0m \u001b[0mprec\u001b[0m\u001b[0;34m,\u001b[0m \u001b[0moptions\u001b[0m\u001b[0;34m)\u001b[0m\u001b[0;34m\u001b[0m\u001b[0;34m\u001b[0m\u001b[0m\n\u001b[0m\u001b[1;32m   1367\u001b[0m     \u001b[0;32mexcept\u001b[0m \u001b[0mKeyError\u001b[0m\u001b[0;34m:\u001b[0m\u001b[0;34m\u001b[0m\u001b[0;34m\u001b[0m\u001b[0m\n\u001b[1;32m   1368\u001b[0m         \u001b[0;31m# Fall back to ordinary evalf if possible\u001b[0m\u001b[0;34m\u001b[0m\u001b[0;34m\u001b[0m\u001b[0;34m\u001b[0m\u001b[0m\n",
      "\u001b[0;32m~/.local/lib/python3.8/site-packages/sympy/core/evalf.py\u001b[0m in \u001b[0;36mevalf_pow\u001b[0;34m(v, prec, options)\u001b[0m\n\u001b[1;32m    689\u001b[0m         \u001b[0;31m# base must be evaluated with increased precision if p is large\u001b[0m\u001b[0;34m\u001b[0m\u001b[0;34m\u001b[0m\u001b[0;34m\u001b[0m\u001b[0m\n\u001b[1;32m    690\u001b[0m         \u001b[0mprec\u001b[0m \u001b[0;34m+=\u001b[0m \u001b[0mint\u001b[0m\u001b[0;34m(\u001b[0m\u001b[0mmath\u001b[0m\u001b[0;34m.\u001b[0m\u001b[0mlog\u001b[0m\u001b[0;34m(\u001b[0m\u001b[0mabs\u001b[0m\u001b[0;34m(\u001b[0m\u001b[0mp\u001b[0m\u001b[0;34m)\u001b[0m\u001b[0;34m,\u001b[0m \u001b[0;36m2\u001b[0m\u001b[0;34m)\u001b[0m\u001b[0;34m)\u001b[0m\u001b[0;34m\u001b[0m\u001b[0;34m\u001b[0m\u001b[0m\n\u001b[0;32m--> 691\u001b[0;31m         \u001b[0mre\u001b[0m\u001b[0;34m,\u001b[0m \u001b[0mim\u001b[0m\u001b[0;34m,\u001b[0m \u001b[0mre_acc\u001b[0m\u001b[0;34m,\u001b[0m \u001b[0mim_acc\u001b[0m \u001b[0;34m=\u001b[0m \u001b[0mevalf\u001b[0m\u001b[0;34m(\u001b[0m\u001b[0mbase\u001b[0m\u001b[0;34m,\u001b[0m \u001b[0mprec\u001b[0m \u001b[0;34m+\u001b[0m \u001b[0;36m5\u001b[0m\u001b[0;34m,\u001b[0m \u001b[0moptions\u001b[0m\u001b[0;34m)\u001b[0m\u001b[0;34m\u001b[0m\u001b[0;34m\u001b[0m\u001b[0m\n\u001b[0m\u001b[1;32m    692\u001b[0m         \u001b[0;31m# Real to integer power\u001b[0m\u001b[0;34m\u001b[0m\u001b[0;34m\u001b[0m\u001b[0;34m\u001b[0m\u001b[0m\n\u001b[1;32m    693\u001b[0m         \u001b[0;32mif\u001b[0m \u001b[0mre\u001b[0m \u001b[0;32mand\u001b[0m \u001b[0;32mnot\u001b[0m \u001b[0mim\u001b[0m\u001b[0;34m:\u001b[0m\u001b[0;34m\u001b[0m\u001b[0;34m\u001b[0m\u001b[0m\n",
      "\u001b[0;32m~/.local/lib/python3.8/site-packages/sympy/core/evalf.py\u001b[0m in \u001b[0;36mevalf\u001b[0;34m(x, prec, options)\u001b[0m\n\u001b[1;32m   1364\u001b[0m     \u001b[0;32mtry\u001b[0m\u001b[0;34m:\u001b[0m\u001b[0;34m\u001b[0m\u001b[0;34m\u001b[0m\u001b[0m\n\u001b[1;32m   1365\u001b[0m         \u001b[0mrf\u001b[0m \u001b[0;34m=\u001b[0m \u001b[0mevalf_table\u001b[0m\u001b[0;34m[\u001b[0m\u001b[0mx\u001b[0m\u001b[0;34m.\u001b[0m\u001b[0mfunc\u001b[0m\u001b[0;34m]\u001b[0m\u001b[0;34m\u001b[0m\u001b[0;34m\u001b[0m\u001b[0m\n\u001b[0;32m-> 1366\u001b[0;31m         \u001b[0mr\u001b[0m \u001b[0;34m=\u001b[0m \u001b[0mrf\u001b[0m\u001b[0;34m(\u001b[0m\u001b[0mx\u001b[0m\u001b[0;34m,\u001b[0m \u001b[0mprec\u001b[0m\u001b[0;34m,\u001b[0m \u001b[0moptions\u001b[0m\u001b[0;34m)\u001b[0m\u001b[0;34m\u001b[0m\u001b[0;34m\u001b[0m\u001b[0m\n\u001b[0m\u001b[1;32m   1367\u001b[0m     \u001b[0;32mexcept\u001b[0m \u001b[0mKeyError\u001b[0m\u001b[0;34m:\u001b[0m\u001b[0;34m\u001b[0m\u001b[0;34m\u001b[0m\u001b[0m\n\u001b[1;32m   1368\u001b[0m         \u001b[0;31m# Fall back to ordinary evalf if possible\u001b[0m\u001b[0;34m\u001b[0m\u001b[0;34m\u001b[0m\u001b[0;34m\u001b[0m\u001b[0m\n",
      "\u001b[0;32m~/.local/lib/python3.8/site-packages/sympy/core/evalf.py\u001b[0m in \u001b[0;36mevalf_add\u001b[0;34m(v, prec, options)\u001b[0m\n\u001b[1;32m    532\u001b[0m         \u001b[0moptions\u001b[0m\u001b[0;34m[\u001b[0m\u001b[0;34m'maxprec'\u001b[0m\u001b[0;34m]\u001b[0m \u001b[0;34m=\u001b[0m \u001b[0mmin\u001b[0m\u001b[0;34m(\u001b[0m\u001b[0moldmaxprec\u001b[0m\u001b[0;34m,\u001b[0m \u001b[0;36m2\u001b[0m\u001b[0;34m*\u001b[0m\u001b[0mprec\u001b[0m\u001b[0;34m)\u001b[0m\u001b[0;34m\u001b[0m\u001b[0;34m\u001b[0m\u001b[0m\n\u001b[1;32m    533\u001b[0m \u001b[0;34m\u001b[0m\u001b[0m\n\u001b[0;32m--> 534\u001b[0;31m         \u001b[0mterms\u001b[0m \u001b[0;34m=\u001b[0m \u001b[0;34m[\u001b[0m\u001b[0mevalf\u001b[0m\u001b[0;34m(\u001b[0m\u001b[0marg\u001b[0m\u001b[0;34m,\u001b[0m \u001b[0mprec\u001b[0m \u001b[0;34m+\u001b[0m \u001b[0;36m10\u001b[0m\u001b[0;34m,\u001b[0m \u001b[0moptions\u001b[0m\u001b[0;34m)\u001b[0m \u001b[0;32mfor\u001b[0m \u001b[0marg\u001b[0m \u001b[0;32min\u001b[0m \u001b[0mv\u001b[0m\u001b[0;34m.\u001b[0m\u001b[0margs\u001b[0m\u001b[0;34m]\u001b[0m\u001b[0;34m\u001b[0m\u001b[0;34m\u001b[0m\u001b[0m\n\u001b[0m\u001b[1;32m    535\u001b[0m         re, re_acc = add_terms(\n\u001b[1;32m    536\u001b[0m             [a[0::2] for a in terms if a[0]], prec, target_prec)\n",
      "\u001b[0;32m~/.local/lib/python3.8/site-packages/sympy/core/evalf.py\u001b[0m in \u001b[0;36m<listcomp>\u001b[0;34m(.0)\u001b[0m\n\u001b[1;32m    532\u001b[0m         \u001b[0moptions\u001b[0m\u001b[0;34m[\u001b[0m\u001b[0;34m'maxprec'\u001b[0m\u001b[0;34m]\u001b[0m \u001b[0;34m=\u001b[0m \u001b[0mmin\u001b[0m\u001b[0;34m(\u001b[0m\u001b[0moldmaxprec\u001b[0m\u001b[0;34m,\u001b[0m \u001b[0;36m2\u001b[0m\u001b[0;34m*\u001b[0m\u001b[0mprec\u001b[0m\u001b[0;34m)\u001b[0m\u001b[0;34m\u001b[0m\u001b[0;34m\u001b[0m\u001b[0m\n\u001b[1;32m    533\u001b[0m \u001b[0;34m\u001b[0m\u001b[0m\n\u001b[0;32m--> 534\u001b[0;31m         \u001b[0mterms\u001b[0m \u001b[0;34m=\u001b[0m \u001b[0;34m[\u001b[0m\u001b[0mevalf\u001b[0m\u001b[0;34m(\u001b[0m\u001b[0marg\u001b[0m\u001b[0;34m,\u001b[0m \u001b[0mprec\u001b[0m \u001b[0;34m+\u001b[0m \u001b[0;36m10\u001b[0m\u001b[0;34m,\u001b[0m \u001b[0moptions\u001b[0m\u001b[0;34m)\u001b[0m \u001b[0;32mfor\u001b[0m \u001b[0marg\u001b[0m \u001b[0;32min\u001b[0m \u001b[0mv\u001b[0m\u001b[0;34m.\u001b[0m\u001b[0margs\u001b[0m\u001b[0;34m]\u001b[0m\u001b[0;34m\u001b[0m\u001b[0;34m\u001b[0m\u001b[0m\n\u001b[0m\u001b[1;32m    535\u001b[0m         re, re_acc = add_terms(\n\u001b[1;32m    536\u001b[0m             [a[0::2] for a in terms if a[0]], prec, target_prec)\n",
      "\u001b[0;32m~/.local/lib/python3.8/site-packages/sympy/core/evalf.py\u001b[0m in \u001b[0;36mevalf\u001b[0;34m(x, prec, options)\u001b[0m\n\u001b[1;32m   1364\u001b[0m     \u001b[0;32mtry\u001b[0m\u001b[0;34m:\u001b[0m\u001b[0;34m\u001b[0m\u001b[0;34m\u001b[0m\u001b[0m\n\u001b[1;32m   1365\u001b[0m         \u001b[0mrf\u001b[0m \u001b[0;34m=\u001b[0m \u001b[0mevalf_table\u001b[0m\u001b[0;34m[\u001b[0m\u001b[0mx\u001b[0m\u001b[0;34m.\u001b[0m\u001b[0mfunc\u001b[0m\u001b[0;34m]\u001b[0m\u001b[0;34m\u001b[0m\u001b[0;34m\u001b[0m\u001b[0m\n\u001b[0;32m-> 1366\u001b[0;31m         \u001b[0mr\u001b[0m \u001b[0;34m=\u001b[0m \u001b[0mrf\u001b[0m\u001b[0;34m(\u001b[0m\u001b[0mx\u001b[0m\u001b[0;34m,\u001b[0m \u001b[0mprec\u001b[0m\u001b[0;34m,\u001b[0m \u001b[0moptions\u001b[0m\u001b[0;34m)\u001b[0m\u001b[0;34m\u001b[0m\u001b[0;34m\u001b[0m\u001b[0m\n\u001b[0m\u001b[1;32m   1367\u001b[0m     \u001b[0;32mexcept\u001b[0m \u001b[0mKeyError\u001b[0m\u001b[0;34m:\u001b[0m\u001b[0;34m\u001b[0m\u001b[0;34m\u001b[0m\u001b[0m\n\u001b[1;32m   1368\u001b[0m         \u001b[0;31m# Fall back to ordinary evalf if possible\u001b[0m\u001b[0;34m\u001b[0m\u001b[0;34m\u001b[0m\u001b[0;34m\u001b[0m\u001b[0m\n",
      "\u001b[0;32m~/.local/lib/python3.8/site-packages/sympy/core/evalf.py\u001b[0m in \u001b[0;36mevalf_mul\u001b[0;34m(v, prec, options)\u001b[0m\n\u001b[1;32m    575\u001b[0m         \u001b[0;32mif\u001b[0m \u001b[0marg\u001b[0m\u001b[0;34m[\u001b[0m\u001b[0;36m0\u001b[0m\u001b[0;34m]\u001b[0m \u001b[0;32mis\u001b[0m \u001b[0;32mNone\u001b[0m\u001b[0;34m:\u001b[0m\u001b[0;34m\u001b[0m\u001b[0;34m\u001b[0m\u001b[0m\n\u001b[1;32m    576\u001b[0m             \u001b[0;32mcontinue\u001b[0m\u001b[0;34m\u001b[0m\u001b[0;34m\u001b[0m\u001b[0m\n\u001b[0;32m--> 577\u001b[0;31m         \u001b[0marg\u001b[0m \u001b[0;34m=\u001b[0m \u001b[0mFloat\u001b[0m\u001b[0;34m.\u001b[0m\u001b[0m_new\u001b[0m\u001b[0;34m(\u001b[0m\u001b[0marg\u001b[0m\u001b[0;34m[\u001b[0m\u001b[0;36m0\u001b[0m\u001b[0;34m]\u001b[0m\u001b[0;34m,\u001b[0m \u001b[0;36m1\u001b[0m\u001b[0;34m)\u001b[0m\u001b[0;34m\u001b[0m\u001b[0;34m\u001b[0m\u001b[0m\n\u001b[0m\u001b[1;32m    578\u001b[0m         \u001b[0;32mif\u001b[0m \u001b[0marg\u001b[0m \u001b[0;32mis\u001b[0m \u001b[0mS\u001b[0m\u001b[0;34m.\u001b[0m\u001b[0mNaN\u001b[0m \u001b[0;32mor\u001b[0m \u001b[0marg\u001b[0m\u001b[0;34m.\u001b[0m\u001b[0mis_infinite\u001b[0m\u001b[0;34m:\u001b[0m\u001b[0;34m\u001b[0m\u001b[0;34m\u001b[0m\u001b[0m\n\u001b[1;32m    579\u001b[0m             \u001b[0mspecial\u001b[0m\u001b[0;34m.\u001b[0m\u001b[0mappend\u001b[0m\u001b[0;34m(\u001b[0m\u001b[0marg\u001b[0m\u001b[0;34m)\u001b[0m\u001b[0;34m\u001b[0m\u001b[0;34m\u001b[0m\u001b[0m\n",
      "\u001b[0;32m~/.local/lib/python3.8/site-packages/sympy/core/numbers.py\u001b[0m in \u001b[0;36m_new\u001b[0;34m(cls, _mpf_, _prec, zero)\u001b[0m\n\u001b[1;32m   1202\u001b[0m \u001b[0;34m\u001b[0m\u001b[0m\n\u001b[1;32m   1203\u001b[0m         \u001b[0mobj\u001b[0m \u001b[0;34m=\u001b[0m \u001b[0mExpr\u001b[0m\u001b[0;34m.\u001b[0m\u001b[0m__new__\u001b[0m\u001b[0;34m(\u001b[0m\u001b[0mcls\u001b[0m\u001b[0;34m)\u001b[0m\u001b[0;34m\u001b[0m\u001b[0;34m\u001b[0m\u001b[0m\n\u001b[0;32m-> 1204\u001b[0;31m         \u001b[0mobj\u001b[0m\u001b[0;34m.\u001b[0m\u001b[0m_mpf_\u001b[0m \u001b[0;34m=\u001b[0m \u001b[0mmpf_norm\u001b[0m\u001b[0;34m(\u001b[0m\u001b[0m_mpf_\u001b[0m\u001b[0;34m,\u001b[0m \u001b[0m_prec\u001b[0m\u001b[0;34m)\u001b[0m\u001b[0;34m\u001b[0m\u001b[0;34m\u001b[0m\u001b[0m\n\u001b[0m\u001b[1;32m   1205\u001b[0m         \u001b[0mobj\u001b[0m\u001b[0;34m.\u001b[0m\u001b[0m_prec\u001b[0m \u001b[0;34m=\u001b[0m \u001b[0m_prec\u001b[0m\u001b[0;34m\u001b[0m\u001b[0;34m\u001b[0m\u001b[0m\n\u001b[1;32m   1206\u001b[0m         \u001b[0;32mreturn\u001b[0m \u001b[0mobj\u001b[0m\u001b[0;34m\u001b[0m\u001b[0;34m\u001b[0m\u001b[0m\n",
      "\u001b[0;32m~/.local/lib/python3.8/site-packages/sympy/core/numbers.py\u001b[0m in \u001b[0;36mmpf_norm\u001b[0;34m(mpf, prec)\u001b[0m\n\u001b[1;32m    175\u001b[0m     \u001b[0;31m# Necessary if mpmath is using the gmpy backend\u001b[0m\u001b[0;34m\u001b[0m\u001b[0;34m\u001b[0m\u001b[0;34m\u001b[0m\u001b[0m\n\u001b[1;32m    176\u001b[0m     \u001b[0;32mfrom\u001b[0m \u001b[0mmpmath\u001b[0m\u001b[0;34m.\u001b[0m\u001b[0mlibmp\u001b[0m\u001b[0;34m.\u001b[0m\u001b[0mbackend\u001b[0m \u001b[0;32mimport\u001b[0m \u001b[0mMPZ\u001b[0m\u001b[0;34m\u001b[0m\u001b[0;34m\u001b[0m\u001b[0m\n\u001b[0;32m--> 177\u001b[0;31m     \u001b[0mrv\u001b[0m \u001b[0;34m=\u001b[0m \u001b[0mmpf_normalize\u001b[0m\u001b[0;34m(\u001b[0m\u001b[0msign\u001b[0m\u001b[0;34m,\u001b[0m \u001b[0mMPZ\u001b[0m\u001b[0;34m(\u001b[0m\u001b[0mman\u001b[0m\u001b[0;34m)\u001b[0m\u001b[0;34m,\u001b[0m \u001b[0mexpt\u001b[0m\u001b[0;34m,\u001b[0m \u001b[0mbc\u001b[0m\u001b[0;34m,\u001b[0m \u001b[0mprec\u001b[0m\u001b[0;34m,\u001b[0m \u001b[0mrnd\u001b[0m\u001b[0;34m)\u001b[0m\u001b[0;34m\u001b[0m\u001b[0;34m\u001b[0m\u001b[0m\n\u001b[0m\u001b[1;32m    178\u001b[0m     \u001b[0;32mreturn\u001b[0m \u001b[0mrv\u001b[0m\u001b[0;34m\u001b[0m\u001b[0;34m\u001b[0m\u001b[0m\n\u001b[1;32m    179\u001b[0m \u001b[0;34m\u001b[0m\u001b[0m\n",
      "\u001b[0;32m~/.local/lib/python3.8/site-packages/mpmath/libmp/libmpf.py\u001b[0m in \u001b[0;36m_normalize\u001b[0;34m(sign, man, exp, bc, prec, rnd)\u001b[0m\n\u001b[1;32m    184\u001b[0m         \u001b[0;32melse\u001b[0m\u001b[0;34m:\u001b[0m\u001b[0;34m\u001b[0m\u001b[0;34m\u001b[0m\u001b[0m\n\u001b[1;32m    185\u001b[0m             \u001b[0mman\u001b[0m \u001b[0;34m=\u001b[0m \u001b[0;34m-\u001b[0m\u001b[0;34m(\u001b[0m\u001b[0;34m(\u001b[0m\u001b[0;34m-\u001b[0m\u001b[0mman\u001b[0m\u001b[0;34m)\u001b[0m\u001b[0;34m>>\u001b[0m\u001b[0mn\u001b[0m\u001b[0;34m)\u001b[0m\u001b[0;34m\u001b[0m\u001b[0;34m\u001b[0m\u001b[0m\n\u001b[0;32m--> 186\u001b[0;31m         \u001b[0mexp\u001b[0m \u001b[0;34m+=\u001b[0m \u001b[0mn\u001b[0m\u001b[0;34m\u001b[0m\u001b[0;34m\u001b[0m\u001b[0m\n\u001b[0m\u001b[1;32m    187\u001b[0m         \u001b[0mbc\u001b[0m \u001b[0;34m=\u001b[0m \u001b[0mprec\u001b[0m\u001b[0;34m\u001b[0m\u001b[0;34m\u001b[0m\u001b[0m\n\u001b[1;32m    188\u001b[0m     \u001b[0;31m# Strip trailing bits\u001b[0m\u001b[0;34m\u001b[0m\u001b[0;34m\u001b[0m\u001b[0;34m\u001b[0m\u001b[0m\n",
      "\u001b[0;31mKeyboardInterrupt\u001b[0m: "
     ]
    }
   ],
   "source": [
    "Eq(\n",
    "    (Integral((\n",
    "        (1/(-I*exp(s-s*k+delta*k)+1)/(s-delta)).subs(delta,mu) - \n",
    "        (1/(-I*exp(s-s*k+delta*k)+1)/(s-delta)).subs(delta,nu)\n",
    "    ).subs([(mu,2+I*pi),(nu,2),(k,0)]),(s,0,oo))\n",
    "    ), \n",
    "   Integral(\n",
    "        (1/(-I*exp(s-s*k+delta*k)+1)/(k-1)).subs([(delta,mu),(s,0)]).subs([(mu,2+I*pi),(nu,2)]) - \n",
    "        (1/(-I*exp(s-s*k+delta*k)+1)/(k-1)).subs([(delta,nu),(s,0)]).subs([(mu,2+I*pi),(nu,2)])\n",
    "    ,(k,0,oo))\n",
    ")"
   ]
  },
  {
   "cell_type": "code",
   "execution_count": 314,
   "metadata": {},
   "outputs": [
    {
     "data": {
      "text/latex": [
       "$\\displaystyle -26.4731659087839 + 1.57079632679171 i$"
      ],
      "text/plain": [
       "-26.4731659087839 + 1.57079632679171*I"
      ]
     },
     "execution_count": 314,
     "metadata": {},
     "output_type": "execute_result"
    }
   ],
   "source": [
    "Integral((1/(s-mu) - 1/(s-nu)).subs([(mu,2+I*pi),(nu,2)]),(s,2+epsilon,oo)).doit().expand().subs(epsilon,0.00000000001).evalf()"
   ]
  },
  {
   "cell_type": "code",
   "execution_count": 305,
   "metadata": {},
   "outputs": [
    {
     "data": {
      "image/png": "[encoded data removed]",
      "text/plain": [
       "<Figure size 432x288 with 1 Axes>"
      ]
     },
     "metadata": {
      "needs_background": "light"
     },
     "output_type": "display_data"
    },
    {
     "data": {
      "text/plain": [
       "<sympy.plotting.plot.Plot at 0x7fbf4b503040>"
      ]
     },
     "execution_count": 305,
     "metadata": {},
     "output_type": "execute_result"
    }
   ],
   "source": [
    "plot(abs((1/(s-mu) - 1/(s-nu)).subs([(mu,2+I*pi),(nu,2)])),(s,2,100))"
   ]
  },
  {
   "cell_type": "code",
   "execution_count": null,
   "metadata": {},
   "outputs": [],
   "source": []
  }
 ],
 "metadata": {
  "kernelspec": {
   "display_name": "Python 3",
   "language": "python",
   "name": "python3"
  },
  "language_info": {
   "codemirror_mode": {
    "name": "ipython",
    "version": 3
   },
   "file_extension": ".py",
   "mimetype": "text/x-python",
   "name": "python",
   "nbconvert_exporter": "python",
   "pygments_lexer": "ipython3",
   "version": "3.8.5"
  }
 },
 "nbformat": 4,
 "nbformat_minor": 4
}
