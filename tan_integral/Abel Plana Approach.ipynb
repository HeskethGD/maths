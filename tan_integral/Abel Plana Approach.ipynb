{
 "cells": [
  {
   "cell_type": "markdown",
   "metadata": {},
   "source": [
    "https://en.wikipedia.org/wiki/Abel%E2%80%93Plana_formula\n",
    "\n",
    "https://arxiv.org/pdf/0708.1187.pdf\n",
    "\n",
    "https://www.math.columbia.edu/~ums/pdf/abelplana.pdf\n",
    "\n",
    "https://mathworld.wolfram.com/Abel-PlanaFormula.html"
   ]
  },
  {
   "cell_type": "code",
   "execution_count": 6,
   "metadata": {},
   "outputs": [],
   "source": [
    "from sympy import *"
   ]
  },
  {
   "cell_type": "code",
   "execution_count": 7,
   "metadata": {},
   "outputs": [],
   "source": [
    "x, y, n, m, K, k, epsilon, z, s, a, R, N, r, T, C = symbols('x, y, n, m, K, k, epsilon, z, s, a, R, N, r, T, C')\n",
    "alpha, beta, delta, t, mu, nu, epsilon, theta, phi = symbols('alpha, beta, delta, t, mu, nu, epsilon, theta, phi')"
   ]
  },
  {
   "cell_type": "code",
   "execution_count": 8,
   "metadata": {},
   "outputs": [
    {
     "data": {
      "text/latex": [
       "$\\displaystyle \\int\\limits_{0}^{\\frac{\\pi}{2}} \\frac{1}{\\left(x^{2} + 1\\right) \\left(\\tan{\\left(x \\right)} + 1\\right)}\\, dx = - \\operatorname{re}{\\left(\\int\\limits_{0}^{\\infty} \\frac{\\frac{1}{- i e^{2 k} e^{i \\pi k} + 1} + \\frac{1}{- i e^{2 k} - 1}}{k - 1}\\, dk\\right)} - \\frac{\\log{\\left(1 + \\frac{\\pi^{2}}{4} \\right)}}{4} + \\frac{\\operatorname{atan}{\\left(\\frac{\\pi}{2} \\right)}}{2}$"
      ],
      "text/plain": [
       "Eq(Integral(1/((x**2 + 1)*(tan(x) + 1)), (x, 0, pi/2)), -re(Integral((1/(-I*exp(2*k)*exp(I*pi*k) + 1) + 1/(-I*exp(2*k) - 1))/(k - 1), (k, 0, oo))) - log(1 + pi**2/4)/4 + atan(pi/2)/2)"
      ]
     },
     "execution_count": 8,
     "metadata": {},
     "output_type": "execute_result"
    }
   ],
   "source": [
    "Eq(UnevaluatedExpr(Integral(1/(1+x**2)*1/(1+tan(x)), (x, 0, pi/2))),\n",
    "   atan(pi/2)/2 - log(1+pi**2/4)/4 - \n",
    "   re(UnevaluatedExpr(Integral((1/(-I*exp(I*pi*k)*exp(2*k)+1) + 1/(-I*exp(2*k)-1))/(k-1),(k,0,oo))))\n",
    ")"
   ]
  },
  {
   "cell_type": "markdown",
   "metadata": {},
   "source": [
    "## Numerical Evaluation Using the Principal Value"
   ]
  },
  {
   "cell_type": "code",
   "execution_count": 28,
   "metadata": {},
   "outputs": [
    {
     "data": {
      "text/latex": [
       "$\\displaystyle \\int\\limits_{0}^{1 - \\epsilon} \\frac{1}{\\left(k - 1\\right) \\left(- i e^{2 k} - 1\\right)}\\, dk + \\int\\limits_{\\epsilon + 1}^{\\infty} \\frac{1}{\\left(k - 1\\right) \\left(- i e^{2 k} - 1\\right)}\\, dk$"
      ],
      "text/plain": [
       "Integral(1/((k - 1)*(-I*exp(2*k) - 1)), (k, 0, 1 - epsilon)) + Integral(1/((k - 1)*(-I*exp(2*k) - 1)), (k, epsilon + 1, oo))"
      ]
     },
     "execution_count": 28,
     "metadata": {},
     "output_type": "execute_result"
    }
   ],
   "source": [
    "(Integral( 1/(-I*exp(2*k)-1)/(k-1),(k,0,1-epsilon)) + Integral(1/(-I*exp(2*k)-1)/(k-1),(k,1+epsilon, oo)))"
   ]
  },
  {
   "cell_type": "code",
   "execution_count": 30,
   "metadata": {},
   "outputs": [
    {
     "data": {
      "text/latex": [
       "$\\displaystyle \\int\\limits_{0}^{1 - \\epsilon} \\frac{1}{\\left(k - 1\\right) \\left(- i e^{2 k} - 1\\right)}\\, dk + \\int\\limits_{\\epsilon + 1}^{N} \\frac{1}{\\left(k - 1\\right) \\left(- i e^{2 k} - 1\\right)}\\, dk$"
      ],
      "text/plain": [
       "Integral(1/((k - 1)*(-I*exp(2*k) - 1)), (k, 0, 1 - epsilon)) + Integral(1/((k - 1)*(-I*exp(2*k) - 1)), (k, epsilon + 1, N))"
      ]
     },
     "execution_count": 30,
     "metadata": {},
     "output_type": "execute_result"
    }
   ],
   "source": [
    "Eq1 = (Integral( 1/(-I*exp(2*k)-1)/(k-1),(k,0,1-epsilon)) + Integral(1/(-I*exp(2*k)-1)/(k-1),(k,1+epsilon, N)))\n",
    "Eq1"
   ]
  },
  {
   "cell_type": "code",
   "execution_count": 38,
   "metadata": {},
   "outputs": [
    {
     "data": {
      "text/latex": [
       "$\\displaystyle 0.999992041489105 + 1.60490200093966 \\cdot 10^{-6} i$"
      ],
      "text/plain": [
       "0.999992041489105 + 1.60490200093966e-6*I"
      ]
     },
     "execution_count": 38,
     "metadata": {},
     "output_type": "execute_result"
    }
   ],
   "source": [
    "(Eq1.subs([(epsilon,0.00001),(N,10000000)]).evalf()/Eq1.subs([(epsilon,0.000001),(N,10000000)]).evalf()).simplify()"
   ]
  },
  {
   "cell_type": "markdown",
   "metadata": {},
   "source": [
    "## The integral with real exponential argument"
   ]
  },
  {
   "cell_type": "code",
   "execution_count": 41,
   "metadata": {},
   "outputs": [
    {
     "data": {
      "text/latex": [
       "$\\displaystyle \\operatorname{re}{\\left(\\int\\limits_{0}^{\\infty} \\frac{1}{\\left(k - 1\\right) \\left(- i e^{2 k} - 1\\right)}\\, dk\\right)} = \\int\\limits_{0}^{\\infty} \\left(\\frac{1}{2 \\left(k - 1\\right) \\left(i e^{2 k} - 1\\right)} + \\frac{1}{2 \\left(k - 1\\right) \\left(- i e^{2 k} - 1\\right)}\\right)\\, dk$"
      ],
      "text/plain": [
       "Eq(re(Integral(1/((k - 1)*(-I*exp(2*k) - 1)), (k, 0, oo))), Integral(1/(2*(k - 1)*(I*exp(2*k) - 1)) + 1/(2*(k - 1)*(-I*exp(2*k) - 1)), (k, 0, oo)))"
      ]
     },
     "execution_count": 41,
     "metadata": {},
     "output_type": "execute_result"
    }
   ],
   "source": [
    "Eq(re(UnevaluatedExpr(Integral( 1/(-I*exp(2*k)-1)/(k-1),(k,0,oo)))),\n",
    "   UnevaluatedExpr(Integral(1/(-I*exp(2*k)-1)/(k-1)/2+1/(I*exp(2*k)-1)/(k-1)/2,(k,0,oo)))\n",
    "  )"
   ]
  },
  {
   "cell_type": "code",
   "execution_count": 22,
   "metadata": {},
   "outputs": [
    {
     "data": {
      "text/latex": [
       "$\\displaystyle \\frac{1}{2 \\left(i e^{2 k} - 1\\right)} + \\frac{1}{2 \\left(- i e^{2 k} - 1\\right)} = - \\frac{1}{e^{4 k} + 1}$"
      ],
      "text/plain": [
       "Eq(1/(2*(I*exp(2*k) - 1)) + 1/(2*(-I*exp(2*k) - 1)), -1/(exp(4*k) + 1))"
      ]
     },
     "execution_count": 22,
     "metadata": {},
     "output_type": "execute_result"
    }
   ],
   "source": [
    "Eq((1/(-I*exp(2*k)-1)+1/(I*exp(2*k)-1))/2,((1/(-I*exp(2*k)-1)+1/(I*exp(2*k)-1))/2).simplify())"
   ]
  },
  {
   "cell_type": "code",
   "execution_count": 57,
   "metadata": {},
   "outputs": [
    {
     "data": {
      "text/latex": [
       "$\\displaystyle - \\frac{1}{e^{2 k} + 1} + \\frac{1}{e^{2 k} - 1} = \\frac{2}{e^{4 k} - 1}$"
      ],
      "text/plain": [
       "Eq(-1/(exp(2*k) + 1) + 1/(exp(2*k) - 1), 2/(exp(4*k) - 1))"
      ]
     },
     "execution_count": 57,
     "metadata": {},
     "output_type": "execute_result"
    }
   ],
   "source": [
    "Eq((1/(exp(2*k)-1)-1/(exp(2*k)+1)), (1/(exp(2*k)-1)-1/(exp(2*k)+1)).simplify())"
   ]
  },
  {
   "cell_type": "code",
   "execution_count": 58,
   "metadata": {},
   "outputs": [
    {
     "data": {
      "text/latex": [
       "$\\displaystyle - \\frac{1}{e^{4 k} + 1} = \\frac{2}{e^{8 k} - 1} - \\frac{1}{e^{4 k} - 1}$"
      ],
      "text/plain": [
       "Eq(-1/(exp(4*k) + 1), 2/(exp(8*k) - 1) - 1/(exp(4*k) - 1))"
      ]
     },
     "execution_count": 58,
     "metadata": {},
     "output_type": "execute_result"
    }
   ],
   "source": [
    "Eq(-1/(exp(4*k)+1), 2/(exp(8*k)-1) - 1/(exp(4*k)-1))"
   ]
  },
  {
   "cell_type": "code",
   "execution_count": 60,
   "metadata": {
    "scrolled": false
   },
   "outputs": [
    {
     "data": {
      "text/latex": [
       "$\\displaystyle \\frac{1}{2 \\left(i e^{2 k} - 1\\right)} + \\frac{1}{2 \\left(- i e^{2 k} - 1\\right)} = \\frac{2}{e^{8 k} - 1} - \\frac{1}{e^{4 k} - 1}$"
      ],
      "text/plain": [
       "Eq(1/(2*(I*exp(2*k) - 1)) + 1/(2*(-I*exp(2*k) - 1)), 2/(exp(8*k) - 1) - 1/(exp(4*k) - 1))"
      ]
     },
     "execution_count": 60,
     "metadata": {},
     "output_type": "execute_result"
    }
   ],
   "source": [
    "Eq((1/(-I*exp(2*k)-1)+1/(I*exp(2*k)-1))/2, 2/(exp(8*k)-1) - 1/(exp(4*k)-1))"
   ]
  },
  {
   "cell_type": "code",
   "execution_count": 61,
   "metadata": {},
   "outputs": [
    {
     "data": {
      "text/latex": [
       "$\\displaystyle \\operatorname{re}{\\left(\\int\\limits_{0}^{\\infty} \\frac{1}{\\left(k - 1\\right) \\left(- i e^{2 k} - 1\\right)}\\, dk\\right)} = \\int\\limits_{0}^{\\infty} \\frac{\\frac{2}{e^{8 k} - 1} - \\frac{1}{e^{4 k} - 1}}{k - 1}\\, dk$"
      ],
      "text/plain": [
       "Eq(re(Integral(1/((k - 1)*(-I*exp(2*k) - 1)), (k, 0, oo))), Integral((2/(exp(8*k) - 1) - 1/(exp(4*k) - 1))/(k - 1), (k, 0, oo)))"
      ]
     },
     "execution_count": 61,
     "metadata": {},
     "output_type": "execute_result"
    }
   ],
   "source": [
    "Eq(re(UnevaluatedExpr(Integral( 1/(-I*exp(2*k)-1)/(k-1),(k,0,oo)))),\n",
    "   UnevaluatedExpr(Integral((2/(exp(8*k)-1) - 1/(exp(4*k)-1))/(k-1),(k,0,oo)))\n",
    "  )"
   ]
  },
  {
   "cell_type": "code",
   "execution_count": 62,
   "metadata": {},
   "outputs": [
    {
     "data": {
      "text/latex": [
       "$\\displaystyle \\operatorname{re}{\\left(\\int\\limits_{0}^{\\infty} \\frac{1}{\\left(k - 1\\right) \\left(- i e^{2 k} - 1\\right)}\\, dk\\right)} = \\int\\limits_{0}^{\\infty} \\left(- \\frac{1}{\\left(k - 1\\right) \\left(e^{4 k} - 1\\right)}\\right)\\, dk + \\int\\limits_{0}^{\\infty} \\frac{2}{\\left(k - 1\\right) \\left(e^{8 k} - 1\\right)}\\, dk$"
      ],
      "text/plain": [
       "Eq(re(Integral(1/((k - 1)*(-I*exp(2*k) - 1)), (k, 0, oo))), Integral(-1/((k - 1)*(exp(4*k) - 1)), (k, 0, oo)) + Integral(2/((k - 1)*(exp(8*k) - 1)), (k, 0, oo)))"
      ]
     },
     "execution_count": 62,
     "metadata": {},
     "output_type": "execute_result"
    }
   ],
   "source": [
    "Eq(re(UnevaluatedExpr(Integral( 1/(-I*exp(2*k)-1)/(k-1),(k,0,oo)))),\n",
    "   UnevaluatedExpr(Integral(2/(exp(8*k)-1)/(k-1),(k,0,oo))) +\n",
    "   UnevaluatedExpr(Integral(- 1/(exp(4*k)-1)/(k-1),(k,0,oo)))\n",
    "  )"
   ]
  },
  {
   "cell_type": "code",
   "execution_count": 90,
   "metadata": {
    "scrolled": true
   },
   "outputs": [
    {
     "data": {
      "text/latex": [
       "$\\displaystyle \\int\\limits_{\\mu}^{\\infty} \\frac{2}{\\left(k - 1\\right) \\left(e^{8 k} - 1\\right)}\\, dk = \\int\\limits_{2 \\mu}^{\\infty} \\frac{1}{\\left(\\frac{k}{2} - 1\\right) \\left(e^{4 k} - 1\\right)}\\, dk$"
      ],
      "text/plain": [
       "Eq(Integral(2/((k - 1)*(exp(8*k) - 1)), (k, mu, oo)), Integral(1/((k/2 - 1)*(exp(4*k) - 1)), (k, 2*mu, oo)))"
      ]
     },
     "execution_count": 90,
     "metadata": {},
     "output_type": "execute_result"
    }
   ],
   "source": [
    "Eq(Integral(2/(exp(8*k)-1)/(k-1),(k,mu,oo)),\n",
    "  Integral((2/(exp(8*k)-1)/(k-1)).subs(k,k/2)/2,(k,2*mu,oo)))"
   ]
  },
  {
   "cell_type": "code",
   "execution_count": 91,
   "metadata": {},
   "outputs": [
    {
     "data": {
      "text/latex": [
       "$\\displaystyle \\int\\limits_{\\mu}^{\\infty} \\frac{2}{\\left(k - 1\\right) \\left(e^{8 k} - 1\\right)}\\, dk = \\int\\limits_{\\mu}^{\\infty} \\frac{2}{\\left(k - 2\\right) \\left(e^{4 k} - 1\\right)}\\, dk - \\int\\limits_{\\mu}^{2 \\mu} \\frac{2}{\\left(k - 2\\right) \\left(e^{4 k} - 1\\right)}\\, dk$"
      ],
      "text/plain": [
       "Eq(Integral(2/((k - 1)*(exp(8*k) - 1)), (k, mu, oo)), Integral(2/((k - 2)*(exp(4*k) - 1)), (k, mu, oo)) - Integral(2/((k - 2)*(exp(4*k) - 1)), (k, mu, 2*mu)))"
      ]
     },
     "execution_count": 91,
     "metadata": {},
     "output_type": "execute_result"
    }
   ],
   "source": [
    "Eq(Integral(2/(exp(8*k)-1)/(k-1),(k,mu,oo)),\n",
    "  Integral((2/(exp(4*k)-1)/(k-2)),(k,mu,oo)) - Integral((2/(exp(4*k)-1)/(k-2)),(k,mu,2*mu))\n",
    ")"
   ]
  },
  {
   "cell_type": "code",
   "execution_count": 92,
   "metadata": {},
   "outputs": [
    {
     "data": {
      "text/latex": [
       "$\\displaystyle \\int\\limits_{\\mu}^{\\infty} \\frac{2}{\\left(k - 1\\right) \\left(e^{8 k} - 1\\right)}\\, dk = \\int\\limits_{\\mu}^{\\infty} \\frac{2}{\\left(k - 2\\right) \\left(e^{4 k} - 1\\right)}\\, dk - \\int\\limits_{1}^{2} \\frac{2 \\mu}{\\left(k \\mu - 2\\right) \\left(e^{4 k \\mu} - 1\\right)}\\, dk$"
      ],
      "text/plain": [
       "Eq(Integral(2/((k - 1)*(exp(8*k) - 1)), (k, mu, oo)), Integral(2/((k - 2)*(exp(4*k) - 1)), (k, mu, oo)) - Integral(2*mu/((k*mu - 2)*(exp(4*k*mu) - 1)), (k, 1, 2)))"
      ]
     },
     "execution_count": 92,
     "metadata": {},
     "output_type": "execute_result"
    }
   ],
   "source": [
    "Eq(Integral(2/(exp(8*k)-1)/(k-1),(k,mu,oo)),\n",
    "  Integral((2/(exp(4*k)-1)/(k-2)),(k,mu,oo)) - Integral((2*mu/(exp(4*k*mu)-1)/(k*mu-2)),(k,1,2))\n",
    ")"
   ]
  },
  {
   "cell_type": "code",
   "execution_count": 100,
   "metadata": {},
   "outputs": [
    {
     "data": {
      "text/latex": [
       "$\\displaystyle \\lim_{\\mu \\to 0^+} \\int\\limits_{\\mu}^{\\infty} \\frac{2}{\\left(k - 1\\right) \\left(e^{8 k} - 1\\right)}\\, dk = - \\int\\limits_{1}^{2} \\lim_{\\mu \\to 0^+}\\left(\\frac{2 \\mu}{\\left(k \\mu - 2\\right) \\left(e^{4 k \\mu} - 1\\right)}\\right)\\, dk + \\lim_{\\mu \\to 0^+} \\int\\limits_{\\mu}^{\\infty} \\frac{2}{\\left(k - 2\\right) \\left(e^{4 k} - 1\\right)}\\, dk$"
      ],
      "text/plain": [
       "Eq(Limit(Integral(2/((k - 1)*(exp(8*k) - 1)), (k, mu, oo)), mu, 0), -Integral(Limit(2*mu/((k*mu - 2)*(exp(4*k*mu) - 1)), mu, 0), (k, 1, 2)) + Limit(Integral(2/((k - 2)*(exp(4*k) - 1)), (k, mu, oo)), mu, 0))"
      ]
     },
     "execution_count": 100,
     "metadata": {},
     "output_type": "execute_result"
    }
   ],
   "source": [
    "Eq(Limit(Integral(2/(exp(8*k)-1)/(k-1),(k,mu,oo)),mu,0),\n",
    "  Limit(Integral((2/(exp(4*k)-1)/(k-2)),(k,mu,oo)),mu,0) - Integral(Limit((2*mu/(exp(4*k*mu)-1)/(k*mu-2)),mu,0),(k,1,2))\n",
    ")"
   ]
  },
  {
   "cell_type": "code",
   "execution_count": 101,
   "metadata": {},
   "outputs": [
    {
     "data": {
      "text/latex": [
       "$\\displaystyle \\lim_{\\mu \\to 0^+} \\int\\limits_{\\mu}^{\\infty} \\frac{2}{\\left(k - 1\\right) \\left(e^{8 k} - 1\\right)}\\, dk = - \\int\\limits_{1}^{2} \\left(- \\frac{1}{4 k}\\right)\\, dk + \\lim_{\\mu \\to 0^+} \\int\\limits_{\\mu}^{\\infty} \\frac{2}{\\left(k - 2\\right) \\left(e^{4 k} - 1\\right)}\\, dk$"
      ],
      "text/plain": [
       "Eq(Limit(Integral(2/((k - 1)*(exp(8*k) - 1)), (k, mu, oo)), mu, 0), -Integral(-1/(4*k), (k, 1, 2)) + Limit(Integral(2/((k - 2)*(exp(4*k) - 1)), (k, mu, oo)), mu, 0))"
      ]
     },
     "execution_count": 101,
     "metadata": {},
     "output_type": "execute_result"
    }
   ],
   "source": [
    "Eq(Limit(Integral(2/(exp(8*k)-1)/(k-1),(k,mu,oo)),mu,0),\n",
    "  Limit(Integral((2/(exp(4*k)-1)/(k-2)),(k,mu,oo)),mu,0) - Integral(limit((2*mu/(exp(4*k*mu)-1)/(k*mu-2)),mu,0),(k,1,2))\n",
    ")"
   ]
  },
  {
   "cell_type": "code",
   "execution_count": 102,
   "metadata": {},
   "outputs": [
    {
     "data": {
      "text/latex": [
       "$\\displaystyle \\lim_{\\mu \\to 0^+} \\int\\limits_{\\mu}^{\\infty} \\frac{2}{\\left(k - 1\\right) \\left(e^{8 k} - 1\\right)}\\, dk = \\frac{\\log{\\left(2 \\right)}}{4} + \\lim_{\\mu \\to 0^+} \\int\\limits_{\\mu}^{\\infty} \\frac{2}{\\left(k - 2\\right) \\left(e^{4 k} - 1\\right)}\\, dk$"
      ],
      "text/plain": [
       "Eq(Limit(Integral(2/((k - 1)*(exp(8*k) - 1)), (k, mu, oo)), mu, 0), log(2)/4 + Limit(Integral(2/((k - 2)*(exp(4*k) - 1)), (k, mu, oo)), mu, 0))"
      ]
     },
     "execution_count": 102,
     "metadata": {},
     "output_type": "execute_result"
    }
   ],
   "source": [
    "Eq(Limit(Integral(2/(exp(8*k)-1)/(k-1),(k,mu,oo)),mu,0),\n",
    "  Limit(Integral((2/(exp(4*k)-1)/(k-2)),(k,mu,oo)),mu,0) - integrate(limit((2*mu/(exp(4*k*mu)-1)/(k*mu-2)),mu,0),(k,1,2))\n",
    ")"
   ]
  },
  {
   "cell_type": "code",
   "execution_count": 107,
   "metadata": {},
   "outputs": [
    {
     "data": {
      "text/latex": [
       "$\\displaystyle \\operatorname{re}{\\left(\\int\\limits_{0}^{\\infty} \\frac{1}{\\left(k - 1\\right) \\left(- i e^{2 k} - 1\\right)}\\, dk\\right)} = \\frac{\\log{\\left(2 \\right)}}{4} + \\int\\limits_{0}^{\\infty} \\frac{- \\frac{1}{k - 1} + \\frac{2}{k - 2}}{e^{4 k} - 1}\\, dk$"
      ],
      "text/plain": [
       "Eq(re(Integral(1/((k - 1)*(-I*exp(2*k) - 1)), (k, 0, oo))), log(2)/4 + Integral((-1/(k - 1) + 2/(k - 2))/(exp(4*k) - 1), (k, 0, oo)))"
      ]
     },
     "execution_count": 107,
     "metadata": {},
     "output_type": "execute_result"
    }
   ],
   "source": [
    "Eq(re(UnevaluatedExpr(Integral( 1/(-I*exp(2*k)-1)/(k-1),(k,0,oo)))),\n",
    "   UnevaluatedExpr(Integral(1/(exp(4*k)-1)*(2/(k-2) - 1/(k-1)),(k,0,oo)))+ log(2)/4\n",
    "  )"
   ]
  },
  {
   "cell_type": "code",
   "execution_count": 110,
   "metadata": {},
   "outputs": [
    {
     "data": {
      "text/latex": [
       "$\\displaystyle \\operatorname{re}{\\left(\\int\\limits_{0}^{\\infty} \\frac{1}{\\left(k - 1\\right) \\left(- i e^{2 k} - 1\\right)}\\, dk\\right)} = \\frac{\\log{\\left(2 \\right)}}{4} + \\int\\limits_{0}^{\\infty} \\frac{- \\frac{\\pi}{\\pi k - 2} + \\frac{2 \\pi}{\\pi k - 4}}{e^{2 \\pi k} - 1}\\, dk$"
      ],
      "text/plain": [
       "Eq(re(Integral(1/((k - 1)*(-I*exp(2*k) - 1)), (k, 0, oo))), log(2)/4 + Integral((-pi/(pi*k - 2) + 2*pi/(pi*k - 4))/(exp(2*pi*k) - 1), (k, 0, oo)))"
      ]
     },
     "execution_count": 110,
     "metadata": {},
     "output_type": "execute_result"
    }
   ],
   "source": [
    "Eq(re(UnevaluatedExpr(Integral(1/(-I*exp(2*k)-1)/(k-1),(k,0,oo)))),\n",
    "   UnevaluatedExpr(Integral(1/(exp(2*pi*k)-1)*(2*pi/(k*pi-4) - pi/(k*pi-2)),(k,0,oo)))+ log(2)/4\n",
    "  )"
   ]
  },
  {
   "cell_type": "code",
   "execution_count": 104,
   "metadata": {},
   "outputs": [
    {
     "data": {
      "text/latex": [
       "$\\displaystyle 0.265851990832353$"
      ],
      "text/plain": [
       "0.265851990832353"
      ]
     },
     "execution_count": 104,
     "metadata": {},
     "output_type": "execute_result"
    }
   ],
   "source": [
    "(Integral(pi/(exp(2*pi*k)-1)*(2/(k*pi-4) - 1/(k*pi-2)),(k,0,2/pi-epsilon)) +\n",
    "Integral(pi/(exp(2*pi*k)-1)*(2/(k*pi-4) - 1/(k*pi-2)),(k,2/pi+epsilon,4/pi-epsilon)) +\n",
    "Integral(pi/(exp(2*pi*k)-1)*(2/(k*pi-4) - 1/(k*pi-2)),(k,4/pi+epsilon,N)) + log(2)/4\n",
    ").subs([(epsilon,0.00000001),(N,10000000)]).evalf()"
   ]
  },
  {
   "cell_type": "code",
   "execution_count": 68,
   "metadata": {},
   "outputs": [
    {
     "data": {
      "text/latex": [
       "$\\displaystyle 0.265850578937165 - 0.525929182046386 i$"
      ],
      "text/plain": [
       "0.265850578937165 - 0.525929182046386*I"
      ]
     },
     "execution_count": 68,
     "metadata": {},
     "output_type": "execute_result"
    }
   ],
   "source": [
    "Eq1.subs([(epsilon,0.0000001),(N,10000000)]).evalf()"
   ]
  },
  {
   "cell_type": "code",
   "execution_count": 29,
   "metadata": {},
   "outputs": [
    {
     "data": {
      "text/latex": [
       "$\\displaystyle \\frac{1}{e^{2 \\pi k} - 1} = \\sum_{n=1}^{\\infty} e^{- 2 \\pi k n}$"
      ],
      "text/plain": [
       "Eq(1/(exp(2*pi*k) - 1), Sum(exp(-2*pi*k*n), (n, 1, oo)))"
      ]
     },
     "execution_count": 29,
     "metadata": {},
     "output_type": "execute_result"
    }
   ],
   "source": [
    "Eq(1/(exp(2*pi*k)-1), Sum(exp(-2*pi*k*n),(n,1,oo)))"
   ]
  },
  {
   "cell_type": "code",
   "execution_count": 31,
   "metadata": {},
   "outputs": [
    {
     "data": {
      "text/latex": [
       "$\\displaystyle \\operatorname{re}{\\left(\\int\\limits_{0}^{\\infty} \\frac{1}{\\left(k - 1\\right) \\left(- i e^{2 k} - 1\\right)}\\, dk\\right)} = \\frac{\\log{\\left(2 \\right)}}{4} + \\int\\limits_{0}^{\\infty} \\sum_{n=1}^{\\infty} \\left(- \\frac{\\pi}{\\pi k - 2} + \\frac{2 \\pi}{\\pi k - 4}\\right) e^{- 2 \\pi k n}\\, dk$"
      ],
      "text/plain": [
       "Eq(re(Integral(1/((k - 1)*(-I*exp(2*k) - 1)), (k, 0, oo))), log(2)/4 + Integral(Sum((-pi/(pi*k - 2) + 2*pi/(pi*k - 4))*exp(-2*pi*k*n), (n, 1, oo)), (k, 0, oo)))"
      ]
     },
     "execution_count": 31,
     "metadata": {},
     "output_type": "execute_result"
    }
   ],
   "source": [
    "Eq(re(UnevaluatedExpr(Integral(1/(-I*exp(2*k)-1)/(k-1),(k,0,oo)))),\n",
    "   UnevaluatedExpr(Integral(Sum((2*pi/(k*pi-4) - pi/(k*pi-2))*exp(-2*pi*k*n),(n,1,oo)),(k,0,oo)))+ log(2)/4\n",
    "  )"
   ]
  },
  {
   "cell_type": "code",
   "execution_count": 36,
   "metadata": {},
   "outputs": [
    {
     "data": {
      "text/latex": [
       "$\\displaystyle \\operatorname{re}{\\left(\\int\\limits_{0}^{\\infty} \\frac{1}{\\left(k - 1\\right) \\left(- i e^{2 k} - 1\\right)}\\, dk\\right)} = \\frac{\\log{\\left(2 \\right)}}{4} + \\frac{\\int\\limits_{0}^{\\infty} e^{- k} \\sum_{n=1}^{\\infty} \\left(- \\frac{1}{- \\frac{k}{8} + n} + \\frac{1}{- \\frac{k}{4} + n}\\right)\\, dk}{4}$"
      ],
      "text/plain": [
       "Eq(re(Integral(1/((k - 1)*(-I*exp(2*k) - 1)), (k, 0, oo))), log(2)/4 + Integral(exp(-k)*Sum(-1/(-k/8 + n) + 1/(-k/4 + n), (n, 1, oo)), (k, 0, oo))/4)"
      ]
     },
     "execution_count": 36,
     "metadata": {},
     "output_type": "execute_result"
    }
   ],
   "source": [
    "Eq(re(UnevaluatedExpr(Integral(1/(-I*exp(2*k)-1)/(k-1),(k,0,oo)))),\n",
    "   UnevaluatedExpr(Integral(Sum((1/(n - k/4) - 1/(n - k/8)),(n,1,oo))*exp(-k),(k,0,oo)))/4\n",
    "   + log(2)/4\n",
    "  )"
   ]
  },
  {
   "cell_type": "code",
   "execution_count": 39,
   "metadata": {},
   "outputs": [
    {
     "data": {
      "text/latex": [
       "$\\displaystyle \\sum_{n=1}^{\\infty} \\left(- \\frac{1}{- \\frac{k}{8} + n} + \\frac{1}{- \\frac{k}{4} + n}\\right) = - \\operatorname{polygamma}{\\left(0,1 - \\frac{k}{4} \\right)} + \\operatorname{polygamma}{\\left(0,1 - \\frac{k}{8} \\right)}$"
      ],
      "text/plain": [
       "Eq(Sum(-1/(-k/8 + n) + 1/(-k/4 + n), (n, 1, oo)), -polygamma(0, 1 - k/4) + polygamma(0, 1 - k/8))"
      ]
     },
     "execution_count": 39,
     "metadata": {},
     "output_type": "execute_result"
    }
   ],
   "source": [
    "Eq(Sum((1/(n - k/4) - 1/(n - k/8)),(n,1,oo)), digamma(1-k/8) - digamma(1-k/4))"
   ]
  },
  {
   "cell_type": "code",
   "execution_count": 46,
   "metadata": {},
   "outputs": [
    {
     "data": {
      "text/latex": [
       "$\\displaystyle \\operatorname{re}{\\left(\\int\\limits_{0}^{\\infty} \\frac{1}{\\left(k - 1\\right) \\left(- i e^{2 k} - 1\\right)}\\, dk\\right)} = \\frac{\\log{\\left(2 \\right)}}{4} + \\frac{\\int\\limits_{0}^{\\infty} \\left(- \\operatorname{polygamma}{\\left(0,1 - \\frac{k}{4} \\right)} + \\operatorname{polygamma}{\\left(0,1 - \\frac{k}{8} \\right)}\\right) e^{- k}\\, dk}{4}$"
      ],
      "text/plain": [
       "Eq(re(Integral(1/((k - 1)*(-I*exp(2*k) - 1)), (k, 0, oo))), log(2)/4 + Integral((-polygamma(0, 1 - k/4) + polygamma(0, 1 - k/8))*exp(-k), (k, 0, oo))/4)"
      ]
     },
     "execution_count": 46,
     "metadata": {},
     "output_type": "execute_result"
    }
   ],
   "source": [
    "Eq(re(UnevaluatedExpr(Integral(1/(-I*exp(2*k)-1)/(k-1),(k,0,oo)))),\n",
    "   UnevaluatedExpr(Integral((digamma(1-k/8) - digamma(1-k/4))*exp(-k),(k,0,oo)))/4\n",
    "   + log(2)/4\n",
    "  )"
   ]
  },
  {
   "cell_type": "code",
   "execution_count": 55,
   "metadata": {},
   "outputs": [
    {
     "data": {
      "text/latex": [
       "$\\displaystyle \\operatorname{re}{\\left(\\int\\limits_{0}^{\\infty} \\frac{1}{\\left(k - 1\\right) \\left(- i e^{2 k} - 1\\right)}\\, dk\\right)} = \\frac{\\log{\\left(2 \\right)}}{4} + \\frac{\\int\\limits_{0}^{\\infty} e^{- k} \\frac{d}{d k} \\log{\\left(\\frac{\\Gamma\\left(1 - \\frac{k}{4}\\right)}{\\Gamma^{2}\\left(1 - \\frac{k}{8}\\right)} \\right)}\\, dk}{4}$"
      ],
      "text/plain": [
       "Eq(re(Integral(1/((k - 1)*(-I*exp(2*k) - 1)), (k, 0, oo))), log(2)/4 + Integral(exp(-k)*Derivative(log(gamma(1 - k/4)/gamma(1 - k/8)**2), k), (k, 0, oo))/4)"
      ]
     },
     "execution_count": 55,
     "metadata": {},
     "output_type": "execute_result"
    }
   ],
   "source": [
    "Eq(re(UnevaluatedExpr(Integral(1/(-I*exp(2*k)-1)/(k-1),(k,0,oo)))),\n",
    "   UnevaluatedExpr(Integral((Derivative(ln(gamma(1-k/4)/gamma(1-k/8)**2),k))*exp(-k),(k,0,oo)))/4\n",
    "   + log(2)/4\n",
    "  )"
   ]
  },
  {
   "cell_type": "code",
   "execution_count": 53,
   "metadata": {},
   "outputs": [
    {
     "data": {
      "text/latex": [
       "$\\displaystyle - \\frac{\\operatorname{polygamma}{\\left(0,1 - \\frac{k}{4} \\right)}}{4} + \\frac{\\operatorname{polygamma}{\\left(0,1 - \\frac{k}{8} \\right)}}{4}$"
      ],
      "text/plain": [
       "-polygamma(0, 1 - k/4)/4 + polygamma(0, 1 - k/8)/4"
      ]
     },
     "execution_count": 53,
     "metadata": {},
     "output_type": "execute_result"
    }
   ],
   "source": [
    "diff(ln(gamma(1-k/4)/gamma(1-k/8)**2),k).simplify()"
   ]
  },
  {
   "cell_type": "code",
   "execution_count": 43,
   "metadata": {},
   "outputs": [
    {
     "data": {
      "text/latex": [
       "$\\displaystyle -7.04703018447173$"
      ],
      "text/plain": [
       "-7.04703018447173"
      ]
     },
     "execution_count": 43,
     "metadata": {},
     "output_type": "execute_result"
    }
   ],
   "source": [
    "(digamma(1-k/8) - digamma(1-k/4)).subs(k,7.3).evalf()"
   ]
  },
  {
   "cell_type": "code",
   "execution_count": 7,
   "metadata": {},
   "outputs": [
    {
     "data": {
      "text/latex": [
       "$\\displaystyle \\pi \\left(- \\frac{1}{\\pi k - 2} + \\frac{1}{\\frac{\\pi k}{2} - 2}\\right)$"
      ],
      "text/plain": [
       "pi*(-1/(pi*k - 2) + 1/(pi*k/2 - 2))"
      ]
     },
     "execution_count": 7,
     "metadata": {},
     "output_type": "execute_result"
    }
   ],
   "source": [
    "pi*(1/(k*pi/2-2) - 1/(k*pi-2))"
   ]
  },
  {
   "cell_type": "code",
   "execution_count": 10,
   "metadata": {},
   "outputs": [],
   "source": [
    "f=Function(\"f\")"
   ]
  },
  {
   "cell_type": "code",
   "execution_count": 16,
   "metadata": {},
   "outputs": [
    {
     "data": {
      "text/latex": [
       "$\\displaystyle f{\\left(k \\right)} = \\frac{1}{i k \\left(\\pi - \\epsilon\\right) - 2}$"
      ],
      "text/plain": [
       "Eq(f(k), 1/(I*k*(pi - epsilon) - 2))"
      ]
     },
     "execution_count": 16,
     "metadata": {},
     "output_type": "execute_result"
    }
   ],
   "source": [
    "Eq(f(k),1/((pi-epsilon)*k*I - 2))"
   ]
  },
  {
   "cell_type": "code",
   "execution_count": 15,
   "metadata": {},
   "outputs": [
    {
     "data": {
      "text/latex": [
       "$\\displaystyle f{\\left(i k \\right)} = \\frac{1}{\\frac{\\pi \\left(\\epsilon - k\\right)}{2} - 2}$"
      ],
      "text/plain": [
       "Eq(f(I*k), 1/(pi*(epsilon - k)/2 - 2))"
      ]
     },
     "execution_count": 15,
     "metadata": {},
     "output_type": "execute_result"
    }
   ],
   "source": [
    "Eq(f(I*k),1/((pi-epsilon)*k*I - 2))"
   ]
  },
  {
   "cell_type": "markdown",
   "metadata": {},
   "source": [
    "## The integral with complex exponential argument"
   ]
  },
  {
   "cell_type": "code",
   "execution_count": 4,
   "metadata": {},
   "outputs": [
    {
     "data": {
      "text/latex": [
       "$\\displaystyle \\operatorname{re}{\\left(\\int\\limits_{0}^{\\infty} \\frac{1}{\\left(k - 1\\right) \\left(- i e^{2 k} e^{i \\pi k} + 1\\right)}\\, dk\\right)}$"
      ],
      "text/plain": [
       "re(Integral(1/((k - 1)*(-I*exp(2*k)*exp(I*pi*k) + 1)), (k, 0, oo)))"
      ]
     },
     "execution_count": 4,
     "metadata": {},
     "output_type": "execute_result"
    }
   ],
   "source": [
    "re(UnevaluatedExpr(Integral((1/(-I*exp(I*pi*k)*exp(2*k)+1))/(k-1),(k,0,oo))))"
   ]
  },
  {
   "cell_type": "code",
   "execution_count": 19,
   "metadata": {},
   "outputs": [
    {
     "data": {
      "text/latex": [
       "$\\displaystyle 2 + i \\pi = \\sqrt{4 + \\pi^{2}} e^{i \\alpha}$"
      ],
      "text/plain": [
       "Eq(2 + I*pi, sqrt(4 + pi**2)*exp(I*alpha))"
      ]
     },
     "execution_count": 19,
     "metadata": {},
     "output_type": "execute_result"
    }
   ],
   "source": [
    "Eq(2+I*pi,sqrt(4+pi**2)*exp(I*alpha))"
   ]
  },
  {
   "cell_type": "code",
   "execution_count": 20,
   "metadata": {},
   "outputs": [
    {
     "data": {
      "text/latex": [
       "$\\displaystyle \\alpha = \\operatorname{atan}{\\left(\\frac{\\pi}{2} \\right)}$"
      ],
      "text/plain": [
       "Eq(alpha, atan(pi/2))"
      ]
     },
     "execution_count": 20,
     "metadata": {},
     "output_type": "execute_result"
    }
   ],
   "source": [
    "Eq(alpha,atan(pi/2))"
   ]
  },
  {
   "cell_type": "code",
   "execution_count": 14,
   "metadata": {},
   "outputs": [
    {
     "data": {
      "text/latex": [
       "$\\displaystyle -0.566911504941009$"
      ],
      "text/plain": [
       "-0.566911504941009"
      ]
     },
     "execution_count": 14,
     "metadata": {},
     "output_type": "execute_result"
    }
   ],
   "source": [
    "(atan(pi/2)-pi/2).evalf()"
   ]
  },
  {
   "cell_type": "code",
   "execution_count": 21,
   "metadata": {},
   "outputs": [
    {
     "data": {
      "text/latex": [
       "$\\displaystyle \\int\\limits_{0}^{\\infty} \\frac{1}{\\left(z - e^{i \\alpha}\\right) \\left(- i e^{z \\sqrt{4 + \\pi^{2}}} + 1\\right)}\\, dz$"
      ],
      "text/plain": [
       "Integral(1/((z - exp(I*alpha))*(-I*exp(z*sqrt(4 + pi**2)) + 1)), (z, 0, oo))"
      ]
     },
     "execution_count": 21,
     "metadata": {},
     "output_type": "execute_result"
    }
   ],
   "source": [
    "UnevaluatedExpr(Integral((1/(-I*exp(sqrt(4+pi**2)*z)+1))/(z-exp(I*alpha)),(z,0,oo)))"
   ]
  },
  {
   "cell_type": "code",
   "execution_count": 36,
   "metadata": {},
   "outputs": [
    {
     "data": {
      "text/latex": [
       "$\\displaystyle \\lim_{z \\to e^{i \\alpha}^+}\\left(\\frac{2 i \\pi}{- i e^{z \\sqrt{4 + \\pi^{2}}} + 1}\\right) = \\frac{2 i \\pi}{- i e^{\\sqrt{4 + \\pi^{2}} e^{i \\alpha}} + 1}$"
      ],
      "text/plain": [
       "Eq(Limit(2*I*pi/(-I*exp(z*sqrt(4 + pi**2)) + 1), z, exp(I*alpha)), 2*I*pi/(-I*exp(sqrt(4 + pi**2)*exp(I*alpha)) + 1))"
      ]
     },
     "execution_count": 36,
     "metadata": {},
     "output_type": "execute_result"
    }
   ],
   "source": [
    "Eq(\n",
    "    Limit(2*I*pi*(z-exp(I*alpha))*(1/(-I*exp(sqrt(4+pi**2)*z)+1))/(z-exp(I*alpha)), z, exp(I*alpha)),\n",
    "    limit(2*I*pi*(z-exp(I*alpha))*(1/(-I*exp(sqrt(4+pi**2)*z)+1))/(z-exp(I*alpha)), z, exp(I*alpha))\n",
    ")"
   ]
  },
  {
   "cell_type": "code",
   "execution_count": 37,
   "metadata": {},
   "outputs": [
    {
     "data": {
      "text/latex": [
       "$\\displaystyle \\frac{2 i \\pi}{- i e^{\\sqrt{4 + \\pi^{2}} e^{i \\alpha}} + 1}$"
      ],
      "text/plain": [
       "2*I*pi/(-I*exp(sqrt(4 + pi**2)*exp(I*alpha)) + 1)"
      ]
     },
     "execution_count": 37,
     "metadata": {},
     "output_type": "execute_result"
    }
   ],
   "source": [
    "limit(2*I*pi*(z-exp(I*alpha))*(1/(-I*exp(sqrt(4+pi**2)*z)+1))/(z-exp(I*alpha)), z, exp(I*alpha))"
   ]
  },
  {
   "cell_type": "code",
   "execution_count": 38,
   "metadata": {},
   "outputs": [
    {
     "data": {
      "text/latex": [
       "$\\displaystyle \\frac{2 i \\pi}{1 + i e^{2}}$"
      ],
      "text/plain": [
       "2*I*pi/(1 + I*exp(2))"
      ]
     },
     "execution_count": 38,
     "metadata": {},
     "output_type": "execute_result"
    }
   ],
   "source": [
    "2*I*pi/(1-I*exp(2+I*pi))"
   ]
  },
  {
   "cell_type": "code",
   "execution_count": 33,
   "metadata": {},
   "outputs": [
    {
     "data": {
      "text/latex": [
       "$\\displaystyle z = k e^{i \\alpha}$"
      ],
      "text/plain": [
       "Eq(z, k*exp(I*alpha))"
      ]
     },
     "execution_count": 33,
     "metadata": {},
     "output_type": "execute_result"
    }
   ],
   "source": [
    "Eq(z,k*exp(I*alpha))"
   ]
  },
  {
   "cell_type": "code",
   "execution_count": 23,
   "metadata": {},
   "outputs": [
    {
     "data": {
      "text/latex": [
       "$\\displaystyle \\int\\limits_{0}^{\\infty} \\frac{e^{i \\alpha}}{\\left(- i e^{k \\sqrt{4 + \\pi^{2}} e^{i \\alpha}} + 1\\right) \\left(k e^{i \\alpha} - e^{i \\alpha}\\right)}\\, dk = \\int\\limits_{0}^{\\infty} \\left(- \\frac{1}{\\left(k - 1\\right) \\left(i e^{k \\sqrt{4 + \\pi^{2}} e^{i \\alpha}} - 1\\right)}\\right)\\, dk$"
      ],
      "text/plain": [
       "Eq(Integral(exp(I*alpha)/((-I*exp(k*sqrt(4 + pi**2)*exp(I*alpha)) + 1)*(k*exp(I*alpha) - exp(I*alpha))), (k, 0, oo)), Integral(-1/((k - 1)*(I*exp(k*sqrt(4 + pi**2)*exp(I*alpha)) - 1)), (k, 0, oo)))"
      ]
     },
     "execution_count": 23,
     "metadata": {},
     "output_type": "execute_result"
    }
   ],
   "source": [
    "Eq(\n",
    "    UnevaluatedExpr(\n",
    "        Integral((exp(I*alpha)/(-I*exp(sqrt(4+pi**2)*k*exp(I*alpha))+1))/(k*exp(I*alpha)-exp(I*alpha)),(k,0,oo))\n",
    "    ),\n",
    "    UnevaluatedExpr(\n",
    "        Integral(\n",
    "            ((exp(I*alpha)/(-I*exp(sqrt(4+pi**2)*k*exp(I*alpha))+1))/(k*exp(I*alpha)-exp(I*alpha))).simplify()\n",
    "        ,(k,0,oo))\n",
    "    )\n",
    ")"
   ]
  },
  {
   "cell_type": "code",
   "execution_count": 27,
   "metadata": {},
   "outputs": [
    {
     "data": {
      "text/latex": [
       "$\\displaystyle z = R e^{i \\theta}$"
      ],
      "text/plain": [
       "Eq(z, R*exp(I*theta))"
      ]
     },
     "execution_count": 27,
     "metadata": {},
     "output_type": "execute_result"
    }
   ],
   "source": [
    "Eq(z,R*exp(I*theta))"
   ]
  },
  {
   "cell_type": "code",
   "execution_count": 46,
   "metadata": {},
   "outputs": [
    {
     "data": {
      "text/latex": [
       "$\\displaystyle \\lim_{R \\to \\infty} \\int\\limits_{0}^{\\alpha} \\frac{i R e^{i \\theta}}{\\left(- i e^{R \\sqrt{4 + \\pi^{2}} e^{i \\theta}} + 1\\right) \\left(R e^{i \\theta} - e^{i \\alpha}\\right)}\\, d\\theta = 0$"
      ],
      "text/plain": [
       "Eq(Limit(Integral(I*R*exp(I*theta)/((-I*exp(R*sqrt(4 + pi**2)*exp(I*theta)) + 1)*(R*exp(I*theta) - exp(I*alpha))), (theta, 0, alpha)), R, oo, dir='-'), 0)"
      ]
     },
     "execution_count": 46,
     "metadata": {},
     "output_type": "execute_result"
    }
   ],
   "source": [
    "Eq(\n",
    "    Limit(\n",
    "        UnevaluatedExpr(\n",
    "            Integral(\n",
    "                (I*R*exp(I*theta)/(-I*exp(sqrt(4+pi**2)*R*exp(I*theta))+1))/(R*exp(I*theta)-exp(I*alpha)),\n",
    "            (theta,0,alpha))\n",
    "        ),\n",
    "        R,oo\n",
    "    ),\n",
    "    0\n",
    ")"
   ]
  },
  {
   "cell_type": "code",
   "execution_count": 15,
   "metadata": {},
   "outputs": [
    {
     "data": {
      "text/latex": [
       "$\\displaystyle \\lim_{R \\to 0^+} \\int\\limits_{0}^{\\alpha} \\frac{i R e^{i \\theta}}{\\left(- i e^{R \\sqrt{4 + \\pi^{2}} e^{i \\theta}} + 1\\right) \\left(R e^{i \\theta} - e^{i \\alpha}\\right)}\\, d\\theta = 0$"
      ],
      "text/plain": [
       "Eq(Limit(Integral(I*R*exp(I*theta)/((-I*exp(R*sqrt(4 + pi**2)*exp(I*theta)) + 1)*(R*exp(I*theta) - exp(I*alpha))), (theta, 0, alpha)), R, 0), 0)"
      ]
     },
     "execution_count": 15,
     "metadata": {},
     "output_type": "execute_result"
    }
   ],
   "source": [
    "Eq(\n",
    "    Limit(\n",
    "        UnevaluatedExpr(\n",
    "            Integral(\n",
    "                (I*R*exp(I*theta)/(-I*exp(sqrt(4+pi**2)*R*exp(I*theta))+1))/(R*exp(I*theta)-exp(I*alpha)),\n",
    "            (theta,0,alpha))\n",
    "        ),\n",
    "        R,0\n",
    "    ),\n",
    "    0\n",
    ")"
   ]
  },
  {
   "cell_type": "code",
   "execution_count": 47,
   "metadata": {},
   "outputs": [
    {
     "data": {
      "text/latex": [
       "$\\displaystyle - \\int\\limits_{0}^{\\infty} \\frac{1}{\\left(k - 1\\right) \\left(- i e^{2 k} e^{i \\pi k} + 1\\right)}\\, dk + \\int\\limits_{0}^{\\infty} \\frac{1}{\\left(k - e^{i \\alpha}\\right) \\left(- i e^{k \\sqrt{4 + \\pi^{2}}} + 1\\right)}\\, dk$"
      ],
      "text/plain": [
       "-Integral(1/((k - 1)*(-I*exp(2*k)*exp(I*pi*k) + 1)), (k, 0, oo)) + Integral(1/((k - exp(I*alpha))*(-I*exp(k*sqrt(4 + pi**2)) + 1)), (k, 0, oo))"
      ]
     },
     "execution_count": 47,
     "metadata": {},
     "output_type": "execute_result"
    }
   ],
   "source": [
    "(\n",
    "    UnevaluatedExpr(Integral((1/(-I*exp(sqrt(4+pi**2)*k)+1))/(k-exp(I*alpha)),(k,0,oo))) -\n",
    "    UnevaluatedExpr(Integral((1/(-I*exp(I*pi*k)*exp(2*k)+1))/(k-1),(k,0,oo)))\n",
    ")"
   ]
  },
  {
   "cell_type": "code",
   "execution_count": 49,
   "metadata": {},
   "outputs": [
    {
     "data": {
      "text/latex": [
       "$\\displaystyle \\lim_{k \\to - \\frac{\\mu}{\\beta}^+}\\left(\\frac{k + \\frac{\\mu}{\\beta}}{\\left(- \\delta + k\\right) \\left(e^{\\beta k + \\mu} - 1\\right)}\\right) = \\frac{1}{- \\beta \\delta - \\mu}$"
      ],
      "text/plain": [
       "Eq(Limit((k + mu/beta)/((-delta + k)*(exp(beta*k + mu) - 1)), k, -mu/beta), 1/(-beta*delta - mu))"
      ]
     },
     "execution_count": 49,
     "metadata": {},
     "output_type": "execute_result"
    }
   ],
   "source": [
    "residue_expr_1 = Eq(Limit((k-(-mu/beta))/(k-delta)*(1/(exp(mu+beta*k)-1)),k,-mu/beta),\n",
    "   limit((k-(-mu/beta))/(k-delta)*(1/(exp(mu+beta*k)-1)),k,-mu/beta))\n",
    "residue_expr_1"
   ]
  },
  {
   "cell_type": "code",
   "execution_count": 9,
   "metadata": {},
   "outputs": [
    {
     "data": {
      "text/latex": [
       "$\\displaystyle \\frac{1}{\\left(z - e^{i \\alpha}\\right) \\left(- i e^{z \\sqrt{4 + \\pi^{2}}} + 1\\right)}$"
      ],
      "text/plain": [
       "1/((z - exp(I*alpha))*(-I*exp(z*sqrt(4 + pi**2)) + 1))"
      ]
     },
     "execution_count": 9,
     "metadata": {},
     "output_type": "execute_result"
    }
   ],
   "source": [
    "(1/(-I*exp(sqrt(4+pi**2)*z)+1))/(z-exp(I*alpha))"
   ]
  },
  {
   "cell_type": "code",
   "execution_count": 11,
   "metadata": {},
   "outputs": [
    {
     "data": {
      "text/latex": [
       "$\\displaystyle z \\sqrt{4 + \\pi^{2}} + \\frac{i \\pi}{2} = 2 i \\pi n$"
      ],
      "text/plain": [
       "Eq(z*sqrt(4 + pi**2) + I*pi/2, 2*I*pi*n)"
      ]
     },
     "execution_count": 11,
     "metadata": {},
     "output_type": "execute_result"
    }
   ],
   "source": [
    "Eq(I*pi/2 + sqrt(4+pi**2)*z, 2*n*I*pi)"
   ]
  },
  {
   "cell_type": "code",
   "execution_count": 13,
   "metadata": {},
   "outputs": [
    {
     "data": {
      "text/plain": [
       "[I*pi*(4*n - 1)/(2*sqrt(4 + pi**2))]"
      ]
     },
     "execution_count": 13,
     "metadata": {},
     "output_type": "execute_result"
    }
   ],
   "source": [
    "solve(I*pi/2 + sqrt(4+pi**2)*z-2*n*I*pi, z)"
   ]
  },
  {
   "cell_type": "code",
   "execution_count": 35,
   "metadata": {},
   "outputs": [
    {
     "data": {
      "image/png": "[encoded data removed]",
      "text/plain": [
       "<Figure size 432x288 with 1 Axes>"
      ]
     },
     "metadata": {
      "needs_background": "light"
     },
     "output_type": "display_data"
    },
    {
     "data": {
      "text/plain": [
       "<sympy.plotting.plot.Plot at 0x7fafc1f289d0>"
      ]
     },
     "execution_count": 35,
     "metadata": {},
     "output_type": "execute_result"
    }
   ],
   "source": [
    "plot(cos(theta),(theta,0,atan(pi/2)))"
   ]
  },
  {
   "cell_type": "code",
   "execution_count": 39,
   "metadata": {},
   "outputs": [
    {
     "data": {
      "text/latex": [
       "$\\displaystyle 1.00388482185389$"
      ],
      "text/plain": [
       "1.00388482185389"
      ]
     },
     "execution_count": 39,
     "metadata": {},
     "output_type": "execute_result"
    }
   ],
   "source": [
    "(atan(pi/2)).evalf()"
   ]
  },
  {
   "cell_type": "code",
   "execution_count": 40,
   "metadata": {},
   "outputs": [
    {
     "data": {
      "text/latex": [
       "$\\displaystyle 1.24086131661236 \\cdot 10^{-9} - 1.51177292331546 \\cdot 10^{-8} i$"
      ],
      "text/plain": [
       "1.24086131661236e-9 - 1.51177292331546e-8*I"
      ]
     },
     "execution_count": 40,
     "metadata": {},
     "output_type": "execute_result"
    }
   ],
   "source": [
    "(\n",
    "    Integral((1/(-I*exp(sqrt(4+pi**2)*k)+1))/(k-exp(I*atan(pi/2))),(k,epsilon,N)) -\n",
    "    Integral((1/(-I*exp(I*pi*k)*exp(2*k)+1))/(k-1),(k,epsilon,1-epsilon)) - \n",
    "    Integral((1/(-I*exp(I*pi*k)*exp(2*k)+1))/(k-1),(k,1+epsilon,N)) -\n",
    "    I*pi/(1-I*exp(2+I*pi))\n",
    ").subs([(N,1000000),(epsilon,0.000000001)]).evalf()"
   ]
  },
  {
   "cell_type": "code",
   "execution_count": 42,
   "metadata": {},
   "outputs": [
    {
     "data": {
      "text/latex": [
       "$\\displaystyle - \\int\\limits_{0}^{\\infty} \\frac{1}{\\left(k - 1\\right) \\left(- i e^{2 k} e^{i \\pi k} + 1\\right)}\\, dk + \\int\\limits_{0}^{\\infty} \\frac{1}{\\left(k - e^{i \\alpha}\\right) \\left(- i e^{k \\sqrt{4 + \\pi^{2}}} + 1\\right)}\\, dk = \\frac{i \\pi}{1 + i e^{2}}$"
      ],
      "text/plain": [
       "Eq(-Integral(1/((k - 1)*(-I*exp(2*k)*exp(I*pi*k) + 1)), (k, 0, oo)) + Integral(1/((k - exp(I*alpha))*(-I*exp(k*sqrt(4 + pi**2)) + 1)), (k, 0, oo)), I*pi/(1 + I*exp(2)))"
      ]
     },
     "execution_count": 42,
     "metadata": {},
     "output_type": "execute_result"
    }
   ],
   "source": [
    "Eq(\n",
    "    UnevaluatedExpr(Integral((1/(-I*exp(sqrt(4+pi**2)*k)+1))/(k-exp(I*alpha)),(k,0,oo))) -\n",
    "    UnevaluatedExpr(Integral((1/(-I*exp(I*pi*k)*exp(2*k)+1))/(k-1),(k,0,oo))),\n",
    "    I*pi/(1+I*exp(2))\n",
    ")"
   ]
  },
  {
   "cell_type": "code",
   "execution_count": 43,
   "metadata": {},
   "outputs": [
    {
     "data": {
      "text/latex": [
       "$\\displaystyle \\int\\limits_{0}^{\\infty} \\frac{1}{\\left(k - 1\\right) \\left(- i e^{2 k} e^{i \\pi k} + 1\\right)}\\, dk = - \\frac{i \\pi}{1 + i e^{2}} + \\int\\limits_{0}^{\\infty} \\frac{1}{\\left(k - e^{i \\alpha}\\right) \\left(- i e^{k \\sqrt{4 + \\pi^{2}}} + 1\\right)}\\, dk$"
      ],
      "text/plain": [
       "Eq(Integral(1/((k - 1)*(-I*exp(2*k)*exp(I*pi*k) + 1)), (k, 0, oo)), -I*pi/(1 + I*exp(2)) + Integral(1/((k - exp(I*alpha))*(-I*exp(k*sqrt(4 + pi**2)) + 1)), (k, 0, oo)))"
      ]
     },
     "execution_count": 43,
     "metadata": {},
     "output_type": "execute_result"
    }
   ],
   "source": [
    "Eq(\n",
    "    UnevaluatedExpr(Integral((1/(-I*exp(I*pi*k)*exp(2*k)+1))/(k-1),(k,0,oo))),\n",
    "    UnevaluatedExpr(Integral((1/(-I*exp(sqrt(4+pi**2)*k)+1))/(k-exp(I*alpha)),(k,0,oo))) -I*pi/(1+I*exp(2)) \n",
    ")"
   ]
  },
  {
   "cell_type": "code",
   "execution_count": 44,
   "metadata": {},
   "outputs": [
    {
     "data": {
      "text/latex": [
       "$\\displaystyle \\int\\limits_{0}^{\\infty} \\frac{1}{\\left(k - 1\\right) \\left(- i e^{2 k} e^{i \\pi k} + 1\\right)}\\, dk = - \\frac{i \\pi}{1 + i e^{2}} + \\int\\limits_{0}^{\\infty} \\frac{1}{\\left(- i e^{k} + 1\\right) \\left(k - 2 - i \\pi\\right)}\\, dk$"
      ],
      "text/plain": [
       "Eq(Integral(1/((k - 1)*(-I*exp(2*k)*exp(I*pi*k) + 1)), (k, 0, oo)), -I*pi/(1 + I*exp(2)) + Integral(1/((-I*exp(k) + 1)*(k - 2 - I*pi)), (k, 0, oo)))"
      ]
     },
     "execution_count": 44,
     "metadata": {},
     "output_type": "execute_result"
    }
   ],
   "source": [
    "Eq(\n",
    "    UnevaluatedExpr(Integral((1/(-I*exp(I*pi*k)*exp(2*k)+1))/(k-1),(k,0,oo))),\n",
    "    UnevaluatedExpr(Integral((1/(-I*exp(k)+1))/(k-2-I*pi),(k,0,oo))) - I*pi/(1+I*exp(2)) \n",
    ")"
   ]
  },
  {
   "cell_type": "code",
   "execution_count": 76,
   "metadata": {},
   "outputs": [
    {
     "data": {
      "text/latex": [
       "$\\displaystyle \\frac{1}{- i e^{k} + 1} = - \\sum_{n=1}^{\\infty} \\left(- i\\right)^{n} e^{- k n}$"
      ],
      "text/plain": [
       "Eq(1/(-I*exp(k) + 1), -Sum((-I)**n*exp(-k*n), (n, 1, oo)))"
      ]
     },
     "execution_count": 76,
     "metadata": {},
     "output_type": "execute_result"
    }
   ],
   "source": [
    "Eq(1/(-I*exp(k)+1),-Sum((-I)**n*exp(-n*k),(n,1,oo)))"
   ]
  },
  {
   "cell_type": "code",
   "execution_count": 82,
   "metadata": {},
   "outputs": [
    {
     "data": {
      "text/latex": [
       "$\\displaystyle \\int\\limits_{0}^{\\infty} \\frac{1}{\\left(k - 1\\right) \\left(- i e^{2 k} e^{i \\pi k} + 1\\right)}\\, dk = - \\frac{i \\pi}{1 + i e^{2}} - \\int\\limits_{0}^{\\infty} \\frac{\\sum_{n=1}^{\\infty} \\left(- i\\right)^{n} e^{- k n}}{k - 2 - i \\pi}\\, dk$"
      ],
      "text/plain": [
       "Eq(Integral(1/((k - 1)*(-I*exp(2*k)*exp(I*pi*k) + 1)), (k, 0, oo)), -I*pi/(1 + I*exp(2)) - Integral(Sum((-I)**n*exp(-k*n), (n, 1, oo))/(k - 2 - I*pi), (k, 0, oo)))"
      ]
     },
     "execution_count": 82,
     "metadata": {},
     "output_type": "execute_result"
    }
   ],
   "source": [
    "Eq(\n",
    "    UnevaluatedExpr(Integral((1/(-I*exp(I*pi*k)*exp(2*k)+1))/(k-1),(k,0,oo))),\n",
    "    -UnevaluatedExpr(Integral(Sum((-I)**n*exp(-n*k),(n,1,oo))/(k-2-I*pi),(k,0,oo))) - I*pi/(1+I*exp(2)) \n",
    ")"
   ]
  },
  {
   "cell_type": "code",
   "execution_count": 85,
   "metadata": {},
   "outputs": [
    {
     "data": {
      "text/latex": [
       "$\\displaystyle \\int\\limits_{0}^{\\infty} \\frac{1}{\\left(k - 1\\right) \\left(- i e^{2 k} e^{i \\pi k} + 1\\right)}\\, dk = - \\frac{i \\pi}{1 + i e^{2}} - \\int\\limits_{0}^{\\infty} e^{- k} \\sum_{n=1}^{\\infty} \\frac{\\left(- i\\right)^{n}}{k - n \\left(2 + i \\pi\\right)}\\, dk$"
      ],
      "text/plain": [
       "Eq(Integral(1/((k - 1)*(-I*exp(2*k)*exp(I*pi*k) + 1)), (k, 0, oo)), -I*pi/(1 + I*exp(2)) - Integral(exp(-k)*Sum((-I)**n/(k - n*(2 + I*pi)), (n, 1, oo)), (k, 0, oo)))"
      ]
     },
     "execution_count": 85,
     "metadata": {},
     "output_type": "execute_result"
    }
   ],
   "source": [
    "Eq(\n",
    "    UnevaluatedExpr(Integral((1/(-I*exp(I*pi*k)*exp(2*k)+1))/(k-1),(k,0,oo))),\n",
    "    -UnevaluatedExpr(Integral(Sum((-I)**n/(k-(2+I*pi)*n),(n,1,oo))*exp(-k),(k,0,oo))) - I*pi/(1+I*exp(2)) \n",
    ")"
   ]
  },
  {
   "cell_type": "code",
   "execution_count": 122,
   "metadata": {},
   "outputs": [
    {
     "data": {
      "text/latex": [
       "$\\displaystyle \\sum_{n=1}^{4 N} \\frac{\\left(- i\\right)^{n}}{k - n \\left(2 + i \\pi\\right)} = \\sum_{n=1}^{2 N} \\frac{\\left(-1\\right)^{n}}{k - 2 n \\left(2 + i \\pi\\right)} + i \\sum_{n=1}^{2 N} \\frac{\\left(-1\\right)^{n}}{k - \\left(2 + i \\pi\\right) \\left(2 n - 1\\right)}$"
      ],
      "text/plain": [
       "Eq(Sum((-I)**n/(k - n*(2 + I*pi)), (n, 1, 4*N)), Sum((-1)**n/(k - 2*n*(2 + I*pi)), (n, 1, 2*N)) + I*Sum((-1)**n/(k - (2 + I*pi)*(2*n - 1)), (n, 1, 2*N)))"
      ]
     },
     "execution_count": 122,
     "metadata": {},
     "output_type": "execute_result"
    }
   ],
   "source": [
    "Eq(\n",
    "    Sum((-I)**n/(k-(2+I*pi)*n),(n,1,4*N)),\n",
    "    Sum((-1)**n/(k-(2+I*pi)*(2*n)),(n,1,2*N)) +\n",
    "    (-I)**(-1)*Sum((-1)**n/(k-(2+I*pi)*(2*n-1)),(n,1,2*N))\n",
    ")"
   ]
  },
  {
   "cell_type": "code",
   "execution_count": 124,
   "metadata": {},
   "outputs": [
    {
     "data": {
      "text/latex": [
       "$\\displaystyle -3.0 \\cdot 10^{-139} - 4.0 \\cdot 10^{-140} i$"
      ],
      "text/plain": [
       "-0.e-139 - 0.e-140*I"
      ]
     },
     "execution_count": 124,
     "metadata": {},
     "output_type": "execute_result"
    }
   ],
   "source": [
    "(-Sum((-I)**n/(k-(2+I*pi)*n),(n,1,4*N)) +\n",
    "    Sum((-1)**n/(k-(2+I*pi)*(2*n)),(n,1,2*N)) +\n",
    "    (-I)**(-1)*Sum((-1)**n/(k-(2+I*pi)*(2*n-1)),(n,1,2*N))).subs([(k,0.2),(N,7)]).evalf()"
   ]
  },
  {
   "cell_type": "code",
   "execution_count": 129,
   "metadata": {},
   "outputs": [
    {
     "data": {
      "text/latex": [
       "$\\displaystyle \\sum_{n=1}^{4 N} \\frac{\\left(- i\\right)^{n}}{k - n \\left(2 + i \\pi\\right)} = \\sum_{n=1}^{N} \\frac{\\left(-1\\right)^{2 n}}{k - 4 n \\left(2 + i \\pi\\right)} + i \\sum_{n=1}^{N} \\frac{\\left(-1\\right)^{2 n}}{k - \\left(2 + i \\pi\\right) \\left(4 n - 1\\right)} + i \\sum_{n=1}^{N} \\frac{\\left(-1\\right)^{2 n - 1}}{k - \\left(2 + i \\pi\\right) \\left(4 n - 3\\right)} + \\sum_{n=1}^{N} \\frac{\\left(-1\\right)^{2 n - 1}}{k - \\left(2 + i \\pi\\right) \\left(4 n - 2\\right)}$"
      ],
      "text/plain": [
       "Eq(Sum((-I)**n/(k - n*(2 + I*pi)), (n, 1, 4*N)), Sum((-1)**(2*n)/(k - 4*n*(2 + I*pi)), (n, 1, N)) + I*Sum((-1)**(2*n)/(k - (2 + I*pi)*(4*n - 1)), (n, 1, N)) + I*Sum((-1)**(2*n - 1)/(k - (2 + I*pi)*(4*n - 3)), (n, 1, N)) + Sum((-1)**(2*n - 1)/(k - (2 + I*pi)*(4*n - 2)), (n, 1, N)))"
      ]
     },
     "execution_count": 129,
     "metadata": {},
     "output_type": "execute_result"
    }
   ],
   "source": [
    "Eq(\n",
    "    Sum((-I)**n/(k-(2+I*pi)*n),(n,1,4*N)),\n",
    "    Sum((-1)**(2*n)/(k-(2+I*pi)*(2*(2*n))),(n,1,N)) +\n",
    "    Sum((-1)**(2*n-1)/(k-(2+I*pi)*(2*(2*n-1))),(n,1,N)) +\n",
    "    (-I)**(-1)*Sum((-1)**(2*n)/(k-(2+I*pi)*(2*(2*n)-1)),(n,1,N)) +\n",
    "    (-I)**(-1)*Sum((-1)**(2*n-1)/(k-(2+I*pi)*(2*(2*n-1)-1)),(n,1,N))\n",
    ")"
   ]
  },
  {
   "cell_type": "code",
   "execution_count": 130,
   "metadata": {},
   "outputs": [
    {
     "data": {
      "text/latex": [
       "$\\displaystyle 8.0 \\cdot 10^{-140} + 8.0 \\cdot 10^{-140} i$"
      ],
      "text/plain": [
       "0.e-139 + 0.e-139*I"
      ]
     },
     "execution_count": 130,
     "metadata": {},
     "output_type": "execute_result"
    }
   ],
   "source": [
    "(-Sum((-I)**n/(k-(2+I*pi)*n),(n,1,4*N)) +\n",
    "Sum((-1)**(2*n)/(k-(2+I*pi)*(2*(2*n))),(n,1,N)) +\n",
    "Sum((-1)**(2*n-1)/(k-(2+I*pi)*(2*(2*n-1))),(n,1,N)) +\n",
    "(-I)**(-1)*Sum((-1)**(2*n)/(k-(2+I*pi)*(2*(2*n)-1)),(n,1,N)) +\n",
    "(-I)**(-1)*Sum((-1)**(2*n-1)/(k-(2+I*pi)*(2*(2*n-1)-1)),(n,1,N))).subs([(k,0.2),(N,7)]).evalf()"
   ]
  },
  {
   "cell_type": "code",
   "execution_count": 131,
   "metadata": {},
   "outputs": [
    {
     "data": {
      "text/latex": [
       "$\\displaystyle \\sum_{n=1}^{4 N} \\frac{\\left(- i\\right)^{n}}{k - n \\left(2 + i \\pi\\right)} = \\sum_{n=1}^{N} \\frac{1}{k - 4 n \\left(2 + i \\pi\\right)} - i \\sum_{n=1}^{N} \\frac{1}{k - \\left(2 + i \\pi\\right) \\left(4 n - 3\\right)} - \\sum_{n=1}^{N} \\frac{1}{k - \\left(2 + i \\pi\\right) \\left(4 n - 2\\right)} + i \\sum_{n=1}^{N} \\frac{1}{k - \\left(2 + i \\pi\\right) \\left(4 n - 1\\right)}$"
      ],
      "text/plain": [
       "Eq(Sum((-I)**n/(k - n*(2 + I*pi)), (n, 1, 4*N)), Sum(1/(k - 4*n*(2 + I*pi)), (n, 1, N)) - I*Sum(1/(k - (2 + I*pi)*(4*n - 3)), (n, 1, N)) - Sum(1/(k - (2 + I*pi)*(4*n - 2)), (n, 1, N)) + I*Sum(1/(k - (2 + I*pi)*(4*n - 1)), (n, 1, N)))"
      ]
     },
     "execution_count": 131,
     "metadata": {},
     "output_type": "execute_result"
    }
   ],
   "source": [
    "Eq(\n",
    "    Sum((-I)**n/(k-(2+I*pi)*n),(n,1,4*N)),\n",
    "    Sum(1/(k-(2+I*pi)*(2*(2*n))),(n,1,N)) -\n",
    "    Sum(1/(k-(2+I*pi)*(2*(2*n-1))),(n,1,N)) +\n",
    "    I*Sum(1/(k-(2+I*pi)*(2*(2*n)-1)),(n,1,N)) -\n",
    "    I*Sum(1/(k-(2+I*pi)*(2*(2*n-1)-1)),(n,1,N))\n",
    ")"
   ]
  },
  {
   "cell_type": "code",
   "execution_count": 134,
   "metadata": {},
   "outputs": [
    {
     "data": {
      "text/latex": [
       "$\\displaystyle \\sum_{n=1}^{4 N} \\frac{\\left(- i\\right)^{n}}{k - n \\left(2 + i \\pi\\right)} = \\sum_{m=0}^{3} i^{m} \\sum_{n=1}^{N} \\frac{1}{k - \\left(2 + i \\pi\\right) \\left(- m + 4 n\\right)}$"
      ],
      "text/plain": [
       "Eq(Sum((-I)**n/(k - n*(2 + I*pi)), (n, 1, 4*N)), Sum(I**m*Sum(1/(k - (2 + I*pi)*(-m + 4*n)), (n, 1, N)), (m, 0, 3)))"
      ]
     },
     "execution_count": 134,
     "metadata": {},
     "output_type": "execute_result"
    }
   ],
   "source": [
    "Eq(\n",
    "    Sum((-I)**n/(k-(2+I*pi)*n),(n,1,4*N)),\n",
    "    Sum((I)**m*Sum(1/(k-(2+I*pi)*(4*n - m)),(n,1,N)), (m,0,3))\n",
    ")"
   ]
  },
  {
   "cell_type": "code",
   "execution_count": 136,
   "metadata": {},
   "outputs": [
    {
     "data": {
      "text/latex": [
       "$\\displaystyle \\sum_{n=1}^{4 N} \\frac{\\left(- i\\right)^{n}}{k - n \\left(2 + i \\pi\\right)} = \\sum_{m=0}^{3} i^{m} \\sum_{n=0}^{N - 1} \\frac{1}{k - \\left(2 + i \\pi\\right) \\left(- m + 4 n + 4\\right)}$"
      ],
      "text/plain": [
       "Eq(Sum((-I)**n/(k - n*(2 + I*pi)), (n, 1, 4*N)), Sum(I**m*Sum(1/(k - (2 + I*pi)*(-m + 4*n + 4)), (n, 0, N - 1)), (m, 0, 3)))"
      ]
     },
     "execution_count": 136,
     "metadata": {},
     "output_type": "execute_result"
    }
   ],
   "source": [
    "Eq(\n",
    "    Sum((-I)**n/(k-(2+I*pi)*n),(n,1,4*N)),\n",
    "    Sum((I)**m*Sum(1/(k-(2+I*pi)*(4*n + 4 - m)),(n,0,N-1)), (m,0,3))\n",
    ")"
   ]
  },
  {
   "cell_type": "code",
   "execution_count": 135,
   "metadata": {},
   "outputs": [
    {
     "data": {
      "text/latex": [
       "$\\displaystyle 3.0 \\cdot 10^{-138} + 7.0 \\cdot 10^{-139} i$"
      ],
      "text/plain": [
       "0.e-138 + 0.e-138*I"
      ]
     },
     "execution_count": 135,
     "metadata": {},
     "output_type": "execute_result"
    }
   ],
   "source": [
    "(Sum((-I)**n/(k-(2+I*pi)*n),(n,1,4*N)) - Sum(I**m*Sum(1/(k-(2+I*pi)*(4*n - m)),(n,1,N)), (m,0,3))\n",
    ").subs([(k,0.2),(N,7)]).evalf()"
   ]
  },
  {
   "cell_type": "code",
   "execution_count": 149,
   "metadata": {},
   "outputs": [
    {
     "data": {
      "text/latex": [
       "$\\displaystyle \\sum_{n=1}^{4 N} \\frac{\\left(- i\\right)^{n}}{k - n \\left(2 + i \\pi\\right)} = - \\sum_{m=0}^{3} \\frac{i^{m} \\sum_{n=0}^{N - 1} \\frac{1}{- \\frac{k}{8 + 4 i \\pi} - \\frac{m}{4} + n + 1}}{8 + 4 i \\pi}$"
      ],
      "text/plain": [
       "Eq(Sum((-I)**n/(k - n*(2 + I*pi)), (n, 1, 4*N)), -Sum(I**m*Sum(1/(-k/(8 + 4*I*pi) - m/4 + n + 1), (n, 0, N - 1))/(8 + 4*I*pi), (m, 0, 3)))"
      ]
     },
     "execution_count": 149,
     "metadata": {},
     "output_type": "execute_result"
    }
   ],
   "source": [
    "Eq(\n",
    "    Sum((-I)**n/(k-(2+I*pi)*n),(n,1,4*N)),\n",
    "    -Sum((I)**m/((2+I*pi)*4)*Sum(1/(-k/((2+I*pi)*4) + n - m/4 + 1),(n,0,N-1)), (m,0,3))\n",
    ")"
   ]
  },
  {
   "cell_type": "code",
   "execution_count": 168,
   "metadata": {},
   "outputs": [
    {
     "data": {
      "text/latex": [
       "$\\displaystyle \\sum_{n=0}^{N - 1} \\frac{1}{- \\frac{k}{8 + 4 i \\pi} - \\frac{m}{4} + n + 1} = - \\operatorname{polygamma}{\\left(0,- \\frac{k}{8 + 4 i \\pi} - \\frac{m}{4} + 1 \\right)} + \\operatorname{polygamma}{\\left(0,N - \\frac{k}{8 + 4 i \\pi} - \\frac{m}{4} + 1 \\right)}$"
      ],
      "text/plain": [
       "Eq(Sum(1/(-k/(8 + 4*I*pi) - m/4 + n + 1), (n, 0, N - 1)), -polygamma(0, -k/(8 + 4*I*pi) - m/4 + 1) + polygamma(0, N - k/(8 + 4*I*pi) - m/4 + 1))"
      ]
     },
     "execution_count": 168,
     "metadata": {},
     "output_type": "execute_result"
    }
   ],
   "source": [
    "Eq(\n",
    "    Sum(1/(-k/((2+I*pi)*4) + n - m/4 + 1),(n,0,N-1)),\n",
    "    digamma(-k/((2+I*pi)*4) - m/4 + 1 + N) - digamma(-k/((2+I*pi)*4) - m/4 + 1)\n",
    ")"
   ]
  },
  {
   "cell_type": "code",
   "execution_count": 150,
   "metadata": {},
   "outputs": [
    {
     "data": {
      "text/latex": [
       "$\\displaystyle -6.59292512808867 \\cdot 10^{-18} + 1.64662807988615 \\cdot 10^{-18} i$"
      ],
      "text/plain": [
       "-6.59292512808867e-18 + 1.64662807988615e-18*I"
      ]
     },
     "execution_count": 150,
     "metadata": {},
     "output_type": "execute_result"
    }
   ],
   "source": [
    "(Sum((-I)**n/(k-(2+I*pi)*n),(n,1,4*N))\n",
    "    +Sum((I)**m/((2+I*pi)*4)*Sum(1/(-k/((2+I*pi)*4) + n - m/4 + 1),(n,0,N-1)), (m,0,3))).subs([(k,0.2),(N,19)]).evalf()"
   ]
  },
  {
   "cell_type": "code",
   "execution_count": 169,
   "metadata": {},
   "outputs": [
    {
     "data": {
      "text/latex": [
       "$\\displaystyle \\sum_{n=1}^{4 N} \\frac{\\left(- i\\right)^{n}}{k - n \\left(2 + i \\pi\\right)} = - \\sum_{m=0}^{3} \\frac{i^{m} \\left(- \\operatorname{polygamma}{\\left(0,- \\frac{k}{8 + 4 i \\pi} - \\frac{m}{4} + 1 \\right)} + \\operatorname{polygamma}{\\left(0,N - \\frac{k}{8 + 4 i \\pi} - \\frac{m}{4} + 1 \\right)}\\right)}{8 + 4 i \\pi}$"
      ],
      "text/plain": [
       "Eq(Sum((-I)**n/(k - n*(2 + I*pi)), (n, 1, 4*N)), -Sum(I**m*(-polygamma(0, -k/(8 + 4*I*pi) - m/4 + 1) + polygamma(0, N - k/(8 + 4*I*pi) - m/4 + 1))/(8 + 4*I*pi), (m, 0, 3)))"
      ]
     },
     "execution_count": 169,
     "metadata": {},
     "output_type": "execute_result"
    }
   ],
   "source": [
    "Eq(\n",
    "    Sum((-I)**n/(k-(2+I*pi)*n),(n,1,4*N)),\n",
    "    -Sum((I)**m/((2+I*pi)*4)*(digamma(-k/((2+I*pi)*4) - m/4 + 1 + N) - digamma(-k/((2+I*pi)*4) - m/4 + 1)), (m,0,3))\n",
    ")"
   ]
  },
  {
   "cell_type": "code",
   "execution_count": 145,
   "metadata": {},
   "outputs": [
    {
     "data": {
      "text/latex": [
       "$\\displaystyle \\sum_{n=1}^{\\infty} \\frac{\\left(- i\\right)^{n}}{k - n \\left(2 + i \\pi\\right)} = \\sum_{m=0}^{3} \\frac{i^{m} \\operatorname{polygamma}{\\left(0,- \\frac{k}{8 + 4 i \\pi} - \\frac{m}{4} + 1 \\right)}}{8 + 4 i \\pi}$"
      ],
      "text/plain": [
       "Eq(Sum((-I)**n/(k - n*(2 + I*pi)), (n, 1, oo)), Sum(I**m*polygamma(0, -k/(8 + 4*I*pi) - m/4 + 1)/(8 + 4*I*pi), (m, 0, 3)))"
      ]
     },
     "execution_count": 145,
     "metadata": {},
     "output_type": "execute_result"
    }
   ],
   "source": [
    "Eq(\n",
    "    Sum((-I)**n/(k-(2+I*pi)*n),(n,1,oo)),\n",
    "    Sum((I)**m/((2+I*pi)*4)*digamma(-k/((2+I*pi)*4)  - m/4 + 1), (m,0,3))\n",
    ")"
   ]
  },
  {
   "cell_type": "code",
   "execution_count": 167,
   "metadata": {},
   "outputs": [
    {
     "data": {
      "text/latex": [
       "$\\displaystyle \\sum_{n=1}^{\\infty} \\frac{\\left(- i\\right)^{n}}{k - n \\left(2 + i \\pi\\right)} = \\frac{- i \\operatorname{polygamma}{\\left(0,- \\frac{k}{8 + 4 i \\pi} + \\frac{1}{4} \\right)} - \\operatorname{polygamma}{\\left(0,- \\frac{k}{8 + 4 i \\pi} + \\frac{1}{2} \\right)} + i \\operatorname{polygamma}{\\left(0,- \\frac{k}{8 + 4 i \\pi} + \\frac{3}{4} \\right)} + \\operatorname{polygamma}{\\left(0,- \\frac{k}{8 + 4 i \\pi} + 1 \\right)}}{8 + 4 i \\pi}$"
      ],
      "text/plain": [
       "Eq(Sum((-I)**n/(k - n*(2 + I*pi)), (n, 1, oo)), (-I*polygamma(0, -k/(8 + 4*I*pi) + 1/4) - polygamma(0, -k/(8 + 4*I*pi) + 1/2) + I*polygamma(0, -k/(8 + 4*I*pi) + 3/4) + polygamma(0, -k/(8 + 4*I*pi) + 1))/(8 + 4*I*pi))"
      ]
     },
     "execution_count": 167,
     "metadata": {},
     "output_type": "execute_result"
    }
   ],
   "source": [
    "Eq(\n",
    "    Sum((-I)**n/(k-(2+I*pi)*n),(n,1,oo)),\n",
    "    Sum((I)**m/((2+I*pi)*4)*digamma(-k/((2+I*pi)*4)  - m/4 + 1), (m,0,3)).doit()\n",
    ")"
   ]
  },
  {
   "cell_type": "code",
   "execution_count": 166,
   "metadata": {},
   "outputs": [
    {
     "data": {
      "text/latex": [
       "$\\displaystyle -0.00140001754700507 + 0.000305313956573212 i$"
      ],
      "text/plain": [
       "-0.00140001754700507 + 0.000305313956573212*I"
      ]
     },
     "execution_count": 166,
     "metadata": {},
     "output_type": "execute_result"
    }
   ],
   "source": [
    "(Sum((-I)**n/(k-(2+I*pi)*n),(n,1,132)) - Sum((I)**m/((2+I*pi)*4)*digamma(-k/((2+I*pi)*4)  - m/4 + 1), (m,0,3))\n",
    ").subs(k,0.002).evalf()"
   ]
  },
  {
   "cell_type": "code",
   "execution_count": 119,
   "metadata": {},
   "outputs": [
    {
     "data": {
      "text/latex": [
       "$\\displaystyle 0.236717116073286 + 0.0260986325580784 i$"
      ],
      "text/plain": [
       "0.236717116073286 + 0.0260986325580784*I"
      ]
     },
     "execution_count": 119,
     "metadata": {},
     "output_type": "execute_result"
    }
   ],
   "source": [
    "Sum((-I)**n/(0.2-(2+I*pi)*n),(n,1,100)).evalf()"
   ]
  },
  {
   "cell_type": "code",
   "execution_count": 171,
   "metadata": {},
   "outputs": [
    {
     "data": {
      "text/latex": [
       "$\\displaystyle \\int\\limits_{0}^{\\infty} \\frac{1}{\\left(k - 1\\right) \\left(- i e^{2 k} e^{i \\pi k} + 1\\right)}\\, dk = - \\frac{i \\pi}{1 + i e^{2}} - \\sum_{m=0}^{3} \\frac{i^{m} \\int\\limits_{0}^{\\infty} e^{- k} \\operatorname{polygamma}{\\left(0,- \\frac{k}{8 + 4 i \\pi} - \\frac{m}{4} + 1 \\right)}\\, dk}{8 + 4 i \\pi}$"
      ],
      "text/plain": [
       "Eq(Integral(1/((k - 1)*(-I*exp(2*k)*exp(I*pi*k) + 1)), (k, 0, oo)), -I*pi/(1 + I*exp(2)) - Sum(I**m*Integral(exp(-k)*polygamma(0, -k/(8 + 4*I*pi) - m/4 + 1), (k, 0, oo))/(8 + 4*I*pi), (m, 0, 3)))"
      ]
     },
     "execution_count": 171,
     "metadata": {},
     "output_type": "execute_result"
    }
   ],
   "source": [
    "Eq(\n",
    "    UnevaluatedExpr(Integral((1/(-I*exp(I*pi*k)*exp(2*k)+1))/(k-1),(k,0,oo))),\n",
    "    -Sum((I)**m/((2+I*pi)*4)*UnevaluatedExpr(Integral(digamma(-k/((2+I*pi)*4)  - m/4 + 1)*exp(-k),(k,0,oo))), (m,0,3))\n",
    "    - I*pi/(1+I*exp(2)) \n",
    ")"
   ]
  },
  {
   "cell_type": "markdown",
   "metadata": {},
   "source": [
    "## The integral definition of the new function and its relation to digamma"
   ]
  },
  {
   "cell_type": "code",
   "execution_count": 114,
   "metadata": {},
   "outputs": [
    {
     "data": {
      "text/latex": [
       "$\\displaystyle \\operatorname{polygamma}{\\left(0,z \\right)} = \\log{\\left(z \\right)} - 2 \\int\\limits_{0}^{\\infty} \\frac{t}{\\left(t^{2} + z^{2}\\right) \\left(e^{2 \\pi t} - 1\\right)}\\, dt - \\frac{1}{2 z}$"
      ],
      "text/plain": [
       "Eq(polygamma(0, z), log(z) - 2*Integral(t/((t**2 + z**2)*(exp(2*pi*t) - 1)), (t, 0, oo)) - 1/(2*z))"
      ]
     },
     "execution_count": 114,
     "metadata": {},
     "output_type": "execute_result"
    }
   ],
   "source": [
    "Eq(digamma(z),ln(z) - 1/(2*z) - 2*Integral(t/(t**2 + z**2)*1/(exp(2*pi*t)-1),(t,0,oo)))"
   ]
  },
  {
   "cell_type": "code",
   "execution_count": 5,
   "metadata": {},
   "outputs": [
    {
     "data": {
      "text/latex": [
       "$\\displaystyle \\frac{1}{t + i z} + \\frac{1}{t - i z} = \\frac{2 t}{t^{2} + z^{2}}$"
      ],
      "text/plain": [
       "Eq(1/(t + I*z) + 1/(t - I*z), 2*t/(t**2 + z**2))"
      ]
     },
     "execution_count": 5,
     "metadata": {},
     "output_type": "execute_result"
    }
   ],
   "source": [
    "Eq((1/(t+I*z) + 1/(t-I*z)),(1/(t+I*z) + 1/(t-I*z)).simplify())"
   ]
  },
  {
   "cell_type": "code",
   "execution_count": 8,
   "metadata": {},
   "outputs": [
    {
     "data": {
      "text/latex": [
       "$\\displaystyle \\frac{1}{t + i z} - \\frac{1}{t - i z} = - \\frac{2 i z}{t^{2} + z^{2}}$"
      ],
      "text/plain": [
       "Eq(1/(t + I*z) - 1/(t - I*z), -2*I*z/(t**2 + z**2))"
      ]
     },
     "execution_count": 8,
     "metadata": {},
     "output_type": "execute_result"
    }
   ],
   "source": [
    "Eq((1/(t+I*z) - 1/(t-I*z)),(1/(t+I*z) - 1/(t-I*z)).simplify())"
   ]
  },
  {
   "cell_type": "code",
   "execution_count": 11,
   "metadata": {
    "scrolled": true
   },
   "outputs": [
    {
     "data": {
      "text/latex": [
       "$\\displaystyle \\frac{2 t}{t^{2} + z^{2}} = \\frac{2 i z}{t^{2} + z^{2}} + \\frac{2}{t + i z}$"
      ],
      "text/plain": [
       "Eq(2*t/(t**2 + z**2), 2*I*z/(t**2 + z**2) + 2/(t + I*z))"
      ]
     },
     "execution_count": 11,
     "metadata": {},
     "output_type": "execute_result"
    }
   ],
   "source": [
    "Eq(2*t/(t**2+z**2), 2/(t+I*z) + 2*I*z/(t**2+z**2))"
   ]
  },
  {
   "cell_type": "code",
   "execution_count": 12,
   "metadata": {},
   "outputs": [
    {
     "data": {
      "text/latex": [
       "$\\displaystyle 0$"
      ],
      "text/plain": [
       "0"
      ]
     },
     "execution_count": 12,
     "metadata": {},
     "output_type": "execute_result"
    }
   ],
   "source": [
    "(2*t/(t**2+z**2) - 2/(t+I*z) - 2*I*z/(t**2+z**2)).simplify()"
   ]
  },
  {
   "cell_type": "code",
   "execution_count": 7,
   "metadata": {},
   "outputs": [
    {
     "data": {
      "text/latex": [
       "$\\displaystyle \\log{\\left(z \\right)} - \\operatorname{polygamma}{\\left(0,z \\right)} - \\frac{1}{2 z} = 2 \\int\\limits_{0}^{\\infty} \\frac{t}{\\left(t^{2} + z^{2}\\right) \\left(e^{2 \\pi t} - 1\\right)}\\, dt$"
      ],
      "text/plain": [
       "Eq(log(z) - polygamma(0, z) - 1/(2*z), 2*Integral(t/((t**2 + z**2)*(exp(2*pi*t) - 1)), (t, 0, oo)))"
      ]
     },
     "execution_count": 7,
     "metadata": {},
     "output_type": "execute_result"
    }
   ],
   "source": [
    "Eq(-digamma(z) + ln(z) - 1/(2*z),  2*Integral(t/(t**2 + z**2)*1/(exp(2*pi*t)-1),(t,0,oo)))"
   ]
  },
  {
   "cell_type": "code",
   "execution_count": 16,
   "metadata": {},
   "outputs": [
    {
     "data": {
      "text/latex": [
       "$\\displaystyle \\int\\limits_{0}^{\\infty} \\frac{2}{\\left(t + i z\\right) \\left(e^{2 \\pi t} - 1\\right)}\\, dt = \\log{\\left(z \\right)} - \\operatorname{polygamma}{\\left(0,z \\right)} - \\int\\limits_{0}^{\\infty} \\frac{2 i z}{\\left(t^{2} + z^{2}\\right) \\left(e^{2 \\pi t} - 1\\right)}\\, dt - \\frac{1}{2 z}$"
      ],
      "text/plain": [
       "Eq(Integral(2/((t + I*z)*(exp(2*pi*t) - 1)), (t, 0, oo)), log(z) - polygamma(0, z) - Integral(2*I*z/((t**2 + z**2)*(exp(2*pi*t) - 1)), (t, 0, oo)) - 1/(2*z))"
      ]
     },
     "execution_count": 16,
     "metadata": {},
     "output_type": "execute_result"
    }
   ],
   "source": [
    "Eq(\n",
    "    Integral(2/(t+I*z)*1/(exp(2*pi*t)-1),(t,0,oo)),\n",
    "    -digamma(z) + ln(z) - 1/(2*z) - Integral(2*I*z/(t**2+z**2)*1/(exp(2*pi*t)-1),(t,0,oo))\n",
    ")"
   ]
  },
  {
   "cell_type": "code",
   "execution_count": 27,
   "metadata": {},
   "outputs": [
    {
     "data": {
      "text/latex": [
       "$\\displaystyle \\frac{1}{e^{2 \\pi t} - 1} = \\sum_{n=1}^{\\infty} e^{- 2 \\pi n t}$"
      ],
      "text/plain": [
       "Eq(1/(exp(2*pi*t) - 1), Sum(exp(-2*pi*n*t), (n, 1, oo)))"
      ]
     },
     "execution_count": 27,
     "metadata": {},
     "output_type": "execute_result"
    }
   ],
   "source": [
    "Eq(1/(exp(2*pi*t)-1), Sum(exp(-2*pi*t*n),(n,1,oo)))"
   ]
  },
  {
   "cell_type": "code",
   "execution_count": 25,
   "metadata": {},
   "outputs": [
    {
     "data": {
      "text/latex": [
       "$\\displaystyle \\int\\limits_{0}^{\\infty} \\frac{2 i z}{\\left(t^{2} + z^{2}\\right) \\left(e^{2 \\pi t} - 1\\right)}\\, dt = 2 i z \\int\\limits_{0}^{\\infty} \\sum_{n=1}^{\\infty} \\frac{e^{- 2 \\pi n t}}{t^{2} + z^{2}}\\, dt$"
      ],
      "text/plain": [
       "Eq(Integral(2*I*z/((t**2 + z**2)*(exp(2*pi*t) - 1)), (t, 0, oo)), 2*I*z*Integral(Sum(exp(-2*pi*n*t)/(t**2 + z**2), (n, 1, oo)), (t, 0, oo)))"
      ]
     },
     "execution_count": 25,
     "metadata": {},
     "output_type": "execute_result"
    }
   ],
   "source": [
    "Eq(Integral(2*I*z/(t**2+z**2)*1/(exp(2*pi*t)-1),(t,0,oo)),\n",
    "  2*I*z*Integral(Sum(1/(t**2+z**2)*exp(-2*pi*t*n),(n,1,oo)),(t,0,oo))\n",
    ")"
   ]
  },
  {
   "cell_type": "code",
   "execution_count": 26,
   "metadata": {},
   "outputs": [
    {
     "data": {
      "text/latex": [
       "$\\displaystyle \\int\\limits_{0}^{\\infty} \\frac{2 i z}{\\left(t^{2} + z^{2}\\right) \\left(e^{2 \\pi t} - 1\\right)}\\, dt = 2 i z \\int\\limits_{0}^{\\infty} \\sum_{n=1}^{\\infty} \\frac{e^{- t}}{2 \\pi n \\left(z^{2} + \\frac{t^{2}}{4 \\pi^{2} n^{2}}\\right)}\\, dt$"
      ],
      "text/plain": [
       "Eq(Integral(2*I*z/((t**2 + z**2)*(exp(2*pi*t) - 1)), (t, 0, oo)), 2*I*z*Integral(Sum(exp(-t)/(2*pi*n*(z**2 + t**2/(4*pi**2*n**2))), (n, 1, oo)), (t, 0, oo)))"
      ]
     },
     "execution_count": 26,
     "metadata": {},
     "output_type": "execute_result"
    }
   ],
   "source": [
    "Eq(Integral(2*I*z/(t**2+z**2)*1/(exp(2*pi*t)-1),(t,0,oo)),\n",
    "  2*I*z*Integral(Sum(1/((t/(2*pi*n))**2+z**2)/(2*pi*n)*exp(-t),(n,1,oo)),(t,0,oo))\n",
    ")"
   ]
  },
  {
   "cell_type": "code",
   "execution_count": 30,
   "metadata": {},
   "outputs": [
    {
     "data": {
      "text/latex": [
       "$\\displaystyle \\int\\limits_{-\\infty}^{\\infty} \\frac{2 i z}{\\left(t^{2} + z^{2}\\right) \\left(e^{2 \\pi t} - 1\\right)}\\, dt = \\int\\limits_{0}^{\\infty} \\frac{2 i z}{\\left(-1 + e^{- 2 \\pi t}\\right) \\left(t^{2} + z^{2}\\right)}\\, dt + \\int\\limits_{0}^{\\infty} \\frac{2 i z}{\\left(t^{2} + z^{2}\\right) \\left(e^{2 \\pi t} - 1\\right)}\\, dt$"
      ],
      "text/plain": [
       "Eq(Integral(2*I*z/((t**2 + z**2)*(exp(2*pi*t) - 1)), (t, -oo, oo)), Integral(2*I*z/((-1 + exp(-2*pi*t))*(t**2 + z**2)), (t, 0, oo)) + Integral(2*I*z/((t**2 + z**2)*(exp(2*pi*t) - 1)), (t, 0, oo)))"
      ]
     },
     "execution_count": 30,
     "metadata": {},
     "output_type": "execute_result"
    }
   ],
   "source": [
    "Eq(Integral(2*I*z/(t**2+z**2)*1/(exp(2*pi*t)-1),(t,-oo,oo)),\n",
    "   Integral(2*I*z/(t**2+z**2)*1/(exp(2*pi*t)-1),(t,0,oo)) +\n",
    "   Integral(2*I*z/(t**2+z**2)*1/(exp(-2*pi*t)-1),(t,0,oo))\n",
    "  )"
   ]
  },
  {
   "cell_type": "code",
   "execution_count": 46,
   "metadata": {},
   "outputs": [
    {
     "data": {
      "text/latex": [
       "$\\displaystyle \\frac{1}{-1 + e^{- 2 \\pi t}} = -1 - \\frac{1}{e^{2 \\pi t} - 1}$"
      ],
      "text/plain": [
       "Eq(1/(-1 + exp(-2*pi*t)), -1 - 1/(exp(2*pi*t) - 1))"
      ]
     },
     "execution_count": 46,
     "metadata": {},
     "output_type": "execute_result"
    }
   ],
   "source": [
    "Eq(1/(-1+exp(-2*pi*t)), -1  - 1/(exp(2*pi*t)-1))"
   ]
  },
  {
   "cell_type": "code",
   "execution_count": 39,
   "metadata": {},
   "outputs": [
    {
     "data": {
      "text/latex": [
       "$\\displaystyle \\int\\limits_{0}^{\\infty} \\frac{2 i z}{\\left(t^{2} + z^{2}\\right) \\left(e^{2 \\pi t} - 1\\right)}\\, dt = \\int\\limits_{0}^{\\infty} \\frac{i z}{t^{2} + z^{2}}\\, dt + \\int\\limits_{-\\infty}^{\\infty} \\frac{i z}{\\left(t^{2} + z^{2}\\right) \\left(e^{2 \\pi t} - 1\\right)}\\, dt$"
      ],
      "text/plain": [
       "Eq(Integral(2*I*z/((t**2 + z**2)*(exp(2*pi*t) - 1)), (t, 0, oo)), Integral(I*z/(t**2 + z**2), (t, 0, oo)) + Integral(I*z/((t**2 + z**2)*(exp(2*pi*t) - 1)), (t, -oo, oo)))"
      ]
     },
     "execution_count": 39,
     "metadata": {},
     "output_type": "execute_result"
    }
   ],
   "source": [
    "Eq(\n",
    "   Integral(2*I*z/(t**2+z**2)*1/(exp(2*pi*t)-1),(t,0,oo)),\n",
    "   Integral(I*z/(t**2+z**2)*1/(exp(2*pi*t)-1),(t,-oo,oo)) + Integral(I*z/(t**2+z**2),(t,0,oo))\n",
    "  )"
   ]
  },
  {
   "cell_type": "code",
   "execution_count": 43,
   "metadata": {},
   "outputs": [
    {
     "data": {
      "text/latex": [
       "$\\displaystyle 6.0 \\cdot 10^{1} i$"
      ],
      "text/plain": [
       "0.e+2*I"
      ]
     },
     "execution_count": 43,
     "metadata": {},
     "output_type": "execute_result"
    }
   ],
   "source": [
    "Integral(2*I*z/(t**2+z**2)*1/(exp(2*pi*t)-1),(t,0,oo)).subs(z,1.2).evalf()"
   ]
  },
  {
   "cell_type": "code",
   "execution_count": 44,
   "metadata": {},
   "outputs": [
    {
     "data": {
      "text/latex": [
       "$\\displaystyle - 0.429203673205103 i$"
      ],
      "text/plain": [
       "-0.429203673205103*I"
      ]
     },
     "execution_count": 44,
     "metadata": {},
     "output_type": "execute_result"
    }
   ],
   "source": [
    "Integral(I*z/(t**2+z**2)*1/(exp(2*pi*t)-1),(t,-oo,oo)).subs(z,1.2).evalf() + Integral(I*z/(t**2+z**2),(t,0,oo)).subs(z,1.2).evalf()"
   ]
  },
  {
   "cell_type": "code",
   "execution_count": 37,
   "metadata": {},
   "outputs": [
    {
     "data": {
      "text/latex": [
       "$\\displaystyle 0$"
      ],
      "text/plain": [
       "0"
      ]
     },
     "execution_count": 37,
     "metadata": {},
     "output_type": "execute_result"
    }
   ],
   "source": [
    "(1/(-1+exp(-2*pi*t)) -( -1 + 1/(1-exp(2*pi*t)))).simplify()"
   ]
  },
  {
   "cell_type": "code",
   "execution_count": 29,
   "metadata": {},
   "outputs": [
    {
     "data": {
      "text/latex": [
       "$\\displaystyle \\text{NaN}$"
      ],
      "text/plain": [
       "nan"
      ]
     },
     "execution_count": 29,
     "metadata": {},
     "output_type": "execute_result"
    }
   ],
   "source": [
    "Integral((2*I*z/(t**2+z**2)).subs(z,I*3.4),(t,0,oo)).doit().simplify().evalf()"
   ]
  },
  {
   "cell_type": "code",
   "execution_count": 116,
   "metadata": {},
   "outputs": [
    {
     "data": {
      "text/latex": [
       "$\\displaystyle \\pi^{2} \\int\\limits_{0}^{\\infty} \\frac{k}{\\pi^{2} k^{2} e^{2 \\pi k} - 6 \\pi k e^{2 \\pi k} + 8 e^{2 \\pi k}}\\, dk$"
      ],
      "text/plain": [
       "pi**2*Integral(k/(pi**2*k**2*exp(2*pi*k) - 6*pi*k*exp(2*pi*k) + 8*exp(2*pi*k)), (k, 0, oo))"
      ]
     },
     "execution_count": 116,
     "metadata": {},
     "output_type": "execute_result"
    }
   ],
   "source": [
    "Integral(exp(-2*pi*k)*(2*pi/(k*pi-4) - pi/(k*pi-2)),(k,0,oo)).doit()"
   ]
  },
  {
   "cell_type": "code",
   "execution_count": 118,
   "metadata": {},
   "outputs": [],
   "source": [
    "f = Function(\"f\")"
   ]
  },
  {
   "cell_type": "code",
   "execution_count": 120,
   "metadata": {},
   "outputs": [
    {
     "data": {
      "text/latex": [
       "$\\displaystyle - i f{\\left(- i k \\right)} + i f{\\left(i k \\right)} = - \\frac{\\pi}{\\pi k - 2} + \\frac{2 \\pi}{\\pi k - 4}$"
      ],
      "text/plain": [
       "Eq(-I*f(-I*k) + I*f(I*k), -pi/(pi*k - 2) + 2*pi/(pi*k - 4))"
      ]
     },
     "execution_count": 120,
     "metadata": {},
     "output_type": "execute_result"
    }
   ],
   "source": [
    "Eq(I*f(I*k)-I*f(-I*k),(2*pi/(k*pi-4) - pi/(k*pi-2)))"
   ]
  },
  {
   "cell_type": "code",
   "execution_count": 122,
   "metadata": {},
   "outputs": [
    {
     "data": {
      "text/latex": [
       "$\\displaystyle f{\\left(z \\right)} = - \\frac{\\pi}{i \\pi z - 2} + \\frac{\\pi}{i \\pi z - 4}$"
      ],
      "text/plain": [
       "Eq(f(z), -pi/(I*pi*z - 2) + pi/(I*pi*z - 4))"
      ]
     },
     "execution_count": 122,
     "metadata": {},
     "output_type": "execute_result"
    }
   ],
   "source": [
    "Eq(f(z), -pi/(pi*z*I-2)+pi/(pi*z*I-4))"
   ]
  },
  {
   "cell_type": "code",
   "execution_count": 129,
   "metadata": {},
   "outputs": [
    {
     "data": {
      "text/latex": [
       "$\\displaystyle f{\\left(i k \\right)} = \\frac{i \\pi}{\\pi k - 2} - \\frac{2 i \\pi}{\\pi k - 4}$"
      ],
      "text/plain": [
       "Eq(f(I*k), I*pi/(pi*k - 2) - 2*I*pi/(pi*k - 4))"
      ]
     },
     "execution_count": 129,
     "metadata": {},
     "output_type": "execute_result"
    }
   ],
   "source": [
    "Eq(f(z), I*pi/(-pi*z*I-2)-I*2*pi/(-pi*z*I-4)).subs(z,I*k)"
   ]
  },
  {
   "cell_type": "code",
   "execution_count": 130,
   "metadata": {},
   "outputs": [
    {
     "data": {
      "text/latex": [
       "$\\displaystyle f{\\left(- i k \\right)} = \\frac{i \\pi}{- \\pi k - 2} - \\frac{2 i \\pi}{- \\pi k - 4}$"
      ],
      "text/plain": [
       "Eq(f(-I*k), I*pi/(-pi*k - 2) - 2*I*pi/(-pi*k - 4))"
      ]
     },
     "execution_count": 130,
     "metadata": {},
     "output_type": "execute_result"
    }
   ],
   "source": [
    "Eq(f(z), I*pi/(-pi*z*I-2)-I*2*pi/(-pi*z*I-4)).subs(z,-I*k)"
   ]
  },
  {
   "cell_type": "code",
   "execution_count": 133,
   "metadata": {},
   "outputs": [
    {
     "data": {
      "text/latex": [
       "$\\displaystyle - \\frac{2 \\pi^{2} k}{\\pi^{2} k^{2} - 4}$"
      ],
      "text/plain": [
       "-2*pi**2*k/(pi**2*k**2 - 4)"
      ]
     },
     "execution_count": 133,
     "metadata": {},
     "output_type": "execute_result"
    }
   ],
   "source": [
    "(-pi/(pi*k-2)-pi/(pi*k+2)).simplify()"
   ]
  },
  {
   "cell_type": "markdown",
   "metadata": {},
   "source": [
    "## Contour integral identity 1"
   ]
  },
  {
   "cell_type": "code",
   "execution_count": 5,
   "metadata": {},
   "outputs": [],
   "source": [
    "f=Function(\"f\")\n",
    "g=Function(\"g\")"
   ]
  },
  {
   "cell_type": "code",
   "execution_count": 78,
   "metadata": {},
   "outputs": [
    {
     "data": {
      "text/latex": [
       "$\\displaystyle C = \\int\\limits_{- N}^{\\epsilon} \\frac{f{\\left(k \\right)}}{e^{2 \\pi k} - 1}\\, dk + \\int\\limits_{\\epsilon}^{N} \\frac{f{\\left(k \\right)}}{e^{2 \\pi k} - 1}\\, dk$"
      ],
      "text/plain": [
       "Eq(C, Integral(f(k)/(exp(2*pi*k) - 1), (k, -N, epsilon)) + Integral(f(k)/(exp(2*pi*k) - 1), (k, epsilon, N)))"
      ]
     },
     "execution_count": 78,
     "metadata": {},
     "output_type": "execute_result"
    }
   ],
   "source": [
    "Eq(C,Integral(1/(exp(2*pi*k)-1)*f(k),(k,-N, epsilon)) + Integral(1/(exp(2*pi*k)-1)*f(k),(k,epsilon,N)))"
   ]
  },
  {
   "cell_type": "code",
   "execution_count": 79,
   "metadata": {},
   "outputs": [
    {
     "data": {
      "text/latex": [
       "$\\displaystyle C = \\int\\limits_{\\epsilon}^{N} \\frac{f{\\left(- k \\right)}}{-1 + e^{- 2 \\pi k}}\\, dk + \\int\\limits_{\\epsilon}^{N} \\frac{f{\\left(k \\right)}}{e^{2 \\pi k} - 1}\\, dk$"
      ],
      "text/plain": [
       "Eq(C, Integral(f(-k)/(-1 + exp(-2*pi*k)), (k, epsilon, N)) + Integral(f(k)/(exp(2*pi*k) - 1), (k, epsilon, N)))"
      ]
     },
     "execution_count": 79,
     "metadata": {},
     "output_type": "execute_result"
    }
   ],
   "source": [
    "Eq(C,Integral(1/(exp(-2*pi*k)-1)*f(-k),(k,epsilon,N)) + Integral(1/(exp(2*pi*k)-1)*f(k),(k,epsilon,N)))"
   ]
  },
  {
   "cell_type": "code",
   "execution_count": 40,
   "metadata": {},
   "outputs": [
    {
     "data": {
      "text/latex": [
       "$\\displaystyle \\frac{1}{-1 + e^{- 2 \\pi k}} = -1 - \\frac{1}{e^{2 \\pi k} - 1}$"
      ],
      "text/plain": [
       "Eq(1/(-1 + exp(-2*pi*k)), -1 - 1/(exp(2*pi*k) - 1))"
      ]
     },
     "execution_count": 40,
     "metadata": {},
     "output_type": "execute_result"
    }
   ],
   "source": [
    "Eq(1/(-1+exp(-2*pi*k)), -1 - 1/(exp(2*pi*k) - 1))"
   ]
  },
  {
   "cell_type": "code",
   "execution_count": 80,
   "metadata": {},
   "outputs": [
    {
     "data": {
      "text/latex": [
       "$\\displaystyle C = - \\int\\limits_{\\epsilon}^{N} \\frac{f{\\left(- k \\right)}}{e^{2 \\pi k} - 1}\\, dk + \\int\\limits_{\\epsilon}^{N} \\frac{f{\\left(k \\right)}}{e^{2 \\pi k} - 1}\\, dk - \\int\\limits_{\\epsilon}^{N} f{\\left(- k \\right)}\\, dk$"
      ],
      "text/plain": [
       "Eq(C, -Integral(f(-k)/(exp(2*pi*k) - 1), (k, epsilon, N)) + Integral(f(k)/(exp(2*pi*k) - 1), (k, epsilon, N)) - Integral(f(-k), (k, epsilon, N)))"
      ]
     },
     "execution_count": 80,
     "metadata": {},
     "output_type": "execute_result"
    }
   ],
   "source": [
    "Eq(C,-Integral(f(-k),(k,epsilon,N))\n",
    "   -Integral(1/(exp(2*pi*k)-1)*f(-k),(k,epsilon,N)) +\n",
    "   Integral(1/(exp(2*pi*k)-1)*f(k),(k,epsilon,N)))"
   ]
  },
  {
   "cell_type": "code",
   "execution_count": 81,
   "metadata": {},
   "outputs": [
    {
     "data": {
      "text/latex": [
       "$\\displaystyle \\int\\limits_{\\epsilon}^{N} \\frac{- f{\\left(- k \\right)} + f{\\left(k \\right)}}{e^{2 \\pi k} - 1}\\, dk = \\int\\limits_{- N}^{\\epsilon} \\frac{f{\\left(k \\right)}}{e^{2 \\pi k} - 1}\\, dk + \\int\\limits_{\\epsilon}^{N} \\frac{f{\\left(k \\right)}}{e^{2 \\pi k} - 1}\\, dk - \\int\\limits_{\\epsilon}^{N} f{\\left(- k \\right)}\\, dk$"
      ],
      "text/plain": [
       "Eq(Integral((-f(-k) + f(k))/(exp(2*pi*k) - 1), (k, epsilon, N)), Integral(f(k)/(exp(2*pi*k) - 1), (k, -N, epsilon)) + Integral(f(k)/(exp(2*pi*k) - 1), (k, epsilon, N)) - Integral(f(-k), (k, epsilon, N)))"
      ]
     },
     "execution_count": 81,
     "metadata": {},
     "output_type": "execute_result"
    }
   ],
   "source": [
    "Eq(Integral(1/(exp(2*pi*k)-1)*(f(k)-f(-k)),(k,epsilon,N)), \n",
    "   Integral(1/(exp(2*pi*k)-1)*f(k),(k,-N, epsilon)) + \n",
    "   Integral(1/(exp(2*pi*k)-1)*f(k),(k,epsilon,N)) - \n",
    "   Integral(f(-k),(k,epsilon,N))\n",
    ")\n",
    "   "
   ]
  },
  {
   "cell_type": "code",
   "execution_count": 46,
   "metadata": {},
   "outputs": [
    {
     "data": {
      "text/latex": [
       "$\\displaystyle g{\\left(k \\right)} = - f{\\left(- k \\right)} + f{\\left(k \\right)}$"
      ],
      "text/plain": [
       "Eq(g(k), -f(-k) + f(k))"
      ]
     },
     "execution_count": 46,
     "metadata": {},
     "output_type": "execute_result"
    }
   ],
   "source": [
    "Eq(g(k),f(k)-f(-k))"
   ]
  },
  {
   "cell_type": "code",
   "execution_count": 48,
   "metadata": {},
   "outputs": [
    {
     "data": {
      "text/latex": [
       "$\\displaystyle - g{\\left(- k \\right)} = - f{\\left(- k \\right)} + f{\\left(k \\right)}$"
      ],
      "text/plain": [
       "Eq(-g(-k), -f(-k) + f(k))"
      ]
     },
     "execution_count": 48,
     "metadata": {},
     "output_type": "execute_result"
    }
   ],
   "source": [
    "Eq(-g(k),-f(k)+f(-k)).subs(k,-k)"
   ]
  },
  {
   "cell_type": "code",
   "execution_count": 49,
   "metadata": {},
   "outputs": [
    {
     "data": {
      "text/latex": [
       "$\\displaystyle g{\\left(k \\right)} = - g{\\left(- k \\right)}$"
      ],
      "text/plain": [
       "Eq(g(k), -g(-k))"
      ]
     },
     "execution_count": 49,
     "metadata": {},
     "output_type": "execute_result"
    }
   ],
   "source": [
    "Eq(g(k),-g(-k))"
   ]
  },
  {
   "cell_type": "markdown",
   "metadata": {},
   "source": [
    "## Contour integral identity 2"
   ]
  },
  {
   "cell_type": "code",
   "execution_count": 15,
   "metadata": {},
   "outputs": [
    {
     "data": {
      "text/latex": [
       "$\\displaystyle C = \\int\\limits_{- N}^{\\epsilon} \\frac{f{\\left(k \\right)}}{e^{2 \\pi k} + e^{- 2 \\pi k}}\\, dk + \\int\\limits_{\\epsilon}^{N} \\frac{f{\\left(k \\right)}}{e^{2 \\pi k} + e^{- 2 \\pi k}}\\, dk$"
      ],
      "text/plain": [
       "Eq(C, Integral(f(k)/(exp(2*pi*k) + exp(-2*pi*k)), (k, -N, epsilon)) + Integral(f(k)/(exp(2*pi*k) + exp(-2*pi*k)), (k, epsilon, N)))"
      ]
     },
     "execution_count": 15,
     "metadata": {},
     "output_type": "execute_result"
    }
   ],
   "source": [
    "Eq(C,Integral(1/(exp(2*pi*k)+exp(-2*pi*k))*f(k),(k,-N, epsilon)) + Integral(1/(exp(2*pi*k)+exp(-2*pi*k))*f(k),(k,epsilon,N)))"
   ]
  },
  {
   "cell_type": "code",
   "execution_count": 16,
   "metadata": {},
   "outputs": [
    {
     "data": {
      "text/latex": [
       "$\\displaystyle C = \\int\\limits_{\\epsilon}^{N} \\frac{f{\\left(- k \\right)}}{e^{2 \\pi k} + e^{- 2 \\pi k}}\\, dk + \\int\\limits_{\\epsilon}^{N} \\frac{f{\\left(k \\right)}}{e^{2 \\pi k} + e^{- 2 \\pi k}}\\, dk$"
      ],
      "text/plain": [
       "Eq(C, Integral(f(-k)/(exp(2*pi*k) + exp(-2*pi*k)), (k, epsilon, N)) + Integral(f(k)/(exp(2*pi*k) + exp(-2*pi*k)), (k, epsilon, N)))"
      ]
     },
     "execution_count": 16,
     "metadata": {},
     "output_type": "execute_result"
    }
   ],
   "source": [
    "Eq(C,Integral(1/(exp(2*pi*k)+exp(-2*pi*k))*f(-k),(k,epsilon,N)) + Integral(1/(exp(2*pi*k)+exp(-2*pi*k))*f(k),(k,epsilon,N)))"
   ]
  },
  {
   "cell_type": "code",
   "execution_count": 13,
   "metadata": {},
   "outputs": [
    {
     "data": {
      "text/latex": [
       "$\\displaystyle \\frac{1}{1 + e^{- 2 \\pi k}} = 1 - \\frac{1}{e^{2 \\pi k} + 1}$"
      ],
      "text/plain": [
       "Eq(1/(1 + exp(-2*pi*k)), 1 - 1/(exp(2*pi*k) + 1))"
      ]
     },
     "execution_count": 13,
     "metadata": {},
     "output_type": "execute_result"
    }
   ],
   "source": [
    "Eq(1/(1+exp(-2*pi*k)), 1 - 1/(exp(2*pi*k) + 1))"
   ]
  },
  {
   "cell_type": "markdown",
   "metadata": {},
   "source": [
    "## Test the identity"
   ]
  },
  {
   "cell_type": "code",
   "execution_count": 83,
   "metadata": {},
   "outputs": [
    {
     "data": {
      "text/latex": [
       "$\\displaystyle \\log{\\left(z \\right)} - \\operatorname{polygamma}{\\left(0,z \\right)} - \\frac{1}{2 z} = 2 \\int\\limits_{0}^{\\infty} \\frac{t}{\\left(t^{2} + z^{2}\\right) \\left(e^{2 \\pi t} - 1\\right)}\\, dt$"
      ],
      "text/plain": [
       "Eq(log(z) - polygamma(0, z) - 1/(2*z), 2*Integral(t/((t**2 + z**2)*(exp(2*pi*t) - 1)), (t, 0, oo)))"
      ]
     },
     "execution_count": 83,
     "metadata": {},
     "output_type": "execute_result"
    }
   ],
   "source": [
    "Eq(-digamma(z) + ln(z) - 1/(2*z),  2*Integral(t/(t**2 + z**2)*1/(exp(2*pi*t)-1),(t,0,oo)))"
   ]
  },
  {
   "cell_type": "code",
   "execution_count": 59,
   "metadata": {},
   "outputs": [
    {
     "data": {
      "text/latex": [
       "$\\displaystyle \\frac{1}{- a + k} = - \\frac{a}{a^{2} - k^{2}} - \\frac{k}{a^{2} - k^{2}}$"
      ],
      "text/plain": [
       "Eq(1/(-a + k), -a/(a**2 - k**2) - k/(a**2 - k**2))"
      ]
     },
     "execution_count": 59,
     "metadata": {},
     "output_type": "execute_result"
    }
   ],
   "source": [
    "Eq(1/(k-a),(1/(k-a)-1/(-k-a)).simplify().expand()/2 + (1/(k-a)+1/(-k-a)).simplify().expand()/2)"
   ]
  },
  {
   "cell_type": "code",
   "execution_count": 86,
   "metadata": {},
   "outputs": [
    {
     "data": {
      "text/latex": [
       "$\\displaystyle \\frac{1}{t - i z} - \\frac{1}{- t - i z} = \\frac{2 t}{t^{2} + z^{2}}$"
      ],
      "text/plain": [
       "Eq(1/(t - I*z) - 1/(-t - I*z), 2*t/(t**2 + z**2))"
      ]
     },
     "execution_count": 86,
     "metadata": {},
     "output_type": "execute_result"
    }
   ],
   "source": [
    "Eq((1/(t-I*z)-1/(-t-I*z)), (1/(t-I*z)-1/(-t-I*z)).simplify().expand())"
   ]
  },
  {
   "cell_type": "code",
   "execution_count": 77,
   "metadata": {},
   "outputs": [
    {
     "data": {
      "text/latex": [
       "$\\displaystyle 3.73231394485475$"
      ],
      "text/plain": [
       "3.73231394485475"
      ]
     },
     "execution_count": 77,
     "metadata": {},
     "output_type": "execute_result"
    }
   ],
   "source": [
    "(Integral(1/(exp(2*pi*k)-1)*1/(pi*k-2),(k,-N,-epsilon)) +\n",
    "Integral(1/(exp(2*pi*k)-1)*1/(pi*k-2),(k,epsilon,2/pi-epsilon)) +\n",
    "Integral(1/(exp(2*pi*k)-1)*1/(pi*k-2),(k,2/pi+epsilon,N))).subs([(epsilon,0.00001), (N,100000)]).evalf()"
   ]
  },
  {
   "cell_type": "code",
   "execution_count": 62,
   "metadata": {},
   "outputs": [
    {
     "data": {
      "text/latex": [
       "$\\displaystyle -8.0 \\cdot 10^{1}$"
      ],
      "text/plain": [
       "-0.e+2"
      ]
     },
     "execution_count": 62,
     "metadata": {},
     "output_type": "execute_result"
    }
   ],
   "source": [
    "Integral(1/(-pi*k-2),(k,0,oo)).evalf()"
   ]
  },
  {
   "cell_type": "code",
   "execution_count": 65,
   "metadata": {},
   "outputs": [
    {
     "data": {
      "text/latex": [
       "$\\displaystyle - \\frac{\\log{\\left(2 + 10000 \\pi \\right)}}{\\pi} + \\frac{\\log{\\left(0.0001 \\pi + 2 \\right)}}{\\pi}$"
      ],
      "text/plain": [
       "-log(2 + 10000*pi)/pi + log(0.0001*pi + 2)/pi"
      ]
     },
     "execution_count": 65,
     "metadata": {},
     "output_type": "execute_result"
    }
   ],
   "source": [
    "integrate(1/(-pi*k-2),(k,0.0001,10000))"
   ]
  },
  {
   "cell_type": "code",
   "execution_count": 66,
   "metadata": {},
   "outputs": [
    {
     "data": {
      "text/latex": [
       "$\\displaystyle -\\infty$"
      ],
      "text/plain": [
       "-oo"
      ]
     },
     "execution_count": 66,
     "metadata": {},
     "output_type": "execute_result"
    }
   ],
   "source": [
    "Integral(1/(-pi*k-2),(k,0,oo)).doit()"
   ]
  },
  {
   "cell_type": "code",
   "execution_count": 11,
   "metadata": {},
   "outputs": [
    {
     "data": {
      "text/latex": [
       "$\\displaystyle \\log{\\left(z \\right)} - \\operatorname{polygamma}{\\left(0,z \\right)} - \\frac{1}{2 z} = 2 \\int\\limits_{0}^{\\infty} \\frac{t}{\\left(t^{2} + z^{2}\\right) \\left(e^{2 \\pi t} - 1\\right)}\\, dt$"
      ],
      "text/plain": [
       "Eq(log(z) - polygamma(0, z) - 1/(2*z), 2*Integral(t/((t**2 + z**2)*(exp(2*pi*t) - 1)), (t, 0, oo)))"
      ]
     },
     "execution_count": 11,
     "metadata": {},
     "output_type": "execute_result"
    }
   ],
   "source": [
    "Eq(-digamma(z) + ln(z) - 1/(2*z),  2*Integral(t/(t**2 + z**2)*1/(exp(2*pi*t)-1),(t,0,oo)))"
   ]
  },
  {
   "cell_type": "code",
   "execution_count": 13,
   "metadata": {},
   "outputs": [
    {
     "data": {
      "text/latex": [
       "$\\displaystyle \\frac{2 t}{t^{2} + z^{2}}$"
      ],
      "text/plain": [
       "2*t/(t**2 + z**2)"
      ]
     },
     "execution_count": 13,
     "metadata": {},
     "output_type": "execute_result"
    }
   ],
   "source": [
    "(1/(t+I*z)+1/(t-I*z)).simplify()"
   ]
  },
  {
   "cell_type": "code",
   "execution_count": 21,
   "metadata": {},
   "outputs": [
    {
     "data": {
      "text/latex": [
       "$\\displaystyle \\log{\\left(z \\right)} - \\operatorname{polygamma}{\\left(0,z \\right)} - \\frac{1}{2 z} = 2 \\int\\limits_{0}^{\\infty} \\frac{\\frac{1}{t + i z} + \\frac{1}{t - i z}}{e^{2 \\pi t} - 1}\\, dt$"
      ],
      "text/plain": [
       "Eq(log(z) - polygamma(0, z) - 1/(2*z), 2*Integral((1/(t + I*z) + 1/(t - I*z))/(exp(2*pi*t) - 1), (t, 0, oo)))"
      ]
     },
     "execution_count": 21,
     "metadata": {},
     "output_type": "execute_result"
    }
   ],
   "source": [
    "Eq(-digamma(z) + ln(z) - 1/(2*z),  2*Integral((1/(t+I*z)+1/(t-I*z))*1/(exp(2*pi*t)-1),(t,0,oo)))"
   ]
  },
  {
   "cell_type": "code",
   "execution_count": 23,
   "metadata": {},
   "outputs": [
    {
     "data": {
      "text/latex": [
       "$\\displaystyle \\frac{1}{e^{2 \\pi t} - 1} = \\sum_{n=1}^{\\infty} e^{- 2 \\pi n t}$"
      ],
      "text/plain": [
       "Eq(1/(exp(2*pi*t) - 1), Sum(exp(-2*pi*n*t), (n, 1, oo)))"
      ]
     },
     "execution_count": 23,
     "metadata": {},
     "output_type": "execute_result"
    }
   ],
   "source": [
    "Eq(1/(exp(2*pi*t)-1),Sum(exp(-n*2*pi*t),(n,1,oo)))"
   ]
  },
  {
   "cell_type": "code",
   "execution_count": 51,
   "metadata": {},
   "outputs": [
    {
     "data": {
      "text/latex": [
       "$\\displaystyle \\log{\\left(z \\right)} - \\operatorname{polygamma}{\\left(0,z \\right)} - \\frac{1}{2 z} = \\int\\limits_{0}^{\\infty} \\sum_{n=1}^{\\infty} \\left(\\frac{1}{t + i z} + \\frac{1}{t - i z}\\right) e^{- 2 \\pi n t}\\, dt$"
      ],
      "text/plain": [
       "Eq(log(z) - polygamma(0, z) - 1/(2*z), Integral(Sum((1/(t + I*z) + 1/(t - I*z))*exp(-2*pi*n*t), (n, 1, oo)), (t, 0, oo)))"
      ]
     },
     "execution_count": 51,
     "metadata": {},
     "output_type": "execute_result"
    }
   ],
   "source": [
    "Eq(-digamma(z) + ln(z) - 1/(2*z),  Integral(Sum((1/(t+I*z)+1/(t-I*z))*exp(-n*2*pi*t),(n,1,oo)),(t,0,oo)))"
   ]
  },
  {
   "cell_type": "code",
   "execution_count": 52,
   "metadata": {},
   "outputs": [
    {
     "data": {
      "text/latex": [
       "$\\displaystyle \\log{\\left(z \\right)} - \\operatorname{polygamma}{\\left(0,z \\right)} - \\frac{1}{2 z} = \\int\\limits_{0}^{\\infty} e^{- t} \\sum_{n=1}^{\\infty} \\left(\\frac{1}{2 i \\pi n z + t} + \\frac{1}{- 2 i \\pi n z + t}\\right)\\, dt$"
      ],
      "text/plain": [
       "Eq(log(z) - polygamma(0, z) - 1/(2*z), Integral(exp(-t)*Sum(1/(2*I*pi*n*z + t) + 1/(-2*I*pi*n*z + t), (n, 1, oo)), (t, 0, oo)))"
      ]
     },
     "execution_count": 52,
     "metadata": {},
     "output_type": "execute_result"
    }
   ],
   "source": [
    "Eq(-digamma(z) + ln(z) - 1/(2*z),  Integral(Sum((1/(t+I*z*n*2*pi)+1/(t-I*z*n*2*pi)),(n,1,oo))*exp(-t),(t,0,oo)))"
   ]
  },
  {
   "cell_type": "code",
   "execution_count": 53,
   "metadata": {},
   "outputs": [
    {
     "data": {
      "text/latex": [
       "$\\displaystyle \\log{\\left(z \\right)} - \\operatorname{polygamma}{\\left(0,z \\right)} - \\frac{1}{2 z} = \\int\\limits_{0}^{\\infty} \\left(\\sum_{n=0}^{\\infty} \\left(\\frac{1}{2 i \\pi n z + t} + \\frac{1}{- 2 i \\pi n z + t}\\right) - \\frac{2}{t}\\right) e^{- t}\\, dt$"
      ],
      "text/plain": [
       "Eq(log(z) - polygamma(0, z) - 1/(2*z), Integral((Sum(1/(2*I*pi*n*z + t) + 1/(-2*I*pi*n*z + t), (n, 0, oo)) - 2/t)*exp(-t), (t, 0, oo)))"
      ]
     },
     "execution_count": 53,
     "metadata": {},
     "output_type": "execute_result"
    }
   ],
   "source": [
    "Eq(-digamma(z) + ln(z) - 1/(2*z),  Integral((Sum((1/(t+I*z*n*2*pi)+1/(t-I*z*n*2*pi)),(n,0,oo)) -2/t)*exp(-t),(t,0,oo)))"
   ]
  },
  {
   "cell_type": "code",
   "execution_count": 56,
   "metadata": {},
   "outputs": [
    {
     "data": {
      "text/latex": [
       "$\\displaystyle \\sum_{n=0}^{\\infty} \\left(\\frac{1}{2 i \\pi n z + t} + \\frac{1}{- 2 i \\pi n z + t}\\right) = \\frac{i \\sum_{n=0}^{\\infty} \\left(\\frac{1}{n + \\frac{i t}{2 \\pi z}} - \\frac{1}{n - \\frac{i t}{2 \\pi z}}\\right)}{2 \\pi z}$"
      ],
      "text/plain": [
       "Eq(Sum(1/(2*I*pi*n*z + t) + 1/(-2*I*pi*n*z + t), (n, 0, oo)), I*Sum(1/(n + I*t/(2*pi*z)) - 1/(n - I*t/(2*pi*z)), (n, 0, oo))/(2*pi*z))"
      ]
     },
     "execution_count": 56,
     "metadata": {},
     "output_type": "execute_result"
    }
   ],
   "source": [
    "Eq(\n",
    "    Sum((1/(t+I*z*n*2*pi)+1/(t-I*z*n*2*pi)),(n,0,oo)),\n",
    "    I*Sum((- 1/(-I*t/(z*2*pi) + n) + 1/(I*t/(z*2*pi) + n)),(n,0,oo))/(z*2*pi)\n",
    ")"
   ]
  },
  {
   "cell_type": "code",
   "execution_count": 36,
   "metadata": {},
   "outputs": [
    {
     "data": {
      "text/latex": [
       "$\\displaystyle \\frac{i \\left(- \\operatorname{polygamma}{\\left(0,- \\frac{i t}{2 \\pi z} \\right)} + \\operatorname{polygamma}{\\left(0,\\frac{i t}{2 \\pi z} \\right)}\\right)}{2 \\pi z}$"
      ],
      "text/plain": [
       "I*(-polygamma(0, -I*t/(2*pi*z)) + polygamma(0, I*t/(2*pi*z)))/(2*pi*z)"
      ]
     },
     "execution_count": 36,
     "metadata": {},
     "output_type": "execute_result"
    }
   ],
   "source": [
    "-I*(digamma(I*t/(2*pi*z)) - digamma(-I*t/(2*pi*z)))/(z*2*pi)"
   ]
  },
  {
   "cell_type": "code",
   "execution_count": 62,
   "metadata": {},
   "outputs": [
    {
     "data": {
      "text/latex": [
       "$\\displaystyle \\sum_{n=0}^{\\infty} \\left(\\frac{1}{2 i \\pi n z + t} + \\frac{1}{- 2 i \\pi n z + t}\\right) = - \\frac{i \\left(- \\operatorname{polygamma}{\\left(0,- \\frac{i t}{2 \\pi z} \\right)} + \\operatorname{polygamma}{\\left(0,\\frac{i t}{2 \\pi z} \\right)}\\right)}{2 \\pi z}$"
      ],
      "text/plain": [
       "Eq(Sum(1/(2*I*pi*n*z + t) + 1/(-2*I*pi*n*z + t), (n, 0, oo)), -I*(-polygamma(0, -I*t/(2*pi*z)) + polygamma(0, I*t/(2*pi*z)))/(2*pi*z))"
      ]
     },
     "execution_count": 62,
     "metadata": {},
     "output_type": "execute_result"
    }
   ],
   "source": [
    "Eq(\n",
    "    Sum((1/(t+I*z*n*2*pi)+1/(t-I*z*n*2*pi)),(n,0,oo)),\n",
    "    -I*(digamma(I*t/(2*pi*z)) - digamma(-I*t/(2*pi*z)))/(z*2*pi)\n",
    ")"
   ]
  },
  {
   "cell_type": "code",
   "execution_count": 68,
   "metadata": {},
   "outputs": [
    {
     "data": {
      "text/latex": [
       "$\\displaystyle 0.2183043523 + 3.0 \\cdot 10^{-30} i$"
      ],
      "text/plain": [
       "0.2183043523 + 0.e-30*I"
      ]
     },
     "execution_count": 68,
     "metadata": {},
     "output_type": "execute_result"
    }
   ],
   "source": [
    "(Sum((1/(t+I*z*n*2*pi)+1/(t-I*z*n*2*pi)),(n,1,200))).subs([(z,1),(t,3)]).evalf(10)"
   ]
  },
  {
   "cell_type": "code",
   "execution_count": 69,
   "metadata": {},
   "outputs": [
    {
     "data": {
      "text/latex": [
       "$\\displaystyle 0.2190623632 - 1.948418273 \\cdot 10^{-23} i$"
      ],
      "text/plain": [
       "0.2190623632 - 1.948418273e-23*I"
      ]
     },
     "execution_count": 69,
     "metadata": {},
     "output_type": "execute_result"
    }
   ],
   "source": [
    "(-I*(digamma(I*t/(2*pi*z)) - digamma(-I*t/(2*pi*z)))/(z*2*pi) - 2/t).subs([(z,1),(t,3)]).evalf(10)"
   ]
  },
  {
   "cell_type": "code",
   "execution_count": 73,
   "metadata": {},
   "outputs": [
    {
     "data": {
      "text/latex": [
       "$\\displaystyle \\log{\\left(z \\right)} - \\operatorname{polygamma}{\\left(0,z \\right)} - \\frac{1}{2 z} = \\int\\limits_{0}^{\\infty} \\left(\\frac{i \\left(\\operatorname{polygamma}{\\left(0,- \\frac{i t}{2 \\pi z} \\right)} - \\operatorname{polygamma}{\\left(0,\\frac{i t}{2 \\pi z} \\right)}\\right)}{2 \\pi z} - \\frac{2}{t}\\right) e^{- t}\\, dt$"
      ],
      "text/plain": [
       "Eq(log(z) - polygamma(0, z) - 1/(2*z), Integral((I*(polygamma(0, -I*t/(2*pi*z)) - polygamma(0, I*t/(2*pi*z)))/(2*pi*z) - 2/t)*exp(-t), (t, 0, oo)))"
      ]
     },
     "execution_count": 73,
     "metadata": {},
     "output_type": "execute_result"
    }
   ],
   "source": [
    "Eq(-digamma(z) + ln(z) - 1/(2*z),  Integral((I*(-digamma(I*t/(2*pi*z)) + digamma(-I*t/(2*pi*z)))/(z*2*pi) -2/t)*exp(-t),(t,0,oo)))"
   ]
  },
  {
   "cell_type": "code",
   "execution_count": 56,
   "metadata": {},
   "outputs": [
    {
     "data": {
      "text/latex": [
       "$\\displaystyle \\pi \\cot{\\left(\\pi x \\right)} + \\frac{1}{x} = \\operatorname{polygamma}{\\left(0,- x \\right)} - \\operatorname{polygamma}{\\left(0,x \\right)}$"
      ],
      "text/plain": [
       "Eq(pi*cot(pi*x) + 1/x, polygamma(0, -x) - polygamma(0, x))"
      ]
     },
     "execution_count": 56,
     "metadata": {},
     "output_type": "execute_result"
    }
   ],
   "source": [
    "Eq(\n",
    "    pi*cot(pi*x) +1/x,\n",
    "    digamma(-x) - digamma(x)\n",
    "  )"
   ]
  },
  {
   "cell_type": "code",
   "execution_count": 62,
   "metadata": {},
   "outputs": [
    {
     "data": {
      "text/latex": [
       "$\\displaystyle \\frac{i \\left(\\operatorname{polygamma}{\\left(0,- \\frac{i t}{2 \\pi z} \\right)} - \\operatorname{polygamma}{\\left(0,\\frac{i t}{2 \\pi z} \\right)}\\right)}{2 \\pi z} = \\frac{\\coth{\\left(\\frac{t}{2 z} \\right)}}{2 z} + \\frac{1}{t}$"
      ],
      "text/plain": [
       "Eq(I*(polygamma(0, -I*t/(2*pi*z)) - polygamma(0, I*t/(2*pi*z)))/(2*pi*z), coth(t/(2*z))/(2*z) + 1/t)"
      ]
     },
     "execution_count": 62,
     "metadata": {},
     "output_type": "execute_result"
    }
   ],
   "source": [
    "Eq(\n",
    "    I*(digamma(-x) - digamma(x))/(2*pi*z),\n",
    "    ((I*pi*cot(pi*x) +I/x)/(2*pi*z)).expand()\n",
    "  ).subs(x,I*t/(2*pi*z))"
   ]
  },
  {
   "cell_type": "code",
   "execution_count": 75,
   "metadata": {},
   "outputs": [
    {
     "data": {
      "text/latex": [
       "$\\displaystyle 0.0772156649015329 - 9.5155769711721 \\cdot 10^{-40} i$"
      ],
      "text/plain": [
       "0.0772156649015329 - 9.5155769711721e-40*I"
      ]
     },
     "execution_count": 75,
     "metadata": {},
     "output_type": "execute_result"
    }
   ],
   "source": [
    "Integral((I*(-digamma(I*t/(2*pi*z)) + digamma(-I*t/(2*pi*z)))/(z*2*pi) -2/t)*exp(-t),(t,0,200)).subs(z,1).evalf()"
   ]
  },
  {
   "cell_type": "code",
   "execution_count": 76,
   "metadata": {},
   "outputs": [
    {
     "data": {
      "text/latex": [
       "$\\displaystyle 0.0772156649015329$"
      ],
      "text/plain": [
       "0.0772156649015329"
      ]
     },
     "execution_count": 76,
     "metadata": {},
     "output_type": "execute_result"
    }
   ],
   "source": [
    "(-digamma(z) + ln(z) - 1/(2*z)).subs(z,1).evalf()"
   ]
  },
  {
   "cell_type": "code",
   "execution_count": 50,
   "metadata": {},
   "outputs": [
    {
     "data": {
      "text/latex": [
       "$\\displaystyle 0.0755546029476431 + 6.66284618788448 \\cdot 10^{-48} i$"
      ],
      "text/plain": [
       "0.0755546029476431 + 6.66284618788448e-48*I"
      ]
     },
     "execution_count": 50,
     "metadata": {},
     "output_type": "execute_result"
    }
   ],
   "source": [
    "Integral((1/(t+I*z)+1/(t-I*z))*Sum(exp(-n*2*pi*t),(n,1,40)),(t,0.0001,50)).subs(z,1).evalf()"
   ]
  },
  {
   "cell_type": "code",
   "execution_count": 55,
   "metadata": {},
   "outputs": [
    {
     "data": {
      "text/latex": [
       "$\\displaystyle 0.0759648878340137 + 3.75561990902699 \\cdot 10^{-34} i$"
      ],
      "text/plain": [
       "0.0759648878340137 + 3.75561990902699e-34*I"
      ]
     },
     "execution_count": 55,
     "metadata": {},
     "output_type": "execute_result"
    }
   ],
   "source": [
    "Integral(Sum((1/(t+I*z*n*2*pi)+1/(t-I*z*n*2*pi)),(n,1,40))*exp(-t),(t,0.0001,50)).subs(z,1).evalf()"
   ]
  },
  {
   "cell_type": "code",
   "execution_count": 67,
   "metadata": {},
   "outputs": [
    {
     "data": {
      "text/latex": [
       "$\\displaystyle -400000.000000833 + 9.80303086227218 \\cdot 10^{-28} i$"
      ],
      "text/plain": [
       "-400000.000000833 + 9.80303086227218e-28*I"
      ]
     },
     "execution_count": 67,
     "metadata": {},
     "output_type": "execute_result"
    }
   ],
   "source": [
    "((I*(digamma(I*t/(2*pi*z)) - digamma(-I*t/(2*pi*z)))/(z*2*pi) -2/t)).subs([(z,1),(t,0.00001)]).evalf()"
   ]
  },
  {
   "cell_type": "code",
   "execution_count": 9,
   "metadata": {},
   "outputs": [
    {
     "data": {
      "text/latex": [
       "$\\displaystyle \\sum_{n=1}^{\\infty} \\frac{\\left(- i\\right)^{n}}{k - n \\left(2 + i \\pi\\right)} = \\frac{- i \\operatorname{polygamma}{\\left(0,- \\frac{k}{8 + 4 i \\pi} + \\frac{1}{4} \\right)} - \\operatorname{polygamma}{\\left(0,- \\frac{k}{8 + 4 i \\pi} + \\frac{1}{2} \\right)} + i \\operatorname{polygamma}{\\left(0,- \\frac{k}{8 + 4 i \\pi} + \\frac{3}{4} \\right)} + \\operatorname{polygamma}{\\left(0,- \\frac{k}{8 + 4 i \\pi} + 1 \\right)}}{8 + 4 i \\pi}$"
      ],
      "text/plain": [
       "Eq(Sum((-I)**n/(k - n*(2 + I*pi)), (n, 1, oo)), (-I*polygamma(0, -k/(8 + 4*I*pi) + 1/4) - polygamma(0, -k/(8 + 4*I*pi) + 1/2) + I*polygamma(0, -k/(8 + 4*I*pi) + 3/4) + polygamma(0, -k/(8 + 4*I*pi) + 1))/(8 + 4*I*pi))"
      ]
     },
     "execution_count": 9,
     "metadata": {},
     "output_type": "execute_result"
    }
   ],
   "source": [
    "Eq(\n",
    "    Sum((-I)**n/(k-(2+I*pi)*n),(n,1,oo)),\n",
    "    Sum((I)**m/((2+I*pi)*4)*digamma(-k/((2+I*pi)*4)  - m/4 + 1), (m,0,3)).doit()\n",
    ")"
   ]
  },
  {
   "cell_type": "code",
   "execution_count": 10,
   "metadata": {},
   "outputs": [
    {
     "data": {
      "text/latex": [
       "$\\displaystyle \\frac{i \\left(\\operatorname{polygamma}{\\left(0,- \\frac{i t}{2 \\pi z} \\right)} - \\operatorname{polygamma}{\\left(0,\\frac{i t}{2 \\pi z} \\right)}\\right)}{2 \\pi z}$"
      ],
      "text/plain": [
       "I*(polygamma(0, -I*t/(2*pi*z)) - polygamma(0, I*t/(2*pi*z)))/(2*pi*z)"
      ]
     },
     "execution_count": 10,
     "metadata": {},
     "output_type": "execute_result"
    }
   ],
   "source": [
    "I*(-digamma(I*t/(2*pi*z)) + digamma(-I*t/(2*pi*z)))/(z*2*pi)"
   ]
  },
  {
   "cell_type": "code",
   "execution_count": 11,
   "metadata": {},
   "outputs": [
    {
     "data": {
      "text/latex": [
       "$\\displaystyle - i \\operatorname{polygamma}{\\left(0,0.25 - x \\right)} + i \\operatorname{polygamma}{\\left(0,0.75 - x \\right)}$"
      ],
      "text/plain": [
       "-I*polygamma(0, 0.25 - x) + I*polygamma(0, 0.75 - x)"
      ]
     },
     "execution_count": 11,
     "metadata": {},
     "output_type": "execute_result"
    }
   ],
   "source": [
    "-I*digamma(-x+1/4)+I*digamma(-x+3/4)"
   ]
  },
  {
   "cell_type": "code",
   "execution_count": 12,
   "metadata": {},
   "outputs": [
    {
     "data": {
      "text/latex": [
       "$\\displaystyle - \\operatorname{polygamma}{\\left(0,x \\right)} + \\operatorname{polygamma}{\\left(0,1 - x \\right)} = \\pi \\cot{\\left(\\pi x \\right)}$"
      ],
      "text/plain": [
       "Eq(-polygamma(0, x) + polygamma(0, 1 - x), pi*cot(pi*x))"
      ]
     },
     "execution_count": 12,
     "metadata": {},
     "output_type": "execute_result"
    }
   ],
   "source": [
    "Eq(digamma(1-x) - digamma(x), pi*cot(pi*x))"
   ]
  },
  {
   "cell_type": "code",
   "execution_count": 17,
   "metadata": {},
   "outputs": [
    {
     "data": {
      "text/latex": [
       "$\\displaystyle \\operatorname{polygamma}{\\left(0,\\frac{1}{2} - x \\right)} - \\operatorname{polygamma}{\\left(0,x + \\frac{1}{2} \\right)} = - \\pi \\tan{\\left(\\pi x \\right)}$"
      ],
      "text/plain": [
       "Eq(polygamma(0, 1/2 - x) - polygamma(0, x + 1/2), -pi*tan(pi*x))"
      ]
     },
     "execution_count": 17,
     "metadata": {},
     "output_type": "execute_result"
    }
   ],
   "source": [
    "Eq(digamma((1-2*x)/2) - digamma((1+2*x)/2),-pi*tan(pi*x))"
   ]
  },
  {
   "cell_type": "code",
   "execution_count": 36,
   "metadata": {},
   "outputs": [
    {
     "data": {
      "text/latex": [
       "$\\displaystyle - \\operatorname{polygamma}{\\left(0,x - \\frac{1}{2} \\right)} + \\operatorname{polygamma}{\\left(0,x + \\frac{1}{2} \\right)} = \\frac{1}{x - \\frac{1}{2}}$"
      ],
      "text/plain": [
       "Eq(-polygamma(0, x - 1/2) + polygamma(0, x + 1/2), 1/(x - 1/2))"
      ]
     },
     "execution_count": 36,
     "metadata": {},
     "output_type": "execute_result"
    }
   ],
   "source": [
    "Eq(digamma((2*x+1)/2) - digamma((2*x-1)/2), 1/((2*x-1)/2))"
   ]
  },
  {
   "cell_type": "code",
   "execution_count": 37,
   "metadata": {},
   "outputs": [
    {
     "data": {
      "text/latex": [
       "$\\displaystyle \\operatorname{polygamma}{\\left(0,\\frac{1}{2} - x \\right)} - \\operatorname{polygamma}{\\left(0,x - \\frac{1}{2} \\right)} = - \\pi \\tan{\\left(\\pi x \\right)} + \\frac{1}{x - \\frac{1}{2}}$"
      ],
      "text/plain": [
       "Eq(polygamma(0, 1/2 - x) - polygamma(0, x - 1/2), -pi*tan(pi*x) + 1/(x - 1/2))"
      ]
     },
     "execution_count": 37,
     "metadata": {},
     "output_type": "execute_result"
    }
   ],
   "source": [
    "Eq(digamma((1-2*x)/2) - digamma((1+2*x)/2) + digamma((2*x+1)/2) - digamma((2*x-1)/2),\n",
    "   1/((2*x-1)/2) - pi*tan(pi*x)\n",
    ")"
   ]
  },
  {
   "cell_type": "code",
   "execution_count": 48,
   "metadata": {},
   "outputs": [
    {
     "data": {
      "text/latex": [
       "$\\displaystyle \\pi \\cot{\\left(\\pi x \\right)} + \\frac{1}{x} = \\operatorname{polygamma}{\\left(0,- x \\right)} - \\operatorname{polygamma}{\\left(0,x \\right)}$"
      ],
      "text/plain": [
       "Eq(pi*cot(pi*x) + 1/x, polygamma(0, -x) - polygamma(0, x))"
      ]
     },
     "execution_count": 48,
     "metadata": {},
     "output_type": "execute_result"
    }
   ],
   "source": [
    "Eq(digamma((1-2*x)/2) - digamma((1+2*x)/2) + digamma((2*x+1)/2) - digamma((2*x-1)/2),\n",
    "   1/((2*x-1)/2) - pi*tan(pi*x)\n",
    ").subs(x,(2*x+1)/2).simplify()"
   ]
  },
  {
   "cell_type": "code",
   "execution_count": 49,
   "metadata": {},
   "outputs": [
    {
     "data": {
      "text/latex": [
       "$\\displaystyle \\pi \\cot{\\left(\\pi x \\right)} + \\frac{1}{x} = \\operatorname{polygamma}{\\left(0,- x \\right)} - \\operatorname{polygamma}{\\left(0,x \\right)}$"
      ],
      "text/plain": [
       "Eq(pi*cot(pi*x) + 1/x, polygamma(0, -x) - polygamma(0, x))"
      ]
     },
     "execution_count": 49,
     "metadata": {},
     "output_type": "execute_result"
    }
   ],
   "source": [
    "Eq(\n",
    "    pi*cot(pi*x) +1/x,\n",
    "    digamma(-x) - digamma(x)\n",
    "  )"
   ]
  },
  {
   "cell_type": "code",
   "execution_count": 55,
   "metadata": {},
   "outputs": [
    {
     "data": {
      "text/plain": [
       "(-0.295869575018003 - 3.23416871259041*I,\n",
       " -0.295869575018003 - 3.23416871259041*I)"
      ]
     },
     "execution_count": 55,
     "metadata": {},
     "output_type": "execute_result"
    }
   ],
   "source": [
    "((pi*cot(pi*x) +1/x).subs(x,-3.2+I).evalf(),(digamma(-x) - digamma(x)).subs(x,-3.2+I).evalf())"
   ]
  },
  {
   "cell_type": "code",
   "execution_count": 35,
   "metadata": {},
   "outputs": [
    {
     "data": {
      "text/latex": [
       "$\\displaystyle - i \\operatorname{polygamma}{\\left(0,\\frac{1}{4} - x \\right)} + i \\operatorname{polygamma}{\\left(0,\\frac{3}{4} - x \\right)} = i \\operatorname{polygamma}{\\left(0,\\frac{1}{4} - y \\right)} - i \\operatorname{polygamma}{\\left(0,- y - \\frac{1}{4} \\right)}$"
      ],
      "text/plain": [
       "Eq(-I*polygamma(0, 1/4 - x) + I*polygamma(0, 3/4 - x), I*polygamma(0, 1/4 - y) - I*polygamma(0, -y - 1/4))"
      ]
     },
     "execution_count": 35,
     "metadata": {},
     "output_type": "execute_result"
    }
   ],
   "source": [
    "Eq(\n",
    "    -I*digamma((-4*x+1)/4)+I*digamma((-4*x+3)/4),\n",
    "    (-I*digamma((-4*x+1)/4)+I*digamma((-4*x+3)/4)).subs(x,(2*y+1)/2)\n",
    ")"
   ]
  },
  {
   "cell_type": "code",
   "execution_count": null,
   "metadata": {},
   "outputs": [],
   "source": [
    "Eq(digamma((1-2*x)/2) - digamma((1+2*x)/2),-pi*tan(pi*x))"
   ]
  }
 ],
 "metadata": {
  "kernelspec": {
   "display_name": "Python 3",
   "language": "python",
   "name": "python3"
  },
  "language_info": {
   "codemirror_mode": {
    "name": "ipython",
    "version": 3
   },
   "file_extension": ".py",
   "mimetype": "text/x-python",
   "name": "python",
   "nbconvert_exporter": "python",
   "pygments_lexer": "ipython3",
   "version": "3.8.5"
  }
 },
 "nbformat": 4,
 "nbformat_minor": 4
}
