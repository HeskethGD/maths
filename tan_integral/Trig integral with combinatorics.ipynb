{
 "cells": [
  {
   "cell_type": "markdown",
   "metadata": {},
   "source": [
    "# Trig integral with combinatorics"
   ]
  },
  {
   "cell_type": "code",
   "execution_count": 2,
   "metadata": {},
   "outputs": [],
   "source": [
    "from sympy import *"
   ]
  },
  {
   "cell_type": "code",
   "execution_count": 13,
   "metadata": {},
   "outputs": [],
   "source": [
    "x, y, n, m, K, k, t, z, s, a, R, N, L, M, r, l = symbols('x, y, n, m, K, k, t, z, s, a, R, N, L, M, r, l')\n",
    "alpha, beta, delta, mu, nu, epsilon, theta, phi, omega = symbols('alpha, beta, delta, mu, nu, epsilon, theta, phi, omega')"
   ]
  },
  {
   "cell_type": "code",
   "execution_count": 11,
   "metadata": {},
   "outputs": [
    {
     "data": {
      "text/latex": [
       "$\\displaystyle {\\binom{n}{k}} = \\frac{n!}{k! \\left(- k + n\\right)!}$"
      ],
      "text/plain": [
       "Eq(binomial(n, k), factorial(n)/(factorial(k)*factorial(-k + n)))"
      ]
     },
     "execution_count": 11,
     "metadata": {},
     "output_type": "execute_result"
    }
   ],
   "source": [
    "Eq(binomial(n,k),factorial(n)/(factorial(k)*factorial(n - k)))"
   ]
  },
  {
   "cell_type": "code",
   "execution_count": 19,
   "metadata": {},
   "outputs": [],
   "source": [
    "int1 = Integral((sin(n*x)/sin(x))**m,(x,0,pi))"
   ]
  },
  {
   "cell_type": "code",
   "execution_count": 14,
   "metadata": {},
   "outputs": [],
   "source": [
    "sum1 = pi*Sum((-1)**l*binomial(m,l)*binomial(m/2*(n + 1) - l*n -1, m - 1), (l,0,floor(m*(n-1)/(2*n))))"
   ]
  },
  {
   "cell_type": "code",
   "execution_count": 20,
   "metadata": {},
   "outputs": [
    {
     "data": {
      "text/latex": [
       "$\\displaystyle \\int\\limits_{0}^{\\pi} \\left(\\frac{\\sin{\\left(n x \\right)}}{\\sin{\\left(x \\right)}}\\right)^{m}\\, dx = \\pi \\sum_{l=0}^{\\left\\lfloor{\\frac{m \\left(n - 1\\right)}{2 n}}\\right\\rfloor} \\left(-1\\right)^{l} {\\binom{m}{l}} {\\binom{- l n + \\frac{m \\left(n + 1\\right)}{2} - 1}{m - 1}}$"
      ],
      "text/plain": [
       "Eq(Integral((sin(n*x)/sin(x))**m, (x, 0, pi)), pi*Sum((-1)**l*binomial(m, l)*binomial(-l*n + m*(n + 1)/2 - 1, m - 1), (l, 0, floor(m*(n - 1)/(2*n)))))"
      ]
     },
     "execution_count": 20,
     "metadata": {},
     "output_type": "execute_result"
    }
   ],
   "source": [
    "Eq(int1, sum1)"
   ]
  },
  {
   "cell_type": "code",
   "execution_count": 51,
   "metadata": {},
   "outputs": [],
   "source": [
    "Eq(int1, sum1).subs([(n,6),(m,4)]).doit()"
   ]
  },
  {
   "cell_type": "code",
   "execution_count": 53,
   "metadata": {},
   "outputs": [
    {
     "data": {
      "text/latex": [
       "$\\displaystyle 3$"
      ],
      "text/plain": [
       "3"
      ]
     },
     "execution_count": 53,
     "metadata": {},
     "output_type": "execute_result"
    }
   ],
   "source": [
    "floor(m*(n-1)/(2*n)).subs([(n,6),(m,8)])"
   ]
  },
  {
   "cell_type": "code",
   "execution_count": 61,
   "metadata": {},
   "outputs": [
    {
     "data": {
      "text/latex": [
       "$\\displaystyle -2016$"
      ],
      "text/plain": [
       "-2016"
      ]
     },
     "execution_count": 61,
     "metadata": {},
     "output_type": "execute_result"
    }
   ],
   "source": [
    "((-1)**l*binomial(m,l)*binomial(m/2*(n + 1) - l*n -1, m - 1)).subs([(n,6),(m,8),(l,3)])"
   ]
  },
  {
   "cell_type": "code",
   "execution_count": 25,
   "metadata": {},
   "outputs": [
    {
     "data": {
      "text/latex": [
       "$\\displaystyle {\\binom{\\left(- l + \\frac{m}{2}\\right) \\left(n + 1\\right)}{m - 1}} = \\frac{\\left(\\left(- l + \\frac{m}{2}\\right) \\left(n + 1\\right)\\right)!}{\\left(m - 1\\right)! \\left(- m + \\left(- l + \\frac{m}{2}\\right) \\left(n + 1\\right) + 1\\right)!}$"
      ],
      "text/plain": [
       "Eq(binomial((-l + m/2)*(n + 1), m - 1), factorial((-l + m/2)*(n + 1))/(factorial(m - 1)*factorial(-m + (-l + m/2)*(n + 1) + 1)))"
      ]
     },
     "execution_count": 25,
     "metadata": {},
     "output_type": "execute_result"
    }
   ],
   "source": [
    "Eq(binomial(n,k),factorial(n)/(factorial(k)*factorial(n - k))).subs([(n,(m/2-l)*(n+1)),(k, m-1)])"
   ]
  },
  {
   "cell_type": "code",
   "execution_count": 49,
   "metadata": {},
   "outputs": [
    {
     "data": {
      "text/latex": [
       "$\\displaystyle {\\binom{m}{l}} = \\frac{m!}{l! \\left(- l + m\\right)!}$"
      ],
      "text/plain": [
       "Eq(binomial(m, l), factorial(m)/(factorial(l)*factorial(-l + m)))"
      ]
     },
     "execution_count": 49,
     "metadata": {},
     "output_type": "execute_result"
    }
   ],
   "source": [
    "Eq(binomial(n,k),factorial(n)/(factorial(k)*factorial(n - k))).subs([(n,m),(k, l)])"
   ]
  },
  {
   "cell_type": "code",
   "execution_count": 48,
   "metadata": {},
   "outputs": [
    {
     "data": {
      "text/latex": [
       "$\\displaystyle -3432$"
      ],
      "text/plain": [
       "-3432"
      ]
     },
     "execution_count": 48,
     "metadata": {},
     "output_type": "execute_result"
    }
   ],
   "source": [
    "(binomial(n,k)).subs([(n,(m/2-l)*(n+1)),(k, m-1)]).subs([(n,7),(m,8),(l,5)])"
   ]
  },
  {
   "cell_type": "code",
   "execution_count": 30,
   "metadata": {},
   "outputs": [
    {
     "data": {
      "text/latex": [
       "$\\displaystyle \\left(-1\\right)^{k} {\\binom{z}{k}} = {\\binom{k - z - 1}{k}}$"
      ],
      "text/plain": [
       "Eq((-1)**k*binomial(z, k), binomial(k - z - 1, k))"
      ]
     },
     "execution_count": 30,
     "metadata": {},
     "output_type": "execute_result"
    }
   ],
   "source": [
    "Eq((-1)**k*binomial(z,k),binomial(-z + k - 1,k))"
   ]
  },
  {
   "cell_type": "code",
   "execution_count": 32,
   "metadata": {},
   "outputs": [
    {
     "data": {
      "text/latex": [
       "$\\displaystyle \\text{True}$"
      ],
      "text/plain": [
       "True"
      ]
     },
     "execution_count": 32,
     "metadata": {},
     "output_type": "execute_result"
    }
   ],
   "source": [
    "Eq((-1)**k*binomial(z,k),binomial(-z + k - 1,k)).subs([(z,7),(k,2)])"
   ]
  },
  {
   "cell_type": "code",
   "execution_count": 40,
   "metadata": {},
   "outputs": [
    {
     "data": {
      "text/latex": [
       "$\\displaystyle \\left(-1\\right)^{m - 1} {\\binom{m + \\left(l - \\frac{m}{2}\\right) \\left(n + 1\\right) - 2}{m - 1}} = {\\binom{- \\left(l - \\frac{m}{2}\\right) \\left(n + 1\\right)}{m - 1}}$"
      ],
      "text/plain": [
       "Eq((-1)**(m - 1)*binomial(m + (l - m/2)*(n + 1) - 2, m - 1), binomial(-(l - m/2)*(n + 1), m - 1))"
      ]
     },
     "execution_count": 40,
     "metadata": {},
     "output_type": "execute_result"
    }
   ],
   "source": [
    "Eq((-1)**k*binomial(z,k),binomial(-z + k - 1,k)).subs([(k,m-1),(z,-(m/2-l)*(n+1) + m - 2)])"
   ]
  },
  {
   "cell_type": "code",
   "execution_count": null,
   "metadata": {},
   "outputs": [],
   "source": [
    "Eq(binomial(n,k),factorial(n)/(factorial(k)*factorial(n - k))).subs([(n,(l-m/2-l)*(n+1)),(k, m-1)])"
   ]
  }
 ],
 "metadata": {
  "kernelspec": {
   "display_name": "Python 3",
   "language": "python",
   "name": "python3"
  },
  "language_info": {
   "codemirror_mode": {
    "name": "ipython",
    "version": 3
   },
   "file_extension": ".py",
   "mimetype": "text/x-python",
   "name": "python",
   "nbconvert_exporter": "python",
   "pygments_lexer": "ipython3",
   "version": "3.8.5"
  }
 },
 "nbformat": 4,
 "nbformat_minor": 4
}
