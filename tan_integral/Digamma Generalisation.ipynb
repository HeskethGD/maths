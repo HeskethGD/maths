{
 "cells": [
  {
   "cell_type": "markdown",
   "metadata": {},
   "source": [
    "# Digamma Generalisation"
   ]
  },
  {
   "cell_type": "code",
   "execution_count": 2,
   "metadata": {},
   "outputs": [],
   "source": [
    "from sympy import *"
   ]
  },
  {
   "cell_type": "code",
   "execution_count": 3,
   "metadata": {},
   "outputs": [],
   "source": [
    "x, y, n, K, k, epsilon, z, s, a, R, N, r = symbols('x, y, n, K, k, epsilon, z, s, a, R, N, r')\n",
    "alpha, beta, delta, t, mu, nu, epsilon, theta, phi = symbols('alpha, beta, delta, t, mu, nu, epsilon, theta, phi')"
   ]
  },
  {
   "cell_type": "code",
   "execution_count": 95,
   "metadata": {},
   "outputs": [],
   "source": [
    "digamma_integrand = exp(-z)/z-exp(-mu*z)/(1-exp(-z))"
   ]
  },
  {
   "cell_type": "code",
   "execution_count": 96,
   "metadata": {},
   "outputs": [
    {
     "data": {
      "text/latex": [
       "$\\displaystyle \\int\\limits_{0}^{\\infty} \\left(- \\frac{e^{- \\mu t}}{1 - e^{- t}} + \\frac{e^{- t}}{t}\\right)\\, dt$"
      ],
      "text/plain": [
       "Integral(-exp(-mu*t)/(1 - exp(-t)) + exp(-t)/t, (t, 0, oo))"
      ]
     },
     "execution_count": 96,
     "metadata": {},
     "output_type": "execute_result"
    }
   ],
   "source": [
    "digamma_integral = Integral(digamma_integrand.subs(z,t),(t,0,oo))\n",
    "digamma_integral"
   ]
  },
  {
   "cell_type": "code",
   "execution_count": 97,
   "metadata": {},
   "outputs": [
    {
     "data": {
      "text/latex": [
       "$\\displaystyle \\operatorname{polygamma}{\\left(0,\\mu \\right)} = \\int\\limits_{0}^{\\infty} \\left(- \\frac{e^{- \\mu t}}{1 - e^{- t}} + \\frac{e^{- t}}{t}\\right)\\, dt$"
      ],
      "text/plain": [
       "Eq(polygamma(0, mu), Integral(-exp(-mu*t)/(1 - exp(-t)) + exp(-t)/t, (t, 0, oo)))"
      ]
     },
     "execution_count": 97,
     "metadata": {},
     "output_type": "execute_result"
    }
   ],
   "source": [
    "digamma_ex = Eq(digamma(mu), digamma_integral)\n",
    "digamma_ex"
   ]
  },
  {
   "cell_type": "code",
   "execution_count": 17,
   "metadata": {},
   "outputs": [
    {
     "data": {
      "text/latex": [
       "$\\displaystyle 1.1532635570076 + 1.41164139210767 i$"
      ],
      "text/plain": [
       "1.1532635570076 + 1.41164139210767*I"
      ]
     },
     "execution_count": 17,
     "metadata": {},
     "output_type": "execute_result"
    }
   ],
   "source": [
    "digamma(mu).subs(mu,1+I*pi).evalf()"
   ]
  },
  {
   "cell_type": "code",
   "execution_count": 98,
   "metadata": {},
   "outputs": [
    {
     "data": {
      "text/latex": [
       "$\\displaystyle 1.1532635570076 + 1.41164139210767 i$"
      ],
      "text/plain": [
       "1.1532635570076 + 1.41164139210767*I"
      ]
     },
     "execution_count": 98,
     "metadata": {},
     "output_type": "execute_result"
    }
   ],
   "source": [
    "digamma_integral.subs(mu,1+I*pi).evalf()"
   ]
  },
  {
   "cell_type": "code",
   "execution_count": 24,
   "metadata": {},
   "outputs": [
    {
     "data": {
      "text/latex": [
       "$\\displaystyle - \\frac{e^{- \\mu z}}{1 - e^{- z}} + \\frac{e^{- z}}{z}$"
      ],
      "text/plain": [
       "-exp(-mu*z)/(1 - exp(-z)) + exp(-z)/z"
      ]
     },
     "execution_count": 24,
     "metadata": {},
     "output_type": "execute_result"
    }
   ],
   "source": [
    "digamma_integrand"
   ]
  },
  {
   "cell_type": "code",
   "execution_count": 28,
   "metadata": {},
   "outputs": [
    {
     "data": {
      "text/latex": [
       "$\\displaystyle \\left(- \\frac{e^{- \\mu r e^{i \\theta}}}{1 - e^{- r e^{i \\theta}}} + \\frac{e^{- i \\theta} e^{- r e^{i \\theta}}}{r}\\right) e^{i \\theta}$"
      ],
      "text/plain": [
       "(-exp(-mu*r*exp(I*theta))/(1 - exp(-r*exp(I*theta))) + exp(-I*theta)*exp(-r*exp(I*theta))/r)*exp(I*theta)"
      ]
     },
     "execution_count": 28,
     "metadata": {},
     "output_type": "execute_result"
    }
   ],
   "source": [
    "digamma_integrand.subs(z,r*exp(I*theta))*exp(I*theta)"
   ]
  },
  {
   "cell_type": "code",
   "execution_count": 29,
   "metadata": {},
   "outputs": [
    {
     "data": {
      "text/latex": [
       "$\\displaystyle - \\frac{e^{i \\theta} e^{- \\mu r e^{i \\theta}}}{1 - e^{- r e^{i \\theta}}} + \\frac{e^{- r e^{i \\theta}}}{r}$"
      ],
      "text/plain": [
       "-exp(I*theta)*exp(-mu*r*exp(I*theta))/(1 - exp(-r*exp(I*theta))) + exp(-r*exp(I*theta))/r"
      ]
     },
     "execution_count": 29,
     "metadata": {},
     "output_type": "execute_result"
    }
   ],
   "source": [
    "exp(-r*exp(I*theta))/r-exp(I*theta)*exp(-mu*r*exp(I*theta))/(1-exp(-r*exp(I*theta)))"
   ]
  },
  {
   "cell_type": "code",
   "execution_count": 36,
   "metadata": {},
   "outputs": [
    {
     "data": {
      "text/latex": [
       "$\\displaystyle 0$"
      ],
      "text/plain": [
       "0"
      ]
     },
     "execution_count": 36,
     "metadata": {},
     "output_type": "execute_result"
    }
   ],
   "source": [
    "limit((exp(-r*exp(I*theta))/r-exp(I*theta)*exp(-mu*r*exp(I*theta))/(1-exp(-r*exp(I*theta)))).subs([(theta, 0),(mu,1)]),r,oo)"
   ]
  },
  {
   "cell_type": "code",
   "execution_count": 38,
   "metadata": {},
   "outputs": [
    {
     "data": {
      "text/latex": [
       "$\\displaystyle \\int\\limits_{0}^{\\infty} \\left(- \\frac{e^{i \\theta} e^{- \\mu r e^{i \\theta}}}{1 - e^{- r e^{i \\theta}}} + \\frac{e^{- r e^{i \\theta}}}{r}\\right)\\, dr$"
      ],
      "text/plain": [
       "Integral(-exp(I*theta)*exp(-mu*r*exp(I*theta))/(1 - exp(-r*exp(I*theta))) + exp(-r*exp(I*theta))/r, (r, 0, oo))"
      ]
     },
     "execution_count": 38,
     "metadata": {},
     "output_type": "execute_result"
    }
   ],
   "source": [
    "Integral(exp(-r*exp(I*theta))/r-exp(I*theta)*exp(-mu*r*exp(I*theta))/(1-exp(-r*exp(I*theta))),(r,0,oo))"
   ]
  },
  {
   "cell_type": "code",
   "execution_count": 39,
   "metadata": {},
   "outputs": [
    {
     "data": {
      "text/latex": [
       "$\\displaystyle \\int\\limits_{0}^{\\infty} \\left(- \\frac{e^{i \\theta} e^{- \\mu r e^{i \\theta}}}{1 - e^{- r e^{i \\theta}}} + \\frac{e^{- r e^{i \\theta}}}{r}\\right)\\, dr$"
      ],
      "text/plain": [
       "Integral(-exp(I*theta)*exp(-mu*r*exp(I*theta))/(1 - exp(-r*exp(I*theta))) + exp(-r*exp(I*theta))/r, (r, 0, oo))"
      ]
     },
     "execution_count": 39,
     "metadata": {},
     "output_type": "execute_result"
    }
   ],
   "source": [
    "Integral(exp(-r*exp(I*theta))/r-exp(I*theta)*exp(-mu*r*exp(I*theta))/(1-exp(-r*exp(I*theta))),(r,0,oo))"
   ]
  },
  {
   "cell_type": "code",
   "execution_count": 40,
   "metadata": {},
   "outputs": [
    {
     "data": {
      "text/latex": [
       "$\\displaystyle \\int\\limits_{0}^{\\infty} \\left(- \\frac{e^{i \\theta} e^{- \\mu r e^{i \\theta}}}{1 - e^{- r e^{i \\theta}}} + \\frac{e^{- r e^{i \\theta}}}{r}\\right)\\, dr$"
      ],
      "text/plain": [
       "Integral(-exp(I*theta)*exp(-mu*r*exp(I*theta))/(1 - exp(-r*exp(I*theta))) + exp(-r*exp(I*theta))/r, (r, 0, oo))"
      ]
     },
     "execution_count": 40,
     "metadata": {},
     "output_type": "execute_result"
    }
   ],
   "source": [
    "digamma_rotated = Integral(exp(-r*exp(I*theta))/r-exp(I*theta)*exp(-mu*r*exp(I*theta))/(1-exp(-r*exp(I*theta))),(r,0,oo))\n",
    "digamma_rotated"
   ]
  },
  {
   "cell_type": "code",
   "execution_count": 43,
   "metadata": {},
   "outputs": [
    {
     "data": {
      "text/latex": [
       "$\\displaystyle -0.413296158703192 + 0.588667059639041 i$"
      ],
      "text/plain": [
       "-0.413296158703192 + 0.588667059639041*I"
      ]
     },
     "execution_count": 43,
     "metadata": {},
     "output_type": "execute_result"
    }
   ],
   "source": [
    "digamma_rotated.subs(theta, pi/4).subs(mu,1+I*pi/8).evalf()"
   ]
  },
  {
   "cell_type": "code",
   "execution_count": 44,
   "metadata": {},
   "outputs": [
    {
     "data": {
      "text/latex": [
       "$\\displaystyle -0.413296158703192 + 0.588667059639041 i$"
      ],
      "text/plain": [
       "-0.413296158703192 + 0.588667059639041*I"
      ]
     },
     "execution_count": 44,
     "metadata": {},
     "output_type": "execute_result"
    }
   ],
   "source": [
    "digamma(mu).subs(mu,1+I*pi/8).evalf()"
   ]
  },
  {
   "cell_type": "code",
   "execution_count": 45,
   "metadata": {},
   "outputs": [
    {
     "data": {
      "text/latex": [
       "$\\displaystyle \\operatorname{polygamma}{\\left(0,\\mu \\right)} = \\int\\limits_{0}^{\\infty} \\left(- \\frac{e^{i \\theta} e^{- \\mu r e^{i \\theta}}}{1 - e^{- r e^{i \\theta}}} + \\frac{e^{- r e^{i \\theta}}}{r}\\right)\\, dr$"
      ],
      "text/plain": [
       "Eq(polygamma(0, mu), Integral(-exp(I*theta)*exp(-mu*r*exp(I*theta))/(1 - exp(-r*exp(I*theta))) + exp(-r*exp(I*theta))/r, (r, 0, oo)))"
      ]
     },
     "execution_count": 45,
     "metadata": {},
     "output_type": "execute_result"
    }
   ],
   "source": [
    "Eq(digamma(mu),digamma_rotated)"
   ]
  },
  {
   "cell_type": "code",
   "execution_count": 26,
   "metadata": {},
   "outputs": [
    {
     "data": {
      "text/latex": [
       "$\\displaystyle \\int\\limits_{0}^{\\infty} e^{- \\mu} \\operatorname{polygamma}{\\left(0,\\mu \\right)}\\, d\\mu = \\int\\limits_{0}^{\\infty} \\left(- \\frac{e^{i \\theta} \\int\\limits_{0}^{\\infty} e^{- \\mu} e^{- \\mu r e^{i \\theta}}\\, d\\mu}{1 - e^{- r e^{i \\theta}}} + \\frac{e^{- r e^{i \\theta}}}{r}\\right)\\, dr$"
      ],
      "text/plain": [
       "Eq(Integral(exp(-mu)*polygamma(0, mu), (mu, 0, oo)), Integral(-exp(I*theta)*Integral(exp(-mu)*exp(-mu*r*exp(I*theta)), (mu, 0, oo))/(1 - exp(-r*exp(I*theta))) + exp(-r*exp(I*theta))/r, (r, 0, oo)))"
      ]
     },
     "execution_count": 26,
     "metadata": {},
     "output_type": "execute_result"
    }
   ],
   "source": [
    "Eq(Integral(digamma(mu)*exp(-mu),(mu,0,oo)),\n",
    "  Integral(exp(-r*exp(I*theta))/r-exp(I*theta)*Integral(exp(-mu*r*exp(I*theta))*exp(-mu),(mu,0,oo))/(1-exp(-r*exp(I*theta))),(r,0,oo))\n",
    ")"
   ]
  },
  {
   "cell_type": "code",
   "execution_count": 28,
   "metadata": {},
   "outputs": [
    {
     "data": {
      "text/latex": [
       "$\\displaystyle \\int\\limits_{0}^{\\infty} e^{- \\mu} \\operatorname{polygamma}{\\left(0,\\mu \\right)}\\, d\\mu = \\int\\limits_{0}^{\\infty} \\left(- \\frac{e^{i \\theta}}{\\left(1 - e^{- r e^{i \\theta}}\\right) \\left(r e^{i \\theta} + 1\\right)} + \\frac{e^{- r e^{i \\theta}}}{r}\\right)\\, dr$"
      ],
      "text/plain": [
       "Eq(Integral(exp(-mu)*polygamma(0, mu), (mu, 0, oo)), Integral(-exp(I*theta)/((1 - exp(-r*exp(I*theta)))*(r*exp(I*theta) + 1)) + exp(-r*exp(I*theta))/r, (r, 0, oo)))"
      ]
     },
     "execution_count": 28,
     "metadata": {},
     "output_type": "execute_result"
    }
   ],
   "source": [
    "Eq(Integral(digamma(mu)*exp(-mu),(mu,0,oo)),\n",
    "  Integral(exp(-r*exp(I*theta))/r-exp(I*theta)/(r*exp(I*theta)+1)/(1-exp(-r*exp(I*theta))),(r,0,oo))\n",
    ")"
   ]
  },
  {
   "cell_type": "code",
   "execution_count": 27,
   "metadata": {},
   "outputs": [
    {
     "data": {
      "text/latex": [
       "$\\displaystyle \\begin{cases} \\frac{1}{r e^{i \\theta} + 1} & \\text{for}\\: \\left|{\\arg{\\left(r \\right)} + \\arg{\\left(e^{i \\theta} \\right)}}\\right| \\leq \\frac{\\pi}{2} \\\\\\int\\limits_{0}^{\\infty} e^{- \\mu} e^{- \\mu r e^{i \\theta}}\\, d\\mu & \\text{otherwise} \\end{cases}$"
      ],
      "text/plain": [
       "Piecewise((1/(r*exp(I*theta) + 1), Abs(arg(r) + arg(exp(I*theta))) <= pi/2), (Integral(exp(-mu)*exp(-mu*r*exp(I*theta)), (mu, 0, oo)), True))"
      ]
     },
     "execution_count": 27,
     "metadata": {},
     "output_type": "execute_result"
    }
   ],
   "source": [
    "Integral(exp(-mu*r*exp(I*theta))*exp(-mu),(mu,0,oo)).doit()"
   ]
  },
  {
   "cell_type": "markdown",
   "metadata": {},
   "source": [
    "## Lerch transcendant"
   ]
  },
  {
   "cell_type": "code",
   "execution_count": 4,
   "metadata": {},
   "outputs": [
    {
     "data": {
      "text/latex": [
       "$\\displaystyle \\frac{z^{s - 1} e^{- \\mu z}}{- \\nu e^{- z} + 1}$"
      ],
      "text/plain": [
       "z**(s - 1)*exp(-mu*z)/(-nu*exp(-z) + 1)"
      ]
     },
     "execution_count": 4,
     "metadata": {},
     "output_type": "execute_result"
    }
   ],
   "source": [
    "lerch_integrand = z**(s-1)*exp(-mu*z)/(1-nu*exp(-z))\n",
    "lerch_integrand"
   ]
  },
  {
   "cell_type": "code",
   "execution_count": 6,
   "metadata": {},
   "outputs": [],
   "source": [
    "lerch_integral = 1/gamma(s)*Integral(lerch_integrand, (z,0,oo))"
   ]
  },
  {
   "cell_type": "code",
   "execution_count": 7,
   "metadata": {},
   "outputs": [
    {
     "data": {
      "text/latex": [
       "$\\displaystyle \\Phi\\left(\\nu, s, \\mu\\right) = \\frac{\\int\\limits_{0}^{\\infty} \\frac{z^{s - 1} e^{- \\mu z}}{- \\nu e^{- z} + 1}\\, dz}{\\Gamma\\left(s\\right)}$"
      ],
      "text/plain": [
       "Eq(lerchphi(nu, s, mu), Integral(z**(s - 1)*exp(-mu*z)/(-nu*exp(-z) + 1), (z, 0, oo))/gamma(s))"
      ]
     },
     "execution_count": 7,
     "metadata": {},
     "output_type": "execute_result"
    }
   ],
   "source": [
    "Eq(lerchphi(nu,s,mu), lerch_integral)"
   ]
  },
  {
   "cell_type": "code",
   "execution_count": 8,
   "metadata": {},
   "outputs": [
    {
     "data": {
      "text/latex": [
       "$\\displaystyle -7.70879953268345 + 7.51715666340526 i$"
      ],
      "text/plain": [
       "-7.70879953268345 + 7.51715666340526*I"
      ]
     },
     "execution_count": 8,
     "metadata": {},
     "output_type": "execute_result"
    }
   ],
   "source": [
    "lerchphi(mu, s, nu).subs([(mu,1+I*pi),(s,1+I*pi),(nu,1+I*pi)]).evalf()"
   ]
  },
  {
   "cell_type": "code",
   "execution_count": 9,
   "metadata": {},
   "outputs": [
    {
     "data": {
      "text/latex": [
       "$\\displaystyle -7.70879953268345 + 7.51715666340526 i$"
      ],
      "text/plain": [
       "-7.70879953268345 + 7.51715666340526*I"
      ]
     },
     "execution_count": 9,
     "metadata": {},
     "output_type": "execute_result"
    }
   ],
   "source": [
    "lerch_integral.subs([(mu,1+I*pi),(s,1+I*pi),(nu,1+I*pi)]).evalf()"
   ]
  },
  {
   "cell_type": "code",
   "execution_count": 10,
   "metadata": {},
   "outputs": [
    {
     "data": {
      "text/latex": [
       "$\\displaystyle \\frac{\\left(r e^{i \\theta}\\right)^{s - 1} e^{i \\theta} e^{- \\mu r e^{i \\theta}}}{- \\nu e^{- r e^{i \\theta}} + 1}$"
      ],
      "text/plain": [
       "(r*exp(I*theta))**(s - 1)*exp(I*theta)*exp(-mu*r*exp(I*theta))/(-nu*exp(-r*exp(I*theta)) + 1)"
      ]
     },
     "execution_count": 10,
     "metadata": {},
     "output_type": "execute_result"
    }
   ],
   "source": [
    "lerch_integrand.subs(z,r*exp(I*theta))*exp(I*theta)"
   ]
  },
  {
   "cell_type": "code",
   "execution_count": 11,
   "metadata": {},
   "outputs": [],
   "source": [
    "lerch_rotated = 1/gamma(s)*Integral(lerch_integrand.subs(z,r*exp(I*theta))*exp(I*theta), (r,0,oo))"
   ]
  },
  {
   "cell_type": "code",
   "execution_count": 12,
   "metadata": {},
   "outputs": [
    {
     "data": {
      "text/latex": [
       "$\\displaystyle \\Phi\\left(\\nu, s, \\mu\\right) = \\frac{\\int\\limits_{0}^{\\infty} \\frac{\\left(r e^{i \\theta}\\right)^{s - 1} e^{i \\theta} e^{- \\mu r e^{i \\theta}}}{- \\nu e^{- r e^{i \\theta}} + 1}\\, dr}{\\Gamma\\left(s\\right)}$"
      ],
      "text/plain": [
       "Eq(lerchphi(nu, s, mu), Integral((r*exp(I*theta))**(s - 1)*exp(I*theta)*exp(-mu*r*exp(I*theta))/(-nu*exp(-r*exp(I*theta)) + 1), (r, 0, oo))/gamma(s))"
      ]
     },
     "execution_count": 12,
     "metadata": {},
     "output_type": "execute_result"
    }
   ],
   "source": [
    "lerch_rotated_eq = Eq(lerchphi(nu,s,mu),lerch_rotated)\n",
    "lerch_rotated_eq"
   ]
  },
  {
   "cell_type": "code",
   "execution_count": 13,
   "metadata": {},
   "outputs": [
    {
     "data": {
      "text/latex": [
       "$\\displaystyle 0.637367744371438 - 0.386094109966584 i$"
      ],
      "text/plain": [
       "0.637367744371438 - 0.386094109966584*I"
      ]
     },
     "execution_count": 13,
     "metadata": {},
     "output_type": "execute_result"
    }
   ],
   "source": [
    "lerch_rotated.subs(theta, pi/4).subs([(mu,1+I*pi/8),(nu,I),(s,2)]).evalf()"
   ]
  },
  {
   "cell_type": "code",
   "execution_count": 14,
   "metadata": {},
   "outputs": [
    {
     "data": {
      "text/latex": [
       "$\\displaystyle 0.637367744371438 - 0.386094109966584 i$"
      ],
      "text/plain": [
       "0.637367744371438 - 0.386094109966584*I"
      ]
     },
     "execution_count": 14,
     "metadata": {},
     "output_type": "execute_result"
    }
   ],
   "source": [
    "lerchphi(nu,s,mu).subs(theta, pi/4).subs([(mu,1+I*pi/8),(nu,I),(s,2)]).evalf()"
   ]
  },
  {
   "cell_type": "code",
   "execution_count": 15,
   "metadata": {},
   "outputs": [
    {
     "data": {
      "text/latex": [
       "$\\displaystyle \\frac{\\int\\limits_{0}^{\\infty} \\frac{\\left(r e^{i \\theta}\\right)^{s - 1} e^{i \\theta} e^{- \\mu \\left(\\delta + r e^{i \\theta}\\right)}}{- \\nu e^{- r e^{i \\theta}} + 1}\\, dr}{\\Gamma\\left(s\\right)}$"
      ],
      "text/plain": [
       "Integral((r*exp(I*theta))**(s - 1)*exp(I*theta)*exp(-mu*(delta + r*exp(I*theta)))/(-nu*exp(-r*exp(I*theta)) + 1), (r, 0, oo))/gamma(s)"
      ]
     },
     "execution_count": 15,
     "metadata": {},
     "output_type": "execute_result"
    }
   ],
   "source": [
    "lerch_gen_2 = 1/gamma(s)*Integral(\n",
    "    (lerch_integrand.subs(z,r*exp(I*theta))*exp(I*theta)).subs(exp(-mu*r*exp(I*theta)), exp(-mu*(r*exp(I*theta)+delta)))\n",
    "    , (r,0,oo))\n",
    "lerch_gen_2"
   ]
  },
  {
   "cell_type": "code",
   "execution_count": 16,
   "metadata": {},
   "outputs": [
    {
     "data": {
      "text/latex": [
       "$\\displaystyle \\Phi\\left(\\nu, s, \\mu\\right) e^{- \\delta \\mu} = \\frac{\\int\\limits_{0}^{\\infty} \\frac{\\left(r e^{i \\theta}\\right)^{s - 1} e^{i \\theta} e^{- \\mu \\left(\\delta + r e^{i \\theta}\\right)}}{- \\nu e^{- r e^{i \\theta}} + 1}\\, dr}{\\Gamma\\left(s\\right)}$"
      ],
      "text/plain": [
       "Eq(lerchphi(nu, s, mu)*exp(-delta*mu), Integral((r*exp(I*theta))**(s - 1)*exp(I*theta)*exp(-mu*(delta + r*exp(I*theta)))/(-nu*exp(-r*exp(I*theta)) + 1), (r, 0, oo))/gamma(s))"
      ]
     },
     "execution_count": 16,
     "metadata": {},
     "output_type": "execute_result"
    }
   ],
   "source": [
    "Eq(lerchphi(nu,s,mu)*exp(-mu*delta),lerch_gen_2)"
   ]
  },
  {
   "cell_type": "code",
   "execution_count": 8,
   "metadata": {},
   "outputs": [
    {
     "data": {
      "text/latex": [
       "$\\displaystyle \\Phi\\left(\\nu, s, \\mu\\right) e^{- \\delta \\mu} = \\frac{\\int\\limits_{0}^{\\infty} \\frac{\\left(r e^{i \\theta}\\right)^{s - 1} e^{i \\theta} e^{- \\mu \\left(\\delta + r e^{i \\theta}\\right)}}{- \\nu e^{- r e^{i \\theta}} + 1}\\, dr}{\\Gamma\\left(s\\right)}$"
      ],
      "text/plain": [
       "Eq(lerchphi(nu, s, mu)*exp(-delta*mu), Integral((r*exp(I*theta))**(s - 1)*exp(I*theta)*exp(-mu*(delta + r*exp(I*theta)))/(-nu*exp(-r*exp(I*theta)) + 1), (r, 0, oo))/gamma(s))"
      ]
     },
     "execution_count": 8,
     "metadata": {},
     "output_type": "execute_result"
    }
   ],
   "source": [
    "Eq(lerchphi(nu,s,mu)*exp(-mu*delta), \n",
    "   Integral(\n",
    "       (r*exp(I*theta))**(s-1)*exp(I*theta)*exp(-mu*(delta+r*exp(I*theta)))/(1-nu*exp(-r*exp(I*theta))),(r,0,oo))/gamma(s))"
   ]
  },
  {
   "cell_type": "code",
   "execution_count": 19,
   "metadata": {},
   "outputs": [
    {
     "data": {
      "text/latex": [
       "$\\displaystyle \\int\\limits_{0}^{\\infty} \\Phi\\left(\\nu, s, \\mu\\right) e^{- \\delta \\mu}\\, d\\mu = \\frac{\\int\\limits_{0}^{\\infty} \\frac{\\left(r e^{i \\theta}\\right)^{s - 1} e^{i \\theta} \\int\\limits_{0}^{\\infty} e^{- \\mu \\left(\\delta + r e^{i \\theta}\\right)}\\, d\\mu}{- \\nu e^{- r e^{i \\theta}} + 1}\\, dr}{\\Gamma\\left(s\\right)}$"
      ],
      "text/plain": [
       "Eq(Integral(lerchphi(nu, s, mu)*exp(-delta*mu), (mu, 0, oo)), Integral((r*exp(I*theta))**(s - 1)*exp(I*theta)*Integral(exp(-mu*(delta + r*exp(I*theta))), (mu, 0, oo))/(-nu*exp(-r*exp(I*theta)) + 1), (r, 0, oo))/gamma(s))"
      ]
     },
     "execution_count": 19,
     "metadata": {},
     "output_type": "execute_result"
    }
   ],
   "source": [
    "Eq(Integral(lerchphi(nu,s,mu)*exp(-mu*delta),(mu,0,oo)),\n",
    "   1/gamma(s)*Integral(\n",
    "    (r*exp(I*theta))**(s-1)*exp(I*theta)*Integral(exp(-mu*(delta+r*exp(I*theta))),(mu,0,oo))/(-nu*exp(-r*exp(I*theta))+1)\n",
    "    , (r,0,oo))\n",
    "  )"
   ]
  },
  {
   "cell_type": "code",
   "execution_count": 20,
   "metadata": {},
   "outputs": [
    {
     "data": {
      "text/latex": [
       "$\\displaystyle \\int\\limits_{0}^{\\infty} e^{- \\mu \\left(\\delta + r e^{i \\theta}\\right)}\\, d\\mu = \\begin{cases} \\frac{1}{\\delta + r e^{i \\theta}} & \\text{for}\\: \\left|{\\arg{\\left(\\delta + r e^{i \\theta} \\right)}}\\right| < \\frac{\\pi}{2} \\\\\\int\\limits_{0}^{\\infty} e^{- \\mu \\left(\\delta + r e^{i \\theta}\\right)}\\, d\\mu & \\text{otherwise} \\end{cases}$"
      ],
      "text/plain": [
       "Eq(Integral(exp(-mu*(delta + r*exp(I*theta))), (mu, 0, oo)), Piecewise((1/(delta + r*exp(I*theta)), Abs(arg(delta + r*exp(I*theta))) < pi/2), (Integral(exp(-mu*(delta + r*exp(I*theta))), (mu, 0, oo)), True)))"
      ]
     },
     "execution_count": 20,
     "metadata": {},
     "output_type": "execute_result"
    }
   ],
   "source": [
    "Eq(Integral(exp(-mu*(delta+r*exp(I*theta))),(mu,0,oo)), Integral(exp(-mu*(delta+r*exp(I*theta))),(mu,0,oo)).doit())"
   ]
  },
  {
   "cell_type": "code",
   "execution_count": 21,
   "metadata": {},
   "outputs": [
    {
     "data": {
      "text/latex": [
       "$\\displaystyle \\int\\limits_{0}^{\\infty} \\Phi\\left(\\nu, s, \\mu\\right) e^{- \\delta \\mu}\\, d\\mu = \\frac{\\int\\limits_{0}^{\\infty} \\frac{\\left(r e^{i \\theta}\\right)^{s - 1} e^{i \\theta}}{\\left(\\delta + r e^{i \\theta}\\right) \\left(- \\nu e^{- r e^{i \\theta}} + 1\\right)}\\, dr}{\\Gamma\\left(s\\right)}$"
      ],
      "text/plain": [
       "Eq(Integral(lerchphi(nu, s, mu)*exp(-delta*mu), (mu, 0, oo)), Integral((r*exp(I*theta))**(s - 1)*exp(I*theta)/((delta + r*exp(I*theta))*(-nu*exp(-r*exp(I*theta)) + 1)), (r, 0, oo))/gamma(s))"
      ]
     },
     "execution_count": 21,
     "metadata": {},
     "output_type": "execute_result"
    }
   ],
   "source": [
    "Eq(Integral(lerchphi(nu,s,mu)*exp(-mu*delta),(mu,0,oo)),\n",
    "   1/gamma(s)*Integral(\n",
    "    (r*exp(I*theta))**(s-1)*exp(I*theta)/(-nu*exp(-r*exp(I*theta))+1)/(delta+r*exp(I*theta))\n",
    "    , (r,0,oo))\n",
    "  )"
   ]
  },
  {
   "cell_type": "code",
   "execution_count": 8,
   "metadata": {},
   "outputs": [
    {
     "data": {
      "text/latex": [
       "$\\displaystyle \\sum_{n=0}^{\\infty} \\frac{n^{1 - s}}{n + \\frac{r}{\\delta}}$"
      ],
      "text/plain": [
       "Sum(n**(1 - s)/(n + r/delta), (n, 0, oo))"
      ]
     },
     "execution_count": 8,
     "metadata": {},
     "output_type": "execute_result"
    }
   ],
   "source": [
    "Sum(1/n**(s-1)/(n+r/delta),(n,0,oo)).doit()"
   ]
  },
  {
   "cell_type": "code",
   "execution_count": 38,
   "metadata": {},
   "outputs": [
    {
     "data": {
      "text/latex": [
       "$\\displaystyle \\frac{\\begin{cases} N + 1 & \\text{for}\\: \\frac{r e^{i \\theta}}{\\delta} = -1 \\\\\\frac{1 - \\left(- \\frac{r e^{i \\theta}}{\\delta}\\right)^{N + 1}}{1 + \\frac{r e^{i \\theta}}{\\delta}} & \\text{otherwise} \\end{cases}}{\\delta}$"
      ],
      "text/plain": [
       "Piecewise((N + 1, Eq(r*exp(I*theta)/delta, -1)), ((1 - (-r*exp(I*theta)/delta)**(N + 1))/(1 + r*exp(I*theta)/delta), True))/delta"
      ]
     },
     "execution_count": 38,
     "metadata": {},
     "output_type": "execute_result"
    }
   ],
   "source": [
    "Sum(1/delta*(-r*exp(I*theta)/delta)**n,(n,0,N)).doit()"
   ]
  },
  {
   "cell_type": "code",
   "execution_count": 59,
   "metadata": {},
   "outputs": [
    {
     "data": {
      "text/latex": [
       "$\\displaystyle \\begin{cases} - \\frac{e^{- a \\mu}}{a} & \\text{for}\\: a \\neq 0 \\\\\\mu & \\text{otherwise} \\end{cases}$"
      ],
      "text/plain": [
       "Piecewise((-exp(-a*mu)/a, Ne(a, 0)), (mu, True))"
      ]
     },
     "execution_count": 59,
     "metadata": {},
     "output_type": "execute_result"
    }
   ],
   "source": [
    "integrate(exp(-mu*a),mu)"
   ]
  },
  {
   "cell_type": "code",
   "execution_count": 25,
   "metadata": {},
   "outputs": [
    {
     "data": {
      "text/latex": [
       "$\\displaystyle \\frac{\\left(r e^{i \\theta}\\right)^{s - 1} e^{i \\theta} e^{\\mu \\left(\\delta - r e^{i \\theta}\\right)}}{\\left(\\delta - r e^{i \\theta}\\right) \\left(- \\nu e^{- r e^{i \\theta}} + 1\\right)}$"
      ],
      "text/plain": [
       "(r*exp(I*theta))**(s - 1)*exp(I*theta)*exp(mu*(delta - r*exp(I*theta)))/((delta - r*exp(I*theta))*(-nu*exp(-r*exp(I*theta)) + 1))"
      ]
     },
     "execution_count": 25,
     "metadata": {},
     "output_type": "execute_result"
    }
   ],
   "source": [
    "lerch_gen_3_integrand = (lerch_integrand.subs(z,r*exp(I*theta))*exp(I*theta)).subs(\n",
    "        exp(-mu*r*exp(I*theta)),  Integral(exp(-mu*(r*exp(I*theta)-delta)),mu).doit().simplify()\n",
    "    )\n",
    "lerch_gen_3_integrand"
   ]
  },
  {
   "cell_type": "code",
   "execution_count": 26,
   "metadata": {},
   "outputs": [
    {
     "data": {
      "text/latex": [
       "$\\displaystyle \\frac{\\int\\limits_{0}^{\\infty} \\frac{\\left(r e^{i \\theta}\\right)^{s - 1} e^{i \\theta} e^{\\mu \\left(\\delta - r e^{i \\theta}\\right)}}{\\left(\\delta - r e^{i \\theta}\\right) \\left(- \\nu e^{- r e^{i \\theta}} + 1\\right)}\\, dr}{\\Gamma\\left(s\\right)}$"
      ],
      "text/plain": [
       "Integral((r*exp(I*theta))**(s - 1)*exp(I*theta)*exp(mu*(delta - r*exp(I*theta)))/((delta - r*exp(I*theta))*(-nu*exp(-r*exp(I*theta)) + 1)), (r, 0, oo))/gamma(s)"
      ]
     },
     "execution_count": 26,
     "metadata": {},
     "output_type": "execute_result"
    }
   ],
   "source": [
    "lerch_gen_3_integral = 1/gamma(s)*Integral(lerch_gen_3_integrand, (r,0,oo))\n",
    "lerch_gen_3_integral"
   ]
  },
  {
   "cell_type": "code",
   "execution_count": 7,
   "metadata": {},
   "outputs": [
    {
     "data": {
      "text/latex": [
       "$\\displaystyle \\int \\Phi\\left(\\nu, s, \\mu\\right) e^{\\delta \\mu}\\, d\\mu = K + \\frac{\\int\\limits_{0}^{\\infty} \\frac{\\left(r e^{i \\theta}\\right)^{s - 1} e^{i \\theta} e^{\\mu \\left(\\delta - r e^{i \\theta}\\right)}}{\\left(\\delta - r e^{i \\theta}\\right) \\left(- \\nu e^{- r e^{i \\theta}} + 1\\right)}\\, dr}{\\Gamma\\left(s\\right)}$"
      ],
      "text/plain": [
       "Eq(Integral(lerchphi(nu, s, mu)*exp(delta*mu), mu), K + Integral((r*exp(I*theta))**(s - 1)*exp(I*theta)*exp(mu*(delta - r*exp(I*theta)))/((delta - r*exp(I*theta))*(-nu*exp(-r*exp(I*theta)) + 1)), (r, 0, oo))/gamma(s))"
      ]
     },
     "execution_count": 7,
     "metadata": {},
     "output_type": "execute_result"
    }
   ],
   "source": [
    "lerch_gen_3_eq = Eq(Integral(lerchphi(nu,s,mu)*exp(mu*delta),mu), lerch_gen_3_integral + K)\n",
    "lerch_gen_3_eq"
   ]
  },
  {
   "cell_type": "code",
   "execution_count": 8,
   "metadata": {},
   "outputs": [
    {
     "data": {
      "text/latex": [
       "$\\displaystyle \\int \\Phi\\left(\\nu, 2, \\mu\\right) e^{\\delta \\mu}\\, d\\mu = K + \\int\\limits_{0}^{\\infty} \\frac{r e^{2 i \\theta} e^{\\mu \\left(\\delta - r e^{i \\theta}\\right)}}{\\left(\\delta - r e^{i \\theta}\\right) \\left(- \\nu e^{- r e^{i \\theta}} + 1\\right)}\\, dr$"
      ],
      "text/plain": [
       "Eq(Integral(lerchphi(nu, 2, mu)*exp(delta*mu), mu), K + Integral(r*exp(2*I*theta)*exp(mu*(delta - r*exp(I*theta)))/((delta - r*exp(I*theta))*(-nu*exp(-r*exp(I*theta)) + 1)), (r, 0, oo)))"
      ]
     },
     "execution_count": 8,
     "metadata": {},
     "output_type": "execute_result"
    }
   ],
   "source": [
    "lerch_gen_3_eq.subs(s,2)"
   ]
  },
  {
   "cell_type": "code",
   "execution_count": 9,
   "metadata": {},
   "outputs": [
    {
     "data": {
      "text/latex": [
       "$\\displaystyle \\int \\Phi\\left(\\nu, 1, \\mu\\right) e^{\\delta \\mu}\\, d\\mu = K + \\int\\limits_{0}^{\\infty} \\frac{e^{i \\theta} e^{\\mu \\left(\\delta - r e^{i \\theta}\\right)}}{\\left(\\delta - r e^{i \\theta}\\right) \\left(- \\nu e^{- r e^{i \\theta}} + 1\\right)}\\, dr$"
      ],
      "text/plain": [
       "Eq(Integral(lerchphi(nu, 1, mu)*exp(delta*mu), mu), K + Integral(exp(I*theta)*exp(mu*(delta - r*exp(I*theta)))/((delta - r*exp(I*theta))*(-nu*exp(-r*exp(I*theta)) + 1)), (r, 0, oo)))"
      ]
     },
     "execution_count": 9,
     "metadata": {},
     "output_type": "execute_result"
    }
   ],
   "source": [
    "lerch_gen_3_eq.subs(s,1)"
   ]
  },
  {
   "cell_type": "code",
   "execution_count": 46,
   "metadata": {},
   "outputs": [
    {
     "data": {
      "text/latex": [
       "$\\displaystyle \\int \\left(\\delta \\Phi\\left(\\nu, s, \\mu\\right) e^{\\delta \\mu} - s \\Phi\\left(\\nu, s + 1, \\mu\\right) e^{\\delta \\mu}\\right)\\, d\\mu = K + \\Phi\\left(\\nu, s, \\mu\\right) e^{\\delta \\mu}$"
      ],
      "text/plain": [
       "Eq(Integral(delta*lerchphi(nu, s, mu)*exp(delta*mu) - s*lerchphi(nu, s + 1, mu)*exp(delta*mu), mu), K + lerchphi(nu, s, mu)*exp(delta*mu))"
      ]
     },
     "execution_count": 46,
     "metadata": {},
     "output_type": "execute_result"
    }
   ],
   "source": [
    "Eq(Integral(diff(exp(mu*delta)*lerchphi(nu,s,mu) + K, mu),mu), exp(mu*delta)*lerchphi(nu,s,mu) + K)"
   ]
  },
  {
   "cell_type": "code",
   "execution_count": 49,
   "metadata": {},
   "outputs": [
    {
     "data": {
      "text/latex": [
       "$\\displaystyle s \\int \\Phi\\left(\\nu, s + 1, \\mu\\right) e^{\\delta \\mu}\\, d\\mu = - K + \\delta \\int \\Phi\\left(\\nu, s, \\mu\\right) e^{\\delta \\mu}\\, d\\mu - \\Phi\\left(\\nu, s, \\mu\\right) e^{\\delta \\mu}$"
      ],
      "text/plain": [
       "Eq(s*Integral(lerchphi(nu, s + 1, mu)*exp(delta*mu), mu), -K + delta*Integral(lerchphi(nu, s, mu)*exp(delta*mu), mu) - lerchphi(nu, s, mu)*exp(delta*mu))"
      ]
     },
     "execution_count": 49,
     "metadata": {},
     "output_type": "execute_result"
    }
   ],
   "source": [
    "Eq(s*Integral(exp(mu*delta)*lerchphi(nu,s+1,mu),mu), \n",
    "   - exp(mu*delta)*lerchphi(nu,s,mu) - K + delta*Integral(exp(mu*delta)*lerchphi(nu,s,mu),mu))"
   ]
  },
  {
   "cell_type": "code",
   "execution_count": 50,
   "metadata": {},
   "outputs": [
    {
     "data": {
      "text/latex": [
       "$\\displaystyle 0 = - K + \\delta \\int \\Phi\\left(\\nu, 0, \\mu\\right) e^{\\delta \\mu}\\, d\\mu - \\Phi\\left(\\nu, 0, \\mu\\right) e^{\\delta \\mu}$"
      ],
      "text/plain": [
       "Eq(0, -K + delta*Integral(lerchphi(nu, 0, mu)*exp(delta*mu), mu) - lerchphi(nu, 0, mu)*exp(delta*mu))"
      ]
     },
     "execution_count": 50,
     "metadata": {},
     "output_type": "execute_result"
    }
   ],
   "source": [
    "Eq(s*Integral(exp(mu*delta)*lerchphi(nu,s+1,mu),mu), \n",
    "   - exp(mu*delta)*lerchphi(nu,s,mu) - K + delta*Integral(exp(mu*delta)*lerchphi(nu,s,mu),mu)).subs(s,0)"
   ]
  },
  {
   "cell_type": "code",
   "execution_count": 11,
   "metadata": {},
   "outputs": [
    {
     "data": {
      "text/latex": [
       "$\\displaystyle - K + \\delta \\int \\Phi\\left(\\nu, 0, \\mu\\right) e^{\\delta \\mu}\\, d\\mu - \\Phi\\left(\\nu, 0, \\mu\\right) e^{\\delta \\mu}$"
      ],
      "text/plain": [
       "-K + delta*Integral(lerchphi(nu, 0, mu)*exp(delta*mu), mu) - lerchphi(nu, 0, mu)*exp(delta*mu)"
      ]
     },
     "execution_count": 11,
     "metadata": {},
     "output_type": "execute_result"
    }
   ],
   "source": [
    "(- exp(mu*delta)*lerchphi(nu,s,mu) - K + delta*Integral(exp(mu*delta)*lerchphi(nu,s,mu),mu)).subs(s,0)"
   ]
  },
  {
   "cell_type": "code",
   "execution_count": 16,
   "metadata": {},
   "outputs": [
    {
     "data": {
      "text/latex": [
       "$\\displaystyle \\Phi\\left(\\nu, 0, \\mu\\right) = \\sum_{n=0}^{\\infty} \\nu^{n}$"
      ],
      "text/plain": [
       "Eq(lerchphi(nu, 0, mu), Sum(nu**n, (n, 0, oo)))"
      ]
     },
     "execution_count": 16,
     "metadata": {},
     "output_type": "execute_result"
    }
   ],
   "source": [
    "Eq(lerchphi(nu,0,mu),Sum(nu**n,(n,0,oo)))"
   ]
  },
  {
   "cell_type": "code",
   "execution_count": 18,
   "metadata": {},
   "outputs": [
    {
     "data": {
      "text/latex": [
       "$\\displaystyle \\Phi\\left(\\nu, 0, \\mu\\right) = \\begin{cases} \\frac{1}{1 - \\nu} & \\text{for}\\: \\left|{\\nu}\\right| < 1 \\\\\\sum_{n=0}^{\\infty} \\nu^{n} & \\text{otherwise} \\end{cases}$"
      ],
      "text/plain": [
       "Eq(lerchphi(nu, 0, mu), Piecewise((1/(1 - nu), Abs(nu) < 1), (Sum(nu**n, (n, 0, oo)), True)))"
      ]
     },
     "execution_count": 18,
     "metadata": {},
     "output_type": "execute_result"
    }
   ],
   "source": [
    "lerch_s_zero = Eq(lerchphi(nu,0,mu),Sum(nu**n,(n,0,oo))).doit()\n",
    "lerch_s_zero"
   ]
  },
  {
   "cell_type": "code",
   "execution_count": 23,
   "metadata": {},
   "outputs": [
    {
     "data": {
      "text/latex": [
       "$\\displaystyle -0.175803494447319 + 0.0108294699339433 i$"
      ],
      "text/plain": [
       "-0.175803494447319 + 0.0108294699339433*I"
      ]
     },
     "execution_count": 23,
     "metadata": {},
     "output_type": "execute_result"
    }
   ],
   "source": [
    "lerchphi(nu,0,mu).subs([(nu,20/3+I*pi/9),(mu,2)]).evalf()"
   ]
  },
  {
   "cell_type": "code",
   "execution_count": 24,
   "metadata": {},
   "outputs": [
    {
     "data": {
      "text/latex": [
       "$\\displaystyle -0.175803494447319 + 0.0108294699339433 i$"
      ],
      "text/plain": [
       "-0.175803494447319 + 0.0108294699339433*I"
      ]
     },
     "execution_count": 24,
     "metadata": {},
     "output_type": "execute_result"
    }
   ],
   "source": [
    "(1/(1-nu)).subs([(nu,20/3+I*pi/9),(mu,2)]).evalf()"
   ]
  },
  {
   "cell_type": "code",
   "execution_count": 45,
   "metadata": {},
   "outputs": [
    {
     "data": {
      "text/latex": [
       "$\\displaystyle 0$"
      ],
      "text/plain": [
       "0"
      ]
     },
     "execution_count": 45,
     "metadata": {},
     "output_type": "execute_result"
    }
   ],
   "source": [
    "(diff(lerch_gen_3_integrand, theta)-I*r*diff(lerch_gen_3_integrand, r)-I*lerch_gen_3_integrand).simplify()"
   ]
  },
  {
   "cell_type": "code",
   "execution_count": 111,
   "metadata": {},
   "outputs": [
    {
     "data": {
      "text/latex": [
       "$\\displaystyle 0$"
      ],
      "text/plain": [
       "0"
      ]
     },
     "execution_count": 111,
     "metadata": {},
     "output_type": "execute_result"
    }
   ],
   "source": [
    "(diff(lerch_gen_3_integrand, theta)-diff(I*r*lerch_gen_3_integrand, r)).simplify()"
   ]
  },
  {
   "cell_type": "code",
   "execution_count": 49,
   "metadata": {},
   "outputs": [
    {
     "data": {
      "text/latex": [
       "$\\displaystyle 0$"
      ],
      "text/plain": [
       "0"
      ]
     },
     "execution_count": 49,
     "metadata": {},
     "output_type": "execute_result"
    }
   ],
   "source": [
    "(diff(lerch_gen_3_integrand, mu)-(delta-r*exp(I*theta))*lerch_gen_3_integrand).simplify()"
   ]
  },
  {
   "cell_type": "code",
   "execution_count": 55,
   "metadata": {},
   "outputs": [
    {
     "data": {
      "text/latex": [
       "$\\displaystyle \\int \\frac{1}{1 - e^{\\alpha z - \\delta}}\\, dz$"
      ],
      "text/plain": [
       "Integral(1/(1 - exp(alpha*z - delta)), z)"
      ]
     },
     "execution_count": 55,
     "metadata": {},
     "output_type": "execute_result"
    }
   ],
   "source": [
    "Integral(1/(1-exp(alpha*z-delta)),z)"
   ]
  },
  {
   "cell_type": "code",
   "execution_count": 56,
   "metadata": {},
   "outputs": [
    {
     "data": {
      "text/plain": [
       "[delta/alpha]"
      ]
     },
     "execution_count": 56,
     "metadata": {},
     "output_type": "execute_result"
    }
   ],
   "source": [
    "solve(Eq(alpha*z-delta,0),z)"
   ]
  },
  {
   "cell_type": "code",
   "execution_count": 58,
   "metadata": {},
   "outputs": [
    {
     "data": {
      "text/latex": [
       "$\\displaystyle - \\frac{1}{\\alpha}$"
      ],
      "text/plain": [
       "-1/alpha"
      ]
     },
     "execution_count": 58,
     "metadata": {},
     "output_type": "execute_result"
    }
   ],
   "source": [
    "limit((z-delta/alpha)/(1-exp(alpha*z-delta)),z,delta/alpha)"
   ]
  },
  {
   "cell_type": "code",
   "execution_count": 64,
   "metadata": {},
   "outputs": [
    {
     "data": {
      "text/latex": [
       "$\\displaystyle \\begin{cases} \\frac{1}{1 - z} & \\text{for}\\: \\left|{z}\\right| < 1 \\\\\\sum_{s=0}^{\\infty} z^{s} & \\text{otherwise} \\end{cases}$"
      ],
      "text/plain": [
       "Piecewise((1/(1 - z), Abs(z) < 1), (Sum(z**s, (s, 0, oo)), True))"
      ]
     },
     "execution_count": 64,
     "metadata": {},
     "output_type": "execute_result"
    }
   ],
   "source": [
    "Sum(z**s,(s,0,oo)).doit()"
   ]
  },
  {
   "cell_type": "code",
   "execution_count": 65,
   "metadata": {},
   "outputs": [
    {
     "data": {
      "text/latex": [
       "$\\displaystyle \\frac{1}{1 - z} = \\sum_{s=0}^{\\infty} z^{s}$"
      ],
      "text/plain": [
       "Eq(1/(1 - z), Sum(z**s, (s, 0, oo)))"
      ]
     },
     "execution_count": 65,
     "metadata": {},
     "output_type": "execute_result"
    }
   ],
   "source": [
    "Eq(1/(1-z),Sum(z**s,(s,0,oo)))"
   ]
  },
  {
   "cell_type": "code",
   "execution_count": 77,
   "metadata": {},
   "outputs": [
    {
     "data": {
      "text/latex": [
       "$\\displaystyle \\frac{1}{\\delta - r e^{i \\theta}} = \\frac{\\sum_{s=0}^{\\infty} \\left(\\frac{r e^{i \\theta}}{\\delta}\\right)^{s}}{\\delta}$"
      ],
      "text/plain": [
       "Eq(1/(delta - r*exp(I*theta)), Sum((r*exp(I*theta)/delta)**s, (s, 0, oo))/delta)"
      ]
     },
     "execution_count": 77,
     "metadata": {},
     "output_type": "execute_result"
    }
   ],
   "source": [
    "Eq(1/(delta-r*exp(I*theta)),1/delta*Sum(z**s,(s,0,oo)).subs(z,r*exp(I*theta)/delta))"
   ]
  },
  {
   "cell_type": "code",
   "execution_count": 78,
   "metadata": {},
   "outputs": [
    {
     "data": {
      "text/latex": [
       "$\\displaystyle \\Phi\\left(\\nu, s, \\mu\\right) = \\frac{\\int\\limits_{0}^{\\infty} \\frac{\\left(r e^{i \\theta}\\right)^{s - 1} e^{i \\theta} e^{- \\mu r e^{i \\theta}}}{- \\nu e^{- r e^{i \\theta}} + 1}\\, dr}{\\Gamma\\left(s\\right)}$"
      ],
      "text/plain": [
       "Eq(lerchphi(nu, s, mu), Integral((r*exp(I*theta))**(s - 1)*exp(I*theta)*exp(-mu*r*exp(I*theta))/(-nu*exp(-r*exp(I*theta)) + 1), (r, 0, oo))/gamma(s))"
      ]
     },
     "execution_count": 78,
     "metadata": {},
     "output_type": "execute_result"
    }
   ],
   "source": [
    "lerch_rotated_eq"
   ]
  },
  {
   "cell_type": "code",
   "execution_count": 82,
   "metadata": {},
   "outputs": [
    {
     "data": {
      "text/latex": [
       "$\\displaystyle \\int\\limits_{0}^{\\infty} \\frac{e^{i \\theta} e^{- \\mu r e^{i \\theta}}}{\\left(\\delta - r e^{i \\theta}\\right) \\left(- \\nu e^{- r e^{i \\theta}} + 1\\right)}\\, dr$"
      ],
      "text/plain": [
       "Integral(exp(I*theta)*exp(-mu*r*exp(I*theta))/((delta - r*exp(I*theta))*(-nu*exp(-r*exp(I*theta)) + 1)), (r, 0, oo))"
      ]
     },
     "execution_count": 82,
     "metadata": {},
     "output_type": "execute_result"
    }
   ],
   "source": [
    "(1/gamma(s)*Integral(lerch_integrand.subs(z,r*exp(I*theta))*exp(I*theta)/(delta-r*exp(I*theta)), (r,0,oo))).subs(s,1)"
   ]
  },
  {
   "cell_type": "code",
   "execution_count": 81,
   "metadata": {},
   "outputs": [
    {
     "data": {
      "text/latex": [
       "$\\displaystyle \\frac{\\int\\limits_{0}^{\\infty} \\frac{\\left(r e^{i \\theta}\\right)^{s - 1} e^{i \\theta} e^{- \\mu r e^{i \\theta}}}{\\left(\\delta - r e^{i \\theta}\\right) \\left(- \\nu e^{- r e^{i \\theta}} + 1\\right)}\\, dr}{\\Gamma\\left(s\\right)}$"
      ],
      "text/plain": [
       "Integral((r*exp(I*theta))**(s - 1)*exp(I*theta)*exp(-mu*r*exp(I*theta))/((delta - r*exp(I*theta))*(-nu*exp(-r*exp(I*theta)) + 1)), (r, 0, oo))/gamma(s)"
      ]
     },
     "execution_count": 81,
     "metadata": {},
     "output_type": "execute_result"
    }
   ],
   "source": [
    "Eq(,\n",
    "   Sum(1/gamma(s)*Integral(lerch_integrand.subs(z,r*exp(I*theta))*exp(I*theta)/(delta-r*exp(I*theta)), (r,0,oo)),\n",
    "  )"
   ]
  },
  {
   "cell_type": "code",
   "execution_count": null,
   "metadata": {},
   "outputs": [],
   "source": []
  }
 ],
 "metadata": {
  "kernelspec": {
   "display_name": "Python 3",
   "language": "python",
   "name": "python3"
  },
  "language_info": {
   "codemirror_mode": {
    "name": "ipython",
    "version": 3
   },
   "file_extension": ".py",
   "mimetype": "text/x-python",
   "name": "python",
   "nbconvert_exporter": "python",
   "pygments_lexer": "ipython3",
   "version": "3.8.10"
  }
 },
 "nbformat": 4,
 "nbformat_minor": 4
}
