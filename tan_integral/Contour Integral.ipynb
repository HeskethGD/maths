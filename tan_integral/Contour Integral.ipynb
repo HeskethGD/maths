{
 "cells": [
  {
   "cell_type": "markdown",
   "metadata": {},
   "source": [
    "# Contour Integral"
   ]
  },
  {
   "cell_type": "code",
   "execution_count": 3,
   "metadata": {},
   "outputs": [],
   "source": [
    "from sympy import *"
   ]
  },
  {
   "cell_type": "code",
   "execution_count": 4,
   "metadata": {},
   "outputs": [],
   "source": [
    "x, y, n, m, K, k, epsilon, z, s, a, R, N, L, M = symbols('x, y, n, m, K, k, epsilon, z, s, a, R, N, L, M')\n",
    "alpha, beta, delta, t, mu, nu, epsilon, theta = symbols('alpha, beta, delta, t, mu, nu, epsilon, theta')"
   ]
  },
  {
   "cell_type": "markdown",
   "metadata": {},
   "source": [
    "We aim to calculate the below integral along the real line using contour integration in the complex plane about a closed contour with the residue theorem."
   ]
  },
  {
   "cell_type": "code",
   "execution_count": 159,
   "metadata": {},
   "outputs": [
    {
     "data": {
      "text/latex": [
       "$\\displaystyle \\int\\limits_{- R}^{R} \\left(\\frac{1}{2 \\left(k - 1\\right) \\left(- i e^{2 k + i \\pi k} + 1\\right)} - \\frac{1}{2 \\left(k - 1\\right) \\left(i e^{2 k} + 1\\right)}\\right)\\, dk$"
      ],
      "text/plain": [
       "Integral(1/(2*(k - 1)*(-I*exp(2*k + I*pi*k) + 1)) - 1/(2*(k - 1)*(I*exp(2*k) + 1)), (k, -R, R))"
      ]
     },
     "execution_count": 159,
     "metadata": {},
     "output_type": "execute_result"
    }
   ],
   "source": [
    "Integral((1/(-exp(2*k+I*pi*k+I*pi/2)+1)/(k-1)/2-1/(-exp(2*k-I*pi/2)+1)/(k-1)/2),(k,-R,R))"
   ]
  },
  {
   "cell_type": "code",
   "execution_count": 100,
   "metadata": {},
   "outputs": [
    {
     "data": {
      "text/latex": [
       "$\\displaystyle \\frac{1}{2 \\left(z - 1\\right) \\left(- i e^{2 z + i \\pi z} + 1\\right)} - \\frac{1}{2 \\left(z - 1\\right) \\left(i e^{2 z} + 1\\right)}$"
      ],
      "text/plain": [
       "1/(2*(z - 1)*(-I*exp(2*z + I*pi*z) + 1)) - 1/(2*(z - 1)*(I*exp(2*z) + 1))"
      ]
     },
     "execution_count": 100,
     "metadata": {},
     "output_type": "execute_result"
    }
   ],
   "source": [
    "integrandz1 = (1/(-exp(2*k+I*pi*k+I*pi/2)+1)/(k-1)/2-1/(-exp(2*k-I*pi/2)+1)/(k-1)/2).subs(k,z)\n",
    "integrandz1"
   ]
  },
  {
   "cell_type": "markdown",
   "metadata": {},
   "source": [
    "## Contour definition\n",
    "\n",
    "Consider a square in the upper half plane centered about x=0 of length L. The contour then goes counter clockwise along the\n",
    "following path:\n",
    "\n",
    "PART 1 - from left to right along the x-axis:\n",
    "\n",
    "z = -L/2 to z = L/2\n",
    "\n",
    "PART 2 - vertically upwards:\n",
    "\n",
    "z = L/2 to z = L/2 + iL\n",
    "\n",
    "PART 3 - from right to left:\n",
    "\n",
    "z = L/2 + iL to z = -L/2 + iL\n",
    "\n",
    "PART 4 - vertically downwards:\n",
    "\n",
    "z = -L/2 + iL to z=-L/2"
   ]
  },
  {
   "cell_type": "markdown",
   "metadata": {},
   "source": [
    "## Line Integral Parts"
   ]
  },
  {
   "cell_type": "code",
   "execution_count": 11,
   "metadata": {},
   "outputs": [
    {
     "data": {
      "text/latex": [
       "$\\displaystyle \\int \\left(\\frac{1}{2 \\left(z - 1\\right) \\left(- i e^{2 z + i \\pi z} + 1\\right)} - \\frac{1}{2 \\left(z - 1\\right) \\left(i e^{2 z} + 1\\right)}\\right)\\, dz$"
      ],
      "text/plain": [
       "Integral(1/(2*(z - 1)*(-I*exp(2*z + I*pi*z) + 1)) - 1/(2*(z - 1)*(I*exp(2*z) + 1)), z)"
      ]
     },
     "execution_count": 11,
     "metadata": {},
     "output_type": "execute_result"
    }
   ],
   "source": [
    "Integral((1/(-exp(2*z+I*pi*z+I*pi/2)+1)/(z-1)/2-1/(-exp(2*z-I*pi/2)+1)/(z-1)/2),z)"
   ]
  },
  {
   "cell_type": "markdown",
   "metadata": {},
   "source": [
    "### PART 1"
   ]
  },
  {
   "cell_type": "code",
   "execution_count": 10,
   "metadata": {},
   "outputs": [
    {
     "data": {
      "text/latex": [
       "$\\displaystyle \\int\\limits_{- \\frac{L}{2}}^{\\frac{L}{2}} \\left(\\frac{1}{2 \\left(x - 1\\right) \\left(- i e^{2 x + i \\pi x} + 1\\right)} - \\frac{1}{2 \\left(x - 1\\right) \\left(i e^{2 x} + 1\\right)}\\right)\\, dx$"
      ],
      "text/plain": [
       "Integral(1/(2*(x - 1)*(-I*exp(2*x + I*pi*x) + 1)) - 1/(2*(x - 1)*(I*exp(2*x) + 1)), (x, -L/2, L/2))"
      ]
     },
     "execution_count": 10,
     "metadata": {},
     "output_type": "execute_result"
    }
   ],
   "source": [
    "Integral((1/(-exp(2*x+I*pi*x+I*pi/2)+1)/(x-1)/2-1/(-exp(2*x-I*pi/2)+1)/(x-1)/2),(x,-L/2,L/2))"
   ]
  },
  {
   "cell_type": "markdown",
   "metadata": {},
   "source": [
    "### PART 2"
   ]
  },
  {
   "cell_type": "code",
   "execution_count": 13,
   "metadata": {},
   "outputs": [
    {
     "data": {
      "text/latex": [
       "$\\displaystyle \\int\\limits_{0}^{L} \\left(\\frac{1}{2 \\left(- i e^{L + 2 i y + i \\pi \\left(\\frac{L}{2} + i y\\right)} + 1\\right) \\left(\\frac{L}{2} + i y - 1\\right)} - \\frac{1}{2 \\left(i e^{L + 2 i y} + 1\\right) \\left(\\frac{L}{2} + i y - 1\\right)}\\right)\\, dy$"
      ],
      "text/plain": [
       "Integral(1/(2*(-I*exp(L + 2*I*y + I*pi*(L/2 + I*y)) + 1)*(L/2 + I*y - 1)) - 1/(2*(I*exp(L + 2*I*y) + 1)*(L/2 + I*y - 1)), (y, 0, L))"
      ]
     },
     "execution_count": 13,
     "metadata": {},
     "output_type": "execute_result"
    }
   ],
   "source": [
    "Integral((1/(-exp(2*k+I*pi*k+I*pi/2)+1)/(k-1)/2-1/(-exp(2*k-I*pi/2)+1)/(k-1)/2).subs(k,L/2+I*y),(y,0,L))"
   ]
  },
  {
   "cell_type": "code",
   "execution_count": 101,
   "metadata": {},
   "outputs": [
    {
     "data": {
      "image/png": "[encoded data removed]",
      "text/plain": [
       "<Figure size 432x288 with 1 Axes>"
      ]
     },
     "metadata": {
      "needs_background": "light"
     },
     "output_type": "display_data"
    },
    {
     "data": {
      "text/plain": [
       "<sympy.plotting.plot.Plot at 0x7f9d94fefee0>"
      ]
     },
     "execution_count": 101,
     "metadata": {},
     "output_type": "execute_result"
    }
   ],
   "source": [
    "plot(abs(((1/(-exp(2*k+I*pi*k+I*pi/2)+1)/(k-1)/2-1/(-exp(2*k-I*pi/2)+1)/(k-1)/2).subs(k,L/2+I*y)).subs(y,L*y)).subs(L,700),\n",
    "     (y,0.5,1))"
   ]
  },
  {
   "cell_type": "markdown",
   "metadata": {},
   "source": [
    "### PART 3"
   ]
  },
  {
   "cell_type": "code",
   "execution_count": 14,
   "metadata": {},
   "outputs": [
    {
     "data": {
      "text/latex": [
       "$\\displaystyle \\int\\limits_{- \\frac{L}{2}}^{\\frac{L}{2}} \\left(\\frac{1}{2 \\left(- i e^{2 i L + 2 x + i \\pi \\left(i L + x\\right)} + 1\\right) \\left(i L + x - 1\\right)} - \\frac{1}{2 \\left(i e^{2 i L + 2 x} + 1\\right) \\left(i L + x - 1\\right)}\\right)\\, dx$"
      ],
      "text/plain": [
       "Integral(1/(2*(-I*exp(2*I*L + 2*x + I*pi*(I*L + x)) + 1)*(I*L + x - 1)) - 1/(2*(I*exp(2*I*L + 2*x) + 1)*(I*L + x - 1)), (x, -L/2, L/2))"
      ]
     },
     "execution_count": 14,
     "metadata": {},
     "output_type": "execute_result"
    }
   ],
   "source": [
    "Integral((1/(-exp(2*x+I*pi*x+I*pi/2)+1)/(x-1)/2-1/(-exp(2*x-I*pi/2)+1)/(x-1)/2).subs(x,x+I*L),(x,-L/2,L/2))"
   ]
  },
  {
   "cell_type": "markdown",
   "metadata": {},
   "source": [
    "### PART 4"
   ]
  },
  {
   "cell_type": "code",
   "execution_count": 16,
   "metadata": {},
   "outputs": [
    {
     "data": {
      "text/latex": [
       "$\\displaystyle \\int\\limits_{0}^{L} \\left(\\frac{1}{2 \\left(- i e^{- L + 2 i y + i \\pi \\left(- \\frac{L}{2} + i y\\right)} + 1\\right) \\left(- \\frac{L}{2} + i y - 1\\right)} - \\frac{1}{2 \\left(i e^{- L + 2 i y} + 1\\right) \\left(- \\frac{L}{2} + i y - 1\\right)}\\right)\\, dy$"
      ],
      "text/plain": [
       "Integral(1/(2*(-I*exp(-L + 2*I*y + I*pi*(-L/2 + I*y)) + 1)*(-L/2 + I*y - 1)) - 1/(2*(I*exp(-L + 2*I*y) + 1)*(-L/2 + I*y - 1)), (y, 0, L))"
      ]
     },
     "execution_count": 16,
     "metadata": {},
     "output_type": "execute_result"
    }
   ],
   "source": [
    "Integral((1/(-exp(2*k+I*pi*k+I*pi/2)+1)/(k-1)/2-1/(-exp(2*k-I*pi/2)+1)/(k-1)/2).subs(k,-L/2+I*y),(y,0,L))"
   ]
  },
  {
   "cell_type": "markdown",
   "metadata": {},
   "source": [
    "## Poles"
   ]
  },
  {
   "cell_type": "code",
   "execution_count": 17,
   "metadata": {},
   "outputs": [
    {
     "data": {
      "text/latex": [
       "$\\displaystyle \\frac{1}{2 \\left(z - 1\\right) \\left(- i e^{2 z + i \\pi z} + 1\\right)} - \\frac{1}{2 \\left(z - 1\\right) \\left(i e^{2 z} + 1\\right)}$"
      ],
      "text/plain": [
       "1/(2*(z - 1)*(-I*exp(2*z + I*pi*z) + 1)) - 1/(2*(z - 1)*(I*exp(2*z) + 1))"
      ]
     },
     "execution_count": 17,
     "metadata": {},
     "output_type": "execute_result"
    }
   ],
   "source": [
    "(1/(-exp(2*z+I*pi*z+I*pi/2)+1)/(z-1)/2-1/(-exp(2*z-I*pi/2)+1)/(z-1)/2)"
   ]
  },
  {
   "cell_type": "code",
   "execution_count": 19,
   "metadata": {},
   "outputs": [
    {
     "data": {
      "text/latex": [
       "$\\displaystyle 2 z + i \\pi z + \\frac{i \\pi}{2} = 2 i \\pi n$"
      ],
      "text/plain": [
       "Eq(2*z + I*pi*z + I*pi/2, 2*I*pi*n)"
      ]
     },
     "execution_count": 19,
     "metadata": {},
     "output_type": "execute_result"
    }
   ],
   "source": [
    "Eq(2*z+I*pi*z+I*pi/2,2*I*n*pi)"
   ]
  },
  {
   "cell_type": "code",
   "execution_count": 37,
   "metadata": {},
   "outputs": [
    {
     "data": {
      "text/latex": [
       "$\\displaystyle z = \\frac{\\pi \\left(1 - 4 n\\right)}{2 \\left(- \\pi + 2 i\\right)}$"
      ],
      "text/plain": [
       "Eq(z, pi*(1 - 4*n)/(2*(-pi + 2*I)))"
      ]
     },
     "execution_count": 37,
     "metadata": {},
     "output_type": "execute_result"
    }
   ],
   "source": [
    "Eq(z, solve(2*z+I*pi*z+I*pi/2-2*I*n*pi,z)[0])"
   ]
  },
  {
   "cell_type": "code",
   "execution_count": 22,
   "metadata": {},
   "outputs": [
    {
     "data": {
      "text/latex": [
       "$\\displaystyle 2 z - \\frac{i \\pi}{2} = 2 i \\pi m$"
      ],
      "text/plain": [
       "Eq(2*z - I*pi/2, 2*I*pi*m)"
      ]
     },
     "execution_count": 22,
     "metadata": {},
     "output_type": "execute_result"
    }
   ],
   "source": [
    "Eq(2*z-I*pi/2,2*I*m*pi)"
   ]
  },
  {
   "cell_type": "code",
   "execution_count": 25,
   "metadata": {},
   "outputs": [
    {
     "data": {
      "text/latex": [
       "$\\displaystyle z = \\frac{i \\pi \\left(4 m + 1\\right)}{4}$"
      ],
      "text/plain": [
       "Eq(z, I*pi*(4*m + 1)/4)"
      ]
     },
     "execution_count": 25,
     "metadata": {},
     "output_type": "execute_result"
    }
   ],
   "source": [
    "Eq(z, solve(2*z-I*pi/2 - 2*I*m*pi,z)[0])"
   ]
  },
  {
   "cell_type": "code",
   "execution_count": 40,
   "metadata": {},
   "outputs": [
    {
     "data": {
      "text/latex": [
       "$\\displaystyle z = -1.778998902145 - 1.13254587612573 i$"
      ],
      "text/plain": [
       "Eq(z, -1.778998902145 - 1.13254587612573*I)"
      ]
     },
     "execution_count": 40,
     "metadata": {},
     "output_type": "execute_result"
    }
   ],
   "source": [
    "Eq(z, solve(2*z+I*pi*z+I*pi/2-2*I*n*pi,z)[0]).subs(n,-1).evalf()"
   ]
  },
  {
   "cell_type": "code",
   "execution_count": 46,
   "metadata": {},
   "outputs": [
    {
     "data": {
      "text/latex": [
       "$\\displaystyle z = 0.785398163397448 i$"
      ],
      "text/plain": [
       "Eq(z, 0.785398163397448*I)"
      ]
     },
     "execution_count": 46,
     "metadata": {},
     "output_type": "execute_result"
    }
   ],
   "source": [
    "Eq(z, solve(2*z-I*pi/2 - 2*I*m*pi,z)[0]).subs(m,0).evalf()"
   ]
  },
  {
   "cell_type": "markdown",
   "metadata": {},
   "source": [
    "## The case where L=1\n",
    "\n",
    "There is only pole in the contour:"
   ]
  },
  {
   "cell_type": "code",
   "execution_count": 49,
   "metadata": {},
   "outputs": [
    {
     "data": {
      "text/latex": [
       "$\\displaystyle z = \\frac{i \\pi}{4}$"
      ],
      "text/plain": [
       "Eq(z, I*pi/4)"
      ]
     },
     "execution_count": 49,
     "metadata": {},
     "output_type": "execute_result"
    }
   ],
   "source": [
    "Eq(z, solve(2*z-I*pi/2 - 2*I*m*pi,z)[0]).subs(m,0)"
   ]
  },
  {
   "cell_type": "code",
   "execution_count": 106,
   "metadata": {},
   "outputs": [
    {
     "data": {
      "image/png": "[encoded data removed]",
      "text/plain": [
       "<Figure size 432x288 with 1 Axes>"
      ]
     },
     "metadata": {
      "needs_background": "light"
     },
     "output_type": "display_data"
    },
    {
     "data": {
      "text/plain": [
       "<sympy.plotting.plot.Plot at 0x7fdc39907a30>"
      ]
     },
     "execution_count": 106,
     "metadata": {},
     "output_type": "execute_result"
    }
   ],
   "source": [
    "LL = 10\n",
    "from sympy.plotting import plot3d\n",
    "plot3d(abs((1/(-exp(2*z+I*pi*z+I*pi/2)+1)/(z-1)/2-1/(-exp(2*z-I*pi/2)+1)/(z-1)/2).subs(z,x+I*y)),\n",
    "(x, -1/2*LL, 1/2*LL), (y, 0, 1*LL))"
   ]
  },
  {
   "cell_type": "code",
   "execution_count": 63,
   "metadata": {
    "scrolled": true
   },
   "outputs": [
    {
     "data": {
      "image/png": "[encoded data removed]",
      "text/plain": [
       "<Figure size 432x288 with 1 Axes>"
      ]
     },
     "metadata": {
      "needs_background": "light"
     },
     "output_type": "display_data"
    },
    {
     "data": {
      "text/plain": [
       "<sympy.plotting.plot.Plot at 0x7f9db7f21dc0>"
      ]
     },
     "execution_count": 63,
     "metadata": {},
     "output_type": "execute_result"
    }
   ],
   "source": [
    "from sympy.plotting import plot3d\n",
    "plot3d(abs(((z-I*pi/4)*(1/(-exp(2*z+I*pi*z+I*pi/2)+1)/(z-1)/2-1/(-exp(2*z-I*pi/2)+1)/(z-1)/2)).subs(z,x+I*y)),\n",
    "(x, -1/2, 1/2), (y, 0, 1))"
   ]
  },
  {
   "cell_type": "code",
   "execution_count": 69,
   "metadata": {
    "scrolled": true
   },
   "outputs": [
    {
     "data": {
      "text/latex": [
       "$\\displaystyle \\frac{\\left(\\frac{1}{2 \\left(- i e^{2 x - 2 i y + i \\pi \\left(x - i y\\right)} + 1\\right) \\left(x - i y - 1\\right)} - \\frac{1}{2 \\left(i e^{2 x - 2 i y} + 1\\right) \\left(x - i y - 1\\right)}\\right) \\left(x - i y - \\frac{i \\pi}{4}\\right)}{2} + \\frac{\\left(\\frac{1}{2 \\left(- i e^{2 x + 2 i y + i \\pi \\left(x + i y\\right)} + 1\\right) \\left(x + i y - 1\\right)} - \\frac{1}{2 \\left(i e^{2 x + 2 i y} + 1\\right) \\left(x + i y - 1\\right)}\\right) \\left(x + i y - \\frac{i \\pi}{4}\\right)}{2}$"
      ],
      "text/plain": [
       "(1/(2*(-I*exp(2*x - 2*I*y + I*pi*(x - I*y)) + 1)*(x - I*y - 1)) - 1/(2*(I*exp(2*x - 2*I*y) + 1)*(x - I*y - 1)))*(x - I*y - I*pi/4)/2 + (1/(2*(-I*exp(2*x + 2*I*y + I*pi*(x + I*y)) + 1)*(x + I*y - 1)) - 1/(2*(I*exp(2*x + 2*I*y) + 1)*(x + I*y - 1)))*(x + I*y - I*pi/4)/2"
      ]
     },
     "execution_count": 69,
     "metadata": {},
     "output_type": "execute_result"
    }
   ],
   "source": [
    "((((z-I*pi/4)*(1/(-exp(2*z+I*pi*z+I*pi/2)+1)/(z-1)/2-1/(-exp(2*z-I*pi/2)+1)/(z-1)/2)).subs(z,x+I*y)) + \n",
    "(((z-I*pi/4)*(1/(-exp(2*z+I*pi*z+I*pi/2)+1)/(z-1)/2-1/(-exp(2*z-I*pi/2)+1)/(z-1)/2)).subs(z,x-I*y)))/2"
   ]
  },
  {
   "cell_type": "code",
   "execution_count": 89,
   "metadata": {},
   "outputs": [
    {
     "data": {
      "image/png": "[encoded data removed]",
      "text/plain": [
       "<Figure size 432x288 with 1 Axes>"
      ]
     },
     "metadata": {
      "needs_background": "light"
     },
     "output_type": "display_data"
    },
    {
     "data": {
      "text/plain": [
       "<sympy.plotting.plot.Plot at 0x7fdc3a3d10a0>"
      ]
     },
     "execution_count": 89,
     "metadata": {},
     "output_type": "execute_result"
    }
   ],
   "source": [
    "from sympy.plotting import plot3d\n",
    "plot3d((\n",
    "abs((((1/(-exp(2*z+I*pi*z+I*pi/2)+1)/(z-1)/2-1/(-exp(2*z-I*pi/2)+1)/(z-1)/2)).subs(z,x+I*y)))\n",
    "),\n",
    "(x, -1/2, 1/2), (y, 0, 1))"
   ]
  },
  {
   "cell_type": "code",
   "execution_count": 82,
   "metadata": {},
   "outputs": [
    {
     "data": {
      "image/png": "[encoded data removed]",
      "text/plain": [
       "<Figure size 432x288 with 1 Axes>"
      ]
     },
     "metadata": {
      "needs_background": "light"
     },
     "output_type": "display_data"
    },
    {
     "data": {
      "text/plain": [
       "<sympy.plotting.plot.Plot at 0x7fdc3b1d3370>"
      ]
     },
     "execution_count": 82,
     "metadata": {},
     "output_type": "execute_result"
    }
   ],
   "source": [
    "from sympy.plotting import plot3d\n",
    "plot3d((\n",
    "((((1/(-exp(2*z+I*pi*z+I*pi/2)+1)/(z-1)/2-1/(-exp(2*z-I*pi/2)+1)/(z-1)/2)).subs(z,x+I*y)) + \n",
    "((((1/(-exp(2*z+I*pi*z+I*pi/2)+1)/(z-1)/2-1/(-exp(2*z-I*pi/2)+1)/(z-1)/2)).subs(z,x+I*y))).subs(I,-I))/2\n",
    "),\n",
    "(x, -1/2, 1/2), (y, 0, 1))"
   ]
  },
  {
   "cell_type": "code",
   "execution_count": 64,
   "metadata": {},
   "outputs": [
    {
     "data": {
      "image/png": "[encoded data removed]",
      "text/plain": [
       "<Figure size 432x288 with 1 Axes>"
      ]
     },
     "metadata": {
      "needs_background": "light"
     },
     "output_type": "display_data"
    },
    {
     "data": {
      "text/plain": [
       "<sympy.plotting.plot.Plot at 0x7fdc3b7b9b50>"
      ]
     },
     "execution_count": 64,
     "metadata": {},
     "output_type": "execute_result"
    }
   ],
   "source": [
    "from sympy.plotting import plot3d\n",
    "plot3d(-I*(\n",
    "((((1/(-exp(2*z+I*pi*z+I*pi/2)+1)/(z-1)/2-1/(-exp(2*z-I*pi/2)+1)/(z-1)/2)).subs(z,x+I*y)) - \n",
    "((((1/(-exp(2*z+I*pi*z+I*pi/2)+1)/(z-1)/2-1/(-exp(2*z-I*pi/2)+1)/(z-1)/2)).subs(z,x+I*y))).subs(I,-I))/2\n",
    "),\n",
    "(x, -1/2, 1/2), (y, 0, 1))"
   ]
  },
  {
   "cell_type": "code",
   "execution_count": 53,
   "metadata": {},
   "outputs": [
    {
     "data": {
      "text/latex": [
       "$\\displaystyle \\lim_{z \\to \\frac{i \\pi}{4}^+}\\left(\\left(z - \\frac{i \\pi}{4}\\right) \\left(\\frac{1}{2 \\left(z - 1\\right) \\left(- i e^{2 z + i \\pi z} + 1\\right)} - \\frac{1}{2 \\left(z - 1\\right) \\left(i e^{2 z} + 1\\right)}\\right)\\right) = - \\frac{1}{4 - i \\pi}$"
      ],
      "text/plain": [
       "Eq(Limit((z - I*pi/4)*(1/(2*(z - 1)*(-I*exp(2*z + I*pi*z) + 1)) - 1/(2*(z - 1)*(I*exp(2*z) + 1))), z, I*pi/4), -1/(4 - I*pi))"
      ]
     },
     "execution_count": 53,
     "metadata": {},
     "output_type": "execute_result"
    }
   ],
   "source": [
    "Eq(Limit((z-I*pi/4)*(1/(-exp(2*z+I*pi*z+I*pi/2)+1)/(z-1)/2-1/(-exp(2*z-I*pi/2)+1)/(z-1)/2),z,I*pi/4),\n",
    "   limit((z-I*pi/4)*(1/(-exp(2*z+I*pi*z+I*pi/2)+1)/(z-1)/2-1/(-exp(2*z-I*pi/2)+1)/(z-1)/2),z,I*pi/4)\n",
    "  )"
   ]
  },
  {
   "cell_type": "code",
   "execution_count": 54,
   "metadata": {},
   "outputs": [
    {
     "data": {
      "text/latex": [
       "$\\displaystyle - \\frac{2 i \\pi}{4 - i \\pi}$"
      ],
      "text/plain": [
       "-2*I*pi/(4 - I*pi)"
      ]
     },
     "execution_count": 54,
     "metadata": {},
     "output_type": "execute_result"
    }
   ],
   "source": [
    "-2*I*pi/(4-I*pi)"
   ]
  },
  {
   "cell_type": "code",
   "execution_count": 55,
   "metadata": {},
   "outputs": [
    {
     "data": {
      "text/latex": [
       "$\\displaystyle 0.763027083682328 - 0.971516256648286 i$"
      ],
      "text/plain": [
       "0.763027083682328 - 0.971516256648286*I"
      ]
     },
     "execution_count": 55,
     "metadata": {},
     "output_type": "execute_result"
    }
   ],
   "source": [
    "(-2*I*pi/(4-I*pi)).evalf()"
   ]
  },
  {
   "cell_type": "markdown",
   "metadata": {},
   "source": [
    "## Numerical evaluation of contour integral"
   ]
  },
  {
   "cell_type": "code",
   "execution_count": 77,
   "metadata": {},
   "outputs": [
    {
     "data": {
      "text/latex": [
       "$\\displaystyle 0.763027083682328 - 0.971516256648286 i$"
      ],
      "text/plain": [
       "0.763027083682328 - 0.971516256648286*I"
      ]
     },
     "execution_count": 77,
     "metadata": {},
     "output_type": "execute_result"
    }
   ],
   "source": [
    "(\n",
    "    Integral((1/(-exp(2*x+I*pi*x+I*pi/2)+1)/(x-1)/2-1/(-exp(2*x-I*pi/2)+1)/(x-1)/2),(x,-L/2,L/2)) +\n",
    "    I*Integral((1/(-exp(2*k+I*pi*k+I*pi/2)+1)/(k-1)/2-1/(-exp(2*k-I*pi/2)+1)/(k-1)/2).subs(k,L/2+I*y),(y,0,L)) +\n",
    "    Integral((1/(-exp(2*x+I*pi*x+I*pi/2)+1)/(x-1)/2-1/(-exp(2*x-I*pi/2)+1)/(x-1)/2).subs(x,x+I*L),(x,L/2,-L/2)) +\n",
    "    I*Integral((1/(-exp(2*k+I*pi*k+I*pi/2)+1)/(k-1)/2-1/(-exp(2*k-I*pi/2)+1)/(k-1)/2).subs(k,-L/2+I*y),(y,L,0))\n",
    ").subs(L,1).evalf()"
   ]
  },
  {
   "cell_type": "code",
   "execution_count": 67,
   "metadata": {},
   "outputs": [
    {
     "data": {
      "text/latex": [
       "$\\displaystyle -0.107173684255364 - 0.421579604080303 i$"
      ],
      "text/plain": [
       "-0.107173684255364 - 0.421579604080303*I"
      ]
     },
     "execution_count": 67,
     "metadata": {},
     "output_type": "execute_result"
    }
   ],
   "source": [
    "(\n",
    "    Integral((1/(-exp(2*x+I*pi*x+I*pi/2)+1)/(x-1)/2-1/(-exp(2*x-I*pi/2)+1)/(x-1)/2),(x,-L/2,L/2))\n",
    ").subs(L,1).evalf()"
   ]
  },
  {
   "cell_type": "code",
   "execution_count": 111,
   "metadata": {},
   "outputs": [
    {
     "data": {
      "text/latex": [
       "$\\displaystyle 0.519335769999781 - 0.397703553405083 i$"
      ],
      "text/plain": [
       "0.519335769999781 - 0.397703553405083*I"
      ]
     },
     "execution_count": 111,
     "metadata": {},
     "output_type": "execute_result"
    }
   ],
   "source": [
    "(\n",
    "    I*Integral((1/(-exp(2*k+I*pi*k+I*pi/2)+1)/(k-1)/2-1/(-exp(2*k-I*pi/2)+1)/(k-1)/2).subs(k,L/2+I*y),(y,0,L))\n",
    ").subs(L,1).evalf()"
   ]
  },
  {
   "cell_type": "code",
   "execution_count": 112,
   "metadata": {},
   "outputs": [
    {
     "data": {
      "text/latex": [
       "$\\displaystyle 0.409264627050207 - 0.0922530725733081 i$"
      ],
      "text/plain": [
       "0.409264627050207 - 0.0922530725733081*I"
      ]
     },
     "execution_count": 112,
     "metadata": {},
     "output_type": "execute_result"
    }
   ],
   "source": [
    "(\n",
    "    Integral((1/(-exp(2*x+I*pi*x+I*pi/2)+1)/(x-1)/2-1/(-exp(2*x-I*pi/2)+1)/(x-1)/2).subs(x,x+I*L),(x,L/2,-L/2))\n",
    ").subs(L,1).evalf()"
   ]
  },
  {
   "cell_type": "code",
   "execution_count": 113,
   "metadata": {},
   "outputs": [
    {
     "data": {
      "text/latex": [
       "$\\displaystyle -0.0583996291122967 - 0.0599800265895916 i$"
      ],
      "text/plain": [
       "-0.0583996291122967 - 0.0599800265895916*I"
      ]
     },
     "execution_count": 113,
     "metadata": {},
     "output_type": "execute_result"
    }
   ],
   "source": [
    "(\n",
    "    I*Integral((1/(-exp(2*k+I*pi*k+I*pi/2)+1)/(k-1)/2-1/(-exp(2*k-I*pi/2)+1)/(k-1)/2).subs(k,-L/2+I*y),(y,L,0))\n",
    ").subs(L,1).evalf()"
   ]
  },
  {
   "cell_type": "markdown",
   "metadata": {},
   "source": [
    "## Semi-circle contour upper half plane"
   ]
  },
  {
   "cell_type": "code",
   "execution_count": 5,
   "metadata": {},
   "outputs": [
    {
     "data": {
      "text/latex": [
       "$\\displaystyle \\frac{1}{2 \\left(z - 1\\right) \\left(- i e^{2 z + i \\pi z} + 1\\right)} - \\frac{1}{2 \\left(z - 1\\right) \\left(i e^{2 z} + 1\\right)}$"
      ],
      "text/plain": [
       "1/(2*(z - 1)*(-I*exp(2*z + I*pi*z) + 1)) - 1/(2*(z - 1)*(I*exp(2*z) + 1))"
      ]
     },
     "execution_count": 5,
     "metadata": {},
     "output_type": "execute_result"
    }
   ],
   "source": [
    "fz1 = ((1/(-exp(2*k+I*pi*k+I*pi/2)+1)/(k-1)/2-1/(-exp(2*k-I*pi/2)+1)/(k-1)/2)).subs(k,z)\n",
    "fz1"
   ]
  },
  {
   "cell_type": "markdown",
   "metadata": {},
   "source": [
    "### PART 1"
   ]
  },
  {
   "cell_type": "code",
   "execution_count": 101,
   "metadata": {},
   "outputs": [
    {
     "data": {
      "text/latex": [
       "$\\displaystyle \\int\\limits_{- R}^{R} \\left(\\frac{1}{2 \\left(x - 1\\right) \\left(- i e^{2 x + i \\pi x} + 1\\right)} - \\frac{1}{2 \\left(x - 1\\right) \\left(i e^{2 x} + 1\\right)}\\right)\\, dx$"
      ],
      "text/plain": [
       "Integral(1/(2*(x - 1)*(-I*exp(2*x + I*pi*x) + 1)) - 1/(2*(x - 1)*(I*exp(2*x) + 1)), (x, -R, R))"
      ]
     },
     "execution_count": 101,
     "metadata": {},
     "output_type": "execute_result"
    }
   ],
   "source": [
    "semic_part1 = Integral(((1/(-exp(2*k+I*pi*k+I*pi/2)+1)/(k-1)/2-1/(-exp(2*k-I*pi/2)+1)/(k-1)/2)).subs(k,x),(x,-R,R))\n",
    "semic_part1"
   ]
  },
  {
   "cell_type": "markdown",
   "metadata": {},
   "source": [
    "## PART 2"
   ]
  },
  {
   "cell_type": "code",
   "execution_count": 131,
   "metadata": {
    "scrolled": true
   },
   "outputs": [
    {
     "data": {
      "text/latex": [
       "$\\displaystyle z = R e^{i \\theta}$"
      ],
      "text/plain": [
       "Eq(z, R*exp(I*theta))"
      ]
     },
     "execution_count": 131,
     "metadata": {},
     "output_type": "execute_result"
    }
   ],
   "source": [
    "Eq(z,R*exp(I*theta))"
   ]
  },
  {
   "cell_type": "code",
   "execution_count": 133,
   "metadata": {
    "scrolled": true
   },
   "outputs": [
    {
     "data": {
      "text/latex": [
       "$\\displaystyle i R e^{i \\theta}$"
      ],
      "text/plain": [
       "I*R*exp(I*theta)"
      ]
     },
     "execution_count": 133,
     "metadata": {},
     "output_type": "execute_result"
    }
   ],
   "source": [
    "diff(R*exp(I*theta),theta)"
   ]
  },
  {
   "cell_type": "code",
   "execution_count": 102,
   "metadata": {},
   "outputs": [],
   "source": [
    "integrand_1 =( \n",
    "    ((1/(-exp(2*k+I*pi*k+I*pi/2)+1)/(k-1)/2-1/(-exp(2*k-I*pi/2)+1)/(k-1)/2)).subs(k,R*exp(I*theta))*(I*R*exp(I*theta))\n",
    ")"
   ]
  },
  {
   "cell_type": "code",
   "execution_count": 103,
   "metadata": {
    "scrolled": true
   },
   "outputs": [
    {
     "data": {
      "text/latex": [
       "$\\displaystyle \\int\\limits_{0}^{\\pi} i R \\left(\\frac{1}{2 \\left(- i e^{2 R e^{i \\theta} + i \\pi R e^{i \\theta}} + 1\\right) \\left(R e^{i \\theta} - 1\\right)} - \\frac{1}{2 \\left(i e^{2 R e^{i \\theta}} + 1\\right) \\left(R e^{i \\theta} - 1\\right)}\\right) e^{i \\theta}\\, d\\theta$"
      ],
      "text/plain": [
       "Integral(I*R*(1/(2*(-I*exp(2*R*exp(I*theta) + I*pi*R*exp(I*theta)) + 1)*(R*exp(I*theta) - 1)) - 1/(2*(I*exp(2*R*exp(I*theta)) + 1)*(R*exp(I*theta) - 1)))*exp(I*theta), (theta, 0, pi))"
      ]
     },
     "execution_count": 103,
     "metadata": {},
     "output_type": "execute_result"
    }
   ],
   "source": [
    "semic_part2 = Integral(integrand_1,(theta,0,pi))\n",
    "semic_part2"
   ]
  },
  {
   "cell_type": "code",
   "execution_count": 139,
   "metadata": {},
   "outputs": [
    {
     "data": {
      "text/latex": [
       "$\\displaystyle i R \\left(i \\sin{\\left(\\theta \\right)} + \\cos{\\left(\\theta \\right)}\\right) \\left(\\frac{1}{2 \\left(- i e^{2 R \\left(i \\sin{\\left(\\theta \\right)} + \\cos{\\left(\\theta \\right)}\\right) + i \\pi R \\left(i \\sin{\\left(\\theta \\right)} + \\cos{\\left(\\theta \\right)}\\right)} + 1\\right) \\left(R \\left(i \\sin{\\left(\\theta \\right)} + \\cos{\\left(\\theta \\right)}\\right) - 1\\right)} - \\frac{1}{2 \\left(i e^{2 R \\left(i \\sin{\\left(\\theta \\right)} + \\cos{\\left(\\theta \\right)}\\right)} + 1\\right) \\left(R \\left(i \\sin{\\left(\\theta \\right)} + \\cos{\\left(\\theta \\right)}\\right) - 1\\right)}\\right)$"
      ],
      "text/plain": [
       "I*R*(I*sin(theta) + cos(theta))*(1/(2*(-I*exp(2*R*(I*sin(theta) + cos(theta)) + I*pi*R*(I*sin(theta) + cos(theta))) + 1)*(R*(I*sin(theta) + cos(theta)) - 1)) - 1/(2*(I*exp(2*R*(I*sin(theta) + cos(theta))) + 1)*(R*(I*sin(theta) + cos(theta)) - 1)))"
      ]
     },
     "execution_count": 139,
     "metadata": {},
     "output_type": "execute_result"
    }
   ],
   "source": [
    "integrand_1.subs(exp(I*theta),cos(theta)+I*sin(theta))"
   ]
  },
  {
   "cell_type": "code",
   "execution_count": 145,
   "metadata": {},
   "outputs": [
    {
     "data": {
      "text/latex": [
       "$\\displaystyle \\frac{1}{- i e^{2 R \\cos{\\left(\\theta \\right)}} e^{2 i R \\sin{\\left(\\theta \\right)}} e^{- \\pi R \\sin{\\left(\\theta \\right)}} e^{i \\pi R \\cos{\\left(\\theta \\right)}} + 1}$"
      ],
      "text/plain": [
       "1/(-I*exp(2*R*cos(theta))*exp(2*I*R*sin(theta))*exp(-pi*R*sin(theta))*exp(I*pi*R*cos(theta)) + 1)"
      ]
     },
     "execution_count": 145,
     "metadata": {},
     "output_type": "execute_result"
    }
   ],
   "source": [
    "(1/(-exp(2*k+I*pi*k+I*pi/2)+1)).subs(k,R*cos(theta)+I*R*sin(theta)).expand()"
   ]
  },
  {
   "cell_type": "code",
   "execution_count": 148,
   "metadata": {},
   "outputs": [
    {
     "data": {
      "text/latex": [
       "$\\displaystyle e^{R \\left(- \\pi \\sin{\\left(\\theta \\right)} + 2 \\cos{\\left(\\theta \\right)}\\right)}$"
      ],
      "text/plain": [
       "exp(R*(-pi*sin(theta) + 2*cos(theta)))"
      ]
     },
     "execution_count": 148,
     "metadata": {},
     "output_type": "execute_result"
    }
   ],
   "source": [
    "exp(R*(2*cos(theta)-pi*sin(theta)))"
   ]
  },
  {
   "cell_type": "code",
   "execution_count": 150,
   "metadata": {},
   "outputs": [
    {
     "data": {
      "text/plain": [
       "[atan(2/pi)]"
      ]
     },
     "execution_count": 150,
     "metadata": {},
     "output_type": "execute_result"
    }
   ],
   "source": [
    "solve(Eq((2*cos(theta)-pi*sin(theta)),0),theta)"
   ]
  },
  {
   "cell_type": "code",
   "execution_count": 86,
   "metadata": {},
   "outputs": [
    {
     "data": {
      "text/latex": [
       "$\\displaystyle 0.566911504941009$"
      ],
      "text/plain": [
       "0.566911504941009"
      ]
     },
     "execution_count": 86,
     "metadata": {},
     "output_type": "execute_result"
    }
   ],
   "source": [
    "(atan(2/pi)).evalf()"
   ]
  },
  {
   "cell_type": "code",
   "execution_count": 151,
   "metadata": {},
   "outputs": [
    {
     "data": {
      "image/png": "[encoded data removed]",
      "text/plain": [
       "<Figure size 432x288 with 1 Axes>"
      ]
     },
     "metadata": {
      "needs_background": "light"
     },
     "output_type": "display_data"
    },
    {
     "data": {
      "text/plain": [
       "<sympy.plotting.plot.Plot at 0x7f9d9674d700>"
      ]
     },
     "execution_count": 151,
     "metadata": {},
     "output_type": "execute_result"
    }
   ],
   "source": [
    "plot((2*cos(theta)-pi*sin(theta)),(theta,0,pi))"
   ]
  },
  {
   "cell_type": "code",
   "execution_count": 152,
   "metadata": {},
   "outputs": [
    {
     "data": {
      "image/png": "[encoded data removed]",
      "text/plain": [
       "<Figure size 432x288 with 1 Axes>"
      ]
     },
     "metadata": {
      "needs_background": "light"
     },
     "output_type": "display_data"
    },
    {
     "data": {
      "text/plain": [
       "<sympy.plotting.plot.Plot at 0x7f9db7e8d040>"
      ]
     },
     "execution_count": 152,
     "metadata": {},
     "output_type": "execute_result"
    }
   ],
   "source": [
    "plot(cos(theta),(theta,0,pi))"
   ]
  },
  {
   "cell_type": "code",
   "execution_count": 157,
   "metadata": {},
   "outputs": [
    {
     "data": {
      "text/latex": [
       "$\\displaystyle \\int\\limits_{0}^{\\pi} i R \\left(\\frac{1}{2 \\left(- i e^{2 R e^{i \\theta} + i \\pi R e^{i \\theta}} + 1\\right) \\left(R e^{i \\theta} - 1\\right)} - \\frac{1}{2 \\left(i e^{2 R e^{i \\theta}} + 1\\right) \\left(R e^{i \\theta} - 1\\right)}\\right) e^{i \\theta}\\, d\\theta = \\int\\limits_{0}^{\\operatorname{atan}{\\left(\\frac{2}{\\pi} \\right)}} i R \\left(\\frac{1}{2 \\left(- i e^{2 R e^{i \\theta} + i \\pi R e^{i \\theta}} + 1\\right) \\left(R e^{i \\theta} - 1\\right)} - \\frac{1}{2 \\left(i e^{2 R e^{i \\theta}} + 1\\right) \\left(R e^{i \\theta} - 1\\right)}\\right) e^{i \\theta}\\, d\\theta + \\int\\limits_{\\frac{\\pi}{2}}^{\\pi} i R \\left(\\frac{1}{2 \\left(- i e^{2 R e^{i \\theta} + i \\pi R e^{i \\theta}} + 1\\right) \\left(R e^{i \\theta} - 1\\right)} - \\frac{1}{2 \\left(i e^{2 R e^{i \\theta}} + 1\\right) \\left(R e^{i \\theta} - 1\\right)}\\right) e^{i \\theta}\\, d\\theta + \\int\\limits_{\\operatorname{atan}{\\left(\\frac{2}{\\pi} \\right)}}^{\\frac{\\pi}{2}} i R \\left(\\frac{1}{2 \\left(- i e^{2 R e^{i \\theta} + i \\pi R e^{i \\theta}} + 1\\right) \\left(R e^{i \\theta} - 1\\right)} - \\frac{1}{2 \\left(i e^{2 R e^{i \\theta}} + 1\\right) \\left(R e^{i \\theta} - 1\\right)}\\right) e^{i \\theta}\\, d\\theta$"
      ],
      "text/plain": [
       "Eq(Integral(I*R*(1/(2*(-I*exp(2*R*exp(I*theta) + I*pi*R*exp(I*theta)) + 1)*(R*exp(I*theta) - 1)) - 1/(2*(I*exp(2*R*exp(I*theta)) + 1)*(R*exp(I*theta) - 1)))*exp(I*theta), (theta, 0, pi)), Integral(I*R*(1/(2*(-I*exp(2*R*exp(I*theta) + I*pi*R*exp(I*theta)) + 1)*(R*exp(I*theta) - 1)) - 1/(2*(I*exp(2*R*exp(I*theta)) + 1)*(R*exp(I*theta) - 1)))*exp(I*theta), (theta, 0, atan(2/pi))) + Integral(I*R*(1/(2*(-I*exp(2*R*exp(I*theta) + I*pi*R*exp(I*theta)) + 1)*(R*exp(I*theta) - 1)) - 1/(2*(I*exp(2*R*exp(I*theta)) + 1)*(R*exp(I*theta) - 1)))*exp(I*theta), (theta, pi/2, pi)) + Integral(I*R*(1/(2*(-I*exp(2*R*exp(I*theta) + I*pi*R*exp(I*theta)) + 1)*(R*exp(I*theta) - 1)) - 1/(2*(I*exp(2*R*exp(I*theta)) + 1)*(R*exp(I*theta) - 1)))*exp(I*theta), (theta, atan(2/pi), pi/2)))"
      ]
     },
     "execution_count": 157,
     "metadata": {},
     "output_type": "execute_result"
    }
   ],
   "source": [
    "Eq(Integral(integrand_1,(theta,0,pi)),\n",
    "   (Integral(integrand_1,(theta,0,atan(2/pi))) + \n",
    "    Integral(integrand_1,(theta,atan(2/pi),pi/2)) + \n",
    "    Integral(integrand_1,(theta,pi/2,pi)))\n",
    "  )"
   ]
  },
  {
   "cell_type": "code",
   "execution_count": 158,
   "metadata": {},
   "outputs": [
    {
     "data": {
      "text/latex": [
       "$\\displaystyle \\lim_{R \\to \\infty} \\int\\limits_{0}^{\\operatorname{atan}{\\left(\\frac{2}{\\pi} \\right)}} i R \\left(\\frac{1}{2 \\left(- i e^{2 R e^{i \\theta} + i \\pi R e^{i \\theta}} + 1\\right) \\left(R e^{i \\theta} - 1\\right)} - \\frac{1}{2 \\left(i e^{2 R e^{i \\theta}} + 1\\right) \\left(R e^{i \\theta} - 1\\right)}\\right) e^{i \\theta}\\, d\\theta = 0$"
      ],
      "text/plain": [
       "Eq(Limit(Integral(I*R*(1/(2*(-I*exp(2*R*exp(I*theta) + I*pi*R*exp(I*theta)) + 1)*(R*exp(I*theta) - 1)) - 1/(2*(I*exp(2*R*exp(I*theta)) + 1)*(R*exp(I*theta) - 1)))*exp(I*theta), (theta, 0, atan(2/pi))), R, oo, dir='-'), 0)"
      ]
     },
     "execution_count": 158,
     "metadata": {},
     "output_type": "execute_result"
    }
   ],
   "source": [
    "Eq(Limit(Integral(integrand_1,(theta,0,atan(2/pi))),R,oo),0)"
   ]
  },
  {
   "cell_type": "code",
   "execution_count": 162,
   "metadata": {},
   "outputs": [
    {
     "data": {
      "text/latex": [
       "$\\displaystyle 1.18321992148123 \\cdot 10^{-7} + 3.23313099291072 \\cdot 10^{-8} i$"
      ],
      "text/plain": [
       "1.18321992148123e-7 + 3.23313099291072e-8*I"
      ]
     },
     "execution_count": 162,
     "metadata": {},
     "output_type": "execute_result"
    }
   ],
   "source": [
    "Integral(integrand_1,(theta,0,atan(2/pi))).subs(R,10**6).evalf()"
   ]
  },
  {
   "cell_type": "code",
   "execution_count": 163,
   "metadata": {},
   "outputs": [
    {
     "data": {
      "text/latex": [
       "$\\displaystyle \\lim_{R \\to \\infty} \\int\\limits_{\\operatorname{atan}{\\left(\\frac{2}{\\pi} \\right)}}^{\\frac{\\pi}{2}} i R \\left(\\frac{1}{2 \\left(- i e^{2 R e^{i \\theta} + i \\pi R e^{i \\theta}} + 1\\right) \\left(R e^{i \\theta} - 1\\right)} - \\frac{1}{2 \\left(i e^{2 R e^{i \\theta}} + 1\\right) \\left(R e^{i \\theta} - 1\\right)}\\right) e^{i \\theta}\\, d\\theta = \\int\\limits_{\\operatorname{atan}{\\left(\\frac{2}{\\pi} \\right)}}^{\\frac{\\pi}{2}} \\frac{i}{2}\\, d\\theta$"
      ],
      "text/plain": [
       "Eq(Limit(Integral(I*R*(1/(2*(-I*exp(2*R*exp(I*theta) + I*pi*R*exp(I*theta)) + 1)*(R*exp(I*theta) - 1)) - 1/(2*(I*exp(2*R*exp(I*theta)) + 1)*(R*exp(I*theta) - 1)))*exp(I*theta), (theta, atan(2/pi), pi/2)), R, oo, dir='-'), Integral(I/2, (theta, atan(2/pi), pi/2)))"
      ]
     },
     "execution_count": 163,
     "metadata": {},
     "output_type": "execute_result"
    }
   ],
   "source": [
    "\n",
    "Eq(Limit(Integral(integrand_1,(theta,atan(2/pi),pi/2)),R,oo),Integral(I/2,(theta,atan(2/pi),pi/2)))"
   ]
  },
  {
   "cell_type": "code",
   "execution_count": 165,
   "metadata": {},
   "outputs": [
    {
     "data": {
      "text/latex": [
       "$\\displaystyle \\lim_{R \\to \\infty} \\int\\limits_{\\operatorname{atan}{\\left(\\frac{2}{\\pi} \\right)}}^{\\frac{\\pi}{2}} i R \\left(\\frac{1}{2 \\left(- i e^{2 R e^{i \\theta} + i \\pi R e^{i \\theta}} + 1\\right) \\left(R e^{i \\theta} - 1\\right)} - \\frac{1}{2 \\left(i e^{2 R e^{i \\theta}} + 1\\right) \\left(R e^{i \\theta} - 1\\right)}\\right) e^{i \\theta}\\, d\\theta = - \\frac{i \\operatorname{atan}{\\left(\\frac{2}{\\pi} \\right)}}{2} + \\frac{i \\pi}{4}$"
      ],
      "text/plain": [
       "Eq(Limit(Integral(I*R*(1/(2*(-I*exp(2*R*exp(I*theta) + I*pi*R*exp(I*theta)) + 1)*(R*exp(I*theta) - 1)) - 1/(2*(I*exp(2*R*exp(I*theta)) + 1)*(R*exp(I*theta) - 1)))*exp(I*theta), (theta, atan(2/pi), pi/2)), R, oo, dir='-'), -I*atan(2/pi)/2 + I*pi/4)"
      ]
     },
     "execution_count": 165,
     "metadata": {},
     "output_type": "execute_result"
    }
   ],
   "source": [
    "Eq(Limit(Integral(integrand_1,(theta,atan(2/pi),pi/2)),R,oo),integrate(I/2,(theta,atan(2/pi),pi/2)))"
   ]
  },
  {
   "cell_type": "code",
   "execution_count": 173,
   "metadata": {},
   "outputs": [
    {
     "data": {
      "text/latex": [
       "$\\displaystyle 4.331455484 \\cdot 10^{-7} + 0.501942460408217 i$"
      ],
      "text/plain": [
       "4.331455484e-7 + 0.501942460408217*I"
      ]
     },
     "execution_count": 173,
     "metadata": {},
     "output_type": "execute_result"
    }
   ],
   "source": [
    "Integral(integrand_1,(theta,atan(2/pi),pi/2)).subs(R,10**6).evalf()"
   ]
  },
  {
   "cell_type": "code",
   "execution_count": 170,
   "metadata": {},
   "outputs": [
    {
     "data": {
      "text/latex": [
       "$\\displaystyle 0.501942410926944 i$"
      ],
      "text/plain": [
       "0.501942410926944*I"
      ]
     },
     "execution_count": 170,
     "metadata": {},
     "output_type": "execute_result"
    }
   ],
   "source": [
    "integrate(I/2,(theta,atan(2/pi),pi/2)).evalf()"
   ]
  },
  {
   "cell_type": "code",
   "execution_count": 87,
   "metadata": {},
   "outputs": [
    {
     "data": {
      "text/latex": [
       "$\\displaystyle -1.06958269476997 \\cdot 10^{-7} + 1.49672641131739 \\cdot 10^{-7} i$"
      ],
      "text/plain": [
       "-1.06958269476997e-7 + 1.49672641131739e-7*I"
      ]
     },
     "execution_count": 87,
     "metadata": {},
     "output_type": "execute_result"
    }
   ],
   "source": [
    "Integral(integrand_1,(theta,pi/2,pi)).subs(R,10**6).evalf()"
   ]
  },
  {
   "cell_type": "code",
   "execution_count": 239,
   "metadata": {},
   "outputs": [
    {
     "data": {
      "text/latex": [
       "$\\displaystyle \\lim_{R \\to \\infty} \\int\\limits_{0}^{\\pi} i R \\left(\\frac{1}{2 \\left(- i e^{2 R e^{i \\theta} + i \\pi R e^{i \\theta}} + 1\\right) \\left(R e^{i \\theta} - 1\\right)} - \\frac{1}{2 \\left(i e^{2 R e^{i \\theta}} + 1\\right) \\left(R e^{i \\theta} - 1\\right)}\\right) e^{i \\theta}\\, d\\theta = - \\frac{i \\operatorname{atan}{\\left(\\frac{2}{\\pi} \\right)}}{2} + \\frac{i \\pi}{4}$"
      ],
      "text/plain": [
       "Eq(Limit(Integral(I*R*(1/(2*(-I*exp(2*R*exp(I*theta) + I*pi*R*exp(I*theta)) + 1)*(R*exp(I*theta) - 1)) - 1/(2*(I*exp(2*R*exp(I*theta)) + 1)*(R*exp(I*theta) - 1)))*exp(I*theta), (theta, 0, pi)), R, oo, dir='-'), -I*atan(2/pi)/2 + I*pi/4)"
      ]
     },
     "execution_count": 239,
     "metadata": {},
     "output_type": "execute_result"
    }
   ],
   "source": [
    "rad_limit =Eq(Limit(Integral(integrand_1,(theta,0,pi)),R,oo),-I*atan(2/pi)/2 + I*pi/4)\n",
    "rad_limit"
   ]
  },
  {
   "cell_type": "code",
   "execution_count": 12,
   "metadata": {},
   "outputs": [
    {
     "data": {
      "text/latex": [
       "$\\displaystyle 1.0 \\cdot 10^{-134} + 2.0 \\cdot 10^{-134} i$"
      ],
      "text/plain": [
       "0.e-134 + 0.e-134*I"
      ]
     },
     "execution_count": 12,
     "metadata": {},
     "output_type": "execute_result"
    }
   ],
   "source": [
    "(semic_part1 + semic_part2).subs([(R,0.5)]).evalf()"
   ]
  },
  {
   "cell_type": "code",
   "execution_count": 13,
   "metadata": {},
   "outputs": [
    {
     "data": {
      "text/latex": [
       "$\\displaystyle 0.763027083682328 - 0.971516256648286 i$"
      ],
      "text/plain": [
       "0.763027083682328 - 0.971516256648286*I"
      ]
     },
     "execution_count": 13,
     "metadata": {},
     "output_type": "execute_result"
    }
   ],
   "source": [
    "(semic_part1 + semic_part2).subs([(R,1)]).evalf()"
   ]
  },
  {
   "cell_type": "code",
   "execution_count": 37,
   "metadata": {},
   "outputs": [
    {
     "data": {
      "text/latex": [
       "$\\displaystyle 0.763027083682328 - 0.971516256648286 i$"
      ],
      "text/plain": [
       "0.763027083682328 - 0.971516256648286*I"
      ]
     },
     "execution_count": 37,
     "metadata": {},
     "output_type": "execute_result"
    }
   ],
   "source": [
    "(-2*I*pi/(4-I*pi)).evalf()"
   ]
  },
  {
   "cell_type": "code",
   "execution_count": 56,
   "metadata": {},
   "outputs": [
    {
     "data": {
      "text/latex": [
       "$\\displaystyle -6.0 \\cdot 10^{-104} + 3.0 \\cdot 10^{-104} i$"
      ],
      "text/plain": [
       "-0.e-103 + 0.e-104*I"
      ]
     },
     "execution_count": 56,
     "metadata": {},
     "output_type": "execute_result"
    }
   ],
   "source": [
    "(semic_part1 + semic_part2).subs([(R,2)]).evalf()"
   ]
  },
  {
   "cell_type": "code",
   "execution_count": 15,
   "metadata": {},
   "outputs": [
    {
     "data": {
      "text/latex": [
       "$\\displaystyle -2.0 \\cdot 10^{-124} + 4.0 \\cdot 10^{-124} i$"
      ],
      "text/plain": [
       "-0.e-124 + 0.e-124*I"
      ]
     },
     "execution_count": 15,
     "metadata": {},
     "output_type": "execute_result"
    }
   ],
   "source": [
    "(2*I*pi*(-1/(4-I*pi)-1/(-4+I*pi))).evalf()"
   ]
  },
  {
   "cell_type": "code",
   "execution_count": 113,
   "metadata": {},
   "outputs": [],
   "source": [
    "(semic_part1 + semic_part2).subs([(R,3)]).evalf()"
   ]
  },
  {
   "cell_type": "markdown",
   "metadata": {},
   "source": [
    "### Poles"
   ]
  },
  {
   "cell_type": "code",
   "execution_count": 14,
   "metadata": {
    "scrolled": true
   },
   "outputs": [
    {
     "data": {
      "text/latex": [
       "$\\displaystyle \\frac{1}{2 \\left(z - 1\\right) \\left(- i e^{2 z + i \\pi z} + 1\\right)} - \\frac{1}{2 \\left(z - 1\\right) \\left(i e^{2 z} + 1\\right)}$"
      ],
      "text/plain": [
       "1/(2*(z - 1)*(-I*exp(2*z + I*pi*z) + 1)) - 1/(2*(z - 1)*(I*exp(2*z) + 1))"
      ]
     },
     "execution_count": 14,
     "metadata": {},
     "output_type": "execute_result"
    }
   ],
   "source": [
    "term_1 = 1/(-exp(2*z+I*pi*z+I*pi/2)+1)/(z-1)/2\n",
    "term_2 = -1/(-exp(2*z-I*pi/2)+1)/(z-1)/2\n",
    "integrand_z = term_1 + term_2\n",
    "integrand_z"
   ]
  },
  {
   "cell_type": "markdown",
   "metadata": {},
   "source": [
    "#### First term"
   ]
  },
  {
   "cell_type": "code",
   "execution_count": 15,
   "metadata": {},
   "outputs": [
    {
     "data": {
      "text/latex": [
       "$\\displaystyle 2 z + i \\pi z + \\frac{i \\pi}{2} = 2 i \\pi n$"
      ],
      "text/plain": [
       "Eq(2*z + I*pi*z + I*pi/2, 2*I*pi*n)"
      ]
     },
     "execution_count": 15,
     "metadata": {},
     "output_type": "execute_result"
    }
   ],
   "source": [
    "Eq(2*z+I*pi*z+I*pi/2,2*n*I*pi)"
   ]
  },
  {
   "cell_type": "code",
   "execution_count": 16,
   "metadata": {
    "scrolled": true
   },
   "outputs": [
    {
     "data": {
      "text/latex": [
       "$\\displaystyle z = \\frac{\\pi \\left(1 - 4 n\\right)}{2 \\left(- \\pi + 2 i\\right)}$"
      ],
      "text/plain": [
       "Eq(z, pi*(1 - 4*n)/(2*(-pi + 2*I)))"
      ]
     },
     "execution_count": 16,
     "metadata": {},
     "output_type": "execute_result"
    }
   ],
   "source": [
    "Eq(z,solve(2*z+I*pi*z+I*pi/2-2*n*I*pi,z)[0])"
   ]
  },
  {
   "cell_type": "code",
   "execution_count": 20,
   "metadata": {},
   "outputs": [],
   "source": [
    "pole_set_1 = I*pi*(4*n-1)/2/(2+I*pi)"
   ]
  },
  {
   "cell_type": "code",
   "execution_count": 21,
   "metadata": {},
   "outputs": [
    {
     "data": {
      "text/latex": [
       "$\\displaystyle z = \\frac{i \\pi \\left(4 n - 1\\right)}{2 \\left(2 + i \\pi\\right)}$"
      ],
      "text/plain": [
       "Eq(z, I*pi*(4*n - 1)/(2*(2 + I*pi)))"
      ]
     },
     "execution_count": 21,
     "metadata": {},
     "output_type": "execute_result"
    }
   ],
   "source": [
    "Eq(z,pole_set_1)"
   ]
  },
  {
   "cell_type": "code",
   "execution_count": 47,
   "metadata": {},
   "outputs": [],
   "source": [
    "nnn=1"
   ]
  },
  {
   "cell_type": "code",
   "execution_count": 48,
   "metadata": {},
   "outputs": [
    {
     "data": {
      "text/latex": [
       "$\\displaystyle z = \\frac{3 i \\pi}{2 \\left(2 + i \\pi\\right)}$"
      ],
      "text/plain": [
       "Eq(z, 3*I*pi/(2*(2 + I*pi)))"
      ]
     },
     "execution_count": 48,
     "metadata": {},
     "output_type": "execute_result"
    }
   ],
   "source": [
    "Eq(z,pole_set_1).subs(n,nnn)"
   ]
  },
  {
   "cell_type": "code",
   "execution_count": 49,
   "metadata": {},
   "outputs": [
    {
     "data": {
      "text/latex": [
       "$\\displaystyle z = 1.067399341287 + 0.679527525675435 i$"
      ],
      "text/plain": [
       "Eq(z, 1.067399341287 + 0.679527525675435*I)"
      ]
     },
     "execution_count": 49,
     "metadata": {},
     "output_type": "execute_result"
    }
   ],
   "source": [
    "Eq(z,pole_set_1).subs(n,nnn).evalf()"
   ]
  },
  {
   "cell_type": "code",
   "execution_count": 50,
   "metadata": {},
   "outputs": [
    {
     "data": {
      "text/latex": [
       "$\\displaystyle \\left|{z}\\right| = 1.26534541210315$"
      ],
      "text/plain": [
       "Eq(Abs(z), 1.26534541210315)"
      ]
     },
     "execution_count": 50,
     "metadata": {},
     "output_type": "execute_result"
    }
   ],
   "source": [
    "Eq(abs(z),abs(pole_set_1)).subs(n,nnn).evalf()"
   ]
  },
  {
   "cell_type": "markdown",
   "metadata": {},
   "source": [
    "#### Second term"
   ]
  },
  {
   "cell_type": "code",
   "execution_count": 70,
   "metadata": {},
   "outputs": [
    {
     "data": {
      "text/latex": [
       "$\\displaystyle 2 z - \\frac{i \\pi}{2} = 2 i \\pi m$"
      ],
      "text/plain": [
       "Eq(2*z - I*pi/2, 2*I*pi*m)"
      ]
     },
     "execution_count": 70,
     "metadata": {},
     "output_type": "execute_result"
    }
   ],
   "source": [
    "Eq(2*z-I*pi/2,2*m*I*pi)"
   ]
  },
  {
   "cell_type": "code",
   "execution_count": 72,
   "metadata": {
    "scrolled": true
   },
   "outputs": [
    {
     "data": {
      "text/latex": [
       "$\\displaystyle z = \\frac{i \\pi \\left(4 m + 1\\right)}{4}$"
      ],
      "text/plain": [
       "Eq(z, I*pi*(4*m + 1)/4)"
      ]
     },
     "execution_count": 72,
     "metadata": {},
     "output_type": "execute_result"
    }
   ],
   "source": [
    "Eq(z,solve(2*z-I*pi/2-2*m*I*pi,z)[0])"
   ]
  },
  {
   "cell_type": "code",
   "execution_count": 25,
   "metadata": {},
   "outputs": [],
   "source": [
    "pole_set_2 = I*pi*(4*m+1)/4"
   ]
  },
  {
   "cell_type": "code",
   "execution_count": 26,
   "metadata": {},
   "outputs": [
    {
     "data": {
      "text/latex": [
       "$\\displaystyle z = \\frac{i \\pi \\left(4 m + 1\\right)}{4}$"
      ],
      "text/plain": [
       "Eq(z, I*pi*(4*m + 1)/4)"
      ]
     },
     "execution_count": 26,
     "metadata": {},
     "output_type": "execute_result"
    }
   ],
   "source": [
    "Eq(z, pole_set_2)"
   ]
  },
  {
   "cell_type": "code",
   "execution_count": 59,
   "metadata": {},
   "outputs": [],
   "source": [
    "mmm=0"
   ]
  },
  {
   "cell_type": "code",
   "execution_count": 60,
   "metadata": {},
   "outputs": [
    {
     "data": {
      "text/latex": [
       "$\\displaystyle z = \\frac{i \\pi}{4}$"
      ],
      "text/plain": [
       "Eq(z, I*pi/4)"
      ]
     },
     "execution_count": 60,
     "metadata": {},
     "output_type": "execute_result"
    }
   ],
   "source": [
    "Eq(z,pole_set_2).subs(m,mmm)"
   ]
  },
  {
   "cell_type": "code",
   "execution_count": 61,
   "metadata": {},
   "outputs": [
    {
     "data": {
      "text/latex": [
       "$\\displaystyle z = 0.785398163397448 i$"
      ],
      "text/plain": [
       "Eq(z, 0.785398163397448*I)"
      ]
     },
     "execution_count": 61,
     "metadata": {},
     "output_type": "execute_result"
    }
   ],
   "source": [
    "Eq(z,pole_set_2).subs(m,mmm).evalf()"
   ]
  },
  {
   "cell_type": "code",
   "execution_count": 62,
   "metadata": {
    "scrolled": true
   },
   "outputs": [
    {
     "data": {
      "text/latex": [
       "$\\displaystyle \\left|{z}\\right| = 0.785398163397448$"
      ],
      "text/plain": [
       "Eq(Abs(z), 0.785398163397448)"
      ]
     },
     "execution_count": 62,
     "metadata": {},
     "output_type": "execute_result"
    }
   ],
   "source": [
    "Eq(abs(z),abs(pole_set_2)).subs(m,mmm).evalf()"
   ]
  },
  {
   "cell_type": "markdown",
   "metadata": {},
   "source": [
    "### Residues"
   ]
  },
  {
   "cell_type": "code",
   "execution_count": 33,
   "metadata": {},
   "outputs": [
    {
     "data": {
      "text/latex": [
       "$\\displaystyle \\lim_{k \\to - \\frac{\\mu}{\\alpha}^+}\\left(\\frac{k + \\frac{\\mu}{\\alpha}}{\\left(- \\delta + k\\right) \\left(e^{\\alpha k + \\mu} - 1\\right)}\\right) = \\frac{1}{- \\alpha \\delta - \\mu}$"
      ],
      "text/plain": [
       "Eq(Limit((k + mu/alpha)/((-delta + k)*(exp(alpha*k + mu) - 1)), k, -mu/alpha), 1/(-alpha*delta - mu))"
      ]
     },
     "execution_count": 33,
     "metadata": {},
     "output_type": "execute_result"
    }
   ],
   "source": [
    "residue_expr_1 = Eq(Limit((k-(-mu/alpha))/(k-delta)*(1/(exp(mu+alpha*k)-1)),k,-mu/alpha),\n",
    "   limit((k-(-mu/alpha))/(k-delta)*(1/(exp(mu+alpha*k)-1)),k,-mu/alpha))\n",
    "residue_expr_1"
   ]
  },
  {
   "cell_type": "code",
   "execution_count": 34,
   "metadata": {},
   "outputs": [
    {
     "data": {
      "text/latex": [
       "$\\displaystyle \\frac{i \\pi \\left(4 n - 1\\right)}{2 \\left(2 + i \\pi\\right)}$"
      ],
      "text/plain": [
       "I*pi*(4*n - 1)/(2*(2 + I*pi))"
      ]
     },
     "execution_count": 34,
     "metadata": {},
     "output_type": "execute_result"
    }
   ],
   "source": [
    "pole_set_1"
   ]
  },
  {
   "cell_type": "code",
   "execution_count": 38,
   "metadata": {},
   "outputs": [
    {
     "data": {
      "text/latex": [
       "$\\displaystyle \\lim_{k \\to \\frac{i \\pi \\left(4 n - 1\\right)}{2 \\left(2 + i \\pi\\right)}^+}\\left(\\frac{k - \\frac{i \\pi \\left(4 n - 1\\right)}{2 \\left(2 + i \\pi\\right)}}{\\left(k - 1\\right) \\left(i e^{k \\left(2 + i \\pi\\right)} - 1\\right)}\\right) = \\frac{1}{\\frac{i \\pi \\left(4 n - 1\\right)}{2} - 2 - i \\pi}$"
      ],
      "text/plain": [
       "Eq(Limit((k - I*pi*(4*n - 1)/(2*(2 + I*pi)))/((k - 1)*(I*exp(k*(2 + I*pi)) - 1)), k, I*pi*(4*n - 1)/(2*(2 + I*pi))), 1/(I*pi*(4*n - 1)/2 - 2 - I*pi))"
      ]
     },
     "execution_count": 38,
     "metadata": {},
     "output_type": "execute_result"
    }
   ],
   "source": [
    "residue_expr_1.subs([(mu,-I*pi*(4*n-1)/2),(alpha,2+I*pi),(delta,1)]).subs(\n",
    "    exp(k*(2+I*pi)-I*pi*(4*n-1)/2), exp(k*(2+I*pi)+I*pi/2)\n",
    ")"
   ]
  },
  {
   "cell_type": "code",
   "execution_count": 39,
   "metadata": {},
   "outputs": [
    {
     "data": {
      "text/latex": [
       "$\\displaystyle \\frac{i \\pi \\left(4 m + 1\\right)}{4}$"
      ],
      "text/plain": [
       "I*pi*(4*m + 1)/4"
      ]
     },
     "execution_count": 39,
     "metadata": {},
     "output_type": "execute_result"
    }
   ],
   "source": [
    "pole_set_2"
   ]
  },
  {
   "cell_type": "code",
   "execution_count": 41,
   "metadata": {},
   "outputs": [
    {
     "data": {
      "text/latex": [
       "$\\displaystyle \\lim_{k \\to \\frac{i \\pi \\left(4 m + 1\\right)}{4}^+}\\left(\\frac{k - \\frac{i \\pi \\left(4 m + 1\\right)}{4}}{\\left(k - 1\\right) \\left(- i e^{2 k} - 1\\right)}\\right) = \\frac{1}{\\frac{i \\pi \\left(4 m + 1\\right)}{2} - 2}$"
      ],
      "text/plain": [
       "Eq(Limit((k - I*pi*(4*m + 1)/4)/((k - 1)*(-I*exp(2*k) - 1)), k, I*pi*(4*m + 1)/4), 1/(I*pi*(4*m + 1)/2 - 2))"
      ]
     },
     "execution_count": 41,
     "metadata": {},
     "output_type": "execute_result"
    }
   ],
   "source": [
    "residue_expr_1.subs([(mu,-I*pi*(4*m+1)/2),(alpha,2),(delta,1)]).subs(\n",
    "    exp(2*k-I*pi*(4*m+1)/2), exp(2*k-I*pi/2)\n",
    ")"
   ]
  },
  {
   "cell_type": "code",
   "execution_count": 42,
   "metadata": {},
   "outputs": [
    {
     "data": {
      "text/latex": [
       "$\\displaystyle \\frac{1}{2 \\left(z - 1\\right) \\left(- i e^{2 z + i \\pi z} + 1\\right)} - \\frac{1}{2 \\left(z - 1\\right) \\left(i e^{2 z} + 1\\right)}$"
      ],
      "text/plain": [
       "1/(2*(z - 1)*(-I*exp(2*z + I*pi*z) + 1)) - 1/(2*(z - 1)*(I*exp(2*z) + 1))"
      ]
     },
     "execution_count": 42,
     "metadata": {},
     "output_type": "execute_result"
    }
   ],
   "source": [
    "integrandz1"
   ]
  },
  {
   "cell_type": "code",
   "execution_count": 76,
   "metadata": {},
   "outputs": [
    {
     "data": {
      "text/latex": [
       "$\\displaystyle n > \\frac{1}{4}$"
      ],
      "text/plain": [
       "n > 1/4"
      ]
     },
     "execution_count": 76,
     "metadata": {},
     "output_type": "execute_result"
    }
   ],
   "source": [
    "((pole_set_1-pole_set_1.subs(I,-I))/2 > 0).simplify()"
   ]
  },
  {
   "cell_type": "code",
   "execution_count": 77,
   "metadata": {},
   "outputs": [
    {
     "data": {
      "text/latex": [
       "$\\displaystyle m > - \\frac{1}{4}$"
      ],
      "text/plain": [
       "m > -1/4"
      ]
     },
     "execution_count": 77,
     "metadata": {},
     "output_type": "execute_result"
    }
   ],
   "source": [
    "((pole_set_2-pole_set_2.subs(I,-I))/2 > 0).simplify()"
   ]
  },
  {
   "cell_type": "code",
   "execution_count": 71,
   "metadata": {},
   "outputs": [
    {
     "data": {
      "text/latex": [
       "$\\displaystyle - 2 i \\pi \\sum_{m=0}^{M} - \\frac{1}{i \\pi \\left(4 m + 1\\right) - 4} + 2 i \\pi \\sum_{n=1}^{N} - \\frac{1}{i \\pi \\left(4 n - 1\\right) - 4 - 2 i \\pi}$"
      ],
      "text/plain": [
       "-2*I*pi*Sum(-1/(I*pi*(4*m + 1) - 4), (m, 0, M)) + 2*I*pi*Sum(-1/(I*pi*(4*n - 1) - 4 - 2*I*pi), (n, 1, N))"
      ]
     },
     "execution_count": 71,
     "metadata": {},
     "output_type": "execute_result"
    }
   ],
   "source": [
    "residue_sum_1 = 2*I*pi*Sum(-1/(I*pi*(4*n-1)-4-2*I*pi),(n,1,N)) - 2*I*pi*Sum(-1/(I*pi*(4*m+1)-4),(m,0,M))\n",
    "residue_sum_1"
   ]
  },
  {
   "cell_type": "code",
   "execution_count": 65,
   "metadata": {},
   "outputs": [
    {
     "data": {
      "text/plain": [
       "[(-2*R*sqrt(4 + pi**2) + pi)/(4*pi), (2*R*sqrt(4 + pi**2) + pi)/(4*pi)]"
      ]
     },
     "execution_count": 65,
     "metadata": {},
     "output_type": "execute_result"
    }
   ],
   "source": [
    "solve(Eq(pole_set_1*(pole_set_1.subs(I,-I)), R**2),n)"
   ]
  },
  {
   "cell_type": "code",
   "execution_count": 66,
   "metadata": {},
   "outputs": [
    {
     "data": {
      "text/latex": [
       "$\\displaystyle n < \\frac{2 R \\sqrt{4 + \\pi^{2}} + \\pi}{4 \\pi}$"
      ],
      "text/plain": [
       "n < (2*R*sqrt(4 + pi**2) + pi)/(4*pi)"
      ]
     },
     "execution_count": 66,
     "metadata": {},
     "output_type": "execute_result"
    }
   ],
   "source": [
    "n < (2*R*sqrt(4 + pi**2) + pi)/(4*pi)"
   ]
  },
  {
   "cell_type": "code",
   "execution_count": 67,
   "metadata": {},
   "outputs": [
    {
     "data": {
      "text/plain": [
       "[(R - pi/4)/pi, -(R + pi/4)/pi]"
      ]
     },
     "execution_count": 67,
     "metadata": {},
     "output_type": "execute_result"
    }
   ],
   "source": [
    "solve(Eq(pole_set_2*(pole_set_2.subs(I,-I)), R**2),m)"
   ]
  },
  {
   "cell_type": "code",
   "execution_count": 68,
   "metadata": {},
   "outputs": [
    {
     "data": {
      "text/latex": [
       "$\\displaystyle m < \\frac{R - \\frac{\\pi}{4}}{\\pi}$"
      ],
      "text/plain": [
       "m < (R - pi/4)/pi"
      ]
     },
     "execution_count": 68,
     "metadata": {},
     "output_type": "execute_result"
    }
   ],
   "source": [
    "m < (R - pi/4)/pi"
   ]
  },
  {
   "cell_type": "code",
   "execution_count": 72,
   "metadata": {},
   "outputs": [
    {
     "data": {
      "text/latex": [
       "$\\displaystyle - 2 i \\pi \\sum_{m=0}^{\\left\\lfloor{\\frac{R - \\frac{\\pi}{4}}{\\pi}}\\right\\rfloor} - \\frac{1}{i \\pi \\left(4 m + 1\\right) - 4} + 2 i \\pi \\sum_{n=1}^{\\left\\lfloor{\\frac{2 R \\sqrt{4 + \\pi^{2}} + \\pi}{4 \\pi}}\\right\\rfloor} - \\frac{1}{i \\pi \\left(4 n - 1\\right) - 4 - 2 i \\pi}$"
      ],
      "text/plain": [
       "-2*I*pi*Sum(-1/(I*pi*(4*m + 1) - 4), (m, 0, floor((R - pi/4)/pi))) + 2*I*pi*Sum(-1/(I*pi*(4*n - 1) - 4 - 2*I*pi), (n, 1, floor((2*R*sqrt(4 + pi**2) + pi)/(4*pi))))"
      ]
     },
     "execution_count": 72,
     "metadata": {},
     "output_type": "execute_result"
    }
   ],
   "source": [
    "residue_sum_2 = residue_sum_1.subs([(M,floor((R - pi/4)/pi)),(N,floor((2*R*sqrt(4 + pi**2) + pi)/(4*pi)))])\n",
    "residue_sum_2"
   ]
  },
  {
   "cell_type": "code",
   "execution_count": 74,
   "metadata": {},
   "outputs": [
    {
     "data": {
      "text/latex": [
       "$\\displaystyle 2 i \\pi \\sum_{n=1}^{0} - \\frac{1}{i \\pi \\left(4 n - 1\\right) - 4 - 2 i \\pi} - 2 i \\pi \\sum_{m=0}^{0} - \\frac{1}{i \\pi \\left(4 m + 1\\right) - 4}$"
      ],
      "text/plain": [
       "2*I*pi*Sum(-1/(I*pi*(4*n - 1) - 4 - 2*I*pi), (n, 1, 0)) - 2*I*pi*Sum(-1/(I*pi*(4*m + 1) - 4), (m, 0, 0))"
      ]
     },
     "execution_count": 74,
     "metadata": {},
     "output_type": "execute_result"
    }
   ],
   "source": [
    "residue_sum_2.subs(R,1)"
   ]
  },
  {
   "cell_type": "code",
   "execution_count": 78,
   "metadata": {},
   "outputs": [
    {
     "data": {
      "text/latex": [
       "$\\displaystyle \\frac{2 i \\pi}{-4 + i \\pi}$"
      ],
      "text/plain": [
       "2*I*pi/(-4 + I*pi)"
      ]
     },
     "execution_count": 78,
     "metadata": {},
     "output_type": "execute_result"
    }
   ],
   "source": [
    "2*I*pi/(I*pi-4)"
   ]
  },
  {
   "cell_type": "code",
   "execution_count": 80,
   "metadata": {},
   "outputs": [
    {
     "data": {
      "text/latex": [
       "$\\displaystyle 0$"
      ],
      "text/plain": [
       "0"
      ]
     },
     "execution_count": 80,
     "metadata": {},
     "output_type": "execute_result"
    }
   ],
   "source": [
    "residue_sum_2.subs(R,2).doit()"
   ]
  },
  {
   "cell_type": "code",
   "execution_count": 83,
   "metadata": {},
   "outputs": [
    {
     "data": {
      "text/latex": [
       "$\\displaystyle - \\frac{2 i \\pi}{-4 + 5 i \\pi}$"
      ],
      "text/plain": [
       "-2*I*pi/(-4 + 5*I*pi)"
      ]
     },
     "execution_count": 83,
     "metadata": {},
     "output_type": "execute_result"
    }
   ],
   "source": [
    "residue_sum_2.subs(R,3).doit().expand()"
   ]
  },
  {
   "cell_type": "code",
   "execution_count": 84,
   "metadata": {},
   "outputs": [
    {
     "data": {
      "text/latex": [
       "$\\displaystyle -0.375641328614285 + 0.0956562788457128 i$"
      ],
      "text/plain": [
       "-0.375641328614285 + 0.0956562788457128*I"
      ]
     },
     "execution_count": 84,
     "metadata": {},
     "output_type": "execute_result"
    }
   ],
   "source": [
    "residue_sum_2.subs(R,3).doit().expand().evalf()"
   ]
  },
  {
   "cell_type": "code",
   "execution_count": 85,
   "metadata": {},
   "outputs": [
    {
     "data": {
      "text/latex": [
       "$\\displaystyle 0$"
      ],
      "text/plain": [
       "0"
      ]
     },
     "execution_count": 85,
     "metadata": {},
     "output_type": "execute_result"
    }
   ],
   "source": [
    "residue_sum_2.subs(R,4).doit().expand()"
   ]
  },
  {
   "cell_type": "code",
   "execution_count": 88,
   "metadata": {},
   "outputs": [
    {
     "data": {
      "text/latex": [
       "$\\displaystyle - \\frac{2 i \\pi}{-4 + 9 i \\pi}$"
      ],
      "text/plain": [
       "-2*I*pi/(-4 + 9*I*pi)"
      ]
     },
     "execution_count": 88,
     "metadata": {},
     "output_type": "execute_result"
    }
   ],
   "source": [
    "residue_sum_2.subs(R,5).doit().expand()"
   ]
  },
  {
   "cell_type": "code",
   "execution_count": 90,
   "metadata": {},
   "outputs": [
    {
     "data": {
      "text/latex": [
       "$\\displaystyle -0.217861920463805 + 0.0308211569362737 i$"
      ],
      "text/plain": [
       "-0.217861920463805 + 0.0308211569362737*I"
      ]
     },
     "execution_count": 90,
     "metadata": {},
     "output_type": "execute_result"
    }
   ],
   "source": [
    "residue_sum_2.subs(R,5).doit().evalf()"
   ]
  },
  {
   "cell_type": "code",
   "execution_count": 91,
   "metadata": {},
   "outputs": [
    {
     "data": {
      "text/latex": [
       "$\\displaystyle - \\frac{2 i \\pi}{-4 + 9 i \\pi}$"
      ],
      "text/plain": [
       "-2*I*pi/(-4 + 9*I*pi)"
      ]
     },
     "execution_count": 91,
     "metadata": {},
     "output_type": "execute_result"
    }
   ],
   "source": [
    "residue_sum_2.subs(R,6).doit().expand()"
   ]
  },
  {
   "cell_type": "code",
   "execution_count": 92,
   "metadata": {},
   "outputs": [
    {
     "data": {
      "text/latex": [
       "$\\displaystyle -0.217861920463805 + 0.0308211569362737 i$"
      ],
      "text/plain": [
       "-0.217861920463805 + 0.0308211569362737*I"
      ]
     },
     "execution_count": 92,
     "metadata": {},
     "output_type": "execute_result"
    }
   ],
   "source": [
    "residue_sum_2.subs(R,6).doit().evalf()"
   ]
  },
  {
   "cell_type": "code",
   "execution_count": 93,
   "metadata": {},
   "outputs": [
    {
     "data": {
      "text/latex": [
       "$\\displaystyle - \\frac{2 i \\pi}{-4 + 45 i \\pi} - \\frac{2 i \\pi}{-4 + 41 i \\pi} - \\frac{2 i \\pi}{-4 + 37 i \\pi} - \\frac{2 i \\pi}{-4 + 33 i \\pi} - \\frac{2 i \\pi}{-4 + 29 i \\pi}$"
      ],
      "text/plain": [
       "-2*I*pi/(-4 + 45*I*pi) - 2*I*pi/(-4 + 41*I*pi) - 2*I*pi/(-4 + 37*I*pi) - 2*I*pi/(-4 + 33*I*pi) - 2*I*pi/(-4 + 29*I*pi)"
      ]
     },
     "execution_count": 93,
     "metadata": {},
     "output_type": "execute_result"
    }
   ],
   "source": [
    "residue_sum_2.subs(R,20).doit().expand()"
   ]
  },
  {
   "cell_type": "code",
   "execution_count": 97,
   "metadata": {},
   "outputs": [
    {
     "data": {
      "text/latex": [
       "$\\displaystyle -0.310856107316786 + 1.1575210291557 \\cdot 10^{-5} i$"
      ],
      "text/plain": [
       "-0.310856107316786 + 1.1575210291557e-5*I"
      ]
     },
     "execution_count": 97,
     "metadata": {},
     "output_type": "execute_result"
    }
   ],
   "source": [
    "residue_sum_2.subs(R,20000).doit().evalf()"
   ]
  },
  {
   "cell_type": "markdown",
   "metadata": {},
   "source": [
    "### Limit of Residue Sum"
   ]
  },
  {
   "cell_type": "code",
   "execution_count": 106,
   "metadata": {},
   "outputs": [
    {
     "data": {
      "text/latex": [
       "$\\displaystyle - 2 i \\pi \\sum_{m=0}^{\\left\\lfloor{\\frac{R - \\frac{\\pi}{4}}{\\pi}}\\right\\rfloor} - \\frac{1}{i \\pi \\left(4 m + 1\\right) - 4} + 2 i \\pi \\sum_{n=1}^{\\left\\lfloor{\\frac{2 R \\sqrt{4 + \\pi^{2}} + \\pi}{4 \\pi}}\\right\\rfloor} - \\frac{1}{i \\pi \\left(4 n - 1\\right) - 4 - 2 i \\pi}$"
      ],
      "text/plain": [
       "-2*I*pi*Sum(-1/(I*pi*(4*m + 1) - 4), (m, 0, floor((R - pi/4)/pi))) + 2*I*pi*Sum(-1/(I*pi*(4*n - 1) - 4 - 2*I*pi), (n, 1, floor((2*R*sqrt(4 + pi**2) + pi)/(4*pi))))"
      ]
     },
     "execution_count": 106,
     "metadata": {},
     "output_type": "execute_result"
    }
   ],
   "source": [
    "(2*I*pi*Sum(-1/(I*pi*(4*n-1)-4-2*I*pi),(n,1,floor((2*R*sqrt(4 + pi**2) + pi)/(4*pi)))) - \n",
    " 2*I*pi*Sum(-1/(I*pi*(4*m+1)-4),(m,0,floor((R - pi/4)/pi))))"
   ]
  },
  {
   "cell_type": "code",
   "execution_count": 110,
   "metadata": {},
   "outputs": [
    {
     "data": {
      "text/latex": [
       "$\\displaystyle \\sum_{m=0}^{\\left\\lfloor{\\frac{R - \\frac{\\pi}{4}}{\\pi}}\\right\\rfloor} \\frac{2 i \\pi}{i \\pi \\left(4 m + 1\\right) - 4} - \\sum_{n=0}^{\\left\\lfloor{\\frac{2 R \\sqrt{4 + \\pi^{2}} + \\pi}{4 \\pi}}\\right\\rfloor - 1} \\frac{2 i \\pi}{i \\pi \\left(4 n + 1\\right) - 4}$"
      ],
      "text/plain": [
       "Sum(2*I*pi/(I*pi*(4*m + 1) - 4), (m, 0, floor((R - pi/4)/pi))) - Sum(2*I*pi/(I*pi*(4*n + 1) - 4), (n, 0, floor((2*R*sqrt(4 + pi**2) + pi)/(4*pi)) - 1))"
      ]
     },
     "execution_count": 110,
     "metadata": {},
     "output_type": "execute_result"
    }
   ],
   "source": [
    "(-Sum(2*I*pi/(I*pi*(4*n+1)-4),(n,0,floor((2*R*sqrt(4 + pi**2) + pi)/(4*pi))-1)) +\n",
    " Sum(2*I*pi/(I*pi*(4*m+1)-4),(m,0,floor((R - pi/4)/pi))))"
   ]
  },
  {
   "cell_type": "code",
   "execution_count": 111,
   "metadata": {},
   "outputs": [
    {
     "data": {
      "text/latex": [
       "$\\displaystyle - \\sum_{n=\\left\\lfloor{\\frac{R - \\frac{\\pi}{4}}{\\pi}}\\right\\rfloor + 1}^{\\left\\lfloor{\\frac{2 R \\sqrt{4 + \\pi^{2}} + \\pi}{4 \\pi}}\\right\\rfloor - 1} \\frac{2 i \\pi}{i \\pi \\left(4 n + 1\\right) - 4}$"
      ],
      "text/plain": [
       "-Sum(2*I*pi/(I*pi*(4*n + 1) - 4), (n, floor((R - pi/4)/pi) + 1, floor((2*R*sqrt(4 + pi**2) + pi)/(4*pi)) - 1))"
      ]
     },
     "execution_count": 111,
     "metadata": {},
     "output_type": "execute_result"
    }
   ],
   "source": [
    "-Sum(2*I*pi/(I*pi*(4*n+1)-4),(n,floor((R - pi/4)/pi)+1,floor((2*R*sqrt(4 + pi**2) + pi)/(4*pi))-1))"
   ]
  },
  {
   "cell_type": "code",
   "execution_count": 112,
   "metadata": {},
   "outputs": [
    {
     "data": {
      "text/latex": [
       "$\\displaystyle - \\sum_{n=0}^{- \\left\\lfloor{\\frac{R - \\frac{\\pi}{4}}{\\pi}}\\right\\rfloor + \\left\\lfloor{\\frac{2 R \\sqrt{4 + \\pi^{2}} + \\pi}{4 \\pi}}\\right\\rfloor - 2} \\frac{2 i \\pi}{i \\pi \\left(4 n + 4 \\left\\lfloor{\\frac{R - \\frac{\\pi}{4}}{\\pi}}\\right\\rfloor + 5\\right) - 4}$"
      ],
      "text/plain": [
       "-Sum(2*I*pi/(I*pi*(4*n + 4*floor((R - pi/4)/pi) + 5) - 4), (n, 0, -floor((R - pi/4)/pi) + floor((2*R*sqrt(4 + pi**2) + pi)/(4*pi)) - 2))"
      ]
     },
     "execution_count": 112,
     "metadata": {},
     "output_type": "execute_result"
    }
   ],
   "source": [
    "-Sum(2*I*pi/(I*pi*(4*(n+floor((R - pi/4)/pi)+1)+1)-4),\n",
    "     (n,0,floor((2*R*sqrt(4 + pi**2) + pi)/(4*pi))-1-(floor((R - pi/4)/pi)+1)))"
   ]
  },
  {
   "cell_type": "code",
   "execution_count": 123,
   "metadata": {},
   "outputs": [
    {
     "data": {
      "text/latex": [
       "$\\displaystyle \\frac{2 \\pi^{2} N}{\\pi^{2} N^{2} + 16}$"
      ],
      "text/plain": [
       "2*pi**2*N/(pi**2*N**2 + 16)"
      ]
     },
     "execution_count": 123,
     "metadata": {},
     "output_type": "execute_result"
    }
   ],
   "source": [
    "((2*I*pi/(I*pi*N-4)+(2*I*pi/(I*pi*N-4)).subs(I,-I))/2).simplify()"
   ]
  },
  {
   "cell_type": "code",
   "execution_count": 162,
   "metadata": {},
   "outputs": [
    {
     "data": {
      "text/latex": [
       "$\\displaystyle \\sum_{n=1}^{\\infty} \\frac{n}{a + n^{2}}$"
      ],
      "text/plain": [
       "Sum(n/(a + n**2), (n, 1, oo))"
      ]
     },
     "execution_count": 162,
     "metadata": {},
     "output_type": "execute_result"
    }
   ],
   "source": [
    "Sum(n/(n**2+a),(n,1,oo)).doit()"
   ]
  },
  {
   "cell_type": "code",
   "execution_count": 124,
   "metadata": {},
   "outputs": [
    {
     "data": {
      "text/latex": [
       "$\\displaystyle \\frac{8 i \\pi}{- \\pi^{2} N^{2} - 16}$"
      ],
      "text/plain": [
       "8*I*pi/(-pi**2*N**2 - 16)"
      ]
     },
     "execution_count": 124,
     "metadata": {},
     "output_type": "execute_result"
    }
   ],
   "source": [
    "((2*I*pi/(I*pi*N-4)-(2*I*pi/(I*pi*N-4)).subs(I,-I))/2).simplify()"
   ]
  },
  {
   "cell_type": "code",
   "execution_count": 137,
   "metadata": {},
   "outputs": [
    {
     "data": {
      "text/latex": [
       "$\\displaystyle -0.306789245559156 + 0.00114485327508744 i$"
      ],
      "text/plain": [
       "-0.306789245559156 + 0.00114485327508744*I"
      ]
     },
     "execution_count": 137,
     "metadata": {},
     "output_type": "execute_result"
    }
   ],
   "source": [
    "(-Sum(2*I*pi/(I*pi*(4*(n+floor((R - pi/4)/pi)+1)+1)-4),\n",
    "     (n,0,floor((2*R*sqrt(4 + pi**2) + pi)/(4*pi))-1-(floor((R - pi/4)/pi)+1)))).subs(R,200).evalf()"
   ]
  },
  {
   "cell_type": "code",
   "execution_count": 134,
   "metadata": {},
   "outputs": [
    {
     "data": {
      "text/latex": [
       "$\\displaystyle -0.306789245559156 + 0.00114485327508744 i$"
      ],
      "text/plain": [
       "-0.306789245559156 + 0.00114485327508744*I"
      ]
     },
     "execution_count": 134,
     "metadata": {},
     "output_type": "execute_result"
    }
   ],
   "source": [
    "((-Sum(2*I*pi/(I*pi*(4*n+1)-4),(n,0,floor((2*R*sqrt(4 + pi**2) + pi)/(4*pi))-1)) +\n",
    " Sum(2*I*pi/(I*pi*(4*m+1)-4),(m,0,floor((R - pi/4)/pi))))).subs(R,200).evalf()"
   ]
  },
  {
   "cell_type": "code",
   "execution_count": 156,
   "metadata": {},
   "outputs": [
    {
     "data": {
      "text/latex": [
       "$\\displaystyle -0.310856107316786$"
      ],
      "text/plain": [
       "-0.310856107316786"
      ]
     },
     "execution_count": 156,
     "metadata": {},
     "output_type": "execute_result"
    }
   ],
   "source": [
    "-Sum(2*pi**2*(4*(n+floor((R - pi/4)/pi)+1)+1)/(pi**2*(4*(n+floor((R - pi/4)/pi)+1)+1)**2+16),\n",
    "      (n, 0, floor((2*R*sqrt(4 + pi**2) + pi)/(4*pi))-1-(floor((R - pi/4)/pi)+1))).subs(R,20000).evalf()"
   ]
  },
  {
   "cell_type": "code",
   "execution_count": 157,
   "metadata": {},
   "outputs": [
    {
     "data": {
      "text/latex": [
       "$\\displaystyle - \\sum_{n=0}^{- \\left\\lfloor{\\frac{R - \\frac{\\pi}{4}}{\\pi}}\\right\\rfloor + \\left\\lfloor{\\frac{2 R \\sqrt{4 + \\pi^{2}} + \\pi}{4 \\pi}}\\right\\rfloor - 2} \\frac{2 \\pi^{2} \\left(4 n + 4 \\left\\lfloor{\\frac{R - \\frac{\\pi}{4}}{\\pi}}\\right\\rfloor + 5\\right)}{\\pi^{2} \\left(4 n + 4 \\left\\lfloor{\\frac{R - \\frac{\\pi}{4}}{\\pi}}\\right\\rfloor + 5\\right)^{2} + 16}$"
      ],
      "text/plain": [
       "-Sum(2*pi**2*(4*n + 4*floor((R - pi/4)/pi) + 5)/(pi**2*(4*n + 4*floor((R - pi/4)/pi) + 5)**2 + 16), (n, 0, -floor((R - pi/4)/pi) + floor((2*R*sqrt(4 + pi**2) + pi)/(4*pi)) - 2))"
      ]
     },
     "execution_count": 157,
     "metadata": {},
     "output_type": "execute_result"
    }
   ],
   "source": [
    "-Sum(2*pi**2*(4*(n+floor((R - pi/4)/pi)+1)+1)/(pi**2*(4*(n+floor((R - pi/4)/pi)+1)+1)**2+16),\n",
    "      (n, 0, floor((2*R*sqrt(4 + pi**2) + pi)/(4*pi))-1-(floor((R - pi/4)/pi)+1)))"
   ]
  },
  {
   "cell_type": "code",
   "execution_count": 166,
   "metadata": {},
   "outputs": [
    {
     "data": {
      "text/latex": [
       "$\\displaystyle \\sum_{n=1}^{N} \\frac{1}{- n + z} = \\operatorname{polygamma}{\\left(0,z \\right)} - \\operatorname{polygamma}{\\left(0,- N + z \\right)}$"
      ],
      "text/plain": [
       "Eq(Sum(1/(-n + z), (n, 1, N)), polygamma(0, z) - polygamma(0, -N + z))"
      ]
     },
     "execution_count": 166,
     "metadata": {},
     "output_type": "execute_result"
    }
   ],
   "source": [
    "digamma_sum = Eq(Sum(1/(z-n),(n,1,N)), digamma(z)-digamma(z-N))\n",
    "digamma_sum"
   ]
  },
  {
   "cell_type": "code",
   "execution_count": 195,
   "metadata": {},
   "outputs": [
    {
     "data": {
      "text/latex": [
       "$\\displaystyle \\sum_{n=0}^{N - 1} \\frac{1}{n + z} = - \\operatorname{polygamma}{\\left(0,z \\right)} + \\operatorname{polygamma}{\\left(0,N + z \\right)}$"
      ],
      "text/plain": [
       "Eq(Sum(1/(n + z), (n, 0, N - 1)), -polygamma(0, z) + polygamma(0, N + z))"
      ]
     },
     "execution_count": 195,
     "metadata": {},
     "output_type": "execute_result"
    }
   ],
   "source": [
    "digamma_sum2 = Eq(Sum(1/(z+n),(n,0,N-1)), digamma(z+N)-digamma(z))\n",
    "digamma_sum2"
   ]
  },
  {
   "cell_type": "code",
   "execution_count": 213,
   "metadata": {},
   "outputs": [
    {
     "data": {
      "text/latex": [
       "$\\displaystyle 2.23840343317281 + 2.16191019507 i$"
      ],
      "text/plain": [
       "2.23840343317281 + 2.16191019507*I"
      ]
     },
     "execution_count": 213,
     "metadata": {},
     "output_type": "execute_result"
    }
   ],
   "source": [
    "Sum(1/(z+n),(n,0,N-1)).subs([(N,40),(z,-I*pi-2)]).doit().evalf()"
   ]
  },
  {
   "cell_type": "code",
   "execution_count": 214,
   "metadata": {},
   "outputs": [
    {
     "data": {
      "text/latex": [
       "$\\displaystyle 2.23840343317281 + 2.16191019507 i$"
      ],
      "text/plain": [
       "2.23840343317281 + 2.16191019507*I"
      ]
     },
     "execution_count": 214,
     "metadata": {},
     "output_type": "execute_result"
    }
   ],
   "source": [
    "(digamma(z+N)-digamma(z)).subs([(N,40),(z,-I*pi-2)]).doit().evalf()"
   ]
  },
  {
   "cell_type": "code",
   "execution_count": 222,
   "metadata": {},
   "outputs": [
    {
     "data": {
      "text/latex": [
       "$\\displaystyle - \\frac{\\sum_{n=0}^{\\left\\lfloor{\\frac{2 R \\sqrt{4 + \\pi^{2}} + \\pi}{4 \\pi}}\\right\\rfloor - 1} \\frac{1}{n + \\frac{1}{4} + \\frac{i}{\\pi}}}{2} + \\frac{\\sum_{n=0}^{\\left\\lfloor{\\frac{R - \\frac{\\pi}{4}}{\\pi}}\\right\\rfloor} \\frac{1}{n + \\frac{1}{4} + \\frac{i}{\\pi}}}{2} = \\frac{\\operatorname{polygamma}{\\left(0,\\left\\lfloor{\\frac{R - \\frac{\\pi}{4}}{\\pi}}\\right\\rfloor + 1.25 + \\frac{i}{\\pi} \\right)}}{2} - \\frac{\\operatorname{polygamma}{\\left(0,\\left\\lfloor{\\frac{2 R \\sqrt{4 + \\pi^{2}} + \\pi}{4 \\pi}}\\right\\rfloor + 0.25 + \\frac{i}{\\pi} \\right)}}{2}$"
      ],
      "text/plain": [
       "Eq(-Sum(1/(n + 1/4 + I/pi), (n, 0, floor((2*R*sqrt(4 + pi**2) + pi)/(4*pi)) - 1))/2 + Sum(1/(n + 1/4 + I/pi), (n, 0, floor((R - pi/4)/pi)))/2, polygamma(0, floor((R - pi/4)/pi) + 1.25 + I/pi)/2 - polygamma(0, floor((2*R*sqrt(4 + pi**2) + pi)/(4*pi)) + 0.25 + I/pi)/2)"
      ]
     },
     "execution_count": 222,
     "metadata": {},
     "output_type": "execute_result"
    }
   ],
   "source": [
    "Eq((-Sum(1/(n+((I*pi-4)/(I*pi*4)).expand()),(n,0,floor((2*R*sqrt(4 + pi**2) + pi)/(4*pi))-1)) +\n",
    " Sum(1/(n+((I*pi-4)/(I*pi*4)).expand()),(n,0,floor((R - pi/4)/pi))))/2,\n",
    "   (-digamma(1/4+I/pi+floor((2*R*sqrt(4 + pi**2) + pi)/(4*pi)))+ digamma(1/4+I/pi+floor((R - pi/4)/pi)+1))/2\n",
    "  )"
   ]
  },
  {
   "cell_type": "code",
   "execution_count": 218,
   "metadata": {},
   "outputs": [
    {
     "data": {
      "text/latex": [
       "$\\displaystyle -0.276481308645715 + 0.00998479767088591 i$"
      ],
      "text/plain": [
       "-0.276481308645715 + 0.00998479767088591*I"
      ]
     },
     "execution_count": 218,
     "metadata": {},
     "output_type": "execute_result"
    }
   ],
   "source": [
    "((-Sum(1/(n+((I*pi-4)/(I*pi*4)).expand()),(n,0,floor((2*R*sqrt(4 + pi**2) + pi)/(4*pi))-1)) +\n",
    " Sum(1/(n+((I*pi-4)/(I*pi*4)).expand()),(n,0,floor((R - pi/4)/pi))))/2).subs(R,20).doit().evalf()"
   ]
  },
  {
   "cell_type": "code",
   "execution_count": 223,
   "metadata": {},
   "outputs": [
    {
     "data": {
      "text/latex": [
       "$\\displaystyle -0.276481308645715 + 0.00998479767088591 i$"
      ],
      "text/plain": [
       "-0.276481308645715 + 0.00998479767088591*I"
      ]
     },
     "execution_count": 223,
     "metadata": {},
     "output_type": "execute_result"
    }
   ],
   "source": [
    "(( (-digamma(1/4+I/pi+floor((2*R*sqrt(4 + pi**2) + pi)/(4*pi)))+ digamma(1/4+I/pi+floor((R - pi/4)/pi)+1))/2)\n",
    " .subs(R,20).evalf())"
   ]
  },
  {
   "cell_type": "markdown",
   "metadata": {},
   "source": [
    "Using the asymptotic expansion of the digamma function"
   ]
  },
  {
   "cell_type": "code",
   "execution_count": 230,
   "metadata": {},
   "outputs": [
    {
     "data": {
      "text/latex": [
       "$\\displaystyle \\lim_{R \\to \\infty}\\left(- \\frac{\\log{\\left(\\frac{\\left\\lfloor{\\frac{2 R \\sqrt{4 + \\pi^{2}} + \\pi}{4 \\pi}}\\right\\rfloor + 0.25 + \\frac{i}{\\pi}}{\\left\\lfloor{\\frac{R - \\frac{\\pi}{4}}{\\pi}}\\right\\rfloor + 1.25 + \\frac{i}{\\pi}} \\right)}}{2}\\right) = \\frac{- \\log{\\left(4 + \\pi^{2} \\right)} + 2 \\log{\\left(2 \\right)}}{4}$"
      ],
      "text/plain": [
       "Eq(Limit(-log((floor((2*R*sqrt(4 + pi**2) + pi)/(4*pi)) + 0.25 + I/pi)/(floor((R - pi/4)/pi) + 1.25 + I/pi))/2, R, oo, dir='-'), (-log(4 + pi**2) + 2*log(2))/4)"
      ]
     },
     "execution_count": 230,
     "metadata": {},
     "output_type": "execute_result"
    }
   ],
   "source": [
    "Eq(Limit(-ln((1/4+I/pi+floor((2*R*sqrt(4 + pi**2) + pi)/(4*pi)))/(1/4+I/pi+floor((R - pi/4)/pi)+1))/2,R,oo),\n",
    "   limit(-ln((1/4+I/pi+floor((2*R*sqrt(4 + pi**2) + pi)/(4*pi)))/(1/4+I/pi+floor((R - pi/4)/pi)+1))/2,R,oo)\n",
    "  )"
   ]
  },
  {
   "cell_type": "code",
   "execution_count": 241,
   "metadata": {},
   "outputs": [
    {
     "data": {
      "text/latex": [
       "$\\displaystyle \\lim_{R \\to \\infty}\\left(- \\frac{\\sum_{n=0}^{\\left\\lfloor{\\frac{2 R \\sqrt{4 + \\pi^{2}} + \\pi}{4 \\pi}}\\right\\rfloor - 1} \\frac{1}{n + \\frac{1}{4} + \\frac{i}{\\pi}}}{2} + \\frac{\\sum_{n=0}^{\\left\\lfloor{\\frac{R - \\frac{\\pi}{4}}{\\pi}}\\right\\rfloor} \\frac{1}{n + \\frac{1}{4} + \\frac{i}{\\pi}}}{2}\\right) = \\frac{- \\log{\\left(4 + \\pi^{2} \\right)} + 2 \\log{\\left(2 \\right)}}{4}$"
      ],
      "text/plain": [
       "Eq(Limit(-Sum(1/(n + 1/4 + I/pi), (n, 0, floor((2*R*sqrt(4 + pi**2) + pi)/(4*pi)) - 1))/2 + Sum(1/(n + 1/4 + I/pi), (n, 0, floor((R - pi/4)/pi)))/2, R, oo, dir='-'), (-log(4 + pi**2) + 2*log(2))/4)"
      ]
     },
     "execution_count": 241,
     "metadata": {},
     "output_type": "execute_result"
    }
   ],
   "source": [
    "residue_sum_limit = Eq(Limit((-Sum(1/(n+((I*pi-4)/(I*pi*4)).expand()),(n,0,floor((2*R*sqrt(4 + pi**2) + pi)/(4*pi))-1)) +\n",
    " Sum(1/(n+((I*pi-4)/(I*pi*4)).expand()),(n,0,floor((R - pi/4)/pi))))/2,R,oo),\n",
    "   limit(-ln((1/4+I/pi+floor((2*R*sqrt(4 + pi**2) + pi)/(4*pi)))/(1/4+I/pi+floor((R - pi/4)/pi)+1))/2,R,oo)\n",
    "  )\n",
    "residue_sum_limit"
   ]
  },
  {
   "cell_type": "code",
   "execution_count": 227,
   "metadata": {},
   "outputs": [
    {
     "data": {
      "text/latex": [
       "$\\displaystyle -0.310851337722182$"
      ],
      "text/plain": [
       "-0.310851337722182"
      ]
     },
     "execution_count": 227,
     "metadata": {},
     "output_type": "execute_result"
    }
   ],
   "source": [
    "limit(-ln((1/4+I/pi+floor((2*R*sqrt(4 + pi**2) + pi)/(4*pi)))/(1/4+I/pi+floor((R - pi/4)/pi)+1)),R,oo).evalf()/2"
   ]
  },
  {
   "cell_type": "markdown",
   "metadata": {},
   "source": [
    "## Result"
   ]
  },
  {
   "cell_type": "code",
   "execution_count": 105,
   "metadata": {
    "scrolled": true
   },
   "outputs": [
    {
     "data": {
      "text/latex": [
       "$\\displaystyle \\int\\limits_{0}^{\\pi} i R \\left(\\frac{1}{2 \\left(- i e^{2 R e^{i \\theta} + i \\pi R e^{i \\theta}} + 1\\right) \\left(R e^{i \\theta} - 1\\right)} - \\frac{1}{2 \\left(i e^{2 R e^{i \\theta}} + 1\\right) \\left(R e^{i \\theta} - 1\\right)}\\right) e^{i \\theta}\\, d\\theta + \\int\\limits_{- R}^{R} \\left(\\frac{1}{2 \\left(x - 1\\right) \\left(- i e^{2 x + i \\pi x} + 1\\right)} - \\frac{1}{2 \\left(x - 1\\right) \\left(i e^{2 x} + 1\\right)}\\right)\\, dx = - 2 i \\pi \\sum_{m=0}^{\\left\\lfloor{\\frac{R - \\frac{\\pi}{4}}{\\pi}}\\right\\rfloor} - \\frac{1}{i \\pi \\left(4 m + 1\\right) - 4} + 2 i \\pi \\sum_{n=1}^{\\left\\lfloor{\\frac{2 R \\sqrt{4 + \\pi^{2}} + \\pi}{4 \\pi}}\\right\\rfloor} - \\frac{1}{i \\pi \\left(4 n - 1\\right) - 4 - 2 i \\pi}$"
      ],
      "text/plain": [
       "Eq(Integral(I*R*(1/(2*(-I*exp(2*R*exp(I*theta) + I*pi*R*exp(I*theta)) + 1)*(R*exp(I*theta) - 1)) - 1/(2*(I*exp(2*R*exp(I*theta)) + 1)*(R*exp(I*theta) - 1)))*exp(I*theta), (theta, 0, pi)) + Integral(1/(2*(x - 1)*(-I*exp(2*x + I*pi*x) + 1)) - 1/(2*(x - 1)*(I*exp(2*x) + 1)), (x, -R, R)), -2*I*pi*Sum(-1/(I*pi*(4*m + 1) - 4), (m, 0, floor((R - pi/4)/pi))) + 2*I*pi*Sum(-1/(I*pi*(4*n - 1) - 4 - 2*I*pi), (n, 1, floor((2*R*sqrt(4 + pi**2) + pi)/(4*pi)))))"
      ]
     },
     "execution_count": 105,
     "metadata": {},
     "output_type": "execute_result"
    }
   ],
   "source": [
    "Eq(semic_part1 + semic_part2, residue_sum_2)"
   ]
  },
  {
   "cell_type": "code",
   "execution_count": 235,
   "metadata": {},
   "outputs": [
    {
     "data": {
      "text/latex": [
       "$\\displaystyle \\lim_{R \\to \\infty} \\int\\limits_{- R}^{R} \\left(\\frac{1}{2 \\left(x - 1\\right) \\left(- i e^{2 x + i \\pi x} + 1\\right)} - \\frac{1}{2 \\left(x - 1\\right) \\left(i e^{2 x} + 1\\right)}\\right)\\, dx = \\lim_{R \\to \\infty}\\left(- 2 i \\pi \\sum_{m=0}^{\\left\\lfloor{\\frac{R - \\frac{\\pi}{4}}{\\pi}}\\right\\rfloor} - \\frac{1}{i \\pi \\left(4 m + 1\\right) - 4} + 2 i \\pi \\sum_{n=1}^{\\left\\lfloor{\\frac{2 R \\sqrt{4 + \\pi^{2}} + \\pi}{4 \\pi}}\\right\\rfloor} - \\frac{1}{i \\pi \\left(4 n - 1\\right) - 4 - 2 i \\pi}\\right) - \\lim_{R \\to \\infty} \\int\\limits_{0}^{\\pi} i R \\left(\\frac{1}{2 \\left(- i e^{2 R e^{i \\theta} + i \\pi R e^{i \\theta}} + 1\\right) \\left(R e^{i \\theta} - 1\\right)} - \\frac{1}{2 \\left(i e^{2 R e^{i \\theta}} + 1\\right) \\left(R e^{i \\theta} - 1\\right)}\\right) e^{i \\theta}\\, d\\theta$"
      ],
      "text/plain": [
       "Eq(Limit(Integral(1/(2*(x - 1)*(-I*exp(2*x + I*pi*x) + 1)) - 1/(2*(x - 1)*(I*exp(2*x) + 1)), (x, -R, R)), R, oo, dir='-'), Limit(-2*I*pi*Sum(-1/(I*pi*(4*m + 1) - 4), (m, 0, floor((R - pi/4)/pi))) + 2*I*pi*Sum(-1/(I*pi*(4*n - 1) - 4 - 2*I*pi), (n, 1, floor((2*R*sqrt(4 + pi**2) + pi)/(4*pi)))), R, oo, dir='-') - Limit(Integral(I*R*(1/(2*(-I*exp(2*R*exp(I*theta) + I*pi*R*exp(I*theta)) + 1)*(R*exp(I*theta) - 1)) - 1/(2*(I*exp(2*R*exp(I*theta)) + 1)*(R*exp(I*theta) - 1)))*exp(I*theta), (theta, 0, pi)), R, oo, dir='-'))"
      ]
     },
     "execution_count": 235,
     "metadata": {},
     "output_type": "execute_result"
    }
   ],
   "source": [
    "Eq(Limit(semic_part1,R,oo) , Limit(residue_sum_2,R,oo) - Limit(semic_part2,R,oo))"
   ]
  },
  {
   "cell_type": "code",
   "execution_count": 242,
   "metadata": {},
   "outputs": [
    {
     "data": {
      "text/latex": [
       "$\\displaystyle \\lim_{R \\to \\infty}\\left(- \\frac{\\sum_{n=0}^{\\left\\lfloor{\\frac{2 R \\sqrt{4 + \\pi^{2}} + \\pi}{4 \\pi}}\\right\\rfloor - 1} \\frac{1}{n + \\frac{1}{4} + \\frac{i}{\\pi}}}{2} + \\frac{\\sum_{n=0}^{\\left\\lfloor{\\frac{R - \\frac{\\pi}{4}}{\\pi}}\\right\\rfloor} \\frac{1}{n + \\frac{1}{4} + \\frac{i}{\\pi}}}{2}\\right) = \\frac{- \\log{\\left(4 + \\pi^{2} \\right)} + 2 \\log{\\left(2 \\right)}}{4}$"
      ],
      "text/plain": [
       "Eq(Limit(-Sum(1/(n + 1/4 + I/pi), (n, 0, floor((2*R*sqrt(4 + pi**2) + pi)/(4*pi)) - 1))/2 + Sum(1/(n + 1/4 + I/pi), (n, 0, floor((R - pi/4)/pi)))/2, R, oo, dir='-'), (-log(4 + pi**2) + 2*log(2))/4)"
      ]
     },
     "execution_count": 242,
     "metadata": {},
     "output_type": "execute_result"
    }
   ],
   "source": [
    "residue_sum_limit"
   ]
  },
  {
   "cell_type": "code",
   "execution_count": 240,
   "metadata": {},
   "outputs": [
    {
     "data": {
      "text/latex": [
       "$\\displaystyle \\lim_{R \\to \\infty} \\int\\limits_{0}^{\\pi} i R \\left(\\frac{1}{2 \\left(- i e^{2 R e^{i \\theta} + i \\pi R e^{i \\theta}} + 1\\right) \\left(R e^{i \\theta} - 1\\right)} - \\frac{1}{2 \\left(i e^{2 R e^{i \\theta}} + 1\\right) \\left(R e^{i \\theta} - 1\\right)}\\right) e^{i \\theta}\\, d\\theta = - \\frac{i \\operatorname{atan}{\\left(\\frac{2}{\\pi} \\right)}}{2} + \\frac{i \\pi}{4}$"
      ],
      "text/plain": [
       "Eq(Limit(Integral(I*R*(1/(2*(-I*exp(2*R*exp(I*theta) + I*pi*R*exp(I*theta)) + 1)*(R*exp(I*theta) - 1)) - 1/(2*(I*exp(2*R*exp(I*theta)) + 1)*(R*exp(I*theta) - 1)))*exp(I*theta), (theta, 0, pi)), R, oo, dir='-'), -I*atan(2/pi)/2 + I*pi/4)"
      ]
     },
     "execution_count": 240,
     "metadata": {},
     "output_type": "execute_result"
    }
   ],
   "source": [
    "rad_limit"
   ]
  },
  {
   "cell_type": "code",
   "execution_count": 271,
   "metadata": {},
   "outputs": [
    {
     "data": {
      "text/latex": [
       "$\\displaystyle \\lim_{R \\to \\infty} \\int\\limits_{- R}^{R} \\left(\\frac{1}{2 \\left(x - 1\\right) \\left(- i e^{2 x + i \\pi x} + 1\\right)} - \\frac{1}{2 \\left(x - 1\\right) \\left(i e^{2 x} + 1\\right)}\\right)\\, dx = - \\frac{\\log{\\left(4 + \\pi^{2} \\right)}}{4} + \\frac{\\log{\\left(2 \\right)}}{2} - \\frac{i \\pi}{4} + \\frac{i \\operatorname{atan}{\\left(\\frac{2}{\\pi} \\right)}}{2}$"
      ],
      "text/plain": [
       "Eq(Limit(Integral(1/(2*(x - 1)*(-I*exp(2*x + I*pi*x) + 1)) - 1/(2*(x - 1)*(I*exp(2*x) + 1)), (x, -R, R)), R, oo, dir='-'), -log(4 + pi**2)/4 + log(2)/2 - I*pi/4 + I*atan(2/pi)/2)"
      ]
     },
     "execution_count": 271,
     "metadata": {},
     "output_type": "execute_result"
    }
   ],
   "source": [
    "result_1 = Eq(Limit(semic_part1,R,oo) , -log(4+pi**2)/4+2*log(2)/4 + I*atan(2/pi)/2 - I*pi/4)\n",
    "result_1"
   ]
  },
  {
   "cell_type": "code",
   "execution_count": 270,
   "metadata": {},
   "outputs": [
    {
     "data": {
      "text/latex": [
       "$\\displaystyle \\lim_{R \\to \\infty}\\left(\\int\\limits_{- R}^{R} \\left(- \\frac{1}{2 i x e^{2 x} + 2 x - 2 i e^{2 x} - 2}\\right)\\, dx + \\int\\limits_{- R}^{R} \\frac{1}{- 2 i x e^{2 x} e^{i \\pi x} + 2 x + 2 i e^{2 x} e^{i \\pi x} - 2}\\, dx\\right) = - \\frac{\\log{\\left(4 + \\pi^{2} \\right)}}{4} + \\frac{\\log{\\left(2 \\right)}}{2} - \\frac{i \\operatorname{atan}{\\left(\\frac{\\pi}{2} \\right)}}{2}$"
      ],
      "text/plain": [
       "Eq(Limit(Integral(-1/(2*I*x*exp(2*x) + 2*x - 2*I*exp(2*x) - 2), (x, -R, R)) + Integral(1/(-2*I*x*exp(2*x)*exp(I*pi*x) + 2*x + 2*I*exp(2*x)*exp(I*pi*x) - 2), (x, -R, R)), R, oo, dir='-'), -log(4 + pi**2)/4 + log(2)/2 - I*atan(pi/2)/2)"
      ]
     },
     "execution_count": 270,
     "metadata": {},
     "output_type": "execute_result"
    }
   ],
   "source": [
    "result_2 = result_1.subs(atan(2/pi),pi/2 - atan(pi/2)).expand()\n",
    "result_2"
   ]
  },
  {
   "cell_type": "code",
   "execution_count": 280,
   "metadata": {},
   "outputs": [
    {
     "data": {
      "text/latex": [
       "$\\displaystyle \\lim_{R \\to \\infty}\\left(\\int\\limits_{- R}^{R} \\left(- \\frac{1}{2 i x e^{2 x} + 2 x - 2 i e^{2 x} - 2}\\right)\\, dx + \\int\\limits_{- R}^{R} \\frac{1}{- 2 i x e^{2 x} e^{i \\pi x} + 2 x + 2 i e^{2 x} e^{i \\pi x} - 2}\\, dx\\right) = - \\frac{\\log{\\left(1 + \\frac{\\pi^{2}}{4} \\right)}}{4} - \\frac{i \\operatorname{atan}{\\left(\\frac{\\pi}{2} \\right)}}{2}$"
      ],
      "text/plain": [
       "Eq(Limit(Integral(-1/(2*I*x*exp(2*x) + 2*x - 2*I*exp(2*x) - 2), (x, -R, R)) + Integral(1/(-2*I*x*exp(2*x)*exp(I*pi*x) + 2*x + 2*I*exp(2*x)*exp(I*pi*x) - 2), (x, -R, R)), R, oo, dir='-'), -log(1 + pi**2/4)/4 - I*atan(pi/2)/2)"
      ]
     },
     "execution_count": 280,
     "metadata": {},
     "output_type": "execute_result"
    }
   ],
   "source": [
    "result_3 = result_2.subs(log(4+pi**2),log(1+pi**2/4) + log(4)).expand()\n",
    "result_3"
   ]
  },
  {
   "cell_type": "code",
   "execution_count": 5,
   "metadata": {},
   "outputs": [
    {
     "data": {
      "text/latex": [
       "$\\displaystyle 2 + i \\pi = \\sqrt{4 + \\pi^{2}} e^{i \\operatorname{atan}{\\left(\\frac{\\pi}{2} \\right)}}$"
      ],
      "text/plain": [
       "Eq(2 + I*pi, sqrt(4 + pi**2)*exp(I*atan(pi/2)))"
      ]
     },
     "execution_count": 5,
     "metadata": {},
     "output_type": "execute_result"
    }
   ],
   "source": [
    "Eq(2 + I*pi, sqrt(4+pi**2)*exp(I*(atan(pi/2))))"
   ]
  },
  {
   "cell_type": "code",
   "execution_count": 11,
   "metadata": {},
   "outputs": [
    {
     "data": {
      "text/latex": [
       "$\\displaystyle - \\log{\\left(\\sqrt{1 + \\frac{i \\pi}{2}} \\right)} = - \\frac{\\log{\\left(4 + \\pi^{2} \\right)}}{4} + \\frac{\\log{\\left(2 \\right)}}{2} - \\frac{i \\operatorname{atan}{\\left(\\frac{\\pi}{2} \\right)}}{2}$"
      ],
      "text/plain": [
       "Eq(-log(sqrt(1 + I*pi/2)), -log(4 + pi**2)/4 + log(2)/2 - I*atan(pi/2)/2)"
      ]
     },
     "execution_count": 11,
     "metadata": {},
     "output_type": "execute_result"
    }
   ],
   "source": [
    "Eq(-log(sqrt(1 + I*pi/2)), -log(4+pi**2)/4 - I*atan(pi/2)/2 +log(2)/2)"
   ]
  },
  {
   "cell_type": "code",
   "execution_count": 12,
   "metadata": {},
   "outputs": [
    {
     "data": {
      "text/latex": [
       "$\\displaystyle -0.310851337722182 - 0.501942410926944 i$"
      ],
      "text/plain": [
       "-0.310851337722182 - 0.501942410926944*I"
      ]
     },
     "execution_count": 12,
     "metadata": {},
     "output_type": "execute_result"
    }
   ],
   "source": [
    "-log(sqrt(1 + I*pi/2)).evalf()"
   ]
  },
  {
   "cell_type": "code",
   "execution_count": 250,
   "metadata": {},
   "outputs": [
    {
     "data": {
      "text/latex": [
       "$\\displaystyle -0.3108513376818 - 0.50194241098441 i$"
      ],
      "text/plain": [
       "-0.3108513376818 - 0.50194241098441*I"
      ]
     },
     "execution_count": 250,
     "metadata": {},
     "output_type": "execute_result"
    }
   ],
   "source": [
    "semic_part1.subs(R,9).evalf()"
   ]
  },
  {
   "cell_type": "code",
   "execution_count": 281,
   "metadata": {},
   "outputs": [
    {
     "data": {
      "text/latex": [
       "$\\displaystyle -0.310851337722182 - 0.501942410926944 i$"
      ],
      "text/plain": [
       "-0.310851337722182 - 0.501942410926944*I"
      ]
     },
     "execution_count": 281,
     "metadata": {},
     "output_type": "execute_result"
    }
   ],
   "source": [
    "(-log(1+pi**2/4)/4 - I*atan(pi/2)/2).evalf()"
   ]
  },
  {
   "cell_type": "code",
   "execution_count": 252,
   "metadata": {},
   "outputs": [
    {
     "data": {
      "text/latex": [
       "$\\displaystyle \\operatorname{atan}{\\left(z \\right)} = - \\frac{i \\log{\\left(\\frac{i z + 1}{- i z + 1} \\right)}}{2}$"
      ],
      "text/plain": [
       "Eq(atan(z), -I*log((I*z + 1)/(-I*z + 1))/2)"
      ]
     },
     "execution_count": 252,
     "metadata": {},
     "output_type": "execute_result"
    }
   ],
   "source": [
    "Eq(atan(z),-I/2*log((1+I*z)/(1-I*z)))"
   ]
  },
  {
   "cell_type": "code",
   "execution_count": 259,
   "metadata": {},
   "outputs": [
    {
     "data": {
      "text/latex": [
       "$\\displaystyle \\text{False}$"
      ],
      "text/plain": [
       "False"
      ]
     },
     "execution_count": 259,
     "metadata": {},
     "output_type": "execute_result"
    }
   ],
   "source": [
    "Eq(atan(z),-I/2*log((1+I*z)/(1-I*z))).subs(z,-0.356).evalf()"
   ]
  },
  {
   "cell_type": "code",
   "execution_count": 260,
   "metadata": {},
   "outputs": [
    {
     "data": {
      "text/latex": [
       "$\\displaystyle -0.342009999069821$"
      ],
      "text/plain": [
       "-0.342009999069821"
      ]
     },
     "execution_count": 260,
     "metadata": {},
     "output_type": "execute_result"
    }
   ],
   "source": [
    "(atan(z)).subs(z,-0.356).evalf()"
   ]
  },
  {
   "cell_type": "code",
   "execution_count": 261,
   "metadata": {},
   "outputs": [
    {
     "data": {
      "text/latex": [
       "$\\displaystyle -0.342009999069821 - 3.90157409763399 \\cdot 10^{-17} i$"
      ],
      "text/plain": [
       "-0.342009999069821 - 3.90157409763399e-17*I"
      ]
     },
     "execution_count": 261,
     "metadata": {},
     "output_type": "execute_result"
    }
   ],
   "source": [
    "(-I/2*log((1+I*z)/(1-I*z))).subs(z,-0.356).evalf()"
   ]
  },
  {
   "cell_type": "code",
   "execution_count": 264,
   "metadata": {},
   "outputs": [
    {
     "data": {
      "text/latex": [
       "$\\displaystyle \\operatorname{atan}{\\left(\\frac{2}{\\pi} \\right)} = - \\operatorname{atan}{\\left(\\frac{\\pi}{2} \\right)} + \\frac{\\pi}{2}$"
      ],
      "text/plain": [
       "Eq(atan(2/pi), -atan(pi/2) + pi/2)"
      ]
     },
     "execution_count": 264,
     "metadata": {},
     "output_type": "execute_result"
    }
   ],
   "source": [
    "Eq(atan(2/pi),pi/2 - atan(pi/2))"
   ]
  },
  {
   "cell_type": "code",
   "execution_count": 289,
   "metadata": {},
   "outputs": [
    {
     "data": {
      "text/latex": [
       "$\\displaystyle \\frac{- i e^{k \\left(- i \\pi s + 2\\right)} + i e^{k \\left(i \\pi s + 2\\right)} - 2}{4 \\left(k - 1\\right) \\left(i e^{k \\left(- i \\pi s + 2\\right)} + 1\\right) \\left(i e^{k \\left(i \\pi s + 2\\right)} - 1\\right)}$"
      ],
      "text/plain": [
       "(-I*exp(k*(-I*pi*s + 2)) + I*exp(k*(I*pi*s + 2)) - 2)/(4*(k - 1)*(I*exp(k*(-I*pi*s + 2)) + 1)*(I*exp(k*(I*pi*s + 2)) - 1))"
      ]
     },
     "execution_count": 289,
     "metadata": {},
     "output_type": "execute_result"
    }
   ],
   "source": [
    "(1/(-exp(2*k+s*I*pi*k+I*pi/2)+1)/(k-1)/4 + (1/(-exp(2*k+s*I*pi*k+I*pi/2)+1)/(k-1)/4).subs(I,-I)).simplify()"
   ]
  },
  {
   "cell_type": "code",
   "execution_count": null,
   "metadata": {},
   "outputs": [],
   "source": []
  }
 ],
 "metadata": {
  "kernelspec": {
   "display_name": "Python 3",
   "language": "python",
   "name": "python3"
  },
  "language_info": {
   "codemirror_mode": {
    "name": "ipython",
    "version": 3
   },
   "file_extension": ".py",
   "mimetype": "text/x-python",
   "name": "python",
   "nbconvert_exporter": "python",
   "pygments_lexer": "ipython3",
   "version": "3.8.5"
  }
 },
 "nbformat": 4,
 "nbformat_minor": 4
}
