{
 "cells": [
  {
   "cell_type": "markdown",
   "metadata": {},
   "source": [
    "# Integral representation of coth"
   ]
  },
  {
   "cell_type": "code",
   "execution_count": 2,
   "metadata": {},
   "outputs": [],
   "source": [
    "from sympy import *"
   ]
  },
  {
   "cell_type": "code",
   "execution_count": 3,
   "metadata": {},
   "outputs": [],
   "source": [
    "x, y, n, m, K, k, t, z, s, a, R, N, L, M, r = symbols('x, y, n, m, K, k, t, z, s, a, R, N, L, M, r')\n",
    "alpha, beta, delta, mu, nu, epsilon, theta, phi, omega = symbols('alpha, beta, delta, mu, nu, epsilon, theta, phi, omega')"
   ]
  },
  {
   "cell_type": "code",
   "execution_count": 72,
   "metadata": {},
   "outputs": [
    {
     "data": {
      "text/latex": [
       "$\\displaystyle \\int\\limits_{0}^{\\infty} \\frac{e^{\\alpha z}}{- i e^{\\beta z} + 1}\\, dz$"
      ],
      "text/plain": [
       "Integral(exp(alpha*z)/(-I*exp(beta*z) + 1), (z, 0, oo))"
      ]
     },
     "execution_count": 72,
     "metadata": {},
     "output_type": "execute_result"
    }
   ],
   "source": [
    "integral_1 = Integral(exp(alpha*z)/(1-I*exp(beta*z)),(z,0,oo))\n",
    "integral_1"
   ]
  },
  {
   "cell_type": "code",
   "execution_count": 11,
   "metadata": {},
   "outputs": [
    {
     "data": {
      "text/latex": [
       "$\\displaystyle \\sum_{n=0}^{\\infty} \\left(i e^{\\beta z}\\right)^{n} = \\begin{cases} \\frac{1}{- i e^{\\beta z} + 1} & \\text{for}\\: e^{\\operatorname{re}{\\left(\\beta z\\right)}} < 1 \\\\\\sum_{n=0}^{\\infty} \\left(i e^{\\beta z}\\right)^{n} & \\text{otherwise} \\end{cases}$"
      ],
      "text/plain": [
       "Eq(Sum((I*exp(beta*z))**n, (n, 0, oo)), Piecewise((1/(-I*exp(beta*z) + 1), exp(re(beta*z)) < 1), (Sum((I*exp(beta*z))**n, (n, 0, oo)), True)))"
      ]
     },
     "execution_count": 11,
     "metadata": {},
     "output_type": "execute_result"
    }
   ],
   "source": [
    "Eq(Sum((I*exp(beta*z))**n,(n,0,oo)),Sum((I*exp(beta*z))**n,(n,0,oo)).doit())"
   ]
  },
  {
   "cell_type": "code",
   "execution_count": 12,
   "metadata": {},
   "outputs": [
    {
     "data": {
      "text/latex": [
       "$\\displaystyle \\int\\limits_{0}^{\\infty} \\frac{e^{\\alpha z}}{- i e^{\\beta z} + 1}\\, dz = \\sum_{n=0}^{\\infty} \\int\\limits_{0}^{\\infty} i^{n} e^{\\alpha z} e^{\\beta n z}\\, dz$"
      ],
      "text/plain": [
       "Eq(Integral(exp(alpha*z)/(-I*exp(beta*z) + 1), (z, 0, oo)), Sum(Integral(I**n*exp(alpha*z)*exp(beta*n*z), (z, 0, oo)), (n, 0, oo)))"
      ]
     },
     "execution_count": 12,
     "metadata": {},
     "output_type": "execute_result"
    }
   ],
   "source": [
    "Eq(\n",
    "    Integral(exp(alpha*z)/(1-I*exp(beta*z)),(z,0,oo)),\n",
    "    Sum(Integral(I**n*exp(alpha*z)*exp(beta*z*n),(z,0,oo)),(n,0,oo))\n",
    ")"
   ]
  },
  {
   "cell_type": "code",
   "execution_count": 10,
   "metadata": {},
   "outputs": [
    {
     "data": {
      "text/latex": [
       "$\\displaystyle \\int\\limits_{0}^{\\infty} e^{\\delta z}\\, dz = \\begin{cases} - \\frac{1}{\\delta} & \\text{for}\\: \\left|{\\arg{\\left(\\delta \\right)} + \\pi}\\right| < \\frac{\\pi}{2} \\\\\\int\\limits_{0}^{\\infty} e^{\\delta z}\\, dz & \\text{otherwise} \\end{cases}$"
      ],
      "text/plain": [
       "Eq(Integral(exp(delta*z), (z, 0, oo)), Piecewise((-1/delta, Abs(arg(delta) + pi) < pi/2), (Integral(exp(delta*z), (z, 0, oo)), True)))"
      ]
     },
     "execution_count": 10,
     "metadata": {},
     "output_type": "execute_result"
    }
   ],
   "source": [
    "Eq(\n",
    "    Integral(exp(delta*z),(z,0,oo)),\n",
    "    Integral(exp(delta*z),(z,0,oo)).doit()\n",
    ")"
   ]
  },
  {
   "cell_type": "code",
   "execution_count": 14,
   "metadata": {
    "scrolled": false
   },
   "outputs": [
    {
     "data": {
      "text/latex": [
       "$\\displaystyle \\sum_{n=0}^{\\infty} \\int\\limits_{0}^{\\infty} i^{n} e^{\\alpha z} e^{\\beta n z}\\, dz = - \\sum_{n=0}^{\\infty} \\frac{i^{n}}{\\alpha + \\beta n}$"
      ],
      "text/plain": [
       "Eq(Sum(Integral(I**n*exp(alpha*z)*exp(beta*n*z), (z, 0, oo)), (n, 0, oo)), -Sum(I**n/(alpha + beta*n), (n, 0, oo)))"
      ]
     },
     "execution_count": 14,
     "metadata": {},
     "output_type": "execute_result"
    }
   ],
   "source": [
    "Eq(\n",
    "    Sum(Integral(I**n*exp(alpha*z)*exp(beta*z*n),(z,0,oo)),(n,0,oo)),\n",
    "    -Sum(I**n/(alpha + beta*n),(n,0,oo))\n",
    ")"
   ]
  },
  {
   "cell_type": "code",
   "execution_count": 16,
   "metadata": {},
   "outputs": [],
   "source": [
    "cn = I**n/(alpha + beta*n)"
   ]
  },
  {
   "cell_type": "code",
   "execution_count": 23,
   "metadata": {},
   "outputs": [
    {
     "data": {
      "text/latex": [
       "$\\displaystyle - \\sum_{n=0}^{\\infty} \\frac{i^{n}}{\\alpha + \\beta n} = - \\sum_{n=0}^{\\infty} \\left(\\frac{\\left(-1\\right) i}{\\alpha + \\beta \\left(4 n + 3\\right)} - \\frac{1}{\\alpha + \\beta \\left(4 n + 2\\right)} + \\frac{i}{\\alpha + \\beta \\left(4 n + 1\\right)} + \\frac{1}{\\alpha + 4 \\beta n}\\right)$"
      ],
      "text/plain": [
       "Eq(-Sum(I**n/(alpha + beta*n), (n, 0, oo)), -Sum((-I)/(alpha + beta*(4*n + 3)) - 1/(alpha + beta*(4*n + 2)) + I/(alpha + beta*(4*n + 1)) + 1/(alpha + 4*beta*n), (n, 0, oo)))"
      ]
     },
     "execution_count": 23,
     "metadata": {},
     "output_type": "execute_result"
    }
   ],
   "source": [
    "Eq(\n",
    "    -Sum(I**n/(alpha + beta*n),(n,0,oo)),\n",
    "    -Sum( (cn.subs(n, 4*n) + cn.subs(n, 4*n+1) + cn.subs(n, 4*n+2) + cn.subs(n, 4*n+3))\n",
    "         .subs([(I**(4*n), 1),(I**(4*n+1), I),(I**(4*n+2), -1),(I**(4*n+3), -I)]),(n,0,oo))\n",
    ")"
   ]
  },
  {
   "cell_type": "code",
   "execution_count": 56,
   "metadata": {},
   "outputs": [
    {
     "data": {
      "text/latex": [
       "$\\displaystyle - \\sum_{n=0}^{\\infty} \\left(\\frac{\\left(-1\\right) i}{\\alpha + \\beta \\left(4 n + 3\\right)} - \\frac{1}{\\alpha + \\beta \\left(4 n + 2\\right)} + \\frac{i}{\\alpha + \\beta \\left(4 n + 1\\right)} + \\frac{1}{\\alpha + 4 \\beta n}\\right) = \\frac{i \\sum_{n=0}^{\\infty} \\left(\\frac{1}{n + \\frac{\\alpha + 3 \\beta}{4 \\beta}} - \\frac{1}{n + \\frac{\\alpha + \\beta}{4 \\beta}}\\right)}{4 \\beta} - \\frac{\\sum_{n=0}^{\\infty} \\left(\\frac{1}{\\frac{\\alpha}{4 \\beta} + n} - \\frac{1}{n + \\frac{\\alpha + 2 \\beta}{4 \\beta}}\\right)}{4 \\beta}$"
      ],
      "text/plain": [
       "Eq(-Sum((-I)/(alpha + beta*(4*n + 3)) - 1/(alpha + beta*(4*n + 2)) + I/(alpha + beta*(4*n + 1)) + 1/(alpha + 4*beta*n), (n, 0, oo)), I*Sum(1/(n + (alpha + 3*beta)/(4*beta)) - 1/(n + (alpha + beta)/(4*beta)), (n, 0, oo))/(4*beta) - Sum(1/(alpha/(4*beta) + n) - 1/(n + (alpha + 2*beta)/(4*beta)), (n, 0, oo))/(4*beta))"
      ]
     },
     "execution_count": 56,
     "metadata": {},
     "output_type": "execute_result"
    }
   ],
   "source": [
    "Eq(\n",
    "    -Sum( (cn.subs(n, 4*n) + cn.subs(n, 4*n+1) + cn.subs(n, 4*n+2) + cn.subs(n, 4*n+3))\n",
    "         .subs([(I**(4*n), 1),(I**(4*n+1), I),(I**(4*n+2), -1),(I**(4*n+3), -I)]),(n,0,oo)),\n",
    "    -1/(4*beta)*Sum(-1/((alpha+beta*2)/(4*beta)+n)+1/((alpha)/(4*beta)+n),(n,0,oo))\n",
    "    +I/(4*beta)*Sum(1/((alpha+beta*3)/(4*beta)+n)-1/((alpha+beta)/(4*beta)+n),(n,0,oo))\n",
    ")"
   ]
  },
  {
   "cell_type": "code",
   "execution_count": 70,
   "metadata": {},
   "outputs": [
    {
     "data": {
      "text/latex": [
       "$\\displaystyle \\frac{i}{\\alpha + 3 \\beta} + \\frac{1}{\\alpha + 2 \\beta} - \\frac{i}{\\alpha + \\beta} + \\frac{\\operatorname{polygamma}{\\left(0,\\frac{\\alpha}{4 \\beta} + 1 \\right)} - \\operatorname{polygamma}{\\left(0,\\frac{\\alpha}{4 \\beta} + 1.5 \\right)}}{4 \\beta} - \\frac{i \\left(- \\operatorname{polygamma}{\\left(0,\\frac{\\alpha}{4 \\beta} + 1.25 \\right)} + \\operatorname{polygamma}{\\left(0,\\frac{\\alpha}{4 \\beta} + 1.75 \\right)}\\right)}{4 \\beta} - \\frac{1}{\\alpha}$"
      ],
      "text/plain": [
       "I/(alpha + 3*beta) + 1/(alpha + 2*beta) - I/(alpha + beta) + (polygamma(0, alpha/(4*beta) + 1) - polygamma(0, alpha/(4*beta) + 1.5))/(4*beta) - I*(-polygamma(0, alpha/(4*beta) + 1.25) + polygamma(0, alpha/(4*beta) + 1.75))/(4*beta) - 1/alpha"
      ]
     },
     "execution_count": 70,
     "metadata": {},
     "output_type": "execute_result"
    }
   ],
   "source": [
    "digammas = (\n",
    "    (digamma(alpha/(4*beta)+1) - digamma(alpha/(4*beta)+1/2+1))/(4*beta) \n",
    "    -I*(digamma(alpha/(4*beta)+3/4+1) - digamma(alpha/(4*beta)+1/4+1))/(4*beta) +\n",
    "    (-1/(4*beta)*(-1/((alpha+beta*2)/(4*beta)+n)+1/((alpha)/(4*beta)+n))).subs(n,0).expand() +\n",
    "    (I/(4*beta)*(1/((alpha+beta*3)/(4*beta)+n)-1/((alpha+beta)/(4*beta)+n))).subs(n,0).expand()\n",
    ")\n",
    "digammas"
   ]
  },
  {
   "cell_type": "code",
   "execution_count": 83,
   "metadata": {},
   "outputs": [
    {
     "data": {
      "text/latex": [
       "$\\displaystyle 0.153468474916569 - 0.62824503151678 i$"
      ],
      "text/plain": [
       "0.153468474916569 - 0.62824503151678*I"
      ]
     },
     "execution_count": 83,
     "metadata": {},
     "output_type": "execute_result"
    }
   ],
   "source": [
    "integral_1.subs([(alpha,-1/5-I),(beta,-2+I/3)]).evalf()"
   ]
  },
  {
   "cell_type": "code",
   "execution_count": 82,
   "metadata": {},
   "outputs": [
    {
     "data": {
      "text/latex": [
       "$\\displaystyle 0.153468474916569 - 0.62824503151678 i$"
      ],
      "text/plain": [
       "0.153468474916569 - 0.62824503151678*I"
      ]
     },
     "execution_count": 82,
     "metadata": {},
     "output_type": "execute_result"
    }
   ],
   "source": [
    "digammas.subs([(alpha,-1/5-I),(beta,-2+I/3)]).evalf()"
   ]
  },
  {
   "cell_type": "code",
   "execution_count": 44,
   "metadata": {},
   "outputs": [
    {
     "data": {
      "text/latex": [
       "$\\displaystyle 0.151902579327979 + 1.06041556344405 i$"
      ],
      "text/plain": [
       "0.151902579327979 + 1.06041556344405*I"
      ]
     },
     "execution_count": 44,
     "metadata": {},
     "output_type": "execute_result"
    }
   ],
   "source": [
    "-Sum((I**n/(alpha + beta*n)).subs([(alpha,-1/2+I),(beta,-2-I/3)]),(n,0,110)).evalf()"
   ]
  },
  {
   "cell_type": "code",
   "execution_count": 74,
   "metadata": {},
   "outputs": [
    {
     "data": {
      "text/latex": [
       "$\\displaystyle \\int\\limits_{0}^{\\infty} \\frac{e^{\\alpha z}}{- i e^{\\beta z} + 1}\\, dz = \\frac{i}{\\alpha + 3 \\beta} + \\frac{1}{\\alpha + 2 \\beta} - \\frac{i}{\\alpha + \\beta} + \\frac{\\operatorname{polygamma}{\\left(0,\\frac{\\alpha}{4 \\beta} + 1 \\right)} - \\operatorname{polygamma}{\\left(0,\\frac{\\alpha}{4 \\beta} + 1.5 \\right)}}{4 \\beta} - \\frac{i \\left(- \\operatorname{polygamma}{\\left(0,\\frac{\\alpha}{4 \\beta} + 1.25 \\right)} + \\operatorname{polygamma}{\\left(0,\\frac{\\alpha}{4 \\beta} + 1.75 \\right)}\\right)}{4 \\beta} - \\frac{1}{\\alpha}$"
      ],
      "text/plain": [
       "Eq(Integral(exp(alpha*z)/(-I*exp(beta*z) + 1), (z, 0, oo)), I/(alpha + 3*beta) + 1/(alpha + 2*beta) - I/(alpha + beta) + (polygamma(0, alpha/(4*beta) + 1) - polygamma(0, alpha/(4*beta) + 1.5))/(4*beta) - I*(-polygamma(0, alpha/(4*beta) + 1.25) + polygamma(0, alpha/(4*beta) + 1.75))/(4*beta) - 1/alpha)"
      ]
     },
     "execution_count": 74,
     "metadata": {},
     "output_type": "execute_result"
    }
   ],
   "source": [
    "Eq(integral_1, digammas)"
   ]
  },
  {
   "cell_type": "code",
   "execution_count": 85,
   "metadata": {},
   "outputs": [
    {
     "data": {
      "text/latex": [
       "$\\displaystyle \\int \\operatorname{polygamma}{\\left(0,\\frac{\\alpha}{4 \\beta} + 1 \\right)}\\, d\\alpha$"
      ],
      "text/plain": [
       "Integral(polygamma(0, alpha/(4*beta) + 1), alpha)"
      ]
     },
     "execution_count": 85,
     "metadata": {},
     "output_type": "execute_result"
    }
   ],
   "source": [
    "Integral(digamma(alpha/(4*beta)+1),alpha).doit()"
   ]
  },
  {
   "cell_type": "code",
   "execution_count": 86,
   "metadata": {},
   "outputs": [
    {
     "data": {
      "text/latex": [
       "$\\displaystyle \\frac{\\log{\\left(n + x \\right)}}{\\alpha + n^{2}}$"
      ],
      "text/plain": [
       "log(n + x)/(alpha + n**2)"
      ]
     },
     "execution_count": 86,
     "metadata": {},
     "output_type": "execute_result"
    }
   ],
   "source": [
    "ln(n+x)/(n**2+alpha)"
   ]
  },
  {
   "cell_type": "code",
   "execution_count": 90,
   "metadata": {},
   "outputs": [
    {
     "data": {
      "text/latex": [
       "$\\displaystyle \\frac{1}{\\left(\\alpha^{2} + n^{2}\\right) \\left(n + x\\right)}$"
      ],
      "text/plain": [
       "1/((alpha**2 + n**2)*(n + x))"
      ]
     },
     "execution_count": 90,
     "metadata": {},
     "output_type": "execute_result"
    }
   ],
   "source": [
    "diff(ln(n+x)/(n**2+alpha**2),x)"
   ]
  },
  {
   "cell_type": "code",
   "execution_count": 92,
   "metadata": {},
   "outputs": [
    {
     "data": {
      "text/latex": [
       "$\\displaystyle \\sum_{n=1}^{\\infty} \\frac{1}{\\left(\\alpha^{2} + n^{2}\\right) \\left(n + x\\right)}$"
      ],
      "text/plain": [
       "Sum(1/((alpha**2 + n**2)*(n + x)), (n, 1, oo))"
      ]
     },
     "execution_count": 92,
     "metadata": {},
     "output_type": "execute_result"
    }
   ],
   "source": [
    "Sum(1/(n+x)/(n**2+alpha**2),(n,1,oo)).doit()"
   ]
  },
  {
   "cell_type": "code",
   "execution_count": 93,
   "metadata": {},
   "outputs": [],
   "source": [
    "# https://www.researchgate.net/publication/243066953_The_Laplace_transform_of_the_psi_function"
   ]
  },
  {
   "cell_type": "code",
   "execution_count": 95,
   "metadata": {},
   "outputs": [
    {
     "data": {
      "text/latex": [
       "$\\displaystyle 2 a \\sum_{n=1}^{\\infty} \\frac{\\log{\\left(n \\right)}}{a^{2} + 4 \\pi^{2} n^{2}}$"
      ],
      "text/plain": [
       "2*a*Sum(log(n)/(a**2 + 4*pi**2*n**2), (n, 1, oo))"
      ]
     },
     "execution_count": 95,
     "metadata": {},
     "output_type": "execute_result"
    }
   ],
   "source": [
    "2*a*Sum(ln(n)/(a**2 + 4*n**2*pi**2),(n,1,oo))"
   ]
  },
  {
   "cell_type": "code",
   "execution_count": 102,
   "metadata": {},
   "outputs": [
    {
     "data": {
      "text/latex": [
       "$\\displaystyle \\int \\frac{1}{n + x}\\, dx = \\log{\\left(n + x \\right)}$"
      ],
      "text/plain": [
       "Eq(Integral(1/(n + x), x), log(n + x))"
      ]
     },
     "execution_count": 102,
     "metadata": {},
     "output_type": "execute_result"
    }
   ],
   "source": [
    "Eq(Integral(1/(n+x),x), Integral(1/(n+x),x).doit())"
   ]
  },
  {
   "cell_type": "code",
   "execution_count": 104,
   "metadata": {},
   "outputs": [
    {
     "data": {
      "text/latex": [
       "$\\displaystyle 2 a \\sum_{n=1}^{\\infty} \\frac{\\log{\\left(\\beta + n \\right)}}{a^{2} + 4 \\pi^{2} n^{2}}$"
      ],
      "text/plain": [
       "2*a*Sum(log(beta + n)/(a**2 + 4*pi**2*n**2), (n, 1, oo))"
      ]
     },
     "execution_count": 104,
     "metadata": {},
     "output_type": "execute_result"
    }
   ],
   "source": [
    "2*a*Sum(ln(n+beta)/(a**2 + 4*n**2*pi**2),(n,1,oo))"
   ]
  },
  {
   "cell_type": "code",
   "execution_count": 105,
   "metadata": {},
   "outputs": [
    {
     "data": {
      "text/latex": [
       "$\\displaystyle 2 a \\sum_{n=1}^{\\infty} \\frac{1}{\\left(a^{2} + 4 \\pi^{2} n^{2}\\right) \\left(\\beta + n\\right)}$"
      ],
      "text/plain": [
       "2*a*Sum(1/((a**2 + 4*pi**2*n**2)*(beta + n)), (n, 1, oo))"
      ]
     },
     "execution_count": 105,
     "metadata": {},
     "output_type": "execute_result"
    }
   ],
   "source": [
    "2*a*Sum(diff(ln(n+beta),beta)/(a**2 + 4*n**2*pi**2),(n,1,oo))"
   ]
  },
  {
   "cell_type": "code",
   "execution_count": 106,
   "metadata": {},
   "outputs": [
    {
     "data": {
      "text/latex": [
       "$\\displaystyle 2 a \\sum_{n=1}^{\\infty} \\frac{1}{\\left(a^{2} + 4 \\pi^{2} n^{2}\\right) \\left(\\beta + n\\right)}$"
      ],
      "text/plain": [
       "2*a*Sum(1/((a**2 + 4*pi**2*n**2)*(beta + n)), (n, 1, oo))"
      ]
     },
     "execution_count": 106,
     "metadata": {},
     "output_type": "execute_result"
    }
   ],
   "source": [
    "2*a*Sum(diff(ln(n+beta),beta)/(a**2 + 4*n**2*pi**2),(n,1,oo)).doit()"
   ]
  },
  {
   "cell_type": "code",
   "execution_count": 107,
   "metadata": {},
   "outputs": [
    {
     "data": {
      "text/latex": [
       "$\\displaystyle \\frac{2 a}{a^{2} + 4 \\pi^{2} n^{2}}$"
      ],
      "text/plain": [
       "2*a/(a**2 + 4*pi**2*n**2)"
      ]
     },
     "execution_count": 107,
     "metadata": {},
     "output_type": "execute_result"
    }
   ],
   "source": [
    "(1/(a+2*I*pi*n)+1/(a-2*I*pi*n)).simplify()"
   ]
  },
  {
   "cell_type": "code",
   "execution_count": 109,
   "metadata": {},
   "outputs": [
    {
     "data": {
      "text/latex": [
       "$\\displaystyle \\begin{cases} \\frac{\\frac{\\left(- a \\beta - a - 2 i \\pi \\beta - 2 i \\pi\\right) \\Phi\\left(1, 1, \\frac{\\left(a + 2 i \\pi\\right) e^{\\frac{3 i \\pi}{2}}}{2 \\pi}\\right)}{a - 2 i \\pi \\beta} + \\frac{\\left(a \\beta + a + 2 i \\pi \\beta + 2 i \\pi\\right) \\Phi\\left(1, 1, \\beta + 1\\right)}{a - 2 i \\pi \\beta}}{\\left(a + 2 i \\pi\\right) \\left(\\beta + 1\\right)} & \\text{for}\\: \\frac{\\operatorname{im}{\\left(a\\right)} + 2 \\pi}{2 \\pi} - \\frac{\\operatorname{im}{\\left(a\\right)} + 4 \\pi}{2 \\pi} < 0 \\\\\\sum_{n=1}^{\\infty} \\frac{1}{a \\beta + a n + 2 i \\pi \\beta n + 2 i \\pi n^{2}} & \\text{otherwise} \\end{cases}$"
      ],
      "text/plain": [
       "Piecewise((((-a*beta - a - 2*I*pi*beta - 2*I*pi)*lerchphi(1, 1, (a + 2*I*pi)*exp_polar(3*I*pi/2)/(2*pi))/(a - 2*I*pi*beta) + (a*beta + a + 2*I*pi*beta + 2*I*pi)*lerchphi(1, 1, beta + 1)/(a - 2*I*pi*beta))/((a + 2*I*pi)*(beta + 1)), (im(a) + 2*pi)/(2*pi) - (im(a) + 4*pi)/(2*pi) < 0), (Sum(1/(a*beta + a*n + 2*I*pi*beta*n + 2*I*pi*n**2), (n, 1, oo)), True))"
      ]
     },
     "execution_count": 109,
     "metadata": {},
     "output_type": "execute_result"
    }
   ],
   "source": [
    "Sum(1/(a+2*I*pi*n)/(beta+n),(n,1,oo)).doit()"
   ]
  },
  {
   "cell_type": "code",
   "execution_count": 117,
   "metadata": {},
   "outputs": [
    {
     "data": {
      "text/latex": [
       "$\\displaystyle \\frac{\\mu}{a + 2 i \\pi n} + \\frac{\\nu}{\\beta + n} = \\frac{\\mu \\left(\\beta + n\\right) + \\nu \\left(a + 2 i \\pi n\\right)}{\\left(a + 2 i \\pi n\\right) \\left(\\beta + n\\right)}$"
      ],
      "text/plain": [
       "Eq(mu/(a + 2*I*pi*n) + nu/(beta + n), (mu*(beta + n) + nu*(a + 2*I*pi*n))/((a + 2*I*pi*n)*(beta + n)))"
      ]
     },
     "execution_count": 117,
     "metadata": {},
     "output_type": "execute_result"
    }
   ],
   "source": [
    "eq1 = Eq(\n",
    "    mu/(a+2*I*pi*n) + nu/(n+beta),\n",
    "    (mu*(n+beta)+nu*(a+2*I*pi*n))/(a+2*I*pi*n)/(n+beta)\n",
    ")\n",
    "eq1"
   ]
  },
  {
   "cell_type": "code",
   "execution_count": 127,
   "metadata": {},
   "outputs": [
    {
     "data": {
      "text/latex": [
       "$\\displaystyle \\frac{\\nu \\left(a - 2 i \\pi \\beta\\right)}{a \\beta + a n + 2 i \\pi \\beta n + 2 i \\pi n^{2}}$"
      ],
      "text/plain": [
       "nu*(a - 2*I*pi*beta)/(a*beta + a*n + 2*I*pi*beta*n + 2*I*pi*n**2)"
      ]
     },
     "execution_count": 127,
     "metadata": {},
     "output_type": "execute_result"
    }
   ],
   "source": [
    "((mu*(n+beta)+nu*(a+2*I*pi*n))/(a+2*I*pi*n)/(n+beta)).subs(mu,-nu*2*I*pi).expand().simplify()"
   ]
  },
  {
   "cell_type": "code",
   "execution_count": 130,
   "metadata": {},
   "outputs": [
    {
     "data": {
      "text/latex": [
       "$\\displaystyle \\frac{1}{\\left(a - 2 i \\pi \\beta\\right) \\left(\\beta + n\\right)} - \\frac{2 i \\pi}{\\left(a - 2 i \\pi \\beta\\right) \\left(a + 2 i \\pi n\\right)}$"
      ],
      "text/plain": [
       "1/((a - 2*I*pi*beta)*(beta + n)) - 2*I*pi/((a - 2*I*pi*beta)*(a + 2*I*pi*n))"
      ]
     },
     "execution_count": 130,
     "metadata": {},
     "output_type": "execute_result"
    }
   ],
   "source": [
    "(mu/(a+2*I*pi*n) + nu/(n+beta)).subs(mu,-nu*2*I*pi).subs(nu,1/(a-2*I*pi*beta))"
   ]
  },
  {
   "cell_type": "code",
   "execution_count": 8,
   "metadata": {},
   "outputs": [],
   "source": [
    "# https://en.wikipedia.org/wiki/Frullani_integral"
   ]
  },
  {
   "cell_type": "code",
   "execution_count": null,
   "metadata": {},
   "outputs": [],
   "source": []
  }
 ],
 "metadata": {
  "kernelspec": {
   "display_name": "Python 3",
   "language": "python",
   "name": "python3"
  },
  "language_info": {
   "codemirror_mode": {
    "name": "ipython",
    "version": 3
   },
   "file_extension": ".py",
   "mimetype": "text/x-python",
   "name": "python",
   "nbconvert_exporter": "python",
   "pygments_lexer": "ipython3",
   "version": "3.8.5"
  }
 },
 "nbformat": 4,
 "nbformat_minor": 4
}
