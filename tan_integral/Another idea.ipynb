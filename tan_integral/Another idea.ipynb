{
 "cells": [
  {
   "cell_type": "code",
   "execution_count": 1,
   "metadata": {},
   "outputs": [],
   "source": [
    "from sympy import *"
   ]
  },
  {
   "cell_type": "code",
   "execution_count": 2,
   "metadata": {},
   "outputs": [],
   "source": [
    "x, y, n, m, K, k, t, z, s, a, R, N, L, M, r = symbols('x, y, n, m, K, k, t, z, s, a, R, N, L, M, r')\n",
    "alpha, beta, delta, mu, nu, epsilon, theta, phi, omega = symbols('alpha, beta, delta, mu, nu, epsilon, theta, phi, omega')"
   ]
  },
  {
   "cell_type": "code",
   "execution_count": 5,
   "metadata": {},
   "outputs": [
    {
     "data": {
      "text/latex": [
       "$\\displaystyle \\int\\limits_{0}^{R} \\left(- \\frac{1}{\\left(z - 1\\right) \\left(i e^{\\beta z} + 1\\right)} + \\frac{1}{\\left(z - 1\\right) \\left(i e^{\\alpha z} - 1\\right)}\\right)\\, dz$"
      ],
      "text/plain": [
       "Integral(-1/((z - 1)*(I*exp(beta*z) + 1)) + 1/((z - 1)*(I*exp(alpha*z) - 1)), (z, 0, R))"
      ]
     },
     "execution_count": 5,
     "metadata": {},
     "output_type": "execute_result"
    }
   ],
   "source": [
    "int_1 = Integral(1/(I*exp(alpha*z)-1)/(z-1) - 1/(I*exp(beta*z)+1)/(z-1),(z,0,R))\n",
    "int_1"
   ]
  },
  {
   "cell_type": "code",
   "execution_count": 6,
   "metadata": {},
   "outputs": [
    {
     "data": {
      "text/latex": [
       "$\\displaystyle \\int\\limits_{- R}^{R} \\left(- \\frac{1}{\\left(z - 1\\right) \\left(i e^{\\beta z} + 1\\right)} + \\frac{1}{\\left(z - 1\\right) \\left(i e^{\\alpha z} - 1\\right)}\\right)\\, dz$"
      ],
      "text/plain": [
       "Integral(-1/((z - 1)*(I*exp(beta*z) + 1)) + 1/((z - 1)*(I*exp(alpha*z) - 1)), (z, -R, R))"
      ]
     },
     "execution_count": 6,
     "metadata": {},
     "output_type": "execute_result"
    }
   ],
   "source": [
    "int_2 = Integral(1/(I*exp(alpha*z)-1)/(z-1) - 1/(I*exp(beta*z)+1)/(z-1),(z,-R,R))\n",
    "int_2"
   ]
  },
  {
   "cell_type": "code",
   "execution_count": 7,
   "metadata": {
    "scrolled": true
   },
   "outputs": [
    {
     "data": {
      "text/latex": [
       "$\\displaystyle \\int\\limits_{- R}^{0} \\left(- \\frac{1}{\\left(z - 1\\right) \\left(i e^{\\beta z} + 1\\right)} + \\frac{1}{\\left(z - 1\\right) \\left(i e^{\\alpha z} - 1\\right)}\\right)\\, dz$"
      ],
      "text/plain": [
       "Integral(-1/((z - 1)*(I*exp(beta*z) + 1)) + 1/((z - 1)*(I*exp(alpha*z) - 1)), (z, -R, 0))"
      ]
     },
     "execution_count": 7,
     "metadata": {},
     "output_type": "execute_result"
    }
   ],
   "source": [
    "int_3 = Integral(1/(I*exp(alpha*z)-1)/(z-1) - 1/(I*exp(beta*z)+1)/(z-1),(z,-R,0))\n",
    "int_3"
   ]
  },
  {
   "cell_type": "code",
   "execution_count": 12,
   "metadata": {},
   "outputs": [
    {
     "data": {
      "text/latex": [
       "$\\displaystyle \\int\\limits_{0}^{R} \\left(- \\frac{1}{\\left(1 + i e^{- \\beta z}\\right) \\left(- z - 1\\right)} + \\frac{1}{\\left(-1 + i e^{- \\alpha z}\\right) \\left(- z - 1\\right)}\\right)\\, dz$"
      ],
      "text/plain": [
       "Integral(-1/((1 + I*exp(-beta*z))*(-z - 1)) + 1/((-1 + I*exp(-alpha*z))*(-z - 1)), (z, 0, R))"
      ]
     },
     "execution_count": 12,
     "metadata": {},
     "output_type": "execute_result"
    }
   ],
   "source": [
    "Integral(1/(I*exp(-alpha*z)-1)/(-z-1) - 1/(I*exp(-beta*z)+1)/(-z-1),(z,0,R))"
   ]
  },
  {
   "cell_type": "code",
   "execution_count": 11,
   "metadata": {},
   "outputs": [
    {
     "data": {
      "text/latex": [
       "$\\displaystyle \\int\\limits_{0}^{R} \\left(- \\frac{i e^{\\beta z}}{\\left(- z - 1\\right) \\left(i e^{\\beta z} - 1\\right)} + \\frac{i e^{\\alpha z}}{\\left(- z - 1\\right) \\left(- i e^{\\alpha z} - 1\\right)}\\right)\\, dz$"
      ],
      "text/plain": [
       "Integral(-I*exp(beta*z)/((-z - 1)*(I*exp(beta*z) - 1)) + I*exp(alpha*z)/((-z - 1)*(-I*exp(alpha*z) - 1)), (z, 0, R))"
      ]
     },
     "execution_count": 11,
     "metadata": {},
     "output_type": "execute_result"
    }
   ],
   "source": [
    "Integral((I*exp(alpha*z))/(-1-I*exp(alpha*z))/(-z-1) - I*exp(beta*z)/(-1+I*exp(beta*z))/(-z-1),(z,0,R))"
   ]
  },
  {
   "cell_type": "code",
   "execution_count": 14,
   "metadata": {},
   "outputs": [
    {
     "data": {
      "text/latex": [
       "$\\displaystyle \\int\\limits_{0}^{R} \\left(- \\frac{1}{\\left(z + 1\\right) \\left(- i e^{\\beta z} + 1\\right)} - \\frac{1}{\\left(z + 1\\right) \\left(i e^{\\alpha z} + 1\\right)}\\right)\\, dz$"
      ],
      "text/plain": [
       "Integral(-1/((z + 1)*(-I*exp(beta*z) + 1)) - 1/((z + 1)*(I*exp(alpha*z) + 1)), (z, 0, R))"
      ]
     },
     "execution_count": 14,
     "metadata": {},
     "output_type": "execute_result"
    }
   ],
   "source": [
    "Integral(-1/(1+I*exp(alpha*z))/(z+1) - 1/(1-I*exp(beta*z))/(z+1),(z,0,R))"
   ]
  },
  {
   "cell_type": "code",
   "execution_count": 16,
   "metadata": {},
   "outputs": [
    {
     "data": {
      "text/latex": [
       "$\\displaystyle \\frac{1}{z + 1} = \\frac{2 z}{z^{2} - 1} - \\frac{1}{z - 1}$"
      ],
      "text/plain": [
       "Eq(1/(z + 1), 2*z/(z**2 - 1) - 1/(z - 1))"
      ]
     },
     "execution_count": 16,
     "metadata": {},
     "output_type": "execute_result"
    }
   ],
   "source": [
    "Eq(1/(z+1),-1/(z-1)+(1/(z-1)+1/(z+1)).simplify())"
   ]
  },
  {
   "cell_type": "code",
   "execution_count": 18,
   "metadata": {},
   "outputs": [
    {
     "data": {
      "text/latex": [
       "$\\displaystyle \\int\\limits_{0}^{R} \\left(- \\frac{1}{\\left(z + 1\\right) \\left(- i e^{\\beta z} + 1\\right)} - \\frac{1}{\\left(z + 1\\right) \\left(i e^{\\alpha z} + 1\\right)}\\right)\\, dz = \\int\\limits_{0}^{R} \\left(\\frac{1}{\\left(z - 1\\right) \\left(- i e^{\\beta z} + 1\\right)} + \\frac{1}{\\left(z - 1\\right) \\left(i e^{\\alpha z} + 1\\right)}\\right)\\, dz + \\int\\limits_{0}^{R} \\left(- \\frac{2 z}{\\left(z^{2} - 1\\right) \\left(- i e^{\\beta z} + 1\\right)} - \\frac{2 z}{\\left(z^{2} - 1\\right) \\left(i e^{\\alpha z} + 1\\right)}\\right)\\, dz$"
      ],
      "text/plain": [
       "Eq(Integral(-1/((z + 1)*(-I*exp(beta*z) + 1)) - 1/((z + 1)*(I*exp(alpha*z) + 1)), (z, 0, R)), Integral(1/((z - 1)*(-I*exp(beta*z) + 1)) + 1/((z - 1)*(I*exp(alpha*z) + 1)), (z, 0, R)) + Integral(-2*z/((z**2 - 1)*(-I*exp(beta*z) + 1)) - 2*z/((z**2 - 1)*(I*exp(alpha*z) + 1)), (z, 0, R)))"
      ]
     },
     "execution_count": 18,
     "metadata": {},
     "output_type": "execute_result"
    }
   ],
   "source": [
    "Eq(Integral(-1/(1+I*exp(alpha*z))/(z+1) - 1/(1-I*exp(beta*z))/(z+1),(z,0,R)),\n",
    "   Integral(1/(1+I*exp(alpha*z))/(z-1) + 1/(1-I*exp(beta*z))/(z-1),(z,0,R)) + \n",
    "   Integral(-2*z/(1+I*exp(alpha*z))/(z**2-1) - 2*z/(1-I*exp(beta*z))/(z**2-1),(z,0,R))\n",
    "  )"
   ]
  },
  {
   "cell_type": "code",
   "execution_count": 6,
   "metadata": {},
   "outputs": [
    {
     "data": {
      "text/latex": [
       "$\\displaystyle \\frac{1}{i e^{\\alpha z} - 1} = \\frac{- i e^{\\alpha z} - 1}{e^{2 \\alpha z} + 1}$"
      ],
      "text/plain": [
       "Eq(1/(I*exp(alpha*z) - 1), (-I*exp(alpha*z) - 1)/(exp(2*alpha*z) + 1))"
      ]
     },
     "execution_count": 6,
     "metadata": {},
     "output_type": "execute_result"
    }
   ],
   "source": [
    "Eq(1/(I*exp(alpha*z)-1), ((-I*exp(alpha*z)-1))/((I*exp(alpha*z)-1)*(-I*exp(alpha*z)-1)).simplify())"
   ]
  },
  {
   "cell_type": "code",
   "execution_count": 12,
   "metadata": {},
   "outputs": [
    {
     "data": {
      "text/latex": [
       "$\\displaystyle \\frac{1}{e^{\\alpha z} + 1} + \\frac{1}{e^{\\alpha z} - 1} = \\frac{2 e^{\\alpha z}}{e^{2 \\alpha z} - 1}$"
      ],
      "text/plain": [
       "Eq(1/(exp(alpha*z) + 1) + 1/(exp(alpha*z) - 1), 2*exp(alpha*z)/(exp(2*alpha*z) - 1))"
      ]
     },
     "execution_count": 12,
     "metadata": {},
     "output_type": "execute_result"
    }
   ],
   "source": [
    "Eq(1/(exp(alpha*z)-1) + 1/(exp(alpha*z)+1),(1/(x-1) + 1/(x+1)).simplify().subs(x,exp(alpha*z)))"
   ]
  },
  {
   "cell_type": "code",
   "execution_count": 13,
   "metadata": {},
   "outputs": [
    {
     "data": {
      "text/latex": [
       "$\\displaystyle - \\frac{1}{e^{\\alpha z} + 1} + \\frac{1}{e^{\\alpha z} - 1} = \\frac{2}{e^{2 \\alpha z} - 1}$"
      ],
      "text/plain": [
       "Eq(-1/(exp(alpha*z) + 1) + 1/(exp(alpha*z) - 1), 2/(exp(2*alpha*z) - 1))"
      ]
     },
     "execution_count": 13,
     "metadata": {},
     "output_type": "execute_result"
    }
   ],
   "source": [
    "Eq(1/(exp(alpha*z)-1) - 1/(exp(alpha*z)+1),(1/(x-1) - 1/(x+1)).simplify().subs(x,exp(alpha*z)))"
   ]
  },
  {
   "cell_type": "code",
   "execution_count": 14,
   "metadata": {},
   "outputs": [
    {
     "data": {
      "text/latex": [
       "$\\displaystyle \\frac{1}{i e^{\\alpha z} - 1} + \\frac{1}{- i e^{\\alpha z} - 1} = - \\frac{2}{e^{2 \\alpha z} + 1}$"
      ],
      "text/plain": [
       "Eq(1/(I*exp(alpha*z) - 1) + 1/(-I*exp(alpha*z) - 1), -2/(exp(2*alpha*z) + 1))"
      ]
     },
     "execution_count": 14,
     "metadata": {},
     "output_type": "execute_result"
    }
   ],
   "source": [
    "Eq(1/(I*exp(alpha*z)-1) + 1/(-I*exp(alpha*z)-1), (1/(I*exp(alpha*z)-1) + 1/(-I*exp(alpha*z)-1)).simplify())"
   ]
  },
  {
   "cell_type": "code",
   "execution_count": 15,
   "metadata": {},
   "outputs": [
    {
     "data": {
      "text/latex": [
       "$\\displaystyle \\frac{1}{i e^{\\alpha z} - 1} - \\frac{1}{- i e^{\\alpha z} - 1} = - \\frac{i}{\\cosh{\\left(\\alpha z \\right)}}$"
      ],
      "text/plain": [
       "Eq(1/(I*exp(alpha*z) - 1) - 1/(-I*exp(alpha*z) - 1), -I/cosh(alpha*z))"
      ]
     },
     "execution_count": 15,
     "metadata": {},
     "output_type": "execute_result"
    }
   ],
   "source": [
    "Eq(1/(I*exp(alpha*z)-1) - 1/(-I*exp(alpha*z)-1), (1/(I*exp(alpha*z)-1) - 1/(-I*exp(alpha*z)-1)).simplify())"
   ]
  },
  {
   "cell_type": "code",
   "execution_count": 3,
   "metadata": {},
   "outputs": [
    {
     "data": {
      "text/latex": [
       "$\\displaystyle \\operatorname{polygamma}{\\left(0,z \\right)}$"
      ],
      "text/plain": [
       "polygamma(0, z)"
      ]
     },
     "execution_count": 3,
     "metadata": {},
     "output_type": "execute_result"
    }
   ],
   "source": [
    "digamma(z)"
   ]
  },
  {
   "cell_type": "code",
   "execution_count": 16,
   "metadata": {},
   "outputs": [
    {
     "data": {
      "text/latex": [
       "$\\displaystyle 1.0 \\cdot 10^{-126}$"
      ],
      "text/plain": [
       "0.e-126"
      ]
     },
     "execution_count": 16,
     "metadata": {},
     "output_type": "execute_result"
    }
   ],
   "source": [
    "(Integral(digamma(z),(z,2,pi))-ln(gamma(pi))).doit().evalf()"
   ]
  },
  {
   "cell_type": "code",
   "execution_count": 19,
   "metadata": {},
   "outputs": [
    {
     "data": {
      "text/latex": [
       "$\\displaystyle \\int e^{z} \\coth{\\left(z \\right)}\\, dz$"
      ],
      "text/plain": [
       "Integral(exp(z)*coth(z), z)"
      ]
     },
     "execution_count": 19,
     "metadata": {},
     "output_type": "execute_result"
    }
   ],
   "source": [
    "Integral(coth(z)*exp(z),z).doit()"
   ]
  },
  {
   "cell_type": "code",
   "execution_count": 21,
   "metadata": {},
   "outputs": [
    {
     "data": {
      "text/latex": [
       "$\\displaystyle \\frac{z}{a} - \\frac{\\log{\\left(a + e^{z} \\right)}}{a}$"
      ],
      "text/plain": [
       "z/a - log(a + exp(z))/a"
      ]
     },
     "execution_count": 21,
     "metadata": {},
     "output_type": "execute_result"
    }
   ],
   "source": [
    "Integral(1/(exp(z)+a),z).doit()"
   ]
  },
  {
   "cell_type": "code",
   "execution_count": 30,
   "metadata": {},
   "outputs": [
    {
     "data": {
      "text/latex": [
       "$\\displaystyle \\coth{\\left(z \\right)} = \\frac{e^{z} + e^{- z}}{e^{z} - e^{- z}}$"
      ],
      "text/plain": [
       "Eq(coth(z), (exp(z) + exp(-z))/(exp(z) - exp(-z)))"
      ]
     },
     "execution_count": 30,
     "metadata": {},
     "output_type": "execute_result"
    }
   ],
   "source": [
    "Eq(coth(z), (exp(z)+exp(-z))/(exp(z)-exp(-z)))"
   ]
  },
  {
   "cell_type": "code",
   "execution_count": 43,
   "metadata": {},
   "outputs": [
    {
     "data": {
      "text/latex": [
       "$\\displaystyle \\pi \\cot{\\left(\\pi z \\right)} = \\int\\limits_{0}^{\\infty} \\frac{- e^{t z} + e^{t \\left(1 - z\\right)}}{e^{t} - 1}\\, dt$"
      ],
      "text/plain": [
       "Eq(pi*cot(pi*z), Integral((-exp(t*z) + exp(t*(1 - z)))/(exp(t) - 1), (t, 0, oo)))"
      ]
     },
     "execution_count": 43,
     "metadata": {},
     "output_type": "execute_result"
    }
   ],
   "source": [
    "Eq(pi*cot(pi*z),Integral((exp((1-z)*t)-exp(z*t))/(exp(t)-1),(t,0,oo)))"
   ]
  },
  {
   "cell_type": "code",
   "execution_count": 40,
   "metadata": {},
   "outputs": [
    {
     "data": {
      "text/latex": [
       "$\\displaystyle 0.00828838192509394 + 3.1388874968659 i$"
      ],
      "text/plain": [
       "0.00828838192509394 + 3.1388874968659*I"
      ]
     },
     "execution_count": 40,
     "metadata": {},
     "output_type": "execute_result"
    }
   ],
   "source": [
    "Integral((exp((1-z)*t)-exp(z*t))/(exp(t)-1),(t,0,oo)).subs(z,0.3-I*pi/3).evalf()"
   ]
  },
  {
   "cell_type": "code",
   "execution_count": 41,
   "metadata": {},
   "outputs": [
    {
     "data": {
      "text/latex": [
       "$\\displaystyle 0.00828838192509393 + 3.1388874968659 i$"
      ],
      "text/plain": [
       "0.00828838192509393 + 3.1388874968659*I"
      ]
     },
     "execution_count": 41,
     "metadata": {},
     "output_type": "execute_result"
    }
   ],
   "source": [
    "(pi*cot(pi*z)).subs(z,0.3-I*pi/3).evalf()"
   ]
  },
  {
   "cell_type": "code",
   "execution_count": null,
   "metadata": {},
   "outputs": [],
   "source": []
  }
 ],
 "metadata": {
  "kernelspec": {
   "display_name": "Python 3",
   "language": "python",
   "name": "python3"
  },
  "language_info": {
   "codemirror_mode": {
    "name": "ipython",
    "version": 3
   },
   "file_extension": ".py",
   "mimetype": "text/x-python",
   "name": "python",
   "nbconvert_exporter": "python",
   "pygments_lexer": "ipython3",
   "version": "3.8.5"
  }
 },
 "nbformat": 4,
 "nbformat_minor": 4
}
