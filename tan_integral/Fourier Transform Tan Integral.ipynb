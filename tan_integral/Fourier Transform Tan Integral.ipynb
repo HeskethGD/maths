{
 "cells": [
  {
   "cell_type": "markdown",
   "metadata": {},
   "source": [
    "# Fourier Transform Tan Integral"
   ]
  },
  {
   "cell_type": "code",
   "execution_count": 1,
   "metadata": {},
   "outputs": [],
   "source": [
    "from sympy import *"
   ]
  },
  {
   "cell_type": "code",
   "execution_count": 2,
   "metadata": {},
   "outputs": [],
   "source": [
    "x, y, n, K, k, epsilon, z, s, a, R, N, r, T, b = symbols('x, y, n, K, k, epsilon, z, s, a, R, N, r, T, b')\n",
    "alpha, beta, delta, t, mu, nu, epsilon, theta, phi, tau, omega = symbols(\n",
    "    'alpha, beta, delta, t, mu, nu, epsilon, theta, phi, tau, omega')"
   ]
  },
  {
   "cell_type": "code",
   "execution_count": 3,
   "metadata": {},
   "outputs": [],
   "source": [
    "f = Function(\"f\")\n",
    "F = Function(\"F\")\n",
    "G = Function(\"G\")"
   ]
  },
  {
   "cell_type": "markdown",
   "metadata": {},
   "source": [
    "## Defining the integral of interest\n",
    "\n",
    "This work is motivated by an interest in this [question on stackoverflow ](https://math.stackexchange.com/questions/364452/evaluate-int-0-frac-pi2-frac11x21-tan-x-mathrm-dx). We wish to see what insights we can gain by exploring the Fourier Transform of this function."
   ]
  },
  {
   "cell_type": "code",
   "execution_count": 4,
   "metadata": {},
   "outputs": [
    {
     "data": {
      "text/latex": [
       "$\\displaystyle - f{\\left(0 \\right)} + f{\\left(\\tau \\right)} = \\int\\limits_{0}^{\\tau} \\frac{1}{\\left(t^{2} + 1\\right) \\left(\\tan{\\left(t \\right)} + 1\\right)}\\, dt$"
      ],
      "text/plain": [
       "Eq(-f(0) + f(tau), Integral(1/((t**2 + 1)*(tan(t) + 1)), (t, 0, tau)))"
      ]
     },
     "execution_count": 4,
     "metadata": {},
     "output_type": "execute_result"
    }
   ],
   "source": [
    "Eq(f(tau) - f(0), Integral(1/(1+t**2)*1/(1+tan(t)), (t, 0, tau)))"
   ]
  },
  {
   "cell_type": "markdown",
   "metadata": {},
   "source": [
    "We recover the original question with the value:"
   ]
  },
  {
   "cell_type": "code",
   "execution_count": 5,
   "metadata": {},
   "outputs": [
    {
     "data": {
      "text/latex": [
       "$\\displaystyle \\tau = \\frac{\\pi}{2}$"
      ],
      "text/plain": [
       "Eq(tau, pi/2)"
      ]
     },
     "execution_count": 5,
     "metadata": {},
     "output_type": "execute_result"
    }
   ],
   "source": [
    "Eq(tau, pi/2)"
   ]
  },
  {
   "cell_type": "markdown",
   "metadata": {},
   "source": [
    "## Calculating the Fourier Transform"
   ]
  },
  {
   "cell_type": "markdown",
   "metadata": {},
   "source": [
    "### Useful tangent identies"
   ]
  },
  {
   "cell_type": "markdown",
   "metadata": {},
   "source": [
    "The below fourier series is non-convergent but can be used inside integrals in a distributional sense."
   ]
  },
  {
   "cell_type": "code",
   "execution_count": 26,
   "metadata": {},
   "outputs": [
    {
     "data": {
      "text/latex": [
       "$\\displaystyle \\frac{1}{\\tan{\\left(\\tau \\right)} + 1} = - i \\sum_{n=1}^{\\infty} i^{n} e^{2 i n \\tau} + \\frac{1}{2} - \\frac{i}{2}$"
      ],
      "text/plain": [
       "Eq(1/(tan(tau) + 1), -I*Sum(I**n*exp(2*I*n*tau), (n, 1, oo)) + 1/2 - I/2)"
      ]
     },
     "execution_count": 26,
     "metadata": {},
     "output_type": "execute_result"
    }
   ],
   "source": [
    "Eq(1/(1+tan(tau)),-I*Sum(I**n*exp(2*I*tau*n),(n,1,oo))+(1-I)/2)"
   ]
  },
  {
   "cell_type": "code",
   "execution_count": 28,
   "metadata": {},
   "outputs": [
    {
     "data": {
      "text/latex": [
       "$\\displaystyle \\tan{\\left(\\tau \\right)} = i - \\frac{2 i}{1 + e^{- 2 i \\tau}}$"
      ],
      "text/plain": [
       "Eq(tan(tau), I - 2*I/(1 + exp(-2*I*tau)))"
      ]
     },
     "execution_count": 28,
     "metadata": {},
     "output_type": "execute_result"
    }
   ],
   "source": [
    "Eq(tan(tau), I-2*I/(1+exp(-2*I*tau)))"
   ]
  },
  {
   "cell_type": "markdown",
   "metadata": {},
   "source": [
    "### General Fourier Transform Formulas"
   ]
  },
  {
   "cell_type": "code",
   "execution_count": 6,
   "metadata": {},
   "outputs": [
    {
     "data": {
      "text/latex": [
       "$\\displaystyle F{\\left(\\omega \\right)} = \\int\\limits_{-\\infty}^{\\infty} f{\\left(\\tau \\right)} e^{- 2 i \\pi \\omega \\tau}\\, d\\tau$"
      ],
      "text/plain": [
       "Eq(F(omega), Integral(f(tau)*exp(-2*I*pi*omega*tau), (tau, -oo, oo)))"
      ]
     },
     "execution_count": 6,
     "metadata": {},
     "output_type": "execute_result"
    }
   ],
   "source": [
    "Eq(F(omega),Integral(f(tau)*exp(-2*I*pi*omega*tau),(tau,-oo,oo)))"
   ]
  },
  {
   "cell_type": "code",
   "execution_count": 7,
   "metadata": {
    "scrolled": true
   },
   "outputs": [
    {
     "data": {
      "text/latex": [
       "$\\displaystyle f{\\left(\\tau \\right)} = \\int\\limits_{-\\infty}^{\\infty} F{\\left(\\omega \\right)} e^{2 i \\pi \\omega \\tau}\\, d\\omega$"
      ],
      "text/plain": [
       "Eq(f(tau), Integral(F(omega)*exp(2*I*pi*omega*tau), (omega, -oo, oo)))"
      ]
     },
     "execution_count": 7,
     "metadata": {},
     "output_type": "execute_result"
    }
   ],
   "source": [
    "Eq(f(tau),Integral(F(omega)*exp(2*I*pi*omega*tau),(omega,-oo,oo)))"
   ]
  },
  {
   "cell_type": "markdown",
   "metadata": {},
   "source": [
    "### The Fourier Transform of the derivative"
   ]
  },
  {
   "cell_type": "code",
   "execution_count": 8,
   "metadata": {},
   "outputs": [
    {
     "data": {
      "text/latex": [
       "$\\displaystyle 2 i \\pi \\omega F{\\left(\\omega \\right)} = \\int\\limits_{-\\infty}^{\\infty} e^{- 2 i \\pi \\omega \\tau} \\frac{d}{d \\tau} f{\\left(\\tau \\right)}\\, d\\tau$"
      ],
      "text/plain": [
       "Eq(2*I*pi*omega*F(omega), Integral(exp(-2*I*pi*omega*tau)*Derivative(f(tau), tau), (tau, -oo, oo)))"
      ]
     },
     "execution_count": 8,
     "metadata": {},
     "output_type": "execute_result"
    }
   ],
   "source": [
    "Eq((2*I*pi*omega)*F(omega),Integral(diff(f(tau),tau)*exp(-2*I*pi*omega*tau),(tau,-oo,oo)))"
   ]
  },
  {
   "cell_type": "code",
   "execution_count": 8,
   "metadata": {},
   "outputs": [
    {
     "data": {
      "text/latex": [
       "$\\displaystyle \\frac{d}{d \\tau} f{\\left(\\tau \\right)} = \\frac{1}{\\left(\\tau^{2} + 1\\right) \\left(\\tan{\\left(\\tau \\right)} + 1\\right)}$"
      ],
      "text/plain": [
       "Eq(Derivative(f(tau), tau), 1/((tau**2 + 1)*(tan(tau) + 1)))"
      ]
     },
     "execution_count": 8,
     "metadata": {},
     "output_type": "execute_result"
    }
   ],
   "source": [
    "Eq(diff(f(tau),tau), diff(Integral(1/(1+t**2)*1/(1+tan(t)), (t, 0, tau)),tau))"
   ]
  },
  {
   "cell_type": "code",
   "execution_count": 9,
   "metadata": {},
   "outputs": [
    {
     "data": {
      "text/latex": [
       "$\\displaystyle 2 i \\pi \\omega F{\\left(\\omega \\right)} = \\int\\limits_{-\\infty}^{\\infty} \\frac{e^{- 2 i \\pi \\omega \\tau}}{\\left(\\tau^{2} + 1\\right) \\left(\\tan{\\left(\\tau \\right)} + 1\\right)}\\, d\\tau$"
      ],
      "text/plain": [
       "Eq(2*I*pi*omega*F(omega), Integral(exp(-2*I*pi*omega*tau)/((tau**2 + 1)*(tan(tau) + 1)), (tau, -oo, oo)))"
      ]
     },
     "execution_count": 9,
     "metadata": {},
     "output_type": "execute_result"
    }
   ],
   "source": [
    "Eq((2*I*pi*omega)*F(omega),Integral(1/(1+tau**2)*1/(1+tan(tau))*exp(-2*I*pi*omega*tau),(tau,-oo,oo)))"
   ]
  },
  {
   "cell_type": "code",
   "execution_count": 89,
   "metadata": {},
   "outputs": [
    {
     "data": {
      "text/latex": [
       "$\\displaystyle \\frac{1}{\\tan{\\left(\\tau \\right)} + 1} = \\frac{1}{2} + \\frac{i}{2} - \\frac{i}{- i e^{2 i \\tau} + 1}$"
      ],
      "text/plain": [
       "Eq(1/(tan(tau) + 1), 1/2 + I/2 - I/(-I*exp(2*I*tau) + 1))"
      ]
     },
     "execution_count": 89,
     "metadata": {},
     "output_type": "execute_result"
    }
   ],
   "source": [
    "Eq(1/(1+tan(tau)), I - I/(1-I*exp(2*I*tau))+(1-I)/2)"
   ]
  },
  {
   "cell_type": "code",
   "execution_count": 92,
   "metadata": {},
   "outputs": [
    {
     "data": {
      "text/latex": [
       "$\\displaystyle 2 i \\pi \\omega F{\\left(\\omega \\right)} = \\left(\\frac{1}{2} + \\frac{i}{2}\\right) \\int\\limits_{-\\infty}^{\\infty} \\frac{e^{- 2 i \\pi \\omega \\tau}}{\\tau^{2} + 1}\\, d\\tau - \\int\\limits_{-\\infty}^{\\infty} \\frac{i e^{- 2 i \\pi \\omega \\tau}}{\\left(\\tau^{2} + 1\\right) \\left(- i e^{2 i \\tau} + 1\\right)}\\, d\\tau$"
      ],
      "text/plain": [
       "Eq(2*I*pi*omega*F(omega), (1/2 + I/2)*Integral(exp(-2*I*pi*omega*tau)/(tau**2 + 1), (tau, -oo, oo)) - Integral(I*exp(-2*I*pi*omega*tau)/((tau**2 + 1)*(-I*exp(2*I*tau) + 1)), (tau, -oo, oo)))"
      ]
     },
     "execution_count": 92,
     "metadata": {},
     "output_type": "execute_result"
    }
   ],
   "source": [
    "Eq((2*I*pi*omega)*F(omega),\n",
    "   (1 + I)/2*Integral(1/(1+tau**2)*exp(-2*I*pi*omega*tau),(tau,-oo,oo)) \n",
    "      - Integral(1/(1+tau**2)*I/(1-I*exp(2*I*tau))*exp(-2*I*pi*omega*tau),(tau,-oo,oo)))"
   ]
  },
  {
   "cell_type": "code",
   "execution_count": 14,
   "metadata": {},
   "outputs": [
    {
     "data": {
      "text/latex": [
       "$\\displaystyle \\int\\limits_{-\\infty}^{\\infty} \\frac{e^{- 2 i \\pi \\omega \\tau}}{\\tau^{2} + 1}\\, d\\tau = \\pi e^{- 2 \\pi \\left|{\\omega}\\right|}$"
      ],
      "text/plain": [
       "Eq(Integral(exp(-2*I*pi*omega*tau)/(tau**2 + 1), (tau, -oo, oo)), pi*exp(-2*pi*Abs(omega)))"
      ]
     },
     "execution_count": 14,
     "metadata": {},
     "output_type": "execute_result"
    }
   ],
   "source": [
    "Eq(Integral(1/(1+tau**2)*exp(-I*tau*2*pi*omega),(tau,-oo,oo)), pi*exp(-abs(2*pi*omega)))"
   ]
  },
  {
   "cell_type": "code",
   "execution_count": 243,
   "metadata": {
    "scrolled": true
   },
   "outputs": [
    {
     "data": {
      "text/latex": [
       "$\\displaystyle G{\\left(\\omega,i \\right)} = \\int\\limits_{-\\infty}^{\\infty} \\frac{i e^{- 2 i \\pi \\omega \\tau}}{\\left(\\tau^{2} + 1\\right) \\left(- i e^{2 i \\tau} + 1\\right)}\\, d\\tau$"
      ],
      "text/plain": [
       "Eq(G(omega, I), Integral(I*exp(-2*I*pi*omega*tau)/((tau**2 + 1)*(-I*exp(2*I*tau) + 1)), (tau, -oo, oo)))"
      ]
     },
     "execution_count": 243,
     "metadata": {},
     "output_type": "execute_result"
    }
   ],
   "source": [
    "Eq(G(omega, I), Integral(1/(1+tau**2)*I/(1-I*exp(2*I*tau))*exp(-2*I*pi*omega*tau),(tau,-oo,oo)))"
   ]
  },
  {
   "cell_type": "code",
   "execution_count": 46,
   "metadata": {},
   "outputs": [
    {
     "data": {
      "text/latex": [
       "$\\displaystyle 2 i \\pi \\omega F{\\left(\\omega \\right)} = - G{\\left(\\omega,i \\right)} + \\pi \\left(\\frac{1}{2} + \\frac{i}{2}\\right) e^{- 2 \\pi \\left|{\\omega}\\right|}$"
      ],
      "text/plain": [
       "Eq(2*I*pi*omega*F(omega), -G(omega, I) + pi*(1/2 + I/2)*exp(-2*pi*Abs(omega)))"
      ]
     },
     "execution_count": 46,
     "metadata": {},
     "output_type": "execute_result"
    }
   ],
   "source": [
    "Eq((2*I*pi*omega)*F(omega), (1 + I)/2*pi*(exp(-abs(2*pi*omega))) - G(omega, I))"
   ]
  },
  {
   "cell_type": "markdown",
   "metadata": {},
   "source": [
    "### Evaluating G using contour integration\n",
    "\n",
    "We want to evaluate G using contour integration but is clear that we need to close the contour appropriately to ensure convergence. If omega is negative we close the contour in the upper half plane counterclockwise and if it is positive we would clode it in the lower half plane clockwise. However, we need only ocnsider one of these case as we can derive a reflection formula for G."
   ]
  },
  {
   "cell_type": "code",
   "execution_count": 7,
   "metadata": {},
   "outputs": [
    {
     "data": {
      "text/latex": [
       "$\\displaystyle G{\\left(\\omega,i \\right)} = \\int\\limits_{-\\infty}^{\\infty} \\frac{i e^{- 2 i \\pi \\omega \\tau}}{\\left(\\tau^{2} + 1\\right) \\left(- i e^{2 i \\tau} + 1\\right)}\\, d\\tau$"
      ],
      "text/plain": [
       "Eq(G(omega, I), Integral(I*exp(-2*I*pi*omega*tau)/((tau**2 + 1)*(-I*exp(2*I*tau) + 1)), (tau, -oo, oo)))"
      ]
     },
     "execution_count": 7,
     "metadata": {},
     "output_type": "execute_result"
    }
   ],
   "source": [
    "Eq(G(omega, I), Integral(1/(1+tau**2)*I/(1-I*exp(2*I*tau))*exp(-2*I*pi*omega*tau),(tau,-oo,oo)))"
   ]
  },
  {
   "cell_type": "markdown",
   "metadata": {},
   "source": [
    "#### A reflection formula for G"
   ]
  },
  {
   "cell_type": "code",
   "execution_count": 244,
   "metadata": {},
   "outputs": [
    {
     "data": {
      "text/latex": [
       "$\\displaystyle G{\\left(- \\omega,- i \\right)} = \\int\\limits_{-\\infty}^{\\infty} \\left(- \\frac{i e^{- 2 i \\pi \\omega \\tau}}{\\left(1 + i e^{- 2 i \\tau}\\right) \\left(\\tau^{2} + 1\\right)}\\right)\\, d\\tau$"
      ],
      "text/plain": [
       "Eq(G(-omega, -I), Integral(-I*exp(-2*I*pi*omega*tau)/((1 + I*exp(-2*I*tau))*(tau**2 + 1)), (tau, -oo, oo)))"
      ]
     },
     "execution_count": 244,
     "metadata": {},
     "output_type": "execute_result"
    }
   ],
   "source": [
    "Eq(G(omega, I),\n",
    "   Integral(1/(1+tau**2)*I/(1-I*exp(2*I*tau))*exp(-2*I*pi*omega*tau),(tau,-oo,oo))).subs([(omega,-omega),(I,-I)])"
   ]
  },
  {
   "cell_type": "code",
   "execution_count": 252,
   "metadata": {
    "scrolled": true
   },
   "outputs": [
    {
     "data": {
      "text/latex": [
       "$\\displaystyle G{\\left(- \\omega,- i \\right)} = \\int\\limits_{-\\infty}^{\\infty} \\left(- \\frac{e^{2 i \\tau} e^{- 2 i \\pi \\omega \\tau}}{\\left(\\tau^{2} + 1\\right) \\left(- i e^{2 i \\tau} + 1\\right)}\\right)\\, d\\tau$"
      ],
      "text/plain": [
       "Eq(G(-omega, -I), Integral(-exp(2*I*tau)*exp(-2*I*pi*omega*tau)/((tau**2 + 1)*(-I*exp(2*I*tau) + 1)), (tau, -oo, oo)))"
      ]
     },
     "execution_count": 252,
     "metadata": {},
     "output_type": "execute_result"
    }
   ],
   "source": [
    "Eq(G(-omega, -I),\n",
    "   Integral(-exp(2*I*tau)/(1+tau**2)/(-I*exp(2*I*tau)+1)*exp(-2*I*pi*omega*tau),(tau,-oo,oo)))"
   ]
  },
  {
   "cell_type": "code",
   "execution_count": 311,
   "metadata": {},
   "outputs": [
    {
     "data": {
      "text/latex": [
       "$\\displaystyle G{\\left(- \\omega,- i \\right)} = \\int\\limits_{-\\infty}^{\\infty} \\left(- \\frac{i e^{- 2 i \\pi \\omega \\tau}}{\\tau^{2} + 1} + \\frac{i e^{- 2 i \\pi \\omega \\tau}}{\\left(\\tau^{2} + 1\\right) \\left(- i e^{2 i \\tau} + 1\\right)}\\right)\\, d\\tau$"
      ],
      "text/plain": [
       "Eq(G(-omega, -I), Integral(-I*exp(-2*I*pi*omega*tau)/(tau**2 + 1) + I*exp(-2*I*pi*omega*tau)/((tau**2 + 1)*(-I*exp(2*I*tau) + 1)), (tau, -oo, oo)))"
      ]
     },
     "execution_count": 311,
     "metadata": {},
     "output_type": "execute_result"
    }
   ],
   "source": [
    "Eq(G(-omega, -I),\n",
    "   Integral(-I/(1+tau**2)*exp(-2*I*pi*omega*tau) + I/(1+tau**2)/(-I*exp(2*I*tau)+1)*exp(-2*I*pi*omega*tau),(tau,-oo,oo))\n",
    "  )"
   ]
  },
  {
   "cell_type": "code",
   "execution_count": 262,
   "metadata": {},
   "outputs": [
    {
     "data": {
      "text/latex": [
       "$\\displaystyle G{\\left(- \\omega,i \\right)} = G{\\left(\\omega,- i \\right)} + i \\pi e^{- 2 \\pi \\left|{\\omega}\\right|}$"
      ],
      "text/plain": [
       "Eq(G(-omega, I), G(omega, -I) + I*pi*exp(-2*pi*Abs(omega)))"
      ]
     },
     "execution_count": 262,
     "metadata": {},
     "output_type": "execute_result"
    }
   ],
   "source": [
    "Eq(G(-omega, I), I*pi*exp(-abs(2*pi*omega)) + G(omega, -I))"
   ]
  },
  {
   "cell_type": "markdown",
   "metadata": {},
   "source": [
    "#### Defining the contour integral and evaluation with the residue theorem"
   ]
  },
  {
   "cell_type": "code",
   "execution_count": 12,
   "metadata": {},
   "outputs": [],
   "source": [
    "StraightPart = Function(\"StraightPart\")\n",
    "ArcPart = Function(\"ArcPart\")\n",
    "Res =  Function(\"Res\")"
   ]
  },
  {
   "cell_type": "code",
   "execution_count": 62,
   "metadata": {
    "scrolled": true
   },
   "outputs": [
    {
     "data": {
      "text/latex": [
       "$\\displaystyle \\operatorname{ArcPart}{\\left(R,\\omega \\right)} + \\operatorname{StraightPart}{\\left(R,\\omega \\right)} = 2 i \\pi \\sum_{n=- N}^{N} \\operatorname{Res}{\\left(n,R,\\omega \\right)}$"
      ],
      "text/plain": [
       "Eq(ArcPart(R, omega) + StraightPart(R, omega), 2*I*pi*Sum(Res(n, R, omega), (n, -N, N)))"
      ]
     },
     "execution_count": 62,
     "metadata": {},
     "output_type": "execute_result"
    }
   ],
   "source": [
    "Eq(StraightPart(R, omega)+ArcPart(R, omega), 2*pi*I*Sum(Res(n, R, omega),(n,-N,N)))"
   ]
  },
  {
   "cell_type": "code",
   "execution_count": 63,
   "metadata": {},
   "outputs": [
    {
     "data": {
      "text/latex": [
       "$\\displaystyle \\operatorname{StraightPart}{\\left(R,\\omega \\right)} = - \\operatorname{ArcPart}{\\left(R,\\omega \\right)} + 2 i \\pi \\sum_{n=- N}^{N} \\operatorname{Res}{\\left(n,R,\\omega \\right)}$"
      ],
      "text/plain": [
       "Eq(StraightPart(R, omega), -ArcPart(R, omega) + 2*I*pi*Sum(Res(n, R, omega), (n, -N, N)))"
      ]
     },
     "execution_count": 63,
     "metadata": {},
     "output_type": "execute_result"
    }
   ],
   "source": [
    "Eq(StraightPart(R, omega), 2*pi*I*Sum(Res(n, R, omega),(n,-N,N))-ArcPart(R, omega))"
   ]
  },
  {
   "cell_type": "code",
   "execution_count": 10,
   "metadata": {},
   "outputs": [
    {
     "data": {
      "text/latex": [
       "$\\displaystyle G{\\left(\\omega,i \\right)} = \\int\\limits_{-\\infty}^{\\infty} \\frac{i e^{- 2 i \\pi \\omega \\tau}}{\\left(\\tau^{2} + 1\\right) \\left(- i e^{2 i \\tau} + 1\\right)}\\, d\\tau$"
      ],
      "text/plain": [
       "Eq(G(omega, I), Integral(I*exp(-2*I*pi*omega*tau)/((tau**2 + 1)*(-I*exp(2*I*tau) + 1)), (tau, -oo, oo)))"
      ]
     },
     "execution_count": 10,
     "metadata": {},
     "output_type": "execute_result"
    }
   ],
   "source": [
    "Eq(G(omega, I), Integral(1/(1+tau**2)*I/(1-I*exp(2*I*tau))*exp(-2*I*pi*omega*tau),(tau,-oo,oo)))"
   ]
  },
  {
   "cell_type": "code",
   "execution_count": 15,
   "metadata": {},
   "outputs": [],
   "source": [
    "integrand = -(1/(z+I)-1/(z-I))/2*1/(1-I*exp(2*I*z))*exp(-2*I*pi*omega*z)"
   ]
  },
  {
   "cell_type": "code",
   "execution_count": 16,
   "metadata": {},
   "outputs": [
    {
     "data": {
      "text/latex": [
       "$\\displaystyle \\operatorname{StraightPart}{\\left(R,\\omega \\right)} = \\int\\limits_{- R}^{R} \\frac{\\left(- \\frac{1}{2 \\left(z + i\\right)} + \\frac{1}{2 \\left(z - i\\right)}\\right) e^{- 2 i \\pi \\omega z}}{- i e^{2 i z} + 1}\\, dz$"
      ],
      "text/plain": [
       "Eq(StraightPart(R, omega), Integral((-1/(2*(z + I)) + 1/(2*(z - I)))*exp(-2*I*pi*omega*z)/(-I*exp(2*I*z) + 1), (z, -R, R)))"
      ]
     },
     "execution_count": 16,
     "metadata": {},
     "output_type": "execute_result"
    }
   ],
   "source": [
    "Eq(StraightPart(R, omega), Integral(integrand,(z,-R,R)))"
   ]
  },
  {
   "cell_type": "code",
   "execution_count": 13,
   "metadata": {},
   "outputs": [
    {
     "data": {
      "text/latex": [
       "$\\displaystyle G{\\left(\\omega,i \\right)} = \\lim_{R \\to \\infty} \\operatorname{StraightPart}{\\left(R,\\omega \\right)}$"
      ],
      "text/plain": [
       "Eq(G(omega, I), Limit(StraightPart(R, omega), R, oo, dir='-'))"
      ]
     },
     "execution_count": 13,
     "metadata": {},
     "output_type": "execute_result"
    }
   ],
   "source": [
    "Eq(G(omega, I), Limit(StraightPart(R, omega),R,oo))"
   ]
  },
  {
   "cell_type": "code",
   "execution_count": 18,
   "metadata": {},
   "outputs": [
    {
     "data": {
      "text/latex": [
       "$\\displaystyle G{\\left(\\omega,i \\right)} = \\lim_{R \\to \\infty}\\left(2 i \\pi \\sum_{n=- N}^{N} \\operatorname{Res}{\\left(n,R,\\omega \\right)}\\right) - \\lim_{R \\to \\infty} \\operatorname{ArcPart}{\\left(R,\\omega \\right)}$"
      ],
      "text/plain": [
       "Eq(G(omega, I), Limit(2*I*pi*Sum(Res(n, R, omega), (n, -N, N)), R, oo, dir='-') - Limit(ArcPart(R, omega), R, oo, dir='-'))"
      ]
     },
     "execution_count": 18,
     "metadata": {},
     "output_type": "execute_result"
    }
   ],
   "source": [
    "Eq(G(omega, I), -Limit(ArcPart(R, omega),R,oo) + Limit(2*pi*I*Sum(Res(n, R, omega),(n,-N,N)),R,oo))"
   ]
  },
  {
   "cell_type": "markdown",
   "metadata": {},
   "source": [
    "#### Evaluating the Arc integral"
   ]
  },
  {
   "cell_type": "markdown",
   "metadata": {},
   "source": [
    "The case where omega is negative:"
   ]
  },
  {
   "cell_type": "code",
   "execution_count": 24,
   "metadata": {},
   "outputs": [
    {
     "data": {
      "text/latex": [
       "$\\displaystyle z = R e^{i \\theta}$"
      ],
      "text/plain": [
       "Eq(z, R*exp(I*theta))"
      ]
     },
     "execution_count": 24,
     "metadata": {},
     "output_type": "execute_result"
    }
   ],
   "source": [
    "Eq(z, R*exp(I*theta))"
   ]
  },
  {
   "cell_type": "code",
   "execution_count": 30,
   "metadata": {},
   "outputs": [
    {
     "data": {
      "text/latex": [
       "$\\displaystyle \\frac{d}{d \\theta} z = i R e^{i \\theta}$"
      ],
      "text/plain": [
       "Eq(Derivative(z, theta), I*R*exp(I*theta))"
      ]
     },
     "execution_count": 30,
     "metadata": {},
     "output_type": "execute_result"
    }
   ],
   "source": [
    "Eq(Derivative(z,theta), diff(R*exp(I*theta),theta))"
   ]
  },
  {
   "cell_type": "code",
   "execution_count": 22,
   "metadata": {},
   "outputs": [
    {
     "data": {
      "text/latex": [
       "$\\displaystyle \\operatorname{ArcPart}{\\left(R,\\omega \\right)} = \\int\\limits_{0}^{\\pi} \\frac{i R \\left(- \\frac{1}{2 \\left(R e^{i \\theta} + i\\right)} + \\frac{1}{2 \\left(R e^{i \\theta} - i\\right)}\\right) e^{i \\theta} e^{- 2 i \\pi R \\omega e^{i \\theta}}}{- i e^{2 i R e^{i \\theta}} + 1}\\, d\\theta$"
      ],
      "text/plain": [
       "Eq(ArcPart(R, omega), Integral(I*R*(-1/(2*(R*exp(I*theta) + I)) + 1/(2*(R*exp(I*theta) - I)))*exp(I*theta)*exp(-2*I*pi*R*omega*exp(I*theta))/(-I*exp(2*I*R*exp(I*theta)) + 1), (theta, 0, pi)))"
      ]
     },
     "execution_count": 22,
     "metadata": {},
     "output_type": "execute_result"
    }
   ],
   "source": [
    "Eq(ArcPart(R, omega), Integral(integrand.subs(z,R*exp(I*theta))*I*R*exp(I*theta),(theta,0,pi)))"
   ]
  },
  {
   "cell_type": "code",
   "execution_count": 15,
   "metadata": {},
   "outputs": [
    {
     "data": {
      "text/latex": [
       "$\\displaystyle \\lim_{R \\to \\infty} \\operatorname{ArcPart}{\\left(R,\\omega \\right)} = 0$"
      ],
      "text/plain": [
       "Eq(Limit(ArcPart(R, omega), R, oo, dir='-'), 0)"
      ]
     },
     "execution_count": 15,
     "metadata": {},
     "output_type": "execute_result"
    }
   ],
   "source": [
    "Eq(Limit(ArcPart(R, omega), R, oo),0)"
   ]
  },
  {
   "cell_type": "code",
   "execution_count": 23,
   "metadata": {},
   "outputs": [
    {
     "data": {
      "text/latex": [
       "$\\displaystyle -8.96771081168273 \\cdot 10^{-6} - 2.05742199655599 \\cdot 10^{-5} i$"
      ],
      "text/plain": [
       "-8.96771081168273e-6 - 2.05742199655599e-5*I"
      ]
     },
     "execution_count": 23,
     "metadata": {},
     "output_type": "execute_result"
    }
   ],
   "source": [
    "Integral((integrand.subs(z,R*exp(I*theta))*I*R*exp(I*theta)).subs([(omega,-1),(R,100)]),(theta,0,pi)).evalf()"
   ]
  },
  {
   "cell_type": "markdown",
   "metadata": {},
   "source": [
    "#### Evaluating the residue sum\n",
    "The case when omega is negative so we close the contour in the upper plane so the imaginary part of z is positive:"
   ]
  },
  {
   "cell_type": "code",
   "execution_count": 26,
   "metadata": {},
   "outputs": [
    {
     "data": {
      "text/latex": [
       "$\\displaystyle \\frac{\\left(- \\frac{1}{2 \\left(z + i\\right)} + \\frac{1}{2 \\left(z - i\\right)}\\right) e^{- 2 i \\pi \\omega z}}{- i e^{2 i z} + 1}$"
      ],
      "text/plain": [
       "(-1/(2*(z + I)) + 1/(2*(z - I)))*exp(-2*I*pi*omega*z)/(-I*exp(2*I*z) + 1)"
      ]
     },
     "execution_count": 26,
     "metadata": {},
     "output_type": "execute_result"
    }
   ],
   "source": [
    "integrand"
   ]
  },
  {
   "cell_type": "markdown",
   "metadata": {},
   "source": [
    "The above integrand has the following poles in z in the upper half plane"
   ]
  },
  {
   "cell_type": "code",
   "execution_count": 27,
   "metadata": {
    "scrolled": true
   },
   "outputs": [
    {
     "data": {
      "text/plain": [
       "[I, pi*n - pi/4]"
      ]
     },
     "execution_count": 27,
     "metadata": {},
     "output_type": "execute_result"
    }
   ],
   "source": [
    "poles_1 = [I,(-pi/4 + n*pi)]\n",
    "poles_1"
   ]
  },
  {
   "cell_type": "code",
   "execution_count": 31,
   "metadata": {},
   "outputs": [],
   "source": [
    "residues_1 = [Limit((z-p)*integrand,z,p) for p in poles_1]"
   ]
  },
  {
   "cell_type": "markdown",
   "metadata": {},
   "source": [
    "The residue at the pole where z is equal to i is:"
   ]
  },
  {
   "cell_type": "code",
   "execution_count": 30,
   "metadata": {},
   "outputs": [
    {
     "data": {
      "text/latex": [
       "$\\displaystyle \\frac{e^{2} e^{2 \\pi \\omega}}{2 \\left(e^{2} - i\\right)}$"
      ],
      "text/plain": [
       "exp(2)*exp(2*pi*omega)/(2*(exp(2) - I))"
      ]
     },
     "execution_count": 30,
     "metadata": {},
     "output_type": "execute_result"
    }
   ],
   "source": [
    "residues_1[0].doit().factor()"
   ]
  },
  {
   "cell_type": "markdown",
   "metadata": {},
   "source": [
    "The other poles are functions of n and are on the straight edge of the contour so they should be weighted by a half."
   ]
  },
  {
   "cell_type": "code",
   "execution_count": 33,
   "metadata": {},
   "outputs": [
    {
     "data": {
      "text/latex": [
       "$\\displaystyle \\lim_{z \\to \\pi n - \\frac{\\pi}{4}^+}\\left(\\frac{\\left(- \\frac{1}{2 \\left(z + i\\right)} + \\frac{1}{2 \\left(z - i\\right)}\\right) \\left(- \\pi n + z + \\frac{\\pi}{4}\\right) e^{- 2 i \\pi \\omega z}}{- i e^{2 i z} + 1}\\right)$"
      ],
      "text/plain": [
       "Limit((-1/(2*(z + I)) + 1/(2*(z - I)))*(-pi*n + z + pi/4)*exp(-2*I*pi*omega*z)/(-I*exp(2*I*z) + 1), z, pi*n - pi/4)"
      ]
     },
     "execution_count": 33,
     "metadata": {},
     "output_type": "execute_result"
    }
   ],
   "source": [
    "residues_1[1]"
   ]
  },
  {
   "cell_type": "code",
   "execution_count": 34,
   "metadata": {},
   "outputs": [
    {
     "data": {
      "text/latex": [
       "$\\displaystyle \\lim_{z \\to - \\frac{s}{a}^+}\\left(\\frac{z + \\frac{s}{a}}{\\left(- t + z\\right) \\left(e^{a z + s} - 1\\right)}\\right) = \\frac{1}{- a t - s}$"
      ],
      "text/plain": [
       "Eq(Limit((z + s/a)/((-t + z)*(exp(a*z + s) - 1)), z, -s/a), 1/(-a*t - s))"
      ]
     },
     "execution_count": 34,
     "metadata": {},
     "output_type": "execute_result"
    }
   ],
   "source": [
    "residue_expr = Eq(Limit((k-(-s/a))/(k-t)*(1/(exp(s+a*k)-1)),k,-s/a),\n",
    "   limit((k-(-s/a))/(k-t)*(1/(exp(s+a*k)-1)),k,-s/a)).subs(k,z)\n",
    "residue_expr"
   ]
  },
  {
   "cell_type": "code",
   "execution_count": 49,
   "metadata": {},
   "outputs": [
    {
     "data": {
      "text/latex": [
       "$\\displaystyle \\lim_{z \\to \\frac{i \\left(- 2 i \\pi n + \\frac{i \\pi}{2}\\right)}{2}^+}\\left(\\frac{z - \\frac{i \\left(- 2 i \\pi n + \\frac{i \\pi}{2}\\right)}{2}}{\\left(z - i\\right) \\left(i e^{- 2 i \\pi n + 2 i z} - 1\\right)}\\right) = \\frac{1}{2 i \\pi n + 2 - \\frac{i \\pi}{2}}$"
      ],
      "text/plain": [
       "Eq(Limit((z - I*(-2*I*pi*n + I*pi/2)/2)/((z - I)*(I*exp(-2*I*pi*n + 2*I*z) - 1)), z, I*(-2*I*pi*n + I*pi/2)/2), 1/(2*I*pi*n + 2 - I*pi/2))"
      ]
     },
     "execution_count": 49,
     "metadata": {},
     "output_type": "execute_result"
    }
   ],
   "source": [
    "residue_expr.subs([(s,-I*2*pi*n + I*pi/2),(a,2*I),(t,I)])"
   ]
  },
  {
   "cell_type": "code",
   "execution_count": 108,
   "metadata": {},
   "outputs": [
    {
     "data": {
      "text/latex": [
       "$\\displaystyle \\lim_{z \\to \\frac{i \\left(- 2 i \\pi n + \\frac{i \\pi}{2}\\right)}{2}^+}\\left(\\frac{z - \\frac{i \\left(- 2 i \\pi n + \\frac{i \\pi}{2}\\right)}{2}}{\\left(z + i\\right) \\left(i e^{- 2 i \\pi n + 2 i z} - 1\\right)}\\right) = \\frac{1}{2 i \\pi n - 2 - \\frac{i \\pi}{2}}$"
      ],
      "text/plain": [
       "Eq(Limit((z - I*(-2*I*pi*n + I*pi/2)/2)/((z + I)*(I*exp(-2*I*pi*n + 2*I*z) - 1)), z, I*(-2*I*pi*n + I*pi/2)/2), 1/(2*I*pi*n - 2 - I*pi/2))"
      ]
     },
     "execution_count": 108,
     "metadata": {},
     "output_type": "execute_result"
    }
   ],
   "source": [
    "residue_expr.subs([(s,-I*2*pi*n + I*pi/2),(a,2*I),(t,-I)])"
   ]
  },
  {
   "cell_type": "code",
   "execution_count": 48,
   "metadata": {},
   "outputs": [
    {
     "data": {
      "text/latex": [
       "$\\displaystyle \\lim_{z \\to \\pi n - \\frac{\\pi}{4}^+}\\left(\\frac{\\left(- \\frac{1}{2 \\left(z + i\\right)} + \\frac{1}{2 \\left(z - i\\right)}\\right) \\left(- \\pi n + z + \\frac{\\pi}{4}\\right) e^{- 2 i \\pi \\omega z}}{- i e^{2 i z} + 1}\\right) = - \\frac{\\left(\\frac{1}{2 i \\pi n + 2 - \\frac{i \\pi}{2}} - \\frac{1}{2 i \\pi n - 2 - \\frac{i \\pi}{2}}\\right) e^{- 2 i \\pi \\omega \\left(\\pi n - \\frac{\\pi}{4}\\right)}}{2}$"
      ],
      "text/plain": [
       "Eq(Limit((-1/(2*(z + I)) + 1/(2*(z - I)))*(-pi*n + z + pi/4)*exp(-2*I*pi*omega*z)/(-I*exp(2*I*z) + 1), z, pi*n - pi/4), -(1/(2*I*pi*n + 2 - I*pi/2) - 1/(2*I*pi*n - 2 - I*pi/2))*exp(-2*I*pi*omega*(pi*n - pi/4))/2)"
      ]
     },
     "execution_count": 48,
     "metadata": {},
     "output_type": "execute_result"
    }
   ],
   "source": [
    "res_n = Eq(residues_1[1],\n",
    "   -((1/(2*I*pi*n+2-I*pi/2)-1/(2*I*pi*n-2-I*pi/2))*exp(-2*I*pi*omega*z)).subs(z, (-pi/4 + n*pi))/2\n",
    ")\n",
    "res_n"
   ]
  },
  {
   "cell_type": "code",
   "execution_count": 50,
   "metadata": {},
   "outputs": [
    {
     "data": {
      "text/latex": [
       "$\\displaystyle \\text{True}$"
      ],
      "text/plain": [
       "True"
      ]
     },
     "execution_count": 50,
     "metadata": {},
     "output_type": "execute_result"
    }
   ],
   "source": [
    "res_n.subs(n,3).simplify()"
   ]
  },
  {
   "cell_type": "markdown",
   "metadata": {},
   "source": [
    "The below divides the terms in the sum by 2 to account for them being on the contour."
   ]
  },
  {
   "cell_type": "code",
   "execution_count": 76,
   "metadata": {},
   "outputs": [
    {
     "data": {
      "text/latex": [
       "$\\displaystyle \\lim_{R \\to \\infty}\\left(2 i \\pi \\sum_{n=- N}^{N} \\operatorname{Res}{\\left(n,R,\\omega \\right)}\\right) = \\frac{i \\pi e^{2} e^{2 \\pi \\omega}}{e^{2} - i} - i \\pi \\sum_{n=-\\infty}^{\\infty} \\left(\\frac{1}{2 \\left(2 i \\pi n + 2 - \\frac{i \\pi}{2}\\right)} - \\frac{1}{2 \\left(2 i \\pi n - 2 - \\frac{i \\pi}{2}\\right)}\\right) e^{- 2 i \\pi \\omega \\left(\\pi n - \\frac{\\pi}{4}\\right)}$"
      ],
      "text/plain": [
       "Eq(Limit(2*I*pi*Sum(Res(n, R, omega), (n, -N, N)), R, oo, dir='-'), I*pi*exp(2)*exp(2*pi*omega)/(exp(2) - I) - I*pi*Sum((1/(2*(2*I*pi*n + 2 - I*pi/2)) - 1/(2*(2*I*pi*n - 2 - I*pi/2)))*exp(-2*I*pi*omega*(pi*n - pi/4)), (n, -oo, oo)))"
      ]
     },
     "execution_count": 76,
     "metadata": {},
     "output_type": "execute_result"
    }
   ],
   "source": [
    "Eq(Limit(2*pi*I*Sum(Res(n, R, omega),(n,-N,N)),R,oo),\n",
    "  2*pi*I*residues_1[0].doit().factor() \n",
    "  -pi*I*Sum(((1/(2*I*pi*n+2-I*pi/2)/2-1/(2*I*pi*n-2-I*pi/2)/2)*exp(-2*I*pi*omega*z)).subs(z, (-pi/4 + n*pi)),(n,-oo,oo))\n",
    ")"
   ]
  },
  {
   "cell_type": "markdown",
   "metadata": {},
   "source": [
    "Therefore, when omega is negative G is given by:"
   ]
  },
  {
   "cell_type": "code",
   "execution_count": 75,
   "metadata": {},
   "outputs": [
    {
     "data": {
      "text/latex": [
       "$\\displaystyle G{\\left(\\omega,i \\right)} = \\frac{i \\pi e^{2} e^{2 \\pi \\omega}}{e^{2} - i} - i \\pi \\sum_{n=-\\infty}^{\\infty} \\left(\\frac{1}{2 \\left(2 i \\pi n + 2 - \\frac{i \\pi}{2}\\right)} - \\frac{1}{2 \\left(2 i \\pi n - 2 - \\frac{i \\pi}{2}\\right)}\\right) e^{- 2 i \\pi \\omega \\left(\\pi n - \\frac{\\pi}{4}\\right)}$"
      ],
      "text/plain": [
       "Eq(G(omega, I), I*pi*exp(2)*exp(2*pi*omega)/(exp(2) - I) - I*pi*Sum((1/(2*(2*I*pi*n + 2 - I*pi/2)) - 1/(2*(2*I*pi*n - 2 - I*pi/2)))*exp(-2*I*pi*omega*(pi*n - pi/4)), (n, -oo, oo)))"
      ]
     },
     "execution_count": 75,
     "metadata": {},
     "output_type": "execute_result"
    }
   ],
   "source": [
    "Eq(G(omega, I), 2*pi*I*residues_1[0].doit().factor() \n",
    "  -pi*I*Sum(((1/(2*I*pi*n+2-I*pi/2)/2-1/(2*I*pi*n-2-I*pi/2)/2)*exp(-2*I*pi*omega*z)).subs(z, (-pi/4 + n*pi)),(n,-oo,oo))\n",
    "  )"
   ]
  },
  {
   "cell_type": "code",
   "execution_count": 79,
   "metadata": {},
   "outputs": [
    {
     "data": {
      "text/latex": [
       "$\\displaystyle \\frac{1}{2 \\left(2 i \\pi n + 2 - \\frac{i \\pi}{2}\\right)} - \\frac{1}{2 \\left(2 i \\pi n - 2 - \\frac{i \\pi}{2}\\right)} = \\frac{8}{\\pi^{2} \\left(4 n - 1\\right)^{2} + 16}$"
      ],
      "text/plain": [
       "Eq(1/(2*(2*I*pi*n + 2 - I*pi/2)) - 1/(2*(2*I*pi*n - 2 - I*pi/2)), 8/(pi**2*(4*n - 1)**2 + 16))"
      ]
     },
     "execution_count": 79,
     "metadata": {},
     "output_type": "execute_result"
    }
   ],
   "source": [
    "Eq(1/(2*I*pi*n+2-I*pi/2)/2-1/(2*I*pi*n-2-I*pi/2)/2, 8/(pi**2*(4*n-1)**2+16))"
   ]
  },
  {
   "cell_type": "code",
   "execution_count": 57,
   "metadata": {},
   "outputs": [
    {
     "data": {
      "text/latex": [
       "$\\displaystyle 2 i \\pi \\omega F{\\left(\\omega \\right)} = - G{\\left(\\omega,i \\right)} + \\pi \\left(\\frac{1}{2} + \\frac{i}{2}\\right) e^{- 2 \\pi \\left|{\\omega}\\right|}$"
      ],
      "text/plain": [
       "Eq(2*I*pi*omega*F(omega), -G(omega, I) + pi*(1/2 + I/2)*exp(-2*pi*Abs(omega)))"
      ]
     },
     "execution_count": 57,
     "metadata": {},
     "output_type": "execute_result"
    }
   ],
   "source": [
    "Eq((2*I*pi*omega)*F(omega), (1 + I)/2*pi*(exp(-abs(2*pi*omega))) - G(omega, I))"
   ]
  },
  {
   "cell_type": "code",
   "execution_count": 80,
   "metadata": {},
   "outputs": [
    {
     "data": {
      "text/latex": [
       "$\\displaystyle G{\\left(- \\left|{\\omega}\\right|,i \\right)} = - i \\pi \\sum_{n=-\\infty}^{\\infty} \\frac{8 e^{2 i \\pi \\left(\\pi n - \\frac{\\pi}{4}\\right) \\left|{\\omega}\\right|}}{\\pi^{2} \\left(4 n - 1\\right)^{2} + 16} + \\frac{i \\pi e^{2} e^{- 2 \\pi \\left|{\\omega}\\right|}}{e^{2} - i}$"
      ],
      "text/plain": [
       "Eq(G(-Abs(omega), I), -I*pi*Sum(8*exp(2*I*pi*(pi*n - pi/4)*Abs(omega))/(pi**2*(4*n - 1)**2 + 16), (n, -oo, oo)) + I*pi*exp(2)*exp(-2*pi*Abs(omega))/(exp(2) - I))"
      ]
     },
     "execution_count": 80,
     "metadata": {},
     "output_type": "execute_result"
    }
   ],
   "source": [
    "Eq(G(-abs(omega), I),I*pi*exp(2)*exp(-2*pi*abs(omega))/(exp(2)-I) - \n",
    "    I*pi*Sum(8/(pi**2*(4*n-1)**2+16)*exp(2*I*pi*abs(omega)*(n*pi-pi/4)), (n, -oo, oo))\n",
    "  )"
   ]
  },
  {
   "cell_type": "code",
   "execution_count": 279,
   "metadata": {},
   "outputs": [
    {
     "data": {
      "text/latex": [
       "$\\displaystyle 2 i \\pi \\omega F{\\left(\\omega \\right)} = - i \\pi \\sum_{n=-\\infty}^{\\infty} \\left(\\frac{1}{2 \\left(2 i \\pi n + 2 - \\frac{i \\pi}{2}\\right)} - \\frac{1}{2 \\left(2 i \\pi n - 2 - \\frac{i \\pi}{2}\\right)}\\right) e^{- 2 i \\pi \\omega \\left(\\pi n - \\frac{\\pi}{4}\\right)} + \\pi \\left(- i + \\frac{1}{e^{2} - i}\\right) e^{- 2 \\pi \\left|{\\omega}\\right|} + \\pi \\left(\\frac{1}{2} + \\frac{i}{2}\\right) e^{- 2 \\pi \\left|{\\omega}\\right|}$"
      ],
      "text/plain": [
       "Eq(2*I*pi*omega*F(omega), -I*pi*Sum((1/(2*(2*I*pi*n + 2 - I*pi/2)) - 1/(2*(2*I*pi*n - 2 - I*pi/2)))*exp(-2*I*pi*omega*(pi*n - pi/4)), (n, -oo, oo)) + pi*(-I + 1/(exp(2) - I))*exp(-2*pi*Abs(omega)) + pi*(1/2 + I/2)*exp(-2*pi*Abs(omega)))"
      ]
     },
     "execution_count": 279,
     "metadata": {},
     "output_type": "execute_result"
    }
   ],
   "source": [
    "Eq((2*I*pi*omega)*F(omega), pi*((1 + I)/2)*(exp(-abs(2*pi*omega))) + pi*(-I + 1/(exp(2)-I))*(exp(-abs(2*pi*omega))) -\n",
    "   I*pi*Sum(exp(-2*I*pi*omega*(pi*n-pi/4))*(1/(2*I*pi*n+2-I*pi/2)/2 - 1/(2*I*pi*n-2-I*pi/2)/2), (n,-oo,oo)))"
   ]
  },
  {
   "cell_type": "markdown",
   "metadata": {},
   "source": [
    "The case where omega is positive:"
   ]
  },
  {
   "cell_type": "code",
   "execution_count": 33,
   "metadata": {},
   "outputs": [
    {
     "data": {
      "text/latex": [
       "$\\displaystyle z = R e^{- i \\theta}$"
      ],
      "text/plain": [
       "Eq(z, R*exp(-I*theta))"
      ]
     },
     "execution_count": 33,
     "metadata": {},
     "output_type": "execute_result"
    }
   ],
   "source": [
    "Eq(z, R*exp(-I*theta))"
   ]
  },
  {
   "cell_type": "code",
   "execution_count": 34,
   "metadata": {},
   "outputs": [
    {
     "data": {
      "text/latex": [
       "$\\displaystyle \\frac{d}{d \\theta} z = - i R e^{- i \\theta}$"
      ],
      "text/plain": [
       "Eq(Derivative(z, theta), -I*R*exp(-I*theta))"
      ]
     },
     "execution_count": 34,
     "metadata": {},
     "output_type": "execute_result"
    }
   ],
   "source": [
    "Eq(Derivative(z,theta), diff(R*exp(-I*theta),theta))"
   ]
  },
  {
   "cell_type": "code",
   "execution_count": 35,
   "metadata": {},
   "outputs": [
    {
     "data": {
      "text/latex": [
       "$\\displaystyle \\operatorname{ArcPart}{\\left(R,\\omega \\right)} = \\int\\limits_{0}^{\\pi} \\left(- \\frac{i R \\left(\\frac{1}{2 \\left(R e^{- i \\theta} + i\\right)} - \\frac{1}{2 \\left(R e^{- i \\theta} - i\\right)}\\right) e^{- i \\theta} e^{- 2 i \\pi R \\omega e^{- i \\theta}}}{- i e^{2 i R e^{- i \\theta}} + 1}\\right)\\, d\\theta$"
      ],
      "text/plain": [
       "Eq(ArcPart(R, omega), Integral(-I*R*(1/(2*(R*exp(-I*theta) + I)) - 1/(2*(R*exp(-I*theta) - I)))*exp(-I*theta)*exp(-2*I*pi*R*omega*exp(-I*theta))/(-I*exp(2*I*R*exp(-I*theta)) + 1), (theta, 0, pi)))"
      ]
     },
     "execution_count": 35,
     "metadata": {},
     "output_type": "execute_result"
    }
   ],
   "source": [
    "Eq(ArcPart(R, omega), Integral(-integrand.subs(z,R*exp(-I*theta))*I*R*exp(-I*theta),(theta,0,pi)))"
   ]
  },
  {
   "cell_type": "code",
   "execution_count": 37,
   "metadata": {},
   "outputs": [
    {
     "data": {
      "text/latex": [
       "$\\displaystyle \\lim_{R \\to \\infty} \\operatorname{ArcPart}{\\left(R,\\omega \\right)} = 0$"
      ],
      "text/plain": [
       "Eq(Limit(ArcPart(R, omega), R, oo, dir='-'), 0)"
      ]
     },
     "execution_count": 37,
     "metadata": {},
     "output_type": "execute_result"
    }
   ],
   "source": [
    "Eq(Limit(ArcPart(R, omega), R, oo),0)"
   ]
  },
  {
   "cell_type": "code",
   "execution_count": 43,
   "metadata": {},
   "outputs": [
    {
     "data": {
      "text/plain": [
       "[-I, pi*n - pi/4]"
      ]
     },
     "execution_count": 43,
     "metadata": {},
     "output_type": "execute_result"
    }
   ],
   "source": [
    "poles_2 = [-I,(-pi/4 + n*pi)]\n",
    "poles_2"
   ]
  },
  {
   "cell_type": "code",
   "execution_count": 44,
   "metadata": {},
   "outputs": [],
   "source": [
    "residues_2 = [Limit((z-p)*integrand,z,p) for p in poles_2]"
   ]
  },
  {
   "cell_type": "code",
   "execution_count": 45,
   "metadata": {},
   "outputs": [
    {
     "data": {
      "text/latex": [
       "$\\displaystyle \\frac{i e^{- 2 \\pi \\omega}}{2 \\left(e^{2} + i\\right)}$"
      ],
      "text/plain": [
       "I*exp(-2*pi*omega)/(2*(exp(2) + I))"
      ]
     },
     "execution_count": 45,
     "metadata": {},
     "output_type": "execute_result"
    }
   ],
   "source": [
    "residues_2[0].doit().factor()"
   ]
  },
  {
   "cell_type": "code",
   "execution_count": 50,
   "metadata": {},
   "outputs": [
    {
     "data": {
      "text/latex": [
       "$\\displaystyle \\lim_{z \\to \\pi n - \\frac{\\pi}{4}^+}\\left(\\frac{\\left(\\frac{1}{2 \\left(z + i\\right)} - \\frac{1}{2 \\left(z - i\\right)}\\right) \\left(- \\pi n + z + \\frac{\\pi}{4}\\right) e^{- 2 i \\pi \\omega z}}{- i e^{2 i z} + 1}\\right)$"
      ],
      "text/plain": [
       "Limit((1/(2*(z + I)) - 1/(2*(z - I)))*(-pi*n + z + pi/4)*exp(-2*I*pi*omega*z)/(-I*exp(2*I*z) + 1), z, pi*n - pi/4)"
      ]
     },
     "execution_count": 50,
     "metadata": {},
     "output_type": "execute_result"
    }
   ],
   "source": [
    "residues_2[1]"
   ]
  },
  {
   "cell_type": "code",
   "execution_count": 51,
   "metadata": {},
   "outputs": [
    {
     "data": {
      "text/latex": [
       "$\\displaystyle - \\frac{e^{- 2 i \\pi \\omega \\left(\\pi n - \\frac{\\pi}{4}\\right)}}{2 \\left(2 i \\pi n + 2 + \\frac{i \\pi}{2}\\right)} + \\frac{e^{- 2 i \\pi \\omega \\left(\\pi n - \\frac{\\pi}{4}\\right)}}{2 \\left(2 i \\pi n + 2 - \\frac{i \\pi}{2}\\right)}$"
      ],
      "text/plain": [
       "-exp(-2*I*pi*omega*(pi*n - pi/4))/(2*(2*I*pi*n + 2 + I*pi/2)) + exp(-2*I*pi*omega*(pi*n - pi/4))/(2*(2*I*pi*n + 2 - I*pi/2))"
      ]
     },
     "execution_count": 51,
     "metadata": {},
     "output_type": "execute_result"
    }
   ],
   "source": [
    "(exp(-2*I*pi*omega*z)/(2*I*pi*n+2-I*pi/2)-exp(-2*I*pi*omega*z)/(2*I*pi*n+2+I*pi/2)).subs(z, (-pi/4 + n*pi))/2"
   ]
  },
  {
   "cell_type": "code",
   "execution_count": 280,
   "metadata": {},
   "outputs": [
    {
     "data": {
      "text/latex": [
       "$\\displaystyle 2 i \\pi \\omega F{\\left(\\omega \\right)} = - i \\pi \\sum_{n=-\\infty}^{\\infty} \\left(\\frac{1}{2 \\left(2 i \\pi n + 2 - \\frac{i \\pi}{2}\\right)} - \\frac{1}{2 \\left(2 i \\pi n - 2 - \\frac{i \\pi}{2}\\right)}\\right) e^{- 2 i \\pi \\omega \\left(\\pi n - \\frac{\\pi}{4}\\right)} + \\pi \\left(\\frac{1}{2} - \\frac{1}{e^{2} + i} + \\frac{i}{2}\\right) e^{- 2 \\pi \\left|{\\omega}\\right|}$"
      ],
      "text/plain": [
       "Eq(2*I*pi*omega*F(omega), -I*pi*Sum((1/(2*(2*I*pi*n + 2 - I*pi/2)) - 1/(2*(2*I*pi*n - 2 - I*pi/2)))*exp(-2*I*pi*omega*(pi*n - pi/4)), (n, -oo, oo)) + pi*(1/2 - 1/(exp(2) + I) + I/2)*exp(-2*pi*Abs(omega)))"
      ]
     },
     "execution_count": 280,
     "metadata": {},
     "output_type": "execute_result"
    }
   ],
   "source": [
    "Eq((2*I*pi*omega)*F(omega), pi*((1 + I)/2 -1/(exp(2)+I))*exp(-abs(2*pi*omega)) -\n",
    "   I*pi*Sum(exp(-2*I*pi*omega*(pi*n-pi/4))*(1/(2*I*pi*n+2-I*pi/2)/2 - 1/(2*I*pi*n-2-I*pi/2)/2), (n,-oo,oo)))"
   ]
  },
  {
   "cell_type": "code",
   "execution_count": 281,
   "metadata": {},
   "outputs": [
    {
     "data": {
      "text/latex": [
       "$\\displaystyle 2 i \\pi \\omega F{\\left(\\omega \\right)} = - i \\pi \\sum_{n=-\\infty}^{\\infty} \\left(\\frac{1}{2 \\left(2 i \\pi n + 2 - \\frac{i \\pi}{2}\\right)} - \\frac{1}{2 \\left(2 i \\pi n - 2 - \\frac{i \\pi}{2}\\right)}\\right) e^{- 2 i \\pi \\omega \\left(\\pi n - \\frac{\\pi}{4}\\right)} + \\pi \\left(\\frac{1}{2} - \\frac{i}{2} + \\frac{1}{e^{2} - i}\\right) e^{- 2 \\pi \\left|{\\omega}\\right|}$"
      ],
      "text/plain": [
       "Eq(2*I*pi*omega*F(omega), -I*pi*Sum((1/(2*(2*I*pi*n + 2 - I*pi/2)) - 1/(2*(2*I*pi*n - 2 - I*pi/2)))*exp(-2*I*pi*omega*(pi*n - pi/4)), (n, -oo, oo)) + pi*(1/2 - I/2 + 1/(exp(2) - I))*exp(-2*pi*Abs(omega)))"
      ]
     },
     "execution_count": 281,
     "metadata": {},
     "output_type": "execute_result"
    }
   ],
   "source": [
    "Eq((2*I*pi*omega)*F(omega), pi*((1 + I)/2 - (I - 1/(exp(2)-I)))*exp(-abs(2*pi*omega)) -\n",
    "   I*pi*Sum(exp(-2*I*pi*omega*(pi*n-pi/4))*(1/(2*I*pi*n+2-I*pi/2)/2 - 1/(2*I*pi*n-2-I*pi/2)/2), (n,-oo,oo)))"
   ]
  },
  {
   "cell_type": "code",
   "execution_count": 286,
   "metadata": {},
   "outputs": [
    {
     "data": {
      "text/latex": [
       "$\\displaystyle \\frac{1}{1 + i \\tanh{\\left(1 \\right)}} = \\frac{1}{2} - \\frac{i}{2} + \\frac{1}{e^{2} - i}$"
      ],
      "text/plain": [
       "Eq(1/(1 + I*tanh(1)), 1/2 - I/2 + 1/(exp(2) - I))"
      ]
     },
     "execution_count": 286,
     "metadata": {},
     "output_type": "execute_result"
    }
   ],
   "source": [
    "Eq(1/(1+tan(tau)), I + 1/(I + exp(2*I*tau))+(1-I)/2).subs(tau,-I).expand().subs(I,-I)"
   ]
  },
  {
   "cell_type": "code",
   "execution_count": 287,
   "metadata": {},
   "outputs": [
    {
     "data": {
      "text/latex": [
       "$\\displaystyle \\frac{1}{1 - i \\tanh{\\left(1 \\right)}} = \\frac{1}{2} + \\frac{1}{e^{2} + i} + \\frac{i}{2}$"
      ],
      "text/plain": [
       "Eq(1/(1 - I*tanh(1)), 1/2 + 1/(exp(2) + I) + I/2)"
      ]
     },
     "execution_count": 287,
     "metadata": {},
     "output_type": "execute_result"
    }
   ],
   "source": [
    "Eq(1/(1+tan(tau)), I + 1/(I + exp(2*I*tau))+(1-I)/2).subs(tau,-I).expand()"
   ]
  },
  {
   "cell_type": "code",
   "execution_count": 291,
   "metadata": {},
   "outputs": [
    {
     "data": {
      "text/latex": [
       "$\\displaystyle \\pi \\int\\limits_{0}^{\\infty} e^{- 2 \\pi \\left|{\\omega}\\right|} e^{2 i \\pi \\omega \\tau}\\, d\\omega = \\frac{1}{2 \\left(- i \\tau + 1\\right)}$"
      ],
      "text/plain": [
       "Eq(pi*Integral(exp(-2*pi*Abs(omega))*exp(2*I*pi*omega*tau), (omega, 0, oo)), 1/(2*(-I*tau + 1)))"
      ]
     },
     "execution_count": 291,
     "metadata": {},
     "output_type": "execute_result"
    }
   ],
   "source": [
    "Eq(\n",
    "    pi*Integral(exp(-abs(2*pi*omega))*exp(2*I*pi*omega*tau),(omega, 0,oo)),\n",
    "    pi/(2*pi*(-I*tau+1))\n",
    ")"
   ]
  },
  {
   "cell_type": "code",
   "execution_count": 296,
   "metadata": {},
   "outputs": [
    {
     "data": {
      "image/png": "[encoded data removed]",
      "text/plain": [
       "<Figure size 432x288 with 1 Axes>"
      ]
     },
     "metadata": {
      "needs_background": "light"
     },
     "output_type": "display_data"
    },
    {
     "data": {
      "text/plain": [
       "<sympy.plotting.plot.Plot at 0x7fa3c580b640>"
      ]
     },
     "execution_count": 296,
     "metadata": {},
     "output_type": "execute_result"
    }
   ],
   "source": [
    "plot(1/(1-I*tanh(1))*1/2/(-I*t+1) + 1/(1+I*tanh(1))*1/2/(I*t+1),(t,0,pi/2))"
   ]
  },
  {
   "cell_type": "code",
   "execution_count": 297,
   "metadata": {},
   "outputs": [
    {
     "data": {
      "image/png": "[encoded data removed]",
      "text/plain": [
       "<Figure size 432x288 with 1 Axes>"
      ]
     },
     "metadata": {
      "needs_background": "light"
     },
     "output_type": "display_data"
    },
    {
     "data": {
      "text/plain": [
       "<sympy.plotting.plot.Plot at 0x7fa3edee6190>"
      ]
     },
     "execution_count": 297,
     "metadata": {},
     "output_type": "execute_result"
    }
   ],
   "source": [
    "plot(1/(t**2+1)*1/(tan(t)+1),(t,0,pi/2))"
   ]
  },
  {
   "cell_type": "code",
   "execution_count": 282,
   "metadata": {},
   "outputs": [
    {
     "data": {
      "text/latex": [
       "$\\displaystyle 2 i \\pi \\omega F{\\left(\\omega \\right)} = i \\pi \\sum_{n=-\\infty}^{\\infty} \\left(\\frac{1}{2 \\left(2 i \\pi n + 2 - \\frac{i \\pi}{2}\\right)} - \\frac{1}{2 \\left(2 i \\pi n - 2 - \\frac{i \\pi}{2}\\right)}\\right) e^{- 2 i \\pi \\omega \\left(\\pi n - \\frac{\\pi}{4}\\right)} + \\pi \\left(- \\frac{1}{e^{2} - i} - \\frac{1}{e^{2} + i} + i\\right) e^{- 2 \\pi \\left|{\\omega}\\right|} \\theta\\left(\\omega\\right) + \\frac{\\pi e^{- 2 \\pi \\left|{\\omega}\\right|}}{e^{2} + i} + \\pi \\left(\\frac{1}{2} + \\frac{i}{2}\\right) e^{- 2 \\pi \\left|{\\omega}\\right|}$"
      ],
      "text/plain": [
       "Eq(2*I*pi*omega*F(omega), I*pi*Sum((1/(2*(2*I*pi*n + 2 - I*pi/2)) - 1/(2*(2*I*pi*n - 2 - I*pi/2)))*exp(-2*I*pi*omega*(pi*n - pi/4)), (n, -oo, oo)) + pi*(-1/(exp(2) - I) - 1/(exp(2) + I) + I)*exp(-2*pi*Abs(omega))*Heaviside(omega) + pi*exp(-2*pi*Abs(omega))/(exp(2) + I) + pi*(1/2 + I/2)*exp(-2*pi*Abs(omega)))"
      ]
     },
     "execution_count": 282,
     "metadata": {},
     "output_type": "execute_result"
    }
   ],
   "source": [
    "Eq((2*I*pi*omega)*F(omega), pi*((1 + I)/2)*(exp(-abs(2*pi*omega))) +\n",
    "   + pi/(exp(2)+I)*(exp(-abs(2*pi*omega))) +\n",
    "   + pi*(I - 1/(exp(2)-I) -1/(exp(2)+I))*Heaviside(omega)*(exp(-abs(2*pi*omega))) +\n",
    "   I*pi*Sum(exp(-2*I*pi*omega*(pi*n-pi/4))*(1/(2*I*pi*n+2-I*pi/2)/2 - 1/(2*I*pi*n-2-I*pi/2)/2), (n,-oo,oo)))"
   ]
  },
  {
   "cell_type": "code",
   "execution_count": 165,
   "metadata": {},
   "outputs": [
    {
     "data": {
      "text/latex": [
       "$\\displaystyle 2 i \\pi \\omega F{\\left(\\omega \\right)} = i \\pi \\sum_{n=-\\infty}^{\\infty} \\left(\\frac{1}{2 \\left(2 i \\pi n + 2 + \\frac{i \\pi}{2}\\right)} - \\frac{1}{2 \\left(2 i \\pi n + 2 - \\frac{i \\pi}{2}\\right)}\\right) e^{- 2 i \\pi \\omega \\left(\\pi n - \\frac{\\pi}{4}\\right)} + \\pi \\left(- \\frac{1}{e^{2} - i} - \\frac{1}{e^{2} + i} + i\\right) e^{- 2 \\pi \\left|{\\omega}\\right|} \\theta\\left(\\omega\\right) + \\pi \\left(\\frac{1}{2} + \\frac{1}{e^{2} + i} + \\frac{i}{2}\\right) e^{- 2 \\pi \\left|{\\omega}\\right|}$"
      ],
      "text/plain": [
       "Eq(2*I*pi*omega*F(omega), I*pi*Sum((1/(2*(2*I*pi*n + 2 + I*pi/2)) - 1/(2*(2*I*pi*n + 2 - I*pi/2)))*exp(-2*I*pi*omega*(pi*n - pi/4)), (n, -oo, oo)) + pi*(-1/(exp(2) - I) - 1/(exp(2) + I) + I)*exp(-2*pi*Abs(omega))*Heaviside(omega) + pi*(1/2 + 1/(exp(2) + I) + I/2)*exp(-2*pi*Abs(omega)))"
      ]
     },
     "execution_count": 165,
     "metadata": {},
     "output_type": "execute_result"
    }
   ],
   "source": [
    "Eq((2*I*pi*omega)*F(omega), pi*((1 + I)/2 +1/(exp(2)+I))*(exp(-abs(2*pi*omega))) +\n",
    "   + pi*(I - (1/(exp(2)-I) +1/(exp(2)+I)))*Heaviside(omega)*(exp(-abs(2*pi*omega))) +\n",
    "   I*pi*Sum(exp(-2*I*pi*omega*(pi*n-pi/4))*(1/(2*I*pi*n+2+I*pi/2)/2 - 1/(2*I*pi*n+2-I*pi/2)/2), (n,-oo,oo)))"
   ]
  },
  {
   "cell_type": "code",
   "execution_count": 183,
   "metadata": {},
   "outputs": [],
   "source": [
    "A = Function(\"A\")\n",
    "B, C = symbols('B, C')"
   ]
  },
  {
   "cell_type": "code",
   "execution_count": 192,
   "metadata": {},
   "outputs": [
    {
     "data": {
      "text/latex": [
       "$\\displaystyle A{\\left(n \\right)} = \\frac{i}{2 \\left(2 i \\pi n + 2 + \\frac{i \\pi}{2}\\right)} - \\frac{i}{2 \\left(2 i \\pi n + 2 - \\frac{i \\pi}{2}\\right)}$"
      ],
      "text/plain": [
       "Eq(A(n), I/(2*(2*I*pi*n + 2 + I*pi/2)) - I/(2*(2*I*pi*n + 2 - I*pi/2)))"
      ]
     },
     "execution_count": 192,
     "metadata": {},
     "output_type": "execute_result"
    }
   ],
   "source": [
    "Eq(A(n),(I/(2*I*pi*n+2+I*pi/2)/2 - I/(2*I*pi*n+2-I*pi/2)/2) )"
   ]
  },
  {
   "cell_type": "code",
   "execution_count": 193,
   "metadata": {},
   "outputs": [
    {
     "data": {
      "text/latex": [
       "$\\displaystyle B = \\frac{1}{2} + \\frac{1}{e^{2} + i} + \\frac{i}{2}$"
      ],
      "text/plain": [
       "Eq(B, 1/2 + 1/(exp(2) + I) + I/2)"
      ]
     },
     "execution_count": 193,
     "metadata": {},
     "output_type": "execute_result"
    }
   ],
   "source": [
    "Eq(B, ((1 + I)/2 +1/(exp(2)+I)))"
   ]
  },
  {
   "cell_type": "code",
   "execution_count": 194,
   "metadata": {},
   "outputs": [
    {
     "data": {
      "text/latex": [
       "$\\displaystyle C = - \\frac{1}{e^{2} - i} - \\frac{1}{e^{2} + i} + i$"
      ],
      "text/plain": [
       "Eq(C, -1/(exp(2) - I) - 1/(exp(2) + I) + I)"
      ]
     },
     "execution_count": 194,
     "metadata": {},
     "output_type": "execute_result"
    }
   ],
   "source": [
    "Eq(C, (I - (1/(exp(2)-I) +1/(exp(2)+I))))"
   ]
  },
  {
   "cell_type": "code",
   "execution_count": 195,
   "metadata": {},
   "outputs": [
    {
     "data": {
      "text/latex": [
       "$\\displaystyle 2 i \\pi \\omega F{\\left(\\omega \\right)} = \\pi B e^{- 2 \\pi \\left|{\\omega}\\right|} + \\pi C e^{- 2 \\pi \\left|{\\omega}\\right|} \\theta\\left(\\omega\\right) + \\pi \\sum_{n=-\\infty}^{\\infty} A{\\left(n \\right)} e^{- 2 i \\pi \\omega \\left(\\pi n - \\frac{\\pi}{4}\\right)}$"
      ],
      "text/plain": [
       "Eq(2*I*pi*omega*F(omega), pi*B*exp(-2*pi*Abs(omega)) + pi*C*exp(-2*pi*Abs(omega))*Heaviside(omega) + pi*Sum(A(n)*exp(-2*I*pi*omega*(pi*n - pi/4)), (n, -oo, oo)))"
      ]
     },
     "execution_count": 195,
     "metadata": {},
     "output_type": "execute_result"
    }
   ],
   "source": [
    "Eq((2*I*pi*omega)*F(omega), B*pi*(exp(-abs(2*pi*omega))) + C*pi*Heaviside(omega)*(exp(-abs(2*pi*omega))) +\n",
    "   pi*Sum(A(n)*exp(-2*I*pi*omega*(pi*n-pi/4)), (n,-oo,oo)))"
   ]
  },
  {
   "cell_type": "code",
   "execution_count": 190,
   "metadata": {},
   "outputs": [
    {
     "data": {
      "text/latex": [
       "$\\displaystyle 2 i \\pi \\omega F{\\left(\\omega \\right)} = \\int\\limits_{-\\infty}^{\\infty} e^{- 2 i \\pi \\omega \\tau} \\frac{d}{d \\tau} f{\\left(\\tau \\right)}\\, d\\tau$"
      ],
      "text/plain": [
       "Eq(2*I*pi*omega*F(omega), Integral(exp(-2*I*pi*omega*tau)*Derivative(f(tau), tau), (tau, -oo, oo)))"
      ]
     },
     "execution_count": 190,
     "metadata": {},
     "output_type": "execute_result"
    }
   ],
   "source": [
    "Eq((2*I*pi*omega)*F(omega),Integral(diff(f(tau),tau)*exp(-2*I*pi*omega*tau),(tau,-oo,oo)))"
   ]
  },
  {
   "cell_type": "code",
   "execution_count": 189,
   "metadata": {},
   "outputs": [
    {
     "data": {
      "text/latex": [
       "$\\displaystyle f{\\left(\\tau \\right)} = \\int\\limits_{-\\infty}^{\\infty} F{\\left(\\omega \\right)} e^{2 i \\pi \\omega \\tau}\\, d\\omega$"
      ],
      "text/plain": [
       "Eq(f(tau), Integral(F(omega)*exp(2*I*pi*omega*tau), (omega, -oo, oo)))"
      ]
     },
     "execution_count": 189,
     "metadata": {},
     "output_type": "execute_result"
    }
   ],
   "source": [
    "Eq(f(tau),Integral(F(omega)*exp(2*I*pi*omega*tau),(omega,-oo,oo)))"
   ]
  },
  {
   "cell_type": "code",
   "execution_count": 203,
   "metadata": {},
   "outputs": [
    {
     "data": {
      "text/latex": [
       "$\\displaystyle \\frac{d}{d \\tau} f{\\left(\\tau \\right)} = \\pi B \\int\\limits_{-\\infty}^{\\infty} e^{- 2 \\pi \\left|{\\omega}\\right|} e^{2 i \\pi \\omega \\tau}\\, d\\omega + \\pi C \\int\\limits_{-\\infty}^{\\infty} e^{- 2 \\pi \\left|{\\omega}\\right|} e^{2 i \\pi \\omega \\tau} \\theta\\left(\\omega\\right)\\, d\\omega + \\pi \\sum_{n=-\\infty}^{\\infty} A{\\left(n \\right)} \\int\\limits_{-\\infty}^{\\infty} e^{2 i \\pi \\omega \\tau} e^{- 2 i \\pi \\omega \\left(\\pi n - \\frac{\\pi}{4}\\right)}\\, d\\omega$"
      ],
      "text/plain": [
       "Eq(Derivative(f(tau), tau), pi*B*Integral(exp(-2*pi*Abs(omega))*exp(2*I*pi*omega*tau), (omega, -oo, oo)) + pi*C*Integral(exp(-2*pi*Abs(omega))*exp(2*I*pi*omega*tau)*Heaviside(omega), (omega, -oo, oo)) + pi*Sum(A(n)*Integral(exp(2*I*pi*omega*tau)*exp(-2*I*pi*omega*(pi*n - pi/4)), (omega, -oo, oo)), (n, -oo, oo)))"
      ]
     },
     "execution_count": 203,
     "metadata": {},
     "output_type": "execute_result"
    }
   ],
   "source": [
    "Eq(diff(f(tau),tau), \n",
    "   B*pi*Integral(exp(-abs(2*pi*omega))*exp(2*I*pi*omega*tau),(omega, -oo,oo)) + \n",
    "   C*pi*Integral(Heaviside(omega)*exp(-abs(2*pi*omega))*exp(2*I*pi*omega*tau),(omega, -oo,oo)) +\n",
    "   pi*Sum(A(n)*Integral(exp(-2*I*pi*omega*(pi*n-pi/4))*exp(2*I*pi*omega*tau),(omega, -oo,oo)), (n,-oo,oo))\n",
    ")"
   ]
  },
  {
   "cell_type": "code",
   "execution_count": 211,
   "metadata": {},
   "outputs": [
    {
     "data": {
      "text/latex": [
       "$\\displaystyle \\pi B \\int\\limits_{-\\infty}^{\\infty} e^{- 2 \\pi \\left|{\\omega}\\right|} e^{2 i \\pi \\omega \\tau}\\, d\\omega = \\frac{B}{\\tau^{2} + 1}$"
      ],
      "text/plain": [
       "Eq(pi*B*Integral(exp(-2*pi*Abs(omega))*exp(2*I*pi*omega*tau), (omega, -oo, oo)), B/(tau**2 + 1))"
      ]
     },
     "execution_count": 211,
     "metadata": {},
     "output_type": "execute_result"
    }
   ],
   "source": [
    "Eq(\n",
    "    B*pi*Integral(exp(-abs(2*pi*omega))*exp(2*I*pi*omega*tau),(omega, -oo,oo)),\n",
    "    B/(1+tau**2)\n",
    ")"
   ]
  },
  {
   "cell_type": "code",
   "execution_count": 205,
   "metadata": {},
   "outputs": [
    {
     "data": {
      "text/latex": [
       "$\\displaystyle \\pi C \\int\\limits_{-\\infty}^{\\infty} e^{- 2 \\pi \\left|{\\omega}\\right|} e^{2 i \\pi \\omega \\tau} \\theta\\left(\\omega\\right)\\, d\\omega = \\pi C \\int\\limits_{0}^{\\infty} e^{- 2 \\pi \\omega} e^{2 i \\pi \\omega \\tau}\\, d\\omega$"
      ],
      "text/plain": [
       "Eq(pi*C*Integral(exp(-2*pi*Abs(omega))*exp(2*I*pi*omega*tau)*Heaviside(omega), (omega, -oo, oo)), pi*C*Integral(exp(-2*pi*omega)*exp(2*I*pi*omega*tau), (omega, 0, oo)))"
      ]
     },
     "execution_count": 205,
     "metadata": {},
     "output_type": "execute_result"
    }
   ],
   "source": [
    "Eq(\n",
    "    C*pi*Integral(Heaviside(omega)*exp(-abs(2*pi*omega))*exp(2*I*pi*omega*tau),(omega, -oo,oo)),\n",
    "    C*pi*Integral(exp(-2*pi*omega)*exp(2*I*pi*omega*tau),(omega, 0,oo))\n",
    ")"
   ]
  },
  {
   "cell_type": "code",
   "execution_count": 206,
   "metadata": {},
   "outputs": [
    {
     "data": {
      "text/latex": [
       "$\\displaystyle \\pi C \\int\\limits_{-\\infty}^{\\infty} e^{- 2 \\pi \\left|{\\omega}\\right|} e^{2 i \\omega \\tau} \\theta\\left(\\omega\\right)\\, d\\omega = \\pi C \\left(\\begin{cases} \\frac{1}{2 \\pi \\left(- i \\tau + 1\\right)} & \\text{for}\\: \\left|{\\arg{\\left(\\tau \\right)} - \\frac{\\pi}{2}}\\right| \\leq \\frac{\\pi}{2} \\\\\\int\\limits_{0}^{\\infty} e^{- 2 \\pi \\omega} e^{2 i \\pi \\omega \\tau}\\, d\\omega & \\text{otherwise} \\end{cases}\\right)$"
      ],
      "text/plain": [
       "Eq(pi*C*Integral(exp(-2*pi*Abs(omega))*exp(2*I*omega*tau)*Heaviside(omega), (omega, -oo, oo)), pi*C*Piecewise((1/(2*pi*(-I*tau + 1)), Abs(arg(tau) - pi/2) <= pi/2), (Integral(exp(-2*pi*omega)*exp(2*I*pi*omega*tau), (omega, 0, oo)), True)))"
      ]
     },
     "execution_count": 206,
     "metadata": {},
     "output_type": "execute_result"
    }
   ],
   "source": [
    "Eq(\n",
    "    C*pi*Integral(Heaviside(omega)*exp(-abs(2*pi*omega))*exp(2*I*omega*tau),(omega, -oo,oo)),\n",
    "    C*pi*Integral(exp(-2*pi*omega)*exp(2*I*pi*omega*tau),(omega, 0,oo)).doit()\n",
    ")"
   ]
  },
  {
   "cell_type": "code",
   "execution_count": 207,
   "metadata": {},
   "outputs": [
    {
     "data": {
      "text/latex": [
       "$\\displaystyle \\pi C \\int\\limits_{-\\infty}^{\\infty} e^{- 2 \\pi \\left|{\\omega}\\right|} e^{2 i \\pi \\omega \\tau} \\theta\\left(\\omega\\right)\\, d\\omega = \\frac{C}{2 \\left(- i \\tau + 1\\right)}$"
      ],
      "text/plain": [
       "Eq(pi*C*Integral(exp(-2*pi*Abs(omega))*exp(2*I*pi*omega*tau)*Heaviside(omega), (omega, -oo, oo)), C/(2*(-I*tau + 1)))"
      ]
     },
     "execution_count": 207,
     "metadata": {},
     "output_type": "execute_result"
    }
   ],
   "source": [
    "Eq(\n",
    "    C*pi*Integral(Heaviside(omega)*exp(-abs(2*pi*omega))*exp(2*I*pi*omega*tau),(omega, -oo,oo)),\n",
    "    C*pi/(2*pi*(-I*tau+1))\n",
    ")"
   ]
  },
  {
   "cell_type": "code",
   "execution_count": 226,
   "metadata": {},
   "outputs": [
    {
     "data": {
      "text/latex": [
       "$\\displaystyle \\int\\limits_{-\\infty}^{\\infty} e^{2 i \\pi \\omega \\tau} e^{- 2 i \\pi \\omega \\left(\\pi n - \\frac{\\pi}{4}\\right)}\\, d\\omega = \\delta\\left(- \\pi n + \\tau + \\frac{\\pi}{4}\\right)$"
      ],
      "text/plain": [
       "Eq(Integral(exp(2*I*pi*omega*tau)*exp(-2*I*pi*omega*(pi*n - pi/4)), (omega, -oo, oo)), DiracDelta(-pi*n + tau + pi/4))"
      ]
     },
     "execution_count": 226,
     "metadata": {},
     "output_type": "execute_result"
    }
   ],
   "source": [
    "Eq(\n",
    "    Integral(exp(-2*I*pi*omega*(pi*n-pi/4))*exp(2*I*pi*omega*tau),(omega, -oo,oo)),\n",
    "    DiracDelta(tau - pi*n+pi/4)\n",
    ")"
   ]
  },
  {
   "cell_type": "code",
   "execution_count": 227,
   "metadata": {},
   "outputs": [
    {
     "data": {
      "text/latex": [
       "$\\displaystyle e^{- 2 i \\pi \\omega \\left(\\pi n - \\frac{\\pi}{4}\\right)}$"
      ],
      "text/plain": [
       "exp(-2*I*pi*omega*(pi*n - pi/4))"
      ]
     },
     "execution_count": 227,
     "metadata": {},
     "output_type": "execute_result"
    }
   ],
   "source": [
    "exp(-2*I*pi*omega*tau).subs(tau,(pi*n-pi/4))"
   ]
  },
  {
   "cell_type": "code",
   "execution_count": 228,
   "metadata": {
    "scrolled": true
   },
   "outputs": [
    {
     "data": {
      "text/latex": [
       "$\\displaystyle \\frac{d}{d \\tau} f{\\left(\\tau \\right)} = \\frac{B}{\\tau^{2} + 1} + \\frac{C}{2 \\left(- i \\tau + 1\\right)} + \\pi \\sum_{n=-\\infty}^{\\infty} A{\\left(n \\right)} \\delta\\left(- \\pi n + \\tau + \\frac{\\pi}{4}\\right)$"
      ],
      "text/plain": [
       "Eq(Derivative(f(tau), tau), B/(tau**2 + 1) + C/(2*(-I*tau + 1)) + pi*Sum(A(n)*DiracDelta(-pi*n + tau + pi/4), (n, -oo, oo)))"
      ]
     },
     "execution_count": 228,
     "metadata": {},
     "output_type": "execute_result"
    }
   ],
   "source": [
    "Eq(diff(f(tau),tau), B/(1+tau**2) + C*pi/(2*pi*(-I*tau+1)) + pi*Sum(A(n)*DiracDelta(tau - pi*n + pi/4), (n,-oo,oo)))"
   ]
  },
  {
   "cell_type": "code",
   "execution_count": 229,
   "metadata": {},
   "outputs": [
    {
     "data": {
      "text/latex": [
       "$\\displaystyle - f{\\left(0 \\right)} + f{\\left(\\tau \\right)} = B \\int\\limits_{0}^{\\tau} \\frac{1}{t^{2} + 1}\\, dt + C \\int\\limits_{0}^{\\tau} \\frac{1}{- 2 i \\tau + 2}\\, dt + \\pi \\sum_{n=-\\infty}^{\\infty} A{\\left(n \\right)} \\int\\limits_{0}^{\\tau} \\delta\\left(- \\pi n + \\tau + \\frac{\\pi}{4}\\right)\\, dt$"
      ],
      "text/plain": [
       "Eq(-f(0) + f(tau), B*Integral(1/(t**2 + 1), (t, 0, tau)) + C*Integral(1/(-2*I*tau + 2), (t, 0, tau)) + pi*Sum(A(n)*Integral(DiracDelta(-pi*n + tau + pi/4), (t, 0, tau)), (n, -oo, oo)))"
      ]
     },
     "execution_count": 229,
     "metadata": {},
     "output_type": "execute_result"
    }
   ],
   "source": [
    "Eq(f(tau) - f(0), \n",
    "   B*Integral(1/(1+t**2),(t,0,tau)) + \n",
    "   C*Integral(1/(2*(-I*tau+1)),(t,0,tau)) + \n",
    "   pi*Sum(A(n)*Integral(DiracDelta(tau - pi*n + pi/4),(t,0,tau)), (n,-oo,oo))\n",
    ")"
   ]
  },
  {
   "cell_type": "code",
   "execution_count": 230,
   "metadata": {},
   "outputs": [
    {
     "data": {
      "text/latex": [
       "$\\displaystyle A{\\left(-2 \\right)} \\delta\\left(\\tau + \\frac{9 \\pi}{4}\\right) + A{\\left(-1 \\right)} \\delta\\left(\\tau + \\frac{5 \\pi}{4}\\right) + A{\\left(0 \\right)} \\delta\\left(\\tau + \\frac{\\pi}{4}\\right) + A{\\left(1 \\right)} \\delta\\left(\\tau - \\frac{3 \\pi}{4}\\right) + A{\\left(2 \\right)} \\delta\\left(\\tau - \\frac{7 \\pi}{4}\\right)$"
      ],
      "text/plain": [
       "A(-2)*DiracDelta(tau + 9*pi/4) + A(-1)*DiracDelta(tau + 5*pi/4) + A(0)*DiracDelta(tau + pi/4) + A(1)*DiracDelta(tau - 3*pi/4) + A(2)*DiracDelta(tau - 7*pi/4)"
      ]
     },
     "execution_count": 230,
     "metadata": {},
     "output_type": "execute_result"
    }
   ],
   "source": [
    "Sum(A(n)* DiracDelta(tau - pi*n + pi/4),(n,-2,2)).doit()"
   ]
  },
  {
   "cell_type": "code",
   "execution_count": 215,
   "metadata": {},
   "outputs": [
    {
     "data": {
      "text/latex": [
       "$\\displaystyle \\int\\limits_{0}^{\\frac{\\pi}{2}} \\frac{1}{\\left(x^{2} + 1\\right) \\left(\\tan{\\left(x \\right)} + 1\\right)}\\, dx$"
      ],
      "text/plain": [
       "Integral(1/((x**2 + 1)*(tan(x) + 1)), (x, 0, pi/2))"
      ]
     },
     "execution_count": 215,
     "metadata": {},
     "output_type": "execute_result"
    }
   ],
   "source": [
    "Integral(1/(1+x**2)*1/(1+tan(x)), (x, 0, pi/2))"
   ]
  },
  {
   "cell_type": "code",
   "execution_count": 232,
   "metadata": {},
   "outputs": [
    {
     "data": {
      "text/latex": [
       "$\\displaystyle B \\operatorname{atan}{\\left(\\tau \\right)} + C \\left(\\frac{i \\log{\\left(- 2 i \\tau + 2 \\right)}}{2} - \\frac{i \\log{\\left(2 \\right)}}{2}\\right)$"
      ],
      "text/plain": [
       "B*atan(tau) + C*(I*log(-2*I*tau + 2)/2 - I*log(2)/2)"
      ]
     },
     "execution_count": 232,
     "metadata": {},
     "output_type": "execute_result"
    }
   ],
   "source": [
    "B*Integral(1/(1+t**2),(t,0,tau)).doit() + C*Integral(1/(2*(-I*t+1)),(t,0,tau)).doit()"
   ]
  },
  {
   "cell_type": "code",
   "execution_count": 233,
   "metadata": {},
   "outputs": [
    {
     "data": {
      "text/latex": [
       "$\\displaystyle - f{\\left(0 \\right)} + f{\\left(\\tau \\right)} = \\left(\\frac{i \\log{\\left(- 2 i \\tau + 2 \\right)}}{2} - \\frac{i \\log{\\left(2 \\right)}}{2}\\right) \\left(- \\frac{1}{e^{2} - i} - \\frac{1}{e^{2} + i} + i\\right) + \\left(\\frac{1}{2} + \\frac{1}{e^{2} + i} + \\frac{i}{2}\\right) \\operatorname{atan}{\\left(\\tau \\right)}$"
      ],
      "text/plain": [
       "Eq(-f(0) + f(tau), (I*log(-2*I*tau + 2)/2 - I*log(2)/2)*(-1/(exp(2) - I) - 1/(exp(2) + I) + I) + (1/2 + 1/(exp(2) + I) + I/2)*atan(tau))"
      ]
     },
     "execution_count": 233,
     "metadata": {},
     "output_type": "execute_result"
    }
   ],
   "source": [
    "Eq(f(tau) - f(0),\n",
    "((1 + I)/2 +1/(exp(2)+I))*Integral(1/(1+t**2),(t,0,tau)).doit() + \n",
    "(I - (1/(exp(2)-I) +1/(exp(2)+I)))*Integral(1/(2*(-I*t+1)),(t,0,tau)).doit()\n",
    "  )"
   ]
  },
  {
   "cell_type": "code",
   "execution_count": 237,
   "metadata": {},
   "outputs": [
    {
     "data": {
      "text/latex": [
       "$\\displaystyle - f{\\left(0 \\right)} + f{\\left(\\frac{\\pi}{2} \\right)} = \\left(- \\frac{i \\log{\\left(2 \\right)}}{2} + \\frac{i \\log{\\left(2 - i \\pi \\right)}}{2}\\right) \\left(- \\frac{1}{e^{2} - i} - \\frac{1}{e^{2} + i} + i\\right) + \\left(\\frac{1}{2} + \\frac{1}{e^{2} + i} + \\frac{i}{2}\\right) \\operatorname{atan}{\\left(\\frac{\\pi}{2} \\right)}$"
      ],
      "text/plain": [
       "Eq(-f(0) + f(pi/2), (-I*log(2)/2 + I*log(2 - I*pi)/2)*(-1/(exp(2) - I) - 1/(exp(2) + I) + I) + (1/2 + 1/(exp(2) + I) + I/2)*atan(pi/2))"
      ]
     },
     "execution_count": 237,
     "metadata": {},
     "output_type": "execute_result"
    }
   ],
   "source": [
    "Eq(f(tau) - f(0),\n",
    "((1 + I)/2 +1/(exp(2)+I))*Integral(1/(1+t**2),(t,0,tau)).doit() + \n",
    "(I - (1/(exp(2)-I) +1/(exp(2)+I)))*Integral(1/(2*(-I*t+1)),(t,0,tau)).doit()\n",
    "  ).subs(tau,pi/2)"
   ]
  },
  {
   "cell_type": "code",
   "execution_count": 220,
   "metadata": {},
   "outputs": [
    {
     "data": {
      "image/png": "[encoded data removed]",
      "text/plain": [
       "<Figure size 432x288 with 1 Axes>"
      ]
     },
     "metadata": {
      "needs_background": "light"
     },
     "output_type": "display_data"
    },
    {
     "data": {
      "text/plain": [
       "<sympy.plotting.plot.Plot at 0x7fa3c595f850>"
      ]
     },
     "execution_count": 220,
     "metadata": {},
     "output_type": "execute_result"
    }
   ],
   "source": [
    "plot(1/(1+x**2)*1/(1+tan(x)),(x,0,pi*0.7))"
   ]
  },
  {
   "cell_type": "code",
   "execution_count": 144,
   "metadata": {},
   "outputs": [
    {
     "data": {
      "text/latex": [
       "$\\displaystyle \\frac{1}{\\tan{\\left(\\tau \\right)} + 1} = \\frac{1}{2} + \\frac{i}{2} - \\frac{i}{- i e^{2 i \\tau} + 1}$"
      ],
      "text/plain": [
       "Eq(1/(tan(tau) + 1), 1/2 + I/2 - I/(-I*exp(2*I*tau) + 1))"
      ]
     },
     "execution_count": 144,
     "metadata": {},
     "output_type": "execute_result"
    }
   ],
   "source": [
    "Eq(1/(1+tan(tau)), I - I/(1-I*exp(2*I*tau))+(1-I)/2)"
   ]
  },
  {
   "cell_type": "code",
   "execution_count": 145,
   "metadata": {},
   "outputs": [
    {
     "data": {
      "text/latex": [
       "$\\displaystyle \\tan{\\left(\\tau \\right)} = i - \\frac{2 i}{1 + e^{- 2 i \\tau}}$"
      ],
      "text/plain": [
       "Eq(tan(tau), I - 2*I/(1 + exp(-2*I*tau)))"
      ]
     },
     "execution_count": 145,
     "metadata": {},
     "output_type": "execute_result"
    }
   ],
   "source": [
    "Eq(tan(tau), I-2*I/(1+exp(-2*I*tau)))"
   ]
  },
  {
   "cell_type": "code",
   "execution_count": 150,
   "metadata": {},
   "outputs": [
    {
     "data": {
      "text/latex": [
       "$\\displaystyle \\tan{\\left(\\frac{\\pi}{4} + i \\right)} = - \\frac{2 i}{1 - i e^{2}} + i$"
      ],
      "text/plain": [
       "Eq(tan(pi/4 + I), -2*I/(1 - I*exp(2)) + I)"
      ]
     },
     "execution_count": 150,
     "metadata": {},
     "output_type": "execute_result"
    }
   ],
   "source": [
    "Eq(tan(tau), I-2*I/(1+exp(-2*I*tau))).subs(tau,pi/4+I).expand()"
   ]
  },
  {
   "cell_type": "code",
   "execution_count": 152,
   "metadata": {},
   "outputs": [
    {
     "data": {
      "text/latex": [
       "$\\displaystyle \\frac{\\tan{\\left(\\frac{\\pi}{4} + i \\right)}}{2} = \\frac{1}{e^{2} + i} + \\frac{i}{2}$"
      ],
      "text/plain": [
       "Eq(tan(pi/4 + I)/2, 1/(exp(2) + I) + I/2)"
      ]
     },
     "execution_count": 152,
     "metadata": {},
     "output_type": "execute_result"
    }
   ],
   "source": [
    "Eq(tan(pi/4 +I)/2, 1/(I+exp(2))+I/2)"
   ]
  },
  {
   "cell_type": "code",
   "execution_count": 153,
   "metadata": {},
   "outputs": [
    {
     "data": {
      "text/latex": [
       "$\\displaystyle \\frac{\\tan{\\left(\\frac{\\pi}{4} - i \\right)}}{2} = - \\frac{i}{2} + \\frac{1}{e^{2} - i}$"
      ],
      "text/plain": [
       "Eq(tan(pi/4 - I)/2, -I/2 + 1/(exp(2) - I))"
      ]
     },
     "execution_count": 153,
     "metadata": {},
     "output_type": "execute_result"
    }
   ],
   "source": [
    "Eq(tan(pi/4 +I)/2, 1/(I+exp(2))+I/2).subs(I,-I)"
   ]
  },
  {
   "cell_type": "code",
   "execution_count": 160,
   "metadata": {},
   "outputs": [
    {
     "data": {
      "text/latex": [
       "$\\displaystyle \\frac{1}{1 - i \\tanh{\\left(1 \\right)}} = \\frac{1}{2} + \\frac{1}{e^{2} + i} + \\frac{i}{2}$"
      ],
      "text/plain": [
       "Eq(1/(1 - I*tanh(1)), 1/2 + 1/(exp(2) + I) + I/2)"
      ]
     },
     "execution_count": 160,
     "metadata": {},
     "output_type": "execute_result"
    }
   ],
   "source": [
    "Eq(1/(1+tan(tau)), I + 1/(I + exp(2*I*tau))+(1-I)/2).subs(tau,-I).expand()"
   ]
  },
  {
   "cell_type": "code",
   "execution_count": 162,
   "metadata": {},
   "outputs": [
    {
     "data": {
      "text/latex": [
       "$\\displaystyle \\frac{1}{1 + i \\tanh{\\left(1 \\right)}} = \\frac{1}{2} - \\frac{i}{2} + \\frac{1}{e^{2} - i}$"
      ],
      "text/plain": [
       "Eq(1/(1 + I*tanh(1)), 1/2 - I/2 + 1/(exp(2) - I))"
      ]
     },
     "execution_count": 162,
     "metadata": {},
     "output_type": "execute_result"
    }
   ],
   "source": [
    "Eq(1/(1+tan(tau)), I + 1/(I + exp(2*I*tau))+(1-I)/2).subs(tau,-I).expand().subs(I,-I)"
   ]
  },
  {
   "cell_type": "code",
   "execution_count": 166,
   "metadata": {},
   "outputs": [
    {
     "data": {
      "text/latex": [
       "$\\displaystyle \\infty$"
      ],
      "text/plain": [
       "oo"
      ]
     },
     "execution_count": 166,
     "metadata": {},
     "output_type": "execute_result"
    }
   ],
   "source": [
    "integrate(exp(-2*pi*omega)/omega,(omega, 0, oo))"
   ]
  },
  {
   "cell_type": "code",
   "execution_count": 172,
   "metadata": {},
   "outputs": [
    {
     "data": {
      "text/latex": [
       "$\\displaystyle \\frac{1}{\\tan{\\left(x \\right)} + 1} = - i \\sum_{n=1}^{\\infty} e^{2 i n \\left(x + \\frac{\\pi}{4}\\right)} + \\frac{1}{2} - \\frac{i}{2}$"
      ],
      "text/plain": [
       "Eq(1/(tan(x) + 1), -I*Sum(exp(2*I*n*(x + pi/4)), (n, 1, oo)) + 1/2 - I/2)"
      ]
     },
     "execution_count": 172,
     "metadata": {},
     "output_type": "execute_result"
    }
   ],
   "source": [
    "Eq(1/(1+tan(x)),-I*Sum(exp(2*I*(x+pi/4)*n),(n,1,oo))+(1-I)/2)"
   ]
  },
  {
   "cell_type": "code",
   "execution_count": 173,
   "metadata": {},
   "outputs": [
    {
     "data": {
      "text/latex": [
       "$\\displaystyle \\frac{i}{\\tan{\\left(x \\right)} + 1} = \\sum_{n=1}^{\\infty} e^{2 i n \\left(x + \\frac{\\pi}{4}\\right)} + \\frac{1}{2} + \\frac{i}{2}$"
      ],
      "text/plain": [
       "Eq(I/(tan(x) + 1), Sum(exp(2*I*n*(x + pi/4)), (n, 1, oo)) + 1/2 + I/2)"
      ]
     },
     "execution_count": 173,
     "metadata": {},
     "output_type": "execute_result"
    }
   ],
   "source": [
    "Eq(I/(1+tan(x)),Sum(exp(2*I*(x+pi/4)*n),(n,1,oo))+(I+1)/2)"
   ]
  },
  {
   "cell_type": "code",
   "execution_count": 174,
   "metadata": {},
   "outputs": [
    {
     "data": {
      "text/latex": [
       "$\\displaystyle \\frac{i}{\\cot{\\left(x \\right)} + 1} = \\sum_{n=1}^{\\infty} e^{2 i n \\left(- x - \\frac{\\pi}{4}\\right)} + \\frac{1}{2} + \\frac{i}{2}$"
      ],
      "text/plain": [
       "Eq(I/(cot(x) + 1), Sum(exp(2*I*n*(-x - pi/4)), (n, 1, oo)) + 1/2 + I/2)"
      ]
     },
     "execution_count": 174,
     "metadata": {},
     "output_type": "execute_result"
    }
   ],
   "source": [
    "Eq(I/(1+tan(x)),Sum(exp(2*I*(x+pi/4)*n),(n,1,oo))+(I+1)/2).subs(x,-x-pi/2)"
   ]
  },
  {
   "cell_type": "code",
   "execution_count": 178,
   "metadata": {},
   "outputs": [
    {
     "data": {
      "text/latex": [
       "$\\displaystyle - i + \\frac{i}{\\cot{\\left(x \\right)} + 1} + \\frac{i}{\\tan{\\left(x \\right)} + 1}$"
      ],
      "text/plain": [
       "-I + I/(cot(x) + 1) + I/(tan(x) + 1)"
      ]
     },
     "execution_count": 178,
     "metadata": {},
     "output_type": "execute_result"
    }
   ],
   "source": [
    "I/(tan(x)+1)+I/(cot(x)+1)-I"
   ]
  },
  {
   "cell_type": "markdown",
   "metadata": {},
   "source": [
    "## Numerical Test"
   ]
  },
  {
   "cell_type": "code",
   "execution_count": 343,
   "metadata": {},
   "outputs": [
    {
     "data": {
      "text/latex": [
       "$\\displaystyle \\operatorname{ArcPart}{\\left(R,\\omega \\right)} + \\operatorname{StraightPart}{\\left(R,\\omega \\right)} = 2 i \\pi \\sum_{n=- N}^{N} \\operatorname{Res}{\\left(n,R,\\omega \\right)}$"
      ],
      "text/plain": [
       "Eq(ArcPart(R, omega) + StraightPart(R, omega), 2*I*pi*Sum(Res(n, R, omega), (n, -N, N)))"
      ]
     },
     "execution_count": 343,
     "metadata": {},
     "output_type": "execute_result"
    }
   ],
   "source": [
    "Eq(StraightPart(R, omega)+ArcPart(R, omega), 2*pi*I*Sum(Res(n, R, omega),(n,-N,N)))"
   ]
  },
  {
   "cell_type": "code",
   "execution_count": 344,
   "metadata": {},
   "outputs": [
    {
     "data": {
      "text/latex": [
       "$\\displaystyle \\operatorname{StraightPart}{\\left(R,\\omega \\right)} = \\int\\limits_{- R}^{R} \\frac{\\left(\\frac{1}{2 \\left(z + i\\right)} - \\frac{1}{2 \\left(z - i\\right)}\\right) e^{- 2 i \\pi \\omega z}}{- i e^{2 i z} + 1}\\, dz$"
      ],
      "text/plain": [
       "Eq(StraightPart(R, omega), Integral((1/(2*(z + I)) - 1/(2*(z - I)))*exp(-2*I*pi*omega*z)/(-I*exp(2*I*z) + 1), (z, -R, R)))"
      ]
     },
     "execution_count": 344,
     "metadata": {},
     "output_type": "execute_result"
    }
   ],
   "source": [
    "Eq(StraightPart(R, omega), Integral(integrand,(z,-R,R)))"
   ]
  },
  {
   "cell_type": "code",
   "execution_count": 345,
   "metadata": {},
   "outputs": [
    {
     "data": {
      "text/latex": [
       "$\\displaystyle \\operatorname{ArcPart}{\\left(R,\\omega \\right)} = \\int\\limits_{0}^{\\pi} \\frac{i R \\left(\\frac{1}{2 \\left(R e^{i \\theta} + i\\right)} - \\frac{1}{2 \\left(R e^{i \\theta} - i\\right)}\\right) e^{i \\theta} e^{- 2 i \\pi R \\omega e^{i \\theta}}}{- i e^{2 i R e^{i \\theta}} + 1}\\, d\\theta$"
      ],
      "text/plain": [
       "Eq(ArcPart(R, omega), Integral(I*R*(1/(2*(R*exp(I*theta) + I)) - 1/(2*(R*exp(I*theta) - I)))*exp(I*theta)*exp(-2*I*pi*R*omega*exp(I*theta))/(-I*exp(2*I*R*exp(I*theta)) + 1), (theta, 0, pi)))"
      ]
     },
     "execution_count": 345,
     "metadata": {},
     "output_type": "execute_result"
    }
   ],
   "source": [
    "Eq(ArcPart(R, omega), Integral(integrand.subs(z,R*exp(I*theta))*I*R*exp(I*theta), (theta,0,pi)))"
   ]
  },
  {
   "cell_type": "code",
   "execution_count": 252,
   "metadata": {},
   "outputs": [
    {
     "data": {
      "text/plain": [
       "[(R, 1.5), (omega, -0.3), (epsilon, 1e-07)]"
      ]
     },
     "execution_count": 252,
     "metadata": {},
     "output_type": "execute_result"
    }
   ],
   "source": [
    "sub_list = [(R,1.5), (omega, -0.3), (epsilon, 0.0000001)]\n",
    "sub_list"
   ]
  },
  {
   "cell_type": "markdown",
   "metadata": {},
   "source": [
    "The contour goes from -R to R, then counter clockwise through the upper half plane from R to -R."
   ]
  },
  {
   "cell_type": "code",
   "execution_count": 348,
   "metadata": {},
   "outputs": [],
   "source": [
    "poles_test = [I, -pi/4]"
   ]
  },
  {
   "cell_type": "code",
   "execution_count": 6,
   "metadata": {},
   "outputs": [],
   "source": [
    "StraightPartPV = Function(\"StraightPartPV\")\n",
    "PoleArc = Function(\"PoleArc\")"
   ]
  },
  {
   "cell_type": "code",
   "execution_count": 350,
   "metadata": {},
   "outputs": [
    {
     "data": {
      "text/latex": [
       "$\\displaystyle \\operatorname{StraightPartPV}{\\left(R,\\omega,\\epsilon \\right)} = \\int\\limits_{- R}^{- \\epsilon - \\frac{\\pi}{4}} \\frac{\\left(\\frac{1}{2 \\left(z + i\\right)} - \\frac{1}{2 \\left(z - i\\right)}\\right) e^{- 2 i \\pi \\omega z}}{- i e^{2 i z} + 1}\\, dz + \\int\\limits_{\\epsilon - \\frac{\\pi}{4}}^{R} \\frac{\\left(\\frac{1}{2 \\left(z + i\\right)} - \\frac{1}{2 \\left(z - i\\right)}\\right) e^{- 2 i \\pi \\omega z}}{- i e^{2 i z} + 1}\\, dz$"
      ],
      "text/plain": [
       "Eq(StraightPartPV(R, omega, epsilon), Integral((1/(2*(z + I)) - 1/(2*(z - I)))*exp(-2*I*pi*omega*z)/(-I*exp(2*I*z) + 1), (z, -R, -epsilon - pi/4)) + Integral((1/(2*(z + I)) - 1/(2*(z - I)))*exp(-2*I*pi*omega*z)/(-I*exp(2*I*z) + 1), (z, epsilon - pi/4, R)))"
      ]
     },
     "execution_count": 350,
     "metadata": {},
     "output_type": "execute_result"
    }
   ],
   "source": [
    "Eq(StraightPartPV(R, omega, epsilon), Integral(integrand,(z,-R,-pi/4-epsilon)) + Integral(integrand,(z,-pi/4+epsilon, R)))"
   ]
  },
  {
   "cell_type": "code",
   "execution_count": 355,
   "metadata": {},
   "outputs": [
    {
     "data": {
      "text/latex": [
       "$\\displaystyle z = \\epsilon e^{i \\phi} - \\frac{\\pi}{4}$"
      ],
      "text/plain": [
       "Eq(z, epsilon*exp(I*phi) - pi/4)"
      ]
     },
     "execution_count": 355,
     "metadata": {},
     "output_type": "execute_result"
    }
   ],
   "source": [
    "Eq(z, -pi/4 + epsilon*exp(I*phi))"
   ]
  },
  {
   "cell_type": "code",
   "execution_count": 358,
   "metadata": {},
   "outputs": [
    {
     "data": {
      "text/latex": [
       "$\\displaystyle \\frac{d}{d \\phi} z = i \\epsilon e^{i \\phi}$"
      ],
      "text/plain": [
       "Eq(Derivative(z, phi), I*epsilon*exp(I*phi))"
      ]
     },
     "execution_count": 358,
     "metadata": {},
     "output_type": "execute_result"
    }
   ],
   "source": [
    "Eq(Derivative(z, phi), diff(epsilon*exp(I*phi),phi))"
   ]
  },
  {
   "cell_type": "code",
   "execution_count": 361,
   "metadata": {},
   "outputs": [
    {
     "data": {
      "text/latex": [
       "$\\displaystyle \\operatorname{PoleArc}{\\left(R,\\omega,\\epsilon \\right)} = \\int\\limits_{\\pi}^{0} \\frac{i \\epsilon \\left(\\frac{1}{2 \\left(\\epsilon e^{i \\phi} - \\frac{\\pi}{4} + i\\right)} - \\frac{1}{2 \\left(\\epsilon e^{i \\phi} - \\frac{\\pi}{4} - i\\right)}\\right) e^{i \\phi} e^{- 2 i \\pi \\omega \\left(\\epsilon e^{i \\phi} - \\frac{\\pi}{4}\\right)}}{- i e^{2 i \\left(\\epsilon e^{i \\phi} - \\frac{\\pi}{4}\\right)} + 1}\\, d\\phi$"
      ],
      "text/plain": [
       "Eq(PoleArc(R, omega, epsilon), Integral(I*epsilon*(1/(2*(epsilon*exp(I*phi) - pi/4 + I)) - 1/(2*(epsilon*exp(I*phi) - pi/4 - I)))*exp(I*phi)*exp(-2*I*pi*omega*(epsilon*exp(I*phi) - pi/4))/(-I*exp(2*I*(epsilon*exp(I*phi) - pi/4)) + 1), (phi, pi, 0)))"
      ]
     },
     "execution_count": 361,
     "metadata": {},
     "output_type": "execute_result"
    }
   ],
   "source": [
    "Eq(PoleArc(R, omega, epsilon),\n",
    "   Integral(integrand.subs(z,-pi/4 + epsilon*exp(I*phi))*I*epsilon*exp(I*phi),(phi,pi,0))\n",
    "  )"
   ]
  },
  {
   "cell_type": "code",
   "execution_count": null,
   "metadata": {},
   "outputs": [],
   "source": [
    "Eq(StraightPartPV(R, omega, epsilon) + PoleArc(R, omega, epsilon) + ArcPart(R, omega),\n",
    "    Integral(integrand,(z,-R,-pi/4-epsilon)).subs(sub_list).evalf() + \n",
    "    Integral(integrand,(z,-pi/4+epsilon, R)).subs(sub_list).evalf() +\n",
    "    Integral(integrand.subs(z,-pi/4 + epsilon*exp(I*phi))*I*epsilon*exp(I*phi),(phi,pi,0)).subs(sub_list).evalf() +\n",
    "    Integral(integrand.subs(z,R*exp(I*theta))*I*R*exp(I*theta),(theta,0,pi)).subs(sub_list).evalf()\n",
    ")"
   ]
  },
  {
   "cell_type": "code",
   "execution_count": 392,
   "metadata": {},
   "outputs": [
    {
     "data": {
      "text/latex": [
       "$\\displaystyle \\operatorname{ArcPart}{\\left(R,\\omega \\right)} + \\operatorname{PoleArc}{\\left(R,\\omega,\\epsilon \\right)} + \\operatorname{StraightPartPV}{\\left(R,\\omega,\\epsilon \\right)} = 2 i \\pi \\operatorname{Res}{\\left(0,R,\\omega \\right)}$"
      ],
      "text/plain": [
       "Eq(ArcPart(R, omega) + PoleArc(R, omega, epsilon) + StraightPartPV(R, omega, epsilon), 2*I*pi*Res(0, R, omega))"
      ]
     },
     "execution_count": 392,
     "metadata": {},
     "output_type": "execute_result"
    }
   ],
   "source": [
    "Eq(StraightPartPV(R, omega, epsilon) + PoleArc(R, omega, epsilon) + ArcPart(R, omega),2*pi*I*Res(0, R, omega))"
   ]
  },
  {
   "cell_type": "code",
   "execution_count": 367,
   "metadata": {},
   "outputs": [
    {
     "data": {
      "text/latex": [
       "$\\displaystyle \\operatorname{Res}{\\left(0,R,\\omega \\right)} = \\lim_{z \\to i^+}\\left(\\frac{\\left(z - i\\right) \\left(\\frac{1}{2 \\left(z + i\\right)} - \\frac{1}{2 \\left(z - i\\right)}\\right) e^{- 2 i \\pi \\omega z}}{- i e^{2 i z} + 1}\\right)$"
      ],
      "text/plain": [
       "Eq(Res(0, R, omega), Limit((z - I)*(1/(2*(z + I)) - 1/(2*(z - I)))*exp(-2*I*pi*omega*z)/(-I*exp(2*I*z) + 1), z, I))"
      ]
     },
     "execution_count": 367,
     "metadata": {},
     "output_type": "execute_result"
    }
   ],
   "source": [
    "Eq(Res(0, R, omega), Limit((z-I)*integrand,z,I))"
   ]
  },
  {
   "cell_type": "code",
   "execution_count": 368,
   "metadata": {},
   "outputs": [
    {
     "data": {
      "text/latex": [
       "$\\displaystyle \\operatorname{Res}{\\left(0,R,\\omega \\right)} = - \\frac{e^{2} e^{2 \\pi \\omega}}{2 e^{2} - 2 i}$"
      ],
      "text/plain": [
       "Eq(Res(0, R, omega), -exp(2)*exp(2*pi*omega)/(2*exp(2) - 2*I))"
      ]
     },
     "execution_count": 368,
     "metadata": {},
     "output_type": "execute_result"
    }
   ],
   "source": [
    "Eq(Res(0, R, omega), Limit((z-I)*integrand,z,I).doit())"
   ]
  },
  {
   "cell_type": "code",
   "execution_count": 379,
   "metadata": {},
   "outputs": [
    {
     "data": {
      "text/latex": [
       "$\\displaystyle 2 i \\pi \\operatorname{Res}{\\left(0,R,\\omega \\right)} = 0.0633946608871013 - 0.468426705667476 i$"
      ],
      "text/plain": [
       "Eq(2*I*pi*Res(0, R, omega), 0.0633946608871013 - 0.468426705667476*I)"
      ]
     },
     "execution_count": 379,
     "metadata": {},
     "output_type": "execute_result"
    }
   ],
   "source": [
    "Eq(2*pi*I*Res(0, R, omega), (2*pi*I*Limit((z-I)*integrand,z,I).doit()).subs(sub_list).evalf())"
   ]
  },
  {
   "cell_type": "code",
   "execution_count": 396,
   "metadata": {},
   "outputs": [
    {
     "data": {
      "text/latex": [
       "$\\displaystyle 2 i \\pi \\operatorname{Res}{\\left(0,R,\\omega \\right)} = - \\frac{2 i \\pi e^{2} e^{2 \\pi \\omega}}{2 e^{2} - 2 i}$"
      ],
      "text/plain": [
       "Eq(2*I*pi*Res(0, R, omega), -2*I*pi*exp(2)*exp(2*pi*omega)/(2*exp(2) - 2*I))"
      ]
     },
     "execution_count": 396,
     "metadata": {},
     "output_type": "execute_result"
    }
   ],
   "source": [
    "Eq(2*pi*I*Res(0, R, omega), (2*pi*I*Limit((z-I)*integrand,z,I).doit()))"
   ]
  },
  {
   "cell_type": "code",
   "execution_count": 385,
   "metadata": {},
   "outputs": [
    {
     "data": {
      "text/latex": [
       "$\\displaystyle -0.967553153509304 - 0.0876626035780846 i$"
      ],
      "text/plain": [
       "-0.967553153509304 - 0.0876626035780846*I"
      ]
     },
     "execution_count": 385,
     "metadata": {},
     "output_type": "execute_result"
    }
   ],
   "source": [
    "Integral(\n",
    "    integrand.subs(z,-pi/4 + epsilon*exp(I*phi))*I*epsilon*exp(I*phi),(phi,pi,0)\n",
    ").subs([(R, 1.5), (omega, -0.3), (epsilon, 1e-14)]).evalf() "
   ]
  },
  {
   "cell_type": "code",
   "execution_count": 390,
   "metadata": {
    "scrolled": true
   },
   "outputs": [
    {
     "data": {
      "text/latex": [
       "$\\displaystyle - \\frac{8 i \\pi e^{\\frac{i \\pi^{2} \\omega}{2}}}{\\pi^{2} + 16}$"
      ],
      "text/plain": [
       "-8*I*pi*exp(I*pi**2*omega/2)/(pi**2 + 16)"
      ]
     },
     "execution_count": 390,
     "metadata": {},
     "output_type": "execute_result"
    }
   ],
   "source": [
    "integrate(Limit(integrand.subs(z,-pi/4 + epsilon*exp(I*phi))*I*epsilon*exp(I*phi),epsilon,0).doit(),(phi,pi,0)).simplify()"
   ]
  },
  {
   "cell_type": "code",
   "execution_count": 393,
   "metadata": {},
   "outputs": [
    {
     "data": {
      "text/latex": [
       "$\\displaystyle \\operatorname{ArcPart}{\\left(R,\\omega \\right)} + \\operatorname{StraightPartPV}{\\left(R,\\omega,\\epsilon \\right)} = - \\operatorname{PoleArc}{\\left(R,\\omega,\\epsilon \\right)} + 2 i \\pi \\operatorname{Res}{\\left(0,R,\\omega \\right)}$"
      ],
      "text/plain": [
       "Eq(ArcPart(R, omega) + StraightPartPV(R, omega, epsilon), -PoleArc(R, omega, epsilon) + 2*I*pi*Res(0, R, omega))"
      ]
     },
     "execution_count": 393,
     "metadata": {},
     "output_type": "execute_result"
    }
   ],
   "source": [
    "Eq(StraightPartPV(R, omega, epsilon) + ArcPart(R, omega),2*pi*I*Res(0, R, omega) - PoleArc(R, omega, epsilon))"
   ]
  },
  {
   "cell_type": "code",
   "execution_count": 399,
   "metadata": {},
   "outputs": [
    {
     "data": {
      "text/latex": [
       "$\\displaystyle \\operatorname{ArcPart}{\\left(R,\\omega \\right)} + \\operatorname{StraightPartPV}{\\left(R,\\omega,\\epsilon \\right)} = \\frac{8 i \\pi e^{\\frac{i \\pi^{2} \\omega}{2}}}{\\pi^{2} + 16} - \\frac{i \\pi e^{2} e^{- 2 \\pi \\left|{\\omega}\\right|}}{e^{2} - i}$"
      ],
      "text/plain": [
       "Eq(ArcPart(R, omega) + StraightPartPV(R, omega, epsilon), 8*I*pi*exp(I*pi**2*omega/2)/(pi**2 + 16) - I*pi*exp(2)*exp(-2*pi*Abs(omega))/(exp(2) - I))"
      ]
     },
     "execution_count": 399,
     "metadata": {},
     "output_type": "execute_result"
    }
   ],
   "source": [
    "Eq(StraightPartPV(R, omega, epsilon) + ArcPart(R, omega),\n",
    "   -pi*I*exp(2)*exp(-2*pi*abs(omega))/(exp(2)-I) + 8*I*pi*exp(I*pi**2*omega/2)/(pi**2+16)\n",
    ")"
   ]
  },
  {
   "cell_type": "code",
   "execution_count": 253,
   "metadata": {},
   "outputs": [
    {
     "data": {
      "text/latex": [
       "$\\displaystyle \\operatorname{StraightPartPV}{\\left(R,\\omega,\\epsilon \\right)} = 0.968208060560655 - 0.527193147803554 i$"
      ],
      "text/plain": [
       "Eq(StraightPartPV(R, omega, epsilon), 0.968208060560655 - 0.527193147803554*I)"
      ]
     },
     "execution_count": 253,
     "metadata": {},
     "output_type": "execute_result"
    }
   ],
   "source": [
    "Eq(StraightPartPV(R, omega, epsilon),\n",
    "    Integral(integrand,(z,-R,-pi/4-epsilon)).subs(sub_list).evalf() + \n",
    "    Integral(integrand,(z,-pi/4+epsilon, R)).subs(sub_list).evalf()\n",
    ")"
   ]
  },
  {
   "cell_type": "code",
   "execution_count": 254,
   "metadata": {},
   "outputs": [
    {
     "data": {
      "text/latex": [
       "$\\displaystyle - \\operatorname{ArcPart}{\\left(R,\\omega \\right)} - \\operatorname{PoleArc}{\\left(R,\\omega,\\epsilon \\right)} + 2 i \\pi \\operatorname{Res}{\\left(0,R,\\omega \\right)} = 0.9682081204925 - 0.527193202706669 i$"
      ],
      "text/plain": [
       "Eq(-ArcPart(R, omega) - PoleArc(R, omega, epsilon) + 2*I*pi*Res(0, R, omega), 0.9682081204925 - 0.527193202706669*I)"
      ]
     },
     "execution_count": 254,
     "metadata": {},
     "output_type": "execute_result"
    }
   ],
   "source": [
    "Eq(2*pi*I*Res(0, R, omega) - PoleArc(R, omega, epsilon) - ArcPart(R, omega),\n",
    "   (-pi*I*exp(2)*exp(-2*pi*abs(omega))/(exp(2)-I) + 8*I*pi*exp(I*pi**2*omega/2)/(pi**2+16)).subs(sub_list).evalf()\n",
    "   -Integral(integrand.subs(z,R*exp(I*theta))*I*R*exp(I*theta),(theta,0,pi)).subs(sub_list).evalf()\n",
    "  )"
   ]
  },
  {
   "cell_type": "markdown",
   "metadata": {},
   "source": [
    "### More general pole arc"
   ]
  },
  {
   "cell_type": "code",
   "execution_count": 18,
   "metadata": {},
   "outputs": [
    {
     "data": {
      "text/latex": [
       "$\\displaystyle \\operatorname{PoleArc}{\\left(R,\\omega,\\epsilon,n \\right)} = - i \\pi \\operatorname{Res}{\\left(n,R,\\omega \\right)}$"
      ],
      "text/plain": [
       "Eq(PoleArc(R, omega, epsilon, n), -I*pi*Res(n, R, omega))"
      ]
     },
     "execution_count": 18,
     "metadata": {},
     "output_type": "execute_result"
    }
   ],
   "source": [
    "Eq(PoleArc(R, omega, epsilon, n),-pi*I*Res(n,R,omega))"
   ]
  },
  {
   "cell_type": "code",
   "execution_count": 19,
   "metadata": {},
   "outputs": [
    {
     "data": {
      "text/latex": [
       "$\\displaystyle \\operatorname{PoleArc}{\\left(R,\\omega,\\epsilon,n \\right)} = \\lim_{\\epsilon \\to 0^+} \\int\\limits_{\\pi}^{0} \\frac{i \\epsilon \\left(\\frac{1}{2 \\left(\\epsilon e^{i \\phi} + \\pi n - \\frac{\\pi}{4} + i\\right)} - \\frac{1}{2 \\left(\\epsilon e^{i \\phi} + \\pi n - \\frac{\\pi}{4} - i\\right)}\\right) e^{i \\phi} e^{- 2 i \\pi \\omega \\left(\\epsilon e^{i \\phi} + \\pi n - \\frac{\\pi}{4}\\right)}}{- i e^{2 i \\left(\\epsilon e^{i \\phi} + \\pi n - \\frac{\\pi}{4}\\right)} + 1}\\, d\\phi$"
      ],
      "text/plain": [
       "Eq(PoleArc(R, omega, epsilon, n), Limit(Integral(I*epsilon*(1/(2*(epsilon*exp(I*phi) + pi*n - pi/4 + I)) - 1/(2*(epsilon*exp(I*phi) + pi*n - pi/4 - I)))*exp(I*phi)*exp(-2*I*pi*omega*(epsilon*exp(I*phi) + pi*n - pi/4))/(-I*exp(2*I*(epsilon*exp(I*phi) + pi*n - pi/4)) + 1), (phi, pi, 0)), epsilon, 0))"
      ]
     },
     "execution_count": 19,
     "metadata": {},
     "output_type": "execute_result"
    }
   ],
   "source": [
    "Eq(PoleArc(R, omega, epsilon, n),\n",
    "   Limit(Integral(integrand.subs(z,n*pi -pi/4 + epsilon*exp(I*phi))*I*epsilon*exp(I*phi),(phi,pi,0)),epsilon,0)\n",
    "  )"
   ]
  },
  {
   "cell_type": "code",
   "execution_count": 428,
   "metadata": {},
   "outputs": [
    {
     "data": {
      "text/latex": [
       "$\\displaystyle i \\pi \\operatorname{Res}{\\left(n,R,\\omega \\right)} = i \\pi \\lim_{z \\to \\pi n - \\frac{\\pi}{4}^+}\\left(\\frac{i \\left(- \\pi n + z + \\frac{\\pi}{4}\\right) e^{- 2 i \\pi \\omega z}}{\\left(z^{2} + 1\\right) \\left(i e^{2 i z} - 1\\right)}\\right)$"
      ],
      "text/plain": [
       "Eq(I*pi*Res(n, R, omega), I*pi*Limit(I*(-pi*n + z + pi/4)*exp(-2*I*pi*omega*z)/((z**2 + 1)*(I*exp(2*I*z) - 1)), z, pi*n - pi/4))"
      ]
     },
     "execution_count": 428,
     "metadata": {},
     "output_type": "execute_result"
    }
   ],
   "source": [
    "Eq(pi*I*Res(n,R,omega), pi*I*Limit((z-(n*pi-pi/4))*I*exp(-2*I*pi*omega*z)/((z**2+1)*(I*exp(2*I*z)-1)),z,n*pi-pi/4))"
   ]
  },
  {
   "cell_type": "code",
   "execution_count": 10,
   "metadata": {},
   "outputs": [
    {
     "data": {
      "text/latex": [
       "$\\displaystyle i \\pi \\lim_{z \\to \\pi n - \\frac{\\pi}{4}^+}\\left(\\frac{i \\left(- \\pi n + z + \\frac{\\pi}{4}\\right) e^{- 2 i \\pi \\omega z}}{\\left(z^{2} + 1\\right) \\left(i e^{2 i z} - 1\\right)}\\right) = \\left(\\frac{i \\pi}{i \\pi \\left(4 n - 1\\right) + 4} - \\frac{i \\pi}{i \\pi \\left(4 n - 1\\right) - 4}\\right) e^{- 2 i \\pi \\omega \\left(\\pi n - \\frac{\\pi}{4}\\right)}$"
      ],
      "text/plain": [
       "Eq(I*pi*Limit(I*(-pi*n + z + pi/4)*exp(-2*I*pi*omega*z)/((z**2 + 1)*(I*exp(2*I*z) - 1)), z, pi*n - pi/4), (I*pi/(I*pi*(4*n - 1) + 4) - I*pi/(I*pi*(4*n - 1) - 4))*exp(-2*I*pi*omega*(pi*n - pi/4)))"
      ]
     },
     "execution_count": 10,
     "metadata": {},
     "output_type": "execute_result"
    }
   ],
   "source": [
    "Eq(\n",
    "    I*pi*Limit((z-(n*pi-pi/4))*I*exp(-2*I*pi*omega*z)/((z**2+1)*(I*exp(2*I*z)-1)),z,n*pi-pi/4),\n",
    "    (I*pi/(I*pi*(4*n-1)+4) - I*pi/(I*pi*(4*n-1)-4))*exp(-2*I*pi*omega*(n*pi-pi/4))\n",
    ")"
   ]
  },
  {
   "cell_type": "code",
   "execution_count": 11,
   "metadata": {},
   "outputs": [
    {
     "data": {
      "text/latex": [
       "$\\displaystyle i \\pi \\lim_{z \\to \\pi n - \\frac{\\pi}{4}^+}\\left(\\frac{i \\left(- \\pi n + z + \\frac{\\pi}{4}\\right) e^{- 2 i \\pi \\omega z}}{\\left(z^{2} + 1\\right) \\left(i e^{2 i z} - 1\\right)}\\right) = \\frac{8 i \\pi e^{- 2 i \\pi \\omega \\left(\\pi n - \\frac{\\pi}{4}\\right)}}{\\pi^{2} \\left(4 n - 1\\right)^{2} + 16}$"
      ],
      "text/plain": [
       "Eq(I*pi*Limit(I*(-pi*n + z + pi/4)*exp(-2*I*pi*omega*z)/((z**2 + 1)*(I*exp(2*I*z) - 1)), z, pi*n - pi/4), 8*I*pi*exp(-2*I*pi*omega*(pi*n - pi/4))/(pi**2*(4*n - 1)**2 + 16))"
      ]
     },
     "execution_count": 11,
     "metadata": {},
     "output_type": "execute_result"
    }
   ],
   "source": [
    "Eq(\n",
    "    I*pi*Limit((z-(n*pi-pi/4))*I*exp(-2*I*pi*omega*z)/((z**2+1)*(I*exp(2*I*z)-1)),z,n*pi-pi/4),\n",
    "    8*I*pi/(pi**2*(4*n-1)**2+16)*exp(-2*I*pi*omega*(n*pi-pi/4))\n",
    ")"
   ]
  },
  {
   "cell_type": "code",
   "execution_count": 134,
   "metadata": {},
   "outputs": [
    {
     "data": {
      "text/latex": [
       "$\\displaystyle i \\pi \\operatorname{Res}{\\left(n,R,\\omega \\right)} = \\frac{8 i \\pi e^{- 2 i \\pi \\omega \\left(\\pi n - \\frac{\\pi}{4}\\right)}}{\\pi^{2} \\left(4 n - 1\\right)^{2} + 16}$"
      ],
      "text/plain": [
       "Eq(I*pi*Res(n, R, omega), 8*I*pi*exp(-2*I*pi*omega*(pi*n - pi/4))/(pi**2*(4*n - 1)**2 + 16))"
      ]
     },
     "execution_count": 134,
     "metadata": {},
     "output_type": "execute_result"
    }
   ],
   "source": [
    "Eq(pi*I*Res(n,R,omega), 8*I*pi/(pi**2*(4*n-1)**2+16)*exp(-2*I*pi*omega*(n*pi-pi/4)))"
   ]
  },
  {
   "cell_type": "code",
   "execution_count": 17,
   "metadata": {},
   "outputs": [
    {
     "data": {
      "text/latex": [
       "$\\displaystyle \\int\\limits_{\\pi}^{0} \\lim_{\\epsilon \\to 0^+}\\left(\\frac{i \\epsilon \\left(\\frac{1}{2 \\left(\\epsilon e^{i \\phi} - \\frac{\\pi}{4} + i\\right)} - \\frac{1}{2 \\left(\\epsilon e^{i \\phi} - \\frac{\\pi}{4} - i\\right)}\\right) e^{i \\phi} e^{- 2 i \\pi \\omega \\left(\\epsilon e^{i \\phi} - \\frac{\\pi}{4}\\right)}}{- i e^{2 i \\left(\\epsilon e^{i \\phi} - \\frac{\\pi}{4}\\right)} + 1}\\right)\\, d\\phi = - \\frac{8 i \\pi e^{\\frac{i \\pi^{2} \\omega}{2}}}{\\pi^{2} + 16}$"
      ],
      "text/plain": [
       "Eq(Integral(Limit(I*epsilon*(1/(2*(epsilon*exp(I*phi) - pi/4 + I)) - 1/(2*(epsilon*exp(I*phi) - pi/4 - I)))*exp(I*phi)*exp(-2*I*pi*omega*(epsilon*exp(I*phi) - pi/4))/(-I*exp(2*I*(epsilon*exp(I*phi) - pi/4)) + 1), epsilon, 0), (phi, pi, 0)), -8*I*pi*exp(I*pi**2*omega/2)/(pi**2 + 16))"
      ]
     },
     "execution_count": 17,
     "metadata": {},
     "output_type": "execute_result"
    }
   ],
   "source": [
    "Eq(\n",
    "    integrate(Limit(integrand.subs(z,0*pi -pi/4 + epsilon*exp(I*phi))*I*epsilon*exp(I*phi),epsilon,0),(phi,pi,0)),\n",
    "    integrate(Limit(integrand.subs(z,0*pi -pi/4 + epsilon*exp(I*phi))*I*epsilon*exp(I*phi),epsilon,0).doit(),\n",
    "              (phi,pi,0)).simplify()\n",
    ")"
   ]
  },
  {
   "cell_type": "code",
   "execution_count": 13,
   "metadata": {},
   "outputs": [
    {
     "data": {
      "text/latex": [
       "$\\displaystyle \\frac{8 i \\pi e^{\\frac{i \\pi^{2} \\omega}{2}}}{\\pi^{2} + 16}$"
      ],
      "text/plain": [
       "8*I*pi*exp(I*pi**2*omega/2)/(pi**2 + 16)"
      ]
     },
     "execution_count": 13,
     "metadata": {},
     "output_type": "execute_result"
    }
   ],
   "source": [
    "(8*I*pi/(pi**2*(4*n-1)**2+16)*exp(-2*I*pi*omega*(n*pi-pi/4))).subs(n,0)"
   ]
  },
  {
   "cell_type": "code",
   "execution_count": 20,
   "metadata": {},
   "outputs": [
    {
     "data": {
      "text/latex": [
       "$\\displaystyle \\int\\limits_{\\pi}^{0} \\lim_{\\epsilon \\to 0^+}\\left(\\frac{i \\epsilon \\left(\\frac{1}{2 \\left(\\epsilon e^{i \\phi} + \\frac{3 \\pi}{4} + i\\right)} - \\frac{1}{2 \\left(\\epsilon e^{i \\phi} + \\frac{3 \\pi}{4} - i\\right)}\\right) e^{i \\phi} e^{- 2 i \\pi \\omega \\left(\\epsilon e^{i \\phi} + \\frac{3 \\pi}{4}\\right)}}{- i e^{2 i \\left(\\epsilon e^{i \\phi} + \\frac{3 \\pi}{4}\\right)} + 1}\\right)\\, d\\phi = - \\frac{8 i \\pi e^{- \\frac{3 i \\pi^{2} \\omega}{2}}}{16 + 9 \\pi^{2}}$"
      ],
      "text/plain": [
       "Eq(Integral(Limit(I*epsilon*(1/(2*(epsilon*exp(I*phi) + 3*pi/4 + I)) - 1/(2*(epsilon*exp(I*phi) + 3*pi/4 - I)))*exp(I*phi)*exp(-2*I*pi*omega*(epsilon*exp(I*phi) + 3*pi/4))/(-I*exp(2*I*(epsilon*exp(I*phi) + 3*pi/4)) + 1), epsilon, 0), (phi, pi, 0)), -8*I*pi*exp(-3*I*pi**2*omega/2)/(16 + 9*pi**2))"
      ]
     },
     "execution_count": 20,
     "metadata": {},
     "output_type": "execute_result"
    }
   ],
   "source": [
    "Eq(\n",
    "    integrate(Limit(integrand.subs(z,1*pi -pi/4 + epsilon*exp(I*phi))*I*epsilon*exp(I*phi),epsilon,0),(phi,pi,0)),\n",
    "    integrate(Limit(integrand.subs(z,1*pi -pi/4 + epsilon*exp(I*phi))*I*epsilon*exp(I*phi),epsilon,0).doit(),\n",
    "              (phi,pi,0)).simplify()\n",
    ")"
   ]
  },
  {
   "cell_type": "code",
   "execution_count": 21,
   "metadata": {},
   "outputs": [
    {
     "data": {
      "text/latex": [
       "$\\displaystyle \\frac{8 i \\pi e^{- \\frac{3 i \\pi^{2} \\omega}{2}}}{16 + 9 \\pi^{2}}$"
      ],
      "text/plain": [
       "8*I*pi*exp(-3*I*pi**2*omega/2)/(16 + 9*pi**2)"
      ]
     },
     "execution_count": 21,
     "metadata": {},
     "output_type": "execute_result"
    }
   ],
   "source": [
    "(8*I*pi/(pi**2*(4*n-1)**2+16)*exp(-2*I*pi*omega*(n*pi-pi/4))).subs(n,1)"
   ]
  },
  {
   "cell_type": "code",
   "execution_count": 22,
   "metadata": {},
   "outputs": [
    {
     "data": {
      "text/latex": [
       "$\\displaystyle \\int\\limits_{\\pi}^{0} \\lim_{\\epsilon \\to 0^+}\\left(\\frac{i \\epsilon \\left(\\frac{1}{2 \\left(\\epsilon e^{i \\phi} - \\frac{5 \\pi}{4} + i\\right)} - \\frac{1}{2 \\left(\\epsilon e^{i \\phi} - \\frac{5 \\pi}{4} - i\\right)}\\right) e^{i \\phi} e^{- 2 i \\pi \\omega \\left(\\epsilon e^{i \\phi} - \\frac{5 \\pi}{4}\\right)}}{- i e^{2 i \\left(\\epsilon e^{i \\phi} - \\frac{5 \\pi}{4}\\right)} + 1}\\right)\\, d\\phi = - \\frac{8 i \\pi e^{\\frac{5 i \\pi^{2} \\omega}{2}}}{16 + 25 \\pi^{2}}$"
      ],
      "text/plain": [
       "Eq(Integral(Limit(I*epsilon*(1/(2*(epsilon*exp(I*phi) - 5*pi/4 + I)) - 1/(2*(epsilon*exp(I*phi) - 5*pi/4 - I)))*exp(I*phi)*exp(-2*I*pi*omega*(epsilon*exp(I*phi) - 5*pi/4))/(-I*exp(2*I*(epsilon*exp(I*phi) - 5*pi/4)) + 1), epsilon, 0), (phi, pi, 0)), -8*I*pi*exp(5*I*pi**2*omega/2)/(16 + 25*pi**2))"
      ]
     },
     "execution_count": 22,
     "metadata": {},
     "output_type": "execute_result"
    }
   ],
   "source": [
    "Eq(\n",
    "    integrate(Limit(integrand.subs(z,-1*pi -pi/4 + epsilon*exp(I*phi))*I*epsilon*exp(I*phi),epsilon,0),(phi,pi,0)),\n",
    "    integrate(Limit(integrand.subs(z,-1*pi -pi/4 + epsilon*exp(I*phi))*I*epsilon*exp(I*phi),epsilon,0).doit(),\n",
    "              (phi,pi,0)).simplify()\n",
    ")"
   ]
  },
  {
   "cell_type": "code",
   "execution_count": 23,
   "metadata": {},
   "outputs": [
    {
     "data": {
      "text/latex": [
       "$\\displaystyle \\frac{8 i \\pi e^{\\frac{5 i \\pi^{2} \\omega}{2}}}{16 + 25 \\pi^{2}}$"
      ],
      "text/plain": [
       "8*I*pi*exp(5*I*pi**2*omega/2)/(16 + 25*pi**2)"
      ]
     },
     "execution_count": 23,
     "metadata": {},
     "output_type": "execute_result"
    }
   ],
   "source": [
    "(8*I*pi/(pi**2*(4*n-1)**2+16)*exp(-2*I*pi*omega*(n*pi-pi/4))).subs(n,-1)"
   ]
  },
  {
   "cell_type": "code",
   "execution_count": 27,
   "metadata": {},
   "outputs": [
    {
     "data": {
      "text/latex": [
       "$\\displaystyle n > - \\frac{R}{\\pi} + \\frac{1}{4}$"
      ],
      "text/plain": [
       "n > -R/pi + 1/4"
      ]
     },
     "execution_count": 27,
     "metadata": {},
     "output_type": "execute_result"
    }
   ],
   "source": [
    "solve(-R<pi*n-pi/4,n).expand()"
   ]
  },
  {
   "cell_type": "code",
   "execution_count": 28,
   "metadata": {},
   "outputs": [
    {
     "data": {
      "text/latex": [
       "$\\displaystyle n < \\frac{R}{\\pi} + \\frac{1}{4}$"
      ],
      "text/plain": [
       "n < R/pi + 1/4"
      ]
     },
     "execution_count": 28,
     "metadata": {},
     "output_type": "execute_result"
    }
   ],
   "source": [
    "solve(pi*n-pi/4<R,n).expand()"
   ]
  },
  {
   "cell_type": "code",
   "execution_count": 62,
   "metadata": {},
   "outputs": [],
   "source": [
    "subs_list2 = [(R,2.4)]"
   ]
  },
  {
   "cell_type": "code",
   "execution_count": 310,
   "metadata": {},
   "outputs": [],
   "source": [
    "def n_low_high(R):\n",
    "    return [int(-R/pi+1/4 - frac(-R/pi+1/4))+1, int(floor(R/pi + 1/4))]\n",
    "\n",
    "def poles_in_contour(R):\n",
    "    low_high_n = n_low_high(R)\n",
    "    return [pi*n-pi/4 for n in range(low_high_n[0], low_high_n[1] + 1)]\n",
    "\n",
    "def pv_integration_limits(R, epsilon):\n",
    "    poles = poles_in_contour(R)\n",
    "    pv_limits = [-R]\n",
    "    for p in poles:\n",
    "        pv_limits.append(p-epsilon)\n",
    "        pv_limits.append(p+epsilon)\n",
    "    pv_limits.append(R)\n",
    "    return pv_limits\n",
    "\n",
    "def pv_integral_straight(R, omega, epsilon, numeric=False):\n",
    "    pv_lims = pv_integration_limits(R, epsilon)\n",
    "    integration_sections = [Integral(I*exp(-2*I*pi*omega*z)/(z**2+1)/(I*exp(2*I*z)-1),(z,pv_lims[2*i],pv_lims[2*i+1])) \n",
    "                             for i in range(int(len(pv_lims)/2))]\n",
    "    if numeric:\n",
    "        pv_straight = sum([s.subs([(R,R),(omega,omega),(epsilon,epsilon)]).evalf() for s in integration_sections])\n",
    "    else:\n",
    "        pv_straight = integration_sections[0]\n",
    "        for i in range(len(integration_sections) - 1):\n",
    "            pv_straight += integration_sections[i+1]\n",
    "    return pv_straight\n",
    "\n",
    "def half_residues(R, omega):\n",
    "    low_high_n = n_low_high(R)\n",
    "    return Sum(8*I*pi/(pi**2*(4*n-1)**2+16)*exp(-2*I*pi*omega*(n*pi-pi/4)), (n, low_high_n[0], low_high_n[1]))\n",
    "\n",
    "def straight_part_analytic(R, omega, numeric=False):\n",
    "    if numeric:  \n",
    "        result = (\n",
    "            -Integral((-I/(z**2+1)*exp(-2*I*pi*omega*z)/(-I*exp(2*I*z) + 1)).subs(z,R*exp(I*theta))*I*R*exp(I*theta), \n",
    "                      (theta,0,pi)).subs([(R,R),(omega,omega)]).evalf() +\n",
    "            -(I*pi*exp(2)*exp(-2*pi*abs(omega))/(exp(2)-I)).evalf() \n",
    "            + half_residues(R, omega).doit().evalf()\n",
    "        )\n",
    "    else:\n",
    "        result = (\n",
    "            -Integral((-I/(z**2+1)*exp(-2*I*pi*omega*z)/(-I*exp(2*I*z) + 1)).subs(z,R*exp(I*theta))*I*R*exp(I*theta), \n",
    "                      (theta,0,pi)) +\n",
    "            -I*pi*exp(2)*exp(-2*pi*abs(omega))/(exp(2)-I) +\n",
    "            half_residues(R, omega)\n",
    "        )\n",
    "    return result"
   ]
  },
  {
   "cell_type": "code",
   "execution_count": 331,
   "metadata": {},
   "outputs": [],
   "source": [
    "pv_straight = pv_integral_straight(3, omega, epsilon)"
   ]
  },
  {
   "cell_type": "code",
   "execution_count": 332,
   "metadata": {},
   "outputs": [
    {
     "data": {
      "text/latex": [
       "$\\displaystyle \\int\\limits_{-3}^{- \\epsilon - \\frac{\\pi}{4}} \\frac{i e^{- 2 i \\pi \\omega z}}{\\left(z^{2} + 1\\right) \\left(i e^{2 i z} - 1\\right)}\\, dz + \\int\\limits_{\\epsilon - \\frac{\\pi}{4}}^{- \\epsilon + \\frac{3 \\pi}{4}} \\frac{i e^{- 2 i \\pi \\omega z}}{\\left(z^{2} + 1\\right) \\left(i e^{2 i z} - 1\\right)}\\, dz + \\int\\limits_{\\epsilon + \\frac{3 \\pi}{4}}^{3} \\frac{i e^{- 2 i \\pi \\omega z}}{\\left(z^{2} + 1\\right) \\left(i e^{2 i z} - 1\\right)}\\, dz$"
      ],
      "text/plain": [
       "Integral(I*exp(-2*I*pi*omega*z)/((z**2 + 1)*(I*exp(2*I*z) - 1)), (z, -3, -epsilon - pi/4)) + Integral(I*exp(-2*I*pi*omega*z)/((z**2 + 1)*(I*exp(2*I*z) - 1)), (z, epsilon - pi/4, -epsilon + 3*pi/4)) + Integral(I*exp(-2*I*pi*omega*z)/((z**2 + 1)*(I*exp(2*I*z) - 1)), (z, epsilon + 3*pi/4, 3))"
      ]
     },
     "execution_count": 332,
     "metadata": {},
     "output_type": "execute_result"
    }
   ],
   "source": [
    "pv_straight"
   ]
  },
  {
   "cell_type": "markdown",
   "metadata": {},
   "source": [
    "### Principal Value with negative omega"
   ]
  },
  {
   "cell_type": "code",
   "execution_count": 126,
   "metadata": {},
   "outputs": [
    {
     "data": {
      "text/latex": [
       "$\\displaystyle \\operatorname{StraightPart}{\\left(R,\\omega \\right)} = - \\operatorname{ArcPart}{\\left(R,\\omega \\right)} + 2 i \\pi \\sum_{n=- N}^{N} \\operatorname{Res}{\\left(n,R,\\omega \\right)}$"
      ],
      "text/plain": [
       "Eq(StraightPart(R, omega), -ArcPart(R, omega) + 2*I*pi*Sum(Res(n, R, omega), (n, -N, N)))"
      ]
     },
     "execution_count": 126,
     "metadata": {},
     "output_type": "execute_result"
    }
   ],
   "source": [
    "Eq(StraightPart(R, omega), 2*pi*I*Sum(Res(n, R, omega),(n,-N,N)) - ArcPart(R, omega))"
   ]
  },
  {
   "cell_type": "code",
   "execution_count": 143,
   "metadata": {
    "scrolled": true
   },
   "outputs": [
    {
     "data": {
      "text/latex": [
       "$\\displaystyle \\operatorname{ArcPart}{\\left(R,\\omega \\right)} = \\int\\limits_{0}^{\\pi} \\frac{i R \\left(\\frac{1}{2 \\left(R e^{i \\theta} + i\\right)} - \\frac{1}{2 \\left(R e^{i \\theta} - i\\right)}\\right) e^{i \\theta} e^{- 2 i \\pi R \\omega e^{i \\theta}}}{- i e^{2 i R e^{i \\theta}} + 1}\\, d\\theta$"
      ],
      "text/plain": [
       "Eq(ArcPart(R, omega), Integral(I*R*(1/(2*(R*exp(I*theta) + I)) - 1/(2*(R*exp(I*theta) - I)))*exp(I*theta)*exp(-2*I*pi*R*omega*exp(I*theta))/(-I*exp(2*I*R*exp(I*theta)) + 1), (theta, 0, pi)))"
      ]
     },
     "execution_count": 143,
     "metadata": {},
     "output_type": "execute_result"
    }
   ],
   "source": [
    "Eq(ArcPart(R, omega), Integral(integrand.subs(z,R*exp(I*theta))*I*R*exp(I*theta), (theta,0,pi)))"
   ]
  },
  {
   "cell_type": "code",
   "execution_count": 144,
   "metadata": {},
   "outputs": [
    {
     "data": {
      "text/latex": [
       "$\\displaystyle 2 i \\pi \\operatorname{Res}{\\left(0,R,\\omega \\right)} = - \\frac{2 i \\pi e^{2} e^{2 \\pi \\omega}}{2 e^{2} - 2 i}$"
      ],
      "text/plain": [
       "Eq(2*I*pi*Res(0, R, omega), -2*I*pi*exp(2)*exp(2*pi*omega)/(2*exp(2) - 2*I))"
      ]
     },
     "execution_count": 144,
     "metadata": {},
     "output_type": "execute_result"
    }
   ],
   "source": [
    "Eq(2*pi*I*Res(0, R, omega), (2*pi*I*Limit((z-I)*integrand,z,I).doit()))"
   ]
  },
  {
   "cell_type": "code",
   "execution_count": 145,
   "metadata": {},
   "outputs": [
    {
     "data": {
      "text/latex": [
       "$\\displaystyle - \\frac{i \\pi e^{2} e^{- 2 \\pi \\left|{\\omega}\\right|}}{e^{2} - i}$"
      ],
      "text/plain": [
       "-I*pi*exp(2)*exp(-2*pi*Abs(omega))/(exp(2) - I)"
      ]
     },
     "execution_count": 145,
     "metadata": {},
     "output_type": "execute_result"
    }
   ],
   "source": [
    "-I*pi*exp(2)*exp(-2*pi*abs(omega))/(exp(2)-I)"
   ]
  },
  {
   "cell_type": "code",
   "execution_count": 142,
   "metadata": {},
   "outputs": [
    {
     "data": {
      "text/latex": [
       "$\\displaystyle \\sum_{n=-2}^{3} \\frac{8 i \\pi e^{- 2 i \\pi \\omega \\left(\\pi n - \\frac{\\pi}{4}\\right)}}{\\pi^{2} \\left(4 n - 1\\right)^{2} + 16}$"
      ],
      "text/plain": [
       "Sum(8*I*pi*exp(-2*I*pi*omega*(pi*n - pi/4))/(pi**2*(4*n - 1)**2 + 16), (n, -2, 3))"
      ]
     },
     "execution_count": 142,
     "metadata": {},
     "output_type": "execute_result"
    }
   ],
   "source": [
    "half_residues(8)"
   ]
  },
  {
   "cell_type": "code",
   "execution_count": 235,
   "metadata": {},
   "outputs": [
    {
     "data": {
      "text/latex": [
       "$\\displaystyle \\operatorname{StraightPart}{\\left(3,-1 \\right)} = - \\frac{i \\pi e^{2}}{\\left(e^{2} - i\\right) e^{2 \\pi}} - \\int\\limits_{0}^{\\pi} \\frac{3 e^{i \\theta} e^{6 i \\pi e^{i \\theta}}}{\\left(- i e^{6 i e^{i \\theta}} + 1\\right) \\left(9 e^{2 i \\theta} + 1\\right)}\\, d\\theta + \\sum_{n=0}^{1} \\frac{8 i \\pi e^{2 i \\pi \\left(\\pi n - \\frac{\\pi}{4}\\right)}}{\\pi^{2} \\left(4 n - 1\\right)^{2} + 16}$"
      ],
      "text/plain": [
       "Eq(StraightPart(3, -1), -I*pi*exp(2)*exp(-2*pi)/(exp(2) - I) - Integral(3*exp(I*theta)*exp(6*I*pi*exp(I*theta))/((-I*exp(6*I*exp(I*theta)) + 1)*(9*exp(2*I*theta) + 1)), (theta, 0, pi)) + Sum(8*I*pi*exp(2*I*pi*(pi*n - pi/4))/(pi**2*(4*n - 1)**2 + 16), (n, 0, 1)))"
      ]
     },
     "execution_count": 235,
     "metadata": {},
     "output_type": "execute_result"
    }
   ],
   "source": [
    "Eq(StraightPart(3, -1), straight_part_analytic(3, -1))"
   ]
  },
  {
   "cell_type": "code",
   "execution_count": 338,
   "metadata": {},
   "outputs": [
    {
     "data": {
      "text/latex": [
       "$\\displaystyle \\operatorname{StraightPart}{\\left(10,0.3 \\right)} = -1.26216587543593 + 19.7970083542318 i$"
      ],
      "text/plain": [
       "Eq(StraightPart(10, 0.3), -1.26216587543593 + 19.7970083542318*I)"
      ]
     },
     "execution_count": 338,
     "metadata": {},
     "output_type": "execute_result"
    }
   ],
   "source": [
    "Eq(StraightPart(10, 0.3), straight_part_analytic(10, 0.3, numeric=True))"
   ]
  },
  {
   "cell_type": "code",
   "execution_count": 354,
   "metadata": {},
   "outputs": [
    {
     "data": {
      "text/latex": [
       "$\\displaystyle \\operatorname{StraightPart}{\\left(10,-10.3 \\right)} = 0.320173727354662 + 0.699367845863499 i$"
      ],
      "text/plain": [
       "Eq(StraightPart(10, -10.3), 0.320173727354662 + 0.699367845863499*I)"
      ]
     },
     "execution_count": 354,
     "metadata": {},
     "output_type": "execute_result"
    }
   ],
   "source": [
    "Eq(StraightPart(10, -10.3), straight_part_analytic(10, -10.3, numeric=True))"
   ]
  },
  {
   "cell_type": "code",
   "execution_count": 362,
   "metadata": {},
   "outputs": [
    {
     "data": {
      "text/latex": [
       "$\\displaystyle 0.326134325677817 - 0.696412248163896 i$"
      ],
      "text/plain": [
       "0.326134325677817 - 0.696412248163896*I"
      ]
     },
     "execution_count": 362,
     "metadata": {},
     "output_type": "execute_result"
    }
   ],
   "source": [
    "pv_integral_straight(30, 10.3, 1e-30, numeric=True)"
   ]
  },
  {
   "cell_type": "code",
   "execution_count": 360,
   "metadata": {},
   "outputs": [
    {
     "data": {
      "text/latex": [
       "$\\displaystyle \\operatorname{StraightPart}{\\left(10,10.3 \\right)} = 0.320173727354662 - 0.699367845863499 i$"
      ],
      "text/plain": [
       "Eq(StraightPart(10, 10.3), 0.320173727354662 - 0.699367845863499*I)"
      ]
     },
     "execution_count": 360,
     "metadata": {},
     "output_type": "execute_result"
    }
   ],
   "source": [
    "Eq(StraightPart(30, 10.3), \n",
    "   conjugate(straight_part_analytic(30, -10.3, numeric=True)) - (I*pi*exp(-2*pi*abs(omega)).subs(omega,10.3)).evalf()\n",
    ")"
   ]
  },
  {
   "cell_type": "code",
   "execution_count": 316,
   "metadata": {},
   "outputs": [
    {
     "data": {
      "text/latex": [
       "$\\displaystyle \\operatorname{StraightPart}{\\left(R,\\omega \\right)} = \\int\\limits_{- R}^{R} \\frac{\\left(\\frac{1}{2 \\left(z + i\\right)} - \\frac{1}{2 \\left(z - i\\right)}\\right) e^{- 2 i \\pi \\omega z}}{- i e^{2 i z} + 1}\\, dz$"
      ],
      "text/plain": [
       "Eq(StraightPart(R, omega), Integral((1/(2*(z + I)) - 1/(2*(z - I)))*exp(-2*I*pi*omega*z)/(-I*exp(2*I*z) + 1), (z, -R, R)))"
      ]
     },
     "execution_count": 316,
     "metadata": {},
     "output_type": "execute_result"
    }
   ],
   "source": [
    "Eq(StraightPart(R, omega), Integral(integrand,(z,-R,R)))"
   ]
  },
  {
   "cell_type": "code",
   "execution_count": 318,
   "metadata": {},
   "outputs": [
    {
     "data": {
      "text/latex": [
       "$\\displaystyle - \\frac{i}{z^{2} + 1}$"
      ],
      "text/plain": [
       "-I/(z**2 + 1)"
      ]
     },
     "execution_count": 318,
     "metadata": {},
     "output_type": "execute_result"
    }
   ],
   "source": [
    "(1/(2*(z+I)) - 1/(2*(z-I))).simplify()"
   ]
  },
  {
   "cell_type": "code",
   "execution_count": 320,
   "metadata": {},
   "outputs": [
    {
     "data": {
      "text/latex": [
       "$\\displaystyle \\operatorname{StraightPart}{\\left(R,\\omega \\right)} = \\int\\limits_{- R}^{R} \\left(- \\frac{i e^{- 2 i \\pi \\omega z}}{\\left(z^{2} + 1\\right) \\left(- i e^{2 i z} + 1\\right)}\\right)\\, dz$"
      ],
      "text/plain": [
       "Eq(StraightPart(R, omega), Integral(-I*exp(-2*I*pi*omega*z)/((z**2 + 1)*(-I*exp(2*I*z) + 1)), (z, -R, R)))"
      ]
     },
     "execution_count": 320,
     "metadata": {},
     "output_type": "execute_result"
    }
   ],
   "source": [
    "Eq(StraightPart(R, omega), Integral(-I/(z**2+1)*exp(-2*I*pi*omega*z)/(-I*exp(2*I*z)+1),(z,-R,R)))"
   ]
  },
  {
   "cell_type": "code",
   "execution_count": 322,
   "metadata": {},
   "outputs": [
    {
     "data": {
      "text/latex": [
       "$\\displaystyle - \\int\\limits_{-\\infty}^{\\infty} \\frac{i e^{- 2 i \\pi \\omega z}}{\\left(z^{2} + 1\\right) \\left(- i e^{2 i z} + 1\\right)}\\, dz = \\sum_{n=-\\infty}^{\\infty} \\frac{8 i \\pi e^{- 2 i \\pi \\omega \\left(\\pi n - \\frac{\\pi}{4}\\right)}}{\\pi^{2} \\left(4 n - 1\\right)^{2} + 16} - \\frac{i \\pi e^{2} e^{- 2 \\pi \\left|{\\omega}\\right|}}{e^{2} - i}$"
      ],
      "text/plain": [
       "Eq(-Integral(I*exp(-2*I*pi*omega*z)/((z**2 + 1)*(-I*exp(2*I*z) + 1)), (z, -oo, oo)), Sum(8*I*pi*exp(-2*I*pi*omega*(pi*n - pi/4))/(pi**2*(4*n - 1)**2 + 16), (n, -oo, oo)) - I*pi*exp(2)*exp(-2*pi*Abs(omega))/(exp(2) - I))"
      ]
     },
     "execution_count": 322,
     "metadata": {},
     "output_type": "execute_result"
    }
   ],
   "source": [
    "Eq(\n",
    "    -Integral(I/(z**2+1)*exp(-2*I*pi*omega*z)/(-I*exp(2*I*z)+1),(z,-oo,oo)),\n",
    "    Sum(8*I*pi/(pi**2*(4*n-1)**2+16)*exp(-2*I*pi*omega*(n*pi-pi/4)), (n, -oo, oo)) -\n",
    "    I*pi*exp(2)*exp(-2*pi*abs(omega))/(exp(2)-I)\n",
    ")"
   ]
  },
  {
   "cell_type": "code",
   "execution_count": 323,
   "metadata": {},
   "outputs": [
    {
     "data": {
      "text/latex": [
       "$\\displaystyle G{\\left(\\omega,i \\right)} = \\int\\limits_{-\\infty}^{\\infty} \\frac{i e^{- 2 i \\pi \\omega \\tau}}{\\left(\\tau^{2} + 1\\right) \\left(- i e^{2 i \\tau} + 1\\right)}\\, d\\tau$"
      ],
      "text/plain": [
       "Eq(G(omega, I), Integral(I*exp(-2*I*pi*omega*tau)/((tau**2 + 1)*(-I*exp(2*I*tau) + 1)), (tau, -oo, oo)))"
      ]
     },
     "execution_count": 323,
     "metadata": {},
     "output_type": "execute_result"
    }
   ],
   "source": [
    "Eq(G(omega, I), Integral(1/(1+tau**2)*I/(1-I*exp(2*I*tau))*exp(-2*I*pi*omega*tau),(tau,-oo,oo)))"
   ]
  },
  {
   "cell_type": "code",
   "execution_count": 5,
   "metadata": {},
   "outputs": [
    {
     "data": {
      "text/latex": [
       "$\\displaystyle G{\\left(- \\omega,- i \\right)} = G{\\left(\\omega,i \\right)} - i \\pi e^{- 2 \\pi \\left|{\\omega}\\right|}$"
      ],
      "text/plain": [
       "Eq(G(-omega, -I), G(omega, I) - I*pi*exp(-2*pi*Abs(omega)))"
      ]
     },
     "execution_count": 5,
     "metadata": {},
     "output_type": "execute_result"
    }
   ],
   "source": [
    "(Eq(G(-omega, I), I*pi*exp(-abs(2*pi*omega)) + G(omega, -I))).subs(I,-I)"
   ]
  },
  {
   "cell_type": "code",
   "execution_count": 7,
   "metadata": {},
   "outputs": [
    {
     "data": {
      "text/latex": [
       "$\\displaystyle G{\\left(3,i \\right)} = G{\\left(-3,- i \\right)} + \\frac{i \\pi}{e^{6 \\pi}}$"
      ],
      "text/plain": [
       "Eq(G(3, I), G(-3, -I) + I*pi*exp(-6*pi))"
      ]
     },
     "execution_count": 7,
     "metadata": {},
     "output_type": "execute_result"
    }
   ],
   "source": [
    "(Eq(G(-omega, I), I*pi*exp(-abs(2*pi*omega)) + G(omega, -I))).subs(omega,-3)"
   ]
  },
  {
   "cell_type": "code",
   "execution_count": 346,
   "metadata": {},
   "outputs": [
    {
     "data": {
      "text/latex": [
       "$\\displaystyle \\operatorname{StraightPart}{\\left(10,0.3 \\right)} = 1.42425972517025 - 0.0542111163683702 i$"
      ],
      "text/plain": [
       "Eq(StraightPart(10, 0.3), 1.42425972517025 - 0.0542111163683702*I)"
      ]
     },
     "execution_count": 346,
     "metadata": {},
     "output_type": "execute_result"
    }
   ],
   "source": [
    "Eq(StraightPart(10, 0.3), \n",
    "   conjugate(straight_part_analytic(10, -0.3, numeric=True)) - (I*pi*exp(-2*pi*abs(omega)).subs(omega,0.3)).evalf()\n",
    ")"
   ]
  },
  {
   "cell_type": "code",
   "execution_count": 341,
   "metadata": {},
   "outputs": [
    {
     "data": {
      "text/latex": [
       "$\\displaystyle - i$"
      ],
      "text/plain": [
       "-I"
      ]
     },
     "execution_count": 341,
     "metadata": {},
     "output_type": "execute_result"
    }
   ],
   "source": [
    "conjugate(I)"
   ]
  },
  {
   "cell_type": "code",
   "execution_count": 9,
   "metadata": {},
   "outputs": [
    {
     "data": {
      "text/latex": [
       "$\\displaystyle G{\\left(- \\left|{\\omega}\\right|,i \\right)} = - \\sum_{n=-\\infty}^{\\infty} \\frac{8 i \\pi e^{2 i \\pi \\left(\\pi n - \\frac{\\pi}{4}\\right) \\left|{\\omega}\\right|}}{\\pi^{2} \\left(4 n - 1\\right)^{2} + 16} + \\frac{i \\pi e^{2} e^{- 2 \\pi \\left|{\\omega}\\right|}}{e^{2} - i}$"
      ],
      "text/plain": [
       "Eq(G(-Abs(omega), I), -Sum(8*I*pi*exp(2*I*pi*(pi*n - pi/4)*Abs(omega))/(pi**2*(4*n - 1)**2 + 16), (n, -oo, oo)) + I*pi*exp(2)*exp(-2*pi*Abs(omega))/(exp(2) - I))"
      ]
     },
     "execution_count": 9,
     "metadata": {},
     "output_type": "execute_result"
    }
   ],
   "source": [
    "Eq(G(-abs(omega), I),I*pi*exp(2)*exp(-2*pi*abs(omega))/(exp(2)-I) - \n",
    "    Sum(8*I*pi/(pi**2*(4*n-1)**2+16)*exp(2*I*pi*abs(omega)*(n*pi-pi/4)), (n, -oo, oo))\n",
    "  )\n",
    "    "
   ]
  },
  {
   "cell_type": "code",
   "execution_count": 11,
   "metadata": {},
   "outputs": [
    {
     "data": {
      "text/latex": [
       "$\\displaystyle G{\\left(\\left|{\\omega}\\right|,i \\right)} = G{\\left(- \\left|{\\omega}\\right|,- i \\right)} + i \\pi e^{- 2 \\pi \\left|{\\left|{\\omega}\\right|}\\right|}$"
      ],
      "text/plain": [
       "Eq(G(Abs(omega), I), G(-Abs(omega), -I) + I*pi*exp(-2*pi*Abs(Abs(omega))))"
      ]
     },
     "execution_count": 11,
     "metadata": {},
     "output_type": "execute_result"
    }
   ],
   "source": [
    "(Eq(G(-omega, I), I*pi*exp(-abs(2*pi*omega)) + G(omega, -I))).subs(omega,-abs(omega))"
   ]
  },
  {
   "cell_type": "code",
   "execution_count": 16,
   "metadata": {},
   "outputs": [
    {
     "data": {
      "text/latex": [
       "$\\displaystyle G{\\left(\\left|{\\omega}\\right|,i \\right)} = - \\sum_{n=-\\infty}^{\\infty} - \\frac{8 i \\pi e^{- 2 i \\pi \\left(\\pi n - \\frac{\\pi}{4}\\right) \\left|{\\omega}\\right|}}{\\pi^{2} \\left(4 n - 1\\right)^{2} + 16} - \\frac{i \\pi e^{2} e^{- 2 \\pi \\left|{\\omega}\\right|}}{e^{2} + i} + i \\pi e^{- 2 \\pi \\left|{\\omega}\\right|}$"
      ],
      "text/plain": [
       "Eq(G(Abs(omega), I), -Sum(-8*I*pi*exp(-2*I*pi*(pi*n - pi/4)*Abs(omega))/(pi**2*(4*n - 1)**2 + 16), (n, -oo, oo)) - I*pi*exp(2)*exp(-2*pi*Abs(omega))/(exp(2) + I) + I*pi*exp(-2*pi*Abs(omega)))"
      ]
     },
     "execution_count": 16,
     "metadata": {},
     "output_type": "execute_result"
    }
   ],
   "source": [
    "Eq(G(abs(omega), I), \n",
    "   (-Sum(8*I*pi/(pi**2*(4*n-1)**2+16)*exp(2*I*pi*abs(omega)*(n*pi-pi/4)), (n, -oo, oo))).subs(I,-I) + \n",
    "   ((I*pi*exp(2)*exp(-2*pi*abs(omega))/(exp(2)-I)).subs(I,-I) + I*pi*exp(-2*pi*abs(omega)))\n",
    ")"
   ]
  },
  {
   "cell_type": "code",
   "execution_count": 32,
   "metadata": {},
   "outputs": [
    {
     "data": {
      "text/latex": [
       "$\\displaystyle 0$"
      ],
      "text/plain": [
       "0"
      ]
     },
     "execution_count": 32,
     "metadata": {},
     "output_type": "execute_result"
    }
   ],
   "source": [
    "Heaviside(-1)"
   ]
  },
  {
   "cell_type": "code",
   "execution_count": 33,
   "metadata": {},
   "outputs": [
    {
     "data": {
      "text/latex": [
       "$\\displaystyle G{\\left(\\omega,i \\right)} = \\left(- \\frac{i \\pi e^{2} e^{- 2 \\pi \\left|{\\omega}\\right|}}{e^{2} + i} + i \\pi e^{- 2 \\pi \\left|{\\omega}\\right|}\\right) \\theta\\left(\\omega\\right) + \\operatorname{sign}{\\left(\\omega \\right)} \\sum_{n=-\\infty}^{\\infty} \\frac{8 i \\pi e^{- 2 i \\pi \\omega \\left(\\pi n - \\frac{\\pi}{4}\\right)}}{\\pi^{2} \\left(4 n - 1\\right)^{2} + 16} + \\frac{i \\pi e^{2} e^{- 2 \\pi \\left|{\\omega}\\right|} \\theta\\left(- \\omega\\right)}{e^{2} - i}$"
      ],
      "text/plain": [
       "Eq(G(omega, I), (-I*pi*exp(2)*exp(-2*pi*Abs(omega))/(exp(2) + I) + I*pi*exp(-2*pi*Abs(omega)))*Heaviside(omega) + sign(omega)*Sum(8*I*pi*exp(-2*I*pi*omega*(pi*n - pi/4))/(pi**2*(4*n - 1)**2 + 16), (n, -oo, oo)) + I*pi*exp(2)*exp(-2*pi*Abs(omega))*Heaviside(-omega)/(exp(2) - I))"
      ]
     },
     "execution_count": 33,
     "metadata": {},
     "output_type": "execute_result"
    }
   ],
   "source": [
    "Eq(G(omega, I), \n",
    "   sign(omega)*Sum(8*I*pi/(pi**2*(4*n-1)**2+16)*exp(-2*I*pi*omega*(n*pi-pi/4)), (n, -oo, oo)) + \n",
    "   Heaviside(omega)*(-I*pi*exp(2)*exp(-2*pi*abs(omega))/(exp(2)+I) + I*pi*exp(-2*pi*abs(omega))) +\n",
    "   Heaviside(-omega)*I*pi*exp(2)*exp(-2*pi*abs(omega))/(exp(2)-I)\n",
    ")"
   ]
  },
  {
   "cell_type": "code",
   "execution_count": 34,
   "metadata": {},
   "outputs": [
    {
     "data": {
      "text/latex": [
       "$\\displaystyle \\theta\\left(\\omega\\right) = \\frac{\\operatorname{sign}{\\left(\\omega \\right)}}{2} + \\frac{1}{2}$"
      ],
      "text/plain": [
       "Eq(Heaviside(omega), sign(omega)/2 + 1/2)"
      ]
     },
     "execution_count": 34,
     "metadata": {},
     "output_type": "execute_result"
    }
   ],
   "source": [
    "Eq(Heaviside(omega), (sign(omega) + 1)/2)"
   ]
  },
  {
   "cell_type": "code",
   "execution_count": 35,
   "metadata": {},
   "outputs": [
    {
     "data": {
      "text/latex": [
       "$\\displaystyle \\theta\\left(- \\omega\\right) = \\frac{1}{2} - \\frac{\\operatorname{sign}{\\left(\\omega \\right)}}{2}$"
      ],
      "text/plain": [
       "Eq(Heaviside(-omega), 1/2 - sign(omega)/2)"
      ]
     },
     "execution_count": 35,
     "metadata": {},
     "output_type": "execute_result"
    }
   ],
   "source": [
    "Eq(Heaviside(-omega), (sign(-omega) + 1)/2)"
   ]
  },
  {
   "cell_type": "code",
   "execution_count": 40,
   "metadata": {},
   "outputs": [
    {
     "data": {
      "text/latex": [
       "$\\displaystyle G{\\left(\\omega,i \\right)} = \\frac{i \\pi \\left(\\frac{1}{2} - \\frac{\\operatorname{sign}{\\left(\\omega \\right)}}{2}\\right) e^{2} e^{- 2 \\pi \\left|{\\omega}\\right|}}{e^{2} - i} + \\left(- \\frac{i \\pi e^{2} e^{- 2 \\pi \\left|{\\omega}\\right|}}{e^{2} + i} + i \\pi e^{- 2 \\pi \\left|{\\omega}\\right|}\\right) \\left(\\frac{\\operatorname{sign}{\\left(\\omega \\right)}}{2} + \\frac{1}{2}\\right) + \\operatorname{sign}{\\left(\\omega \\right)} \\sum_{n=-\\infty}^{\\infty} \\frac{8 i \\pi e^{- 2 i \\pi \\omega \\left(\\pi n - \\frac{\\pi}{4}\\right)}}{\\pi^{2} \\left(4 n - 1\\right)^{2} + 16}$"
      ],
      "text/plain": [
       "Eq(G(omega, I), I*pi*(1/2 - sign(omega)/2)*exp(2)*exp(-2*pi*Abs(omega))/(exp(2) - I) + (-I*pi*exp(2)*exp(-2*pi*Abs(omega))/(exp(2) + I) + I*pi*exp(-2*pi*Abs(omega)))*(sign(omega)/2 + 1/2) + sign(omega)*Sum(8*I*pi*exp(-2*I*pi*omega*(pi*n - pi/4))/(pi**2*(4*n - 1)**2 + 16), (n, -oo, oo)))"
      ]
     },
     "execution_count": 40,
     "metadata": {},
     "output_type": "execute_result"
    }
   ],
   "source": [
    "Eq(G(omega, I), \n",
    "   sign(omega)*Sum(8*I*pi/(pi**2*(4*n-1)**2+16)*exp(-2*I*pi*omega*(n*pi-pi/4)), (n, -oo, oo)) + \n",
    "   (sign(omega) + 1)/2*(-I*pi*exp(2)*exp(-2*pi*abs(omega))/(exp(2)+I) + I*pi*exp(-2*pi*abs(omega))) +\n",
    "   (-sign(omega) + 1)/2*I*pi*exp(2)*exp(-2*pi*abs(omega))/(exp(2)-I)\n",
    ")"
   ]
  },
  {
   "cell_type": "code",
   "execution_count": 44,
   "metadata": {},
   "outputs": [
    {
     "data": {
      "text/latex": [
       "$\\displaystyle G{\\left(\\omega,i \\right)} = \\operatorname{sign}{\\left(\\omega \\right)} \\sum_{n=-\\infty}^{\\infty} \\frac{8 i \\pi e^{- 2 i \\pi \\omega \\left(\\pi n - \\frac{\\pi}{4}\\right)}}{\\pi^{2} \\left(4 n - 1\\right)^{2} + 16} - \\frac{i \\pi e^{- 2 \\pi \\left|{\\omega}\\right|} \\tanh{\\left(2 \\right)} \\operatorname{sign}{\\left(\\omega \\right)}}{2} - \\frac{\\pi e^{- 2 \\pi \\left|{\\omega}\\right|}}{2 \\left(e^{2} + i\\right)} + \\frac{i \\pi e^{2} e^{- 2 \\pi \\left|{\\omega}\\right|}}{2 \\left(e^{2} - i\\right)}$"
      ],
      "text/plain": [
       "Eq(G(omega, I), sign(omega)*Sum(8*I*pi*exp(-2*I*pi*omega*(pi*n - pi/4))/(pi**2*(4*n - 1)**2 + 16), (n, -oo, oo)) - I*pi*exp(-2*pi*Abs(omega))*tanh(2)*sign(omega)/2 - pi*exp(-2*pi*Abs(omega))/(2*(exp(2) + I)) + I*pi*exp(2)*exp(-2*pi*Abs(omega))/(2*(exp(2) - I)))"
      ]
     },
     "execution_count": 44,
     "metadata": {},
     "output_type": "execute_result"
    }
   ],
   "source": [
    "Eq(G(omega, I), \n",
    "   sign(omega)*Sum(8*I*pi/(pi**2*(4*n-1)**2+16)*exp(-2*I*pi*omega*(n*pi-pi/4)), (n, -oo, oo)) + \n",
    "   sign(omega)*((-I*pi*exp(2)*exp(-2*pi*abs(omega))/(exp(2)+I) + I*pi*exp(-2*pi*abs(omega)))/2 +\n",
    "   -I*pi*exp(2)*exp(-2*pi*abs(omega))/(exp(2)-I)/2).simplify() +\n",
    "   ((-I*pi*exp(2)*exp(-2*pi*abs(omega))/(exp(2)+I) + I*pi*exp(-2*pi*abs(omega)))/2).simplify() +\n",
    "   I*pi*exp(2)*exp(-2*pi*abs(omega))/(exp(2)-I)/2\n",
    ")"
   ]
  },
  {
   "cell_type": "code",
   "execution_count": 47,
   "metadata": {},
   "outputs": [
    {
     "data": {
      "text/latex": [
       "$\\displaystyle 2 i \\pi \\omega F{\\left(\\omega \\right)} = - G{\\left(\\omega,i \\right)} + \\pi \\left(\\frac{1}{2} + \\frac{i}{2}\\right) e^{- 2 \\pi \\left|{\\omega}\\right|}$"
      ],
      "text/plain": [
       "Eq(2*I*pi*omega*F(omega), -G(omega, I) + pi*(1/2 + I/2)*exp(-2*pi*Abs(omega)))"
      ]
     },
     "execution_count": 47,
     "metadata": {},
     "output_type": "execute_result"
    }
   ],
   "source": [
    "Eq((2*I*pi*omega)*F(omega), (1 + I)/2*pi*exp(-abs(2*pi*omega)) - G(omega, I))"
   ]
  },
  {
   "cell_type": "code",
   "execution_count": 52,
   "metadata": {},
   "outputs": [
    {
     "data": {
      "text/latex": [
       "$\\displaystyle 2 i \\pi \\omega F{\\left(\\omega \\right)} = - \\operatorname{sign}{\\left(\\omega \\right)} \\sum_{n=-\\infty}^{\\infty} \\frac{8 i \\pi e^{- 2 i \\pi \\omega \\left(\\pi n - \\frac{\\pi}{4}\\right)}}{\\pi^{2} \\left(4 n - 1\\right)^{2} + 16} + \\frac{i \\pi e^{- 2 \\pi \\left|{\\omega}\\right|} \\tanh{\\left(2 \\right)} \\operatorname{sign}{\\left(\\omega \\right)}}{2} + \\frac{\\pi \\left(1 + 2 e^{2} + e^{4}\\right) e^{- 2 \\pi \\left|{\\omega}\\right|}}{2 \\left(1 + e^{4}\\right)}$"
      ],
      "text/plain": [
       "Eq(2*I*pi*omega*F(omega), -sign(omega)*Sum(8*I*pi*exp(-2*I*pi*omega*(pi*n - pi/4))/(pi**2*(4*n - 1)**2 + 16), (n, -oo, oo)) + I*pi*exp(-2*pi*Abs(omega))*tanh(2)*sign(omega)/2 + pi*(1 + 2*exp(2) + exp(4))*exp(-2*pi*Abs(omega))/(2*(1 + exp(4))))"
      ]
     },
     "execution_count": 52,
     "metadata": {},
     "output_type": "execute_result"
    }
   ],
   "source": [
    "Eq((2*I*pi*omega)*F(omega), \n",
    "   -sign(omega)*Sum(8*I*pi/(pi**2*(4*n-1)**2+16)*exp(-2*I*pi*omega*(n*pi-pi/4)), (n, -oo, oo)) + \n",
    "   -sign(omega)*((-I*pi*exp(2)*exp(-2*pi*abs(omega))/(exp(2)+I) + I*pi*exp(-2*pi*abs(omega)))/2 +\n",
    "   -I*pi*exp(2)*exp(-2*pi*abs(omega))/(exp(2)-I)/2).simplify() +\n",
    "   (-((-I*pi*exp(2)*exp(-2*pi*abs(omega))/(exp(2)+I) + I*pi*exp(-2*pi*abs(omega)))/2) +\n",
    "   -I*pi*exp(2)*exp(-2*pi*abs(omega))/(exp(2)-I)/2\n",
    "   + (1 + I)/2*pi*exp(-abs(2*pi*omega))).simplify()\n",
    ")"
   ]
  },
  {
   "cell_type": "code",
   "execution_count": 59,
   "metadata": {},
   "outputs": [
    {
     "data": {
      "text/latex": [
       "$\\displaystyle 2 i \\pi \\omega F{\\left(\\omega \\right)} = - 8 i \\pi \\operatorname{sign}{\\left(\\omega \\right)} \\sum_{n=-\\infty}^{\\infty} \\frac{e^{- 2 i \\pi \\omega \\left(\\pi n - \\frac{\\pi}{4}\\right)}}{\\pi^{2} \\left(4 n - 1\\right)^{2} + 16} + \\frac{i \\pi e^{- 2 \\pi \\left|{\\omega}\\right|} \\tanh{\\left(2 \\right)} \\operatorname{sign}{\\left(\\omega \\right)}}{2} + \\frac{\\pi \\left(\\frac{1}{\\cosh{\\left(2 \\right)}} + 1\\right) e^{- 2 \\pi \\left|{\\omega}\\right|}}{2}$"
      ],
      "text/plain": [
       "Eq(2*I*pi*omega*F(omega), -8*I*pi*sign(omega)*Sum(exp(-2*I*pi*omega*(pi*n - pi/4))/(pi**2*(4*n - 1)**2 + 16), (n, -oo, oo)) + I*pi*exp(-2*pi*Abs(omega))*tanh(2)*sign(omega)/2 + pi*(1/cosh(2) + 1)*exp(-2*pi*Abs(omega))/2)"
      ]
     },
     "execution_count": 59,
     "metadata": {},
     "output_type": "execute_result"
    }
   ],
   "source": [
    "Eq((2*I*pi*omega)*F(omega),\n",
    "    - sign(omega)*8*I*pi*Sum(exp(-2*I*pi*omega*(pi*n-pi/4))/(pi**2*(4*n-1)**2 + 16), (n,-oo,oo))\n",
    "    + I*pi*sign(omega)*exp(-2*pi*abs(omega))*tanh(2)/2\n",
    "    + pi*(1 + 1/cosh(2))*exp(-2*pi*abs(omega))/2\n",
    ")\n"
   ]
  },
  {
   "cell_type": "code",
   "execution_count": 62,
   "metadata": {},
   "outputs": [
    {
     "data": {
      "text/latex": [
       "$\\displaystyle F{\\left(\\omega \\right)} = - \\sum_{n=-\\infty}^{\\infty} \\frac{4 e^{- 2 i \\pi \\omega \\left(\\pi n - \\frac{\\pi}{4}\\right)}}{\\left(\\pi^{2} \\left(4 n - 1\\right)^{2} + 16\\right) \\left|{\\omega}\\right|} + \\frac{e^{- 2 \\pi \\left|{\\omega}\\right|} \\tanh{\\left(2 \\right)}}{4 \\left|{\\omega}\\right|} - \\frac{i \\left(\\frac{1}{\\cosh{\\left(2 \\right)}} + 1\\right) e^{- 2 \\pi \\left|{\\omega}\\right|}}{4 \\omega}$"
      ],
      "text/plain": [
       "Eq(F(omega), -Sum(4*exp(-2*I*pi*omega*(pi*n - pi/4))/((pi**2*(4*n - 1)**2 + 16)*Abs(omega)), (n, -oo, oo)) + exp(-2*pi*Abs(omega))*tanh(2)/(4*Abs(omega)) - I*(1/cosh(2) + 1)*exp(-2*pi*Abs(omega))/(4*omega))"
      ]
     },
     "execution_count": 62,
     "metadata": {},
     "output_type": "execute_result"
    }
   ],
   "source": [
    "Eq(F(omega),\n",
    "    - Sum(4/abs(omega)*exp(-2*I*pi*omega*(pi*n-pi/4))/(pi**2*(4*n-1)**2 + 16), (n,-oo,oo))\n",
    "    + 1/(4*abs(omega))*exp(-2*pi*abs(omega))*tanh(2)\n",
    "    -I/(4*omega)*(1 + 1/cosh(2))*exp(-2*pi*abs(omega))\n",
    ")"
   ]
  },
  {
   "cell_type": "code",
   "execution_count": 68,
   "metadata": {},
   "outputs": [
    {
     "data": {
      "text/latex": [
       "$\\displaystyle f{\\left(\\tau \\right)} = - \\frac{i \\left(\\frac{1}{\\cosh{\\left(2 \\right)}} + 1\\right) \\int\\limits_{-\\infty}^{\\infty} \\frac{e^{- 2 \\pi \\left|{\\omega}\\right|} e^{2 i \\pi \\omega \\tau}}{\\omega}\\, d\\omega}{4} + \\frac{\\tanh{\\left(2 \\right)} \\int\\limits_{-\\infty}^{\\infty} \\frac{e^{- 2 \\pi \\left|{\\omega}\\right|} e^{2 i \\pi \\omega \\tau}}{\\left|{\\omega}\\right|}\\, d\\omega}{4} - \\sum_{n=-\\infty}^{\\infty} \\frac{4 \\int\\limits_{-\\infty}^{\\infty} \\frac{e^{2 i \\pi \\omega \\tau} e^{- 2 i \\pi \\omega \\left(\\pi n - \\frac{\\pi}{4}\\right)}}{\\left|{\\omega}\\right|}\\, d\\omega}{\\pi^{2} \\left(4 n - 1\\right)^{2} + 16}$"
      ],
      "text/plain": [
       "Eq(f(tau), -I*(1/cosh(2) + 1)*Integral(exp(-2*pi*Abs(omega))*exp(2*I*pi*omega*tau)/omega, (omega, -oo, oo))/4 + tanh(2)*Integral(exp(-2*pi*Abs(omega))*exp(2*I*pi*omega*tau)/Abs(omega), (omega, -oo, oo))/4 - Sum(4*Integral(exp(2*I*pi*omega*tau)*exp(-2*I*pi*omega*(pi*n - pi/4))/Abs(omega), (omega, -oo, oo))/(pi**2*(4*n - 1)**2 + 16), (n, -oo, oo)))"
      ]
     },
     "execution_count": 68,
     "metadata": {},
     "output_type": "execute_result"
    }
   ],
   "source": [
    "Eq(f(tau),\n",
    "- Sum(4/(pi**2*(4*n-1)**2 + 16)*Integral(exp(-2*I*pi*omega*(pi*n-pi/4))/abs(omega)*exp(2*I*pi*omega*tau),(omega,-oo,oo)), (n,-oo,oo))\n",
    "+ tanh(2)/4*Integral(exp(-2*pi*abs(omega))/abs(omega)*exp(2*I*pi*omega*tau),(omega,-oo,oo))\n",
    "-I*(1 + 1/cosh(2))/4*Integral(exp(-2*pi*abs(omega))/omega*exp(2*I*pi*omega*tau),(omega,-oo,oo))\n",
    ")"
   ]
  },
  {
   "cell_type": "code",
   "execution_count": 69,
   "metadata": {},
   "outputs": [
    {
     "data": {
      "text/latex": [
       "$\\displaystyle \\pi \\int\\limits_{0}^{\\infty} e^{- 2 \\pi \\left|{\\omega}\\right|} e^{2 i \\pi \\omega \\tau}\\, d\\omega = \\frac{1}{2 \\left(- i \\tau + 1\\right)}$"
      ],
      "text/plain": [
       "Eq(pi*Integral(exp(-2*pi*Abs(omega))*exp(2*I*pi*omega*tau), (omega, 0, oo)), 1/(2*(-I*tau + 1)))"
      ]
     },
     "execution_count": 69,
     "metadata": {},
     "output_type": "execute_result"
    }
   ],
   "source": [
    "Eq(\n",
    "    pi*Integral(exp(-abs(2*pi*omega))*exp(2*I*pi*omega*tau),(omega, 0,oo)),\n",
    "    pi/(2*pi*(-I*tau+1))\n",
    ")"
   ]
  },
  {
   "cell_type": "code",
   "execution_count": 80,
   "metadata": {},
   "outputs": [
    {
     "data": {
      "text/latex": [
       "$\\displaystyle \\pi \\int\\limits_{-\\infty}^{\\infty} e^{- 2 \\pi \\left|{\\omega}\\right|} e^{2 i \\pi \\omega \\tau}\\, d\\omega = \\frac{1}{\\tau^{2} + 1}$"
      ],
      "text/plain": [
       "Eq(pi*Integral(exp(-2*pi*Abs(omega))*exp(2*I*pi*omega*tau), (omega, -oo, oo)), 1/(tau**2 + 1))"
      ]
     },
     "execution_count": 80,
     "metadata": {},
     "output_type": "execute_result"
    }
   ],
   "source": [
    "Eq(\n",
    "    pi*Integral(exp(-abs(2*pi*omega))*exp(2*I*pi*omega*tau),(omega, -oo,oo)),\n",
    "    (pi/(2*pi*(-I*tau+1)) + pi/(2*pi*(I*tau+1))).simplify()\n",
    ")"
   ]
  },
  {
   "cell_type": "code",
   "execution_count": 82,
   "metadata": {},
   "outputs": [
    {
     "data": {
      "text/latex": [
       "$\\displaystyle \\pi \\int\\limits_{-\\infty}^{\\infty} \\begin{cases} \\left(- \\frac{i e^{2 i \\pi \\omega \\tau}}{2 \\pi \\omega} + \\frac{i}{2 \\pi \\omega}\\right) e^{- 2 \\pi \\left|{\\omega}\\right|} & \\text{for}\\: \\omega > -\\infty \\wedge \\omega < \\infty \\wedge \\omega \\neq 0 \\\\\\tau e^{- 2 \\pi \\left|{\\omega}\\right|} & \\text{otherwise} \\end{cases}\\, d\\omega = \\operatorname{atan}{\\left(\\tau \\right)}$"
      ],
      "text/plain": [
       "Eq(pi*Integral(Piecewise(((-I*exp(2*I*pi*omega*tau)/(2*pi*omega) + I/(2*pi*omega))*exp(-2*pi*Abs(omega)), (omega > -oo) & (omega < oo) & Ne(omega, 0)), (tau*exp(-2*pi*Abs(omega)), True)), (omega, -oo, oo)), atan(tau))"
      ]
     },
     "execution_count": 82,
     "metadata": {},
     "output_type": "execute_result"
    }
   ],
   "source": [
    "Eq(\n",
    "    pi*Integral(exp(-abs(2*pi*omega))*integrate(exp(2*I*pi*omega*t),(t,0,tau)),(omega, -oo,oo)),\n",
    "    integrate(1/(t**2+1),(t,0,tau))\n",
    ")"
   ]
  },
  {
   "cell_type": "code",
   "execution_count": 87,
   "metadata": {},
   "outputs": [
    {
     "data": {
      "text/latex": [
       "$\\displaystyle \\int\\limits_{-\\infty}^{\\infty} \\frac{e^{- 2 \\pi \\left|{\\omega}\\right|} e^{2 i \\pi \\omega \\tau}}{\\omega}\\, d\\omega = 2 i \\operatorname{atan}{\\left(\\tau \\right)}$"
      ],
      "text/plain": [
       "Eq(Integral(exp(-2*pi*Abs(omega))*exp(2*I*pi*omega*tau)/omega, (omega, -oo, oo)), 2*I*atan(tau))"
      ]
     },
     "execution_count": 87,
     "metadata": {},
     "output_type": "execute_result"
    }
   ],
   "source": [
    "Eq(integrate(exp(2*I*pi*omega*tau)/omega*exp(-2*pi*abs(omega)),(omega, -oo, oo)),2*I*atan(tau))"
   ]
  },
  {
   "cell_type": "code",
   "execution_count": 79,
   "metadata": {},
   "outputs": [
    {
     "data": {
      "text/latex": [
       "$\\displaystyle \\int\\limits_{0}^{\\infty} \\begin{cases} \\left(\\frac{e^{2 i \\pi \\omega \\tau}}{\\omega} - \\frac{1}{\\omega}\\right) e^{- 2 \\pi \\left|{\\omega}\\right|} & \\text{for}\\: \\omega > -\\infty \\wedge \\omega < \\infty \\wedge \\omega \\neq 0 \\\\2 i \\pi \\tau e^{- 2 \\pi \\left|{\\omega}\\right|} & \\text{otherwise} \\end{cases}\\, d\\omega = - \\log{\\left(- \\tau - i \\right)} - \\frac{i \\pi}{2}$"
      ],
      "text/plain": [
       "Eq(Integral(Piecewise(((exp(2*I*pi*omega*tau)/omega - 1/omega)*exp(-2*pi*Abs(omega)), (omega > -oo) & (omega < oo) & Ne(omega, 0)), (2*I*pi*tau*exp(-2*pi*Abs(omega)), True)), (omega, 0, oo)), -log(-tau - I) - I*pi/2)"
      ]
     },
     "execution_count": 79,
     "metadata": {},
     "output_type": "execute_result"
    }
   ],
   "source": [
    "Eq(\n",
    "    Integral(exp(-abs(2*pi*omega))*integrate(2*I*pi*exp(2*I*pi*omega*t),(t,0, tau)),(omega, 0,oo)),\n",
    "    integrate(2*I*pi/(2*pi*(-I*t+1)),(t,0,tau))\n",
    ")"
   ]
  },
  {
   "cell_type": "code",
   "execution_count": 78,
   "metadata": {},
   "outputs": [
    {
     "data": {
      "text/latex": [
       "$\\displaystyle \\operatorname{atan}{\\left(\\tau \\right)}$"
      ],
      "text/plain": [
       "atan(tau)"
      ]
     },
     "execution_count": 78,
     "metadata": {},
     "output_type": "execute_result"
    }
   ],
   "source": [
    "integrate(1/(t**2+1),(t,0,tau))"
   ]
  },
  {
   "cell_type": "code",
   "execution_count": 24,
   "metadata": {},
   "outputs": [
    {
     "data": {
      "text/latex": [
       "$\\displaystyle \\frac{i \\pi e^{2} e^{- 2 \\pi \\left|{\\omega}\\right|}}{e^{2} - i} = - \\frac{\\pi e^{- 2 \\pi \\left|{\\omega}\\right| + 2}}{1 + e^{4}} + \\frac{i \\pi e^{- 2 \\pi \\left|{\\omega}\\right| + 4}}{1 + e^{4}}$"
      ],
      "text/plain": [
       "Eq(I*pi*exp(2)*exp(-2*pi*Abs(omega))/(exp(2) - I), -pi*exp(-2*pi*Abs(omega) + 2)/(1 + exp(4)) + I*pi*exp(-2*pi*Abs(omega) + 4)/(1 + exp(4)))"
      ]
     },
     "execution_count": 24,
     "metadata": {},
     "output_type": "execute_result"
    }
   ],
   "source": [
    "Eq(I*pi*exp(2)*exp(-2*pi*abs(omega))/(exp(2)-I),\n",
    "    (\n",
    "        (I*pi*exp(2)*exp(-2*pi*abs(omega))/(exp(2)-I))/2 +\n",
    "        (I*pi*exp(2)*exp(-2*pi*abs(omega))/(exp(2)-I)).subs(I,-I)/2\n",
    "    ).simplify() +\n",
    "    (\n",
    "        (I*pi*exp(2)*exp(-2*pi*abs(omega))/(exp(2)-I))/2 -\n",
    "        (I*pi*exp(2)*exp(-2*pi*abs(omega))/(exp(2)-I)).subs(I,-I)/2\n",
    "    ).simplify()  \n",
    ")"
   ]
  },
  {
   "cell_type": "code",
   "execution_count": 28,
   "metadata": {},
   "outputs": [
    {
     "data": {
      "text/latex": [
       "$\\displaystyle - \\frac{i \\pi e^{2} e^{- 2 \\pi \\left|{\\omega}\\right|}}{e^{2} + i} = - \\frac{\\pi e^{- 2 \\pi \\left|{\\omega}\\right| + 2}}{1 + e^{4}} - \\frac{i \\pi e^{- 2 \\pi \\left|{\\omega}\\right| + 4}}{1 + e^{4}}$"
      ],
      "text/plain": [
       "Eq(-I*pi*exp(2)*exp(-2*pi*Abs(omega))/(exp(2) + I), -pi*exp(-2*pi*Abs(omega) + 2)/(1 + exp(4)) - I*pi*exp(-2*pi*Abs(omega) + 4)/(1 + exp(4)))"
      ]
     },
     "execution_count": 28,
     "metadata": {},
     "output_type": "execute_result"
    }
   ],
   "source": [
    "Eq(I*pi*exp(2)*exp(-2*pi*abs(omega))/(exp(2)-I),\n",
    "    (\n",
    "        (I*pi*exp(2)*exp(-2*pi*abs(omega))/(exp(2)-I))/2 +\n",
    "        (I*pi*exp(2)*exp(-2*pi*abs(omega))/(exp(2)-I)).subs(I,-I)/2\n",
    "    ).simplify() +\n",
    "    (\n",
    "        (I*pi*exp(2)*exp(-2*pi*abs(omega))/(exp(2)-I))/2 -\n",
    "        (I*pi*exp(2)*exp(-2*pi*abs(omega))/(exp(2)-I)).subs(I,-I)/2\n",
    "    ).simplify()  \n",
    ").subs(I,-I)"
   ]
  },
  {
   "cell_type": "code",
   "execution_count": 27,
   "metadata": {},
   "outputs": [
    {
     "data": {
      "text/latex": [
       "$\\displaystyle \\operatorname{sign}{\\left(\\omega \\right)}$"
      ],
      "text/plain": [
       "sign(omega)"
      ]
     },
     "execution_count": 27,
     "metadata": {},
     "output_type": "execute_result"
    }
   ],
   "source": [
    "sign(omega)"
   ]
  },
  {
   "cell_type": "code",
   "execution_count": 30,
   "metadata": {},
   "outputs": [
    {
     "data": {
      "text/latex": [
       "$\\displaystyle \\frac{i \\pi e^{- 2 \\pi \\left|{\\omega}\\right|}}{1 + e^{4}}$"
      ],
      "text/plain": [
       "I*pi*exp(-2*pi*Abs(omega))/(1 + exp(4))"
      ]
     },
     "execution_count": 30,
     "metadata": {},
     "output_type": "execute_result"
    }
   ],
   "source": [
    "(-I*pi*exp(-2*pi*abs(omega)+4)/(1+exp(4)) + I*pi*exp(-2*pi*abs(omega))).simplify()"
   ]
  },
  {
   "cell_type": "markdown",
   "metadata": {},
   "source": [
    "## Inverse FT"
   ]
  },
  {
   "cell_type": "code",
   "execution_count": 93,
   "metadata": {},
   "outputs": [
    {
     "data": {
      "text/latex": [
       "$\\displaystyle 2 i \\pi \\omega F{\\left(\\omega \\right)} = - 8 i \\pi \\operatorname{sign}{\\left(\\omega \\right)} \\sum_{n=-\\infty}^{\\infty} \\frac{e^{- 2 i \\pi \\omega \\left(\\pi n - \\frac{\\pi}{4}\\right)}}{\\pi^{2} \\left(4 n - 1\\right)^{2} + 16} + \\frac{i \\pi e^{- 2 \\pi \\left|{\\omega}\\right|} \\tanh{\\left(2 \\right)} \\operatorname{sign}{\\left(\\omega \\right)}}{2} + \\frac{\\pi \\left(\\frac{1}{\\cosh{\\left(2 \\right)}} + 1\\right) e^{- 2 \\pi \\left|{\\omega}\\right|}}{2}$"
      ],
      "text/plain": [
       "Eq(2*I*pi*omega*F(omega), -8*I*pi*sign(omega)*Sum(exp(-2*I*pi*omega*(pi*n - pi/4))/(pi**2*(4*n - 1)**2 + 16), (n, -oo, oo)) + I*pi*exp(-2*pi*Abs(omega))*tanh(2)*sign(omega)/2 + pi*(1/cosh(2) + 1)*exp(-2*pi*Abs(omega))/2)"
      ]
     },
     "execution_count": 93,
     "metadata": {},
     "output_type": "execute_result"
    }
   ],
   "source": [
    "Eq((2*I*pi*omega)*F(omega),\n",
    "    - sign(omega)*8*I*pi*Sum(exp(-2*I*pi*omega*(pi*n-pi/4))/(pi**2*(4*n-1)**2 + 16), (n,-oo,oo))\n",
    "    + I*pi*sign(omega)*exp(-2*pi*abs(omega))*tanh(2)/2\n",
    "    + pi*(1 + 1/cosh(2))*exp(-2*pi*abs(omega))/2\n",
    ")"
   ]
  },
  {
   "cell_type": "code",
   "execution_count": 292,
   "metadata": {
    "scrolled": false
   },
   "outputs": [
    {
     "data": {
      "text/latex": [
       "$\\displaystyle - 8 i \\pi \\sum_{n=-\\infty}^{\\infty} \\frac{e^{- 2 i \\pi \\omega \\left(\\pi n - \\frac{\\pi}{4}\\right)}}{\\pi^{2} \\left(4 n - 1\\right)^{2} + 16} = - \\frac{e^{\\frac{i \\pi^{2} \\omega}{2}} \\sum_{n=-\\infty}^{\\infty} \\frac{e^{- 2 i \\pi^{2} n \\omega}}{n - \\frac{1}{4} - \\frac{i}{\\pi}}}{4} + \\frac{e^{\\frac{i \\pi^{2} \\omega}{2}} \\sum_{n=-\\infty}^{\\infty} \\frac{e^{- 2 i \\pi^{2} n \\omega}}{n - \\frac{1}{4} + \\frac{i}{\\pi}}}{4}$"
      ],
      "text/plain": [
       "Eq(-8*I*pi*Sum(exp(-2*I*pi*omega*(pi*n - pi/4))/(pi**2*(4*n - 1)**2 + 16), (n, -oo, oo)), -exp(I*pi**2*omega/2)*Sum(exp(-2*I*pi**2*n*omega)/(n - 1/4 - I/pi), (n, -oo, oo))/4 + exp(I*pi**2*omega/2)*Sum(exp(-2*I*pi**2*n*omega)/(n - 1/4 + I/pi), (n, -oo, oo))/4)"
      ]
     },
     "execution_count": 292,
     "metadata": {},
     "output_type": "execute_result"
    }
   ],
   "source": [
    "Eq(-I*8*pi*Sum(exp(-2*I*pi*omega*(pi*n-pi/4))/(pi**2*(4*n-1)**2 + 16), (n,-oo,oo)),\n",
    "   exp(I*pi**2*omega/2)/4*Sum(exp(-2*I*pi**2*omega*n)/(n + (-1 + 4*I/pi)/4), (n,-oo,oo)) - \n",
    "   exp(I*pi**2*omega/2)/4*Sum(exp(-2*I*pi**2*omega*n)/(n + (-1 - 4*I/pi)/4), (n,-oo,oo))\n",
    "  )"
   ]
  },
  {
   "cell_type": "code",
   "execution_count": 69,
   "metadata": {},
   "outputs": [
    {
     "data": {
      "text/latex": [
       "$\\displaystyle \\frac{\\pi \\left(- \\sinh{\\left(2 \\pi \\omega \\right)} - i \\sinh{\\left(- 2 \\pi \\omega + 2 \\right)}\\right)}{2 \\cosh{\\left(2 \\right)}}$"
      ],
      "text/plain": [
       "pi*(-sinh(2*pi*omega) - I*sinh(-2*pi*omega + 2))/(2*cosh(2))"
      ]
     },
     "execution_count": 69,
     "metadata": {},
     "output_type": "execute_result"
    }
   ],
   "source": [
    "(pi*(sinh(2*pi*omega)-I*sinh(2*pi*omega+2))/2/cosh(2)).subs(omega,-omega)"
   ]
  },
  {
   "cell_type": "code",
   "execution_count": 84,
   "metadata": {},
   "outputs": [
    {
     "data": {
      "text/latex": [
       "$\\displaystyle - 8 i \\pi \\left(\\frac{e^{\\frac{9 i \\pi \\omega}{2}}}{16 + 81 \\pi^{2}} + \\frac{e^{\\frac{5 i \\pi \\omega}{2}}}{16 + 25 \\pi^{2}} + \\frac{e^{\\frac{i \\pi \\omega}{2}}}{\\pi^{2} + 16} + \\frac{e^{- \\frac{3 i \\pi \\omega}{2}}}{16 + 9 \\pi^{2}} + \\frac{e^{- \\frac{7 i \\pi \\omega}{2}}}{16 + 49 \\pi^{2}}\\right)$"
      ],
      "text/plain": [
       "-8*I*pi*(exp(9*I*pi*omega/2)/(16 + 81*pi**2) + exp(5*I*pi*omega/2)/(16 + 25*pi**2) + exp(I*pi*omega/2)/(pi**2 + 16) + exp(-3*I*pi*omega/2)/(16 + 9*pi**2) + exp(-7*I*pi*omega/2)/(16 + 49*pi**2))"
      ]
     },
     "execution_count": 84,
     "metadata": {},
     "output_type": "execute_result"
    }
   ],
   "source": [
    "(-I*8*pi*Sum(exp(-2*I*pi*omega*(pi*n-pi/4))/(pi**2*(4*n-1)**2 + 16), (n,-2,2))).subs(omega, omega/pi).doit()"
   ]
  },
  {
   "cell_type": "code",
   "execution_count": 87,
   "metadata": {},
   "outputs": [
    {
     "data": {
      "image/png": "[encoded data removed]",
      "text/plain": [
       "<Figure size 432x288 with 1 Axes>"
      ]
     },
     "metadata": {
      "needs_background": "light"
     },
     "output_type": "display_data"
    }
   ],
   "source": [
    "p = plot(im(-I*8*pi*Sum(exp(-2*I*pi*omega*(pi*n-pi/4))/(pi**2*(4*n-1)**2 + 16), (n,-8,8))).subs(omega, omega/pi),\n",
    "         (omega,-1,3),line_color='b',show=False)\n",
    "p.extend(plot(im(pi*(sinh(2*pi*omega) + I*sinh(2*pi*omega - 2))/2/cosh(2)).subs(omega, omega/pi),\n",
    "              (omega,-1,2), line_color='r', show=False))\n",
    "p.show()\n"
   ]
  },
  {
   "cell_type": "code",
   "execution_count": 362,
   "metadata": {},
   "outputs": [
    {
     "data": {
      "text/latex": [
       "$\\displaystyle 32 \\pi n^{2} - 16 \\pi n + 2 \\pi + 16$"
      ],
      "text/plain": [
       "32*pi*n**2 - 16*pi*n + 2*pi + 16"
      ]
     },
     "execution_count": 362,
     "metadata": {},
     "output_type": "execute_result"
    }
   ],
   "source": [
    "(pi*2*(4*n-1)**2 + 16).expand()"
   ]
  },
  {
   "cell_type": "code",
   "execution_count": 396,
   "metadata": {},
   "outputs": [
    {
     "data": {
      "text/latex": [
       "$\\displaystyle \\begin{cases} - \\frac{2 i}{4 i \\pi n + 4 - i \\pi} & \\text{for}\\: n \\neq - \\frac{\\pi^{2} + 16}{\\pi \\left(- 4 \\pi + 16 i\\right)} \\\\\\frac{e^{2} - i e^{4}}{1 + e^{4}} & \\text{otherwise} \\end{cases}$"
      ],
      "text/plain": [
       "Piecewise((-2*I/(4*I*pi*n + 4 - I*pi), Ne(n, -(pi**2 + 16)/(pi*(-4*pi + 16*I)))), ((exp(2) - I*exp(4))/(1 + exp(4)), True))"
      ]
     },
     "execution_count": 396,
     "metadata": {},
     "output_type": "execute_result"
    }
   ],
   "source": [
    "integrate(exp(-a*pi*omega)*exp(2)/(1+I*exp(2))*exp(-2*I*pi*n*omega/T)/T,(omega,0,T)\n",
    "         ).subs(T,1/pi).subs(exp(2*I*pi*n),1).subs(a, (2-I*pi/2)).simplify()"
   ]
  },
  {
   "cell_type": "code",
   "execution_count": 397,
   "metadata": {},
   "outputs": [
    {
     "data": {
      "text/latex": [
       "$\\displaystyle \\begin{cases} \\frac{2 i}{4 i \\pi n + 4 + i \\pi} & \\text{for}\\: n \\neq - \\frac{\\pi^{2} + 16}{\\pi \\left(4 \\pi + 16 i\\right)} \\\\\\frac{e^{2} + i e^{4}}{1 + e^{4}} & \\text{otherwise} \\end{cases}$"
      ],
      "text/plain": [
       "Piecewise((2*I/(4*I*pi*n + 4 + I*pi), Ne(n, -(pi**2 + 16)/(pi*(4*pi + 16*I)))), ((exp(2) + I*exp(4))/(1 + exp(4)), True))"
      ]
     },
     "execution_count": 397,
     "metadata": {},
     "output_type": "execute_result"
    }
   ],
   "source": [
    "integrate(exp(-a*pi*omega)*exp(2)/(1-I*exp(2))*exp(-2*I*pi*n*omega/T)/T,(omega,0,T)\n",
    "         ).subs(T,1/pi).subs(exp(2*I*pi*n),1).subs(a, (2+I*pi/2)).simplify()"
   ]
  },
  {
   "cell_type": "code",
   "execution_count": null,
   "metadata": {},
   "outputs": [],
   "source": [
    "(2-I*pi/2)"
   ]
  },
  {
   "cell_type": "code",
   "execution_count": 371,
   "metadata": {},
   "outputs": [
    {
     "data": {
      "text/latex": [
       "$\\displaystyle a = -2 - \\frac{i \\pi}{2}$"
      ],
      "text/plain": [
       "Eq(a, -2 - I*pi/2)"
      ]
     },
     "execution_count": 371,
     "metadata": {},
     "output_type": "execute_result"
    }
   ],
   "source": [
    "Eq(a, -(2*I*pi)/4 + (2*I*pi)*I/pi)"
   ]
  },
  {
   "cell_type": "code",
   "execution_count": 291,
   "metadata": {},
   "outputs": [
    {
     "data": {
      "text/latex": [
       "$\\displaystyle e^{b \\theta} = \\pi \\left(\\frac{e^{2 \\pi b}}{2} - \\frac{1}{2}\\right) \\sum_{n=-\\infty}^{\\infty} \\frac{e^{i n \\theta}}{b - i n}$"
      ],
      "text/plain": [
       "Eq(exp(b*theta), pi*(exp(2*pi*b)/2 - 1/2)*Sum(exp(I*n*theta)/(b - I*n), (n, -oo, oo)))"
      ]
     },
     "execution_count": 291,
     "metadata": {},
     "output_type": "execute_result"
    }
   ],
   "source": [
    "# http://www.math.chalmers.se/~mohammad/teaching/0304/TMA682/pdf/Fourier_series.pdf\n",
    "# 0 < b < 2*pi\n",
    "Eq(exp(b*theta), (exp(2*pi*b)-1)/2*pi*Sum(exp(I*n*theta)/(b-n*I),(n,-oo,oo)))"
   ]
  },
  {
   "cell_type": "code",
   "execution_count": 298,
   "metadata": {},
   "outputs": [
    {
     "data": {
      "text/latex": [
       "$\\displaystyle \\frac{2 i \\pi e^{- i b \\theta}}{1 - e^{- 2 i \\pi b}} = \\sum_{n=-\\infty}^{\\infty} \\frac{e^{i n \\theta}}{b + n}$"
      ],
      "text/plain": [
       "Eq(2*I*pi*exp(-I*b*theta)/(1 - exp(-2*I*pi*b)), Sum(exp(I*n*theta)/(b + n), (n, -oo, oo)))"
      ]
     },
     "execution_count": 298,
     "metadata": {},
     "output_type": "execute_result"
    }
   ],
   "source": [
    "Eq(I*2*pi*exp(-I*b*theta)/(1-exp(-I*2*pi*b)), Sum(exp(I*n*theta)/(b+n),(n,-oo,oo)))"
   ]
  },
  {
   "cell_type": "code",
   "execution_count": 302,
   "metadata": {},
   "outputs": [
    {
     "data": {
      "text/latex": [
       "$\\displaystyle \\frac{2 i \\pi e^{2 i \\pi^{2} \\omega \\left(- \\frac{1}{4} + \\frac{i}{\\pi}\\right)}}{1 - e^{- 2 i \\pi \\left(- \\frac{1}{4} + \\frac{i}{\\pi}\\right)}} = \\sum_{n=-\\infty}^{\\infty} \\frac{e^{- 2 i \\pi^{2} n \\omega}}{n - \\frac{1}{4} + \\frac{i}{\\pi}}$"
      ],
      "text/plain": [
       "Eq(2*I*pi*exp(2*I*pi**2*omega*(-1/4 + I/pi))/(1 - exp(-2*I*pi*(-1/4 + I/pi))), Sum(exp(-2*I*pi**2*n*omega)/(n - 1/4 + I/pi), (n, -oo, oo)))"
      ]
     },
     "execution_count": 302,
     "metadata": {},
     "output_type": "execute_result"
    }
   ],
   "source": [
    "Eq(I*2*pi*exp(-I*b*theta)/(1-exp(-I*2*pi*b)), Sum(exp(I*n*theta)/(b+n),(n,-oo,oo))).subs(\n",
    "    [(theta,-omega*pi**2*2), (b,(-1 + 4*I/pi)/4)]\n",
    ")"
   ]
  },
  {
   "cell_type": "code",
   "execution_count": 304,
   "metadata": {},
   "outputs": [
    {
     "data": {
      "text/latex": [
       "$\\displaystyle \\frac{2 i \\pi e^{- \\pi \\omega \\left(2 + \\frac{i \\pi}{2}\\right)}}{1 - i e^{2}}$"
      ],
      "text/plain": [
       "2*I*pi*exp(-pi*omega*(2 + I*pi/2))/(1 - I*exp(2))"
      ]
     },
     "execution_count": 304,
     "metadata": {},
     "output_type": "execute_result"
    }
   ],
   "source": [
    "(I*2*pi*exp(-I*b*theta)/(1-exp(-I*2*pi*b))).subs([(theta,-omega*pi**2*2), (b,(-1 + 4*I/pi)/4)])"
   ]
  },
  {
   "cell_type": "code",
   "execution_count": 319,
   "metadata": {},
   "outputs": [
    {
     "data": {
      "text/latex": [
       "$\\displaystyle - \\frac{\\pi \\left(e^{2} e^{2 \\pi \\omega} + i e^{2 \\pi \\omega} - \\frac{e^{- 2 \\pi \\omega}}{e^{2}} - i e^{- 2 \\pi \\omega}\\right)}{2 \\left(e^{-2} - i\\right) \\left(e^{2} - i\\right)}$"
      ],
      "text/plain": [
       "-pi*(exp(2)*exp(2*pi*omega) + I*exp(2*pi*omega) - exp(-2)*exp(-2*pi*omega) - I*exp(-2*pi*omega))/(2*(exp(-2) - I)*(exp(2) - I))"
      ]
     },
     "execution_count": 319,
     "metadata": {},
     "output_type": "execute_result"
    }
   ],
   "source": [
    "(exp(I*pi**2*omega/2)/4*(I*2*pi*exp(-I*b*theta)/(1-exp(-I*2*pi*b))).subs([(theta,-omega*pi**2*2), (b,(-1 + 4*I/pi)/4)]) -\n",
    "exp(I*pi**2*omega/2)/4*(I*2*pi*exp(-I*b*theta)/(1-exp(-I*2*pi*b))).subs([(theta,-omega*pi**2*2), (b,(-1 - 4*I/pi)/4)])).factor()"
   ]
  },
  {
   "cell_type": "code",
   "execution_count": 322,
   "metadata": {},
   "outputs": [
    {
     "data": {
      "text/latex": [
       "$\\displaystyle \\frac{\\pi \\sinh{\\left(2 \\pi \\omega \\right)}}{2 \\cosh{\\left(2 \\right)}} - \\frac{i \\pi \\sinh{\\left(2 \\pi \\omega + 2 \\right)}}{2 \\cosh{\\left(2 \\right)}}$"
      ],
      "text/plain": [
       "pi*sinh(2*pi*omega)/(2*cosh(2)) - I*pi*sinh(2*pi*omega + 2)/(2*cosh(2))"
      ]
     },
     "execution_count": 322,
     "metadata": {},
     "output_type": "execute_result"
    }
   ],
   "source": [
    "(-pi*((exp(2)*exp(2*pi*omega)- exp(-2)*exp(-2*pi*omega)).simplify() + \n",
    "     (I*exp(2*pi*omega) -I*exp(-2*pi*omega)).simplify()\n",
    "    )/((exp(-2) - I)*(exp(2) - I)).simplify()/2).expand()"
   ]
  },
  {
   "cell_type": "code",
   "execution_count": 62,
   "metadata": {},
   "outputs": [
    {
     "data": {
      "text/latex": [
       "$\\displaystyle \\frac{\\pi \\left(\\sinh{\\left(2 \\pi \\omega \\right)} - i \\sinh{\\left(2 \\pi \\omega + 2 \\right)}\\right)}{2 \\cosh{\\left(2 \\right)}}$"
      ],
      "text/plain": [
       "pi*(sinh(2*pi*omega) - I*sinh(2*pi*omega + 2))/(2*cosh(2))"
      ]
     },
     "execution_count": 62,
     "metadata": {},
     "output_type": "execute_result"
    }
   ],
   "source": [
    "pi*(sinh(2*pi*omega)-I*sinh(2*pi*omega+2))/2/cosh(2)"
   ]
  },
  {
   "cell_type": "code",
   "execution_count": 31,
   "metadata": {},
   "outputs": [
    {
     "data": {
      "text/latex": [
       "$\\displaystyle \\left(\\frac{\\pi}{2 \\cosh{\\left(2 \\right)}} - \\frac{i \\pi}{2}\\right) \\sinh{\\left(2 \\pi \\omega \\right)} - \\frac{i \\pi \\sinh{\\left(2 \\right)} \\cosh{\\left(2 \\pi \\omega \\right)}}{2 \\cosh{\\left(2 \\right)}}$"
      ],
      "text/plain": [
       "(pi/(2*cosh(2)) - I*pi/2)*sinh(2*pi*omega) - I*pi*sinh(2)*cosh(2*pi*omega)/(2*cosh(2))"
      ]
     },
     "execution_count": 31,
     "metadata": {},
     "output_type": "execute_result"
    }
   ],
   "source": [
    "(pi*(sinh(2*pi*omega)-I*(sinh(2*pi*omega)*cosh(2) + sinh(2)*cosh(2*pi*omega)))/2/cosh(2)).expand().collect(sinh(2*pi*omega))"
   ]
  },
  {
   "cell_type": "code",
   "execution_count": 54,
   "metadata": {},
   "outputs": [
    {
     "data": {
      "text/latex": [
       "$\\displaystyle \\frac{\\pi \\left(- \\frac{1}{\\cosh{\\left(2 \\right)}} + i\\right) \\sinh{\\left(2 \\pi \\omega \\right)}}{2} - i \\pi \\cosh{\\left(2 \\pi \\omega \\right)} \\tanh{\\left(2 \\right)}$"
      ],
      "text/plain": [
       "pi*(-1/cosh(2) + I)*sinh(2*pi*omega)/2 - I*pi*cosh(2*pi*omega)*tanh(2)"
      ]
     },
     "execution_count": 54,
     "metadata": {},
     "output_type": "execute_result"
    }
   ],
   "source": [
    "pi/2*(I - 1/cosh(2))*sinh(2*pi*omega) - I*pi*tanh(2)*cosh(2*pi*omega)"
   ]
  },
  {
   "cell_type": "code",
   "execution_count": 22,
   "metadata": {},
   "outputs": [
    {
     "data": {
      "text/latex": [
       "$\\displaystyle \\sin{\\left(x + y \\right)} = \\sin{\\left(x \\right)} \\cos{\\left(y \\right)} + \\sin{\\left(y \\right)} \\cos{\\left(x \\right)}$"
      ],
      "text/plain": [
       "Eq(sin(x + y), sin(x)*cos(y) + sin(y)*cos(x))"
      ]
     },
     "execution_count": 22,
     "metadata": {},
     "output_type": "execute_result"
    }
   ],
   "source": [
    "Eq(sin(x + y), sin(x)*cos(y) + cos(x)*sin(y))"
   ]
  },
  {
   "cell_type": "code",
   "execution_count": 35,
   "metadata": {},
   "outputs": [
    {
     "data": {
      "text/latex": [
       "$\\displaystyle \\alpha \\sin{\\left(2 i \\pi \\omega + y \\right)} = \\alpha \\sin{\\left(y \\right)} \\cosh{\\left(2 \\pi \\omega \\right)} + i \\alpha \\cos{\\left(y \\right)} \\sinh{\\left(2 \\pi \\omega \\right)}$"
      ],
      "text/plain": [
       "Eq(alpha*sin(2*I*pi*omega + y), alpha*sin(y)*cosh(2*pi*omega) + I*alpha*cos(y)*sinh(2*pi*omega))"
      ]
     },
     "execution_count": 35,
     "metadata": {},
     "output_type": "execute_result"
    }
   ],
   "source": [
    "Eq(alpha*sin(x + y), alpha*sin(x)*cos(y) + alpha*cos(x)*sin(y)).subs(x,I*2*pi*omega)"
   ]
  },
  {
   "cell_type": "code",
   "execution_count": 39,
   "metadata": {},
   "outputs": [
    {
     "data": {
      "text/latex": [
       "$\\displaystyle \\frac{\\cosh{\\left(2 \\right)} + i}{\\sinh{\\left(2 \\right)}} = \\frac{i \\cos{\\left(y \\right)}}{\\sin{\\left(y \\right)}}$"
      ],
      "text/plain": [
       "Eq((cosh(2) + I)/sinh(2), I*cos(y)/sin(y))"
      ]
     },
     "execution_count": 39,
     "metadata": {},
     "output_type": "execute_result"
    }
   ],
   "source": [
    "Eq((pi/2*(1/cosh(2)-I)/(-I*pi*sinh(2)/(2*cosh(2)))).simplify(),\n",
    "   I*alpha*cos(y)/(alpha*sin(y))\n",
    "  )"
   ]
  },
  {
   "cell_type": "code",
   "execution_count": 52,
   "metadata": {},
   "outputs": [
    {
     "data": {
      "text/latex": [
       "$\\displaystyle i \\sinh{\\left(2 \\right)}$"
      ],
      "text/plain": [
       "I*sinh(2)"
      ]
     },
     "execution_count": 52,
     "metadata": {},
     "output_type": "execute_result"
    }
   ],
   "source": [
    "sin(I*2)"
   ]
  },
  {
   "cell_type": "code",
   "execution_count": 46,
   "metadata": {},
   "outputs": [
    {
     "data": {
      "text/plain": [
       "[-1, 1]"
      ]
     },
     "execution_count": 46,
     "metadata": {},
     "output_type": "execute_result"
    }
   ],
   "source": [
    "solve(x**2 -1)"
   ]
  },
  {
   "cell_type": "code",
   "execution_count": 348,
   "metadata": {},
   "outputs": [
    {
     "data": {
      "text/latex": [
       "$\\displaystyle -1.34321280030309 - 0.0481395008642538 i$"
      ],
      "text/plain": [
       "-1.34321280030309 - 0.0481395008642538*I"
      ]
     },
     "execution_count": 348,
     "metadata": {},
     "output_type": "execute_result"
    }
   ],
   "source": [
    "(-pi*((exp(2)*exp(2*pi*omega)- exp(-2)*exp(-2*pi*omega)).simplify() + \n",
    "     (I*exp(2*pi*omega) -I*exp(-2*pi*omega)).simplify()\n",
    "    )/((exp(-2) - I)*(exp(2) - I)).simplify()/2).expand().subs(omega,-0.3).evalf()"
   ]
  },
  {
   "cell_type": "code",
   "execution_count": 349,
   "metadata": {},
   "outputs": [
    {
     "data": {
      "text/latex": [
       "$\\displaystyle -1.34320885142541 - 0.0481390887812243 i$"
      ],
      "text/plain": [
       "-1.34320885142541 - 0.0481390887812243*I"
      ]
     },
     "execution_count": 349,
     "metadata": {},
     "output_type": "execute_result"
    }
   ],
   "source": [
    "Sum(-I*8*pi*exp(-2*I*pi*omega*(pi*n-pi/4))/(pi**2*(4*n-1)**2 + 16), (n,-200,200)).subs(omega,-0.3).doit().evalf()"
   ]
  },
  {
   "cell_type": "code",
   "execution_count": 328,
   "metadata": {},
   "outputs": [
    {
     "data": {
      "text/latex": [
       "$\\displaystyle \\sinh{\\left(2 \\pi \\omega + 2 \\right)} = \\sinh{\\left(2 \\pi \\omega \\right)} \\cosh{\\left(2 \\right)} + \\sinh{\\left(2 \\right)} \\cosh{\\left(2 \\pi \\omega \\right)}$"
      ],
      "text/plain": [
       "Eq(sinh(2*pi*omega + 2), sinh(2*pi*omega)*cosh(2) + sinh(2)*cosh(2*pi*omega))"
      ]
     },
     "execution_count": 328,
     "metadata": {},
     "output_type": "execute_result"
    }
   ],
   "source": [
    "Eq(-I*sin(a+b), -I*sin(a)*cos(b) + -I*sin(b)*cos(a)).subs([(a, I*2*pi*omega), (b, I*2)])"
   ]
  },
  {
   "cell_type": "code",
   "execution_count": null,
   "metadata": {},
   "outputs": [],
   "source": []
  },
  {
   "cell_type": "code",
   "execution_count": 283,
   "metadata": {},
   "outputs": [
    {
     "data": {
      "text/latex": [
       "$\\displaystyle \\frac{1}{\\pi^{2} \\left(4 n - 1\\right)^{2} + 16} = \\frac{i}{8 \\left(\\pi \\left(4 n - 1\\right) + 4 i\\right)} - \\frac{i}{8 \\left(\\pi \\left(4 n - 1\\right) - 4 i\\right)}$"
      ],
      "text/plain": [
       "Eq(1/(pi**2*(4*n - 1)**2 + 16), I/(8*(pi*(4*n - 1) + 4*I)) - I/(8*(pi*(4*n - 1) - 4*I)))"
      ]
     },
     "execution_count": 283,
     "metadata": {},
     "output_type": "execute_result"
    }
   ],
   "source": [
    "Eq(1/(pi**2*(4*n-1)**2 + 16), (I/(pi*(4*n-1) + 4*I)/8 - I/(pi*(4*n-1) - 4*I)/8))"
   ]
  },
  {
   "cell_type": "code",
   "execution_count": 92,
   "metadata": {},
   "outputs": [
    {
     "data": {
      "text/latex": [
       "$\\displaystyle \\frac{d}{d \\tau} f{\\left(\\tau \\right)} = \\int\\limits_{-\\infty}^{\\infty} 2 i \\pi \\omega F{\\left(\\omega \\right)} e^{2 i \\pi \\omega \\tau}\\, d\\omega$"
      ],
      "text/plain": [
       "Eq(Derivative(f(tau), tau), Integral(2*I*pi*omega*F(omega)*exp(2*I*pi*omega*tau), (omega, -oo, oo)))"
      ]
     },
     "execution_count": 92,
     "metadata": {},
     "output_type": "execute_result"
    }
   ],
   "source": [
    "Eq(diff(f(tau),tau),Integral((2*I*pi*omega)*F(omega)*exp(2*I*pi*omega*tau),(omega,-oo,oo)))"
   ]
  },
  {
   "cell_type": "code",
   "execution_count": 104,
   "metadata": {},
   "outputs": [
    {
     "data": {
      "text/latex": [
       "$\\displaystyle \\pi \\int\\limits_{-\\infty}^{\\infty} e^{- 2 \\pi \\left|{\\omega}\\right|} e^{2 i \\pi \\omega \\tau} \\operatorname{sign}{\\left(\\omega \\right)}\\, d\\omega = \\pi \\int\\limits_{-\\infty}^{0} e^{- 2 \\pi \\left|{\\omega}\\right|} e^{2 i \\pi \\omega \\tau} \\operatorname{sign}{\\left(\\omega \\right)}\\, d\\omega + \\pi \\int\\limits_{0}^{\\infty} e^{- 2 \\pi \\left|{\\omega}\\right|} e^{2 i \\pi \\omega \\tau} \\operatorname{sign}{\\left(\\omega \\right)}\\, d\\omega$"
      ],
      "text/plain": [
       "Eq(pi*Integral(exp(-2*pi*Abs(omega))*exp(2*I*pi*omega*tau)*sign(omega), (omega, -oo, oo)), pi*Integral(exp(-2*pi*Abs(omega))*exp(2*I*pi*omega*tau)*sign(omega), (omega, -oo, 0)) + pi*Integral(exp(-2*pi*Abs(omega))*exp(2*I*pi*omega*tau)*sign(omega), (omega, 0, oo)))"
      ]
     },
     "execution_count": 104,
     "metadata": {},
     "output_type": "execute_result"
    }
   ],
   "source": [
    "Eq(\n",
    "    pi*Integral(sign(omega)*exp(-abs(2*pi*omega))*exp(2*I*pi*omega*tau),(omega, -oo,oo)),\n",
    "    pi*Integral(sign(omega)*exp(-abs(2*pi*omega))*exp(2*I*pi*omega*tau),(omega, -oo,0)) +\n",
    "    pi*Integral(sign(omega)*exp(-abs(2*pi*omega))*exp(2*I*pi*omega*tau),(omega, 0,oo))\n",
    ")"
   ]
  },
  {
   "cell_type": "code",
   "execution_count": 105,
   "metadata": {},
   "outputs": [
    {
     "data": {
      "text/latex": [
       "$\\displaystyle \\pi \\int\\limits_{-\\infty}^{\\infty} e^{- 2 \\pi \\left|{\\omega}\\right|} e^{2 i \\pi \\omega \\tau} \\operatorname{sign}{\\left(\\omega \\right)}\\, d\\omega = - \\pi \\int\\limits_{-\\infty}^{0} e^{- 2 \\pi \\left|{\\omega}\\right|} e^{2 i \\pi \\omega \\tau}\\, d\\omega + \\pi \\int\\limits_{0}^{\\infty} e^{- 2 \\pi \\left|{\\omega}\\right|} e^{2 i \\pi \\omega \\tau}\\, d\\omega$"
      ],
      "text/plain": [
       "Eq(pi*Integral(exp(-2*pi*Abs(omega))*exp(2*I*pi*omega*tau)*sign(omega), (omega, -oo, oo)), -pi*Integral(exp(-2*pi*Abs(omega))*exp(2*I*pi*omega*tau), (omega, -oo, 0)) + pi*Integral(exp(-2*pi*Abs(omega))*exp(2*I*pi*omega*tau), (omega, 0, oo)))"
      ]
     },
     "execution_count": 105,
     "metadata": {},
     "output_type": "execute_result"
    }
   ],
   "source": [
    "Eq(\n",
    "    pi*Integral(sign(omega)*exp(-abs(2*pi*omega))*exp(2*I*pi*omega*tau),(omega, -oo,oo)),\n",
    "    - pi*Integral(exp(-abs(2*pi*omega))*exp(2*I*pi*omega*tau),(omega, -oo,0))\n",
    "    + pi*Integral(exp(-abs(2*pi*omega))*exp(2*I*pi*omega*tau),(omega, 0,oo))\n",
    ")"
   ]
  },
  {
   "cell_type": "code",
   "execution_count": 106,
   "metadata": {},
   "outputs": [
    {
     "data": {
      "text/latex": [
       "$\\displaystyle \\pi \\int\\limits_{-\\infty}^{\\infty} e^{- 2 \\pi \\left|{\\omega}\\right|} e^{2 i \\pi \\omega \\tau} \\operatorname{sign}{\\left(\\omega \\right)}\\, d\\omega = - \\pi \\int\\limits_{0}^{\\infty} e^{- 2 \\pi \\left|{\\omega}\\right|} e^{- 2 i \\pi \\omega \\tau}\\, d\\omega + \\pi \\int\\limits_{0}^{\\infty} e^{- 2 \\pi \\left|{\\omega}\\right|} e^{2 i \\pi \\omega \\tau}\\, d\\omega$"
      ],
      "text/plain": [
       "Eq(pi*Integral(exp(-2*pi*Abs(omega))*exp(2*I*pi*omega*tau)*sign(omega), (omega, -oo, oo)), -pi*Integral(exp(-2*pi*Abs(omega))*exp(-2*I*pi*omega*tau), (omega, 0, oo)) + pi*Integral(exp(-2*pi*Abs(omega))*exp(2*I*pi*omega*tau), (omega, 0, oo)))"
      ]
     },
     "execution_count": 106,
     "metadata": {},
     "output_type": "execute_result"
    }
   ],
   "source": [
    "Eq(\n",
    "    pi*Integral(sign(omega)*exp(-abs(2*pi*omega))*exp(2*I*pi*omega*tau),(omega, -oo,oo)),\n",
    "    - pi*Integral(exp(-abs(2*pi*omega))*exp(-2*I*pi*omega*tau),(omega, 0,oo))\n",
    "    + pi*Integral(exp(-abs(2*pi*omega))*exp(2*I*pi*omega*tau),(omega, 0,oo))\n",
    ")"
   ]
  },
  {
   "cell_type": "code",
   "execution_count": 107,
   "metadata": {},
   "outputs": [
    {
     "data": {
      "text/latex": [
       "$\\displaystyle \\pi \\int\\limits_{0}^{\\infty} e^{- 2 \\pi \\left|{\\omega}\\right|} e^{2 i \\pi \\omega \\tau}\\, d\\omega = \\frac{1}{2 \\left(- i \\tau + 1\\right)}$"
      ],
      "text/plain": [
       "Eq(pi*Integral(exp(-2*pi*Abs(omega))*exp(2*I*pi*omega*tau), (omega, 0, oo)), 1/(2*(-I*tau + 1)))"
      ]
     },
     "execution_count": 107,
     "metadata": {},
     "output_type": "execute_result"
    }
   ],
   "source": [
    "Eq(\n",
    "    pi*Integral(exp(-abs(2*pi*omega))*exp(2*I*pi*omega*tau),(omega, 0,oo)),\n",
    "    pi/(2*pi*(-I*tau+1))\n",
    ")"
   ]
  },
  {
   "cell_type": "code",
   "execution_count": 108,
   "metadata": {},
   "outputs": [
    {
     "data": {
      "text/latex": [
       "$\\displaystyle \\pi \\int\\limits_{0}^{\\infty} e^{- 2 \\pi \\left|{\\omega}\\right|} e^{- 2 i \\pi \\omega \\tau}\\, d\\omega = \\frac{1}{2 \\left(i \\tau + 1\\right)}$"
      ],
      "text/plain": [
       "Eq(pi*Integral(exp(-2*pi*Abs(omega))*exp(-2*I*pi*omega*tau), (omega, 0, oo)), 1/(2*(I*tau + 1)))"
      ]
     },
     "execution_count": 108,
     "metadata": {},
     "output_type": "execute_result"
    }
   ],
   "source": [
    "Eq(\n",
    "    pi*Integral(exp(-abs(2*pi*omega))*exp(-2*I*pi*omega*tau),(omega, 0,oo)),\n",
    "    pi/(2*pi*(I*tau+1))\n",
    ")"
   ]
  },
  {
   "cell_type": "code",
   "execution_count": 110,
   "metadata": {},
   "outputs": [
    {
     "data": {
      "text/latex": [
       "$\\displaystyle \\pi \\int\\limits_{-\\infty}^{\\infty} e^{- 2 \\pi \\left|{\\omega}\\right|} e^{2 i \\pi \\omega \\tau} \\operatorname{sign}{\\left(\\omega \\right)}\\, d\\omega = - \\frac{1}{2 \\left(i \\tau + 1\\right)} + \\frac{1}{2 \\left(- i \\tau + 1\\right)}$"
      ],
      "text/plain": [
       "Eq(pi*Integral(exp(-2*pi*Abs(omega))*exp(2*I*pi*omega*tau)*sign(omega), (omega, -oo, oo)), -1/(2*(I*tau + 1)) + 1/(2*(-I*tau + 1)))"
      ]
     },
     "execution_count": 110,
     "metadata": {},
     "output_type": "execute_result"
    }
   ],
   "source": [
    "Eq(\n",
    "    pi*Integral(sign(omega)*exp(-abs(2*pi*omega))*exp(2*I*pi*omega*tau),(omega, -oo,oo)),\n",
    "    pi/(2*pi*(-I*tau+1)) - pi/(2*pi*(I*tau+1))\n",
    ")"
   ]
  },
  {
   "cell_type": "code",
   "execution_count": 111,
   "metadata": {},
   "outputs": [
    {
     "data": {
      "text/latex": [
       "$\\displaystyle \\pi \\int\\limits_{-\\infty}^{\\infty} e^{- 2 \\pi \\left|{\\omega}\\right|} e^{2 i \\pi \\omega \\tau} \\operatorname{sign}{\\left(\\omega \\right)}\\, d\\omega = \\frac{i \\tau}{\\tau^{2} + 1}$"
      ],
      "text/plain": [
       "Eq(pi*Integral(exp(-2*pi*Abs(omega))*exp(2*I*pi*omega*tau)*sign(omega), (omega, -oo, oo)), I*tau/(tau**2 + 1))"
      ]
     },
     "execution_count": 111,
     "metadata": {},
     "output_type": "execute_result"
    }
   ],
   "source": [
    "Eq(\n",
    "    pi*Integral(sign(omega)*exp(-abs(2*pi*omega))*exp(2*I*pi*omega*tau),(omega, -oo,oo)),\n",
    "    (pi/(2*pi*(-I*tau+1)) - pi/(2*pi*(I*tau+1))).simplify()\n",
    ")"
   ]
  },
  {
   "cell_type": "code",
   "execution_count": 113,
   "metadata": {},
   "outputs": [
    {
     "data": {
      "text/latex": [
       "$\\displaystyle \\frac{\\log{\\left(\\tau^{2} + 1 \\right)}}{2}$"
      ],
      "text/plain": [
       "log(tau**2 + 1)/2"
      ]
     },
     "execution_count": 113,
     "metadata": {},
     "output_type": "execute_result"
    }
   ],
   "source": [
    "integrate(t/(t**2+1),(t,0,tau))"
   ]
  },
  {
   "cell_type": "code",
   "execution_count": 122,
   "metadata": {},
   "outputs": [
    {
     "data": {
      "text/latex": [
       "$\\displaystyle \\pi \\int\\limits_{-\\infty}^{\\infty} e^{- 2 \\pi \\left|{\\omega}\\right|} e^{2 i \\pi \\omega \\tau}\\, d\\omega = \\frac{1}{\\tau^{2} + 1}$"
      ],
      "text/plain": [
       "Eq(pi*Integral(exp(-2*pi*Abs(omega))*exp(2*I*pi*omega*tau), (omega, -oo, oo)), 1/(tau**2 + 1))"
      ]
     },
     "execution_count": 122,
     "metadata": {},
     "output_type": "execute_result"
    }
   ],
   "source": [
    "Eq(\n",
    "    pi*Integral(exp(-abs(2*pi*omega))*exp(2*I*pi*omega*tau),(omega, -oo,oo)),\n",
    "    (pi/(2*pi*(-I*tau+1)) + pi/(2*pi*(I*tau+1))).simplify()\n",
    ")"
   ]
  },
  {
   "cell_type": "code",
   "execution_count": 102,
   "metadata": {},
   "outputs": [
    {
     "data": {
      "text/latex": [
       "$\\displaystyle 0.480769230769231 + 0.0961538461538462 i$"
      ],
      "text/plain": [
       "0.480769230769231 + 0.0961538461538462*I"
      ]
     },
     "execution_count": 102,
     "metadata": {},
     "output_type": "execute_result"
    }
   ],
   "source": [
    "Integral(pi*exp(-abs(2*pi*omega))*exp(-2*I*pi*omega*tau),(omega, 0,oo)).subs(tau,-0.2).evalf()"
   ]
  },
  {
   "cell_type": "code",
   "execution_count": 103,
   "metadata": {},
   "outputs": [
    {
     "data": {
      "text/latex": [
       "$\\displaystyle 0.480769230769231 + 0.0961538461538462 i$"
      ],
      "text/plain": [
       "0.480769230769231 + 0.0961538461538462*I"
      ]
     },
     "execution_count": 103,
     "metadata": {},
     "output_type": "execute_result"
    }
   ],
   "source": [
    "Integral(pi*exp(-abs(2*pi*omega))*exp(2*I*pi*omega*tau),(omega, -oo,0)).subs(tau,-0.2).evalf()"
   ]
  },
  {
   "cell_type": "code",
   "execution_count": 117,
   "metadata": {},
   "outputs": [
    {
     "data": {
      "text/latex": [
       "$\\displaystyle \\int\\limits_{-\\infty}^{\\infty} e^{- 2 i \\pi \\omega t} \\operatorname{sign}{\\left(\\omega \\right)}\\, d\\omega = - \\frac{i}{\\pi t}$"
      ],
      "text/plain": [
       "Eq(Integral(exp(-2*I*pi*omega*t)*sign(omega), (omega, -oo, oo)), -I/(pi*t))"
      ]
     },
     "execution_count": 117,
     "metadata": {},
     "output_type": "execute_result"
    }
   ],
   "source": [
    "Eq(Integral(sign(omega)*exp(-t*2*I*pi*omega),(omega, -oo,oo)), 1/(I*pi*t))"
   ]
  },
  {
   "cell_type": "code",
   "execution_count": 119,
   "metadata": {},
   "outputs": [
    {
     "data": {
      "text/latex": [
       "$\\displaystyle \\pi \\int\\limits_{-\\infty}^{\\infty} e^{- 2 i \\pi \\omega \\left(\\pi n - \\tau - \\frac{\\pi}{4}\\right)} \\operatorname{sign}{\\left(\\omega \\right)}\\, d\\omega = - \\frac{i}{\\pi n - \\tau - \\frac{\\pi}{4}}$"
      ],
      "text/plain": [
       "Eq(pi*Integral(exp(-2*I*pi*omega*(pi*n - tau - pi/4))*sign(omega), (omega, -oo, oo)), -I/(pi*n - tau - pi/4))"
      ]
     },
     "execution_count": 119,
     "metadata": {},
     "output_type": "execute_result"
    }
   ],
   "source": [
    "Eq(pi*Integral(sign(omega)*exp(-2*I*pi*omega*(-tau+pi*n-pi/4)),(omega, -oo,oo)), -I/(-tau+pi*n-pi/4))"
   ]
  },
  {
   "cell_type": "code",
   "execution_count": 120,
   "metadata": {},
   "outputs": [
    {
     "data": {
      "text/latex": [
       "$\\displaystyle \\frac{d}{d \\tau} f{\\left(\\tau \\right)} = \\int\\limits_{-\\infty}^{\\infty} 2 i \\pi \\omega F{\\left(\\omega \\right)} e^{2 i \\pi \\omega \\tau}\\, d\\omega$"
      ],
      "text/plain": [
       "Eq(Derivative(f(tau), tau), Integral(2*I*pi*omega*F(omega)*exp(2*I*pi*omega*tau), (omega, -oo, oo)))"
      ]
     },
     "execution_count": 120,
     "metadata": {},
     "output_type": "execute_result"
    }
   ],
   "source": [
    "Eq(diff(f(tau),tau),Integral((2*I*pi*omega)*F(omega)*exp(2*I*pi*omega*tau),(omega,-oo,oo)))"
   ]
  },
  {
   "cell_type": "code",
   "execution_count": 121,
   "metadata": {},
   "outputs": [
    {
     "data": {
      "text/latex": [
       "$\\displaystyle \\frac{d}{d \\tau} f{\\left(\\tau \\right)} = \\frac{\\pi \\left(\\frac{1}{\\cosh{\\left(2 \\right)}} + 1\\right) \\int\\limits_{-\\infty}^{\\infty} e^{- 2 \\pi \\left|{\\omega}\\right|} e^{2 i \\pi \\omega \\tau}\\, d\\omega}{2} + \\frac{i \\pi \\tanh{\\left(2 \\right)} \\int\\limits_{-\\infty}^{\\infty} e^{- 2 \\pi \\left|{\\omega}\\right|} e^{2 i \\pi \\omega \\tau} \\operatorname{sign}{\\left(\\omega \\right)}\\, d\\omega}{2} - 8 i \\pi \\sum_{n=-\\infty}^{\\infty} \\frac{\\int\\limits_{-\\infty}^{\\infty} e^{2 i \\pi \\omega \\tau} e^{- 2 i \\pi \\omega \\left(\\pi n - \\frac{\\pi}{4}\\right)} \\operatorname{sign}{\\left(\\omega \\right)}\\, d\\omega}{\\pi^{2} \\left(4 n - 1\\right)^{2} + 16}$"
      ],
      "text/plain": [
       "Eq(Derivative(f(tau), tau), pi*(1/cosh(2) + 1)*Integral(exp(-2*pi*Abs(omega))*exp(2*I*pi*omega*tau), (omega, -oo, oo))/2 + I*pi*tanh(2)*Integral(exp(-2*pi*Abs(omega))*exp(2*I*pi*omega*tau)*sign(omega), (omega, -oo, oo))/2 - 8*I*pi*Sum(Integral(exp(2*I*pi*omega*tau)*exp(-2*I*pi*omega*(pi*n - pi/4))*sign(omega), (omega, -oo, oo))/(pi**2*(4*n - 1)**2 + 16), (n, -oo, oo)))"
      ]
     },
     "execution_count": 121,
     "metadata": {},
     "output_type": "execute_result"
    }
   ],
   "source": [
    "Eq(diff(f(tau),tau),\n",
    "  - 8*I*pi*Sum(Integral(sign(omega)*exp(-2*I*pi*omega*(pi*n-pi/4))*exp(2*I*pi*omega*tau),(omega,-oo,oo))/(pi**2*(4*n-1)**2 + 16), (n,-oo,oo))\n",
    "    + I*pi*Integral(sign(omega)*exp(-2*pi*abs(omega))*exp(2*I*pi*omega*tau),(omega,-oo,oo))*tanh(2)/2\n",
    "    + pi*(1 + 1/cosh(2))*Integral(exp(-2*pi*abs(omega))*exp(2*I*pi*omega*tau),(omega,-oo,oo))/2\n",
    "  )"
   ]
  },
  {
   "cell_type": "code",
   "execution_count": 130,
   "metadata": {},
   "outputs": [
    {
     "data": {
      "text/latex": [
       "$\\displaystyle \\frac{d}{d \\tau} f{\\left(\\tau \\right)} = - \\frac{\\tau \\tanh{\\left(2 \\right)}}{2 \\left(\\tau^{2} + 1\\right)} - 8 \\sum_{n=-\\infty}^{\\infty} \\frac{1}{\\left(\\pi^{2} \\left(4 n - 1\\right)^{2} + 16\\right) \\left(\\pi n - \\tau - \\frac{\\pi}{4}\\right)} + \\frac{\\frac{1}{\\cosh{\\left(2 \\right)}} + 1}{2 \\left(\\tau^{2} + 1\\right)}$"
      ],
      "text/plain": [
       "Eq(Derivative(f(tau), tau), -tau*tanh(2)/(2*(tau**2 + 1)) - 8*Sum(1/((pi**2*(4*n - 1)**2 + 16)*(pi*n - tau - pi/4)), (n, -oo, oo)) + (1/cosh(2) + 1)/(2*(tau**2 + 1)))"
      ]
     },
     "execution_count": 130,
     "metadata": {},
     "output_type": "execute_result"
    }
   ],
   "source": [
    "Eq(diff(f(tau),tau),\n",
    "    - 8*Sum((1/(-tau+pi*n-pi/4))/(pi**2*(4*n-1)**2 + 16), (n,-oo,oo))\n",
    "    - tau/(tau**2+1)*tanh(2)/2 + (1 + 1/cosh(2))*1/(tau**2+1)/2\n",
    ")"
   ]
  },
  {
   "cell_type": "code",
   "execution_count": 131,
   "metadata": {},
   "outputs": [
    {
     "data": {
      "text/latex": [
       "$\\displaystyle \\frac{d}{d \\tau} f{\\left(\\tau \\right)} = \\frac{1}{\\left(\\tau^{2} + 1\\right) \\left(\\tan{\\left(\\tau \\right)} + 1\\right)}$"
      ],
      "text/plain": [
       "Eq(Derivative(f(tau), tau), 1/((tau**2 + 1)*(tan(tau) + 1)))"
      ]
     },
     "execution_count": 131,
     "metadata": {},
     "output_type": "execute_result"
    }
   ],
   "source": [
    "Eq(diff(f(tau),tau), diff(Integral(1/(1+t**2)*1/(1+tan(t)), (t, 0, tau)),tau))"
   ]
  },
  {
   "cell_type": "code",
   "execution_count": 139,
   "metadata": {},
   "outputs": [
    {
     "data": {
      "text/latex": [
       "$\\displaystyle \\frac{1}{\\left(\\tau^{2} + 1\\right) \\left(\\tan{\\left(\\tau \\right)} + 1\\right)} = - \\frac{\\tau \\tanh{\\left(2 \\right)}}{2 \\left(\\tau^{2} + 1\\right)} - 8 \\sum_{n=-\\infty}^{\\infty} \\frac{1}{\\left(\\pi^{2} \\left(4 n - 1\\right)^{2} + 16\\right) \\left(\\pi n - \\tau - \\frac{\\pi}{4}\\right)} + \\frac{\\frac{1}{\\cosh{\\left(2 \\right)}} + 1}{2 \\left(\\tau^{2} + 1\\right)}$"
      ],
      "text/plain": [
       "Eq(1/((tau**2 + 1)*(tan(tau) + 1)), -tau*tanh(2)/(2*(tau**2 + 1)) - 8*Sum(1/((pi**2*(4*n - 1)**2 + 16)*(pi*n - tau - pi/4)), (n, -oo, oo)) + (1/cosh(2) + 1)/(2*(tau**2 + 1)))"
      ]
     },
     "execution_count": 139,
     "metadata": {},
     "output_type": "execute_result"
    }
   ],
   "source": [
    "Eq(1/(1+tau**2)*1/(1+tan(tau)),\n",
    "   - 8*Sum((1/(-tau+pi*n-pi/4))/(pi**2*(4*n-1)**2 + 16), (n,-oo,oo))\n",
    "    - tau/(tau**2+1)*tanh(2)/2 + (1 + 1/cosh(2))*1/(tau**2+1)/2\n",
    ")"
   ]
  },
  {
   "cell_type": "code",
   "execution_count": 218,
   "metadata": {},
   "outputs": [
    {
     "data": {
      "text/latex": [
       "$\\displaystyle \\int\\limits_{0}^{\\tau} \\frac{1}{\\left(t^{2} + 1\\right) \\left(\\tan{\\left(t \\right)} + 1\\right)}\\, dt = - \\frac{\\log{\\left(\\tau^{2} + 1 \\right)} \\tanh{\\left(2 \\right)}}{4} + \\frac{\\left(\\frac{1}{\\cosh{\\left(2 \\right)}} + 1\\right) \\operatorname{atan}{\\left(\\tau \\right)}}{2} - 8 \\sum_{n=-\\infty}^{\\infty} \\frac{\\log{\\left(- 4 \\pi n + \\pi \\right)} - \\log{\\left(- 4 \\pi n + 4 \\tau + \\pi \\right)}}{\\pi^{2} \\left(4 n - 1\\right)^{2} + 16}$"
      ],
      "text/plain": [
       "Eq(Integral(1/((t**2 + 1)*(tan(t) + 1)), (t, 0, tau)), -log(tau**2 + 1)*tanh(2)/4 + (1/cosh(2) + 1)*atan(tau)/2 - 8*Sum((log(-4*pi*n + pi) - log(-4*pi*n + 4*tau + pi))/(pi**2*(4*n - 1)**2 + 16), (n, -oo, oo)))"
      ]
     },
     "execution_count": 218,
     "metadata": {},
     "output_type": "execute_result"
    }
   ],
   "source": [
    "Eq(Integral(1/(1+t**2)*1/(1+tan(t)),(t,0,tau)),\n",
    "   - 8*Sum(integrate((1/(-t+pi*n-pi/4)),(t,0,tau))/(pi**2*(4*n-1)**2 + 16), (n,-oo,oo))\n",
    "    - integrate(t/(t**2+1),(t,0,tau))*tanh(2)/2 + (1 + 1/cosh(2))*integrate(1/(t**2+1),(t,0,tau))/2\n",
    ")"
   ]
  },
  {
   "cell_type": "code",
   "execution_count": 92,
   "metadata": {},
   "outputs": [
    {
     "data": {
      "text/latex": [
       "$\\displaystyle \\log{\\left(\\frac{4 \\pi n + \\tau}{4 \\pi n - \\pi} \\right)}$"
      ],
      "text/plain": [
       "log((4*pi*n + tau)/(4*pi*n - pi))"
      ]
     },
     "execution_count": 92,
     "metadata": {},
     "output_type": "execute_result"
    }
   ],
   "source": [
    "log((4*pi*n-4*tau-pi)/(4*pi*n-pi)).subs(tau,(-tau/4-pi/4))"
   ]
  },
  {
   "cell_type": "code",
   "execution_count": 237,
   "metadata": {},
   "outputs": [
    {
     "data": {
      "text/latex": [
       "$\\displaystyle \\int\\limits_{0}^{\\frac{\\pi}{2}} \\frac{1}{\\left(t^{2} + 1\\right) \\left(\\tan{\\left(t \\right)} + 1\\right)}\\, dt = - 8 \\sum_{n=- N}^{N} \\frac{\\log{\\left(\\frac{4 n - 1}{4 n - 3} \\right)}}{\\pi^{2} \\left(4 n - 1\\right)^{2} + 16} - \\frac{\\log{\\left(1 + \\frac{\\pi^{2}}{4} \\right)} \\tanh{\\left(2 \\right)}}{4} + \\frac{\\left(\\frac{1}{\\cosh{\\left(2 \\right)}} + 1\\right) \\operatorname{atan}{\\left(\\frac{\\pi}{2} \\right)}}{2}$"
      ],
      "text/plain": [
       "Eq(Integral(1/((t**2 + 1)*(tan(t) + 1)), (t, 0, pi/2)), -8*Sum(log((4*n - 1)/(4*n - 3))/(pi**2*(4*n - 1)**2 + 16), (n, -N, N)) - log(1 + pi**2/4)*tanh(2)/4 + (1/cosh(2) + 1)*atan(pi/2)/2)"
      ]
     },
     "execution_count": 237,
     "metadata": {},
     "output_type": "execute_result"
    }
   ],
   "source": [
    "Eq(Integral(1/(1+t**2)*1/(1+tan(t)),(t,0,pi/2)),\n",
    "   - 8*Sum(ln((4*n-1)/(4*n-3))/(pi**2*(4*n-1)**2 + 16), (n,-N,N))\n",
    "    - log(pi**2/4+1)*tanh(2)/4 + (1 + 1/cosh(2))*atan(pi/2)/2\n",
    ")"
   ]
  },
  {
   "cell_type": "code",
   "execution_count": 239,
   "metadata": {},
   "outputs": [
    {
     "data": {
      "text/latex": [
       "$\\displaystyle 0.59738194055702$"
      ],
      "text/plain": [
       "0.597381940557020"
      ]
     },
     "execution_count": 239,
     "metadata": {},
     "output_type": "execute_result"
    }
   ],
   "source": [
    "(- 8*Sum(ln((4*n-1)/(4*n-3))/(pi**2*(4*n-1)**2 + 16), (n,-N,N))\n",
    "    - log(pi**2/4+1)*tanh(2)/4 + (1 + 1/cosh(2))*atan(pi/2)/2).subs(N,50).evalf()"
   ]
  },
  {
   "cell_type": "code",
   "execution_count": 235,
   "metadata": {},
   "outputs": [
    {
     "data": {
      "text/latex": [
       "$\\displaystyle \\log{\\left(\\frac{4 n - 1}{4 n - 3} \\right)}$"
      ],
      "text/plain": [
       "log((4*n - 1)/(4*n - 3))"
      ]
     },
     "execution_count": 235,
     "metadata": {},
     "output_type": "execute_result"
    }
   ],
   "source": [
    "ln((-4*pi*n+pi+4*tau)/(-4*pi*n+4*tau+pi) - 4*tau/(-4*pi*n+4*tau+pi)).subs(tau,pi/2).simplify()"
   ]
  },
  {
   "cell_type": "code",
   "execution_count": 222,
   "metadata": {},
   "outputs": [
    {
     "ename": "TypeError",
     "evalue": "can't convert -oo to int",
     "output_type": "error",
     "traceback": [
      "\u001b[0;31m---------------------------------------------------------------------------\u001b[0m",
      "\u001b[0;31mTypeError\u001b[0m                                 Traceback (most recent call last)",
      "\u001b[0;32m~/.local/lib/python3.8/site-packages/sympy/core/cache.py\u001b[0m in \u001b[0;36mwrapper\u001b[0;34m(*args, **kwargs)\u001b[0m\n\u001b[1;32m     71\u001b[0m             \u001b[0;32mtry\u001b[0m\u001b[0;34m:\u001b[0m\u001b[0;34m\u001b[0m\u001b[0;34m\u001b[0m\u001b[0m\n\u001b[0;32m---> 72\u001b[0;31m                 \u001b[0mretval\u001b[0m \u001b[0;34m=\u001b[0m \u001b[0mcfunc\u001b[0m\u001b[0;34m(\u001b[0m\u001b[0;34m*\u001b[0m\u001b[0margs\u001b[0m\u001b[0;34m,\u001b[0m \u001b[0;34m**\u001b[0m\u001b[0mkwargs\u001b[0m\u001b[0;34m)\u001b[0m\u001b[0;34m\u001b[0m\u001b[0;34m\u001b[0m\u001b[0m\n\u001b[0m\u001b[1;32m     73\u001b[0m             \u001b[0;32mexcept\u001b[0m \u001b[0mTypeError\u001b[0m\u001b[0;34m:\u001b[0m\u001b[0;34m\u001b[0m\u001b[0;34m\u001b[0m\u001b[0m\n",
      "\u001b[0;32m~/.local/lib/python3.8/site-packages/sympy/core/basic.py\u001b[0m in \u001b[0;36m_subs\u001b[0;34m(self, old, new, **hints)\u001b[0m\n\u001b[1;32m   1065\u001b[0m         \u001b[0;32mif\u001b[0m \u001b[0mrv\u001b[0m \u001b[0;32mis\u001b[0m \u001b[0;32mNone\u001b[0m\u001b[0;34m:\u001b[0m\u001b[0;34m\u001b[0m\u001b[0;34m\u001b[0m\u001b[0m\n\u001b[0;32m-> 1066\u001b[0;31m             \u001b[0mrv\u001b[0m \u001b[0;34m=\u001b[0m \u001b[0mfallback\u001b[0m\u001b[0;34m(\u001b[0m\u001b[0mself\u001b[0m\u001b[0;34m,\u001b[0m \u001b[0mold\u001b[0m\u001b[0;34m,\u001b[0m \u001b[0mnew\u001b[0m\u001b[0;34m)\u001b[0m\u001b[0;34m\u001b[0m\u001b[0;34m\u001b[0m\u001b[0m\n\u001b[0m\u001b[1;32m   1067\u001b[0m         \u001b[0;32mreturn\u001b[0m \u001b[0mrv\u001b[0m\u001b[0;34m\u001b[0m\u001b[0;34m\u001b[0m\u001b[0m\n",
      "\u001b[0;32m~/.local/lib/python3.8/site-packages/sympy/core/basic.py\u001b[0m in \u001b[0;36mfallback\u001b[0;34m(self, old, new)\u001b[0m\n\u001b[1;32m   1042\u001b[0m             \u001b[0;32mif\u001b[0m \u001b[0mhit\u001b[0m\u001b[0;34m:\u001b[0m\u001b[0;34m\u001b[0m\u001b[0;34m\u001b[0m\u001b[0m\n\u001b[0;32m-> 1043\u001b[0;31m                 \u001b[0mrv\u001b[0m \u001b[0;34m=\u001b[0m \u001b[0mself\u001b[0m\u001b[0;34m.\u001b[0m\u001b[0mfunc\u001b[0m\u001b[0;34m(\u001b[0m\u001b[0;34m*\u001b[0m\u001b[0margs\u001b[0m\u001b[0;34m)\u001b[0m\u001b[0;34m\u001b[0m\u001b[0;34m\u001b[0m\u001b[0m\n\u001b[0m\u001b[1;32m   1044\u001b[0m                 \u001b[0mhack2\u001b[0m \u001b[0;34m=\u001b[0m \u001b[0mhints\u001b[0m\u001b[0;34m.\u001b[0m\u001b[0mget\u001b[0m\u001b[0;34m(\u001b[0m\u001b[0;34m'hack2'\u001b[0m\u001b[0;34m,\u001b[0m \u001b[0;32mFalse\u001b[0m\u001b[0;34m)\u001b[0m\u001b[0;34m\u001b[0m\u001b[0;34m\u001b[0m\u001b[0m\n",
      "\u001b[0;32m~/.local/lib/python3.8/site-packages/sympy/core/relational.py\u001b[0m in \u001b[0;36m__new__\u001b[0;34m(cls, lhs, rhs, **options)\u001b[0m\n\u001b[1;32m    505\u001b[0m         \u001b[0;32mif\u001b[0m \u001b[0mevaluate\u001b[0m\u001b[0;34m:\u001b[0m\u001b[0;34m\u001b[0m\u001b[0;34m\u001b[0m\u001b[0m\n\u001b[0;32m--> 506\u001b[0;31m             \u001b[0mval\u001b[0m \u001b[0;34m=\u001b[0m \u001b[0mis_eq\u001b[0m\u001b[0;34m(\u001b[0m\u001b[0mlhs\u001b[0m\u001b[0;34m,\u001b[0m \u001b[0mrhs\u001b[0m\u001b[0;34m)\u001b[0m\u001b[0;34m\u001b[0m\u001b[0;34m\u001b[0m\u001b[0m\n\u001b[0m\u001b[1;32m    507\u001b[0m             \u001b[0;32mif\u001b[0m \u001b[0mval\u001b[0m \u001b[0;32mis\u001b[0m \u001b[0;32mNone\u001b[0m\u001b[0;34m:\u001b[0m\u001b[0;34m\u001b[0m\u001b[0;34m\u001b[0m\u001b[0m\n",
      "\u001b[0;32m~/.local/lib/python3.8/site-packages/sympy/core/relational.py\u001b[0m in \u001b[0;36mis_eq\u001b[0;34m(lhs, rhs)\u001b[0m\n\u001b[1;32m   1406\u001b[0m \u001b[0;34m\u001b[0m\u001b[0m\n\u001b[0;32m-> 1407\u001b[0;31m         \u001b[0mn2\u001b[0m \u001b[0;34m=\u001b[0m \u001b[0m_n2\u001b[0m\u001b[0;34m(\u001b[0m\u001b[0mlhs\u001b[0m\u001b[0;34m,\u001b[0m \u001b[0mrhs\u001b[0m\u001b[0;34m)\u001b[0m\u001b[0;34m\u001b[0m\u001b[0;34m\u001b[0m\u001b[0m\n\u001b[0m\u001b[1;32m   1408\u001b[0m         \u001b[0;32mif\u001b[0m \u001b[0mn2\u001b[0m \u001b[0;32mis\u001b[0m \u001b[0;32mnot\u001b[0m \u001b[0;32mNone\u001b[0m\u001b[0;34m:\u001b[0m\u001b[0;34m\u001b[0m\u001b[0;34m\u001b[0m\u001b[0m\n",
      "\u001b[0;32m~/.local/lib/python3.8/site-packages/sympy/core/relational.py\u001b[0m in \u001b[0;36m_n2\u001b[0;34m(a, b)\u001b[0m\n\u001b[1;32m   1071\u001b[0m     \u001b[0;31m# use a re-evaluated number in the calculation of dif\u001b[0m\u001b[0;34m\u001b[0m\u001b[0;34m\u001b[0m\u001b[0;34m\u001b[0m\u001b[0m\n\u001b[0;32m-> 1072\u001b[0;31m     \u001b[0;32mif\u001b[0m \u001b[0ma\u001b[0m\u001b[0;34m.\u001b[0m\u001b[0mis_comparable\u001b[0m \u001b[0;32mand\u001b[0m \u001b[0mb\u001b[0m\u001b[0;34m.\u001b[0m\u001b[0mis_comparable\u001b[0m\u001b[0;34m:\u001b[0m\u001b[0;34m\u001b[0m\u001b[0;34m\u001b[0m\u001b[0m\n\u001b[0m\u001b[1;32m   1073\u001b[0m         \u001b[0mdif\u001b[0m \u001b[0;34m=\u001b[0m \u001b[0;34m(\u001b[0m\u001b[0ma\u001b[0m \u001b[0;34m-\u001b[0m \u001b[0mb\u001b[0m\u001b[0;34m)\u001b[0m\u001b[0;34m.\u001b[0m\u001b[0mevalf\u001b[0m\u001b[0;34m(\u001b[0m\u001b[0;36m2\u001b[0m\u001b[0;34m)\u001b[0m\u001b[0;34m\u001b[0m\u001b[0;34m\u001b[0m\u001b[0m\n",
      "\u001b[0;32m~/.local/lib/python3.8/site-packages/sympy/core/basic.py\u001b[0m in \u001b[0;36mis_comparable\u001b[0;34m(self)\u001b[0m\n\u001b[1;32m    672\u001b[0m         \u001b[0;31m# this will create spurious precision\u001b[0m\u001b[0;34m\u001b[0m\u001b[0;34m\u001b[0m\u001b[0;34m\u001b[0m\u001b[0m\n\u001b[0;32m--> 673\u001b[0;31m         n, i = [p.evalf(2) if not p.is_Number else p\n\u001b[0m\u001b[1;32m    674\u001b[0m             for p in self.as_real_imag()]\n",
      "\u001b[0;32m~/.local/lib/python3.8/site-packages/sympy/core/basic.py\u001b[0m in \u001b[0;36m<listcomp>\u001b[0;34m(.0)\u001b[0m\n\u001b[1;32m    672\u001b[0m         \u001b[0;31m# this will create spurious precision\u001b[0m\u001b[0;34m\u001b[0m\u001b[0;34m\u001b[0m\u001b[0;34m\u001b[0m\u001b[0m\n\u001b[0;32m--> 673\u001b[0;31m         n, i = [p.evalf(2) if not p.is_Number else p\n\u001b[0m\u001b[1;32m    674\u001b[0m             for p in self.as_real_imag()]\n",
      "\u001b[0;32m~/.local/lib/python3.8/site-packages/sympy/core/evalf.py\u001b[0m in \u001b[0;36mevalf\u001b[0;34m(self, n, subs, maxn, chop, strict, quad, verbose)\u001b[0m\n\u001b[1;32m   1513\u001b[0m         \u001b[0;32mtry\u001b[0m\u001b[0;34m:\u001b[0m\u001b[0;34m\u001b[0m\u001b[0;34m\u001b[0m\u001b[0m\n\u001b[0;32m-> 1514\u001b[0;31m             \u001b[0mresult\u001b[0m \u001b[0;34m=\u001b[0m \u001b[0mevalf\u001b[0m\u001b[0;34m(\u001b[0m\u001b[0mself\u001b[0m\u001b[0;34m,\u001b[0m \u001b[0mprec\u001b[0m \u001b[0;34m+\u001b[0m \u001b[0;36m4\u001b[0m\u001b[0;34m,\u001b[0m \u001b[0moptions\u001b[0m\u001b[0;34m)\u001b[0m\u001b[0;34m\u001b[0m\u001b[0;34m\u001b[0m\u001b[0m\n\u001b[0m\u001b[1;32m   1515\u001b[0m         \u001b[0;32mexcept\u001b[0m \u001b[0mNotImplementedError\u001b[0m\u001b[0;34m:\u001b[0m\u001b[0;34m\u001b[0m\u001b[0;34m\u001b[0m\u001b[0m\n",
      "\u001b[0;32m~/.local/lib/python3.8/site-packages/sympy/core/evalf.py\u001b[0m in \u001b[0;36mevalf\u001b[0;34m(x, prec, options)\u001b[0m\n\u001b[1;32m   1365\u001b[0m         \u001b[0mrf\u001b[0m \u001b[0;34m=\u001b[0m \u001b[0mevalf_table\u001b[0m\u001b[0;34m[\u001b[0m\u001b[0mx\u001b[0m\u001b[0;34m.\u001b[0m\u001b[0mfunc\u001b[0m\u001b[0;34m]\u001b[0m\u001b[0;34m\u001b[0m\u001b[0;34m\u001b[0m\u001b[0m\n\u001b[0;32m-> 1366\u001b[0;31m         \u001b[0mr\u001b[0m \u001b[0;34m=\u001b[0m \u001b[0mrf\u001b[0m\u001b[0;34m(\u001b[0m\u001b[0mx\u001b[0m\u001b[0;34m,\u001b[0m \u001b[0mprec\u001b[0m\u001b[0;34m,\u001b[0m \u001b[0moptions\u001b[0m\u001b[0;34m)\u001b[0m\u001b[0;34m\u001b[0m\u001b[0;34m\u001b[0m\u001b[0m\n\u001b[0m\u001b[1;32m   1367\u001b[0m     \u001b[0;32mexcept\u001b[0m \u001b[0mKeyError\u001b[0m\u001b[0;34m:\u001b[0m\u001b[0;34m\u001b[0m\u001b[0;34m\u001b[0m\u001b[0m\n",
      "\u001b[0;32m~/.local/lib/python3.8/site-packages/sympy/core/evalf.py\u001b[0m in \u001b[0;36mevalf_add\u001b[0;34m(v, prec, options)\u001b[0m\n\u001b[1;32m    533\u001b[0m \u001b[0;34m\u001b[0m\u001b[0m\n\u001b[0;32m--> 534\u001b[0;31m         \u001b[0mterms\u001b[0m \u001b[0;34m=\u001b[0m \u001b[0;34m[\u001b[0m\u001b[0mevalf\u001b[0m\u001b[0;34m(\u001b[0m\u001b[0marg\u001b[0m\u001b[0;34m,\u001b[0m \u001b[0mprec\u001b[0m \u001b[0;34m+\u001b[0m \u001b[0;36m10\u001b[0m\u001b[0;34m,\u001b[0m \u001b[0moptions\u001b[0m\u001b[0;34m)\u001b[0m \u001b[0;32mfor\u001b[0m \u001b[0marg\u001b[0m \u001b[0;32min\u001b[0m \u001b[0mv\u001b[0m\u001b[0;34m.\u001b[0m\u001b[0margs\u001b[0m\u001b[0;34m]\u001b[0m\u001b[0;34m\u001b[0m\u001b[0;34m\u001b[0m\u001b[0m\n\u001b[0m\u001b[1;32m    535\u001b[0m         re, re_acc = add_terms(\n",
      "\u001b[0;32m~/.local/lib/python3.8/site-packages/sympy/core/evalf.py\u001b[0m in \u001b[0;36m<listcomp>\u001b[0;34m(.0)\u001b[0m\n\u001b[1;32m    533\u001b[0m \u001b[0;34m\u001b[0m\u001b[0m\n\u001b[0;32m--> 534\u001b[0;31m         \u001b[0mterms\u001b[0m \u001b[0;34m=\u001b[0m \u001b[0;34m[\u001b[0m\u001b[0mevalf\u001b[0m\u001b[0;34m(\u001b[0m\u001b[0marg\u001b[0m\u001b[0;34m,\u001b[0m \u001b[0mprec\u001b[0m \u001b[0;34m+\u001b[0m \u001b[0;36m10\u001b[0m\u001b[0;34m,\u001b[0m \u001b[0moptions\u001b[0m\u001b[0;34m)\u001b[0m \u001b[0;32mfor\u001b[0m \u001b[0marg\u001b[0m \u001b[0;32min\u001b[0m \u001b[0mv\u001b[0m\u001b[0;34m.\u001b[0m\u001b[0margs\u001b[0m\u001b[0;34m]\u001b[0m\u001b[0;34m\u001b[0m\u001b[0;34m\u001b[0m\u001b[0m\n\u001b[0m\u001b[1;32m    535\u001b[0m         re, re_acc = add_terms(\n",
      "\u001b[0;32m~/.local/lib/python3.8/site-packages/sympy/core/evalf.py\u001b[0m in \u001b[0;36mevalf\u001b[0;34m(x, prec, options)\u001b[0m\n\u001b[1;32m   1365\u001b[0m         \u001b[0mrf\u001b[0m \u001b[0;34m=\u001b[0m \u001b[0mevalf_table\u001b[0m\u001b[0;34m[\u001b[0m\u001b[0mx\u001b[0m\u001b[0;34m.\u001b[0m\u001b[0mfunc\u001b[0m\u001b[0;34m]\u001b[0m\u001b[0;34m\u001b[0m\u001b[0;34m\u001b[0m\u001b[0m\n\u001b[0;32m-> 1366\u001b[0;31m         \u001b[0mr\u001b[0m \u001b[0;34m=\u001b[0m \u001b[0mrf\u001b[0m\u001b[0;34m(\u001b[0m\u001b[0mx\u001b[0m\u001b[0;34m,\u001b[0m \u001b[0mprec\u001b[0m\u001b[0;34m,\u001b[0m \u001b[0moptions\u001b[0m\u001b[0;34m)\u001b[0m\u001b[0;34m\u001b[0m\u001b[0;34m\u001b[0m\u001b[0m\n\u001b[0m\u001b[1;32m   1367\u001b[0m     \u001b[0;32mexcept\u001b[0m \u001b[0mKeyError\u001b[0m\u001b[0;34m:\u001b[0m\u001b[0;34m\u001b[0m\u001b[0;34m\u001b[0m\u001b[0m\n",
      "\u001b[0;32m~/.local/lib/python3.8/site-packages/sympy/core/evalf.py\u001b[0m in \u001b[0;36mevalf_mul\u001b[0;34m(v, prec, options)\u001b[0m\n\u001b[1;32m    573\u001b[0m     \u001b[0;32mfor\u001b[0m \u001b[0marg\u001b[0m \u001b[0;32min\u001b[0m \u001b[0margs\u001b[0m\u001b[0;34m:\u001b[0m\u001b[0;34m\u001b[0m\u001b[0;34m\u001b[0m\u001b[0m\n\u001b[0;32m--> 574\u001b[0;31m         \u001b[0marg\u001b[0m \u001b[0;34m=\u001b[0m \u001b[0mevalf\u001b[0m\u001b[0;34m(\u001b[0m\u001b[0marg\u001b[0m\u001b[0;34m,\u001b[0m \u001b[0mprec\u001b[0m\u001b[0;34m,\u001b[0m \u001b[0moptions\u001b[0m\u001b[0;34m)\u001b[0m\u001b[0;34m\u001b[0m\u001b[0;34m\u001b[0m\u001b[0m\n\u001b[0m\u001b[1;32m    575\u001b[0m         \u001b[0;32mif\u001b[0m \u001b[0marg\u001b[0m\u001b[0;34m[\u001b[0m\u001b[0;36m0\u001b[0m\u001b[0;34m]\u001b[0m \u001b[0;32mis\u001b[0m \u001b[0;32mNone\u001b[0m\u001b[0;34m:\u001b[0m\u001b[0;34m\u001b[0m\u001b[0;34m\u001b[0m\u001b[0m\n",
      "\u001b[0;32m~/.local/lib/python3.8/site-packages/sympy/core/evalf.py\u001b[0m in \u001b[0;36mevalf\u001b[0;34m(x, prec, options)\u001b[0m\n\u001b[1;32m   1365\u001b[0m         \u001b[0mrf\u001b[0m \u001b[0;34m=\u001b[0m \u001b[0mevalf_table\u001b[0m\u001b[0;34m[\u001b[0m\u001b[0mx\u001b[0m\u001b[0;34m.\u001b[0m\u001b[0mfunc\u001b[0m\u001b[0;34m]\u001b[0m\u001b[0;34m\u001b[0m\u001b[0;34m\u001b[0m\u001b[0m\n\u001b[0;32m-> 1366\u001b[0;31m         \u001b[0mr\u001b[0m \u001b[0;34m=\u001b[0m \u001b[0mrf\u001b[0m\u001b[0;34m(\u001b[0m\u001b[0mx\u001b[0m\u001b[0;34m,\u001b[0m \u001b[0mprec\u001b[0m\u001b[0;34m,\u001b[0m \u001b[0moptions\u001b[0m\u001b[0;34m)\u001b[0m\u001b[0;34m\u001b[0m\u001b[0;34m\u001b[0m\u001b[0m\n\u001b[0m\u001b[1;32m   1367\u001b[0m     \u001b[0;32mexcept\u001b[0m \u001b[0mKeyError\u001b[0m\u001b[0;34m:\u001b[0m\u001b[0;34m\u001b[0m\u001b[0;34m\u001b[0m\u001b[0m\n",
      "\u001b[0;32m~/.local/lib/python3.8/site-packages/sympy/core/evalf.py\u001b[0m in \u001b[0;36mevalf_re\u001b[0;34m(expr, prec, options)\u001b[0m\n\u001b[1;32m    260\u001b[0m \u001b[0;32mdef\u001b[0m \u001b[0mevalf_re\u001b[0m\u001b[0;34m(\u001b[0m\u001b[0mexpr\u001b[0m\u001b[0;34m,\u001b[0m \u001b[0mprec\u001b[0m\u001b[0;34m,\u001b[0m \u001b[0moptions\u001b[0m\u001b[0;34m)\u001b[0m\u001b[0;34m:\u001b[0m\u001b[0;34m\u001b[0m\u001b[0;34m\u001b[0m\u001b[0m\n\u001b[0;32m--> 261\u001b[0;31m     \u001b[0;32mreturn\u001b[0m \u001b[0mget_complex_part\u001b[0m\u001b[0;34m(\u001b[0m\u001b[0mexpr\u001b[0m\u001b[0;34m.\u001b[0m\u001b[0margs\u001b[0m\u001b[0;34m[\u001b[0m\u001b[0;36m0\u001b[0m\u001b[0;34m]\u001b[0m\u001b[0;34m,\u001b[0m \u001b[0;36m0\u001b[0m\u001b[0;34m,\u001b[0m \u001b[0mprec\u001b[0m\u001b[0;34m,\u001b[0m \u001b[0moptions\u001b[0m\u001b[0;34m)\u001b[0m\u001b[0;34m\u001b[0m\u001b[0;34m\u001b[0m\u001b[0m\n\u001b[0m\u001b[1;32m    262\u001b[0m \u001b[0;34m\u001b[0m\u001b[0m\n",
      "\u001b[0;32m~/.local/lib/python3.8/site-packages/sympy/core/evalf.py\u001b[0m in \u001b[0;36mget_complex_part\u001b[0;34m(expr, no, prec, options)\u001b[0m\n\u001b[1;32m    246\u001b[0m     \u001b[0;32mwhile\u001b[0m \u001b[0;36m1\u001b[0m\u001b[0;34m:\u001b[0m\u001b[0;34m\u001b[0m\u001b[0;34m\u001b[0m\u001b[0m\n\u001b[0;32m--> 247\u001b[0;31m         \u001b[0mres\u001b[0m \u001b[0;34m=\u001b[0m \u001b[0mevalf\u001b[0m\u001b[0;34m(\u001b[0m\u001b[0mexpr\u001b[0m\u001b[0;34m,\u001b[0m \u001b[0mworkprec\u001b[0m\u001b[0;34m,\u001b[0m \u001b[0moptions\u001b[0m\u001b[0;34m)\u001b[0m\u001b[0;34m\u001b[0m\u001b[0;34m\u001b[0m\u001b[0m\n\u001b[0m\u001b[1;32m    248\u001b[0m         \u001b[0mvalue\u001b[0m\u001b[0;34m,\u001b[0m \u001b[0maccuracy\u001b[0m \u001b[0;34m=\u001b[0m \u001b[0mres\u001b[0m\u001b[0;34m[\u001b[0m\u001b[0mno\u001b[0m\u001b[0;34m:\u001b[0m\u001b[0;34m:\u001b[0m\u001b[0;36m2\u001b[0m\u001b[0;34m]\u001b[0m\u001b[0;34m\u001b[0m\u001b[0;34m\u001b[0m\u001b[0m\n",
      "\u001b[0;32m~/.local/lib/python3.8/site-packages/sympy/core/evalf.py\u001b[0m in \u001b[0;36mevalf\u001b[0;34m(x, prec, options)\u001b[0m\n\u001b[1;32m   1365\u001b[0m         \u001b[0mrf\u001b[0m \u001b[0;34m=\u001b[0m \u001b[0mevalf_table\u001b[0m\u001b[0;34m[\u001b[0m\u001b[0mx\u001b[0m\u001b[0;34m.\u001b[0m\u001b[0mfunc\u001b[0m\u001b[0;34m]\u001b[0m\u001b[0;34m\u001b[0m\u001b[0;34m\u001b[0m\u001b[0m\n\u001b[0;32m-> 1366\u001b[0;31m         \u001b[0mr\u001b[0m \u001b[0;34m=\u001b[0m \u001b[0mrf\u001b[0m\u001b[0;34m(\u001b[0m\u001b[0mx\u001b[0m\u001b[0;34m,\u001b[0m \u001b[0mprec\u001b[0m\u001b[0;34m,\u001b[0m \u001b[0moptions\u001b[0m\u001b[0;34m)\u001b[0m\u001b[0;34m\u001b[0m\u001b[0;34m\u001b[0m\u001b[0m\n\u001b[0m\u001b[1;32m   1367\u001b[0m     \u001b[0;32mexcept\u001b[0m \u001b[0mKeyError\u001b[0m\u001b[0;34m:\u001b[0m\u001b[0;34m\u001b[0m\u001b[0;34m\u001b[0m\u001b[0m\n",
      "\u001b[0;32m~/.local/lib/python3.8/site-packages/sympy/core/evalf.py\u001b[0m in \u001b[0;36mevalf_sum\u001b[0;34m(expr, prec, options)\u001b[0m\n\u001b[1;32m   1219\u001b[0m         \u001b[0mn\u001b[0m\u001b[0;34m,\u001b[0m \u001b[0ma\u001b[0m\u001b[0;34m,\u001b[0m \u001b[0mb\u001b[0m \u001b[0;34m=\u001b[0m \u001b[0mlimits\u001b[0m\u001b[0;34m[\u001b[0m\u001b[0;36m0\u001b[0m\u001b[0;34m]\u001b[0m\u001b[0;34m\u001b[0m\u001b[0;34m\u001b[0m\u001b[0m\n\u001b[0;32m-> 1220\u001b[0;31m         \u001b[0;32mif\u001b[0m \u001b[0mb\u001b[0m \u001b[0;34m!=\u001b[0m \u001b[0mS\u001b[0m\u001b[0;34m.\u001b[0m\u001b[0mInfinity\u001b[0m \u001b[0;32mor\u001b[0m \u001b[0ma\u001b[0m \u001b[0;34m!=\u001b[0m \u001b[0mint\u001b[0m\u001b[0;34m(\u001b[0m\u001b[0ma\u001b[0m\u001b[0;34m)\u001b[0m\u001b[0;34m:\u001b[0m\u001b[0;34m\u001b[0m\u001b[0;34m\u001b[0m\u001b[0m\n\u001b[0m\u001b[1;32m   1221\u001b[0m             \u001b[0;32mraise\u001b[0m \u001b[0mNotImplementedError\u001b[0m\u001b[0;34m\u001b[0m\u001b[0;34m\u001b[0m\u001b[0m\n",
      "\u001b[0;32m~/.local/lib/python3.8/site-packages/sympy/core/expr.py\u001b[0m in \u001b[0;36m__int__\u001b[0;34m(self)\u001b[0m\n\u001b[1;32m    331\u001b[0m         \u001b[0;32mif\u001b[0m \u001b[0mr\u001b[0m \u001b[0;32min\u001b[0m \u001b[0;34m(\u001b[0m\u001b[0mS\u001b[0m\u001b[0;34m.\u001b[0m\u001b[0mNaN\u001b[0m\u001b[0;34m,\u001b[0m \u001b[0mS\u001b[0m\u001b[0;34m.\u001b[0m\u001b[0mInfinity\u001b[0m\u001b[0;34m,\u001b[0m \u001b[0mS\u001b[0m\u001b[0;34m.\u001b[0m\u001b[0mNegativeInfinity\u001b[0m\u001b[0;34m)\u001b[0m\u001b[0;34m:\u001b[0m\u001b[0;34m\u001b[0m\u001b[0;34m\u001b[0m\u001b[0m\n\u001b[0;32m--> 332\u001b[0;31m             \u001b[0;32mraise\u001b[0m \u001b[0mTypeError\u001b[0m\u001b[0;34m(\u001b[0m\u001b[0;34m\"can't convert %s to int\"\u001b[0m \u001b[0;34m%\u001b[0m \u001b[0mr\u001b[0m\u001b[0;34m)\u001b[0m\u001b[0;34m\u001b[0m\u001b[0;34m\u001b[0m\u001b[0m\n\u001b[0m\u001b[1;32m    333\u001b[0m         \u001b[0mi\u001b[0m \u001b[0;34m=\u001b[0m \u001b[0mint\u001b[0m\u001b[0;34m(\u001b[0m\u001b[0mr\u001b[0m\u001b[0;34m)\u001b[0m\u001b[0;34m\u001b[0m\u001b[0;34m\u001b[0m\u001b[0m\n",
      "\u001b[0;31mTypeError\u001b[0m: can't convert -oo to int",
      "\nDuring handling of the above exception, another exception occurred:\n",
      "\u001b[0;31mTypeError\u001b[0m                                 Traceback (most recent call last)",
      "\u001b[0;32m<ipython-input-222-bc90601274fb>\u001b[0m in \u001b[0;36m<module>\u001b[0;34m\u001b[0m\n\u001b[0;32m----> 1\u001b[0;31m Eq(Integral(1/(1+t**2)*1/(1+tan(t)),(t,0,tau)),\n\u001b[0m\u001b[1;32m      2\u001b[0m    \u001b[0;34m-\u001b[0m \u001b[0;36m8\u001b[0m\u001b[0;34m*\u001b[0m\u001b[0mSum\u001b[0m\u001b[0;34m(\u001b[0m\u001b[0mintegrate\u001b[0m\u001b[0;34m(\u001b[0m\u001b[0;34m(\u001b[0m\u001b[0;36m1\u001b[0m\u001b[0;34m/\u001b[0m\u001b[0;34m(\u001b[0m\u001b[0;34m-\u001b[0m\u001b[0mt\u001b[0m\u001b[0;34m+\u001b[0m\u001b[0mpi\u001b[0m\u001b[0;34m*\u001b[0m\u001b[0mn\u001b[0m\u001b[0;34m-\u001b[0m\u001b[0mpi\u001b[0m\u001b[0;34m/\u001b[0m\u001b[0;36m4\u001b[0m\u001b[0;34m)\u001b[0m\u001b[0;34m)\u001b[0m\u001b[0;34m,\u001b[0m\u001b[0;34m(\u001b[0m\u001b[0mt\u001b[0m\u001b[0;34m,\u001b[0m\u001b[0;36m0\u001b[0m\u001b[0;34m,\u001b[0m\u001b[0mpi\u001b[0m\u001b[0;34m/\u001b[0m\u001b[0;36m2\u001b[0m\u001b[0;34m)\u001b[0m\u001b[0;34m)\u001b[0m\u001b[0;34m/\u001b[0m\u001b[0;34m(\u001b[0m\u001b[0mpi\u001b[0m\u001b[0;34m**\u001b[0m\u001b[0;36m2\u001b[0m\u001b[0;34m*\u001b[0m\u001b[0;34m(\u001b[0m\u001b[0;36m4\u001b[0m\u001b[0;34m*\u001b[0m\u001b[0mn\u001b[0m\u001b[0;34m-\u001b[0m\u001b[0;36m1\u001b[0m\u001b[0;34m)\u001b[0m\u001b[0;34m**\u001b[0m\u001b[0;36m2\u001b[0m \u001b[0;34m+\u001b[0m \u001b[0;36m16\u001b[0m\u001b[0;34m)\u001b[0m\u001b[0;34m,\u001b[0m \u001b[0;34m(\u001b[0m\u001b[0mn\u001b[0m\u001b[0;34m,\u001b[0m\u001b[0;34m-\u001b[0m\u001b[0moo\u001b[0m\u001b[0;34m,\u001b[0m\u001b[0moo\u001b[0m\u001b[0;34m)\u001b[0m\u001b[0;34m)\u001b[0m\u001b[0;34m\u001b[0m\u001b[0;34m\u001b[0m\u001b[0m\n\u001b[1;32m      3\u001b[0m     \u001b[0;34m-\u001b[0m \u001b[0mintegrate\u001b[0m\u001b[0;34m(\u001b[0m\u001b[0mt\u001b[0m\u001b[0;34m/\u001b[0m\u001b[0;34m(\u001b[0m\u001b[0mt\u001b[0m\u001b[0;34m**\u001b[0m\u001b[0;36m2\u001b[0m\u001b[0;34m+\u001b[0m\u001b[0;36m1\u001b[0m\u001b[0;34m)\u001b[0m\u001b[0;34m,\u001b[0m\u001b[0;34m(\u001b[0m\u001b[0mt\u001b[0m\u001b[0;34m,\u001b[0m\u001b[0;36m0\u001b[0m\u001b[0;34m,\u001b[0m\u001b[0mtau\u001b[0m\u001b[0;34m)\u001b[0m\u001b[0;34m)\u001b[0m\u001b[0;34m*\u001b[0m\u001b[0mtanh\u001b[0m\u001b[0;34m(\u001b[0m\u001b[0;36m2\u001b[0m\u001b[0;34m)\u001b[0m\u001b[0;34m/\u001b[0m\u001b[0;36m2\u001b[0m \u001b[0;34m+\u001b[0m \u001b[0;34m(\u001b[0m\u001b[0;36m1\u001b[0m \u001b[0;34m+\u001b[0m \u001b[0;36m1\u001b[0m\u001b[0;34m/\u001b[0m\u001b[0mcosh\u001b[0m\u001b[0;34m(\u001b[0m\u001b[0;36m2\u001b[0m\u001b[0;34m)\u001b[0m\u001b[0;34m)\u001b[0m\u001b[0;34m*\u001b[0m\u001b[0mintegrate\u001b[0m\u001b[0;34m(\u001b[0m\u001b[0;36m1\u001b[0m\u001b[0;34m/\u001b[0m\u001b[0;34m(\u001b[0m\u001b[0mt\u001b[0m\u001b[0;34m**\u001b[0m\u001b[0;36m2\u001b[0m\u001b[0;34m+\u001b[0m\u001b[0;36m1\u001b[0m\u001b[0;34m)\u001b[0m\u001b[0;34m,\u001b[0m\u001b[0;34m(\u001b[0m\u001b[0mt\u001b[0m\u001b[0;34m,\u001b[0m\u001b[0;36m0\u001b[0m\u001b[0;34m,\u001b[0m\u001b[0mtau\u001b[0m\u001b[0;34m)\u001b[0m\u001b[0;34m)\u001b[0m\u001b[0;34m/\u001b[0m\u001b[0;36m2\u001b[0m\u001b[0;34m\u001b[0m\u001b[0;34m\u001b[0m\u001b[0m\n\u001b[1;32m      4\u001b[0m ).subs(tau,pi/2)\n",
      "\u001b[0;32m~/.local/lib/python3.8/site-packages/sympy/core/basic.py\u001b[0m in \u001b[0;36msubs\u001b[0;34m(self, *args, **kwargs)\u001b[0m\n\u001b[1;32m    950\u001b[0m             \u001b[0mrv\u001b[0m \u001b[0;34m=\u001b[0m \u001b[0mself\u001b[0m\u001b[0;34m\u001b[0m\u001b[0;34m\u001b[0m\u001b[0m\n\u001b[1;32m    951\u001b[0m             \u001b[0;32mfor\u001b[0m \u001b[0mold\u001b[0m\u001b[0;34m,\u001b[0m \u001b[0mnew\u001b[0m \u001b[0;32min\u001b[0m \u001b[0msequence\u001b[0m\u001b[0;34m:\u001b[0m\u001b[0;34m\u001b[0m\u001b[0;34m\u001b[0m\u001b[0m\n\u001b[0;32m--> 952\u001b[0;31m                 \u001b[0mrv\u001b[0m \u001b[0;34m=\u001b[0m \u001b[0mrv\u001b[0m\u001b[0;34m.\u001b[0m\u001b[0m_subs\u001b[0m\u001b[0;34m(\u001b[0m\u001b[0mold\u001b[0m\u001b[0;34m,\u001b[0m \u001b[0mnew\u001b[0m\u001b[0;34m,\u001b[0m \u001b[0;34m**\u001b[0m\u001b[0mkwargs\u001b[0m\u001b[0;34m)\u001b[0m\u001b[0;34m\u001b[0m\u001b[0;34m\u001b[0m\u001b[0m\n\u001b[0m\u001b[1;32m    953\u001b[0m                 \u001b[0;32mif\u001b[0m \u001b[0;32mnot\u001b[0m \u001b[0misinstance\u001b[0m\u001b[0;34m(\u001b[0m\u001b[0mrv\u001b[0m\u001b[0;34m,\u001b[0m \u001b[0mBasic\u001b[0m\u001b[0;34m)\u001b[0m\u001b[0;34m:\u001b[0m\u001b[0;34m\u001b[0m\u001b[0;34m\u001b[0m\u001b[0m\n\u001b[1;32m    954\u001b[0m                     \u001b[0;32mbreak\u001b[0m\u001b[0;34m\u001b[0m\u001b[0;34m\u001b[0m\u001b[0m\n",
      "\u001b[0;32m~/.local/lib/python3.8/site-packages/sympy/core/cache.py\u001b[0m in \u001b[0;36mwrapper\u001b[0;34m(*args, **kwargs)\u001b[0m\n\u001b[1;32m     72\u001b[0m                 \u001b[0mretval\u001b[0m \u001b[0;34m=\u001b[0m \u001b[0mcfunc\u001b[0m\u001b[0;34m(\u001b[0m\u001b[0;34m*\u001b[0m\u001b[0margs\u001b[0m\u001b[0;34m,\u001b[0m \u001b[0;34m**\u001b[0m\u001b[0mkwargs\u001b[0m\u001b[0;34m)\u001b[0m\u001b[0;34m\u001b[0m\u001b[0;34m\u001b[0m\u001b[0m\n\u001b[1;32m     73\u001b[0m             \u001b[0;32mexcept\u001b[0m \u001b[0mTypeError\u001b[0m\u001b[0;34m:\u001b[0m\u001b[0;34m\u001b[0m\u001b[0;34m\u001b[0m\u001b[0m\n\u001b[0;32m---> 74\u001b[0;31m                 \u001b[0mretval\u001b[0m \u001b[0;34m=\u001b[0m \u001b[0mfunc\u001b[0m\u001b[0;34m(\u001b[0m\u001b[0;34m*\u001b[0m\u001b[0margs\u001b[0m\u001b[0;34m,\u001b[0m \u001b[0;34m**\u001b[0m\u001b[0mkwargs\u001b[0m\u001b[0;34m)\u001b[0m\u001b[0;34m\u001b[0m\u001b[0;34m\u001b[0m\u001b[0m\n\u001b[0m\u001b[1;32m     75\u001b[0m             \u001b[0;32mreturn\u001b[0m \u001b[0mretval\u001b[0m\u001b[0;34m\u001b[0m\u001b[0;34m\u001b[0m\u001b[0m\n\u001b[1;32m     76\u001b[0m \u001b[0;34m\u001b[0m\u001b[0m\n",
      "\u001b[0;32m~/.local/lib/python3.8/site-packages/sympy/core/basic.py\u001b[0m in \u001b[0;36m_subs\u001b[0;34m(self, old, new, **hints)\u001b[0m\n\u001b[1;32m   1064\u001b[0m         \u001b[0mrv\u001b[0m \u001b[0;34m=\u001b[0m \u001b[0mself\u001b[0m\u001b[0;34m.\u001b[0m\u001b[0m_eval_subs\u001b[0m\u001b[0;34m(\u001b[0m\u001b[0mold\u001b[0m\u001b[0;34m,\u001b[0m \u001b[0mnew\u001b[0m\u001b[0;34m)\u001b[0m\u001b[0;34m\u001b[0m\u001b[0;34m\u001b[0m\u001b[0m\n\u001b[1;32m   1065\u001b[0m         \u001b[0;32mif\u001b[0m \u001b[0mrv\u001b[0m \u001b[0;32mis\u001b[0m \u001b[0;32mNone\u001b[0m\u001b[0;34m:\u001b[0m\u001b[0;34m\u001b[0m\u001b[0;34m\u001b[0m\u001b[0m\n\u001b[0;32m-> 1066\u001b[0;31m             \u001b[0mrv\u001b[0m \u001b[0;34m=\u001b[0m \u001b[0mfallback\u001b[0m\u001b[0;34m(\u001b[0m\u001b[0mself\u001b[0m\u001b[0;34m,\u001b[0m \u001b[0mold\u001b[0m\u001b[0;34m,\u001b[0m \u001b[0mnew\u001b[0m\u001b[0;34m)\u001b[0m\u001b[0;34m\u001b[0m\u001b[0;34m\u001b[0m\u001b[0m\n\u001b[0m\u001b[1;32m   1067\u001b[0m         \u001b[0;32mreturn\u001b[0m \u001b[0mrv\u001b[0m\u001b[0;34m\u001b[0m\u001b[0;34m\u001b[0m\u001b[0m\n\u001b[1;32m   1068\u001b[0m \u001b[0;34m\u001b[0m\u001b[0m\n",
      "\u001b[0;32m~/.local/lib/python3.8/site-packages/sympy/core/basic.py\u001b[0m in \u001b[0;36mfallback\u001b[0;34m(self, old, new)\u001b[0m\n\u001b[1;32m   1041\u001b[0m                     \u001b[0margs\u001b[0m\u001b[0;34m[\u001b[0m\u001b[0mi\u001b[0m\u001b[0;34m]\u001b[0m \u001b[0;34m=\u001b[0m \u001b[0marg\u001b[0m\u001b[0;34m\u001b[0m\u001b[0;34m\u001b[0m\u001b[0m\n\u001b[1;32m   1042\u001b[0m             \u001b[0;32mif\u001b[0m \u001b[0mhit\u001b[0m\u001b[0;34m:\u001b[0m\u001b[0;34m\u001b[0m\u001b[0;34m\u001b[0m\u001b[0m\n\u001b[0;32m-> 1043\u001b[0;31m                 \u001b[0mrv\u001b[0m \u001b[0;34m=\u001b[0m \u001b[0mself\u001b[0m\u001b[0;34m.\u001b[0m\u001b[0mfunc\u001b[0m\u001b[0;34m(\u001b[0m\u001b[0;34m*\u001b[0m\u001b[0margs\u001b[0m\u001b[0;34m)\u001b[0m\u001b[0;34m\u001b[0m\u001b[0;34m\u001b[0m\u001b[0m\n\u001b[0m\u001b[1;32m   1044\u001b[0m                 \u001b[0mhack2\u001b[0m \u001b[0;34m=\u001b[0m \u001b[0mhints\u001b[0m\u001b[0;34m.\u001b[0m\u001b[0mget\u001b[0m\u001b[0;34m(\u001b[0m\u001b[0;34m'hack2'\u001b[0m\u001b[0;34m,\u001b[0m \u001b[0;32mFalse\u001b[0m\u001b[0;34m)\u001b[0m\u001b[0;34m\u001b[0m\u001b[0;34m\u001b[0m\u001b[0m\n\u001b[1;32m   1045\u001b[0m                 \u001b[0;32mif\u001b[0m \u001b[0mhack2\u001b[0m \u001b[0;32mand\u001b[0m \u001b[0mself\u001b[0m\u001b[0;34m.\u001b[0m\u001b[0mis_Mul\u001b[0m \u001b[0;32mand\u001b[0m \u001b[0;32mnot\u001b[0m \u001b[0mrv\u001b[0m\u001b[0;34m.\u001b[0m\u001b[0mis_Mul\u001b[0m\u001b[0;34m:\u001b[0m  \u001b[0;31m# 2-arg hack\u001b[0m\u001b[0;34m\u001b[0m\u001b[0;34m\u001b[0m\u001b[0m\n",
      "\u001b[0;32m~/.local/lib/python3.8/site-packages/sympy/core/relational.py\u001b[0m in \u001b[0;36m__new__\u001b[0;34m(cls, lhs, rhs, **options)\u001b[0m\n\u001b[1;32m    504\u001b[0m         \u001b[0mrhs\u001b[0m \u001b[0;34m=\u001b[0m \u001b[0m_sympify\u001b[0m\u001b[0;34m(\u001b[0m\u001b[0mrhs\u001b[0m\u001b[0;34m)\u001b[0m\u001b[0;34m\u001b[0m\u001b[0;34m\u001b[0m\u001b[0m\n\u001b[1;32m    505\u001b[0m         \u001b[0;32mif\u001b[0m \u001b[0mevaluate\u001b[0m\u001b[0;34m:\u001b[0m\u001b[0;34m\u001b[0m\u001b[0;34m\u001b[0m\u001b[0m\n\u001b[0;32m--> 506\u001b[0;31m             \u001b[0mval\u001b[0m \u001b[0;34m=\u001b[0m \u001b[0mis_eq\u001b[0m\u001b[0;34m(\u001b[0m\u001b[0mlhs\u001b[0m\u001b[0;34m,\u001b[0m \u001b[0mrhs\u001b[0m\u001b[0;34m)\u001b[0m\u001b[0;34m\u001b[0m\u001b[0;34m\u001b[0m\u001b[0m\n\u001b[0m\u001b[1;32m    507\u001b[0m             \u001b[0;32mif\u001b[0m \u001b[0mval\u001b[0m \u001b[0;32mis\u001b[0m \u001b[0;32mNone\u001b[0m\u001b[0;34m:\u001b[0m\u001b[0;34m\u001b[0m\u001b[0;34m\u001b[0m\u001b[0m\n\u001b[1;32m    508\u001b[0m                 \u001b[0;32mreturn\u001b[0m \u001b[0mcls\u001b[0m\u001b[0;34m(\u001b[0m\u001b[0mlhs\u001b[0m\u001b[0;34m,\u001b[0m \u001b[0mrhs\u001b[0m\u001b[0;34m,\u001b[0m \u001b[0mevaluate\u001b[0m\u001b[0;34m=\u001b[0m\u001b[0;32mFalse\u001b[0m\u001b[0;34m)\u001b[0m\u001b[0;34m\u001b[0m\u001b[0;34m\u001b[0m\u001b[0m\n",
      "\u001b[0;32m~/.local/lib/python3.8/site-packages/sympy/core/relational.py\u001b[0m in \u001b[0;36mis_eq\u001b[0;34m(lhs, rhs)\u001b[0m\n\u001b[1;32m   1405\u001b[0m                 \u001b[0;32mreturn\u001b[0m \u001b[0;32mTrue\u001b[0m\u001b[0;34m\u001b[0m\u001b[0;34m\u001b[0m\u001b[0m\n\u001b[1;32m   1406\u001b[0m \u001b[0;34m\u001b[0m\u001b[0m\n\u001b[0;32m-> 1407\u001b[0;31m         \u001b[0mn2\u001b[0m \u001b[0;34m=\u001b[0m \u001b[0m_n2\u001b[0m\u001b[0;34m(\u001b[0m\u001b[0mlhs\u001b[0m\u001b[0;34m,\u001b[0m \u001b[0mrhs\u001b[0m\u001b[0;34m)\u001b[0m\u001b[0;34m\u001b[0m\u001b[0;34m\u001b[0m\u001b[0m\n\u001b[0m\u001b[1;32m   1408\u001b[0m         \u001b[0;32mif\u001b[0m \u001b[0mn2\u001b[0m \u001b[0;32mis\u001b[0m \u001b[0;32mnot\u001b[0m \u001b[0;32mNone\u001b[0m\u001b[0;34m:\u001b[0m\u001b[0;34m\u001b[0m\u001b[0;34m\u001b[0m\u001b[0m\n\u001b[1;32m   1409\u001b[0m             \u001b[0;32mreturn\u001b[0m \u001b[0m_sympify\u001b[0m\u001b[0;34m(\u001b[0m\u001b[0mn2\u001b[0m \u001b[0;34m==\u001b[0m \u001b[0;36m0\u001b[0m\u001b[0;34m)\u001b[0m\u001b[0;34m\u001b[0m\u001b[0;34m\u001b[0m\u001b[0m\n",
      "\u001b[0;32m~/.local/lib/python3.8/site-packages/sympy/core/relational.py\u001b[0m in \u001b[0;36m_n2\u001b[0;34m(a, b)\u001b[0m\n\u001b[1;32m   1070\u001b[0m     \u001b[0;31m# /!\\ it is very important (see issue 8245) not to\u001b[0m\u001b[0;34m\u001b[0m\u001b[0;34m\u001b[0m\u001b[0;34m\u001b[0m\u001b[0m\n\u001b[1;32m   1071\u001b[0m     \u001b[0;31m# use a re-evaluated number in the calculation of dif\u001b[0m\u001b[0;34m\u001b[0m\u001b[0;34m\u001b[0m\u001b[0;34m\u001b[0m\u001b[0m\n\u001b[0;32m-> 1072\u001b[0;31m     \u001b[0;32mif\u001b[0m \u001b[0ma\u001b[0m\u001b[0;34m.\u001b[0m\u001b[0mis_comparable\u001b[0m \u001b[0;32mand\u001b[0m \u001b[0mb\u001b[0m\u001b[0;34m.\u001b[0m\u001b[0mis_comparable\u001b[0m\u001b[0;34m:\u001b[0m\u001b[0;34m\u001b[0m\u001b[0;34m\u001b[0m\u001b[0m\n\u001b[0m\u001b[1;32m   1073\u001b[0m         \u001b[0mdif\u001b[0m \u001b[0;34m=\u001b[0m \u001b[0;34m(\u001b[0m\u001b[0ma\u001b[0m \u001b[0;34m-\u001b[0m \u001b[0mb\u001b[0m\u001b[0;34m)\u001b[0m\u001b[0;34m.\u001b[0m\u001b[0mevalf\u001b[0m\u001b[0;34m(\u001b[0m\u001b[0;36m2\u001b[0m\u001b[0;34m)\u001b[0m\u001b[0;34m\u001b[0m\u001b[0;34m\u001b[0m\u001b[0m\n\u001b[1;32m   1074\u001b[0m         \u001b[0;32mif\u001b[0m \u001b[0mdif\u001b[0m\u001b[0;34m.\u001b[0m\u001b[0mis_comparable\u001b[0m\u001b[0;34m:\u001b[0m\u001b[0;34m\u001b[0m\u001b[0;34m\u001b[0m\u001b[0m\n",
      "\u001b[0;32m~/.local/lib/python3.8/site-packages/sympy/core/basic.py\u001b[0m in \u001b[0;36mis_comparable\u001b[0;34m(self)\u001b[0m\n\u001b[1;32m    671\u001b[0m         \u001b[0;31m# don't re-eval numbers that are already evaluated since\u001b[0m\u001b[0;34m\u001b[0m\u001b[0;34m\u001b[0m\u001b[0;34m\u001b[0m\u001b[0m\n\u001b[1;32m    672\u001b[0m         \u001b[0;31m# this will create spurious precision\u001b[0m\u001b[0;34m\u001b[0m\u001b[0;34m\u001b[0m\u001b[0;34m\u001b[0m\u001b[0m\n\u001b[0;32m--> 673\u001b[0;31m         n, i = [p.evalf(2) if not p.is_Number else p\n\u001b[0m\u001b[1;32m    674\u001b[0m             for p in self.as_real_imag()]\n\u001b[1;32m    675\u001b[0m         \u001b[0;32mif\u001b[0m \u001b[0;32mnot\u001b[0m \u001b[0;34m(\u001b[0m\u001b[0mi\u001b[0m\u001b[0;34m.\u001b[0m\u001b[0mis_Number\u001b[0m \u001b[0;32mand\u001b[0m \u001b[0mn\u001b[0m\u001b[0;34m.\u001b[0m\u001b[0mis_Number\u001b[0m\u001b[0;34m)\u001b[0m\u001b[0;34m:\u001b[0m\u001b[0;34m\u001b[0m\u001b[0;34m\u001b[0m\u001b[0m\n",
      "\u001b[0;32m~/.local/lib/python3.8/site-packages/sympy/core/basic.py\u001b[0m in \u001b[0;36m<listcomp>\u001b[0;34m(.0)\u001b[0m\n\u001b[1;32m    671\u001b[0m         \u001b[0;31m# don't re-eval numbers that are already evaluated since\u001b[0m\u001b[0;34m\u001b[0m\u001b[0;34m\u001b[0m\u001b[0;34m\u001b[0m\u001b[0m\n\u001b[1;32m    672\u001b[0m         \u001b[0;31m# this will create spurious precision\u001b[0m\u001b[0;34m\u001b[0m\u001b[0;34m\u001b[0m\u001b[0;34m\u001b[0m\u001b[0m\n\u001b[0;32m--> 673\u001b[0;31m         n, i = [p.evalf(2) if not p.is_Number else p\n\u001b[0m\u001b[1;32m    674\u001b[0m             for p in self.as_real_imag()]\n\u001b[1;32m    675\u001b[0m         \u001b[0;32mif\u001b[0m \u001b[0;32mnot\u001b[0m \u001b[0;34m(\u001b[0m\u001b[0mi\u001b[0m\u001b[0;34m.\u001b[0m\u001b[0mis_Number\u001b[0m \u001b[0;32mand\u001b[0m \u001b[0mn\u001b[0m\u001b[0;34m.\u001b[0m\u001b[0mis_Number\u001b[0m\u001b[0;34m)\u001b[0m\u001b[0;34m:\u001b[0m\u001b[0;34m\u001b[0m\u001b[0;34m\u001b[0m\u001b[0m\n",
      "\u001b[0;32m~/.local/lib/python3.8/site-packages/sympy/core/evalf.py\u001b[0m in \u001b[0;36mevalf\u001b[0;34m(self, n, subs, maxn, chop, strict, quad, verbose)\u001b[0m\n\u001b[1;32m   1512\u001b[0m             \u001b[0moptions\u001b[0m\u001b[0;34m[\u001b[0m\u001b[0;34m'quad'\u001b[0m\u001b[0;34m]\u001b[0m \u001b[0;34m=\u001b[0m \u001b[0mquad\u001b[0m\u001b[0;34m\u001b[0m\u001b[0;34m\u001b[0m\u001b[0m\n\u001b[1;32m   1513\u001b[0m         \u001b[0;32mtry\u001b[0m\u001b[0;34m:\u001b[0m\u001b[0;34m\u001b[0m\u001b[0;34m\u001b[0m\u001b[0m\n\u001b[0;32m-> 1514\u001b[0;31m             \u001b[0mresult\u001b[0m \u001b[0;34m=\u001b[0m \u001b[0mevalf\u001b[0m\u001b[0;34m(\u001b[0m\u001b[0mself\u001b[0m\u001b[0;34m,\u001b[0m \u001b[0mprec\u001b[0m \u001b[0;34m+\u001b[0m \u001b[0;36m4\u001b[0m\u001b[0;34m,\u001b[0m \u001b[0moptions\u001b[0m\u001b[0;34m)\u001b[0m\u001b[0;34m\u001b[0m\u001b[0;34m\u001b[0m\u001b[0m\n\u001b[0m\u001b[1;32m   1515\u001b[0m         \u001b[0;32mexcept\u001b[0m \u001b[0mNotImplementedError\u001b[0m\u001b[0;34m:\u001b[0m\u001b[0;34m\u001b[0m\u001b[0;34m\u001b[0m\u001b[0m\n\u001b[1;32m   1516\u001b[0m             \u001b[0;31m# Fall back to the ordinary evalf\u001b[0m\u001b[0;34m\u001b[0m\u001b[0;34m\u001b[0m\u001b[0;34m\u001b[0m\u001b[0m\n",
      "\u001b[0;32m~/.local/lib/python3.8/site-packages/sympy/core/evalf.py\u001b[0m in \u001b[0;36mevalf\u001b[0;34m(x, prec, options)\u001b[0m\n\u001b[1;32m   1364\u001b[0m     \u001b[0;32mtry\u001b[0m\u001b[0;34m:\u001b[0m\u001b[0;34m\u001b[0m\u001b[0;34m\u001b[0m\u001b[0m\n\u001b[1;32m   1365\u001b[0m         \u001b[0mrf\u001b[0m \u001b[0;34m=\u001b[0m \u001b[0mevalf_table\u001b[0m\u001b[0;34m[\u001b[0m\u001b[0mx\u001b[0m\u001b[0;34m.\u001b[0m\u001b[0mfunc\u001b[0m\u001b[0;34m]\u001b[0m\u001b[0;34m\u001b[0m\u001b[0;34m\u001b[0m\u001b[0m\n\u001b[0;32m-> 1366\u001b[0;31m         \u001b[0mr\u001b[0m \u001b[0;34m=\u001b[0m \u001b[0mrf\u001b[0m\u001b[0;34m(\u001b[0m\u001b[0mx\u001b[0m\u001b[0;34m,\u001b[0m \u001b[0mprec\u001b[0m\u001b[0;34m,\u001b[0m \u001b[0moptions\u001b[0m\u001b[0;34m)\u001b[0m\u001b[0;34m\u001b[0m\u001b[0;34m\u001b[0m\u001b[0m\n\u001b[0m\u001b[1;32m   1367\u001b[0m     \u001b[0;32mexcept\u001b[0m \u001b[0mKeyError\u001b[0m\u001b[0;34m:\u001b[0m\u001b[0;34m\u001b[0m\u001b[0;34m\u001b[0m\u001b[0m\n\u001b[1;32m   1368\u001b[0m         \u001b[0;31m# Fall back to ordinary evalf if possible\u001b[0m\u001b[0;34m\u001b[0m\u001b[0;34m\u001b[0m\u001b[0;34m\u001b[0m\u001b[0m\n",
      "\u001b[0;32m~/.local/lib/python3.8/site-packages/sympy/core/evalf.py\u001b[0m in \u001b[0;36mevalf_add\u001b[0;34m(v, prec, options)\u001b[0m\n\u001b[1;32m    532\u001b[0m         \u001b[0moptions\u001b[0m\u001b[0;34m[\u001b[0m\u001b[0;34m'maxprec'\u001b[0m\u001b[0;34m]\u001b[0m \u001b[0;34m=\u001b[0m \u001b[0mmin\u001b[0m\u001b[0;34m(\u001b[0m\u001b[0moldmaxprec\u001b[0m\u001b[0;34m,\u001b[0m \u001b[0;36m2\u001b[0m\u001b[0;34m*\u001b[0m\u001b[0mprec\u001b[0m\u001b[0;34m)\u001b[0m\u001b[0;34m\u001b[0m\u001b[0;34m\u001b[0m\u001b[0m\n\u001b[1;32m    533\u001b[0m \u001b[0;34m\u001b[0m\u001b[0m\n\u001b[0;32m--> 534\u001b[0;31m         \u001b[0mterms\u001b[0m \u001b[0;34m=\u001b[0m \u001b[0;34m[\u001b[0m\u001b[0mevalf\u001b[0m\u001b[0;34m(\u001b[0m\u001b[0marg\u001b[0m\u001b[0;34m,\u001b[0m \u001b[0mprec\u001b[0m \u001b[0;34m+\u001b[0m \u001b[0;36m10\u001b[0m\u001b[0;34m,\u001b[0m \u001b[0moptions\u001b[0m\u001b[0;34m)\u001b[0m \u001b[0;32mfor\u001b[0m \u001b[0marg\u001b[0m \u001b[0;32min\u001b[0m \u001b[0mv\u001b[0m\u001b[0;34m.\u001b[0m\u001b[0margs\u001b[0m\u001b[0;34m]\u001b[0m\u001b[0;34m\u001b[0m\u001b[0;34m\u001b[0m\u001b[0m\n\u001b[0m\u001b[1;32m    535\u001b[0m         re, re_acc = add_terms(\n\u001b[1;32m    536\u001b[0m             [a[0::2] for a in terms if a[0]], prec, target_prec)\n",
      "\u001b[0;32m~/.local/lib/python3.8/site-packages/sympy/core/evalf.py\u001b[0m in \u001b[0;36m<listcomp>\u001b[0;34m(.0)\u001b[0m\n\u001b[1;32m    532\u001b[0m         \u001b[0moptions\u001b[0m\u001b[0;34m[\u001b[0m\u001b[0;34m'maxprec'\u001b[0m\u001b[0;34m]\u001b[0m \u001b[0;34m=\u001b[0m \u001b[0mmin\u001b[0m\u001b[0;34m(\u001b[0m\u001b[0moldmaxprec\u001b[0m\u001b[0;34m,\u001b[0m \u001b[0;36m2\u001b[0m\u001b[0;34m*\u001b[0m\u001b[0mprec\u001b[0m\u001b[0;34m)\u001b[0m\u001b[0;34m\u001b[0m\u001b[0;34m\u001b[0m\u001b[0m\n\u001b[1;32m    533\u001b[0m \u001b[0;34m\u001b[0m\u001b[0m\n\u001b[0;32m--> 534\u001b[0;31m         \u001b[0mterms\u001b[0m \u001b[0;34m=\u001b[0m \u001b[0;34m[\u001b[0m\u001b[0mevalf\u001b[0m\u001b[0;34m(\u001b[0m\u001b[0marg\u001b[0m\u001b[0;34m,\u001b[0m \u001b[0mprec\u001b[0m \u001b[0;34m+\u001b[0m \u001b[0;36m10\u001b[0m\u001b[0;34m,\u001b[0m \u001b[0moptions\u001b[0m\u001b[0;34m)\u001b[0m \u001b[0;32mfor\u001b[0m \u001b[0marg\u001b[0m \u001b[0;32min\u001b[0m \u001b[0mv\u001b[0m\u001b[0;34m.\u001b[0m\u001b[0margs\u001b[0m\u001b[0;34m]\u001b[0m\u001b[0;34m\u001b[0m\u001b[0;34m\u001b[0m\u001b[0m\n\u001b[0m\u001b[1;32m    535\u001b[0m         re, re_acc = add_terms(\n\u001b[1;32m    536\u001b[0m             [a[0::2] for a in terms if a[0]], prec, target_prec)\n",
      "\u001b[0;32m~/.local/lib/python3.8/site-packages/sympy/core/evalf.py\u001b[0m in \u001b[0;36mevalf\u001b[0;34m(x, prec, options)\u001b[0m\n\u001b[1;32m   1364\u001b[0m     \u001b[0;32mtry\u001b[0m\u001b[0;34m:\u001b[0m\u001b[0;34m\u001b[0m\u001b[0;34m\u001b[0m\u001b[0m\n\u001b[1;32m   1365\u001b[0m         \u001b[0mrf\u001b[0m \u001b[0;34m=\u001b[0m \u001b[0mevalf_table\u001b[0m\u001b[0;34m[\u001b[0m\u001b[0mx\u001b[0m\u001b[0;34m.\u001b[0m\u001b[0mfunc\u001b[0m\u001b[0;34m]\u001b[0m\u001b[0;34m\u001b[0m\u001b[0;34m\u001b[0m\u001b[0m\n\u001b[0;32m-> 1366\u001b[0;31m         \u001b[0mr\u001b[0m \u001b[0;34m=\u001b[0m \u001b[0mrf\u001b[0m\u001b[0;34m(\u001b[0m\u001b[0mx\u001b[0m\u001b[0;34m,\u001b[0m \u001b[0mprec\u001b[0m\u001b[0;34m,\u001b[0m \u001b[0moptions\u001b[0m\u001b[0;34m)\u001b[0m\u001b[0;34m\u001b[0m\u001b[0;34m\u001b[0m\u001b[0m\n\u001b[0m\u001b[1;32m   1367\u001b[0m     \u001b[0;32mexcept\u001b[0m \u001b[0mKeyError\u001b[0m\u001b[0;34m:\u001b[0m\u001b[0;34m\u001b[0m\u001b[0;34m\u001b[0m\u001b[0m\n\u001b[1;32m   1368\u001b[0m         \u001b[0;31m# Fall back to ordinary evalf if possible\u001b[0m\u001b[0;34m\u001b[0m\u001b[0;34m\u001b[0m\u001b[0;34m\u001b[0m\u001b[0m\n",
      "\u001b[0;32m~/.local/lib/python3.8/site-packages/sympy/core/evalf.py\u001b[0m in \u001b[0;36mevalf_mul\u001b[0;34m(v, prec, options)\u001b[0m\n\u001b[1;32m    572\u001b[0m     \u001b[0;32mfrom\u001b[0m \u001b[0msympy\u001b[0m\u001b[0;34m.\u001b[0m\u001b[0mcore\u001b[0m\u001b[0;34m.\u001b[0m\u001b[0mnumbers\u001b[0m \u001b[0;32mimport\u001b[0m \u001b[0mFloat\u001b[0m\u001b[0;34m\u001b[0m\u001b[0;34m\u001b[0m\u001b[0m\n\u001b[1;32m    573\u001b[0m     \u001b[0;32mfor\u001b[0m \u001b[0marg\u001b[0m \u001b[0;32min\u001b[0m \u001b[0margs\u001b[0m\u001b[0;34m:\u001b[0m\u001b[0;34m\u001b[0m\u001b[0;34m\u001b[0m\u001b[0m\n\u001b[0;32m--> 574\u001b[0;31m         \u001b[0marg\u001b[0m \u001b[0;34m=\u001b[0m \u001b[0mevalf\u001b[0m\u001b[0;34m(\u001b[0m\u001b[0marg\u001b[0m\u001b[0;34m,\u001b[0m \u001b[0mprec\u001b[0m\u001b[0;34m,\u001b[0m \u001b[0moptions\u001b[0m\u001b[0;34m)\u001b[0m\u001b[0;34m\u001b[0m\u001b[0;34m\u001b[0m\u001b[0m\n\u001b[0m\u001b[1;32m    575\u001b[0m         \u001b[0;32mif\u001b[0m \u001b[0marg\u001b[0m\u001b[0;34m[\u001b[0m\u001b[0;36m0\u001b[0m\u001b[0;34m]\u001b[0m \u001b[0;32mis\u001b[0m \u001b[0;32mNone\u001b[0m\u001b[0;34m:\u001b[0m\u001b[0;34m\u001b[0m\u001b[0;34m\u001b[0m\u001b[0m\n\u001b[1;32m    576\u001b[0m             \u001b[0;32mcontinue\u001b[0m\u001b[0;34m\u001b[0m\u001b[0;34m\u001b[0m\u001b[0m\n",
      "\u001b[0;32m~/.local/lib/python3.8/site-packages/sympy/core/evalf.py\u001b[0m in \u001b[0;36mevalf\u001b[0;34m(x, prec, options)\u001b[0m\n\u001b[1;32m   1364\u001b[0m     \u001b[0;32mtry\u001b[0m\u001b[0;34m:\u001b[0m\u001b[0;34m\u001b[0m\u001b[0;34m\u001b[0m\u001b[0m\n\u001b[1;32m   1365\u001b[0m         \u001b[0mrf\u001b[0m \u001b[0;34m=\u001b[0m \u001b[0mevalf_table\u001b[0m\u001b[0;34m[\u001b[0m\u001b[0mx\u001b[0m\u001b[0;34m.\u001b[0m\u001b[0mfunc\u001b[0m\u001b[0;34m]\u001b[0m\u001b[0;34m\u001b[0m\u001b[0;34m\u001b[0m\u001b[0m\n\u001b[0;32m-> 1366\u001b[0;31m         \u001b[0mr\u001b[0m \u001b[0;34m=\u001b[0m \u001b[0mrf\u001b[0m\u001b[0;34m(\u001b[0m\u001b[0mx\u001b[0m\u001b[0;34m,\u001b[0m \u001b[0mprec\u001b[0m\u001b[0;34m,\u001b[0m \u001b[0moptions\u001b[0m\u001b[0;34m)\u001b[0m\u001b[0;34m\u001b[0m\u001b[0;34m\u001b[0m\u001b[0m\n\u001b[0m\u001b[1;32m   1367\u001b[0m     \u001b[0;32mexcept\u001b[0m \u001b[0mKeyError\u001b[0m\u001b[0;34m:\u001b[0m\u001b[0;34m\u001b[0m\u001b[0;34m\u001b[0m\u001b[0m\n\u001b[1;32m   1368\u001b[0m         \u001b[0;31m# Fall back to ordinary evalf if possible\u001b[0m\u001b[0;34m\u001b[0m\u001b[0;34m\u001b[0m\u001b[0;34m\u001b[0m\u001b[0m\n",
      "\u001b[0;32m~/.local/lib/python3.8/site-packages/sympy/core/evalf.py\u001b[0m in \u001b[0;36mevalf_re\u001b[0;34m(expr, prec, options)\u001b[0m\n\u001b[1;32m    259\u001b[0m \u001b[0;34m\u001b[0m\u001b[0m\n\u001b[1;32m    260\u001b[0m \u001b[0;32mdef\u001b[0m \u001b[0mevalf_re\u001b[0m\u001b[0;34m(\u001b[0m\u001b[0mexpr\u001b[0m\u001b[0;34m,\u001b[0m \u001b[0mprec\u001b[0m\u001b[0;34m,\u001b[0m \u001b[0moptions\u001b[0m\u001b[0;34m)\u001b[0m\u001b[0;34m:\u001b[0m\u001b[0;34m\u001b[0m\u001b[0;34m\u001b[0m\u001b[0m\n\u001b[0;32m--> 261\u001b[0;31m     \u001b[0;32mreturn\u001b[0m \u001b[0mget_complex_part\u001b[0m\u001b[0;34m(\u001b[0m\u001b[0mexpr\u001b[0m\u001b[0;34m.\u001b[0m\u001b[0margs\u001b[0m\u001b[0;34m[\u001b[0m\u001b[0;36m0\u001b[0m\u001b[0;34m]\u001b[0m\u001b[0;34m,\u001b[0m \u001b[0;36m0\u001b[0m\u001b[0;34m,\u001b[0m \u001b[0mprec\u001b[0m\u001b[0;34m,\u001b[0m \u001b[0moptions\u001b[0m\u001b[0;34m)\u001b[0m\u001b[0;34m\u001b[0m\u001b[0;34m\u001b[0m\u001b[0m\n\u001b[0m\u001b[1;32m    262\u001b[0m \u001b[0;34m\u001b[0m\u001b[0m\n\u001b[1;32m    263\u001b[0m \u001b[0;34m\u001b[0m\u001b[0m\n",
      "\u001b[0;32m~/.local/lib/python3.8/site-packages/sympy/core/evalf.py\u001b[0m in \u001b[0;36mget_complex_part\u001b[0;34m(expr, no, prec, options)\u001b[0m\n\u001b[1;32m    245\u001b[0m     \u001b[0mi\u001b[0m \u001b[0;34m=\u001b[0m \u001b[0;36m0\u001b[0m\u001b[0;34m\u001b[0m\u001b[0;34m\u001b[0m\u001b[0m\n\u001b[1;32m    246\u001b[0m     \u001b[0;32mwhile\u001b[0m \u001b[0;36m1\u001b[0m\u001b[0;34m:\u001b[0m\u001b[0;34m\u001b[0m\u001b[0;34m\u001b[0m\u001b[0m\n\u001b[0;32m--> 247\u001b[0;31m         \u001b[0mres\u001b[0m \u001b[0;34m=\u001b[0m \u001b[0mevalf\u001b[0m\u001b[0;34m(\u001b[0m\u001b[0mexpr\u001b[0m\u001b[0;34m,\u001b[0m \u001b[0mworkprec\u001b[0m\u001b[0;34m,\u001b[0m \u001b[0moptions\u001b[0m\u001b[0;34m)\u001b[0m\u001b[0;34m\u001b[0m\u001b[0;34m\u001b[0m\u001b[0m\n\u001b[0m\u001b[1;32m    248\u001b[0m         \u001b[0mvalue\u001b[0m\u001b[0;34m,\u001b[0m \u001b[0maccuracy\u001b[0m \u001b[0;34m=\u001b[0m \u001b[0mres\u001b[0m\u001b[0;34m[\u001b[0m\u001b[0mno\u001b[0m\u001b[0;34m:\u001b[0m\u001b[0;34m:\u001b[0m\u001b[0;36m2\u001b[0m\u001b[0;34m]\u001b[0m\u001b[0;34m\u001b[0m\u001b[0;34m\u001b[0m\u001b[0m\n\u001b[1;32m    249\u001b[0m         \u001b[0;31m# XXX is the last one correct? Consider re((1+I)**2).n()\u001b[0m\u001b[0;34m\u001b[0m\u001b[0;34m\u001b[0m\u001b[0;34m\u001b[0m\u001b[0m\n",
      "\u001b[0;32m~/.local/lib/python3.8/site-packages/sympy/core/evalf.py\u001b[0m in \u001b[0;36mevalf\u001b[0;34m(x, prec, options)\u001b[0m\n\u001b[1;32m   1364\u001b[0m     \u001b[0;32mtry\u001b[0m\u001b[0;34m:\u001b[0m\u001b[0;34m\u001b[0m\u001b[0;34m\u001b[0m\u001b[0m\n\u001b[1;32m   1365\u001b[0m         \u001b[0mrf\u001b[0m \u001b[0;34m=\u001b[0m \u001b[0mevalf_table\u001b[0m\u001b[0;34m[\u001b[0m\u001b[0mx\u001b[0m\u001b[0;34m.\u001b[0m\u001b[0mfunc\u001b[0m\u001b[0;34m]\u001b[0m\u001b[0;34m\u001b[0m\u001b[0;34m\u001b[0m\u001b[0m\n\u001b[0;32m-> 1366\u001b[0;31m         \u001b[0mr\u001b[0m \u001b[0;34m=\u001b[0m \u001b[0mrf\u001b[0m\u001b[0;34m(\u001b[0m\u001b[0mx\u001b[0m\u001b[0;34m,\u001b[0m \u001b[0mprec\u001b[0m\u001b[0;34m,\u001b[0m \u001b[0moptions\u001b[0m\u001b[0;34m)\u001b[0m\u001b[0;34m\u001b[0m\u001b[0;34m\u001b[0m\u001b[0m\n\u001b[0m\u001b[1;32m   1367\u001b[0m     \u001b[0;32mexcept\u001b[0m \u001b[0mKeyError\u001b[0m\u001b[0;34m:\u001b[0m\u001b[0;34m\u001b[0m\u001b[0;34m\u001b[0m\u001b[0m\n\u001b[1;32m   1368\u001b[0m         \u001b[0;31m# Fall back to ordinary evalf if possible\u001b[0m\u001b[0;34m\u001b[0m\u001b[0;34m\u001b[0m\u001b[0;34m\u001b[0m\u001b[0m\n",
      "\u001b[0;32m~/.local/lib/python3.8/site-packages/sympy/core/evalf.py\u001b[0m in \u001b[0;36mevalf_sum\u001b[0;34m(expr, prec, options)\u001b[0m\n\u001b[1;32m   1218\u001b[0m     \u001b[0;32mtry\u001b[0m\u001b[0;34m:\u001b[0m\u001b[0;34m\u001b[0m\u001b[0;34m\u001b[0m\u001b[0m\n\u001b[1;32m   1219\u001b[0m         \u001b[0mn\u001b[0m\u001b[0;34m,\u001b[0m \u001b[0ma\u001b[0m\u001b[0;34m,\u001b[0m \u001b[0mb\u001b[0m \u001b[0;34m=\u001b[0m \u001b[0mlimits\u001b[0m\u001b[0;34m[\u001b[0m\u001b[0;36m0\u001b[0m\u001b[0;34m]\u001b[0m\u001b[0;34m\u001b[0m\u001b[0;34m\u001b[0m\u001b[0m\n\u001b[0;32m-> 1220\u001b[0;31m         \u001b[0;32mif\u001b[0m \u001b[0mb\u001b[0m \u001b[0;34m!=\u001b[0m \u001b[0mS\u001b[0m\u001b[0;34m.\u001b[0m\u001b[0mInfinity\u001b[0m \u001b[0;32mor\u001b[0m \u001b[0ma\u001b[0m \u001b[0;34m!=\u001b[0m \u001b[0mint\u001b[0m\u001b[0;34m(\u001b[0m\u001b[0ma\u001b[0m\u001b[0;34m)\u001b[0m\u001b[0;34m:\u001b[0m\u001b[0;34m\u001b[0m\u001b[0;34m\u001b[0m\u001b[0m\n\u001b[0m\u001b[1;32m   1221\u001b[0m             \u001b[0;32mraise\u001b[0m \u001b[0mNotImplementedError\u001b[0m\u001b[0;34m\u001b[0m\u001b[0;34m\u001b[0m\u001b[0m\n\u001b[1;32m   1222\u001b[0m         \u001b[0;31m# Use fast hypergeometric summation if possible\u001b[0m\u001b[0;34m\u001b[0m\u001b[0;34m\u001b[0m\u001b[0;34m\u001b[0m\u001b[0m\n",
      "\u001b[0;32m~/.local/lib/python3.8/site-packages/sympy/core/expr.py\u001b[0m in \u001b[0;36m__int__\u001b[0;34m(self)\u001b[0m\n\u001b[1;32m    330\u001b[0m             \u001b[0;32mraise\u001b[0m \u001b[0mTypeError\u001b[0m\u001b[0;34m(\u001b[0m\u001b[0;34m\"can't convert complex to int\"\u001b[0m\u001b[0;34m)\u001b[0m\u001b[0;34m\u001b[0m\u001b[0;34m\u001b[0m\u001b[0m\n\u001b[1;32m    331\u001b[0m         \u001b[0;32mif\u001b[0m \u001b[0mr\u001b[0m \u001b[0;32min\u001b[0m \u001b[0;34m(\u001b[0m\u001b[0mS\u001b[0m\u001b[0;34m.\u001b[0m\u001b[0mNaN\u001b[0m\u001b[0;34m,\u001b[0m \u001b[0mS\u001b[0m\u001b[0;34m.\u001b[0m\u001b[0mInfinity\u001b[0m\u001b[0;34m,\u001b[0m \u001b[0mS\u001b[0m\u001b[0;34m.\u001b[0m\u001b[0mNegativeInfinity\u001b[0m\u001b[0;34m)\u001b[0m\u001b[0;34m:\u001b[0m\u001b[0;34m\u001b[0m\u001b[0;34m\u001b[0m\u001b[0m\n\u001b[0;32m--> 332\u001b[0;31m             \u001b[0;32mraise\u001b[0m \u001b[0mTypeError\u001b[0m\u001b[0;34m(\u001b[0m\u001b[0;34m\"can't convert %s to int\"\u001b[0m \u001b[0;34m%\u001b[0m \u001b[0mr\u001b[0m\u001b[0;34m)\u001b[0m\u001b[0;34m\u001b[0m\u001b[0;34m\u001b[0m\u001b[0m\n\u001b[0m\u001b[1;32m    333\u001b[0m         \u001b[0mi\u001b[0m \u001b[0;34m=\u001b[0m \u001b[0mint\u001b[0m\u001b[0;34m(\u001b[0m\u001b[0mr\u001b[0m\u001b[0;34m)\u001b[0m\u001b[0;34m\u001b[0m\u001b[0;34m\u001b[0m\u001b[0m\n\u001b[1;32m    334\u001b[0m         \u001b[0;32mif\u001b[0m \u001b[0;32mnot\u001b[0m \u001b[0mi\u001b[0m\u001b[0;34m:\u001b[0m\u001b[0;34m\u001b[0m\u001b[0;34m\u001b[0m\u001b[0m\n",
      "\u001b[0;31mTypeError\u001b[0m: can't convert -oo to int"
     ]
    }
   ],
   "source": [
    "Eq(Integral(1/(1+t**2)*1/(1+tan(t)),(t,0,tau)),\n",
    "   - 8*Sum(integrate((1/(-t+pi*n-pi/4)),(t,0,tau))/(pi**2*(4*n-1)**2 + 16), (n,-oo,oo))\n",
    "    - integrate(t/(t**2+1),(t,0,tau))*tanh(2)/2 + (1 + 1/cosh(2))*integrate(1/(t**2+1),(t,0,tau))/2\n",
    ").subs(tau,pi/2)"
   ]
  },
  {
   "cell_type": "code",
   "execution_count": 141,
   "metadata": {},
   "outputs": [
    {
     "data": {
      "text/latex": [
       "$\\displaystyle \\frac{\\tau \\tanh{\\left(2 \\right)}}{2 \\left(\\tau^{2} + 1\\right)} - \\frac{\\frac{1}{\\cosh{\\left(2 \\right)}} + 1}{2 \\left(\\tau^{2} + 1\\right)} + \\frac{1}{\\left(\\tau^{2} + 1\\right) \\left(\\tan{\\left(\\tau \\right)} + 1\\right)} = - 8 \\sum_{n=-\\infty}^{\\infty} \\frac{1}{\\left(\\pi^{2} \\left(4 n - 1\\right)^{2} + 16\\right) \\left(\\pi n - \\tau - \\frac{\\pi}{4}\\right)}$"
      ],
      "text/plain": [
       "Eq(tau*tanh(2)/(2*(tau**2 + 1)) - (1/cosh(2) + 1)/(2*(tau**2 + 1)) + 1/((tau**2 + 1)*(tan(tau) + 1)), -8*Sum(1/((pi**2*(4*n - 1)**2 + 16)*(pi*n - tau - pi/4)), (n, -oo, oo)))"
      ]
     },
     "execution_count": 141,
     "metadata": {},
     "output_type": "execute_result"
    }
   ],
   "source": [
    "Eq(1/(1+tau**2)*1/(1+tan(tau)) - (- tau/(tau**2+1)*tanh(2)/2 + (1 + 1/cosh(2))*1/(tau**2+1)/2),\n",
    "   - 8*Sum((1/(-tau+pi*n-pi/4))/(pi**2*(4*n-1)**2 + 16), (n,-oo,oo))\n",
    ")"
   ]
  },
  {
   "cell_type": "code",
   "execution_count": 143,
   "metadata": {},
   "outputs": [
    {
     "data": {
      "text/latex": [
       "$\\displaystyle \\frac{\\tau \\tanh{\\left(2 \\right)}}{2 \\left(\\tau^{2} + 1\\right)} - \\frac{\\frac{1}{\\cosh{\\left(2 \\right)}} + 1}{2 \\left(\\tau^{2} + 1\\right)} + \\frac{1}{\\left(\\tau^{2} + 1\\right) \\left(\\tan{\\left(\\tau \\right)} + 1\\right)} = - 8 \\sum_{n=-\\infty}^{\\infty} \\frac{1}{\\left(\\pi^{2} \\left(4 n - 1\\right)^{2} + 16\\right) \\left(\\pi n - \\tau - \\frac{\\pi}{4}\\right)}$"
      ],
      "text/plain": [
       "Eq(tau*tanh(2)/(2*(tau**2 + 1)) - (1/cosh(2) + 1)/(2*(tau**2 + 1)) + 1/((tau**2 + 1)*(tan(tau) + 1)), -8*Sum(1/((pi**2*(4*n - 1)**2 + 16)*(pi*n - tau - pi/4)), (n, -oo, oo)))"
      ]
     },
     "execution_count": 143,
     "metadata": {},
     "output_type": "execute_result"
    }
   ],
   "source": [
    "Eq((1/(1+tau**2)*1/(1+tan(tau)) - (- tau/(tau**2+1)*tanh(2)/2 + (1 + 1/cosh(2))*1/(tau**2+1)/2)),\n",
    "   - 8*Sum((1/(-tau+pi*n-pi/4))/(pi**2*(4*n-1)**2 + 16), (n,-oo,oo))\n",
    ")"
   ]
  },
  {
   "cell_type": "code",
   "execution_count": 152,
   "metadata": {},
   "outputs": [],
   "source": [
    "f1 = (1/(1+tau**2)*1/(1+tan(tau)) - (- tau/(tau**2+1)*tanh(2)/2 + (1 + 1/cosh(2))*1/(tau**2+1)/2))\n",
    "f2 = - 8*Sum((1/(-tau+pi*n-pi/4))/(pi**2*(4*n-1)**2 + 16), (n,-100,100)).doit()"
   ]
  },
  {
   "cell_type": "code",
   "execution_count": 155,
   "metadata": {},
   "outputs": [
    {
     "data": {
      "image/png": "[encoded data removed]",
      "text/plain": [
       "<Figure size 432x288 with 1 Axes>"
      ]
     },
     "metadata": {
      "needs_background": "light"
     },
     "output_type": "display_data"
    },
    {
     "data": {
      "text/plain": [
       "<sympy.plotting.plot.Plot at 0x7f028c266a60>"
      ]
     },
     "execution_count": 155,
     "metadata": {},
     "output_type": "execute_result"
    }
   ],
   "source": [
    "plot(f1, f2, (tau, 0, pi/2))"
   ]
  },
  {
   "cell_type": "code",
   "execution_count": 156,
   "metadata": {},
   "outputs": [],
   "source": [
    "q = Function(\"q\")"
   ]
  },
  {
   "cell_type": "code",
   "execution_count": 158,
   "metadata": {},
   "outputs": [
    {
     "data": {
      "text/latex": [
       "$\\displaystyle q{\\left(n \\right)} = \\pi n - \\frac{\\pi}{4}$"
      ],
      "text/plain": [
       "Eq(q(n), pi*n - pi/4)"
      ]
     },
     "execution_count": 158,
     "metadata": {},
     "output_type": "execute_result"
    }
   ],
   "source": [
    "Eq(q(n), pi*n- pi/4)"
   ]
  },
  {
   "cell_type": "code",
   "execution_count": 159,
   "metadata": {},
   "outputs": [
    {
     "data": {
      "text/latex": [
       "$\\displaystyle \\frac{\\tau \\tanh{\\left(2 \\right)}}{2 \\left(\\tau^{2} + 1\\right)} - \\frac{\\frac{1}{\\cosh{\\left(2 \\right)}} + 1}{2 \\left(\\tau^{2} + 1\\right)} + \\frac{1}{\\left(\\tau^{2} + 1\\right) \\left(\\tan{\\left(\\tau \\right)} + 1\\right)} = - 8 \\sum_{n=-\\infty}^{\\infty} \\frac{1}{\\left(\\pi^{2} \\left(4 n - 1\\right)^{2} + 16\\right) \\left(\\pi n - \\tau - \\frac{\\pi}{4}\\right)}$"
      ],
      "text/plain": [
       "Eq(tau*tanh(2)/(2*(tau**2 + 1)) - (1/cosh(2) + 1)/(2*(tau**2 + 1)) + 1/((tau**2 + 1)*(tan(tau) + 1)), -8*Sum(1/((pi**2*(4*n - 1)**2 + 16)*(pi*n - tau - pi/4)), (n, -oo, oo)))"
      ]
     },
     "execution_count": 159,
     "metadata": {},
     "output_type": "execute_result"
    }
   ],
   "source": [
    "Eq((1/(1+tau**2)*1/(1+tan(tau)) - (- tau/(tau**2+1)*tanh(2)/2 + (1 + 1/cosh(2))*1/(tau**2+1)/2)),\n",
    "   - 8*Sum((1/(-tau+pi*n-pi/4))/(pi**2*(4*n-1)**2 + 16), (n,-oo,oo))\n",
    ")"
   ]
  },
  {
   "cell_type": "code",
   "execution_count": 165,
   "metadata": {},
   "outputs": [
    {
     "data": {
      "text/latex": [
       "$\\displaystyle \\frac{\\tau \\tanh{\\left(2 \\right)} - 1 - \\frac{1}{\\cosh{\\left(2 \\right)}} + \\frac{2}{\\tan{\\left(\\tau \\right)} + 1}}{\\tau^{2} + 1} = - \\sum_{n=-\\infty}^{\\infty} \\frac{1}{\\left(- \\tau + q{\\left(n \\right)}\\right) \\left(q^{2}{\\left(n \\right)} + 1\\right)}$"
      ],
      "text/plain": [
       "Eq((tau*tanh(2) - 1 - 1/cosh(2) + 2/(tan(tau) + 1))/(tau**2 + 1), -Sum(1/((-tau + q(n))*(q(n)**2 + 1)), (n, -oo, oo)))"
      ]
     },
     "execution_count": 165,
     "metadata": {},
     "output_type": "execute_result"
    }
   ],
   "source": [
    "Eq(1/(1+tau**2)*(2/(1+tan(tau)) + tau*tanh(2) - 1 - 1/cosh(2)),\n",
    "   - Sum((1/(-tau+q(n)))/(q(n)**2 + 1), (n,-oo,oo))\n",
    ")"
   ]
  },
  {
   "cell_type": "code",
   "execution_count": 271,
   "metadata": {},
   "outputs": [
    {
     "data": {
      "text/latex": [
       "$\\displaystyle \\frac{\\tau \\tanh{\\left(2 \\right)} - 1 - \\frac{1}{\\cosh{\\left(2 \\right)}} + \\frac{2}{\\tan{\\left(\\tau \\right)} + 1}}{\\tau^{2} + 1} = - \\operatorname{im}{\\left(\\sum_{n=-\\infty}^{\\infty} \\frac{1}{\\left(- \\tau + q{\\left(n \\right)}\\right) \\left(q{\\left(n \\right)} - i\\right)}\\right)}$"
      ],
      "text/plain": [
       "Eq((tau*tanh(2) - 1 - 1/cosh(2) + 2/(tan(tau) + 1))/(tau**2 + 1), -im(Sum(1/((-tau + q(n))*(q(n) - I)), (n, -oo, oo))))"
      ]
     },
     "execution_count": 271,
     "metadata": {},
     "output_type": "execute_result"
    }
   ],
   "source": [
    "Eq(1/(1+tau**2)*(2/(1+tan(tau)) + tau*tanh(2) - 1 - 1/cosh(2)),\n",
    "   - im(Sum((1/(-tau+q(n)))/(q(n) - I), (n,-oo,oo)))\n",
    ")"
   ]
  },
  {
   "cell_type": "code",
   "execution_count": 275,
   "metadata": {},
   "outputs": [
    {
     "data": {
      "text/latex": [
       "$\\displaystyle \\frac{1}{\\left(- \\tau + q{\\left(n \\right)}\\right) \\left(q{\\left(n \\right)} - i\\right)} = - \\frac{1}{\\left(\\tau - i\\right) \\left(q{\\left(n \\right)} - i\\right)} + \\frac{1}{\\left(- \\tau + q{\\left(n \\right)}\\right) \\left(\\tau - i\\right)}$"
      ],
      "text/plain": [
       "Eq(1/((-tau + q(n))*(q(n) - I)), -1/((tau - I)*(q(n) - I)) + 1/((-tau + q(n))*(tau - I)))"
      ]
     },
     "execution_count": 275,
     "metadata": {},
     "output_type": "execute_result"
    }
   ],
   "source": [
    "Eq(1/(x-tau)/(x-I),apart(1/(x-tau)/(x-I),x)).subs(x,q(n))"
   ]
  },
  {
   "cell_type": "code",
   "execution_count": 168,
   "metadata": {},
   "outputs": [
    {
     "data": {
      "text/latex": [
       "$\\displaystyle \\frac{1}{\\left(- \\tau + x\\right) \\left(x^{2} + 1\\right)}$"
      ],
      "text/plain": [
       "1/((-tau + x)*(x**2 + 1))"
      ]
     },
     "execution_count": 168,
     "metadata": {},
     "output_type": "execute_result"
    }
   ],
   "source": [
    "(1/(-tau+x))/(x**2 + 1)"
   ]
  },
  {
   "cell_type": "code",
   "execution_count": 192,
   "metadata": {},
   "outputs": [
    {
     "data": {
      "text/latex": [
       "$\\displaystyle \\frac{\\alpha}{- \\tau + x} + \\frac{\\beta x}{x^{2} + 1} = \\frac{\\alpha \\tau x + \\alpha}{\\left(- \\tau + x\\right) \\left(x^{2} + 1\\right)}$"
      ],
      "text/plain": [
       "Eq(alpha/(-tau + x) + beta*x/(x**2 + 1), (alpha*tau*x + alpha)/((-tau + x)*(x**2 + 1)))"
      ]
     },
     "execution_count": 192,
     "metadata": {},
     "output_type": "execute_result"
    }
   ],
   "source": [
    "Eq(alpha/(-tau+x) + beta*x/(x**2 + 1),\n",
    "   (alpha*(x**2 + 1) -alpha*x*(-tau+x)).expand()/(-tau+x)/(x**2 + 1)\n",
    ")"
   ]
  },
  {
   "cell_type": "code",
   "execution_count": 193,
   "metadata": {},
   "outputs": [
    {
     "data": {
      "text/latex": [
       "$\\displaystyle \\int \\frac{\\operatorname{polygamma}{\\left(0,t \\right)}}{a + t}\\, dt$"
      ],
      "text/plain": [
       "Integral(polygamma(0, t)/(a + t), t)"
      ]
     },
     "execution_count": 193,
     "metadata": {},
     "output_type": "execute_result"
    }
   ],
   "source": [
    "integrate(digamma(t)/(t+a),t)"
   ]
  },
  {
   "cell_type": "code",
   "execution_count": 186,
   "metadata": {},
   "outputs": [
    {
     "data": {
      "text/latex": [
       "$\\displaystyle \\frac{i \\left(\\tau + i\\right)}{2 \\left(\\tau - q{\\left(n \\right)}\\right) \\left(q{\\left(n \\right)} + i\\right)}$"
      ],
      "text/plain": [
       "I*(tau + I)/(2*(tau - q(n))*(q(n) + I))"
      ]
     },
     "execution_count": 186,
     "metadata": {},
     "output_type": "execute_result"
    }
   ],
   "source": [
    "(I/(q(n)+I)/2 - I/(q(n)-tau)/2).simplify()"
   ]
  },
  {
   "cell_type": "code",
   "execution_count": 267,
   "metadata": {},
   "outputs": [
    {
     "data": {
      "text/latex": [
       "$\\displaystyle \\frac{1}{q^{2}{\\left(n \\right)} + 1} = \\frac{i}{2 \\left(q{\\left(n \\right)} + i\\right)} - \\frac{i}{2 \\left(q{\\left(n \\right)} - i\\right)}$"
      ],
      "text/plain": [
       "Eq(1/(q(n)**2 + 1), I/(2*(q(n) + I)) - I/(2*(q(n) - I)))"
      ]
     },
     "execution_count": 267,
     "metadata": {},
     "output_type": "execute_result"
    }
   ],
   "source": [
    "Eq(1/(q(n)**2+1), (I/(q(n)+I)/2 - I/(q(n)-I)/2))"
   ]
  },
  {
   "cell_type": "code",
   "execution_count": 270,
   "metadata": {},
   "outputs": [
    {
     "data": {
      "text/latex": [
       "$\\displaystyle \\frac{1}{1 + \\pi^{2}}$"
      ],
      "text/plain": [
       "1/(1 + pi**2)"
      ]
     },
     "execution_count": 270,
     "metadata": {},
     "output_type": "execute_result"
    }
   ],
   "source": [
    "im(1/(pi-I))"
   ]
  },
  {
   "cell_type": "code",
   "execution_count": 135,
   "metadata": {},
   "outputs": [
    {
     "data": {
      "text/latex": [
       "$\\displaystyle 1.32833262603535$"
      ],
      "text/plain": [
       "1.32833262603535"
      ]
     },
     "execution_count": 135,
     "metadata": {},
     "output_type": "execute_result"
    }
   ],
   "source": [
    "(- 8*Sum((1/(-tau+pi*n-pi/4))/(pi**2*(4*n-1)**2 + 16), (n,-200,200))\n",
    "    - tau/(tau**2+1)*tanh(2)/2 + (1 + 1/cosh(2))*1/(tau**2+1)/2).subs(tau,-0.3).evalf()"
   ]
  },
  {
   "cell_type": "code",
   "execution_count": 133,
   "metadata": {},
   "outputs": [
    {
     "data": {
      "text/latex": [
       "$\\displaystyle 1.32833262516239$"
      ],
      "text/plain": [
       "1.32833262516239"
      ]
     },
     "execution_count": 133,
     "metadata": {},
     "output_type": "execute_result"
    }
   ],
   "source": [
    "(1/(tau**2+1)/(tan(tau)+1)).subs(tau,-0.3).evalf()"
   ]
  },
  {
   "cell_type": "code",
   "execution_count": 137,
   "metadata": {},
   "outputs": [
    {
     "data": {
      "text/latex": [
       "$\\displaystyle \\sum_{n=-\\infty}^{\\infty} \\frac{1}{\\left(\\pi^{2} \\left(4 n - 1\\right)^{2} + 16\\right) \\left(\\pi n - \\tau - \\frac{\\pi}{4}\\right)}$"
      ],
      "text/plain": [
       "Sum(1/((pi**2*(4*n - 1)**2 + 16)*(pi*n - tau - pi/4)), (n, -oo, oo))"
      ]
     },
     "execution_count": 137,
     "metadata": {},
     "output_type": "execute_result"
    }
   ],
   "source": [
    "Sum((1/(-tau+pi*n-pi/4))/(pi**2*(4*n-1)**2 + 16), (n,-oo,oo)).doit()"
   ]
  },
  {
   "cell_type": "code",
   "execution_count": 138,
   "metadata": {},
   "outputs": [
    {
     "data": {
      "text/latex": [
       "$\\displaystyle \\log{\\left(- 4 \\pi n + \\pi \\right)} - \\log{\\left(- 4 \\pi n + 4 \\tau + \\pi \\right)}$"
      ],
      "text/plain": [
       "log(-4*pi*n + pi) - log(-4*pi*n + 4*tau + pi)"
      ]
     },
     "execution_count": 138,
     "metadata": {},
     "output_type": "execute_result"
    }
   ],
   "source": [
    "integrate(1/(-t+pi*n-pi/4),(t,0,tau))"
   ]
  },
  {
   "cell_type": "code",
   "execution_count": 183,
   "metadata": {},
   "outputs": [],
   "source": [
    "aa = 1\n",
    "if aa == 2 or aa == 3:\n",
    "    print(aa)"
   ]
  },
  {
   "cell_type": "markdown",
   "metadata": {},
   "source": [
    "## Evaluate Inverse FT of integral"
   ]
  },
  {
   "cell_type": "code",
   "execution_count": 194,
   "metadata": {},
   "outputs": [
    {
     "data": {
      "text/latex": [
       "$\\displaystyle f{\\left(\\tau \\right)} = - \\frac{i \\left(\\frac{1}{\\cosh{\\left(2 \\right)}} + 1\\right) \\int\\limits_{-\\infty}^{\\infty} \\frac{e^{- 2 \\pi \\left|{\\omega}\\right|} e^{2 i \\pi \\omega \\tau}}{\\omega}\\, d\\omega}{4} + \\frac{\\tanh{\\left(2 \\right)} \\int\\limits_{-\\infty}^{\\infty} \\frac{e^{- 2 \\pi \\left|{\\omega}\\right|} e^{2 i \\pi \\omega \\tau}}{\\left|{\\omega}\\right|}\\, d\\omega}{4} - \\sum_{n=-\\infty}^{\\infty} \\frac{4 \\int\\limits_{-\\infty}^{\\infty} \\frac{e^{2 i \\pi \\omega \\tau} e^{- 2 i \\pi \\omega \\left(\\pi n - \\frac{\\pi}{4}\\right)}}{\\left|{\\omega}\\right|}\\, d\\omega}{\\pi^{2} \\left(4 n - 1\\right)^{2} + 16}$"
      ],
      "text/plain": [
       "Eq(f(tau), -I*(1/cosh(2) + 1)*Integral(exp(-2*pi*Abs(omega))*exp(2*I*pi*omega*tau)/omega, (omega, -oo, oo))/4 + tanh(2)*Integral(exp(-2*pi*Abs(omega))*exp(2*I*pi*omega*tau)/Abs(omega), (omega, -oo, oo))/4 - Sum(4*Integral(exp(2*I*pi*omega*tau)*exp(-2*I*pi*omega*(pi*n - pi/4))/Abs(omega), (omega, -oo, oo))/(pi**2*(4*n - 1)**2 + 16), (n, -oo, oo)))"
      ]
     },
     "execution_count": 194,
     "metadata": {},
     "output_type": "execute_result"
    }
   ],
   "source": [
    "Eq(f(tau),\n",
    "- Sum(4/(pi**2*(4*n-1)**2 + 16)*Integral(exp(-2*I*pi*omega*(pi*n-pi/4))/abs(omega)*exp(2*I*pi*omega*tau),(omega,-oo,oo)), (n,-oo,oo))\n",
    "+ tanh(2)/4*Integral(exp(-2*pi*abs(omega))/abs(omega)*exp(2*I*pi*omega*tau),(omega,-oo,oo))\n",
    "-I*(1 + 1/cosh(2))/4*Integral(exp(-2*pi*abs(omega))/omega*exp(2*I*pi*omega*tau),(omega,-oo,oo))\n",
    ")"
   ]
  },
  {
   "cell_type": "code",
   "execution_count": 195,
   "metadata": {},
   "outputs": [
    {
     "data": {
      "text/latex": [
       "$\\displaystyle f{\\left(0 \\right)} = - \\sum_{n=-\\infty}^{\\infty} \\frac{4 \\int\\limits_{-\\infty}^{\\infty} \\frac{e^{- 2 i \\pi \\omega \\left(\\pi n - \\frac{\\pi}{4}\\right)}}{\\left|{\\omega}\\right|}\\, d\\omega}{\\pi^{2} \\left(4 n - 1\\right)^{2} + 16} + \\frac{\\tanh{\\left(2 \\right)} \\int\\limits_{-\\infty}^{\\infty} \\frac{e^{- 2 \\pi \\left|{\\omega}\\right|}}{\\left|{\\omega}\\right|}\\, d\\omega}{4} - \\frac{i \\left(\\frac{1}{\\cosh{\\left(2 \\right)}} + 1\\right) \\int\\limits_{-\\infty}^{\\infty} \\frac{e^{- 2 \\pi \\left|{\\omega}\\right|}}{\\omega}\\, d\\omega}{4}$"
      ],
      "text/plain": [
       "Eq(f(0), -Sum(4*Integral(exp(-2*I*pi*omega*(pi*n - pi/4))/Abs(omega), (omega, -oo, oo))/(pi**2*(4*n - 1)**2 + 16), (n, -oo, oo)) + tanh(2)*Integral(exp(-2*pi*Abs(omega))/Abs(omega), (omega, -oo, oo))/4 - I*(1/cosh(2) + 1)*Integral(exp(-2*pi*Abs(omega))/omega, (omega, -oo, oo))/4)"
      ]
     },
     "execution_count": 195,
     "metadata": {},
     "output_type": "execute_result"
    }
   ],
   "source": [
    "Eq(f(0),\n",
    "- Sum(4/(pi**2*(4*n-1)**2 + 16)*Integral(exp(-2*I*pi*omega*(pi*n-pi/4))/abs(omega),(omega,-oo,oo)), (n,-oo,oo))\n",
    "+ tanh(2)/4*Integral(exp(-2*pi*abs(omega))/abs(omega),(omega,-oo,oo))\n",
    "-I*(1 + 1/cosh(2))/4*Integral(exp(-2*pi*abs(omega))/omega,(omega,-oo,oo))\n",
    ")"
   ]
  },
  {
   "cell_type": "code",
   "execution_count": 252,
   "metadata": {},
   "outputs": [
    {
     "data": {
      "text/latex": [
       "$\\displaystyle -1.0 + 1.0 \\cdot 10^{-100} i$"
      ],
      "text/plain": [
       "-0.e+0 + 0.e-100*I"
      ]
     },
     "execution_count": 252,
     "metadata": {},
     "output_type": "execute_result"
    }
   ],
   "source": [
    "Integral(exp(-2*I*pi*omega*2)/abs(omega),(omega,-100,100)).evalf()"
   ]
  },
  {
   "cell_type": "code",
   "execution_count": 240,
   "metadata": {},
   "outputs": [
    {
     "data": {
      "text/latex": [
       "$\\displaystyle \\int\\limits_{0}^{\\tau} \\frac{1}{\\left(t^{2} + 1\\right) \\left(\\tan{\\left(t \\right)} + 1\\right)}\\, dt = - \\frac{\\log{\\left(\\tau^{2} + 1 \\right)} \\tanh{\\left(2 \\right)}}{4} + \\frac{\\left(\\frac{1}{\\cosh{\\left(2 \\right)}} + 1\\right) \\operatorname{atan}{\\left(\\tau \\right)}}{2} - 8 \\sum_{n=-\\infty}^{\\infty} \\frac{\\log{\\left(- 4 \\pi n + \\pi \\right)} - \\log{\\left(- 4 \\pi n + 4 \\tau + \\pi \\right)}}{\\pi^{2} \\left(4 n - 1\\right)^{2} + 16}$"
      ],
      "text/plain": [
       "Eq(Integral(1/((t**2 + 1)*(tan(t) + 1)), (t, 0, tau)), -log(tau**2 + 1)*tanh(2)/4 + (1/cosh(2) + 1)*atan(tau)/2 - 8*Sum((log(-4*pi*n + pi) - log(-4*pi*n + 4*tau + pi))/(pi**2*(4*n - 1)**2 + 16), (n, -oo, oo)))"
      ]
     },
     "execution_count": 240,
     "metadata": {},
     "output_type": "execute_result"
    }
   ],
   "source": [
    "Eq(Integral(1/(1+t**2)*1/(1+tan(t)),(t,0,tau)),\n",
    "   - 8*Sum(integrate((1/(-t+pi*n-pi/4)),(t,0,tau))/(pi**2*(4*n-1)**2 + 16), (n,-oo,oo))\n",
    "    - integrate(t/(t**2+1),(t,0,tau))*tanh(2)/2 + (1 + 1/cosh(2))*integrate(1/(t**2+1),(t,0,tau))/2\n",
    ")"
   ]
  },
  {
   "cell_type": "code",
   "execution_count": 197,
   "metadata": {},
   "outputs": [
    {
     "data": {
      "text/latex": [
       "$\\displaystyle \\tan{\\left(x \\right)} = \\sum_{n=0}^{\\infty} \\frac{2 x}{- x^{2} + \\pi^{2} \\left(n + 0.5\\right)^{2}}$"
      ],
      "text/plain": [
       "Eq(tan(x), Sum(2*x/(-x**2 + pi**2*(n + 0.5)**2), (n, 0, oo)))"
      ]
     },
     "execution_count": 197,
     "metadata": {},
     "output_type": "execute_result"
    }
   ],
   "source": [
    "Eq(tan(x), Sum(2*x/(pi**2*(n+1/2)**2-x**2),(n,0,oo)))"
   ]
  },
  {
   "cell_type": "code",
   "execution_count": 212,
   "metadata": {},
   "outputs": [
    {
     "data": {
      "text/latex": [
       "$\\displaystyle 0.729114729240969$"
      ],
      "text/plain": [
       "0.729114729240969"
      ]
     },
     "execution_count": 212,
     "metadata": {},
     "output_type": "execute_result"
    }
   ],
   "source": [
    "tan(x).subs(x,0.63)"
   ]
  },
  {
   "cell_type": "code",
   "execution_count": 213,
   "metadata": {},
   "outputs": [
    {
     "data": {
      "text/latex": [
       "$\\displaystyle 0.72783809125419$"
      ],
      "text/plain": [
       "0.727838091254190"
      ]
     },
     "execution_count": 213,
     "metadata": {},
     "output_type": "execute_result"
    }
   ],
   "source": [
    "Sum(2*x/(pi**2*(n+1/2)**2-x**2),(n,0,99)).doit().subs(x,0.63).evalf()"
   ]
  },
  {
   "cell_type": "code",
   "execution_count": 215,
   "metadata": {},
   "outputs": [
    {
     "data": {
      "text/latex": [
       "$\\displaystyle - \\log{\\left(\\cos{\\left(\\tau \\right)} \\right)} = \\sum_{n=0}^{\\infty} \\left(\\log{\\left(- 4 \\pi^{2} n^{2} - 4 \\pi^{2} n - \\pi^{2} \\right)} - \\log{\\left(- 4 \\pi^{2} n^{2} - 4 \\pi^{2} n + 4 \\tau^{2} - \\pi^{2} \\right)}\\right)$"
      ],
      "text/plain": [
       "Eq(-log(cos(tau)), Sum(log(-4*pi**2*n**2 - 4*pi**2*n - pi**2) - log(-4*pi**2*n**2 - 4*pi**2*n + 4*tau**2 - pi**2), (n, 0, oo)))"
      ]
     },
     "execution_count": 215,
     "metadata": {},
     "output_type": "execute_result"
    }
   ],
   "source": [
    "Eq(integrate(tan(x),(x,0,tau)), Sum(integrate(2*x/((pi*n+pi/2)**2-x**2),(x,0,tau)),(n,0,oo)))"
   ]
  },
  {
   "cell_type": "code",
   "execution_count": 266,
   "metadata": {},
   "outputs": [
    {
     "data": {
      "text/latex": [
       "$\\displaystyle \\int e^{i a t} \\tan{\\left(t \\right)}\\, dt$"
      ],
      "text/plain": [
       "Integral(exp(I*a*t)*tan(t), t)"
      ]
     },
     "execution_count": 266,
     "metadata": {},
     "output_type": "execute_result"
    }
   ],
   "source": [
    "integrate(tan(t)*exp(I*t*a),t)"
   ]
  },
  {
   "cell_type": "code",
   "execution_count": 263,
   "metadata": {},
   "outputs": [
    {
     "data": {
      "text/latex": [
       "$\\displaystyle \\left(\\begin{cases} \\frac{e^{a t} e^{i n t}}{a + i n} & \\text{for}\\: a \\neq - i n \\\\t & \\text{otherwise} \\end{cases}\\right) e^{i n x}$"
      ],
      "text/plain": [
       "Piecewise((exp(a*t)*exp(I*n*t)/(a + I*n), Ne(a, -I*n)), (t, True))*exp(I*n*x)"
      ]
     },
     "execution_count": 263,
     "metadata": {},
     "output_type": "execute_result"
    }
   ],
   "source": [
    "integrate(exp(I*n*(x+t)+t*a),t).doit()"
   ]
  },
  {
   "cell_type": "markdown",
   "metadata": {},
   "source": [
    "## Closed Form of Fourier Series"
   ]
  },
  {
   "cell_type": "code",
   "execution_count": 10,
   "metadata": {},
   "outputs": [],
   "source": [
    "coeff = Function(\"coeff\")"
   ]
  },
  {
   "cell_type": "code",
   "execution_count": 11,
   "metadata": {},
   "outputs": [
    {
     "data": {
      "text/latex": [
       "$\\displaystyle \\operatorname{coeff}{\\left(n \\right)} = \\frac{\\int\\limits_{0}^{R} f{\\left(x \\right)} e^{- \\frac{2 i \\pi n x}{R}}\\, dx}{R}$"
      ],
      "text/plain": [
       "Eq(coeff(n), Integral(f(x)*exp(-2*I*pi*n*x/R), (x, 0, R))/R)"
      ]
     },
     "execution_count": 11,
     "metadata": {},
     "output_type": "execute_result"
    }
   ],
   "source": [
    "Eq(coeff(n),1/R*Integral(f(x)*exp(-2*I*pi*x*n/R),(x,0,R)))"
   ]
  },
  {
   "cell_type": "code",
   "execution_count": 12,
   "metadata": {},
   "outputs": [
    {
     "data": {
      "text/latex": [
       "$\\displaystyle f{\\left(x \\right)} = \\sum_{n=-\\infty}^{\\infty} \\operatorname{coeff}{\\left(n \\right)} e^{\\frac{2 i \\pi n x}{R}}$"
      ],
      "text/plain": [
       "Eq(f(x), Sum(coeff(n)*exp(2*I*pi*n*x/R), (n, -oo, oo)))"
      ]
     },
     "execution_count": 12,
     "metadata": {},
     "output_type": "execute_result"
    }
   ],
   "source": [
    "Eq(f(x), Sum(coeff(n)*exp(2*I*pi*n*x/R),(n,-oo,oo)))"
   ]
  },
  {
   "cell_type": "markdown",
   "metadata": {},
   "source": [
    "### Example Test Function"
   ]
  },
  {
   "cell_type": "code",
   "execution_count": 13,
   "metadata": {},
   "outputs": [
    {
     "data": {
      "text/latex": [
       "$\\displaystyle f{\\left(x \\right)} = e^{\\theta x}$"
      ],
      "text/plain": [
       "Eq(f(x), exp(theta*x))"
      ]
     },
     "execution_count": 13,
     "metadata": {},
     "output_type": "execute_result"
    }
   ],
   "source": [
    "Eq(f(x),exp(theta*x))"
   ]
  },
  {
   "cell_type": "code",
   "execution_count": 14,
   "metadata": {},
   "outputs": [
    {
     "data": {
      "text/latex": [
       "$\\displaystyle \\operatorname{coeff}{\\left(n \\right)} = \\frac{\\int\\limits_{0}^{R} e^{\\theta x} e^{- \\frac{2 i \\pi n x}{R}}\\, dx}{R}$"
      ],
      "text/plain": [
       "Eq(coeff(n), Integral(exp(theta*x)*exp(-2*I*pi*n*x/R), (x, 0, R))/R)"
      ]
     },
     "execution_count": 14,
     "metadata": {},
     "output_type": "execute_result"
    }
   ],
   "source": [
    "Eq(coeff(n),1/R*Integral(exp(theta*x)*exp(-2*I*pi*x*n/R),(x,0,R)))"
   ]
  },
  {
   "cell_type": "code",
   "execution_count": 15,
   "metadata": {},
   "outputs": [
    {
     "data": {
      "text/latex": [
       "$\\displaystyle \\operatorname{coeff}{\\left(n \\right)} = \\frac{\\begin{cases} - \\frac{R e^{R \\theta}}{- R \\theta e^{2 i \\pi n} + 2 i \\pi n e^{2 i \\pi n}} + \\frac{R}{- R \\theta + 2 i \\pi n} & \\text{for}\\: \\theta \\neq \\frac{2 i \\pi n}{R} \\\\R & \\text{otherwise} \\end{cases}}{R}$"
      ],
      "text/plain": [
       "Eq(coeff(n), Piecewise((-R*exp(R*theta)/(-R*theta*exp(2*I*pi*n) + 2*I*pi*n*exp(2*I*pi*n)) + R/(-R*theta + 2*I*pi*n), Ne(theta, 2*I*pi*n/R)), (R, True))/R)"
      ]
     },
     "execution_count": 15,
     "metadata": {},
     "output_type": "execute_result"
    }
   ],
   "source": [
    "Eq(coeff(n),1/R*Integral(exp(theta*x)*exp(-2*I*pi*x*n/R),(x,0,R)).doit())"
   ]
  },
  {
   "cell_type": "code",
   "execution_count": 16,
   "metadata": {},
   "outputs": [
    {
     "data": {
      "text/latex": [
       "$\\displaystyle \\operatorname{coeff}{\\left(n \\right)} = \\frac{e^{R \\theta} - 1}{R \\theta - 2 i \\pi n}$"
      ],
      "text/plain": [
       "Eq(coeff(n), (exp(R*theta) - 1)/(R*theta - 2*I*pi*n))"
      ]
     },
     "execution_count": 16,
     "metadata": {},
     "output_type": "execute_result"
    }
   ],
   "source": [
    "Eq(coeff(n),(simplify((1/R*Integral(exp(theta*x)*exp(-2*I*pi*x*n/R),(x,0,R)).doit()).doit()).args[0][0]\n",
    " .subs([(exp(2*I*pi*n),1), (exp(-2*I*pi*n),1)])\n",
    ").simplify())"
   ]
  },
  {
   "cell_type": "code",
   "execution_count": 43,
   "metadata": {},
   "outputs": [
    {
     "data": {
      "text/latex": [
       "$\\displaystyle e^{\\theta x} = \\begin{cases} \\sum_{n=-\\infty}^{\\infty} \\frac{\\left(e^{R \\theta} - 1\\right) e^{\\frac{2 i \\pi n x}{R}}}{R \\theta - 2 i \\pi n} & \\text{for}\\: R > x \\wedge x > 0 \\end{cases}$"
      ],
      "text/plain": [
       "Eq(exp(theta*x), Piecewise((Sum((exp(R*theta) - 1)*exp(2*I*pi*n*x/R)/(R*theta - 2*I*pi*n), (n, -oo, oo)), (R > x) & (x > 0))))"
      ]
     },
     "execution_count": 43,
     "metadata": {},
     "output_type": "execute_result"
    }
   ],
   "source": [
    "Eq(exp(theta*x), Piecewise((Sum((exp(R*theta)-1 )/(R*theta-2*I*pi*n)*exp(2*I*pi*n*x/R),(n,-oo,oo)),And(x>0,x<R))))"
   ]
  },
  {
   "cell_type": "code",
   "execution_count": 48,
   "metadata": {
    "scrolled": true
   },
   "outputs": [
    {
     "data": {
      "text/latex": [
       "$\\displaystyle e^{\\theta x} = \\begin{cases} \\left(e^{R \\theta} - 1\\right) \\sum_{n=-\\infty}^{\\infty} \\frac{e^{\\frac{2 i \\pi n x}{R}}}{R \\theta - 2 i \\pi n} & \\text{for}\\: R > x \\wedge x > 0 \\end{cases}$"
      ],
      "text/plain": [
       "Eq(exp(theta*x), Piecewise(((exp(R*theta) - 1)*Sum(exp(2*I*pi*n*x/R)/(R*theta - 2*I*pi*n), (n, -oo, oo)), (R > x) & (x > 0))))"
      ]
     },
     "execution_count": 48,
     "metadata": {},
     "output_type": "execute_result"
    }
   ],
   "source": [
    "Eq(exp(theta*x), Piecewise(((exp(R*theta)-1)*Sum(1/(R*theta-2*I*pi*n)*exp(2*I*pi*n*x/R),(n,-oo,oo)),And(x>0,x<R))))"
   ]
  },
  {
   "cell_type": "code",
   "execution_count": 55,
   "metadata": {},
   "outputs": [
    {
     "data": {
      "text/latex": [
       "$\\displaystyle e^{\\theta x} = \\begin{cases} \\left(e^{R \\theta} - 1\\right) \\sum_{n=-\\infty}^{\\infty} \\frac{e^{- \\frac{2 i \\pi n x}{R}}}{R \\theta + 2 i \\pi n} & \\text{for}\\: R > x \\wedge x > 0 \\end{cases}$"
      ],
      "text/plain": [
       "Eq(exp(theta*x), Piecewise(((exp(R*theta) - 1)*Sum(exp(-2*I*pi*n*x/R)/(R*theta + 2*I*pi*n), (n, -oo, oo)), (R > x) & (x > 0))))"
      ]
     },
     "execution_count": 55,
     "metadata": {},
     "output_type": "execute_result"
    }
   ],
   "source": [
    "Eq(exp(theta*x), Piecewise(((exp(R*theta)-1)*Sum(1/(R*theta+2*I*pi*n)*exp(-2*I*pi*n*x/R),(n,-oo,oo)),And(x>0,x<R))))"
   ]
  },
  {
   "cell_type": "code",
   "execution_count": 53,
   "metadata": {},
   "outputs": [],
   "source": [
    "testSubs = [(R,3), (theta, 0.2), (N,10)]"
   ]
  },
  {
   "cell_type": "code",
   "execution_count": 115,
   "metadata": {},
   "outputs": [
    {
     "data": {
      "image/png": "[encoded data removed]",
      "text/plain": [
       "<Figure size 432x288 with 1 Axes>"
      ]
     },
     "metadata": {
      "needs_background": "light"
     },
     "output_type": "display_data"
    }
   ],
   "source": [
    "p = plot(\n",
    "    ((exp(R*theta)-1)*Sum(1/(R*theta+2*I*pi*n)*exp(-2*I*pi*n*x/R),(n,-N,N))).subs(testSubs),\n",
    "    (x,-6,6),line_color='b',show=False)\n",
    "\n",
    "p.extend(plot(\n",
    "    (exp(theta*x)).subs(testSubs),\n",
    "    (x,-6,6), line_color='r', show=False))\n",
    "\n",
    "p.show()"
   ]
  },
  {
   "cell_type": "markdown",
   "metadata": {},
   "source": [
    "### Reverse engineering the Fourier Series in Cloased Form"
   ]
  },
  {
   "cell_type": "code",
   "execution_count": 5,
   "metadata": {},
   "outputs": [
    {
     "data": {
      "text/latex": [
       "$\\displaystyle - 8 i \\pi \\sum_{n=-\\infty}^{\\infty} \\frac{e^{- 2 i \\pi \\omega \\left(\\pi n - \\frac{\\pi}{4}\\right)}}{\\pi^{2} \\left(4 n - 1\\right)^{2} + 16} = - \\frac{e^{\\frac{i \\pi^{2} \\omega}{2}} \\sum_{n=-\\infty}^{\\infty} \\frac{e^{- 2 i \\pi^{2} n \\omega}}{n - \\frac{1}{4} - \\frac{i}{\\pi}}}{4} + \\frac{e^{\\frac{i \\pi^{2} \\omega}{2}} \\sum_{n=-\\infty}^{\\infty} \\frac{e^{- 2 i \\pi^{2} n \\omega}}{n - \\frac{1}{4} + \\frac{i}{\\pi}}}{4}$"
      ],
      "text/plain": [
       "Eq(-8*I*pi*Sum(exp(-2*I*pi*omega*(pi*n - pi/4))/(pi**2*(4*n - 1)**2 + 16), (n, -oo, oo)), -exp(I*pi**2*omega/2)*Sum(exp(-2*I*pi**2*n*omega)/(n - 1/4 - I/pi), (n, -oo, oo))/4 + exp(I*pi**2*omega/2)*Sum(exp(-2*I*pi**2*n*omega)/(n - 1/4 + I/pi), (n, -oo, oo))/4)"
      ]
     },
     "execution_count": 5,
     "metadata": {},
     "output_type": "execute_result"
    }
   ],
   "source": [
    "Eq(-I*8*pi*Sum(exp(-2*I*pi*omega*(pi*n-pi/4))/(pi**2*(4*n-1)**2 + 16), (n,-oo,oo)),\n",
    "   exp(I*pi**2*omega/2)/4*Sum(exp(-2*I*pi**2*omega*n)/(n + (-1 + 4*I/pi)/4), (n,-oo,oo)) - \n",
    "   exp(I*pi**2*omega/2)/4*Sum(exp(-2*I*pi**2*omega*n)/(n + (-1 - 4*I/pi)/4), (n,-oo,oo))\n",
    "  )"
   ]
  },
  {
   "cell_type": "code",
   "execution_count": 116,
   "metadata": {},
   "outputs": [
    {
     "data": {
      "text/latex": [
       "$\\displaystyle \\frac{2 i \\pi e^{\\frac{\\pi \\omega \\left(4 - i \\pi\\right)}{2}}}{1 + i e^{2}} = - \\begin{cases} \\sum_{n=-\\infty}^{\\infty} \\frac{e^{- 2 i \\pi^{2} n \\omega}}{n - \\frac{1}{4} - \\frac{i}{\\pi}} & \\text{for}\\: \\omega > 0 \\wedge \\omega < \\frac{1}{\\pi} \\end{cases}$"
      ],
      "text/plain": [
       "Eq(2*I*pi*exp(pi*omega*(4 - I*pi)/2)/(1 + I*exp(2)), -Piecewise((Sum(exp(-2*I*pi**2*n*omega)/(n - 1/4 - I/pi), (n, -oo, oo)), (omega > 0) & (omega < 1/pi))))"
      ]
     },
     "execution_count": 116,
     "metadata": {},
     "output_type": "execute_result"
    }
   ],
   "source": [
    "Eq(\n",
    "    2*I*pi*exp(theta*x)/(exp(R*theta)-1), \n",
    "    Piecewise((Sum(1/(R*theta/(2*I*pi)+n)*exp(-2*I*pi*n*x/R),(n,-oo,oo)),And(x>0,x<R)))\n",
    ").subs([(R,1/pi),(x,omega),(theta,pi*(4 - I*pi)/2)]).simplify()"
   ]
  },
  {
   "cell_type": "code",
   "execution_count": 118,
   "metadata": {},
   "outputs": [
    {
     "data": {
      "text/latex": [
       "$\\displaystyle \\frac{2 i \\pi e^{- \\frac{\\pi \\omega \\left(4 + i \\pi\\right)}{2}}}{1 + \\frac{i}{e^{2}}} = - \\begin{cases} \\sum_{n=-\\infty}^{\\infty} \\frac{e^{- 2 i \\pi^{2} n \\omega}}{n - \\frac{1}{4} + \\frac{i}{\\pi}} & \\text{for}\\: \\omega > 0 \\wedge \\omega < \\frac{1}{\\pi} \\end{cases}$"
      ],
      "text/plain": [
       "Eq(2*I*pi*exp(-pi*omega*(4 + I*pi)/2)/(1 + I*exp(-2)), -Piecewise((Sum(exp(-2*I*pi**2*n*omega)/(n - 1/4 + I/pi), (n, -oo, oo)), (omega > 0) & (omega < 1/pi))))"
      ]
     },
     "execution_count": 118,
     "metadata": {},
     "output_type": "execute_result"
    }
   ],
   "source": [
    "Eq(\n",
    "    2*I*pi/(exp(R*theta)-1)*exp(theta*x), \n",
    "    Piecewise((Sum(1/(R*theta/(2*I*pi)+n)*exp(-2*I*pi*n*x/R),(n,-oo,oo)),And(x>0,x<R)))\n",
    ").subs([(R,1/pi),(x,omega),(theta,-pi*(4 + I*pi)/2)]).simplify()"
   ]
  },
  {
   "cell_type": "code",
   "execution_count": 18,
   "metadata": {},
   "outputs": [
    {
     "data": {
      "text/latex": [
       "$\\displaystyle - \\sum_{n=-\\infty}^{\\infty} \\frac{e^{- 2 i \\pi^{2} n \\omega}}{n - \\frac{1}{4} - \\frac{i}{\\pi}} + \\sum_{n=-\\infty}^{\\infty} \\frac{e^{- 2 i \\pi^{2} n \\omega}}{n - \\frac{1}{4} + \\frac{i}{\\pi}} = \\begin{cases} 2 i \\pi \\left(\\frac{e^{2 \\pi \\omega}}{1 + i e^{2}} - \\frac{e^{- 2 \\pi \\omega}}{1 + \\frac{i}{e^{2}}}\\right) e^{- \\frac{i \\pi^{2} \\omega}{2}} & \\text{for}\\: \\omega > 0 \\wedge \\omega < \\frac{1}{\\pi} \\end{cases}$"
      ],
      "text/plain": [
       "Eq(-Sum(exp(-2*I*pi**2*n*omega)/(n - 1/4 - I/pi), (n, -oo, oo)) + Sum(exp(-2*I*pi**2*n*omega)/(n - 1/4 + I/pi), (n, -oo, oo)), Piecewise((2*I*pi*(exp(2*pi*omega)/(1 + I*exp(2)) - exp(-2*pi*omega)/(1 + I*exp(-2)))*exp(-I*pi**2*omega/2), (omega > 0) & (omega < 1/pi))))"
      ]
     },
     "execution_count": 18,
     "metadata": {},
     "output_type": "execute_result"
    }
   ],
   "source": [
    "Eq(\n",
    "    - Sum(exp(-2*I*pi**2*omega*n)/(n + (-1 - 4*I/pi)/4), (n,-oo,oo))\n",
    "    + Sum(exp(-2*I*pi**2*omega*n)/(n + (-1 + 4*I/pi)/4), (n,-oo,oo)),\n",
    "    Piecewise((\n",
    "        2*I*pi*exp(-I*pi**2*omega/2)*(exp(2*pi*omega)/(1+I*exp(2)) - exp(-2*pi*omega)/(1+I*exp(-2))),\n",
    "        And(omega>0,omega<1/pi)\n",
    "    ))\n",
    ")"
   ]
  },
  {
   "cell_type": "code",
   "execution_count": 53,
   "metadata": {},
   "outputs": [
    {
     "data": {
      "text/latex": [
       "$\\displaystyle \\sum_{n=-\\infty}^{\\infty} - \\frac{32 i \\pi e^{- 2 i \\pi^{2} n \\omega}}{\\pi^{2} \\left(4 n - 1\\right)^{2} + 16} = \\begin{cases} 2 i \\pi \\left(\\frac{e^{2 \\pi \\omega}}{1 + i e^{2}} - \\frac{e^{- 2 \\pi \\omega}}{1 + \\frac{i}{e^{2}}}\\right) e^{- \\frac{i \\pi^{2} \\omega}{2}} & \\text{for}\\: \\omega > 0 \\wedge \\omega < \\frac{1}{\\pi} \\end{cases}$"
      ],
      "text/plain": [
       "Eq(Sum(-32*I*pi*exp(-2*I*pi**2*n*omega)/(pi**2*(4*n - 1)**2 + 16), (n, -oo, oo)), Piecewise((2*I*pi*(exp(2*pi*omega)/(1 + I*exp(2)) - exp(-2*pi*omega)/(1 + I*exp(-2)))*exp(-I*pi**2*omega/2), (omega > 0) & (omega < 1/pi))))"
      ]
     },
     "execution_count": 53,
     "metadata": {},
     "output_type": "execute_result"
    }
   ],
   "source": [
    "Eq(\n",
    "    Sum(-pi*2*16*I*exp(-2*I*pi**2*omega*n)/(pi**2*(4*n-1)**2 - 16*(I)**2), (n,-oo,oo)),\n",
    "    Piecewise((\n",
    "        2*I*pi*exp(-I*pi**2*omega/2)*(exp(2*pi*omega)/(1+I*exp(2)) - exp(-2*pi*omega)/(1+I*exp(-2))),\n",
    "        And(omega>0,omega<1/pi)\n",
    "    ))\n",
    ")"
   ]
  },
  {
   "cell_type": "code",
   "execution_count": 25,
   "metadata": {},
   "outputs": [
    {
     "name": "stderr",
     "output_type": "stream",
     "text": [
      "/home/grahamhesketh/.local/lib/python3.8/site-packages/sympy/plotting/experimental_lambdify.py:192: UserWarning: The evaluation of the expression is problematic. We are trying a failback method that may still work. Please report this as a bug.\n",
      "  warnings.warn(\n"
     ]
    },
    {
     "data": {
      "image/png": "[encoded data removed]",
      "text/plain": [
       "<Figure size 432x288 with 1 Axes>"
      ]
     },
     "metadata": {
      "needs_background": "light"
     },
     "output_type": "display_data"
    }
   ],
   "source": [
    "p = plot(\n",
    "    im(Sum(exp(-2*I*pi**2*omega*n)*(1/(n-(1-I*4/pi)/4)-1/(n-(1+I*4/pi)/4)), (n,-N,N))).subs(N,10),\n",
    "    (omega,0,1/pi),line_color='b',show=False)\n",
    "\n",
    "p.extend(plot(\n",
    "    im(2*I*pi*exp(-I*pi**2*omega/2)*(exp(2*pi*omega)/(1+I*exp(2)) - exp(-2*pi*omega)/(1+I*exp(-2)))),\n",
    "    (omega,0,1/pi), line_color='r', show=False))\n",
    "\n",
    "p.show()"
   ]
  },
  {
   "cell_type": "code",
   "execution_count": 26,
   "metadata": {},
   "outputs": [
    {
     "data": {
      "image/png": "[encoded data removed]",
      "text/plain": [
       "<Figure size 432x288 with 1 Axes>"
      ]
     },
     "metadata": {
      "needs_background": "light"
     },
     "output_type": "display_data"
    }
   ],
   "source": [
    "p = plot(\n",
    "    re(Sum(exp(-2*I*pi**2*omega*n)*(1/(n-(1-I*4/pi)/4)-1/(n-(1+I*4/pi)/4)), (n,-N,N))).subs(N,10),\n",
    "    (omega,0,1/pi),line_color='b',show=False)\n",
    "\n",
    "p.extend(plot(\n",
    "    re(2*I*pi*exp(-I*pi**2*omega/2)*(exp(2*pi*omega)/(1+I*exp(2)) - exp(-2*pi*omega)/(1+I*exp(-2)))),\n",
    "    (omega,0,1/pi), line_color='r', show=False))\n",
    "\n",
    "p.show()"
   ]
  },
  {
   "cell_type": "code",
   "execution_count": 20,
   "metadata": {},
   "outputs": [
    {
     "data": {
      "text/latex": [
       "$\\displaystyle - 2 i \\pi \\tanh{\\left(2 \\right)}$"
      ],
      "text/plain": [
       "-2*I*pi*tanh(2)"
      ]
     },
     "execution_count": 20,
     "metadata": {},
     "output_type": "execute_result"
    }
   ],
   "source": [
    "(2*I*pi*exp(-I*pi**2*omega/2)*(exp(2*pi*omega)/(1+I*exp(2)) - exp(-2*pi*omega)/(1+I*exp(-2)))).subs(omega,0).simplify()"
   ]
  },
  {
   "cell_type": "code",
   "execution_count": 23,
   "metadata": {},
   "outputs": [
    {
     "data": {
      "text/latex": [
       "$\\displaystyle - 6.04449494514618 i$"
      ],
      "text/plain": [
       "-6.04449494514618*I"
      ]
     },
     "execution_count": 23,
     "metadata": {},
     "output_type": "execute_result"
    }
   ],
   "source": [
    "Sum((1/(n + (-1 + 4*I/pi)/4)-1/(n + (-1 - 4*I/pi)/4)).simplify(), (n,-100,100)).evalf()"
   ]
  },
  {
   "cell_type": "code",
   "execution_count": 24,
   "metadata": {},
   "outputs": [
    {
     "data": {
      "text/latex": [
       "$\\displaystyle - 6.05716392684826 i$"
      ],
      "text/plain": [
       "-6.05716392684826*I"
      ]
     },
     "execution_count": 24,
     "metadata": {},
     "output_type": "execute_result"
    }
   ],
   "source": [
    "(-2*I*pi*tanh(2)).evalf()"
   ]
  },
  {
   "cell_type": "markdown",
   "metadata": {},
   "source": [
    "## Convolution Integral"
   ]
  },
  {
   "cell_type": "code",
   "execution_count": 10,
   "metadata": {},
   "outputs": [
    {
     "data": {
      "text/latex": [
       "$\\displaystyle F{\\left(\\omega \\right)} = - \\sum_{n=-\\infty}^{\\infty} \\frac{4 e^{- 2 i \\pi \\omega \\left(\\pi n - \\frac{\\pi}{4}\\right)}}{\\left(\\pi^{2} \\left(4 n - 1\\right)^{2} + 16\\right) \\left|{\\omega}\\right|} + \\frac{e^{- 2 \\pi \\left|{\\omega}\\right|} \\tanh{\\left(2 \\right)}}{4 \\left|{\\omega}\\right|} - \\frac{i \\left(\\frac{1}{\\cosh{\\left(2 \\right)}} + 1\\right) e^{- 2 \\pi \\left|{\\omega}\\right|}}{4 \\omega}$"
      ],
      "text/plain": [
       "Eq(F(omega), -Sum(4*exp(-2*I*pi*omega*(pi*n - pi/4))/((pi**2*(4*n - 1)**2 + 16)*Abs(omega)), (n, -oo, oo)) + exp(-2*pi*Abs(omega))*tanh(2)/(4*Abs(omega)) - I*(1/cosh(2) + 1)*exp(-2*pi*Abs(omega))/(4*omega))"
      ]
     },
     "execution_count": 10,
     "metadata": {},
     "output_type": "execute_result"
    }
   ],
   "source": [
    "Eq(F(omega),\n",
    "    - Sum(4/abs(omega)*exp(-2*I*pi*omega*(pi*n-pi/4))/(pi**2*(4*n-1)**2 + 16), (n,-oo,oo))\n",
    "    + 1/(4*abs(omega))*exp(-2*pi*abs(omega))*tanh(2)\n",
    "    -I/(4*omega)*(1 + 1/cosh(2))*exp(-2*pi*abs(omega))\n",
    ")"
   ]
  },
  {
   "cell_type": "code",
   "execution_count": 8,
   "metadata": {},
   "outputs": [],
   "source": [
    "F1 = Function(\"F1\")\n",
    "F2 = Function(\"F2\")\n",
    "F3 = Function(\"F3\")"
   ]
  },
  {
   "cell_type": "code",
   "execution_count": 28,
   "metadata": {},
   "outputs": [
    {
     "data": {
      "text/latex": [
       "$\\displaystyle \\operatorname{F_{1}}{\\left(\\omega \\right)} = - \\frac{e^{\\frac{i \\pi^{2} \\omega}{2}} \\sum_{n=-\\infty}^{\\infty} \\frac{4 e^{- 2 i \\pi^{2} n \\omega}}{\\pi^{2} \\left(4 n - 1\\right)^{2} + 16}}{\\left|{\\omega}\\right|}$"
      ],
      "text/plain": [
       "Eq(F1(omega), -exp(I*pi**2*omega/2)*Sum(4*exp(-2*I*pi**2*n*omega)/(pi**2*(4*n - 1)**2 + 16), (n, -oo, oo))/Abs(omega))"
      ]
     },
     "execution_count": 28,
     "metadata": {},
     "output_type": "execute_result"
    }
   ],
   "source": [
    "Eq(F1(omega), - exp(2*I*pi*omega*pi/4)/abs(omega)*Sum(4*exp(-2*I*pi*omega*pi*n)/(pi**2*(4*n-1)**2 + 16), (n,-oo,oo)))"
   ]
  },
  {
   "cell_type": "code",
   "execution_count": 27,
   "metadata": {},
   "outputs": [
    {
     "data": {
      "text/latex": [
       "$\\displaystyle - \\sum_{n=-\\infty}^{\\infty} \\frac{4 e^{- 2 i \\pi^{2} n \\omega}}{\\pi^{2} \\left(4 n - 1\\right)^{2} + 16} = \\begin{cases} \\left(\\frac{e^{2 \\pi \\omega}}{4 \\left(1 + i e^{2}\\right)} - \\frac{e^{- 2 \\pi \\omega}}{4 \\left(1 + \\frac{i}{e^{2}}\\right)}\\right) e^{- \\frac{i \\pi^{2} \\omega}{2}} & \\text{for}\\: \\omega > 0 \\wedge \\omega < \\frac{1}{\\pi} \\end{cases}$"
      ],
      "text/plain": [
       "Eq(-Sum(4*exp(-2*I*pi**2*n*omega)/(pi**2*(4*n - 1)**2 + 16), (n, -oo, oo)), Piecewise(((exp(2*pi*omega)/(4*(1 + I*exp(2))) - exp(-2*pi*omega)/(4*(1 + I*exp(-2))))*exp(-I*pi**2*omega/2), (omega > 0) & (omega < 1/pi))))"
      ]
     },
     "execution_count": 27,
     "metadata": {},
     "output_type": "execute_result"
    }
   ],
   "source": [
    "Eq(\n",
    "    -Sum(4*exp(-2*I*pi**2*omega*n)/(pi**2*(4*n-1)**2 - 16*(I)**2), (n,-oo,oo)),\n",
    "    Piecewise((\n",
    "        exp(-I*pi**2*omega/2)*(exp(2*pi*omega)/(1+I*exp(2))/4 - exp(-2*pi*omega)/(1+I*exp(-2))/4),\n",
    "        And(omega>0,omega<1/pi)\n",
    "    ))\n",
    ")"
   ]
  },
  {
   "cell_type": "code",
   "execution_count": 20,
   "metadata": {},
   "outputs": [
    {
     "data": {
      "text/latex": [
       "$\\displaystyle \\operatorname{F_{2}}{\\left(\\omega \\right)} = \\frac{e^{- 2 \\pi \\left|{\\omega}\\right|} \\tanh{\\left(2 \\right)}}{4 \\left|{\\omega}\\right|}$"
      ],
      "text/plain": [
       "Eq(F2(omega), exp(-2*pi*Abs(omega))*tanh(2)/(4*Abs(omega)))"
      ]
     },
     "execution_count": 20,
     "metadata": {},
     "output_type": "execute_result"
    }
   ],
   "source": [
    "Eq(F2(omega), 1/(4*abs(omega))*exp(-2*pi*abs(omega))*tanh(2))"
   ]
  },
  {
   "cell_type": "code",
   "execution_count": 21,
   "metadata": {},
   "outputs": [
    {
     "data": {
      "text/latex": [
       "$\\displaystyle \\operatorname{F_{3}}{\\left(\\omega \\right)} = - \\frac{i \\left(\\frac{1}{\\cosh{\\left(2 \\right)}} + 1\\right) e^{- 2 \\pi \\left|{\\omega}\\right|}}{4 \\omega}$"
      ],
      "text/plain": [
       "Eq(F3(omega), -I*(1/cosh(2) + 1)*exp(-2*pi*Abs(omega))/(4*omega))"
      ]
     },
     "execution_count": 21,
     "metadata": {},
     "output_type": "execute_result"
    }
   ],
   "source": [
    "Eq(F3(omega), -I/(4*omega)*(1 + 1/cosh(2))*exp(-2*pi*abs(omega)))"
   ]
  },
  {
   "cell_type": "code",
   "execution_count": 18,
   "metadata": {},
   "outputs": [
    {
     "data": {
      "text/latex": [
       "$\\displaystyle F{\\left(\\omega \\right)} = \\operatorname{F_{1}}{\\left(\\omega \\right)} + \\operatorname{F_{2}}{\\left(\\omega \\right)} + \\operatorname{F_{3}}{\\left(\\omega \\right)}$"
      ],
      "text/plain": [
       "Eq(F(omega), F1(omega) + F2(omega) + F3(omega))"
      ]
     },
     "execution_count": 18,
     "metadata": {},
     "output_type": "execute_result"
    }
   ],
   "source": [
    "Eq(F(omega), F1(omega) + F2(omega) + F3(omega))"
   ]
  },
  {
   "cell_type": "code",
   "execution_count": 7,
   "metadata": {},
   "outputs": [],
   "source": [
    "P = Function(\"P\")\n",
    "p = Function(\"p\")\n",
    "H = Function(\"H\")\n",
    "h = Function(\"h\")"
   ]
  },
  {
   "cell_type": "code",
   "execution_count": 30,
   "metadata": {},
   "outputs": [
    {
     "data": {
      "text/latex": [
       "$\\displaystyle P{\\left(\\nu \\right)} = \\int\\limits_{-\\infty}^{\\infty} F{\\left(\\omega \\right)} H{\\left(\\nu - \\omega \\right)}\\, d\\omega$"
      ],
      "text/plain": [
       "Eq(P(nu), Integral(F(omega)*H(nu - omega), (omega, -oo, oo)))"
      ]
     },
     "execution_count": 30,
     "metadata": {},
     "output_type": "execute_result"
    }
   ],
   "source": [
    "Eq(P(nu), Integral(F(omega)*H(nu-omega), (omega,-oo,oo)))"
   ]
  },
  {
   "cell_type": "code",
   "execution_count": 31,
   "metadata": {},
   "outputs": [
    {
     "data": {
      "text/latex": [
       "$\\displaystyle P{\\left(\\nu \\right)} = \\int\\limits_{-\\infty}^{\\infty} \\operatorname{F_{1}}{\\left(\\omega \\right)} H{\\left(\\nu - \\omega \\right)}\\, d\\omega + \\int\\limits_{-\\infty}^{\\infty} \\operatorname{F_{2}}{\\left(\\omega \\right)} H{\\left(\\nu - \\omega \\right)}\\, d\\omega + \\int\\limits_{-\\infty}^{\\infty} \\operatorname{F_{3}}{\\left(\\omega \\right)} H{\\left(\\nu - \\omega \\right)}\\, d\\omega$"
      ],
      "text/plain": [
       "Eq(P(nu), Integral(F1(omega)*H(nu - omega), (omega, -oo, oo)) + Integral(F2(omega)*H(nu - omega), (omega, -oo, oo)) + Integral(F3(omega)*H(nu - omega), (omega, -oo, oo)))"
      ]
     },
     "execution_count": 31,
     "metadata": {},
     "output_type": "execute_result"
    }
   ],
   "source": [
    "Eq(P(nu), \n",
    "   Integral(F1(omega)*H(nu-omega), (omega,-oo,oo)) + \n",
    "   Integral(F2(omega)*H(nu-omega), (omega,-oo,oo)) +\n",
    "   Integral(F3(omega)*H(nu-omega), (omega,-oo,oo))\n",
    ")"
   ]
  },
  {
   "cell_type": "code",
   "execution_count": 32,
   "metadata": {},
   "outputs": [
    {
     "data": {
      "text/latex": [
       "$\\displaystyle \\int\\limits_{-\\infty}^{\\infty} \\operatorname{F_{1}}{\\left(\\omega \\right)} H{\\left(\\nu - \\omega \\right)}\\, d\\omega = - \\int\\limits_{0}^{\\frac{1}{\\pi}} \\left(\\frac{e^{2 \\pi \\omega}}{4 \\left(1 + i e^{2}\\right)} - \\frac{e^{- 2 \\pi \\omega}}{4 \\left(1 + \\frac{i}{e^{2}}\\right)}\\right) e^{- \\frac{i \\pi^{2} \\omega}{2}} \\sum_{k=-\\infty}^{\\infty} \\frac{H{\\left(\\frac{k}{\\pi} + \\nu - \\omega \\right)} e^{\\frac{i \\pi^{2} \\left(- \\frac{k}{\\pi} + \\omega\\right)}{2}}}{\\left|{\\frac{k}{\\pi} - \\omega}\\right|}\\, d\\omega$"
      ],
      "text/plain": [
       "Eq(Integral(F1(omega)*H(nu - omega), (omega, -oo, oo)), -Integral((exp(2*pi*omega)/(4*(1 + I*exp(2))) - exp(-2*pi*omega)/(4*(1 + I*exp(-2))))*exp(-I*pi**2*omega/2)*Sum(H(k/pi + nu - omega)*exp(I*pi**2*(-k/pi + omega)/2)/Abs(k/pi - omega), (k, -oo, oo)), (omega, 0, 1/pi)))"
      ]
     },
     "execution_count": 32,
     "metadata": {},
     "output_type": "execute_result"
    }
   ],
   "source": [
    "Eq(\n",
    "    Integral(F1(omega)*H(nu-omega), (omega,-oo,oo)), \n",
    "    -Integral(\n",
    "        Sum((exp(2*I*pi*omega*pi/4)/abs(omega)*H(nu-omega)).subs(omega,omega-k/pi),(k,-oo,oo))*\n",
    "        exp(-I*pi**2*omega/2)*(exp(2*pi*omega)/(1+I*exp(2))/4 - exp(-2*pi*omega)/(1+I*exp(-2))/4)\n",
    "        ,(omega,0,1/pi)\n",
    "    )\n",
    ")"
   ]
  },
  {
   "cell_type": "code",
   "execution_count": 9,
   "metadata": {},
   "outputs": [
    {
     "data": {
      "text/latex": [
       "$\\displaystyle \\int\\limits_{-\\infty}^{\\infty} \\operatorname{F_{1}}{\\left(\\omega \\right)} H{\\left(\\nu - \\omega \\right)}\\, d\\omega = - \\int\\limits_{0}^{\\frac{1}{\\pi}} \\left(\\frac{e^{2 \\pi \\omega}}{4 \\left(1 + i e^{2}\\right)} - \\frac{e^{- 2 \\pi \\omega}}{4 \\left(1 + \\frac{i}{e^{2}}\\right)}\\right) \\sum_{k=-\\infty}^{\\infty} \\frac{H{\\left(\\frac{k}{\\pi} + \\nu - \\omega \\right)} e^{- \\frac{i \\pi k}{2}}}{\\left|{\\frac{k}{\\pi} - \\omega}\\right|}\\, d\\omega$"
      ],
      "text/plain": [
       "Eq(Integral(F1(omega)*H(nu - omega), (omega, -oo, oo)), -Integral((exp(2*pi*omega)/(4*(1 + I*exp(2))) - exp(-2*pi*omega)/(4*(1 + I*exp(-2))))*Sum(H(k/pi + nu - omega)*exp(-I*pi*k/2)/Abs(k/pi - omega), (k, -oo, oo)), (omega, 0, 1/pi)))"
      ]
     },
     "execution_count": 9,
     "metadata": {},
     "output_type": "execute_result"
    }
   ],
   "source": [
    "Eq(\n",
    "    Integral(F1(omega)*H(nu-omega), (omega,-oo,oo)), \n",
    "    -Integral(\n",
    "        Sum((exp(-I*pi*k/2)/abs(omega-k/pi)*H(nu-omega+k/pi)),(k,-oo,oo))*\n",
    "        (exp(2*pi*omega)/(1+I*exp(2))/4 - exp(-2*pi*omega)/(1+I*exp(-2))/4)\n",
    "        ,(omega,0,1/pi)\n",
    "    )\n",
    ")"
   ]
  },
  {
   "cell_type": "code",
   "execution_count": 10,
   "metadata": {},
   "outputs": [
    {
     "data": {
      "text/latex": [
       "$\\displaystyle \\int\\limits_{-\\infty}^{\\infty} \\operatorname{F_{1}}{\\left(\\omega \\right)} H{\\left(\\nu - \\omega \\right)}\\, d\\omega = - \\int\\limits_{0}^{\\frac{N}{\\pi}} \\left(\\frac{e^{2 \\pi \\omega}}{4 \\left(1 + i e^{2}\\right)} - \\frac{e^{- 2 \\pi \\omega}}{4 \\left(1 + \\frac{i}{e^{2}}\\right)}\\right) \\sum_{k=-\\infty}^{\\infty} \\frac{H{\\left(\\frac{k}{\\pi} + \\nu - \\omega \\right)} e^{- \\frac{i \\pi k}{2}}}{\\left|{\\frac{k}{\\pi} - \\omega}\\right|}\\, d\\omega + \\int\\limits_{\\frac{1}{\\pi}}^{\\frac{N}{\\pi}} \\left(\\frac{e^{2 \\pi \\omega}}{4 \\left(1 + i e^{2}\\right)} - \\frac{e^{- 2 \\pi \\omega}}{4 \\left(1 + \\frac{i}{e^{2}}\\right)}\\right) \\sum_{k=-\\infty}^{\\infty} \\frac{H{\\left(\\frac{k}{\\pi} + \\nu - \\omega \\right)} e^{- \\frac{i \\pi k}{2}}}{\\left|{\\frac{k}{\\pi} - \\omega}\\right|}\\, d\\omega$"
      ],
      "text/plain": [
       "Eq(Integral(F1(omega)*H(nu - omega), (omega, -oo, oo)), -Integral((exp(2*pi*omega)/(4*(1 + I*exp(2))) - exp(-2*pi*omega)/(4*(1 + I*exp(-2))))*Sum(H(k/pi + nu - omega)*exp(-I*pi*k/2)/Abs(k/pi - omega), (k, -oo, oo)), (omega, 0, N/pi)) + Integral((exp(2*pi*omega)/(4*(1 + I*exp(2))) - exp(-2*pi*omega)/(4*(1 + I*exp(-2))))*Sum(H(k/pi + nu - omega)*exp(-I*pi*k/2)/Abs(k/pi - omega), (k, -oo, oo)), (omega, 1/pi, N/pi)))"
      ]
     },
     "execution_count": 10,
     "metadata": {},
     "output_type": "execute_result"
    }
   ],
   "source": [
    "Eq(\n",
    "    Integral(F1(omega)*H(nu-omega), (omega,-oo,oo)), \n",
    "    -Integral(\n",
    "        Sum((exp(-I*pi*k/2)/abs(omega-k/pi)*H(nu-omega+k/pi)),(k,-oo,oo))*\n",
    "        (exp(2*pi*omega)/(1+I*exp(2))/4 - exp(-2*pi*omega)/(1+I*exp(-2))/4)\n",
    "        ,(omega,0,N/pi)\n",
    "    ) +\n",
    "    Integral(\n",
    "        Sum((exp(-I*pi*k/2)/abs(omega-k/pi)*H(nu-omega+k/pi)),(k,-oo,oo))*\n",
    "        (exp(2*pi*omega)/(1+I*exp(2))/4 - exp(-2*pi*omega)/(1+I*exp(-2))/4)\n",
    "        ,(omega,1/pi,N/pi)\n",
    "    )\n",
    ")"
   ]
  },
  {
   "cell_type": "code",
   "execution_count": 18,
   "metadata": {},
   "outputs": [
    {
     "data": {
      "text/latex": [
       "$\\displaystyle \\int\\limits_{-\\infty}^{\\infty} \\operatorname{F_{1}}{\\left(\\omega \\right)} H{\\left(\\nu - \\omega \\right)}\\, d\\omega = - \\int\\limits_{0}^{\\frac{N}{\\pi}} \\left(\\frac{e^{2 \\pi \\omega}}{4 \\left(1 + i e^{2}\\right)} - \\frac{e^{- 2 \\pi \\omega}}{4 \\left(1 + \\frac{i}{e^{2}}\\right)}\\right) \\sum_{k=-\\infty}^{\\infty} \\frac{H{\\left(\\frac{k}{\\pi} + \\nu - \\omega \\right)} e^{- \\frac{i \\pi k}{2}}}{\\left|{\\frac{k}{\\pi} - \\omega}\\right|}\\, d\\omega + \\int\\limits_{0}^{\\frac{N - 1}{\\pi}} \\left(\\frac{e^{2 \\pi \\left(\\omega + \\frac{1}{\\pi}\\right)}}{4 \\left(1 + i e^{2}\\right)} - \\frac{e^{- 2 \\pi \\left(\\omega + \\frac{1}{\\pi}\\right)}}{4 \\left(1 + \\frac{i}{e^{2}}\\right)}\\right) \\sum_{k=-\\infty}^{\\infty} \\frac{H{\\left(\\frac{k}{\\pi} + \\nu - \\omega - \\frac{1}{\\pi} \\right)} e^{- \\frac{i \\pi k}{2}}}{\\left|{- \\frac{k}{\\pi} + \\omega + \\frac{1}{\\pi}}\\right|}\\, d\\omega$"
      ],
      "text/plain": [
       "Eq(Integral(F1(omega)*H(nu - omega), (omega, -oo, oo)), -Integral((exp(2*pi*omega)/(4*(1 + I*exp(2))) - exp(-2*pi*omega)/(4*(1 + I*exp(-2))))*Sum(H(k/pi + nu - omega)*exp(-I*pi*k/2)/Abs(k/pi - omega), (k, -oo, oo)), (omega, 0, N/pi)) + Integral((exp(2*pi*(omega + 1/pi))/(4*(1 + I*exp(2))) - exp(-2*pi*(omega + 1/pi))/(4*(1 + I*exp(-2))))*Sum(H(k/pi + nu - omega - 1/pi)*exp(-I*pi*k/2)/Abs(-k/pi + omega + 1/pi), (k, -oo, oo)), (omega, 0, (N - 1)/pi)))"
      ]
     },
     "execution_count": 18,
     "metadata": {},
     "output_type": "execute_result"
    }
   ],
   "source": [
    "Eq(\n",
    "    Integral(F1(omega)*H(nu-omega), (omega,-oo,oo)), \n",
    "    -Integral(\n",
    "        Sum((exp(-I*pi*k/2)/abs(omega-k/pi)*H(nu-omega+k/pi)),(k,-oo,oo))*\n",
    "        (exp(2*pi*omega)/(1+I*exp(2))/4 - exp(-2*pi*omega)/(1+I*exp(-2))/4)\n",
    "        ,(omega,0,N/pi)\n",
    "    ) +\n",
    "    Integral(\n",
    "        (Sum((exp(-I*pi*k/2)/abs(omega-k/pi)*H(nu-omega+k/pi)),(k,-oo,oo))*\n",
    "        (exp(2*pi*omega)/(1+I*exp(2))/4 - exp(-2*pi*omega)/(1+I*exp(-2))/4)).subs(omega,omega+1/pi)\n",
    "        ,(omega,0,(N-1)/pi)\n",
    "    )\n",
    ")"
   ]
  },
  {
   "cell_type": "code",
   "execution_count": 21,
   "metadata": {},
   "outputs": [
    {
     "data": {
      "text/latex": [
       "$\\displaystyle \\int\\limits_{-\\infty}^{\\infty} \\operatorname{F_{1}}{\\left(\\omega \\right)} H{\\left(\\nu - \\omega \\right)}\\, d\\omega = - \\int\\limits_{0}^{\\frac{N}{\\pi}} \\left(\\frac{e^{2 \\pi \\omega}}{4 \\left(1 + i e^{2}\\right)} - \\frac{e^{- 2 \\pi \\omega}}{4 \\left(1 + \\frac{i}{e^{2}}\\right)}\\right) \\sum_{k=-\\infty}^{\\infty} \\frac{H{\\left(\\frac{k}{\\pi} + \\nu - \\omega \\right)} e^{- \\frac{i \\pi k}{2}}}{\\left|{\\frac{k}{\\pi} - \\omega}\\right|}\\, d\\omega + \\int\\limits_{0}^{\\frac{N - 1}{\\pi}} \\left(\\frac{e^{2 \\pi \\left(\\omega + \\frac{1}{\\pi}\\right)}}{4 \\left(1 + i e^{2}\\right)} - \\frac{e^{- 2 \\pi \\left(\\omega + \\frac{1}{\\pi}\\right)}}{4 \\left(1 + \\frac{i}{e^{2}}\\right)}\\right) \\sum_{k=-\\infty}^{\\infty} - \\frac{i H{\\left(\\frac{k}{\\pi} + \\nu - \\omega \\right)} e^{- \\frac{i \\pi k}{2}}}{\\left|{\\frac{k}{\\pi} - \\omega}\\right|}\\, d\\omega$"
      ],
      "text/plain": [
       "Eq(Integral(F1(omega)*H(nu - omega), (omega, -oo, oo)), -Integral((exp(2*pi*omega)/(4*(1 + I*exp(2))) - exp(-2*pi*omega)/(4*(1 + I*exp(-2))))*Sum(H(k/pi + nu - omega)*exp(-I*pi*k/2)/Abs(k/pi - omega), (k, -oo, oo)), (omega, 0, N/pi)) + Integral((exp(2*pi*(omega + 1/pi))/(4*(1 + I*exp(2))) - exp(-2*pi*(omega + 1/pi))/(4*(1 + I*exp(-2))))*Sum(-I*H(k/pi + nu - omega)*exp(-I*pi*k/2)/Abs(k/pi - omega), (k, -oo, oo)), (omega, 0, (N - 1)/pi)))"
      ]
     },
     "execution_count": 21,
     "metadata": {},
     "output_type": "execute_result"
    }
   ],
   "source": [
    "Eq(\n",
    "    Integral(F1(omega)*H(nu-omega), (omega,-oo,oo)), \n",
    "    -Integral(\n",
    "        Sum((exp(-I*pi*k/2)/abs(omega-k/pi)*H(nu-omega+k/pi)),(k,-oo,oo))*\n",
    "        (exp(2*pi*omega)/(1+I*exp(2))/4 - exp(-2*pi*omega)/(1+I*exp(-2))/4)\n",
    "        ,(omega,0,N/pi)\n",
    "    ) +\n",
    "    Integral(\n",
    "        (Sum(((exp(-I*pi*k/2)/abs(omega-k/pi)*H(nu-omega+k/pi))).subs(k,k+1).expand(),(k,-oo,oo))*\n",
    "        (exp(2*pi*omega)/(1+I*exp(2))/4 - exp(-2*pi*omega)/(1+I*exp(-2))/4)).subs(omega,omega+1/pi)\n",
    "        ,(omega,0,(N-1)/pi)\n",
    "    )\n",
    ")"
   ]
  },
  {
   "cell_type": "code",
   "execution_count": 22,
   "metadata": {},
   "outputs": [
    {
     "data": {
      "text/latex": [
       "$\\displaystyle \\int\\limits_{-\\infty}^{\\infty} \\operatorname{F_{1}}{\\left(\\omega \\right)} H{\\left(\\nu - \\omega \\right)}\\, d\\omega = - \\int\\limits_{0}^{\\frac{N}{\\pi}} \\left(\\frac{e^{2 \\pi \\omega}}{4 \\left(1 + i e^{2}\\right)} - \\frac{e^{- 2 \\pi \\omega}}{4 \\left(1 + \\frac{i}{e^{2}}\\right)}\\right) \\sum_{k=-\\infty}^{\\infty} \\frac{H{\\left(\\frac{k}{\\pi} + \\nu - \\omega \\right)} e^{- \\frac{i \\pi k}{2}}}{\\left|{\\frac{k}{\\pi} - \\omega}\\right|}\\, d\\omega - \\int\\limits_{0}^{\\frac{N - 1}{\\pi}} \\left(\\frac{i e^{2} e^{2 \\pi \\omega}}{4 \\left(1 + i e^{2}\\right)} - \\frac{i e^{2} e^{- 2 \\pi \\omega}}{4 \\left(1 + \\frac{i}{e^{2}}\\right)}\\right) \\sum_{k=-\\infty}^{\\infty} \\frac{H{\\left(\\frac{k}{\\pi} + \\nu - \\omega \\right)} e^{- \\frac{i \\pi k}{2}}}{\\left|{\\frac{k}{\\pi} - \\omega}\\right|}\\, d\\omega$"
      ],
      "text/plain": [
       "Eq(Integral(F1(omega)*H(nu - omega), (omega, -oo, oo)), -Integral((exp(2*pi*omega)/(4*(1 + I*exp(2))) - exp(-2*pi*omega)/(4*(1 + I*exp(-2))))*Sum(H(k/pi + nu - omega)*exp(-I*pi*k/2)/Abs(k/pi - omega), (k, -oo, oo)), (omega, 0, N/pi)) - Integral((I*exp(2)*exp(2*pi*omega)/(4*(1 + I*exp(2))) - I*exp(2)*exp(-2*pi*omega)/(4*(1 + I*exp(-2))))*Sum(H(k/pi + nu - omega)*exp(-I*pi*k/2)/Abs(k/pi - omega), (k, -oo, oo)), (omega, 0, (N - 1)/pi)))"
      ]
     },
     "execution_count": 22,
     "metadata": {},
     "output_type": "execute_result"
    }
   ],
   "source": [
    "Eq(\n",
    "    Integral(F1(omega)*H(nu-omega), (omega,-oo,oo)), \n",
    "    -Integral(\n",
    "        Sum((exp(-I*pi*k/2)/abs(omega-k/pi)*H(nu-omega+k/pi)),(k,-oo,oo))*\n",
    "        (exp(2*pi*omega)/(1+I*exp(2))/4 - exp(-2*pi*omega)/(1+I*exp(-2))/4)\n",
    "        ,(omega,0,N/pi)\n",
    "    ) -\n",
    "    Integral(\n",
    "        (Sum(((exp(-I*pi*k/2)/abs(omega-k/pi)*H(nu-omega+k/pi))),(k,-oo,oo))*\n",
    "        (I*exp(2)*exp(2*pi*omega)/(1+I*exp(2))/4 - I*exp(2)*exp(-2*pi*omega)/(1+I*exp(-2))/4))\n",
    "        ,(omega,0,(N-1)/pi)\n",
    "    )\n",
    ")"
   ]
  },
  {
   "cell_type": "code",
   "execution_count": 32,
   "metadata": {},
   "outputs": [
    {
     "data": {
      "text/latex": [
       "$\\displaystyle \\int\\limits_{-\\infty}^{\\infty} \\operatorname{F_{1}}{\\left(\\omega \\right)} H{\\left(\\nu - \\omega \\right)}\\, d\\omega = - \\int\\limits_{\\frac{N - 1}{\\pi}}^{\\frac{N}{\\pi}} \\left(\\frac{e^{2 \\pi \\omega}}{4 \\left(1 + i e^{2}\\right)} - \\frac{e^{- 2 \\pi \\omega}}{4 \\left(1 + \\frac{i}{e^{2}}\\right)}\\right) \\sum_{k=-\\infty}^{\\infty} \\frac{H{\\left(\\frac{k}{\\pi} + \\nu - \\omega \\right)} e^{- \\frac{i \\pi k}{2}}}{\\left|{\\frac{k}{\\pi} - \\omega}\\right|}\\, d\\omega - \\int\\limits_{0}^{\\frac{N - 1}{\\pi}} \\left(\\frac{e^{2 \\pi \\omega}}{4} - \\frac{\\left(1 + i e^{2}\\right) e^{- 2 \\pi \\omega + 2}}{4 \\left(e^{2} + i\\right)}\\right) \\sum_{k=-\\infty}^{\\infty} \\frac{H{\\left(\\frac{k}{\\pi} + \\nu - \\omega \\right)} e^{- \\frac{i \\pi k}{2}}}{\\left|{\\frac{k}{\\pi} - \\omega}\\right|}\\, d\\omega$"
      ],
      "text/plain": [
       "Eq(Integral(F1(omega)*H(nu - omega), (omega, -oo, oo)), -Integral((exp(2*pi*omega)/(4*(1 + I*exp(2))) - exp(-2*pi*omega)/(4*(1 + I*exp(-2))))*Sum(H(k/pi + nu - omega)*exp(-I*pi*k/2)/Abs(k/pi - omega), (k, -oo, oo)), (omega, (N - 1)/pi, N/pi)) - Integral((exp(2*pi*omega)/4 - (1 + I*exp(2))*exp(-2*pi*omega + 2)/(4*(exp(2) + I)))*Sum(H(k/pi + nu - omega)*exp(-I*pi*k/2)/Abs(k/pi - omega), (k, -oo, oo)), (omega, 0, (N - 1)/pi)))"
      ]
     },
     "execution_count": 32,
     "metadata": {},
     "output_type": "execute_result"
    }
   ],
   "source": [
    "Eq(\n",
    "    Integral(F1(omega)*H(nu-omega), (omega,-oo,oo)), \n",
    "    -Integral(\n",
    "        Sum(((exp(-I*pi*k/2)/abs(omega-k/pi)*H(nu-omega+k/pi))),(k,-oo,oo))*\n",
    "        (((I*exp(2)*exp(2*pi*omega)/(1+I*exp(2))/4 + \n",
    "         exp(2*pi*omega)/(1+I*exp(2))/4)).simplify() - \n",
    "         (I*exp(2)*exp(-2*pi*omega)/(1+I*exp(-2))/4 +\n",
    "         exp(-2*pi*omega)/(1+I*exp(-2))/4).simplify())\n",
    "        ,(omega,0,(N-1)/pi)\n",
    "    )\n",
    "    -Integral(\n",
    "        Sum((exp(-I*pi*k/2)/abs(omega-k/pi)*H(nu-omega+k/pi)),(k,-oo,oo))*\n",
    "        (exp(2*pi*omega)/(1+I*exp(2))/4 - exp(-2*pi*omega)/(1+I*exp(-2))/4)\n",
    "        ,(omega,(N-1)/pi,N/pi)\n",
    "    )\n",
    ")"
   ]
  },
  {
   "cell_type": "code",
   "execution_count": 38,
   "metadata": {},
   "outputs": [
    {
     "data": {
      "text/latex": [
       "$\\displaystyle \\int\\limits_{-\\infty}^{\\infty} \\operatorname{F_{1}}{\\left(\\omega \\right)} H{\\left(\\nu - \\omega \\right)}\\, d\\omega = - \\int\\limits_{0}^{\\frac{1}{\\pi}} \\left(\\frac{e^{2 \\pi \\omega}}{4 \\left(1 + i e^{2}\\right)} - \\frac{e^{- 2 \\pi \\omega}}{4 \\left(1 + \\frac{i}{e^{2}}\\right)}\\right) \\left(\\sum_{k=1}^{\\infty} \\left(\\frac{H{\\left(- \\frac{k}{\\pi} + \\nu - \\omega \\right)} e^{\\frac{i \\pi^{2} \\left(\\frac{k}{\\pi} + \\omega\\right)}{2}}}{\\frac{k}{\\pi} + \\omega} + \\frac{H{\\left(\\frac{k}{\\pi} + \\nu - \\omega \\right)} e^{\\frac{i \\pi^{2} \\left(- \\frac{k}{\\pi} + \\omega\\right)}{2}}}{\\frac{k}{\\pi} - \\omega}\\right) + \\frac{H{\\left(\\nu - \\omega \\right)} e^{\\frac{i \\pi^{2} \\omega}{2}}}{\\omega}\\right) e^{- \\frac{i \\pi^{2} \\omega}{2}}\\, d\\omega$"
      ],
      "text/plain": [
       "Eq(Integral(F1(omega)*H(nu - omega), (omega, -oo, oo)), -Integral((exp(2*pi*omega)/(4*(1 + I*exp(2))) - exp(-2*pi*omega)/(4*(1 + I*exp(-2))))*(Sum(H(-k/pi + nu - omega)*exp(I*pi**2*(k/pi + omega)/2)/(k/pi + omega) + H(k/pi + nu - omega)*exp(I*pi**2*(-k/pi + omega)/2)/(k/pi - omega), (k, 1, oo)) + H(nu - omega)*exp(I*pi**2*omega/2)/omega)*exp(-I*pi**2*omega/2), (omega, 0, 1/pi)))"
      ]
     },
     "execution_count": 38,
     "metadata": {},
     "output_type": "execute_result"
    }
   ],
   "source": [
    "Eq(\n",
    "    Integral(F1(omega)*H(nu-omega), (omega,-oo,oo)), \n",
    "    -Integral(\n",
    "        (exp(2*I*pi*omega*pi/4)/omega*H(nu-omega) +\n",
    "        Sum((exp(2*I*pi*(omega-k/pi)*pi/4)/(k/pi-omega)*H(nu-omega+k/pi)) +\n",
    "        (exp(2*I*pi*(omega+k/pi)*pi/4)/(omega+k/pi)*H(nu-omega-k/pi)),(k,1,oo)))*\n",
    "        exp(-I*pi**2*omega/2)*(exp(2*pi*omega)/(1+I*exp(2))/4 - exp(-2*pi*omega)/(1+I*exp(-2))/4)\n",
    "        ,(omega,0,1/pi)\n",
    "    )\n",
    ")"
   ]
  },
  {
   "cell_type": "code",
   "execution_count": 39,
   "metadata": {},
   "outputs": [
    {
     "data": {
      "text/latex": [
       "$\\displaystyle \\int\\limits_{-\\infty}^{\\infty} \\operatorname{F_{1}}{\\left(\\omega \\right)} H{\\left(\\nu - \\omega \\right)}\\, d\\omega = - \\int\\limits_{0}^{\\frac{1}{\\pi}} \\left(\\frac{e^{2 \\pi \\omega}}{4 \\left(1 + i e^{2}\\right)} - \\frac{e^{- 2 \\pi \\omega}}{4 \\left(1 + \\frac{i}{e^{2}}\\right)}\\right) \\left(\\sum_{k=1}^{\\infty} \\left(\\frac{H{\\left(- \\frac{k}{\\pi} + \\nu - \\omega \\right)} e^{\\frac{i \\pi k}{2}}}{\\frac{k}{\\pi} + \\omega} + \\frac{H{\\left(\\frac{k}{\\pi} + \\nu - \\omega \\right)} e^{- \\frac{i \\pi k}{2}}}{\\frac{k}{\\pi} - \\omega}\\right) + \\frac{H{\\left(\\nu - \\omega \\right)}}{\\omega}\\right)\\, d\\omega$"
      ],
      "text/plain": [
       "Eq(Integral(F1(omega)*H(nu - omega), (omega, -oo, oo)), -Integral((exp(2*pi*omega)/(4*(1 + I*exp(2))) - exp(-2*pi*omega)/(4*(1 + I*exp(-2))))*(Sum(H(-k/pi + nu - omega)*exp(I*pi*k/2)/(k/pi + omega) + H(k/pi + nu - omega)*exp(-I*pi*k/2)/(k/pi - omega), (k, 1, oo)) + H(nu - omega)/omega), (omega, 0, 1/pi)))"
      ]
     },
     "execution_count": 39,
     "metadata": {},
     "output_type": "execute_result"
    }
   ],
   "source": [
    "Eq(\n",
    "    Integral(F1(omega)*H(nu-omega), (omega,-oo,oo)), \n",
    "    -Integral(\n",
    "        (1/omega*H(nu-omega) +\n",
    "        Sum(exp(-I*pi*k/2)/(k/pi-omega)*H(nu-omega+k/pi) +\n",
    "        exp(I*pi*k/2)/(omega+k/pi)*H(nu-omega-k/pi),(k,1,oo)))\n",
    "        *(exp(2*pi*omega)/(1+I*exp(2))/4 - exp(-2*pi*omega)/(1+I*exp(-2))/4)\n",
    "        ,(omega,0,1/pi)\n",
    "    )\n",
    ")"
   ]
  },
  {
   "cell_type": "code",
   "execution_count": 40,
   "metadata": {},
   "outputs": [
    {
     "data": {
      "text/latex": [
       "$\\displaystyle p{\\left(\\tau \\right)} = \\int\\limits_{-\\infty}^{\\infty} P{\\left(\\omega \\right)} e^{2 i \\pi \\omega \\tau}\\, d\\omega$"
      ],
      "text/plain": [
       "Eq(p(tau), Integral(P(omega)*exp(2*I*pi*omega*tau), (omega, -oo, oo)))"
      ]
     },
     "execution_count": 40,
     "metadata": {},
     "output_type": "execute_result"
    }
   ],
   "source": [
    "Eq(p(tau), Integral(P(omega)*exp(2*I*pi*omega*tau),(omega,-oo,oo)))"
   ]
  },
  {
   "cell_type": "code",
   "execution_count": 41,
   "metadata": {},
   "outputs": [
    {
     "data": {
      "text/latex": [
       "$\\displaystyle p{\\left(\\tau \\right)} = f{\\left(\\tau \\right)} h{\\left(\\tau \\right)}$"
      ],
      "text/plain": [
       "Eq(p(tau), f(tau)*h(tau))"
      ]
     },
     "execution_count": 41,
     "metadata": {},
     "output_type": "execute_result"
    }
   ],
   "source": [
    "Eq(p(tau), f(tau)*h(tau))"
   ]
  },
  {
   "cell_type": "code",
   "execution_count": null,
   "metadata": {},
   "outputs": [],
   "source": []
  }
 ],
 "metadata": {
  "kernelspec": {
   "display_name": "Python 3",
   "language": "python",
   "name": "python3"
  },
  "language_info": {
   "codemirror_mode": {
    "name": "ipython",
    "version": 3
   },
   "file_extension": ".py",
   "mimetype": "text/x-python",
   "name": "python",
   "nbconvert_exporter": "python",
   "pygments_lexer": "ipython3",
   "version": "3.8.5"
  }
 },
 "nbformat": 4,
 "nbformat_minor": 4
}
