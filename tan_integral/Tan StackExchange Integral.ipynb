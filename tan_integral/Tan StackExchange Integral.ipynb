{
 "cells": [
  {
   "cell_type": "markdown",
   "metadata": {},
   "source": [
    "# https://math.stackexchange.com/questions/364452/evaluate-int-0-frac-pi2-frac11x21-tan-x-mathrm-dx"
   ]
  },
  {
   "cell_type": "code",
   "execution_count": 1,
   "metadata": {},
   "outputs": [],
   "source": [
    "from sympy import *\n",
    "# from sympy import symbols\n",
    "# from sympy import plot\n",
    "# from sympy import Product, oo\n",
    "# from sympy.utilities.lambdify import lambdify"
   ]
  },
  {
   "cell_type": "code",
   "execution_count": 2,
   "metadata": {},
   "outputs": [],
   "source": [
    "x, n, y, K, r, z, k, epsilon, tau = symbols('x n y K r z k epsilon tau')"
   ]
  },
  {
   "cell_type": "code",
   "execution_count": 10,
   "metadata": {
    "scrolled": true
   },
   "outputs": [
    {
     "data": {
      "text/latex": [
       "$\\displaystyle \\int\\limits_{0}^{\\frac{\\pi}{2}} \\frac{1}{\\left(x^{2} + 1\\right) \\left(\\tan{\\left(x \\right)} + 1\\right)}\\, dx$"
      ],
      "text/plain": [
       "Integral(1/((x**2 + 1)*(tan(x) + 1)), (x, 0, pi/2))"
      ]
     },
     "execution_count": 10,
     "metadata": {},
     "output_type": "execute_result"
    }
   ],
   "source": [
    "integrate(1/(1+x**2)*1/(1+tan(x)), (x, 0, pi/2))"
   ]
  },
  {
   "cell_type": "code",
   "execution_count": 11,
   "metadata": {
    "scrolled": false
   },
   "outputs": [
    {
     "data": {
      "text/latex": [
       "$\\displaystyle - 0.25 \\int\\limits_{- \\frac{\\pi}{4}}^{\\frac{\\pi}{4}} \\left(\\frac{1}{\\left(x + \\frac{\\pi}{4}\\right)^{2} + 1} - \\frac{1}{\\left(x - \\frac{\\pi}{4}\\right)^{2} + 1}\\right) \\tan{\\left(x \\right)}\\, dx + 0.5 \\operatorname{atan}{\\left(\\frac{\\pi}{2} \\right)}$"
      ],
      "text/plain": [
       "-0.25*Integral((1/((x + pi/4)**2 + 1) - 1/((x - pi/4)**2 + 1))*tan(x), (x, -pi/4, pi/4)) + 0.5*atan(pi/2)"
      ]
     },
     "execution_count": 11,
     "metadata": {},
     "output_type": "execute_result"
    }
   ],
   "source": [
    "1/2 * integrate(1/(1+x**2), (x, 0, pi/2)) - 1/4 * Integral((1/(1+(x+pi/4)**2)-1/(1+(x-pi/4)**2))*tan(x), (x, -pi/4, pi/4))"
   ]
  },
  {
   "cell_type": "code",
   "execution_count": 66,
   "metadata": {},
   "outputs": [
    {
     "data": {
      "text/latex": [
       "$\\displaystyle \\frac{1}{\\left(x + \\frac{\\pi}{4}\\right)^{2} + 1} - \\frac{1}{\\left(x - \\frac{\\pi}{4}\\right)^{2} + 1} = \\int\\limits_{-\\infty}^{\\infty} \\left(- i e^{- i k x} e^{- \\left|{k}\\right|} \\sin{\\left(\\frac{\\pi k}{4} \\right)}\\right)\\, dk$"
      ],
      "text/plain": [
       "Eq(1/((x + pi/4)**2 + 1) - 1/((x - pi/4)**2 + 1), Integral(-I*exp(-I*k*x)*exp(-Abs(k))*sin(pi*k/4), (k, -oo, oo)))"
      ]
     },
     "execution_count": 66,
     "metadata": {},
     "output_type": "execute_result"
    }
   ],
   "source": [
    "Eq(1/(1+(x+pi/4)**2)-1/(1+(x-pi/4)**2), Integral(exp(-abs(k))/2*exp(-I*x*k)*(exp(-I*(pi/4)*k)-exp(-I*(-pi/4)*k)).simplify(),(k,-oo,oo)))"
   ]
  },
  {
   "cell_type": "code",
   "execution_count": 77,
   "metadata": {},
   "outputs": [
    {
     "data": {
      "text/latex": [
       "$\\displaystyle \\frac{1}{\\left(x + \\frac{\\pi}{4}\\right)^{2} + 1} - \\frac{1}{\\left(x - \\frac{\\pi}{4}\\right)^{2} + 1} = \\int\\limits_{-\\infty}^{\\infty} e^{- \\left|{k}\\right|} \\sin{\\left(\\frac{\\pi k}{4} \\right)} \\sin{\\left(k x \\right)}\\, dk$"
      ],
      "text/plain": [
       "Eq(1/((x + pi/4)**2 + 1) - 1/((x - pi/4)**2 + 1), Integral(exp(-Abs(k))*sin(pi*k/4)*sin(k*x), (k, -oo, oo)))"
      ]
     },
     "execution_count": 77,
     "metadata": {},
     "output_type": "execute_result"
    }
   ],
   "source": [
    "Eq(1/(1+(x+pi/4)**2)-1/(1+(x-pi/4)**2), \n",
    "   Integral(sin(k*x)*sin(pi*k/4)*exp(-abs(k)),(k,-oo,oo)))"
   ]
  },
  {
   "cell_type": "code",
   "execution_count": 119,
   "metadata": {
    "scrolled": true
   },
   "outputs": [
    {
     "data": {
      "text/latex": [
       "$\\displaystyle \\int\\limits_{- \\frac{\\pi}{4}}^{\\frac{\\pi}{4}} \\sin{\\left(k x \\right)} \\sin{\\left(2 n x \\right)}\\, dx = - \\frac{\\sin{\\left(\\pi \\left(\\frac{k}{4} + \\frac{n}{2}\\right) \\right)}}{k + 2 n} + \\frac{\\sin{\\left(\\pi \\left(\\frac{k}{4} - \\frac{n}{2}\\right) \\right)}}{k - 2 n}$"
      ],
      "text/plain": [
       "Eq(Integral(sin(k*x)*sin(2*n*x), (x, -pi/4, pi/4)), -sin(pi*(k/4 + n/2))/(k + 2*n) + sin(pi*(k/4 - n/2))/(k - 2*n))"
      ]
     },
     "execution_count": 119,
     "metadata": {},
     "output_type": "execute_result"
    }
   ],
   "source": [
    "Eq(Integral(sin(k*x)*sin(2*n*x),(x,-pi/4,pi/4)),((k+2*n)/(k**2-4*n**2)).simplify()*sin(pi*(k-2*n)/4) \\\n",
    "    +((2*n-k)/(k**2-4*n**2)).simplify()*sin(pi*(k+2*n)/4))"
   ]
  },
  {
   "cell_type": "code",
   "execution_count": 124,
   "metadata": {},
   "outputs": [
    {
     "data": {
      "text/latex": [
       "$\\displaystyle \\begin{cases} \\frac{x}{1 - x} & \\text{for}\\: \\left|{x}\\right| < 1 \\\\\\sum_{n=1}^{\\infty} x^{n} & \\text{otherwise} \\end{cases}$"
      ],
      "text/plain": [
       "Piecewise((x/(1 - x), Abs(x) < 1), (Sum(x**n, (n, 1, oo)), True))"
      ]
     },
     "execution_count": 124,
     "metadata": {},
     "output_type": "execute_result"
    }
   ],
   "source": [
    "Sum((x)**n,(n,1,oo)).doit()"
   ]
  },
  {
   "cell_type": "code",
   "execution_count": 86,
   "metadata": {},
   "outputs": [
    {
     "data": {
      "text/latex": [
       "$\\displaystyle - 2 \\sin{\\left(\\frac{\\pi n}{2} \\right)} \\int\\limits_{-\\infty}^{\\infty} \\frac{k \\sin{\\left(\\frac{\\pi k}{4} \\right)} \\cos{\\left(\\frac{\\pi k}{4} \\right)}}{k^{2} e^{\\left|{k}\\right|} - 4 n^{2} e^{\\left|{k}\\right|}}\\, dk$"
      ],
      "text/plain": [
       "-2*sin(pi*n/2)*Integral(k*sin(pi*k/4)*cos(pi*k/4)/(k**2*exp(Abs(k)) - 4*n**2*exp(Abs(k))), (k, -oo, oo))"
      ]
     },
     "execution_count": 86,
     "metadata": {},
     "output_type": "execute_result"
    }
   ],
   "source": [
    "Integral(-exp(-abs(k))*2*k*cos(pi*k/4)*sin(pi*n/2)*sin(pi*k/4)/(k**2-4*n**2),(k,-oo,oo)).doit()"
   ]
  },
  {
   "cell_type": "code",
   "execution_count": 93,
   "metadata": {},
   "outputs": [
    {
     "data": {
      "text/latex": [
       "$\\displaystyle \\sin{\\left(x \\right)} \\cos{\\left(y \\right)} = \\frac{\\sin{\\left(x - y \\right)}}{2} + \\frac{\\sin{\\left(x + y \\right)}}{2}$"
      ],
      "text/plain": [
       "Eq(sin(x)*cos(y), sin(x - y)/2 + sin(x + y)/2)"
      ]
     },
     "execution_count": 93,
     "metadata": {},
     "output_type": "execute_result"
    }
   ],
   "source": [
    "Eq((sin(x+y)+sin(x-y)).simplify()/2,(sin(x+y)+sin(x-y))/2)"
   ]
  },
  {
   "cell_type": "code",
   "execution_count": 94,
   "metadata": {
    "scrolled": true
   },
   "outputs": [
    {
     "data": {
      "text/latex": [
       "$\\displaystyle \\sin{\\left(\\frac{\\pi n}{2} \\right)} \\cos{\\left(\\frac{\\pi k}{4} \\right)} = - \\frac{\\sin{\\left(\\frac{\\pi k}{4} - \\frac{\\pi n}{2} \\right)}}{2} + \\frac{\\sin{\\left(\\frac{\\pi k}{4} + \\frac{\\pi n}{2} \\right)}}{2}$"
      ],
      "text/plain": [
       "Eq(sin(pi*n/2)*cos(pi*k/4), -sin(pi*k/4 - pi*n/2)/2 + sin(pi*k/4 + pi*n/2)/2)"
      ]
     },
     "execution_count": 94,
     "metadata": {},
     "output_type": "execute_result"
    }
   ],
   "source": [
    "Eq((sin(pi*n/2+pi*k/4)+sin(pi*n/2-pi*k/4)).simplify()/2,(sin(pi*n/2+pi*k/4)+sin(pi*n/2-pi*k/4))/2)"
   ]
  },
  {
   "cell_type": "code",
   "execution_count": 96,
   "metadata": {},
   "outputs": [
    {
     "data": {
      "text/latex": [
       "$\\displaystyle \\sin{\\left(\\frac{\\pi k}{4} \\right)} \\cos{\\left(\\frac{\\pi n}{2} \\right)} = \\frac{\\sin{\\left(\\frac{\\pi k}{4} - \\frac{\\pi n}{2} \\right)}}{2} + \\frac{\\sin{\\left(\\frac{\\pi k}{4} + \\frac{\\pi n}{2} \\right)}}{2}$"
      ],
      "text/plain": [
       "Eq(sin(pi*k/4)*cos(pi*n/2), sin(pi*k/4 - pi*n/2)/2 + sin(pi*k/4 + pi*n/2)/2)"
      ]
     },
     "execution_count": 96,
     "metadata": {},
     "output_type": "execute_result"
    }
   ],
   "source": [
    "Eq((sin(pi*k/4+pi*n/2)+sin(pi*k/4-pi*n/2)).simplify()/2,(sin(pi*k/4+pi*n/2)+sin(pi*k/4-pi*n/2))/2)"
   ]
  },
  {
   "cell_type": "code",
   "execution_count": 101,
   "metadata": {},
   "outputs": [
    {
     "data": {
      "text/latex": [
       "$\\displaystyle - \\frac{2 k \\sin{\\left(\\frac{\\pi n}{2} \\right)} \\cos{\\left(\\frac{\\pi k}{4} \\right)}}{k^{2} - 4 n^{2}} + \\frac{4 n \\sin{\\left(\\frac{\\pi k}{4} \\right)} \\cos{\\left(\\frac{\\pi n}{2} \\right)}}{k^{2} - 4 n^{2}} = \\frac{2 k \\left(\\frac{\\sin{\\left(\\frac{\\pi k}{4} - \\frac{\\pi n}{2} \\right)}}{2} - \\frac{\\sin{\\left(\\frac{\\pi k}{4} + \\frac{\\pi n}{2} \\right)}}{2}\\right)}{k^{2} - 4 n^{2}} + \\frac{4 n \\left(\\frac{\\sin{\\left(\\frac{\\pi k}{4} - \\frac{\\pi n}{2} \\right)}}{2} + \\frac{\\sin{\\left(\\frac{\\pi k}{4} + \\frac{\\pi n}{2} \\right)}}{2}\\right)}{k^{2} - 4 n^{2}}$"
      ],
      "text/plain": [
       "Eq(-2*k*sin(pi*n/2)*cos(pi*k/4)/(k**2 - 4*n**2) + 4*n*sin(pi*k/4)*cos(pi*n/2)/(k**2 - 4*n**2), 2*k*(sin(pi*k/4 - pi*n/2)/2 - sin(pi*k/4 + pi*n/2)/2)/(k**2 - 4*n**2) + 4*n*(sin(pi*k/4 - pi*n/2)/2 + sin(pi*k/4 + pi*n/2)/2)/(k**2 - 4*n**2))"
      ]
     },
     "execution_count": 101,
     "metadata": {},
     "output_type": "execute_result"
    }
   ],
   "source": [
    "Eq(-2*k*sin(pi*n/2)*cos(pi*k/4)/(k**2-4*n**2)+4*n*sin(pi*k/4)*cos(pi*n/2)/(k**2-4*n**2),\n",
    "   2*k*(sin(pi*k/4-pi*n/2)/2-sin(pi*k/4+pi*n/2)/2)/(k**2-4*n**2) \\\n",
    "    +4*n*(sin(pi*k/4-pi*n/2)/2+sin(pi*k/4+pi*n/2)/2)/(k**2-4*n**2))"
   ]
  },
  {
   "cell_type": "code",
   "execution_count": 105,
   "metadata": {},
   "outputs": [
    {
     "data": {
      "text/latex": [
       "$\\displaystyle - \\frac{2 k \\sin{\\left(\\frac{\\pi n}{2} \\right)} \\cos{\\left(\\frac{\\pi k}{4} \\right)}}{k^{2} - 4 n^{2}} + \\frac{4 n \\sin{\\left(\\frac{\\pi k}{4} \\right)} \\cos{\\left(\\frac{\\pi n}{2} \\right)}}{k^{2} - 4 n^{2}} = - \\frac{\\sin{\\left(\\pi \\left(\\frac{k}{4} + \\frac{n}{2}\\right) \\right)}}{k + 2 n} + \\frac{\\sin{\\left(\\pi \\left(\\frac{k}{4} - \\frac{n}{2}\\right) \\right)}}{k - 2 n}$"
      ],
      "text/plain": [
       "Eq(-2*k*sin(pi*n/2)*cos(pi*k/4)/(k**2 - 4*n**2) + 4*n*sin(pi*k/4)*cos(pi*n/2)/(k**2 - 4*n**2), -sin(pi*(k/4 + n/2))/(k + 2*n) + sin(pi*(k/4 - n/2))/(k - 2*n))"
      ]
     },
     "execution_count": 105,
     "metadata": {},
     "output_type": "execute_result"
    }
   ],
   "source": [
    "Eq(-2*k*sin(pi*n/2)*cos(pi*k/4)/(k**2-4*n**2)+4*n*sin(pi*k/4)*cos(pi*n/2)/(k**2-4*n**2),\n",
    "   ((k+2*n)/(k**2-4*n**2)).simplify()*sin(pi*(k-2*n)/4) \\\n",
    "    +((2*n-k)/(k**2-4*n**2)).simplify()*sin(pi*(k+2*n)/4))"
   ]
  },
  {
   "cell_type": "code",
   "execution_count": 67,
   "metadata": {},
   "outputs": [
    {
     "data": {
      "text/latex": [
       "$\\displaystyle \\begin{cases} 0 & \\text{for}\\: k = 0 \\wedge n = 0 \\\\\\frac{\\left(\\pi n \\left(- \\sin{\\left(\\frac{\\pi n}{2} \\right)} + i \\cos{\\left(\\frac{\\pi n}{2} \\right)}\\right) + \\pi n \\left(\\sin{\\left(\\frac{\\pi n}{2} \\right)} + i \\cos{\\left(\\frac{\\pi n}{2} \\right)}\\right) e^{i \\pi n} - 2 e^{i \\pi n} \\cos{\\left(\\frac{\\pi n}{2} \\right)} + 2 \\cos{\\left(\\frac{\\pi n}{2} \\right)}\\right) e^{- \\frac{i \\pi n}{2}}}{8 n} & \\text{for}\\: \\left(k = 0 \\wedge n = 0\\right) \\vee k = - 2 n \\\\\\frac{\\left(\\pi n \\left(\\sin{\\left(\\frac{\\pi n}{2} \\right)} - i \\cos{\\left(\\frac{\\pi n}{2} \\right)}\\right) - \\pi n \\left(\\sin{\\left(\\frac{\\pi n}{2} \\right)} + i \\cos{\\left(\\frac{\\pi n}{2} \\right)}\\right) e^{i \\pi n} + 2 e^{i \\pi n} \\cos{\\left(\\frac{\\pi n}{2} \\right)} - 2 \\cos{\\left(\\frac{\\pi n}{2} \\right)}\\right) e^{- \\frac{i \\pi n}{2}}}{8 n} & \\text{for}\\: \\left(k = 0 \\wedge n = 0\\right) \\vee k = 2 n \\\\\\frac{\\left(i k \\sin{\\left(\\frac{\\pi n}{2} \\right)} + 2 n \\cos{\\left(\\frac{\\pi n}{2} \\right)} + \\left(i k \\sin{\\left(\\frac{\\pi n}{2} \\right)} - 2 n \\cos{\\left(\\frac{\\pi n}{2} \\right)}\\right) e^{\\frac{i \\pi k}{2}}\\right) e^{- \\frac{i \\pi k}{4}}}{k^{2} - 4 n^{2}} & \\text{otherwise} \\end{cases}$"
      ],
      "text/plain": [
       "Piecewise((0, Eq(k, 0) & Eq(n, 0)), ((pi*n*(-sin(pi*n/2) + I*cos(pi*n/2)) + pi*n*(sin(pi*n/2) + I*cos(pi*n/2))*exp(I*pi*n) - 2*exp(I*pi*n)*cos(pi*n/2) + 2*cos(pi*n/2))*exp(-I*pi*n/2)/(8*n), Eq(k, -2*n) | (Eq(k, 0) & Eq(n, 0))), ((pi*n*(sin(pi*n/2) - I*cos(pi*n/2)) - pi*n*(sin(pi*n/2) + I*cos(pi*n/2))*exp(I*pi*n) + 2*exp(I*pi*n)*cos(pi*n/2) - 2*cos(pi*n/2))*exp(-I*pi*n/2)/(8*n), Eq(k, 2*n) | (Eq(k, 0) & Eq(n, 0))), ((I*k*sin(pi*n/2) + 2*n*cos(pi*n/2) + (I*k*sin(pi*n/2) - 2*n*cos(pi*n/2))*exp(I*pi*k/2))*exp(-I*pi*k/4)/(k**2 - 4*n**2), True))"
      ]
     },
     "execution_count": 67,
     "metadata": {},
     "output_type": "execute_result"
    }
   ],
   "source": [
    "integrate(exp(-I*x*k)*sin(2*n*x),(x,-pi/4,pi/4)).simplify()"
   ]
  },
  {
   "cell_type": "code",
   "execution_count": 61,
   "metadata": {},
   "outputs": [
    {
     "data": {
      "text/latex": [
       "$\\displaystyle - 2 \\sum_{n=1}^{\\infty} \\begin{cases} 0 & \\text{for}\\: \\left(k = 0 \\wedge n = 0\\right) \\vee \\left(k = 0 \\wedge k = - \\frac{2 n}{\\pi} \\wedge n = 0\\right) \\vee \\left(k = 0 \\wedge k = \\frac{2 n}{\\pi} \\wedge n = 0\\right) \\vee \\left(k = 0 \\wedge k = - \\frac{2 n}{\\pi} \\wedge k = \\frac{2 n}{\\pi} \\wedge n = 0\\right) \\\\- \\left(-1\\right)^{n} \\left(\\frac{\\pi e^{- \\frac{i \\pi n}{2}} \\sin{\\left(\\frac{\\pi n}{2} \\right)}}{8} - \\frac{i \\pi e^{- \\frac{i \\pi n}{2}} \\cos{\\left(\\frac{\\pi n}{2} \\right)}}{8} - \\frac{e^{- \\frac{i \\pi n}{2}} \\cos{\\left(\\frac{\\pi n}{2} \\right)}}{4 n}\\right) + \\left(-1\\right)^{n} \\left(\\frac{\\pi e^{\\frac{i \\pi n}{2}} \\sin{\\left(\\frac{\\pi n}{2} \\right)}}{8} + \\frac{i \\pi e^{\\frac{i \\pi n}{2}} \\cos{\\left(\\frac{\\pi n}{2} \\right)}}{8} - \\frac{e^{\\frac{i \\pi n}{2}} \\cos{\\left(\\frac{\\pi n}{2} \\right)}}{4 n}\\right) & \\text{for}\\: \\left(k = 0 \\wedge k = - \\frac{2 n}{\\pi}\\right) \\vee \\left(k = - \\frac{2 n}{\\pi} \\wedge k = \\frac{2 n}{\\pi}\\right) \\vee \\left(k = - \\frac{2 n}{\\pi} \\wedge n = 0\\right) \\vee \\left(k = 0 \\wedge k = - \\frac{2 n}{\\pi} \\wedge k = \\frac{2 n}{\\pi}\\right) \\vee \\left(k = - \\frac{2 n}{\\pi} \\wedge k = \\frac{2 n}{\\pi} \\wedge n = 0\\right) \\vee k = - \\frac{2 n}{\\pi} \\\\\\left(-1\\right)^{n} \\left(\\frac{\\pi e^{- \\frac{i \\pi n}{2}} \\sin{\\left(\\frac{\\pi n}{2} \\right)}}{8} - \\frac{i \\pi e^{- \\frac{i \\pi n}{2}} \\cos{\\left(\\frac{\\pi n}{2} \\right)}}{8} - \\frac{e^{- \\frac{i \\pi n}{2}} \\cos{\\left(\\frac{\\pi n}{2} \\right)}}{4 n}\\right) - \\left(-1\\right)^{n} \\left(\\frac{\\pi e^{\\frac{i \\pi n}{2}} \\sin{\\left(\\frac{\\pi n}{2} \\right)}}{8} + \\frac{i \\pi e^{\\frac{i \\pi n}{2}} \\cos{\\left(\\frac{\\pi n}{2} \\right)}}{8} - \\frac{e^{\\frac{i \\pi n}{2}} \\cos{\\left(\\frac{\\pi n}{2} \\right)}}{4 n}\\right) & \\text{for}\\: \\left(k = 0 \\wedge k = \\frac{2 n}{\\pi}\\right) \\vee \\left(k = \\frac{2 n}{\\pi} \\wedge n = 0\\right) \\vee k = \\frac{2 n}{\\pi} \\\\- \\left(-1\\right)^{n} \\left(\\frac{i \\pi k \\sin{\\left(\\frac{\\pi n}{2} \\right)}}{- \\pi^{2} k^{2} e^{- \\frac{i \\pi^{2} k}{4}} + 4 n^{2} e^{- \\frac{i \\pi^{2} k}{4}}} - \\frac{2 n \\cos{\\left(\\frac{\\pi n}{2} \\right)}}{- \\pi^{2} k^{2} e^{- \\frac{i \\pi^{2} k}{4}} + 4 n^{2} e^{- \\frac{i \\pi^{2} k}{4}}}\\right) + \\left(-1\\right)^{n} \\left(- \\frac{i \\pi k \\sin{\\left(\\frac{\\pi n}{2} \\right)}}{- \\pi^{2} k^{2} e^{\\frac{i \\pi^{2} k}{4}} + 4 n^{2} e^{\\frac{i \\pi^{2} k}{4}}} - \\frac{2 n \\cos{\\left(\\frac{\\pi n}{2} \\right)}}{- \\pi^{2} k^{2} e^{\\frac{i \\pi^{2} k}{4}} + 4 n^{2} e^{\\frac{i \\pi^{2} k}{4}}}\\right) & \\text{otherwise} \\end{cases}$"
      ],
      "text/plain": [
       "-2*Sum(Piecewise((0, (Eq(k, 0) & Eq(n, 0)) | (Eq(k, 0) & Eq(n, 0) & Eq(k, -2*n/pi)) | (Eq(k, 0) & Eq(n, 0) & Eq(k, 2*n/pi)) | (Eq(k, 0) & Eq(n, 0) & Eq(k, -2*n/pi) & Eq(k, 2*n/pi))), (-(-1)**n*(pi*exp(-I*pi*n/2)*sin(pi*n/2)/8 - I*pi*exp(-I*pi*n/2)*cos(pi*n/2)/8 - exp(-I*pi*n/2)*cos(pi*n/2)/(4*n)) + (-1)**n*(pi*exp(I*pi*n/2)*sin(pi*n/2)/8 + I*pi*exp(I*pi*n/2)*cos(pi*n/2)/8 - exp(I*pi*n/2)*cos(pi*n/2)/(4*n)), Eq(k, -2*n/pi) | (Eq(k, 0) & Eq(k, -2*n/pi)) | (Eq(n, 0) & Eq(k, -2*n/pi)) | (Eq(k, -2*n/pi) & Eq(k, 2*n/pi)) | (Eq(k, 0) & Eq(k, -2*n/pi) & Eq(k, 2*n/pi)) | (Eq(n, 0) & Eq(k, -2*n/pi) & Eq(k, 2*n/pi))), ((-1)**n*(pi*exp(-I*pi*n/2)*sin(pi*n/2)/8 - I*pi*exp(-I*pi*n/2)*cos(pi*n/2)/8 - exp(-I*pi*n/2)*cos(pi*n/2)/(4*n)) - (-1)**n*(pi*exp(I*pi*n/2)*sin(pi*n/2)/8 + I*pi*exp(I*pi*n/2)*cos(pi*n/2)/8 - exp(I*pi*n/2)*cos(pi*n/2)/(4*n)), Eq(k, 2*n/pi) | (Eq(k, 0) & Eq(k, 2*n/pi)) | (Eq(n, 0) & Eq(k, 2*n/pi))), (-(-1)**n*(I*pi*k*sin(pi*n/2)/(-pi**2*k**2*exp(-I*pi**2*k/4) + 4*n**2*exp(-I*pi**2*k/4)) - 2*n*cos(pi*n/2)/(-pi**2*k**2*exp(-I*pi**2*k/4) + 4*n**2*exp(-I*pi**2*k/4))) + (-1)**n*(-I*pi*k*sin(pi*n/2)/(-pi**2*k**2*exp(I*pi**2*k/4) + 4*n**2*exp(I*pi**2*k/4)) - 2*n*cos(pi*n/2)/(-pi**2*k**2*exp(I*pi**2*k/4) + 4*n**2*exp(I*pi**2*k/4))), True)), (n, 1, oo))"
      ]
     },
     "execution_count": 61,
     "metadata": {},
     "output_type": "execute_result"
    }
   ],
   "source": [
    "-2*Sum((-1)**n*integrate(exp(-I*pi*x*k)*sin(2*n*x),(x,-pi/4,pi/4)),(n,1,oo))"
   ]
  },
  {
   "cell_type": "code",
   "execution_count": 12,
   "metadata": {},
   "outputs": [
    {
     "data": {
      "text/latex": [
       "$\\displaystyle 0.5973818094$"
      ],
      "text/plain": [
       "0.5973818094"
      ]
     },
     "execution_count": 12,
     "metadata": {},
     "output_type": "execute_result"
    }
   ],
   "source": [
    "(1/2 * integrate(1/(1+x**2), (x, 0, pi/2)) - 1/4 * Integral((1/(1+(x+pi/4)**2)-1/(1+(x-pi/4)**2))*tan(x), (x, -pi/4, pi/4))).evalf(10)"
   ]
  },
  {
   "cell_type": "code",
   "execution_count": 18,
   "metadata": {},
   "outputs": [
    {
     "data": {
      "text/latex": [
       "$\\displaystyle - 0.25 \\int\\limits_{0}^{\\frac{\\pi}{4}} \\left(\\frac{1}{\\left(x + \\frac{\\pi}{4}\\right)^{2} + 1} - \\frac{1}{\\left(x - \\frac{\\pi}{4}\\right)^{2} + 1}\\right) \\tan{\\left(x \\right)}\\, dx - 0.25 \\int\\limits_{- \\frac{\\pi}{4}}^{0} \\left(\\frac{1}{\\left(x + \\frac{\\pi}{4}\\right)^{2} + 1} - \\frac{1}{\\left(x - \\frac{\\pi}{4}\\right)^{2} + 1}\\right) \\tan{\\left(x \\right)}\\, dx + 0.5 \\operatorname{atan}{\\left(\\frac{\\pi}{2} \\right)}$"
      ],
      "text/plain": [
       "-0.25*Integral((1/((x + pi/4)**2 + 1) - 1/((x - pi/4)**2 + 1))*tan(x), (x, 0, pi/4)) - 0.25*Integral((1/((x + pi/4)**2 + 1) - 1/((x - pi/4)**2 + 1))*tan(x), (x, -pi/4, 0)) + 0.5*atan(pi/2)"
      ]
     },
     "execution_count": 18,
     "metadata": {},
     "output_type": "execute_result"
    }
   ],
   "source": [
    "1/2 * integrate(1/(1+x**2), (x, 0, pi/2)) \\\n",
    "- 1/4 * Integral((1/(1+(x+pi/4)**2)-1/(1+(x-pi/4)**2))*tan(x), (x, 0, pi/4)) \\\n",
    "- 1/4 * Integral((1/(1+(x+pi/4)**2)-1/(1+(x-pi/4)**2))*tan(x), (x, -pi/4, 0))"
   ]
  },
  {
   "cell_type": "code",
   "execution_count": 20,
   "metadata": {},
   "outputs": [
    {
     "data": {
      "text/latex": [
       "$\\displaystyle \\int\\limits_{0}^{\\frac{\\pi}{4}} \\left(\\frac{1}{\\left(x + \\frac{\\pi}{4}\\right)^{2} + 1} - \\frac{1}{\\left(x - \\frac{\\pi}{4}\\right)^{2} + 1}\\right) \\tan{\\left(x \\right)}\\, dx = \\int\\limits_{0}^{K} \\left(\\frac{1}{\\left(x + \\frac{\\pi}{4}\\right)^{2} + 1} - \\frac{1}{\\left(x - \\frac{\\pi}{4}\\right)^{2} + 1}\\right) \\tan{\\left(x \\right)}\\, dx - \\int\\limits_{\\frac{\\pi}{4}}^{K} \\left(\\frac{1}{\\left(x + \\frac{\\pi}{4}\\right)^{2} + 1} - \\frac{1}{\\left(x - \\frac{\\pi}{4}\\right)^{2} + 1}\\right) \\tan{\\left(x \\right)}\\, dx$"
      ],
      "text/plain": [
       "Eq(Integral((1/((x + pi/4)**2 + 1) - 1/((x - pi/4)**2 + 1))*tan(x), (x, 0, pi/4)), Integral((1/((x + pi/4)**2 + 1) - 1/((x - pi/4)**2 + 1))*tan(x), (x, 0, K)) - Integral((1/((x + pi/4)**2 + 1) - 1/((x - pi/4)**2 + 1))*tan(x), (x, pi/4, K)))"
      ]
     },
     "execution_count": 20,
     "metadata": {},
     "output_type": "execute_result"
    }
   ],
   "source": [
    "Eq(Integral((1/(1+(x+pi/4)**2)-1/(1+(x-pi/4)**2))*tan(x), (x, 0, pi/4)),\n",
    "  Integral((1/(1+(x+pi/4)**2)-1/(1+(x-pi/4)**2))*tan(x), (x, 0, K)) - \\\n",
    "   Integral((1/(1+(x+pi/4)**2)-1/(1+(x-pi/4)**2))*tan(x), (x, pi/4, K)))"
   ]
  },
  {
   "cell_type": "code",
   "execution_count": 3,
   "metadata": {
    "scrolled": true
   },
   "outputs": [
    {
     "data": {
      "text/latex": [
       "$\\displaystyle \\int\\limits_{0}^{\\frac{\\pi}{4}} \\left(\\frac{1}{\\left(x + \\frac{\\pi}{4}\\right)^{2} + 1} - \\frac{1}{\\left(x - \\frac{\\pi}{4}\\right)^{2} + 1}\\right) \\tan{\\left(x \\right)}\\, dx = \\int\\limits_{0}^{K} \\left(\\frac{1}{\\left(x + \\frac{\\pi}{4}\\right)^{2} + 1} - \\frac{1}{\\left(x - \\frac{\\pi}{4}\\right)^{2} + 1}\\right) \\tan{\\left(x \\right)}\\, dx - \\int\\limits_{0}^{K} \\left(\\frac{1}{\\left(x + \\frac{\\pi}{2}\\right)^{2} + 1} - \\frac{1}{x^{2} + 1}\\right) \\tan{\\left(x + \\frac{\\pi}{4} \\right)}\\, dx$"
      ],
      "text/plain": [
       "Eq(Integral((1/((x + pi/4)**2 + 1) - 1/((x - pi/4)**2 + 1))*tan(x), (x, 0, pi/4)), Integral((1/((x + pi/4)**2 + 1) - 1/((x - pi/4)**2 + 1))*tan(x), (x, 0, K)) - Integral((1/((x + pi/2)**2 + 1) - 1/(x**2 + 1))*tan(x + pi/4), (x, 0, K)))"
      ]
     },
     "execution_count": 3,
     "metadata": {},
     "output_type": "execute_result"
    }
   ],
   "source": [
    "Eq(Integral((1/(1+(x+pi/4)**2)-1/(1+(x-pi/4)**2))*tan(x), (x, 0, pi/4)),\n",
    "  Integral((1/(1+(x+pi/4)**2)-1/(1+(x-pi/4)**2))*tan(x), (x, 0, K)) - \\\n",
    "   Integral((1/(1+(x+pi/2)**2)-1/(1+(x)**2))*tan(x+pi/4), (x, 0, K)))"
   ]
  },
  {
   "cell_type": "code",
   "execution_count": 5,
   "metadata": {},
   "outputs": [
    {
     "data": {
      "text/latex": [
       "$\\displaystyle 0.06$"
      ],
      "text/plain": [
       "0.e-1"
      ]
     },
     "execution_count": 5,
     "metadata": {},
     "output_type": "execute_result"
    }
   ],
   "source": [
    "Integral((1/(1+(x+pi/2)**2)-1/(1+(x)**2))*tan(x+pi/4), (x, 0, oo)).evalf(10)"
   ]
  },
  {
   "cell_type": "code",
   "execution_count": 9,
   "metadata": {},
   "outputs": [
    {
     "data": {
      "text/latex": [
       "$\\displaystyle \\frac{i \\left(- e^{i x} + e^{- i x}\\right)}{e^{i x} + e^{- i x}} = \\tan{\\left(x \\right)}$"
      ],
      "text/plain": [
       "Eq(I*(-exp(I*x) + exp(-I*x))/(exp(I*x) + exp(-I*x)), tan(x))"
      ]
     },
     "execution_count": 9,
     "metadata": {},
     "output_type": "execute_result"
    }
   ],
   "source": [
    "Eq(I*(exp(-I*x)-exp(I*x))/(exp(I*x)+exp(-I*x)),(I*(exp(-I*x)-exp(I*x))/(exp(I*x)+exp(-I*x))).simplify())"
   ]
  },
  {
   "cell_type": "code",
   "execution_count": 10,
   "metadata": {},
   "outputs": [
    {
     "data": {
      "text/latex": [
       "$\\displaystyle i - \\frac{2 i e^{i x}}{e^{i x} + e^{- i x}} = \\tan{\\left(x \\right)}$"
      ],
      "text/plain": [
       "Eq(I - 2*I*exp(I*x)/(exp(I*x) + exp(-I*x)), tan(x))"
      ]
     },
     "execution_count": 10,
     "metadata": {},
     "output_type": "execute_result"
    }
   ],
   "source": [
    "Eq(I*(exp(-I*x)+exp(I*x))/(exp(I*x)+exp(-I*x))+I*(-2*exp(I*x))/(exp(I*x)+exp(-I*x)),(I*(exp(-I*x)-exp(I*x))/(exp(I*x)+exp(-I*x))).simplify())"
   ]
  },
  {
   "cell_type": "code",
   "execution_count": 11,
   "metadata": {},
   "outputs": [
    {
     "data": {
      "text/latex": [
       "$\\displaystyle i - \\frac{2 i}{1 + e^{- 2 i x}} = \\tan{\\left(x \\right)}$"
      ],
      "text/plain": [
       "Eq(I - 2*I/(1 + exp(-2*I*x)), tan(x))"
      ]
     },
     "execution_count": 11,
     "metadata": {},
     "output_type": "execute_result"
    }
   ],
   "source": [
    "Eq(I-2*I/(1+exp(-2*I*x)),tan(x))"
   ]
  },
  {
   "cell_type": "code",
   "execution_count": 19,
   "metadata": {},
   "outputs": [
    {
     "data": {
      "text/latex": [
       "$\\displaystyle \\frac{1}{1 + e^{- 2 i x}} = \\sum_{n=0}^{\\infty} \\left(-1\\right)^{n} e^{- 2 i n x}$"
      ],
      "text/plain": [
       "Eq(1/(1 + exp(-2*I*x)), Sum((-1)**n*exp(-2*I*n*x), (n, 0, oo)))"
      ]
     },
     "execution_count": 19,
     "metadata": {},
     "output_type": "execute_result"
    }
   ],
   "source": [
    "Eq(1/(1+exp(-2*I*x)),Sum((-1)**n*exp(-2*I*x*n),(n,0,oo)))"
   ]
  },
  {
   "cell_type": "code",
   "execution_count": 20,
   "metadata": {},
   "outputs": [
    {
     "data": {
      "text/latex": [
       "$\\displaystyle \\tan{\\left(x \\right)} = - 2 i \\sum_{n=0}^{\\infty} \\left(-1\\right)^{n} e^{- 2 i n x} + i$"
      ],
      "text/plain": [
       "Eq(tan(x), -2*I*Sum((-1)**n*exp(-2*I*n*x), (n, 0, oo)) + I)"
      ]
     },
     "execution_count": 20,
     "metadata": {},
     "output_type": "execute_result"
    }
   ],
   "source": [
    "Eq(tan(x),I-2*I*Sum((-1)**n*exp(-2*I*x*n),(n,0,oo)))"
   ]
  },
  {
   "cell_type": "code",
   "execution_count": 32,
   "metadata": {},
   "outputs": [
    {
     "data": {
      "text/latex": [
       "$\\displaystyle \\tan{\\left(x \\right)} = - 2 \\sum_{n=1}^{\\infty} \\left(-1\\right)^{n} \\sin{\\left(2 n x \\right)}$"
      ],
      "text/plain": [
       "Eq(tan(x), -2*Sum((-1)**n*sin(2*n*x), (n, 1, oo)))"
      ]
     },
     "execution_count": 32,
     "metadata": {},
     "output_type": "execute_result"
    }
   ],
   "source": [
    "Eq(tan(x),-2*Sum(-(-1)**n*I*(-exp(-2*I*x*n)/2+exp(2*I*x*n)/2).simplify(),(n,1,oo)))"
   ]
  },
  {
   "cell_type": "code",
   "execution_count": 25,
   "metadata": {},
   "outputs": [
    {
     "data": {
      "text/latex": [
       "$\\displaystyle \\tan{\\left(x + \\frac{\\pi}{4} \\right)} = - 2 i \\sum_{n=0}^{\\infty} e^{\\frac{i \\pi n}{2}} e^{- 2 i n x} + i$"
      ],
      "text/plain": [
       "Eq(tan(x + pi/4), -2*I*Sum(exp(I*pi*n/2)*exp(-2*I*n*x), (n, 0, oo)) + I)"
      ]
     },
     "execution_count": 25,
     "metadata": {},
     "output_type": "execute_result"
    }
   ],
   "source": [
    "Eq(tan(x+pi/4),I-2*I*Sum(exp(I*pi/2*n)*exp(-2*I*x*n),(n,0,oo)))"
   ]
  },
  {
   "cell_type": "code",
   "execution_count": 26,
   "metadata": {},
   "outputs": [
    {
     "data": {
      "text/latex": [
       "$\\displaystyle - \\operatorname{atan}{\\left(\\frac{\\pi}{2} \\right)} + \\frac{\\pi}{2}$"
      ],
      "text/plain": [
       "-atan(pi/2) + pi/2"
      ]
     },
     "execution_count": 26,
     "metadata": {},
     "output_type": "execute_result"
    }
   ],
   "source": [
    "integrate(1/((x+pi/2)**2+1),(x,0,oo))"
   ]
  },
  {
   "cell_type": "code",
   "execution_count": 27,
   "metadata": {},
   "outputs": [
    {
     "data": {
      "text/latex": [
       "$\\displaystyle \\frac{\\pi}{2}$"
      ],
      "text/plain": [
       "pi/2"
      ]
     },
     "execution_count": 27,
     "metadata": {},
     "output_type": "execute_result"
    }
   ],
   "source": [
    "integrate(1/((x)**2+1),(x,0,oo))"
   ]
  },
  {
   "cell_type": "code",
   "execution_count": 28,
   "metadata": {},
   "outputs": [
    {
     "data": {
      "text/latex": [
       "$\\displaystyle \\int\\limits_{0}^{K} \\left(\\frac{1}{\\left(x + \\frac{\\pi}{2}\\right)^{2} + 1} - \\frac{1}{x^{2} + 1}\\right) \\tan{\\left(x + \\frac{\\pi}{4} \\right)}\\, dx = \\int\\limits_{0}^{K} \\left(- 2 i \\sum_{n=0}^{\\infty} e^{\\frac{i \\pi n}{2}} e^{- 2 i n x} + i\\right) \\left(\\frac{1}{\\left(x + \\frac{\\pi}{2}\\right)^{2} + 1} - \\frac{1}{x^{2} + 1}\\right)\\, dx$"
      ],
      "text/plain": [
       "Eq(Integral((1/((x + pi/2)**2 + 1) - 1/(x**2 + 1))*tan(x + pi/4), (x, 0, K)), Integral((-2*I*Sum(exp(I*pi*n/2)*exp(-2*I*n*x), (n, 0, oo)) + I)*(1/((x + pi/2)**2 + 1) - 1/(x**2 + 1)), (x, 0, K)))"
      ]
     },
     "execution_count": 28,
     "metadata": {},
     "output_type": "execute_result"
    }
   ],
   "source": [
    "Eq(Integral((1/(1+(x+pi/2)**2)-1/(1+(x)**2))*tan(x+pi/4), (x, 0, K)),\n",
    "  Integral((1/(1+(x+pi/2)**2)-1/(1+(x)**2))*(I-2*I*Sum(exp(I*pi/2*n)*exp(-2*I*x*n),(n,0,oo))), (x, 0, K)))"
   ]
  },
  {
   "cell_type": "code",
   "execution_count": 32,
   "metadata": {},
   "outputs": [
    {
     "data": {
      "text/latex": [
       "$\\displaystyle \\int\\limits_{0}^{K} \\left(\\frac{1}{\\left(x + \\frac{\\pi}{2}\\right)^{2} + 1} - \\frac{1}{x^{2} + 1}\\right) \\tan{\\left(x + \\frac{\\pi}{4} \\right)}\\, dx = i \\int\\limits_{0}^{K} \\left(\\frac{1}{\\left(x + \\frac{\\pi}{2}\\right)^{2} + 1} - \\frac{1}{x^{2} + 1}\\right)\\, dx - 2 i \\sum_{n=0}^{\\infty} e^{\\frac{i \\pi n}{2}} \\int\\limits_{0}^{K} \\left(\\frac{1}{\\left(x + \\frac{\\pi}{2}\\right)^{2} + 1} - \\frac{1}{x^{2} + 1}\\right) e^{- 2 i n x}\\, dx$"
      ],
      "text/plain": [
       "Eq(Integral((1/((x + pi/2)**2 + 1) - 1/(x**2 + 1))*tan(x + pi/4), (x, 0, K)), I*Integral(1/((x + pi/2)**2 + 1) - 1/(x**2 + 1), (x, 0, K)) - 2*I*Sum(exp(I*pi*n/2)*Integral((1/((x + pi/2)**2 + 1) - 1/(x**2 + 1))*exp(-2*I*n*x), (x, 0, K)), (n, 0, oo)))"
      ]
     },
     "execution_count": 32,
     "metadata": {},
     "output_type": "execute_result"
    }
   ],
   "source": [
    "Eq(Integral((1/(1+(x+pi/2)**2)-1/(1+(x)**2))*tan(x+pi/4), (x, 0, K)),\n",
    "  I*Integral((1/(1+(x+pi/2)**2)-1/(1+(x)**2)), (x, 0, K)) + \\\n",
    "  -2*I*Sum(exp(I*pi/2*n)*Integral((1/(1+(x+pi/2)**2)-1/(1+(x)**2))*exp(-2*I*x*n), (x, 0, K)),(n,0,oo)))"
   ]
  },
  {
   "cell_type": "code",
   "execution_count": 33,
   "metadata": {
    "scrolled": true
   },
   "outputs": [
    {
     "data": {
      "text/latex": [
       "$\\displaystyle \\int\\limits_{0}^{K} \\left(\\frac{1}{\\left(x + \\frac{\\pi}{2}\\right)^{2} + 1} - \\frac{1}{x^{2} + 1}\\right) \\tan{\\left(x + \\frac{\\pi}{4} \\right)}\\, dx = - 2 i \\sum_{n=0}^{\\infty} e^{\\frac{i \\pi n}{2}} \\int\\limits_{0}^{K} \\left(\\frac{1}{\\left(x + \\frac{\\pi}{2}\\right)^{2} + 1} - \\frac{1}{x^{2} + 1}\\right) e^{- 2 i n x}\\, dx + i \\left(- \\frac{\\pi}{2} + \\operatorname{atan}{\\left(\\frac{2}{\\pi} \\right)}\\right)$"
      ],
      "text/plain": [
       "Eq(Integral((1/((x + pi/2)**2 + 1) - 1/(x**2 + 1))*tan(x + pi/4), (x, 0, K)), -2*I*Sum(exp(I*pi*n/2)*Integral((1/((x + pi/2)**2 + 1) - 1/(x**2 + 1))*exp(-2*I*n*x), (x, 0, K)), (n, 0, oo)) + I*(-pi/2 + atan(2/pi)))"
      ]
     },
     "execution_count": 33,
     "metadata": {},
     "output_type": "execute_result"
    }
   ],
   "source": [
    "Eq(Integral((1/(1+(x+pi/2)**2)-1/(1+(x)**2))*tan(x+pi/4), (x, 0, K)),\n",
    "  I*integrate((1/(1+(x+pi/2)**2)-1/(1+(x)**2)), (x, 0, oo)) + \\\n",
    "  -2*I*Sum(exp(I*pi/2*n)*Integral((1/(1+(x+pi/2)**2)-1/(1+(x)**2))*exp(-2*I*x*n), (x, 0, K)),(n,0,oo)))"
   ]
  },
  {
   "cell_type": "code",
   "execution_count": 35,
   "metadata": {},
   "outputs": [
    {
     "data": {
      "text/latex": [
       "$\\displaystyle \\frac{1}{x^{2} + 1} = \\int\\limits_{-\\infty}^{\\infty} \\frac{e^{- i k x} e^{- \\left|{k}\\right|}}{2}\\, dk$"
      ],
      "text/plain": [
       "Eq(1/(x**2 + 1), Integral(exp(-I*k*x)*exp(-Abs(k))/2, (k, -oo, oo)))"
      ]
     },
     "execution_count": 35,
     "metadata": {},
     "output_type": "execute_result"
    }
   ],
   "source": [
    "Eq(1/(1+x**2), Integral(exp(-abs(k))/2*exp(-I*x*k),(k,-oo,oo)))"
   ]
  },
  {
   "cell_type": "code",
   "execution_count": 37,
   "metadata": {},
   "outputs": [
    {
     "data": {
      "text/latex": [
       "$\\displaystyle \\frac{1}{\\left(x + \\frac{\\pi}{2}\\right)^{2} + 1} = \\int\\limits_{-\\infty}^{\\infty} \\frac{e^{- \\frac{i \\pi k}{2}} e^{- i k x} e^{- \\left|{k}\\right|}}{2}\\, dk$"
      ],
      "text/plain": [
       "Eq(1/((x + pi/2)**2 + 1), Integral(exp(-I*pi*k/2)*exp(-I*k*x)*exp(-Abs(k))/2, (k, -oo, oo)))"
      ]
     },
     "execution_count": 37,
     "metadata": {},
     "output_type": "execute_result"
    }
   ],
   "source": [
    "Eq(1/(1+(x+pi/2)**2), Integral(exp(-abs(k))/2*exp(-I*pi/2*k)*exp(-I*x*k),(k,-oo,oo)))"
   ]
  },
  {
   "cell_type": "code",
   "execution_count": 51,
   "metadata": {},
   "outputs": [
    {
     "data": {
      "text/latex": [
       "$\\displaystyle \\int\\limits_{0}^{K} \\left(\\frac{1}{\\left(x + \\frac{\\pi}{2}\\right)^{2} + 1} - \\frac{1}{x^{2} + 1}\\right) e^{- 2 i n x}\\, dx = \\int\\limits_{0}^{K} e^{- 2 i n x} \\int\\limits_{-\\infty}^{\\infty} \\frac{\\left(-1 + e^{- \\frac{i \\pi k}{2}}\\right) e^{- i k x} e^{- \\left|{k}\\right|}}{2}\\, dk\\, dx$"
      ],
      "text/plain": [
       "Eq(Integral((1/((x + pi/2)**2 + 1) - 1/(x**2 + 1))*exp(-2*I*n*x), (x, 0, K)), Integral(exp(-2*I*n*x)*Integral((-1 + exp(-I*pi*k/2))*exp(-I*k*x)*exp(-Abs(k))/2, (k, -oo, oo)), (x, 0, K)))"
      ]
     },
     "execution_count": 51,
     "metadata": {},
     "output_type": "execute_result"
    }
   ],
   "source": [
    "Eq(Integral((1/(1+(x+pi/2)**2)-1/(1+(x)**2))*exp(-2*I*x*n), (x, 0, K)),\n",
    "   Integral(Integral(exp(-abs(k))/2*(exp(-I*pi/2*k)-1)*exp(-I*x*k),(k,-oo,oo))*exp(-2*I*x*n), (x, 0, K)))"
   ]
  },
  {
   "cell_type": "code",
   "execution_count": 52,
   "metadata": {
    "scrolled": true
   },
   "outputs": [
    {
     "data": {
      "text/latex": [
       "$\\displaystyle \\int\\limits_{0}^{K} \\left(\\frac{1}{\\left(x + \\frac{\\pi}{2}\\right)^{2} + 1} - \\frac{1}{x^{2} + 1}\\right) e^{- 2 i n x}\\, dx = \\int\\limits_{-\\infty}^{\\infty} \\frac{\\left(-1 + e^{- \\frac{i \\pi k}{2}}\\right) e^{- \\left|{k}\\right|} \\int\\limits_{0}^{K} e^{- i k x} e^{- 2 i n x}\\, dx}{2}\\, dk$"
      ],
      "text/plain": [
       "Eq(Integral((1/((x + pi/2)**2 + 1) - 1/(x**2 + 1))*exp(-2*I*n*x), (x, 0, K)), Integral((-1 + exp(-I*pi*k/2))*exp(-Abs(k))*Integral(exp(-I*k*x)*exp(-2*I*n*x), (x, 0, K))/2, (k, -oo, oo)))"
      ]
     },
     "execution_count": 52,
     "metadata": {},
     "output_type": "execute_result"
    }
   ],
   "source": [
    "Eq(Integral((1/(1+(x+pi/2)**2)-1/(1+(x)**2))*exp(-2*I*x*n), (x, 0, K)),\n",
    "   Integral(exp(-abs(k))/2*(exp(-I*pi/2*k)-1)*Integral(exp(-I*x*k)*exp(-2*I*x*n), (x, 0, K)),(k,-oo,oo)))"
   ]
  },
  {
   "cell_type": "code",
   "execution_count": 56,
   "metadata": {},
   "outputs": [],
   "source": [
    "u=Function('u')\n",
    "delta=Function('delta')"
   ]
  },
  {
   "cell_type": "code",
   "execution_count": 58,
   "metadata": {},
   "outputs": [
    {
     "data": {
      "text/latex": [
       "$\\displaystyle \\int\\limits_{-\\infty}^{\\infty} u{\\left(x \\right)} e^{- i x y}\\, dx = \\pi \\delta{\\left(y \\right)} - \\frac{i}{y}$"
      ],
      "text/plain": [
       "Eq(Integral(u(x)*exp(-I*x*y), (x, -oo, oo)), pi*delta(y) - I/y)"
      ]
     },
     "execution_count": 58,
     "metadata": {},
     "output_type": "execute_result"
    }
   ],
   "source": [
    "Eq(Integral(u(x)*exp(-I*x*y), (x, -oo, oo)), pi*delta(y) + 1/(I*y))"
   ]
  },
  {
   "cell_type": "code",
   "execution_count": 59,
   "metadata": {},
   "outputs": [
    {
     "data": {
      "text/latex": [
       "$\\displaystyle \\int\\limits_{0}^{K} e^{- i k x} e^{- 2 i n x}\\, dx = \\pi \\delta{\\left(k + 2 n \\right)} - \\frac{i}{k + 2 n}$"
      ],
      "text/plain": [
       "Eq(Integral(exp(-I*k*x)*exp(-2*I*n*x), (x, 0, K)), pi*delta(k + 2*n) - I/(k + 2*n))"
      ]
     },
     "execution_count": 59,
     "metadata": {},
     "output_type": "execute_result"
    }
   ],
   "source": [
    "Eq(Integral(exp(-I*x*k)*exp(-2*I*x*n), (x, 0, K)), pi*delta(2*n+k) + 1/(I*(2*n+k)))"
   ]
  },
  {
   "cell_type": "code",
   "execution_count": 60,
   "metadata": {},
   "outputs": [
    {
     "data": {
      "text/latex": [
       "$\\displaystyle \\int\\limits_{0}^{K} \\left(\\frac{1}{\\left(x + \\frac{\\pi}{2}\\right)^{2} + 1} - \\frac{1}{x^{2} + 1}\\right) e^{- 2 i n x}\\, dx = \\int\\limits_{-\\infty}^{\\infty} \\frac{\\left(-1 + e^{- \\frac{i \\pi k}{2}}\\right) \\left(\\pi \\delta{\\left(k + 2 n \\right)} - \\frac{i}{k + 2 n}\\right) e^{- \\left|{k}\\right|}}{2}\\, dk$"
      ],
      "text/plain": [
       "Eq(Integral((1/((x + pi/2)**2 + 1) - 1/(x**2 + 1))*exp(-2*I*n*x), (x, 0, K)), Integral((-1 + exp(-I*pi*k/2))*(pi*delta(k + 2*n) - I/(k + 2*n))*exp(-Abs(k))/2, (k, -oo, oo)))"
      ]
     },
     "execution_count": 60,
     "metadata": {},
     "output_type": "execute_result"
    }
   ],
   "source": [
    "Eq(Integral((1/(1+(x+pi/2)**2)-1/(1+(x)**2))*exp(-2*I*x*n), (x, 0, K)),\n",
    "   Integral(exp(-abs(k))/2*(exp(-I*pi/2*k)-1)*(pi*delta(2*n+k) + 1/(I*(2*n+k))),(k,-oo,oo)))"
   ]
  },
  {
   "cell_type": "code",
   "execution_count": 62,
   "metadata": {},
   "outputs": [
    {
     "data": {
      "text/latex": [
       "$\\displaystyle \\int\\limits_{0}^{K} \\left(\\frac{1}{\\left(x + \\frac{\\pi}{2}\\right)^{2} + 1} - \\frac{1}{x^{2} + 1}\\right) e^{- 2 i n x}\\, dx = \\frac{\\pi \\left(e^{i \\pi n} - 1\\right) e^{- 2 \\left|{n}\\right|}}{4} - \\frac{i \\int\\limits_{-\\infty}^{\\infty} \\frac{\\left(-1 + e^{- \\frac{i \\pi k}{2}}\\right) e^{- \\left|{k}\\right|}}{k + 2 n}\\, dk}{2}$"
      ],
      "text/plain": [
       "Eq(Integral((1/((x + pi/2)**2 + 1) - 1/(x**2 + 1))*exp(-2*I*n*x), (x, 0, K)), pi*(exp(I*pi*n) - 1)*exp(-2*Abs(n))/4 - I*Integral((-1 + exp(-I*pi*k/2))*exp(-Abs(k))/(k + 2*n), (k, -oo, oo))/2)"
      ]
     },
     "execution_count": 62,
     "metadata": {},
     "output_type": "execute_result"
    }
   ],
   "source": [
    "Eq(Integral((1/(1+(x+pi/2)**2)-1/(1+(x)**2))*exp(-2*I*x*n), (x, 0, K)),\n",
    "   pi/2*exp(-abs(2*n))/2*(exp(I*pi*n)-1) - \\\n",
    "   I/2*Integral(exp(-abs(k))*(exp(-I*pi/2*k)-1)/((2*n+k)),(k,-oo,oo)))"
   ]
  },
  {
   "cell_type": "code",
   "execution_count": 4,
   "metadata": {},
   "outputs": [
    {
     "data": {
      "text/latex": [
       "$\\displaystyle \\int\\limits_{-\\infty}^{\\infty} \\frac{\\left(-1 + e^{- \\frac{i \\pi k}{2}}\\right) e^{- \\left|{k}\\right|}}{k + 2 n}\\, dk = 2 i \\pi \\left(e^{i \\pi n} - 1\\right) e^{- 2 \\left|{n}\\right|}$"
      ],
      "text/plain": [
       "Eq(Integral((-1 + exp(-I*pi*k/2))*exp(-Abs(k))/(k + 2*n), (k, -oo, oo)), 2*I*pi*(exp(I*pi*n) - 1)*exp(-2*Abs(n)))"
      ]
     },
     "execution_count": 4,
     "metadata": {},
     "output_type": "execute_result"
    }
   ],
   "source": [
    "Eq(Integral(exp(-abs(k))*(exp(-I*pi/2*k)-1)/((2*n+k)),(k,-oo,oo)),2*pi*I*exp(-abs(2*n))*(exp(I*pi*n)-1))"
   ]
  },
  {
   "cell_type": "code",
   "execution_count": 53,
   "metadata": {},
   "outputs": [
    {
     "data": {
      "text/latex": [
       "$\\displaystyle \\frac{1 - e^{\\frac{i \\pi \\left(k + 2 n\\right)}{2}}}{k + 2 n}$"
      ],
      "text/plain": [
       "(1 - exp(I*pi*(k + 2*n)/2))/(k + 2*n)"
      ]
     },
     "execution_count": 53,
     "metadata": {},
     "output_type": "execute_result"
    }
   ],
   "source": [
    "integrate(pi/2/I*exp(I*(k+2*n)*y*pi/2),(y,0,1)).simplify()"
   ]
  },
  {
   "cell_type": "code",
   "execution_count": 7,
   "metadata": {},
   "outputs": [
    {
     "data": {
      "text/latex": [
       "$\\displaystyle -0.3 + 0.02 i$"
      ],
      "text/plain": [
       "-0.e-1 + 0.e-2*I"
      ]
     },
     "execution_count": 7,
     "metadata": {},
     "output_type": "execute_result"
    }
   ],
   "source": [
    "Integral(exp(-abs(k))*(exp(-I*pi/2*k)-1)/((2*3+k)),(k,-oo,oo)).evalf(10)"
   ]
  },
  {
   "cell_type": "code",
   "execution_count": 22,
   "metadata": {},
   "outputs": [
    {
     "data": {
      "text/latex": [
       "$\\displaystyle 0.144$"
      ],
      "text/plain": [
       "0.144"
      ]
     },
     "execution_count": 22,
     "metadata": {},
     "output_type": "execute_result"
    }
   ],
   "source": [
    "Integral(exp(-abs(k))/(k+14),(k,-oo,oo)).evalf(20)"
   ]
  },
  {
   "cell_type": "code",
   "execution_count": 27,
   "metadata": {},
   "outputs": [
    {
     "data": {
      "text/latex": [
       "$\\displaystyle -0.08$"
      ],
      "text/plain": [
       "-0.08"
      ]
     },
     "execution_count": 27,
     "metadata": {},
     "output_type": "execute_result"
    }
   ],
   "source": [
    "Integral(exp(-abs(k))/(k**2-4*2**2),(k,0,oo)).evalf()"
   ]
  },
  {
   "cell_type": "code",
   "execution_count": null,
   "metadata": {},
   "outputs": [],
   "source": [
    "# n=1, 2\n",
    "# n=2, 0.6, 3/5\n",
    "# n=3, 0.4, 2/5\n",
    "# n=4, 0.3, 3/10\n",
    "# n=5, 0.2, 1/5\n",
    "# n=6, 0.1692, \n",
    "# n=7, 0.144"
   ]
  },
  {
   "cell_type": "code",
   "execution_count": 9,
   "metadata": {},
   "outputs": [
    {
     "data": {
      "text/latex": [
       "$\\displaystyle - 0.03114891851 i$"
      ],
      "text/plain": [
       "-0.03114891851*I"
      ]
     },
     "execution_count": 9,
     "metadata": {},
     "output_type": "execute_result"
    }
   ],
   "source": [
    "(2*pi*I*exp(-abs(2*3))*(exp(I*pi*3)-1)).evalf(10)"
   ]
  },
  {
   "cell_type": "code",
   "execution_count": 15,
   "metadata": {},
   "outputs": [
    {
     "data": {
      "image/png": "[encoded data removed]",
      "text/plain": [
       "<Figure size 432x288 with 1 Axes>"
      ]
     },
     "metadata": {
      "needs_background": "light"
     },
     "output_type": "display_data"
    },
    {
     "data": {
      "text/plain": [
       "<sympy.plotting.plot.Plot at 0x7fb5c195e700>"
      ]
     },
     "execution_count": 15,
     "metadata": {},
     "output_type": "execute_result"
    }
   ],
   "source": [
    "plot((1/(1+(x+pi/4)**2)-1/(1+(x-pi/4)**2))*tan(x), (x, -pi/4, pi/4))"
   ]
  },
  {
   "cell_type": "code",
   "execution_count": 5,
   "metadata": {},
   "outputs": [
    {
     "data": {
      "image/png": "[encoded data removed]",
      "text/plain": [
       "<Figure size 432x288 with 1 Axes>"
      ]
     },
     "metadata": {
      "needs_background": "light"
     },
     "output_type": "display_data"
    },
    {
     "data": {
      "text/plain": [
       "<sympy.plotting.plot.Plot at 0x7fb1c3955af0>"
      ]
     },
     "execution_count": 5,
     "metadata": {},
     "output_type": "execute_result"
    }
   ],
   "source": [
    "plot(cot(x+pi/4), (x, 0, pi/2))"
   ]
  },
  {
   "cell_type": "code",
   "execution_count": 6,
   "metadata": {},
   "outputs": [
    {
     "data": {
      "image/png": "[encoded data removed]",
      "text/plain": [
       "<Figure size 432x288 with 1 Axes>"
      ]
     },
     "metadata": {
      "needs_background": "light"
     },
     "output_type": "display_data"
    },
    {
     "data": {
      "text/plain": [
       "<sympy.plotting.plot.Plot at 0x7fb1c38c9850>"
      ]
     },
     "execution_count": 6,
     "metadata": {},
     "output_type": "execute_result"
    }
   ],
   "source": [
    "plot(cot(x+pi/4)/(1+x**2), (x, 0, pi/2))"
   ]
  },
  {
   "cell_type": "code",
   "execution_count": 17,
   "metadata": {},
   "outputs": [
    {
     "data": {
      "text/latex": [
       "$\\displaystyle \\frac{1}{x^{2} + 1} = \\int\\limits_{-\\infty}^{\\infty} \\frac{e^{- i k x} e^{- \\left|{k}\\right|}}{2}\\, dk$"
      ],
      "text/plain": [
       "Eq(1/(x**2 + 1), Integral(exp(-I*k*x)*exp(-Abs(k))/2, (k, -oo, oo)))"
      ]
     },
     "execution_count": 17,
     "metadata": {},
     "output_type": "execute_result"
    }
   ],
   "source": [
    "Eq(1/(1+x**2), Integral(exp(-abs(k))/2*exp(-I*x*k),(k,-oo,oo)))"
   ]
  },
  {
   "cell_type": "code",
   "execution_count": 21,
   "metadata": {},
   "outputs": [
    {
     "data": {
      "text/latex": [
       "$\\displaystyle \\int\\limits_{0}^{\\frac{\\pi}{2}} e^{- i k x} \\cot{\\left(x + \\frac{\\pi}{4} \\right)}\\, dx$"
      ],
      "text/plain": [
       "Integral(exp(-I*k*x)*cot(x + pi/4), (x, 0, pi/2))"
      ]
     },
     "execution_count": 21,
     "metadata": {},
     "output_type": "execute_result"
    }
   ],
   "source": [
    "Integral(exp(-I*x*k)*cot(x+pi/4), (x, 0, pi/2))"
   ]
  },
  {
   "cell_type": "code",
   "execution_count": 16,
   "metadata": {},
   "outputs": [
    {
     "data": {
      "text/latex": [
       "$\\displaystyle 0.5973818094$"
      ],
      "text/plain": [
       "0.5973818094"
      ]
     },
     "execution_count": 16,
     "metadata": {},
     "output_type": "execute_result"
    }
   ],
   "source": [
    "(1/2 * integrate(1/(1+x**2), (x, 0, pi/2)) - 1/2 * integrate(1/(1+x**2)*tan(x-pi/4), (x, 0, pi/2))).evalf(10)"
   ]
  },
  {
   "cell_type": "code",
   "execution_count": 4,
   "metadata": {},
   "outputs": [
    {
     "data": {
      "text/latex": [
       "$\\displaystyle 0.5973818094$"
      ],
      "text/plain": [
       "0.5973818094"
      ]
     },
     "execution_count": 4,
     "metadata": {},
     "output_type": "execute_result"
    }
   ],
   "source": [
    "Integral(1/(1+x**2)*1/(1+tan(x)), (x, 0, pi/2)).evalf(10)"
   ]
  },
  {
   "cell_type": "code",
   "execution_count": 5,
   "metadata": {},
   "outputs": [
    {
     "data": {
      "text/latex": [
       "$\\displaystyle \\frac{e^{2 i x} + 1}{\\left(1 - i\\right) e^{2 i x} + 1 + i}$"
      ],
      "text/plain": [
       "(exp(2*I*x) + 1)/((1 - I)*exp(2*I*x) + 1 + I)"
      ]
     },
     "execution_count": 5,
     "metadata": {},
     "output_type": "execute_result"
    }
   ],
   "source": [
    "expr = 1/(1+tan(x))\n",
    "expr.rewrite(exp).simplify()"
   ]
  },
  {
   "cell_type": "code",
   "execution_count": 6,
   "metadata": {
    "scrolled": true
   },
   "outputs": [
    {
     "data": {
      "text/latex": [
       "$\\displaystyle \\frac{1}{\\tan{\\left(x \\right)} + 1} = \\frac{1}{2} + \\frac{i}{2} - \\frac{i}{- i e^{2 i x} + 1}$"
      ],
      "text/plain": [
       "Eq(1/(tan(x) + 1), 1/2 + I/2 - I/(-I*exp(2*I*x) + 1))"
      ]
     },
     "execution_count": 6,
     "metadata": {},
     "output_type": "execute_result"
    }
   ],
   "source": [
    "Eq(1/(1+tan(x)),(-I*(1/(1-I*exp(2*I*x))+(-1+I)/2)).expand())"
   ]
  },
  {
   "cell_type": "code",
   "execution_count": 192,
   "metadata": {},
   "outputs": [
    {
     "data": {
      "text/latex": [
       "$\\displaystyle \\sum_{n=0}^{\\infty} z^{n} = \\begin{cases} \\frac{1}{1 - z} & \\text{for}\\: \\left|{z}\\right| < 1 \\\\\\sum_{n=0}^{\\infty} z^{n} & \\text{otherwise} \\end{cases}$"
      ],
      "text/plain": [
       "Eq(Sum(z**n, (n, 0, oo)), Piecewise((1/(1 - z), Abs(z) < 1), (Sum(z**n, (n, 0, oo)), True)))"
      ]
     },
     "execution_count": 192,
     "metadata": {},
     "output_type": "execute_result"
    }
   ],
   "source": [
    "Eq(Sum(z**n,(n,0,oo)), Sum(z**n,(n,0,oo)).doit())"
   ]
  },
  {
   "cell_type": "code",
   "execution_count": 216,
   "metadata": {},
   "outputs": [
    {
     "data": {
      "text/latex": [
       "$\\displaystyle \\lim_{\\epsilon \\to 1^+} \\frac{1}{- i \\epsilon e^{2 i x} + 1} = \\frac{1}{- i e^{2 i x} + 1}$"
      ],
      "text/plain": [
       "Eq(Limit(1/(-I*epsilon*exp(2*I*x) + 1), epsilon, 1), 1/(-I*exp(2*I*x) + 1))"
      ]
     },
     "execution_count": 216,
     "metadata": {},
     "output_type": "execute_result"
    }
   ],
   "source": [
    "Eq(Limit(1/(1-epsilon*I*exp(2*I*x)), epsilon, 1),limit(1/(1-epsilon*I*exp(2*I*x)), epsilon, 1))"
   ]
  },
  {
   "cell_type": "code",
   "execution_count": 218,
   "metadata": {},
   "outputs": [
    {
     "data": {
      "text/latex": [
       "$\\displaystyle \\frac{1}{- i \\epsilon e^{2 i x} + 1} = \\sum_{n=0}^{\\infty} i^{n} \\epsilon^{n} e^{2 i n x}$"
      ],
      "text/plain": [
       "Eq(1/(-I*epsilon*exp(2*I*x) + 1), Sum(I**n*epsilon**n*exp(2*I*n*x), (n, 0, oo)))"
      ]
     },
     "execution_count": 218,
     "metadata": {},
     "output_type": "execute_result"
    }
   ],
   "source": [
    "Eq(1/(1-epsilon*I*exp(2*I*x)), Sum(I**n*epsilon**n*exp(2*I*x*n),(n,0,oo)))"
   ]
  },
  {
   "cell_type": "code",
   "execution_count": 227,
   "metadata": {},
   "outputs": [
    {
     "data": {
      "text/latex": [
       "$\\displaystyle \\frac{1}{\\tan{\\left(x \\right)} + 1} = \\frac{1}{2} + \\frac{i}{2} - i \\lim_{\\epsilon \\to 1^+} \\sum_{n=0}^{\\infty} i^{n} \\epsilon^{n} e^{2 i n x}$"
      ],
      "text/plain": [
       "Eq(1/(tan(x) + 1), 1/2 + I/2 - I*Limit(Sum(I**n*epsilon**n*exp(2*I*n*x), (n, 0, oo)), epsilon, 1))"
      ]
     },
     "execution_count": 227,
     "metadata": {},
     "output_type": "execute_result"
    }
   ],
   "source": [
    "Eq(1/(1+tan(x)),-I*Limit(Sum(I**n*epsilon**n*exp(2*I*x*n),(n,0,oo)),epsilon,1)-(I*(-1+I)/2).expand())"
   ]
  },
  {
   "cell_type": "code",
   "execution_count": 211,
   "metadata": {},
   "outputs": [
    {
     "data": {
      "text/latex": [
       "$\\displaystyle \\frac{1}{x^{2} + 1} = \\int\\limits_{-\\infty}^{\\infty} \\frac{e^{- i k x} e^{- \\left|{k}\\right|}}{2}\\, dk$"
      ],
      "text/plain": [
       "Eq(1/(x**2 + 1), Integral(exp(-I*k*x)*exp(-Abs(k))/2, (k, -oo, oo)))"
      ]
     },
     "execution_count": 211,
     "metadata": {},
     "output_type": "execute_result"
    }
   ],
   "source": [
    "Eq(1/(1+x**2), Integral(exp(-abs(k))/2*exp(-I*x*k),(k,-oo,oo)))"
   ]
  },
  {
   "cell_type": "code",
   "execution_count": 12,
   "metadata": {},
   "outputs": [
    {
     "data": {
      "text/latex": [
       "$\\displaystyle \\frac{1}{x^{2} + 1} = \\int\\limits_{-\\infty}^{\\infty} \\frac{e^{- i x \\left(k + 2 n\\right)} e^{- \\left|{k + 2 n}\\right|}}{2}\\, dk$"
      ],
      "text/plain": [
       "Eq(1/(x**2 + 1), Integral(exp(-I*x*(k + 2*n))*exp(-Abs(k + 2*n))/2, (k, -oo, oo)))"
      ]
     },
     "execution_count": 12,
     "metadata": {},
     "output_type": "execute_result"
    }
   ],
   "source": [
    "Eq(1/(1+x**2), Integral(exp(-abs(k+2*n))/2*exp(-I*x*(k+2*n)),(k,-oo,oo)))"
   ]
  },
  {
   "cell_type": "code",
   "execution_count": 16,
   "metadata": {},
   "outputs": [
    {
     "data": {
      "text/latex": [
       "$\\displaystyle \\int \\frac{e^{2 i n x}}{x^{2} + 1}\\, dx = \\int\\limits_{-\\infty}^{\\infty} \\begin{cases} \\frac{i e^{- i k x} e^{- \\left|{k + 2 n}\\right|}}{2 k} & \\text{for}\\: k \\neq 0 \\\\\\frac{x e^{- \\left|{k + 2 n}\\right|}}{2} & \\text{otherwise} \\end{cases}\\, dk$"
      ],
      "text/plain": [
       "Eq(Integral(exp(2*I*n*x)/(x**2 + 1), x), Integral(Piecewise((I*exp(-I*k*x)*exp(-Abs(k + 2*n))/(2*k), Ne(k, 0)), (x*exp(-Abs(k + 2*n))/2, True)), (k, -oo, oo)))"
      ]
     },
     "execution_count": 16,
     "metadata": {},
     "output_type": "execute_result"
    }
   ],
   "source": [
    "Eq(integrate(exp(I*x*2*n)/(1+x**2),x), Integral(exp(-abs(k+2*n))/2*integrate(exp(-I*x*k),x),(k,-oo,oo)))"
   ]
  },
  {
   "cell_type": "code",
   "execution_count": 228,
   "metadata": {},
   "outputs": [
    {
     "data": {
      "text/latex": [
       "$\\displaystyle \\left(\\frac{1}{2} + \\frac{i}{2}\\right) \\operatorname{atan}{\\left(\\frac{\\pi}{2} \\right)}$"
      ],
      "text/plain": [
       "(1/2 + I/2)*atan(pi/2)"
      ]
     },
     "execution_count": 228,
     "metadata": {},
     "output_type": "execute_result"
    }
   ],
   "source": [
    "(1+I)/2*integrate(1/(1+x**2), (x, 0, pi/2)).simplify()"
   ]
  },
  {
   "cell_type": "code",
   "execution_count": 229,
   "metadata": {},
   "outputs": [
    {
     "data": {
      "text/latex": [
       "$\\displaystyle \\int\\limits_{0}^{\\frac{\\pi}{2}} \\frac{1}{\\left(x^{2} + 1\\right) \\left(\\tan{\\left(x \\right)} + 1\\right)}\\, dx = \\left(\\frac{1}{2} + \\frac{i}{2}\\right) \\operatorname{atan}{\\left(\\frac{\\pi}{2} \\right)} - i \\lim_{\\epsilon \\to 1^+} \\int\\limits_{0}^{\\frac{\\pi}{2}} \\frac{\\sum_{n=0}^{\\infty} i^{n} \\epsilon^{n} e^{2 i n x}}{x^{2} + 1}\\, dx$"
      ],
      "text/plain": [
       "Eq(Integral(1/((x**2 + 1)*(tan(x) + 1)), (x, 0, pi/2)), (1/2 + I/2)*atan(pi/2) - I*Limit(Integral(Sum(I**n*epsilon**n*exp(2*I*n*x), (n, 0, oo))/(x**2 + 1), (x, 0, pi/2)), epsilon, 1))"
      ]
     },
     "execution_count": 229,
     "metadata": {},
     "output_type": "execute_result"
    }
   ],
   "source": [
    "Eq(Integral(1/(1+x**2)*1/(1+tan(x)), (x, 0, pi/2)),\n",
    "   (1+I)/2*integrate(1/(1+x**2), (x, 0, pi/2)) -I*Limit(Integral(Sum(I**n*epsilon**n*exp(2*I*x*n),(n,0,oo))/(1+x**2),(x,0,pi/2)),epsilon,1) )"
   ]
  },
  {
   "cell_type": "code",
   "execution_count": 232,
   "metadata": {},
   "outputs": [
    {
     "data": {
      "text/latex": [
       "$\\displaystyle \\int\\limits_{0}^{\\frac{\\pi}{2}} \\frac{\\sum_{n=0}^{\\infty} i^{n} \\epsilon^{n} e^{2 i n x}}{x^{2} + 1}\\, dx = \\int\\limits_{0}^{\\frac{\\pi}{2}} \\sum_{n=0}^{\\infty} i^{n} \\epsilon^{n} \\int\\limits_{-\\infty}^{\\infty} \\frac{e^{- i k x} e^{2 i n x} e^{- \\left|{k}\\right|}}{2}\\, dk\\, dx$"
      ],
      "text/plain": [
       "Eq(Integral(Sum(I**n*epsilon**n*exp(2*I*n*x), (n, 0, oo))/(x**2 + 1), (x, 0, pi/2)), Integral(Sum(I**n*epsilon**n*Integral(exp(-I*k*x)*exp(2*I*n*x)*exp(-Abs(k))/2, (k, -oo, oo)), (n, 0, oo)), (x, 0, pi/2)))"
      ]
     },
     "execution_count": 232,
     "metadata": {},
     "output_type": "execute_result"
    }
   ],
   "source": [
    "Eq(Integral(Sum(I**n*epsilon**n*exp(2*I*x*n),(n,0,oo))/(1+x**2),(x,0,pi/2)),\n",
    "  Integral(Sum(I**n*epsilon**n*Integral(exp(-abs(k))/2*exp(2*I*x*n)*exp(-I*x*k),(k,-oo,oo)),(n,0,oo)),(x,0,pi/2)))"
   ]
  },
  {
   "cell_type": "code",
   "execution_count": 233,
   "metadata": {},
   "outputs": [
    {
     "data": {
      "text/latex": [
       "$\\displaystyle \\int\\limits_{0}^{\\frac{\\pi}{2}} \\sum_{n=0}^{\\infty} i^{n} \\epsilon^{n} \\int\\limits_{-\\infty}^{\\infty} \\frac{e^{- i k x} e^{2 i n x} e^{- \\left|{k}\\right|}}{2}\\, dk\\, dx = \\sum_{n=0}^{\\infty} i^{n} \\epsilon^{n} \\int\\limits_{-\\infty}^{\\infty} \\frac{e^{- \\left|{k}\\right|} \\int\\limits_{0}^{\\frac{\\pi}{2}} e^{- i k x} e^{2 i n x}\\, dx}{2}\\, dk$"
      ],
      "text/plain": [
       "Eq(Integral(Sum(I**n*epsilon**n*Integral(exp(-I*k*x)*exp(2*I*n*x)*exp(-Abs(k))/2, (k, -oo, oo)), (n, 0, oo)), (x, 0, pi/2)), Sum(I**n*epsilon**n*Integral(exp(-Abs(k))*Integral(exp(-I*k*x)*exp(2*I*n*x), (x, 0, pi/2))/2, (k, -oo, oo)), (n, 0, oo)))"
      ]
     },
     "execution_count": 233,
     "metadata": {},
     "output_type": "execute_result"
    }
   ],
   "source": [
    "Eq(Integral(Sum(I**n*epsilon**n*Integral(exp(-abs(k))/2*exp(2*I*x*n)*exp(-I*x*k),(k,-oo,oo)),(n,0,oo)),(x,0,pi/2)),\n",
    "  Sum(I**n*epsilon**n*Integral(exp(-abs(k))/2*Integral(exp(2*I*x*n)*exp(-I*x*k),(x,0,pi/2)),(k,-oo,oo)),(n,0,oo)))"
   ]
  },
  {
   "cell_type": "code",
   "execution_count": 240,
   "metadata": {
    "scrolled": true
   },
   "outputs": [
    {
     "data": {
      "text/latex": [
       "$\\displaystyle \\int\\limits_{0}^{\\frac{\\pi}{2}} e^{- i k x} e^{2 i n x}\\, dx = \\frac{i \\left(\\left(-1\\right)^{n} e^{- \\frac{i \\pi k}{2}} - 1\\right)}{k - 2 n}$"
      ],
      "text/plain": [
       "Eq(Integral(exp(-I*k*x)*exp(2*I*n*x), (x, 0, pi/2)), I*((-1)**n*exp(-I*pi*k/2) - 1)/(k - 2*n))"
      ]
     },
     "execution_count": 240,
     "metadata": {},
     "output_type": "execute_result"
    }
   ],
   "source": [
    "Eq(Integral(exp(2*I*x*n)*exp(-I*x*k),(x,0,pi/2)), I*(-1+(-1)**n*exp(-I*pi*k/2))/(k-2*n))"
   ]
  },
  {
   "cell_type": "code",
   "execution_count": 10,
   "metadata": {},
   "outputs": [
    {
     "data": {
      "text/latex": [
       "$\\displaystyle \\int\\limits_{0}^{\\frac{\\pi}{2}} e^{- i x \\left(k - 2 n\\right)}\\, dx = \\frac{2 e^{- \\frac{i \\pi \\left(k - 2 n\\right)}{4}} \\sin{\\left(\\pi \\left(\\frac{k}{4} - \\frac{n}{2}\\right) \\right)}}{k - 2 n}$"
      ],
      "text/plain": [
       "Eq(Integral(exp(-I*x*(k - 2*n)), (x, 0, pi/2)), 2*exp(-I*pi*(k - 2*n)/4)*sin(pi*(k/4 - n/2))/(k - 2*n))"
      ]
     },
     "execution_count": 10,
     "metadata": {},
     "output_type": "execute_result"
    }
   ],
   "source": [
    "Eq(Integral(exp(2*I*x*r),(x,0,pi/2)), I *exp(I*pi*r/2) * (exp(-I*pi*r/2) - exp(I*pi*r/2)).simplify()/(2*r)).subs(r, n-k/2).simplify()"
   ]
  },
  {
   "cell_type": "code",
   "execution_count": 247,
   "metadata": {},
   "outputs": [
    {
     "data": {
      "text/latex": [
       "$\\displaystyle \\sum_{n=0}^{\\infty} \\frac{i i^{n} \\epsilon^{n} \\left(\\left(-1\\right)^{n} e^{- \\frac{i \\pi k}{2}} - 1\\right)}{k - 2 n} = \\begin{cases} \\frac{i \\left(\\Phi\\left(\\epsilon e^{\\frac{i \\pi}{2}}, 1, \\frac{k e^{i \\pi}}{2}\\right) - \\Phi\\left(\\epsilon e^{\\frac{3 i \\pi}{2}}, 1, \\frac{k e^{i \\pi}}{2}\\right) e^{- \\frac{i \\pi k}{2}}\\right)}{2} & \\text{for}\\: \\epsilon \\geq -1 \\wedge \\epsilon \\leq 1 \\\\i \\sum_{n=0}^{\\infty} \\frac{i^{n} \\epsilon^{n} \\left(\\left(-1\\right)^{n} e^{- \\frac{i \\pi k}{2}} - 1\\right)}{k - 2 n} & \\text{otherwise} \\end{cases}$"
      ],
      "text/plain": [
       "Eq(Sum(I*I**n*epsilon**n*((-1)**n*exp(-I*pi*k/2) - 1)/(k - 2*n), (n, 0, oo)), Piecewise((I*(lerchphi(epsilon*exp_polar(I*pi/2), 1, k*exp_polar(I*pi)/2) - lerchphi(epsilon*exp_polar(3*I*pi/2), 1, k*exp_polar(I*pi)/2)*exp(-I*pi*k/2))/2, (epsilon >= -1) & (epsilon <= 1)), (I*Sum(I**n*epsilon**n*((-1)**n*exp(-I*pi*k/2) - 1)/(k - 2*n), (n, 0, oo)), True)))"
      ]
     },
     "execution_count": 247,
     "metadata": {},
     "output_type": "execute_result"
    }
   ],
   "source": [
    "Eq(Sum(I**n*epsilon**n*I*(-1+(-1)**n*exp(-I*pi*k/2))/(k-2*n),(n,0,oo)),\n",
    "   Sum(I**n*epsilon**n*I*(-1+(-1)**n*exp(-I*pi*k/2))/(k-2*n),(n,0,oo)).doit().simplify())"
   ]
  },
  {
   "cell_type": "code",
   "execution_count": 12,
   "metadata": {},
   "outputs": [
    {
     "data": {
      "text/latex": [
       "$\\displaystyle i \\left(- \\Phi\\left(- i \\epsilon, 1, - \\frac{k}{2}\\right) e^{- \\frac{i \\pi k}{2}} + \\Phi\\left(i \\epsilon, 1, - \\frac{k}{2}\\right)\\right)$"
      ],
      "text/plain": [
       "I*(-lerchphi(-I*epsilon, 1, -k/2)*exp(-I*pi*k/2) + lerchphi(I*epsilon, 1, -k/2))"
      ]
     },
     "execution_count": 12,
     "metadata": {},
     "output_type": "execute_result"
    }
   ],
   "source": [
    "I*(lerchphi(epsilon*exp(I*pi/2),1,k/2 * exp(I*pi))-lerchphi(epsilon*exp(3*I*pi/2),1,k/2 * exp(I*pi)) * exp(-I*pi*k/2))"
   ]
  },
  {
   "cell_type": "code",
   "execution_count": 20,
   "metadata": {},
   "outputs": [
    {
     "data": {
      "text/latex": [
       "$\\displaystyle \\frac{\\int\\limits_{0}^{\\infty} \\Phi\\left(i \\epsilon, 1, - \\frac{k}{2}\\right) e^{- \\left|{k}\\right|}\\, dk + \\int\\limits_{0}^{\\infty} \\left(- \\Phi\\left(- i \\epsilon, 1, - \\frac{k}{2}\\right) e^{- \\frac{i \\pi k}{2}} e^{- \\left|{k}\\right|}\\right)\\, dk}{2}$"
      ],
      "text/plain": [
       "(Integral(lerchphi(I*epsilon, 1, -k/2)*exp(-Abs(k)), (k, 0, oo)) + Integral(-lerchphi(-I*epsilon, 1, -k/2)*exp(-I*pi*k/2)*exp(-Abs(k)), (k, 0, oo)))/2"
      ]
     },
     "execution_count": 20,
     "metadata": {},
     "output_type": "execute_result"
    }
   ],
   "source": [
    "integrate(exp(-abs(k))/2*(lerchphi(epsilon*exp(I*pi/2),1,k/2 * exp(I*pi))-lerchphi(epsilon*exp(3*I*pi/2),1,k/2 * exp(I*pi)) * exp(-I*pi*k/2)),(k,0,oo))"
   ]
  },
  {
   "cell_type": "code",
   "execution_count": 21,
   "metadata": {},
   "outputs": [
    {
     "data": {
      "text/latex": [
       "$\\displaystyle \\int\\limits_{0}^{\\frac{\\pi}{2}} \\frac{1}{\\left(x^{2} + 1\\right) \\left(\\tan{\\left(x \\right)} + 1\\right)}\\, dx = \\frac{\\int\\limits_{0}^{\\infty} \\Phi\\left(i \\epsilon, 1, - \\frac{k}{2}\\right) e^{- \\left|{k}\\right|}\\, dk + \\int\\limits_{0}^{\\infty} \\left(- \\Phi\\left(- i \\epsilon, 1, - \\frac{k}{2}\\right) e^{- \\frac{i \\pi k}{2}} e^{- \\left|{k}\\right|}\\right)\\, dk}{2} + \\left(\\frac{1}{2} + \\frac{i}{2}\\right) \\operatorname{atan}{\\left(\\frac{\\pi}{2} \\right)}$"
      ],
      "text/plain": [
       "Eq(Integral(1/((x**2 + 1)*(tan(x) + 1)), (x, 0, pi/2)), (Integral(lerchphi(I*epsilon, 1, -k/2)*exp(-Abs(k)), (k, 0, oo)) + Integral(-lerchphi(-I*epsilon, 1, -k/2)*exp(-I*pi*k/2)*exp(-Abs(k)), (k, 0, oo)))/2 + (1/2 + I/2)*atan(pi/2))"
      ]
     },
     "execution_count": 21,
     "metadata": {},
     "output_type": "execute_result"
    }
   ],
   "source": [
    "Eq(Integral(1/(1+x**2)*1/(1+tan(x)), (x, 0, pi/2)),\n",
    "   (1+I)/2*integrate(1/(1+x**2), (x, 0, pi/2)) + integrate(exp(-abs(k))/2*(lerchphi(epsilon*exp(I*pi/2),1,k/2 * exp(I*pi))-lerchphi(epsilon*exp(3*I*pi/2),1,k/2 * exp(I*pi)) * exp(-I*pi*k/2)),(k,0,oo)))"
   ]
  },
  {
   "cell_type": "code",
   "execution_count": 25,
   "metadata": {},
   "outputs": [
    {
     "ename": "KeyboardInterrupt",
     "evalue": "",
     "output_type": "error",
     "traceback": [
      "\u001b[0;31m---------------------------------------------------------------------------\u001b[0m",
      "\u001b[0;31mKeyError\u001b[0m                                  Traceback (most recent call last)",
      "\u001b[0;32m~/.local/lib/python3.8/site-packages/sympy/core/evalf.py\u001b[0m in \u001b[0;36mevalf\u001b[0;34m(x, prec, options)\u001b[0m\n\u001b[1;32m   1364\u001b[0m     \u001b[0;32mtry\u001b[0m\u001b[0;34m:\u001b[0m\u001b[0;34m\u001b[0m\u001b[0;34m\u001b[0m\u001b[0m\n\u001b[0;32m-> 1365\u001b[0;31m         \u001b[0mrf\u001b[0m \u001b[0;34m=\u001b[0m \u001b[0mevalf_table\u001b[0m\u001b[0;34m[\u001b[0m\u001b[0mx\u001b[0m\u001b[0;34m.\u001b[0m\u001b[0mfunc\u001b[0m\u001b[0;34m]\u001b[0m\u001b[0;34m\u001b[0m\u001b[0;34m\u001b[0m\u001b[0m\n\u001b[0m\u001b[1;32m   1366\u001b[0m         \u001b[0mr\u001b[0m \u001b[0;34m=\u001b[0m \u001b[0mrf\u001b[0m\u001b[0;34m(\u001b[0m\u001b[0mx\u001b[0m\u001b[0;34m,\u001b[0m \u001b[0mprec\u001b[0m\u001b[0;34m,\u001b[0m \u001b[0moptions\u001b[0m\u001b[0;34m)\u001b[0m\u001b[0;34m\u001b[0m\u001b[0;34m\u001b[0m\u001b[0m\n",
      "\u001b[0;31mKeyError\u001b[0m: lerchphi",
      "\nDuring handling of the above exception, another exception occurred:\n",
      "\u001b[0;31mKeyboardInterrupt\u001b[0m                         Traceback (most recent call last)",
      "\u001b[0;32m<ipython-input-25-fe0e022706e6>\u001b[0m in \u001b[0;36m<module>\u001b[0;34m\u001b[0m\n\u001b[0;32m----> 1\u001b[0;31m \u001b[0;34m(\u001b[0m\u001b[0;34m(\u001b[0m\u001b[0;36m1\u001b[0m\u001b[0;34m+\u001b[0m\u001b[0mI\u001b[0m\u001b[0;34m)\u001b[0m\u001b[0;34m/\u001b[0m\u001b[0;36m2\u001b[0m\u001b[0;34m*\u001b[0m\u001b[0mintegrate\u001b[0m\u001b[0;34m(\u001b[0m\u001b[0;36m1\u001b[0m\u001b[0;34m/\u001b[0m\u001b[0;34m(\u001b[0m\u001b[0;36m1\u001b[0m\u001b[0;34m+\u001b[0m\u001b[0mx\u001b[0m\u001b[0;34m**\u001b[0m\u001b[0;36m2\u001b[0m\u001b[0;34m)\u001b[0m\u001b[0;34m,\u001b[0m \u001b[0;34m(\u001b[0m\u001b[0mx\u001b[0m\u001b[0;34m,\u001b[0m \u001b[0;36m0\u001b[0m\u001b[0;34m,\u001b[0m \u001b[0mpi\u001b[0m\u001b[0;34m/\u001b[0m\u001b[0;36m2\u001b[0m\u001b[0;34m)\u001b[0m\u001b[0;34m)\u001b[0m \u001b[0;34m+\u001b[0m \u001b[0mintegrate\u001b[0m\u001b[0;34m(\u001b[0m\u001b[0mexp\u001b[0m\u001b[0;34m(\u001b[0m\u001b[0;34m-\u001b[0m\u001b[0mabs\u001b[0m\u001b[0;34m(\u001b[0m\u001b[0mk\u001b[0m\u001b[0;34m)\u001b[0m\u001b[0;34m)\u001b[0m\u001b[0;34m/\u001b[0m\u001b[0;36m2\u001b[0m\u001b[0;34m*\u001b[0m\u001b[0;34m(\u001b[0m\u001b[0mlerchphi\u001b[0m\u001b[0;34m(\u001b[0m\u001b[0;36m0.99\u001b[0m\u001b[0;34m*\u001b[0m\u001b[0mexp\u001b[0m\u001b[0;34m(\u001b[0m\u001b[0mI\u001b[0m\u001b[0;34m*\u001b[0m\u001b[0mpi\u001b[0m\u001b[0;34m/\u001b[0m\u001b[0;36m2\u001b[0m\u001b[0;34m)\u001b[0m\u001b[0;34m,\u001b[0m\u001b[0;36m1\u001b[0m\u001b[0;34m,\u001b[0m\u001b[0mk\u001b[0m\u001b[0;34m/\u001b[0m\u001b[0;36m2\u001b[0m \u001b[0;34m*\u001b[0m \u001b[0mexp\u001b[0m\u001b[0;34m(\u001b[0m\u001b[0mI\u001b[0m\u001b[0;34m*\u001b[0m\u001b[0mpi\u001b[0m\u001b[0;34m)\u001b[0m\u001b[0;34m)\u001b[0m\u001b[0;34m-\u001b[0m\u001b[0mlerchphi\u001b[0m\u001b[0;34m(\u001b[0m\u001b[0;36m0.99\u001b[0m\u001b[0;34m*\u001b[0m\u001b[0mexp\u001b[0m\u001b[0;34m(\u001b[0m\u001b[0;36m3\u001b[0m\u001b[0;34m*\u001b[0m\u001b[0mI\u001b[0m\u001b[0;34m*\u001b[0m\u001b[0mpi\u001b[0m\u001b[0;34m/\u001b[0m\u001b[0;36m2\u001b[0m\u001b[0;34m)\u001b[0m\u001b[0;34m,\u001b[0m\u001b[0;36m1\u001b[0m\u001b[0;34m,\u001b[0m\u001b[0mk\u001b[0m\u001b[0;34m/\u001b[0m\u001b[0;36m2\u001b[0m \u001b[0;34m*\u001b[0m \u001b[0mexp\u001b[0m\u001b[0;34m(\u001b[0m\u001b[0mI\u001b[0m\u001b[0;34m*\u001b[0m\u001b[0mpi\u001b[0m\u001b[0;34m)\u001b[0m\u001b[0;34m)\u001b[0m \u001b[0;34m*\u001b[0m \u001b[0mexp\u001b[0m\u001b[0;34m(\u001b[0m\u001b[0;34m-\u001b[0m\u001b[0mI\u001b[0m\u001b[0;34m*\u001b[0m\u001b[0mpi\u001b[0m\u001b[0;34m*\u001b[0m\u001b[0mk\u001b[0m\u001b[0;34m/\u001b[0m\u001b[0;36m2\u001b[0m\u001b[0;34m)\u001b[0m\u001b[0;34m)\u001b[0m\u001b[0;34m,\u001b[0m\u001b[0;34m(\u001b[0m\u001b[0mk\u001b[0m\u001b[0;34m,\u001b[0m\u001b[0;36m0\u001b[0m\u001b[0;34m,\u001b[0m\u001b[0moo\u001b[0m\u001b[0;34m)\u001b[0m\u001b[0;34m)\u001b[0m\u001b[0;34m)\u001b[0m\u001b[0;34m.\u001b[0m\u001b[0mevalf\u001b[0m\u001b[0;34m(\u001b[0m\u001b[0;36m10\u001b[0m\u001b[0;34m)\u001b[0m\u001b[0;34m\u001b[0m\u001b[0;34m\u001b[0m\u001b[0m\n\u001b[0m",
      "\u001b[0;32m~/.local/lib/python3.8/site-packages/sympy/core/evalf.py\u001b[0m in \u001b[0;36mevalf\u001b[0;34m(self, n, subs, maxn, chop, strict, quad, verbose)\u001b[0m\n\u001b[1;32m   1512\u001b[0m             \u001b[0moptions\u001b[0m\u001b[0;34m[\u001b[0m\u001b[0;34m'quad'\u001b[0m\u001b[0;34m]\u001b[0m \u001b[0;34m=\u001b[0m \u001b[0mquad\u001b[0m\u001b[0;34m\u001b[0m\u001b[0;34m\u001b[0m\u001b[0m\n\u001b[1;32m   1513\u001b[0m         \u001b[0;32mtry\u001b[0m\u001b[0;34m:\u001b[0m\u001b[0;34m\u001b[0m\u001b[0;34m\u001b[0m\u001b[0m\n\u001b[0;32m-> 1514\u001b[0;31m             \u001b[0mresult\u001b[0m \u001b[0;34m=\u001b[0m \u001b[0mevalf\u001b[0m\u001b[0;34m(\u001b[0m\u001b[0mself\u001b[0m\u001b[0;34m,\u001b[0m \u001b[0mprec\u001b[0m \u001b[0;34m+\u001b[0m \u001b[0;36m4\u001b[0m\u001b[0;34m,\u001b[0m \u001b[0moptions\u001b[0m\u001b[0;34m)\u001b[0m\u001b[0;34m\u001b[0m\u001b[0;34m\u001b[0m\u001b[0m\n\u001b[0m\u001b[1;32m   1515\u001b[0m         \u001b[0;32mexcept\u001b[0m \u001b[0mNotImplementedError\u001b[0m\u001b[0;34m:\u001b[0m\u001b[0;34m\u001b[0m\u001b[0;34m\u001b[0m\u001b[0m\n\u001b[1;32m   1516\u001b[0m             \u001b[0;31m# Fall back to the ordinary evalf\u001b[0m\u001b[0;34m\u001b[0m\u001b[0;34m\u001b[0m\u001b[0;34m\u001b[0m\u001b[0m\n",
      "\u001b[0;32m~/.local/lib/python3.8/site-packages/sympy/core/evalf.py\u001b[0m in \u001b[0;36mevalf\u001b[0;34m(x, prec, options)\u001b[0m\n\u001b[1;32m   1364\u001b[0m     \u001b[0;32mtry\u001b[0m\u001b[0;34m:\u001b[0m\u001b[0;34m\u001b[0m\u001b[0;34m\u001b[0m\u001b[0m\n\u001b[1;32m   1365\u001b[0m         \u001b[0mrf\u001b[0m \u001b[0;34m=\u001b[0m \u001b[0mevalf_table\u001b[0m\u001b[0;34m[\u001b[0m\u001b[0mx\u001b[0m\u001b[0;34m.\u001b[0m\u001b[0mfunc\u001b[0m\u001b[0;34m]\u001b[0m\u001b[0;34m\u001b[0m\u001b[0;34m\u001b[0m\u001b[0m\n\u001b[0;32m-> 1366\u001b[0;31m         \u001b[0mr\u001b[0m \u001b[0;34m=\u001b[0m \u001b[0mrf\u001b[0m\u001b[0;34m(\u001b[0m\u001b[0mx\u001b[0m\u001b[0;34m,\u001b[0m \u001b[0mprec\u001b[0m\u001b[0;34m,\u001b[0m \u001b[0moptions\u001b[0m\u001b[0;34m)\u001b[0m\u001b[0;34m\u001b[0m\u001b[0;34m\u001b[0m\u001b[0m\n\u001b[0m\u001b[1;32m   1367\u001b[0m     \u001b[0;32mexcept\u001b[0m \u001b[0mKeyError\u001b[0m\u001b[0;34m:\u001b[0m\u001b[0;34m\u001b[0m\u001b[0;34m\u001b[0m\u001b[0m\n\u001b[1;32m   1368\u001b[0m         \u001b[0;31m# Fall back to ordinary evalf if possible\u001b[0m\u001b[0;34m\u001b[0m\u001b[0;34m\u001b[0m\u001b[0;34m\u001b[0m\u001b[0m\n",
      "\u001b[0;32m~/.local/lib/python3.8/site-packages/sympy/core/evalf.py\u001b[0m in \u001b[0;36mevalf_add\u001b[0;34m(v, prec, options)\u001b[0m\n\u001b[1;32m    532\u001b[0m         \u001b[0moptions\u001b[0m\u001b[0;34m[\u001b[0m\u001b[0;34m'maxprec'\u001b[0m\u001b[0;34m]\u001b[0m \u001b[0;34m=\u001b[0m \u001b[0mmin\u001b[0m\u001b[0;34m(\u001b[0m\u001b[0moldmaxprec\u001b[0m\u001b[0;34m,\u001b[0m \u001b[0;36m2\u001b[0m\u001b[0;34m*\u001b[0m\u001b[0mprec\u001b[0m\u001b[0;34m)\u001b[0m\u001b[0;34m\u001b[0m\u001b[0;34m\u001b[0m\u001b[0m\n\u001b[1;32m    533\u001b[0m \u001b[0;34m\u001b[0m\u001b[0m\n\u001b[0;32m--> 534\u001b[0;31m         \u001b[0mterms\u001b[0m \u001b[0;34m=\u001b[0m \u001b[0;34m[\u001b[0m\u001b[0mevalf\u001b[0m\u001b[0;34m(\u001b[0m\u001b[0marg\u001b[0m\u001b[0;34m,\u001b[0m \u001b[0mprec\u001b[0m \u001b[0;34m+\u001b[0m \u001b[0;36m10\u001b[0m\u001b[0;34m,\u001b[0m \u001b[0moptions\u001b[0m\u001b[0;34m)\u001b[0m \u001b[0;32mfor\u001b[0m \u001b[0marg\u001b[0m \u001b[0;32min\u001b[0m \u001b[0mv\u001b[0m\u001b[0;34m.\u001b[0m\u001b[0margs\u001b[0m\u001b[0;34m]\u001b[0m\u001b[0;34m\u001b[0m\u001b[0;34m\u001b[0m\u001b[0m\n\u001b[0m\u001b[1;32m    535\u001b[0m         re, re_acc = add_terms(\n\u001b[1;32m    536\u001b[0m             [a[0::2] for a in terms if a[0]], prec, target_prec)\n",
      "\u001b[0;32m~/.local/lib/python3.8/site-packages/sympy/core/evalf.py\u001b[0m in \u001b[0;36m<listcomp>\u001b[0;34m(.0)\u001b[0m\n\u001b[1;32m    532\u001b[0m         \u001b[0moptions\u001b[0m\u001b[0;34m[\u001b[0m\u001b[0;34m'maxprec'\u001b[0m\u001b[0;34m]\u001b[0m \u001b[0;34m=\u001b[0m \u001b[0mmin\u001b[0m\u001b[0;34m(\u001b[0m\u001b[0moldmaxprec\u001b[0m\u001b[0;34m,\u001b[0m \u001b[0;36m2\u001b[0m\u001b[0;34m*\u001b[0m\u001b[0mprec\u001b[0m\u001b[0;34m)\u001b[0m\u001b[0;34m\u001b[0m\u001b[0;34m\u001b[0m\u001b[0m\n\u001b[1;32m    533\u001b[0m \u001b[0;34m\u001b[0m\u001b[0m\n\u001b[0;32m--> 534\u001b[0;31m         \u001b[0mterms\u001b[0m \u001b[0;34m=\u001b[0m \u001b[0;34m[\u001b[0m\u001b[0mevalf\u001b[0m\u001b[0;34m(\u001b[0m\u001b[0marg\u001b[0m\u001b[0;34m,\u001b[0m \u001b[0mprec\u001b[0m \u001b[0;34m+\u001b[0m \u001b[0;36m10\u001b[0m\u001b[0;34m,\u001b[0m \u001b[0moptions\u001b[0m\u001b[0;34m)\u001b[0m \u001b[0;32mfor\u001b[0m \u001b[0marg\u001b[0m \u001b[0;32min\u001b[0m \u001b[0mv\u001b[0m\u001b[0;34m.\u001b[0m\u001b[0margs\u001b[0m\u001b[0;34m]\u001b[0m\u001b[0;34m\u001b[0m\u001b[0;34m\u001b[0m\u001b[0m\n\u001b[0m\u001b[1;32m    535\u001b[0m         re, re_acc = add_terms(\n\u001b[1;32m    536\u001b[0m             [a[0::2] for a in terms if a[0]], prec, target_prec)\n",
      "\u001b[0;32m~/.local/lib/python3.8/site-packages/sympy/core/evalf.py\u001b[0m in \u001b[0;36mevalf\u001b[0;34m(x, prec, options)\u001b[0m\n\u001b[1;32m   1364\u001b[0m     \u001b[0;32mtry\u001b[0m\u001b[0;34m:\u001b[0m\u001b[0;34m\u001b[0m\u001b[0;34m\u001b[0m\u001b[0m\n\u001b[1;32m   1365\u001b[0m         \u001b[0mrf\u001b[0m \u001b[0;34m=\u001b[0m \u001b[0mevalf_table\u001b[0m\u001b[0;34m[\u001b[0m\u001b[0mx\u001b[0m\u001b[0;34m.\u001b[0m\u001b[0mfunc\u001b[0m\u001b[0;34m]\u001b[0m\u001b[0;34m\u001b[0m\u001b[0;34m\u001b[0m\u001b[0m\n\u001b[0;32m-> 1366\u001b[0;31m         \u001b[0mr\u001b[0m \u001b[0;34m=\u001b[0m \u001b[0mrf\u001b[0m\u001b[0;34m(\u001b[0m\u001b[0mx\u001b[0m\u001b[0;34m,\u001b[0m \u001b[0mprec\u001b[0m\u001b[0;34m,\u001b[0m \u001b[0moptions\u001b[0m\u001b[0;34m)\u001b[0m\u001b[0;34m\u001b[0m\u001b[0;34m\u001b[0m\u001b[0m\n\u001b[0m\u001b[1;32m   1367\u001b[0m     \u001b[0;32mexcept\u001b[0m \u001b[0mKeyError\u001b[0m\u001b[0;34m:\u001b[0m\u001b[0;34m\u001b[0m\u001b[0;34m\u001b[0m\u001b[0m\n\u001b[1;32m   1368\u001b[0m         \u001b[0;31m# Fall back to ordinary evalf if possible\u001b[0m\u001b[0;34m\u001b[0m\u001b[0;34m\u001b[0m\u001b[0;34m\u001b[0m\u001b[0m\n",
      "\u001b[0;32m~/.local/lib/python3.8/site-packages/sympy/core/evalf.py\u001b[0m in \u001b[0;36mevalf_mul\u001b[0;34m(v, prec, options)\u001b[0m\n\u001b[1;32m    572\u001b[0m     \u001b[0;32mfrom\u001b[0m \u001b[0msympy\u001b[0m\u001b[0;34m.\u001b[0m\u001b[0mcore\u001b[0m\u001b[0;34m.\u001b[0m\u001b[0mnumbers\u001b[0m \u001b[0;32mimport\u001b[0m \u001b[0mFloat\u001b[0m\u001b[0;34m\u001b[0m\u001b[0;34m\u001b[0m\u001b[0m\n\u001b[1;32m    573\u001b[0m     \u001b[0;32mfor\u001b[0m \u001b[0marg\u001b[0m \u001b[0;32min\u001b[0m \u001b[0margs\u001b[0m\u001b[0;34m:\u001b[0m\u001b[0;34m\u001b[0m\u001b[0;34m\u001b[0m\u001b[0m\n\u001b[0;32m--> 574\u001b[0;31m         \u001b[0marg\u001b[0m \u001b[0;34m=\u001b[0m \u001b[0mevalf\u001b[0m\u001b[0;34m(\u001b[0m\u001b[0marg\u001b[0m\u001b[0;34m,\u001b[0m \u001b[0mprec\u001b[0m\u001b[0;34m,\u001b[0m \u001b[0moptions\u001b[0m\u001b[0;34m)\u001b[0m\u001b[0;34m\u001b[0m\u001b[0;34m\u001b[0m\u001b[0m\n\u001b[0m\u001b[1;32m    575\u001b[0m         \u001b[0;32mif\u001b[0m \u001b[0marg\u001b[0m\u001b[0;34m[\u001b[0m\u001b[0;36m0\u001b[0m\u001b[0;34m]\u001b[0m \u001b[0;32mis\u001b[0m \u001b[0;32mNone\u001b[0m\u001b[0;34m:\u001b[0m\u001b[0;34m\u001b[0m\u001b[0;34m\u001b[0m\u001b[0m\n\u001b[1;32m    576\u001b[0m             \u001b[0;32mcontinue\u001b[0m\u001b[0;34m\u001b[0m\u001b[0;34m\u001b[0m\u001b[0m\n",
      "\u001b[0;32m~/.local/lib/python3.8/site-packages/sympy/core/evalf.py\u001b[0m in \u001b[0;36mevalf\u001b[0;34m(x, prec, options)\u001b[0m\n\u001b[1;32m   1364\u001b[0m     \u001b[0;32mtry\u001b[0m\u001b[0;34m:\u001b[0m\u001b[0;34m\u001b[0m\u001b[0;34m\u001b[0m\u001b[0m\n\u001b[1;32m   1365\u001b[0m         \u001b[0mrf\u001b[0m \u001b[0;34m=\u001b[0m \u001b[0mevalf_table\u001b[0m\u001b[0;34m[\u001b[0m\u001b[0mx\u001b[0m\u001b[0;34m.\u001b[0m\u001b[0mfunc\u001b[0m\u001b[0;34m]\u001b[0m\u001b[0;34m\u001b[0m\u001b[0;34m\u001b[0m\u001b[0m\n\u001b[0;32m-> 1366\u001b[0;31m         \u001b[0mr\u001b[0m \u001b[0;34m=\u001b[0m \u001b[0mrf\u001b[0m\u001b[0;34m(\u001b[0m\u001b[0mx\u001b[0m\u001b[0;34m,\u001b[0m \u001b[0mprec\u001b[0m\u001b[0;34m,\u001b[0m \u001b[0moptions\u001b[0m\u001b[0;34m)\u001b[0m\u001b[0;34m\u001b[0m\u001b[0;34m\u001b[0m\u001b[0m\n\u001b[0m\u001b[1;32m   1367\u001b[0m     \u001b[0;32mexcept\u001b[0m \u001b[0mKeyError\u001b[0m\u001b[0;34m:\u001b[0m\u001b[0;34m\u001b[0m\u001b[0;34m\u001b[0m\u001b[0m\n\u001b[1;32m   1368\u001b[0m         \u001b[0;31m# Fall back to ordinary evalf if possible\u001b[0m\u001b[0;34m\u001b[0m\u001b[0;34m\u001b[0m\u001b[0;34m\u001b[0m\u001b[0m\n",
      "\u001b[0;32m~/.local/lib/python3.8/site-packages/sympy/core/evalf.py\u001b[0m in \u001b[0;36mevalf_add\u001b[0;34m(v, prec, options)\u001b[0m\n\u001b[1;32m    532\u001b[0m         \u001b[0moptions\u001b[0m\u001b[0;34m[\u001b[0m\u001b[0;34m'maxprec'\u001b[0m\u001b[0;34m]\u001b[0m \u001b[0;34m=\u001b[0m \u001b[0mmin\u001b[0m\u001b[0;34m(\u001b[0m\u001b[0moldmaxprec\u001b[0m\u001b[0;34m,\u001b[0m \u001b[0;36m2\u001b[0m\u001b[0;34m*\u001b[0m\u001b[0mprec\u001b[0m\u001b[0;34m)\u001b[0m\u001b[0;34m\u001b[0m\u001b[0;34m\u001b[0m\u001b[0m\n\u001b[1;32m    533\u001b[0m \u001b[0;34m\u001b[0m\u001b[0m\n\u001b[0;32m--> 534\u001b[0;31m         \u001b[0mterms\u001b[0m \u001b[0;34m=\u001b[0m \u001b[0;34m[\u001b[0m\u001b[0mevalf\u001b[0m\u001b[0;34m(\u001b[0m\u001b[0marg\u001b[0m\u001b[0;34m,\u001b[0m \u001b[0mprec\u001b[0m \u001b[0;34m+\u001b[0m \u001b[0;36m10\u001b[0m\u001b[0;34m,\u001b[0m \u001b[0moptions\u001b[0m\u001b[0;34m)\u001b[0m \u001b[0;32mfor\u001b[0m \u001b[0marg\u001b[0m \u001b[0;32min\u001b[0m \u001b[0mv\u001b[0m\u001b[0;34m.\u001b[0m\u001b[0margs\u001b[0m\u001b[0;34m]\u001b[0m\u001b[0;34m\u001b[0m\u001b[0;34m\u001b[0m\u001b[0m\n\u001b[0m\u001b[1;32m    535\u001b[0m         re, re_acc = add_terms(\n\u001b[1;32m    536\u001b[0m             [a[0::2] for a in terms if a[0]], prec, target_prec)\n",
      "\u001b[0;32m~/.local/lib/python3.8/site-packages/sympy/core/evalf.py\u001b[0m in \u001b[0;36m<listcomp>\u001b[0;34m(.0)\u001b[0m\n\u001b[1;32m    532\u001b[0m         \u001b[0moptions\u001b[0m\u001b[0;34m[\u001b[0m\u001b[0;34m'maxprec'\u001b[0m\u001b[0;34m]\u001b[0m \u001b[0;34m=\u001b[0m \u001b[0mmin\u001b[0m\u001b[0;34m(\u001b[0m\u001b[0moldmaxprec\u001b[0m\u001b[0;34m,\u001b[0m \u001b[0;36m2\u001b[0m\u001b[0;34m*\u001b[0m\u001b[0mprec\u001b[0m\u001b[0;34m)\u001b[0m\u001b[0;34m\u001b[0m\u001b[0;34m\u001b[0m\u001b[0m\n\u001b[1;32m    533\u001b[0m \u001b[0;34m\u001b[0m\u001b[0m\n\u001b[0;32m--> 534\u001b[0;31m         \u001b[0mterms\u001b[0m \u001b[0;34m=\u001b[0m \u001b[0;34m[\u001b[0m\u001b[0mevalf\u001b[0m\u001b[0;34m(\u001b[0m\u001b[0marg\u001b[0m\u001b[0;34m,\u001b[0m \u001b[0mprec\u001b[0m \u001b[0;34m+\u001b[0m \u001b[0;36m10\u001b[0m\u001b[0;34m,\u001b[0m \u001b[0moptions\u001b[0m\u001b[0;34m)\u001b[0m \u001b[0;32mfor\u001b[0m \u001b[0marg\u001b[0m \u001b[0;32min\u001b[0m \u001b[0mv\u001b[0m\u001b[0;34m.\u001b[0m\u001b[0margs\u001b[0m\u001b[0;34m]\u001b[0m\u001b[0;34m\u001b[0m\u001b[0;34m\u001b[0m\u001b[0m\n\u001b[0m\u001b[1;32m    535\u001b[0m         re, re_acc = add_terms(\n\u001b[1;32m    536\u001b[0m             [a[0::2] for a in terms if a[0]], prec, target_prec)\n",
      "\u001b[0;32m~/.local/lib/python3.8/site-packages/sympy/core/evalf.py\u001b[0m in \u001b[0;36mevalf\u001b[0;34m(x, prec, options)\u001b[0m\n\u001b[1;32m   1364\u001b[0m     \u001b[0;32mtry\u001b[0m\u001b[0;34m:\u001b[0m\u001b[0;34m\u001b[0m\u001b[0;34m\u001b[0m\u001b[0m\n\u001b[1;32m   1365\u001b[0m         \u001b[0mrf\u001b[0m \u001b[0;34m=\u001b[0m \u001b[0mevalf_table\u001b[0m\u001b[0;34m[\u001b[0m\u001b[0mx\u001b[0m\u001b[0;34m.\u001b[0m\u001b[0mfunc\u001b[0m\u001b[0;34m]\u001b[0m\u001b[0;34m\u001b[0m\u001b[0;34m\u001b[0m\u001b[0m\n\u001b[0;32m-> 1366\u001b[0;31m         \u001b[0mr\u001b[0m \u001b[0;34m=\u001b[0m \u001b[0mrf\u001b[0m\u001b[0;34m(\u001b[0m\u001b[0mx\u001b[0m\u001b[0;34m,\u001b[0m \u001b[0mprec\u001b[0m\u001b[0;34m,\u001b[0m \u001b[0moptions\u001b[0m\u001b[0;34m)\u001b[0m\u001b[0;34m\u001b[0m\u001b[0;34m\u001b[0m\u001b[0m\n\u001b[0m\u001b[1;32m   1367\u001b[0m     \u001b[0;32mexcept\u001b[0m \u001b[0mKeyError\u001b[0m\u001b[0;34m:\u001b[0m\u001b[0;34m\u001b[0m\u001b[0;34m\u001b[0m\u001b[0m\n\u001b[1;32m   1368\u001b[0m         \u001b[0;31m# Fall back to ordinary evalf if possible\u001b[0m\u001b[0;34m\u001b[0m\u001b[0;34m\u001b[0m\u001b[0;34m\u001b[0m\u001b[0m\n",
      "\u001b[0;32m~/.local/lib/python3.8/site-packages/sympy/core/evalf.py\u001b[0m in \u001b[0;36mevalf_integral\u001b[0;34m(expr, prec, options)\u001b[0m\n\u001b[1;32m   1061\u001b[0m     \u001b[0mmaxprec\u001b[0m \u001b[0;34m=\u001b[0m \u001b[0moptions\u001b[0m\u001b[0;34m.\u001b[0m\u001b[0mget\u001b[0m\u001b[0;34m(\u001b[0m\u001b[0;34m'maxprec'\u001b[0m\u001b[0;34m,\u001b[0m \u001b[0mINF\u001b[0m\u001b[0;34m)\u001b[0m\u001b[0;34m\u001b[0m\u001b[0;34m\u001b[0m\u001b[0m\n\u001b[1;32m   1062\u001b[0m     \u001b[0;32mwhile\u001b[0m \u001b[0;36m1\u001b[0m\u001b[0;34m:\u001b[0m\u001b[0;34m\u001b[0m\u001b[0;34m\u001b[0m\u001b[0m\n\u001b[0;32m-> 1063\u001b[0;31m         \u001b[0mresult\u001b[0m \u001b[0;34m=\u001b[0m \u001b[0mdo_integral\u001b[0m\u001b[0;34m(\u001b[0m\u001b[0mexpr\u001b[0m\u001b[0;34m,\u001b[0m \u001b[0mworkprec\u001b[0m\u001b[0;34m,\u001b[0m \u001b[0moptions\u001b[0m\u001b[0;34m)\u001b[0m\u001b[0;34m\u001b[0m\u001b[0;34m\u001b[0m\u001b[0m\n\u001b[0m\u001b[1;32m   1064\u001b[0m         \u001b[0maccuracy\u001b[0m \u001b[0;34m=\u001b[0m \u001b[0mcomplex_accuracy\u001b[0m\u001b[0;34m(\u001b[0m\u001b[0mresult\u001b[0m\u001b[0;34m)\u001b[0m\u001b[0;34m\u001b[0m\u001b[0;34m\u001b[0m\u001b[0m\n\u001b[1;32m   1065\u001b[0m         \u001b[0;32mif\u001b[0m \u001b[0maccuracy\u001b[0m \u001b[0;34m>=\u001b[0m \u001b[0mprec\u001b[0m\u001b[0;34m:\u001b[0m  \u001b[0;31m# achieved desired precision\u001b[0m\u001b[0;34m\u001b[0m\u001b[0;34m\u001b[0m\u001b[0m\n",
      "\u001b[0;32m~/.local/lib/python3.8/site-packages/sympy/core/evalf.py\u001b[0m in \u001b[0;36mdo_integral\u001b[0;34m(expr, prec, options)\u001b[0m\n\u001b[1;32m   1020\u001b[0m             \u001b[0mquadrature_error\u001b[0m \u001b[0;34m=\u001b[0m \u001b[0mMINUS_INF\u001b[0m\u001b[0;34m\u001b[0m\u001b[0;34m\u001b[0m\u001b[0m\n\u001b[1;32m   1021\u001b[0m         \u001b[0;32melse\u001b[0m\u001b[0;34m:\u001b[0m\u001b[0;34m\u001b[0m\u001b[0;34m\u001b[0m\u001b[0m\n\u001b[0;32m-> 1022\u001b[0;31m             \u001b[0mresult\u001b[0m\u001b[0;34m,\u001b[0m \u001b[0mquadrature_error\u001b[0m \u001b[0;34m=\u001b[0m \u001b[0mquadts\u001b[0m\u001b[0;34m(\u001b[0m\u001b[0mf\u001b[0m\u001b[0;34m,\u001b[0m \u001b[0;34m[\u001b[0m\u001b[0mxlow\u001b[0m\u001b[0;34m,\u001b[0m \u001b[0mxhigh\u001b[0m\u001b[0;34m]\u001b[0m\u001b[0;34m,\u001b[0m \u001b[0merror\u001b[0m\u001b[0;34m=\u001b[0m\u001b[0;36m1\u001b[0m\u001b[0;34m)\u001b[0m\u001b[0;34m\u001b[0m\u001b[0;34m\u001b[0m\u001b[0m\n\u001b[0m\u001b[1;32m   1023\u001b[0m             \u001b[0mquadrature_error\u001b[0m \u001b[0;34m=\u001b[0m \u001b[0mfastlog\u001b[0m\u001b[0;34m(\u001b[0m\u001b[0mquadrature_error\u001b[0m\u001b[0;34m.\u001b[0m\u001b[0m_mpf_\u001b[0m\u001b[0;34m)\u001b[0m\u001b[0;34m\u001b[0m\u001b[0;34m\u001b[0m\u001b[0m\n\u001b[1;32m   1024\u001b[0m \u001b[0;34m\u001b[0m\u001b[0m\n",
      "\u001b[0;32m~/.local/lib/python3.8/site-packages/mpmath/calculus/quadrature.py\u001b[0m in \u001b[0;36mquadts\u001b[0;34m(ctx, *args, **kwargs)\u001b[0m\n\u001b[1;32m    786\u001b[0m         \"\"\"\n\u001b[1;32m    787\u001b[0m         \u001b[0mkwargs\u001b[0m\u001b[0;34m[\u001b[0m\u001b[0;34m'method'\u001b[0m\u001b[0;34m]\u001b[0m \u001b[0;34m=\u001b[0m \u001b[0;34m'tanh-sinh'\u001b[0m\u001b[0;34m\u001b[0m\u001b[0;34m\u001b[0m\u001b[0m\n\u001b[0;32m--> 788\u001b[0;31m         \u001b[0;32mreturn\u001b[0m \u001b[0mctx\u001b[0m\u001b[0;34m.\u001b[0m\u001b[0mquad\u001b[0m\u001b[0;34m(\u001b[0m\u001b[0;34m*\u001b[0m\u001b[0margs\u001b[0m\u001b[0;34m,\u001b[0m \u001b[0;34m**\u001b[0m\u001b[0mkwargs\u001b[0m\u001b[0;34m)\u001b[0m\u001b[0;34m\u001b[0m\u001b[0;34m\u001b[0m\u001b[0m\n\u001b[0m\u001b[1;32m    789\u001b[0m \u001b[0;34m\u001b[0m\u001b[0m\n\u001b[1;32m    790\u001b[0m     \u001b[0;32mdef\u001b[0m \u001b[0mquadgl\u001b[0m\u001b[0;34m(\u001b[0m\u001b[0mctx\u001b[0m\u001b[0;34m,\u001b[0m \u001b[0;34m*\u001b[0m\u001b[0margs\u001b[0m\u001b[0;34m,\u001b[0m \u001b[0;34m**\u001b[0m\u001b[0mkwargs\u001b[0m\u001b[0;34m)\u001b[0m\u001b[0;34m:\u001b[0m\u001b[0;34m\u001b[0m\u001b[0;34m\u001b[0m\u001b[0m\n",
      "\u001b[0;32m~/.local/lib/python3.8/site-packages/mpmath/calculus/quadrature.py\u001b[0m in \u001b[0;36mquad\u001b[0;34m(ctx, f, *points, **kwargs)\u001b[0m\n\u001b[1;32m    743\u001b[0m             \u001b[0mctx\u001b[0m\u001b[0;34m.\u001b[0m\u001b[0mprec\u001b[0m \u001b[0;34m+=\u001b[0m \u001b[0;36m20\u001b[0m\u001b[0;34m\u001b[0m\u001b[0;34m\u001b[0m\u001b[0m\n\u001b[1;32m    744\u001b[0m             \u001b[0;32mif\u001b[0m \u001b[0mdim\u001b[0m \u001b[0;34m==\u001b[0m \u001b[0;36m1\u001b[0m\u001b[0;34m:\u001b[0m\u001b[0;34m\u001b[0m\u001b[0;34m\u001b[0m\u001b[0m\n\u001b[0;32m--> 745\u001b[0;31m                 \u001b[0mv\u001b[0m\u001b[0;34m,\u001b[0m \u001b[0merr\u001b[0m \u001b[0;34m=\u001b[0m \u001b[0mrule\u001b[0m\u001b[0;34m.\u001b[0m\u001b[0msummation\u001b[0m\u001b[0;34m(\u001b[0m\u001b[0mf\u001b[0m\u001b[0;34m,\u001b[0m \u001b[0mpoints\u001b[0m\u001b[0;34m[\u001b[0m\u001b[0;36m0\u001b[0m\u001b[0;34m]\u001b[0m\u001b[0;34m,\u001b[0m \u001b[0mprec\u001b[0m\u001b[0;34m,\u001b[0m \u001b[0mepsilon\u001b[0m\u001b[0;34m,\u001b[0m \u001b[0mm\u001b[0m\u001b[0;34m,\u001b[0m \u001b[0mverbose\u001b[0m\u001b[0;34m)\u001b[0m\u001b[0;34m\u001b[0m\u001b[0;34m\u001b[0m\u001b[0m\n\u001b[0m\u001b[1;32m    746\u001b[0m             \u001b[0;32melif\u001b[0m \u001b[0mdim\u001b[0m \u001b[0;34m==\u001b[0m \u001b[0;36m2\u001b[0m\u001b[0;34m:\u001b[0m\u001b[0;34m\u001b[0m\u001b[0;34m\u001b[0m\u001b[0m\n\u001b[1;32m    747\u001b[0m                 v, err = rule.summation(lambda x: \\\n",
      "\u001b[0;32m~/.local/lib/python3.8/site-packages/mpmath/calculus/quadrature.py\u001b[0m in \u001b[0;36msummation\u001b[0;34m(self, f, points, prec, epsilon, max_degree, verbose)\u001b[0m\n\u001b[1;32m    231\u001b[0m                     print(\"Integrating from %s to %s (degree %s of %s)\" % \\\n\u001b[1;32m    232\u001b[0m                         (ctx.nstr(a), ctx.nstr(b), degree, max_degree))\n\u001b[0;32m--> 233\u001b[0;31m                 \u001b[0mresult\u001b[0m \u001b[0;34m=\u001b[0m \u001b[0mself\u001b[0m\u001b[0;34m.\u001b[0m\u001b[0msum_next\u001b[0m\u001b[0;34m(\u001b[0m\u001b[0mf\u001b[0m\u001b[0;34m,\u001b[0m \u001b[0mnodes\u001b[0m\u001b[0;34m,\u001b[0m \u001b[0mdegree\u001b[0m\u001b[0;34m,\u001b[0m \u001b[0mprec\u001b[0m\u001b[0;34m,\u001b[0m \u001b[0mresults\u001b[0m\u001b[0;34m,\u001b[0m \u001b[0mverbose\u001b[0m\u001b[0;34m)\u001b[0m\u001b[0;34m\u001b[0m\u001b[0;34m\u001b[0m\u001b[0m\n\u001b[0m\u001b[1;32m    234\u001b[0m                 \u001b[0mresults\u001b[0m\u001b[0;34m.\u001b[0m\u001b[0mappend\u001b[0m\u001b[0;34m(\u001b[0m\u001b[0mresult\u001b[0m\u001b[0;34m)\u001b[0m\u001b[0;34m\u001b[0m\u001b[0;34m\u001b[0m\u001b[0m\n\u001b[1;32m    235\u001b[0m                 \u001b[0;32mif\u001b[0m \u001b[0mdegree\u001b[0m \u001b[0;34m>\u001b[0m \u001b[0;36m1\u001b[0m\u001b[0;34m:\u001b[0m\u001b[0;34m\u001b[0m\u001b[0;34m\u001b[0m\u001b[0m\n",
      "\u001b[0;32m~/.local/lib/python3.8/site-packages/mpmath/calculus/quadrature.py\u001b[0m in \u001b[0;36msum_next\u001b[0;34m(self, f, nodes, degree, prec, previous, verbose)\u001b[0m\n\u001b[1;32m    305\u001b[0m         \u001b[0;32melse\u001b[0m\u001b[0;34m:\u001b[0m\u001b[0;34m\u001b[0m\u001b[0;34m\u001b[0m\u001b[0m\n\u001b[1;32m    306\u001b[0m             \u001b[0mS\u001b[0m \u001b[0;34m=\u001b[0m \u001b[0mself\u001b[0m\u001b[0;34m.\u001b[0m\u001b[0mctx\u001b[0m\u001b[0;34m.\u001b[0m\u001b[0mzero\u001b[0m\u001b[0;34m\u001b[0m\u001b[0;34m\u001b[0m\u001b[0m\n\u001b[0;32m--> 307\u001b[0;31m         \u001b[0mS\u001b[0m \u001b[0;34m+=\u001b[0m \u001b[0mself\u001b[0m\u001b[0;34m.\u001b[0m\u001b[0mctx\u001b[0m\u001b[0;34m.\u001b[0m\u001b[0mfdot\u001b[0m\u001b[0;34m(\u001b[0m\u001b[0;34m(\u001b[0m\u001b[0mw\u001b[0m\u001b[0;34m,\u001b[0m\u001b[0mf\u001b[0m\u001b[0;34m(\u001b[0m\u001b[0mx\u001b[0m\u001b[0;34m)\u001b[0m\u001b[0;34m)\u001b[0m \u001b[0;32mfor\u001b[0m \u001b[0;34m(\u001b[0m\u001b[0mx\u001b[0m\u001b[0;34m,\u001b[0m\u001b[0mw\u001b[0m\u001b[0;34m)\u001b[0m \u001b[0;32min\u001b[0m \u001b[0mnodes\u001b[0m\u001b[0;34m)\u001b[0m\u001b[0;34m\u001b[0m\u001b[0;34m\u001b[0m\u001b[0m\n\u001b[0m\u001b[1;32m    308\u001b[0m         \u001b[0;32mreturn\u001b[0m \u001b[0mh\u001b[0m\u001b[0;34m*\u001b[0m\u001b[0mS\u001b[0m\u001b[0;34m\u001b[0m\u001b[0;34m\u001b[0m\u001b[0m\n\u001b[1;32m    309\u001b[0m \u001b[0;34m\u001b[0m\u001b[0m\n",
      "\u001b[0;32m~/.local/lib/python3.8/site-packages/mpmath/ctx_mp_python.py\u001b[0m in \u001b[0;36mfdot\u001b[0;34m(ctx, A, B, conjugate)\u001b[0m\n\u001b[1;32m    934\u001b[0m         \u001b[0mhasattr_\u001b[0m \u001b[0;34m=\u001b[0m \u001b[0mhasattr\u001b[0m\u001b[0;34m\u001b[0m\u001b[0;34m\u001b[0m\u001b[0m\n\u001b[1;32m    935\u001b[0m         \u001b[0mtypes\u001b[0m \u001b[0;34m=\u001b[0m \u001b[0;34m(\u001b[0m\u001b[0mctx\u001b[0m\u001b[0;34m.\u001b[0m\u001b[0mmpf\u001b[0m\u001b[0;34m,\u001b[0m \u001b[0mctx\u001b[0m\u001b[0;34m.\u001b[0m\u001b[0mmpc\u001b[0m\u001b[0;34m)\u001b[0m\u001b[0;34m\u001b[0m\u001b[0;34m\u001b[0m\u001b[0m\n\u001b[0;32m--> 936\u001b[0;31m         \u001b[0;32mfor\u001b[0m \u001b[0ma\u001b[0m\u001b[0;34m,\u001b[0m \u001b[0mb\u001b[0m \u001b[0;32min\u001b[0m \u001b[0mA\u001b[0m\u001b[0;34m:\u001b[0m\u001b[0;34m\u001b[0m\u001b[0;34m\u001b[0m\u001b[0m\n\u001b[0m\u001b[1;32m    937\u001b[0m             \u001b[0;32mif\u001b[0m \u001b[0mtype\u001b[0m\u001b[0;34m(\u001b[0m\u001b[0ma\u001b[0m\u001b[0;34m)\u001b[0m \u001b[0;32mnot\u001b[0m \u001b[0;32min\u001b[0m \u001b[0mtypes\u001b[0m\u001b[0;34m:\u001b[0m \u001b[0ma\u001b[0m \u001b[0;34m=\u001b[0m \u001b[0mctx\u001b[0m\u001b[0;34m.\u001b[0m\u001b[0mconvert\u001b[0m\u001b[0;34m(\u001b[0m\u001b[0ma\u001b[0m\u001b[0;34m)\u001b[0m\u001b[0;34m\u001b[0m\u001b[0;34m\u001b[0m\u001b[0m\n\u001b[1;32m    938\u001b[0m             \u001b[0;32mif\u001b[0m \u001b[0mtype\u001b[0m\u001b[0;34m(\u001b[0m\u001b[0mb\u001b[0m\u001b[0;34m)\u001b[0m \u001b[0;32mnot\u001b[0m \u001b[0;32min\u001b[0m \u001b[0mtypes\u001b[0m\u001b[0;34m:\u001b[0m \u001b[0mb\u001b[0m \u001b[0;34m=\u001b[0m \u001b[0mctx\u001b[0m\u001b[0;34m.\u001b[0m\u001b[0mconvert\u001b[0m\u001b[0;34m(\u001b[0m\u001b[0mb\u001b[0m\u001b[0;34m)\u001b[0m\u001b[0;34m\u001b[0m\u001b[0;34m\u001b[0m\u001b[0m\n",
      "\u001b[0;32m~/.local/lib/python3.8/site-packages/mpmath/calculus/quadrature.py\u001b[0m in \u001b[0;36m<genexpr>\u001b[0;34m(.0)\u001b[0m\n\u001b[1;32m    305\u001b[0m         \u001b[0;32melse\u001b[0m\u001b[0;34m:\u001b[0m\u001b[0;34m\u001b[0m\u001b[0;34m\u001b[0m\u001b[0m\n\u001b[1;32m    306\u001b[0m             \u001b[0mS\u001b[0m \u001b[0;34m=\u001b[0m \u001b[0mself\u001b[0m\u001b[0;34m.\u001b[0m\u001b[0mctx\u001b[0m\u001b[0;34m.\u001b[0m\u001b[0mzero\u001b[0m\u001b[0;34m\u001b[0m\u001b[0;34m\u001b[0m\u001b[0m\n\u001b[0;32m--> 307\u001b[0;31m         \u001b[0mS\u001b[0m \u001b[0;34m+=\u001b[0m \u001b[0mself\u001b[0m\u001b[0;34m.\u001b[0m\u001b[0mctx\u001b[0m\u001b[0;34m.\u001b[0m\u001b[0mfdot\u001b[0m\u001b[0;34m(\u001b[0m\u001b[0;34m(\u001b[0m\u001b[0mw\u001b[0m\u001b[0;34m,\u001b[0m\u001b[0mf\u001b[0m\u001b[0;34m(\u001b[0m\u001b[0mx\u001b[0m\u001b[0;34m)\u001b[0m\u001b[0;34m)\u001b[0m \u001b[0;32mfor\u001b[0m \u001b[0;34m(\u001b[0m\u001b[0mx\u001b[0m\u001b[0;34m,\u001b[0m\u001b[0mw\u001b[0m\u001b[0;34m)\u001b[0m \u001b[0;32min\u001b[0m \u001b[0mnodes\u001b[0m\u001b[0;34m)\u001b[0m\u001b[0;34m\u001b[0m\u001b[0;34m\u001b[0m\u001b[0m\n\u001b[0m\u001b[1;32m    308\u001b[0m         \u001b[0;32mreturn\u001b[0m \u001b[0mh\u001b[0m\u001b[0;34m*\u001b[0m\u001b[0mS\u001b[0m\u001b[0;34m\u001b[0m\u001b[0;34m\u001b[0m\u001b[0m\n\u001b[1;32m    309\u001b[0m \u001b[0;34m\u001b[0m\u001b[0m\n",
      "\u001b[0;32m~/.local/lib/python3.8/site-packages/sympy/core/evalf.py\u001b[0m in \u001b[0;36mf\u001b[0;34m(t)\u001b[0m\n\u001b[1;32m    993\u001b[0m \u001b[0;34m\u001b[0m\u001b[0m\n\u001b[1;32m    994\u001b[0m         \u001b[0;32mdef\u001b[0m \u001b[0mf\u001b[0m\u001b[0;34m(\u001b[0m\u001b[0mt\u001b[0m\u001b[0;34m)\u001b[0m\u001b[0;34m:\u001b[0m\u001b[0;34m\u001b[0m\u001b[0;34m\u001b[0m\u001b[0m\n\u001b[0;32m--> 995\u001b[0;31m             \u001b[0mre\u001b[0m\u001b[0;34m,\u001b[0m \u001b[0mim\u001b[0m\u001b[0;34m,\u001b[0m \u001b[0mre_acc\u001b[0m\u001b[0;34m,\u001b[0m \u001b[0mim_acc\u001b[0m \u001b[0;34m=\u001b[0m \u001b[0mevalf\u001b[0m\u001b[0;34m(\u001b[0m\u001b[0mfunc\u001b[0m\u001b[0;34m,\u001b[0m \u001b[0mmp\u001b[0m\u001b[0;34m.\u001b[0m\u001b[0mprec\u001b[0m\u001b[0;34m,\u001b[0m \u001b[0;34m{\u001b[0m\u001b[0;34m'subs'\u001b[0m\u001b[0;34m:\u001b[0m \u001b[0;34m{\u001b[0m\u001b[0mx\u001b[0m\u001b[0;34m:\u001b[0m \u001b[0mt\u001b[0m\u001b[0;34m}\u001b[0m\u001b[0;34m}\u001b[0m\u001b[0;34m)\u001b[0m\u001b[0;34m\u001b[0m\u001b[0;34m\u001b[0m\u001b[0m\n\u001b[0m\u001b[1;32m    996\u001b[0m \u001b[0;34m\u001b[0m\u001b[0m\n\u001b[1;32m    997\u001b[0m             \u001b[0mhave_part\u001b[0m\u001b[0;34m[\u001b[0m\u001b[0;36m0\u001b[0m\u001b[0;34m]\u001b[0m \u001b[0;34m=\u001b[0m \u001b[0mre\u001b[0m \u001b[0;32mor\u001b[0m \u001b[0mhave_part\u001b[0m\u001b[0;34m[\u001b[0m\u001b[0;36m0\u001b[0m\u001b[0;34m]\u001b[0m\u001b[0;34m\u001b[0m\u001b[0;34m\u001b[0m\u001b[0m\n",
      "\u001b[0;32m~/.local/lib/python3.8/site-packages/sympy/core/evalf.py\u001b[0m in \u001b[0;36mevalf\u001b[0;34m(x, prec, options)\u001b[0m\n\u001b[1;32m   1364\u001b[0m     \u001b[0;32mtry\u001b[0m\u001b[0;34m:\u001b[0m\u001b[0;34m\u001b[0m\u001b[0;34m\u001b[0m\u001b[0m\n\u001b[1;32m   1365\u001b[0m         \u001b[0mrf\u001b[0m \u001b[0;34m=\u001b[0m \u001b[0mevalf_table\u001b[0m\u001b[0;34m[\u001b[0m\u001b[0mx\u001b[0m\u001b[0;34m.\u001b[0m\u001b[0mfunc\u001b[0m\u001b[0;34m]\u001b[0m\u001b[0;34m\u001b[0m\u001b[0;34m\u001b[0m\u001b[0m\n\u001b[0;32m-> 1366\u001b[0;31m         \u001b[0mr\u001b[0m \u001b[0;34m=\u001b[0m \u001b[0mrf\u001b[0m\u001b[0;34m(\u001b[0m\u001b[0mx\u001b[0m\u001b[0;34m,\u001b[0m \u001b[0mprec\u001b[0m\u001b[0;34m,\u001b[0m \u001b[0moptions\u001b[0m\u001b[0;34m)\u001b[0m\u001b[0;34m\u001b[0m\u001b[0;34m\u001b[0m\u001b[0m\n\u001b[0m\u001b[1;32m   1367\u001b[0m     \u001b[0;32mexcept\u001b[0m \u001b[0mKeyError\u001b[0m\u001b[0;34m:\u001b[0m\u001b[0;34m\u001b[0m\u001b[0;34m\u001b[0m\u001b[0m\n\u001b[1;32m   1368\u001b[0m         \u001b[0;31m# Fall back to ordinary evalf if possible\u001b[0m\u001b[0;34m\u001b[0m\u001b[0;34m\u001b[0m\u001b[0;34m\u001b[0m\u001b[0m\n",
      "\u001b[0;32m~/.local/lib/python3.8/site-packages/sympy/core/evalf.py\u001b[0m in \u001b[0;36mevalf_mul\u001b[0;34m(v, prec, options)\u001b[0m\n\u001b[1;32m    572\u001b[0m     \u001b[0;32mfrom\u001b[0m \u001b[0msympy\u001b[0m\u001b[0;34m.\u001b[0m\u001b[0mcore\u001b[0m\u001b[0;34m.\u001b[0m\u001b[0mnumbers\u001b[0m \u001b[0;32mimport\u001b[0m \u001b[0mFloat\u001b[0m\u001b[0;34m\u001b[0m\u001b[0;34m\u001b[0m\u001b[0m\n\u001b[1;32m    573\u001b[0m     \u001b[0;32mfor\u001b[0m \u001b[0marg\u001b[0m \u001b[0;32min\u001b[0m \u001b[0margs\u001b[0m\u001b[0;34m:\u001b[0m\u001b[0;34m\u001b[0m\u001b[0;34m\u001b[0m\u001b[0m\n\u001b[0;32m--> 574\u001b[0;31m         \u001b[0marg\u001b[0m \u001b[0;34m=\u001b[0m \u001b[0mevalf\u001b[0m\u001b[0;34m(\u001b[0m\u001b[0marg\u001b[0m\u001b[0;34m,\u001b[0m \u001b[0mprec\u001b[0m\u001b[0;34m,\u001b[0m \u001b[0moptions\u001b[0m\u001b[0;34m)\u001b[0m\u001b[0;34m\u001b[0m\u001b[0;34m\u001b[0m\u001b[0m\n\u001b[0m\u001b[1;32m    575\u001b[0m         \u001b[0;32mif\u001b[0m \u001b[0marg\u001b[0m\u001b[0;34m[\u001b[0m\u001b[0;36m0\u001b[0m\u001b[0;34m]\u001b[0m \u001b[0;32mis\u001b[0m \u001b[0;32mNone\u001b[0m\u001b[0;34m:\u001b[0m\u001b[0;34m\u001b[0m\u001b[0;34m\u001b[0m\u001b[0m\n\u001b[1;32m    576\u001b[0m             \u001b[0;32mcontinue\u001b[0m\u001b[0;34m\u001b[0m\u001b[0;34m\u001b[0m\u001b[0m\n",
      "\u001b[0;32m~/.local/lib/python3.8/site-packages/sympy/core/evalf.py\u001b[0m in \u001b[0;36mevalf\u001b[0;34m(x, prec, options)\u001b[0m\n\u001b[1;32m   1369\u001b[0m         \u001b[0;32mif\u001b[0m \u001b[0;34m'subs'\u001b[0m \u001b[0;32min\u001b[0m \u001b[0moptions\u001b[0m\u001b[0;34m:\u001b[0m\u001b[0;34m\u001b[0m\u001b[0;34m\u001b[0m\u001b[0m\n\u001b[1;32m   1370\u001b[0m             \u001b[0mx\u001b[0m \u001b[0;34m=\u001b[0m \u001b[0mx\u001b[0m\u001b[0;34m.\u001b[0m\u001b[0msubs\u001b[0m\u001b[0;34m(\u001b[0m\u001b[0mevalf_subs\u001b[0m\u001b[0;34m(\u001b[0m\u001b[0mprec\u001b[0m\u001b[0;34m,\u001b[0m \u001b[0moptions\u001b[0m\u001b[0;34m[\u001b[0m\u001b[0;34m'subs'\u001b[0m\u001b[0;34m]\u001b[0m\u001b[0;34m)\u001b[0m\u001b[0;34m)\u001b[0m\u001b[0;34m\u001b[0m\u001b[0;34m\u001b[0m\u001b[0m\n\u001b[0;32m-> 1371\u001b[0;31m         \u001b[0mxe\u001b[0m \u001b[0;34m=\u001b[0m \u001b[0mx\u001b[0m\u001b[0;34m.\u001b[0m\u001b[0m_eval_evalf\u001b[0m\u001b[0;34m(\u001b[0m\u001b[0mprec\u001b[0m\u001b[0;34m)\u001b[0m\u001b[0;34m\u001b[0m\u001b[0;34m\u001b[0m\u001b[0m\n\u001b[0m\u001b[1;32m   1372\u001b[0m         \u001b[0;32mif\u001b[0m \u001b[0mxe\u001b[0m \u001b[0;32mis\u001b[0m \u001b[0;32mNone\u001b[0m\u001b[0;34m:\u001b[0m\u001b[0;34m\u001b[0m\u001b[0;34m\u001b[0m\u001b[0m\n\u001b[1;32m   1373\u001b[0m             \u001b[0;32mraise\u001b[0m \u001b[0mNotImplementedError\u001b[0m\u001b[0;34m\u001b[0m\u001b[0;34m\u001b[0m\u001b[0m\n",
      "\u001b[0;32m~/.local/lib/python3.8/site-packages/sympy/core/function.py\u001b[0m in \u001b[0;36m_eval_evalf\u001b[0;34m(self, prec)\u001b[0m\n\u001b[1;32m    597\u001b[0m \u001b[0;34m\u001b[0m\u001b[0m\n\u001b[1;32m    598\u001b[0m         \u001b[0;32mwith\u001b[0m \u001b[0mmpmath\u001b[0m\u001b[0;34m.\u001b[0m\u001b[0mworkprec\u001b[0m\u001b[0;34m(\u001b[0m\u001b[0mprec\u001b[0m\u001b[0;34m)\u001b[0m\u001b[0;34m:\u001b[0m\u001b[0;34m\u001b[0m\u001b[0;34m\u001b[0m\u001b[0m\n\u001b[0;32m--> 599\u001b[0;31m             \u001b[0mv\u001b[0m \u001b[0;34m=\u001b[0m \u001b[0mfunc\u001b[0m\u001b[0;34m(\u001b[0m\u001b[0;34m*\u001b[0m\u001b[0margs\u001b[0m\u001b[0;34m)\u001b[0m\u001b[0;34m\u001b[0m\u001b[0;34m\u001b[0m\u001b[0m\n\u001b[0m\u001b[1;32m    600\u001b[0m \u001b[0;34m\u001b[0m\u001b[0m\n\u001b[1;32m    601\u001b[0m         \u001b[0;32mreturn\u001b[0m \u001b[0mExpr\u001b[0m\u001b[0;34m.\u001b[0m\u001b[0m_from_mpmath\u001b[0m\u001b[0;34m(\u001b[0m\u001b[0mv\u001b[0m\u001b[0;34m,\u001b[0m \u001b[0mprec\u001b[0m\u001b[0;34m)\u001b[0m\u001b[0;34m\u001b[0m\u001b[0;34m\u001b[0m\u001b[0m\n",
      "\u001b[0;32m~/.local/lib/python3.8/site-packages/mpmath/ctx_mp_python.py\u001b[0m in \u001b[0;36mf_wrapped\u001b[0;34m(ctx, *args, **kwargs)\u001b[0m\n\u001b[1;32m   1019\u001b[0m                 \u001b[0;32mtry\u001b[0m\u001b[0;34m:\u001b[0m\u001b[0;34m\u001b[0m\u001b[0;34m\u001b[0m\u001b[0m\n\u001b[1;32m   1020\u001b[0m                     \u001b[0mctx\u001b[0m\u001b[0;34m.\u001b[0m\u001b[0mprec\u001b[0m \u001b[0;34m+=\u001b[0m \u001b[0;36m10\u001b[0m\u001b[0;34m\u001b[0m\u001b[0;34m\u001b[0m\u001b[0m\n\u001b[0;32m-> 1021\u001b[0;31m                     \u001b[0mretval\u001b[0m \u001b[0;34m=\u001b[0m \u001b[0mf\u001b[0m\u001b[0;34m(\u001b[0m\u001b[0mctx\u001b[0m\u001b[0;34m,\u001b[0m \u001b[0;34m*\u001b[0m\u001b[0margs\u001b[0m\u001b[0;34m,\u001b[0m \u001b[0;34m**\u001b[0m\u001b[0mkwargs\u001b[0m\u001b[0;34m)\u001b[0m\u001b[0;34m\u001b[0m\u001b[0;34m\u001b[0m\u001b[0m\n\u001b[0m\u001b[1;32m   1022\u001b[0m                 \u001b[0;32mfinally\u001b[0m\u001b[0;34m:\u001b[0m\u001b[0;34m\u001b[0m\u001b[0;34m\u001b[0m\u001b[0m\n\u001b[1;32m   1023\u001b[0m                     \u001b[0mctx\u001b[0m\u001b[0;34m.\u001b[0m\u001b[0mprec\u001b[0m \u001b[0;34m=\u001b[0m \u001b[0mprec\u001b[0m\u001b[0;34m\u001b[0m\u001b[0;34m\u001b[0m\u001b[0m\n",
      "\u001b[0;32m~/.local/lib/python3.8/site-packages/mpmath/functions/zeta.py\u001b[0m in \u001b[0;36mlerchphi\u001b[0;34m(ctx, z, s, a)\u001b[0m\n\u001b[1;32m   1140\u001b[0m         \u001b[0mzpow\u001b[0m \u001b[0;34m=\u001b[0m \u001b[0mctx\u001b[0m\u001b[0;34m.\u001b[0m\u001b[0mone\u001b[0m\u001b[0;34m\u001b[0m\u001b[0;34m\u001b[0m\u001b[0m\n\u001b[1;32m   1141\u001b[0m         \u001b[0;32mfor\u001b[0m \u001b[0mn\u001b[0m \u001b[0;32min\u001b[0m \u001b[0mxrange\u001b[0m\u001b[0;34m(\u001b[0m\u001b[0mm\u001b[0m\u001b[0;34m)\u001b[0m\u001b[0;34m:\u001b[0m\u001b[0;34m\u001b[0m\u001b[0;34m\u001b[0m\u001b[0m\n\u001b[0;32m-> 1142\u001b[0;31m             \u001b[0mv\u001b[0m \u001b[0;34m+=\u001b[0m \u001b[0mzpow\u001b[0m \u001b[0;34m/\u001b[0m \u001b[0;34m(\u001b[0m\u001b[0ma\u001b[0m\u001b[0;34m+\u001b[0m\u001b[0mn\u001b[0m\u001b[0;34m)\u001b[0m\u001b[0;34m**\u001b[0m\u001b[0ms\u001b[0m\u001b[0;34m\u001b[0m\u001b[0;34m\u001b[0m\u001b[0m\n\u001b[0m\u001b[1;32m   1143\u001b[0m             \u001b[0mzpow\u001b[0m \u001b[0;34m*=\u001b[0m \u001b[0mz\u001b[0m\u001b[0;34m\u001b[0m\u001b[0;34m\u001b[0m\u001b[0m\n\u001b[1;32m   1144\u001b[0m         \u001b[0;32mreturn\u001b[0m \u001b[0mzpow\u001b[0m \u001b[0;34m*\u001b[0m \u001b[0mctx\u001b[0m\u001b[0;34m.\u001b[0m\u001b[0mlerchphi\u001b[0m\u001b[0;34m(\u001b[0m\u001b[0mz\u001b[0m\u001b[0;34m,\u001b[0m\u001b[0ms\u001b[0m\u001b[0;34m,\u001b[0m \u001b[0ma\u001b[0m\u001b[0;34m+\u001b[0m\u001b[0mm\u001b[0m\u001b[0;34m)\u001b[0m \u001b[0;34m+\u001b[0m \u001b[0mv\u001b[0m\u001b[0;34m\u001b[0m\u001b[0;34m\u001b[0m\u001b[0m\n",
      "\u001b[0;32m~/.local/lib/python3.8/site-packages/mpmath/ctx_mp_python.py\u001b[0m in \u001b[0;36m__add__\u001b[0;34m(self, other)\u001b[0m\n",
      "\u001b[0;32m~/.local/lib/python3.8/site-packages/mpmath/libmp/libmpf.py\u001b[0m in \u001b[0;36mfrom_int\u001b[0;34m(n, prec, rnd)\u001b[0m\n\u001b[1;32m    332\u001b[0m     the mantissa is stored exactly.\"\"\"\n\u001b[1;32m    333\u001b[0m     \u001b[0;32mif\u001b[0m \u001b[0;32mnot\u001b[0m \u001b[0mprec\u001b[0m\u001b[0;34m:\u001b[0m\u001b[0;34m\u001b[0m\u001b[0;34m\u001b[0m\u001b[0m\n\u001b[0;32m--> 334\u001b[0;31m         \u001b[0;32mif\u001b[0m \u001b[0mn\u001b[0m \u001b[0;32min\u001b[0m \u001b[0mint_cache\u001b[0m\u001b[0;34m:\u001b[0m\u001b[0;34m\u001b[0m\u001b[0;34m\u001b[0m\u001b[0m\n\u001b[0m\u001b[1;32m    335\u001b[0m             \u001b[0;32mreturn\u001b[0m \u001b[0mint_cache\u001b[0m\u001b[0;34m[\u001b[0m\u001b[0mn\u001b[0m\u001b[0;34m]\u001b[0m\u001b[0;34m\u001b[0m\u001b[0;34m\u001b[0m\u001b[0m\n\u001b[1;32m    336\u001b[0m     \u001b[0;32mreturn\u001b[0m \u001b[0mfrom_man_exp\u001b[0m\u001b[0;34m(\u001b[0m\u001b[0mn\u001b[0m\u001b[0;34m,\u001b[0m \u001b[0;36m0\u001b[0m\u001b[0;34m,\u001b[0m \u001b[0mprec\u001b[0m\u001b[0;34m,\u001b[0m \u001b[0mrnd\u001b[0m\u001b[0;34m)\u001b[0m\u001b[0;34m\u001b[0m\u001b[0;34m\u001b[0m\u001b[0m\n",
      "\u001b[0;31mKeyboardInterrupt\u001b[0m: "
     ]
    }
   ],
   "source": [
    "((1+I)/2*integrate(1/(1+x**2), (x, 0, pi/2)) + integrate(exp(-abs(k))/2*(lerchphi(0.99*exp(I*pi/2),1,k/2 * exp(I*pi))-lerchphi(0.99*exp(3*I*pi/2),1,k/2 * exp(I*pi)) * exp(-I*pi*k/2)),(k,0,oo))).evalf(10)"
   ]
  },
  {
   "cell_type": "code",
   "execution_count": 239,
   "metadata": {},
   "outputs": [
    {
     "data": {
      "text/latex": [
       "$\\displaystyle \\begin{cases} - \\frac{i {G_{2, 1}^{1, 2}\\left(\\begin{matrix} 0, 0 &  \\\\0 &  \\end{matrix} \\middle| {\\frac{\\operatorname{polar\\_lift}{\\left(\\frac{1}{2 - \\pi e^{\\frac{i \\pi}{2}}} \\right)}}{\\operatorname{polar\\_lift}{\\left(n \\right)}}} \\right)} e^{i \\pi n}}{n \\left(2 - i \\pi\\right)} - \\frac{i {G_{2, 1}^{1, 2}\\left(\\begin{matrix} 0, 0 &  \\\\0 &  \\end{matrix} \\middle| {\\frac{e^{i \\pi} \\operatorname{polar\\_lift}{\\left(\\frac{1}{1 - \\frac{\\pi e^{- \\frac{i \\pi}{2}}}{2}} \\right)}}{2 \\operatorname{polar\\_lift}{\\left(n \\right)}}} \\right)} e^{i \\pi n}}{2 n \\left(1 + \\frac{i \\pi}{2}\\right)} & \\text{for}\\: \\left(\\left|{\\arg{\\left(n \\right)} - \\pi}\\right| < \\pi \\wedge \\left|{\\arg{\\left(n \\right)}}\\right| < \\pi\\right) \\vee \\left(\\left|{\\arg{\\left(n \\right)} - \\pi}\\right| < \\pi \\wedge \\left|{\\arg{\\left(n \\right)}}\\right| < \\pi \\wedge \\left|{\\arg{\\left(n \\right)} - \\pi}\\right| \\neq \\pi\\right) \\vee \\left(\\left|{\\arg{\\left(n \\right)} - \\pi}\\right| < \\pi \\wedge \\left|{\\arg{\\left(n \\right)}}\\right| < \\pi \\wedge \\left|{\\arg{\\left(n \\right)}}\\right| \\neq \\pi\\right) \\vee \\left(\\left|{\\arg{\\left(n \\right)} - \\pi}\\right| < \\pi \\wedge \\left|{\\arg{\\left(n \\right)}}\\right| < \\pi \\wedge \\left|{\\arg{\\left(n \\right)} - \\pi}\\right| \\neq \\pi \\wedge \\left|{\\arg{\\left(n \\right)}}\\right| \\neq \\pi\\right) \\\\\\int\\limits_{-\\infty}^{\\infty} \\frac{\\left(-1\\right)^{n} i e^{- \\frac{i \\pi k}{2}} e^{- \\left|{k}\\right|}}{k - 2 n}\\, dk & \\text{otherwise} \\end{cases}$"
      ],
      "text/plain": [
       "Piecewise((-I*meijerg(((0, 0), ()), ((0,), ()), polar_lift(1/(2 - pi*exp_polar(I*pi/2)))/polar_lift(n))*exp(I*pi*n)/(n*(2 - I*pi)) - I*meijerg(((0, 0), ()), ((0,), ()), exp_polar(I*pi)*polar_lift(1/(1 - pi*exp_polar(-I*pi/2)/2))/(2*polar_lift(n)))*exp(I*pi*n)/(2*n*(1 + I*pi/2)), ((Abs(arg(n)) < pi) & (Abs(arg(n) - pi) < pi)) | ((Abs(arg(n)) < pi) & Ne(Abs(arg(n)), pi) & (Abs(arg(n) - pi) < pi)) | ((Abs(arg(n)) < pi) & (Abs(arg(n) - pi) < pi) & Ne(Abs(arg(n) - pi), pi)) | ((Abs(arg(n)) < pi) & Ne(Abs(arg(n)), pi) & (Abs(arg(n) - pi) < pi) & Ne(Abs(arg(n) - pi), pi))), (Integral((-1)**n*I*exp(-I*pi*k/2)*exp(-Abs(k))/(k - 2*n), (k, -oo, oo)), True))"
      ]
     },
     "execution_count": 239,
     "metadata": {},
     "output_type": "execute_result"
    }
   ],
   "source": [
    "integrate(I*((-1)**n*exp(-I*pi*k/2))/(k-2*n)*exp(-abs(k)),(k,-oo,oo))"
   ]
  },
  {
   "cell_type": "code",
   "execution_count": null,
   "metadata": {},
   "outputs": [],
   "source": []
  }
 ],
 "metadata": {
  "kernelspec": {
   "display_name": "Python 3",
   "language": "python",
   "name": "python3"
  },
  "language_info": {
   "codemirror_mode": {
    "name": "ipython",
    "version": 3
   },
   "file_extension": ".py",
   "mimetype": "text/x-python",
   "name": "python",
   "nbconvert_exporter": "python",
   "pygments_lexer": "ipython3",
   "version": "3.8.5"
  }
 },
 "nbformat": 4,
 "nbformat_minor": 4
}
