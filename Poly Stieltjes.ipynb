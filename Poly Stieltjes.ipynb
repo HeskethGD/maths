{
 "cells": [
  {
   "cell_type": "markdown",
   "metadata": {},
   "source": [
    "# Poly Stieltjes"
   ]
  },
  {
   "cell_type": "code",
   "execution_count": 109,
   "metadata": {},
   "outputs": [],
   "source": [
    "from sympy import *"
   ]
  },
  {
   "cell_type": "code",
   "execution_count": 110,
   "metadata": {},
   "outputs": [],
   "source": [
    "x, y, n, K, k, epsilon, z, s, a, R, N, r, T, b = symbols('x, y, n, K, k, epsilon, z, s, a, R, N, r, T, b')\n",
    "alpha, beta, delta, t, mu, nu, epsilon, theta, phi = symbols('alpha, beta, delta, t, mu, nu, epsilon, theta, phi')"
   ]
  },
  {
   "cell_type": "code",
   "execution_count": 3,
   "metadata": {},
   "outputs": [],
   "source": [
    "ps = Function(\"ps\")\n",
    "phz = Function(\"phz\")"
   ]
  },
  {
   "cell_type": "code",
   "execution_count": 13,
   "metadata": {},
   "outputs": [
    {
     "data": {
      "text/latex": [
       "$\\displaystyle \\operatorname{ps}{\\left(k,a,b \\right)} = \\lim_{N \\to \\infty}\\left(\\sum_{n=1}^{N} \\frac{\\log{\\left(a + n \\right)}^{k}}{b + n} - \\frac{\\log{\\left(N \\right)}^{k + 1}}{k + 1}\\right)$"
      ],
      "text/plain": [
       "Eq(ps(k, a, b), Limit(Sum(log(a + n)**k/(b + n), (n, 1, N)) - log(N)**(k + 1)/(k + 1), N, oo, dir='-'))"
      ]
     },
     "execution_count": 13,
     "metadata": {},
     "output_type": "execute_result"
    }
   ],
   "source": [
    "Eq(ps(k,a,b), Limit(Sum(log(n+a)**k/(n+b),(n,1,N)) - log(N)**(k+1)/(k+1),N,oo))"
   ]
  },
  {
   "cell_type": "code",
   "execution_count": 22,
   "metadata": {},
   "outputs": [
    {
     "data": {
      "text/latex": [
       "$\\displaystyle \\operatorname{phz}{\\left(s,a,b \\right)} = \\sum_{n=1}^{\\infty} \\frac{\\left(a + n\\right)^{- s}}{b + n}$"
      ],
      "text/plain": [
       "Eq(phz(s, a, b), Sum((a + n)**(-s)/(b + n), (n, 1, oo)))"
      ]
     },
     "execution_count": 22,
     "metadata": {},
     "output_type": "execute_result"
    }
   ],
   "source": [
    "Eq(phz(s,a,b), Sum(1/(n+a)**s/(n+b),(n,1,oo)))"
   ]
  },
  {
   "cell_type": "code",
   "execution_count": 130,
   "metadata": {},
   "outputs": [
    {
     "data": {
      "text/latex": [
       "$\\displaystyle \\operatorname{phz}{\\left(s,a + 1,b + 1 \\right)} = \\sum_{n=1}^{\\infty} \\frac{\\left(a + n + 1\\right)^{- s}}{b + n + 1}$"
      ],
      "text/plain": [
       "Eq(phz(s, a + 1, b + 1), Sum((a + n + 1)**(-s)/(b + n + 1), (n, 1, oo)))"
      ]
     },
     "execution_count": 130,
     "metadata": {},
     "output_type": "execute_result"
    }
   ],
   "source": [
    "Eq(phz(s,a,b), Sum(1/(n+a)**s/(n+b),(n,1,oo))).subs([(a,1+a),(b,1+b)])"
   ]
  },
  {
   "cell_type": "code",
   "execution_count": 133,
   "metadata": {},
   "outputs": [
    {
     "data": {
      "text/latex": [
       "$\\displaystyle \\operatorname{phz}{\\left(s,a + 1,b + 1 \\right)} = \\sum_{n=2}^{\\infty} \\frac{\\left(a + n\\right)^{- s}}{b + n}$"
      ],
      "text/plain": [
       "Eq(phz(s, a + 1, b + 1), Sum((a + n)**(-s)/(b + n), (n, 2, oo)))"
      ]
     },
     "execution_count": 133,
     "metadata": {},
     "output_type": "execute_result"
    }
   ],
   "source": [
    "Eq(phz(s,a+1,b+1), Sum((1/(n+a)**s/(n+b)).subs([(a,1+a),(b,1+b),(n,n-1)]),(n,2,oo)))"
   ]
  },
  {
   "cell_type": "code",
   "execution_count": 135,
   "metadata": {},
   "outputs": [
    {
     "data": {
      "text/latex": [
       "$\\displaystyle \\operatorname{phz}{\\left(s,a + 1,b + 1 \\right)} = \\sum_{n=1}^{\\infty} \\frac{\\left(a + n\\right)^{- s}}{b + n} - \\frac{\\left(a + 1\\right)^{- s}}{b + 1}$"
      ],
      "text/plain": [
       "Eq(phz(s, a + 1, b + 1), Sum((a + n)**(-s)/(b + n), (n, 1, oo)) - (a + 1)**(-s)/(b + 1))"
      ]
     },
     "execution_count": 135,
     "metadata": {},
     "output_type": "execute_result"
    }
   ],
   "source": [
    "Eq(phz(s,a+1,b+1),  - 1/(1+a)**s/(1+b) + Sum(1/(n+a)**s/(n+b),(n,1,oo)))"
   ]
  },
  {
   "cell_type": "code",
   "execution_count": 136,
   "metadata": {},
   "outputs": [
    {
     "data": {
      "text/latex": [
       "$\\displaystyle \\operatorname{phz}{\\left(s,a + 1,b + 1 \\right)} = \\operatorname{phz}{\\left(s,a,b \\right)} - \\frac{\\left(a + 1\\right)^{- s}}{b + 1}$"
      ],
      "text/plain": [
       "Eq(phz(s, a + 1, b + 1), phz(s, a, b) - (a + 1)**(-s)/(b + 1))"
      ]
     },
     "execution_count": 136,
     "metadata": {},
     "output_type": "execute_result"
    }
   ],
   "source": [
    "Eq(phz(s,a+1,b+1),  - 1/(1+a)**s/(1+b) + phz(s,a,b))"
   ]
  },
  {
   "cell_type": "code",
   "execution_count": 147,
   "metadata": {},
   "outputs": [
    {
     "data": {
      "text/latex": [
       "$\\displaystyle \\frac{s \\log{\\left(a + n \\right)}^{s - 1}}{a + n}$"
      ],
      "text/plain": [
       "s*log(a + n)**(s - 1)/(a + n)"
      ]
     },
     "execution_count": 147,
     "metadata": {},
     "output_type": "execute_result"
    }
   ],
   "source": [
    "diff(ln(a+n)**s,a).simplify()"
   ]
  },
  {
   "cell_type": "code",
   "execution_count": null,
   "metadata": {},
   "outputs": [],
   "source": [
    "Eq(-phz(s,a,b) + phz(s,a-1,b-1), 1/a**s/b).subs([(a,3/4),(b,b-1)])"
   ]
  },
  {
   "cell_type": "code",
   "execution_count": 193,
   "metadata": {},
   "outputs": [
    {
     "data": {
      "text/latex": [
       "$\\displaystyle \\operatorname{phz}{\\left(s,a,b \\right)} - \\frac{1}{s} = \\sum_{k=0}^{\\infty} \\frac{\\left(- s\\right)^{k} \\operatorname{ps}{\\left(k,a,b \\right)}}{k!}$"
      ],
      "text/plain": [
       "Eq(phz(s, a, b) - 1/s, Sum((-s)**k*ps(k, a, b)/factorial(k), (k, 0, oo)))"
      ]
     },
     "execution_count": 193,
     "metadata": {},
     "output_type": "execute_result"
    }
   ],
   "source": [
    "Eq(phz(s,a,b) - 1/s, Sum(ps(k,a,b)*(-s)**k/factorial(k),(k,0,oo)))"
   ]
  },
  {
   "cell_type": "code",
   "execution_count": 194,
   "metadata": {},
   "outputs": [
    {
     "data": {
      "text/latex": [
       "$\\displaystyle \\operatorname{phz}{\\left(s,a,b \\right)} = \\sum_{n=1}^{\\infty} \\frac{\\left(a + n\\right)^{- s}}{b + n}$"
      ],
      "text/plain": [
       "Eq(phz(s, a, b), Sum((a + n)**(-s)/(b + n), (n, 1, oo)))"
      ]
     },
     "execution_count": 194,
     "metadata": {},
     "output_type": "execute_result"
    }
   ],
   "source": [
    "Eq(phz(s,a,b), Sum(1/(n+a)**s/(n+b),(n,1,oo)))"
   ]
  },
  {
   "cell_type": "code",
   "execution_count": 210,
   "metadata": {},
   "outputs": [
    {
     "data": {
      "text/latex": [
       "$\\displaystyle -0.758382590255325$"
      ],
      "text/plain": [
       "-0.758382590255325"
      ]
     },
     "execution_count": 210,
     "metadata": {},
     "output_type": "execute_result"
    }
   ],
   "source": [
    "(Sum(1/(n+a)**s/(n+b),(n,1,N))-1/s).subs(s,s).subs([(a,2),(b,3),(N,1000000),(s,0.75)]).evalf()"
   ]
  },
  {
   "cell_type": "code",
   "execution_count": 197,
   "metadata": {},
   "outputs": [
    {
     "data": {
      "text/latex": [
       "$\\displaystyle -0.757394558921913$"
      ],
      "text/plain": [
       "-0.757394558921913"
      ]
     },
     "execution_count": 197,
     "metadata": {},
     "output_type": "execute_result"
    }
   ],
   "source": [
    "Sum((Sum(log(n+a)**k/(n+b),(n,1,N)) - log(N)**(k+1)/(k+1)).subs(N,100)*(-s)**k/factorial(k),\n",
    "    (k,0,40)).subs([(a,2),(b,3),(N,60),(s,0.75)]).evalf()"
   ]
  },
  {
   "cell_type": "code",
   "execution_count": 172,
   "metadata": {},
   "outputs": [
    {
     "data": {
      "text/latex": [
       "$\\displaystyle -99.7804565574585$"
      ],
      "text/plain": [
       "-99.7804565574585"
      ]
     },
     "execution_count": 172,
     "metadata": {},
     "output_type": "execute_result"
    }
   ],
   "source": [
    "(Sum(log(n+a)**k/(n+b) - log(N)**(k+1)/(k+1),(n,1,N))/(factorial(k))).subs([(a,20),(b,3),(N,30),(k,0)]).evalf()"
   ]
  },
  {
   "cell_type": "code",
   "execution_count": 181,
   "metadata": {},
   "outputs": [
    {
     "data": {
      "text/latex": [
       "$\\displaystyle -1054.78046723711$"
      ],
      "text/plain": [
       "-1054.78046723711"
      ]
     },
     "execution_count": 181,
     "metadata": {},
     "output_type": "execute_result"
    }
   ],
   "source": [
    "Sum((log(n+a)**k/(n+b) - log(N)**(k+1)/(k+1)).subs(k,0),(n,1,N)).subs([(b,1),(N,200)]).evalf()"
   ]
  },
  {
   "cell_type": "code",
   "execution_count": 174,
   "metadata": {},
   "outputs": [
    {
     "data": {
      "text/latex": [
       "$\\displaystyle -1.2561176684318$"
      ],
      "text/plain": [
       "-1.25611766843180"
      ]
     },
     "execution_count": 174,
     "metadata": {},
     "output_type": "execute_result"
    }
   ],
   "source": [
    "(-digamma(3+1)).evalf()"
   ]
  },
  {
   "cell_type": "code",
   "execution_count": 117,
   "metadata": {},
   "outputs": [
    {
     "data": {
      "text/latex": [
       "$\\displaystyle \\left(-1\\right)^{k} k s^{k - 5} \\left(k - 4\\right) \\left(k - 3\\right) \\left(k - 2\\right) \\left(k - 1\\right)$"
      ],
      "text/plain": [
       "(-1)**k*k*s**(k - 5)*(k - 4)*(k - 3)*(k - 2)*(k - 1)"
      ]
     },
     "execution_count": 117,
     "metadata": {},
     "output_type": "execute_result"
    }
   ],
   "source": [
    "diff((-1)**k*(s)**k,s,5).simplify().factor()"
   ]
  },
  {
   "cell_type": "code",
   "execution_count": 31,
   "metadata": {},
   "outputs": [],
   "source": [
    "# https://en.wikipedia.org/wiki/Ramanujan%27s_master_theorem"
   ]
  },
  {
   "cell_type": "code",
   "execution_count": 211,
   "metadata": {},
   "outputs": [
    {
     "data": {
      "text/latex": [
       "$\\displaystyle \\int\\limits_{0}^{\\infty} s^{t - 1} \\left(\\operatorname{phz}{\\left(s,a,b \\right)} - \\frac{1}{s}\\right)\\, ds = \\operatorname{ps}{\\left(- t,a,b \\right)} \\Gamma\\left(t\\right)$"
      ],
      "text/plain": [
       "Eq(Integral(s**(t - 1)*(phz(s, a, b) - 1/s), (s, 0, oo)), ps(-t, a, b)*gamma(t))"
      ]
     },
     "execution_count": 211,
     "metadata": {},
     "output_type": "execute_result"
    }
   ],
   "source": [
    "Eq(Integral(s**(t-1)*(phz(s,a,b) - 1/s),(s,0,oo)),gamma(t)*ps(-t,a,b))"
   ]
  },
  {
   "cell_type": "code",
   "execution_count": 127,
   "metadata": {},
   "outputs": [
    {
     "data": {
      "text/latex": [
       "$\\displaystyle 0.98916536017155$"
      ],
      "text/plain": [
       "0.989165360171550"
      ]
     },
     "execution_count": 127,
     "metadata": {},
     "output_type": "execute_result"
    }
   ],
   "source": [
    "Integral((1/gamma(t)*s**(t-1)*(Sum(1/(n+a)**s/(n+b),(n,1,N)))).subs([(a,10),(b,10),(t,1/2),(N,20)]),(s,0,50)).evalf()"
   ]
  },
  {
   "cell_type": "code",
   "execution_count": 212,
   "metadata": {},
   "outputs": [
    {
     "data": {
      "text/latex": [
       "$\\displaystyle -2.22557935322473$"
      ],
      "text/plain": [
       "-2.22557935322473"
      ]
     },
     "execution_count": 212,
     "metadata": {},
     "output_type": "execute_result"
    }
   ],
   "source": [
    "(Sum(log(n+a)**k/(n+b),(n,1,N)) - log(N)**(k+1)/(k+1)).subs([(a,10),(b,10),(k,-1/2),(N,200)]).evalf()"
   ]
  },
  {
   "cell_type": "code",
   "execution_count": 48,
   "metadata": {},
   "outputs": [
    {
     "data": {
      "text/latex": [
       "$\\displaystyle - \\frac{\\log{\\left(a + n \\right)}}{b + n}$"
      ],
      "text/plain": [
       "-log(a + n)/(b + n)"
      ]
     },
     "execution_count": 48,
     "metadata": {},
     "output_type": "execute_result"
    }
   ],
   "source": [
    "limit(diff(1/(n+a)**s/(n+b),s),s,0)"
   ]
  },
  {
   "cell_type": "code",
   "execution_count": 57,
   "metadata": {},
   "outputs": [
    {
     "data": {
      "text/latex": [
       "$\\displaystyle 2 \\operatorname{ps}{\\left(0,a,b \\right)}$"
      ],
      "text/plain": [
       "2*ps(0, a, b)"
      ]
     },
     "execution_count": 57,
     "metadata": {},
     "output_type": "execute_result"
    }
   ],
   "source": [
    "limit(diff(s**2*ps(k,a,b)*(-s)**k/factorial(k),s,2),k,0)"
   ]
  },
  {
   "cell_type": "code",
   "execution_count": 62,
   "metadata": {},
   "outputs": [
    {
     "data": {
      "text/latex": [
       "$\\displaystyle - \\operatorname{ps}{\\left(1,a,b \\right)}$"
      ],
      "text/plain": [
       "-ps(1, a, b)"
      ]
     },
     "execution_count": 62,
     "metadata": {},
     "output_type": "execute_result"
    }
   ],
   "source": [
    "limit(diff(Sum(ps(k,a,b)*(-s)**k/factorial(k),(k,0,2)).doit(),s),s,0)"
   ]
  },
  {
   "cell_type": "code",
   "execution_count": 64,
   "metadata": {},
   "outputs": [
    {
     "data": {
      "text/latex": [
       "$\\displaystyle 2 \\operatorname{ps}{\\left(1,a,b \\right)}$"
      ],
      "text/plain": [
       "2*ps(1, a, b)"
      ]
     },
     "execution_count": 64,
     "metadata": {},
     "output_type": "execute_result"
    }
   ],
   "source": [
    "limit(diff(Sum(-s*ps(k,a,b)*(-s)**k/factorial(k),(k,0,2)).doit(),s,2),s,0)"
   ]
  },
  {
   "cell_type": "code",
   "execution_count": 66,
   "metadata": {},
   "outputs": [
    {
     "data": {
      "text/latex": [
       "$\\displaystyle \\frac{2 \\log{\\left(a + n \\right)}}{b + n}$"
      ],
      "text/plain": [
       "2*log(a + n)/(b + n)"
      ]
     },
     "execution_count": 66,
     "metadata": {},
     "output_type": "execute_result"
    }
   ],
   "source": [
    "limit(diff(-s/(n+a)**s/(n+b),s,2),s,0)"
   ]
  },
  {
   "cell_type": "code",
   "execution_count": 217,
   "metadata": {},
   "outputs": [
    {
     "data": {
      "text/latex": [
       "$\\displaystyle \\lim_{s \\to 0^+}\\left(\\frac{x^{s - 1} \\log{\\left(x \\right)}}{\\Gamma\\left(s\\right)} - \\frac{x^{s - 1} \\operatorname{polygamma}{\\left(0,s \\right)}}{\\Gamma\\left(s\\right)}\\right)$"
      ],
      "text/plain": [
       "Limit(x**(s - 1)*log(x)/gamma(s) - x**(s - 1)*polygamma(0, s)/gamma(s), s, 0)"
      ]
     },
     "execution_count": 217,
     "metadata": {},
     "output_type": "execute_result"
    }
   ],
   "source": [
    "limit((diff(x**(s-1)/gamma(s),s)),s,0)"
   ]
  },
  {
   "cell_type": "code",
   "execution_count": 99,
   "metadata": {},
   "outputs": [
    {
     "data": {
      "image/png": "[encoded data removed]",
      "text/plain": [
       "<Figure size 432x288 with 1 Axes>"
      ]
     },
     "metadata": {
      "needs_background": "light"
     },
     "output_type": "display_data"
    },
    {
     "data": {
      "text/plain": [
       "<sympy.plotting.plot.Plot at 0x7f741cc72ee0>"
      ]
     },
     "execution_count": 99,
     "metadata": {},
     "output_type": "execute_result"
    }
   ],
   "source": [
    "plot((polygamma(0,s)**2-polygamma(1,s))/gamma(s),(s,0.00001,1))"
   ]
  },
  {
   "cell_type": "code",
   "execution_count": 68,
   "metadata": {},
   "outputs": [
    {
     "data": {
      "text/latex": [
       "$\\displaystyle \\sum_{n=0}^{\\infty} \\left(- \\frac{1}{\\left(b + n\\right) \\left(- a + n + 1\\right)} + \\frac{1}{\\left(a + n\\right) \\left(b + n\\right)}\\right) = \\frac{\\frac{\\left(- a b + b\\right) \\Phi\\left(1, 1, 1 - a\\right)}{a + b - 1} + \\frac{\\left(a b - b\\right) \\Phi\\left(1, 1, b\\right)}{a + b - 1}}{b \\left(a - 1\\right)} + \\frac{- \\frac{a b \\Phi\\left(1, 1, a\\right)}{a - b} + \\frac{a b \\Phi\\left(1, 1, b\\right)}{a - b}}{a b}$"
      ],
      "text/plain": [
       "Eq(Sum(-1/((b + n)*(-a + n + 1)) + 1/((a + n)*(b + n)), (n, 0, oo)), ((-a*b + b)*lerchphi(1, 1, 1 - a)/(a + b - 1) + (a*b - b)*lerchphi(1, 1, b)/(a + b - 1))/(b*(a - 1)) + (-a*b*lerchphi(1, 1, a)/(a - b) + a*b*lerchphi(1, 1, b)/(a - b))/(a*b))"
      ]
     },
     "execution_count": 68,
     "metadata": {},
     "output_type": "execute_result"
    }
   ],
   "source": [
    "Eq(Sum(1/(n+a)/(n+b)-1/(n+1-a)/(n+b),(n,0,oo)),Sum(1/(n+a)/(n+b)-1/(n+1-a)/(n+b),(n,0,oo)).doit())"
   ]
  },
  {
   "cell_type": "code",
   "execution_count": 71,
   "metadata": {},
   "outputs": [
    {
     "data": {
      "text/latex": [
       "$\\displaystyle \\frac{\\Phi\\left(1, 2, 1 - a\\right)}{a + b - 1} - \\frac{\\Phi\\left(1, 1, 1 - a\\right)}{\\left(a + b - 1\\right)^{2}}$"
      ],
      "text/plain": [
       "lerchphi(1, 2, 1 - a)/(a + b - 1) - lerchphi(1, 1, 1 - a)/(a + b - 1)**2"
      ]
     },
     "execution_count": 71,
     "metadata": {},
     "output_type": "execute_result"
    }
   ],
   "source": [
    "diff(lerchphi(1,1,1-a)/(a+b-1),a)"
   ]
  },
  {
   "cell_type": "code",
   "execution_count": 75,
   "metadata": {},
   "outputs": [
    {
     "data": {
      "text/latex": [
       "$\\displaystyle \\sum_{n=0}^{\\infty} \\frac{1}{\\left(a + n\\right) \\left(b + n\\right)} = - \\frac{\\Phi\\left(1, 1, a\\right)}{a - b} + \\frac{\\Phi\\left(1, 1, b\\right)}{a - b}$"
      ],
      "text/plain": [
       "Eq(Sum(1/((a + n)*(b + n)), (n, 0, oo)), -lerchphi(1, 1, a)/(a - b) + lerchphi(1, 1, b)/(a - b))"
      ]
     },
     "execution_count": 75,
     "metadata": {},
     "output_type": "execute_result"
    }
   ],
   "source": [
    "Eq(Sum(1/(a+n)/(b+n),(n,0,oo)), Sum(1/(a+n)/(b+n),(n,0,oo)).doit().expand())"
   ]
  },
  {
   "cell_type": "code",
   "execution_count": 90,
   "metadata": {},
   "outputs": [
    {
     "data": {
      "text/latex": [
       "$\\displaystyle \\sum_{n=0}^{\\infty} \\frac{1}{\\left(a + n\\right) \\left(b + n\\right)} = \\frac{\\operatorname{polygamma}{\\left(0,a \\right)} - \\operatorname{polygamma}{\\left(0,b \\right)}}{a - b}$"
      ],
      "text/plain": [
       "Eq(Sum(1/((a + n)*(b + n)), (n, 0, oo)), (polygamma(0, a) - polygamma(0, b))/(a - b))"
      ]
     },
     "execution_count": 90,
     "metadata": {},
     "output_type": "execute_result"
    }
   ],
   "source": [
    "Eq(Sum(1/(a+n)/(b+n),(n,0,oo)), (digamma(a) - digamma(b))/(a-b))"
   ]
  },
  {
   "cell_type": "code",
   "execution_count": 215,
   "metadata": {},
   "outputs": [
    {
     "data": {
      "text/latex": [
       "$\\displaystyle \\frac{a - b}{\\left(a + n\\right) \\left(b + n\\right)}$"
      ],
      "text/plain": [
       "(a - b)/((a + n)*(b + n))"
      ]
     },
     "execution_count": 215,
     "metadata": {},
     "output_type": "execute_result"
    }
   ],
   "source": [
    "(1/(b+n) - 1/(a+n)).simplify()"
   ]
  },
  {
   "cell_type": "code",
   "execution_count": 3,
   "metadata": {},
   "outputs": [
    {
     "data": {
      "text/latex": [
       "$\\displaystyle \\sum_{n=0}^{\\infty} \\frac{1}{\\left(a + n\\right) \\left(b + n\\right)} = \\frac{\\int\\limits_{0}^{\\infty} \\left(- \\frac{e^{- b z}}{1 - e^{- z}} + \\frac{e^{- a z}}{1 - e^{- z}}\\right)\\, dz}{a - b}$"
      ],
      "text/plain": [
       "Eq(Sum(1/((a + n)*(b + n)), (n, 0, oo)), Integral(-exp(-b*z)/(1 - exp(-z)) + exp(-a*z)/(1 - exp(-z)), (z, 0, oo))/(a - b))"
      ]
     },
     "execution_count": 3,
     "metadata": {},
     "output_type": "execute_result"
    }
   ],
   "source": [
    "Eq(Sum(1/(a+n)/(b+n),(n,0,oo)), (Integral(exp(-a*z)/(1-exp(-z))-exp(-b*z)/(1-exp(-z)), (z,0,oo)))/(a-b))"
   ]
  },
  {
   "cell_type": "code",
   "execution_count": 13,
   "metadata": {},
   "outputs": [
    {
     "data": {
      "text/latex": [
       "$\\displaystyle \\int\\limits_{0}^{x} \\left(- b + t\\right) \\left(- t + x\\right)^{\\alpha - 1}\\, dt$"
      ],
      "text/plain": [
       "Integral((-b + t)*(-t + x)**(alpha - 1), (t, 0, x))"
      ]
     },
     "execution_count": 13,
     "metadata": {},
     "output_type": "execute_result"
    }
   ],
   "source": [
    "Integral((x-t)**(alpha-1)*(t-b),(t,0,x)).doit().simplify()"
   ]
  },
  {
   "cell_type": "code",
   "execution_count": 14,
   "metadata": {},
   "outputs": [
    {
     "data": {
      "text/latex": [
       "$\\displaystyle - \\frac{s \\left(a + b + n\\right)^{- s}}{a + b + n}$"
      ],
      "text/plain": [
       "-s*(a + b + n)**(-s)/(a + b + n)"
      ]
     },
     "execution_count": 14,
     "metadata": {},
     "output_type": "execute_result"
    }
   ],
   "source": [
    "diff(1/(n+a+b)**s,a)"
   ]
  },
  {
   "cell_type": "code",
   "execution_count": 19,
   "metadata": {},
   "outputs": [
    {
     "data": {
      "text/latex": [
       "$\\displaystyle \\begin{cases} \\Phi\\left(x, 1, b\\right) & \\text{for}\\: x \\geq -1 \\wedge x < 1 \\\\\\sum_{n=0}^{\\infty} \\frac{x^{n}}{b + n} & \\text{otherwise} \\end{cases}$"
      ],
      "text/plain": [
       "Piecewise((lerchphi(x, 1, b), (x >= -1) & (x < 1)), (Sum(x**n/(b + n), (n, 0, oo)), True))"
      ]
     },
     "execution_count": 19,
     "metadata": {},
     "output_type": "execute_result"
    }
   ],
   "source": [
    "Sum(x**n/(n+b),(n,0,oo)).doit()"
   ]
  },
  {
   "cell_type": "code",
   "execution_count": 21,
   "metadata": {},
   "outputs": [
    {
     "data": {
      "text/latex": [
       "$\\displaystyle y^{s} \\log{\\left(y \\right)}$"
      ],
      "text/plain": [
       "y**s*log(y)"
      ]
     },
     "execution_count": 21,
     "metadata": {},
     "output_type": "execute_result"
    }
   ],
   "source": [
    "diff(y**s,s)"
   ]
  },
  {
   "cell_type": "code",
   "execution_count": 25,
   "metadata": {},
   "outputs": [
    {
     "data": {
      "text/latex": [
       "$\\displaystyle \\Gamma\\left(s\\right) \\sum_{n=0}^{\\infty} \\frac{\\left(a + n\\right)^{- s}}{b + n} = \\left(\\int\\limits_{0}^{\\infty} x^{s - 1} e^{- x}\\, dx\\right) \\sum_{n=0}^{\\infty} \\frac{\\left(a + n\\right)^{- s}}{b + n}$"
      ],
      "text/plain": [
       "Eq(gamma(s)*Sum((a + n)**(-s)/(b + n), (n, 0, oo)), Integral(x**(s - 1)*exp(-x), (x, 0, oo))*Sum((a + n)**(-s)/(b + n), (n, 0, oo)))"
      ]
     },
     "execution_count": 25,
     "metadata": {},
     "output_type": "execute_result"
    }
   ],
   "source": [
    "Eq(Sum(1/(a+n)**s/(b+n),(n,0,oo))*gamma(s), Sum(1/(a+n)**s/(b+n),(n,0,oo))*Integral(x**(s-1)*exp(-x),(x,0,oo)))"
   ]
  },
  {
   "cell_type": "code",
   "execution_count": 27,
   "metadata": {},
   "outputs": [
    {
     "data": {
      "text/latex": [
       "$\\displaystyle \\Gamma\\left(s\\right) \\sum_{n=0}^{\\infty} \\frac{\\left(a + n\\right)^{- s}}{b + n} = \\int\\limits_{0}^{\\infty} \\sum_{n=0}^{\\infty} \\frac{x^{s - 1} \\left(a + n\\right)^{- s} e^{- x}}{b + n}\\, dx$"
      ],
      "text/plain": [
       "Eq(gamma(s)*Sum((a + n)**(-s)/(b + n), (n, 0, oo)), Integral(Sum(x**(s - 1)*(a + n)**(-s)*exp(-x)/(b + n), (n, 0, oo)), (x, 0, oo)))"
      ]
     },
     "execution_count": 27,
     "metadata": {},
     "output_type": "execute_result"
    }
   ],
   "source": [
    "Eq(Sum(1/(a+n)**s/(b+n),(n,0,oo))*gamma(s), Integral(Sum(1/(a+n)**s/(b+n)*x**(s-1)*exp(-x),(n,0,oo)),(x,0,oo)))"
   ]
  },
  {
   "cell_type": "code",
   "execution_count": 28,
   "metadata": {},
   "outputs": [
    {
     "data": {
      "text/latex": [
       "$\\displaystyle \\Gamma\\left(s\\right) \\sum_{n=0}^{\\infty} \\frac{\\left(a + n\\right)^{- s}}{b + n} = \\int\\limits_{0}^{\\infty} \\sum_{n=0}^{\\infty} \\frac{x^{s - 1} e^{- x \\left(a + n\\right)}}{b + n}\\, dx$"
      ],
      "text/plain": [
       "Eq(gamma(s)*Sum((a + n)**(-s)/(b + n), (n, 0, oo)), Integral(Sum(x**(s - 1)*exp(-x*(a + n))/(b + n), (n, 0, oo)), (x, 0, oo)))"
      ]
     },
     "execution_count": 28,
     "metadata": {},
     "output_type": "execute_result"
    }
   ],
   "source": [
    "Eq(Sum(1/(a+n)**s/(b+n),(n,0,oo))*gamma(s), Integral(Sum(1/(b+n)*x**(s-1)*exp(-x*(a+n)),(n,0,oo)),(x,0,oo)))"
   ]
  },
  {
   "cell_type": "code",
   "execution_count": 35,
   "metadata": {},
   "outputs": [
    {
     "data": {
      "text/latex": [
       "$\\displaystyle \\sum_{n=0}^{\\infty} \\frac{e^{- n x}}{b + n} = \\Phi\\left(e^{- x}, 1, b\\right)$"
      ],
      "text/plain": [
       "Eq(Sum(exp(-n*x)/(b + n), (n, 0, oo)), lerchphi(exp(-x), 1, b))"
      ]
     },
     "execution_count": 35,
     "metadata": {},
     "output_type": "execute_result"
    }
   ],
   "source": [
    "Eq(Sum(exp(-x*n)/(b+n),(n,0,oo)), lerchphi(exp(-x),1,b))"
   ]
  },
  {
   "cell_type": "code",
   "execution_count": 38,
   "metadata": {},
   "outputs": [
    {
     "data": {
      "text/latex": [
       "$\\displaystyle \\sum_{n=0}^{\\infty} \\frac{\\left(a + n\\right)^{- s}}{b + n} = \\frac{\\int\\limits_{0}^{\\infty} x^{s - 1} \\Phi\\left(e^{- x}, 1, b\\right) e^{- a x}\\, dx}{\\Gamma\\left(s\\right)}$"
      ],
      "text/plain": [
       "Eq(Sum((a + n)**(-s)/(b + n), (n, 0, oo)), Integral(x**(s - 1)*lerchphi(exp(-x), 1, b)*exp(-a*x), (x, 0, oo))/gamma(s))"
      ]
     },
     "execution_count": 38,
     "metadata": {},
     "output_type": "execute_result"
    }
   ],
   "source": [
    "Eq(Sum(1/(a+n)**s/(b+n),(n,0,oo)), 1/gamma(s)*Integral(x**(s-1)*exp(-x*a)*lerchphi(exp(-x),1,b),(x,0,oo)))"
   ]
  },
  {
   "cell_type": "code",
   "execution_count": 5,
   "metadata": {},
   "outputs": [
    {
     "data": {
      "text/latex": [
       "$\\displaystyle e^{- x} = \\mu$"
      ],
      "text/plain": [
       "Eq(exp(-x), mu)"
      ]
     },
     "execution_count": 5,
     "metadata": {},
     "output_type": "execute_result"
    }
   ],
   "source": [
    "Eq(exp(-x),mu)"
   ]
  },
  {
   "cell_type": "code",
   "execution_count": 9,
   "metadata": {},
   "outputs": [
    {
     "data": {
      "text/latex": [
       "$\\displaystyle - x = \\log{\\left(\\mu \\right)}$"
      ],
      "text/plain": [
       "Eq(-x, log(mu))"
      ]
     },
     "execution_count": 9,
     "metadata": {},
     "output_type": "execute_result"
    }
   ],
   "source": [
    "Eq(-x,ln(mu))"
   ]
  },
  {
   "cell_type": "code",
   "execution_count": 86,
   "metadata": {},
   "outputs": [
    {
     "data": {
      "text/latex": [
       "$\\displaystyle - \\frac{\\log{\\left(a + n \\right)}}{b + n}$"
      ],
      "text/plain": [
       "-log(a + n)/(b + n)"
      ]
     },
     "execution_count": 86,
     "metadata": {},
     "output_type": "execute_result"
    }
   ],
   "source": [
    "limit(diff(1/(a+n)**s/(b+n),s),s,0)"
   ]
  },
  {
   "cell_type": "code",
   "execution_count": 45,
   "metadata": {},
   "outputs": [
    {
     "data": {
      "text/latex": [
       "$\\displaystyle \\Phi\\left(\\nu, s, \\mu\\right) = \\frac{\\int\\limits_{0}^{\\infty} \\frac{z^{s - 1} e^{- \\mu z}}{- \\nu e^{- z} + 1}\\, dz}{\\Gamma\\left(s\\right)}$"
      ],
      "text/plain": [
       "Eq(lerchphi(nu, s, mu), Integral(z**(s - 1)*exp(-mu*z)/(-nu*exp(-z) + 1), (z, 0, oo))/gamma(s))"
      ]
     },
     "execution_count": 45,
     "metadata": {},
     "output_type": "execute_result"
    }
   ],
   "source": [
    "Eq(lerchphi(nu,s,mu), 1/gamma(s)*Integral(z**(s-1)*exp(-mu*z)/(1-nu*exp(-z)), (z,0,oo)))"
   ]
  },
  {
   "cell_type": "code",
   "execution_count": 56,
   "metadata": {},
   "outputs": [
    {
     "data": {
      "text/latex": [
       "$\\displaystyle \\Phi\\left(e^{- z}, s, a\\right) = \\frac{\\int\\limits_{0}^{\\infty} \\frac{x^{s - 1} e^{- a x}}{1 - e^{- x} e^{- z}}\\, dx}{\\Gamma\\left(s\\right)}$"
      ],
      "text/plain": [
       "Eq(lerchphi(exp(-z), s, a), Integral(x**(s - 1)*exp(-a*x)/(1 - exp(-x)*exp(-z)), (x, 0, oo))/gamma(s))"
      ]
     },
     "execution_count": 56,
     "metadata": {},
     "output_type": "execute_result"
    }
   ],
   "source": [
    "Eq(lerchphi(exp(-z),s,a), 1/gamma(s)*Integral(x**(s-1)*exp(-a*x)/(1-exp(-z)*exp(-x)), (x,0,oo)))"
   ]
  },
  {
   "cell_type": "code",
   "execution_count": 48,
   "metadata": {},
   "outputs": [
    {
     "data": {
      "text/latex": [
       "$\\displaystyle \\Phi\\left(e^{- x}, 1, b\\right) = \\int\\limits_{0}^{\\infty} \\frac{e^{- b z}}{1 - e^{- x} e^{- z}}\\, dz$"
      ],
      "text/plain": [
       "Eq(lerchphi(exp(-x), 1, b), Integral(exp(-b*z)/(1 - exp(-x)*exp(-z)), (z, 0, oo)))"
      ]
     },
     "execution_count": 48,
     "metadata": {},
     "output_type": "execute_result"
    }
   ],
   "source": [
    "Eq(lerchphi(nu,s,mu), 1/gamma(s)*Integral(z**(s-1)*exp(-mu*z)/(1-nu*exp(-z)), (z,0,oo))).subs([(nu,exp(-x)),(s,1),(mu,b)])"
   ]
  },
  {
   "cell_type": "code",
   "execution_count": 57,
   "metadata": {
    "scrolled": true
   },
   "outputs": [
    {
     "data": {
      "text/latex": [
       "$\\displaystyle \\sum_{n=0}^{\\infty} \\frac{\\left(a + n\\right)^{- s}}{b + n} = \\frac{\\int\\limits_{0}^{\\infty}\\int\\limits_{0}^{\\infty} \\frac{x^{s - 1} e^{- a x} e^{- b z}}{1 - e^{- x} e^{- z}}\\, dx\\, dz}{\\Gamma\\left(s\\right)}$"
      ],
      "text/plain": [
       "Eq(Sum((a + n)**(-s)/(b + n), (n, 0, oo)), Integral(x**(s - 1)*exp(-a*x)*exp(-b*z)/(1 - exp(-x)*exp(-z)), (x, 0, oo), (z, 0, oo))/gamma(s))"
      ]
     },
     "execution_count": 57,
     "metadata": {},
     "output_type": "execute_result"
    }
   ],
   "source": [
    "Eq(Sum(1/(a+n)**s/(b+n),(n,0,oo)),\n",
    "   1/gamma(s)*Integral(Integral(x**(s-1)*exp(-x*a)*exp(-b*z)/(1-exp(-x)*exp(-z)), (x,0,oo)),(z,0,oo)))"
   ]
  },
  {
   "cell_type": "code",
   "execution_count": 60,
   "metadata": {},
   "outputs": [
    {
     "data": {
      "text/latex": [
       "$\\displaystyle \\sum_{n=0}^{\\infty} \\frac{\\left(a + n\\right)^{- s}}{b + n} = \\frac{\\int\\limits_{0}^{\\infty} \\Phi\\left(e^{- z}, s, a\\right) e^{- b z}\\, dz}{\\Gamma\\left(s\\right)}$"
      ],
      "text/plain": [
       "Eq(Sum((a + n)**(-s)/(b + n), (n, 0, oo)), Integral(lerchphi(exp(-z), s, a)*exp(-b*z), (z, 0, oo))/gamma(s))"
      ]
     },
     "execution_count": 60,
     "metadata": {},
     "output_type": "execute_result"
    }
   ],
   "source": [
    "Eq(Sum(1/(a+n)**s/(b+n),(n,0,oo)), 1/gamma(s)*Integral(lerchphi(exp(-z),s,a)*exp(-b*z),(z,0,oo)))"
   ]
  },
  {
   "cell_type": "code",
   "execution_count": null,
   "metadata": {},
   "outputs": [],
   "source": []
  },
  {
   "cell_type": "code",
   "execution_count": 63,
   "metadata": {},
   "outputs": [
    {
     "data": {
      "text/latex": [
       "$\\displaystyle 0.0153887983676474$"
      ],
      "text/plain": [
       "0.0153887983676474"
      ]
     },
     "execution_count": 63,
     "metadata": {},
     "output_type": "execute_result"
    }
   ],
   "source": [
    "(Sum(1/(a+n)**s/(b+n),(n,0,100))).subs([(a,10),(b,2),(s,2)]).evalf()"
   ]
  },
  {
   "cell_type": "code",
   "execution_count": 64,
   "metadata": {},
   "outputs": [
    {
     "data": {
      "text/latex": [
       "$\\displaystyle 0.0154318369977372$"
      ],
      "text/plain": [
       "0.0154318369977372"
      ]
     },
     "execution_count": 64,
     "metadata": {},
     "output_type": "execute_result"
    }
   ],
   "source": [
    "(1/gamma(s)*Integral(lerchphi(exp(-z),s,a)*exp(-b*z),(z,0,10))).subs([(a,10),(b,2),(s,2)]).evalf()"
   ]
  },
  {
   "cell_type": "code",
   "execution_count": 68,
   "metadata": {
    "scrolled": true
   },
   "outputs": [
    {
     "data": {
      "text/latex": [
       "$\\displaystyle \\operatorname{phz}{\\left(s,a,b \\right)} = \\frac{\\int\\limits_{0}^{\\infty} \\Phi\\left(e^{- z}, s, a\\right) e^{- b z}\\, dz}{\\Gamma\\left(s\\right)}$"
      ],
      "text/plain": [
       "Eq(phz(s, a, b), Integral(lerchphi(exp(-z), s, a)*exp(-b*z), (z, 0, oo))/gamma(s))"
      ]
     },
     "execution_count": 68,
     "metadata": {},
     "output_type": "execute_result"
    }
   ],
   "source": [
    "Eq(phz(s,a,b), 1/gamma(s)*Integral(lerchphi(exp(-z),s,a)*exp(-b*z),(z,0,oo)))"
   ]
  },
  {
   "cell_type": "code",
   "execution_count": 83,
   "metadata": {},
   "outputs": [
    {
     "data": {
      "text/latex": [
       "$\\displaystyle \\frac{\\partial}{\\partial s} \\Phi\\left(z, s, a\\right)$"
      ],
      "text/plain": [
       "Derivative(lerchphi(z, s, a), s)"
      ]
     },
     "execution_count": 83,
     "metadata": {},
     "output_type": "execute_result"
    }
   ],
   "source": [
    "diff(lerchphi(z,s,a),s).doit()"
   ]
  },
  {
   "cell_type": "code",
   "execution_count": 84,
   "metadata": {},
   "outputs": [
    {
     "data": {
      "text/latex": [
       "$\\displaystyle x^{s - 1} \\log{\\left(x \\right)}$"
      ],
      "text/plain": [
       "x**(s - 1)*log(x)"
      ]
     },
     "execution_count": 84,
     "metadata": {},
     "output_type": "execute_result"
    }
   ],
   "source": [
    "diff(x**(s-1),s)"
   ]
  },
  {
   "cell_type": "markdown",
   "metadata": {},
   "source": [
    "## Integral representation of Poly Stieltjes"
   ]
  },
  {
   "cell_type": "code",
   "execution_count": 12,
   "metadata": {
    "scrolled": false
   },
   "outputs": [
    {
     "data": {
      "text/latex": [
       "$\\displaystyle \\operatorname{ps}{\\left(k,a,b \\right)} = \\lim_{N \\to \\infty}\\left(\\sum_{n=1}^{N} \\frac{\\log{\\left(a + n \\right)}^{k}}{b + n} - \\frac{\\log{\\left(N \\right)}^{k + 1}}{k + 1}\\right)$"
      ],
      "text/plain": [
       "Eq(ps(k, a, b), Limit(Sum(log(a + n)**k/(b + n), (n, 1, N)) - log(N)**(k + 1)/(k + 1), N, oo, dir='-'))"
      ]
     },
     "execution_count": 12,
     "metadata": {},
     "output_type": "execute_result"
    }
   ],
   "source": [
    "Eq(ps(k,a,b), Limit(Sum(log(n+a)**k/(n+b),(n,1,N)) - log(N)**(k+1)/(k+1),N,oo))"
   ]
  },
  {
   "cell_type": "code",
   "execution_count": 11,
   "metadata": {},
   "outputs": [
    {
     "data": {
      "text/latex": [
       "$\\displaystyle \\operatorname{re}{\\left(\\alpha\\right)} > 0$"
      ],
      "text/plain": [
       "re(alpha) > 0"
      ]
     },
     "execution_count": 11,
     "metadata": {},
     "output_type": "execute_result"
    }
   ],
   "source": [
    "re(alpha)>0"
   ]
  },
  {
   "cell_type": "code",
   "execution_count": 107,
   "metadata": {},
   "outputs": [
    {
     "data": {
      "text/latex": [
       "$\\displaystyle \\int\\limits_{0}^{\\infty} e^{- \\alpha x} \\log{\\left(x \\right)}\\, dx = \\frac{- \\log{\\left(\\alpha \\right)} - \\gamma}{\\alpha}$"
      ],
      "text/plain": [
       "Eq(Integral(exp(-alpha*x)*log(x), (x, 0, oo)), (-log(alpha) - EulerGamma)/alpha)"
      ]
     },
     "execution_count": 107,
     "metadata": {},
     "output_type": "execute_result"
    }
   ],
   "source": [
    "Eq(Integral(exp(-alpha*x)*ln(x),(x,0,oo)),-(ln(alpha) + EulerGamma)/alpha)"
   ]
  },
  {
   "cell_type": "code",
   "execution_count": 16,
   "metadata": {},
   "outputs": [
    {
     "data": {
      "text/latex": [
       "$\\displaystyle \\frac{\\partial}{\\partial x} \\log{\\left(x \\right)}^{n} = \\frac{n \\log{\\left(x \\right)}^{n - 1}}{x}$"
      ],
      "text/plain": [
       "Eq(Derivative(log(x)**n, x), n*log(x)**(n - 1)/x)"
      ]
     },
     "execution_count": 16,
     "metadata": {},
     "output_type": "execute_result"
    }
   ],
   "source": [
    "Eq(Derivative(ln(x)**n,x), diff(ln(x)**n,x).simplify())"
   ]
  },
  {
   "cell_type": "code",
   "execution_count": 18,
   "metadata": {},
   "outputs": [
    {
     "data": {
      "text/latex": [
       "$\\displaystyle \\operatorname{re}{\\left(a\\right)} > -1$"
      ],
      "text/plain": [
       "re(a) > -1"
      ]
     },
     "execution_count": 18,
     "metadata": {},
     "output_type": "execute_result"
    }
   ],
   "source": [
    "re(a)>-1"
   ]
  },
  {
   "cell_type": "code",
   "execution_count": 17,
   "metadata": {},
   "outputs": [
    {
     "data": {
      "text/latex": [
       "$\\displaystyle \\int\\limits_{0}^{\\infty} e^{- x \\left(a + n\\right)} \\log{\\left(x \\right)}\\, dx = \\frac{- \\log{\\left(a + n \\right)} - \\gamma}{a + n}$"
      ],
      "text/plain": [
       "Eq(Integral(exp(-x*(a + n))*log(x), (x, 0, oo)), (-log(a + n) - EulerGamma)/(a + n))"
      ]
     },
     "execution_count": 17,
     "metadata": {},
     "output_type": "execute_result"
    }
   ],
   "source": [
    "Eq(Integral(exp(-alpha*x)*ln(x),(x,0,oo)),-(ln(alpha) + EulerGamma)/alpha).subs(alpha,a+n)"
   ]
  },
  {
   "cell_type": "code",
   "execution_count": 19,
   "metadata": {},
   "outputs": [
    {
     "data": {
      "text/latex": [
       "$\\displaystyle \\int\\limits_{0}^{\\infty} \\frac{e^{x \\left(- a - n\\right)} \\log{\\left(x \\right)}}{b + n}\\, dx = \\frac{- \\log{\\left(a + n \\right)} - \\gamma}{\\left(a + n\\right) \\left(b + n\\right)}$"
      ],
      "text/plain": [
       "Eq(Integral(exp(x*(-a - n))*log(x)/(b + n), (x, 0, oo)), (-log(a + n) - EulerGamma)/((a + n)*(b + n)))"
      ]
     },
     "execution_count": 19,
     "metadata": {},
     "output_type": "execute_result"
    }
   ],
   "source": [
    "Eq(Integral(exp(-(a+n)*x)/(b+n)*ln(x),(x,0,oo)),-(ln((a+n)) + EulerGamma)/(a+n)/(b+n))"
   ]
  },
  {
   "cell_type": "code",
   "execution_count": 21,
   "metadata": {},
   "outputs": [
    {
     "data": {
      "text/latex": [
       "$\\displaystyle - \\int\\limits_{0}^{\\infty} \\log{\\left(x \\right)} \\sum_{n=1}^{N} \\frac{e^{x \\left(- a - n\\right)}}{b + n}\\, dx = \\sum_{n=1}^{N} \\frac{\\log{\\left(a + n \\right)} + \\gamma}{\\left(a + n\\right) \\left(b + n\\right)}$"
      ],
      "text/plain": [
       "Eq(-Integral(log(x)*Sum(exp(x*(-a - n))/(b + n), (n, 1, N)), (x, 0, oo)), Sum((log(a + n) + EulerGamma)/((a + n)*(b + n)), (n, 1, N)))"
      ]
     },
     "execution_count": 21,
     "metadata": {},
     "output_type": "execute_result"
    }
   ],
   "source": [
    "Eq(-Integral(Sum(exp(-(a+n)*x)/(b+n),(n,1,N))*ln(x),(x,0,oo)),Sum((ln((a+n)) + EulerGamma)/(a+n)/(b+n),(n,1,N)))"
   ]
  },
  {
   "cell_type": "code",
   "execution_count": 26,
   "metadata": {},
   "outputs": [
    {
     "data": {
      "text/latex": [
       "$\\displaystyle - \\frac{\\log{\\left(N \\right)}^{2}}{2} + \\sum_{n=1}^{N} \\frac{\\log{\\left(a + n \\right)}}{\\left(a + n\\right) \\left(b + n\\right)} = - \\frac{\\log{\\left(N \\right)}^{2}}{2} - \\int\\limits_{0}^{\\infty} e^{- a x} \\log{\\left(x \\right)} \\sum_{n=1}^{N} \\frac{e^{- n x}}{b + n}\\, dx - \\gamma \\sum_{n=1}^{N} \\frac{1}{\\left(a + n\\right) \\left(b + n\\right)}$"
      ],
      "text/plain": [
       "Eq(-log(N)**2/2 + Sum(log(a + n)/((a + n)*(b + n)), (n, 1, N)), -log(N)**2/2 - Integral(exp(-a*x)*log(x)*Sum(exp(-n*x)/(b + n), (n, 1, N)), (x, 0, oo)) - EulerGamma*Sum(1/((a + n)*(b + n)), (n, 1, N)))"
      ]
     },
     "execution_count": 26,
     "metadata": {},
     "output_type": "execute_result"
    }
   ],
   "source": [
    "Eq(Sum(ln(a+n)/(a+n)/(b+n),(n,1,N)) - log(N)**2/2,\n",
    " - log(N)**2/2 -EulerGamma*Sum(1/(a+n)/(b+n),(n,1,N))-Integral(exp(-a*x)*Sum(exp(-n*x)/(b+n),(n,1,N))*ln(x),(x,0,oo)))"
   ]
  },
  {
   "cell_type": "code",
   "execution_count": 25,
   "metadata": {},
   "outputs": [
    {
     "data": {
      "text/latex": [
       "$\\displaystyle \\sum_{n=0}^{\\infty} \\frac{e^{- n x}}{b + n} = \\Phi\\left(e^{- x}, 1, b\\right)$"
      ],
      "text/plain": [
       "Eq(Sum(exp(-n*x)/(b + n), (n, 0, oo)), lerchphi(exp(-x), 1, b))"
      ]
     },
     "execution_count": 25,
     "metadata": {},
     "output_type": "execute_result"
    }
   ],
   "source": [
    "Eq(Sum(exp(-x*n)/(b+n),(n,0,oo)), lerchphi(exp(-x),1,b))"
   ]
  },
  {
   "cell_type": "code",
   "execution_count": 49,
   "metadata": {},
   "outputs": [
    {
     "data": {
      "text/latex": [
       "$\\displaystyle \\sum_{n=1}^{\\infty} e^{- n x} = \\frac{1}{e^{x} - 1}$"
      ],
      "text/plain": [
       "Eq(Sum(exp(-n*x), (n, 1, oo)), 1/(exp(x) - 1))"
      ]
     },
     "execution_count": 49,
     "metadata": {},
     "output_type": "execute_result"
    }
   ],
   "source": [
    "Eq(Sum(exp(-n*x),(n,1,oo)), 1/(exp(x)-1))"
   ]
  },
  {
   "cell_type": "code",
   "execution_count": 27,
   "metadata": {},
   "outputs": [
    {
     "data": {
      "text/latex": [
       "$\\displaystyle \\operatorname{ps}{\\left(k,0,0 \\right)} = \\lim_{N \\to \\infty}\\left(\\sum_{n=1}^{N} \\frac{\\log{\\left(n \\right)}^{k}}{n} - \\frac{\\log{\\left(N \\right)}^{k + 1}}{k + 1}\\right)$"
      ],
      "text/plain": [
       "Eq(ps(k, 0, 0), Limit(Sum(log(n)**k/n, (n, 1, N)) - log(N)**(k + 1)/(k + 1), N, oo, dir='-'))"
      ]
     },
     "execution_count": 27,
     "metadata": {},
     "output_type": "execute_result"
    }
   ],
   "source": [
    "Eq(ps(k,a,b), Limit(Sum(log(n+a)**k/(n+b),(n,1,N)) - log(N)**(k+1)/(k+1),N,oo)).subs([(a,0),(b,0)])"
   ]
  },
  {
   "cell_type": "code",
   "execution_count": 28,
   "metadata": {},
   "outputs": [
    {
     "data": {
      "text/latex": [
       "$\\displaystyle \\operatorname{ps}{\\left(1,0,0 \\right)} = \\lim_{N \\to \\infty}\\left(- \\frac{\\log{\\left(N \\right)}^{2}}{2} + \\sum_{n=1}^{N} \\frac{\\log{\\left(n \\right)}}{n}\\right)$"
      ],
      "text/plain": [
       "Eq(ps(1, 0, 0), Limit(-log(N)**2/2 + Sum(log(n)/n, (n, 1, N)), N, oo, dir='-'))"
      ]
     },
     "execution_count": 28,
     "metadata": {},
     "output_type": "execute_result"
    }
   ],
   "source": [
    "Eq(ps(k,a,b), Limit(Sum(log(n+a)**k/(n+b),(n,1,N)) - log(N)**(k+1)/(k+1),N,oo)).subs([(a,0),(b,0),(k,1)])"
   ]
  },
  {
   "cell_type": "code",
   "execution_count": 33,
   "metadata": {},
   "outputs": [
    {
     "data": {
      "text/latex": [
       "$\\displaystyle \\int\\limits_{0}^{\\infty} \\left(\\log{\\left(x \\right)} + \\gamma\\right) e^{- \\alpha x}\\, dx + \\frac{\\log{\\left(\\alpha \\right)}}{\\alpha} = 0$"
      ],
      "text/plain": [
       "Eq(Integral((log(x) + EulerGamma)*exp(-alpha*x), (x, 0, oo)) + log(alpha)/alpha, 0)"
      ]
     },
     "execution_count": 33,
     "metadata": {},
     "output_type": "execute_result"
    }
   ],
   "source": [
    "Eq(Integral(exp(-alpha*x)*(ln(x)+EulerGamma),(x,0,oo)) + ln(alpha)/alpha, 0)"
   ]
  },
  {
   "cell_type": "code",
   "execution_count": 36,
   "metadata": {},
   "outputs": [
    {
     "data": {
      "text/latex": [
       "$\\displaystyle \\int\\limits_{0}^{\\infty} \\left(\\log{\\left(x \\right)} + \\gamma\\right) e^{- n x}\\, dx + \\frac{\\log{\\left(n \\right)}}{n} = 0$"
      ],
      "text/plain": [
       "Eq(Integral((log(x) + EulerGamma)*exp(-n*x), (x, 0, oo)) + log(n)/n, 0)"
      ]
     },
     "execution_count": 36,
     "metadata": {},
     "output_type": "execute_result"
    }
   ],
   "source": [
    "Eq(Integral(exp(-n*x)*(ln(x)+EulerGamma),(x,0,oo)) + ln(n)/n, 0)"
   ]
  },
  {
   "cell_type": "code",
   "execution_count": 50,
   "metadata": {},
   "outputs": [
    {
     "data": {
      "text/latex": [
       "$\\displaystyle - \\frac{\\log{\\left(N \\right)}^{2}}{2} + \\sum_{n=1}^{N} \\frac{\\log{\\left(a + n \\right)}}{\\left(a + n\\right) \\left(b + n\\right)} = - \\frac{\\log{\\left(N \\right)}^{2}}{2} - \\int\\limits_{0}^{\\infty} \\left(\\Phi\\left(e^{- x}, 1, b\\right) e^{- a x} \\log{\\left(x \\right)} - \\frac{\\log{\\left(x \\right)} + \\gamma}{e^{x} - 1}\\right)\\, dx + \\sum_{n=1}^{N} \\frac{\\log{\\left(n \\right)}}{n} - \\gamma \\sum_{n=1}^{N} \\frac{1}{\\left(a + n\\right) \\left(b + n\\right)}$"
      ],
      "text/plain": [
       "Eq(-log(N)**2/2 + Sum(log(a + n)/((a + n)*(b + n)), (n, 1, N)), -log(N)**2/2 - Integral(lerchphi(exp(-x), 1, b)*exp(-a*x)*log(x) - (log(x) + EulerGamma)/(exp(x) - 1), (x, 0, oo)) + Sum(log(n)/n, (n, 1, N)) - EulerGamma*Sum(1/((a + n)*(b + n)), (n, 1, N)))"
      ]
     },
     "execution_count": 50,
     "metadata": {},
     "output_type": "execute_result"
    }
   ],
   "source": [
    "Eq(Sum(ln(a+n)/(a+n)/(b+n),(n,1,N)) - log(N)**2/2,\n",
    " - log(N)**2/2 +Sum(log(n)/n,(n,1,N)) -EulerGamma*Sum(1/(a+n)/(b+n),(n,1,N))\n",
    "   -Integral(exp(-a*x)*Sum(exp(-n*x)/(b+n),(n,1,N))*ln(x) - Sum(exp(-n*x),(n,1,N))*(ln(x)+EulerGamma),(x,0,oo)))"
   ]
  },
  {
   "cell_type": "code",
   "execution_count": 108,
   "metadata": {},
   "outputs": [
    {
     "data": {
      "text/latex": [
       "$\\displaystyle \\operatorname{ps}{\\left(1,a,b \\right)} = \\operatorname{ps}{\\left(1,0,0 \\right)} - \\int\\limits_{0}^{\\infty} \\left(\\Phi\\left(e^{- x}, 1, b\\right) e^{- a x} \\log{\\left(x \\right)} - \\frac{\\log{\\left(x \\right)} + \\gamma}{e^{x} - 1}\\right)\\, dx - \\frac{\\gamma \\left(- \\Phi\\left(1, 1, a\\right) + \\Phi\\left(1, 1, b\\right)\\right)}{a - b}$"
      ],
      "text/plain": [
       "Eq(ps(1, a, b), ps(1, 0, 0) - Integral(lerchphi(exp(-x), 1, b)*exp(-a*x)*log(x) - (log(x) + EulerGamma)/(exp(x) - 1), (x, 0, oo)) - EulerGamma*(-lerchphi(1, 1, a) + lerchphi(1, 1, b))/(a - b))"
      ]
     },
     "execution_count": 108,
     "metadata": {},
     "output_type": "execute_result"
    }
   ],
   "source": [
    "Eq(ps(1,a,b),\n",
    " ps(1,0,0) - EulerGamma*(-lerchphi(1,1,a) + lerchphi(1,1,b))/(a-b)\n",
    "   -Integral(exp(-a*x)*lerchphi(exp(-x),1,b)*ln(x) - 1/(exp(x)-1)*(ln(x)+EulerGamma),(x,0,oo)))"
   ]
  },
  {
   "cell_type": "code",
   "execution_count": 123,
   "metadata": {},
   "outputs": [
    {
     "data": {
      "text/latex": [
       "$\\displaystyle \\Phi\\left(\\nu, s, \\mu\\right) e^{- \\delta \\mu} = \\frac{\\int\\limits_{0}^{\\infty} \\frac{\\left(r e^{i \\theta}\\right)^{s - 1} e^{i \\theta} e^{- \\mu \\left(\\delta + r e^{i \\theta}\\right)}}{- \\nu e^{- r e^{i \\theta}} + 1}\\, dr}{\\Gamma\\left(s\\right)}$"
      ],
      "text/plain": [
       "Eq(lerchphi(nu, s, mu)*exp(-delta*mu), Integral((r*exp(I*theta))**(s - 1)*exp(I*theta)*exp(-mu*(delta + r*exp(I*theta)))/(-nu*exp(-r*exp(I*theta)) + 1), (r, 0, oo))/gamma(s))"
      ]
     },
     "execution_count": 123,
     "metadata": {},
     "output_type": "execute_result"
    }
   ],
   "source": [
    "Eq(lerchphi(nu,s,mu)*exp(-mu*delta), \n",
    "   Integral(\n",
    "       (r*exp(I*theta))**(s-1)*exp(I*theta)*exp(-mu*(delta+r*exp(I*theta)))/(1-nu*exp(-r*exp(I*theta))),(r,0,oo))/gamma(s))"
   ]
  },
  {
   "cell_type": "code",
   "execution_count": 128,
   "metadata": {},
   "outputs": [
    {
     "data": {
      "text/latex": [
       "$\\displaystyle \\Phi\\left(e^{- x}, 1, b\\right) = \\int\\limits_{0}^{\\infty} \\frac{e^{i \\theta} e^{- b r e^{i \\theta}}}{1 - e^{- x} e^{- r e^{i \\theta}}}\\, dr$"
      ],
      "text/plain": [
       "Eq(lerchphi(exp(-x), 1, b), Integral(exp(I*theta)*exp(-b*r*exp(I*theta))/(1 - exp(-x)*exp(-r*exp(I*theta))), (r, 0, oo)))"
      ]
     },
     "execution_count": 128,
     "metadata": {},
     "output_type": "execute_result"
    }
   ],
   "source": [
    "Eq(lerchphi(nu,s,mu)*exp(-mu*delta), \n",
    "   Integral(\n",
    "       (r*exp(I*theta))**(s-1)*exp(I*theta)*exp(-mu*(delta+r*exp(I*theta)))/(1-nu*exp(-r*exp(I*theta))),(r,0,oo))/gamma(s)\n",
    "  ).subs([(nu,exp(-x)),(s,1),(mu,b),(delta,0)])"
   ]
  },
  {
   "cell_type": "code",
   "execution_count": 97,
   "metadata": {},
   "outputs": [
    {
     "data": {
      "text/latex": [
       "$\\displaystyle \\Phi\\left(e^{- x}, 1, b\\right) = \\int\\limits_{0}^{\\infty} \\frac{e^{- b z}}{1 - e^{- x} e^{- z}}\\, dz$"
      ],
      "text/plain": [
       "Eq(lerchphi(exp(-x), 1, b), Integral(exp(-b*z)/(1 - exp(-x)*exp(-z)), (z, 0, oo)))"
      ]
     },
     "execution_count": 97,
     "metadata": {},
     "output_type": "execute_result"
    }
   ],
   "source": [
    "Eq(lerchphi(nu,s,mu), 1/gamma(s)*Integral(z**(s-1)*exp(-mu*z)/(1-nu*exp(-z)), (z,0,oo))).subs([(nu,exp(-x)),(s,1),(mu,b)])"
   ]
  },
  {
   "cell_type": "code",
   "execution_count": 56,
   "metadata": {},
   "outputs": [
    {
     "data": {
      "text/latex": [
       "$\\displaystyle \\sum_{n=0}^{\\infty} \\frac{\\left(a + n\\right)^{- s}}{b + n} = \\frac{\\int\\limits_{0}^{\\infty} \\Phi\\left(e^{- z}, s, a\\right) e^{- b z}\\, dz}{\\Gamma\\left(s\\right)}$"
      ],
      "text/plain": [
       "Eq(Sum((a + n)**(-s)/(b + n), (n, 0, oo)), Integral(lerchphi(exp(-z), s, a)*exp(-b*z), (z, 0, oo))/gamma(s))"
      ]
     },
     "execution_count": 56,
     "metadata": {},
     "output_type": "execute_result"
    }
   ],
   "source": [
    "Eq(Sum(1/(a+n)**s/(b+n),(n,0,oo)), 1/gamma(s)*Integral(lerchphi(exp(-z),s,a)*exp(-b*z),(z,0,oo)))"
   ]
  },
  {
   "cell_type": "code",
   "execution_count": null,
   "metadata": {},
   "outputs": [],
   "source": [
    "Eq(\n",
    "    Integral(exp(-a*x)*Sum(exp(-n*x)/(b+n),(n,1,N))*ln(x),(x,0,oo)),\n",
    "    Integral(exp(-a*x)*Sum(exp(-n*x)/(b+n),(n,1,N))*ln(x),(x,0,oo))\n",
    ")"
   ]
  },
  {
   "cell_type": "code",
   "execution_count": 72,
   "metadata": {},
   "outputs": [],
   "source": [
    "Ux = ln(x)\n",
    "dUx = 1/x\n",
    "dVx = exp(-a*x)*Sum(exp(-n*x)/(b+n),(n,1,N))\n",
    "Vx = Sum(exp(-(a+n)*x)/(b+n)/(a+n),(n,1,N))"
   ]
  },
  {
   "cell_type": "code",
   "execution_count": 88,
   "metadata": {},
   "outputs": [
    {
     "data": {
      "text/latex": [
       "$\\displaystyle \\int\\limits_{\\epsilon}^{R} e^{- a x} \\log{\\left(x \\right)} \\sum_{n=1}^{N} \\frac{e^{- n x}}{b + n}\\, dx = - \\int\\limits_{\\epsilon}^{R} \\frac{\\sum_{n=1}^{N} \\frac{e^{x \\left(- a - n\\right)}}{\\left(a + n\\right) \\left(b + n\\right)}}{x}\\, dx + \\lim_{x \\to R^+}\\left(\\log{\\left(x \\right)} \\sum_{n=1}^{N} \\frac{e^{x \\left(- a - n\\right)}}{\\left(a + n\\right) \\left(b + n\\right)}\\right) - \\lim_{x \\to \\epsilon^+}\\left(\\log{\\left(x \\right)} \\sum_{n=1}^{N} \\frac{e^{x \\left(- a - n\\right)}}{\\left(a + n\\right) \\left(b + n\\right)}\\right)$"
      ],
      "text/plain": [
       "Eq(Integral(exp(-a*x)*log(x)*Sum(exp(-n*x)/(b + n), (n, 1, N)), (x, epsilon, R)), -Integral(Sum(exp(x*(-a - n))/((a + n)*(b + n)), (n, 1, N))/x, (x, epsilon, R)) + Limit(log(x)*Sum(exp(x*(-a - n))/((a + n)*(b + n)), (n, 1, N)), x, R) - Limit(log(x)*Sum(exp(x*(-a - n))/((a + n)*(b + n)), (n, 1, N)), x, epsilon))"
      ]
     },
     "execution_count": 88,
     "metadata": {},
     "output_type": "execute_result"
    }
   ],
   "source": [
    "Eq(Integral(Ux*dVx,(x,epsilon,R)), Limit((Ux*Vx),x,R) - Limit((Ux*Vx),x,epsilon) - Integral(dUx*Vx,(x,epsilon,R)))"
   ]
  },
  {
   "cell_type": "code",
   "execution_count": 93,
   "metadata": {},
   "outputs": [
    {
     "data": {
      "text/latex": [
       "$\\displaystyle \\int\\limits_{\\epsilon}^{R} e^{- a x} \\log{\\left(x \\right)} \\sum_{n=1}^{\\infty} \\frac{e^{- n x}}{b + n}\\, dx = - \\int\\limits_{\\epsilon}^{R} \\frac{e^{- a x} \\sum_{n=1}^{\\infty} \\frac{e^{- n x}}{\\left(a + n\\right) \\left(b + n\\right)}}{x}\\, dx - \\lim_{x \\to \\epsilon^+}\\left(\\log{\\left(x \\right)} \\sum_{n=1}^{\\infty} \\frac{e^{x \\left(- a - n\\right)}}{\\left(a + n\\right) \\left(b + n\\right)}\\right)$"
      ],
      "text/plain": [
       "Eq(Integral(exp(-a*x)*log(x)*Sum(exp(-n*x)/(b + n), (n, 1, oo)), (x, epsilon, R)), -Integral(exp(-a*x)*Sum(exp(-n*x)/((a + n)*(b + n)), (n, 1, oo))/x, (x, epsilon, R)) - Limit(log(x)*Sum(exp(x*(-a - n))/((a + n)*(b + n)), (n, 1, oo)), x, epsilon))"
      ]
     },
     "execution_count": 93,
     "metadata": {},
     "output_type": "execute_result"
    }
   ],
   "source": [
    "Eq(\n",
    "    Integral(exp(-a*x)*log(x)*Sum(exp(-n*x)/(b+n),(n,1,oo)),(x,epsilon,R)),\n",
    "    -Integral(exp(-a*x)/x*Sum(exp(-n*x)/(b+n)/(a+n),(n,1,oo)),(x,epsilon,R)) \n",
    "    - Limit(log(x)*Sum(exp(-(a+n)*x)/(b+n)/(a+n),(n,1,oo)),x,epsilon)\n",
    ")"
   ]
  },
  {
   "cell_type": "code",
   "execution_count": 99,
   "metadata": {},
   "outputs": [
    {
     "data": {
      "text/latex": [
       "$\\displaystyle \\int\\limits_{0}^{\\infty} \\left(\\log{\\left(x \\right)} + \\gamma\\right) e^{- \\alpha x}\\, dx + \\frac{\\log{\\left(\\alpha \\right)}}{\\alpha} = 0$"
      ],
      "text/plain": [
       "Eq(Integral((log(x) + EulerGamma)*exp(-alpha*x), (x, 0, oo)) + log(alpha)/alpha, 0)"
      ]
     },
     "execution_count": 99,
     "metadata": {},
     "output_type": "execute_result"
    }
   ],
   "source": [
    "Eq(Integral(exp(-alpha*x)*(ln(x)+EulerGamma),(x,0,oo)) + ln(alpha)/alpha, 0)"
   ]
  },
  {
   "cell_type": "code",
   "execution_count": 102,
   "metadata": {},
   "outputs": [],
   "source": [
    "U2x = ln(x)+EulerGamma\n",
    "dU2x = 1/x\n",
    "dV2x = exp(-a*x)\n",
    "V2x = -exp(-a*x)/a"
   ]
  },
  {
   "cell_type": "code",
   "execution_count": 103,
   "metadata": {},
   "outputs": [
    {
     "data": {
      "text/latex": [
       "$\\displaystyle \\int\\limits_{\\epsilon}^{R} \\left(\\log{\\left(x \\right)} + \\gamma\\right) e^{- a x}\\, dx = - \\int\\limits_{\\epsilon}^{R} \\left(- \\frac{e^{- a x}}{a x}\\right)\\, dx + \\lim_{x \\to R^+}\\left(- \\frac{\\left(\\log{\\left(x \\right)} + \\gamma\\right) e^{- a x}}{a}\\right) - \\lim_{x \\to \\epsilon^+}\\left(- \\frac{\\left(\\log{\\left(x \\right)} + \\gamma\\right) e^{- a x}}{a}\\right)$"
      ],
      "text/plain": [
       "Eq(Integral((log(x) + EulerGamma)*exp(-a*x), (x, epsilon, R)), -Integral(-exp(-a*x)/(a*x), (x, epsilon, R)) + Limit(-(log(x) + EulerGamma)*exp(-a*x)/a, x, R) - Limit(-(log(x) + EulerGamma)*exp(-a*x)/a, x, epsilon))"
      ]
     },
     "execution_count": 103,
     "metadata": {},
     "output_type": "execute_result"
    }
   ],
   "source": [
    "Eq(Integral(U2x*dV2x,(x,epsilon,R)), Limit((U2x*V2x),x,R) - Limit((U2x*V2x),x,epsilon) - Integral(dU2x*V2x,(x,epsilon,R)))"
   ]
  },
  {
   "cell_type": "code",
   "execution_count": 106,
   "metadata": {},
   "outputs": [
    {
     "data": {
      "text/latex": [
       "$\\displaystyle - \\frac{\\log{\\left(\\alpha \\right)}}{\\alpha} = - \\int\\limits_{\\epsilon}^{R} \\left(- \\frac{e^{- a x}}{a x}\\right)\\, dx - \\lim_{x \\to \\epsilon^+}\\left(- \\frac{\\left(\\log{\\left(x \\right)} + \\gamma\\right) e^{- a x}}{a}\\right)$"
      ],
      "text/plain": [
       "Eq(-log(alpha)/alpha, -Integral(-exp(-a*x)/(a*x), (x, epsilon, R)) - Limit(-(log(x) + EulerGamma)*exp(-a*x)/a, x, epsilon))"
      ]
     },
     "execution_count": 106,
     "metadata": {},
     "output_type": "execute_result"
    }
   ],
   "source": [
    "Eq(-ln(alpha)/alpha, - Limit((U2x*V2x),x,epsilon) - Integral(dU2x*V2x,(x,epsilon,R)))"
   ]
  },
  {
   "cell_type": "code",
   "execution_count": 111,
   "metadata": {},
   "outputs": [
    {
     "data": {
      "text/latex": [
       "$\\displaystyle \\sum_{n=0}^{\\infty} \\frac{\\left(a + n\\right)^{- s}}{b + n} = \\frac{\\int\\limits_{0}^{\\infty}\\int\\limits_{0}^{\\infty} \\frac{x^{s - 1} e^{- a x} e^{- b z}}{1 - e^{- x} e^{- z}}\\, dx\\, dz}{\\Gamma\\left(s\\right)}$"
      ],
      "text/plain": [
       "Eq(Sum((a + n)**(-s)/(b + n), (n, 0, oo)), Integral(x**(s - 1)*exp(-a*x)*exp(-b*z)/(1 - exp(-x)*exp(-z)), (x, 0, oo), (z, 0, oo))/gamma(s))"
      ]
     },
     "execution_count": 111,
     "metadata": {},
     "output_type": "execute_result"
    }
   ],
   "source": [
    "Eq(Sum(1/(a+n)**s/(b+n),(n,0,oo)),\n",
    "   1/gamma(s)*Integral(Integral(x**(s-1)*exp(-x*a)*exp(-b*z)/(1-exp(-x)*exp(-z)), (x,0,oo)),(z,0,oo)))"
   ]
  },
  {
   "cell_type": "code",
   "execution_count": 122,
   "metadata": {},
   "outputs": [
    {
     "data": {
      "text/latex": [
       "$\\displaystyle - \\left(a + n\\right)^{- s} \\log{\\left(a + n \\right)} \\Gamma\\left(s\\right) + \\left(a + n\\right)^{- s} \\Gamma\\left(s\\right) \\operatorname{polygamma}{\\left(0,s \\right)}$"
      ],
      "text/plain": [
       "-(a + n)**(-s)*log(a + n)*gamma(s) + (a + n)**(-s)*gamma(s)*polygamma(0, s)"
      ]
     },
     "execution_count": 122,
     "metadata": {},
     "output_type": "execute_result"
    }
   ],
   "source": [
    "diff(gamma(s)/(a+n)**s,s)"
   ]
  },
  {
   "cell_type": "code",
   "execution_count": 116,
   "metadata": {},
   "outputs": [
    {
     "data": {
      "text/latex": [
       "$\\displaystyle x^{s - 1} \\log{\\left(x \\right)}^{2}$"
      ],
      "text/plain": [
       "x**(s - 1)*log(x)**2"
      ]
     },
     "execution_count": 116,
     "metadata": {},
     "output_type": "execute_result"
    }
   ],
   "source": [
    "diff(x**(s-1),s,2)"
   ]
  },
  {
   "cell_type": "code",
   "execution_count": null,
   "metadata": {},
   "outputs": [],
   "source": []
  }
 ],
 "metadata": {
  "kernelspec": {
   "display_name": "Python 3",
   "language": "python",
   "name": "python3"
  },
  "language_info": {
   "codemirror_mode": {
    "name": "ipython",
    "version": 3
   },
   "file_extension": ".py",
   "mimetype": "text/x-python",
   "name": "python",
   "nbconvert_exporter": "python",
   "pygments_lexer": "ipython3",
   "version": "3.8.10"
  }
 },
 "nbformat": 4,
 "nbformat_minor": 4
}
