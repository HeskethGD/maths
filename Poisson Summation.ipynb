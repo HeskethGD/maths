{
 "cells": [
  {
   "cell_type": "code",
   "execution_count": 1,
   "metadata": {},
   "outputs": [],
   "source": [
    "from sympy import *"
   ]
  },
  {
   "cell_type": "code",
   "execution_count": 2,
   "metadata": {},
   "outputs": [],
   "source": [
    "x, y, n, K, k, epsilon, z, s, a, R, N, r, T, b = symbols('x, y, n, K, k, epsilon, z, s, a, R, N, r, T, b')\n",
    "alpha, beta, delta, t, mu, nu, epsilon, theta, phi, tau, omega = symbols(\n",
    "    'alpha, beta, delta, t, mu, nu, epsilon, theta, phi, tau, omega')"
   ]
  },
  {
   "cell_type": "code",
   "execution_count": 3,
   "metadata": {},
   "outputs": [
    {
     "data": {
      "text/latex": [
       "$\\displaystyle \\frac{\\tau \\tanh{\\left(2 \\right)}}{2 \\left(\\tau^{2} + 1\\right)} - \\frac{\\frac{1}{\\cosh{\\left(2 \\right)}} + 1}{2 \\left(\\tau^{2} + 1\\right)} + \\frac{1}{\\left(\\tau^{2} + 1\\right) \\left(\\tan{\\left(\\tau \\right)} + 1\\right)} = - 8 \\sum_{n=-\\infty}^{\\infty} \\frac{1}{\\left(\\pi^{2} \\left(4 n - 1\\right)^{2} + 16\\right) \\left(\\pi n - \\tau - \\frac{\\pi}{4}\\right)}$"
      ],
      "text/plain": [
       "Eq(tau*tanh(2)/(2*(tau**2 + 1)) - (1/cosh(2) + 1)/(2*(tau**2 + 1)) + 1/((tau**2 + 1)*(tan(tau) + 1)), -8*Sum(1/((pi**2*(4*n - 1)**2 + 16)*(pi*n - tau - pi/4)), (n, -oo, oo)))"
      ]
     },
     "execution_count": 3,
     "metadata": {},
     "output_type": "execute_result"
    }
   ],
   "source": [
    "Eq((1/(1+tau**2)*1/(1+tan(tau)) - (- tau/(tau**2+1)*tanh(2)/2 + (1 + 1/cosh(2))*1/(tau**2+1)/2)),\n",
    "   - 8*Sum((1/(-tau+pi*n-pi/4))/(pi**2*(4*n-1)**2 + 16), (n,-oo,oo))\n",
    ")"
   ]
  },
  {
   "cell_type": "code",
   "execution_count": 90,
   "metadata": {},
   "outputs": [
    {
     "data": {
      "text/latex": [
       "$\\displaystyle \\frac{\\tau \\tanh{\\left(2 \\right)}}{2 \\left(\\tau^{2} + 1\\right)} - \\frac{\\frac{1}{\\cosh{\\left(2 \\right)}} + 1}{2 \\left(\\tau^{2} + 1\\right)} + \\frac{1}{\\left(\\tau^{2} + 1\\right) \\left(\\tan{\\left(\\tau \\right)} + 1\\right)} = - \\frac{\\cot{\\left(\\tau + \\frac{\\pi}{4} \\right)}}{\\tau^{2} + 1} + \\frac{i \\cot{\\left(\\frac{\\pi}{4} - i \\right)}}{2 \\left(\\tau + i\\right)} - \\frac{i \\cot{\\left(\\frac{\\pi}{4} + i \\right)}}{2 \\left(\\tau - i\\right)}$"
      ],
      "text/plain": [
       "Eq(tau*tanh(2)/(2*(tau**2 + 1)) - (1/cosh(2) + 1)/(2*(tau**2 + 1)) + 1/((tau**2 + 1)*(tan(tau) + 1)), -cot(tau + pi/4)/(tau**2 + 1) + I*cot(pi/4 - I)/(2*(tau + I)) - I*cot(pi/4 + I)/(2*(tau - I)))"
      ]
     },
     "execution_count": 90,
     "metadata": {},
     "output_type": "execute_result"
    }
   ],
   "source": [
    "Eq((1/(1+tau**2)*1/(1+tan(tau)) - (- tau/(tau**2+1)*tanh(2)/2 + (1 + 1/cosh(2))*1/(tau**2+1)/2)),\n",
    "   I/(tau+I)/2*cot(pi/4-I) - I/(tau-I)/2*cot(pi/4+I)- 1/(tau**2 + 1)*(1/(1+tau**2)*1/(1+tan(tau)) - (- tau/(tau**2+1)*tanh(2)/2 + (1 + 1/cosh(2))*1/(tau**2+1)/2))\n",
    "  )"
   ]
  },
  {
   "cell_type": "code",
   "execution_count": 4,
   "metadata": {},
   "outputs": [],
   "source": [
    "q = Function(\"q\")"
   ]
  },
  {
   "cell_type": "code",
   "execution_count": 5,
   "metadata": {},
   "outputs": [
    {
     "data": {
      "text/latex": [
       "$\\displaystyle q{\\left(n \\right)} = \\pi n - \\frac{\\pi}{4}$"
      ],
      "text/plain": [
       "Eq(q(n), pi*n - pi/4)"
      ]
     },
     "execution_count": 5,
     "metadata": {},
     "output_type": "execute_result"
    }
   ],
   "source": [
    "Eq(q(n), pi*n - pi/4)"
   ]
  },
  {
   "cell_type": "code",
   "execution_count": 20,
   "metadata": {},
   "outputs": [
    {
     "data": {
      "text/latex": [
       "$\\displaystyle \\frac{\\tau \\tanh{\\left(2 \\right)} - 1 - \\frac{1}{\\cosh{\\left(2 \\right)}} + \\frac{2}{\\tan{\\left(\\tau \\right)} + 1}}{\\tau^{2} + 1} = \\sum_{n=-\\infty}^{\\infty} \\frac{1}{\\left(\\tau - q{\\left(n \\right)}\\right) \\left(q^{2}{\\left(n \\right)} + 1\\right)}$"
      ],
      "text/plain": [
       "Eq((tau*tanh(2) - 1 - 1/cosh(2) + 2/(tan(tau) + 1))/(tau**2 + 1), Sum(1/((tau - q(n))*(q(n)**2 + 1)), (n, -oo, oo)))"
      ]
     },
     "execution_count": 20,
     "metadata": {},
     "output_type": "execute_result"
    }
   ],
   "source": [
    "Eq(1/(1+tau**2)*(2/(1+tan(tau)) + tau*tanh(2) - 1 - 1/cosh(2)), Sum((1/(tau-q(n)))/(q(n)**2 + 1), (n,-oo,oo)))"
   ]
  },
  {
   "cell_type": "code",
   "execution_count": 7,
   "metadata": {},
   "outputs": [
    {
     "data": {
      "text/latex": [
       "$\\displaystyle \\frac{1}{q^{2}{\\left(n \\right)} + 1} = \\frac{i}{2 \\left(q{\\left(n \\right)} + i\\right)} - \\frac{i}{2 \\left(q{\\left(n \\right)} - i\\right)}$"
      ],
      "text/plain": [
       "Eq(1/(q(n)**2 + 1), I/(2*(q(n) + I)) - I/(2*(q(n) - I)))"
      ]
     },
     "execution_count": 7,
     "metadata": {},
     "output_type": "execute_result"
    }
   ],
   "source": [
    "Eq(1/(q(n)**2+1), (I/(q(n)+I)/2 - I/(q(n)-I)/2))"
   ]
  },
  {
   "cell_type": "code",
   "execution_count": 8,
   "metadata": {},
   "outputs": [
    {
     "data": {
      "text/latex": [
       "$\\displaystyle \\frac{1}{\\left(- \\tau + q{\\left(n \\right)}\\right) \\left(q{\\left(n \\right)} - i\\right)} = - \\frac{1}{\\left(\\tau - i\\right) \\left(q{\\left(n \\right)} - i\\right)} + \\frac{1}{\\left(- \\tau + q{\\left(n \\right)}\\right) \\left(\\tau - i\\right)}$"
      ],
      "text/plain": [
       "Eq(1/((-tau + q(n))*(q(n) - I)), -1/((tau - I)*(q(n) - I)) + 1/((-tau + q(n))*(tau - I)))"
      ]
     },
     "execution_count": 8,
     "metadata": {},
     "output_type": "execute_result"
    }
   ],
   "source": [
    "Eq(1/(x-tau)/(x-I),apart(1/(x-tau)/(x-I),x)).subs(x,q(n))"
   ]
  },
  {
   "cell_type": "code",
   "execution_count": 9,
   "metadata": {},
   "outputs": [
    {
     "data": {
      "text/latex": [
       "$\\displaystyle \\frac{1}{\\left(- \\tau + q{\\left(n \\right)}\\right) \\left(q{\\left(n \\right)} + i\\right)} = - \\frac{1}{\\left(\\tau + i\\right) \\left(q{\\left(n \\right)} + i\\right)} + \\frac{1}{\\left(- \\tau + q{\\left(n \\right)}\\right) \\left(\\tau + i\\right)}$"
      ],
      "text/plain": [
       "Eq(1/((-tau + q(n))*(q(n) + I)), -1/((tau + I)*(q(n) + I)) + 1/((-tau + q(n))*(tau + I)))"
      ]
     },
     "execution_count": 9,
     "metadata": {},
     "output_type": "execute_result"
    }
   ],
   "source": [
    "Eq(1/(x-tau)/(x-I),apart(1/(x-tau)/(x-I),x)).subs([(x,q(n)),(I,-I)])"
   ]
  },
  {
   "cell_type": "code",
   "execution_count": 21,
   "metadata": {},
   "outputs": [
    {
     "data": {
      "text/latex": [
       "$\\displaystyle \\frac{1}{\\left(\\tau - q{\\left(n \\right)}\\right) \\left(q^{2}{\\left(n \\right)} + 1\\right)} = \\frac{i}{2 \\left(\\tau + i\\right) \\left(q{\\left(n \\right)} + i\\right)} - \\frac{i}{2 \\left(\\tau - i\\right) \\left(q{\\left(n \\right)} - i\\right)} - \\frac{i}{2 \\left(- \\tau + q{\\left(n \\right)}\\right) \\left(\\tau + i\\right)} + \\frac{i}{2 \\left(- \\tau + q{\\left(n \\right)}\\right) \\left(\\tau - i\\right)}$"
      ],
      "text/plain": [
       "Eq(1/((tau - q(n))*(q(n)**2 + 1)), I/(2*(tau + I)*(q(n) + I)) - I/(2*(tau - I)*(q(n) - I)) - I/(2*(-tau + q(n))*(tau + I)) + I/(2*(-tau + q(n))*(tau - I)))"
      ]
     },
     "execution_count": 21,
     "metadata": {},
     "output_type": "execute_result"
    }
   ],
   "source": [
    "Eq(1/(tau -q(n))/(q(n)**2 +1),\n",
    "   I/(tau+I)/(q(n)+I)/2 - I/(tau+I)/(q(n)-tau)/2 - I/(tau-I)/(q(n)-I)/2 + I/(tau-I)/(q(n)-tau)/2\n",
    "  )"
   ]
  },
  {
   "cell_type": "code",
   "execution_count": 27,
   "metadata": {},
   "outputs": [
    {
     "data": {
      "text/latex": [
       "$\\displaystyle \\frac{1}{\\left(\\tau - q{\\left(n \\right)}\\right) \\left(q^{2}{\\left(n \\right)} + 1\\right)} = \\frac{i}{2 \\left(\\tau + i\\right) \\left(q{\\left(n \\right)} + i\\right)} - \\frac{i}{2 \\left(\\tau - i\\right) \\left(q{\\left(n \\right)} - i\\right)} - \\frac{1}{\\left(- \\tau + q{\\left(n \\right)}\\right) \\left(\\tau^{2} + 1\\right)}$"
      ],
      "text/plain": [
       "Eq(1/((tau - q(n))*(q(n)**2 + 1)), I/(2*(tau + I)*(q(n) + I)) - I/(2*(tau - I)*(q(n) - I)) - 1/((-tau + q(n))*(tau**2 + 1)))"
      ]
     },
     "execution_count": 27,
     "metadata": {},
     "output_type": "execute_result"
    }
   ],
   "source": [
    "Eq(1/(tau -q(n))/(q(n)**2 +1),\n",
    "   I/(tau+I)/(q(n)+I)/2 - I/(tau-I)/(q(n)-I)/2 + (I/(tau-I)/(q(n)-tau)/2 - I/(tau+I)/(q(n)-tau)/2).simplify().factor()\n",
    "  )"
   ]
  },
  {
   "cell_type": "code",
   "execution_count": 22,
   "metadata": {},
   "outputs": [],
   "source": [
    "s = Function(\"s\")"
   ]
  },
  {
   "cell_type": "code",
   "execution_count": 28,
   "metadata": {},
   "outputs": [
    {
     "data": {
      "text/latex": [
       "$\\displaystyle s{\\left(n \\right)} = \\frac{1}{\\left(\\tau - q{\\left(n \\right)}\\right) \\left(q^{2}{\\left(n \\right)} + 1\\right)}$"
      ],
      "text/plain": [
       "Eq(s(n), 1/((tau - q(n))*(q(n)**2 + 1)))"
      ]
     },
     "execution_count": 28,
     "metadata": {},
     "output_type": "execute_result"
    }
   ],
   "source": [
    "Eq(s(n), 1/(tau -q(n))/(q(n)**2 +1))"
   ]
  },
  {
   "cell_type": "code",
   "execution_count": 30,
   "metadata": {},
   "outputs": [
    {
     "data": {
      "text/latex": [
       "$\\displaystyle s{\\left(n \\right)} = - \\frac{1}{\\left(\\tau^{2} + 1\\right) \\left(\\pi n - \\tau - \\frac{\\pi}{4}\\right)} + \\frac{i}{2 \\left(\\tau + i\\right) \\left(\\pi n - \\frac{\\pi}{4} + i\\right)} - \\frac{i}{2 \\left(\\tau - i\\right) \\left(\\pi n - \\frac{\\pi}{4} - i\\right)}$"
      ],
      "text/plain": [
       "Eq(s(n), -1/((tau**2 + 1)*(pi*n - tau - pi/4)) + I/(2*(tau + I)*(pi*n - pi/4 + I)) - I/(2*(tau - I)*(pi*n - pi/4 - I)))"
      ]
     },
     "execution_count": 30,
     "metadata": {},
     "output_type": "execute_result"
    }
   ],
   "source": [
    "Eq(s(n), I/(tau+I)/(pi*n - pi/4+I)/2 - I/(tau-I)/(pi*n - pi/4-I)/2 - 1/(tau**2 + 1)/(pi*n - pi/4 -tau))"
   ]
  },
  {
   "cell_type": "code",
   "execution_count": 12,
   "metadata": {},
   "outputs": [
    {
     "data": {
      "text/latex": [
       "$\\displaystyle \\frac{\\tau \\tanh{\\left(2 \\right)} - 1 - \\frac{1}{\\cosh{\\left(2 \\right)}} + \\frac{2}{\\tan{\\left(\\tau \\right)} + 1}}{\\tau^{2} + 1} = - \\operatorname{im}{\\left(\\sum_{n=-\\infty}^{\\infty} \\frac{1}{\\left(- \\tau + q{\\left(n \\right)}\\right) \\left(q{\\left(n \\right)} - i\\right)}\\right)}$"
      ],
      "text/plain": [
       "Eq((tau*tanh(2) - 1 - 1/cosh(2) + 2/(tan(tau) + 1))/(tau**2 + 1), -im(Sum(1/((-tau + q(n))*(q(n) - I)), (n, -oo, oo))))"
      ]
     },
     "execution_count": 12,
     "metadata": {},
     "output_type": "execute_result"
    }
   ],
   "source": [
    "Eq(1/(1+tau**2)*(2/(1+tan(tau)) + tau*tanh(2) - 1 - 1/cosh(2)), - im(Sum((1/(-tau+q(n)))/(q(n) - I), (n,-oo,oo))))"
   ]
  },
  {
   "cell_type": "code",
   "execution_count": 13,
   "metadata": {},
   "outputs": [
    {
     "data": {
      "text/latex": [
       "$\\displaystyle \\int\\limits_{-\\infty}^{\\infty} e^{- 2 i \\pi \\omega t} \\operatorname{sign}{\\left(\\omega \\right)}\\, d\\omega = - \\frac{i}{\\pi t}$"
      ],
      "text/plain": [
       "Eq(Integral(exp(-2*I*pi*omega*t)*sign(omega), (omega, -oo, oo)), -I/(pi*t))"
      ]
     },
     "execution_count": 13,
     "metadata": {},
     "output_type": "execute_result"
    }
   ],
   "source": [
    "Eq(Integral(sign(omega)*exp(-t*2*I*pi*omega),(omega, -oo,oo)), 1/(I*pi*t))"
   ]
  },
  {
   "cell_type": "code",
   "execution_count": 23,
   "metadata": {},
   "outputs": [
    {
     "data": {
      "text/latex": [
       "$\\displaystyle \\pi \\int\\limits_{-\\infty}^{\\infty} e^{- 2 \\pi \\left|{\\omega}\\right|} e^{2 i \\pi \\omega \\tau}\\, d\\omega = \\frac{1}{\\tau^{2} + 1}$"
      ],
      "text/plain": [
       "Eq(pi*Integral(exp(-2*pi*Abs(omega))*exp(2*I*pi*omega*tau), (omega, -oo, oo)), 1/(tau**2 + 1))"
      ]
     },
     "execution_count": 23,
     "metadata": {},
     "output_type": "execute_result"
    }
   ],
   "source": [
    "Eq(\n",
    "    pi*Integral(exp(-abs(2*pi*omega))*exp(2*I*pi*omega*tau),(omega, -oo,oo)),\n",
    "    (pi/(2*pi*(-I*tau+1)) + pi/(2*pi*(I*tau+1))).simplify()\n",
    ")"
   ]
  },
  {
   "cell_type": "code",
   "execution_count": 15,
   "metadata": {},
   "outputs": [
    {
     "data": {
      "text/latex": [
       "$\\displaystyle \\int\\limits_{-\\infty}^{\\infty} e^{- a \\omega} e^{- 2 i \\pi \\omega t} \\theta\\left(\\omega\\right)\\, d\\omega = \\frac{1}{a + 2 i \\pi t}$"
      ],
      "text/plain": [
       "Eq(Integral(exp(-a*omega)*exp(-2*I*pi*omega*t)*Heaviside(omega), (omega, -oo, oo)), 1/(a + 2*I*pi*t))"
      ]
     },
     "execution_count": 15,
     "metadata": {},
     "output_type": "execute_result"
    }
   ],
   "source": [
    "Eq(Integral(Heaviside(omega)*exp(-a*omega)*exp(-t*2*I*pi*omega),(omega, -oo,oo)), 1/(a+2*I*pi*t))"
   ]
  },
  {
   "cell_type": "code",
   "execution_count": 31,
   "metadata": {},
   "outputs": [
    {
     "data": {
      "text/latex": [
       "$\\displaystyle s{\\left(n \\right)} = - \\frac{1}{\\left(\\tau^{2} + 1\\right) \\left(\\pi n - \\tau - \\frac{\\pi}{4}\\right)} + \\frac{i}{2 \\left(\\tau + i\\right) \\left(\\pi n - \\frac{\\pi}{4} + i\\right)} - \\frac{i}{2 \\left(\\tau - i\\right) \\left(\\pi n - \\frac{\\pi}{4} - i\\right)}$"
      ],
      "text/plain": [
       "Eq(s(n), -1/((tau**2 + 1)*(pi*n - tau - pi/4)) + I/(2*(tau + I)*(pi*n - pi/4 + I)) - I/(2*(tau - I)*(pi*n - pi/4 - I)))"
      ]
     },
     "execution_count": 31,
     "metadata": {},
     "output_type": "execute_result"
    }
   ],
   "source": [
    "Eq(s(n), I/(tau+I)/(pi*n - pi/4+I)/2 - I/(tau-I)/(pi*n - pi/4-I)/2 - 1/(tau**2 + 1)/(pi*n - pi/4 -tau))"
   ]
  },
  {
   "cell_type": "code",
   "execution_count": 104,
   "metadata": {},
   "outputs": [
    {
     "data": {
      "text/latex": [
       "$\\displaystyle \\int\\limits_{-\\infty}^{\\infty} e^{- 2 i \\pi \\omega \\left(n - \\frac{\\tau}{\\pi} - 0.25\\right)} \\operatorname{sign}{\\left(\\omega \\right)}\\, d\\omega = - \\frac{i}{\\pi \\left(n - \\frac{\\tau}{\\pi} - 0.25\\right)}$"
      ],
      "text/plain": [
       "Eq(Integral(exp(-2*I*pi*omega*(n - tau/pi - 0.25))*sign(omega), (omega, -oo, oo)), -I/(pi*(n - tau/pi - 0.25)))"
      ]
     },
     "execution_count": 104,
     "metadata": {},
     "output_type": "execute_result"
    }
   ],
   "source": [
    "Eq(Integral(sign(omega)*exp(-t*2*I*pi*omega),(omega, -oo,oo)), 1/(I*pi*t)).subs(t,n-tau/pi-)"
   ]
  },
  {
   "cell_type": "code",
   "execution_count": 34,
   "metadata": {},
   "outputs": [
    {
     "data": {
      "text/latex": [
       "$\\displaystyle \\frac{2 x}{n^{2} - x^{2}}$"
      ],
      "text/plain": [
       "2*x/(n**2 - x**2)"
      ]
     },
     "execution_count": 34,
     "metadata": {},
     "output_type": "execute_result"
    }
   ],
   "source": [
    "(1/(n-x)+1/(-n-x)).simplify().expand()"
   ]
  },
  {
   "cell_type": "code",
   "execution_count": 37,
   "metadata": {},
   "outputs": [
    {
     "data": {
      "text/latex": [
       "$\\displaystyle \\frac{\\Phi\\left(1, 1, 1 - x\\right) - \\Phi\\left(1, 1, x + 1\\right)}{2 x}$"
      ],
      "text/plain": [
       "(lerchphi(1, 1, 1 - x) - lerchphi(1, 1, x + 1))/(2*x)"
      ]
     },
     "execution_count": 37,
     "metadata": {},
     "output_type": "execute_result"
    }
   ],
   "source": [
    "Sum(1/(n**2-x**2),(n,1,oo)).doit().simplify()"
   ]
  },
  {
   "cell_type": "code",
   "execution_count": 52,
   "metadata": {},
   "outputs": [
    {
     "data": {
      "text/latex": [
       "$\\displaystyle \\pi \\cot{\\left(\\pi z \\right)} = - \\sum_{n=1}^{\\infty} \\frac{2 z}{n^{2} - z^{2}} + \\frac{1}{z}$"
      ],
      "text/plain": [
       "Eq(pi*cot(pi*z), -Sum(2*z/(n**2 - z**2), (n, 1, oo)) + 1/z)"
      ]
     },
     "execution_count": 52,
     "metadata": {},
     "output_type": "execute_result"
    }
   ],
   "source": [
    "Eq(pi*cot(pi*z), 1/z - Sum(2*z/(n**2-z**2),(n,1,oo)))"
   ]
  },
  {
   "cell_type": "code",
   "execution_count": 63,
   "metadata": {},
   "outputs": [
    {
     "data": {
      "text/latex": [
       "$\\displaystyle \\pi \\cot{\\left(\\pi z \\right)} = - \\sum_{n=-\\infty}^{\\infty} \\frac{1}{n - z}$"
      ],
      "text/plain": [
       "Eq(pi*cot(pi*z), -Sum(1/(n - z), (n, -oo, oo)))"
      ]
     },
     "execution_count": 63,
     "metadata": {},
     "output_type": "execute_result"
    }
   ],
   "source": [
    "Eq(pi*cot(pi*z), -Sum(1/(n-z),(n,-oo,oo)))"
   ]
  },
  {
   "cell_type": "code",
   "execution_count": 75,
   "metadata": {},
   "outputs": [
    {
     "data": {
      "text/latex": [
       "$\\displaystyle \\cot{\\left(\\pi z \\right)} = - \\sum_{n=-\\infty}^{\\infty} \\frac{1}{\\pi n - z}$"
      ],
      "text/plain": [
       "Eq(cot(pi*z), -Sum(1/(pi*n - z), (n, -oo, oo)))"
      ]
     },
     "execution_count": 75,
     "metadata": {},
     "output_type": "execute_result"
    }
   ],
   "source": [
    "Eq(cot(pi*z), -Sum(1/(pi*n-z),(n,-oo,oo)))"
   ]
  },
  {
   "cell_type": "code",
   "execution_count": 83,
   "metadata": {},
   "outputs": [
    {
     "data": {
      "text/latex": [
       "$\\displaystyle - \\frac{\\sum_{n=-\\infty}^{\\infty} \\frac{1}{\\pi n - \\tau - \\frac{\\pi}{4}}}{\\tau^{2} + 1} + \\frac{i \\sum_{n=-\\infty}^{\\infty} \\frac{1}{\\pi n - \\frac{\\pi}{4} + i}}{2 \\left(\\tau + i\\right)} - \\frac{i \\sum_{n=-\\infty}^{\\infty} \\frac{1}{\\pi n - \\frac{\\pi}{4} - i}}{2 \\left(\\tau - i\\right)}$"
      ],
      "text/plain": [
       "-Sum(1/(pi*n - tau - pi/4), (n, -oo, oo))/(tau**2 + 1) + I*Sum(1/(pi*n - pi/4 + I), (n, -oo, oo))/(2*(tau + I)) - I*Sum(1/(pi*n - pi/4 - I), (n, -oo, oo))/(2*(tau - I))"
      ]
     },
     "execution_count": 83,
     "metadata": {},
     "output_type": "execute_result"
    }
   ],
   "source": [
    "(I/(tau+I)/2*Sum(1/(pi*n - pi/4+I),(n,-oo,oo)) - I/(tau-I)/2*Sum(1/(pi*n - pi/4-I),(n,-oo,oo))\n",
    "   - 1/(tau**2 + 1)*Sum(1/(pi*n - pi/4 -tau),(n,-oo,oo)))"
   ]
  },
  {
   "cell_type": "code",
   "execution_count": 87,
   "metadata": {},
   "outputs": [
    {
     "data": {
      "text/latex": [
       "$\\displaystyle \\sum_{n=- N}^{N} s{\\left(n \\right)} = - \\frac{\\cot{\\left(\\tau + \\frac{\\pi}{4} \\right)}}{\\tau^{2} + 1} + \\frac{i \\cot{\\left(\\frac{\\pi}{4} - i \\right)}}{2 \\left(\\tau + i\\right)} - \\frac{i \\cot{\\left(\\frac{\\pi}{4} + i \\right)}}{2 \\left(\\tau - i\\right)}$"
      ],
      "text/plain": [
       "Eq(Sum(s(n), (n, -N, N)), -cot(tau + pi/4)/(tau**2 + 1) + I*cot(pi/4 - I)/(2*(tau + I)) - I*cot(pi/4 + I)/(2*(tau - I)))"
      ]
     },
     "execution_count": 87,
     "metadata": {},
     "output_type": "execute_result"
    }
   ],
   "source": [
    "Eq(Sum(s(n),(n,-N,N)),I/(tau+I)/2*cot(pi/4-I) - I/(tau-I)/2*cot(pi/4+I)- 1/(tau**2 + 1)*cot(pi/4+tau))"
   ]
  },
  {
   "cell_type": "code",
   "execution_count": 89,
   "metadata": {},
   "outputs": [
    {
     "data": {
      "text/latex": [
       "$\\displaystyle \\frac{i \\cot{\\left(\\frac{\\pi}{4} - i \\right)}}{2 \\left(\\tau + i\\right)} - \\frac{i \\cot{\\left(\\frac{\\pi}{4} + i \\right)}}{2 \\left(\\tau - i\\right)}$"
      ],
      "text/plain": [
       "I*cot(pi/4 - I)/(2*(tau + I)) - I*cot(pi/4 + I)/(2*(tau - I))"
      ]
     },
     "execution_count": 89,
     "metadata": {},
     "output_type": "execute_result"
    }
   ],
   "source": [
    "(I/(tau+I)/2*cot(pi/4-I) - I/(tau-I)/2*cot(pi/4+I))"
   ]
  },
  {
   "cell_type": "code",
   "execution_count": 92,
   "metadata": {},
   "outputs": [
    {
     "data": {
      "text/latex": [
       "$\\displaystyle \\frac{\\cot{\\left(\\tau \\right)} - 1}{\\cot{\\left(\\tau \\right)} + 1}$"
      ],
      "text/plain": [
       "(cot(tau) - 1)/(cot(tau) + 1)"
      ]
     },
     "execution_count": 92,
     "metadata": {},
     "output_type": "execute_result"
    }
   ],
   "source": [
    "expand_trig(cot(pi/4+tau)).simplify()"
   ]
  },
  {
   "cell_type": "code",
   "execution_count": 99,
   "metadata": {},
   "outputs": [
    {
     "data": {
      "text/latex": [
       "$\\displaystyle \\frac{2 \\left(2 \\log{\\left(1 - 4 n \\right)} - 2 \\log{\\left(1 - 2 n \\right)} - 6 \\log{\\left(2 \\right)} - i \\pi + 2 \\log{\\left(\\pi + 4 i \\right)}\\right)}{4 \\pi n - \\pi + 4 i}$"
      ],
      "text/plain": [
       "2*(2*log(1 - 4*n) - 2*log(1 - 2*n) - 6*log(2) - I*pi + 2*log(pi + 4*I))/(4*pi*n - pi + 4*I)"
      ]
     },
     "execution_count": 99,
     "metadata": {},
     "output_type": "execute_result"
    }
   ],
   "source": [
    "integrate(1/(pi*n-pi/4-tau)/(tau+I),(tau,0,pi/4)).simplify()"
   ]
  },
  {
   "cell_type": "code",
   "execution_count": null,
   "metadata": {},
   "outputs": [],
   "source": []
  }
 ],
 "metadata": {
  "kernelspec": {
   "display_name": "Python 3",
   "language": "python",
   "name": "python3"
  },
  "language_info": {
   "codemirror_mode": {
    "name": "ipython",
    "version": 3
   },
   "file_extension": ".py",
   "mimetype": "text/x-python",
   "name": "python",
   "nbconvert_exporter": "python",
   "pygments_lexer": "ipython3",
   "version": "3.8.5"
  }
 },
 "nbformat": 4,
 "nbformat_minor": 4
}
