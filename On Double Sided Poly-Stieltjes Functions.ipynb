{
 "cells": [
  {
   "cell_type": "markdown",
   "metadata": {},
   "source": [
    "# On Double Sided Poly-Stieltjes Functions"
   ]
  },
  {
   "cell_type": "code",
   "execution_count": 1,
   "metadata": {},
   "outputs": [],
   "source": [
    "from sympy import *"
   ]
  },
  {
   "cell_type": "code",
   "execution_count": 181,
   "metadata": {},
   "outputs": [],
   "source": [
    "alpha, beta, tau, epsilon, theta, mu, n, k, z, s, r, R, T, N = symbols(\n",
    "    'alpha, beta, tau, epsilon, theta, mu, n, k, z, s, r, R, T, N'\n",
    ")\n",
    "LargeCircle = Function('LargeCircle')\n",
    "SmallCircle = Function('SmallCircle')\n",
    "UpperBranchCut = Function('UpperBranchCut')\n",
    "LowerBranchCut = Function('LowerBranchCut')"
   ]
  },
  {
   "cell_type": "code",
   "execution_count": 7,
   "metadata": {},
   "outputs": [
    {
     "data": {
      "text/latex": [
       "$\\displaystyle - \\frac{1}{\\left(1 - e^{\\beta}\\right) \\left(\\alpha - \\beta\\right)} + \\frac{1}{\\left(1 - e^{\\alpha}\\right) \\left(\\alpha - \\beta\\right)} = \\sum_{n=-\\infty}^{\\infty} \\frac{1}{\\left(\\alpha + 2 i \\pi n\\right) \\left(\\beta + 2 i \\pi n\\right)}$"
      ],
      "text/plain": [
       "Eq(-1/((1 - exp(beta))*(alpha - beta)) + 1/((1 - exp(alpha))*(alpha - beta)), Sum(1/((alpha + 2*I*pi*n)*(beta + 2*I*pi*n)), (n, -oo, oo)))"
      ]
     },
     "execution_count": 7,
     "metadata": {},
     "output_type": "execute_result"
    }
   ],
   "source": [
    "Eq(\n",
    "    1/(alpha - beta)*1/(1 - exp(alpha)) - 1/(alpha - beta)*1/(1 - exp(beta)),\n",
    "    Sum(1/(alpha + 2*I*pi*n)/(beta + 2*I*pi*n),(n,-oo,oo))\n",
    ")"
   ]
  },
  {
   "cell_type": "code",
   "execution_count": 8,
   "metadata": {},
   "outputs": [
    {
     "data": {
      "text/latex": [
       "$\\displaystyle - \\frac{1}{\\left(1 - e^{2 i \\pi \\beta}\\right) \\left(2 i \\pi \\alpha - 2 i \\pi \\beta\\right)} + \\frac{1}{\\left(1 - e^{2 i \\pi \\alpha}\\right) \\left(2 i \\pi \\alpha - 2 i \\pi \\beta\\right)} = \\sum_{n=-\\infty}^{\\infty} \\frac{1}{\\left(2 i \\pi \\alpha + 2 i \\pi n\\right) \\left(2 i \\pi \\beta + 2 i \\pi n\\right)}$"
      ],
      "text/plain": [
       "Eq(-1/((1 - exp(2*I*pi*beta))*(2*I*pi*alpha - 2*I*pi*beta)) + 1/((1 - exp(2*I*pi*alpha))*(2*I*pi*alpha - 2*I*pi*beta)), Sum(1/((2*I*pi*alpha + 2*I*pi*n)*(2*I*pi*beta + 2*I*pi*n)), (n, -oo, oo)))"
      ]
     },
     "execution_count": 8,
     "metadata": {},
     "output_type": "execute_result"
    }
   ],
   "source": [
    "Eq(\n",
    "    1/(alpha - beta)*1/(1 - exp(alpha)) - 1/(alpha - beta)*1/(1 - exp(beta)),\n",
    "    Sum(1/(alpha + 2*I*pi*n)/(beta + 2*I*pi*n),(n,-oo,oo))\n",
    ").subs([(alpha,2*I*pi*alpha), (beta,2*I*pi*beta)])"
   ]
  },
  {
   "cell_type": "code",
   "execution_count": 11,
   "metadata": {},
   "outputs": [
    {
     "data": {
      "text/latex": [
       "$\\displaystyle \\frac{2 i \\pi \\left(- \\frac{1}{1 - e^{2 i \\pi \\beta}} + \\frac{1}{1 - e^{2 i \\pi \\alpha}}\\right)}{\\alpha - \\beta} = \\sum_{n=-\\infty}^{\\infty} \\frac{1}{\\left(\\alpha + n\\right) \\left(\\beta + n\\right)}$"
      ],
      "text/plain": [
       "Eq(2*I*pi*(-1/(1 - exp(2*I*pi*beta)) + 1/(1 - exp(2*I*pi*alpha)))/(alpha - beta), Sum(1/((alpha + n)*(beta + n)), (n, -oo, oo)))"
      ]
     },
     "execution_count": 11,
     "metadata": {},
     "output_type": "execute_result"
    }
   ],
   "source": [
    "Eq(\n",
    "    2*I*pi/(alpha - beta)*(1/(1 - exp(2*I*pi*alpha)) - 1/(1 - exp(2*I*pi*beta))),\n",
    "    Sum(1/(alpha + n)/(beta + n),(n,-oo,oo))\n",
    ")"
   ]
  },
  {
   "cell_type": "code",
   "execution_count": 67,
   "metadata": {},
   "outputs": [
    {
     "data": {
      "text/latex": [
       "$\\displaystyle \\int \\frac{\\left(- \\alpha + z\\right)^{- s} \\left(- \\beta + z\\right)^{- k}}{e^{2 i \\pi \\tau + 2 i \\pi z} - 1}\\, dz = \\operatorname{LargeCircle}{\\left(R,\\alpha,\\beta,\\tau,s,k \\right)} + \\operatorname{LowerBranchCut}{\\left(R,r,\\alpha,\\beta,\\tau,s,k \\right)} + \\operatorname{SmallCircle}{\\left(r,\\alpha,\\beta,\\tau,s,k \\right)} + \\operatorname{UpperBranchCut}{\\left(R,r,\\alpha,\\beta,\\tau,s,k \\right)}$"
      ],
      "text/plain": [
       "Eq(Integral((-alpha + z)**(-s)*(-beta + z)**(-k)/(exp(2*I*pi*tau + 2*I*pi*z) - 1), z), LargeCircle(R, alpha, beta, tau, s, k) + LowerBranchCut(R, r, alpha, beta, tau, s, k) + SmallCircle(r, alpha, beta, tau, s, k) + UpperBranchCut(R, r, alpha, beta, tau, s, k))"
      ]
     },
     "execution_count": 67,
     "metadata": {},
     "output_type": "execute_result"
    }
   ],
   "source": [
    "Eq(\n",
    "    Integral(1/(z-alpha)**s/(z-beta)**k*(1/(exp(2*I*pi*tau + 2*I*pi*z) - 1)),z),\n",
    "    LargeCircle(R, alpha, beta, tau, s, k) + SmallCircle(r, alpha, beta, tau, s, k) + \n",
    "    UpperBranchCut(R, r, alpha, beta, tau, s, k) + LowerBranchCut(R, r, alpha, beta, tau, s, k)\n",
    ")"
   ]
  },
  {
   "cell_type": "code",
   "execution_count": 73,
   "metadata": {
    "scrolled": true
   },
   "outputs": [
    {
     "data": {
      "text/latex": [
       "$\\displaystyle \\operatorname{LargeCircle}{\\left(r,\\alpha,\\beta,\\tau,s,k \\right)} = \\int\\limits_{\\mu - \\pi}^{\\mu + \\pi} \\frac{i R \\left(R e^{i \\theta} - \\alpha\\right)^{- s} \\left(R e^{i \\theta} - \\beta\\right)^{- k} e^{i \\theta}}{e^{2 i \\pi R e^{i \\theta} + 2 i \\pi \\tau} - 1}\\, d\\theta$"
      ],
      "text/plain": [
       "Eq(LargeCircle(r, alpha, beta, tau, s, k), Integral(I*R*(R*exp(I*theta) - alpha)**(-s)*(R*exp(I*theta) - beta)**(-k)*exp(I*theta)/(exp(2*I*pi*R*exp(I*theta) + 2*I*pi*tau) - 1), (theta, mu - pi, mu + pi)))"
      ]
     },
     "execution_count": 73,
     "metadata": {},
     "output_type": "execute_result"
    }
   ],
   "source": [
    "# mu is chosen so the large circle does not cross the branch cut\n",
    "Eq(\n",
    "    LargeCircle(r, alpha, beta, tau, s, k),\n",
    "    Integral(\n",
    "        I*R*exp(I*theta)/(R*exp(I*theta)-alpha)**s/(R*exp(I*theta)-beta)**k*(1/(exp(2*I*pi*tau + 2*I*pi*R*exp(I*theta))-1))\n",
    "    ,(theta, -pi+mu,pi+mu))\n",
    ")"
   ]
  },
  {
   "cell_type": "code",
   "execution_count": 86,
   "metadata": {},
   "outputs": [
    {
     "data": {
      "text/latex": [
       "$\\displaystyle \\operatorname{re}{\\left(s\\right)} < 1$"
      ],
      "text/plain": [
       "re(s) < 1"
      ]
     },
     "execution_count": 86,
     "metadata": {},
     "output_type": "execute_result"
    }
   ],
   "source": [
    "re(s)<1"
   ]
  },
  {
   "cell_type": "code",
   "execution_count": 87,
   "metadata": {},
   "outputs": [
    {
     "data": {
      "text/latex": [
       "$\\displaystyle \\operatorname{re}{\\left(k\\right)} + \\operatorname{re}{\\left(s\\right)} > 1$"
      ],
      "text/plain": [
       "re(k) + re(s) > 1"
      ]
     },
     "execution_count": 87,
     "metadata": {},
     "output_type": "execute_result"
    }
   ],
   "source": [
    "re(s+k)>1"
   ]
  },
  {
   "cell_type": "code",
   "execution_count": 72,
   "metadata": {},
   "outputs": [
    {
     "data": {
      "text/latex": [
       "$\\displaystyle \\lim_{R \\to \\infty} \\operatorname{LargeCircle}{\\left(R,\\alpha,\\beta,\\tau,s,k \\right)} = 0$"
      ],
      "text/plain": [
       "Eq(Limit(LargeCircle(R, alpha, beta, tau, s, k), R, oo, dir='-'), 0)"
      ]
     },
     "execution_count": 72,
     "metadata": {},
     "output_type": "execute_result"
    }
   ],
   "source": [
    "Eq(Limit(LargeCircle(R, alpha, beta, tau, s, k),R,oo),0)"
   ]
  },
  {
   "cell_type": "code",
   "execution_count": 88,
   "metadata": {},
   "outputs": [
    {
     "data": {
      "text/latex": [
       "$\\displaystyle \\operatorname{SmallCircle}{\\left(r,\\alpha,\\beta,\\tau,s,k \\right)} = \\int\\limits_{\\pi}^{- \\pi} \\frac{i r \\left(r e^{i \\theta}\\right)^{- s} \\left(\\alpha - \\beta + r e^{i \\theta}\\right)^{- k} e^{i \\theta}}{e^{2 i \\pi \\tau + 2 i \\pi \\left(\\alpha + r e^{i \\theta}\\right)} - 1}\\, d\\theta$"
      ],
      "text/plain": [
       "Eq(SmallCircle(r, alpha, beta, tau, s, k), Integral(I*r*(r*exp(I*theta))**(-s)*(alpha - beta + r*exp(I*theta))**(-k)*exp(I*theta)/(exp(2*I*pi*tau + 2*I*pi*(alpha + r*exp(I*theta))) - 1), (theta, pi, -pi)))"
      ]
     },
     "execution_count": 88,
     "metadata": {},
     "output_type": "execute_result"
    }
   ],
   "source": [
    "Eq(\n",
    "    SmallCircle(r, alpha, beta, tau, s, k),\n",
    "    Integral(\n",
    "        I*r*exp(I*theta)*(1/(z-alpha)**s/(z-beta)**k*(1/(exp(2*I*pi*tau + 2*I*pi*z) - 1))).subs(z,r*exp(I*theta)+alpha)\n",
    "    ,(theta, pi,-pi))\n",
    ")"
   ]
  },
  {
   "cell_type": "code",
   "execution_count": 90,
   "metadata": {},
   "outputs": [
    {
     "data": {
      "text/latex": [
       "$\\displaystyle \\lim_{r \\to 0^+} \\operatorname{SmallCircle}{\\left(r,\\alpha,\\beta,\\tau,s,k \\right)} = 0$"
      ],
      "text/plain": [
       "Eq(Limit(SmallCircle(r, alpha, beta, tau, s, k), r, 0), 0)"
      ]
     },
     "execution_count": 90,
     "metadata": {},
     "output_type": "execute_result"
    }
   ],
   "source": [
    "Eq(Limit(SmallCircle(r, alpha, beta, tau, s, k),r,0),0)"
   ]
  },
  {
   "cell_type": "code",
   "execution_count": 94,
   "metadata": {},
   "outputs": [
    {
     "data": {
      "text/latex": [
       "$\\displaystyle \\operatorname{SmallCircle}{\\left(r,\\alpha,\\beta,\\tau,1,k \\right)} = - \\frac{2 i \\pi \\left(\\alpha - \\beta\\right)^{- k}}{e^{2 i \\pi \\alpha + 2 i \\pi \\tau} - 1}$"
      ],
      "text/plain": [
       "Eq(SmallCircle(r, alpha, beta, tau, 1, k), -2*I*pi*(alpha - beta)**(-k)/(exp(2*I*pi*alpha + 2*I*pi*tau) - 1))"
      ]
     },
     "execution_count": 94,
     "metadata": {},
     "output_type": "execute_result"
    }
   ],
   "source": [
    "# Note if s=1 we would get a finite contribution\n",
    "Eq(\n",
    "    SmallCircle(r, alpha, beta, tau, 1, k),\n",
    "    Integral(\n",
    "        (I*r*exp(I*theta)*(1/(z-alpha)/(z-beta)**k*(1/(exp(2*I*pi*tau + 2*I*pi*z) - 1))\n",
    "                         ).subs(z,r*exp(I*theta)+alpha)).subs(r,0)\n",
    "    ,(theta, pi,-pi)).doit()\n",
    ")"
   ]
  },
  {
   "cell_type": "code",
   "execution_count": 98,
   "metadata": {},
   "outputs": [
    {
     "data": {
      "text/latex": [
       "$\\displaystyle \\operatorname{UpperBranchCut}{\\left(R,r,\\alpha,\\beta,\\tau,s,k \\right)} = \\int\\limits_{T + \\alpha}^{\\alpha - \\epsilon} \\frac{\\left(- \\alpha + z\\right)^{- s} \\left(- \\beta + z\\right)^{- k}}{e^{2 i \\pi \\tau + 2 i \\pi z} - 1}\\, dz$"
      ],
      "text/plain": [
       "Eq(UpperBranchCut(R, r, alpha, beta, tau, s, k), Integral((-alpha + z)**(-s)*(-beta + z)**(-k)/(exp(2*I*pi*tau + 2*I*pi*z) - 1), (z, T + alpha, alpha - epsilon)))"
      ]
     },
     "execution_count": 98,
     "metadata": {},
     "output_type": "execute_result"
    }
   ],
   "source": [
    "Eq(\n",
    "    UpperBranchCut(R, r, alpha, beta, tau, s, k),\n",
    "    Integral(1/(z-alpha)**s/(z-beta)**k*(1/(exp(2*I*pi*tau + 2*I*pi*z) - 1)),(z,T+alpha,alpha-epsilon))\n",
    ")"
   ]
  },
  {
   "cell_type": "code",
   "execution_count": 104,
   "metadata": {
    "scrolled": true
   },
   "outputs": [
    {
     "data": {
      "text/latex": [
       "$\\displaystyle \\operatorname{UpperBranchCut}{\\left(R,r,\\alpha,\\beta,\\tau,s,k \\right)} = \\int\\limits_{- R + i \\epsilon}^{i \\epsilon - r} \\frac{z^{- s} \\left(\\alpha - \\beta + z\\right)^{- k}}{e^{2 i \\pi \\tau + 2 i \\pi \\left(\\alpha + z\\right)} - 1}\\, dz$"
      ],
      "text/plain": [
       "Eq(UpperBranchCut(R, r, alpha, beta, tau, s, k), Integral(z**(-s)*(alpha - beta + z)**(-k)/(exp(2*I*pi*tau + 2*I*pi*(alpha + z)) - 1), (z, -R + I*epsilon, I*epsilon - r)))"
      ]
     },
     "execution_count": 104,
     "metadata": {},
     "output_type": "execute_result"
    }
   ],
   "source": [
    "Eq(\n",
    "    UpperBranchCut(R, r, alpha, beta, tau, s, k),\n",
    "    Integral((1/(z-alpha)**s/(z-beta)**k*(1/(exp(2*I*pi*tau + 2*I*pi*z) - 1))).subs(z,z+alpha),\n",
    "             (z,-R+I*epsilon,-r+I*epsilon))\n",
    ")"
   ]
  },
  {
   "cell_type": "code",
   "execution_count": 54,
   "metadata": {},
   "outputs": [
    {
     "data": {
      "text/latex": [
       "$\\displaystyle z^{- s} = e^{- s \\left(\\log{\\left(\\left|{z}\\right| \\right)} + i \\pi\\right)}$"
      ],
      "text/plain": [
       "Eq(z**(-s), exp(-s*(log(Abs(z)) + I*pi)))"
      ]
     },
     "execution_count": 54,
     "metadata": {},
     "output_type": "execute_result"
    }
   ],
   "source": [
    "# epsilon above the negative real axis\n",
    "Eq(1/z**s, exp(-s*(ln(abs(z))+I*pi)))"
   ]
  },
  {
   "cell_type": "code",
   "execution_count": 55,
   "metadata": {},
   "outputs": [
    {
     "data": {
      "text/latex": [
       "$\\displaystyle z^{- s} = e^{- i \\pi s} \\left|{z}\\right|^{- s}$"
      ],
      "text/plain": [
       "Eq(z**(-s), exp(-I*pi*s)*Abs(z)**(-s))"
      ]
     },
     "execution_count": 55,
     "metadata": {},
     "output_type": "execute_result"
    }
   ],
   "source": [
    "# epsilon above the negative real axis\n",
    "Eq(1/z**s, 1/abs(z)**s*exp(-s*I*pi))"
   ]
  },
  {
   "cell_type": "code",
   "execution_count": 112,
   "metadata": {},
   "outputs": [
    {
     "data": {
      "text/latex": [
       "$\\displaystyle \\operatorname{UpperBranchCut}{\\left(R,r,\\alpha,\\beta,\\tau,s,k \\right)} = e^{- i \\pi s} \\int\\limits_{- R}^{- r} \\frac{\\left(\\alpha - \\beta + z\\right)^{- k} \\left|{z}\\right|^{- s}}{e^{2 i \\pi \\alpha + 2 i \\pi \\tau + 2 i \\pi z} - 1}\\, dz$"
      ],
      "text/plain": [
       "Eq(UpperBranchCut(R, r, alpha, beta, tau, s, k), exp(-I*pi*s)*Integral((alpha - beta + z)**(-k)*Abs(z)**(-s)/(exp(2*I*pi*alpha + 2*I*pi*tau + 2*I*pi*z) - 1), (z, -R, -r)))"
      ]
     },
     "execution_count": 112,
     "metadata": {},
     "output_type": "execute_result"
    }
   ],
   "source": [
    "Eq(\n",
    "    UpperBranchCut(R, r, alpha, beta, tau, s, k),\n",
    "    exp(-s*I*pi)*Integral((1/abs(z)**s/(z+alpha-beta)**k*(1/(exp(2*I*pi*tau + 2*I*pi*z + 2*I*pi*alpha) - 1))),\n",
    "             (z,-R,-r))\n",
    ")"
   ]
  },
  {
   "cell_type": "code",
   "execution_count": 115,
   "metadata": {},
   "outputs": [
    {
     "data": {
      "text/latex": [
       "$\\displaystyle \\operatorname{LowerBranchCut}{\\left(R,r,\\alpha,\\beta,\\tau,s,k \\right)} = \\int\\limits_{- i \\epsilon - r}^{- R - i \\epsilon} \\frac{z^{- s} \\left(\\alpha - \\beta + z\\right)^{- k}}{e^{2 i \\pi \\alpha + 2 i \\pi \\tau + 2 i \\pi z} - 1}\\, dz$"
      ],
      "text/plain": [
       "Eq(LowerBranchCut(R, r, alpha, beta, tau, s, k), Integral(z**(-s)*(alpha - beta + z)**(-k)/(exp(2*I*pi*alpha + 2*I*pi*tau + 2*I*pi*z) - 1), (z, -I*epsilon - r, -R - I*epsilon)))"
      ]
     },
     "execution_count": 115,
     "metadata": {},
     "output_type": "execute_result"
    }
   ],
   "source": [
    "Eq(\n",
    "    LowerBranchCut(R, r, alpha, beta, tau, s, k),\n",
    "    Integral((1/(z)**s/(z+alpha-beta)**k*(1/(exp(2*I*pi*tau + 2*I*pi*z  + 2*I*pi*alpha) - 1))),\n",
    "             (z,-r-I*epsilon,-R-I*epsilon))\n",
    ")"
   ]
  },
  {
   "cell_type": "code",
   "execution_count": 53,
   "metadata": {},
   "outputs": [
    {
     "data": {
      "text/latex": [
       "$\\displaystyle z^{- s} = e^{- s \\left(\\log{\\left(\\left|{z}\\right| \\right)} - i \\pi\\right)}$"
      ],
      "text/plain": [
       "Eq(z**(-s), exp(-s*(log(Abs(z)) - I*pi)))"
      ]
     },
     "execution_count": 53,
     "metadata": {},
     "output_type": "execute_result"
    }
   ],
   "source": [
    "# epsilon below the negative real axis\n",
    "Eq(1/z**s, exp(-s*(ln(abs(z))-I*pi)))"
   ]
  },
  {
   "cell_type": "code",
   "execution_count": 57,
   "metadata": {},
   "outputs": [
    {
     "data": {
      "text/latex": [
       "$\\displaystyle z^{- s} = e^{i \\pi s} \\left|{z}\\right|^{- s}$"
      ],
      "text/plain": [
       "Eq(z**(-s), exp(I*pi*s)*Abs(z)**(-s))"
      ]
     },
     "execution_count": 57,
     "metadata": {},
     "output_type": "execute_result"
    }
   ],
   "source": [
    "# epsilon below the negative real axis\n",
    "Eq(1/z**s, 1/abs(z)**s*exp(s*I*pi))"
   ]
  },
  {
   "cell_type": "code",
   "execution_count": 117,
   "metadata": {},
   "outputs": [
    {
     "data": {
      "text/latex": [
       "$\\displaystyle \\operatorname{LowerBranchCut}{\\left(R,r,\\alpha,\\beta,\\tau,s,k \\right)} = e^{i \\pi s} \\int\\limits_{- r}^{- R} \\frac{\\left(\\alpha - \\beta + z\\right)^{- k} \\left|{z}\\right|^{- s}}{e^{2 i \\pi \\alpha + 2 i \\pi \\tau + 2 i \\pi z} - 1}\\, dz$"
      ],
      "text/plain": [
       "Eq(LowerBranchCut(R, r, alpha, beta, tau, s, k), exp(I*pi*s)*Integral((alpha - beta + z)**(-k)*Abs(z)**(-s)/(exp(2*I*pi*alpha + 2*I*pi*tau + 2*I*pi*z) - 1), (z, -r, -R)))"
      ]
     },
     "execution_count": 117,
     "metadata": {},
     "output_type": "execute_result"
    }
   ],
   "source": [
    "Eq(\n",
    "    LowerBranchCut(R, r, alpha, beta, tau, s, k),\n",
    "    exp(s*I*pi)*Integral((1/abs(z)**s/(z+alpha-beta)**k*(1/(exp(2*I*pi*tau + 2*I*pi*z  + 2*I*pi*alpha) - 1))),\n",
    "             (z,-r,-R))\n",
    ")"
   ]
  },
  {
   "cell_type": "code",
   "execution_count": 118,
   "metadata": {},
   "outputs": [
    {
     "data": {
      "text/latex": [
       "$\\displaystyle \\operatorname{LowerBranchCut}{\\left(R,r,\\alpha,\\beta,\\tau,s,k \\right)} = - e^{i \\pi s} \\int\\limits_{- R}^{- r} \\frac{\\left(\\alpha - \\beta + z\\right)^{- k} \\left|{z}\\right|^{- s}}{e^{2 i \\pi \\alpha + 2 i \\pi \\tau + 2 i \\pi z} - 1}\\, dz$"
      ],
      "text/plain": [
       "Eq(LowerBranchCut(R, r, alpha, beta, tau, s, k), -exp(I*pi*s)*Integral((alpha - beta + z)**(-k)*Abs(z)**(-s)/(exp(2*I*pi*alpha + 2*I*pi*tau + 2*I*pi*z) - 1), (z, -R, -r)))"
      ]
     },
     "execution_count": 118,
     "metadata": {},
     "output_type": "execute_result"
    }
   ],
   "source": [
    "Eq(\n",
    "    LowerBranchCut(R, r, alpha, beta, tau, s, k),\n",
    "    -exp(s*I*pi)*Integral((1/abs(z)**s/(z+alpha-beta)**k*(1/(exp(2*I*pi*tau + 2*I*pi*z  + 2*I*pi*alpha) - 1))),\n",
    "             (z,-R,-r))\n",
    ")"
   ]
  },
  {
   "cell_type": "code",
   "execution_count": 133,
   "metadata": {},
   "outputs": [
    {
     "data": {
      "text/latex": [
       "$\\displaystyle 0$"
      ],
      "text/plain": [
       "0"
      ]
     },
     "execution_count": 133,
     "metadata": {},
     "output_type": "execute_result"
    }
   ],
   "source": [
    "(integrate(cos(z),(z,-T,-tau)) + integrate(cos(-z),(z,T,tau))).subs(f(z),sin(z)).simplify()"
   ]
  },
  {
   "cell_type": "code",
   "execution_count": 138,
   "metadata": {},
   "outputs": [
    {
     "data": {
      "text/latex": [
       "$\\displaystyle \\operatorname{LargeCircle}{\\left(R,\\alpha,\\beta,\\tau,s,k \\right)} + \\operatorname{LowerBranchCut}{\\left(R,r,\\alpha,\\beta,\\tau,s,k \\right)} + \\operatorname{SmallCircle}{\\left(r,\\alpha,\\beta,\\tau,s,k \\right)} + \\operatorname{UpperBranchCut}{\\left(R,r,\\alpha,\\beta,\\tau,s,k \\right)} = 2 i \\sin{\\left(\\pi s \\right)} \\int\\limits_{r}^{R} \\frac{z^{- s} \\left(\\alpha - \\beta - z\\right)^{- k}}{e^{2 i \\pi \\alpha + 2 i \\pi \\tau - 2 i \\pi z} - 1}\\, dz$"
      ],
      "text/plain": [
       "Eq(LargeCircle(R, alpha, beta, tau, s, k) + LowerBranchCut(R, r, alpha, beta, tau, s, k) + SmallCircle(r, alpha, beta, tau, s, k) + UpperBranchCut(R, r, alpha, beta, tau, s, k), 2*I*sin(pi*s)*Integral(z**(-s)*(alpha - beta - z)**(-k)/(exp(2*I*pi*alpha + 2*I*pi*tau - 2*I*pi*z) - 1), (z, r, R)))"
      ]
     },
     "execution_count": 138,
     "metadata": {},
     "output_type": "execute_result"
    }
   ],
   "source": [
    "Eq(\n",
    "    LargeCircle(R, alpha, beta, tau, s, k) + SmallCircle(r, alpha, beta, tau, s, k) + \n",
    "    UpperBranchCut(R, r, alpha, beta, tau, s, k) + LowerBranchCut(R, r, alpha, beta, tau, s, k),\n",
    "    -simplify(exp(-s*I*pi)-exp(s*I*pi))*Integral(\n",
    "        (1/z**s/(-z+alpha-beta)**k*(1/(exp(2*I*pi*tau - 2*I*pi*z + 2*I*pi*alpha) - 1)))\n",
    "        ,(z,r,R))\n",
    ")"
   ]
  },
  {
   "cell_type": "code",
   "execution_count": 165,
   "metadata": {},
   "outputs": [
    {
     "data": {
      "text/latex": [
       "$\\displaystyle \\int \\frac{\\left(- \\alpha + z\\right)^{- s}}{\\left(- \\beta + z\\right) \\left(e^{2 i \\pi \\tau + 2 i \\pi z} - 1\\right)}\\, dz = \\sum_{n=-\\infty}^{\\infty} \\frac{\\left(- \\alpha + n - \\tau\\right)^{- s}}{- \\beta + n - \\tau} + \\frac{2 i \\pi \\left(- \\alpha + \\beta\\right)^{- s}}{e^{2 i \\pi \\beta + 2 i \\pi \\tau} - 1}$"
      ],
      "text/plain": [
       "Eq(Integral((-alpha + z)**(-s)/((-beta + z)*(exp(2*I*pi*tau + 2*I*pi*z) - 1)), z), Sum((-alpha + n - tau)**(-s)/(-beta + n - tau), (n, -oo, oo)) + 2*I*pi*(-alpha + beta)**(-s)/(exp(2*I*pi*beta + 2*I*pi*tau) - 1))"
      ]
     },
     "execution_count": 165,
     "metadata": {},
     "output_type": "execute_result"
    }
   ],
   "source": [
    "# take k=1 then diff wrt beta for higher order k\n",
    "\n",
    "Eq(\n",
    "    Integral(1/(z-alpha)**s/(z-beta)*(1/(exp(2*I*pi*tau + 2*I*pi*z) - 1)),z),\n",
    "    2*I*pi/(beta-alpha)**s*(1/(exp(2*I*pi*tau + 2*I*pi*beta) - 1)) +\n",
    "    Sum(1/(n-tau-alpha)**s/(n-tau-beta),(n,-oo,oo))\n",
    ")"
   ]
  },
  {
   "cell_type": "code",
   "execution_count": 170,
   "metadata": {
    "scrolled": true
   },
   "outputs": [
    {
     "data": {
      "text/latex": [
       "$\\displaystyle 2 i \\sin{\\left(\\pi s \\right)} \\int\\limits_{0}^{\\infty} \\frac{z^{- s}}{\\left(e^{2 i \\pi \\alpha + 2 i \\pi \\tau - 2 i \\pi z} - 1\\right) \\left(\\alpha - \\beta - z\\right)}\\, dz = \\sum_{n=-\\infty}^{\\infty} \\frac{\\left(- \\alpha + n - \\tau\\right)^{- s}}{- \\beta + n - \\tau} + \\frac{2 i \\pi \\left(- \\alpha + \\beta\\right)^{- s}}{e^{2 i \\pi \\beta + 2 i \\pi \\tau} - 1}$"
      ],
      "text/plain": [
       "Eq(2*I*sin(pi*s)*Integral(z**(-s)/((exp(2*I*pi*alpha + 2*I*pi*tau - 2*I*pi*z) - 1)*(alpha - beta - z)), (z, 0, oo)), Sum((-alpha + n - tau)**(-s)/(-beta + n - tau), (n, -oo, oo)) + 2*I*pi*(-alpha + beta)**(-s)/(exp(2*I*pi*beta + 2*I*pi*tau) - 1))"
      ]
     },
     "execution_count": 170,
     "metadata": {},
     "output_type": "execute_result"
    }
   ],
   "source": [
    "Eq(-simplify(exp(-s*I*pi)-exp(s*I*pi))*Integral(\n",
    "        (1/z**s/(-z+alpha-beta)*(1/(exp(2*I*pi*tau - 2*I*pi*z + 2*I*pi*alpha) - 1))),(z,0,oo)),\n",
    "   2*I*pi/(beta-alpha)**s*(1/(exp(2*I*pi*tau + 2*I*pi*beta) - 1)) +\n",
    "    Sum(1/(n-tau-alpha)**s/(n-tau-beta),(n,-oo,oo))\n",
    "  )"
   ]
  },
  {
   "cell_type": "code",
   "execution_count": 235,
   "metadata": {},
   "outputs": [
    {
     "data": {
      "text/latex": [
       "$\\displaystyle 2 i \\sin{\\left(\\pi s \\right)} \\int\\limits_{0}^{\\infty} \\frac{z^{- s}}{\\left(e^{2 i \\pi \\alpha - 2 i \\pi z} - 1\\right) \\left(\\alpha - \\beta - z\\right)}\\, dz = \\sum_{n=-\\infty}^{\\infty} \\frac{\\left(- \\alpha + n\\right)^{- s}}{- \\beta + n} + \\frac{2 i \\pi \\left(- \\alpha + \\beta\\right)^{- s}}{e^{2 i \\pi \\beta} - 1}$"
      ],
      "text/plain": [
       "Eq(2*I*sin(pi*s)*Integral(z**(-s)/((exp(2*I*pi*alpha - 2*I*pi*z) - 1)*(alpha - beta - z)), (z, 0, oo)), Sum((-alpha + n)**(-s)/(-beta + n), (n, -oo, oo)) + 2*I*pi*(-alpha + beta)**(-s)/(exp(2*I*pi*beta) - 1))"
      ]
     },
     "execution_count": 235,
     "metadata": {},
     "output_type": "execute_result"
    }
   ],
   "source": [
    "Eq(-simplify(exp(-s*I*pi)-exp(s*I*pi))*Integral(\n",
    "        (1/z**s/(-z+alpha-beta)*(1/(exp(2*I*pi*tau - 2*I*pi*z + 2*I*pi*alpha) - 1))),(z,0,oo)),\n",
    "   2*I*pi/(beta-alpha)**s*(1/(exp(2*I*pi*tau + 2*I*pi*beta) - 1)) +\n",
    "    Sum(1/(n-tau-alpha)**s/(n-tau-beta),(n,-oo,oo))\n",
    "  ).subs(tau,0)"
   ]
  },
  {
   "cell_type": "code",
   "execution_count": 236,
   "metadata": {},
   "outputs": [],
   "source": [
    "num_subs = [(R,200),(r,1e-12),(alpha,2+I),(beta,3-20*I*pi),(tau,0),(s,0.9),(k,1),(N,65)]"
   ]
  },
  {
   "cell_type": "code",
   "execution_count": 237,
   "metadata": {},
   "outputs": [
    {
     "data": {
      "text/latex": [
       "$\\displaystyle -0.14014827477 + 0.019687605321 i$"
      ],
      "text/plain": [
       "-0.14014827477 + 0.019687605321*I"
      ]
     },
     "execution_count": 237,
     "metadata": {},
     "output_type": "execute_result"
    }
   ],
   "source": [
    "(-simplify(exp(-s*I*pi)-exp(s*I*pi))*Integral(\n",
    "        (1/z**s/(-z+alpha-beta)**k*(1/(exp(2*I*pi*tau - 2*I*pi*z + 2*I*pi*alpha) - 1))),(z,r,R))).subs(num_subs).evalf()"
   ]
  },
  {
   "cell_type": "code",
   "execution_count": 242,
   "metadata": {},
   "outputs": [
    {
     "data": {
      "text/latex": [
       "$\\displaystyle 0.103790895549228 - 0.0177980235039305 i$"
      ],
      "text/plain": [
       "0.103790895549228 - 0.0177980235039305*I"
      ]
     },
     "execution_count": 242,
     "metadata": {},
     "output_type": "execute_result"
    }
   ],
   "source": [
    "(2*I*pi/(beta-alpha)**s*(1/(exp(2*I*pi*tau + 2*I*pi*beta) - 1)) + \n",
    " Sum(1/(n-tau-alpha)**s/(n-tau-beta),(n,-N,N))).subs(num_subs).evalf()"
   ]
  },
  {
   "cell_type": "code",
   "execution_count": 212,
   "metadata": {},
   "outputs": [
    {
     "data": {
      "text/latex": [
       "$\\displaystyle 2 i \\sin{\\left(\\pi s \\right)} \\int\\limits_{0}^{\\infty} \\frac{z^{- s}}{\\left(e^{2 i \\pi \\tau - 2 i \\pi z + 2 i \\pi \\left(\\alpha - \\tau\\right)} - 1\\right) \\left(\\alpha - \\beta - z\\right)^{2}}\\, dz = - \\frac{2 i \\pi s \\left(- \\alpha + \\beta\\right)^{- s}}{\\left(- \\alpha + \\beta\\right) \\left(e^{2 i \\pi \\tau + 2 i \\pi \\left(\\beta - \\tau\\right)} - 1\\right)} + \\sum_{n=-\\infty}^{\\infty} \\frac{\\left(- \\alpha + n\\right)^{- s}}{\\left(- \\beta + n\\right)^{2}} + \\frac{4 \\pi^{2} \\left(- \\alpha + \\beta\\right)^{- s} e^{2 i \\pi \\tau + 2 i \\pi \\left(\\beta - \\tau\\right)}}{\\left(e^{2 i \\pi \\tau + 2 i \\pi \\left(\\beta - \\tau\\right)} - 1\\right)^{2}}$"
      ],
      "text/plain": [
       "Eq(2*I*sin(pi*s)*Integral(z**(-s)/((exp(2*I*pi*tau - 2*I*pi*z + 2*I*pi*(alpha - tau)) - 1)*(alpha - beta - z)**2), (z, 0, oo)), -2*I*pi*s*(-alpha + beta)**(-s)/((-alpha + beta)*(exp(2*I*pi*tau + 2*I*pi*(beta - tau)) - 1)) + Sum((-alpha + n)**(-s)/(-beta + n)**2, (n, -oo, oo)) + 4*pi**2*(-alpha + beta)**(-s)*exp(2*I*pi*tau + 2*I*pi*(beta - tau))/(exp(2*I*pi*tau + 2*I*pi*(beta - tau)) - 1)**2)"
      ]
     },
     "execution_count": 212,
     "metadata": {},
     "output_type": "execute_result"
    }
   ],
   "source": [
    "Eq(-simplify(exp(-s*I*pi)-exp(s*I*pi))*Integral(\n",
    "        diff((1/z**s/(-z+alpha-beta)*(1/(exp(2*I*pi*tau - 2*I*pi*z + 2*I*pi*alpha) - 1))),beta)\n",
    "    ,(z,0,oo)),\n",
    "   diff(2*I*pi/(beta-alpha)**s*(1/(exp(2*I*pi*tau + 2*I*pi*beta) - 1)) +\n",
    "    Sum(1/(n-tau-alpha)**s/(n-tau-beta),(n,-oo,oo)),beta)\n",
    "  ).subs([(alpha,alpha-tau),(beta,beta-tau)])"
   ]
  },
  {
   "cell_type": "code",
   "execution_count": 213,
   "metadata": {},
   "outputs": [
    {
     "data": {
      "text/latex": [
       "$\\displaystyle 2 i \\sin{\\left(\\pi s \\right)} \\int\\limits_{0}^{\\infty} \\frac{z^{- s}}{\\left(e^{2 i \\pi \\left(\\alpha - z\\right)} - 1\\right) \\left(\\alpha - \\beta - z\\right)^{2}}\\, dz$"
      ],
      "text/plain": [
       "2*I*sin(pi*s)*Integral(z**(-s)/((exp(2*I*pi*(alpha - z)) - 1)*(alpha - beta - z)**2), (z, 0, oo))"
      ]
     },
     "execution_count": 213,
     "metadata": {},
     "output_type": "execute_result"
    }
   ],
   "source": [
    "2*I*sin(pi*s)*Integral(1/z**s/(exp(2*I*pi*(alpha-z))-1)/(alpha-beta-z)**2,(z,0,oo))"
   ]
  },
  {
   "cell_type": "code",
   "execution_count": 220,
   "metadata": {},
   "outputs": [
    {
     "data": {
      "text/latex": [
       "$\\displaystyle - \\frac{2 i \\pi s \\left(- \\alpha + \\beta\\right)^{- s - 1}}{e^{2 i \\pi \\beta} - 1} + \\sum_{n=-\\infty}^{\\infty} \\frac{\\left(- \\alpha + n\\right)^{- s}}{\\left(- \\beta + n\\right)^{2}} + \\frac{4 \\pi^{2} \\left(- \\alpha + \\beta\\right)^{- s} e^{2 i \\pi \\beta}}{\\left(e^{2 i \\pi \\beta} - 1\\right)^{2}}$"
      ],
      "text/plain": [
       "-2*I*pi*s*(-alpha + beta)**(-s - 1)/(exp(2*I*pi*beta) - 1) + Sum((-alpha + n)**(-s)/(-beta + n)**2, (n, -oo, oo)) + 4*pi**2*(-alpha + beta)**(-s)*exp(2*I*pi*beta)/(exp(2*I*pi*beta) - 1)**2"
      ]
     },
     "execution_count": 220,
     "metadata": {},
     "output_type": "execute_result"
    }
   ],
   "source": [
    "(-2*I*pi*s/(beta-alpha)**(s+1)/(exp(2*I*pi*beta)-1) + Sum(1/(n-alpha)**s/(n-beta)**2,(n,-oo,oo)) \n",
    " + 4*pi**2/(-alpha+beta)**s*exp(2*I*pi*beta)/(exp(2*I*pi*beta)-1)**2\n",
    ")"
   ]
  },
  {
   "cell_type": "code",
   "execution_count": 228,
   "metadata": {},
   "outputs": [
    {
     "data": {
      "text/latex": [
       "$\\displaystyle 0.0003828885794575 + 0.001984267271169 i$"
      ],
      "text/plain": [
       "0.0003828885794575 + 0.001984267271169*I"
      ]
     },
     "execution_count": 228,
     "metadata": {},
     "output_type": "execute_result"
    }
   ],
   "source": [
    "r1 = (2*I*sin(pi*s)*Integral(1/z**s/(exp(2*I*pi*(alpha-z))-1)/(alpha-beta-z)**2,(z,r,R))).subs(num_subs).evalf()\n",
    "r1"
   ]
  },
  {
   "cell_type": "code",
   "execution_count": 229,
   "metadata": {},
   "outputs": [
    {
     "data": {
      "text/latex": [
       "$\\displaystyle -0.000363578909004776 - 0.00187993504358248 i$"
      ],
      "text/plain": [
       "-0.000363578909004776 - 0.00187993504358248*I"
      ]
     },
     "execution_count": 229,
     "metadata": {},
     "output_type": "execute_result"
    }
   ],
   "source": [
    "r2= (-2*I*pi*s/(beta-alpha)**(s+1)/(exp(2*I*pi*beta)-1) + Sum(1/(n-alpha)**s/(n-beta)**2,(n,-N,N)) \n",
    " + 4*pi**2/(-alpha+beta)**s*exp(2*I*pi*beta)/(exp(2*I*pi*beta)-1)**2\n",
    ").subs(num_subs).evalf()\n",
    "r2"
   ]
  },
  {
   "cell_type": "code",
   "execution_count": 230,
   "metadata": {},
   "outputs": [
    {
     "data": {
      "text/latex": [
       "$\\displaystyle 1.0554117853729$"
      ],
      "text/plain": [
       "1.05541178537290"
      ]
     },
     "execution_count": 230,
     "metadata": {},
     "output_type": "execute_result"
    }
   ],
   "source": [
    "abs(r1/r2)"
   ]
  },
  {
   "cell_type": "code",
   "execution_count": 232,
   "metadata": {},
   "outputs": [
    {
     "data": {
      "text/latex": [
       "$\\displaystyle - \\frac{0.5}{z^{1.5}}$"
      ],
      "text/plain": [
       "-0.5*z**(-1.5)"
      ]
     },
     "execution_count": 232,
     "metadata": {},
     "output_type": "execute_result"
    }
   ],
   "source": [
    "diff(1/z**(1/2),z)"
   ]
  },
  {
   "cell_type": "code",
   "execution_count": 247,
   "metadata": {},
   "outputs": [
    {
     "data": {
      "text/latex": [
       "$\\displaystyle 2 i \\sin{\\left(\\pi s \\right)} \\int\\limits_{0}^{\\infty} \\frac{z^{- s}}{\\left(e^{2 i \\pi \\alpha - 2 i \\pi z} - 1\\right) \\left(\\alpha - \\beta - z\\right)}\\, dz = \\sum_{n=-\\infty}^{\\infty} \\frac{\\left(- \\alpha + n\\right)^{- s}}{- \\beta + n} + \\frac{2 i \\pi \\left(- \\alpha + \\beta\\right)^{- s}}{e^{2 i \\pi \\beta} - 1}$"
      ],
      "text/plain": [
       "Eq(2*I*sin(pi*s)*Integral(z**(-s)/((exp(2*I*pi*alpha - 2*I*pi*z) - 1)*(alpha - beta - z)), (z, 0, oo)), Sum((-alpha + n)**(-s)/(-beta + n), (n, -oo, oo)) + 2*I*pi*(-alpha + beta)**(-s)/(exp(2*I*pi*beta) - 1))"
      ]
     },
     "execution_count": 247,
     "metadata": {},
     "output_type": "execute_result"
    }
   ],
   "source": [
    "Eq(2*I*sin(pi*s)*Integral((1/z**s/(-z+alpha-beta)*(1/(exp( - 2*I*pi*z + 2*I*pi*alpha) - 1))),(z,0,oo)),\n",
    "   2*I*pi/(beta-alpha)**s*(1/(exp( + 2*I*pi*beta) - 1)) +\n",
    "    Sum(1/(n-alpha)**s/(n-beta),(n,-oo,oo))\n",
    "  )"
   ]
  },
  {
   "cell_type": "code",
   "execution_count": 248,
   "metadata": {},
   "outputs": [
    {
     "data": {
      "text/latex": [
       "$\\displaystyle - \\frac{s z^{- s}}{z \\left(e^{2 i \\pi \\alpha - 2 i \\pi z} - 1\\right) \\left(\\alpha - \\beta - z\\right)} + \\frac{z^{- s}}{\\left(e^{2 i \\pi \\alpha - 2 i \\pi z} - 1\\right) \\left(\\alpha - \\beta - z\\right)^{2}} + \\frac{2 i \\pi z^{- s} e^{2 i \\pi \\alpha - 2 i \\pi z}}{\\left(e^{2 i \\pi \\alpha - 2 i \\pi z} - 1\\right)^{2} \\left(\\alpha - \\beta - z\\right)}$"
      ],
      "text/plain": [
       "-s*z**(-s)/(z*(exp(2*I*pi*alpha - 2*I*pi*z) - 1)*(alpha - beta - z)) + z**(-s)/((exp(2*I*pi*alpha - 2*I*pi*z) - 1)*(alpha - beta - z)**2) + 2*I*pi*z**(-s)*exp(2*I*pi*alpha - 2*I*pi*z)/((exp(2*I*pi*alpha - 2*I*pi*z) - 1)**2*(alpha - beta - z))"
      ]
     },
     "execution_count": 248,
     "metadata": {},
     "output_type": "execute_result"
    }
   ],
   "source": [
    "diff((1/z**s/(-z+alpha-beta)*(1/(exp( - 2*I*pi*z + 2*I*pi*alpha) - 1))),z)"
   ]
  },
  {
   "cell_type": "code",
   "execution_count": 249,
   "metadata": {},
   "outputs": [
    {
     "data": {
      "text/latex": [
       "$\\displaystyle - \\frac{z^{- s}}{\\left(e^{2 i \\pi \\alpha - 2 i \\pi z} - 1\\right) \\left(\\alpha - \\beta - z\\right)^{2}} - \\frac{2 i \\pi z^{- s} e^{2 i \\pi \\alpha - 2 i \\pi z}}{\\left(e^{2 i \\pi \\alpha - 2 i \\pi z} - 1\\right)^{2} \\left(\\alpha - \\beta - z\\right)}$"
      ],
      "text/plain": [
       "-z**(-s)/((exp(2*I*pi*alpha - 2*I*pi*z) - 1)*(alpha - beta - z)**2) - 2*I*pi*z**(-s)*exp(2*I*pi*alpha - 2*I*pi*z)/((exp(2*I*pi*alpha - 2*I*pi*z) - 1)**2*(alpha - beta - z))"
      ]
     },
     "execution_count": 249,
     "metadata": {},
     "output_type": "execute_result"
    }
   ],
   "source": [
    "diff((1/z**s/(-z+alpha-beta)*(1/(exp( - 2*I*pi*z + 2*I*pi*alpha) - 1))),alpha)"
   ]
  },
  {
   "cell_type": "code",
   "execution_count": 255,
   "metadata": {},
   "outputs": [
    {
     "data": {
      "text/latex": [
       "$\\displaystyle - 2 i \\sin{\\left(\\pi s \\right)} \\int\\limits_{0}^{\\infty} \\frac{z^{- s - 1}}{\\left(e^{2 i \\pi \\alpha - 2 i \\pi z} - 1\\right) \\left(\\alpha - \\beta - z\\right)}\\, dz = \\frac{2 i \\pi \\left(- \\alpha + \\beta\\right)^{- s - 1} \\left(s + 1\\right)}{e^{2 i \\pi \\beta} - 1} + \\sum_{n=-\\infty}^{\\infty} \\frac{\\left(- \\alpha + n\\right)^{- s - 1}}{- \\beta + n}$"
      ],
      "text/plain": [
       "Eq(-2*I*sin(pi*s)*Integral(z**(-s - 1)/((exp(2*I*pi*alpha - 2*I*pi*z) - 1)*(alpha - beta - z)), (z, 0, oo)), 2*I*pi*(-alpha + beta)**(-s - 1)*(s + 1)/(exp(2*I*pi*beta) - 1) + Sum((-alpha + n)**(-s - 1)/(-beta + n), (n, -oo, oo)))"
      ]
     },
     "execution_count": 255,
     "metadata": {},
     "output_type": "execute_result"
    }
   ],
   "source": [
    "Eq(2*I*sin(pi*s)*Integral((1/z**s/(-z+alpha-beta)*(1/(exp( - 2*I*pi*z + 2*I*pi*alpha) - 1))),(z,0,oo)),\n",
    "   s*2*I*pi/(beta-alpha)**s*(1/(exp( + 2*I*pi*beta) - 1)) +\n",
    "    Sum(1/(n-alpha)**s/(n-beta),(n,-oo,oo))\n",
    "  ).subs(s,s+1).subs(sin(pi*(s+1)),-sin(pi*s))"
   ]
  },
  {
   "cell_type": "code",
   "execution_count": 257,
   "metadata": {},
   "outputs": [
    {
     "data": {
      "text/latex": [
       "$\\displaystyle f{\\left(\\alpha,\\beta,s \\right)} = \\sum_{n=-\\infty}^{\\infty} \\frac{\\left(\\alpha + n\\right)^{- s}}{\\beta + n}$"
      ],
      "text/plain": [
       "Eq(f(alpha, beta, s), Sum((alpha + n)**(-s)/(beta + n), (n, -oo, oo)))"
      ]
     },
     "execution_count": 257,
     "metadata": {},
     "output_type": "execute_result"
    }
   ],
   "source": [
    "Eq(f(alpha,beta,s),Sum(1/(alpha + n)**s/(beta + n),(n,-oo,oo)))"
   ]
  },
  {
   "cell_type": "code",
   "execution_count": 264,
   "metadata": {},
   "outputs": [
    {
     "data": {
      "text/latex": [
       "$\\displaystyle \\int\\limits_{0}^{\\infty} z^{s} e^{- z}\\, dz = \\Gamma\\left(s + 1\\right)$"
      ],
      "text/plain": [
       "Eq(Integral(z**s*exp(-z), (z, 0, oo)), gamma(s + 1))"
      ]
     },
     "execution_count": 264,
     "metadata": {},
     "output_type": "execute_result"
    }
   ],
   "source": [
    "Eq(Integral(z**s*exp(-z),(z,0,oo)), gamma(s+1))"
   ]
  },
  {
   "cell_type": "code",
   "execution_count": null,
   "metadata": {},
   "outputs": [],
   "source": []
  }
 ],
 "metadata": {
  "kernelspec": {
   "display_name": "Python 3",
   "language": "python",
   "name": "python3"
  },
  "language_info": {
   "codemirror_mode": {
    "name": "ipython",
    "version": 3
   },
   "file_extension": ".py",
   "mimetype": "text/x-python",
   "name": "python",
   "nbconvert_exporter": "python",
   "pygments_lexer": "ipython3",
   "version": "3.8.10"
  }
 },
 "nbformat": 4,
 "nbformat_minor": 4
}
